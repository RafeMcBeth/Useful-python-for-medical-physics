{
 "cells": [
  {
   "cell_type": "markdown",
   "metadata": {},
   "source": [
    "http://pylinac.readthedocs.io/en/latest/tg51_docs.html\n",
    "\n",
    "https://www.aapm.org/meetings/02AM/pdf/8315-36141.pdf\n",
    "\n",
    "Perform the TG-51 absolute linac dose calibration"
   ]
  },
  {
   "cell_type": "code",
   "execution_count": 2,
   "metadata": {},
   "outputs": [
    {
     "name": "stdout",
     "output_type": "stream",
     "text": [
      "0.0104984213216\n"
     ]
    }
   ],
   "source": [
    "\"\"\"A script to calculate TG-51 dose using pylinac functions and following the TG-51 photon form\"\"\"\n",
    "from pylinac import tg51\n",
    "\n",
    "\n",
    "ENERGY = 6\n",
    "TEMP = 22.1\n",
    "PRESS = 755.0\n",
    "CHAMBER = '30013'  # PTW\n",
    "P_ELEC = 1.000\n",
    "ND_w = 5.443  # Gy/nC\n",
    "MU = 200\n",
    "CLINICAL_PDD = 66.5\n",
    "\n",
    "# Section 4 (beam quality)\n",
    "# since energy is 6MV, PDDx == PDD\n",
    "pdd10x = 66.4\n",
    "\n",
    "# Section 5 (kQ)\n",
    "kq = tg51.kq(model=CHAMBER, pddx=pdd10x)\n",
    "\n",
    "# Section 6 (Temp/Press)\n",
    "p_tp = tg51.p_tp(temp=TEMP, press=PRESS)\n",
    "\n",
    "# Section 7 (polarity)\n",
    "m_raw = m_neg = (25.66, 25.67, 25.66)\n",
    "m_pos = (25.67, 25.67, 25.68)\n",
    "p_pol = tg51.p_pol(m_reference=m_neg, m_opposite=m_pos)\n",
    "\n",
    "# Section 8 (ionization)\n",
    "m_low = (25.64, 25.64, 25.65)\n",
    "p_ion = tg51.p_ion(volt_high=300, volt_low=150, m_high=m_raw, m_low=m_low)\n",
    "\n",
    "# Section 9 (M corrected)\n",
    "m_corr = tg51.m_corrected(p_ion=p_ion, p_tp=p_tp, p_elec=P_ELEC, p_pol=p_pol, m_raw=m_raw)\n",
    "\n",
    "# Section 10 (dose to water @ 10cm)\n",
    "dose_10 = m_corr*kq*ND_w\n",
    "dose_10_per_mu = dose_10 / MU\n",
    "\n",
    "# Section 11 (dose/MU to water @ dmax)\n",
    "dose_ddmax = dose_10_per_mu / CLINICAL_PDD\n",
    "\n",
    "# Done!\n",
    "print(dose_ddmax)"
   ]
  },
  {
   "cell_type": "markdown",
   "metadata": {},
   "source": [
    "Class based use"
   ]
  },
  {
   "cell_type": "code",
   "execution_count": 3,
   "metadata": {},
   "outputs": [
    {
     "name": "stdout",
     "output_type": "stream",
     "text": [
      "1.04909261306\n",
      "1.03589893772\n"
     ]
    }
   ],
   "source": [
    "ENERGY = 6\n",
    "TEMP = 22.1\n",
    "PRESS = 755.0\n",
    "CHAMBER = '30013'  # PTW\n",
    "P_ELEC = 1.000\n",
    "ND_w = 5.443  # Gy/nC\n",
    "MU = 200\n",
    "CLINICAL_PDD = 66.5\n",
    "\n",
    "tg51_6x = tg51.TG51Photon(temp=TEMP, press=PRESS, model=CHAMBER,\n",
    "                          n_dw=ND_w, p_elec=P_ELEC,\n",
    "                          measured_pdd=66.4, lead_foil=None,\n",
    "                          clinical_pdd=66.5, energy=ENERGY,\n",
    "                          volt_high=-300, volt_low=-150,\n",
    "                          m_raw=(25.65, 25.66, 25.65),\n",
    "                          m_opp=(25.64, 25.65, 25.65),\n",
    "                          m_low=(25.64, 25.63, 25.63),\n",
    "                          mu=MU, tissue_correction=1.0)\n",
    "\n",
    "# Done!\n",
    "print(tg51_6x.dose_mu_dmax)\n",
    "\n",
    "# examine other parameters\n",
    "tg51_6x.pddx\n",
    "tg51_6x.kq\n",
    "tg51_6x.p_ion\n",
    "\n",
    "# change readings if you adjust output\n",
    "tg51_6x.m_raw = (25.44, 25.44, 25.43)\n",
    "# print new dose value\n",
    "print(tg51_6x.dose_mu_dmax)"
   ]
  },
  {
   "cell_type": "code",
   "execution_count": null,
   "metadata": {
    "collapsed": true
   },
   "outputs": [],
   "source": []
  }
 ],
 "metadata": {
  "anaconda-cloud": {},
  "kernelspec": {
   "display_name": "Python [conda root]",
   "language": "python",
   "name": "conda-root-py"
  },
  "language_info": {
   "codemirror_mode": {
    "name": "ipython",
    "version": 3
   },
   "file_extension": ".py",
   "mimetype": "text/x-python",
   "name": "python",
   "nbconvert_exporter": "python",
   "pygments_lexer": "ipython3",
   "version": "3.5.2"
  }
 },
 "nbformat": 4,
 "nbformat_minor": 1
}
