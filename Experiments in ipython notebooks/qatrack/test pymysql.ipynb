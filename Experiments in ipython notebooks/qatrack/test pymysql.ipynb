{
 "cells": [
  {
   "cell_type": "code",
   "execution_count": 1,
   "metadata": {
    "collapsed": true
   },
   "outputs": [],
   "source": [
    "import pymysql\n",
    "import pandas as pd"
   ]
  },
  {
   "cell_type": "code",
   "execution_count": 2,
   "metadata": {
    "collapsed": false
   },
   "outputs": [
    {
     "name": "stdout",
     "output_type": "stream",
     "text": [
      "loaded dataframe from MySQL. records: 23\n"
     ]
    }
   ],
   "source": [
    "Connection = pymysql.connect(host='10.XXXXXXXX', \n",
    "                             user='qatrack_user', \n",
    "                             port=3XXXX,\n",
    "                             password='qatrack_user', \n",
    "                             db='qatrackdb')\n",
    "   \n",
    "cursor = Connection.cursor()\n",
    "query = (\"select * from qa_test WHERE calculation_procedure like '%chamber_idx%'\")\n",
    "\n",
    "df_mysql = pd.read_sql(query, Connection)\n",
    "print('loaded dataframe from MySQL. records:', len(df_mysql))\n",
    "\n",
    "Connection.close()"
   ]
  },
  {
   "cell_type": "code",
   "execution_count": 3,
   "metadata": {
    "collapsed": false
   },
   "outputs": [
    {
     "data": {
      "text/html": [
       "<div>\n",
       "<table border=\"1\" class=\"dataframe\">\n",
       "  <thead>\n",
       "    <tr style=\"text-align: right;\">\n",
       "      <th></th>\n",
       "      <th>id</th>\n",
       "      <th>name</th>\n",
       "      <th>slug</th>\n",
       "      <th>description</th>\n",
       "      <th>procedure</th>\n",
       "      <th>category_id</th>\n",
       "      <th>type</th>\n",
       "      <th>choices</th>\n",
       "      <th>constant_value</th>\n",
       "      <th>calculation_procedure</th>\n",
       "      <th>created</th>\n",
       "      <th>created_by_id</th>\n",
       "      <th>modified</th>\n",
       "      <th>modified_by_id</th>\n",
       "      <th>chart_visibility</th>\n",
       "      <th>auto_review</th>\n",
       "      <th>display_image</th>\n",
       "    </tr>\n",
       "  </thead>\n",
       "  <tbody>\n",
       "    <tr>\n",
       "      <th>0</th>\n",
       "      <td>287</td>\n",
       "      <td>EDW Open Prev Mean</td>\n",
       "      <td>edw_open_prev_mean</td>\n",
       "      <td>Get previously recorded uncorrected OP mean ba...</td>\n",
       "      <td></td>\n",
       "      <td>26</td>\n",
       "      <td>composite</td>\n",
       "      <td></td>\n",
       "      <td>None</td>\n",
       "      <td>from qatrack.qa.models import TestInstance, Te...</td>\n",
       "      <td>2015-11-06 11:50:37</td>\n",
       "      <td>5</td>\n",
       "      <td>2016-08-01 14:19:03</td>\n",
       "      <td>5</td>\n",
       "      <td>0</td>\n",
       "      <td>1</td>\n",
       "      <td>0</td>\n",
       "    </tr>\n",
       "    <tr>\n",
       "      <th>1</th>\n",
       "      <td>341</td>\n",
       "      <td>Prev OP Mean 6MV</td>\n",
       "      <td>prev_op_mean_6mv</td>\n",
       "      <td>Get previously recorded uncorrected OP mean ba...</td>\n",
       "      <td></td>\n",
       "      <td>15</td>\n",
       "      <td>composite</td>\n",
       "      <td></td>\n",
       "      <td>None</td>\n",
       "      <td>from qatrack.qa.models import TestInstance, Te...</td>\n",
       "      <td>2015-11-13 15:49:30</td>\n",
       "      <td>5</td>\n",
       "      <td>2016-07-15 12:45:06</td>\n",
       "      <td>5</td>\n",
       "      <td>0</td>\n",
       "      <td>1</td>\n",
       "      <td>0</td>\n",
       "    </tr>\n",
       "    <tr>\n",
       "      <th>2</th>\n",
       "      <td>422</td>\n",
       "      <td>Prev OP Mean 10MV</td>\n",
       "      <td>prev_op_mean_10mv</td>\n",
       "      <td>Get previously recorded uncorrected OP mean ba...</td>\n",
       "      <td></td>\n",
       "      <td>16</td>\n",
       "      <td>composite</td>\n",
       "      <td></td>\n",
       "      <td>None</td>\n",
       "      <td>from qatrack.qa.models import TestInstance, Te...</td>\n",
       "      <td>2015-12-04 13:26:01</td>\n",
       "      <td>5</td>\n",
       "      <td>2016-07-15 12:44:44</td>\n",
       "      <td>5</td>\n",
       "      <td>0</td>\n",
       "      <td>1</td>\n",
       "      <td>0</td>\n",
       "    </tr>\n",
       "    <tr>\n",
       "      <th>3</th>\n",
       "      <td>423</td>\n",
       "      <td>Prev OP Mean 15MV</td>\n",
       "      <td>prev_op_mean_15mv</td>\n",
       "      <td>Get previously recorded uncorrected OP mean ba...</td>\n",
       "      <td></td>\n",
       "      <td>17</td>\n",
       "      <td>composite</td>\n",
       "      <td></td>\n",
       "      <td>None</td>\n",
       "      <td>from qatrack.qa.models import TestInstance, Te...</td>\n",
       "      <td>2015-12-04 13:26:11</td>\n",
       "      <td>5</td>\n",
       "      <td>2016-07-15 12:44:37</td>\n",
       "      <td>5</td>\n",
       "      <td>0</td>\n",
       "      <td>1</td>\n",
       "      <td>0</td>\n",
       "    </tr>\n",
       "    <tr>\n",
       "      <th>4</th>\n",
       "      <td>424</td>\n",
       "      <td>Prev OP Mean 6MeV</td>\n",
       "      <td>prev_op_mean_6mev</td>\n",
       "      <td>Get previously recorded uncorrected OP mean ba...</td>\n",
       "      <td></td>\n",
       "      <td>18</td>\n",
       "      <td>composite</td>\n",
       "      <td></td>\n",
       "      <td>None</td>\n",
       "      <td>from qatrack.qa.models import TestInstance, Te...</td>\n",
       "      <td>2015-12-04 13:26:28</td>\n",
       "      <td>5</td>\n",
       "      <td>2016-07-15 12:44:26</td>\n",
       "      <td>5</td>\n",
       "      <td>0</td>\n",
       "      <td>1</td>\n",
       "      <td>0</td>\n",
       "    </tr>\n",
       "  </tbody>\n",
       "</table>\n",
       "</div>"
      ],
      "text/plain": [
       "    id                name                slug  \\\n",
       "0  287  EDW Open Prev Mean  edw_open_prev_mean   \n",
       "1  341    Prev OP Mean 6MV    prev_op_mean_6mv   \n",
       "2  422   Prev OP Mean 10MV   prev_op_mean_10mv   \n",
       "3  423   Prev OP Mean 15MV   prev_op_mean_15mv   \n",
       "4  424   Prev OP Mean 6MeV   prev_op_mean_6mev   \n",
       "\n",
       "                                         description procedure  category_id  \\\n",
       "0  Get previously recorded uncorrected OP mean ba...                     26   \n",
       "1  Get previously recorded uncorrected OP mean ba...                     15   \n",
       "2  Get previously recorded uncorrected OP mean ba...                     16   \n",
       "3  Get previously recorded uncorrected OP mean ba...                     17   \n",
       "4  Get previously recorded uncorrected OP mean ba...                     18   \n",
       "\n",
       "        type choices constant_value  \\\n",
       "0  composite                   None   \n",
       "1  composite                   None   \n",
       "2  composite                   None   \n",
       "3  composite                   None   \n",
       "4  composite                   None   \n",
       "\n",
       "                               calculation_procedure             created  \\\n",
       "0  from qatrack.qa.models import TestInstance, Te... 2015-11-06 11:50:37   \n",
       "1  from qatrack.qa.models import TestInstance, Te... 2015-11-13 15:49:30   \n",
       "2  from qatrack.qa.models import TestInstance, Te... 2015-12-04 13:26:01   \n",
       "3  from qatrack.qa.models import TestInstance, Te... 2015-12-04 13:26:11   \n",
       "4  from qatrack.qa.models import TestInstance, Te... 2015-12-04 13:26:28   \n",
       "\n",
       "   created_by_id            modified  modified_by_id  chart_visibility  \\\n",
       "0              5 2016-08-01 14:19:03               5                 0   \n",
       "1              5 2016-07-15 12:45:06               5                 0   \n",
       "2              5 2016-07-15 12:44:44               5                 0   \n",
       "3              5 2016-07-15 12:44:37               5                 0   \n",
       "4              5 2016-07-15 12:44:26               5                 0   \n",
       "\n",
       "   auto_review  display_image  \n",
       "0            1              0  \n",
       "1            1              0  \n",
       "2            1              0  \n",
       "3            1              0  \n",
       "4            1              0  "
      ]
     },
     "execution_count": 3,
     "metadata": {},
     "output_type": "execute_result"
    }
   ],
   "source": [
    "df_mysql.head()  "
   ]
  },
  {
   "cell_type": "code",
   "execution_count": 4,
   "metadata": {
    "collapsed": true
   },
   "outputs": [],
   "source": [
    "df_mysql.to_csv('df_mysql.csv')"
   ]
  },
  {
   "cell_type": "code",
   "execution_count": null,
   "metadata": {
    "collapsed": true
   },
   "outputs": [],
   "source": []
  }
 ],
 "metadata": {
  "anaconda-cloud": {},
  "kernelspec": {
   "display_name": "Python [conda root]",
   "language": "python",
   "name": "conda-root-py"
  },
  "language_info": {
   "codemirror_mode": {
    "name": "ipython",
    "version": 3
   },
   "file_extension": ".py",
   "mimetype": "text/x-python",
   "name": "python",
   "nbconvert_exporter": "python",
   "pygments_lexer": "ipython3",
   "version": "3.5.2"
  }
 },
 "nbformat": 4,
 "nbformat_minor": 1
}
