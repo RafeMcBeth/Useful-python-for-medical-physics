{
 "cells": [
  {
   "cell_type": "code",
   "execution_count": 18,
   "metadata": {
    "collapsed": false
   },
   "outputs": [],
   "source": [
    "import urllib.request  \n",
    "from bs4 import BeautifulSoup "
   ]
  },
  {
   "cell_type": "markdown",
   "metadata": {},
   "source": [
    "https://www.crummy.com/software/BeautifulSoup/bs4/doc/"
   ]
  },
  {
   "cell_type": "code",
   "execution_count": 4,
   "metadata": {
    "collapsed": false
   },
   "outputs": [],
   "source": [
    "page =  urllib.request.urlopen('http://rtqa.royalsurrey.nhs.uk/admin/qa/testlist/') "
   ]
  },
  {
   "cell_type": "code",
   "execution_count": 5,
   "metadata": {
    "collapsed": true
   },
   "outputs": [],
   "source": [
    "soup = BeautifulSoup(page, 'html.parser') "
   ]
  },
  {
   "cell_type": "code",
   "execution_count": 17,
   "metadata": {
    "collapsed": false
   },
   "outputs": [
    {
     "data": {
      "text/plain": [
       "\n",
       "<!DOCTYPE html>\n",
       "\n",
       "<html lang=\"en-us\">\n",
       "<head>\n",
       "<meta charset=\"utf-8\"/>\n",
       "<title>RSCH Radiotherapy QA : Log In</title>\n",
       "<!--[if IE]><![endif]-->\n",
       "<!-- Always force latest IE rendering engine (even in intranet) & Chrome Frame -->\n",
       "<meta content=\"IE=edge,chrome=1\" http-equiv=\"X-UA-Compatible\">\n",
       "<link href=\"/static/qatrack_theme/favicon.ico?v=0.2.8\" rel=\"shortcut icon\">\n",
       "<link href=\"/static/qatrack_theme/apple-touch-icon.png?v=0.2.8\" rel=\"apple-touch-icon\">\n",
       "<!-- HTML5 shim, for IE6-8 support of HTML elements -->\n",
       "<!-- the html5 object below is taken from the google html5shiv code\n",
       "             but has the canvas element removed since we are using excanvas\n",
       "             instead (required for flot)\n",
       "        -->\n",
       "<!--[if lt IE 9]>\n",
       "          <script type=\"text/javascript\">\n",
       "            var html5 = { 'elements': 'abbr article aside audio bdi data datalist details figcaption figure footer header hgroup mark meter nav output progress section summary time video' };\n",
       "          </script>\n",
       "          <script src=\"/static/pinax/js/html5.js\"></script>\n",
       "        <![endif]-->\n",
       "<!--[if lte IE 8]><script language=\"javascript\" type=\"text/javascript\" src=\"/static/pinax/js/excanvas.js\"></script><![endif]-->\n",
       "<link href=\"/static/pinax/css/theme.css\" rel=\"stylesheet\">\n",
       "<link href=\"/static/bootstrap/css/bootstrap.min.css\" rel=\"stylesheet\">\n",
       "<link href=\"/static/bootstrap/css/font-awesome.min.css\" rel=\"stylesheet\">\n",
       "<!--[if IE 7]>\n",
       "            <link rel=\"stylesheet\" href=\"/static/bootstrap/css/font-awesome-ie7.min.css\">\n",
       "            <![endif]-->\n",
       "<link href=\"/static/css/qa.css?v=0.2.8\" rel=\"stylesheet\">\n",
       "<link href=\"/static/data_tables/css/DT_bootstrap.css?v=0.2.8\" rel=\"stylesheet\">\n",
       "<link href=\"/static/css/site.css?v=0.2.8\" rel=\"stylesheet\">\n",
       "<script type=\"text/javascript\">\n",
       "        var QAURLs = {\n",
       "            API_URL:\"/qa/api/v1/\",\n",
       "            COMPOSITE_URL:\"/qa/composite/\",\n",
       "            UPLOAD_URL:\"/qa/upload/\",\n",
       "            CHART_DATA_URL:\"/qa/charts/data/\",\n",
       "            CONTROL_CHART_URL:\"/qa/charts/control_chart.png\",\n",
       "            MEDIA_URL: \"/media/\",\n",
       "            OPTION_DELIM: \"=\",\n",
       "            OPTION_SEP: \"&\",\n",
       "\n",
       "            options_from_url_hash : function(hash){\n",
       "                var options = [];\n",
       "                if (hash.slice(0,1) === \"#\"){\n",
       "                    hash = hash.slice(1);\n",
       "                }\n",
       "                var that = this;\n",
       "                $.each(hash.split(this.OPTION_SEP),function(i,elem){\n",
       "                    var k_v = elem.split(that.OPTION_DELIM);\n",
       "                    options.push([k_v[0],k_v[1]]);\n",
       "                });\n",
       "                return options;\n",
       "            },\n",
       "\n",
       "            unit_test_chart_url : function(unit,test){\n",
       "                var unit_option = 'unit'+this.OPTION_DELIM+unit.number;\n",
       "                var test_option = 'slug'+this.OPTION_DELIM+test.slug;\n",
       "                return this.CHARTS_URL+'#'+[unit_option,test_option].join(this.OPTION_SEP);\n",
       "            },\n",
       "            unit_test_chart_link : function(unit,test,text,title){\n",
       "                var url = this.unit_test_chart_url(unit,test);\n",
       "                if (title === undefined){\n",
       "                    title = [\"View Data for\", unit.name, test.name, \"data\"].join(\" \");\n",
       "                }\n",
       "                return '<a href=\"'+url+'\" title=\"'+title+'\">'+text+'</a>';\n",
       "            }\n",
       "        }\n",
       "\n",
       "        var ICON_SETTINGS = {\"SHOW_STATUS_ICONS_LISTING\": true, \"SHOW_DUE_ICONS\": true, \"SHOW_STATUS_ICONS_PERFORM\": true, \"SHOW_STATUS_ICONS_REVIEW\": true, \"SHOW_STATUS_ICONS_HISTORY\": false, \"SHOW_REVIEW_ICONS\": true};\n",
       "\n",
       "    </script>\n",
       "<script src=\"/static/pinax/js/jquery-1.10.2.min.js\"></script>\n",
       "<script src=\"/static/pinax/js/jquery.form.js\"></script>\n",
       "<script src=\"/static/bootstrap/js/bootstrap.min.js\"></script>\n",
       "<script src=\"/static/pinax/js/theme.js\"></script>\n",
       "<script src=\"/static/js/json2.js?v=0.2.8\" type=\"text/javascript\"></script>\n",
       "</link></link></link></link></link></link></link></link></meta></head>\n",
       "<body class=\"account\" id=\"\">\n",
       "<div class=\"navbar navbar-fixed-top\">\n",
       "<div class=\"navbar-inner\">\n",
       "<div class=\"container-fluid\">\n",
       "<a class=\"brand\" href=\"/\">RSCH Radiotherapy QA</a>\n",
       "<div>\n",
       "<ul class=\"nav pull-right\">\n",
       "<li><a href=\"/accounts/login/\">Log in</a></li>\n",
       "</ul>\n",
       "</div>\n",
       "</div>\n",
       "</div>\n",
       "</div>\n",
       "<div class=\"container\">\n",
       "<div class=\"row\">\n",
       "<div class=\"span2 columns\">\n",
       "<ul class=\"nav nav-list\">\n",
       "<li class=\"nav-header\">Account</li>\n",
       "<li><a href=\"/accounts/details/\">Account Details</a></li>\n",
       "<li><a href=\"/accounts/password/change/\">Change Password</a></li>\n",
       "<li><a href=\"/accounts/password/reset/\">Reset Password</a></li>\n",
       "</ul>\n",
       "</div>\n",
       "<div class=\"span10 columns\">\n",
       "<h1>Log In</h1>\n",
       "<div class=\"row\">\n",
       "<div class=\"span8\">\n",
       "<form action=\"/accounts/login/\" autocapitalize=\"off\" class=\"form-horizontal\" method=\"POST\">\n",
       "<fieldset>\n",
       "<div style=\"display:none\"><input name=\"csrfmiddlewaretoken\" type=\"hidden\" value=\"yeMNFTqYQgrfan91PvAeqKSVYln4qeyR\"/></div>\n",
       "<div class=\"control-group \">\n",
       "<label class=\"control-label required-field\" for=\"id_username\">\n",
       "                Username\n",
       "            </label>\n",
       "<div class=\"controls\">\n",
       "<input id=\"id_username\" maxlength=\"30\" name=\"username\" type=\"text\"/>\n",
       "</div>\n",
       "</div>\n",
       "<div class=\"control-group \">\n",
       "<label class=\"control-label required-field\" for=\"id_password\">\n",
       "                Password\n",
       "            </label>\n",
       "<div class=\"controls\">\n",
       "<input id=\"id_password\" name=\"password\" type=\"password\"/>\n",
       "</div>\n",
       "</div>\n",
       "<div class=\"form-actions\">\n",
       "<button class=\"btn btn-primary\" type=\"submit\">Log in</button>\n",
       "</div>\n",
       "</fieldset>\n",
       "</form>\n",
       "<p>If you have any trouble logging in to your account, contact the site administrator.</p>\n",
       "</div>\n",
       "<div class=\"span4\">\n",
       "</div>\n",
       "</div>\n",
       "</div>\n",
       "</div>\n",
       "</div>\n",
       "<div id=\"footer\">\n",
       "<div class=\"inner\">\n",
       "<div class=\"container-fluid\">\n",
       "<div class=\"row-fluid\">\n",
       "<div class=\"legal span12\">\n",
       "        QATrack+ v0.2.8 | © 2011 The Ottawa Hospital Cancer Center | <a href=\"https://bitbucket.org/tohccmedphys/qatrackplus/issues/new\" title=\"Report an error or bug\">Report a Bug</a> | <a href=\"https://bitbucket.org/tohccmedphys/qatrackplus/issues/new\" title=\"Submit a feature request or idea for improvement\">Request a Feature</a>\n",
       "</div>\n",
       "</div>\n",
       "</div>\n",
       "</div>\n",
       "</div>\n",
       "<script>\n",
       "    $(document).ready(function(){\n",
       "       $(\"#id_username\").focus();\n",
       "     });\n",
       "</script>\n",
       "</body>\n",
       "</html>"
      ]
     },
     "execution_count": 17,
     "metadata": {},
     "output_type": "execute_result"
    }
   ],
   "source": [
    "soup"
   ]
  },
  {
   "cell_type": "code",
   "execution_count": 15,
   "metadata": {
    "collapsed": false
   },
   "outputs": [
    {
     "data": {
      "text/plain": [
       "<title>RSCH Radiotherapy QA : Log In</title>"
      ]
     },
     "execution_count": 15,
     "metadata": {},
     "output_type": "execute_result"
    }
   ],
   "source": [
    "soup.title"
   ]
  },
  {
   "cell_type": "code",
   "execution_count": 19,
   "metadata": {
    "collapsed": false
   },
   "outputs": [
    {
     "data": {
      "text/plain": [
       "'RSCH Radiotherapy QA : Log In'"
      ]
     },
     "execution_count": 19,
     "metadata": {},
     "output_type": "execute_result"
    }
   ],
   "source": [
    "soup.title.string"
   ]
  },
  {
   "cell_type": "code",
   "execution_count": 20,
   "metadata": {
    "collapsed": false
   },
   "outputs": [
    {
     "data": {
      "text/plain": [
       "'head'"
      ]
     },
     "execution_count": 20,
     "metadata": {},
     "output_type": "execute_result"
    }
   ],
   "source": [
    "soup.title.parent.name"
   ]
  },
  {
   "cell_type": "code",
   "execution_count": 21,
   "metadata": {
    "collapsed": false
   },
   "outputs": [
    {
     "data": {
      "text/plain": [
       "<p>If you have any trouble logging in to your account, contact the site administrator.</p>"
      ]
     },
     "execution_count": 21,
     "metadata": {},
     "output_type": "execute_result"
    }
   ],
   "source": [
    "soup.p"
   ]
  },
  {
   "cell_type": "code",
   "execution_count": 23,
   "metadata": {
    "collapsed": false
   },
   "outputs": [
    {
     "data": {
      "text/plain": [
       "<a class=\"brand\" href=\"/\">RSCH Radiotherapy QA</a>"
      ]
     },
     "execution_count": 23,
     "metadata": {},
     "output_type": "execute_result"
    }
   ],
   "source": [
    "soup.a"
   ]
  },
  {
   "cell_type": "code",
   "execution_count": 24,
   "metadata": {
    "collapsed": false
   },
   "outputs": [
    {
     "data": {
      "text/plain": [
       "['brand']"
      ]
     },
     "execution_count": 24,
     "metadata": {},
     "output_type": "execute_result"
    }
   ],
   "source": [
    "soup.a['class']"
   ]
  },
  {
   "cell_type": "code",
   "execution_count": 25,
   "metadata": {
    "collapsed": false
   },
   "outputs": [
    {
     "data": {
      "text/plain": [
       "[<a class=\"brand\" href=\"/\">RSCH Radiotherapy QA</a>,\n",
       " <a href=\"/accounts/login/\">Log in</a>,\n",
       " <a href=\"/accounts/details/\">Account Details</a>,\n",
       " <a href=\"/accounts/password/change/\">Change Password</a>,\n",
       " <a href=\"/accounts/password/reset/\">Reset Password</a>,\n",
       " <a href=\"https://bitbucket.org/tohccmedphys/qatrackplus/issues/new\" title=\"Report an error or bug\">Report a Bug</a>,\n",
       " <a href=\"https://bitbucket.org/tohccmedphys/qatrackplus/issues/new\" title=\"Submit a feature request or idea for improvement\">Request a Feature</a>]"
      ]
     },
     "execution_count": 25,
     "metadata": {},
     "output_type": "execute_result"
    }
   ],
   "source": [
    "soup.find_all('a')"
   ]
  },
  {
   "cell_type": "code",
   "execution_count": 27,
   "metadata": {
    "collapsed": false
   },
   "outputs": [
    {
     "name": "stdout",
     "output_type": "stream",
     "text": [
      "/\n",
      "/accounts/login/\n",
      "/accounts/details/\n",
      "/accounts/password/change/\n",
      "/accounts/password/reset/\n",
      "https://bitbucket.org/tohccmedphys/qatrackplus/issues/new\n",
      "https://bitbucket.org/tohccmedphys/qatrackplus/issues/new\n"
     ]
    }
   ],
   "source": [
    "for link in soup.find_all('a'):\n",
    "    print(link.get('href'))"
   ]
  },
  {
   "cell_type": "code",
   "execution_count": 28,
   "metadata": {
    "collapsed": false
   },
   "outputs": [
    {
     "name": "stdout",
     "output_type": "stream",
     "text": [
      "\n",
      "\n",
      "\n",
      "\n",
      "\n",
      "RSCH Radiotherapy QA : Log In\n",
      "\n",
      "\n",
      "\n",
      "\n",
      "\n",
      "\n",
      "\n",
      "\n",
      "\n",
      "\n",
      "\n",
      "\n",
      "\n",
      "\n",
      "\n",
      "\n",
      "\n",
      "        var QAURLs = {\n",
      "            API_URL:\"/qa/api/v1/\",\n",
      "            COMPOSITE_URL:\"/qa/composite/\",\n",
      "            UPLOAD_URL:\"/qa/upload/\",\n",
      "            CHART_DATA_URL:\"/qa/charts/data/\",\n",
      "            CONTROL_CHART_URL:\"/qa/charts/control_chart.png\",\n",
      "            MEDIA_URL: \"/media/\",\n",
      "            OPTION_DELIM: \"=\",\n",
      "            OPTION_SEP: \"&\",\n",
      "\n",
      "            options_from_url_hash : function(hash){\n",
      "                var options = [];\n",
      "                if (hash.slice(0,1) === \"#\"){\n",
      "                    hash = hash.slice(1);\n",
      "                }\n",
      "                var that = this;\n",
      "                $.each(hash.split(this.OPTION_SEP),function(i,elem){\n",
      "                    var k_v = elem.split(that.OPTION_DELIM);\n",
      "                    options.push([k_v[0],k_v[1]]);\n",
      "                });\n",
      "                return options;\n",
      "            },\n",
      "\n",
      "            unit_test_chart_url : function(unit,test){\n",
      "                var unit_option = 'unit'+this.OPTION_DELIM+unit.number;\n",
      "                var test_option = 'slug'+this.OPTION_DELIM+test.slug;\n",
      "                return this.CHARTS_URL+'#'+[unit_option,test_option].join(this.OPTION_SEP);\n",
      "            },\n",
      "            unit_test_chart_link : function(unit,test,text,title){\n",
      "                var url = this.unit_test_chart_url(unit,test);\n",
      "                if (title === undefined){\n",
      "                    title = [\"View Data for\", unit.name, test.name, \"data\"].join(\" \");\n",
      "                }\n",
      "                return '<a href=\"'+url+'\" title=\"'+title+'\">'+text+'</a>';\n",
      "            }\n",
      "        }\n",
      "\n",
      "        var ICON_SETTINGS = {\"SHOW_STATUS_ICONS_LISTING\": true, \"SHOW_DUE_ICONS\": true, \"SHOW_STATUS_ICONS_PERFORM\": true, \"SHOW_STATUS_ICONS_REVIEW\": true, \"SHOW_STATUS_ICONS_HISTORY\": false, \"SHOW_REVIEW_ICONS\": true};\n",
      "\n",
      "    \n",
      "\n",
      "\n",
      "\n",
      "\n",
      "\n",
      "\n",
      "\n",
      "\n",
      "\n",
      "\n",
      "RSCH Radiotherapy QA\n",
      "\n",
      "\n",
      "Log in\n",
      "\n",
      "\n",
      "\n",
      "\n",
      "\n",
      "\n",
      "\n",
      "\n",
      "\n",
      "Account\n",
      "Account Details\n",
      "Change Password\n",
      "Reset Password\n",
      "\n",
      "\n",
      "\n",
      "Log In\n",
      "\n",
      "\n",
      "\n",
      "\n",
      "\n",
      "\n",
      "\n",
      "                Username\n",
      "            \n",
      "\n",
      "\n",
      "\n",
      "\n",
      "\n",
      "\n",
      "                Password\n",
      "            \n",
      "\n",
      "\n",
      "\n",
      "\n",
      "\n",
      "Log in\n",
      "\n",
      "\n",
      "\n",
      "If you have any trouble logging in to your account, contact the site administrator.\n",
      "\n",
      "\n",
      "\n",
      "\n",
      "\n",
      "\n",
      "\n",
      "\n",
      "\n",
      "\n",
      "\n",
      "\n",
      "        QATrack+ v0.2.8 | © 2011 The Ottawa Hospital Cancer Center | Report a Bug | Request a Feature\n",
      "\n",
      "\n",
      "\n",
      "\n",
      "\n",
      "\n",
      "    $(document).ready(function(){\n",
      "       $(\"#id_username\").focus();\n",
      "     });\n",
      "\n",
      "\n",
      "\n",
      "\n"
     ]
    }
   ],
   "source": [
    "print(soup.get_text())"
   ]
  },
  {
   "cell_type": "code",
   "execution_count": null,
   "metadata": {
    "collapsed": true
   },
   "outputs": [],
   "source": []
  }
 ],
 "metadata": {
  "anaconda-cloud": {},
  "kernelspec": {
   "display_name": "Python [conda root]",
   "language": "python",
   "name": "conda-root-py"
  },
  "language_info": {
   "codemirror_mode": {
    "name": "ipython",
    "version": 3
   },
   "file_extension": ".py",
   "mimetype": "text/x-python",
   "name": "python",
   "nbconvert_exporter": "python",
   "pygments_lexer": "ipython3",
   "version": "3.5.2"
  }
 },
 "nbformat": 4,
 "nbformat_minor": 1
}
