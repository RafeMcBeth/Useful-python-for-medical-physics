{
 "cells": [
  {
   "cell_type": "code",
   "execution_count": 1,
   "metadata": {
    "collapsed": false
   },
   "outputs": [],
   "source": [
    "import urllib.request  \n",
    "from bs4 import BeautifulSoup \n",
    "import pandas as pd"
   ]
  },
  {
   "cell_type": "markdown",
   "metadata": {},
   "source": [
    "https://www.crummy.com/software/BeautifulSoup/bs4/doc/  to parse\n",
    "\n",
    "Data is in a javascropt table, http://stackoverflow.com/questions/25062365/python-parsing-html-table-generated-by-javascript"
   ]
  },
  {
   "cell_type": "code",
   "execution_count": 2,
   "metadata": {
    "collapsed": false
   },
   "outputs": [],
   "source": [
    "page_url = 'http://rtqa.royalsurrey.nhs.uk/admin/qa/test/?type__exact=composite&p=5&o=4'\n",
    "page =  urllib.request.urlopen(page_url) "
   ]
  },
  {
   "cell_type": "code",
   "execution_count": 3,
   "metadata": {
    "collapsed": true
   },
   "outputs": [],
   "source": [
    "soup = BeautifulSoup(page, 'html.parser') "
   ]
  },
  {
   "cell_type": "code",
   "execution_count": 4,
   "metadata": {
    "collapsed": false
   },
   "outputs": [
    {
     "data": {
      "text/plain": [
       "\n",
       "<!DOCTYPE html>\n",
       "\n",
       "<html lang=\"en-us\">\n",
       "<head>\n",
       "<meta charset=\"utf-8\"/>\n",
       "<title>RSCH Radiotherapy QA : Log In</title>\n",
       "<!--[if IE]><![endif]-->\n",
       "<!-- Always force latest IE rendering engine (even in intranet) & Chrome Frame -->\n",
       "<meta content=\"IE=edge,chrome=1\" http-equiv=\"X-UA-Compatible\">\n",
       "<link href=\"/static/qatrack_theme/favicon.ico?v=0.2.8\" rel=\"shortcut icon\">\n",
       "<link href=\"/static/qatrack_theme/apple-touch-icon.png?v=0.2.8\" rel=\"apple-touch-icon\">\n",
       "<!-- HTML5 shim, for IE6-8 support of HTML elements -->\n",
       "<!-- the html5 object below is taken from the google html5shiv code\n",
       "             but has the canvas element removed since we are using excanvas\n",
       "             instead (required for flot)\n",
       "        -->\n",
       "<!--[if lt IE 9]>\n",
       "          <script type=\"text/javascript\">\n",
       "            var html5 = { 'elements': 'abbr article aside audio bdi data datalist details figcaption figure footer header hgroup mark meter nav output progress section summary time video' };\n",
       "          </script>\n",
       "          <script src=\"/static/pinax/js/html5.js\"></script>\n",
       "        <![endif]-->\n",
       "<!--[if lte IE 8]><script language=\"javascript\" type=\"text/javascript\" src=\"/static/pinax/js/excanvas.js\"></script><![endif]-->\n",
       "<link href=\"/static/pinax/css/theme.css\" rel=\"stylesheet\">\n",
       "<link href=\"/static/bootstrap/css/bootstrap.min.css\" rel=\"stylesheet\">\n",
       "<link href=\"/static/bootstrap/css/font-awesome.min.css\" rel=\"stylesheet\">\n",
       "<!--[if IE 7]>\n",
       "            <link rel=\"stylesheet\" href=\"/static/bootstrap/css/font-awesome-ie7.min.css\">\n",
       "            <![endif]-->\n",
       "<link href=\"/static/css/qa.css?v=0.2.8\" rel=\"stylesheet\">\n",
       "<link href=\"/static/data_tables/css/DT_bootstrap.css?v=0.2.8\" rel=\"stylesheet\">\n",
       "<link href=\"/static/css/site.css?v=0.2.8\" rel=\"stylesheet\">\n",
       "<script type=\"text/javascript\">\n",
       "        var QAURLs = {\n",
       "            API_URL:\"/qa/api/v1/\",\n",
       "            COMPOSITE_URL:\"/qa/composite/\",\n",
       "            UPLOAD_URL:\"/qa/upload/\",\n",
       "            CHART_DATA_URL:\"/qa/charts/data/\",\n",
       "            CONTROL_CHART_URL:\"/qa/charts/control_chart.png\",\n",
       "            MEDIA_URL: \"/media/\",\n",
       "            OPTION_DELIM: \"=\",\n",
       "            OPTION_SEP: \"&\",\n",
       "\n",
       "            options_from_url_hash : function(hash){\n",
       "                var options = [];\n",
       "                if (hash.slice(0,1) === \"#\"){\n",
       "                    hash = hash.slice(1);\n",
       "                }\n",
       "                var that = this;\n",
       "                $.each(hash.split(this.OPTION_SEP),function(i,elem){\n",
       "                    var k_v = elem.split(that.OPTION_DELIM);\n",
       "                    options.push([k_v[0],k_v[1]]);\n",
       "                });\n",
       "                return options;\n",
       "            },\n",
       "\n",
       "            unit_test_chart_url : function(unit,test){\n",
       "                var unit_option = 'unit'+this.OPTION_DELIM+unit.number;\n",
       "                var test_option = 'slug'+this.OPTION_DELIM+test.slug;\n",
       "                return this.CHARTS_URL+'#'+[unit_option,test_option].join(this.OPTION_SEP);\n",
       "            },\n",
       "            unit_test_chart_link : function(unit,test,text,title){\n",
       "                var url = this.unit_test_chart_url(unit,test);\n",
       "                if (title === undefined){\n",
       "                    title = [\"View Data for\", unit.name, test.name, \"data\"].join(\" \");\n",
       "                }\n",
       "                return '<a href=\"'+url+'\" title=\"'+title+'\">'+text+'</a>';\n",
       "            }\n",
       "        }\n",
       "\n",
       "        var ICON_SETTINGS = {\"SHOW_STATUS_ICONS_LISTING\": true, \"SHOW_DUE_ICONS\": true, \"SHOW_STATUS_ICONS_PERFORM\": true, \"SHOW_STATUS_ICONS_REVIEW\": true, \"SHOW_STATUS_ICONS_HISTORY\": false, \"SHOW_REVIEW_ICONS\": true};\n",
       "\n",
       "    </script>\n",
       "<script src=\"/static/pinax/js/jquery-1.10.2.min.js\"></script>\n",
       "<script src=\"/static/pinax/js/jquery.form.js\"></script>\n",
       "<script src=\"/static/bootstrap/js/bootstrap.min.js\"></script>\n",
       "<script src=\"/static/pinax/js/theme.js\"></script>\n",
       "<script src=\"/static/js/json2.js?v=0.2.8\" type=\"text/javascript\"></script>\n",
       "</link></link></link></link></link></link></link></link></meta></head>\n",
       "<body class=\"account\" id=\"\">\n",
       "<div class=\"navbar navbar-fixed-top\">\n",
       "<div class=\"navbar-inner\">\n",
       "<div class=\"container-fluid\">\n",
       "<a class=\"brand\" href=\"/\">RSCH Radiotherapy QA</a>\n",
       "<div>\n",
       "<ul class=\"nav pull-right\">\n",
       "<li><a href=\"/accounts/login/\">Log in</a></li>\n",
       "</ul>\n",
       "</div>\n",
       "</div>\n",
       "</div>\n",
       "</div>\n",
       "<div class=\"container\">\n",
       "<div class=\"row\">\n",
       "<div class=\"span2 columns\">\n",
       "<ul class=\"nav nav-list\">\n",
       "<li class=\"nav-header\">Account</li>\n",
       "<li><a href=\"/accounts/details/\">Account Details</a></li>\n",
       "<li><a href=\"/accounts/password/change/\">Change Password</a></li>\n",
       "<li><a href=\"/accounts/password/reset/\">Reset Password</a></li>\n",
       "</ul>\n",
       "</div>\n",
       "<div class=\"span10 columns\">\n",
       "<h1>Log In</h1>\n",
       "<div class=\"row\">\n",
       "<div class=\"span8\">\n",
       "<form action=\"/accounts/login/\" autocapitalize=\"off\" class=\"form-horizontal\" method=\"POST\">\n",
       "<fieldset>\n",
       "<div style=\"display:none\"><input name=\"csrfmiddlewaretoken\" type=\"hidden\" value=\"NWXxo4tXkd4XRLMWiH8bZVwFXiuK6nZf\"/></div>\n",
       "<div class=\"control-group \">\n",
       "<label class=\"control-label required-field\" for=\"id_username\">\n",
       "                Username\n",
       "            </label>\n",
       "<div class=\"controls\">\n",
       "<input id=\"id_username\" maxlength=\"30\" name=\"username\" type=\"text\"/>\n",
       "</div>\n",
       "</div>\n",
       "<div class=\"control-group \">\n",
       "<label class=\"control-label required-field\" for=\"id_password\">\n",
       "                Password\n",
       "            </label>\n",
       "<div class=\"controls\">\n",
       "<input id=\"id_password\" name=\"password\" type=\"password\"/>\n",
       "</div>\n",
       "</div>\n",
       "<div class=\"form-actions\">\n",
       "<button class=\"btn btn-primary\" type=\"submit\">Log in</button>\n",
       "</div>\n",
       "</fieldset>\n",
       "</form>\n",
       "<p>If you have any trouble logging in to your account, contact the site administrator.</p>\n",
       "</div>\n",
       "<div class=\"span4\">\n",
       "</div>\n",
       "</div>\n",
       "</div>\n",
       "</div>\n",
       "</div>\n",
       "<div id=\"footer\">\n",
       "<div class=\"inner\">\n",
       "<div class=\"container-fluid\">\n",
       "<div class=\"row-fluid\">\n",
       "<div class=\"legal span12\">\n",
       "        QATrack+ v0.2.8 | © 2011 The Ottawa Hospital Cancer Center | <a href=\"https://bitbucket.org/tohccmedphys/qatrackplus/issues/new\" title=\"Report an error or bug\">Report a Bug</a> | <a href=\"https://bitbucket.org/tohccmedphys/qatrackplus/issues/new\" title=\"Submit a feature request or idea for improvement\">Request a Feature</a>\n",
       "</div>\n",
       "</div>\n",
       "</div>\n",
       "</div>\n",
       "</div>\n",
       "<script>\n",
       "    $(document).ready(function(){\n",
       "       $(\"#id_username\").focus();\n",
       "     });\n",
       "</script>\n",
       "</body>\n",
       "</html>"
      ]
     },
     "execution_count": 4,
     "metadata": {},
     "output_type": "execute_result"
    }
   ],
   "source": [
    "soup"
   ]
  },
  {
   "cell_type": "code",
   "execution_count": 5,
   "metadata": {
    "collapsed": false
   },
   "outputs": [
    {
     "data": {
      "text/plain": [
       "<title>RSCH Radiotherapy QA : Log In</title>"
      ]
     },
     "execution_count": 5,
     "metadata": {},
     "output_type": "execute_result"
    }
   ],
   "source": [
    "soup.title"
   ]
  },
  {
   "cell_type": "code",
   "execution_count": 6,
   "metadata": {
    "collapsed": false
   },
   "outputs": [
    {
     "data": {
      "text/plain": [
       "'RSCH Radiotherapy QA : Log In'"
      ]
     },
     "execution_count": 6,
     "metadata": {},
     "output_type": "execute_result"
    }
   ],
   "source": [
    "soup.title.string"
   ]
  },
  {
   "cell_type": "code",
   "execution_count": 7,
   "metadata": {
    "collapsed": false
   },
   "outputs": [
    {
     "data": {
      "text/plain": [
       "'head'"
      ]
     },
     "execution_count": 7,
     "metadata": {},
     "output_type": "execute_result"
    }
   ],
   "source": [
    "soup.title.parent.name"
   ]
  },
  {
   "cell_type": "code",
   "execution_count": 8,
   "metadata": {
    "collapsed": false
   },
   "outputs": [
    {
     "data": {
      "text/plain": [
       "<p>If you have any trouble logging in to your account, contact the site administrator.</p>"
      ]
     },
     "execution_count": 8,
     "metadata": {},
     "output_type": "execute_result"
    }
   ],
   "source": [
    "soup.p"
   ]
  },
  {
   "cell_type": "code",
   "execution_count": 9,
   "metadata": {
    "collapsed": false
   },
   "outputs": [
    {
     "data": {
      "text/plain": [
       "<a class=\"brand\" href=\"/\">RSCH Radiotherapy QA</a>"
      ]
     },
     "execution_count": 9,
     "metadata": {},
     "output_type": "execute_result"
    }
   ],
   "source": [
    "soup.a"
   ]
  },
  {
   "cell_type": "code",
   "execution_count": 10,
   "metadata": {
    "collapsed": false
   },
   "outputs": [
    {
     "data": {
      "text/plain": [
       "['brand']"
      ]
     },
     "execution_count": 10,
     "metadata": {},
     "output_type": "execute_result"
    }
   ],
   "source": [
    "soup.a['class']"
   ]
  },
  {
   "cell_type": "code",
   "execution_count": 11,
   "metadata": {
    "collapsed": false
   },
   "outputs": [
    {
     "data": {
      "text/plain": [
       "[<a class=\"brand\" href=\"/\">RSCH Radiotherapy QA</a>,\n",
       " <a href=\"/accounts/login/\">Log in</a>,\n",
       " <a href=\"/accounts/details/\">Account Details</a>,\n",
       " <a href=\"/accounts/password/change/\">Change Password</a>,\n",
       " <a href=\"/accounts/password/reset/\">Reset Password</a>,\n",
       " <a href=\"https://bitbucket.org/tohccmedphys/qatrackplus/issues/new\" title=\"Report an error or bug\">Report a Bug</a>,\n",
       " <a href=\"https://bitbucket.org/tohccmedphys/qatrackplus/issues/new\" title=\"Submit a feature request or idea for improvement\">Request a Feature</a>]"
      ]
     },
     "execution_count": 11,
     "metadata": {},
     "output_type": "execute_result"
    }
   ],
   "source": [
    "soup.find_all('a')"
   ]
  },
  {
   "cell_type": "code",
   "execution_count": 12,
   "metadata": {
    "collapsed": false
   },
   "outputs": [
    {
     "name": "stdout",
     "output_type": "stream",
     "text": [
      "/\n",
      "/accounts/login/\n",
      "/accounts/details/\n",
      "/accounts/password/change/\n",
      "/accounts/password/reset/\n",
      "https://bitbucket.org/tohccmedphys/qatrackplus/issues/new\n",
      "https://bitbucket.org/tohccmedphys/qatrackplus/issues/new\n"
     ]
    }
   ],
   "source": [
    "for link in soup.find_all('a'):\n",
    "    print(link.get('href'))"
   ]
  },
  {
   "cell_type": "code",
   "execution_count": 13,
   "metadata": {
    "collapsed": false
   },
   "outputs": [
    {
     "name": "stdout",
     "output_type": "stream",
     "text": [
      "\n",
      "\n",
      "\n",
      "\n",
      "\n",
      "RSCH Radiotherapy QA : Log In\n",
      "\n",
      "\n",
      "\n",
      "\n",
      "\n",
      "\n",
      "\n",
      "\n",
      "\n",
      "\n",
      "\n",
      "\n",
      "\n",
      "\n",
      "\n",
      "\n",
      "\n",
      "        var QAURLs = {\n",
      "            API_URL:\"/qa/api/v1/\",\n",
      "            COMPOSITE_URL:\"/qa/composite/\",\n",
      "            UPLOAD_URL:\"/qa/upload/\",\n",
      "            CHART_DATA_URL:\"/qa/charts/data/\",\n",
      "            CONTROL_CHART_URL:\"/qa/charts/control_chart.png\",\n",
      "            MEDIA_URL: \"/media/\",\n",
      "            OPTION_DELIM: \"=\",\n",
      "            OPTION_SEP: \"&\",\n",
      "\n",
      "            options_from_url_hash : function(hash){\n",
      "                var options = [];\n",
      "                if (hash.slice(0,1) === \"#\"){\n",
      "                    hash = hash.slice(1);\n",
      "                }\n",
      "                var that = this;\n",
      "                $.each(hash.split(this.OPTION_SEP),function(i,elem){\n",
      "                    var k_v = elem.split(that.OPTION_DELIM);\n",
      "                    options.push([k_v[0],k_v[1]]);\n",
      "                });\n",
      "                return options;\n",
      "            },\n",
      "\n",
      "            unit_test_chart_url : function(unit,test){\n",
      "                var unit_option = 'unit'+this.OPTION_DELIM+unit.number;\n",
      "                var test_option = 'slug'+this.OPTION_DELIM+test.slug;\n",
      "                return this.CHARTS_URL+'#'+[unit_option,test_option].join(this.OPTION_SEP);\n",
      "            },\n",
      "            unit_test_chart_link : function(unit,test,text,title){\n",
      "                var url = this.unit_test_chart_url(unit,test);\n",
      "                if (title === undefined){\n",
      "                    title = [\"View Data for\", unit.name, test.name, \"data\"].join(\" \");\n",
      "                }\n",
      "                return '<a href=\"'+url+'\" title=\"'+title+'\">'+text+'</a>';\n",
      "            }\n",
      "        }\n",
      "\n",
      "        var ICON_SETTINGS = {\"SHOW_STATUS_ICONS_LISTING\": true, \"SHOW_DUE_ICONS\": true, \"SHOW_STATUS_ICONS_PERFORM\": true, \"SHOW_STATUS_ICONS_REVIEW\": true, \"SHOW_STATUS_ICONS_HISTORY\": false, \"SHOW_REVIEW_ICONS\": true};\n",
      "\n",
      "    \n",
      "\n",
      "\n",
      "\n",
      "\n",
      "\n",
      "\n",
      "\n",
      "\n",
      "\n",
      "\n",
      "RSCH Radiotherapy QA\n",
      "\n",
      "\n",
      "Log in\n",
      "\n",
      "\n",
      "\n",
      "\n",
      "\n",
      "\n",
      "\n",
      "\n",
      "\n",
      "Account\n",
      "Account Details\n",
      "Change Password\n",
      "Reset Password\n",
      "\n",
      "\n",
      "\n",
      "Log In\n",
      "\n",
      "\n",
      "\n",
      "\n",
      "\n",
      "\n",
      "\n",
      "                Username\n",
      "            \n",
      "\n",
      "\n",
      "\n",
      "\n",
      "\n",
      "\n",
      "                Password\n",
      "            \n",
      "\n",
      "\n",
      "\n",
      "\n",
      "\n",
      "Log in\n",
      "\n",
      "\n",
      "\n",
      "If you have any trouble logging in to your account, contact the site administrator.\n",
      "\n",
      "\n",
      "\n",
      "\n",
      "\n",
      "\n",
      "\n",
      "\n",
      "\n",
      "\n",
      "\n",
      "\n",
      "        QATrack+ v0.2.8 | © 2011 The Ottawa Hospital Cancer Center | Report a Bug | Request a Feature\n",
      "\n",
      "\n",
      "\n",
      "\n",
      "\n",
      "\n",
      "    $(document).ready(function(){\n",
      "       $(\"#id_username\").focus();\n",
      "     });\n",
      "\n",
      "\n",
      "\n",
      "\n"
     ]
    }
   ],
   "source": [
    "print(soup.get_text())"
   ]
  },
  {
   "cell_type": "code",
   "execution_count": 14,
   "metadata": {
    "collapsed": false
   },
   "outputs": [
    {
     "ename": "ValueError",
     "evalue": "No tables found",
     "output_type": "error",
     "traceback": [
      "\u001b[0;31m---------------------------------------------------------------------------\u001b[0m",
      "\u001b[0;31mValueError\u001b[0m                                Traceback (most recent call last)",
      "\u001b[0;32m<ipython-input-14-94d180fd373c>\u001b[0m in \u001b[0;36m<module>\u001b[0;34m()\u001b[0m\n\u001b[1;32m      1\u001b[0m \u001b[0mtables\u001b[0m \u001b[1;33m=\u001b[0m \u001b[0msoup\u001b[0m\u001b[1;33m.\u001b[0m\u001b[0mfindAll\u001b[0m\u001b[1;33m(\u001b[0m\u001b[1;34m'table'\u001b[0m\u001b[1;33m)\u001b[0m\u001b[1;33m\u001b[0m\u001b[0m\n\u001b[0;32m----> 2\u001b[0;31m \u001b[0mtest\u001b[0m \u001b[1;33m=\u001b[0m \u001b[0mpd\u001b[0m\u001b[1;33m.\u001b[0m\u001b[0mio\u001b[0m\u001b[1;33m.\u001b[0m\u001b[0mhtml\u001b[0m\u001b[1;33m.\u001b[0m\u001b[0mread_html\u001b[0m\u001b[1;33m(\u001b[0m\u001b[0mstr\u001b[0m\u001b[1;33m(\u001b[0m\u001b[0mtables\u001b[0m\u001b[1;33m)\u001b[0m\u001b[1;33m)\u001b[0m\u001b[1;33m\u001b[0m\u001b[0m\n\u001b[0m\u001b[1;32m      3\u001b[0m \u001b[1;33m\u001b[0m\u001b[0m\n\u001b[1;32m      4\u001b[0m \u001b[1;32mreturn\u001b[0m\u001b[1;33m(\u001b[0m\u001b[0mtest\u001b[0m\u001b[1;33m)\u001b[0m            \u001b[1;31m#return dataframe type object\u001b[0m\u001b[1;33m\u001b[0m\u001b[0m\n",
      "\u001b[0;32mC:\\Users\\RCole02.ROYALSURREY\\AppData\\Local\\Continuum\\Anaconda3\\lib\\site-packages\\pandas\\io\\html.py\u001b[0m in \u001b[0;36mread_html\u001b[0;34m(io, match, flavor, header, index_col, skiprows, attrs, parse_dates, tupleize_cols, thousands, encoding)\u001b[0m\n\u001b[1;32m    872\u001b[0m     \u001b[0m_validate_header_arg\u001b[0m\u001b[1;33m(\u001b[0m\u001b[0mheader\u001b[0m\u001b[1;33m)\u001b[0m\u001b[1;33m\u001b[0m\u001b[0m\n\u001b[1;32m    873\u001b[0m     return _parse(flavor, io, match, header, index_col, skiprows,\n\u001b[0;32m--> 874\u001b[0;31m                   parse_dates, tupleize_cols, thousands, attrs, encoding)\n\u001b[0m",
      "\u001b[0;32mC:\\Users\\RCole02.ROYALSURREY\\AppData\\Local\\Continuum\\Anaconda3\\lib\\site-packages\\pandas\\io\\html.py\u001b[0m in \u001b[0;36m_parse\u001b[0;34m(flavor, io, match, header, index_col, skiprows, parse_dates, tupleize_cols, thousands, attrs, encoding)\u001b[0m\n\u001b[1;32m    734\u001b[0m             \u001b[1;32mbreak\u001b[0m\u001b[1;33m\u001b[0m\u001b[0m\n\u001b[1;32m    735\u001b[0m     \u001b[1;32melse\u001b[0m\u001b[1;33m:\u001b[0m\u001b[1;33m\u001b[0m\u001b[0m\n\u001b[0;32m--> 736\u001b[0;31m         \u001b[0mraise_with_traceback\u001b[0m\u001b[1;33m(\u001b[0m\u001b[0mretained\u001b[0m\u001b[1;33m)\u001b[0m\u001b[1;33m\u001b[0m\u001b[0m\n\u001b[0m\u001b[1;32m    737\u001b[0m \u001b[1;33m\u001b[0m\u001b[0m\n\u001b[1;32m    738\u001b[0m     \u001b[0mret\u001b[0m \u001b[1;33m=\u001b[0m \u001b[1;33m[\u001b[0m\u001b[1;33m]\u001b[0m\u001b[1;33m\u001b[0m\u001b[0m\n",
      "\u001b[0;32mC:\\Users\\RCole02.ROYALSURREY\\AppData\\Local\\Continuum\\Anaconda3\\lib\\site-packages\\pandas\\compat\\__init__.py\u001b[0m in \u001b[0;36mraise_with_traceback\u001b[0;34m(exc, traceback)\u001b[0m\n\u001b[1;32m    331\u001b[0m         \u001b[1;32mif\u001b[0m \u001b[0mtraceback\u001b[0m \u001b[1;33m==\u001b[0m \u001b[0mEllipsis\u001b[0m\u001b[1;33m:\u001b[0m\u001b[1;33m\u001b[0m\u001b[0m\n\u001b[1;32m    332\u001b[0m             \u001b[0m_\u001b[0m\u001b[1;33m,\u001b[0m \u001b[0m_\u001b[0m\u001b[1;33m,\u001b[0m \u001b[0mtraceback\u001b[0m \u001b[1;33m=\u001b[0m \u001b[0msys\u001b[0m\u001b[1;33m.\u001b[0m\u001b[0mexc_info\u001b[0m\u001b[1;33m(\u001b[0m\u001b[1;33m)\u001b[0m\u001b[1;33m\u001b[0m\u001b[0m\n\u001b[0;32m--> 333\u001b[0;31m         \u001b[1;32mraise\u001b[0m \u001b[0mexc\u001b[0m\u001b[1;33m.\u001b[0m\u001b[0mwith_traceback\u001b[0m\u001b[1;33m(\u001b[0m\u001b[0mtraceback\u001b[0m\u001b[1;33m)\u001b[0m\u001b[1;33m\u001b[0m\u001b[0m\n\u001b[0m\u001b[1;32m    334\u001b[0m \u001b[1;32melse\u001b[0m\u001b[1;33m:\u001b[0m\u001b[1;33m\u001b[0m\u001b[0m\n\u001b[1;32m    335\u001b[0m     \u001b[1;31m# this version of raise is a syntax error in Python 3\u001b[0m\u001b[1;33m\u001b[0m\u001b[1;33m\u001b[0m\u001b[0m\n",
      "\u001b[0;31mValueError\u001b[0m: No tables found"
     ]
    }
   ],
   "source": [
    "tables = soup.findAll('table')\n",
    "test = pd.io.html.read_html(str(tables))\n",
    "\n",
    "return(test)            #return dataframe type object"
   ]
  },
  {
   "cell_type": "code",
   "execution_count": 16,
   "metadata": {
    "collapsed": false
   },
   "outputs": [
    {
     "ename": "WebDriverException",
     "evalue": "Message: 'chromedriver' executable needs to be in PATH. Please see https://sites.google.com/a/chromium.org/chromedriver/home\n",
     "output_type": "error",
     "traceback": [
      "\u001b[0;31m---------------------------------------------------------------------------\u001b[0m",
      "\u001b[0;31mFileNotFoundError\u001b[0m                         Traceback (most recent call last)",
      "\u001b[0;32mC:\\Users\\RCole02.ROYALSURREY\\AppData\\Local\\Continuum\\Anaconda3\\lib\\site-packages\\selenium\\webdriver\\common\\service.py\u001b[0m in \u001b[0;36mstart\u001b[0;34m(self)\u001b[0m\n\u001b[1;32m     63\u001b[0m                                             \u001b[0mclose_fds\u001b[0m\u001b[1;33m=\u001b[0m\u001b[0mplatform\u001b[0m\u001b[1;33m.\u001b[0m\u001b[0msystem\u001b[0m\u001b[1;33m(\u001b[0m\u001b[1;33m)\u001b[0m \u001b[1;33m!=\u001b[0m \u001b[1;34m'Windows'\u001b[0m\u001b[1;33m,\u001b[0m\u001b[1;33m\u001b[0m\u001b[0m\n\u001b[0;32m---> 64\u001b[0;31m                                             stdout=self.log_file, stderr=self.log_file)\n\u001b[0m\u001b[1;32m     65\u001b[0m         \u001b[1;32mexcept\u001b[0m \u001b[0mTypeError\u001b[0m\u001b[1;33m:\u001b[0m\u001b[1;33m\u001b[0m\u001b[0m\n",
      "\u001b[0;32mC:\\Users\\RCole02.ROYALSURREY\\AppData\\Local\\Continuum\\Anaconda3\\lib\\subprocess.py\u001b[0m in \u001b[0;36m__init__\u001b[0;34m(self, args, bufsize, executable, stdin, stdout, stderr, preexec_fn, close_fds, shell, cwd, env, universal_newlines, startupinfo, creationflags, restore_signals, start_new_session, pass_fds)\u001b[0m\n\u001b[1;32m    946\u001b[0m                                 \u001b[0merrread\u001b[0m\u001b[1;33m,\u001b[0m \u001b[0merrwrite\u001b[0m\u001b[1;33m,\u001b[0m\u001b[1;33m\u001b[0m\u001b[0m\n\u001b[0;32m--> 947\u001b[0;31m                                 restore_signals, start_new_session)\n\u001b[0m\u001b[1;32m    948\u001b[0m         \u001b[1;32mexcept\u001b[0m\u001b[1;33m:\u001b[0m\u001b[1;33m\u001b[0m\u001b[0m\n",
      "\u001b[0;32mC:\\Users\\RCole02.ROYALSURREY\\AppData\\Local\\Continuum\\Anaconda3\\lib\\subprocess.py\u001b[0m in \u001b[0;36m_execute_child\u001b[0;34m(self, args, executable, preexec_fn, close_fds, pass_fds, cwd, env, startupinfo, creationflags, shell, p2cread, p2cwrite, c2pread, c2pwrite, errread, errwrite, unused_restore_signals, unused_start_new_session)\u001b[0m\n\u001b[1;32m   1223\u001b[0m                                          \u001b[0mcwd\u001b[0m\u001b[1;33m,\u001b[0m\u001b[1;33m\u001b[0m\u001b[0m\n\u001b[0;32m-> 1224\u001b[0;31m                                          startupinfo)\n\u001b[0m\u001b[1;32m   1225\u001b[0m             \u001b[1;32mfinally\u001b[0m\u001b[1;33m:\u001b[0m\u001b[1;33m\u001b[0m\u001b[0m\n",
      "\u001b[0;31mFileNotFoundError\u001b[0m: [WinError 2] The system cannot find the file specified",
      "\nDuring handling of the above exception, another exception occurred:\n",
      "\u001b[0;31mWebDriverException\u001b[0m                        Traceback (most recent call last)",
      "\u001b[0;32m<ipython-input-16-eed04893bbcd>\u001b[0m in \u001b[0;36m<module>\u001b[0;34m()\u001b[0m\n\u001b[1;32m      4\u001b[0m \u001b[1;33m\u001b[0m\u001b[0m\n\u001b[1;32m      5\u001b[0m \u001b[1;31m#driver = webdriver.Firefox()\u001b[0m\u001b[1;33m\u001b[0m\u001b[1;33m\u001b[0m\u001b[0m\n\u001b[0;32m----> 6\u001b[0;31m \u001b[0mdriver\u001b[0m \u001b[1;33m=\u001b[0m \u001b[0mwebdriver\u001b[0m\u001b[1;33m.\u001b[0m\u001b[0mChrome\u001b[0m\u001b[1;33m(\u001b[0m\u001b[1;33m)\u001b[0m\u001b[1;33m\u001b[0m\u001b[0m\n\u001b[0m\u001b[1;32m      7\u001b[0m \u001b[0mdriver\u001b[0m\u001b[1;33m.\u001b[0m\u001b[0mget\u001b[0m\u001b[1;33m(\u001b[0m\u001b[0mpage_url\u001b[0m\u001b[1;33m)\u001b[0m\u001b[1;33m\u001b[0m\u001b[0m\n\u001b[1;32m      8\u001b[0m \u001b[1;33m\u001b[0m\u001b[0m\n",
      "\u001b[0;32mC:\\Users\\RCole02.ROYALSURREY\\AppData\\Local\\Continuum\\Anaconda3\\lib\\site-packages\\selenium\\webdriver\\chrome\\webdriver.py\u001b[0m in \u001b[0;36m__init__\u001b[0;34m(self, executable_path, port, chrome_options, service_args, desired_capabilities, service_log_path)\u001b[0m\n\u001b[1;32m     60\u001b[0m             \u001b[0mservice_args\u001b[0m\u001b[1;33m=\u001b[0m\u001b[0mservice_args\u001b[0m\u001b[1;33m,\u001b[0m\u001b[1;33m\u001b[0m\u001b[0m\n\u001b[1;32m     61\u001b[0m             log_path=service_log_path)\n\u001b[0;32m---> 62\u001b[0;31m         \u001b[0mself\u001b[0m\u001b[1;33m.\u001b[0m\u001b[0mservice\u001b[0m\u001b[1;33m.\u001b[0m\u001b[0mstart\u001b[0m\u001b[1;33m(\u001b[0m\u001b[1;33m)\u001b[0m\u001b[1;33m\u001b[0m\u001b[0m\n\u001b[0m\u001b[1;32m     63\u001b[0m \u001b[1;33m\u001b[0m\u001b[0m\n\u001b[1;32m     64\u001b[0m         \u001b[1;32mtry\u001b[0m\u001b[1;33m:\u001b[0m\u001b[1;33m\u001b[0m\u001b[0m\n",
      "\u001b[0;32mC:\\Users\\RCole02.ROYALSURREY\\AppData\\Local\\Continuum\\Anaconda3\\lib\\site-packages\\selenium\\webdriver\\common\\service.py\u001b[0m in \u001b[0;36mstart\u001b[0;34m(self)\u001b[0m\n\u001b[1;32m     69\u001b[0m                 raise WebDriverException(\n\u001b[1;32m     70\u001b[0m                     \"'%s' executable needs to be in PATH. %s\" % (\n\u001b[0;32m---> 71\u001b[0;31m                         os.path.basename(self.path), self.start_error_message)\n\u001b[0m\u001b[1;32m     72\u001b[0m                 )\n\u001b[1;32m     73\u001b[0m             \u001b[1;32melif\u001b[0m \u001b[0merr\u001b[0m\u001b[1;33m.\u001b[0m\u001b[0merrno\u001b[0m \u001b[1;33m==\u001b[0m \u001b[0merrno\u001b[0m\u001b[1;33m.\u001b[0m\u001b[0mEACCES\u001b[0m\u001b[1;33m:\u001b[0m\u001b[1;33m\u001b[0m\u001b[0m\n",
      "\u001b[0;31mWebDriverException\u001b[0m: Message: 'chromedriver' executable needs to be in PATH. Please see https://sites.google.com/a/chromium.org/chromedriver/home\n"
     ]
    }
   ],
   "source": [
    "from pandas.io.html import read_html\n",
    "from selenium import webdriver\n",
    "\n",
    "\n",
    "#driver = webdriver.Firefox()\n",
    "driver = webdriver.Chrome()\n",
    "driver.get(page_url)\n",
    "\n",
    "table = driver.find_element_by_xpath('//div[@class=\"sp5\"]/table//table/..')\n",
    "table_html = table.get_attribute('innerHTML')\n",
    "\n",
    "df = read_html(table_html)[0]\n",
    "print(df)\n",
    "\n",
    "driver.close()"
   ]
  },
  {
   "cell_type": "raw",
   "metadata": {},
   "source": [
    "Get an error as chrome not on PATH"
   ]
  },
  {
   "cell_type": "code",
   "execution_count": null,
   "metadata": {
    "collapsed": true
   },
   "outputs": [],
   "source": []
  }
 ],
 "metadata": {
  "anaconda-cloud": {},
  "kernelspec": {
   "display_name": "Python [conda root]",
   "language": "python",
   "name": "conda-root-py"
  },
  "language_info": {
   "codemirror_mode": {
    "name": "ipython",
    "version": 3
   },
   "file_extension": ".py",
   "mimetype": "text/x-python",
   "name": "python",
   "nbconvert_exporter": "python",
   "pygments_lexer": "ipython3",
   "version": "3.5.2"
  }
 },
 "nbformat": 4,
 "nbformat_minor": 1
}
