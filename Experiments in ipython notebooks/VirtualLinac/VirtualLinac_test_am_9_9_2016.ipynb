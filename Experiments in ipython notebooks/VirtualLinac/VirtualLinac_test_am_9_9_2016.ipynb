{
 "cells": [
  {
   "cell_type": "markdown",
   "metadata": {},
   "source": [
    "# Follow virtual linac guide"
   ]
  },
  {
   "cell_type": "markdown",
   "metadata": {},
   "source": [
    "Follow guide on http://radiotherapyresearchtools.com/doc/api_tutorial.html\n",
    "\n",
    "* Virtual linac helper files in /Users/robincole/virtualinac specifically file vl_api_helper.py\n",
    "\n",
    "* after installing boto3 need to set defaults, see https://boto3.readthedocs.io/en/latest/guide/quickstart.html#installation\n",
    "\n",
    "* Create profile https://console.aws.amazon.com/iam/home#users/robmarkcole\n",
    "\n",
    "* Config from terminal using \n",
    "    \n",
    "    aws configure \n",
    "\n",
    "aws_access_key_id = AKI************\n",
    "\n",
    "aws_secret_access_key = ZOA*******\n",
    "\n",
    "region = us-east-1"
   ]
  },
  {
   "cell_type": "code",
   "execution_count": 1,
   "metadata": {
    "collapsed": false
   },
   "outputs": [],
   "source": [
    "from __future__ import print_function"
   ]
  },
  {
   "cell_type": "code",
   "execution_count": 2,
   "metadata": {
    "collapsed": true
   },
   "outputs": [],
   "source": [
    "import boto3"
   ]
  },
  {
   "cell_type": "code",
   "execution_count": 3,
   "metadata": {
    "collapsed": false
   },
   "outputs": [],
   "source": [
    "ec2=boto3.resource('ec2')"
   ]
  },
  {
   "cell_type": "markdown",
   "metadata": {},
   "source": [
    "First we can get the instances, then iterate over the data structure to find information about each instance:"
   ]
  },
  {
   "cell_type": "code",
   "execution_count": 4,
   "metadata": {
    "collapsed": true
   },
   "outputs": [],
   "source": [
    "instances = ec2.instances.filter(Filters=\n",
    "    [{'Name': 'instance-state-name', 'Values': ['running'] }])"
   ]
  },
  {
   "cell_type": "code",
   "execution_count": 5,
   "metadata": {
    "collapsed": false
   },
   "outputs": [
    {
     "data": {
      "text/plain": [
       "ec2.instancesCollection(ec2.ServiceResource(), ec2.Instance)"
      ]
     },
     "execution_count": 5,
     "metadata": {},
     "output_type": "execute_result"
    }
   ],
   "source": [
    "instances "
   ]
  },
  {
   "cell_type": "markdown",
   "metadata": {
    "collapsed": true
   },
   "source": [
    "Was an error at next step, had to grant administrator rights to my profile on https://console.aws.amazon.com/iam/home#users/robmarkcole\n",
    "\n",
    "    ClientError: An error occurred (UnauthorizedOperation) when calling the DescribeInstances operation: You are not authorized to perform this operation.\n"
   ]
  },
  {
   "cell_type": "code",
   "execution_count": 6,
   "metadata": {
    "collapsed": false
   },
   "outputs": [
    {
     "name": "stdout",
     "output_type": "stream",
     "text": [
      "i-0bba08fc5d69d2b51 ec2-52-23-166-83.compute-1.amazonaws.com\n"
     ]
    }
   ],
   "source": [
    "for instance in instances:\n",
    "        print(instance.instance_id, instance.public_dns_name)"
   ]
  },
  {
   "cell_type": "code",
   "execution_count": 7,
   "metadata": {
    "collapsed": false
   },
   "outputs": [],
   "source": [
    "dns_names = []"
   ]
  },
  {
   "cell_type": "code",
   "execution_count": 40,
   "metadata": {
    "collapsed": false
   },
   "outputs": [
    {
     "name": "stdout",
     "output_type": "stream",
     "text": [
      "ec2-52-23-166-83.compute-1.amazonaws.com\n"
     ]
    }
   ],
   "source": [
    "for instance in instances:\n",
    "        print(instance.public_dns_name)\n",
    "        dns_names.append(instance.public_dns_name)\n",
    "url = 'http://' + dns_names[0]"
   ]
  },
  {
   "cell_type": "markdown",
   "metadata": {},
   "source": [
    "## VirtuaLinac API"
   ]
  },
  {
   "cell_type": "markdown",
   "metadata": {},
   "source": [
    "Now onto http://radiotherapyresearchtools.com/doc/api_tutorial.html#virtualinac-api\n",
    "\n",
    "We will connect to the VirtuaLinac Amazon Machine Image (AMI) which is in the N. Virginia region.\n",
    "\n",
    "Had to edit security group to accept incoming HTTP."
   ]
  },
  {
   "cell_type": "markdown",
   "metadata": {},
   "source": [
    "<img src=\"security.png\", width=800>"
   ]
  },
  {
   "cell_type": "code",
   "execution_count": 9,
   "metadata": {
    "collapsed": true
   },
   "outputs": [],
   "source": [
    "import requests"
   ]
  },
  {
   "cell_type": "code",
   "execution_count": 11,
   "metadata": {
    "collapsed": false
   },
   "outputs": [],
   "source": [
    "r = requests.get(url + '/usage') "
   ]
  },
  {
   "cell_type": "code",
   "execution_count": 33,
   "metadata": {
    "collapsed": false
   },
   "outputs": [
    {
     "name": "stdout",
     "output_type": "stream",
     "text": [
      "<p><b>Number of jobs:</b> 0 </p>\n"
     ]
    }
   ],
   "source": [
    "for line in r.text.split('\\n'):\n",
    "        if 'Number of jobs' in line:\n",
    "            print(line)"
   ]
  },
  {
   "cell_type": "markdown",
   "metadata": {},
   "source": [
    "Submit calculation"
   ]
  },
  {
   "cell_type": "markdown",
   "metadata": {
    "collapsed": false
   },
   "source": [
    "params = {\n",
    "    'filename'     : 'api_test_1',\n",
    "    'code_version' : 0,\n",
    "    'physics_list' : 0,\n",
    "    'beam_type'    : 0,\n",
    "    'range_cut' : 10,\n",
    "    'energy'       : 6.84,\n",
    "    'energy_spread' : 0.6,\n",
    "    'spot_size_x'  : 0.7,\n",
    "    'spot_size_y'  : 0.7,\n",
    "    'beam_divergence_x' : 0.0,\n",
    "    'beam_divergence_y' : 0.0,\n",
    "    'jaw_position_y1' : -20,\n",
    "    'jaw_position_y2' :  20,\n",
    "    'jaw_position_x1' : -20,\n",
    "    'jaw_position_x2' :  20,\n",
    "    'phantom_bool' : 'True',\n",
    "    'phantom_size_x' : 500,\n",
    "    'phantom_size_y' : 500,\n",
    "    'phantom_size_z' : 400,\n",
    "    'phantom_voxels_x' : 125,\n",
    "    'phantom_voxels_y' : 125,\n",
    "    'phantom_voxels_z' : 100,\n",
    "    'phantom_position_x' : 0,\n",
    "    'phantom_position_y' : 0,\n",
    "    'phantom_position_z' : -5,\n",
    "    'incident_particles' : 10000,\n",
    "    'brem_splitting' : None,\n",
    "    'splitting_factor' : None,\n",
    "    'phsp_record'  : None\n",
    "}"
   ]
  },
  {
   "cell_type": "code",
   "execution_count": 15,
   "metadata": {
    "collapsed": false
   },
   "outputs": [],
   "source": [
    "r = requests.post(url, params=params)"
   ]
  },
  {
   "cell_type": "markdown",
   "metadata": {},
   "source": [
    "Calculation runnning"
   ]
  },
  {
   "cell_type": "markdown",
   "metadata": {},
   "source": [
    "<img src=\"calc.png\", width=800>"
   ]
  },
  {
   "cell_type": "code",
   "execution_count": 45,
   "metadata": {
    "collapsed": false
   },
   "outputs": [],
   "source": [
    "resp = requests.get(url + '/phspfiles') # get page with list of output files"
   ]
  },
  {
   "cell_type": "code",
   "execution_count": 53,
   "metadata": {
    "collapsed": true
   },
   "outputs": [],
   "source": [
    "Html_file= open(\"/Users/robincole/Desktop/output.html\",\"w\")  # save output to html file and view\n",
    "Html_file.write(resp.text)\n",
    "Html_file.close()"
   ]
  },
  {
   "cell_type": "markdown",
   "metadata": {},
   "source": [
    "<img src=\"output.png\", width=700>"
   ]
  },
  {
   "cell_type": "markdown",
   "metadata": {},
   "source": [
    "Generate a plot of the data"
   ]
  },
  {
   "cell_type": "code",
   "execution_count": 56,
   "metadata": {
    "collapsed": true
   },
   "outputs": [],
   "source": [
    "filename = \"testing\""
   ]
  },
  {
   "cell_type": "code",
   "execution_count": 57,
   "metadata": {
    "collapsed": true
   },
   "outputs": [],
   "source": [
    "doseparams = {}\n",
    "doseparams['direction'] = 'z'\n",
    "doseparams['average'] = 5\n",
    "doseparams['colormap'] = 'True'\n",
    "extension = '2d.z.png'\n",
    "plot_url = url + '/fig/' + filename + '.dose'"
   ]
  },
  {
   "cell_type": "code",
   "execution_count": 58,
   "metadata": {
    "collapsed": true
   },
   "outputs": [],
   "source": [
    "extension = '.z_compare.png'"
   ]
  },
  {
   "cell_type": "code",
   "execution_count": 59,
   "metadata": {
    "collapsed": true
   },
   "outputs": [],
   "source": [
    "r = requests.get(plot_url, params=doseparams, stream=True)"
   ]
  },
  {
   "cell_type": "code",
   "execution_count": 60,
   "metadata": {
    "collapsed": true
   },
   "outputs": [],
   "source": [
    "with open(filename + extension, 'wb') as f:\n",
    "        for chunk in r.iter_content():\n",
    "             f.write(chunk)"
   ]
  },
  {
   "cell_type": "markdown",
   "metadata": {},
   "source": [
    "Plot calculation output"
   ]
  },
  {
   "cell_type": "markdown",
   "metadata": {},
   "source": [
    "<img src=\"testing.z_compare.png\", width=600>"
   ]
  },
  {
   "cell_type": "code",
   "execution_count": 61,
   "metadata": {
    "collapsed": false
   },
   "outputs": [
    {
     "data": {
      "text/plain": [
       "[{'ResponseMetadata': {'HTTPHeaders': {'content-type': 'text/xml;charset=UTF-8',\n",
       "    'date': 'Fri, 09 Sep 2016 14:25:42 GMT',\n",
       "    'server': 'AmazonEC2',\n",
       "    'transfer-encoding': 'chunked',\n",
       "    'vary': 'Accept-Encoding'},\n",
       "   'HTTPStatusCode': 200,\n",
       "   'RequestId': '51beea09-e372-4b43-9293-f11f41cc6630',\n",
       "   'RetryAttempts': 0},\n",
       "  u'TerminatingInstances': [{u'CurrentState': {u'Code': 32,\n",
       "     u'Name': 'shutting-down'},\n",
       "    u'InstanceId': 'i-0bba08fc5d69d2b51',\n",
       "    u'PreviousState': {u'Code': 16, u'Name': 'running'}}]}]"
      ]
     },
     "execution_count": 61,
     "metadata": {},
     "output_type": "execute_result"
    }
   ],
   "source": [
    "instances.terminate()  # to terminate"
   ]
  },
  {
   "cell_type": "code",
   "execution_count": null,
   "metadata": {
    "collapsed": true
   },
   "outputs": [],
   "source": []
  }
 ],
 "metadata": {
  "kernelspec": {
   "display_name": "Python 2",
   "language": "python",
   "name": "python2"
  },
  "language_info": {
   "codemirror_mode": {
    "name": "ipython",
    "version": 2
   },
   "file_extension": ".py",
   "mimetype": "text/x-python",
   "name": "python",
   "nbconvert_exporter": "python",
   "pygments_lexer": "ipython2",
   "version": "2.7.10"
  }
 },
 "nbformat": 4,
 "nbformat_minor": 0
}
