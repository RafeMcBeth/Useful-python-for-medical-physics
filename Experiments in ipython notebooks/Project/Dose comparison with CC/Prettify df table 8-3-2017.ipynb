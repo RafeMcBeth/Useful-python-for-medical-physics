{
 "cells": [
  {
   "cell_type": "markdown",
   "metadata": {},
   "source": [
    "python 2_7\n",
    "\n",
    "Use http://nbviewer.jupyter.org/github/epmoyer/ipy_table/blob/master/ipy_table-Introduction.ipynb\n",
    "\n",
    "http://nbviewer.jupyter.org/github/epmoyer/ipy_table/blob/master/ipy_table-Reference.ipynb"
   ]
  },
  {
   "cell_type": "code",
   "execution_count": 1,
   "metadata": {
    "collapsed": false
   },
   "outputs": [],
   "source": [
    "from ipy_table import *\n",
    "import numpy as np\n",
    "import pandas as pd"
   ]
  },
  {
   "cell_type": "code",
   "execution_count": 2,
   "metadata": {
    "collapsed": false
   },
   "outputs": [
    {
     "name": "stdout",
     "output_type": "stream",
     "text": [
      " Volume in drive C is WINDOWS\n",
      " Volume Serial Number is AE83-8D62\n",
      "\n",
      " Directory of C:\\Users\\RCole02.ROYALSURREY\\Desktop\\GitHub\\Useful-python-for-medical-physics\\Experiments in ipython notebooks\\Project\\Dose comparison with CC\n",
      "\n",
      "08/03/2017  14:07    <DIR>          .\n",
      "08/03/2017  14:07    <DIR>          ..\n",
      "08/03/2017  13:59    <DIR>          .ipynb_checkpoints\n",
      "08/03/2017  14:07             1,972 ALL_DATA_8_3_2017.csv\n",
      "08/03/2017  13:56    <DIR>          archive\n",
      "08/03/2017  14:07           122,923 Dose comparison 8-3-2017.ipynb\n",
      "21/10/2016  12:02               937 Eclipse_data_19_10.csv\n",
      "19/10/2016  08:40               139 EGS_data_19_10.csv\n",
      "19/10/2016  13:18         1,528,065 Fig1.png\n",
      "21/10/2016  12:02            72,116 Fig1_low.png\n",
      "19/10/2016  08:39               111 PINNACLE_TRUEBEAM_CCC_data_19_10.csv\n",
      "08/03/2017  14:02            40,367 Prettify df table 8-3-2017.ipynb\n",
      "21/10/2016  12:02            73,341 Table_21.PNG\n",
      "               9 File(s)      1,839,971 bytes\n",
      "               4 Dir(s)  363,554,373,632 bytes free\n"
     ]
    }
   ],
   "source": [
    "ls"
   ]
  },
  {
   "cell_type": "code",
   "execution_count": 3,
   "metadata": {
    "collapsed": false
   },
   "outputs": [
    {
     "data": {
      "text/html": [
       "<div>\n",
       "<table border=\"1\" class=\"dataframe\">\n",
       "  <thead>\n",
       "    <tr style=\"text-align: right;\">\n",
       "      <th></th>\n",
       "      <th>VOI Material</th>\n",
       "      <th>Mass density</th>\n",
       "      <th>Stp PWR</th>\n",
       "      <th>CT number</th>\n",
       "      <th>AAA</th>\n",
       "      <th>AXB Dw</th>\n",
       "      <th>AXB Dm</th>\n",
       "      <th>Mean</th>\n",
       "      <th>Max % error</th>\n",
       "    </tr>\n",
       "  </thead>\n",
       "  <tbody>\n",
       "    <tr>\n",
       "      <th>0</th>\n",
       "      <td>Air</td>\n",
       "      <td>0.00</td>\n",
       "      <td>0.0073</td>\n",
       "      <td>-993</td>\n",
       "      <td>1.033987</td>\n",
       "      <td>1.048493</td>\n",
       "      <td>0.908257</td>\n",
       "      <td>0.996912</td>\n",
       "      <td>15.440115</td>\n",
       "    </tr>\n",
       "    <tr>\n",
       "      <th>1</th>\n",
       "      <td>Lung</td>\n",
       "      <td>0.26</td>\n",
       "      <td>0.2699</td>\n",
       "      <td>-734</td>\n",
       "      <td>1.013072</td>\n",
       "      <td>1.023591</td>\n",
       "      <td>1.022280</td>\n",
       "      <td>1.019648</td>\n",
       "      <td>1.038346</td>\n",
       "    </tr>\n",
       "    <tr>\n",
       "      <th>2</th>\n",
       "      <td>Adipose tissue</td>\n",
       "      <td>0.92</td>\n",
       "      <td>0.9421</td>\n",
       "      <td>-105</td>\n",
       "      <td>1.005229</td>\n",
       "      <td>0.979030</td>\n",
       "      <td>0.998689</td>\n",
       "      <td>0.994316</td>\n",
       "      <td>2.675976</td>\n",
       "    </tr>\n",
       "    <tr>\n",
       "      <th>3</th>\n",
       "      <td>Water</td>\n",
       "      <td>1.00</td>\n",
       "      <td>1.0100</td>\n",
       "      <td>0</td>\n",
       "      <td>1.000000</td>\n",
       "      <td>1.000000</td>\n",
       "      <td>1.000000</td>\n",
       "      <td>1.000000</td>\n",
       "      <td>0.000000</td>\n",
       "    </tr>\n",
       "    <tr>\n",
       "      <th>4</th>\n",
       "      <td>Epoxy</td>\n",
       "      <td>1.04</td>\n",
       "      <td>1.0389</td>\n",
       "      <td>38</td>\n",
       "      <td>1.000000</td>\n",
       "      <td>1.019659</td>\n",
       "      <td>0.944954</td>\n",
       "      <td>0.988204</td>\n",
       "      <td>7.905687</td>\n",
       "    </tr>\n",
       "    <tr>\n",
       "      <th>5</th>\n",
       "      <td>Muscle skeletal</td>\n",
       "      <td>1.05</td>\n",
       "      <td>1.0483</td>\n",
       "      <td>48</td>\n",
       "      <td>1.000000</td>\n",
       "      <td>1.002621</td>\n",
       "      <td>0.988204</td>\n",
       "      <td>0.996942</td>\n",
       "      <td>1.458886</td>\n",
       "    </tr>\n",
       "    <tr>\n",
       "      <th>6</th>\n",
       "      <td>Cartilage</td>\n",
       "      <td>1.10</td>\n",
       "      <td>1.0855</td>\n",
       "      <td>128</td>\n",
       "      <td>0.994771</td>\n",
       "      <td>1.007864</td>\n",
       "      <td>0.982962</td>\n",
       "      <td>0.995199</td>\n",
       "      <td>2.533333</td>\n",
       "    </tr>\n",
       "    <tr>\n",
       "      <th>7</th>\n",
       "      <td>PMMA</td>\n",
       "      <td>1.19</td>\n",
       "      <td>1.1617</td>\n",
       "      <td>282</td>\n",
       "      <td>0.994771</td>\n",
       "      <td>0.992136</td>\n",
       "      <td>0.960682</td>\n",
       "      <td>0.982530</td>\n",
       "      <td>3.548494</td>\n",
       "    </tr>\n",
       "    <tr>\n",
       "      <th>8</th>\n",
       "      <td>Radel</td>\n",
       "      <td>1.30</td>\n",
       "      <td>1.2548</td>\n",
       "      <td>470</td>\n",
       "      <td>0.994771</td>\n",
       "      <td>1.022280</td>\n",
       "      <td>0.929227</td>\n",
       "      <td>0.982093</td>\n",
       "      <td>10.014104</td>\n",
       "    </tr>\n",
       "    <tr>\n",
       "      <th>9</th>\n",
       "      <td>PEEK</td>\n",
       "      <td>1.31</td>\n",
       "      <td>1.2633</td>\n",
       "      <td>487</td>\n",
       "      <td>0.994771</td>\n",
       "      <td>1.003932</td>\n",
       "      <td>0.923984</td>\n",
       "      <td>0.974229</td>\n",
       "      <td>8.652482</td>\n",
       "    </tr>\n",
       "    <tr>\n",
       "      <th>10</th>\n",
       "      <td>PVC</td>\n",
       "      <td>1.38</td>\n",
       "      <td>1.3215</td>\n",
       "      <td>605</td>\n",
       "      <td>0.990850</td>\n",
       "      <td>1.138925</td>\n",
       "      <td>0.937090</td>\n",
       "      <td>1.022288</td>\n",
       "      <td>21.538462</td>\n",
       "    </tr>\n",
       "    <tr>\n",
       "      <th>11</th>\n",
       "      <td>Acetal</td>\n",
       "      <td>1.42</td>\n",
       "      <td>1.3545</td>\n",
       "      <td>671</td>\n",
       "      <td>0.989542</td>\n",
       "      <td>1.000000</td>\n",
       "      <td>0.946265</td>\n",
       "      <td>0.978602</td>\n",
       "      <td>5.678670</td>\n",
       "    </tr>\n",
       "    <tr>\n",
       "      <th>12</th>\n",
       "      <td>PVDF</td>\n",
       "      <td>1.77</td>\n",
       "      <td>1.6575</td>\n",
       "      <td>1283</td>\n",
       "      <td>0.980392</td>\n",
       "      <td>1.018349</td>\n",
       "      <td>0.885976</td>\n",
       "      <td>0.961572</td>\n",
       "      <td>14.940828</td>\n",
       "    </tr>\n",
       "    <tr>\n",
       "      <th>13</th>\n",
       "      <td>Bone</td>\n",
       "      <td>1.85</td>\n",
       "      <td>1.7303</td>\n",
       "      <td>1430</td>\n",
       "      <td>0.977778</td>\n",
       "      <td>1.076016</td>\n",
       "      <td>0.935780</td>\n",
       "      <td>0.996524</td>\n",
       "      <td>14.985994</td>\n",
       "    </tr>\n",
       "    <tr>\n",
       "      <th>14</th>\n",
       "      <td>PTFE</td>\n",
       "      <td>2.20</td>\n",
       "      <td>2.0329</td>\n",
       "      <td>2041</td>\n",
       "      <td>0.966013</td>\n",
       "      <td>1.034076</td>\n",
       "      <td>0.846658</td>\n",
       "      <td>0.948916</td>\n",
       "      <td>22.136223</td>\n",
       "    </tr>\n",
       "    <tr>\n",
       "      <th>15</th>\n",
       "      <td>Aluminium</td>\n",
       "      <td>2.70</td>\n",
       "      <td>2.4650</td>\n",
       "      <td>2913</td>\n",
       "      <td>0.947712</td>\n",
       "      <td>1.197903</td>\n",
       "      <td>0.833552</td>\n",
       "      <td>0.993056</td>\n",
       "      <td>43.710692</td>\n",
       "    </tr>\n",
       "    <tr>\n",
       "      <th>16</th>\n",
       "      <td>Titanium alloy</td>\n",
       "      <td>4.42</td>\n",
       "      <td>3.8126</td>\n",
       "      <td>5908</td>\n",
       "      <td>0.879739</td>\n",
       "      <td>1.300131</td>\n",
       "      <td>0.809961</td>\n",
       "      <td>0.996610</td>\n",
       "      <td>60.517799</td>\n",
       "    </tr>\n",
       "  </tbody>\n",
       "</table>\n",
       "</div>"
      ],
      "text/plain": [
       "       VOI Material  Mass density  Stp PWR  CT number       AAA    AXB Dw  \\\n",
       "0               Air          0.00   0.0073       -993  1.033987  1.048493   \n",
       "1              Lung          0.26   0.2699       -734  1.013072  1.023591   \n",
       "2    Adipose tissue          0.92   0.9421       -105  1.005229  0.979030   \n",
       "3             Water          1.00   1.0100          0  1.000000  1.000000   \n",
       "4             Epoxy          1.04   1.0389         38  1.000000  1.019659   \n",
       "5   Muscle skeletal          1.05   1.0483         48  1.000000  1.002621   \n",
       "6         Cartilage          1.10   1.0855        128  0.994771  1.007864   \n",
       "7              PMMA          1.19   1.1617        282  0.994771  0.992136   \n",
       "8             Radel          1.30   1.2548        470  0.994771  1.022280   \n",
       "9              PEEK          1.31   1.2633        487  0.994771  1.003932   \n",
       "10              PVC          1.38   1.3215        605  0.990850  1.138925   \n",
       "11           Acetal          1.42   1.3545        671  0.989542  1.000000   \n",
       "12             PVDF          1.77   1.6575       1283  0.980392  1.018349   \n",
       "13             Bone          1.85   1.7303       1430  0.977778  1.076016   \n",
       "14             PTFE          2.20   2.0329       2041  0.966013  1.034076   \n",
       "15        Aluminium          2.70   2.4650       2913  0.947712  1.197903   \n",
       "16   Titanium alloy          4.42   3.8126       5908  0.879739  1.300131   \n",
       "\n",
       "      AXB Dm      Mean  Max % error  \n",
       "0   0.908257  0.996912    15.440115  \n",
       "1   1.022280  1.019648     1.038346  \n",
       "2   0.998689  0.994316     2.675976  \n",
       "3   1.000000  1.000000     0.000000  \n",
       "4   0.944954  0.988204     7.905687  \n",
       "5   0.988204  0.996942     1.458886  \n",
       "6   0.982962  0.995199     2.533333  \n",
       "7   0.960682  0.982530     3.548494  \n",
       "8   0.929227  0.982093    10.014104  \n",
       "9   0.923984  0.974229     8.652482  \n",
       "10  0.937090  1.022288    21.538462  \n",
       "11  0.946265  0.978602     5.678670  \n",
       "12  0.885976  0.961572    14.940828  \n",
       "13  0.935780  0.996524    14.985994  \n",
       "14  0.846658  0.948916    22.136223  \n",
       "15  0.833552  0.993056    43.710692  \n",
       "16  0.809961  0.996610    60.517799  "
      ]
     },
     "execution_count": 3,
     "metadata": {},
     "output_type": "execute_result"
    }
   ],
   "source": [
    "df_table = pd.read_csv('ALL_DATA_8_3_2017.csv')\n",
    "df_table = df_table.fillna(value='-')   # swap the \n",
    "df_table"
   ]
  },
  {
   "cell_type": "code",
   "execution_count": 20,
   "metadata": {
    "collapsed": false
   },
   "outputs": [],
   "source": [
    "df_table = df_table[['VOI Material', 'Mass density', 'Stp PWR', 'CT number', 'AAA', 'AXB Dm', 'AXB Dw']]"
   ]
  },
  {
   "cell_type": "code",
   "execution_count": 21,
   "metadata": {
    "collapsed": false
   },
   "outputs": [
    {
     "name": "stdout",
     "output_type": "stream",
     "text": [
      "7\n"
     ]
    },
    {
     "data": {
      "text/plain": [
       "['VOI Material',\n",
       " 'Mass density',\n",
       " 'Stp PWR',\n",
       " 'CT number',\n",
       " 'AAA',\n",
       " 'AXB Dm',\n",
       " 'AXB Dw']"
      ]
     },
     "execution_count": 21,
     "metadata": {},
     "output_type": "execute_result"
    }
   ],
   "source": [
    "headers = list(df_table.columns.values)\n",
    "print(len(headers))\n",
    "headers  # get headers as these are no included when recast to matrix"
   ]
  },
  {
   "cell_type": "code",
   "execution_count": 22,
   "metadata": {
    "collapsed": false
   },
   "outputs": [
    {
     "data": {
      "text/plain": [
       "(7,)"
      ]
     },
     "execution_count": 22,
     "metadata": {},
     "output_type": "execute_result"
    }
   ],
   "source": [
    "headers = np.asarray(headers).T\n",
    "headers.shape"
   ]
  },
  {
   "cell_type": "code",
   "execution_count": 23,
   "metadata": {
    "collapsed": true
   },
   "outputs": [],
   "source": [
    "df_array = df_table.as_matrix()   # get table data as array"
   ]
  },
  {
   "cell_type": "code",
   "execution_count": 24,
   "metadata": {
    "collapsed": false
   },
   "outputs": [
    {
     "data": {
      "text/plain": [
       "(17, 7)"
      ]
     },
     "execution_count": 24,
     "metadata": {},
     "output_type": "execute_result"
    }
   ],
   "source": [
    "df_array.shape"
   ]
  },
  {
   "cell_type": "code",
   "execution_count": 25,
   "metadata": {
    "collapsed": false
   },
   "outputs": [
    {
     "data": {
      "text/plain": [
       "(18, 7)"
      ]
     },
     "execution_count": 25,
     "metadata": {},
     "output_type": "execute_result"
    }
   ],
   "source": [
    "df_array = np.insert(df_array, 0,headers, axis=0)   # re insert the headers\n",
    "df_array.shape"
   ]
  },
  {
   "cell_type": "code",
   "execution_count": 26,
   "metadata": {
    "collapsed": false
   },
   "outputs": [],
   "source": [
    "#df_array"
   ]
  },
  {
   "cell_type": "code",
   "execution_count": 27,
   "metadata": {
    "collapsed": false
   },
   "outputs": [
    {
     "data": {
      "text/html": [
       "<table border=\"1\" cellpadding=\"3\" cellspacing=\"0\"  style=\"border:1px solid black;border-collapse:collapse;\"><tr><td  style=\"background-color:LightGray;text-align:center;\"><b>VOI&nbspMaterial</b></td><td  style=\"background-color:LightGray;text-align:center;\"><b>Mass&nbspdensity</b></td><td  style=\"background-color:LightGray;text-align:center;\"><b>Stp&nbspPWR</b></td><td  style=\"background-color:LightGray;text-align:center;\"><b>CT&nbspnumber</b></td><td  style=\"background-color:LightGray;text-align:center;\"><b>AAA</b></td><td  style=\"background-color:LightGray;text-align:center;\"><b>AXB&nbspDm</b></td><td  style=\"background-color:LightGray;text-align:center;\"><b>AXB&nbspDw</b></td></tr><tr><td  style=\"background-color:Ivory;text-align:center;\">Air</td><td  style=\"background-color:Ivory;text-align:center;\">0.00</td><td  style=\"background-color:Ivory;text-align:center;\">0.01</td><td  style=\"background-color:Ivory;text-align:center;\">-993</td><td  style=\"background-color:Ivory;text-align:center;\">1.03</td><td  style=\"background-color:Ivory;text-align:center;\">0.91</td><td  style=\"background-color:Ivory;text-align:center;\">1.05</td></tr><tr><td  style=\"background-color:AliceBlue;text-align:center;\">Lung</td><td  style=\"background-color:AliceBlue;text-align:center;\">0.26</td><td  style=\"background-color:AliceBlue;text-align:center;\">0.27</td><td  style=\"background-color:AliceBlue;text-align:center;\">-734</td><td  style=\"background-color:AliceBlue;text-align:center;\">1.01</td><td  style=\"background-color:AliceBlue;text-align:center;\">1.02</td><td  style=\"background-color:AliceBlue;text-align:center;\">1.02</td></tr><tr><td  style=\"background-color:Ivory;text-align:center;\">Adipose&nbsptissue</td><td  style=\"background-color:Ivory;text-align:center;\">0.92</td><td  style=\"background-color:Ivory;text-align:center;\">0.94</td><td  style=\"background-color:Ivory;text-align:center;\">-105</td><td  style=\"background-color:Ivory;text-align:center;\">1.01</td><td  style=\"background-color:Ivory;text-align:center;\">1.00</td><td  style=\"background-color:Ivory;text-align:center;\">0.98</td></tr><tr><td  style=\"background-color:AliceBlue;text-align:center;\">Water</td><td  style=\"background-color:AliceBlue;text-align:center;\">1.00</td><td  style=\"background-color:AliceBlue;text-align:center;\">1.01</td><td  style=\"background-color:AliceBlue;text-align:center;\">0</td><td  style=\"background-color:AliceBlue;text-align:center;\">1.00</td><td  style=\"background-color:AliceBlue;text-align:center;\">1.00</td><td  style=\"background-color:AliceBlue;text-align:center;\">1.00</td></tr><tr><td  style=\"background-color:Ivory;text-align:center;\">Epoxy</td><td  style=\"background-color:Ivory;text-align:center;\">1.04</td><td  style=\"background-color:Ivory;text-align:center;\">1.04</td><td  style=\"background-color:Ivory;text-align:center;\">38</td><td  style=\"background-color:Ivory;text-align:center;\">1.00</td><td  style=\"background-color:Ivory;text-align:center;\">0.94</td><td  style=\"background-color:Ivory;text-align:center;\">1.02</td></tr><tr><td  style=\"background-color:AliceBlue;text-align:center;\">Muscle&nbspskeletal</td><td  style=\"background-color:AliceBlue;text-align:center;\">1.05</td><td  style=\"background-color:AliceBlue;text-align:center;\">1.05</td><td  style=\"background-color:AliceBlue;text-align:center;\">48</td><td  style=\"background-color:AliceBlue;text-align:center;\">1.00</td><td  style=\"background-color:AliceBlue;text-align:center;\">0.99</td><td  style=\"background-color:AliceBlue;text-align:center;\">1.00</td></tr><tr><td  style=\"background-color:Ivory;text-align:center;\">Cartilage</td><td  style=\"background-color:Ivory;text-align:center;\">1.10</td><td  style=\"background-color:Ivory;text-align:center;\">1.09</td><td  style=\"background-color:Ivory;text-align:center;\">128</td><td  style=\"background-color:Ivory;text-align:center;\">0.99</td><td  style=\"background-color:Ivory;text-align:center;\">0.98</td><td  style=\"background-color:Ivory;text-align:center;\">1.01</td></tr><tr><td  style=\"background-color:AliceBlue;text-align:center;\">PMMA</td><td  style=\"background-color:AliceBlue;text-align:center;\">1.19</td><td  style=\"background-color:AliceBlue;text-align:center;\">1.16</td><td  style=\"background-color:AliceBlue;text-align:center;\">282</td><td  style=\"background-color:AliceBlue;text-align:center;\">0.99</td><td  style=\"background-color:AliceBlue;text-align:center;\">0.96</td><td  style=\"background-color:AliceBlue;text-align:center;\">0.99</td></tr><tr><td  style=\"background-color:Ivory;text-align:center;\">Radel</td><td  style=\"background-color:Ivory;text-align:center;\">1.30</td><td  style=\"background-color:Ivory;text-align:center;\">1.25</td><td  style=\"background-color:Ivory;text-align:center;\">470</td><td  style=\"background-color:Ivory;text-align:center;\">0.99</td><td  style=\"background-color:Ivory;text-align:center;\">0.93</td><td  style=\"background-color:Ivory;text-align:center;\">1.02</td></tr><tr><td  style=\"background-color:AliceBlue;text-align:center;\">PEEK</td><td  style=\"background-color:AliceBlue;text-align:center;\">1.31</td><td  style=\"background-color:AliceBlue;text-align:center;\">1.26</td><td  style=\"background-color:AliceBlue;text-align:center;\">487</td><td  style=\"background-color:AliceBlue;text-align:center;\">0.99</td><td  style=\"background-color:AliceBlue;text-align:center;\">0.92</td><td  style=\"background-color:AliceBlue;text-align:center;\">1.00</td></tr><tr><td  style=\"background-color:Ivory;text-align:center;\">PVC</td><td  style=\"background-color:Ivory;text-align:center;\">1.38</td><td  style=\"background-color:Ivory;text-align:center;\">1.32</td><td  style=\"background-color:Ivory;text-align:center;\">605</td><td  style=\"background-color:Ivory;text-align:center;\">0.99</td><td  style=\"background-color:Ivory;text-align:center;\">0.94</td><td  style=\"background-color:Ivory;text-align:center;\">1.14</td></tr><tr><td  style=\"background-color:AliceBlue;text-align:center;\">Acetal</td><td  style=\"background-color:AliceBlue;text-align:center;\">1.42</td><td  style=\"background-color:AliceBlue;text-align:center;\">1.35</td><td  style=\"background-color:AliceBlue;text-align:center;\">671</td><td  style=\"background-color:AliceBlue;text-align:center;\">0.99</td><td  style=\"background-color:AliceBlue;text-align:center;\">0.95</td><td  style=\"background-color:AliceBlue;text-align:center;\">1.00</td></tr><tr><td  style=\"background-color:Ivory;text-align:center;\">PVDF</td><td  style=\"background-color:Ivory;text-align:center;\">1.77</td><td  style=\"background-color:Ivory;text-align:center;\">1.66</td><td  style=\"background-color:Ivory;text-align:center;\">1283</td><td  style=\"background-color:Ivory;text-align:center;\">0.98</td><td  style=\"background-color:Ivory;text-align:center;\">0.89</td><td  style=\"background-color:Ivory;text-align:center;\">1.02</td></tr><tr><td  style=\"background-color:AliceBlue;text-align:center;\">Bone</td><td  style=\"background-color:AliceBlue;text-align:center;\">1.85</td><td  style=\"background-color:AliceBlue;text-align:center;\">1.73</td><td  style=\"background-color:AliceBlue;text-align:center;\">1430</td><td  style=\"background-color:AliceBlue;text-align:center;\">0.98</td><td  style=\"background-color:AliceBlue;text-align:center;\">0.94</td><td  style=\"background-color:AliceBlue;text-align:center;\">1.08</td></tr><tr><td  style=\"background-color:Ivory;text-align:center;\">PTFE</td><td  style=\"background-color:Ivory;text-align:center;\">2.20</td><td  style=\"background-color:Ivory;text-align:center;\">2.03</td><td  style=\"background-color:Ivory;text-align:center;\">2041</td><td  style=\"background-color:Ivory;text-align:center;\">0.97</td><td  style=\"background-color:Ivory;text-align:center;\">0.85</td><td  style=\"background-color:Ivory;text-align:center;\">1.03</td></tr><tr><td  style=\"background-color:AliceBlue;text-align:center;\">Aluminium</td><td  style=\"background-color:AliceBlue;text-align:center;\">2.70</td><td  style=\"background-color:AliceBlue;text-align:center;\">2.46</td><td  style=\"background-color:AliceBlue;text-align:center;\">2913</td><td  style=\"background-color:AliceBlue;text-align:center;\">0.95</td><td  style=\"background-color:AliceBlue;text-align:center;\">0.83</td><td  style=\"background-color:AliceBlue;text-align:center;\">1.20</td></tr><tr><td  style=\"background-color:Ivory;text-align:center;\">Titanium&nbspalloy</td><td  style=\"background-color:Ivory;text-align:center;\">4.42</td><td  style=\"background-color:Ivory;text-align:center;\">3.81</td><td  style=\"background-color:Ivory;text-align:center;\">5908</td><td  style=\"background-color:Ivory;text-align:center;\">0.88</td><td  style=\"background-color:Ivory;text-align:center;\">0.81</td><td  style=\"background-color:Ivory;text-align:center;\">1.30</td></tr></table>"
      ],
      "text/plain": [
       "<ipy_table.IpyTable at 0x6fd5650>"
      ]
     },
     "execution_count": 27,
     "metadata": {},
     "output_type": "execute_result"
    }
   ],
   "source": [
    "make_table(df_array)\n",
    "apply_theme('basic')\n",
    "\n",
    "#set_global_style(float_format='%0.3E') # experiment with \n",
    "set_global_style(float_format=\"%.2f\")\n",
    "set_global_style(align='center')"
   ]
  },
  {
   "cell_type": "code",
   "execution_count": 76,
   "metadata": {
    "collapsed": true
   },
   "outputs": [],
   "source": [
    "?set_cell_style"
   ]
  },
  {
   "cell_type": "code",
   "execution_count": null,
   "metadata": {
    "collapsed": true
   },
   "outputs": [],
   "source": []
  }
 ],
 "metadata": {
  "anaconda-cloud": {},
  "kernelspec": {
   "display_name": "Python [conda env:dicompyler2_7]",
   "language": "python",
   "name": "conda-env-dicompyler2_7-py"
  },
  "language_info": {
   "codemirror_mode": {
    "name": "ipython",
    "version": 2
   },
   "file_extension": ".py",
   "mimetype": "text/x-python",
   "name": "python",
   "nbconvert_exporter": "python",
   "pygments_lexer": "ipython2",
   "version": "2.7.12"
  }
 },
 "nbformat": 4,
 "nbformat_minor": 1
}
