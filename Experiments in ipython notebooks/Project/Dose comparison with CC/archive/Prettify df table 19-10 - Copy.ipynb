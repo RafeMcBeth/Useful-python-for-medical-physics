{
 "cells": [
  {
   "cell_type": "markdown",
   "metadata": {},
   "source": [
    "python 2_7\n",
    "\n",
    "Use http://nbviewer.jupyter.org/github/epmoyer/ipy_table/blob/master/ipy_table-Introduction.ipynb\n",
    "\n",
    "http://nbviewer.jupyter.org/github/epmoyer/ipy_table/blob/master/ipy_table-Reference.ipynb"
   ]
  },
  {
   "cell_type": "code",
   "execution_count": 8,
   "metadata": {
    "collapsed": false
   },
   "outputs": [],
   "source": [
    "from ipy_table import *\n",
    "import numpy as np\n",
    "import pandas as pd"
   ]
  },
  {
   "cell_type": "code",
   "execution_count": 3,
   "metadata": {
    "collapsed": false
   },
   "outputs": [
    {
     "name": "stdout",
     "output_type": "stream",
     "text": [
      " Volume in drive C is WINDOWS\n",
      " Volume Serial Number is AE83-8D62\n",
      "\n",
      " Directory of C:\\Users\\RCole02.ROYALSURREY\\Desktop\\GitHub\\Useful-python-for-medical-physics\\Experiments in ipython notebooks\\Project\\Dose comparison with CC\n",
      "\n",
      "19/10/2016  14:40    <DIR>          .\n",
      "19/10/2016  14:40    <DIR>          ..\n",
      "19/10/2016  14:40    <DIR>          .ipynb_checkpoints\n",
      "19/10/2016  14:11             1,934 ALL_DATA_19_10_2016.csv\n",
      "19/10/2016  14:30           392,301 Dose comparison 19 - 10 - 2016.ipynb\n",
      "19/10/2016  10:15               941 Eclipse_data_19_10.csv\n",
      "19/10/2016  09:40               139 EGS_data_19_10.csv\n",
      "19/10/2016  14:18         1,528,065 Fig1.png\n",
      "19/10/2016  09:39               111 PINNACLE_TRUEBEAM_CCC_data_19_10.csv\n",
      "19/10/2016  14:39                72 Prettify df table .ipynb\n",
      "               7 File(s)      1,923,563 bytes\n",
      "               3 Dir(s)  372,741,656,576 bytes free\n"
     ]
    }
   ],
   "source": [
    "ls"
   ]
  },
  {
   "cell_type": "code",
   "execution_count": 64,
   "metadata": {
    "collapsed": false
   },
   "outputs": [
    {
     "data": {
      "text/html": [
       "<div>\n",
       "<table border=\"1\" class=\"dataframe\">\n",
       "  <thead>\n",
       "    <tr style=\"text-align: right;\">\n",
       "      <th></th>\n",
       "      <th>Mass density</th>\n",
       "      <th>VOI Material</th>\n",
       "      <th>AAA</th>\n",
       "      <th>AXB Dw</th>\n",
       "      <th>AXB Dm</th>\n",
       "      <th>CCC</th>\n",
       "      <th>EGS</th>\n",
       "      <th>CT number</th>\n",
       "      <th>Elect density</th>\n",
       "      <th>Proton Stp PWR</th>\n",
       "    </tr>\n",
       "  </thead>\n",
       "  <tbody>\n",
       "    <tr>\n",
       "      <th>0</th>\n",
       "      <td>0.000</td>\n",
       "      <td>-</td>\n",
       "      <td>-</td>\n",
       "      <td>-</td>\n",
       "      <td>-</td>\n",
       "      <td>1.0211</td>\n",
       "      <td>0.966667</td>\n",
       "      <td>-</td>\n",
       "      <td>-</td>\n",
       "      <td>-</td>\n",
       "    </tr>\n",
       "    <tr>\n",
       "      <th>1</th>\n",
       "      <td>0.001</td>\n",
       "      <td>Air</td>\n",
       "      <td>1.03399</td>\n",
       "      <td>1.04849</td>\n",
       "      <td>0.908257</td>\n",
       "      <td>-</td>\n",
       "      <td>-</td>\n",
       "      <td>-993</td>\n",
       "      <td>0.0072</td>\n",
       "      <td>0.0073</td>\n",
       "    </tr>\n",
       "    <tr>\n",
       "      <th>2</th>\n",
       "      <td>0.260</td>\n",
       "      <td>Lung</td>\n",
       "      <td>1.01307</td>\n",
       "      <td>1.02359</td>\n",
       "      <td>1.02228</td>\n",
       "      <td>-</td>\n",
       "      <td>-</td>\n",
       "      <td>-734</td>\n",
       "      <td>0.266</td>\n",
       "      <td>0.2699</td>\n",
       "    </tr>\n",
       "    <tr>\n",
       "      <th>3</th>\n",
       "      <td>0.500</td>\n",
       "      <td>-</td>\n",
       "      <td>-</td>\n",
       "      <td>-</td>\n",
       "      <td>-</td>\n",
       "      <td>1.01547</td>\n",
       "      <td>1.02</td>\n",
       "      <td>-</td>\n",
       "      <td>-</td>\n",
       "      <td>-</td>\n",
       "    </tr>\n",
       "    <tr>\n",
       "      <th>4</th>\n",
       "      <td>0.920</td>\n",
       "      <td>Adipose tissue</td>\n",
       "      <td>1.00523</td>\n",
       "      <td>0.97903</td>\n",
       "      <td>0.998689</td>\n",
       "      <td>-</td>\n",
       "      <td>-</td>\n",
       "      <td>-105</td>\n",
       "      <td>0.8954</td>\n",
       "      <td>0.9421</td>\n",
       "    </tr>\n",
       "    <tr>\n",
       "      <th>5</th>\n",
       "      <td>1.000</td>\n",
       "      <td>Water</td>\n",
       "      <td>1</td>\n",
       "      <td>1</td>\n",
       "      <td>1</td>\n",
       "      <td>1</td>\n",
       "      <td>1</td>\n",
       "      <td>0</td>\n",
       "      <td>1</td>\n",
       "      <td>1.01</td>\n",
       "    </tr>\n",
       "    <tr>\n",
       "      <th>6</th>\n",
       "      <td>1.040</td>\n",
       "      <td>Epoxy</td>\n",
       "      <td>1</td>\n",
       "      <td>1.01966</td>\n",
       "      <td>0.944954</td>\n",
       "      <td>-</td>\n",
       "      <td>-</td>\n",
       "      <td>38</td>\n",
       "      <td>1.0384</td>\n",
       "      <td>1.0389</td>\n",
       "    </tr>\n",
       "    <tr>\n",
       "      <th>7</th>\n",
       "      <td>1.050</td>\n",
       "      <td>Muscle skeletal</td>\n",
       "      <td>1</td>\n",
       "      <td>1.00262</td>\n",
       "      <td>0.988204</td>\n",
       "      <td>-</td>\n",
       "      <td>-</td>\n",
       "      <td>48</td>\n",
       "      <td>1.048</td>\n",
       "      <td>1.0483</td>\n",
       "    </tr>\n",
       "    <tr>\n",
       "      <th>8</th>\n",
       "      <td>1.100</td>\n",
       "      <td>Cartilage</td>\n",
       "      <td>0.994771</td>\n",
       "      <td>1.00786</td>\n",
       "      <td>0.982962</td>\n",
       "      <td>-</td>\n",
       "      <td>-</td>\n",
       "      <td>128</td>\n",
       "      <td>1.128</td>\n",
       "      <td>1.0855</td>\n",
       "    </tr>\n",
       "    <tr>\n",
       "      <th>9</th>\n",
       "      <td>1.190</td>\n",
       "      <td>PMMA</td>\n",
       "      <td>0.994771</td>\n",
       "      <td>0.992136</td>\n",
       "      <td>0.960682</td>\n",
       "      <td>-</td>\n",
       "      <td>-</td>\n",
       "      <td>282</td>\n",
       "      <td>1.2103</td>\n",
       "      <td>1.1617</td>\n",
       "    </tr>\n",
       "    <tr>\n",
       "      <th>10</th>\n",
       "      <td>1.300</td>\n",
       "      <td>Radel</td>\n",
       "      <td>0.994771</td>\n",
       "      <td>1.02228</td>\n",
       "      <td>0.929227</td>\n",
       "      <td>-</td>\n",
       "      <td>-</td>\n",
       "      <td>470</td>\n",
       "      <td>1.3209</td>\n",
       "      <td>1.2548</td>\n",
       "    </tr>\n",
       "    <tr>\n",
       "      <th>11</th>\n",
       "      <td>1.310</td>\n",
       "      <td>PEEK</td>\n",
       "      <td>0.994771</td>\n",
       "      <td>1.00393</td>\n",
       "      <td>0.923984</td>\n",
       "      <td>-</td>\n",
       "      <td>-</td>\n",
       "      <td>487</td>\n",
       "      <td>1.3309</td>\n",
       "      <td>1.2633</td>\n",
       "    </tr>\n",
       "    <tr>\n",
       "      <th>12</th>\n",
       "      <td>1.380</td>\n",
       "      <td>PVC</td>\n",
       "      <td>0.99085</td>\n",
       "      <td>1.13893</td>\n",
       "      <td>0.93709</td>\n",
       "      <td>-</td>\n",
       "      <td>-</td>\n",
       "      <td>605</td>\n",
       "      <td>1.3998</td>\n",
       "      <td>1.3215</td>\n",
       "    </tr>\n",
       "    <tr>\n",
       "      <th>13</th>\n",
       "      <td>1.420</td>\n",
       "      <td>Acetal</td>\n",
       "      <td>0.989542</td>\n",
       "      <td>1</td>\n",
       "      <td>0.946265</td>\n",
       "      <td>-</td>\n",
       "      <td>-</td>\n",
       "      <td>671</td>\n",
       "      <td>1.4389</td>\n",
       "      <td>1.3545</td>\n",
       "    </tr>\n",
       "    <tr>\n",
       "      <th>14</th>\n",
       "      <td>1.500</td>\n",
       "      <td>-</td>\n",
       "      <td>-</td>\n",
       "      <td>-</td>\n",
       "      <td>-</td>\n",
       "      <td>0.967651</td>\n",
       "      <td>0.973333</td>\n",
       "      <td>-</td>\n",
       "      <td>-</td>\n",
       "      <td>-</td>\n",
       "    </tr>\n",
       "    <tr>\n",
       "      <th>15</th>\n",
       "      <td>1.770</td>\n",
       "      <td>PVDF</td>\n",
       "      <td>0.980392</td>\n",
       "      <td>1.01835</td>\n",
       "      <td>0.885976</td>\n",
       "      <td>-</td>\n",
       "      <td>-</td>\n",
       "      <td>1283</td>\n",
       "      <td>1.7977</td>\n",
       "      <td>1.6575</td>\n",
       "    </tr>\n",
       "    <tr>\n",
       "      <th>16</th>\n",
       "      <td>1.850</td>\n",
       "      <td>Bone</td>\n",
       "      <td>0.977778</td>\n",
       "      <td>1.07602</td>\n",
       "      <td>0.93578</td>\n",
       "      <td>-</td>\n",
       "      <td>-</td>\n",
       "      <td>1430</td>\n",
       "      <td>1.8839</td>\n",
       "      <td>1.7303</td>\n",
       "    </tr>\n",
       "    <tr>\n",
       "      <th>17</th>\n",
       "      <td>2.000</td>\n",
       "      <td>-</td>\n",
       "      <td>-</td>\n",
       "      <td>-</td>\n",
       "      <td>-</td>\n",
       "      <td>0.92827</td>\n",
       "      <td>0.946667</td>\n",
       "      <td>-</td>\n",
       "      <td>-</td>\n",
       "      <td>-</td>\n",
       "    </tr>\n",
       "    <tr>\n",
       "      <th>18</th>\n",
       "      <td>2.200</td>\n",
       "      <td>PTFE</td>\n",
       "      <td>0.966013</td>\n",
       "      <td>1.03408</td>\n",
       "      <td>0.846658</td>\n",
       "      <td>-</td>\n",
       "      <td>-</td>\n",
       "      <td>2041</td>\n",
       "      <td>2.2421</td>\n",
       "      <td>2.0329</td>\n",
       "    </tr>\n",
       "    <tr>\n",
       "      <th>19</th>\n",
       "      <td>2.500</td>\n",
       "      <td>-</td>\n",
       "      <td>-</td>\n",
       "      <td>-</td>\n",
       "      <td>-</td>\n",
       "      <td>0.881857</td>\n",
       "      <td>0.92</td>\n",
       "      <td>-</td>\n",
       "      <td>-</td>\n",
       "      <td>-</td>\n",
       "    </tr>\n",
       "    <tr>\n",
       "      <th>20</th>\n",
       "      <td>2.700</td>\n",
       "      <td>Aluminium</td>\n",
       "      <td>0.947712</td>\n",
       "      <td>1.1979</td>\n",
       "      <td>0.833552</td>\n",
       "      <td>-</td>\n",
       "      <td>-</td>\n",
       "      <td>2913</td>\n",
       "      <td>2.7535</td>\n",
       "      <td>2.465</td>\n",
       "    </tr>\n",
       "    <tr>\n",
       "      <th>21</th>\n",
       "      <td>3.000</td>\n",
       "      <td>-</td>\n",
       "      <td>-</td>\n",
       "      <td>-</td>\n",
       "      <td>-</td>\n",
       "      <td>0.853727</td>\n",
       "      <td>0.9</td>\n",
       "      <td>-</td>\n",
       "      <td>-</td>\n",
       "      <td>-</td>\n",
       "    </tr>\n",
       "    <tr>\n",
       "      <th>22</th>\n",
       "      <td>3.500</td>\n",
       "      <td>-</td>\n",
       "      <td>-</td>\n",
       "      <td>-</td>\n",
       "      <td>-</td>\n",
       "      <td>0.838256</td>\n",
       "      <td>0.873333</td>\n",
       "      <td>-</td>\n",
       "      <td>-</td>\n",
       "      <td>-</td>\n",
       "    </tr>\n",
       "    <tr>\n",
       "      <th>23</th>\n",
       "      <td>4.000</td>\n",
       "      <td>-</td>\n",
       "      <td>-</td>\n",
       "      <td>-</td>\n",
       "      <td>-</td>\n",
       "      <td>0.822785</td>\n",
       "      <td>0.853333</td>\n",
       "      <td>-</td>\n",
       "      <td>-</td>\n",
       "      <td>-</td>\n",
       "    </tr>\n",
       "    <tr>\n",
       "      <th>24</th>\n",
       "      <td>4.420</td>\n",
       "      <td>Titanium alloy</td>\n",
       "      <td>0.879739</td>\n",
       "      <td>1.30013</td>\n",
       "      <td>0.809961</td>\n",
       "      <td>-</td>\n",
       "      <td>-</td>\n",
       "      <td>5908</td>\n",
       "      <td>4.5088</td>\n",
       "      <td>3.8126</td>\n",
       "    </tr>\n",
       "  </tbody>\n",
       "</table>\n",
       "</div>"
      ],
      "text/plain": [
       "    Mass density     VOI Material       AAA    AXB Dw    AXB Dm       CCC  \\\n",
       "0          0.000                -         -         -         -    1.0211   \n",
       "1          0.001              Air   1.03399   1.04849  0.908257         -   \n",
       "2          0.260             Lung   1.01307   1.02359   1.02228         -   \n",
       "3          0.500                -         -         -         -   1.01547   \n",
       "4          0.920   Adipose tissue   1.00523   0.97903  0.998689         -   \n",
       "5          1.000            Water         1         1         1         1   \n",
       "6          1.040            Epoxy         1   1.01966  0.944954         -   \n",
       "7          1.050  Muscle skeletal         1   1.00262  0.988204         -   \n",
       "8          1.100        Cartilage  0.994771   1.00786  0.982962         -   \n",
       "9          1.190             PMMA  0.994771  0.992136  0.960682         -   \n",
       "10         1.300            Radel  0.994771   1.02228  0.929227         -   \n",
       "11         1.310             PEEK  0.994771   1.00393  0.923984         -   \n",
       "12         1.380              PVC   0.99085   1.13893   0.93709         -   \n",
       "13         1.420           Acetal  0.989542         1  0.946265         -   \n",
       "14         1.500                -         -         -         -  0.967651   \n",
       "15         1.770             PVDF  0.980392   1.01835  0.885976         -   \n",
       "16         1.850             Bone  0.977778   1.07602   0.93578         -   \n",
       "17         2.000                -         -         -         -   0.92827   \n",
       "18         2.200             PTFE  0.966013   1.03408  0.846658         -   \n",
       "19         2.500                -         -         -         -  0.881857   \n",
       "20         2.700        Aluminium  0.947712    1.1979  0.833552         -   \n",
       "21         3.000                -         -         -         -  0.853727   \n",
       "22         3.500                -         -         -         -  0.838256   \n",
       "23         4.000                -         -         -         -  0.822785   \n",
       "24         4.420   Titanium alloy  0.879739   1.30013  0.809961         -   \n",
       "\n",
       "         EGS CT number Elect density Proton Stp PWR  \n",
       "0   0.966667         -             -              -  \n",
       "1          -      -993        0.0072         0.0073  \n",
       "2          -      -734         0.266         0.2699  \n",
       "3       1.02         -             -              -  \n",
       "4          -      -105        0.8954         0.9421  \n",
       "5          1         0             1           1.01  \n",
       "6          -        38        1.0384         1.0389  \n",
       "7          -        48         1.048         1.0483  \n",
       "8          -       128         1.128         1.0855  \n",
       "9          -       282        1.2103         1.1617  \n",
       "10         -       470        1.3209         1.2548  \n",
       "11         -       487        1.3309         1.2633  \n",
       "12         -       605        1.3998         1.3215  \n",
       "13         -       671        1.4389         1.3545  \n",
       "14  0.973333         -             -              -  \n",
       "15         -      1283        1.7977         1.6575  \n",
       "16         -      1430        1.8839         1.7303  \n",
       "17  0.946667         -             -              -  \n",
       "18         -      2041        2.2421         2.0329  \n",
       "19      0.92         -             -              -  \n",
       "20         -      2913        2.7535          2.465  \n",
       "21       0.9         -             -              -  \n",
       "22  0.873333         -             -              -  \n",
       "23  0.853333         -             -              -  \n",
       "24         -      5908        4.5088         3.8126  "
      ]
     },
     "execution_count": 64,
     "metadata": {},
     "output_type": "execute_result"
    }
   ],
   "source": [
    "df_table = pd.read_csv('ALL_DATA_19_10_2016.csv')\n",
    "df_table = df_table.fillna(value='-')   # swap the \n",
    "df_table"
   ]
  },
  {
   "cell_type": "code",
   "execution_count": 65,
   "metadata": {
    "collapsed": false
   },
   "outputs": [
    {
     "name": "stdout",
     "output_type": "stream",
     "text": [
      "10\n"
     ]
    },
    {
     "data": {
      "text/plain": [
       "['Mass density',\n",
       " 'VOI Material',\n",
       " 'AAA',\n",
       " 'AXB Dw',\n",
       " 'AXB Dm',\n",
       " 'CCC',\n",
       " 'EGS',\n",
       " 'CT number',\n",
       " 'Elect density',\n",
       " 'Proton Stp PWR']"
      ]
     },
     "execution_count": 65,
     "metadata": {},
     "output_type": "execute_result"
    }
   ],
   "source": [
    "headers = list(df_table.columns.values)\n",
    "print(len(headers))\n",
    "headers  # get headers as these are no included when recast to matrix"
   ]
  },
  {
   "cell_type": "code",
   "execution_count": 66,
   "metadata": {
    "collapsed": false
   },
   "outputs": [
    {
     "data": {
      "text/plain": [
       "(10,)"
      ]
     },
     "execution_count": 66,
     "metadata": {},
     "output_type": "execute_result"
    }
   ],
   "source": [
    "headers = np.asarray(headers).T\n",
    "headers.shape"
   ]
  },
  {
   "cell_type": "code",
   "execution_count": 67,
   "metadata": {
    "collapsed": true
   },
   "outputs": [],
   "source": [
    "df_array = df_table.as_matrix()   # get table data as array"
   ]
  },
  {
   "cell_type": "code",
   "execution_count": 68,
   "metadata": {
    "collapsed": false
   },
   "outputs": [
    {
     "data": {
      "text/plain": [
       "(25, 10)"
      ]
     },
     "execution_count": 68,
     "metadata": {},
     "output_type": "execute_result"
    }
   ],
   "source": [
    "df_array.shape"
   ]
  },
  {
   "cell_type": "code",
   "execution_count": 69,
   "metadata": {
    "collapsed": false
   },
   "outputs": [
    {
     "data": {
      "text/plain": [
       "(26, 10)"
      ]
     },
     "execution_count": 69,
     "metadata": {},
     "output_type": "execute_result"
    }
   ],
   "source": [
    "df_array = np.insert(df_array, 0,headers, axis=0)   # re insert the headers\n",
    "df_array.shape"
   ]
  },
  {
   "cell_type": "code",
   "execution_count": 70,
   "metadata": {
    "collapsed": false
   },
   "outputs": [],
   "source": [
    "#df_array"
   ]
  },
  {
   "cell_type": "code",
   "execution_count": 79,
   "metadata": {
    "collapsed": false
   },
   "outputs": [
    {
     "data": {
      "text/html": [
       "<table border=\"1\" cellpadding=\"3\" cellspacing=\"0\"  style=\"border:1px solid black;border-collapse:collapse;\"><tr><td  style=\"background-color:LightGray;text-align:center;\"><b>Mass&nbspdensity</b></td><td  style=\"background-color:LightGray;text-align:center;\"><b>VOI&nbspMaterial</b></td><td  style=\"background-color:LightGray;text-align:center;\"><b>AAA</b></td><td  style=\"background-color:LightGray;text-align:center;\"><b>AXB&nbspDw</b></td><td  style=\"background-color:LightGray;text-align:center;\"><b>AXB&nbspDm</b></td><td  style=\"background-color:LightGray;text-align:center;\"><b>CCC</b></td><td  style=\"background-color:LightGray;text-align:center;\"><b>EGS</b></td><td  style=\"background-color:LightGray;text-align:center;\"><b>CT&nbspnumber</b></td><td  style=\"background-color:LightGray;text-align:center;\"><b>Elect&nbspdensity</b></td><td  style=\"background-color:LightGray;text-align:center;\"><b>Proton&nbspStp&nbspPWR</b></td></tr><tr><td  style=\"background-color:Ivory;text-align:center;\">0.00</td><td  style=\"background-color:Ivory;text-align:center;\">-</td><td  style=\"background-color:Ivory;text-align:center;\">-</td><td  style=\"background-color:Ivory;text-align:center;\">-</td><td  style=\"background-color:Ivory;text-align:center;\">-</td><td  style=\"background-color:Ivory;text-align:center;\">1.02</td><td  style=\"background-color:Ivory;text-align:center;\">0.97</td><td  style=\"background-color:Ivory;text-align:center;\">-</td><td  style=\"background-color:Ivory;text-align:center;\">-</td><td  style=\"background-color:Ivory;text-align:center;\">-</td></tr><tr><td  style=\"background-color:AliceBlue;text-align:center;\">0.00</td><td  style=\"background-color:AliceBlue;text-align:center;\">Air</td><td  style=\"background-color:AliceBlue;text-align:center;\">1.03</td><td  style=\"background-color:AliceBlue;text-align:center;\">1.05</td><td  style=\"background-color:AliceBlue;text-align:center;\">0.91</td><td  style=\"background-color:AliceBlue;text-align:center;\">-</td><td  style=\"background-color:AliceBlue;text-align:center;\">-</td><td  style=\"background-color:AliceBlue;text-align:center;\">-993.00</td><td  style=\"background-color:AliceBlue;text-align:center;\">0.01</td><td  style=\"background-color:AliceBlue;text-align:center;\">0.01</td></tr><tr><td  style=\"background-color:Ivory;text-align:center;\">0.26</td><td  style=\"background-color:Ivory;text-align:center;\">Lung</td><td  style=\"background-color:Ivory;text-align:center;\">1.01</td><td  style=\"background-color:Ivory;text-align:center;\">1.02</td><td  style=\"background-color:Ivory;text-align:center;\">1.02</td><td  style=\"background-color:Ivory;text-align:center;\">-</td><td  style=\"background-color:Ivory;text-align:center;\">-</td><td  style=\"background-color:Ivory;text-align:center;\">-734.00</td><td  style=\"background-color:Ivory;text-align:center;\">0.27</td><td  style=\"background-color:Ivory;text-align:center;\">0.27</td></tr><tr><td  style=\"background-color:AliceBlue;text-align:center;\">0.50</td><td  style=\"background-color:AliceBlue;text-align:center;\">-</td><td  style=\"background-color:AliceBlue;text-align:center;\">-</td><td  style=\"background-color:AliceBlue;text-align:center;\">-</td><td  style=\"background-color:AliceBlue;text-align:center;\">-</td><td  style=\"background-color:AliceBlue;text-align:center;\">1.02</td><td  style=\"background-color:AliceBlue;text-align:center;\">1.02</td><td  style=\"background-color:AliceBlue;text-align:center;\">-</td><td  style=\"background-color:AliceBlue;text-align:center;\">-</td><td  style=\"background-color:AliceBlue;text-align:center;\">-</td></tr><tr><td  style=\"background-color:Ivory;text-align:center;\">0.92</td><td  style=\"background-color:Ivory;text-align:center;\">Adipose&nbsptissue</td><td  style=\"background-color:Ivory;text-align:center;\">1.01</td><td  style=\"background-color:Ivory;text-align:center;\">0.98</td><td  style=\"background-color:Ivory;text-align:center;\">1.00</td><td  style=\"background-color:Ivory;text-align:center;\">-</td><td  style=\"background-color:Ivory;text-align:center;\">-</td><td  style=\"background-color:Ivory;text-align:center;\">-105.00</td><td  style=\"background-color:Ivory;text-align:center;\">0.90</td><td  style=\"background-color:Ivory;text-align:center;\">0.94</td></tr><tr><td  style=\"background-color:AliceBlue;text-align:center;\">1.00</td><td  style=\"background-color:AliceBlue;text-align:center;\">Water</td><td  style=\"background-color:AliceBlue;text-align:center;\">1.00</td><td  style=\"background-color:AliceBlue;text-align:center;\">1.00</td><td  style=\"background-color:AliceBlue;text-align:center;\">1.00</td><td  style=\"background-color:AliceBlue;text-align:center;\">1.00</td><td  style=\"background-color:AliceBlue;text-align:center;\">1.00</td><td  style=\"background-color:AliceBlue;text-align:center;\">0.00</td><td  style=\"background-color:AliceBlue;text-align:center;\">1.00</td><td  style=\"background-color:AliceBlue;text-align:center;\">1.01</td></tr><tr><td  style=\"background-color:Ivory;text-align:center;\">1.04</td><td  style=\"background-color:Ivory;text-align:center;\">Epoxy</td><td  style=\"background-color:Ivory;text-align:center;\">1.00</td><td  style=\"background-color:Ivory;text-align:center;\">1.02</td><td  style=\"background-color:Ivory;text-align:center;\">0.94</td><td  style=\"background-color:Ivory;text-align:center;\">-</td><td  style=\"background-color:Ivory;text-align:center;\">-</td><td  style=\"background-color:Ivory;text-align:center;\">38.00</td><td  style=\"background-color:Ivory;text-align:center;\">1.04</td><td  style=\"background-color:Ivory;text-align:center;\">1.04</td></tr><tr><td  style=\"background-color:AliceBlue;text-align:center;\">1.05</td><td  style=\"background-color:AliceBlue;text-align:center;\">Muscle&nbspskeletal</td><td  style=\"background-color:AliceBlue;text-align:center;\">1.00</td><td  style=\"background-color:AliceBlue;text-align:center;\">1.00</td><td  style=\"background-color:AliceBlue;text-align:center;\">0.99</td><td  style=\"background-color:AliceBlue;text-align:center;\">-</td><td  style=\"background-color:AliceBlue;text-align:center;\">-</td><td  style=\"background-color:AliceBlue;text-align:center;\">48.00</td><td  style=\"background-color:AliceBlue;text-align:center;\">1.05</td><td  style=\"background-color:AliceBlue;text-align:center;\">1.05</td></tr><tr><td  style=\"background-color:Ivory;text-align:center;\">1.10</td><td  style=\"background-color:Ivory;text-align:center;\">Cartilage</td><td  style=\"background-color:Ivory;text-align:center;\">0.99</td><td  style=\"background-color:Ivory;text-align:center;\">1.01</td><td  style=\"background-color:Ivory;text-align:center;\">0.98</td><td  style=\"background-color:Ivory;text-align:center;\">-</td><td  style=\"background-color:Ivory;text-align:center;\">-</td><td  style=\"background-color:Ivory;text-align:center;\">128.00</td><td  style=\"background-color:Ivory;text-align:center;\">1.13</td><td  style=\"background-color:Ivory;text-align:center;\">1.09</td></tr><tr><td  style=\"background-color:AliceBlue;text-align:center;\">1.19</td><td  style=\"background-color:AliceBlue;text-align:center;\">PMMA</td><td  style=\"background-color:AliceBlue;text-align:center;\">0.99</td><td  style=\"background-color:AliceBlue;text-align:center;\">0.99</td><td  style=\"background-color:AliceBlue;text-align:center;\">0.96</td><td  style=\"background-color:AliceBlue;text-align:center;\">-</td><td  style=\"background-color:AliceBlue;text-align:center;\">-</td><td  style=\"background-color:AliceBlue;text-align:center;\">282.00</td><td  style=\"background-color:AliceBlue;text-align:center;\">1.21</td><td  style=\"background-color:AliceBlue;text-align:center;\">1.16</td></tr><tr><td  style=\"background-color:Ivory;text-align:center;\">1.30</td><td  style=\"background-color:Ivory;text-align:center;\">Radel</td><td  style=\"background-color:Ivory;text-align:center;\">0.99</td><td  style=\"background-color:Ivory;text-align:center;\">1.02</td><td  style=\"background-color:Ivory;text-align:center;\">0.93</td><td  style=\"background-color:Ivory;text-align:center;\">-</td><td  style=\"background-color:Ivory;text-align:center;\">-</td><td  style=\"background-color:Ivory;text-align:center;\">470.00</td><td  style=\"background-color:Ivory;text-align:center;\">1.32</td><td  style=\"background-color:Ivory;text-align:center;\">1.25</td></tr><tr><td  style=\"background-color:AliceBlue;text-align:center;\">1.31</td><td  style=\"background-color:AliceBlue;text-align:center;\">PEEK</td><td  style=\"background-color:AliceBlue;text-align:center;\">0.99</td><td  style=\"background-color:AliceBlue;text-align:center;\">1.00</td><td  style=\"background-color:AliceBlue;text-align:center;\">0.92</td><td  style=\"background-color:AliceBlue;text-align:center;\">-</td><td  style=\"background-color:AliceBlue;text-align:center;\">-</td><td  style=\"background-color:AliceBlue;text-align:center;\">487.00</td><td  style=\"background-color:AliceBlue;text-align:center;\">1.33</td><td  style=\"background-color:AliceBlue;text-align:center;\">1.26</td></tr><tr><td  style=\"background-color:Ivory;text-align:center;\">1.38</td><td  style=\"background-color:Ivory;text-align:center;\">PVC</td><td  style=\"background-color:Ivory;text-align:center;\">0.99</td><td  style=\"background-color:Ivory;text-align:center;\">1.14</td><td  style=\"background-color:Ivory;text-align:center;\">0.94</td><td  style=\"background-color:Ivory;text-align:center;\">-</td><td  style=\"background-color:Ivory;text-align:center;\">-</td><td  style=\"background-color:Ivory;text-align:center;\">605.00</td><td  style=\"background-color:Ivory;text-align:center;\">1.40</td><td  style=\"background-color:Ivory;text-align:center;\">1.32</td></tr><tr><td  style=\"background-color:AliceBlue;text-align:center;\">1.42</td><td  style=\"background-color:AliceBlue;text-align:center;\">Acetal</td><td  style=\"background-color:AliceBlue;text-align:center;\">0.99</td><td  style=\"background-color:AliceBlue;text-align:center;\">1.00</td><td  style=\"background-color:AliceBlue;text-align:center;\">0.95</td><td  style=\"background-color:AliceBlue;text-align:center;\">-</td><td  style=\"background-color:AliceBlue;text-align:center;\">-</td><td  style=\"background-color:AliceBlue;text-align:center;\">671.00</td><td  style=\"background-color:AliceBlue;text-align:center;\">1.44</td><td  style=\"background-color:AliceBlue;text-align:center;\">1.35</td></tr><tr><td  style=\"background-color:Ivory;text-align:center;\">1.50</td><td  style=\"background-color:Ivory;text-align:center;\">-</td><td  style=\"background-color:Ivory;text-align:center;\">-</td><td  style=\"background-color:Ivory;text-align:center;\">-</td><td  style=\"background-color:Ivory;text-align:center;\">-</td><td  style=\"background-color:Ivory;text-align:center;\">0.97</td><td  style=\"background-color:Ivory;text-align:center;\">0.97</td><td  style=\"background-color:Ivory;text-align:center;\">-</td><td  style=\"background-color:Ivory;text-align:center;\">-</td><td  style=\"background-color:Ivory;text-align:center;\">-</td></tr><tr><td  style=\"background-color:AliceBlue;text-align:center;\">1.77</td><td  style=\"background-color:AliceBlue;text-align:center;\">PVDF</td><td  style=\"background-color:AliceBlue;text-align:center;\">0.98</td><td  style=\"background-color:AliceBlue;text-align:center;\">1.02</td><td  style=\"background-color:AliceBlue;text-align:center;\">0.89</td><td  style=\"background-color:AliceBlue;text-align:center;\">-</td><td  style=\"background-color:AliceBlue;text-align:center;\">-</td><td  style=\"background-color:AliceBlue;text-align:center;\">1283.00</td><td  style=\"background-color:AliceBlue;text-align:center;\">1.80</td><td  style=\"background-color:AliceBlue;text-align:center;\">1.66</td></tr><tr><td  style=\"background-color:Ivory;text-align:center;\">1.85</td><td  style=\"background-color:Ivory;text-align:center;\">Bone</td><td  style=\"background-color:Ivory;text-align:center;\">0.98</td><td  style=\"background-color:Ivory;text-align:center;\">1.08</td><td  style=\"background-color:Ivory;text-align:center;\">0.94</td><td  style=\"background-color:Ivory;text-align:center;\">-</td><td  style=\"background-color:Ivory;text-align:center;\">-</td><td  style=\"background-color:Ivory;text-align:center;\">1430.00</td><td  style=\"background-color:Ivory;text-align:center;\">1.88</td><td  style=\"background-color:Ivory;text-align:center;\">1.73</td></tr><tr><td  style=\"background-color:AliceBlue;text-align:center;\">2.00</td><td  style=\"background-color:AliceBlue;text-align:center;\">-</td><td  style=\"background-color:AliceBlue;text-align:center;\">-</td><td  style=\"background-color:AliceBlue;text-align:center;\">-</td><td  style=\"background-color:AliceBlue;text-align:center;\">-</td><td  style=\"background-color:AliceBlue;text-align:center;\">0.93</td><td  style=\"background-color:AliceBlue;text-align:center;\">0.95</td><td  style=\"background-color:AliceBlue;text-align:center;\">-</td><td  style=\"background-color:AliceBlue;text-align:center;\">-</td><td  style=\"background-color:AliceBlue;text-align:center;\">-</td></tr><tr><td  style=\"background-color:Ivory;text-align:center;\">2.20</td><td  style=\"background-color:Ivory;text-align:center;\">PTFE</td><td  style=\"background-color:Ivory;text-align:center;\">0.97</td><td  style=\"background-color:Ivory;text-align:center;\">1.03</td><td  style=\"background-color:Ivory;text-align:center;\">0.85</td><td  style=\"background-color:Ivory;text-align:center;\">-</td><td  style=\"background-color:Ivory;text-align:center;\">-</td><td  style=\"background-color:Ivory;text-align:center;\">2041.00</td><td  style=\"background-color:Ivory;text-align:center;\">2.24</td><td  style=\"background-color:Ivory;text-align:center;\">2.03</td></tr><tr><td  style=\"background-color:AliceBlue;text-align:center;\">2.50</td><td  style=\"background-color:AliceBlue;text-align:center;\">-</td><td  style=\"background-color:AliceBlue;text-align:center;\">-</td><td  style=\"background-color:AliceBlue;text-align:center;\">-</td><td  style=\"background-color:AliceBlue;text-align:center;\">-</td><td  style=\"background-color:AliceBlue;text-align:center;\">0.88</td><td  style=\"background-color:AliceBlue;text-align:center;\">0.92</td><td  style=\"background-color:AliceBlue;text-align:center;\">-</td><td  style=\"background-color:AliceBlue;text-align:center;\">-</td><td  style=\"background-color:AliceBlue;text-align:center;\">-</td></tr><tr><td  style=\"background-color:Ivory;text-align:center;\">2.70</td><td  style=\"background-color:Ivory;text-align:center;\">Aluminium</td><td  style=\"background-color:Ivory;text-align:center;\">0.95</td><td  style=\"background-color:Ivory;text-align:center;\">1.20</td><td  style=\"background-color:Ivory;text-align:center;\">0.83</td><td  style=\"background-color:Ivory;text-align:center;\">-</td><td  style=\"background-color:Ivory;text-align:center;\">-</td><td  style=\"background-color:Ivory;text-align:center;\">2913.00</td><td  style=\"background-color:Ivory;text-align:center;\">2.75</td><td  style=\"background-color:Ivory;text-align:center;\">2.46</td></tr><tr><td  style=\"background-color:AliceBlue;text-align:center;\">3.00</td><td  style=\"background-color:AliceBlue;text-align:center;\">-</td><td  style=\"background-color:AliceBlue;text-align:center;\">-</td><td  style=\"background-color:AliceBlue;text-align:center;\">-</td><td  style=\"background-color:AliceBlue;text-align:center;\">-</td><td  style=\"background-color:AliceBlue;text-align:center;\">0.85</td><td  style=\"background-color:AliceBlue;text-align:center;\">0.90</td><td  style=\"background-color:AliceBlue;text-align:center;\">-</td><td  style=\"background-color:AliceBlue;text-align:center;\">-</td><td  style=\"background-color:AliceBlue;text-align:center;\">-</td></tr><tr><td  style=\"background-color:Ivory;text-align:center;\">3.50</td><td  style=\"background-color:Ivory;text-align:center;\">-</td><td  style=\"background-color:Ivory;text-align:center;\">-</td><td  style=\"background-color:Ivory;text-align:center;\">-</td><td  style=\"background-color:Ivory;text-align:center;\">-</td><td  style=\"background-color:Ivory;text-align:center;\">0.84</td><td  style=\"background-color:Ivory;text-align:center;\">0.87</td><td  style=\"background-color:Ivory;text-align:center;\">-</td><td  style=\"background-color:Ivory;text-align:center;\">-</td><td  style=\"background-color:Ivory;text-align:center;\">-</td></tr><tr><td  style=\"background-color:AliceBlue;text-align:center;\">4.00</td><td  style=\"background-color:AliceBlue;text-align:center;\">-</td><td  style=\"background-color:AliceBlue;text-align:center;\">-</td><td  style=\"background-color:AliceBlue;text-align:center;\">-</td><td  style=\"background-color:AliceBlue;text-align:center;\">-</td><td  style=\"background-color:AliceBlue;text-align:center;\">0.82</td><td  style=\"background-color:AliceBlue;text-align:center;\">0.85</td><td  style=\"background-color:AliceBlue;text-align:center;\">-</td><td  style=\"background-color:AliceBlue;text-align:center;\">-</td><td  style=\"background-color:AliceBlue;text-align:center;\">-</td></tr><tr><td  style=\"background-color:Ivory;text-align:center;\">4.42</td><td  style=\"background-color:Ivory;text-align:center;\">Titanium&nbspalloy</td><td  style=\"background-color:Ivory;text-align:center;\">0.88</td><td  style=\"background-color:Ivory;text-align:center;\">1.30</td><td  style=\"background-color:Ivory;text-align:center;\">0.81</td><td  style=\"background-color:Ivory;text-align:center;\">-</td><td  style=\"background-color:Ivory;text-align:center;\">-</td><td  style=\"background-color:Ivory;text-align:center;\">5908.00</td><td  style=\"background-color:Ivory;text-align:center;\">4.51</td><td  style=\"background-color:Ivory;text-align:center;\">3.81</td></tr></table>"
      ],
      "text/plain": [
       "<ipy_table.IpyTable at 0x7253890>"
      ]
     },
     "execution_count": 79,
     "metadata": {},
     "output_type": "execute_result"
    }
   ],
   "source": [
    "make_table(df_array)\n",
    "apply_theme('basic')\n",
    "\n",
    "#set_global_style(float_format='%0.3E') # experiment with \n",
    "set_global_style(float_format=\"%.2f\")\n",
    "set_global_style(align='center')"
   ]
  },
  {
   "cell_type": "code",
   "execution_count": 76,
   "metadata": {
    "collapsed": true
   },
   "outputs": [],
   "source": [
    "?set_cell_style"
   ]
  },
  {
   "cell_type": "code",
   "execution_count": null,
   "metadata": {
    "collapsed": true
   },
   "outputs": [],
   "source": []
  }
 ],
 "metadata": {
  "anaconda-cloud": {},
  "kernelspec": {
   "display_name": "Python [conda env:dicompyler2_7]",
   "language": "python",
   "name": "conda-env-dicompyler2_7-py"
  },
  "language_info": {
   "codemirror_mode": {
    "name": "ipython",
    "version": 2
   },
   "file_extension": ".py",
   "mimetype": "text/x-python",
   "name": "python",
   "nbconvert_exporter": "python",
   "pygments_lexer": "ipython2",
   "version": "2.7.12"
  }
 },
 "nbformat": 4,
 "nbformat_minor": 1
}
