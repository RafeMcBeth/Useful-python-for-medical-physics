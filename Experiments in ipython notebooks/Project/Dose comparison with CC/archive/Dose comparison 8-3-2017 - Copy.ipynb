{
 "cells": [
  {
   "cell_type": "code",
   "execution_count": 1,
   "metadata": {
    "collapsed": true
   },
   "outputs": [],
   "source": [
    "%matplotlib inline\n",
    "import numpy as np\n",
    "import pandas as pd\n",
    "import matplotlib.pyplot as plt\n",
    "import seaborn as sns\n",
    "sns.set(context='talk', style='ticks')"
   ]
  },
  {
   "cell_type": "markdown",
   "metadata": {},
   "source": [
    "### Helper functions for cleaning data"
   ]
  },
  {
   "cell_type": "code",
   "execution_count": 2,
   "metadata": {
    "collapsed": false
   },
   "outputs": [],
   "source": [
    "def d1_id(df):    # helper function to get the index when Mass density = 1.0\n",
    "    return df[df['Mass density']==1.0].index.tolist()[0]\n",
    "#d1_id(EGS)\n",
    "\n",
    "def n_r(df, raw_col = 'Raw_data_col', norm_col = 'Normalised_data_col'): # norm and return, pass the dataframe, column to normalise and drop, and the norm col name\n",
    "    if raw_col in df.columns:\n",
    "        df[norm_col] = df[raw_col]/df[raw_col].iloc[d1_id(df)]\n",
    "        df = df.drop(raw_col, 1) \n",
    "        return df\n",
    "\n",
    "# EGS = n_r(EGS, raw_col = 'EGS_Dose', norm_col = 'EGS_Dose_norm')"
   ]
  },
  {
   "cell_type": "code",
   "execution_count": 50,
   "metadata": {
    "collapsed": false
   },
   "outputs": [],
   "source": [
    "ECLIPSE = pd.read_csv(\"Eclipse_data_19_10.csv\")  # index_col=[0]\n",
    "ECLIPSE = n_r(ECLIPSE, raw_col = 'AAA (Gy) point', norm_col = 'AAA')\n",
    "ECLIPSE = n_r(ECLIPSE, raw_col = 'AXB Dw (Gy) point', norm_col = 'AXB Dw')\n",
    "ECLIPSE = n_r(ECLIPSE, raw_col = 'AXB Dm (Gy) point', norm_col = 'AXB Dm')\n",
    "df = ECLIPSE\n",
    "#df"
   ]
  },
  {
   "cell_type": "code",
   "execution_count": 51,
   "metadata": {
    "collapsed": true
   },
   "outputs": [],
   "source": [
    "df=df.set_index(['Mass density'])"
   ]
  },
  {
   "cell_type": "code",
   "execution_count": 53,
   "metadata": {
    "collapsed": false
   },
   "outputs": [],
   "source": [
    "metrics_ = [ 'AAA', 'AXB Dw', 'AXB Dm', 'CCC', 'EGS']\n",
    "df['Mean'] = df.loc[:,metrics_].mean(axis=1)   # apply mean by row\n",
    "df['Max'] = df.loc[:,metrics_].max(axis=1)   # apply mean by row\n",
    "df['Min'] = df.loc[:,metrics_].min(axis=1)   # apply mean by row\n",
    "\n",
    "df['Max % error'] = df.loc[:,'Max']   # apply mean by row"
   ]
  },
  {
   "cell_type": "code",
   "execution_count": 54,
   "metadata": {
    "collapsed": true
   },
   "outputs": [],
   "source": [
    "df['Max % error'] = 100.0*(df['Max'] - df['Min'])/df['Min']   # apply mean by row"
   ]
  },
  {
   "cell_type": "code",
   "execution_count": 78,
   "metadata": {
    "collapsed": false
   },
   "outputs": [
    {
     "data": {
      "text/html": [
       "<div>\n",
       "<table border=\"1\" class=\"dataframe\">\n",
       "  <thead>\n",
       "    <tr style=\"text-align: right;\">\n",
       "      <th></th>\n",
       "      <th>VOI Material</th>\n",
       "      <th>Stp PWR</th>\n",
       "      <th>CT number</th>\n",
       "      <th>AAA</th>\n",
       "      <th>AXB Dw</th>\n",
       "      <th>AXB Dm</th>\n",
       "      <th>Max</th>\n",
       "      <th>Mean</th>\n",
       "      <th>Max % error</th>\n",
       "    </tr>\n",
       "    <tr>\n",
       "      <th>Mass density</th>\n",
       "      <th></th>\n",
       "      <th></th>\n",
       "      <th></th>\n",
       "      <th></th>\n",
       "      <th></th>\n",
       "      <th></th>\n",
       "      <th></th>\n",
       "      <th></th>\n",
       "      <th></th>\n",
       "    </tr>\n",
       "  </thead>\n",
       "  <tbody>\n",
       "    <tr>\n",
       "      <th>0.00</th>\n",
       "      <td>Air</td>\n",
       "      <td>0.0073</td>\n",
       "      <td>-993</td>\n",
       "      <td>1.033987</td>\n",
       "      <td>1.048493</td>\n",
       "      <td>0.908257</td>\n",
       "      <td>1.048493</td>\n",
       "      <td>0.996912</td>\n",
       "      <td>15.440115</td>\n",
       "    </tr>\n",
       "    <tr>\n",
       "      <th>0.26</th>\n",
       "      <td>Lung</td>\n",
       "      <td>0.2699</td>\n",
       "      <td>-734</td>\n",
       "      <td>1.013072</td>\n",
       "      <td>1.023591</td>\n",
       "      <td>1.022280</td>\n",
       "      <td>1.023591</td>\n",
       "      <td>1.019648</td>\n",
       "      <td>1.038346</td>\n",
       "    </tr>\n",
       "    <tr>\n",
       "      <th>0.92</th>\n",
       "      <td>Adipose tissue</td>\n",
       "      <td>0.9421</td>\n",
       "      <td>-105</td>\n",
       "      <td>1.005229</td>\n",
       "      <td>0.979030</td>\n",
       "      <td>0.998689</td>\n",
       "      <td>1.005229</td>\n",
       "      <td>0.994316</td>\n",
       "      <td>2.675976</td>\n",
       "    </tr>\n",
       "    <tr>\n",
       "      <th>1.00</th>\n",
       "      <td>Water</td>\n",
       "      <td>1.0100</td>\n",
       "      <td>0</td>\n",
       "      <td>1.000000</td>\n",
       "      <td>1.000000</td>\n",
       "      <td>1.000000</td>\n",
       "      <td>1.000000</td>\n",
       "      <td>1.000000</td>\n",
       "      <td>0.000000</td>\n",
       "    </tr>\n",
       "    <tr>\n",
       "      <th>1.04</th>\n",
       "      <td>Epoxy</td>\n",
       "      <td>1.0389</td>\n",
       "      <td>38</td>\n",
       "      <td>1.000000</td>\n",
       "      <td>1.019659</td>\n",
       "      <td>0.944954</td>\n",
       "      <td>1.019659</td>\n",
       "      <td>0.988204</td>\n",
       "      <td>7.905687</td>\n",
       "    </tr>\n",
       "    <tr>\n",
       "      <th>1.05</th>\n",
       "      <td>Muscle skeletal</td>\n",
       "      <td>1.0483</td>\n",
       "      <td>48</td>\n",
       "      <td>1.000000</td>\n",
       "      <td>1.002621</td>\n",
       "      <td>0.988204</td>\n",
       "      <td>1.002621</td>\n",
       "      <td>0.996942</td>\n",
       "      <td>1.458886</td>\n",
       "    </tr>\n",
       "    <tr>\n",
       "      <th>1.10</th>\n",
       "      <td>Cartilage</td>\n",
       "      <td>1.0855</td>\n",
       "      <td>128</td>\n",
       "      <td>0.994771</td>\n",
       "      <td>1.007864</td>\n",
       "      <td>0.982962</td>\n",
       "      <td>1.007864</td>\n",
       "      <td>0.995199</td>\n",
       "      <td>2.533333</td>\n",
       "    </tr>\n",
       "    <tr>\n",
       "      <th>1.19</th>\n",
       "      <td>PMMA</td>\n",
       "      <td>1.1617</td>\n",
       "      <td>282</td>\n",
       "      <td>0.994771</td>\n",
       "      <td>0.992136</td>\n",
       "      <td>0.960682</td>\n",
       "      <td>0.994771</td>\n",
       "      <td>0.982530</td>\n",
       "      <td>3.548494</td>\n",
       "    </tr>\n",
       "    <tr>\n",
       "      <th>1.30</th>\n",
       "      <td>Radel</td>\n",
       "      <td>1.2548</td>\n",
       "      <td>470</td>\n",
       "      <td>0.994771</td>\n",
       "      <td>1.022280</td>\n",
       "      <td>0.929227</td>\n",
       "      <td>1.022280</td>\n",
       "      <td>0.982093</td>\n",
       "      <td>10.014104</td>\n",
       "    </tr>\n",
       "    <tr>\n",
       "      <th>1.31</th>\n",
       "      <td>PEEK</td>\n",
       "      <td>1.2633</td>\n",
       "      <td>487</td>\n",
       "      <td>0.994771</td>\n",
       "      <td>1.003932</td>\n",
       "      <td>0.923984</td>\n",
       "      <td>1.003932</td>\n",
       "      <td>0.974229</td>\n",
       "      <td>8.652482</td>\n",
       "    </tr>\n",
       "    <tr>\n",
       "      <th>1.38</th>\n",
       "      <td>PVC</td>\n",
       "      <td>1.3215</td>\n",
       "      <td>605</td>\n",
       "      <td>0.990850</td>\n",
       "      <td>1.138925</td>\n",
       "      <td>0.937090</td>\n",
       "      <td>1.138925</td>\n",
       "      <td>1.022288</td>\n",
       "      <td>21.538462</td>\n",
       "    </tr>\n",
       "    <tr>\n",
       "      <th>1.42</th>\n",
       "      <td>Acetal</td>\n",
       "      <td>1.3545</td>\n",
       "      <td>671</td>\n",
       "      <td>0.989542</td>\n",
       "      <td>1.000000</td>\n",
       "      <td>0.946265</td>\n",
       "      <td>1.000000</td>\n",
       "      <td>0.978602</td>\n",
       "      <td>5.678670</td>\n",
       "    </tr>\n",
       "    <tr>\n",
       "      <th>1.77</th>\n",
       "      <td>PVDF</td>\n",
       "      <td>1.6575</td>\n",
       "      <td>1283</td>\n",
       "      <td>0.980392</td>\n",
       "      <td>1.018349</td>\n",
       "      <td>0.885976</td>\n",
       "      <td>1.018349</td>\n",
       "      <td>0.961572</td>\n",
       "      <td>14.940828</td>\n",
       "    </tr>\n",
       "    <tr>\n",
       "      <th>1.85</th>\n",
       "      <td>Bone</td>\n",
       "      <td>1.7303</td>\n",
       "      <td>1430</td>\n",
       "      <td>0.977778</td>\n",
       "      <td>1.076016</td>\n",
       "      <td>0.935780</td>\n",
       "      <td>1.076016</td>\n",
       "      <td>0.996524</td>\n",
       "      <td>14.985994</td>\n",
       "    </tr>\n",
       "    <tr>\n",
       "      <th>2.20</th>\n",
       "      <td>PTFE</td>\n",
       "      <td>2.0329</td>\n",
       "      <td>2041</td>\n",
       "      <td>0.966013</td>\n",
       "      <td>1.034076</td>\n",
       "      <td>0.846658</td>\n",
       "      <td>1.034076</td>\n",
       "      <td>0.948916</td>\n",
       "      <td>22.136223</td>\n",
       "    </tr>\n",
       "    <tr>\n",
       "      <th>2.70</th>\n",
       "      <td>Aluminium</td>\n",
       "      <td>2.4650</td>\n",
       "      <td>2913</td>\n",
       "      <td>0.947712</td>\n",
       "      <td>1.197903</td>\n",
       "      <td>0.833552</td>\n",
       "      <td>1.197903</td>\n",
       "      <td>0.993056</td>\n",
       "      <td>43.710692</td>\n",
       "    </tr>\n",
       "    <tr>\n",
       "      <th>4.42</th>\n",
       "      <td>Titanium alloy</td>\n",
       "      <td>3.8126</td>\n",
       "      <td>5908</td>\n",
       "      <td>0.879739</td>\n",
       "      <td>1.300131</td>\n",
       "      <td>0.809961</td>\n",
       "      <td>1.300131</td>\n",
       "      <td>0.996610</td>\n",
       "      <td>60.517799</td>\n",
       "    </tr>\n",
       "  </tbody>\n",
       "</table>\n",
       "</div>"
      ],
      "text/plain": [
       "                 VOI Material  Stp PWR  CT number       AAA    AXB Dw  \\\n",
       "Mass density                                                            \n",
       "0.00                      Air   0.0073       -993  1.033987  1.048493   \n",
       "0.26                     Lung   0.2699       -734  1.013072  1.023591   \n",
       "0.92           Adipose tissue   0.9421       -105  1.005229  0.979030   \n",
       "1.00                    Water   1.0100          0  1.000000  1.000000   \n",
       "1.04                    Epoxy   1.0389         38  1.000000  1.019659   \n",
       "1.05          Muscle skeletal   1.0483         48  1.000000  1.002621   \n",
       "1.10                Cartilage   1.0855        128  0.994771  1.007864   \n",
       "1.19                     PMMA   1.1617        282  0.994771  0.992136   \n",
       "1.30                    Radel   1.2548        470  0.994771  1.022280   \n",
       "1.31                     PEEK   1.2633        487  0.994771  1.003932   \n",
       "1.38                      PVC   1.3215        605  0.990850  1.138925   \n",
       "1.42                   Acetal   1.3545        671  0.989542  1.000000   \n",
       "1.77                     PVDF   1.6575       1283  0.980392  1.018349   \n",
       "1.85                     Bone   1.7303       1430  0.977778  1.076016   \n",
       "2.20                     PTFE   2.0329       2041  0.966013  1.034076   \n",
       "2.70                Aluminium   2.4650       2913  0.947712  1.197903   \n",
       "4.42           Titanium alloy   3.8126       5908  0.879739  1.300131   \n",
       "\n",
       "                AXB Dm       Max      Mean  Max % error  \n",
       "Mass density                                             \n",
       "0.00          0.908257  1.048493  0.996912    15.440115  \n",
       "0.26          1.022280  1.023591  1.019648     1.038346  \n",
       "0.92          0.998689  1.005229  0.994316     2.675976  \n",
       "1.00          1.000000  1.000000  1.000000     0.000000  \n",
       "1.04          0.944954  1.019659  0.988204     7.905687  \n",
       "1.05          0.988204  1.002621  0.996942     1.458886  \n",
       "1.10          0.982962  1.007864  0.995199     2.533333  \n",
       "1.19          0.960682  0.994771  0.982530     3.548494  \n",
       "1.30          0.929227  1.022280  0.982093    10.014104  \n",
       "1.31          0.923984  1.003932  0.974229     8.652482  \n",
       "1.38          0.937090  1.138925  1.022288    21.538462  \n",
       "1.42          0.946265  1.000000  0.978602     5.678670  \n",
       "1.77          0.885976  1.018349  0.961572    14.940828  \n",
       "1.85          0.935780  1.076016  0.996524    14.985994  \n",
       "2.20          0.846658  1.034076  0.948916    22.136223  \n",
       "2.70          0.833552  1.197903  0.993056    43.710692  \n",
       "4.42          0.809961  1.300131  0.996610    60.517799  "
      ]
     },
     "execution_count": 78,
     "metadata": {},
     "output_type": "execute_result"
    }
   ],
   "source": [
    "df2 = df[['VOI Material', 'Proton Stp PWR','CT number', 'AAA', 'AXB Dw', 'AXB Dm', 'Max', 'Mean', 'Max % error']]   # 'CCC', 'EGS', rearrange, , 'Elect density', 'Proton Stp PWR', 'Min', 'Max',  \n",
    "df2 = df2.rename(columns={'Proton Stp PWR': 'Stp PWR'})\n",
    "df2"
   ]
  },
  {
   "cell_type": "code",
   "execution_count": 28,
   "metadata": {
    "collapsed": true
   },
   "outputs": [],
   "source": [
    "#df2.to_csv('ALL_DATA_8_3_2017.csv', index=False)  # write to file"
   ]
  },
  {
   "cell_type": "code",
   "execution_count": 62,
   "metadata": {
    "collapsed": false
   },
   "outputs": [
    {
     "data": {
      "text/plain": [
       "array(['Air', 'Lung', 'Adipose tissue', 'Water', 'Epoxy',\n",
       "       'Muscle skeletal', 'Cartilage', 'PMMA', 'Radel', 'PEEK', 'PVC',\n",
       "       'Acetal', 'PVDF', 'Bone', 'PTFE', 'Aluminium', 'Titanium alloy'], dtype=object)"
      ]
     },
     "execution_count": 62,
     "metadata": {},
     "output_type": "execute_result"
    }
   ],
   "source": [
    "df2['VOI Material'].values"
   ]
  },
  {
   "cell_type": "code",
   "execution_count": 92,
   "metadata": {
    "collapsed": false
   },
   "outputs": [
    {
     "data": {
      "image/png": "[encoded data removed]",
      "text/plain": [
       "<matplotlib.figure.Figure at 0x584ceb0>"
      ]
     },
     "metadata": {},
     "output_type": "display_data"
    }
   ],
   "source": [
    "width = 10\n",
    "height = 4\n",
    "plt.figure(figsize=(width, height))  # width, height\n",
    "\n",
    "plt.plot(df2[['AAA']], c='g', marker='o')\n",
    "plt.plot(df2[['AXB Dw']], c='r', marker='o')\n",
    "plt.plot(df2[['AXB Dm']], c='b', marker='o')\n",
    "\n",
    "for i, txt in enumerate(df2['VOI Material'].values):\n",
    "    if txt in ['Air', 'Lung', 'Adipose tissue', 'Water', 'Muscle skeletal','Bone', 'PVC', 'Aluminium']:   # 'Adipose tissue'\n",
    "   # if txt in df2['VOI Material'].values:    \n",
    "        plt.annotate(txt, (df2['Max'].index.values[i] , 0.85), rotation=90)  # df2['Max'].values[i]\n",
    "\n",
    "axes = plt.gca()\n",
    "axes.set_xlim([-0.05,2.5]) # min and max\n",
    "axes.set_ylim([0.5,1.2])\n",
    "\n",
    "plt.xlabel(r'Mass density ($\\mathbf{g/cm^{3}}$)')\n",
    "plt.ylabel('Relative dose (A.U)')\n",
    "plt.title('Dose relative to water')\n",
    "\n",
    "plt.tick_params(top='off', right='off')      # ticks along the bottom edge are off\n",
    "\n",
    "legend = plt.legend(plots, shadow=True, fontsize='small', loc='lower left') ,\n",
    "#plt.grid(True)\n",
    "#plt.savefig('Fig1.png' , dpi=500);#, format='pdf'\n",
    "plt.show();"
   ]
  },
  {
   "cell_type": "code",
   "execution_count": 68,
   "metadata": {
    "collapsed": true
   },
   "outputs": [],
   "source": [
    "?plt.annotate"
   ]
  },
  {
   "cell_type": "code",
   "execution_count": null,
   "metadata": {
    "collapsed": true
   },
   "outputs": [],
   "source": []
  }
 ],
 "metadata": {
  "anaconda-cloud": {},
  "kernelspec": {
   "display_name": "Python [conda root]",
   "language": "python",
   "name": "conda-root-py"
  },
  "language_info": {
   "codemirror_mode": {
    "name": "ipython",
    "version": 3
   },
   "file_extension": ".py",
   "mimetype": "text/x-python",
   "name": "python",
   "nbconvert_exporter": "python",
   "pygments_lexer": "ipython3",
   "version": "3.5.2"
  }
 },
 "nbformat": 4,
 "nbformat_minor": 1
}
