{
 "cells": [
  {
   "cell_type": "markdown",
   "metadata": {},
   "source": [
    "python 2_7\n",
    "\n",
    "Use http://nbviewer.jupyter.org/github/epmoyer/ipy_table/blob/master/ipy_table-Introduction.ipynb\n",
    "\n",
    "http://nbviewer.jupyter.org/github/epmoyer/ipy_table/blob/master/ipy_table-Reference.ipynb"
   ]
  },
  {
   "cell_type": "code",
   "execution_count": 1,
   "metadata": {
    "collapsed": false
   },
   "outputs": [],
   "source": [
    "from ipy_table import *\n",
    "import numpy as np\n",
    "import pandas as pd"
   ]
  },
  {
   "cell_type": "code",
   "execution_count": 2,
   "metadata": {
    "collapsed": false
   },
   "outputs": [
    {
     "name": "stdout",
     "output_type": "stream",
     "text": [
      " Volume in drive C is WINDOWS\n",
      " Volume Serial Number is AE83-8D62\n",
      "\n",
      " Directory of C:\\Users\\RCole02.ROYALSURREY\\Desktop\\GitHub\\Useful-python-for-medical-physics\\Experiments in ipython notebooks\\Project\\Dose comparison with CC\n",
      "\n",
      "21/10/2016  09:43    <DIR>          .\n",
      "21/10/2016  09:43    <DIR>          ..\n",
      "21/10/2016  09:25    <DIR>          .ipynb_checkpoints\n",
      "21/10/2016  09:42             2,534 ALL_DATA_21_10_2016.csv\n",
      "21/10/2016  09:43    <DIR>          archive\n",
      "21/10/2016  09:43           392,614 Dose comparison 21 - 10 - 2016.ipynb\n",
      "21/10/2016  09:25               937 Eclipse_data_19_10.csv\n",
      "19/10/2016  09:40               139 EGS_data_19_10.csv\n",
      "19/10/2016  14:18         1,528,065 Fig1.png\n",
      "19/10/2016  09:39               111 PINNACLE_TRUEBEAM_CCC_data_19_10.csv\n",
      "19/10/2016  15:12            38,605 Prettify df table 21-10.ipynb\n",
      "19/10/2016  15:12            87,984 Table.PNG\n",
      "               8 File(s)      2,050,989 bytes\n",
      "               4 Dir(s)  372,357,808,128 bytes free\n"
     ]
    }
   ],
   "source": [
    "ls"
   ]
  },
  {
   "cell_type": "code",
   "execution_count": 3,
   "metadata": {
    "collapsed": false
   },
   "outputs": [
    {
     "data": {
      "text/html": [
       "<div>\n",
       "<table border=\"1\" class=\"dataframe\">\n",
       "  <thead>\n",
       "    <tr style=\"text-align: right;\">\n",
       "      <th></th>\n",
       "      <th>VOI Material</th>\n",
       "      <th>Mass density</th>\n",
       "      <th>CT number</th>\n",
       "      <th>AAA</th>\n",
       "      <th>AXB Dw</th>\n",
       "      <th>AXB Dm</th>\n",
       "      <th>CCC</th>\n",
       "      <th>EGS</th>\n",
       "      <th>Mean</th>\n",
       "      <th>Max % error</th>\n",
       "    </tr>\n",
       "  </thead>\n",
       "  <tbody>\n",
       "    <tr>\n",
       "      <th>0</th>\n",
       "      <td>Air</td>\n",
       "      <td>0.00</td>\n",
       "      <td>-993</td>\n",
       "      <td>1.03399</td>\n",
       "      <td>1.04849</td>\n",
       "      <td>0.908257</td>\n",
       "      <td>1.0211</td>\n",
       "      <td>0.966667</td>\n",
       "      <td>0.995700</td>\n",
       "      <td>15.440115</td>\n",
       "    </tr>\n",
       "    <tr>\n",
       "      <th>1</th>\n",
       "      <td>Lung</td>\n",
       "      <td>0.26</td>\n",
       "      <td>-734</td>\n",
       "      <td>1.01307</td>\n",
       "      <td>1.02359</td>\n",
       "      <td>1.02228</td>\n",
       "      <td>-</td>\n",
       "      <td>-</td>\n",
       "      <td>1.019648</td>\n",
       "      <td>1.038346</td>\n",
       "    </tr>\n",
       "    <tr>\n",
       "      <th>2</th>\n",
       "      <td>-</td>\n",
       "      <td>0.50</td>\n",
       "      <td>-</td>\n",
       "      <td>-</td>\n",
       "      <td>-</td>\n",
       "      <td>-</td>\n",
       "      <td>1.01547</td>\n",
       "      <td>1.02</td>\n",
       "      <td>1.017736</td>\n",
       "      <td>0.445983</td>\n",
       "    </tr>\n",
       "    <tr>\n",
       "      <th>3</th>\n",
       "      <td>Adipose tissue</td>\n",
       "      <td>0.92</td>\n",
       "      <td>-105</td>\n",
       "      <td>1.00523</td>\n",
       "      <td>0.97903</td>\n",
       "      <td>0.998689</td>\n",
       "      <td>-</td>\n",
       "      <td>-</td>\n",
       "      <td>0.994316</td>\n",
       "      <td>2.675976</td>\n",
       "    </tr>\n",
       "    <tr>\n",
       "      <th>4</th>\n",
       "      <td>Water</td>\n",
       "      <td>1.00</td>\n",
       "      <td>0</td>\n",
       "      <td>1</td>\n",
       "      <td>1</td>\n",
       "      <td>1</td>\n",
       "      <td>1</td>\n",
       "      <td>1</td>\n",
       "      <td>1.000000</td>\n",
       "      <td>0.000000</td>\n",
       "    </tr>\n",
       "    <tr>\n",
       "      <th>5</th>\n",
       "      <td>Epoxy</td>\n",
       "      <td>1.04</td>\n",
       "      <td>38</td>\n",
       "      <td>1</td>\n",
       "      <td>1.01966</td>\n",
       "      <td>0.944954</td>\n",
       "      <td>-</td>\n",
       "      <td>-</td>\n",
       "      <td>0.988204</td>\n",
       "      <td>7.905687</td>\n",
       "    </tr>\n",
       "    <tr>\n",
       "      <th>6</th>\n",
       "      <td>Muscle skeletal</td>\n",
       "      <td>1.05</td>\n",
       "      <td>48</td>\n",
       "      <td>1</td>\n",
       "      <td>1.00262</td>\n",
       "      <td>0.988204</td>\n",
       "      <td>-</td>\n",
       "      <td>-</td>\n",
       "      <td>0.996942</td>\n",
       "      <td>1.458886</td>\n",
       "    </tr>\n",
       "    <tr>\n",
       "      <th>7</th>\n",
       "      <td>Cartilage</td>\n",
       "      <td>1.10</td>\n",
       "      <td>128</td>\n",
       "      <td>0.994771</td>\n",
       "      <td>1.00786</td>\n",
       "      <td>0.982962</td>\n",
       "      <td>-</td>\n",
       "      <td>-</td>\n",
       "      <td>0.995199</td>\n",
       "      <td>2.533333</td>\n",
       "    </tr>\n",
       "    <tr>\n",
       "      <th>8</th>\n",
       "      <td>PMMA</td>\n",
       "      <td>1.19</td>\n",
       "      <td>282</td>\n",
       "      <td>0.994771</td>\n",
       "      <td>0.992136</td>\n",
       "      <td>0.960682</td>\n",
       "      <td>-</td>\n",
       "      <td>-</td>\n",
       "      <td>0.982530</td>\n",
       "      <td>3.548494</td>\n",
       "    </tr>\n",
       "    <tr>\n",
       "      <th>9</th>\n",
       "      <td>Radel</td>\n",
       "      <td>1.30</td>\n",
       "      <td>470</td>\n",
       "      <td>0.994771</td>\n",
       "      <td>1.02228</td>\n",
       "      <td>0.929227</td>\n",
       "      <td>-</td>\n",
       "      <td>-</td>\n",
       "      <td>0.982093</td>\n",
       "      <td>10.014104</td>\n",
       "    </tr>\n",
       "    <tr>\n",
       "      <th>10</th>\n",
       "      <td>PEEK</td>\n",
       "      <td>1.31</td>\n",
       "      <td>487</td>\n",
       "      <td>0.994771</td>\n",
       "      <td>1.00393</td>\n",
       "      <td>0.923984</td>\n",
       "      <td>-</td>\n",
       "      <td>-</td>\n",
       "      <td>0.974229</td>\n",
       "      <td>8.652482</td>\n",
       "    </tr>\n",
       "    <tr>\n",
       "      <th>11</th>\n",
       "      <td>PVC</td>\n",
       "      <td>1.38</td>\n",
       "      <td>605</td>\n",
       "      <td>0.99085</td>\n",
       "      <td>1.13893</td>\n",
       "      <td>0.93709</td>\n",
       "      <td>-</td>\n",
       "      <td>-</td>\n",
       "      <td>1.022288</td>\n",
       "      <td>21.538462</td>\n",
       "    </tr>\n",
       "    <tr>\n",
       "      <th>12</th>\n",
       "      <td>Acetal</td>\n",
       "      <td>1.42</td>\n",
       "      <td>671</td>\n",
       "      <td>0.989542</td>\n",
       "      <td>1</td>\n",
       "      <td>0.946265</td>\n",
       "      <td>-</td>\n",
       "      <td>-</td>\n",
       "      <td>0.978602</td>\n",
       "      <td>5.678670</td>\n",
       "    </tr>\n",
       "    <tr>\n",
       "      <th>13</th>\n",
       "      <td>-</td>\n",
       "      <td>1.50</td>\n",
       "      <td>-</td>\n",
       "      <td>-</td>\n",
       "      <td>-</td>\n",
       "      <td>-</td>\n",
       "      <td>0.967651</td>\n",
       "      <td>0.973333</td>\n",
       "      <td>0.970492</td>\n",
       "      <td>0.587209</td>\n",
       "    </tr>\n",
       "    <tr>\n",
       "      <th>14</th>\n",
       "      <td>PVDF</td>\n",
       "      <td>1.77</td>\n",
       "      <td>1283</td>\n",
       "      <td>0.980392</td>\n",
       "      <td>1.01835</td>\n",
       "      <td>0.885976</td>\n",
       "      <td>-</td>\n",
       "      <td>-</td>\n",
       "      <td>0.961572</td>\n",
       "      <td>14.940828</td>\n",
       "    </tr>\n",
       "    <tr>\n",
       "      <th>15</th>\n",
       "      <td>Bone</td>\n",
       "      <td>1.85</td>\n",
       "      <td>1430</td>\n",
       "      <td>0.977778</td>\n",
       "      <td>1.07602</td>\n",
       "      <td>0.93578</td>\n",
       "      <td>-</td>\n",
       "      <td>-</td>\n",
       "      <td>0.996524</td>\n",
       "      <td>14.985994</td>\n",
       "    </tr>\n",
       "    <tr>\n",
       "      <th>16</th>\n",
       "      <td>-</td>\n",
       "      <td>2.00</td>\n",
       "      <td>-</td>\n",
       "      <td>-</td>\n",
       "      <td>-</td>\n",
       "      <td>-</td>\n",
       "      <td>0.92827</td>\n",
       "      <td>0.946667</td>\n",
       "      <td>0.937468</td>\n",
       "      <td>1.981818</td>\n",
       "    </tr>\n",
       "    <tr>\n",
       "      <th>17</th>\n",
       "      <td>PTFE</td>\n",
       "      <td>2.20</td>\n",
       "      <td>2041</td>\n",
       "      <td>0.966013</td>\n",
       "      <td>1.03408</td>\n",
       "      <td>0.846658</td>\n",
       "      <td>-</td>\n",
       "      <td>-</td>\n",
       "      <td>0.948916</td>\n",
       "      <td>22.136223</td>\n",
       "    </tr>\n",
       "    <tr>\n",
       "      <th>18</th>\n",
       "      <td>-</td>\n",
       "      <td>2.50</td>\n",
       "      <td>-</td>\n",
       "      <td>-</td>\n",
       "      <td>-</td>\n",
       "      <td>-</td>\n",
       "      <td>0.881857</td>\n",
       "      <td>0.92</td>\n",
       "      <td>0.900928</td>\n",
       "      <td>4.325359</td>\n",
       "    </tr>\n",
       "    <tr>\n",
       "      <th>19</th>\n",
       "      <td>Aluminium</td>\n",
       "      <td>2.70</td>\n",
       "      <td>2913</td>\n",
       "      <td>0.947712</td>\n",
       "      <td>1.1979</td>\n",
       "      <td>0.833552</td>\n",
       "      <td>-</td>\n",
       "      <td>-</td>\n",
       "      <td>0.993056</td>\n",
       "      <td>43.710692</td>\n",
       "    </tr>\n",
       "    <tr>\n",
       "      <th>20</th>\n",
       "      <td>-</td>\n",
       "      <td>3.00</td>\n",
       "      <td>-</td>\n",
       "      <td>-</td>\n",
       "      <td>-</td>\n",
       "      <td>-</td>\n",
       "      <td>0.853727</td>\n",
       "      <td>0.9</td>\n",
       "      <td>0.876864</td>\n",
       "      <td>5.420099</td>\n",
       "    </tr>\n",
       "    <tr>\n",
       "      <th>21</th>\n",
       "      <td>-</td>\n",
       "      <td>3.50</td>\n",
       "      <td>-</td>\n",
       "      <td>-</td>\n",
       "      <td>-</td>\n",
       "      <td>-</td>\n",
       "      <td>0.838256</td>\n",
       "      <td>0.873333</td>\n",
       "      <td>0.855795</td>\n",
       "      <td>4.184564</td>\n",
       "    </tr>\n",
       "    <tr>\n",
       "      <th>22</th>\n",
       "      <td>-</td>\n",
       "      <td>4.00</td>\n",
       "      <td>-</td>\n",
       "      <td>-</td>\n",
       "      <td>-</td>\n",
       "      <td>-</td>\n",
       "      <td>0.822785</td>\n",
       "      <td>0.853333</td>\n",
       "      <td>0.838059</td>\n",
       "      <td>3.712821</td>\n",
       "    </tr>\n",
       "    <tr>\n",
       "      <th>23</th>\n",
       "      <td>Titanium alloy</td>\n",
       "      <td>4.42</td>\n",
       "      <td>5908</td>\n",
       "      <td>0.879739</td>\n",
       "      <td>1.30013</td>\n",
       "      <td>0.809961</td>\n",
       "      <td>-</td>\n",
       "      <td>-</td>\n",
       "      <td>0.996610</td>\n",
       "      <td>60.517799</td>\n",
       "    </tr>\n",
       "  </tbody>\n",
       "</table>\n",
       "</div>"
      ],
      "text/plain": [
       "       VOI Material  Mass density CT number       AAA    AXB Dw    AXB Dm  \\\n",
       "0               Air          0.00      -993   1.03399   1.04849  0.908257   \n",
       "1              Lung          0.26      -734   1.01307   1.02359   1.02228   \n",
       "2                 -          0.50         -         -         -         -   \n",
       "3    Adipose tissue          0.92      -105   1.00523   0.97903  0.998689   \n",
       "4             Water          1.00         0         1         1         1   \n",
       "5             Epoxy          1.04        38         1   1.01966  0.944954   \n",
       "6   Muscle skeletal          1.05        48         1   1.00262  0.988204   \n",
       "7         Cartilage          1.10       128  0.994771   1.00786  0.982962   \n",
       "8              PMMA          1.19       282  0.994771  0.992136  0.960682   \n",
       "9             Radel          1.30       470  0.994771   1.02228  0.929227   \n",
       "10             PEEK          1.31       487  0.994771   1.00393  0.923984   \n",
       "11              PVC          1.38       605   0.99085   1.13893   0.93709   \n",
       "12           Acetal          1.42       671  0.989542         1  0.946265   \n",
       "13                -          1.50         -         -         -         -   \n",
       "14             PVDF          1.77      1283  0.980392   1.01835  0.885976   \n",
       "15             Bone          1.85      1430  0.977778   1.07602   0.93578   \n",
       "16                -          2.00         -         -         -         -   \n",
       "17             PTFE          2.20      2041  0.966013   1.03408  0.846658   \n",
       "18                -          2.50         -         -         -         -   \n",
       "19        Aluminium          2.70      2913  0.947712    1.1979  0.833552   \n",
       "20                -          3.00         -         -         -         -   \n",
       "21                -          3.50         -         -         -         -   \n",
       "22                -          4.00         -         -         -         -   \n",
       "23   Titanium alloy          4.42      5908  0.879739   1.30013  0.809961   \n",
       "\n",
       "         CCC       EGS      Mean  Max % error  \n",
       "0     1.0211  0.966667  0.995700    15.440115  \n",
       "1          -         -  1.019648     1.038346  \n",
       "2    1.01547      1.02  1.017736     0.445983  \n",
       "3          -         -  0.994316     2.675976  \n",
       "4          1         1  1.000000     0.000000  \n",
       "5          -         -  0.988204     7.905687  \n",
       "6          -         -  0.996942     1.458886  \n",
       "7          -         -  0.995199     2.533333  \n",
       "8          -         -  0.982530     3.548494  \n",
       "9          -         -  0.982093    10.014104  \n",
       "10         -         -  0.974229     8.652482  \n",
       "11         -         -  1.022288    21.538462  \n",
       "12         -         -  0.978602     5.678670  \n",
       "13  0.967651  0.973333  0.970492     0.587209  \n",
       "14         -         -  0.961572    14.940828  \n",
       "15         -         -  0.996524    14.985994  \n",
       "16   0.92827  0.946667  0.937468     1.981818  \n",
       "17         -         -  0.948916    22.136223  \n",
       "18  0.881857      0.92  0.900928     4.325359  \n",
       "19         -         -  0.993056    43.710692  \n",
       "20  0.853727       0.9  0.876864     5.420099  \n",
       "21  0.838256  0.873333  0.855795     4.184564  \n",
       "22  0.822785  0.853333  0.838059     3.712821  \n",
       "23         -         -  0.996610    60.517799  "
      ]
     },
     "execution_count": 3,
     "metadata": {},
     "output_type": "execute_result"
    }
   ],
   "source": [
    "df_table = pd.read_csv('ALL_DATA_21_10_2016.csv')\n",
    "df_table = df_table.fillna(value='-')   # swap the \n",
    "df_table"
   ]
  },
  {
   "cell_type": "code",
   "execution_count": 4,
   "metadata": {
    "collapsed": false
   },
   "outputs": [
    {
     "name": "stdout",
     "output_type": "stream",
     "text": [
      "10\n"
     ]
    },
    {
     "data": {
      "text/plain": [
       "['VOI Material',\n",
       " 'Mass density',\n",
       " 'CT number',\n",
       " 'AAA',\n",
       " 'AXB Dw',\n",
       " 'AXB Dm',\n",
       " 'CCC',\n",
       " 'EGS',\n",
       " 'Mean',\n",
       " 'Max % error']"
      ]
     },
     "execution_count": 4,
     "metadata": {},
     "output_type": "execute_result"
    }
   ],
   "source": [
    "headers = list(df_table.columns.values)\n",
    "print(len(headers))\n",
    "headers  # get headers as these are no included when recast to matrix"
   ]
  },
  {
   "cell_type": "code",
   "execution_count": 5,
   "metadata": {
    "collapsed": false
   },
   "outputs": [
    {
     "data": {
      "text/plain": [
       "(10,)"
      ]
     },
     "execution_count": 5,
     "metadata": {},
     "output_type": "execute_result"
    }
   ],
   "source": [
    "headers = np.asarray(headers).T\n",
    "headers.shape"
   ]
  },
  {
   "cell_type": "code",
   "execution_count": 6,
   "metadata": {
    "collapsed": true
   },
   "outputs": [],
   "source": [
    "df_array = df_table.as_matrix()   # get table data as array"
   ]
  },
  {
   "cell_type": "code",
   "execution_count": 7,
   "metadata": {
    "collapsed": false
   },
   "outputs": [
    {
     "data": {
      "text/plain": [
       "(24, 10)"
      ]
     },
     "execution_count": 7,
     "metadata": {},
     "output_type": "execute_result"
    }
   ],
   "source": [
    "df_array.shape"
   ]
  },
  {
   "cell_type": "code",
   "execution_count": 8,
   "metadata": {
    "collapsed": false
   },
   "outputs": [
    {
     "data": {
      "text/plain": [
       "(25, 10)"
      ]
     },
     "execution_count": 8,
     "metadata": {},
     "output_type": "execute_result"
    }
   ],
   "source": [
    "df_array = np.insert(df_array, 0,headers, axis=0)   # re insert the headers\n",
    "df_array.shape"
   ]
  },
  {
   "cell_type": "code",
   "execution_count": 9,
   "metadata": {
    "collapsed": false
   },
   "outputs": [],
   "source": [
    "#df_array"
   ]
  },
  {
   "cell_type": "code",
   "execution_count": 10,
   "metadata": {
    "collapsed": false
   },
   "outputs": [
    {
     "data": {
      "text/html": [
       "<table border=\"1\" cellpadding=\"3\" cellspacing=\"0\"  style=\"border:1px solid black;border-collapse:collapse;\"><tr><td  style=\"background-color:LightGray;text-align:center;\"><b>VOI&nbspMaterial</b></td><td  style=\"background-color:LightGray;text-align:center;\"><b>Mass&nbspdensity</b></td><td  style=\"background-color:LightGray;text-align:center;\"><b>CT&nbspnumber</b></td><td  style=\"background-color:LightGray;text-align:center;\"><b>AAA</b></td><td  style=\"background-color:LightGray;text-align:center;\"><b>AXB&nbspDw</b></td><td  style=\"background-color:LightGray;text-align:center;\"><b>AXB&nbspDm</b></td><td  style=\"background-color:LightGray;text-align:center;\"><b>CCC</b></td><td  style=\"background-color:LightGray;text-align:center;\"><b>EGS</b></td><td  style=\"background-color:LightGray;text-align:center;\"><b>Mean</b></td><td  style=\"background-color:LightGray;text-align:center;\"><b>Max&nbsp%&nbsperror</b></td></tr><tr><td  style=\"background-color:Ivory;text-align:center;\">Air</td><td  style=\"background-color:Ivory;text-align:center;\">0.00</td><td  style=\"background-color:Ivory;text-align:center;\">-993.00</td><td  style=\"background-color:Ivory;text-align:center;\">1.03</td><td  style=\"background-color:Ivory;text-align:center;\">1.05</td><td  style=\"background-color:Ivory;text-align:center;\">0.91</td><td  style=\"background-color:Ivory;text-align:center;\">1.02</td><td  style=\"background-color:Ivory;text-align:center;\">0.97</td><td  style=\"background-color:Ivory;text-align:center;\">1.00</td><td  style=\"background-color:Ivory;text-align:center;\">15.44</td></tr><tr><td  style=\"background-color:AliceBlue;text-align:center;\">Lung</td><td  style=\"background-color:AliceBlue;text-align:center;\">0.26</td><td  style=\"background-color:AliceBlue;text-align:center;\">-734.00</td><td  style=\"background-color:AliceBlue;text-align:center;\">1.01</td><td  style=\"background-color:AliceBlue;text-align:center;\">1.02</td><td  style=\"background-color:AliceBlue;text-align:center;\">1.02</td><td  style=\"background-color:AliceBlue;text-align:center;\">-</td><td  style=\"background-color:AliceBlue;text-align:center;\">-</td><td  style=\"background-color:AliceBlue;text-align:center;\">1.02</td><td  style=\"background-color:AliceBlue;text-align:center;\">1.04</td></tr><tr><td  style=\"background-color:Ivory;text-align:center;\">-</td><td  style=\"background-color:Ivory;text-align:center;\">0.50</td><td  style=\"background-color:Ivory;text-align:center;\">-</td><td  style=\"background-color:Ivory;text-align:center;\">-</td><td  style=\"background-color:Ivory;text-align:center;\">-</td><td  style=\"background-color:Ivory;text-align:center;\">-</td><td  style=\"background-color:Ivory;text-align:center;\">1.02</td><td  style=\"background-color:Ivory;text-align:center;\">1.02</td><td  style=\"background-color:Ivory;text-align:center;\">1.02</td><td  style=\"background-color:Ivory;text-align:center;\">0.45</td></tr><tr><td  style=\"background-color:AliceBlue;text-align:center;\">Adipose&nbsptissue</td><td  style=\"background-color:AliceBlue;text-align:center;\">0.92</td><td  style=\"background-color:AliceBlue;text-align:center;\">-105.00</td><td  style=\"background-color:AliceBlue;text-align:center;\">1.01</td><td  style=\"background-color:AliceBlue;text-align:center;\">0.98</td><td  style=\"background-color:AliceBlue;text-align:center;\">1.00</td><td  style=\"background-color:AliceBlue;text-align:center;\">-</td><td  style=\"background-color:AliceBlue;text-align:center;\">-</td><td  style=\"background-color:AliceBlue;text-align:center;\">0.99</td><td  style=\"background-color:AliceBlue;text-align:center;\">2.68</td></tr><tr><td  style=\"background-color:Ivory;text-align:center;\">Water</td><td  style=\"background-color:Ivory;text-align:center;\">1.00</td><td  style=\"background-color:Ivory;text-align:center;\">0.00</td><td  style=\"background-color:Ivory;text-align:center;\">1.00</td><td  style=\"background-color:Ivory;text-align:center;\">1.00</td><td  style=\"background-color:Ivory;text-align:center;\">1.00</td><td  style=\"background-color:Ivory;text-align:center;\">1.00</td><td  style=\"background-color:Ivory;text-align:center;\">1.00</td><td  style=\"background-color:Ivory;text-align:center;\">1.00</td><td  style=\"background-color:Ivory;text-align:center;\">0.00</td></tr><tr><td  style=\"background-color:AliceBlue;text-align:center;\">Epoxy</td><td  style=\"background-color:AliceBlue;text-align:center;\">1.04</td><td  style=\"background-color:AliceBlue;text-align:center;\">38.00</td><td  style=\"background-color:AliceBlue;text-align:center;\">1.00</td><td  style=\"background-color:AliceBlue;text-align:center;\">1.02</td><td  style=\"background-color:AliceBlue;text-align:center;\">0.94</td><td  style=\"background-color:AliceBlue;text-align:center;\">-</td><td  style=\"background-color:AliceBlue;text-align:center;\">-</td><td  style=\"background-color:AliceBlue;text-align:center;\">0.99</td><td  style=\"background-color:AliceBlue;text-align:center;\">7.91</td></tr><tr><td  style=\"background-color:Ivory;text-align:center;\">Muscle&nbspskeletal</td><td  style=\"background-color:Ivory;text-align:center;\">1.05</td><td  style=\"background-color:Ivory;text-align:center;\">48.00</td><td  style=\"background-color:Ivory;text-align:center;\">1.00</td><td  style=\"background-color:Ivory;text-align:center;\">1.00</td><td  style=\"background-color:Ivory;text-align:center;\">0.99</td><td  style=\"background-color:Ivory;text-align:center;\">-</td><td  style=\"background-color:Ivory;text-align:center;\">-</td><td  style=\"background-color:Ivory;text-align:center;\">1.00</td><td  style=\"background-color:Ivory;text-align:center;\">1.46</td></tr><tr><td  style=\"background-color:AliceBlue;text-align:center;\">Cartilage</td><td  style=\"background-color:AliceBlue;text-align:center;\">1.10</td><td  style=\"background-color:AliceBlue;text-align:center;\">128.00</td><td  style=\"background-color:AliceBlue;text-align:center;\">0.99</td><td  style=\"background-color:AliceBlue;text-align:center;\">1.01</td><td  style=\"background-color:AliceBlue;text-align:center;\">0.98</td><td  style=\"background-color:AliceBlue;text-align:center;\">-</td><td  style=\"background-color:AliceBlue;text-align:center;\">-</td><td  style=\"background-color:AliceBlue;text-align:center;\">1.00</td><td  style=\"background-color:AliceBlue;text-align:center;\">2.53</td></tr><tr><td  style=\"background-color:Ivory;text-align:center;\">PMMA</td><td  style=\"background-color:Ivory;text-align:center;\">1.19</td><td  style=\"background-color:Ivory;text-align:center;\">282.00</td><td  style=\"background-color:Ivory;text-align:center;\">0.99</td><td  style=\"background-color:Ivory;text-align:center;\">0.99</td><td  style=\"background-color:Ivory;text-align:center;\">0.96</td><td  style=\"background-color:Ivory;text-align:center;\">-</td><td  style=\"background-color:Ivory;text-align:center;\">-</td><td  style=\"background-color:Ivory;text-align:center;\">0.98</td><td  style=\"background-color:Ivory;text-align:center;\">3.55</td></tr><tr><td  style=\"background-color:AliceBlue;text-align:center;\">Radel</td><td  style=\"background-color:AliceBlue;text-align:center;\">1.30</td><td  style=\"background-color:AliceBlue;text-align:center;\">470.00</td><td  style=\"background-color:AliceBlue;text-align:center;\">0.99</td><td  style=\"background-color:AliceBlue;text-align:center;\">1.02</td><td  style=\"background-color:AliceBlue;text-align:center;\">0.93</td><td  style=\"background-color:AliceBlue;text-align:center;\">-</td><td  style=\"background-color:AliceBlue;text-align:center;\">-</td><td  style=\"background-color:AliceBlue;text-align:center;\">0.98</td><td  style=\"background-color:AliceBlue;text-align:center;\">10.01</td></tr><tr><td  style=\"background-color:Ivory;text-align:center;\">PEEK</td><td  style=\"background-color:Ivory;text-align:center;\">1.31</td><td  style=\"background-color:Ivory;text-align:center;\">487.00</td><td  style=\"background-color:Ivory;text-align:center;\">0.99</td><td  style=\"background-color:Ivory;text-align:center;\">1.00</td><td  style=\"background-color:Ivory;text-align:center;\">0.92</td><td  style=\"background-color:Ivory;text-align:center;\">-</td><td  style=\"background-color:Ivory;text-align:center;\">-</td><td  style=\"background-color:Ivory;text-align:center;\">0.97</td><td  style=\"background-color:Ivory;text-align:center;\">8.65</td></tr><tr><td  style=\"background-color:AliceBlue;text-align:center;\">PVC</td><td  style=\"background-color:AliceBlue;text-align:center;\">1.38</td><td  style=\"background-color:AliceBlue;text-align:center;\">605.00</td><td  style=\"background-color:AliceBlue;text-align:center;\">0.99</td><td  style=\"background-color:AliceBlue;text-align:center;\">1.14</td><td  style=\"background-color:AliceBlue;text-align:center;\">0.94</td><td  style=\"background-color:AliceBlue;text-align:center;\">-</td><td  style=\"background-color:AliceBlue;text-align:center;\">-</td><td  style=\"background-color:AliceBlue;text-align:center;\">1.02</td><td  style=\"background-color:AliceBlue;text-align:center;\">21.54</td></tr><tr><td  style=\"background-color:Ivory;text-align:center;\">Acetal</td><td  style=\"background-color:Ivory;text-align:center;\">1.42</td><td  style=\"background-color:Ivory;text-align:center;\">671.00</td><td  style=\"background-color:Ivory;text-align:center;\">0.99</td><td  style=\"background-color:Ivory;text-align:center;\">1.00</td><td  style=\"background-color:Ivory;text-align:center;\">0.95</td><td  style=\"background-color:Ivory;text-align:center;\">-</td><td  style=\"background-color:Ivory;text-align:center;\">-</td><td  style=\"background-color:Ivory;text-align:center;\">0.98</td><td  style=\"background-color:Ivory;text-align:center;\">5.68</td></tr><tr><td  style=\"background-color:AliceBlue;text-align:center;\">-</td><td  style=\"background-color:AliceBlue;text-align:center;\">1.50</td><td  style=\"background-color:AliceBlue;text-align:center;\">-</td><td  style=\"background-color:AliceBlue;text-align:center;\">-</td><td  style=\"background-color:AliceBlue;text-align:center;\">-</td><td  style=\"background-color:AliceBlue;text-align:center;\">-</td><td  style=\"background-color:AliceBlue;text-align:center;\">0.97</td><td  style=\"background-color:AliceBlue;text-align:center;\">0.97</td><td  style=\"background-color:AliceBlue;text-align:center;\">0.97</td><td  style=\"background-color:AliceBlue;text-align:center;\">0.59</td></tr><tr><td  style=\"background-color:Ivory;text-align:center;\">PVDF</td><td  style=\"background-color:Ivory;text-align:center;\">1.77</td><td  style=\"background-color:Ivory;text-align:center;\">1283.00</td><td  style=\"background-color:Ivory;text-align:center;\">0.98</td><td  style=\"background-color:Ivory;text-align:center;\">1.02</td><td  style=\"background-color:Ivory;text-align:center;\">0.89</td><td  style=\"background-color:Ivory;text-align:center;\">-</td><td  style=\"background-color:Ivory;text-align:center;\">-</td><td  style=\"background-color:Ivory;text-align:center;\">0.96</td><td  style=\"background-color:Ivory;text-align:center;\">14.94</td></tr><tr><td  style=\"background-color:AliceBlue;text-align:center;\">Bone</td><td  style=\"background-color:AliceBlue;text-align:center;\">1.85</td><td  style=\"background-color:AliceBlue;text-align:center;\">1430.00</td><td  style=\"background-color:AliceBlue;text-align:center;\">0.98</td><td  style=\"background-color:AliceBlue;text-align:center;\">1.08</td><td  style=\"background-color:AliceBlue;text-align:center;\">0.94</td><td  style=\"background-color:AliceBlue;text-align:center;\">-</td><td  style=\"background-color:AliceBlue;text-align:center;\">-</td><td  style=\"background-color:AliceBlue;text-align:center;\">1.00</td><td  style=\"background-color:AliceBlue;text-align:center;\">14.99</td></tr><tr><td  style=\"background-color:Ivory;text-align:center;\">-</td><td  style=\"background-color:Ivory;text-align:center;\">2.00</td><td  style=\"background-color:Ivory;text-align:center;\">-</td><td  style=\"background-color:Ivory;text-align:center;\">-</td><td  style=\"background-color:Ivory;text-align:center;\">-</td><td  style=\"background-color:Ivory;text-align:center;\">-</td><td  style=\"background-color:Ivory;text-align:center;\">0.93</td><td  style=\"background-color:Ivory;text-align:center;\">0.95</td><td  style=\"background-color:Ivory;text-align:center;\">0.94</td><td  style=\"background-color:Ivory;text-align:center;\">1.98</td></tr><tr><td  style=\"background-color:AliceBlue;text-align:center;\">PTFE</td><td  style=\"background-color:AliceBlue;text-align:center;\">2.20</td><td  style=\"background-color:AliceBlue;text-align:center;\">2041.00</td><td  style=\"background-color:AliceBlue;text-align:center;\">0.97</td><td  style=\"background-color:AliceBlue;text-align:center;\">1.03</td><td  style=\"background-color:AliceBlue;text-align:center;\">0.85</td><td  style=\"background-color:AliceBlue;text-align:center;\">-</td><td  style=\"background-color:AliceBlue;text-align:center;\">-</td><td  style=\"background-color:AliceBlue;text-align:center;\">0.95</td><td  style=\"background-color:AliceBlue;text-align:center;\">22.14</td></tr><tr><td  style=\"background-color:Ivory;text-align:center;\">-</td><td  style=\"background-color:Ivory;text-align:center;\">2.50</td><td  style=\"background-color:Ivory;text-align:center;\">-</td><td  style=\"background-color:Ivory;text-align:center;\">-</td><td  style=\"background-color:Ivory;text-align:center;\">-</td><td  style=\"background-color:Ivory;text-align:center;\">-</td><td  style=\"background-color:Ivory;text-align:center;\">0.88</td><td  style=\"background-color:Ivory;text-align:center;\">0.92</td><td  style=\"background-color:Ivory;text-align:center;\">0.90</td><td  style=\"background-color:Ivory;text-align:center;\">4.33</td></tr><tr><td  style=\"background-color:AliceBlue;text-align:center;\">Aluminium</td><td  style=\"background-color:AliceBlue;text-align:center;\">2.70</td><td  style=\"background-color:AliceBlue;text-align:center;\">2913.00</td><td  style=\"background-color:AliceBlue;text-align:center;\">0.95</td><td  style=\"background-color:AliceBlue;text-align:center;\">1.20</td><td  style=\"background-color:AliceBlue;text-align:center;\">0.83</td><td  style=\"background-color:AliceBlue;text-align:center;\">-</td><td  style=\"background-color:AliceBlue;text-align:center;\">-</td><td  style=\"background-color:AliceBlue;text-align:center;\">0.99</td><td  style=\"background-color:AliceBlue;text-align:center;\">43.71</td></tr><tr><td  style=\"background-color:Ivory;text-align:center;\">-</td><td  style=\"background-color:Ivory;text-align:center;\">3.00</td><td  style=\"background-color:Ivory;text-align:center;\">-</td><td  style=\"background-color:Ivory;text-align:center;\">-</td><td  style=\"background-color:Ivory;text-align:center;\">-</td><td  style=\"background-color:Ivory;text-align:center;\">-</td><td  style=\"background-color:Ivory;text-align:center;\">0.85</td><td  style=\"background-color:Ivory;text-align:center;\">0.90</td><td  style=\"background-color:Ivory;text-align:center;\">0.88</td><td  style=\"background-color:Ivory;text-align:center;\">5.42</td></tr><tr><td  style=\"background-color:AliceBlue;text-align:center;\">-</td><td  style=\"background-color:AliceBlue;text-align:center;\">3.50</td><td  style=\"background-color:AliceBlue;text-align:center;\">-</td><td  style=\"background-color:AliceBlue;text-align:center;\">-</td><td  style=\"background-color:AliceBlue;text-align:center;\">-</td><td  style=\"background-color:AliceBlue;text-align:center;\">-</td><td  style=\"background-color:AliceBlue;text-align:center;\">0.84</td><td  style=\"background-color:AliceBlue;text-align:center;\">0.87</td><td  style=\"background-color:AliceBlue;text-align:center;\">0.86</td><td  style=\"background-color:AliceBlue;text-align:center;\">4.18</td></tr><tr><td  style=\"background-color:Ivory;text-align:center;\">-</td><td  style=\"background-color:Ivory;text-align:center;\">4.00</td><td  style=\"background-color:Ivory;text-align:center;\">-</td><td  style=\"background-color:Ivory;text-align:center;\">-</td><td  style=\"background-color:Ivory;text-align:center;\">-</td><td  style=\"background-color:Ivory;text-align:center;\">-</td><td  style=\"background-color:Ivory;text-align:center;\">0.82</td><td  style=\"background-color:Ivory;text-align:center;\">0.85</td><td  style=\"background-color:Ivory;text-align:center;\">0.84</td><td  style=\"background-color:Ivory;text-align:center;\">3.71</td></tr><tr><td  style=\"background-color:AliceBlue;text-align:center;\">Titanium&nbspalloy</td><td  style=\"background-color:AliceBlue;text-align:center;\">4.42</td><td  style=\"background-color:AliceBlue;text-align:center;\">5908.00</td><td  style=\"background-color:AliceBlue;text-align:center;\">0.88</td><td  style=\"background-color:AliceBlue;text-align:center;\">1.30</td><td  style=\"background-color:AliceBlue;text-align:center;\">0.81</td><td  style=\"background-color:AliceBlue;text-align:center;\">-</td><td  style=\"background-color:AliceBlue;text-align:center;\">-</td><td  style=\"background-color:AliceBlue;text-align:center;\">1.00</td><td  style=\"background-color:AliceBlue;text-align:center;\">60.52</td></tr></table>"
      ],
      "text/plain": [
       "<ipy_table.IpyTable at 0x715c8d0>"
      ]
     },
     "execution_count": 10,
     "metadata": {},
     "output_type": "execute_result"
    }
   ],
   "source": [
    "make_table(df_array)\n",
    "apply_theme('basic')\n",
    "\n",
    "#set_global_style(float_format='%0.3E') # experiment with \n",
    "set_global_style(float_format=\"%.2f\")\n",
    "set_global_style(align='center')"
   ]
  },
  {
   "cell_type": "code",
   "execution_count": 76,
   "metadata": {
    "collapsed": true
   },
   "outputs": [],
   "source": [
    "?set_cell_style"
   ]
  },
  {
   "cell_type": "code",
   "execution_count": null,
   "metadata": {
    "collapsed": true
   },
   "outputs": [],
   "source": []
  }
 ],
 "metadata": {
  "anaconda-cloud": {},
  "kernelspec": {
   "display_name": "Python [conda env:dicompyler2_7]",
   "language": "python",
   "name": "conda-env-dicompyler2_7-py"
  },
  "language_info": {
   "codemirror_mode": {
    "name": "ipython",
    "version": 2
   },
   "file_extension": ".py",
   "mimetype": "text/x-python",
   "name": "python",
   "nbconvert_exporter": "python",
   "pygments_lexer": "ipython2",
   "version": "2.7.12"
  }
 },
 "nbformat": 4,
 "nbformat_minor": 1
}
