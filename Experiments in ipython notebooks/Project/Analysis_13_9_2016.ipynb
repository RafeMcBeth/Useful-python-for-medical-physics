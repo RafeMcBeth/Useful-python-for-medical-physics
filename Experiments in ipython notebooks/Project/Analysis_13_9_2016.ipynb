{
 "cells": [
  {
   "cell_type": "markdown",
   "metadata": {},
   "source": [
    "Useful \n",
    "   * http://pandas.pydata.org/pandas-docs/stable/10min.html\n",
    "   * http://machinelearningmastery.com/quick-and-dirty-data-analysis-with-pandas/\n",
    "   * http://bconnelly.net/2013/10/summarizing-data-in-python-with-pandas/ for understanding groupby"
   ]
  },
  {
   "cell_type": "markdown",
   "metadata": {},
   "source": [
    "Have used web page at https://github.com/cran/DVHmetrics to upload all dvh text files and queried to get desired metrics which are downloaded as a comma seperated text file, rename extension .csv.\n",
    "\n",
    "\n",
    "For all available structures I export the following metrics\n",
    "\n",
    "\n",
    "    D2%, D5%, D50%, D95%, D99%, D1cc,  D0.1cc, DMAX, DSD, DHI, V5Gy, V12.5Gy, V20Gy, V30Gy , V40Gy, V50Gy,  V55Gy  "
   ]
  },
  {
   "cell_type": "code",
   "execution_count": 2,
   "metadata": {
    "collapsed": true
   },
   "outputs": [],
   "source": [
    "import pandas as pd\n",
    "import numpy as np\n",
    "import matplotlib.pyplot as plt\n",
    "%matplotlib inline"
   ]
  },
  {
   "cell_type": "code",
   "execution_count": 230,
   "metadata": {
    "collapsed": false
   },
   "outputs": [],
   "source": [
    "AAA_df = pd.read_csv('AAA_metrics.csv')  # import AAA data\n",
    "Dm_df = pd.read_csv('Dm_metrics.csv')  \n",
    "#Dw_df = pd.read_csv('Dw_metrics.csv')  # dont analyse for time being"
   ]
  },
  {
   "cell_type": "markdown",
   "metadata": {},
   "source": [
    "parse patID to get Case"
   ]
  },
  {
   "cell_type": "code",
   "execution_count": 231,
   "metadata": {
    "collapsed": false
   },
   "outputs": [
    {
     "data": {
      "text/html": [
       "<div>\n",
       "<table border=\"1\" class=\"dataframe\">\n",
       "  <thead>\n",
       "    <tr style=\"text-align: right;\">\n",
       "      <th></th>\n",
       "      <th>AAA</th>\n",
       "      <th>metric</th>\n",
       "      <th>structure</th>\n",
       "      <th>Case</th>\n",
       "    </tr>\n",
       "  </thead>\n",
       "  <tbody>\n",
       "    <tr>\n",
       "      <th>0</th>\n",
       "      <td>70.416875</td>\n",
       "      <td>D2%</td>\n",
       "      <td>GTV</td>\n",
       "      <td>Case1</td>\n",
       "    </tr>\n",
       "    <tr>\n",
       "      <th>1</th>\n",
       "      <td>69.936453</td>\n",
       "      <td>D5%</td>\n",
       "      <td>GTV</td>\n",
       "      <td>Case1</td>\n",
       "    </tr>\n",
       "    <tr>\n",
       "      <th>2</th>\n",
       "      <td>68.431595</td>\n",
       "      <td>D50%</td>\n",
       "      <td>GTV</td>\n",
       "      <td>Case1</td>\n",
       "    </tr>\n",
       "    <tr>\n",
       "      <th>3</th>\n",
       "      <td>65.858142</td>\n",
       "      <td>D95%</td>\n",
       "      <td>GTV</td>\n",
       "      <td>Case1</td>\n",
       "    </tr>\n",
       "    <tr>\n",
       "      <th>4</th>\n",
       "      <td>65.005944</td>\n",
       "      <td>D99%</td>\n",
       "      <td>GTV</td>\n",
       "      <td>Case1</td>\n",
       "    </tr>\n",
       "  </tbody>\n",
       "</table>\n",
       "</div>"
      ],
      "text/plain": [
       "         AAA metric structure   Case\n",
       "0  70.416875    D2%       GTV  Case1\n",
       "1  69.936453    D5%       GTV  Case1\n",
       "2  68.431595   D50%       GTV  Case1\n",
       "3  65.858142   D95%       GTV  Case1\n",
       "4  65.005944   D99%       GTV  Case1"
      ]
     },
     "execution_count": 231,
     "metadata": {},
     "output_type": "execute_result"
    }
   ],
   "source": [
    "AAA_df['Case'] = AAA_df['patID'].str.split('_').str.get(0)  # get the case ID e.g. case1\n",
    "AAA_df = AAA_df.drop('patID', 1)                            # drop patID\n",
    "AAA_df.rename(columns={'observed': 'AAA'}, inplace=True)    # rename \n",
    "AAA_df.head()"
   ]
  },
  {
   "cell_type": "code",
   "execution_count": 232,
   "metadata": {
    "collapsed": false
   },
   "outputs": [],
   "source": [
    "Dm_df['Case'] = Dm_df['patID'].str.split('_').str.get(0)\n",
    "Dm_df = Dm_df.drop('patID', 1)\n",
    "Dm_df.rename(columns={'observed': 'Dm'}, inplace=True)    # rename "
   ]
  },
  {
   "cell_type": "markdown",
   "metadata": {},
   "source": [
    "Check which metrics have I exported"
   ]
  },
  {
   "cell_type": "code",
   "execution_count": 213,
   "metadata": {
    "collapsed": false
   },
   "outputs": [
    {
     "name": "stdout",
     "output_type": "stream",
     "text": [
      "['Case1' 'Case11' 'Case12' 'Case13' 'Case14' 'Case16' 'Case17' 'Case18'\n",
      " 'Case22' 'Case23' 'Case25' 'Case30' 'Case31' 'Case32']\n",
      "The number of unique patients is 14\n",
      "['D2%' 'D5%' 'D50%' 'D95%' 'D99%' 'D1CC' 'D0.1CC' 'DMAX' 'DSD' 'DHI' 'V5GY'\n",
      " 'V12.5GY' 'V20GY' 'V30GY' 'V40GY' 'V50GY' 'V55GY']\n",
      "The number of unique metrics is 17\n",
      "['GTV' 'Heart' 'Foramen' 'Oesophagus' 'Trachea' 'Bronchial tree'\n",
      " 'L Brachial plex' 'Rt Brachial plex' 'PTV CHEST' 'Lt_Lung' 'Rt_Lung'\n",
      " 'Both Lungs-ITV' 'skin' 'ribs' 'R Brachial plex' 'Foramen+3mm'\n",
      " 'Both Lungs' 'LT Lung' 'BODY' 'Skin-PTV+2cm' 'PTV ring 2-3cm' 'Ribs-PTV'\n",
      " 'PseudoPTV-ITV' 'CONTRAST']\n",
      "The number of unique structures is 24\n"
     ]
    }
   ],
   "source": [
    "print (AAA_df.Case.unique())\n",
    "print (\"The number of unique patients is \" + str(len((AAA_df.Case.unique() ))))\n",
    "print (AAA_df.metric.unique())\n",
    "print (\"The number of unique metrics is \" + str(len((AAA_df.metric.unique() ))))\n",
    "print (AAA_df.structure.unique())\n",
    "print (\"The number of unique structures is \" + str(len((AAA_df.structure.unique() ))))"
   ]
  },
  {
   "cell_type": "code",
   "execution_count": 175,
   "metadata": {
    "collapsed": false
   },
   "outputs": [
    {
     "name": "stdout",
     "output_type": "stream",
     "text": [
      "total possible number of entries is 5712\n",
      "the actual number of AAA entries is 3723\n",
      "the actual number of Dm entries is 3842\n"
     ]
    }
   ],
   "source": [
    "AAA_poss_entries = len(AAA_df.structure.unique()) * len((AAA_df.metric.unique() ))  * len((AAA_df.Case.unique() ))\n",
    "print(\"total possible number of entries is \" + str(AAA_poss_entries))\n",
    "print(\"the actual number of AAA entries is \" + str(len(AAA_df)))\n",
    "print(\"the actual number of Dm entries is \" + str(len(Dm_df)))\n",
    "#print(\"the actual number of Dw entries is \" + str(len(Dw_df)))"
   ]
  },
  {
   "cell_type": "markdown",
   "metadata": {},
   "source": [
    "Not all structures were exported in some cases due to the manual process so number of AAA and Dm entries differ. Need to keep only entries which are common"
   ]
  },
  {
   "cell_type": "code",
   "execution_count": 227,
   "metadata": {
    "collapsed": false
   },
   "outputs": [
    {
     "data": {
      "text/plain": [
       "structure\n",
       "BODY                 3\n",
       "Both Lungs           5\n",
       "Both Lungs-ITV      12\n",
       "Bronchial tree      13\n",
       "CONTRAST             2\n",
       "Foramen             13\n",
       "Foramen+3mm         12\n",
       "GTV                  4\n",
       "Heart               14\n",
       "L Brachial plex     15\n",
       "LT Lung              1\n",
       "Lt_Lung             13\n",
       "Oesophagus          14\n",
       "PTV CHEST           14\n",
       "PTV ring 2-3cm       8\n",
       "PseudoPTV-ITV       14\n",
       "R Brachial plex      7\n",
       "Ribs-PTV             7\n",
       "Rt Brachial plex     4\n",
       "Rt_Lung             14\n",
       "Skin-PTV+2cm         6\n",
       "Trachea             13\n",
       "ribs                10\n",
       "skin                 1\n",
       "Name: AAA, dtype: int64"
      ]
     },
     "execution_count": 227,
     "metadata": {},
     "output_type": "execute_result"
    }
   ],
   "source": [
    "AAA_df_groupby_structure = AAA_df[AAA_df['metric'] == 'D50%'].groupby([ 'structure'])\n",
    "#AAA_df_groupby_structure = AAA_df.groupby([ 'structure', 'metric'])\n",
    "AAA_df_groupby_structure.AAA.count()"
   ]
  },
  {
   "cell_type": "code",
   "execution_count": 228,
   "metadata": {
    "collapsed": false
   },
   "outputs": [
    {
     "data": {
      "text/plain": [
       "structure\n",
       "BODY                 4\n",
       "Both Lungs           5\n",
       "Both Lungs-ITV      13\n",
       "Bronchial tree      14\n",
       "CONTRAST             2\n",
       "Foramen             13\n",
       "Foramen+3mm         13\n",
       "GTV                  4\n",
       "Heart               14\n",
       "L Brachial plex     15\n",
       "LT Lung              1\n",
       "Lt_Lung             13\n",
       "Oesophagus          14\n",
       "PTV CHEST           14\n",
       "PTV ring 2-3cm       8\n",
       "PseudoPTV-ITV       14\n",
       "R Brachial plex      9\n",
       "Ribs                 1\n",
       "Ribs-PTV             8\n",
       "Rt Brachial plex     4\n",
       "Rt_Lung             14\n",
       "Skin-PTV+2cm         6\n",
       "Trachea             14\n",
       "ribs                 9\n",
       "Name: Dm, dtype: int64"
      ]
     },
     "execution_count": 228,
     "metadata": {},
     "output_type": "execute_result"
    }
   ],
   "source": [
    "Dm_df_groupby_structure = Dm_df[Dm_df['metric'] == 'D50%'].groupby([ 'structure'])\n",
    "Dm_df_groupby_structure.Dm.count()"
   ]
  },
  {
   "cell_type": "markdown",
   "metadata": {},
   "source": [
    "# Here\n",
    "\n",
    "Compare dataframs and only keep entries common to both, see http://stackoverflow.com/questions/26921943/pandas-intersection-of-two-data-frames-based-on-column-entries\n",
    "\n",
    "And http://pandas.pydata.org/pandas-docs/stable/merging.html#database-style-dataframe-joining-merging"
   ]
  },
  {
   "cell_type": "code",
   "execution_count": 206,
   "metadata": {
    "collapsed": false
   },
   "outputs": [
    {
     "name": "stdout",
     "output_type": "stream",
     "text": [
      "4896\n"
     ]
    }
   ],
   "source": [
    "data = pd.merge(AAA_df, Dm_df, how='inner', on=['structure', 'metric', 'Case'])  # merge on common\n",
    "#data = data[['Case', 'structure','metric','AAA','Dm']]      # rearrange columns\n",
    "\n",
    "print(len(data))"
   ]
  },
  {
   "cell_type": "code",
   "execution_count": 195,
   "metadata": {
    "collapsed": false
   },
   "outputs": [
    {
     "data": {
      "text/html": [
       "<div>\n",
       "<table border=\"1\" class=\"dataframe\">\n",
       "  <thead>\n",
       "    <tr style=\"text-align: right;\">\n",
       "      <th></th>\n",
       "      <th>Case</th>\n",
       "      <th>structure</th>\n",
       "      <th>metric</th>\n",
       "      <th>AAA</th>\n",
       "      <th>Dm</th>\n",
       "    </tr>\n",
       "  </thead>\n",
       "  <tbody>\n",
       "    <tr>\n",
       "      <th>0</th>\n",
       "      <td>Case1</td>\n",
       "      <td>GTV</td>\n",
       "      <td>D2%</td>\n",
       "      <td>70.416875</td>\n",
       "      <td>69.866751</td>\n",
       "    </tr>\n",
       "    <tr>\n",
       "      <th>1</th>\n",
       "      <td>Case1</td>\n",
       "      <td>GTV</td>\n",
       "      <td>D5%</td>\n",
       "      <td>69.936453</td>\n",
       "      <td>69.518475</td>\n",
       "    </tr>\n",
       "    <tr>\n",
       "      <th>2</th>\n",
       "      <td>Case1</td>\n",
       "      <td>GTV</td>\n",
       "      <td>D50%</td>\n",
       "      <td>68.431595</td>\n",
       "      <td>67.531335</td>\n",
       "    </tr>\n",
       "    <tr>\n",
       "      <th>3</th>\n",
       "      <td>Case1</td>\n",
       "      <td>GTV</td>\n",
       "      <td>D95%</td>\n",
       "      <td>65.858142</td>\n",
       "      <td>65.116713</td>\n",
       "    </tr>\n",
       "    <tr>\n",
       "      <th>4</th>\n",
       "      <td>Case1</td>\n",
       "      <td>GTV</td>\n",
       "      <td>D99%</td>\n",
       "      <td>65.005944</td>\n",
       "      <td>64.064209</td>\n",
       "    </tr>\n",
       "  </tbody>\n",
       "</table>\n",
       "</div>"
      ],
      "text/plain": [
       "    Case structure metric        AAA         Dm\n",
       "0  Case1       GTV    D2%  70.416875  69.866751\n",
       "1  Case1       GTV    D5%  69.936453  69.518475\n",
       "2  Case1       GTV   D50%  68.431595  67.531335\n",
       "3  Case1       GTV   D95%  65.858142  65.116713\n",
       "4  Case1       GTV   D99%  65.005944  64.064209"
      ]
     },
     "execution_count": 195,
     "metadata": {},
     "output_type": "execute_result"
    }
   ],
   "source": [
    "data.head()"
   ]
  },
  {
   "cell_type": "code",
   "execution_count": 178,
   "metadata": {
    "collapsed": false
   },
   "outputs": [
    {
     "data": {
      "text/plain": [
       "structure\n",
       "BODY                  51\n",
       "Both Lungs            85\n",
       "Both Lungs-ITV       170\n",
       "Bronchial tree       204\n",
       "CONTRAST              34\n",
       "Foramen              204\n",
       "Foramen+3mm          187\n",
       "GTV                   68\n",
       "Heart                221\n",
       "L Brachial plex      272\n",
       "LT Lung               17\n",
       "Lt_Lung              204\n",
       "Oesophagus           221\n",
       "PTV CHEST            221\n",
       "PTV ring 2-3cm       374\n",
       "PseudoPTV-ITV       1156\n",
       "R Brachial plex       85\n",
       "Ribs-PTV             289\n",
       "Rt Brachial plex      68\n",
       "Rt_Lung              221\n",
       "Skin-PTV+2cm         204\n",
       "Trachea              204\n",
       "ribs                 136\n",
       "Name: Case, dtype: int64"
      ]
     },
     "execution_count": 178,
     "metadata": {},
     "output_type": "execute_result"
    }
   ],
   "source": [
    "data_groupby_structure = data.groupby(['structure'])\n",
    "data_groupby_structure.Case.count()"
   ]
  },
  {
   "cell_type": "markdown",
   "metadata": {},
   "source": [
    "Sanity check that data munging has been successful"
   ]
  },
  {
   "cell_type": "code",
   "execution_count": 181,
   "metadata": {
    "collapsed": false
   },
   "outputs": [
    {
     "name": "stdout",
     "output_type": "stream",
     "text": [
      "1775    17.875\n",
      "Name: AAA, dtype: float64\n",
      "1826    18.04\n",
      "Name: Dm, dtype: float64\n",
      "        Case structure metric     AAA     Dm\n",
      "1486  Case22     Heart   DMAX  17.875  18.04\n"
     ]
    }
   ],
   "source": [
    "import random\n",
    "test_metric = random.choice(data.metric.unique())\n",
    "test_structure = random.choice(data.structure.unique())\n",
    "test_case = random.choice(data.Case.unique())\n",
    "\n",
    "AAA_test =  AAA_df[(AAA_df['metric'] == test_metric) & (AAA_df['structure'] == test_structure) & (AAA_df['Case'] == test_case)]\n",
    "print(AAA_test.AAA)\n",
    "\n",
    "Dm_test =  Dm_df[(Dm_df['metric'] == test_metric) & (Dm_df['structure'] == test_structure) & (Dm_df['Case'] == test_case)]\n",
    "print(Dm_test.Dm)\n",
    "\n",
    "data_test = data[(data['metric'] == test_metric) & (data['structure'] == test_structure) & (data['Case'] == test_case)]\n",
    "print(data_test)"
   ]
  },
  {
   "cell_type": "markdown",
   "metadata": {},
   "source": [
    "Some strcuture appear more than once per case, e.g. Case31  Skin-PTV+2cm"
   ]
  },
  {
   "cell_type": "code",
   "execution_count": 151,
   "metadata": {
    "collapsed": false
   },
   "outputs": [
    {
     "data": {
      "text/plain": [
       "'D1CC'"
      ]
     },
     "execution_count": 151,
     "metadata": {},
     "output_type": "execute_result"
    }
   ],
   "source": [
    "import random\n",
    "test_metric = random.choice(data.metric.unique())\n",
    "test_metric"
   ]
  },
  {
   "cell_type": "code",
   "execution_count": 220,
   "metadata": {
    "collapsed": false
   },
   "outputs": [],
   "source": [
    "#AAA_df_groupby_structure = AAA_df[AAA_df['structure'] == 'PTV CHEST'].groupby([ 'metric', 'structure'])\n",
    "AAA_df_groupby_structure = AAA_df.groupby([ 'structure', 'metric'])\n",
    "#AAA_df_groupby_structure.count()"
   ]
  },
  {
   "cell_type": "code",
   "execution_count": 23,
   "metadata": {
    "collapsed": true
   },
   "outputs": [],
   "source": [
    "AAA_df.groupby?"
   ]
  },
  {
   "cell_type": "markdown",
   "metadata": {},
   "source": [
    "And structures"
   ]
  },
  {
   "cell_type": "markdown",
   "metadata": {},
   "source": [
    "Get info about 1 metric and structure, return an array"
   ]
  },
  {
   "cell_type": "code",
   "execution_count": 15,
   "metadata": {
    "collapsed": false
   },
   "outputs": [],
   "source": [
    "AAA_df_D50_Chest =   AAA_df.observed[(AAA_df['metric'] == 'D50%') & (AAA_df['structure'] == 'PTV CHEST')]  # get dmean for PTV"
   ]
  },
  {
   "cell_type": "code",
   "execution_count": 18,
   "metadata": {
    "collapsed": false
   },
   "outputs": [
    {
     "data": {
      "text/plain": [
       "count    14.000000\n",
       "mean     63.821273\n",
       "std       2.280658\n",
       "min      58.717695\n",
       "25%      62.838605\n",
       "50%      64.536989\n",
       "75%      65.574917\n",
       "max      66.714681\n",
       "Name: observed, dtype: float64"
      ]
     },
     "execution_count": 18,
     "metadata": {},
     "output_type": "execute_result"
    }
   ],
   "source": [
    "AAA_df_D50_Chest.describe()  # get dmean for PTV"
   ]
  },
  {
   "cell_type": "code",
   "execution_count": 19,
   "metadata": {
    "collapsed": false
   },
   "outputs": [],
   "source": [
    "Dm_df_D50_Chest =   Dm_df.observed[(Dm_df['metric'] == 'D50%') & (Dm_df['structure'] == 'PTV CHEST')]  # get dmean for PTV\n",
    "Dm_df_D50_Oesophagus =   Dm_df.observed[(Dm_df['metric'] == 'D50%') & (Dm_df['structure'] == 'Oesophagus')]  # get dmean for PTV"
   ]
  },
  {
   "cell_type": "markdown",
   "metadata": {},
   "source": [
    "Place structures info into a new dataframe"
   ]
  },
  {
   "cell_type": "code",
   "execution_count": 20,
   "metadata": {
    "collapsed": false
   },
   "outputs": [],
   "source": [
    "Dm_structures_df = pd.DataFrame({'ChestPTV': Dm_df_D50_Chest.as_matrix(),\n",
    "                                'Oesophagus': Dm_df_D50_Oesophagus.as_matrix() })"
   ]
  },
  {
   "cell_type": "code",
   "execution_count": 21,
   "metadata": {
    "collapsed": false
   },
   "outputs": [
    {
     "data": {
      "text/html": [
       "<div>\n",
       "<table border=\"1\" class=\"dataframe\">\n",
       "  <thead>\n",
       "    <tr style=\"text-align: right;\">\n",
       "      <th></th>\n",
       "      <th>ChestPTV</th>\n",
       "      <th>Oesophagus</th>\n",
       "    </tr>\n",
       "  </thead>\n",
       "  <tbody>\n",
       "    <tr>\n",
       "      <th>count</th>\n",
       "      <td>14.000000</td>\n",
       "      <td>14.000000</td>\n",
       "    </tr>\n",
       "    <tr>\n",
       "      <th>mean</th>\n",
       "      <td>64.063104</td>\n",
       "      <td>1.268311</td>\n",
       "    </tr>\n",
       "    <tr>\n",
       "      <th>std</th>\n",
       "      <td>2.945856</td>\n",
       "      <td>2.692071</td>\n",
       "    </tr>\n",
       "    <tr>\n",
       "      <th>min</th>\n",
       "      <td>58.326234</td>\n",
       "      <td>0.162849</td>\n",
       "    </tr>\n",
       "    <tr>\n",
       "      <th>25%</th>\n",
       "      <td>63.880134</td>\n",
       "      <td>0.317761</td>\n",
       "    </tr>\n",
       "    <tr>\n",
       "      <th>50%</th>\n",
       "      <td>64.794591</td>\n",
       "      <td>0.385124</td>\n",
       "    </tr>\n",
       "    <tr>\n",
       "      <th>75%</th>\n",
       "      <td>66.122215</td>\n",
       "      <td>1.021224</td>\n",
       "    </tr>\n",
       "    <tr>\n",
       "      <th>max</th>\n",
       "      <td>67.277357</td>\n",
       "      <td>10.533275</td>\n",
       "    </tr>\n",
       "  </tbody>\n",
       "</table>\n",
       "</div>"
      ],
      "text/plain": [
       "        ChestPTV  Oesophagus\n",
       "count  14.000000   14.000000\n",
       "mean   64.063104    1.268311\n",
       "std     2.945856    2.692071\n",
       "min    58.326234    0.162849\n",
       "25%    63.880134    0.317761\n",
       "50%    64.794591    0.385124\n",
       "75%    66.122215    1.021224\n",
       "max    67.277357   10.533275"
      ]
     },
     "execution_count": 21,
     "metadata": {},
     "output_type": "execute_result"
    }
   ],
   "source": [
    "Dm_structures_df.describe()"
   ]
  },
  {
   "cell_type": "markdown",
   "metadata": {},
   "source": [
    "Get code for BA plot from http://stackoverflow.com/questions/16399279/bland-altman-plot-in-python"
   ]
  },
  {
   "cell_type": "code",
   "execution_count": 135,
   "metadata": {
    "collapsed": true
   },
   "outputs": [],
   "source": [
    "def bland_altman_plot(data1, data2, *args, **kwargs):\n",
    "    data1     = np.asarray(data1)\n",
    "    data2     = np.asarray(data2)\n",
    "    mean      = np.mean([data1, data2], axis=0)\n",
    "    diff      = data1 - data2                   # Difference between data1 and data2\n",
    "    md        = np.mean(diff)                   # Mean of the difference\n",
    "    sd        = np.std(diff, axis=0)            # Standard deviation of the difference\n",
    "\n",
    "    plt.scatter(mean, diff, *args, **kwargs)\n",
    "    plt.axhline(md,           color='gray', linestyle='--')\n",
    "    plt.axhline(md + 1.96*sd, color='gray', linestyle='--')\n",
    "    plt.axhline(md - 1.96*sd, color='gray', linestyle='--')\n",
    "    plt.xlabel('Dose (Gy)')\n",
    "    plt.ylabel('Difference (%)')"
   ]
  },
  {
   "cell_type": "code",
   "execution_count": 139,
   "metadata": {
    "collapsed": false
   },
   "outputs": [
    {
     "data": {
      "image/png": "[encoded data removed]",
      "text/plain": [
       "<matplotlib.figure.Figure at 0xc490df0>"
      ]
     },
     "metadata": {},
     "output_type": "display_data"
    }
   ],
   "source": [
    "bland_altman_plot(AAA_df_D50_Chest, Dm_df_D50_Chest)\n",
    "plt.title('AAA_df_D50_Chest, Dm_df_D50_Chest \\n Bland-Altman Plot')\n",
    "plt.show()"
   ]
  },
  {
   "cell_type": "code",
   "execution_count": null,
   "metadata": {
    "collapsed": true
   },
   "outputs": [],
   "source": []
  }
 ],
 "metadata": {
  "kernelspec": {
   "display_name": "Python 3",
   "language": "python",
   "name": "python3"
  },
  "language_info": {
   "codemirror_mode": {
    "name": "ipython",
    "version": 3
   },
   "file_extension": ".py",
   "mimetype": "text/x-python",
   "name": "python",
   "nbconvert_exporter": "python",
   "pygments_lexer": "ipython3",
   "version": "3.5.1"
  }
 },
 "nbformat": 4,
 "nbformat_minor": 0
}
