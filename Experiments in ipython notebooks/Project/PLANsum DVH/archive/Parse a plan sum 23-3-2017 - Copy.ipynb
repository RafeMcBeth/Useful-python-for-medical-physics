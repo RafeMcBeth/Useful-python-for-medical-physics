{
 "cells": [
  {
   "cell_type": "markdown",
   "metadata": {},
   "source": [
    "Delete the DVH with no data as these complicate the load.\n",
    "\n",
    "File always ends with two lines of white space"
   ]
  },
  {
   "cell_type": "code",
   "execution_count": 1,
   "metadata": {
    "collapsed": true
   },
   "outputs": [],
   "source": [
    "%matplotlib inline\n",
    "import numpy as np\n",
    "import pandas as pd\n",
    "import matplotlib.pyplot as plt\n",
    "from scipy import interpolate\n",
    "import os"
   ]
  },
  {
   "cell_type": "code",
   "execution_count": 2,
   "metadata": {
    "collapsed": true
   },
   "outputs": [],
   "source": [
    "def list_txt():\n",
    "    files = os.listdir()   # return a list of files\n",
    "    return [file for file in files if file.endswith('.txt')]"
   ]
  },
  {
   "cell_type": "code",
   "execution_count": 3,
   "metadata": {
    "collapsed": false
   },
   "outputs": [
    {
     "name": "stdout",
     "output_type": "stream",
     "text": [
      "['MSC5-DVH_data_export_ALLNEW.txt', 'MSC5-DVH_data_export_PLANSUM.txt', 'MSC8-DVH_data_export_ALLNEW.txt', 'MSC8-DVH_data_export_PLANSUM.txt']\n"
     ]
    }
   ],
   "source": [
    "files = list_txt()\n",
    "print(files)"
   ]
  },
  {
   "cell_type": "code",
   "execution_count": 4,
   "metadata": {
    "collapsed": false
   },
   "outputs": [
    {
     "data": {
      "text/plain": [
       "'MSC5-DVH_data_export_ALLNEW.txt'"
      ]
     },
     "execution_count": 4,
     "metadata": {},
     "output_type": "execute_result"
    }
   ],
   "source": [
    "file = files[0]\n",
    "file"
   ]
  },
  {
   "cell_type": "code",
   "execution_count": 5,
   "metadata": {
    "collapsed": false
   },
   "outputs": [
    {
     "name": "stdout",
     "output_type": "stream",
     "text": [
      "The file_type is multi_plan\n",
      "The length of a DVH is 666\n"
     ]
    }
   ],
   "source": [
    "with open(file, \"r\") as file_:\n",
    "    my_file = [line for line in file_.readlines()]  # my_file is a list representation of the text file\n",
    "file_.close()        \n",
    "\n",
    "file_len = len(my_file)     # number of lines in the file, addd the 1 for indexing \n",
    "dvh_length = -1                # we will determine the length of the DVH\n",
    "file_type = 'undeclared'      # will determine if a plansum or multi_plan\n",
    "structures_indexs_list = []   # Get the structures\n",
    "plans_list = []               # Populate a list of the plans in the file \n",
    "\n",
    "for i, line in enumerate(my_file):\n",
    "    if line.startswith('Structure:'):\n",
    "        structures_indexs_list.append(i)     # Get the index of all the structures\n",
    "\n",
    "plans_list = [my_file[i+2].split(':')[-1].strip('\\n').strip()  for i in structures_indexs_list]\n",
    "\n",
    "if len(plans_list) is 1:      # If only a single DVH in the file then it's a plansum\n",
    "    file_type = 'plansum'\n",
    "    dvh_length = file_len - 2 - (structures_indexs_list[0] + 19)     # end - start of dvh\n",
    "    DVH_data = my_file[structures_indexs_list[0]+19:structures_indexs_list[0]+19+dvh_length]   # get that DVH data in a list\n",
    "    \n",
    "    Dose_Gy    = [float(line.strip('\\n').split()[0]) for line in DVH_data]\n",
    "    Ratio_pct  = [float(line.strip('\\n').split()[1]) for line in DVH_data]\n",
    "    df = pd.DataFrame(index=Dose_Gy, data=Ratio_pct, columns=[plans_list[0]])\n",
    "else:\n",
    "    file_type = 'multi_plan' \n",
    "    dvh_length = file_len - 2 - (structures_indexs_list[-1] + 19)     # end - start of dvh\n",
    "    \n",
    "## to do\n",
    "    \n",
    "    \n",
    "\n",
    "print('The file_type is %s' % file_type)\n",
    "print('The length of a DVH is ' + str(dvh_length))"
   ]
  },
  {
   "cell_type": "markdown",
   "metadata": {},
   "source": [
    "# Going to need this"
   ]
  },
  {
   "cell_type": "code",
   "execution_count": 6,
   "metadata": {
    "collapsed": false
   },
   "outputs": [
    {
     "name": "stdout",
     "output_type": "stream",
     "text": [
      "65\n",
      "752\n",
      "771\n",
      "1458\n",
      "2145\n",
      "2832\n",
      "3519\n",
      "4206\n",
      "4893\n",
      "5580\n",
      "6267\n"
     ]
    }
   ],
   "source": [
    "for i, index in enumerate(structures_indexs_list):\n",
    "    print(index)"
   ]
  },
  {
   "cell_type": "code",
   "execution_count": 7,
   "metadata": {
    "collapsed": false
   },
   "outputs": [],
   "source": [
    "DVH_data = my_file[structures_indexs_list[0]+19:structures_indexs_list[1]-2]"
   ]
  },
  {
   "cell_type": "code",
   "execution_count": null,
   "metadata": {
    "collapsed": false
   },
   "outputs": [],
   "source": [
    "Dose_Gy    = [float(line.strip('\\n').split()[0]) for line in DVH_data]\n",
    "Ratio_pct  = [100.0*(float(line.strip('\\n').split()[2])/float(line.strip('\\n').split()[2])) for line in DVH_data]"
   ]
  },
  {
   "cell_type": "markdown",
   "metadata": {},
   "source": [
    "### Use for reference"
   ]
  },
  {
   "cell_type": "code",
   "execution_count": null,
   "metadata": {
    "collapsed": true
   },
   "outputs": [],
   "source": [
    "def Load_patient(file):  # file = 'Case1_AAA.txt'  string\n",
    "    with open(file, \"r\") as file_:\n",
    "        my_file = [line for line in file_.readlines()]  # my_file is a list representation of the text file\n",
    "    file_.close()        \n",
    "    file_len = len(my_file)                                # number of lines in the file\n",
    "    patID = my_file[1].split(':')[-1].strip('\\n').strip()\n",
    "    planID = my_file[10].split(':')[-1].strip('\\n').strip()\n",
    "    \n",
    "        \n",
    "    ## Get the structures\n",
    "    structures_indexs_list = []\n",
    "    structures_names_list  = []\n",
    "    for i, line in enumerate(my_file):\n",
    "        if line.startswith('Structure:'):\n",
    "            structures_indexs_list.append(i)  \n",
    "            structures_names_list.append(line.split(':')[-1].strip('\\n').strip())\n",
    "    \n",
    "    \n",
    "    ##structures_names_list = ['PTV CHEST', 'Foramen'] # hard code to limit number of structures and prevent memory issues\n",
    "    \n",
    "    print(file + ' loaded \\t patID:' + patID + ' PlanID:' + planID + ' and number of structures is ' + str(len(structures_names_list)))\n",
    "    dose_index = np.linspace(0,100, 2001)  # New dose index in range 0 - 100 Gy in 0.05 Gy steps\n",
    "    \n",
    "    data = np.zeros((dose_index.shape[0], len(structures_names_list)))\n",
    "    \n",
    "    # iterate through all structures and place interpolated DVH data in matrix\n",
    "    for i, index in enumerate(structures_indexs_list):\n",
    "        start = structures_indexs_list[i]+18  # first line of DVH data\n",
    "        if i < len(structures_indexs_list)-1:\n",
    "            end = structures_indexs_list[i+1]-2  # find the last line of the DVH from the next index, BEWARE THE +1\n",
    "        else:\n",
    "            end = len(my_file)-2\n",
    "        DVH_data = my_file[start:end]  # get list with data\n",
    "            \n",
    "        DVH_list = [line.split() for line in DVH_data]  # create list of lists split\n",
    "        Rel_dose_pct, Dose_Gy, Ratio_pct = zip(*DVH_list) # unzip to 3 lists, they are strings so conver to float\n",
    "        \n",
    "        Ratio_pct = np.asarray(Ratio_pct, dtype=np.float32)\n",
    "        Dose_Gy = np.asarray(Dose_Gy, dtype=np.float32)\n",
    "        ## Now working with dose data\n",
    "      \n",
    "        f = interpolate.interp1d(x=Dose_Gy,y=Ratio_pct, bounds_error=False, fill_value=0)   # returns a linear interpolate function, fill values outside range wiwth 0 \n",
    "\n",
    "        data[:,i] = f(dose_index)\n",
    "    \n",
    "    my_iterables = [[patID], [planID], structures_names_list]\n",
    "    my_index = pd.MultiIndex.from_product(my_iterables, names = ['Patient ID', 'Plan ID', 'Structure'])\n",
    "\n",
    "    df = pd.DataFrame(data.T, index = my_index)\n",
    "    df = df.T\n",
    "    df.index  = dose_index\n",
    "    df.index.name = 'Dose (Gy)'\n",
    "    return d"
   ]
  }
 ],
 "metadata": {
  "anaconda-cloud": {},
  "kernelspec": {
   "display_name": "Python [conda root]",
   "language": "python",
   "name": "conda-root-py"
  },
  "language_info": {
   "codemirror_mode": {
    "name": "ipython",
    "version": 3
   },
   "file_extension": ".py",
   "mimetype": "text/x-python",
   "name": "python",
   "nbconvert_exporter": "python",
   "pygments_lexer": "ipython3",
   "version": "3.5.2"
  }
 },
 "nbformat": 4,
 "nbformat_minor": 1
}
