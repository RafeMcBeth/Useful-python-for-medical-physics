{
 "cells": [
  {
   "cell_type": "markdown",
   "metadata": {},
   "source": [
    "Useful \n",
    "   * http://pandas.pydata.org/pandas-docs/stable/10min.html\n",
    "   * http://machinelearningmastery.com/quick-and-dirty-data-analysis-with-pandas/\n",
    "   * http://bconnelly.net/2013/10/summarizing-data-in-python-with-pandas/ for understanding groupby"
   ]
  },
  {
   "cell_type": "markdown",
   "metadata": {},
   "source": [
    "Have used web page at https://dwoll.shinyapps.io/DVHshiny/ to upload all dvh text files and queried to get desired metrics which are downloaded as a comma seperated text file, rename extension .csv.\n",
    "\n",
    "\n",
    "For all available structures I export the following metrics\n",
    "\n",
    "\n",
    "    D2%, D5%, D50%, D95%, D99%, D1cc,  D0.1cc, DMAX, DSD, DRX, DHI, V5Gy, V12.5Gy, V20Gy, V30Gy , V40Gy, V50Gy,  V55Gy  "
   ]
  },
  {
   "cell_type": "code",
   "execution_count": 31,
   "metadata": {
    "collapsed": true
   },
   "outputs": [],
   "source": [
    "import pandas as pd\n",
    "import numpy as np\n",
    "import matplotlib.pyplot as plt\n",
    "%matplotlib inline"
   ]
  },
  {
   "cell_type": "code",
   "execution_count": 57,
   "metadata": {
    "collapsed": false
   },
   "outputs": [],
   "source": [
    "AAA_df = pd.read_csv('AAA_metrics.csv')  # import AAA data\n",
    "Dm_df = pd.read_csv('Dm_metrics.csv')  \n",
    "#Dw_df = pd.read_csv('Dw_metrics.csv')  # dont analyse for time being"
   ]
  },
  {
   "cell_type": "code",
   "execution_count": 58,
   "metadata": {
    "collapsed": false
   },
   "outputs": [],
   "source": [
    "#with pd.option_context('display.precision', 10):\n",
    " #   print (AAA_df)   # to check precision"
   ]
  },
  {
   "cell_type": "markdown",
   "metadata": {},
   "source": [
    "parse patID to get Case"
   ]
  },
  {
   "cell_type": "code",
   "execution_count": 59,
   "metadata": {
    "collapsed": false
   },
   "outputs": [
    {
     "data": {
      "text/html": [
       "<div>\n",
       "<table border=\"1\" class=\"dataframe\">\n",
       "  <thead>\n",
       "    <tr style=\"text-align: right;\">\n",
       "      <th></th>\n",
       "      <th>AAA</th>\n",
       "      <th>metric</th>\n",
       "      <th>structure</th>\n",
       "      <th>Case</th>\n",
       "    </tr>\n",
       "  </thead>\n",
       "  <tbody>\n",
       "    <tr>\n",
       "      <th>0</th>\n",
       "      <td>10.623986</td>\n",
       "      <td>D2%</td>\n",
       "      <td>Heart</td>\n",
       "      <td>Case1</td>\n",
       "    </tr>\n",
       "    <tr>\n",
       "      <th>1</th>\n",
       "      <td>9.220632</td>\n",
       "      <td>D5%</td>\n",
       "      <td>Heart</td>\n",
       "      <td>Case1</td>\n",
       "    </tr>\n",
       "    <tr>\n",
       "      <th>2</th>\n",
       "      <td>1.546204</td>\n",
       "      <td>D50%</td>\n",
       "      <td>Heart</td>\n",
       "      <td>Case1</td>\n",
       "    </tr>\n",
       "    <tr>\n",
       "      <th>3</th>\n",
       "      <td>0.152595</td>\n",
       "      <td>D95%</td>\n",
       "      <td>Heart</td>\n",
       "      <td>Case1</td>\n",
       "    </tr>\n",
       "    <tr>\n",
       "      <th>4</th>\n",
       "      <td>0.111391</td>\n",
       "      <td>D99%</td>\n",
       "      <td>Heart</td>\n",
       "      <td>Case1</td>\n",
       "    </tr>\n",
       "  </tbody>\n",
       "</table>\n",
       "</div>"
      ],
      "text/plain": [
       "         AAA metric structure   Case\n",
       "0  10.623986    D2%     Heart  Case1\n",
       "1   9.220632    D5%     Heart  Case1\n",
       "2   1.546204   D50%     Heart  Case1\n",
       "3   0.152595   D95%     Heart  Case1\n",
       "4   0.111391   D99%     Heart  Case1"
      ]
     },
     "execution_count": 59,
     "metadata": {},
     "output_type": "execute_result"
    }
   ],
   "source": [
    "AAA_df['Case'] = AAA_df['patID'].str.split('_').str.get(0)  # get the case ID e.g. case1\n",
    "AAA_df = AAA_df.drop('patID', 1)                            # drop patID\n",
    "AAA_df.rename(columns={'observed': 'AAA'}, inplace=True)    # rename \n",
    "AAA_df.head()"
   ]
  },
  {
   "cell_type": "code",
   "execution_count": 60,
   "metadata": {
    "collapsed": false
   },
   "outputs": [
    {
     "data": {
      "text/html": [
       "<div>\n",
       "<table border=\"1\" class=\"dataframe\">\n",
       "  <thead>\n",
       "    <tr style=\"text-align: right;\">\n",
       "      <th></th>\n",
       "      <th>Dm</th>\n",
       "      <th>metric</th>\n",
       "      <th>structure</th>\n",
       "      <th>Case</th>\n",
       "    </tr>\n",
       "  </thead>\n",
       "  <tbody>\n",
       "    <tr>\n",
       "      <th>0</th>\n",
       "      <td>25.685894</td>\n",
       "      <td>D2%</td>\n",
       "      <td>BODY</td>\n",
       "      <td>Case1</td>\n",
       "    </tr>\n",
       "    <tr>\n",
       "      <th>1</th>\n",
       "      <td>14.388797</td>\n",
       "      <td>D5%</td>\n",
       "      <td>BODY</td>\n",
       "      <td>Case1</td>\n",
       "    </tr>\n",
       "    <tr>\n",
       "      <th>2</th>\n",
       "      <td>0.399853</td>\n",
       "      <td>D50%</td>\n",
       "      <td>BODY</td>\n",
       "      <td>Case1</td>\n",
       "    </tr>\n",
       "    <tr>\n",
       "      <th>3</th>\n",
       "      <td>0.065952</td>\n",
       "      <td>D95%</td>\n",
       "      <td>BODY</td>\n",
       "      <td>Case1</td>\n",
       "    </tr>\n",
       "    <tr>\n",
       "      <th>4</th>\n",
       "      <td>0.022860</td>\n",
       "      <td>D99%</td>\n",
       "      <td>BODY</td>\n",
       "      <td>Case1</td>\n",
       "    </tr>\n",
       "  </tbody>\n",
       "</table>\n",
       "</div>"
      ],
      "text/plain": [
       "          Dm metric structure   Case\n",
       "0  25.685894    D2%      BODY  Case1\n",
       "1  14.388797    D5%      BODY  Case1\n",
       "2   0.399853   D50%      BODY  Case1\n",
       "3   0.065952   D95%      BODY  Case1\n",
       "4   0.022860   D99%      BODY  Case1"
      ]
     },
     "execution_count": 60,
     "metadata": {},
     "output_type": "execute_result"
    }
   ],
   "source": [
    "Dm_df['Case'] = Dm_df['patID'].str.split('_').str.get(0)\n",
    "Dm_df = Dm_df.drop('patID', 1)\n",
    "Dm_df.rename(columns={'observed': 'Dm'}, inplace=True)    # rename \n",
    "Dm_df.head()"
   ]
  },
  {
   "cell_type": "markdown",
   "metadata": {},
   "source": [
    "Check which metrics have I exported"
   ]
  },
  {
   "cell_type": "code",
   "execution_count": 61,
   "metadata": {
    "collapsed": false
   },
   "outputs": [
    {
     "name": "stdout",
     "output_type": "stream",
     "text": [
      "['Case1' 'Case11' 'Case12' 'Case13' 'Case14' 'Case16' 'Case17' 'Case18'\n",
      " 'Case22' 'Case23' 'Case25' 'Case30' 'Case31' 'Case32']\n",
      "The number of unique patients is 14\n",
      "['D2%' 'D5%' 'D50%' 'D95%' 'D99%' 'D1CC' 'D0.1CC' 'DMAX' 'DSD' 'DRX' 'DHI'\n",
      " 'V5GY' 'V12.5GY' 'V20GY' 'V30GY' 'V40GY' 'V50GY' 'V55GY']\n",
      "The number of unique metrics is 18\n",
      "['Heart' 'Foramen' 'Oesophagus' 'Trachea' 'L Brachial plex'\n",
      " 'Rt Brachial plex' 'PTV CHEST' 'Lt_Lung' 'Rt_Lung' 'Both Lungs-ITV' 'skin'\n",
      " 'ribs' 'R Brachial plex' 'Both Lungs' 'Ribs']\n",
      "The number of unique structures is 15\n"
     ]
    }
   ],
   "source": [
    "print (AAA_df.Case.unique())\n",
    "print (\"The number of unique patients is \" + str(len((AAA_df.Case.unique() ))))\n",
    "print (AAA_df.metric.unique())\n",
    "print (\"The number of unique metrics is \" + str(len((AAA_df.metric.unique() ))))\n",
    "print (AAA_df.structure.unique())\n",
    "print (\"The number of unique structures is \" + str(len((AAA_df.structure.unique() ))))"
   ]
  },
  {
   "cell_type": "code",
   "execution_count": 62,
   "metadata": {
    "collapsed": false
   },
   "outputs": [
    {
     "name": "stdout",
     "output_type": "stream",
     "text": [
      "total possible number of entries is 3780\n",
      "the actual number of AAA entries is 2754\n",
      "the actual number of Dm entries is 4068\n"
     ]
    }
   ],
   "source": [
    "AAA_poss_entries = len(AAA_df.structure.unique()) * len((AAA_df.metric.unique() ))  * len((AAA_df.Case.unique() ))\n",
    "print(\"total possible number of entries is \" + str(AAA_poss_entries))\n",
    "print(\"the actual number of AAA entries is \" + str(len(AAA_df)))\n",
    "print(\"the actual number of Dm entries is \" + str(len(Dm_df)))\n",
    "#print(\"the actual number of Dw entries is \" + str(len(Dw_df)))"
   ]
  },
  {
   "cell_type": "markdown",
   "metadata": {},
   "source": [
    "Not all structures were exported in some cases due to the manual process so number of AAA and Dm entries differ. Need to keep only entries which are common"
   ]
  },
  {
   "cell_type": "code",
   "execution_count": 63,
   "metadata": {
    "collapsed": false
   },
   "outputs": [
    {
     "data": {
      "text/plain": [
       "structure\n",
       "Both Lungs           5\n",
       "Both Lungs-ITV      12\n",
       "Foramen             13\n",
       "Heart               14\n",
       "L Brachial plex     14\n",
       "Lt_Lung             14\n",
       "Oesophagus          14\n",
       "PTV CHEST           14\n",
       "R Brachial plex     10\n",
       "Ribs                 4\n",
       "Rt Brachial plex     1\n",
       "Rt_Lung             14\n",
       "Trachea             13\n",
       "ribs                10\n",
       "skin                 1\n",
       "Name: AAA, dtype: int64"
      ]
     },
     "execution_count": 63,
     "metadata": {},
     "output_type": "execute_result"
    }
   ],
   "source": [
    "AAA_df_groupby_structure = AAA_df[AAA_df['metric'] == 'D50%'].groupby([ 'structure'])\n",
    "#AAA_df_groupby_structure = AAA_df.groupby([ 'structure', 'metric'])\n",
    "AAA_df_groupby_structure.AAA.count()"
   ]
  },
  {
   "cell_type": "code",
   "execution_count": 64,
   "metadata": {
    "collapsed": false
   },
   "outputs": [],
   "source": [
    "# AAA_df[AAA_df['structure'] == 'Lt Lung']"
   ]
  },
  {
   "cell_type": "code",
   "execution_count": 65,
   "metadata": {
    "collapsed": false
   },
   "outputs": [
    {
     "data": {
      "text/plain": [
       "structure\n",
       "Airway avoidance     3\n",
       "BODY                 4\n",
       "Both Lungs           5\n",
       "Both Lungs-ITV      13\n",
       "Bronchial tree      14\n",
       "CONTRAST             2\n",
       "Dose 100[%]          3\n",
       "Dose 50[%]           5\n",
       "Foramen             13\n",
       "Foramen+3mm         13\n",
       "GTV                  1\n",
       "Heart               14\n",
       "ITV                  3\n",
       "Inner Ring           3\n",
       "L Brachial plex     14\n",
       "Lt_Lung             14\n",
       "Oesophagus          14\n",
       "PTV CHEST           14\n",
       "PTV ring 2-3cm       3\n",
       "Pseudo ITV           3\n",
       "PseudoPTV-ITV        3\n",
       "R Brachial plex     12\n",
       "Ribs                 5\n",
       "Ribs-PTV             4\n",
       "Rt Brachial plex     1\n",
       "Rt_Lung             14\n",
       "Skin                 3\n",
       "Skin-PTV+2cm         3\n",
       "Trachea             14\n",
       "ribs                 9\n",
       "Name: Dm, dtype: int64"
      ]
     },
     "execution_count": 65,
     "metadata": {},
     "output_type": "execute_result"
    }
   ],
   "source": [
    "Dm_df_groupby_structure = Dm_df[Dm_df['metric'] == 'D50%'].groupby([ 'structure'])\n",
    "#AAA_df_groupby_structure = AAA_df.groupby([ 'structure', 'metric'])\n",
    "Dm_df_groupby_structure.Dm.count()"
   ]
  },
  {
   "cell_type": "markdown",
   "metadata": {},
   "source": [
    "Export Heart, PTV chest, Oesophagus, Rt_Lung to new datafram"
   ]
  },
  {
   "cell_type": "code",
   "execution_count": 71,
   "metadata": {
    "collapsed": false
   },
   "outputs": [
    {
     "data": {
      "text/html": [
       "<div>\n",
       "<table border=\"1\" class=\"dataframe\">\n",
       "  <thead>\n",
       "    <tr style=\"text-align: right;\">\n",
       "      <th></th>\n",
       "      <th>Case</th>\n",
       "      <th>structure</th>\n",
       "      <th>metric</th>\n",
       "      <th>AAA</th>\n",
       "      <th>Dm</th>\n",
       "    </tr>\n",
       "  </thead>\n",
       "  <tbody>\n",
       "    <tr>\n",
       "      <th>0</th>\n",
       "      <td>Case1</td>\n",
       "      <td>PTV CHEST</td>\n",
       "      <td>D2%</td>\n",
       "      <td>70.006151</td>\n",
       "      <td>69.599396</td>\n",
       "    </tr>\n",
       "    <tr>\n",
       "      <th>1</th>\n",
       "      <td>Case1</td>\n",
       "      <td>PTV CHEST</td>\n",
       "      <td>D5%</td>\n",
       "      <td>69.602983</td>\n",
       "      <td>69.044564</td>\n",
       "    </tr>\n",
       "    <tr>\n",
       "      <th>2</th>\n",
       "      <td>Case1</td>\n",
       "      <td>PTV CHEST</td>\n",
       "      <td>D50%</td>\n",
       "      <td>65.560826</td>\n",
       "      <td>65.457641</td>\n",
       "    </tr>\n",
       "    <tr>\n",
       "      <th>3</th>\n",
       "      <td>Case1</td>\n",
       "      <td>PTV CHEST</td>\n",
       "      <td>D95%</td>\n",
       "      <td>57.272270</td>\n",
       "      <td>56.747946</td>\n",
       "    </tr>\n",
       "    <tr>\n",
       "      <th>4</th>\n",
       "      <td>Case1</td>\n",
       "      <td>PTV CHEST</td>\n",
       "      <td>D99%</td>\n",
       "      <td>55.580473</td>\n",
       "      <td>54.672556</td>\n",
       "    </tr>\n",
       "  </tbody>\n",
       "</table>\n",
       "</div>"
      ],
      "text/plain": [
       "    Case  structure metric        AAA         Dm\n",
       "0  Case1  PTV CHEST    D2%  70.006151  69.599396\n",
       "1  Case1  PTV CHEST    D5%  69.602983  69.044564\n",
       "2  Case1  PTV CHEST   D50%  65.560826  65.457641\n",
       "3  Case1  PTV CHEST   D95%  57.272270  56.747946\n",
       "4  Case1  PTV CHEST   D99%  55.580473  54.672556"
      ]
     },
     "execution_count": 71,
     "metadata": {},
     "output_type": "execute_result"
    }
   ],
   "source": [
    "struct_list = ['PTV CHEST','Heart','Oesophagus','Rt_Lung', 'Lt_Lung', 'Both Lungs', 'L Brachial plex', 'Foramen']\n",
    "AAA_Dm_data = pd.DataFrame()  # create an empty dataframe we will put all data into\n",
    "counter = 0\n",
    "\n",
    "for structure in struct_list:\n",
    "    AAA_data = AAA_df[AAA_df['structure'] == structure]\n",
    "    Dm_data = Dm_df[Dm_df['structure'] == structure]\n",
    "    AAA_Dm_temp = pd.merge(AAA_data, Dm_data, how='inner', on=['metric', 'Case', 'structure'])  # Get merged set\n",
    "    AAA_Dm_temp = AAA_Dm_temp[['Case', 'structure', 'metric', 'AAA', 'Dm']]   # rearrange    \n",
    "    if counter == 0:\n",
    "        AAA_Dm_data = AAA_Dm_temp\n",
    "    else:    \n",
    "        AAA_Dm_data = AAA_Dm_data.append(AAA_Dm_temp)\n",
    "    counter = counter +1\n",
    "\n",
    "AAA_Dm_data.head()"
   ]
  },
  {
   "cell_type": "code",
   "execution_count": 72,
   "metadata": {
    "collapsed": false
   },
   "outputs": [
    {
     "data": {
      "text/html": [
       "<div>\n",
       "<table border=\"1\" class=\"dataframe\">\n",
       "  <thead>\n",
       "    <tr style=\"text-align: right;\">\n",
       "      <th></th>\n",
       "      <th>Case</th>\n",
       "      <th>metric</th>\n",
       "      <th>AAA</th>\n",
       "      <th>Dm</th>\n",
       "    </tr>\n",
       "    <tr>\n",
       "      <th>structure</th>\n",
       "      <th></th>\n",
       "      <th></th>\n",
       "      <th></th>\n",
       "      <th></th>\n",
       "    </tr>\n",
       "  </thead>\n",
       "  <tbody>\n",
       "    <tr>\n",
       "      <th>Both Lungs</th>\n",
       "      <td>5</td>\n",
       "      <td>5</td>\n",
       "      <td>5</td>\n",
       "      <td>5</td>\n",
       "    </tr>\n",
       "    <tr>\n",
       "      <th>Foramen</th>\n",
       "      <td>13</td>\n",
       "      <td>13</td>\n",
       "      <td>13</td>\n",
       "      <td>13</td>\n",
       "    </tr>\n",
       "    <tr>\n",
       "      <th>Heart</th>\n",
       "      <td>14</td>\n",
       "      <td>14</td>\n",
       "      <td>14</td>\n",
       "      <td>14</td>\n",
       "    </tr>\n",
       "    <tr>\n",
       "      <th>L Brachial plex</th>\n",
       "      <td>14</td>\n",
       "      <td>14</td>\n",
       "      <td>14</td>\n",
       "      <td>14</td>\n",
       "    </tr>\n",
       "    <tr>\n",
       "      <th>Lt_Lung</th>\n",
       "      <td>14</td>\n",
       "      <td>14</td>\n",
       "      <td>14</td>\n",
       "      <td>14</td>\n",
       "    </tr>\n",
       "    <tr>\n",
       "      <th>Oesophagus</th>\n",
       "      <td>14</td>\n",
       "      <td>14</td>\n",
       "      <td>14</td>\n",
       "      <td>14</td>\n",
       "    </tr>\n",
       "    <tr>\n",
       "      <th>PTV CHEST</th>\n",
       "      <td>14</td>\n",
       "      <td>14</td>\n",
       "      <td>14</td>\n",
       "      <td>14</td>\n",
       "    </tr>\n",
       "    <tr>\n",
       "      <th>Rt_Lung</th>\n",
       "      <td>14</td>\n",
       "      <td>14</td>\n",
       "      <td>14</td>\n",
       "      <td>14</td>\n",
       "    </tr>\n",
       "  </tbody>\n",
       "</table>\n",
       "</div>"
      ],
      "text/plain": [
       "                 Case  metric  AAA  Dm\n",
       "structure                             \n",
       "Both Lungs          5       5    5   5\n",
       "Foramen            13      13   13  13\n",
       "Heart              14      14   14  14\n",
       "L Brachial plex    14      14   14  14\n",
       "Lt_Lung            14      14   14  14\n",
       "Oesophagus         14      14   14  14\n",
       "PTV CHEST          14      14   14  14\n",
       "Rt_Lung            14      14   14  14"
      ]
     },
     "execution_count": 72,
     "metadata": {},
     "output_type": "execute_result"
    }
   ],
   "source": [
    "# Check structures \n",
    "AAA_Dm_data_groupby_structure = AAA_Dm_data[AAA_Dm_data['metric'] == 'D2%'].groupby(['structure'])\n",
    "AAA_Dm_data_groupby_structure.count()"
   ]
  },
  {
   "cell_type": "code",
   "execution_count": 73,
   "metadata": {
    "collapsed": true
   },
   "outputs": [],
   "source": [
    "AAA_Dm_data.fillna(0.0).to_csv('AAA_Dm_data.csv', index=False)  # write to file"
   ]
  },
  {
   "cell_type": "markdown",
   "metadata": {},
   "source": [
    "END"
   ]
  },
  {
   "cell_type": "markdown",
   "metadata": {},
   "source": [
    "Get code for BA plot from http://stackoverflow.com/questions/16399279/bland-altman-plot-in-python"
   ]
  }
 ],
 "metadata": {
  "anaconda-cloud": {},
  "kernelspec": {
   "display_name": "Python [Root]",
   "language": "python",
   "name": "Python [Root]"
  },
  "language_info": {
   "codemirror_mode": {
    "name": "ipython",
    "version": 3
   },
   "file_extension": ".py",
   "mimetype": "text/x-python",
   "name": "python",
   "nbconvert_exporter": "python",
   "pygments_lexer": "ipython3",
   "version": "3.5.2"
  }
 },
 "nbformat": 4,
 "nbformat_minor": 0
}
