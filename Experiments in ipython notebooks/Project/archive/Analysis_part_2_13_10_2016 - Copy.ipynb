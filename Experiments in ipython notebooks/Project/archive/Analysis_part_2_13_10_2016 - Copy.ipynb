{
 "cells": [
  {
   "cell_type": "markdown",
   "metadata": {},
   "source": [
    "Now analysis of parsed data from part 1.\n",
    "\n",
    "Useful ref http://www.shanelynn.ie/summarising-aggregation-and-grouping-data-in-python-pandas/\n",
    "\n",
    "http://stackoverflow.com/questions/21828398/what-is-the-difference-between-pandas-agg-and-apply-function"
   ]
  },
  {
   "cell_type": "code",
   "execution_count": 1,
   "metadata": {
    "collapsed": true
   },
   "outputs": [],
   "source": [
    "import pandas as pd\n",
    "import numpy as np\n",
    "from scipy import stats\n",
    "from scipy.stats import wilcoxon  # must import explicitly\n",
    "import seaborn as sns\n",
    "sns.set(style=\"whitegrid\", palette=\"pastel\", color_codes=True)\n",
    "import matplotlib.pyplot as plt\n",
    "%matplotlib inline"
   ]
  },
  {
   "cell_type": "code",
   "execution_count": 2,
   "metadata": {
    "collapsed": false
   },
   "outputs": [
    {
     "name": "stdout",
     "output_type": "stream",
     "text": [
      "Robin_Cole \n",
      "last updated: 2016-10-13 \n",
      "\n",
      "CPython 3.5.2\n",
      "IPython 5.1.0\n",
      "\n",
      "numpy 1.11.1\n",
      "pandas 0.18.1\n",
      "matplotlib 1.5.3\n"
     ]
    }
   ],
   "source": [
    "%load_ext watermark\n",
    "%watermark -a 'Robin_Cole' -u -d -v -p numpy,pandas,matplotlib"
   ]
  },
  {
   "cell_type": "code",
   "execution_count": 3,
   "metadata": {
    "collapsed": false
   },
   "outputs": [
    {
     "data": {
      "text/plain": [
       "'C:\\\\Users\\\\RCole02.ROYALSURREY\\\\Desktop\\\\GitHub\\\\Useful-python-for-medical-physics\\\\Experiments in ipython notebooks\\\\Project'"
      ]
     },
     "execution_count": 3,
     "metadata": {},
     "output_type": "execute_result"
    }
   ],
   "source": [
    "pwd"
   ]
  },
  {
   "cell_type": "markdown",
   "metadata": {},
   "source": [
    "## Helper functions"
   ]
  },
  {
   "cell_type": "code",
   "execution_count": 4,
   "metadata": {
    "collapsed": false
   },
   "outputs": [],
   "source": [
    "def query_data(Col, structure, metric):   # helper function to get data, Col = AAA, AXB or diff\n",
    "    temp = d[Col][(d['structure'] == structure) & (d['metric'] == metric)]\n",
    "    return temp"
   ]
  },
  {
   "cell_type": "code",
   "execution_count": 5,
   "metadata": {
    "collapsed": false
   },
   "outputs": [
    {
     "name": "stdout",
     "output_type": "stream",
     "text": [
      "-75.0\n"
     ]
    }
   ],
   "source": [
    "def diff_percent(a,ref):\n",
    "    return 100*((a-ref)/ref)\n",
    "\n",
    "print(diff_percent(25.0,100.0))"
   ]
  },
  {
   "cell_type": "code",
   "execution_count": 6,
   "metadata": {
    "collapsed": false
   },
   "outputs": [],
   "source": [
    "def my_wilcox(data):                    # helper function to return p-value, pass difference data as series from dataframe\n",
    "    z_stat, p_val = wilcoxon(data)   # if only 1 value passed\n",
    "    #z_stat, p_val = wilcoxon(data.as_matrix())   # if only 1 value passed\n",
    "    return p_val"
   ]
  },
  {
   "cell_type": "code",
   "execution_count": 7,
   "metadata": {
    "collapsed": false
   },
   "outputs": [
    {
     "name": "stderr",
     "output_type": "stream",
     "text": [
      "C:\\Users\\RCole02.ROYALSURREY\\AppData\\Local\\Continuum\\Anaconda3\\lib\\site-packages\\scipy\\stats\\morestats.py:2388: UserWarning: Warning: sample size too small for normal approximation.\n",
      "  warnings.warn(\"Warning: sample size too small for normal approximation.\")\n"
     ]
    },
    {
     "data": {
      "text/plain": [
       "0.0075792819433897285"
      ]
     },
     "execution_count": 7,
     "metadata": {},
     "output_type": "execute_result"
    }
   ],
   "source": [
    "my_wilcox([1,2,3,4,6,7,2,352,3])"
   ]
  },
  {
   "cell_type": "code",
   "execution_count": 8,
   "metadata": {
    "collapsed": true
   },
   "outputs": [],
   "source": [
    "def bland_altman_plot(data1, data2, structure, metric, *args, **kwargs):\n",
    "    data1     = np.asarray(data1)\n",
    "    data2     = np.asarray(data2)\n",
    "    z_stat, p_val = wilcoxon(data1, data2)\n",
    "    mean      = np.mean([data1, data2], axis=0)\n",
    "    diff      = data1 - data2                   # Difference between data1 and data2\n",
    "    md        = np.mean(diff)                   # Mean of the difference\n",
    "    sd        = np.std(diff, axis=0)            # Standard deviation of the difference\n",
    "\n",
    "    plt.scatter(mean, diff, *args, **kwargs)\n",
    "    plt.axhline(md,           color='red', linestyle='-')\n",
    "    plt.axhline(md + 1.96*sd, color='blue', linestyle='--')\n",
    "    plt.axhline(md - 1.96*sd, color='blue', linestyle='--')\n",
    "    plt.xlabel('Dose (Gy)')\n",
    "    plt.ylabel('Difference (Gy)')\n",
    "    plt.title( str(np.round(md, decimals = 3)) + ' Gy differnece with p = ' + str(np.round(p_val, decimals = 3))  + ' for ' + structure + ' and metric ' + metric)\n",
    "    plt.savefig('BA.png')"
   ]
  },
  {
   "cell_type": "markdown",
   "metadata": {},
   "source": [
    "## Import and clean data "
   ]
  },
  {
   "cell_type": "code",
   "execution_count": 9,
   "metadata": {
    "collapsed": true
   },
   "outputs": [],
   "source": [
    "d = pd.read_csv('AAA_Dm_data_30_9.csv')"
   ]
  },
  {
   "cell_type": "markdown",
   "metadata": {},
   "source": [
    "Drop entries with no values, and calculate percent difference"
   ]
  },
  {
   "cell_type": "code",
   "execution_count": 10,
   "metadata": {
    "collapsed": false
   },
   "outputs": [],
   "source": [
    "d = d[d.AAA != 0]    # drop zero rows"
   ]
  },
  {
   "cell_type": "code",
   "execution_count": 11,
   "metadata": {
    "collapsed": false
   },
   "outputs": [],
   "source": [
    "#d = d[d.structure != 'L Brachial plex']   # drop these\n",
    "#d = d[d.structure != 'Both Lungs']\n",
    "#d = d[d.metric != 'V20GY']\n",
    "#d = d[d.metric != 'V30GY']\n",
    "#d = d[d.metric != 'V40GY']\n",
    "#d = d[d.metric != 'V50GY']\n",
    "#d = d[d.metric != 'V55GY']\n",
    "#d = d[d.metric != 'DRX']"
   ]
  },
  {
   "cell_type": "code",
   "execution_count": 12,
   "metadata": {
    "collapsed": true
   },
   "outputs": [],
   "source": [
    "# d['diff'] = diff_percent(d.Dm, d.AAA)  # create % difference col"
   ]
  },
  {
   "cell_type": "code",
   "execution_count": 13,
   "metadata": {
    "collapsed": true
   },
   "outputs": [],
   "source": [
    "d['diff'] = d.Dm - d.AAA  # create absolute difference col, not %"
   ]
  },
  {
   "cell_type": "code",
   "execution_count": 14,
   "metadata": {
    "collapsed": false
   },
   "outputs": [
    {
     "data": {
      "text/html": [
       "<div>\n",
       "<table border=\"1\" class=\"dataframe\">\n",
       "  <thead>\n",
       "    <tr style=\"text-align: right;\">\n",
       "      <th></th>\n",
       "      <th>Case</th>\n",
       "      <th>structure</th>\n",
       "      <th>metric</th>\n",
       "      <th>AAA</th>\n",
       "      <th>Dm</th>\n",
       "      <th>diff</th>\n",
       "    </tr>\n",
       "  </thead>\n",
       "  <tbody>\n",
       "    <tr>\n",
       "      <th>0</th>\n",
       "      <td>Case1</td>\n",
       "      <td>BODY</td>\n",
       "      <td>D2%</td>\n",
       "      <td>25.853042</td>\n",
       "      <td>25.685894</td>\n",
       "      <td>-0.167149</td>\n",
       "    </tr>\n",
       "    <tr>\n",
       "      <th>1</th>\n",
       "      <td>Case1</td>\n",
       "      <td>BODY</td>\n",
       "      <td>D5%</td>\n",
       "      <td>14.523130</td>\n",
       "      <td>14.388797</td>\n",
       "      <td>-0.134333</td>\n",
       "    </tr>\n",
       "    <tr>\n",
       "      <th>2</th>\n",
       "      <td>Case1</td>\n",
       "      <td>BODY</td>\n",
       "      <td>D50%</td>\n",
       "      <td>0.430243</td>\n",
       "      <td>0.399853</td>\n",
       "      <td>-0.030390</td>\n",
       "    </tr>\n",
       "    <tr>\n",
       "      <th>3</th>\n",
       "      <td>Case1</td>\n",
       "      <td>BODY</td>\n",
       "      <td>D95%</td>\n",
       "      <td>0.047550</td>\n",
       "      <td>0.065952</td>\n",
       "      <td>0.018402</td>\n",
       "    </tr>\n",
       "    <tr>\n",
       "      <th>4</th>\n",
       "      <td>Case1</td>\n",
       "      <td>BODY</td>\n",
       "      <td>D99%</td>\n",
       "      <td>0.009510</td>\n",
       "      <td>0.022860</td>\n",
       "      <td>0.013350</td>\n",
       "    </tr>\n",
       "  </tbody>\n",
       "</table>\n",
       "</div>"
      ],
      "text/plain": [
       "    Case structure metric        AAA         Dm      diff\n",
       "0  Case1      BODY    D2%  25.853042  25.685894 -0.167149\n",
       "1  Case1      BODY    D5%  14.523130  14.388797 -0.134333\n",
       "2  Case1      BODY   D50%   0.430243   0.399853 -0.030390\n",
       "3  Case1      BODY   D95%   0.047550   0.065952  0.018402\n",
       "4  Case1      BODY   D99%   0.009510   0.022860  0.013350"
      ]
     },
     "execution_count": 14,
     "metadata": {},
     "output_type": "execute_result"
    }
   ],
   "source": [
    "d.head()"
   ]
  },
  {
   "cell_type": "code",
   "execution_count": 24,
   "metadata": {
    "collapsed": false
   },
   "outputs": [],
   "source": [
    "#d.describe()"
   ]
  },
  {
   "cell_type": "code",
   "execution_count": 16,
   "metadata": {
    "collapsed": false
   },
   "outputs": [
    {
     "data": {
      "text/plain": [
       "Case                  Case31\n",
       "structure    R Brachial plex\n",
       "metric                   DHI\n",
       "AAA                  44.7183\n",
       "Dm                   781.014\n",
       "diff                 736.296\n",
       "Name: 4978, dtype: object"
      ]
     },
     "execution_count": 16,
     "metadata": {},
     "output_type": "execute_result"
    }
   ],
   "source": [
    "d.loc[d['diff'].idxmax()] # Some large differences for Brachial plex, INVESTIGATE"
   ]
  },
  {
   "cell_type": "code",
   "execution_count": 23,
   "metadata": {
    "collapsed": false
   },
   "outputs": [],
   "source": [
    "#d[d['diff']>20]   # see the extreme cases"
   ]
  },
  {
   "cell_type": "code",
   "execution_count": 18,
   "metadata": {
    "collapsed": true
   },
   "outputs": [],
   "source": [
    "#d = d[d['diff']<100.0] # drop extreme cases where difference is greater than 100%"
   ]
  },
  {
   "cell_type": "code",
   "execution_count": 19,
   "metadata": {
    "collapsed": false
   },
   "outputs": [
    {
     "data": {
      "text/plain": [
       "array(['D2%', 'D5%', 'D50%', 'D95%', 'D99%', 'D1CC', 'D0.1CC', 'DMAX',\n",
       "       'DSD', 'DRX', 'DHI', 'V5GY', 'V12.5GY', 'V20GY', 'V30GY', 'V40GY',\n",
       "       'V50GY', 'V55GY'], dtype=object)"
      ]
     },
     "execution_count": 19,
     "metadata": {},
     "output_type": "execute_result"
    }
   ],
   "source": [
    "d.metric.unique()"
   ]
  },
  {
   "cell_type": "code",
   "execution_count": 20,
   "metadata": {
    "collapsed": false
   },
   "outputs": [
    {
     "data": {
      "text/plain": [
       "array(['BODY', 'GTV', 'Heart', 'Foramen', 'Foramen+3mm', 'Oesophagus',\n",
       "       'Trachea', 'Bronchial tree', 'L Brachial plex', 'R Brachial plex',\n",
       "       'Airway avoidance', 'PTV CHEST', 'Lt_Lung', 'PTV ring 2-3cm',\n",
       "       'Rt_Lung', 'Both Lungs-ITV', 'Skin', 'Ribs', 'Skin-PTV+2cm', 'ITV',\n",
       "       'Ribs-PTV', 'Inner Ring', 'Body', 'Both Lungs', 'Great vessels',\n",
       "       'Liver'], dtype=object)"
      ]
     },
     "execution_count": 20,
     "metadata": {},
     "output_type": "execute_result"
    }
   ],
   "source": [
    "d.structure.unique()"
   ]
  },
  {
   "cell_type": "code",
   "execution_count": 22,
   "metadata": {
    "collapsed": false
   },
   "outputs": [
    {
     "name": "stdout",
     "output_type": "stream",
     "text": [
      "15\n"
     ]
    },
    {
     "data": {
      "text/plain": [
       "array(['Case1', 'Case5', 'Case11', 'Case12', 'Case13', 'Case14', 'Case16',\n",
       "       'Case17', 'Case21', 'Case22', 'Case24', 'Case25', 'Case30',\n",
       "       'Case31', 'Case32'], dtype=object)"
      ]
     },
     "execution_count": 22,
     "metadata": {},
     "output_type": "execute_result"
    }
   ],
   "source": [
    "print(d.Case.unique().size)\n",
    "d.Case.unique()"
   ]
  },
  {
   "cell_type": "markdown",
   "metadata": {},
   "source": [
    "# Check against constraints"
   ]
  },
  {
   "cell_type": "code",
   "execution_count": 25,
   "metadata": {
    "collapsed": false
   },
   "outputs": [],
   "source": [
    "constraints = pd.read_csv('SABR_lung_constraints.csv')\n",
    "constraints = constraints.drop('3_Fraction_54Gy', 1)   # drop 54 Gy"
   ]
  },
  {
   "cell_type": "code",
   "execution_count": 26,
   "metadata": {
    "collapsed": false
   },
   "outputs": [
    {
     "data": {
      "text/html": [
       "<div>\n",
       "<table border=\"1\" class=\"dataframe\">\n",
       "  <thead>\n",
       "    <tr style=\"text-align: right;\">\n",
       "      <th></th>\n",
       "      <th>structure</th>\n",
       "      <th>metric</th>\n",
       "      <th>Sign</th>\n",
       "      <th>5_Fraction_55Gy</th>\n",
       "      <th>Unit</th>\n",
       "      <th>Of_Prescription_dose?</th>\n",
       "    </tr>\n",
       "  </thead>\n",
       "  <tbody>\n",
       "    <tr>\n",
       "      <th>0</th>\n",
       "      <td>PTV CHEST</td>\n",
       "      <td>D95%</td>\n",
       "      <td>&gt;</td>\n",
       "      <td>100</td>\n",
       "      <td>%</td>\n",
       "      <td>1</td>\n",
       "    </tr>\n",
       "    <tr>\n",
       "      <th>1</th>\n",
       "      <td>PTV CHEST</td>\n",
       "      <td>D99%</td>\n",
       "      <td>&gt;</td>\n",
       "      <td>90</td>\n",
       "      <td>%</td>\n",
       "      <td>1</td>\n",
       "    </tr>\n",
       "    <tr>\n",
       "      <th>2</th>\n",
       "      <td>PTV CHEST</td>\n",
       "      <td>D0.1CC</td>\n",
       "      <td>between</td>\n",
       "      <td>118-134</td>\n",
       "      <td>%</td>\n",
       "      <td>1</td>\n",
       "    </tr>\n",
       "    <tr>\n",
       "      <th>3</th>\n",
       "      <td>Foramen</td>\n",
       "      <td>DMAX</td>\n",
       "      <td>&lt;</td>\n",
       "      <td>25</td>\n",
       "      <td>Gy</td>\n",
       "      <td>0</td>\n",
       "    </tr>\n",
       "    <tr>\n",
       "      <th>4</th>\n",
       "      <td>Oesophagus</td>\n",
       "      <td>D0.1CC</td>\n",
       "      <td>&lt;</td>\n",
       "      <td>27</td>\n",
       "      <td>Gy</td>\n",
       "      <td>0</td>\n",
       "    </tr>\n",
       "    <tr>\n",
       "      <th>5</th>\n",
       "      <td>R Brachial plex</td>\n",
       "      <td>D0.1CC</td>\n",
       "      <td>&lt;</td>\n",
       "      <td>27</td>\n",
       "      <td>Gy</td>\n",
       "      <td>0</td>\n",
       "    </tr>\n",
       "    <tr>\n",
       "      <th>6</th>\n",
       "      <td>L Brachial plex</td>\n",
       "      <td>D0.1CC</td>\n",
       "      <td>&lt;</td>\n",
       "      <td>27</td>\n",
       "      <td>Gy</td>\n",
       "      <td>0</td>\n",
       "    </tr>\n",
       "    <tr>\n",
       "      <th>7</th>\n",
       "      <td>Heart</td>\n",
       "      <td>D0.1CC</td>\n",
       "      <td>&lt;</td>\n",
       "      <td>27</td>\n",
       "      <td>Gy</td>\n",
       "      <td>0</td>\n",
       "    </tr>\n",
       "    <tr>\n",
       "      <th>8</th>\n",
       "      <td>Trachea</td>\n",
       "      <td>D0.1CC</td>\n",
       "      <td>&lt;</td>\n",
       "      <td>32</td>\n",
       "      <td>Gy</td>\n",
       "      <td>0</td>\n",
       "    </tr>\n",
       "    <tr>\n",
       "      <th>9</th>\n",
       "      <td>Bronchial tree</td>\n",
       "      <td>D0.1CC</td>\n",
       "      <td>&lt;</td>\n",
       "      <td>32</td>\n",
       "      <td>Gy</td>\n",
       "      <td>0</td>\n",
       "    </tr>\n",
       "    <tr>\n",
       "      <th>10</th>\n",
       "      <td>Ribs</td>\n",
       "      <td>D0.1CC</td>\n",
       "      <td>&lt;</td>\n",
       "      <td>35</td>\n",
       "      <td>Gy</td>\n",
       "      <td>0</td>\n",
       "    </tr>\n",
       "  </tbody>\n",
       "</table>\n",
       "</div>"
      ],
      "text/plain": [
       "          structure  metric     Sign 5_Fraction_55Gy Unit  \\\n",
       "0         PTV CHEST    D95%       >              100    %   \n",
       "1         PTV CHEST    D99%        >              90    %   \n",
       "2         PTV CHEST  D0.1CC  between         118-134    %   \n",
       "3           Foramen    DMAX        <              25   Gy   \n",
       "4        Oesophagus  D0.1CC        <              27   Gy   \n",
       "5   R Brachial plex  D0.1CC        <              27   Gy   \n",
       "6   L Brachial plex  D0.1CC        <              27   Gy   \n",
       "7             Heart  D0.1CC        <              27   Gy   \n",
       "8           Trachea  D0.1CC        <              32   Gy   \n",
       "9    Bronchial tree  D0.1CC        <              32   Gy   \n",
       "10             Ribs  D0.1CC        <              35   Gy   \n",
       "\n",
       "    Of_Prescription_dose?  \n",
       "0                       1  \n",
       "1                       1  \n",
       "2                       1  \n",
       "3                       0  \n",
       "4                       0  \n",
       "5                       0  \n",
       "6                       0  \n",
       "7                       0  \n",
       "8                       0  \n",
       "9                       0  \n",
       "10                      0  "
      ]
     },
     "execution_count": 26,
     "metadata": {},
     "output_type": "execute_result"
    }
   ],
   "source": [
    "# constraints[(constraints['Structure'] == 'PTV CHEST') & (constraints['Metric'] == 'D95%')]\n",
    "constraints = constraints[constraints['metric'].isin(d.metric.unique())]   # get only constraints where we have exported metrics\n",
    "constraints"
   ]
  },
  {
   "cell_type": "code",
   "execution_count": 27,
   "metadata": {
    "collapsed": false
   },
   "outputs": [
    {
     "data": {
      "text/html": [
       "<div>\n",
       "<table border=\"1\" class=\"dataframe\">\n",
       "  <thead>\n",
       "    <tr style=\"text-align: right;\">\n",
       "      <th></th>\n",
       "      <th>Case</th>\n",
       "      <th>structure</th>\n",
       "      <th>metric</th>\n",
       "      <th>AAA</th>\n",
       "      <th>Dm</th>\n",
       "      <th>diff</th>\n",
       "    </tr>\n",
       "  </thead>\n",
       "  <tbody>\n",
       "    <tr>\n",
       "      <th>489</th>\n",
       "      <td>Case5</td>\n",
       "      <td>PTV CHEST</td>\n",
       "      <td>D95%</td>\n",
       "      <td>55.648904</td>\n",
       "      <td>54.883221</td>\n",
       "      <td>-0.765683</td>\n",
       "    </tr>\n",
       "    <tr>\n",
       "      <th>4287</th>\n",
       "      <td>Case30</td>\n",
       "      <td>PTV CHEST</td>\n",
       "      <td>D95%</td>\n",
       "      <td>56.172306</td>\n",
       "      <td>51.618767</td>\n",
       "      <td>-4.553539</td>\n",
       "    </tr>\n",
       "  </tbody>\n",
       "</table>\n",
       "</div>"
      ],
      "text/plain": [
       "        Case  structure metric        AAA         Dm      diff\n",
       "489    Case5  PTV CHEST   D95%  55.648904  54.883221 -0.765683\n",
       "4287  Case30  PTV CHEST   D95%  56.172306  51.618767 -4.553539"
      ]
     },
     "execution_count": 27,
     "metadata": {},
     "output_type": "execute_result"
    }
   ],
   "source": [
    "PTV_D95_fail = d[(d['structure'] == 'PTV CHEST') & (d['metric'] == 'D95%') & (d['AAA'] > 55.0) & (d['Dm'] < 55.0)]\n",
    "#print(wilcoxon(test_df['diff'])) \n",
    "PTV_D95_fail"
   ]
  },
  {
   "cell_type": "code",
   "execution_count": 28,
   "metadata": {
    "collapsed": false
   },
   "outputs": [
    {
     "data": {
      "text/html": [
       "<div>\n",
       "<table border=\"1\" class=\"dataframe\">\n",
       "  <thead>\n",
       "    <tr style=\"text-align: right;\">\n",
       "      <th></th>\n",
       "      <th>Case</th>\n",
       "      <th>structure</th>\n",
       "      <th>metric</th>\n",
       "      <th>AAA</th>\n",
       "      <th>Dm</th>\n",
       "      <th>diff</th>\n",
       "    </tr>\n",
       "  </thead>\n",
       "  <tbody>\n",
       "  </tbody>\n",
       "</table>\n",
       "</div>"
      ],
      "text/plain": [
       "Empty DataFrame\n",
       "Columns: [Case, structure, metric, AAA, Dm, diff]\n",
       "Index: []"
      ]
     },
     "execution_count": 28,
     "metadata": {},
     "output_type": "execute_result"
    }
   ],
   "source": [
    "PTV_D99_fail = d[(d['structure'] == 'PTV CHEST') & (d['metric'] == 'D99%') & (d['AAA'] > 0.9*55.0) & (d['Dm'] < 0.9*55.0)]\n",
    "PTV_D99_fail  "
   ]
  },
  {
   "cell_type": "code",
   "execution_count": 29,
   "metadata": {
    "collapsed": false
   },
   "outputs": [
    {
     "name": "stdout",
     "output_type": "stream",
     "text": [
      "64.89999999999999\n",
      "73.7\n"
     ]
    },
    {
     "data": {
      "text/html": [
       "<div>\n",
       "<table border=\"1\" class=\"dataframe\">\n",
       "  <thead>\n",
       "    <tr style=\"text-align: right;\">\n",
       "      <th></th>\n",
       "      <th>Case</th>\n",
       "      <th>structure</th>\n",
       "      <th>metric</th>\n",
       "      <th>AAA</th>\n",
       "      <th>Dm</th>\n",
       "      <th>diff</th>\n",
       "    </tr>\n",
       "  </thead>\n",
       "  <tbody>\n",
       "    <tr>\n",
       "      <th>4740</th>\n",
       "      <td>Case31</td>\n",
       "      <td>PTV CHEST</td>\n",
       "      <td>D0.1CC</td>\n",
       "      <td>72.846993</td>\n",
       "      <td>74.024337</td>\n",
       "      <td>1.177344</td>\n",
       "    </tr>\n",
       "  </tbody>\n",
       "</table>\n",
       "</div>"
      ],
      "text/plain": [
       "        Case  structure  metric        AAA         Dm      diff\n",
       "4740  Case31  PTV CHEST  D0.1CC  72.846993  74.024337  1.177344"
      ]
     },
     "execution_count": 29,
     "metadata": {},
     "output_type": "execute_result"
    }
   ],
   "source": [
    "PTV_D01CC_fail = d[(d['structure'] == 'PTV CHEST') & (d['metric'] == 'D0.1CC') & (((d['AAA'] > 1.18*55) & (d['Dm'] < 1.18*55)) | ((d['AAA'] < 1.34*55) & (d['Dm'] > 1.34*55)))]\n",
    "print(1.18*55)\n",
    "print(1.34*55)\n",
    "PTV_D01CC_fail"
   ]
  },
  {
   "cell_type": "code",
   "execution_count": 30,
   "metadata": {
    "collapsed": false
   },
   "outputs": [
    {
     "data": {
      "text/html": [
       "<div>\n",
       "<table border=\"1\" class=\"dataframe\">\n",
       "  <thead>\n",
       "    <tr style=\"text-align: right;\">\n",
       "      <th></th>\n",
       "      <th>Case</th>\n",
       "      <th>structure</th>\n",
       "      <th>metric</th>\n",
       "      <th>AAA</th>\n",
       "      <th>Dm</th>\n",
       "      <th>diff</th>\n",
       "    </tr>\n",
       "  </thead>\n",
       "  <tbody>\n",
       "  </tbody>\n",
       "</table>\n",
       "</div>"
      ],
      "text/plain": [
       "Empty DataFrame\n",
       "Columns: [Case, structure, metric, AAA, Dm, diff]\n",
       "Index: []"
      ]
     },
     "execution_count": 30,
     "metadata": {},
     "output_type": "execute_result"
    }
   ],
   "source": [
    "Foramen_D01CC_fail = d[(d['structure'] == 'Foramen') & (d['metric'] == 'DMAX') & (d['AAA'] < 25.0) & (d['Dm'] > 25.0)]\n",
    "Foramen_D01CC_fail  "
   ]
  },
  {
   "cell_type": "code",
   "execution_count": 31,
   "metadata": {
    "collapsed": false
   },
   "outputs": [
    {
     "data": {
      "text/html": [
       "<div>\n",
       "<table border=\"1\" class=\"dataframe\">\n",
       "  <thead>\n",
       "    <tr style=\"text-align: right;\">\n",
       "      <th></th>\n",
       "      <th>Case</th>\n",
       "      <th>structure</th>\n",
       "      <th>metric</th>\n",
       "      <th>AAA</th>\n",
       "      <th>Dm</th>\n",
       "      <th>diff</th>\n",
       "    </tr>\n",
       "  </thead>\n",
       "  <tbody>\n",
       "  </tbody>\n",
       "</table>\n",
       "</div>"
      ],
      "text/plain": [
       "Empty DataFrame\n",
       "Columns: [Case, structure, metric, AAA, Dm, diff]\n",
       "Index: []"
      ]
     },
     "execution_count": 31,
     "metadata": {},
     "output_type": "execute_result"
    }
   ],
   "source": [
    "Oesophagus_D01CC_fail = d[(d['structure'] == 'Oesophagus') & (d['metric'] == 'D0.1CC') & (d['AAA'] < 27.0) & (d['Dm'] > 27.0)]\n",
    "Oesophagus_D01CC_fail  "
   ]
  },
  {
   "cell_type": "code",
   "execution_count": 32,
   "metadata": {
    "collapsed": false
   },
   "outputs": [
    {
     "data": {
      "text/html": [
       "<div>\n",
       "<table border=\"1\" class=\"dataframe\">\n",
       "  <thead>\n",
       "    <tr style=\"text-align: right;\">\n",
       "      <th></th>\n",
       "      <th>Case</th>\n",
       "      <th>structure</th>\n",
       "      <th>metric</th>\n",
       "      <th>AAA</th>\n",
       "      <th>Dm</th>\n",
       "      <th>diff</th>\n",
       "    </tr>\n",
       "  </thead>\n",
       "  <tbody>\n",
       "    <tr>\n",
       "      <th>1122</th>\n",
       "      <td>Case12</td>\n",
       "      <td>L Brachial plex</td>\n",
       "      <td>D0.1CC</td>\n",
       "      <td>0.108812</td>\n",
       "      <td>74.346465</td>\n",
       "      <td>74.237653</td>\n",
       "    </tr>\n",
       "    <tr>\n",
       "      <th>3912</th>\n",
       "      <td>Case25</td>\n",
       "      <td>L Brachial plex</td>\n",
       "      <td>D0.1CC</td>\n",
       "      <td>0.054618</td>\n",
       "      <td>63.428739</td>\n",
       "      <td>63.374121</td>\n",
       "    </tr>\n",
       "    <tr>\n",
       "      <th>4650</th>\n",
       "      <td>Case31</td>\n",
       "      <td>L Brachial plex</td>\n",
       "      <td>D0.1CC</td>\n",
       "      <td>0.109680</td>\n",
       "      <td>77.576481</td>\n",
       "      <td>77.466802</td>\n",
       "    </tr>\n",
       "  </tbody>\n",
       "</table>\n",
       "</div>"
      ],
      "text/plain": [
       "        Case        structure  metric       AAA         Dm       diff\n",
       "1122  Case12  L Brachial plex  D0.1CC  0.108812  74.346465  74.237653\n",
       "3912  Case25  L Brachial plex  D0.1CC  0.054618  63.428739  63.374121\n",
       "4650  Case31  L Brachial plex  D0.1CC  0.109680  77.576481  77.466802"
      ]
     },
     "execution_count": 32,
     "metadata": {},
     "output_type": "execute_result"
    }
   ],
   "source": [
    "LBrachial_D01CC_fail = d[(d['structure'] == 'L Brachial plex') & (d['metric'] == 'D0.1CC') & (d['AAA'] < 27.0) & (d['Dm'] > 27.0)]\n",
    "LBrachial_D01CC_fail  "
   ]
  },
  {
   "cell_type": "code",
   "execution_count": 33,
   "metadata": {
    "collapsed": false
   },
   "outputs": [
    {
     "data": {
      "text/html": [
       "<div>\n",
       "<table border=\"1\" class=\"dataframe\">\n",
       "  <thead>\n",
       "    <tr style=\"text-align: right;\">\n",
       "      <th></th>\n",
       "      <th>Case</th>\n",
       "      <th>structure</th>\n",
       "      <th>metric</th>\n",
       "      <th>AAA</th>\n",
       "      <th>Dm</th>\n",
       "      <th>diff</th>\n",
       "    </tr>\n",
       "  </thead>\n",
       "  <tbody>\n",
       "    <tr>\n",
       "      <th>222</th>\n",
       "      <td>Case1</td>\n",
       "      <td>R Brachial plex</td>\n",
       "      <td>D0.1CC</td>\n",
       "      <td>0.324991</td>\n",
       "      <td>65.801627</td>\n",
       "      <td>65.476636</td>\n",
       "    </tr>\n",
       "    <tr>\n",
       "      <th>2814</th>\n",
       "      <td>Case17</td>\n",
       "      <td>R Brachial plex</td>\n",
       "      <td>D0.1CC</td>\n",
       "      <td>0.435957</td>\n",
       "      <td>48.809596</td>\n",
       "      <td>48.373640</td>\n",
       "    </tr>\n",
       "  </tbody>\n",
       "</table>\n",
       "</div>"
      ],
      "text/plain": [
       "        Case        structure  metric       AAA         Dm       diff\n",
       "222    Case1  R Brachial plex  D0.1CC  0.324991  65.801627  65.476636\n",
       "2814  Case17  R Brachial plex  D0.1CC  0.435957  48.809596  48.373640"
      ]
     },
     "execution_count": 33,
     "metadata": {},
     "output_type": "execute_result"
    }
   ],
   "source": [
    "RBrachial_D01CC_fail = d[(d['structure'] == 'R Brachial plex') & (d['metric'] == 'D0.1CC') & (d['AAA'] < 27.0) & (d['Dm'] > 27.0)]\n",
    "RBrachial_D01CC_fail  "
   ]
  },
  {
   "cell_type": "code",
   "execution_count": 34,
   "metadata": {
    "collapsed": false
   },
   "outputs": [
    {
     "data": {
      "text/html": [
       "<div>\n",
       "<table border=\"1\" class=\"dataframe\">\n",
       "  <thead>\n",
       "    <tr style=\"text-align: right;\">\n",
       "      <th></th>\n",
       "      <th>Case</th>\n",
       "      <th>structure</th>\n",
       "      <th>metric</th>\n",
       "      <th>AAA</th>\n",
       "      <th>Dm</th>\n",
       "      <th>diff</th>\n",
       "    </tr>\n",
       "  </thead>\n",
       "  <tbody>\n",
       "  </tbody>\n",
       "</table>\n",
       "</div>"
      ],
      "text/plain": [
       "Empty DataFrame\n",
       "Columns: [Case, structure, metric, AAA, Dm, diff]\n",
       "Index: []"
      ]
     },
     "execution_count": 34,
     "metadata": {},
     "output_type": "execute_result"
    }
   ],
   "source": [
    "Heart_D01CC_fail = d[(d['structure'] == 'Heart') & (d['metric'] == 'D0.1CC')& (d['Dm'] > 27.0) & (d['AAA'] < 27.0)]\n",
    "Heart_D01CC_fail "
   ]
  },
  {
   "cell_type": "code",
   "execution_count": 35,
   "metadata": {
    "collapsed": false
   },
   "outputs": [
    {
     "data": {
      "text/html": [
       "<div>\n",
       "<table border=\"1\" class=\"dataframe\">\n",
       "  <thead>\n",
       "    <tr style=\"text-align: right;\">\n",
       "      <th></th>\n",
       "      <th>Case</th>\n",
       "      <th>structure</th>\n",
       "      <th>metric</th>\n",
       "      <th>AAA</th>\n",
       "      <th>Dm</th>\n",
       "      <th>diff</th>\n",
       "    </tr>\n",
       "  </thead>\n",
       "  <tbody>\n",
       "    <tr>\n",
       "      <th>3966</th>\n",
       "      <td>Case25</td>\n",
       "      <td>Trachea</td>\n",
       "      <td>D0.1CC</td>\n",
       "      <td>15.948424</td>\n",
       "      <td>69.349889</td>\n",
       "      <td>53.401465</td>\n",
       "    </tr>\n",
       "  </tbody>\n",
       "</table>\n",
       "</div>"
      ],
      "text/plain": [
       "        Case structure  metric        AAA         Dm       diff\n",
       "3966  Case25   Trachea  D0.1CC  15.948424  69.349889  53.401465"
      ]
     },
     "execution_count": 35,
     "metadata": {},
     "output_type": "execute_result"
    }
   ],
   "source": [
    "Trachea_D01CC_fail = d[(d['structure'] == 'Trachea') & (d['metric'] == 'D0.1CC') & (d['AAA'] < 32.0) & (d['Dm'] > 32.0)]\n",
    "Trachea_D01CC_fail  "
   ]
  },
  {
   "cell_type": "code",
   "execution_count": 36,
   "metadata": {
    "collapsed": false
   },
   "outputs": [
    {
     "data": {
      "text/html": [
       "<div>\n",
       "<table border=\"1\" class=\"dataframe\">\n",
       "  <thead>\n",
       "    <tr style=\"text-align: right;\">\n",
       "      <th></th>\n",
       "      <th>Case</th>\n",
       "      <th>structure</th>\n",
       "      <th>metric</th>\n",
       "      <th>AAA</th>\n",
       "      <th>Dm</th>\n",
       "      <th>diff</th>\n",
       "    </tr>\n",
       "  </thead>\n",
       "  <tbody>\n",
       "  </tbody>\n",
       "</table>\n",
       "</div>"
      ],
      "text/plain": [
       "Empty DataFrame\n",
       "Columns: [Case, structure, metric, AAA, Dm, diff]\n",
       "Index: []"
      ]
     },
     "execution_count": 36,
     "metadata": {},
     "output_type": "execute_result"
    }
   ],
   "source": [
    "Bronchial_D01CC_fail = d[(d['structure'] == 'Bronchial tree') & (d['metric'] == 'D0.1CC') & (d['AAA'] < 32.0) & (d['Dm'] > 32.0)]\n",
    "Bronchial_D01CC_fail "
   ]
  },
  {
   "cell_type": "code",
   "execution_count": 37,
   "metadata": {
    "collapsed": false
   },
   "outputs": [
    {
     "data": {
      "text/html": [
       "<div>\n",
       "<table border=\"1\" class=\"dataframe\">\n",
       "  <thead>\n",
       "    <tr style=\"text-align: right;\">\n",
       "      <th></th>\n",
       "      <th>Case</th>\n",
       "      <th>structure</th>\n",
       "      <th>metric</th>\n",
       "      <th>AAA</th>\n",
       "      <th>Dm</th>\n",
       "      <th>diff</th>\n",
       "    </tr>\n",
       "  </thead>\n",
       "  <tbody>\n",
       "  </tbody>\n",
       "</table>\n",
       "</div>"
      ],
      "text/plain": [
       "Empty DataFrame\n",
       "Columns: [Case, structure, metric, AAA, Dm, diff]\n",
       "Index: []"
      ]
     },
     "execution_count": 37,
     "metadata": {},
     "output_type": "execute_result"
    }
   ],
   "source": [
    "Ribs_D01CC_fail = d[(d['structure'] == 'Ribs') & (d['metric'] == 'D0.1CC') & (d['AAA'] < 35.0) & (d['Dm'] > 35.0)]\n",
    "Ribs_D01CC_fail "
   ]
  },
  {
   "cell_type": "code",
   "execution_count": 38,
   "metadata": {
    "collapsed": false
   },
   "outputs": [
    {
     "data": {
      "text/html": [
       "<div>\n",
       "<table border=\"1\" class=\"dataframe\">\n",
       "  <thead>\n",
       "    <tr style=\"text-align: right;\">\n",
       "      <th></th>\n",
       "      <th>Case</th>\n",
       "      <th>structure</th>\n",
       "      <th>metric</th>\n",
       "      <th>AAA</th>\n",
       "      <th>Dm</th>\n",
       "      <th>diff</th>\n",
       "    </tr>\n",
       "  </thead>\n",
       "  <tbody>\n",
       "  </tbody>\n",
       "</table>\n",
       "</div>"
      ],
      "text/plain": [
       "Empty DataFrame\n",
       "Columns: [Case, structure, metric, AAA, Dm, diff]\n",
       "Index: []"
      ]
     },
     "execution_count": 38,
     "metadata": {},
     "output_type": "execute_result"
    }
   ],
   "source": [
    "Ribs_V30_fail = d[(d['structure'] == 'Ribs') & (d['metric'] == 'V30GY') & (d['AAA'] < 30.0) & (d['Dm'] > 30.0)]\n",
    "Ribs_V30_fail "
   ]
  },
  {
   "cell_type": "code",
   "execution_count": 39,
   "metadata": {
    "collapsed": false
   },
   "outputs": [
    {
     "data": {
      "text/html": [
       "<div>\n",
       "<table border=\"1\" class=\"dataframe\">\n",
       "  <thead>\n",
       "    <tr style=\"text-align: right;\">\n",
       "      <th></th>\n",
       "      <th>Case</th>\n",
       "      <th>structure</th>\n",
       "      <th>metric</th>\n",
       "      <th>AAA</th>\n",
       "      <th>Dm</th>\n",
       "      <th>diff</th>\n",
       "    </tr>\n",
       "  </thead>\n",
       "  <tbody>\n",
       "  </tbody>\n",
       "</table>\n",
       "</div>"
      ],
      "text/plain": [
       "Empty DataFrame\n",
       "Columns: [Case, structure, metric, AAA, Dm, diff]\n",
       "Index: []"
      ]
     },
     "execution_count": 39,
     "metadata": {},
     "output_type": "execute_result"
    }
   ],
   "source": [
    "Lungs_V20_fail = d[(d['structure'] == 'Both Lungs-ITV') & (d['metric'] == 'V20GY') & (d['AAA'] < 10.0) & (d['Dm'] > 10.0)]\n",
    "Lungs_V20_fail "
   ]
  },
  {
   "cell_type": "code",
   "execution_count": 40,
   "metadata": {
    "collapsed": false
   },
   "outputs": [
    {
     "data": {
      "text/html": [
       "<div>\n",
       "<table border=\"1\" class=\"dataframe\">\n",
       "  <thead>\n",
       "    <tr style=\"text-align: right;\">\n",
       "      <th></th>\n",
       "      <th>Case</th>\n",
       "      <th>structure</th>\n",
       "      <th>metric</th>\n",
       "      <th>AAA</th>\n",
       "      <th>Dm</th>\n",
       "      <th>diff</th>\n",
       "    </tr>\n",
       "  </thead>\n",
       "  <tbody>\n",
       "  </tbody>\n",
       "</table>\n",
       "</div>"
      ],
      "text/plain": [
       "Empty DataFrame\n",
       "Columns: [Case, structure, metric, AAA, Dm, diff]\n",
       "Index: []"
      ]
     },
     "execution_count": 40,
     "metadata": {},
     "output_type": "execute_result"
    }
   ],
   "source": [
    "Lungs_V125_fail = d[(d['structure'] == 'Both Lungs-ITV') & (d['metric'] == 'V12.5GY') & (d['AAA'] < 15.0) & (d['Dm'] > 15.0)]\n",
    "Lungs_V125_fail "
   ]
  },
  {
   "cell_type": "code",
   "execution_count": 41,
   "metadata": {
    "collapsed": false
   },
   "outputs": [
    {
     "data": {
      "text/html": [
       "<div>\n",
       "<table border=\"1\" class=\"dataframe\">\n",
       "  <thead>\n",
       "    <tr style=\"text-align: right;\">\n",
       "      <th></th>\n",
       "      <th>Case</th>\n",
       "      <th>structure</th>\n",
       "      <th>metric</th>\n",
       "      <th>AAA</th>\n",
       "      <th>Dm</th>\n",
       "      <th>diff</th>\n",
       "    </tr>\n",
       "  </thead>\n",
       "  <tbody>\n",
       "  </tbody>\n",
       "</table>\n",
       "</div>"
      ],
      "text/plain": [
       "Empty DataFrame\n",
       "Columns: [Case, structure, metric, AAA, Dm, diff]\n",
       "Index: []"
      ]
     },
     "execution_count": 41,
     "metadata": {},
     "output_type": "execute_result"
    }
   ],
   "source": [
    "Lungs_V5_fail = d[(d['structure'] == 'Both Lungs-ITV') & (d['metric'] == 'V5GY') & (d['AAA'] < 26.0) & (d['Dm'] > 26.0)]\n",
    "Lungs_V5_fail "
   ]
  },
  {
   "cell_type": "code",
   "execution_count": 42,
   "metadata": {
    "collapsed": false
   },
   "outputs": [
    {
     "data": {
      "text/html": [
       "<div>\n",
       "<table border=\"1\" class=\"dataframe\">\n",
       "  <thead>\n",
       "    <tr style=\"text-align: right;\">\n",
       "      <th></th>\n",
       "      <th>Case</th>\n",
       "      <th>structure</th>\n",
       "      <th>metric</th>\n",
       "      <th>AAA</th>\n",
       "      <th>Dm</th>\n",
       "      <th>diff</th>\n",
       "    </tr>\n",
       "  </thead>\n",
       "  <tbody>\n",
       "    <tr>\n",
       "      <th>3458</th>\n",
       "      <td>Case22</td>\n",
       "      <td>Liver</td>\n",
       "      <td>D50%</td>\n",
       "      <td>1.250632</td>\n",
       "      <td>1.294880</td>\n",
       "      <td>0.044248</td>\n",
       "    </tr>\n",
       "    <tr>\n",
       "      <th>4196</th>\n",
       "      <td>Case25</td>\n",
       "      <td>Liver</td>\n",
       "      <td>D50%</td>\n",
       "      <td>6.847959</td>\n",
       "      <td>6.713133</td>\n",
       "      <td>-0.134825</td>\n",
       "    </tr>\n",
       "  </tbody>\n",
       "</table>\n",
       "</div>"
      ],
      "text/plain": [
       "        Case structure metric       AAA        Dm      diff\n",
       "3458  Case22     Liver   D50%  1.250632  1.294880  0.044248\n",
       "4196  Case25     Liver   D50%  6.847959  6.713133 -0.134825"
      ]
     },
     "execution_count": 42,
     "metadata": {},
     "output_type": "execute_result"
    }
   ],
   "source": [
    "Liver_D50_fail = d[(d['structure'] == 'Liver') & (d['metric'] == 'D50%') ]\n",
    "Liver_D50_fail   "
   ]
  },
  {
   "cell_type": "markdown",
   "metadata": {},
   "source": [
    "Need to export Lungs-ITV D1500CC, D1000CC, Liver 700CC, V21, V15, DMEAN\n",
    "\n",
    "Investigate these failures."
   ]
  },
  {
   "cell_type": "code",
   "execution_count": 43,
   "metadata": {
    "collapsed": false
   },
   "outputs": [
    {
     "name": "stdout",
     "output_type": "stream",
     "text": [
      "8\n"
     ]
    },
    {
     "data": {
      "text/html": [
       "<div>\n",
       "<table border=\"1\" class=\"dataframe\">\n",
       "  <thead>\n",
       "    <tr style=\"text-align: right;\">\n",
       "      <th></th>\n",
       "      <th>Case</th>\n",
       "      <th>structure</th>\n",
       "      <th>metric</th>\n",
       "      <th>AAA</th>\n",
       "      <th>Dm</th>\n",
       "      <th>diff</th>\n",
       "    </tr>\n",
       "  </thead>\n",
       "  <tbody>\n",
       "    <tr>\n",
       "      <th>489</th>\n",
       "      <td>Case5</td>\n",
       "      <td>PTV CHEST</td>\n",
       "      <td>D95%</td>\n",
       "      <td>55.648904</td>\n",
       "      <td>54.883221</td>\n",
       "      <td>-0.765683</td>\n",
       "    </tr>\n",
       "    <tr>\n",
       "      <th>4287</th>\n",
       "      <td>Case30</td>\n",
       "      <td>PTV CHEST</td>\n",
       "      <td>D95%</td>\n",
       "      <td>56.172306</td>\n",
       "      <td>51.618767</td>\n",
       "      <td>-4.553539</td>\n",
       "    </tr>\n",
       "    <tr>\n",
       "      <th>4740</th>\n",
       "      <td>Case31</td>\n",
       "      <td>PTV CHEST</td>\n",
       "      <td>D0.1CC</td>\n",
       "      <td>72.846993</td>\n",
       "      <td>74.024337</td>\n",
       "      <td>1.177344</td>\n",
       "    </tr>\n",
       "    <tr>\n",
       "      <th>3966</th>\n",
       "      <td>Case25</td>\n",
       "      <td>Trachea</td>\n",
       "      <td>D0.1CC</td>\n",
       "      <td>15.948424</td>\n",
       "      <td>69.349889</td>\n",
       "      <td>53.401465</td>\n",
       "    </tr>\n",
       "    <tr>\n",
       "      <th>3458</th>\n",
       "      <td>Case22</td>\n",
       "      <td>Liver</td>\n",
       "      <td>D50%</td>\n",
       "      <td>1.250632</td>\n",
       "      <td>1.294880</td>\n",
       "      <td>0.044248</td>\n",
       "    </tr>\n",
       "    <tr>\n",
       "      <th>4196</th>\n",
       "      <td>Case25</td>\n",
       "      <td>Liver</td>\n",
       "      <td>D50%</td>\n",
       "      <td>6.847959</td>\n",
       "      <td>6.713133</td>\n",
       "      <td>-0.134825</td>\n",
       "    </tr>\n",
       "    <tr>\n",
       "      <th>1122</th>\n",
       "      <td>Case12</td>\n",
       "      <td>L Brachial plex</td>\n",
       "      <td>D0.1CC</td>\n",
       "      <td>0.108812</td>\n",
       "      <td>74.346465</td>\n",
       "      <td>74.237653</td>\n",
       "    </tr>\n",
       "    <tr>\n",
       "      <th>3912</th>\n",
       "      <td>Case25</td>\n",
       "      <td>L Brachial plex</td>\n",
       "      <td>D0.1CC</td>\n",
       "      <td>0.054618</td>\n",
       "      <td>63.428739</td>\n",
       "      <td>63.374121</td>\n",
       "    </tr>\n",
       "    <tr>\n",
       "      <th>4650</th>\n",
       "      <td>Case31</td>\n",
       "      <td>L Brachial plex</td>\n",
       "      <td>D0.1CC</td>\n",
       "      <td>0.109680</td>\n",
       "      <td>77.576481</td>\n",
       "      <td>77.466802</td>\n",
       "    </tr>\n",
       "    <tr>\n",
       "      <th>222</th>\n",
       "      <td>Case1</td>\n",
       "      <td>R Brachial plex</td>\n",
       "      <td>D0.1CC</td>\n",
       "      <td>0.324991</td>\n",
       "      <td>65.801627</td>\n",
       "      <td>65.476636</td>\n",
       "    </tr>\n",
       "    <tr>\n",
       "      <th>2814</th>\n",
       "      <td>Case17</td>\n",
       "      <td>R Brachial plex</td>\n",
       "      <td>D0.1CC</td>\n",
       "      <td>0.435957</td>\n",
       "      <td>48.809596</td>\n",
       "      <td>48.373640</td>\n",
       "    </tr>\n",
       "  </tbody>\n",
       "</table>\n",
       "</div>"
      ],
      "text/plain": [
       "        Case        structure  metric        AAA         Dm       diff\n",
       "489    Case5        PTV CHEST    D95%  55.648904  54.883221  -0.765683\n",
       "4287  Case30        PTV CHEST    D95%  56.172306  51.618767  -4.553539\n",
       "4740  Case31        PTV CHEST  D0.1CC  72.846993  74.024337   1.177344\n",
       "3966  Case25          Trachea  D0.1CC  15.948424  69.349889  53.401465\n",
       "3458  Case22            Liver    D50%   1.250632   1.294880   0.044248\n",
       "4196  Case25            Liver    D50%   6.847959   6.713133  -0.134825\n",
       "1122  Case12  L Brachial plex  D0.1CC   0.108812  74.346465  74.237653\n",
       "3912  Case25  L Brachial plex  D0.1CC   0.054618  63.428739  63.374121\n",
       "4650  Case31  L Brachial plex  D0.1CC   0.109680  77.576481  77.466802\n",
       "222    Case1  R Brachial plex  D0.1CC   0.324991  65.801627  65.476636\n",
       "2814  Case17  R Brachial plex  D0.1CC   0.435957  48.809596  48.373640"
      ]
     },
     "execution_count": 43,
     "metadata": {},
     "output_type": "execute_result"
    }
   ],
   "source": [
    "failures = PTV_D95_fail\n",
    "failures = failures.append(PTV_D01CC_fail)\n",
    "failures = failures.append(Trachea_D01CC_fail)\n",
    "failures = failures.append(Liver_D50_fail)\n",
    "failures = failures.append(LBrachial_D01CC_fail)\n",
    "failures = failures.append(RBrachial_D01CC_fail)\n",
    "\n",
    "print(failures.Case.unique().size)\n",
    "failures"
   ]
  },
  {
   "cell_type": "markdown",
   "metadata": {},
   "source": [
    "##  PTV D95 data"
   ]
  },
  {
   "cell_type": "code",
   "execution_count": 44,
   "metadata": {
    "collapsed": false
   },
   "outputs": [],
   "source": [
    "d_PTV =  d[d['structure']  == 'PTV CHEST'].groupby(['metric'])\n",
    "d_PTV = d_PTV.diff.mean()  # get mean diff values\n",
    "# d_PTV.sort_values(ascending=False) #d_PTV.groups.keys()"
   ]
  },
  {
   "cell_type": "code",
   "execution_count": 131,
   "metadata": {
    "collapsed": false
   },
   "outputs": [],
   "source": [
    "# d_PTV.sort_values(ascending=False).plot(kind='bar', figsize=(8,6))"
   ]
  },
  {
   "cell_type": "code",
   "execution_count": 46,
   "metadata": {
    "collapsed": false
   },
   "outputs": [
    {
     "data": {
      "image/png": "[encoded data removed]",
      "text/plain": [
       "<matplotlib.figure.Figure at 0xb928130>"
      ]
     },
     "metadata": {},
     "output_type": "display_data"
    }
   ],
   "source": [
    "fig = plt.figure(figsize=(5, 4))\n",
    "structure = 'PTV CHEST'\n",
    "metric = 'D95%'\n",
    "bland_altman_plot(query_data('Dm', structure, metric), query_data('AAA',structure, metric), structure, metric)\n",
    "plt.show()"
   ]
  },
  {
   "cell_type": "markdown",
   "metadata": {},
   "source": [
    "Histograms of data PTV data"
   ]
  },
  {
   "cell_type": "code",
   "execution_count": 47,
   "metadata": {
    "collapsed": false
   },
   "outputs": [
    {
     "name": "stderr",
     "output_type": "stream",
     "text": [
      "C:\\Users\\RCole02.ROYALSURREY\\AppData\\Local\\Continuum\\Anaconda3\\lib\\site-packages\\statsmodels\\nonparametric\\kdetools.py:20: VisibleDeprecationWarning: using a non-integer number instead of an integer will result in an error in the future\n",
      "  y = X[:m/2+1] + np.r_[0,X[m/2+1:],0]*1j\n"
     ]
    },
    {
     "data": {
      "image/png": "[encoded data removed]",
      "text/plain": [
       "<matplotlib.figure.Figure at 0xccb21b0>"
      ]
     },
     "metadata": {},
     "output_type": "display_data"
    }
   ],
   "source": [
    "#ax2 = sns.distplot(query_data('diff', 'PTV CHEST', 'D50%'))   # quick test\n",
    "\n",
    "fig = plt.figure(figsize=(6, 4))\n",
    "data=query_data('diff', 'PTV CHEST', 'D95%')\n",
    "\n",
    "# plt.subplot(1, 2, 1)\n",
    "ax2 = sns.distplot(data)\n",
    "\n",
    "#plt.subplot(1, 2, 2)\n",
    "#ax = sns.violinplot(data)  "
   ]
  },
  {
   "cell_type": "code",
   "execution_count": 48,
   "metadata": {
    "collapsed": false
   },
   "outputs": [],
   "source": [
    "data=query_data('diff', 'PTV CHEST', 'D50%')\n",
    "# ax = sns.violinplot(data)  "
   ]
  },
  {
   "cell_type": "markdown",
   "metadata": {},
   "source": [
    "# Extract stats grouped by structure for D50% metric"
   ]
  },
  {
   "cell_type": "code",
   "execution_count": 50,
   "metadata": {
    "collapsed": false
   },
   "outputs": [
    {
     "data": {
      "text/html": [
       "<div>\n",
       "<table border=\"1\" class=\"dataframe\">\n",
       "  <thead>\n",
       "    <tr>\n",
       "      <th></th>\n",
       "      <th colspan=\"5\" halign=\"left\">diff</th>\n",
       "    </tr>\n",
       "    <tr>\n",
       "      <th></th>\n",
       "      <th>Counts</th>\n",
       "      <th>Mean</th>\n",
       "      <th>Max</th>\n",
       "      <th>SEM</th>\n",
       "      <th>Variance</th>\n",
       "    </tr>\n",
       "    <tr>\n",
       "      <th>structure</th>\n",
       "      <th></th>\n",
       "      <th></th>\n",
       "      <th></th>\n",
       "      <th></th>\n",
       "      <th></th>\n",
       "    </tr>\n",
       "  </thead>\n",
       "  <tbody>\n",
       "    <tr>\n",
       "      <th>Airway avoidance</th>\n",
       "      <td>14</td>\n",
       "      <td>-0.018405</td>\n",
       "      <td>0.053335</td>\n",
       "      <td>0.009802</td>\n",
       "      <td>0.001345</td>\n",
       "    </tr>\n",
       "    <tr>\n",
       "      <th>BODY</th>\n",
       "      <td>14</td>\n",
       "      <td>-0.003599</td>\n",
       "      <td>0.011675</td>\n",
       "      <td>0.004211</td>\n",
       "      <td>0.000248</td>\n",
       "    </tr>\n",
       "    <tr>\n",
       "      <th>Body</th>\n",
       "      <td>1</td>\n",
       "      <td>0.001679</td>\n",
       "      <td>0.001679</td>\n",
       "      <td>NaN</td>\n",
       "      <td>NaN</td>\n",
       "    </tr>\n",
       "    <tr>\n",
       "      <th>Both Lungs</th>\n",
       "      <td>5</td>\n",
       "      <td>-0.008474</td>\n",
       "      <td>0.014224</td>\n",
       "      <td>0.013606</td>\n",
       "      <td>0.000926</td>\n",
       "    </tr>\n",
       "    <tr>\n",
       "      <th>Both Lungs-ITV</th>\n",
       "      <td>15</td>\n",
       "      <td>-0.018235</td>\n",
       "      <td>0.032892</td>\n",
       "      <td>0.010556</td>\n",
       "      <td>0.001672</td>\n",
       "    </tr>\n",
       "    <tr>\n",
       "      <th>Bronchial tree</th>\n",
       "      <td>15</td>\n",
       "      <td>0.007682</td>\n",
       "      <td>0.128285</td>\n",
       "      <td>0.016811</td>\n",
       "      <td>0.004239</td>\n",
       "    </tr>\n",
       "    <tr>\n",
       "      <th>Foramen</th>\n",
       "      <td>15</td>\n",
       "      <td>-0.071230</td>\n",
       "      <td>0.025543</td>\n",
       "      <td>0.020161</td>\n",
       "      <td>0.006097</td>\n",
       "    </tr>\n",
       "    <tr>\n",
       "      <th>Foramen+3mm</th>\n",
       "      <td>18</td>\n",
       "      <td>-0.071668</td>\n",
       "      <td>0.024562</td>\n",
       "      <td>0.022756</td>\n",
       "      <td>0.009321</td>\n",
       "    </tr>\n",
       "    <tr>\n",
       "      <th>GTV</th>\n",
       "      <td>1</td>\n",
       "      <td>-0.900259</td>\n",
       "      <td>-0.900259</td>\n",
       "      <td>NaN</td>\n",
       "      <td>NaN</td>\n",
       "    </tr>\n",
       "    <tr>\n",
       "      <th>Great vessels</th>\n",
       "      <td>1</td>\n",
       "      <td>-0.049074</td>\n",
       "      <td>-0.049074</td>\n",
       "      <td>NaN</td>\n",
       "      <td>NaN</td>\n",
       "    </tr>\n",
       "    <tr>\n",
       "      <th>Heart</th>\n",
       "      <td>15</td>\n",
       "      <td>-0.006242</td>\n",
       "      <td>0.050727</td>\n",
       "      <td>0.009650</td>\n",
       "      <td>0.001397</td>\n",
       "    </tr>\n",
       "    <tr>\n",
       "      <th>ITV</th>\n",
       "      <td>14</td>\n",
       "      <td>0.568196</td>\n",
       "      <td>1.828439</td>\n",
       "      <td>0.195352</td>\n",
       "      <td>0.534273</td>\n",
       "    </tr>\n",
       "    <tr>\n",
       "      <th>Inner Ring</th>\n",
       "      <td>6</td>\n",
       "      <td>0.283500</td>\n",
       "      <td>0.567988</td>\n",
       "      <td>0.090871</td>\n",
       "      <td>0.049546</td>\n",
       "    </tr>\n",
       "    <tr>\n",
       "      <th>L Brachial plex</th>\n",
       "      <td>14</td>\n",
       "      <td>4.801599</td>\n",
       "      <td>39.023162</td>\n",
       "      <td>3.137878</td>\n",
       "      <td>137.847887</td>\n",
       "    </tr>\n",
       "    <tr>\n",
       "      <th>Liver</th>\n",
       "      <td>2</td>\n",
       "      <td>-0.045289</td>\n",
       "      <td>0.044248</td>\n",
       "      <td>0.089537</td>\n",
       "      <td>0.016034</td>\n",
       "    </tr>\n",
       "    <tr>\n",
       "      <th>Lt_Lung</th>\n",
       "      <td>15</td>\n",
       "      <td>-0.036095</td>\n",
       "      <td>0.012416</td>\n",
       "      <td>0.008498</td>\n",
       "      <td>0.001083</td>\n",
       "    </tr>\n",
       "    <tr>\n",
       "      <th>Oesophagus</th>\n",
       "      <td>15</td>\n",
       "      <td>-0.025135</td>\n",
       "      <td>0.032761</td>\n",
       "      <td>0.023482</td>\n",
       "      <td>0.008271</td>\n",
       "    </tr>\n",
       "    <tr>\n",
       "      <th>PTV CHEST</th>\n",
       "      <td>15</td>\n",
       "      <td>0.235042</td>\n",
       "      <td>1.697743</td>\n",
       "      <td>0.265863</td>\n",
       "      <td>1.060251</td>\n",
       "    </tr>\n",
       "    <tr>\n",
       "      <th>PTV ring 2-3cm</th>\n",
       "      <td>15</td>\n",
       "      <td>0.201877</td>\n",
       "      <td>0.763267</td>\n",
       "      <td>0.086762</td>\n",
       "      <td>0.112914</td>\n",
       "    </tr>\n",
       "    <tr>\n",
       "      <th>R Brachial plex</th>\n",
       "      <td>15</td>\n",
       "      <td>1.258501</td>\n",
       "      <td>18.718139</td>\n",
       "      <td>1.247171</td>\n",
       "      <td>23.331538</td>\n",
       "    </tr>\n",
       "    <tr>\n",
       "      <th>Ribs</th>\n",
       "      <td>15</td>\n",
       "      <td>-0.058496</td>\n",
       "      <td>0.181102</td>\n",
       "      <td>0.027261</td>\n",
       "      <td>0.011147</td>\n",
       "    </tr>\n",
       "    <tr>\n",
       "      <th>Ribs-PTV</th>\n",
       "      <td>13</td>\n",
       "      <td>-0.040976</td>\n",
       "      <td>0.015631</td>\n",
       "      <td>0.015306</td>\n",
       "      <td>0.003046</td>\n",
       "    </tr>\n",
       "    <tr>\n",
       "      <th>Rt_Lung</th>\n",
       "      <td>15</td>\n",
       "      <td>-0.029733</td>\n",
       "      <td>0.006038</td>\n",
       "      <td>0.010315</td>\n",
       "      <td>0.001596</td>\n",
       "    </tr>\n",
       "    <tr>\n",
       "      <th>Skin</th>\n",
       "      <td>14</td>\n",
       "      <td>-0.025002</td>\n",
       "      <td>-0.002897</td>\n",
       "      <td>0.004431</td>\n",
       "      <td>0.000275</td>\n",
       "    </tr>\n",
       "    <tr>\n",
       "      <th>Skin-PTV+2cm</th>\n",
       "      <td>6</td>\n",
       "      <td>-0.001662</td>\n",
       "      <td>0.019201</td>\n",
       "      <td>0.006728</td>\n",
       "      <td>0.000272</td>\n",
       "    </tr>\n",
       "    <tr>\n",
       "      <th>Trachea</th>\n",
       "      <td>15</td>\n",
       "      <td>-0.000304</td>\n",
       "      <td>0.067776</td>\n",
       "      <td>0.007223</td>\n",
       "      <td>0.000783</td>\n",
       "    </tr>\n",
       "  </tbody>\n",
       "</table>\n",
       "</div>"
      ],
      "text/plain": [
       "                   diff                                           \n",
       "                 Counts      Mean        Max       SEM    Variance\n",
       "structure                                                         \n",
       "Airway avoidance     14 -0.018405   0.053335  0.009802    0.001345\n",
       "BODY                 14 -0.003599   0.011675  0.004211    0.000248\n",
       "Body                  1  0.001679   0.001679       NaN         NaN\n",
       "Both Lungs            5 -0.008474   0.014224  0.013606    0.000926\n",
       "Both Lungs-ITV       15 -0.018235   0.032892  0.010556    0.001672\n",
       "Bronchial tree       15  0.007682   0.128285  0.016811    0.004239\n",
       "Foramen              15 -0.071230   0.025543  0.020161    0.006097\n",
       "Foramen+3mm          18 -0.071668   0.024562  0.022756    0.009321\n",
       "GTV                   1 -0.900259  -0.900259       NaN         NaN\n",
       "Great vessels         1 -0.049074  -0.049074       NaN         NaN\n",
       "Heart                15 -0.006242   0.050727  0.009650    0.001397\n",
       "ITV                  14  0.568196   1.828439  0.195352    0.534273\n",
       "Inner Ring            6  0.283500   0.567988  0.090871    0.049546\n",
       "L Brachial plex      14  4.801599  39.023162  3.137878  137.847887\n",
       "Liver                 2 -0.045289   0.044248  0.089537    0.016034\n",
       "Lt_Lung              15 -0.036095   0.012416  0.008498    0.001083\n",
       "Oesophagus           15 -0.025135   0.032761  0.023482    0.008271\n",
       "PTV CHEST            15  0.235042   1.697743  0.265863    1.060251\n",
       "PTV ring 2-3cm       15  0.201877   0.763267  0.086762    0.112914\n",
       "R Brachial plex      15  1.258501  18.718139  1.247171   23.331538\n",
       "Ribs                 15 -0.058496   0.181102  0.027261    0.011147\n",
       "Ribs-PTV             13 -0.040976   0.015631  0.015306    0.003046\n",
       "Rt_Lung              15 -0.029733   0.006038  0.010315    0.001596\n",
       "Skin                 14 -0.025002  -0.002897  0.004431    0.000275\n",
       "Skin-PTV+2cm          6 -0.001662   0.019201  0.006728    0.000272\n",
       "Trachea              15 -0.000304   0.067776  0.007223    0.000783"
      ]
     },
     "execution_count": 50,
     "metadata": {},
     "output_type": "execute_result"
    }
   ],
   "source": [
    "stats = {  'Mean' : 'mean', 'Variance':'var', 'SEM':'sem', 'Counts':'count', 'Max':'max'} \n",
    "\n",
    "aggregations = {'diff': stats}  # , 'AAA': stats, 'Dm': stats\n",
    "\n",
    "res_table = d[d['metric']  == 'D50%'].groupby(['structure']).agg(aggregations)   # returns a heirachial dataframe\n",
    "res_table"
   ]
  },
  {
   "cell_type": "code",
   "execution_count": 52,
   "metadata": {
    "collapsed": false
   },
   "outputs": [],
   "source": [
    "# res_table['diff']['Max']  # get only diff > Max"
   ]
  },
  {
   "cell_type": "code",
   "execution_count": 53,
   "metadata": {
    "collapsed": false
   },
   "outputs": [],
   "source": [
    "# res_table.loc[constraints['structure'].unique()]"
   ]
  },
  {
   "cell_type": "code",
   "execution_count": 54,
   "metadata": {
    "collapsed": false
   },
   "outputs": [],
   "source": [
    "# d[(d['structure'] == 'PTV CHEST') & (d['metric'] == 'D50%')] "
   ]
  },
  {
   "cell_type": "markdown",
   "metadata": {},
   "source": [
    "# Mean difference grouped by structure and metric"
   ]
  },
  {
   "cell_type": "code",
   "execution_count": 55,
   "metadata": {
    "collapsed": false
   },
   "outputs": [],
   "source": [
    "res_table2 = d.groupby(['structure', 'metric'],as_index=False).mean()  # just get mean values "
   ]
  },
  {
   "cell_type": "code",
   "execution_count": 56,
   "metadata": {
    "collapsed": false
   },
   "outputs": [
    {
     "data": {
      "text/plain": [
       "Index(['Airway avoidance', 'BODY', 'Body', 'Both Lungs', 'Both Lungs-ITV',\n",
       "       'Bronchial tree', 'Foramen', 'Foramen+3mm', 'GTV', 'Great vessels',\n",
       "       'Heart', 'ITV', 'Inner Ring', 'L Brachial plex', 'Liver', 'Lt_Lung',\n",
       "       'Oesophagus', 'PTV CHEST', 'PTV ring 2-3cm', 'R Brachial plex', 'Ribs',\n",
       "       'Ribs-PTV', 'Rt_Lung', 'Skin', 'Skin-PTV+2cm', 'Trachea'],\n",
       "      dtype='object', name='structure')"
      ]
     },
     "execution_count": 56,
     "metadata": {},
     "output_type": "execute_result"
    }
   ],
   "source": [
    "mean_diff_table = res_table2.pivot(index='structure', columns='metric', values='diff')  # pivot table for diff values\n",
    "#diff_table.reset_index(level=0, inplace=True)    # must convert the index back into a column\n",
    "mean_diff_table.index\n",
    "# diff_table.loc['BODY']"
   ]
  },
  {
   "cell_type": "code",
   "execution_count": 59,
   "metadata": {
    "collapsed": false
   },
   "outputs": [
    {
     "data": {
      "image/png": "[encoded data removed]",
      "text/plain": [
       "<matplotlib.figure.Figure at 0xcefa970>"
      ]
     },
     "metadata": {},
     "output_type": "display_data"
    }
   ],
   "source": [
    "plt.figure(figsize=(22, 8))\n",
    "ax1 = sns.heatmap(mean_diff_table, annot=True, linewidths=2.0, cbar=True)\n",
    "ax1.set_title('Mean dose differences (Gy) by structure & metrics', size='xx-large');\n",
    "plt.savefig('All structures and metrics mean dose difference.png', dpi=500)"
   ]
  },
  {
   "cell_type": "code",
   "execution_count": 60,
   "metadata": {
    "collapsed": false
   },
   "outputs": [
    {
     "data": {
      "image/png": "[encoded data removed]",
      "text/plain": [
       "<matplotlib.figure.Figure at 0xcf631d0>"
      ]
     },
     "metadata": {},
     "output_type": "display_data"
    }
   ],
   "source": [
    "metrics_of_interest = [ 'D95%', 'D50%', 'D99%', 'D0.1CC', 'DMAX']\n",
    "structures_of_interest = constraints['structure'].unique()\n",
    "\n",
    "sub_diff_table = mean_diff_table[metrics_of_interest].loc[structures_of_interest]\n",
    "\n",
    "plt.figure(figsize=(14, 8))\n",
    "ax1 = sns.heatmap(sub_diff_table, annot=True, linewidths=2.0, cbar=True)\n",
    "ax1.set_title('Mean dose differences (Gy) by structure and metric', size='xx-large')\n",
    "plt.savefig('Select structures and metrics mean dose difference.png', dpi=500)"
   ]
  },
  {
   "cell_type": "markdown",
   "metadata": {},
   "source": [
    "## Get wilcoxon p value of differences "
   ]
  },
  {
   "cell_type": "code",
   "execution_count": 61,
   "metadata": {
    "collapsed": false
   },
   "outputs": [],
   "source": [
    "# structures_of_interest = diff_table.index.values\n",
    "# structures_of_interest"
   ]
  },
  {
   "cell_type": "code",
   "execution_count": 62,
   "metadata": {
    "collapsed": false
   },
   "outputs": [],
   "source": [
    "i = len(structures_of_interest)\n",
    "j = len(metrics_of_interest)\n",
    "wilcox_data = np.zeros((i,j))  # init an empty array"
   ]
  },
  {
   "cell_type": "code",
   "execution_count": 63,
   "metadata": {
    "collapsed": false
   },
   "outputs": [
    {
     "name": "stderr",
     "output_type": "stream",
     "text": [
      "C:\\Users\\RCole02.ROYALSURREY\\AppData\\Local\\Continuum\\Anaconda3\\lib\\site-packages\\scipy\\stats\\morestats.py:2388: UserWarning: Warning: sample size too small for normal approximation.\n",
      "  warnings.warn(\"Warning: sample size too small for normal approximation.\")\n"
     ]
    }
   ],
   "source": [
    "j = 0\n",
    "for structure in structures_of_interest:\n",
    "    i = 0\n",
    "    for metric in metrics_of_interest:\n",
    "        A =  d[(d['structure'] == structure) & (d['metric'] == metric)]\n",
    "        D =  A['diff']\n",
    "        wilcox_data[j][i] = my_wilcox(D.values)\n",
    "        i = i + 1\n",
    "    j = j+ 1  "
   ]
  },
  {
   "cell_type": "markdown",
   "metadata": {},
   "source": [
    "Convert to dataframe"
   ]
  },
  {
   "cell_type": "code",
   "execution_count": 64,
   "metadata": {
    "collapsed": false
   },
   "outputs": [],
   "source": [
    "wilcox_data_df = pd.DataFrame(data=wilcox_data,    # values\n",
    "...              index=structures_of_interest,    # 1st column as index\n",
    "...              columns=metrics_of_interest)  # 1st row as the column names"
   ]
  },
  {
   "cell_type": "code",
   "execution_count": 65,
   "metadata": {
    "collapsed": false
   },
   "outputs": [
    {
     "data": {
      "text/html": [
       "<div>\n",
       "<table border=\"1\" class=\"dataframe\">\n",
       "  <thead>\n",
       "    <tr style=\"text-align: right;\">\n",
       "      <th></th>\n",
       "      <th>D95%</th>\n",
       "      <th>D50%</th>\n",
       "      <th>D99%</th>\n",
       "      <th>D0.1CC</th>\n",
       "      <th>DMAX</th>\n",
       "    </tr>\n",
       "  </thead>\n",
       "  <tbody>\n",
       "    <tr>\n",
       "      <th>PTV CHEST</th>\n",
       "      <td>0.191446</td>\n",
       "      <td>0.155635</td>\n",
       "      <td>0.040888</td>\n",
       "      <td>0.046826</td>\n",
       "      <td>0.005376</td>\n",
       "    </tr>\n",
       "    <tr>\n",
       "      <th>Foramen</th>\n",
       "      <td>0.232979</td>\n",
       "      <td>0.003772</td>\n",
       "      <td>0.211476</td>\n",
       "      <td>0.000655</td>\n",
       "      <td>0.000976</td>\n",
       "    </tr>\n",
       "    <tr>\n",
       "      <th>Oesophagus</th>\n",
       "      <td>0.002162</td>\n",
       "      <td>0.394246</td>\n",
       "      <td>0.012453</td>\n",
       "      <td>0.008985</td>\n",
       "      <td>0.068476</td>\n",
       "    </tr>\n",
       "    <tr>\n",
       "      <th>R Brachial plex</th>\n",
       "      <td>0.099540</td>\n",
       "      <td>0.139756</td>\n",
       "      <td>0.078292</td>\n",
       "      <td>0.649563</td>\n",
       "      <td>0.491119</td>\n",
       "    </tr>\n",
       "    <tr>\n",
       "      <th>L Brachial plex</th>\n",
       "      <td>0.064039</td>\n",
       "      <td>0.035465</td>\n",
       "      <td>0.047990</td>\n",
       "      <td>0.509797</td>\n",
       "      <td>0.440867</td>\n",
       "    </tr>\n",
       "    <tr>\n",
       "      <th>Heart</th>\n",
       "      <td>0.012453</td>\n",
       "      <td>0.733271</td>\n",
       "      <td>0.001206</td>\n",
       "      <td>0.532130</td>\n",
       "      <td>0.826049</td>\n",
       "    </tr>\n",
       "    <tr>\n",
       "      <th>Trachea</th>\n",
       "      <td>0.334277</td>\n",
       "      <td>0.909561</td>\n",
       "      <td>0.139756</td>\n",
       "      <td>0.211476</td>\n",
       "      <td>0.562351</td>\n",
       "    </tr>\n",
       "    <tr>\n",
       "      <th>Bronchial tree</th>\n",
       "      <td>0.019878</td>\n",
       "      <td>0.690945</td>\n",
       "      <td>0.030908</td>\n",
       "      <td>0.069144</td>\n",
       "      <td>0.665896</td>\n",
       "    </tr>\n",
       "    <tr>\n",
       "      <th>Ribs</th>\n",
       "      <td>0.069144</td>\n",
       "      <td>0.040888</td>\n",
       "      <td>0.023096</td>\n",
       "      <td>0.495521</td>\n",
       "      <td>0.035193</td>\n",
       "    </tr>\n",
       "  </tbody>\n",
       "</table>\n",
       "</div>"
      ],
      "text/plain": [
       "                     D95%      D50%      D99%    D0.1CC      DMAX\n",
       "PTV CHEST        0.191446  0.155635  0.040888  0.046826  0.005376\n",
       "Foramen          0.232979  0.003772  0.211476  0.000655  0.000976\n",
       "Oesophagus       0.002162  0.394246  0.012453  0.008985  0.068476\n",
       "R Brachial plex  0.099540  0.139756  0.078292  0.649563  0.491119\n",
       "L Brachial plex  0.064039  0.035465  0.047990  0.509797  0.440867\n",
       "Heart            0.012453  0.733271  0.001206  0.532130  0.826049\n",
       "Trachea          0.334277  0.909561  0.139756  0.211476  0.562351\n",
       "Bronchial tree   0.019878  0.690945  0.030908  0.069144  0.665896\n",
       "Ribs             0.069144  0.040888  0.023096  0.495521  0.035193"
      ]
     },
     "execution_count": 65,
     "metadata": {},
     "output_type": "execute_result"
    }
   ],
   "source": [
    "wilcox_data_df"
   ]
  },
  {
   "cell_type": "code",
   "execution_count": 69,
   "metadata": {
    "collapsed": false
   },
   "outputs": [
    {
     "data": {
      "image/png": "[encoded data removed]",
      "text/plain": [
       "<matplotlib.figure.Figure at 0xeb90c50>"
      ]
     },
     "metadata": {},
     "output_type": "display_data"
    }
   ],
   "source": [
    "confidence = 1.0\n",
    "plt.figure(figsize=(16, 8))\n",
    "ax2 = sns.heatmap(wilcox_data_df[wilcox_data_df<confidence], annot=True, linewidths=.5,  cbar=True, cmap='inferno_r')\n",
    "ax2.set_title('p- value for mean dose differences (Gy) by structure and metric', size='xx-large')\n",
    "plt.savefig('p value for mean dose differences for select structure and metric.png', dpi=500)"
   ]
  },
  {
   "cell_type": "markdown",
   "metadata": {},
   "source": [
    "Plot dose differences where statistically significant"
   ]
  },
  {
   "cell_type": "code",
   "execution_count": 70,
   "metadata": {
    "collapsed": false
   },
   "outputs": [
    {
     "data": {
      "image/png": "[encoded data removed]",
      "text/plain": [
       "<matplotlib.figure.Figure at 0xdc5ce50>"
      ]
     },
     "metadata": {},
     "output_type": "display_data"
    }
   ],
   "source": [
    "plt.figure(figsize=(18, 8)) \n",
    "\n",
    "data = sub_diff_table[wilcox_data_df<0.05]\n",
    "\n",
    "mask = np.zeros_like(data, dtype=np.bool)   # create a mask \n",
    "mask[np.triu_indices_from(mask)] = True\n",
    "\n",
    "\n",
    "ax3 = sns.heatmap(data, annot=True, linewidths=.5, center=0) #  mask=mask,\n",
    "ax3.set_title('Significant mean dose differences (Gy) by metric', size='xx-large')\n",
    "plt.savefig('p value for mean dose differences for significant select structure and metric.png', dpi=500)"
   ]
  },
  {
   "cell_type": "markdown",
   "metadata": {},
   "source": [
    "# Max dose differences"
   ]
  },
  {
   "cell_type": "code",
   "execution_count": 72,
   "metadata": {
    "collapsed": true
   },
   "outputs": [],
   "source": [
    "res_table3 = d.groupby(['structure', 'metric'],as_index=False).max()  # just get max values "
   ]
  },
  {
   "cell_type": "code",
   "execution_count": 96,
   "metadata": {
    "collapsed": false
   },
   "outputs": [
    {
     "data": {
      "text/plain": [
       "metric\n",
       "D0.1CC     1.767341\n",
       "D1CC       1.531997\n",
       "D2%        1.668766\n",
       "D5%        1.687980\n",
       "D50%       1.828439\n",
       "D95%       1.878422\n",
       "D99%       2.072069\n",
       "DHI        0.064488\n",
       "DMAX       2.750000\n",
       "DRX        0.000000\n",
       "DSD        1.045000\n",
       "V12.5GY    0.000000\n",
       "V20GY      0.000000\n",
       "V30GY      0.000000\n",
       "V40GY      0.000000\n",
       "V50GY      0.000000\n",
       "V55GY      0.000000\n",
       "V5GY       0.000000\n",
       "Name: ITV, dtype: float64"
      ]
     },
     "execution_count": 96,
     "metadata": {},
     "output_type": "execute_result"
    }
   ],
   "source": [
    "max_diff_table = res_table3.pivot(index='structure', columns='metric', values='diff')  # pivot table for diff values\n",
    "#diff_table.reset_index(level=0, inplace=True)    # must convert the index back into a column\n",
    "max_diff_table.index\n",
    "max_diff_table.loc['ITV']"
   ]
  },
  {
   "cell_type": "code",
   "execution_count": 74,
   "metadata": {
    "collapsed": false
   },
   "outputs": [
    {
     "data": {
      "image/png": "[encoded data removed]",
      "text/plain": [
       "<matplotlib.figure.Figure at 0xd96eeb0>"
      ]
     },
     "metadata": {},
     "output_type": "display_data"
    }
   ],
   "source": [
    "sub_diff_table2 = max_diff_table[metrics_of_interest].loc[structures_of_interest]\n",
    "\n",
    "plt.figure(figsize=(14, 8))\n",
    "ax1 = sns.heatmap(sub_diff_table2, annot=True, linewidths=2.0, cbar=True)\n",
    "ax1.set_title('Max dose differences (Gy) by structure and metric', size='xx-large')\n",
    "plt.savefig('max_table.png', dpi=500)"
   ]
  },
  {
   "cell_type": "markdown",
   "metadata": {},
   "source": [
    "Combine constraints with max, mean and signifance of dose differences, and failures"
   ]
  },
  {
   "cell_type": "code",
   "execution_count": 81,
   "metadata": {
    "collapsed": false
   },
   "outputs": [],
   "source": [
    "# constraints # constraints of interes  "
   ]
  },
  {
   "cell_type": "code",
   "execution_count": 76,
   "metadata": {
    "collapsed": false
   },
   "outputs": [],
   "source": [
    "constraints_full = constraints.copy()"
   ]
  },
  {
   "cell_type": "code",
   "execution_count": 77,
   "metadata": {
    "collapsed": false
   },
   "outputs": [],
   "source": [
    "Mean_diff = mean_diff_table.lookup(constraints['structure'].values, constraints['metric'].values)  # mean diff values from lookup                              \n",
    "constraints_full['Mean_diff'] = pd.DataFrame(Mean_diff)   # convert to dataframe and apply "
   ]
  },
  {
   "cell_type": "code",
   "execution_count": 78,
   "metadata": {
    "collapsed": true
   },
   "outputs": [],
   "source": [
    "wilcox  =  wilcox_data_df.lookup(constraints['structure'].values, constraints['metric'].values)\n",
    "constraints_full['wilcox'] = pd.DataFrame(wilcox)"
   ]
  },
  {
   "cell_type": "code",
   "execution_count": 79,
   "metadata": {
    "collapsed": false
   },
   "outputs": [],
   "source": [
    "Max_diff = max_diff_table.lookup(constraints['structure'].values, constraints['metric'].values)  \n",
    "constraints_full['Max_diff'] = pd.DataFrame(Max_diff)"
   ]
  },
  {
   "cell_type": "code",
   "execution_count": 83,
   "metadata": {
    "collapsed": false
   },
   "outputs": [],
   "source": [
    "constraints_full = constraints_full.drop('Of_Prescription_dose?', 1) "
   ]
  },
  {
   "cell_type": "code",
   "execution_count": 84,
   "metadata": {
    "collapsed": false
   },
   "outputs": [
    {
     "data": {
      "text/plain": [
       "True"
      ]
     },
     "execution_count": 84,
     "metadata": {},
     "output_type": "execute_result"
    }
   ],
   "source": [
    "test1 = failures[(failures['structure'] == 'PTV CHEST') & ((failures['metric'] == 'D95%'))] # dose constraint violated\n",
    "test1.size != 0   # True = there is a failure"
   ]
  },
  {
   "cell_type": "code",
   "execution_count": 85,
   "metadata": {
    "collapsed": false
   },
   "outputs": [
    {
     "data": {
      "text/html": [
       "<div>\n",
       "<table border=\"1\" class=\"dataframe\">\n",
       "  <thead>\n",
       "    <tr style=\"text-align: right;\">\n",
       "      <th></th>\n",
       "      <th>Case</th>\n",
       "      <th>structure</th>\n",
       "      <th>metric</th>\n",
       "      <th>AAA</th>\n",
       "      <th>Dm</th>\n",
       "      <th>diff</th>\n",
       "    </tr>\n",
       "  </thead>\n",
       "  <tbody>\n",
       "    <tr>\n",
       "      <th>489</th>\n",
       "      <td>Case5</td>\n",
       "      <td>PTV CHEST</td>\n",
       "      <td>D95%</td>\n",
       "      <td>55.648904</td>\n",
       "      <td>54.883221</td>\n",
       "      <td>-0.765683</td>\n",
       "    </tr>\n",
       "    <tr>\n",
       "      <th>4287</th>\n",
       "      <td>Case30</td>\n",
       "      <td>PTV CHEST</td>\n",
       "      <td>D95%</td>\n",
       "      <td>56.172306</td>\n",
       "      <td>51.618767</td>\n",
       "      <td>-4.553539</td>\n",
       "    </tr>\n",
       "    <tr>\n",
       "      <th>4740</th>\n",
       "      <td>Case31</td>\n",
       "      <td>PTV CHEST</td>\n",
       "      <td>D0.1CC</td>\n",
       "      <td>72.846993</td>\n",
       "      <td>74.024337</td>\n",
       "      <td>1.177344</td>\n",
       "    </tr>\n",
       "    <tr>\n",
       "      <th>3966</th>\n",
       "      <td>Case25</td>\n",
       "      <td>Trachea</td>\n",
       "      <td>D0.1CC</td>\n",
       "      <td>15.948424</td>\n",
       "      <td>69.349889</td>\n",
       "      <td>53.401465</td>\n",
       "    </tr>\n",
       "    <tr>\n",
       "      <th>3458</th>\n",
       "      <td>Case22</td>\n",
       "      <td>Liver</td>\n",
       "      <td>D50%</td>\n",
       "      <td>1.250632</td>\n",
       "      <td>1.294880</td>\n",
       "      <td>0.044248</td>\n",
       "    </tr>\n",
       "    <tr>\n",
       "      <th>4196</th>\n",
       "      <td>Case25</td>\n",
       "      <td>Liver</td>\n",
       "      <td>D50%</td>\n",
       "      <td>6.847959</td>\n",
       "      <td>6.713133</td>\n",
       "      <td>-0.134825</td>\n",
       "    </tr>\n",
       "    <tr>\n",
       "      <th>1122</th>\n",
       "      <td>Case12</td>\n",
       "      <td>L Brachial plex</td>\n",
       "      <td>D0.1CC</td>\n",
       "      <td>0.108812</td>\n",
       "      <td>74.346465</td>\n",
       "      <td>74.237653</td>\n",
       "    </tr>\n",
       "    <tr>\n",
       "      <th>3912</th>\n",
       "      <td>Case25</td>\n",
       "      <td>L Brachial plex</td>\n",
       "      <td>D0.1CC</td>\n",
       "      <td>0.054618</td>\n",
       "      <td>63.428739</td>\n",
       "      <td>63.374121</td>\n",
       "    </tr>\n",
       "    <tr>\n",
       "      <th>4650</th>\n",
       "      <td>Case31</td>\n",
       "      <td>L Brachial plex</td>\n",
       "      <td>D0.1CC</td>\n",
       "      <td>0.109680</td>\n",
       "      <td>77.576481</td>\n",
       "      <td>77.466802</td>\n",
       "    </tr>\n",
       "    <tr>\n",
       "      <th>222</th>\n",
       "      <td>Case1</td>\n",
       "      <td>R Brachial plex</td>\n",
       "      <td>D0.1CC</td>\n",
       "      <td>0.324991</td>\n",
       "      <td>65.801627</td>\n",
       "      <td>65.476636</td>\n",
       "    </tr>\n",
       "    <tr>\n",
       "      <th>2814</th>\n",
       "      <td>Case17</td>\n",
       "      <td>R Brachial plex</td>\n",
       "      <td>D0.1CC</td>\n",
       "      <td>0.435957</td>\n",
       "      <td>48.809596</td>\n",
       "      <td>48.373640</td>\n",
       "    </tr>\n",
       "  </tbody>\n",
       "</table>\n",
       "</div>"
      ],
      "text/plain": [
       "        Case        structure  metric        AAA         Dm       diff\n",
       "489    Case5        PTV CHEST    D95%  55.648904  54.883221  -0.765683\n",
       "4287  Case30        PTV CHEST    D95%  56.172306  51.618767  -4.553539\n",
       "4740  Case31        PTV CHEST  D0.1CC  72.846993  74.024337   1.177344\n",
       "3966  Case25          Trachea  D0.1CC  15.948424  69.349889  53.401465\n",
       "3458  Case22            Liver    D50%   1.250632   1.294880   0.044248\n",
       "4196  Case25            Liver    D50%   6.847959   6.713133  -0.134825\n",
       "1122  Case12  L Brachial plex  D0.1CC   0.108812  74.346465  74.237653\n",
       "3912  Case25  L Brachial plex  D0.1CC   0.054618  63.428739  63.374121\n",
       "4650  Case31  L Brachial plex  D0.1CC   0.109680  77.576481  77.466802\n",
       "222    Case1  R Brachial plex  D0.1CC   0.324991  65.801627  65.476636\n",
       "2814  Case17  R Brachial plex  D0.1CC   0.435957  48.809596  48.373640"
      ]
     },
     "execution_count": 85,
     "metadata": {},
     "output_type": "execute_result"
    }
   ],
   "source": [
    "failures"
   ]
  },
  {
   "cell_type": "code",
   "execution_count": 86,
   "metadata": {
    "collapsed": false
   },
   "outputs": [
    {
     "data": {
      "text/html": [
       "<div>\n",
       "<table border=\"1\" class=\"dataframe\">\n",
       "  <thead>\n",
       "    <tr style=\"text-align: right;\">\n",
       "      <th></th>\n",
       "      <th>structure</th>\n",
       "      <th>metric</th>\n",
       "      <th>Sign</th>\n",
       "      <th>5_Fraction_55Gy</th>\n",
       "      <th>Unit</th>\n",
       "      <th>Mean_diff</th>\n",
       "      <th>wilcox</th>\n",
       "      <th>Max_diff</th>\n",
       "      <th>Case</th>\n",
       "      <th>AAA</th>\n",
       "      <th>Dm</th>\n",
       "      <th>diff</th>\n",
       "    </tr>\n",
       "  </thead>\n",
       "  <tbody>\n",
       "    <tr>\n",
       "      <th>0</th>\n",
       "      <td>PTV CHEST</td>\n",
       "      <td>D95%</td>\n",
       "      <td>&gt;</td>\n",
       "      <td>100</td>\n",
       "      <td>%</td>\n",
       "      <td>-0.526656</td>\n",
       "      <td>0.191446</td>\n",
       "      <td>1.278843</td>\n",
       "      <td>Case5</td>\n",
       "      <td>55.648904</td>\n",
       "      <td>54.883221</td>\n",
       "      <td>-0.765683</td>\n",
       "    </tr>\n",
       "    <tr>\n",
       "      <th>1</th>\n",
       "      <td>PTV CHEST</td>\n",
       "      <td>D95%</td>\n",
       "      <td>&gt;</td>\n",
       "      <td>100</td>\n",
       "      <td>%</td>\n",
       "      <td>-0.526656</td>\n",
       "      <td>0.191446</td>\n",
       "      <td>1.278843</td>\n",
       "      <td>Case30</td>\n",
       "      <td>56.172306</td>\n",
       "      <td>51.618767</td>\n",
       "      <td>-4.553539</td>\n",
       "    </tr>\n",
       "    <tr>\n",
       "      <th>2</th>\n",
       "      <td>PTV CHEST</td>\n",
       "      <td>D0.1CC</td>\n",
       "      <td>between</td>\n",
       "      <td>118-134</td>\n",
       "      <td>%</td>\n",
       "      <td>0.619299</td>\n",
       "      <td>0.046826</td>\n",
       "      <td>1.775331</td>\n",
       "      <td>Case31</td>\n",
       "      <td>72.846993</td>\n",
       "      <td>74.024337</td>\n",
       "      <td>1.177344</td>\n",
       "    </tr>\n",
       "    <tr>\n",
       "      <th>3</th>\n",
       "      <td>R Brachial plex</td>\n",
       "      <td>D0.1CC</td>\n",
       "      <td>&lt;</td>\n",
       "      <td>27</td>\n",
       "      <td>Gy</td>\n",
       "      <td>0.246638</td>\n",
       "      <td>0.649563</td>\n",
       "      <td>65.476636</td>\n",
       "      <td>Case1</td>\n",
       "      <td>0.324991</td>\n",
       "      <td>65.801627</td>\n",
       "      <td>65.476636</td>\n",
       "    </tr>\n",
       "    <tr>\n",
       "      <th>4</th>\n",
       "      <td>R Brachial plex</td>\n",
       "      <td>D0.1CC</td>\n",
       "      <td>&lt;</td>\n",
       "      <td>27</td>\n",
       "      <td>Gy</td>\n",
       "      <td>0.246638</td>\n",
       "      <td>0.649563</td>\n",
       "      <td>65.476636</td>\n",
       "      <td>Case17</td>\n",
       "      <td>0.435957</td>\n",
       "      <td>48.809596</td>\n",
       "      <td>48.373640</td>\n",
       "    </tr>\n",
       "    <tr>\n",
       "      <th>5</th>\n",
       "      <td>L Brachial plex</td>\n",
       "      <td>D0.1CC</td>\n",
       "      <td>&lt;</td>\n",
       "      <td>27</td>\n",
       "      <td>Gy</td>\n",
       "      <td>7.044839</td>\n",
       "      <td>0.509797</td>\n",
       "      <td>77.466802</td>\n",
       "      <td>Case12</td>\n",
       "      <td>0.108812</td>\n",
       "      <td>74.346465</td>\n",
       "      <td>74.237653</td>\n",
       "    </tr>\n",
       "    <tr>\n",
       "      <th>6</th>\n",
       "      <td>L Brachial plex</td>\n",
       "      <td>D0.1CC</td>\n",
       "      <td>&lt;</td>\n",
       "      <td>27</td>\n",
       "      <td>Gy</td>\n",
       "      <td>7.044839</td>\n",
       "      <td>0.509797</td>\n",
       "      <td>77.466802</td>\n",
       "      <td>Case25</td>\n",
       "      <td>0.054618</td>\n",
       "      <td>63.428739</td>\n",
       "      <td>63.374121</td>\n",
       "    </tr>\n",
       "    <tr>\n",
       "      <th>7</th>\n",
       "      <td>L Brachial plex</td>\n",
       "      <td>D0.1CC</td>\n",
       "      <td>&lt;</td>\n",
       "      <td>27</td>\n",
       "      <td>Gy</td>\n",
       "      <td>7.044839</td>\n",
       "      <td>0.509797</td>\n",
       "      <td>77.466802</td>\n",
       "      <td>Case31</td>\n",
       "      <td>0.109680</td>\n",
       "      <td>77.576481</td>\n",
       "      <td>77.466802</td>\n",
       "    </tr>\n",
       "    <tr>\n",
       "      <th>8</th>\n",
       "      <td>Trachea</td>\n",
       "      <td>D0.1CC</td>\n",
       "      <td>&lt;</td>\n",
       "      <td>32</td>\n",
       "      <td>Gy</td>\n",
       "      <td>2.783140</td>\n",
       "      <td>0.211476</td>\n",
       "      <td>53.401465</td>\n",
       "      <td>Case25</td>\n",
       "      <td>15.948424</td>\n",
       "      <td>69.349889</td>\n",
       "      <td>53.401465</td>\n",
       "    </tr>\n",
       "  </tbody>\n",
       "</table>\n",
       "</div>"
      ],
      "text/plain": [
       "         structure  metric     Sign 5_Fraction_55Gy Unit  Mean_diff    wilcox  \\\n",
       "0        PTV CHEST    D95%       >              100    %  -0.526656  0.191446   \n",
       "1        PTV CHEST    D95%       >              100    %  -0.526656  0.191446   \n",
       "2        PTV CHEST  D0.1CC  between         118-134    %   0.619299  0.046826   \n",
       "3  R Brachial plex  D0.1CC        <              27   Gy   0.246638  0.649563   \n",
       "4  R Brachial plex  D0.1CC        <              27   Gy   0.246638  0.649563   \n",
       "5  L Brachial plex  D0.1CC        <              27   Gy   7.044839  0.509797   \n",
       "6  L Brachial plex  D0.1CC        <              27   Gy   7.044839  0.509797   \n",
       "7  L Brachial plex  D0.1CC        <              27   Gy   7.044839  0.509797   \n",
       "8          Trachea  D0.1CC        <              32   Gy   2.783140  0.211476   \n",
       "\n",
       "    Max_diff    Case        AAA         Dm       diff  \n",
       "0   1.278843   Case5  55.648904  54.883221  -0.765683  \n",
       "1   1.278843  Case30  56.172306  51.618767  -4.553539  \n",
       "2   1.775331  Case31  72.846993  74.024337   1.177344  \n",
       "3  65.476636   Case1   0.324991  65.801627  65.476636  \n",
       "4  65.476636  Case17   0.435957  48.809596  48.373640  \n",
       "5  77.466802  Case12   0.108812  74.346465  74.237653  \n",
       "6  77.466802  Case25   0.054618  63.428739  63.374121  \n",
       "7  77.466802  Case31   0.109680  77.576481  77.466802  \n",
       "8  53.401465  Case25  15.948424  69.349889  53.401465  "
      ]
     },
     "execution_count": 86,
     "metadata": {},
     "output_type": "execute_result"
    }
   ],
   "source": [
    "constraints_failed = pd.merge(constraints_full, failures, how='inner', on=['structure', 'metric'])\n",
    "constraints_failed  # get merged dataframe with failed constraints and details of the failure"
   ]
  },
  {
   "cell_type": "code",
   "execution_count": 87,
   "metadata": {
    "collapsed": true
   },
   "outputs": [],
   "source": [
    "constraints_failed.to_csv('constraints_failed.csv', index=False) "
   ]
  },
  {
   "cell_type": "markdown",
   "metadata": {},
   "source": [
    "## End of presentation 1: 13/10"
   ]
  },
  {
   "cell_type": "markdown",
   "metadata": {},
   "source": [
    "# Explore correlations by structure"
   ]
  },
  {
   "cell_type": "code",
   "execution_count": 88,
   "metadata": {
    "collapsed": false
   },
   "outputs": [],
   "source": [
    "diff_table = res_table2.pivot(index='structure', columns='metric', values='diff')  # pivot table for diff values\n",
    "diff_table.reset_index(level=0, inplace=True)  "
   ]
  },
  {
   "cell_type": "code",
   "execution_count": 89,
   "metadata": {
    "collapsed": false
   },
   "outputs": [],
   "source": [
    "diff_table = diff_table.transpose()"
   ]
  },
  {
   "cell_type": "code",
   "execution_count": 90,
   "metadata": {
    "collapsed": false
   },
   "outputs": [
    {
     "data": {
      "text/html": [
       "<div>\n",
       "<table border=\"1\" class=\"dataframe\">\n",
       "  <thead>\n",
       "    <tr style=\"text-align: right;\">\n",
       "      <th></th>\n",
       "      <th>0</th>\n",
       "      <th>1</th>\n",
       "      <th>2</th>\n",
       "      <th>3</th>\n",
       "      <th>4</th>\n",
       "      <th>5</th>\n",
       "      <th>6</th>\n",
       "      <th>7</th>\n",
       "      <th>8</th>\n",
       "      <th>9</th>\n",
       "      <th>...</th>\n",
       "      <th>16</th>\n",
       "      <th>17</th>\n",
       "      <th>18</th>\n",
       "      <th>19</th>\n",
       "      <th>20</th>\n",
       "      <th>21</th>\n",
       "      <th>22</th>\n",
       "      <th>23</th>\n",
       "      <th>24</th>\n",
       "      <th>25</th>\n",
       "    </tr>\n",
       "    <tr>\n",
       "      <th>metric</th>\n",
       "      <th></th>\n",
       "      <th></th>\n",
       "      <th></th>\n",
       "      <th></th>\n",
       "      <th></th>\n",
       "      <th></th>\n",
       "      <th></th>\n",
       "      <th></th>\n",
       "      <th></th>\n",
       "      <th></th>\n",
       "      <th></th>\n",
       "      <th></th>\n",
       "      <th></th>\n",
       "      <th></th>\n",
       "      <th></th>\n",
       "      <th></th>\n",
       "      <th></th>\n",
       "      <th></th>\n",
       "      <th></th>\n",
       "      <th></th>\n",
       "      <th></th>\n",
       "    </tr>\n",
       "  </thead>\n",
       "  <tbody>\n",
       "    <tr>\n",
       "      <th>structure</th>\n",
       "      <td>Airway avoidance</td>\n",
       "      <td>BODY</td>\n",
       "      <td>Body</td>\n",
       "      <td>Both Lungs</td>\n",
       "      <td>Both Lungs-ITV</td>\n",
       "      <td>Bronchial tree</td>\n",
       "      <td>Foramen</td>\n",
       "      <td>Foramen+3mm</td>\n",
       "      <td>GTV</td>\n",
       "      <td>Great vessels</td>\n",
       "      <td>...</td>\n",
       "      <td>Oesophagus</td>\n",
       "      <td>PTV CHEST</td>\n",
       "      <td>PTV ring 2-3cm</td>\n",
       "      <td>R Brachial plex</td>\n",
       "      <td>Ribs</td>\n",
       "      <td>Ribs-PTV</td>\n",
       "      <td>Rt_Lung</td>\n",
       "      <td>Skin</td>\n",
       "      <td>Skin-PTV+2cm</td>\n",
       "      <td>Trachea</td>\n",
       "    </tr>\n",
       "    <tr>\n",
       "      <th>D0.1CC</th>\n",
       "      <td>-1.00434</td>\n",
       "      <td>0.491165</td>\n",
       "      <td>1.70681</td>\n",
       "      <td>0.564426</td>\n",
       "      <td>1.02532</td>\n",
       "      <td>2.121</td>\n",
       "      <td>-0.267566</td>\n",
       "      <td>-0.451062</td>\n",
       "      <td>-1.17708</td>\n",
       "      <td>0.144711</td>\n",
       "      <td>...</td>\n",
       "      <td>-0.162007</td>\n",
       "      <td>0.619299</td>\n",
       "      <td>-0.0474729</td>\n",
       "      <td>0.246638</td>\n",
       "      <td>0.153879</td>\n",
       "      <td>0.435676</td>\n",
       "      <td>0.125765</td>\n",
       "      <td>-0.0422842</td>\n",
       "      <td>-0.367425</td>\n",
       "      <td>2.78314</td>\n",
       "    </tr>\n",
       "    <tr>\n",
       "      <th>D1CC</th>\n",
       "      <td>0.0620816</td>\n",
       "      <td>0.555958</td>\n",
       "      <td>0.652722</td>\n",
       "      <td>0.128403</td>\n",
       "      <td>0.651453</td>\n",
       "      <td>0.0232596</td>\n",
       "      <td>-0.245973</td>\n",
       "      <td>-0.394999</td>\n",
       "      <td>-0.438024</td>\n",
       "      <td>-0.230165</td>\n",
       "      <td>...</td>\n",
       "      <td>-0.13435</td>\n",
       "      <td>0.529257</td>\n",
       "      <td>-0.0963734</td>\n",
       "      <td>4.21703</td>\n",
       "      <td>-0.136832</td>\n",
       "      <td>0.0362345</td>\n",
       "      <td>0.00186993</td>\n",
       "      <td>-0.0815714</td>\n",
       "      <td>-0.175125</td>\n",
       "      <td>2.56163</td>\n",
       "    </tr>\n",
       "    <tr>\n",
       "      <th>D2%</th>\n",
       "      <td>-0.0050274</td>\n",
       "      <td>-0.0437093</td>\n",
       "      <td>-0.203235</td>\n",
       "      <td>0.243395</td>\n",
       "      <td>0.283526</td>\n",
       "      <td>0.0268017</td>\n",
       "      <td>-0.244472</td>\n",
       "      <td>-0.374267</td>\n",
       "      <td>-0.550123</td>\n",
       "      <td>-0.119721</td>\n",
       "      <td>...</td>\n",
       "      <td>-0.141346</td>\n",
       "      <td>0.578552</td>\n",
       "      <td>-0.136809</td>\n",
       "      <td>7.74296</td>\n",
       "      <td>-0.289684</td>\n",
       "      <td>-0.122271</td>\n",
       "      <td>0.164522</td>\n",
       "      <td>0.475223</td>\n",
       "      <td>0.0740825</td>\n",
       "      <td>4.72959</td>\n",
       "    </tr>\n",
       "    <tr>\n",
       "      <th>D5%</th>\n",
       "      <td>-0.0629371</td>\n",
       "      <td>-0.0196583</td>\n",
       "      <td>-0.154865</td>\n",
       "      <td>0.183086</td>\n",
       "      <td>0.147056</td>\n",
       "      <td>0.0309386</td>\n",
       "      <td>-0.237581</td>\n",
       "      <td>-0.3241</td>\n",
       "      <td>-0.417978</td>\n",
       "      <td>-0.260709</td>\n",
       "      <td>...</td>\n",
       "      <td>-0.127596</td>\n",
       "      <td>0.534998</td>\n",
       "      <td>-0.149045</td>\n",
       "      <td>8.03198</td>\n",
       "      <td>-0.235953</td>\n",
       "      <td>-0.120511</td>\n",
       "      <td>0.139518</td>\n",
       "      <td>0.361642</td>\n",
       "      <td>0.0887758</td>\n",
       "      <td>0.2062</td>\n",
       "    </tr>\n",
       "    <tr>\n",
       "      <th>D50%</th>\n",
       "      <td>-0.0184049</td>\n",
       "      <td>-0.00359854</td>\n",
       "      <td>0.00167901</td>\n",
       "      <td>-0.00847416</td>\n",
       "      <td>-0.018235</td>\n",
       "      <td>0.00768176</td>\n",
       "      <td>-0.0712302</td>\n",
       "      <td>-0.0716684</td>\n",
       "      <td>-0.900259</td>\n",
       "      <td>-0.0490744</td>\n",
       "      <td>...</td>\n",
       "      <td>-0.0251354</td>\n",
       "      <td>0.235042</td>\n",
       "      <td>0.201877</td>\n",
       "      <td>1.2585</td>\n",
       "      <td>-0.0584955</td>\n",
       "      <td>-0.0409762</td>\n",
       "      <td>-0.0297332</td>\n",
       "      <td>-0.0250018</td>\n",
       "      <td>-0.0016621</td>\n",
       "      <td>-0.000303577</td>\n",
       "    </tr>\n",
       "    <tr>\n",
       "      <th>D95%</th>\n",
       "      <td>0.00242217</td>\n",
       "      <td>0.0103011</td>\n",
       "      <td>0.00296295</td>\n",
       "      <td>-0.00733235</td>\n",
       "      <td>-0.00738071</td>\n",
       "      <td>-0.064739</td>\n",
       "      <td>0.00431945</td>\n",
       "      <td>0.00727596</td>\n",
       "      <td>-0.741429</td>\n",
       "      <td>-0.116448</td>\n",
       "      <td>...</td>\n",
       "      <td>0.0265625</td>\n",
       "      <td>-0.526656</td>\n",
       "      <td>0.0222163</td>\n",
       "      <td>0.0124306</td>\n",
       "      <td>-0.0228813</td>\n",
       "      <td>-0.0102731</td>\n",
       "      <td>-0.0150128</td>\n",
       "      <td>0.00338544</td>\n",
       "      <td>0.0033837</td>\n",
       "      <td>-0.00663619</td>\n",
       "    </tr>\n",
       "    <tr>\n",
       "      <th>D99%</th>\n",
       "      <td>0.000890841</td>\n",
       "      <td>0.00396168</td>\n",
       "      <td>0.000592589</td>\n",
       "      <td>-0.000986923</td>\n",
       "      <td>0.00138929</td>\n",
       "      <td>-0.0454546</td>\n",
       "      <td>0.00277629</td>\n",
       "      <td>0.0131789</td>\n",
       "      <td>-0.941735</td>\n",
       "      <td>-0.12112</td>\n",
       "      <td>...</td>\n",
       "      <td>0.0215739</td>\n",
       "      <td>-0.780473</td>\n",
       "      <td>0.0467245</td>\n",
       "      <td>0.0118137</td>\n",
       "      <td>-0.0217932</td>\n",
       "      <td>-0.00795927</td>\n",
       "      <td>-0.00954373</td>\n",
       "      <td>0.000677088</td>\n",
       "      <td>0.000676739</td>\n",
       "      <td>0.00338609</td>\n",
       "    </tr>\n",
       "    <tr>\n",
       "      <th>DHI</th>\n",
       "      <td>-0.0311396</td>\n",
       "      <td>-3.19927</td>\n",
       "      <td>-1.86547</td>\n",
       "      <td>3.82</td>\n",
       "      <td>4.66052</td>\n",
       "      <td>0.0425717</td>\n",
       "      <td>0.0392441</td>\n",
       "      <td>-0.0372042</td>\n",
       "      <td>0.00620912</td>\n",
       "      <td>0.0345679</td>\n",
       "      <td>...</td>\n",
       "      <td>-2.37347</td>\n",
       "      <td>0.0191489</td>\n",
       "      <td>-0.132555</td>\n",
       "      <td>-72.316</td>\n",
       "      <td>0.408545</td>\n",
       "      <td>2.29891</td>\n",
       "      <td>1.84546</td>\n",
       "      <td>12.4507</td>\n",
       "      <td>-2.58663</td>\n",
       "      <td>40.944</td>\n",
       "    </tr>\n",
       "    <tr>\n",
       "      <th>DMAX</th>\n",
       "      <td>0.447857</td>\n",
       "      <td>0.9075</td>\n",
       "      <td>2.75</td>\n",
       "      <td>1.012</td>\n",
       "      <td>1.18433</td>\n",
       "      <td>0.0403333</td>\n",
       "      <td>-0.282333</td>\n",
       "      <td>-0.372778</td>\n",
       "      <td>-0.275</td>\n",
       "      <td>0.715</td>\n",
       "      <td>...</td>\n",
       "      <td>-0.139333</td>\n",
       "      <td>1.03033</td>\n",
       "      <td>-0.088</td>\n",
       "      <td>0.00733333</td>\n",
       "      <td>0.473</td>\n",
       "      <td>0.55</td>\n",
       "      <td>0.275</td>\n",
       "      <td>0.0746429</td>\n",
       "      <td>-0.394167</td>\n",
       "      <td>-0.00366667</td>\n",
       "    </tr>\n",
       "    <tr>\n",
       "      <th>DRX</th>\n",
       "      <td>0</td>\n",
       "      <td>0</td>\n",
       "      <td>0</td>\n",
       "      <td>0</td>\n",
       "      <td>0</td>\n",
       "      <td>0</td>\n",
       "      <td>0</td>\n",
       "      <td>0</td>\n",
       "      <td>0</td>\n",
       "      <td>0</td>\n",
       "      <td>...</td>\n",
       "      <td>0</td>\n",
       "      <td>0</td>\n",
       "      <td>0</td>\n",
       "      <td>0</td>\n",
       "      <td>0</td>\n",
       "      <td>0</td>\n",
       "      <td>0</td>\n",
       "      <td>0</td>\n",
       "      <td>0</td>\n",
       "      <td>0</td>\n",
       "    </tr>\n",
       "    <tr>\n",
       "      <th>DSD</th>\n",
       "      <td>-0.00392857</td>\n",
       "      <td>-0.0117857</td>\n",
       "      <td>-0.055</td>\n",
       "      <td>0.033</td>\n",
       "      <td>0.0403333</td>\n",
       "      <td>0.0256667</td>\n",
       "      <td>-0.0733333</td>\n",
       "      <td>-0.103889</td>\n",
       "      <td>0</td>\n",
       "      <td>-0.055</td>\n",
       "      <td>...</td>\n",
       "      <td>-0.0513333</td>\n",
       "      <td>0.322667</td>\n",
       "      <td>-0.0586667</td>\n",
       "      <td>0.00611111</td>\n",
       "      <td>-0.0696667</td>\n",
       "      <td>-0.0296154</td>\n",
       "      <td>0.033</td>\n",
       "      <td>0.0864286</td>\n",
       "      <td>-1.4803e-16</td>\n",
       "      <td>-0.0256667</td>\n",
       "    </tr>\n",
       "    <tr>\n",
       "      <th>V12.5GY</th>\n",
       "      <td>-0.137126</td>\n",
       "      <td>-0.0195825</td>\n",
       "      <td>-0.0811509</td>\n",
       "      <td>0.0754455</td>\n",
       "      <td>0.0449924</td>\n",
       "      <td>0.185916</td>\n",
       "      <td>-0.612479</td>\n",
       "      <td>-0.82386</td>\n",
       "      <td>0</td>\n",
       "      <td>-1.03023</td>\n",
       "      <td>...</td>\n",
       "      <td>-0.471405</td>\n",
       "      <td>0</td>\n",
       "      <td>0.16658</td>\n",
       "      <td>0.128474</td>\n",
       "      <td>-0.250394</td>\n",
       "      <td>-0.172506</td>\n",
       "      <td>0.000787421</td>\n",
       "      <td>0.0711488</td>\n",
       "      <td>-0.00210562</td>\n",
       "      <td>-0.497036</td>\n",
       "    </tr>\n",
       "    <tr>\n",
       "      <th>V20GY</th>\n",
       "      <td>0.000160156</td>\n",
       "      <td>-0.0116447</td>\n",
       "      <td>-0.0384373</td>\n",
       "      <td>0.0349728</td>\n",
       "      <td>0.0338407</td>\n",
       "      <td>7.28409e-06</td>\n",
       "      <td>-0.787771</td>\n",
       "      <td>-0.768096</td>\n",
       "      <td>0</td>\n",
       "      <td>-0.131235</td>\n",
       "      <td>...</td>\n",
       "      <td>-0.501433</td>\n",
       "      <td>0</td>\n",
       "      <td>-0.22511</td>\n",
       "      <td>NaN</td>\n",
       "      <td>-0.140053</td>\n",
       "      <td>-0.0669149</td>\n",
       "      <td>0.0406998</td>\n",
       "      <td>-0.0176676</td>\n",
       "      <td>-0.0090564</td>\n",
       "      <td>-2.25613</td>\n",
       "    </tr>\n",
       "    <tr>\n",
       "      <th>V30GY</th>\n",
       "      <td>0.0142268</td>\n",
       "      <td>-0.00131219</td>\n",
       "      <td>-0.0124503</td>\n",
       "      <td>0.0158737</td>\n",
       "      <td>0.0232455</td>\n",
       "      <td>NaN</td>\n",
       "      <td>NaN</td>\n",
       "      <td>NaN</td>\n",
       "      <td>0</td>\n",
       "      <td>-0.0111825</td>\n",
       "      <td>...</td>\n",
       "      <td>NaN</td>\n",
       "      <td>0</td>\n",
       "      <td>-0.0226882</td>\n",
       "      <td>NaN</td>\n",
       "      <td>-0.110594</td>\n",
       "      <td>-0.0552819</td>\n",
       "      <td>0.0346774</td>\n",
       "      <td>-0.000430909</td>\n",
       "      <td>-0.000168763</td>\n",
       "      <td>NaN</td>\n",
       "    </tr>\n",
       "    <tr>\n",
       "      <th>V40GY</th>\n",
       "      <td>0.00559235</td>\n",
       "      <td>-0.000965649</td>\n",
       "      <td>-0.00366473</td>\n",
       "      <td>0.00145278</td>\n",
       "      <td>0.0106291</td>\n",
       "      <td>NaN</td>\n",
       "      <td>NaN</td>\n",
       "      <td>NaN</td>\n",
       "      <td>0</td>\n",
       "      <td>0.00101608</td>\n",
       "      <td>...</td>\n",
       "      <td>NaN</td>\n",
       "      <td>-0.00053697</td>\n",
       "      <td>NaN</td>\n",
       "      <td>NaN</td>\n",
       "      <td>-0.0524031</td>\n",
       "      <td>-0.00763179</td>\n",
       "      <td>0.0225553</td>\n",
       "      <td>0.00265469</td>\n",
       "      <td>NaN</td>\n",
       "      <td>NaN</td>\n",
       "    </tr>\n",
       "    <tr>\n",
       "      <th>V50GY</th>\n",
       "      <td>0.00592142</td>\n",
       "      <td>-0.00166992</td>\n",
       "      <td>-0.000631182</td>\n",
       "      <td>-0.0121835</td>\n",
       "      <td>0.000644861</td>\n",
       "      <td>NaN</td>\n",
       "      <td>NaN</td>\n",
       "      <td>NaN</td>\n",
       "      <td>0</td>\n",
       "      <td>NaN</td>\n",
       "      <td>...</td>\n",
       "      <td>NaN</td>\n",
       "      <td>-0.100312</td>\n",
       "      <td>NaN</td>\n",
       "      <td>NaN</td>\n",
       "      <td>-0.0237688</td>\n",
       "      <td>-0.00446896</td>\n",
       "      <td>0.00467162</td>\n",
       "      <td>NaN</td>\n",
       "      <td>NaN</td>\n",
       "      <td>NaN</td>\n",
       "    </tr>\n",
       "    <tr>\n",
       "      <th>V55GY</th>\n",
       "      <td>0.00658532</td>\n",
       "      <td>-0.00198124</td>\n",
       "      <td>0.001864</td>\n",
       "      <td>-0.0131846</td>\n",
       "      <td>-0.000207207</td>\n",
       "      <td>NaN</td>\n",
       "      <td>NaN</td>\n",
       "      <td>NaN</td>\n",
       "      <td>0</td>\n",
       "      <td>NaN</td>\n",
       "      <td>...</td>\n",
       "      <td>NaN</td>\n",
       "      <td>-2.83333</td>\n",
       "      <td>NaN</td>\n",
       "      <td>NaN</td>\n",
       "      <td>-0.0278777</td>\n",
       "      <td>0.00014319</td>\n",
       "      <td>0.00265367</td>\n",
       "      <td>NaN</td>\n",
       "      <td>NaN</td>\n",
       "      <td>NaN</td>\n",
       "    </tr>\n",
       "    <tr>\n",
       "      <th>V5GY</th>\n",
       "      <td>-0.217945</td>\n",
       "      <td>0.0127699</td>\n",
       "      <td>0.0829545</td>\n",
       "      <td>0.315585</td>\n",
       "      <td>0.192472</td>\n",
       "      <td>0.152219</td>\n",
       "      <td>-0.571431</td>\n",
       "      <td>-0.642545</td>\n",
       "      <td>0</td>\n",
       "      <td>-0.488518</td>\n",
       "      <td>...</td>\n",
       "      <td>-0.342677</td>\n",
       "      <td>0</td>\n",
       "      <td>0.996119</td>\n",
       "      <td>2.07347</td>\n",
       "      <td>-0.347139</td>\n",
       "      <td>-0.299261</td>\n",
       "      <td>0.115308</td>\n",
       "      <td>0.443142</td>\n",
       "      <td>0.100592</td>\n",
       "      <td>0.135</td>\n",
       "    </tr>\n",
       "  </tbody>\n",
       "</table>\n",
       "<p>19 rows × 26 columns</p>\n",
       "</div>"
      ],
      "text/plain": [
       "                         0            1            2            3   \\\n",
       "metric                                                               \n",
       "structure  Airway avoidance         BODY         Body   Both Lungs   \n",
       "D0.1CC             -1.00434     0.491165      1.70681     0.564426   \n",
       "D1CC              0.0620816     0.555958     0.652722     0.128403   \n",
       "D2%              -0.0050274   -0.0437093    -0.203235     0.243395   \n",
       "D5%              -0.0629371   -0.0196583    -0.154865     0.183086   \n",
       "D50%             -0.0184049  -0.00359854   0.00167901  -0.00847416   \n",
       "D95%             0.00242217    0.0103011   0.00296295  -0.00733235   \n",
       "D99%            0.000890841   0.00396168  0.000592589 -0.000986923   \n",
       "DHI              -0.0311396     -3.19927     -1.86547         3.82   \n",
       "DMAX               0.447857       0.9075         2.75        1.012   \n",
       "DRX                       0            0            0            0   \n",
       "DSD             -0.00392857   -0.0117857       -0.055        0.033   \n",
       "V12.5GY           -0.137126   -0.0195825   -0.0811509    0.0754455   \n",
       "V20GY           0.000160156   -0.0116447   -0.0384373    0.0349728   \n",
       "V30GY             0.0142268  -0.00131219   -0.0124503    0.0158737   \n",
       "V40GY            0.00559235 -0.000965649  -0.00366473   0.00145278   \n",
       "V50GY            0.00592142  -0.00166992 -0.000631182   -0.0121835   \n",
       "V55GY            0.00658532  -0.00198124     0.001864   -0.0131846   \n",
       "V5GY              -0.217945    0.0127699    0.0829545     0.315585   \n",
       "\n",
       "                       4               5           6            7   \\\n",
       "metric                                                               \n",
       "structure  Both Lungs-ITV  Bronchial tree     Foramen  Foramen+3mm   \n",
       "D0.1CC            1.02532           2.121   -0.267566    -0.451062   \n",
       "D1CC             0.651453       0.0232596   -0.245973    -0.394999   \n",
       "D2%              0.283526       0.0268017   -0.244472    -0.374267   \n",
       "D5%              0.147056       0.0309386   -0.237581      -0.3241   \n",
       "D50%            -0.018235      0.00768176  -0.0712302   -0.0716684   \n",
       "D95%          -0.00738071       -0.064739  0.00431945   0.00727596   \n",
       "D99%           0.00138929      -0.0454546  0.00277629    0.0131789   \n",
       "DHI               4.66052       0.0425717   0.0392441   -0.0372042   \n",
       "DMAX              1.18433       0.0403333   -0.282333    -0.372778   \n",
       "DRX                     0               0           0            0   \n",
       "DSD             0.0403333       0.0256667  -0.0733333    -0.103889   \n",
       "V12.5GY         0.0449924        0.185916   -0.612479     -0.82386   \n",
       "V20GY           0.0338407     7.28409e-06   -0.787771    -0.768096   \n",
       "V30GY           0.0232455             NaN         NaN          NaN   \n",
       "V40GY           0.0106291             NaN         NaN          NaN   \n",
       "V50GY         0.000644861             NaN         NaN          NaN   \n",
       "V55GY        -0.000207207             NaN         NaN          NaN   \n",
       "V5GY             0.192472        0.152219   -0.571431    -0.642545   \n",
       "\n",
       "                   8              9      ...               16          17  \\\n",
       "metric                                   ...                                \n",
       "structure         GTV  Great vessels     ...       Oesophagus   PTV CHEST   \n",
       "D0.1CC       -1.17708       0.144711     ...        -0.162007    0.619299   \n",
       "D1CC        -0.438024      -0.230165     ...         -0.13435    0.529257   \n",
       "D2%         -0.550123      -0.119721     ...        -0.141346    0.578552   \n",
       "D5%         -0.417978      -0.260709     ...        -0.127596    0.534998   \n",
       "D50%        -0.900259     -0.0490744     ...       -0.0251354    0.235042   \n",
       "D95%        -0.741429      -0.116448     ...        0.0265625   -0.526656   \n",
       "D99%        -0.941735       -0.12112     ...        0.0215739   -0.780473   \n",
       "DHI        0.00620912      0.0345679     ...         -2.37347   0.0191489   \n",
       "DMAX           -0.275          0.715     ...        -0.139333     1.03033   \n",
       "DRX                 0              0     ...                0           0   \n",
       "DSD                 0         -0.055     ...       -0.0513333    0.322667   \n",
       "V12.5GY             0       -1.03023     ...        -0.471405           0   \n",
       "V20GY               0      -0.131235     ...        -0.501433           0   \n",
       "V30GY               0     -0.0111825     ...              NaN           0   \n",
       "V40GY               0     0.00101608     ...              NaN -0.00053697   \n",
       "V50GY               0            NaN     ...              NaN   -0.100312   \n",
       "V55GY               0            NaN     ...              NaN    -2.83333   \n",
       "V5GY                0      -0.488518     ...        -0.342677           0   \n",
       "\n",
       "                       18               19         20          21  \\\n",
       "metric                                                              \n",
       "structure  PTV ring 2-3cm  R Brachial plex       Ribs    Ribs-PTV   \n",
       "D0.1CC         -0.0474729         0.246638   0.153879    0.435676   \n",
       "D1CC           -0.0963734          4.21703  -0.136832   0.0362345   \n",
       "D2%             -0.136809          7.74296  -0.289684   -0.122271   \n",
       "D5%             -0.149045          8.03198  -0.235953   -0.120511   \n",
       "D50%             0.201877           1.2585 -0.0584955  -0.0409762   \n",
       "D95%            0.0222163        0.0124306 -0.0228813  -0.0102731   \n",
       "D99%            0.0467245        0.0118137 -0.0217932 -0.00795927   \n",
       "DHI             -0.132555          -72.316   0.408545     2.29891   \n",
       "DMAX               -0.088       0.00733333      0.473        0.55   \n",
       "DRX                     0                0          0           0   \n",
       "DSD            -0.0586667       0.00611111 -0.0696667  -0.0296154   \n",
       "V12.5GY           0.16658         0.128474  -0.250394   -0.172506   \n",
       "V20GY            -0.22511              NaN  -0.140053  -0.0669149   \n",
       "V30GY          -0.0226882              NaN  -0.110594  -0.0552819   \n",
       "V40GY                 NaN              NaN -0.0524031 -0.00763179   \n",
       "V50GY                 NaN              NaN -0.0237688 -0.00446896   \n",
       "V55GY                 NaN              NaN -0.0278777  0.00014319   \n",
       "V5GY             0.996119          2.07347  -0.347139   -0.299261   \n",
       "\n",
       "                    22           23            24           25  \n",
       "metric                                                          \n",
       "structure      Rt_Lung         Skin  Skin-PTV+2cm      Trachea  \n",
       "D0.1CC        0.125765   -0.0422842     -0.367425      2.78314  \n",
       "D1CC        0.00186993   -0.0815714     -0.175125      2.56163  \n",
       "D2%           0.164522     0.475223     0.0740825      4.72959  \n",
       "D5%           0.139518     0.361642     0.0887758       0.2062  \n",
       "D50%        -0.0297332   -0.0250018    -0.0016621 -0.000303577  \n",
       "D95%        -0.0150128   0.00338544     0.0033837  -0.00663619  \n",
       "D99%       -0.00954373  0.000677088   0.000676739   0.00338609  \n",
       "DHI            1.84546      12.4507      -2.58663       40.944  \n",
       "DMAX             0.275    0.0746429     -0.394167  -0.00366667  \n",
       "DRX                  0            0             0            0  \n",
       "DSD              0.033    0.0864286   -1.4803e-16   -0.0256667  \n",
       "V12.5GY    0.000787421    0.0711488   -0.00210562    -0.497036  \n",
       "V20GY        0.0406998   -0.0176676    -0.0090564     -2.25613  \n",
       "V30GY        0.0346774 -0.000430909  -0.000168763          NaN  \n",
       "V40GY        0.0225553   0.00265469           NaN          NaN  \n",
       "V50GY       0.00467162          NaN           NaN          NaN  \n",
       "V55GY       0.00265367          NaN           NaN          NaN  \n",
       "V5GY          0.115308     0.443142      0.100592        0.135  \n",
       "\n",
       "[19 rows x 26 columns]"
      ]
     },
     "execution_count": 90,
     "metadata": {},
     "output_type": "execute_result"
    }
   ],
   "source": [
    "diff_table"
   ]
  },
  {
   "cell_type": "code",
   "execution_count": 91,
   "metadata": {
    "collapsed": false
   },
   "outputs": [
    {
     "data": {
      "text/html": [
       "<div>\n",
       "<table border=\"1\" class=\"dataframe\">\n",
       "  <thead>\n",
       "    <tr style=\"text-align: right;\">\n",
       "      <th></th>\n",
       "    </tr>\n",
       "  </thead>\n",
       "  <tbody>\n",
       "  </tbody>\n",
       "</table>\n",
       "</div>"
      ],
      "text/plain": [
       "Empty DataFrame\n",
       "Columns: []\n",
       "Index: []"
      ]
     },
     "execution_count": 91,
     "metadata": {},
     "output_type": "execute_result"
    }
   ],
   "source": [
    "diff_table_correlations = diff_table.corr()\n",
    "diff_table_correlations"
   ]
  },
  {
   "cell_type": "code",
   "execution_count": 94,
   "metadata": {
    "collapsed": false
   },
   "outputs": [
    {
     "data": {
      "text/plain": [
       "<matplotlib.figure.Figure at 0xda0f910>"
      ]
     },
     "execution_count": 94,
     "metadata": {},
     "output_type": "execute_result"
    },
    {
     "data": {
      "text/plain": [
       "<matplotlib.figure.Figure at 0xda0f910>"
      ]
     },
     "metadata": {},
     "output_type": "display_data"
    }
   ],
   "source": [
    "plt.figure(figsize=(18, 8))\n",
    "# ax3 = sns.heatmap(diff_table_correlations , annot=True, linewidths=.5)"
   ]
  },
  {
   "cell_type": "markdown",
   "metadata": {},
   "source": [
    "# Explore correlations with material data for PTV"
   ]
  },
  {
   "cell_type": "code",
   "execution_count": 45,
   "metadata": {
    "collapsed": true
   },
   "outputs": [],
   "source": [
    "PTV_CT = pd.read_csv('PTV_HU_mean_dat.csv')  # import PTV density data"
   ]
  },
  {
   "cell_type": "code",
   "execution_count": 46,
   "metadata": {
    "collapsed": false
   },
   "outputs": [],
   "source": [
    "# PTV_CT"
   ]
  },
  {
   "cell_type": "markdown",
   "metadata": {},
   "source": [
    "Get the PTV differences by metric and case"
   ]
  },
  {
   "cell_type": "code",
   "execution_count": 47,
   "metadata": {
    "collapsed": false
   },
   "outputs": [],
   "source": [
    "PTV_metrics = d[d['structure']  == 'PTV CHEST']\n",
    "PTV_metrics = PTV_metrics.pivot(index='Case',columns='metric', values='diff')   #pivot on case and metric\n",
    "PTV_metrics.reset_index(level=0, inplace=True)    # must convert the index back into a column\n",
    "\n",
    "del PTV_metrics['V12.5GY'] # delete as no data for them\n",
    "del PTV_metrics['V5GY']\n",
    "# PTV_metrics"
   ]
  },
  {
   "cell_type": "code",
   "execution_count": 48,
   "metadata": {
    "collapsed": false
   },
   "outputs": [
    {
     "data": {
      "text/html": [
       "<div>\n",
       "<table border=\"1\" class=\"dataframe\">\n",
       "  <thead>\n",
       "    <tr style=\"text-align: right;\">\n",
       "      <th>metric</th>\n",
       "      <th>Case</th>\n",
       "      <th>D0.1CC</th>\n",
       "      <th>D1CC</th>\n",
       "      <th>D2%</th>\n",
       "      <th>D5%</th>\n",
       "      <th>D50%</th>\n",
       "      <th>D95%</th>\n",
       "      <th>D99%</th>\n",
       "      <th>DHI</th>\n",
       "      <th>DMAX</th>\n",
       "      <th>DSD</th>\n",
       "      <th>mean_HU</th>\n",
       "      <th>SD_HU</th>\n",
       "      <th>Volume_PTV</th>\n",
       "    </tr>\n",
       "  </thead>\n",
       "  <tbody>\n",
       "    <tr>\n",
       "      <th>0</th>\n",
       "      <td>Case1</td>\n",
       "      <td>-1.646800</td>\n",
       "      <td>-0.623945</td>\n",
       "      <td>-0.581028</td>\n",
       "      <td>-0.802292</td>\n",
       "      <td>-0.157389</td>\n",
       "      <td>-0.915495</td>\n",
       "      <td>-1.633518</td>\n",
       "      <td>2.850494</td>\n",
       "      <td>-0.381971</td>\n",
       "      <td>-4.000000</td>\n",
       "      <td>-170.699</td>\n",
       "      <td>272.993</td>\n",
       "      <td>72.9</td>\n",
       "    </tr>\n",
       "    <tr>\n",
       "      <th>1</th>\n",
       "      <td>Case11</td>\n",
       "      <td>1.044115</td>\n",
       "      <td>0.638813</td>\n",
       "      <td>0.633493</td>\n",
       "      <td>0.642739</td>\n",
       "      <td>0.248408</td>\n",
       "      <td>-2.628825</td>\n",
       "      <td>-3.985440</td>\n",
       "      <td>14.416879</td>\n",
       "      <td>1.655380</td>\n",
       "      <td>13.253012</td>\n",
       "      <td>-551.763</td>\n",
       "      <td>279.318</td>\n",
       "      <td>25.2</td>\n",
       "    </tr>\n",
       "    <tr>\n",
       "      <th>2</th>\n",
       "      <td>Case12</td>\n",
       "      <td>2.279966</td>\n",
       "      <td>0.841989</td>\n",
       "      <td>0.910143</td>\n",
       "      <td>0.601526</td>\n",
       "      <td>0.489112</td>\n",
       "      <td>0.196736</td>\n",
       "      <td>-0.240510</td>\n",
       "      <td>3.974143</td>\n",
       "      <td>3.790751</td>\n",
       "      <td>1.282051</td>\n",
       "      <td>-478.357</td>\n",
       "      <td>276.233</td>\n",
       "      <td>38.6</td>\n",
       "    </tr>\n",
       "    <tr>\n",
       "      <th>3</th>\n",
       "      <td>Case13</td>\n",
       "      <td>2.109205</td>\n",
       "      <td>1.769138</td>\n",
       "      <td>1.792435</td>\n",
       "      <td>1.538511</td>\n",
       "      <td>1.636643</td>\n",
       "      <td>0.199115</td>\n",
       "      <td>-0.701292</td>\n",
       "      <td>8.237426</td>\n",
       "      <td>1.984733</td>\n",
       "      <td>6.756757</td>\n",
       "      <td>-426.137</td>\n",
       "      <td>296.692</td>\n",
       "      <td>44.7</td>\n",
       "    </tr>\n",
       "    <tr>\n",
       "      <th>4</th>\n",
       "      <td>Case14</td>\n",
       "      <td>0.812426</td>\n",
       "      <td>0.124380</td>\n",
       "      <td>0.221460</td>\n",
       "      <td>-0.112804</td>\n",
       "      <td>1.857474</td>\n",
       "      <td>0.445066</td>\n",
       "      <td>-0.370695</td>\n",
       "      <td>-0.878065</td>\n",
       "      <td>1.803752</td>\n",
       "      <td>0.000000</td>\n",
       "      <td>-432.742</td>\n",
       "      <td>277.356</td>\n",
       "      <td>35.4</td>\n",
       "    </tr>\n",
       "    <tr>\n",
       "      <th>5</th>\n",
       "      <td>Case16</td>\n",
       "      <td>2.355693</td>\n",
       "      <td>2.143460</td>\n",
       "      <td>2.600956</td>\n",
       "      <td>2.655809</td>\n",
       "      <td>0.429373</td>\n",
       "      <td>-0.788578</td>\n",
       "      <td>-1.580805</td>\n",
       "      <td>12.932591</td>\n",
       "      <td>2.277580</td>\n",
       "      <td>13.829787</td>\n",
       "      <td>-601.037</td>\n",
       "      <td>225.056</td>\n",
       "      <td>8.9</td>\n",
       "    </tr>\n",
       "    <tr>\n",
       "      <th>6</th>\n",
       "      <td>Case17</td>\n",
       "      <td>0.776133</td>\n",
       "      <td>1.198678</td>\n",
       "      <td>1.226977</td>\n",
       "      <td>1.144944</td>\n",
       "      <td>0.914957</td>\n",
       "      <td>-0.249615</td>\n",
       "      <td>-0.725107</td>\n",
       "      <td>6.958105</td>\n",
       "      <td>1.416853</td>\n",
       "      <td>2.777778</td>\n",
       "      <td>-275.691</td>\n",
       "      <td>359.180</td>\n",
       "      <td>77.3</td>\n",
       "    </tr>\n",
       "    <tr>\n",
       "      <th>7</th>\n",
       "      <td>Case18</td>\n",
       "      <td>2.824736</td>\n",
       "      <td>2.444145</td>\n",
       "      <td>2.870780</td>\n",
       "      <td>2.600269</td>\n",
       "      <td>1.813520</td>\n",
       "      <td>1.118255</td>\n",
       "      <td>1.763484</td>\n",
       "      <td>5.879023</td>\n",
       "      <td>3.427266</td>\n",
       "      <td>8.000000</td>\n",
       "      <td>-559.114</td>\n",
       "      <td>243.114</td>\n",
       "      <td>14.1</td>\n",
       "    </tr>\n",
       "    <tr>\n",
       "      <th>8</th>\n",
       "      <td>Case22</td>\n",
       "      <td>-0.101734</td>\n",
       "      <td>0.334918</td>\n",
       "      <td>0.264370</td>\n",
       "      <td>0.389630</td>\n",
       "      <td>0.299438</td>\n",
       "      <td>-0.164480</td>\n",
       "      <td>-0.190877</td>\n",
       "      <td>1.062469</td>\n",
       "      <td>-0.221239</td>\n",
       "      <td>2.352941</td>\n",
       "      <td>-363.164</td>\n",
       "      <td>293.196</td>\n",
       "      <td>35.6</td>\n",
       "    </tr>\n",
       "    <tr>\n",
       "      <th>9</th>\n",
       "      <td>Case23</td>\n",
       "      <td>2.312454</td>\n",
       "      <td>2.861348</td>\n",
       "      <td>2.438215</td>\n",
       "      <td>2.914029</td>\n",
       "      <td>1.090400</td>\n",
       "      <td>-0.589348</td>\n",
       "      <td>-1.212738</td>\n",
       "      <td>13.153501</td>\n",
       "      <td>1.972243</td>\n",
       "      <td>16.250000</td>\n",
       "      <td>-650.879</td>\n",
       "      <td>179.334</td>\n",
       "      <td>13.3</td>\n",
       "    </tr>\n",
       "    <tr>\n",
       "      <th>10</th>\n",
       "      <td>Case25</td>\n",
       "      <td>1.529735</td>\n",
       "      <td>1.187615</td>\n",
       "      <td>1.109356</td>\n",
       "      <td>0.983548</td>\n",
       "      <td>2.588827</td>\n",
       "      <td>2.214275</td>\n",
       "      <td>2.005250</td>\n",
       "      <td>-4.975909</td>\n",
       "      <td>1.586103</td>\n",
       "      <td>-5.194805</td>\n",
       "      <td>-330.158</td>\n",
       "      <td>279.344</td>\n",
       "      <td>67.1</td>\n",
       "    </tr>\n",
       "    <tr>\n",
       "      <th>11</th>\n",
       "      <td>Case30</td>\n",
       "      <td>0.251732</td>\n",
       "      <td>-2.393132</td>\n",
       "      <td>0.176925</td>\n",
       "      <td>-0.680814</td>\n",
       "      <td>-4.003114</td>\n",
       "      <td>-8.106377</td>\n",
       "      <td>-9.471837</td>\n",
       "      <td>38.438829</td>\n",
       "      <td>0.817236</td>\n",
       "      <td>27.027027</td>\n",
       "      <td>-772.415</td>\n",
       "      <td>156.430</td>\n",
       "      <td>6.0</td>\n",
       "    </tr>\n",
       "    <tr>\n",
       "      <th>12</th>\n",
       "      <td>Case31</td>\n",
       "      <td>1.616188</td>\n",
       "      <td>0.119142</td>\n",
       "      <td>1.323012</td>\n",
       "      <td>0.654366</td>\n",
       "      <td>-1.628208</td>\n",
       "      <td>-3.005646</td>\n",
       "      <td>-2.816907</td>\n",
       "      <td>18.206116</td>\n",
       "      <td>2.083333</td>\n",
       "      <td>18.571429</td>\n",
       "      <td>-710.175</td>\n",
       "      <td>121.041</td>\n",
       "      <td>7.0</td>\n",
       "    </tr>\n",
       "    <tr>\n",
       "      <th>13</th>\n",
       "      <td>Case32</td>\n",
       "      <td>-1.105029</td>\n",
       "      <td>1.071794</td>\n",
       "      <td>-0.855103</td>\n",
       "      <td>0.065303</td>\n",
       "      <td>-0.666683</td>\n",
       "      <td>-2.474900</td>\n",
       "      <td>-3.160071</td>\n",
       "      <td>6.085658</td>\n",
       "      <td>-0.517751</td>\n",
       "      <td>11.688312</td>\n",
       "      <td>-650.864</td>\n",
       "      <td>248.269</td>\n",
       "      <td>8.5</td>\n",
       "    </tr>\n",
       "  </tbody>\n",
       "</table>\n",
       "</div>"
      ],
      "text/plain": [
       "metric    Case    D0.1CC      D1CC       D2%       D5%      D50%      D95%  \\\n",
       "0        Case1 -1.646800 -0.623945 -0.581028 -0.802292 -0.157389 -0.915495   \n",
       "1       Case11  1.044115  0.638813  0.633493  0.642739  0.248408 -2.628825   \n",
       "2       Case12  2.279966  0.841989  0.910143  0.601526  0.489112  0.196736   \n",
       "3       Case13  2.109205  1.769138  1.792435  1.538511  1.636643  0.199115   \n",
       "4       Case14  0.812426  0.124380  0.221460 -0.112804  1.857474  0.445066   \n",
       "5       Case16  2.355693  2.143460  2.600956  2.655809  0.429373 -0.788578   \n",
       "6       Case17  0.776133  1.198678  1.226977  1.144944  0.914957 -0.249615   \n",
       "7       Case18  2.824736  2.444145  2.870780  2.600269  1.813520  1.118255   \n",
       "8       Case22 -0.101734  0.334918  0.264370  0.389630  0.299438 -0.164480   \n",
       "9       Case23  2.312454  2.861348  2.438215  2.914029  1.090400 -0.589348   \n",
       "10      Case25  1.529735  1.187615  1.109356  0.983548  2.588827  2.214275   \n",
       "11      Case30  0.251732 -2.393132  0.176925 -0.680814 -4.003114 -8.106377   \n",
       "12      Case31  1.616188  0.119142  1.323012  0.654366 -1.628208 -3.005646   \n",
       "13      Case32 -1.105029  1.071794 -0.855103  0.065303 -0.666683 -2.474900   \n",
       "\n",
       "metric      D99%        DHI      DMAX        DSD  mean_HU    SD_HU  Volume_PTV  \n",
       "0      -1.633518   2.850494 -0.381971  -4.000000 -170.699  272.993        72.9  \n",
       "1      -3.985440  14.416879  1.655380  13.253012 -551.763  279.318        25.2  \n",
       "2      -0.240510   3.974143  3.790751   1.282051 -478.357  276.233        38.6  \n",
       "3      -0.701292   8.237426  1.984733   6.756757 -426.137  296.692        44.7  \n",
       "4      -0.370695  -0.878065  1.803752   0.000000 -432.742  277.356        35.4  \n",
       "5      -1.580805  12.932591  2.277580  13.829787 -601.037  225.056         8.9  \n",
       "6      -0.725107   6.958105  1.416853   2.777778 -275.691  359.180        77.3  \n",
       "7       1.763484   5.879023  3.427266   8.000000 -559.114  243.114        14.1  \n",
       "8      -0.190877   1.062469 -0.221239   2.352941 -363.164  293.196        35.6  \n",
       "9      -1.212738  13.153501  1.972243  16.250000 -650.879  179.334        13.3  \n",
       "10      2.005250  -4.975909  1.586103  -5.194805 -330.158  279.344        67.1  \n",
       "11     -9.471837  38.438829  0.817236  27.027027 -772.415  156.430         6.0  \n",
       "12     -2.816907  18.206116  2.083333  18.571429 -710.175  121.041         7.0  \n",
       "13     -3.160071   6.085658 -0.517751  11.688312 -650.864  248.269         8.5  "
      ]
     },
     "execution_count": 48,
     "metadata": {},
     "output_type": "execute_result"
    }
   ],
   "source": [
    "PTV_all = pd.merge(PTV_metrics, PTV_CT, how='inner', on=[ 'Case'])  # Merge on case \n",
    "PTV_all"
   ]
  },
  {
   "cell_type": "code",
   "execution_count": 49,
   "metadata": {
    "collapsed": false
   },
   "outputs": [],
   "source": [
    "# sns.pairplot(PTV_all)"
   ]
  },
  {
   "cell_type": "code",
   "execution_count": 50,
   "metadata": {
    "collapsed": false
   },
   "outputs": [
    {
     "data": {
      "text/html": [
       "<div>\n",
       "<table border=\"1\" class=\"dataframe\">\n",
       "  <thead>\n",
       "    <tr style=\"text-align: right;\">\n",
       "      <th>metric</th>\n",
       "      <th>D0.1CC</th>\n",
       "      <th>D1CC</th>\n",
       "      <th>D2%</th>\n",
       "      <th>D5%</th>\n",
       "      <th>D50%</th>\n",
       "      <th>D95%</th>\n",
       "      <th>D99%</th>\n",
       "      <th>DHI</th>\n",
       "      <th>DMAX</th>\n",
       "      <th>DSD</th>\n",
       "      <th>mean_HU</th>\n",
       "      <th>SD_HU</th>\n",
       "      <th>Volume_PTV</th>\n",
       "    </tr>\n",
       "    <tr>\n",
       "      <th>metric</th>\n",
       "      <th></th>\n",
       "      <th></th>\n",
       "      <th></th>\n",
       "      <th></th>\n",
       "      <th></th>\n",
       "      <th></th>\n",
       "      <th></th>\n",
       "      <th></th>\n",
       "      <th></th>\n",
       "      <th></th>\n",
       "      <th></th>\n",
       "      <th></th>\n",
       "      <th></th>\n",
       "    </tr>\n",
       "  </thead>\n",
       "  <tbody>\n",
       "    <tr>\n",
       "      <th>D0.1CC</th>\n",
       "      <td>1.000000</td>\n",
       "      <td>0.617233</td>\n",
       "      <td>0.906268</td>\n",
       "      <td>0.796625</td>\n",
       "      <td>0.400423</td>\n",
       "      <td>0.340136</td>\n",
       "      <td>0.359652</td>\n",
       "      <td>0.041674</td>\n",
       "      <td>0.914514</td>\n",
       "      <td>0.167788</td>\n",
       "      <td>-0.307133</td>\n",
       "      <td>-0.165632</td>\n",
       "      <td>-0.265892</td>\n",
       "    </tr>\n",
       "    <tr>\n",
       "      <th>D1CC</th>\n",
       "      <td>0.617233</td>\n",
       "      <td>1.000000</td>\n",
       "      <td>0.713018</td>\n",
       "      <td>0.894005</td>\n",
       "      <td>0.724770</td>\n",
       "      <td>0.686345</td>\n",
       "      <td>0.682077</td>\n",
       "      <td>-0.440057</td>\n",
       "      <td>0.454783</td>\n",
       "      <td>-0.164922</td>\n",
       "      <td>0.027899</td>\n",
       "      <td>0.202278</td>\n",
       "      <td>-0.050963</td>\n",
       "    </tr>\n",
       "    <tr>\n",
       "      <th>D2%</th>\n",
       "      <td>0.906268</td>\n",
       "      <td>0.713018</td>\n",
       "      <td>1.000000</td>\n",
       "      <td>0.928403</td>\n",
       "      <td>0.399044</td>\n",
       "      <td>0.350939</td>\n",
       "      <td>0.383756</td>\n",
       "      <td>0.061968</td>\n",
       "      <td>0.742861</td>\n",
       "      <td>0.194483</td>\n",
       "      <td>-0.225131</td>\n",
       "      <td>-0.166141</td>\n",
       "      <td>-0.225930</td>\n",
       "    </tr>\n",
       "    <tr>\n",
       "      <th>D5%</th>\n",
       "      <td>0.796625</td>\n",
       "      <td>0.894005</td>\n",
       "      <td>0.928403</td>\n",
       "      <td>1.000000</td>\n",
       "      <td>0.501597</td>\n",
       "      <td>0.445250</td>\n",
       "      <td>0.462563</td>\n",
       "      <td>-0.085805</td>\n",
       "      <td>0.586004</td>\n",
       "      <td>0.141344</td>\n",
       "      <td>-0.204784</td>\n",
       "      <td>-0.064768</td>\n",
       "      <td>-0.244744</td>\n",
       "    </tr>\n",
       "    <tr>\n",
       "      <th>D50%</th>\n",
       "      <td>0.400423</td>\n",
       "      <td>0.724770</td>\n",
       "      <td>0.399044</td>\n",
       "      <td>0.501597</td>\n",
       "      <td>1.000000</td>\n",
       "      <td>0.952730</td>\n",
       "      <td>0.908601</td>\n",
       "      <td>-0.831142</td>\n",
       "      <td>0.346984</td>\n",
       "      <td>-0.711395</td>\n",
       "      <td>0.550795</td>\n",
       "      <td>0.602303</td>\n",
       "      <td>0.458585</td>\n",
       "    </tr>\n",
       "    <tr>\n",
       "      <th>D95%</th>\n",
       "      <td>0.340136</td>\n",
       "      <td>0.686345</td>\n",
       "      <td>0.350939</td>\n",
       "      <td>0.445250</td>\n",
       "      <td>0.952730</td>\n",
       "      <td>1.000000</td>\n",
       "      <td>0.985553</td>\n",
       "      <td>-0.908367</td>\n",
       "      <td>0.318612</td>\n",
       "      <td>-0.800725</td>\n",
       "      <td>0.623298</td>\n",
       "      <td>0.579437</td>\n",
       "      <td>0.504028</td>\n",
       "    </tr>\n",
       "    <tr>\n",
       "      <th>D99%</th>\n",
       "      <td>0.359652</td>\n",
       "      <td>0.682077</td>\n",
       "      <td>0.383756</td>\n",
       "      <td>0.462563</td>\n",
       "      <td>0.908601</td>\n",
       "      <td>0.985553</td>\n",
       "      <td>1.000000</td>\n",
       "      <td>-0.885961</td>\n",
       "      <td>0.338290</td>\n",
       "      <td>-0.763182</td>\n",
       "      <td>0.573815</td>\n",
       "      <td>0.502432</td>\n",
       "      <td>0.448762</td>\n",
       "    </tr>\n",
       "    <tr>\n",
       "      <th>DHI</th>\n",
       "      <td>0.041674</td>\n",
       "      <td>-0.440057</td>\n",
       "      <td>0.061968</td>\n",
       "      <td>-0.085805</td>\n",
       "      <td>-0.831142</td>\n",
       "      <td>-0.908367</td>\n",
       "      <td>-0.885961</td>\n",
       "      <td>1.000000</td>\n",
       "      <td>0.001690</td>\n",
       "      <td>0.914548</td>\n",
       "      <td>-0.724182</td>\n",
       "      <td>-0.663931</td>\n",
       "      <td>-0.580604</td>\n",
       "    </tr>\n",
       "    <tr>\n",
       "      <th>DMAX</th>\n",
       "      <td>0.914514</td>\n",
       "      <td>0.454783</td>\n",
       "      <td>0.742861</td>\n",
       "      <td>0.586004</td>\n",
       "      <td>0.346984</td>\n",
       "      <td>0.318612</td>\n",
       "      <td>0.338290</td>\n",
       "      <td>0.001690</td>\n",
       "      <td>1.000000</td>\n",
       "      <td>0.052740</td>\n",
       "      <td>-0.225475</td>\n",
       "      <td>-0.098497</td>\n",
       "      <td>-0.174584</td>\n",
       "    </tr>\n",
       "    <tr>\n",
       "      <th>DSD</th>\n",
       "      <td>0.167788</td>\n",
       "      <td>-0.164922</td>\n",
       "      <td>0.194483</td>\n",
       "      <td>0.141344</td>\n",
       "      <td>-0.711395</td>\n",
       "      <td>-0.800725</td>\n",
       "      <td>-0.763182</td>\n",
       "      <td>0.914548</td>\n",
       "      <td>0.052740</td>\n",
       "      <td>1.000000</td>\n",
       "      <td>-0.906221</td>\n",
       "      <td>-0.755551</td>\n",
       "      <td>-0.815883</td>\n",
       "    </tr>\n",
       "    <tr>\n",
       "      <th>mean_HU</th>\n",
       "      <td>-0.307133</td>\n",
       "      <td>0.027899</td>\n",
       "      <td>-0.225131</td>\n",
       "      <td>-0.204784</td>\n",
       "      <td>0.550795</td>\n",
       "      <td>0.623298</td>\n",
       "      <td>0.573815</td>\n",
       "      <td>-0.724182</td>\n",
       "      <td>-0.225475</td>\n",
       "      <td>-0.906221</td>\n",
       "      <td>1.000000</td>\n",
       "      <td>0.801587</td>\n",
       "      <td>0.938490</td>\n",
       "    </tr>\n",
       "    <tr>\n",
       "      <th>SD_HU</th>\n",
       "      <td>-0.165632</td>\n",
       "      <td>0.202278</td>\n",
       "      <td>-0.166141</td>\n",
       "      <td>-0.064768</td>\n",
       "      <td>0.602303</td>\n",
       "      <td>0.579437</td>\n",
       "      <td>0.502432</td>\n",
       "      <td>-0.663931</td>\n",
       "      <td>-0.098497</td>\n",
       "      <td>-0.755551</td>\n",
       "      <td>0.801587</td>\n",
       "      <td>1.000000</td>\n",
       "      <td>0.753597</td>\n",
       "    </tr>\n",
       "    <tr>\n",
       "      <th>Volume_PTV</th>\n",
       "      <td>-0.265892</td>\n",
       "      <td>-0.050963</td>\n",
       "      <td>-0.225930</td>\n",
       "      <td>-0.244744</td>\n",
       "      <td>0.458585</td>\n",
       "      <td>0.504028</td>\n",
       "      <td>0.448762</td>\n",
       "      <td>-0.580604</td>\n",
       "      <td>-0.174584</td>\n",
       "      <td>-0.815883</td>\n",
       "      <td>0.938490</td>\n",
       "      <td>0.753597</td>\n",
       "      <td>1.000000</td>\n",
       "    </tr>\n",
       "  </tbody>\n",
       "</table>\n",
       "</div>"
      ],
      "text/plain": [
       "metric        D0.1CC      D1CC       D2%       D5%      D50%      D95%  \\\n",
       "metric                                                                   \n",
       "D0.1CC      1.000000  0.617233  0.906268  0.796625  0.400423  0.340136   \n",
       "D1CC        0.617233  1.000000  0.713018  0.894005  0.724770  0.686345   \n",
       "D2%         0.906268  0.713018  1.000000  0.928403  0.399044  0.350939   \n",
       "D5%         0.796625  0.894005  0.928403  1.000000  0.501597  0.445250   \n",
       "D50%        0.400423  0.724770  0.399044  0.501597  1.000000  0.952730   \n",
       "D95%        0.340136  0.686345  0.350939  0.445250  0.952730  1.000000   \n",
       "D99%        0.359652  0.682077  0.383756  0.462563  0.908601  0.985553   \n",
       "DHI         0.041674 -0.440057  0.061968 -0.085805 -0.831142 -0.908367   \n",
       "DMAX        0.914514  0.454783  0.742861  0.586004  0.346984  0.318612   \n",
       "DSD         0.167788 -0.164922  0.194483  0.141344 -0.711395 -0.800725   \n",
       "mean_HU    -0.307133  0.027899 -0.225131 -0.204784  0.550795  0.623298   \n",
       "SD_HU      -0.165632  0.202278 -0.166141 -0.064768  0.602303  0.579437   \n",
       "Volume_PTV -0.265892 -0.050963 -0.225930 -0.244744  0.458585  0.504028   \n",
       "\n",
       "metric          D99%       DHI      DMAX       DSD   mean_HU     SD_HU  \\\n",
       "metric                                                                   \n",
       "D0.1CC      0.359652  0.041674  0.914514  0.167788 -0.307133 -0.165632   \n",
       "D1CC        0.682077 -0.440057  0.454783 -0.164922  0.027899  0.202278   \n",
       "D2%         0.383756  0.061968  0.742861  0.194483 -0.225131 -0.166141   \n",
       "D5%         0.462563 -0.085805  0.586004  0.141344 -0.204784 -0.064768   \n",
       "D50%        0.908601 -0.831142  0.346984 -0.711395  0.550795  0.602303   \n",
       "D95%        0.985553 -0.908367  0.318612 -0.800725  0.623298  0.579437   \n",
       "D99%        1.000000 -0.885961  0.338290 -0.763182  0.573815  0.502432   \n",
       "DHI        -0.885961  1.000000  0.001690  0.914548 -0.724182 -0.663931   \n",
       "DMAX        0.338290  0.001690  1.000000  0.052740 -0.225475 -0.098497   \n",
       "DSD        -0.763182  0.914548  0.052740  1.000000 -0.906221 -0.755551   \n",
       "mean_HU     0.573815 -0.724182 -0.225475 -0.906221  1.000000  0.801587   \n",
       "SD_HU       0.502432 -0.663931 -0.098497 -0.755551  0.801587  1.000000   \n",
       "Volume_PTV  0.448762 -0.580604 -0.174584 -0.815883  0.938490  0.753597   \n",
       "\n",
       "metric      Volume_PTV  \n",
       "metric                  \n",
       "D0.1CC       -0.265892  \n",
       "D1CC         -0.050963  \n",
       "D2%          -0.225930  \n",
       "D5%          -0.244744  \n",
       "D50%          0.458585  \n",
       "D95%          0.504028  \n",
       "D99%          0.448762  \n",
       "DHI          -0.580604  \n",
       "DMAX         -0.174584  \n",
       "DSD          -0.815883  \n",
       "mean_HU       0.938490  \n",
       "SD_HU         0.753597  \n",
       "Volume_PTV    1.000000  "
      ]
     },
     "execution_count": 50,
     "metadata": {},
     "output_type": "execute_result"
    }
   ],
   "source": [
    "PTV_correlations = PTV_all.corr()\n",
    "PTV_correlations"
   ]
  },
  {
   "cell_type": "code",
   "execution_count": 51,
   "metadata": {
    "collapsed": false
   },
   "outputs": [
    {
     "data": {
      "text/plain": [
       "<matplotlib.text.Text at 0xceffcd0>"
      ]
     },
     "execution_count": 51,
     "metadata": {},
     "output_type": "execute_result"
    },
    {
     "data": {
      "image/png": "[encoded data removed]",
      "text/plain": [
       "<matplotlib.figure.Figure at 0xd5de5d0>"
      ]
     },
     "metadata": {},
     "output_type": "display_data"
    }
   ],
   "source": [
    "threshold = 0.1  # only show correlation coefficients greater than a threshold value\n",
    "plt.figure(figsize=(18, 8)) \n",
    "mask = np.zeros_like(PTV_correlations, dtype=np.bool)   # create a mask \n",
    "mask[np.triu_indices_from(mask)] = True\n",
    "\n",
    "\n",
    "ax4 = sns.heatmap(PTV_correlations[PTV_correlations.abs() > threshold], annot=True, mask=mask, linewidths=.5, center=0)\n",
    "ax4.set_title('PTV only: Corellation coefficients of dose differences by metric & CT info ', size='xx-large')"
   ]
  },
  {
   "cell_type": "markdown",
   "metadata": {},
   "source": [
    "# Investigate corellations "
   ]
  },
  {
   "cell_type": "code",
   "execution_count": 143,
   "metadata": {
    "collapsed": false
   },
   "outputs": [
    {
     "data": {
      "image/png": "[encoded data removed]",
      "text/plain": [
       "<matplotlib.figure.Figure at 0x132b1f90>"
      ]
     },
     "metadata": {},
     "output_type": "display_data"
    }
   ],
   "source": [
    "sns.jointplot( \"SD_HU\",\"DHI\", data=PTV_all, kind=\"reg\", color=\"r\", size=6)\n",
    "plt.savefig('corrplot1.png', dpi=300)"
   ]
  },
  {
   "cell_type": "markdown",
   "metadata": {
    "collapsed": true
   },
   "source": [
    "# Testing"
   ]
  },
  {
   "cell_type": "code",
   "execution_count": 32,
   "metadata": {
    "collapsed": false
   },
   "outputs": [
    {
     "name": "stdout",
     "output_type": "stream",
     "text": [
      "7.55692945586e-10\n",
      "7.55692945586e-10\n"
     ]
    },
    {
     "data": {
      "image/png": "[encoded data removed]",
      "text/plain": [
       "<matplotlib.figure.Figure at 0x11624c748>"
      ]
     },
     "metadata": {},
     "output_type": "display_data"
    }
   ],
   "source": [
    "#Test of wilcoxon. See how size of distribution and difference in mean affect result p \n",
    "\n",
    "dist_diff = 0.5\n",
    "samples = 50\n",
    "\n",
    "mu, sigma = 0, 0.1 \n",
    "s = np.random.normal(mu, sigma, samples)\n",
    "\n",
    "mu2, sigma = 0+dist_diff, 0.1 \n",
    "s2 = np.random.normal(mu2, sigma, samples)\n",
    "\n",
    "fig = plt.figure(figsize=(8, 4))\n",
    "plt.subplot(1, 2, 1)\n",
    "plt.hist(s)\n",
    "\n",
    "plt.subplot(1, 2, 2)\n",
    "plt.hist(s2)\n",
    "\n",
    "z_stat, p_val = wilcoxon(s, s2)   # if only 1 value passed\n",
    "print(p_val)\n",
    "\n",
    "z_stat, p_val = wilcoxon(s-s2)   # if only 1 value passed\n",
    "print(p_val)"
   ]
  },
  {
   "cell_type": "code",
   "execution_count": null,
   "metadata": {
    "collapsed": true
   },
   "outputs": [],
   "source": []
  }
 ],
 "metadata": {
  "anaconda-cloud": {},
  "kernelspec": {
   "display_name": "Python [conda root]",
   "language": "python",
   "name": "conda-root-py"
  },
  "language_info": {
   "codemirror_mode": {
    "name": "ipython",
    "version": 3
   },
   "file_extension": ".py",
   "mimetype": "text/x-python",
   "name": "python",
   "nbconvert_exporter": "python",
   "pygments_lexer": "ipython3",
   "version": "3.5.2"
  }
 },
 "nbformat": 4,
 "nbformat_minor": 0
}
