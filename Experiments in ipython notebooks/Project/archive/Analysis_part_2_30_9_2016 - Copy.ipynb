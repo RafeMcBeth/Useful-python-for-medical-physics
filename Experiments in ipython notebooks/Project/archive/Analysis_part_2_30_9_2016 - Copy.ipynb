{
 "cells": [
  {
   "cell_type": "markdown",
   "metadata": {},
   "source": [
    "Now analysis of parsed data from part 1.\n",
    "\n",
    "Useful ref http://www.shanelynn.ie/summarising-aggregation-and-grouping-data-in-python-pandas/\n",
    "\n",
    "http://stackoverflow.com/questions/21828398/what-is-the-difference-between-pandas-agg-and-apply-function"
   ]
  },
  {
   "cell_type": "code",
   "execution_count": 1,
   "metadata": {
    "collapsed": true
   },
   "outputs": [],
   "source": [
    "import pandas as pd\n",
    "import numpy as np\n",
    "from scipy import stats\n",
    "from scipy.stats import wilcoxon  # must import explicitly\n",
    "import seaborn as sns\n",
    "sns.set(style=\"whitegrid\", palette=\"pastel\", color_codes=True)\n",
    "import matplotlib.pyplot as plt\n",
    "%matplotlib inline"
   ]
  },
  {
   "cell_type": "code",
   "execution_count": 2,
   "metadata": {
    "collapsed": false
   },
   "outputs": [
    {
     "name": "stdout",
     "output_type": "stream",
     "text": [
      "Robin_Cole \n",
      "last updated: 2016-09-30 \n",
      "\n",
      "CPython 3.5.2\n",
      "IPython 4.2.0\n",
      "\n",
      "numpy 1.11.1\n",
      "pandas 0.18.1\n",
      "matplotlib 1.5.1\n"
     ]
    }
   ],
   "source": [
    "%load_ext watermark\n",
    "%watermark -a 'Robin_Cole' -u -d -v -p numpy,pandas,matplotlib"
   ]
  },
  {
   "cell_type": "code",
   "execution_count": 3,
   "metadata": {
    "collapsed": false
   },
   "outputs": [
    {
     "data": {
      "text/plain": [
       "'/Users/robincole/Dropbox/00 MSc project data backup/30-9-2016'"
      ]
     },
     "execution_count": 3,
     "metadata": {},
     "output_type": "execute_result"
    }
   ],
   "source": [
    "pwd"
   ]
  },
  {
   "cell_type": "markdown",
   "metadata": {},
   "source": [
    "## Helper functions"
   ]
  },
  {
   "cell_type": "code",
   "execution_count": 4,
   "metadata": {
    "collapsed": false
   },
   "outputs": [],
   "source": [
    "def query_data(Col, structure, metric):   # helper function to get data, Col = AAA, AXB or diff\n",
    "    temp = d[Col][(d['structure'] == structure) & (d['metric'] == metric)]\n",
    "    return temp"
   ]
  },
  {
   "cell_type": "code",
   "execution_count": 5,
   "metadata": {
    "collapsed": false
   },
   "outputs": [
    {
     "name": "stdout",
     "output_type": "stream",
     "text": [
      "-75.0\n"
     ]
    }
   ],
   "source": [
    "def diff_percent(a,ref):\n",
    "    return 100*((a-ref)/ref)\n",
    "\n",
    "print(diff_percent(25.0,100.0))"
   ]
  },
  {
   "cell_type": "code",
   "execution_count": 97,
   "metadata": {
    "collapsed": false
   },
   "outputs": [],
   "source": [
    "def my_wilcox(data):                    # helper function to return p-value, pass difference data as series from dataframe\n",
    "    z_stat, p_val = wilcoxon(data)   # if only 1 value passed\n",
    "    #z_stat, p_val = wilcoxon(data.as_matrix())   # if only 1 value passed\n",
    "    return p_val"
   ]
  },
  {
   "cell_type": "code",
   "execution_count": 98,
   "metadata": {
    "collapsed": false
   },
   "outputs": [
    {
     "name": "stderr",
     "output_type": "stream",
     "text": [
      "/Users/robincole/anaconda3/lib/python3.5/site-packages/scipy/stats/morestats.py:2384: UserWarning: Warning: sample size too small for normal approximation.\n",
      "  warnings.warn(\"Warning: sample size too small for normal approximation.\")\n"
     ]
    },
    {
     "data": {
      "text/plain": [
       "0.0075792819433897285"
      ]
     },
     "execution_count": 98,
     "metadata": {},
     "output_type": "execute_result"
    }
   ],
   "source": [
    "my_wilcox([1,2,3,4,6,7,2,352,3])"
   ]
  },
  {
   "cell_type": "code",
   "execution_count": 84,
   "metadata": {
    "collapsed": true
   },
   "outputs": [],
   "source": [
    "def bland_altman_plot(data1, data2, structure, metric, *args, **kwargs):\n",
    "    data1     = np.asarray(data1)\n",
    "    data2     = np.asarray(data2)\n",
    "    z_stat, p_val = wilcoxon(data1, data2)\n",
    "    mean      = np.mean([data1, data2], axis=0)\n",
    "    diff      = data1 - data2                   # Difference between data1 and data2\n",
    "    md        = np.mean(diff)                   # Mean of the difference\n",
    "    sd        = np.std(diff, axis=0)            # Standard deviation of the difference\n",
    "\n",
    "    plt.scatter(mean, diff, *args, **kwargs)\n",
    "    plt.axhline(md,           color='red', linestyle='-')\n",
    "    plt.axhline(md + 1.96*sd, color='blue', linestyle='--')\n",
    "    plt.axhline(md - 1.96*sd, color='blue', linestyle='--')\n",
    "    plt.xlabel('Dose (Gy)')\n",
    "    plt.ylabel('Difference (Gy)')\n",
    "    plt.title( str(np.round(md, decimals = 3)) + ' Gy differnece with p = ' + str(np.round(p_val, decimals = 3))  + ' for ' + structure + ' and metric ' + metric)\n",
    "    plt.savefig('BA.png')"
   ]
  },
  {
   "cell_type": "markdown",
   "metadata": {},
   "source": [
    "## Import and clean data "
   ]
  },
  {
   "cell_type": "code",
   "execution_count": 22,
   "metadata": {
    "collapsed": true
   },
   "outputs": [],
   "source": [
    "d = pd.read_csv('AAA_Dm_data_30_9.csv')"
   ]
  },
  {
   "cell_type": "markdown",
   "metadata": {},
   "source": [
    "Drop entries with no values, and calculate percent difference"
   ]
  },
  {
   "cell_type": "code",
   "execution_count": 23,
   "metadata": {
    "collapsed": false
   },
   "outputs": [],
   "source": [
    "d = d[d.AAA != 0]    # drop zero rows"
   ]
  },
  {
   "cell_type": "code",
   "execution_count": 24,
   "metadata": {
    "collapsed": false
   },
   "outputs": [],
   "source": [
    "#d = d[d.structure != 'L Brachial plex']   # drop these\n",
    "#d = d[d.structure != 'Both Lungs']\n",
    "#d = d[d.metric != 'V20GY']\n",
    "#d = d[d.metric != 'V30GY']\n",
    "#d = d[d.metric != 'V40GY']\n",
    "#d = d[d.metric != 'V50GY']\n",
    "#d = d[d.metric != 'V55GY']\n",
    "#d = d[d.metric != 'DRX']"
   ]
  },
  {
   "cell_type": "code",
   "execution_count": 25,
   "metadata": {
    "collapsed": true
   },
   "outputs": [],
   "source": [
    "# d['diff'] = diff_percent(d.Dm, d.AAA)  # create % difference col"
   ]
  },
  {
   "cell_type": "code",
   "execution_count": 26,
   "metadata": {
    "collapsed": true
   },
   "outputs": [],
   "source": [
    "d['diff'] = d.Dm - d.AAA  # create absolute difference col, not %"
   ]
  },
  {
   "cell_type": "code",
   "execution_count": 27,
   "metadata": {
    "collapsed": false
   },
   "outputs": [
    {
     "data": {
      "text/html": [
       "<div>\n",
       "<table border=\"1\" class=\"dataframe\">\n",
       "  <thead>\n",
       "    <tr style=\"text-align: right;\">\n",
       "      <th></th>\n",
       "      <th>Case</th>\n",
       "      <th>structure</th>\n",
       "      <th>metric</th>\n",
       "      <th>AAA</th>\n",
       "      <th>Dm</th>\n",
       "      <th>diff</th>\n",
       "    </tr>\n",
       "  </thead>\n",
       "  <tbody>\n",
       "    <tr>\n",
       "      <th>0</th>\n",
       "      <td>Case1</td>\n",
       "      <td>BODY</td>\n",
       "      <td>D2%</td>\n",
       "      <td>25.853042</td>\n",
       "      <td>25.685894</td>\n",
       "      <td>-0.167149</td>\n",
       "    </tr>\n",
       "    <tr>\n",
       "      <th>1</th>\n",
       "      <td>Case1</td>\n",
       "      <td>BODY</td>\n",
       "      <td>D5%</td>\n",
       "      <td>14.523130</td>\n",
       "      <td>14.388797</td>\n",
       "      <td>-0.134333</td>\n",
       "    </tr>\n",
       "    <tr>\n",
       "      <th>2</th>\n",
       "      <td>Case1</td>\n",
       "      <td>BODY</td>\n",
       "      <td>D50%</td>\n",
       "      <td>0.430243</td>\n",
       "      <td>0.399853</td>\n",
       "      <td>-0.030390</td>\n",
       "    </tr>\n",
       "    <tr>\n",
       "      <th>3</th>\n",
       "      <td>Case1</td>\n",
       "      <td>BODY</td>\n",
       "      <td>D95%</td>\n",
       "      <td>0.047550</td>\n",
       "      <td>0.065952</td>\n",
       "      <td>0.018402</td>\n",
       "    </tr>\n",
       "    <tr>\n",
       "      <th>4</th>\n",
       "      <td>Case1</td>\n",
       "      <td>BODY</td>\n",
       "      <td>D99%</td>\n",
       "      <td>0.009510</td>\n",
       "      <td>0.022860</td>\n",
       "      <td>0.013350</td>\n",
       "    </tr>\n",
       "  </tbody>\n",
       "</table>\n",
       "</div>"
      ],
      "text/plain": [
       "    Case structure metric        AAA         Dm      diff\n",
       "0  Case1      BODY    D2%  25.853042  25.685894 -0.167149\n",
       "1  Case1      BODY    D5%  14.523130  14.388797 -0.134333\n",
       "2  Case1      BODY   D50%   0.430243   0.399853 -0.030390\n",
       "3  Case1      BODY   D95%   0.047550   0.065952  0.018402\n",
       "4  Case1      BODY   D99%   0.009510   0.022860  0.013350"
      ]
     },
     "execution_count": 27,
     "metadata": {},
     "output_type": "execute_result"
    }
   ],
   "source": [
    "d.head()"
   ]
  },
  {
   "cell_type": "code",
   "execution_count": 28,
   "metadata": {
    "collapsed": false
   },
   "outputs": [
    {
     "data": {
      "text/html": [
       "<div>\n",
       "<table border=\"1\" class=\"dataframe\">\n",
       "  <thead>\n",
       "    <tr style=\"text-align: right;\">\n",
       "      <th></th>\n",
       "      <th>AAA</th>\n",
       "      <th>Dm</th>\n",
       "      <th>diff</th>\n",
       "    </tr>\n",
       "  </thead>\n",
       "  <tbody>\n",
       "    <tr>\n",
       "      <th>count</th>\n",
       "      <td>4397.000000</td>\n",
       "      <td>4397.000000</td>\n",
       "      <td>4397.000000</td>\n",
       "    </tr>\n",
       "    <tr>\n",
       "      <th>mean</th>\n",
       "      <td>25.492428</td>\n",
       "      <td>25.631111</td>\n",
       "      <td>0.138683</td>\n",
       "    </tr>\n",
       "    <tr>\n",
       "      <th>std</th>\n",
       "      <td>46.785916</td>\n",
       "      <td>40.686642</td>\n",
       "      <td>33.675847</td>\n",
       "    </tr>\n",
       "    <tr>\n",
       "      <th>min</th>\n",
       "      <td>0.000026</td>\n",
       "      <td>0.000000</td>\n",
       "      <td>-1737.625859</td>\n",
       "    </tr>\n",
       "    <tr>\n",
       "      <th>25%</th>\n",
       "      <td>0.806045</td>\n",
       "      <td>0.840868</td>\n",
       "      <td>-0.080013</td>\n",
       "    </tr>\n",
       "    <tr>\n",
       "      <th>50%</th>\n",
       "      <td>8.585360</td>\n",
       "      <td>8.778476</td>\n",
       "      <td>0.000000</td>\n",
       "    </tr>\n",
       "    <tr>\n",
       "      <th>75%</th>\n",
       "      <td>49.698004</td>\n",
       "      <td>52.643327</td>\n",
       "      <td>0.055000</td>\n",
       "    </tr>\n",
       "    <tr>\n",
       "      <th>max</th>\n",
       "      <td>1741.519369</td>\n",
       "      <td>781.014497</td>\n",
       "      <td>736.296230</td>\n",
       "    </tr>\n",
       "  </tbody>\n",
       "</table>\n",
       "</div>"
      ],
      "text/plain": [
       "               AAA           Dm         diff\n",
       "count  4397.000000  4397.000000  4397.000000\n",
       "mean     25.492428    25.631111     0.138683\n",
       "std      46.785916    40.686642    33.675847\n",
       "min       0.000026     0.000000 -1737.625859\n",
       "25%       0.806045     0.840868    -0.080013\n",
       "50%       8.585360     8.778476     0.000000\n",
       "75%      49.698004    52.643327     0.055000\n",
       "max    1741.519369   781.014497   736.296230"
      ]
     },
     "execution_count": 28,
     "metadata": {},
     "output_type": "execute_result"
    }
   ],
   "source": [
    "d.describe()"
   ]
  },
  {
   "cell_type": "code",
   "execution_count": 29,
   "metadata": {
    "collapsed": false
   },
   "outputs": [
    {
     "data": {
      "text/plain": [
       "Case                  Case31\n",
       "structure    R Brachial plex\n",
       "metric                   DHI\n",
       "AAA                  44.7183\n",
       "Dm                   781.014\n",
       "diff                 736.296\n",
       "Name: 4978, dtype: object"
      ]
     },
     "execution_count": 29,
     "metadata": {},
     "output_type": "execute_result"
    }
   ],
   "source": [
    "d.loc[d['diff'].idxmax()] # Some large differences for Brachial plex, INVESTIGATE"
   ]
  },
  {
   "cell_type": "code",
   "execution_count": 31,
   "metadata": {
    "collapsed": false
   },
   "outputs": [
    {
     "data": {
      "text/html": [
       "<div>\n",
       "<table border=\"1\" class=\"dataframe\">\n",
       "  <thead>\n",
       "    <tr style=\"text-align: right;\">\n",
       "      <th></th>\n",
       "      <th>Case</th>\n",
       "      <th>structure</th>\n",
       "      <th>metric</th>\n",
       "      <th>AAA</th>\n",
       "      <th>Dm</th>\n",
       "      <th>diff</th>\n",
       "    </tr>\n",
       "  </thead>\n",
       "  <tbody>\n",
       "    <tr>\n",
       "      <th>216</th>\n",
       "      <td>Case1</td>\n",
       "      <td>R Brachial plex</td>\n",
       "      <td>D2%</td>\n",
       "      <td>0.326193</td>\n",
       "      <td>67.208837</td>\n",
       "      <td>66.882643</td>\n",
       "    </tr>\n",
       "    <tr>\n",
       "      <th>217</th>\n",
       "      <td>Case1</td>\n",
       "      <td>R Brachial plex</td>\n",
       "      <td>D5%</td>\n",
       "      <td>0.320481</td>\n",
       "      <td>60.524591</td>\n",
       "      <td>60.204110</td>\n",
       "    </tr>\n",
       "    <tr>\n",
       "      <th>222</th>\n",
       "      <td>Case1</td>\n",
       "      <td>R Brachial plex</td>\n",
       "      <td>D0.1CC</td>\n",
       "      <td>0.324991</td>\n",
       "      <td>65.801627</td>\n",
       "      <td>65.476636</td>\n",
       "    </tr>\n",
       "    <tr>\n",
       "      <th>226</th>\n",
       "      <td>Case1</td>\n",
       "      <td>R Brachial plex</td>\n",
       "      <td>DHI</td>\n",
       "      <td>0.592426</td>\n",
       "      <td>326.333232</td>\n",
       "      <td>325.740806</td>\n",
       "    </tr>\n",
       "    <tr>\n",
       "      <th>437</th>\n",
       "      <td>Case5</td>\n",
       "      <td>Heart</td>\n",
       "      <td>D1CC</td>\n",
       "      <td>0.164974</td>\n",
       "      <td>55.756089</td>\n",
       "      <td>55.591115</td>\n",
       "    </tr>\n",
       "    <tr>\n",
       "      <th>514</th>\n",
       "      <td>Case5</td>\n",
       "      <td>Lt_Lung</td>\n",
       "      <td>DHI</td>\n",
       "      <td>149.879770</td>\n",
       "      <td>268.949980</td>\n",
       "      <td>119.070210</td>\n",
       "    </tr>\n",
       "    <tr>\n",
       "      <th>604</th>\n",
       "      <td>Case5</td>\n",
       "      <td>Both Lungs-ITV</td>\n",
       "      <td>DHI</td>\n",
       "      <td>114.399748</td>\n",
       "      <td>145.013911</td>\n",
       "      <td>30.614163</td>\n",
       "    </tr>\n",
       "    <tr>\n",
       "      <th>802</th>\n",
       "      <td>Case11</td>\n",
       "      <td>L Brachial plex</td>\n",
       "      <td>DHI</td>\n",
       "      <td>693.089728</td>\n",
       "      <td>730.475567</td>\n",
       "      <td>37.385840</td>\n",
       "    </tr>\n",
       "    <tr>\n",
       "      <th>1116</th>\n",
       "      <td>Case12</td>\n",
       "      <td>L Brachial plex</td>\n",
       "      <td>D2%</td>\n",
       "      <td>0.107434</td>\n",
       "      <td>73.246165</td>\n",
       "      <td>73.138730</td>\n",
       "    </tr>\n",
       "    <tr>\n",
       "      <th>1117</th>\n",
       "      <td>Case12</td>\n",
       "      <td>L Brachial plex</td>\n",
       "      <td>D5%</td>\n",
       "      <td>0.103586</td>\n",
       "      <td>70.172911</td>\n",
       "      <td>70.069326</td>\n",
       "    </tr>\n",
       "    <tr>\n",
       "      <th>1118</th>\n",
       "      <td>Case12</td>\n",
       "      <td>L Brachial plex</td>\n",
       "      <td>D50%</td>\n",
       "      <td>0.048138</td>\n",
       "      <td>24.074113</td>\n",
       "      <td>24.025975</td>\n",
       "    </tr>\n",
       "    <tr>\n",
       "      <th>1121</th>\n",
       "      <td>Case12</td>\n",
       "      <td>L Brachial plex</td>\n",
       "      <td>D1CC</td>\n",
       "      <td>0.098122</td>\n",
       "      <td>65.809651</td>\n",
       "      <td>65.711529</td>\n",
       "    </tr>\n",
       "    <tr>\n",
       "      <th>1122</th>\n",
       "      <td>Case12</td>\n",
       "      <td>L Brachial plex</td>\n",
       "      <td>D0.1CC</td>\n",
       "      <td>0.108812</td>\n",
       "      <td>74.346465</td>\n",
       "      <td>74.237653</td>\n",
       "    </tr>\n",
       "    <tr>\n",
       "      <th>1134</th>\n",
       "      <td>Case12</td>\n",
       "      <td>Trachea</td>\n",
       "      <td>D2%</td>\n",
       "      <td>0.161759</td>\n",
       "      <td>26.653945</td>\n",
       "      <td>26.492186</td>\n",
       "    </tr>\n",
       "    <tr>\n",
       "      <th>1140</th>\n",
       "      <td>Case12</td>\n",
       "      <td>Trachea</td>\n",
       "      <td>D0.1CC</td>\n",
       "      <td>48.056491</td>\n",
       "      <td>68.686161</td>\n",
       "      <td>20.629670</td>\n",
       "    </tr>\n",
       "    <tr>\n",
       "      <th>1144</th>\n",
       "      <td>Case12</td>\n",
       "      <td>Trachea</td>\n",
       "      <td>DHI</td>\n",
       "      <td>2.277156</td>\n",
       "      <td>329.454235</td>\n",
       "      <td>327.177079</td>\n",
       "    </tr>\n",
       "    <tr>\n",
       "      <th>2502</th>\n",
       "      <td>Case16</td>\n",
       "      <td>R Brachial plex</td>\n",
       "      <td>D2%</td>\n",
       "      <td>31.604253</td>\n",
       "      <td>60.698838</td>\n",
       "      <td>29.094585</td>\n",
       "    </tr>\n",
       "    <tr>\n",
       "      <th>2503</th>\n",
       "      <td>Case16</td>\n",
       "      <td>R Brachial plex</td>\n",
       "      <td>D5%</td>\n",
       "      <td>0.215437</td>\n",
       "      <td>33.277094</td>\n",
       "      <td>33.061658</td>\n",
       "    </tr>\n",
       "    <tr>\n",
       "      <th>2507</th>\n",
       "      <td>Case16</td>\n",
       "      <td>R Brachial plex</td>\n",
       "      <td>D1CC</td>\n",
       "      <td>0.213152</td>\n",
       "      <td>25.837087</td>\n",
       "      <td>25.623935</td>\n",
       "    </tr>\n",
       "    <tr>\n",
       "      <th>2512</th>\n",
       "      <td>Case16</td>\n",
       "      <td>R Brachial plex</td>\n",
       "      <td>DHI</td>\n",
       "      <td>270.566716</td>\n",
       "      <td>453.561887</td>\n",
       "      <td>182.995171</td>\n",
       "    </tr>\n",
       "    <tr>\n",
       "      <th>2814</th>\n",
       "      <td>Case17</td>\n",
       "      <td>R Brachial plex</td>\n",
       "      <td>D0.1CC</td>\n",
       "      <td>0.435957</td>\n",
       "      <td>48.809596</td>\n",
       "      <td>48.373640</td>\n",
       "    </tr>\n",
       "    <tr>\n",
       "      <th>2818</th>\n",
       "      <td>Case17</td>\n",
       "      <td>R Brachial plex</td>\n",
       "      <td>DHI</td>\n",
       "      <td>0.815837</td>\n",
       "      <td>25.416955</td>\n",
       "      <td>24.601119</td>\n",
       "    </tr>\n",
       "    <tr>\n",
       "      <th>3906</th>\n",
       "      <td>Case25</td>\n",
       "      <td>L Brachial plex</td>\n",
       "      <td>D2%</td>\n",
       "      <td>0.053900</td>\n",
       "      <td>43.705168</td>\n",
       "      <td>43.651268</td>\n",
       "    </tr>\n",
       "    <tr>\n",
       "      <th>3912</th>\n",
       "      <td>Case25</td>\n",
       "      <td>L Brachial plex</td>\n",
       "      <td>D0.1CC</td>\n",
       "      <td>0.054618</td>\n",
       "      <td>63.428739</td>\n",
       "      <td>63.374121</td>\n",
       "    </tr>\n",
       "    <tr>\n",
       "      <th>3916</th>\n",
       "      <td>Case25</td>\n",
       "      <td>L Brachial plex</td>\n",
       "      <td>DHI</td>\n",
       "      <td>1.920000</td>\n",
       "      <td>547.352816</td>\n",
       "      <td>545.432816</td>\n",
       "    </tr>\n",
       "    <tr>\n",
       "      <th>3960</th>\n",
       "      <td>Case25</td>\n",
       "      <td>Trachea</td>\n",
       "      <td>D2%</td>\n",
       "      <td>0.267278</td>\n",
       "      <td>45.402507</td>\n",
       "      <td>45.135229</td>\n",
       "    </tr>\n",
       "    <tr>\n",
       "      <th>3965</th>\n",
       "      <td>Case25</td>\n",
       "      <td>Trachea</td>\n",
       "      <td>D1CC</td>\n",
       "      <td>0.261429</td>\n",
       "      <td>28.218889</td>\n",
       "      <td>27.957460</td>\n",
       "    </tr>\n",
       "    <tr>\n",
       "      <th>3966</th>\n",
       "      <td>Case25</td>\n",
       "      <td>Trachea</td>\n",
       "      <td>D0.1CC</td>\n",
       "      <td>15.948424</td>\n",
       "      <td>69.349889</td>\n",
       "      <td>53.401465</td>\n",
       "    </tr>\n",
       "    <tr>\n",
       "      <th>3970</th>\n",
       "      <td>Case25</td>\n",
       "      <td>Trachea</td>\n",
       "      <td>DHI</td>\n",
       "      <td>2.772474</td>\n",
       "      <td>278.204038</td>\n",
       "      <td>275.431564</td>\n",
       "    </tr>\n",
       "    <tr>\n",
       "      <th>4078</th>\n",
       "      <td>Case25</td>\n",
       "      <td>Rt_Lung</td>\n",
       "      <td>DHI</td>\n",
       "      <td>84.356797</td>\n",
       "      <td>104.582459</td>\n",
       "      <td>20.225662</td>\n",
       "    </tr>\n",
       "    <tr>\n",
       "      <th>4092</th>\n",
       "      <td>Case25</td>\n",
       "      <td>Bronchial tree</td>\n",
       "      <td>D0.1CC</td>\n",
       "      <td>0.676442</td>\n",
       "      <td>31.885252</td>\n",
       "      <td>31.208810</td>\n",
       "    </tr>\n",
       "    <tr>\n",
       "      <th>4644</th>\n",
       "      <td>Case31</td>\n",
       "      <td>L Brachial plex</td>\n",
       "      <td>D2%</td>\n",
       "      <td>0.108968</td>\n",
       "      <td>76.593000</td>\n",
       "      <td>76.484032</td>\n",
       "    </tr>\n",
       "    <tr>\n",
       "      <th>4645</th>\n",
       "      <td>Case31</td>\n",
       "      <td>L Brachial plex</td>\n",
       "      <td>D5%</td>\n",
       "      <td>0.107272</td>\n",
       "      <td>74.250000</td>\n",
       "      <td>74.142728</td>\n",
       "    </tr>\n",
       "    <tr>\n",
       "      <th>4646</th>\n",
       "      <td>Case31</td>\n",
       "      <td>L Brachial plex</td>\n",
       "      <td>D50%</td>\n",
       "      <td>0.081838</td>\n",
       "      <td>39.105000</td>\n",
       "      <td>39.023162</td>\n",
       "    </tr>\n",
       "    <tr>\n",
       "      <th>4649</th>\n",
       "      <td>Case31</td>\n",
       "      <td>L Brachial plex</td>\n",
       "      <td>D1CC</td>\n",
       "      <td>0.105912</td>\n",
       "      <td>72.369815</td>\n",
       "      <td>72.263903</td>\n",
       "    </tr>\n",
       "    <tr>\n",
       "      <th>4650</th>\n",
       "      <td>Case31</td>\n",
       "      <td>L Brachial plex</td>\n",
       "      <td>D0.1CC</td>\n",
       "      <td>0.109680</td>\n",
       "      <td>77.576481</td>\n",
       "      <td>77.466802</td>\n",
       "    </tr>\n",
       "    <tr>\n",
       "      <th>4968</th>\n",
       "      <td>Case31</td>\n",
       "      <td>R Brachial plex</td>\n",
       "      <td>D2%</td>\n",
       "      <td>3.750476</td>\n",
       "      <td>72.303190</td>\n",
       "      <td>68.552714</td>\n",
       "    </tr>\n",
       "    <tr>\n",
       "      <th>4969</th>\n",
       "      <td>Case31</td>\n",
       "      <td>R Brachial plex</td>\n",
       "      <td>D5%</td>\n",
       "      <td>0.108343</td>\n",
       "      <td>63.525476</td>\n",
       "      <td>63.417133</td>\n",
       "    </tr>\n",
       "    <tr>\n",
       "      <th>4973</th>\n",
       "      <td>Case31</td>\n",
       "      <td>R Brachial plex</td>\n",
       "      <td>D1CC</td>\n",
       "      <td>0.106629</td>\n",
       "      <td>54.747761</td>\n",
       "      <td>54.641132</td>\n",
       "    </tr>\n",
       "    <tr>\n",
       "      <th>4974</th>\n",
       "      <td>Case31</td>\n",
       "      <td>R Brachial plex</td>\n",
       "      <td>D0.1CC</td>\n",
       "      <td>47.436190</td>\n",
       "      <td>75.814276</td>\n",
       "      <td>28.378086</td>\n",
       "    </tr>\n",
       "    <tr>\n",
       "      <th>4978</th>\n",
       "      <td>Case31</td>\n",
       "      <td>R Brachial plex</td>\n",
       "      <td>DHI</td>\n",
       "      <td>44.718267</td>\n",
       "      <td>781.014497</td>\n",
       "      <td>736.296230</td>\n",
       "    </tr>\n",
       "    <tr>\n",
       "      <th>5374</th>\n",
       "      <td>Case32</td>\n",
       "      <td>R Brachial plex</td>\n",
       "      <td>DHI</td>\n",
       "      <td>654.750686</td>\n",
       "      <td>740.564628</td>\n",
       "      <td>85.813942</td>\n",
       "    </tr>\n",
       "  </tbody>\n",
       "</table>\n",
       "</div>"
      ],
      "text/plain": [
       "        Case        structure  metric         AAA          Dm        diff\n",
       "216    Case1  R Brachial plex     D2%    0.326193   67.208837   66.882643\n",
       "217    Case1  R Brachial plex     D5%    0.320481   60.524591   60.204110\n",
       "222    Case1  R Brachial plex  D0.1CC    0.324991   65.801627   65.476636\n",
       "226    Case1  R Brachial plex     DHI    0.592426  326.333232  325.740806\n",
       "437    Case5            Heart    D1CC    0.164974   55.756089   55.591115\n",
       "514    Case5          Lt_Lung     DHI  149.879770  268.949980  119.070210\n",
       "604    Case5   Both Lungs-ITV     DHI  114.399748  145.013911   30.614163\n",
       "802   Case11  L Brachial plex     DHI  693.089728  730.475567   37.385840\n",
       "1116  Case12  L Brachial plex     D2%    0.107434   73.246165   73.138730\n",
       "1117  Case12  L Brachial plex     D5%    0.103586   70.172911   70.069326\n",
       "1118  Case12  L Brachial plex    D50%    0.048138   24.074113   24.025975\n",
       "1121  Case12  L Brachial plex    D1CC    0.098122   65.809651   65.711529\n",
       "1122  Case12  L Brachial plex  D0.1CC    0.108812   74.346465   74.237653\n",
       "1134  Case12          Trachea     D2%    0.161759   26.653945   26.492186\n",
       "1140  Case12          Trachea  D0.1CC   48.056491   68.686161   20.629670\n",
       "1144  Case12          Trachea     DHI    2.277156  329.454235  327.177079\n",
       "2502  Case16  R Brachial plex     D2%   31.604253   60.698838   29.094585\n",
       "2503  Case16  R Brachial plex     D5%    0.215437   33.277094   33.061658\n",
       "2507  Case16  R Brachial plex    D1CC    0.213152   25.837087   25.623935\n",
       "2512  Case16  R Brachial plex     DHI  270.566716  453.561887  182.995171\n",
       "2814  Case17  R Brachial plex  D0.1CC    0.435957   48.809596   48.373640\n",
       "2818  Case17  R Brachial plex     DHI    0.815837   25.416955   24.601119\n",
       "3906  Case25  L Brachial plex     D2%    0.053900   43.705168   43.651268\n",
       "3912  Case25  L Brachial plex  D0.1CC    0.054618   63.428739   63.374121\n",
       "3916  Case25  L Brachial plex     DHI    1.920000  547.352816  545.432816\n",
       "3960  Case25          Trachea     D2%    0.267278   45.402507   45.135229\n",
       "3965  Case25          Trachea    D1CC    0.261429   28.218889   27.957460\n",
       "3966  Case25          Trachea  D0.1CC   15.948424   69.349889   53.401465\n",
       "3970  Case25          Trachea     DHI    2.772474  278.204038  275.431564\n",
       "4078  Case25          Rt_Lung     DHI   84.356797  104.582459   20.225662\n",
       "4092  Case25   Bronchial tree  D0.1CC    0.676442   31.885252   31.208810\n",
       "4644  Case31  L Brachial plex     D2%    0.108968   76.593000   76.484032\n",
       "4645  Case31  L Brachial plex     D5%    0.107272   74.250000   74.142728\n",
       "4646  Case31  L Brachial plex    D50%    0.081838   39.105000   39.023162\n",
       "4649  Case31  L Brachial plex    D1CC    0.105912   72.369815   72.263903\n",
       "4650  Case31  L Brachial plex  D0.1CC    0.109680   77.576481   77.466802\n",
       "4968  Case31  R Brachial plex     D2%    3.750476   72.303190   68.552714\n",
       "4969  Case31  R Brachial plex     D5%    0.108343   63.525476   63.417133\n",
       "4973  Case31  R Brachial plex    D1CC    0.106629   54.747761   54.641132\n",
       "4974  Case31  R Brachial plex  D0.1CC   47.436190   75.814276   28.378086\n",
       "4978  Case31  R Brachial plex     DHI   44.718267  781.014497  736.296230\n",
       "5374  Case32  R Brachial plex     DHI  654.750686  740.564628   85.813942"
      ]
     },
     "execution_count": 31,
     "metadata": {},
     "output_type": "execute_result"
    }
   ],
   "source": [
    "d[d['diff']>20]   # see the extreme cases"
   ]
  },
  {
   "cell_type": "code",
   "execution_count": 32,
   "metadata": {
    "collapsed": true
   },
   "outputs": [],
   "source": [
    "#d = d[d['diff']<100.0] # drop extreme cases where difference is greater than 100%"
   ]
  },
  {
   "cell_type": "code",
   "execution_count": 64,
   "metadata": {
    "collapsed": false
   },
   "outputs": [
    {
     "data": {
      "text/plain": [
       "array(['D2%', 'D5%', 'D50%', 'D95%', 'D99%', 'D1CC', 'D0.1CC', 'DMAX',\n",
       "       'DSD', 'DRX', 'DHI', 'V5GY', 'V12.5GY', 'V20GY', 'V30GY', 'V40GY',\n",
       "       'V50GY', 'V55GY'], dtype=object)"
      ]
     },
     "execution_count": 64,
     "metadata": {},
     "output_type": "execute_result"
    }
   ],
   "source": [
    "d.metric.unique()"
   ]
  },
  {
   "cell_type": "code",
   "execution_count": 147,
   "metadata": {
    "collapsed": false
   },
   "outputs": [
    {
     "data": {
      "text/plain": [
       "array(['BODY', 'GTV', 'Heart', 'Foramen', 'Foramen+3mm', 'Oesophagus',\n",
       "       'Trachea', 'Bronchial tree', 'L Brachial plex', 'R Brachial plex',\n",
       "       'Airway avoidance', 'PTV CHEST', 'Lt_Lung', 'PTV ring 2-3cm',\n",
       "       'Rt_Lung', 'Both Lungs-ITV', 'Skin', 'Ribs', 'Skin-PTV+2cm', 'ITV',\n",
       "       'Ribs-PTV', 'Inner Ring', 'Body', 'Both Lungs', 'Great vessels',\n",
       "       'Liver'], dtype=object)"
      ]
     },
     "execution_count": 147,
     "metadata": {},
     "output_type": "execute_result"
    }
   ],
   "source": [
    "d.structure.unique()"
   ]
  },
  {
   "cell_type": "code",
   "execution_count": 128,
   "metadata": {
    "collapsed": false
   },
   "outputs": [
    {
     "name": "stdout",
     "output_type": "stream",
     "text": [
      "15\n"
     ]
    }
   ],
   "source": [
    "d.Case.unique()\n",
    "print(d.Case.unique().size)"
   ]
  },
  {
   "cell_type": "markdown",
   "metadata": {},
   "source": [
    "# Check against constraints"
   ]
  },
  {
   "cell_type": "code",
   "execution_count": 436,
   "metadata": {
    "collapsed": false
   },
   "outputs": [],
   "source": [
    "constraints = pd.read_csv('SABR_lung_constraints.csv')\n",
    "constraints = constraints.drop('3_Fraction_54Gy', 1)   # drop 54 Gy"
   ]
  },
  {
   "cell_type": "code",
   "execution_count": 472,
   "metadata": {
    "collapsed": false
   },
   "outputs": [
    {
     "data": {
      "text/html": [
       "<div>\n",
       "<table border=\"1\" class=\"dataframe\">\n",
       "  <thead>\n",
       "    <tr style=\"text-align: right;\">\n",
       "      <th></th>\n",
       "      <th>structure</th>\n",
       "      <th>metric</th>\n",
       "      <th>Sign</th>\n",
       "      <th>5_Fraction_55Gy</th>\n",
       "      <th>Unit</th>\n",
       "      <th>Of_Prescription_dose?</th>\n",
       "    </tr>\n",
       "  </thead>\n",
       "  <tbody>\n",
       "    <tr>\n",
       "      <th>0</th>\n",
       "      <td>PTV CHEST</td>\n",
       "      <td>D95%</td>\n",
       "      <td>&gt;</td>\n",
       "      <td>100</td>\n",
       "      <td>%</td>\n",
       "      <td>1</td>\n",
       "    </tr>\n",
       "    <tr>\n",
       "      <th>1</th>\n",
       "      <td>PTV CHEST</td>\n",
       "      <td>D99%</td>\n",
       "      <td>&gt;</td>\n",
       "      <td>90</td>\n",
       "      <td>%</td>\n",
       "      <td>1</td>\n",
       "    </tr>\n",
       "    <tr>\n",
       "      <th>2</th>\n",
       "      <td>PTV CHEST</td>\n",
       "      <td>D0.1CC</td>\n",
       "      <td>between</td>\n",
       "      <td>118-134</td>\n",
       "      <td>%</td>\n",
       "      <td>1</td>\n",
       "    </tr>\n",
       "    <tr>\n",
       "      <th>3</th>\n",
       "      <td>Foramen</td>\n",
       "      <td>DMAX</td>\n",
       "      <td>&lt;</td>\n",
       "      <td>25</td>\n",
       "      <td>Gy</td>\n",
       "      <td>0</td>\n",
       "    </tr>\n",
       "    <tr>\n",
       "      <th>4</th>\n",
       "      <td>Oesophagus</td>\n",
       "      <td>D0.1CC</td>\n",
       "      <td>&lt;</td>\n",
       "      <td>27</td>\n",
       "      <td>Gy</td>\n",
       "      <td>0</td>\n",
       "    </tr>\n",
       "    <tr>\n",
       "      <th>5</th>\n",
       "      <td>R Brachial plex</td>\n",
       "      <td>D0.1CC</td>\n",
       "      <td>&lt;</td>\n",
       "      <td>27</td>\n",
       "      <td>Gy</td>\n",
       "      <td>0</td>\n",
       "    </tr>\n",
       "    <tr>\n",
       "      <th>6</th>\n",
       "      <td>L Brachial plex</td>\n",
       "      <td>D0.1CC</td>\n",
       "      <td>&lt;</td>\n",
       "      <td>27</td>\n",
       "      <td>Gy</td>\n",
       "      <td>0</td>\n",
       "    </tr>\n",
       "    <tr>\n",
       "      <th>7</th>\n",
       "      <td>Heart</td>\n",
       "      <td>D0.1CC</td>\n",
       "      <td>&lt;</td>\n",
       "      <td>27</td>\n",
       "      <td>Gy</td>\n",
       "      <td>0</td>\n",
       "    </tr>\n",
       "    <tr>\n",
       "      <th>8</th>\n",
       "      <td>Trachea</td>\n",
       "      <td>D0.1CC</td>\n",
       "      <td>&lt;</td>\n",
       "      <td>32</td>\n",
       "      <td>Gy</td>\n",
       "      <td>0</td>\n",
       "    </tr>\n",
       "    <tr>\n",
       "      <th>9</th>\n",
       "      <td>Bronchial tree</td>\n",
       "      <td>D0.1CC</td>\n",
       "      <td>&lt;</td>\n",
       "      <td>32</td>\n",
       "      <td>Gy</td>\n",
       "      <td>0</td>\n",
       "    </tr>\n",
       "    <tr>\n",
       "      <th>10</th>\n",
       "      <td>Ribs</td>\n",
       "      <td>D0.1CC</td>\n",
       "      <td>&lt;</td>\n",
       "      <td>35</td>\n",
       "      <td>Gy</td>\n",
       "      <td>0</td>\n",
       "    </tr>\n",
       "  </tbody>\n",
       "</table>\n",
       "</div>"
      ],
      "text/plain": [
       "          structure  metric     Sign 5_Fraction_55Gy Unit  \\\n",
       "0         PTV CHEST    D95%       >              100    %   \n",
       "1         PTV CHEST    D99%        >              90    %   \n",
       "2         PTV CHEST  D0.1CC  between         118-134    %   \n",
       "3           Foramen    DMAX        <              25   Gy   \n",
       "4        Oesophagus  D0.1CC        <              27   Gy   \n",
       "5   R Brachial plex  D0.1CC        <              27   Gy   \n",
       "6   L Brachial plex  D0.1CC        <              27   Gy   \n",
       "7             Heart  D0.1CC        <              27   Gy   \n",
       "8           Trachea  D0.1CC        <              32   Gy   \n",
       "9    Bronchial tree  D0.1CC        <              32   Gy   \n",
       "10             Ribs  D0.1CC        <              35   Gy   \n",
       "\n",
       "    Of_Prescription_dose?  \n",
       "0                       1  \n",
       "1                       1  \n",
       "2                       1  \n",
       "3                       0  \n",
       "4                       0  \n",
       "5                       0  \n",
       "6                       0  \n",
       "7                       0  \n",
       "8                       0  \n",
       "9                       0  \n",
       "10                      0  "
      ]
     },
     "execution_count": 472,
     "metadata": {},
     "output_type": "execute_result"
    }
   ],
   "source": [
    "# constraints[(constraints['Structure'] == 'PTV CHEST') & (constraints['Metric'] == 'D95%')]\n",
    "constraints = constraints[constraints['metric'].isin(d.metric.unique())]   # get only constraints where we have exported metrics\n",
    "constraints"
   ]
  },
  {
   "cell_type": "code",
   "execution_count": 438,
   "metadata": {
    "collapsed": false
   },
   "outputs": [
    {
     "data": {
      "text/html": [
       "<div>\n",
       "<table border=\"1\" class=\"dataframe\">\n",
       "  <thead>\n",
       "    <tr style=\"text-align: right;\">\n",
       "      <th></th>\n",
       "      <th>Case</th>\n",
       "      <th>structure</th>\n",
       "      <th>metric</th>\n",
       "      <th>AAA</th>\n",
       "      <th>Dm</th>\n",
       "      <th>diff</th>\n",
       "    </tr>\n",
       "  </thead>\n",
       "  <tbody>\n",
       "    <tr>\n",
       "      <th>489</th>\n",
       "      <td>Case5</td>\n",
       "      <td>PTV CHEST</td>\n",
       "      <td>D95%</td>\n",
       "      <td>55.648904</td>\n",
       "      <td>54.883221</td>\n",
       "      <td>-0.765683</td>\n",
       "    </tr>\n",
       "    <tr>\n",
       "      <th>4287</th>\n",
       "      <td>Case30</td>\n",
       "      <td>PTV CHEST</td>\n",
       "      <td>D95%</td>\n",
       "      <td>56.172306</td>\n",
       "      <td>51.618767</td>\n",
       "      <td>-4.553539</td>\n",
       "    </tr>\n",
       "  </tbody>\n",
       "</table>\n",
       "</div>"
      ],
      "text/plain": [
       "        Case  structure metric        AAA         Dm      diff\n",
       "489    Case5  PTV CHEST   D95%  55.648904  54.883221 -0.765683\n",
       "4287  Case30  PTV CHEST   D95%  56.172306  51.618767 -4.553539"
      ]
     },
     "execution_count": 438,
     "metadata": {},
     "output_type": "execute_result"
    }
   ],
   "source": [
    "PTV_D95_fail = d[(d['structure'] == 'PTV CHEST') & (d['metric'] == 'D95%') & (d['AAA'] > 55.0) & (d['Dm'] < 55.0)]\n",
    "#print(wilcoxon(test_df['diff'])) \n",
    "PTV_D95_fail"
   ]
  },
  {
   "cell_type": "code",
   "execution_count": 439,
   "metadata": {
    "collapsed": false
   },
   "outputs": [
    {
     "data": {
      "text/html": [
       "<div>\n",
       "<table border=\"1\" class=\"dataframe\">\n",
       "  <thead>\n",
       "    <tr style=\"text-align: right;\">\n",
       "      <th></th>\n",
       "      <th>Case</th>\n",
       "      <th>structure</th>\n",
       "      <th>metric</th>\n",
       "      <th>AAA</th>\n",
       "      <th>Dm</th>\n",
       "      <th>diff</th>\n",
       "    </tr>\n",
       "  </thead>\n",
       "  <tbody>\n",
       "  </tbody>\n",
       "</table>\n",
       "</div>"
      ],
      "text/plain": [
       "Empty DataFrame\n",
       "Columns: [Case, structure, metric, AAA, Dm, diff]\n",
       "Index: []"
      ]
     },
     "execution_count": 439,
     "metadata": {},
     "output_type": "execute_result"
    }
   ],
   "source": [
    "PTV_D99_fail = d[(d['structure'] == 'PTV CHEST') & (d['metric'] == 'D99%') & (d['AAA'] > 0.9*55.0) & (d['Dm'] < 0.9*55.0)]\n",
    "PTV_D99_fail  "
   ]
  },
  {
   "cell_type": "code",
   "execution_count": 440,
   "metadata": {
    "collapsed": false
   },
   "outputs": [
    {
     "name": "stdout",
     "output_type": "stream",
     "text": [
      "64.89999999999999\n",
      "73.7\n"
     ]
    },
    {
     "data": {
      "text/html": [
       "<div>\n",
       "<table border=\"1\" class=\"dataframe\">\n",
       "  <thead>\n",
       "    <tr style=\"text-align: right;\">\n",
       "      <th></th>\n",
       "      <th>Case</th>\n",
       "      <th>structure</th>\n",
       "      <th>metric</th>\n",
       "      <th>AAA</th>\n",
       "      <th>Dm</th>\n",
       "      <th>diff</th>\n",
       "    </tr>\n",
       "  </thead>\n",
       "  <tbody>\n",
       "    <tr>\n",
       "      <th>4740</th>\n",
       "      <td>Case31</td>\n",
       "      <td>PTV CHEST</td>\n",
       "      <td>D0.1CC</td>\n",
       "      <td>72.846993</td>\n",
       "      <td>74.024337</td>\n",
       "      <td>1.177344</td>\n",
       "    </tr>\n",
       "  </tbody>\n",
       "</table>\n",
       "</div>"
      ],
      "text/plain": [
       "        Case  structure  metric        AAA         Dm      diff\n",
       "4740  Case31  PTV CHEST  D0.1CC  72.846993  74.024337  1.177344"
      ]
     },
     "execution_count": 440,
     "metadata": {},
     "output_type": "execute_result"
    }
   ],
   "source": [
    "PTV_D01CC_fail = d[(d['structure'] == 'PTV CHEST') & (d['metric'] == 'D0.1CC') & (((d['AAA'] > 1.18*55) & (d['Dm'] < 1.18*55)) | ((d['AAA'] < 1.34*55) & (d['Dm'] > 1.34*55)))]\n",
    "print(1.18*55)\n",
    "print(1.34*55)\n",
    "PTV_D01CC_fail"
   ]
  },
  {
   "cell_type": "code",
   "execution_count": 441,
   "metadata": {
    "collapsed": false
   },
   "outputs": [
    {
     "data": {
      "text/html": [
       "<div>\n",
       "<table border=\"1\" class=\"dataframe\">\n",
       "  <thead>\n",
       "    <tr style=\"text-align: right;\">\n",
       "      <th></th>\n",
       "      <th>Case</th>\n",
       "      <th>structure</th>\n",
       "      <th>metric</th>\n",
       "      <th>AAA</th>\n",
       "      <th>Dm</th>\n",
       "      <th>diff</th>\n",
       "    </tr>\n",
       "  </thead>\n",
       "  <tbody>\n",
       "  </tbody>\n",
       "</table>\n",
       "</div>"
      ],
      "text/plain": [
       "Empty DataFrame\n",
       "Columns: [Case, structure, metric, AAA, Dm, diff]\n",
       "Index: []"
      ]
     },
     "execution_count": 441,
     "metadata": {},
     "output_type": "execute_result"
    }
   ],
   "source": [
    "Foramen_D01CC_fail = d[(d['structure'] == 'Foramen') & (d['metric'] == 'DMAX') & (d['AAA'] < 25.0) & (d['Dm'] > 25.0)]\n",
    "Foramen_D01CC_fail  "
   ]
  },
  {
   "cell_type": "code",
   "execution_count": 442,
   "metadata": {
    "collapsed": false
   },
   "outputs": [
    {
     "data": {
      "text/html": [
       "<div>\n",
       "<table border=\"1\" class=\"dataframe\">\n",
       "  <thead>\n",
       "    <tr style=\"text-align: right;\">\n",
       "      <th></th>\n",
       "      <th>Case</th>\n",
       "      <th>structure</th>\n",
       "      <th>metric</th>\n",
       "      <th>AAA</th>\n",
       "      <th>Dm</th>\n",
       "      <th>diff</th>\n",
       "    </tr>\n",
       "  </thead>\n",
       "  <tbody>\n",
       "  </tbody>\n",
       "</table>\n",
       "</div>"
      ],
      "text/plain": [
       "Empty DataFrame\n",
       "Columns: [Case, structure, metric, AAA, Dm, diff]\n",
       "Index: []"
      ]
     },
     "execution_count": 442,
     "metadata": {},
     "output_type": "execute_result"
    }
   ],
   "source": [
    "Oesophagus_D01CC_fail = d[(d['structure'] == 'Oesophagus') & (d['metric'] == 'D0.1CC') & (d['AAA'] < 27.0) & (d['Dm'] > 27.0)]\n",
    "Oesophagus_D01CC_fail  "
   ]
  },
  {
   "cell_type": "code",
   "execution_count": 443,
   "metadata": {
    "collapsed": false
   },
   "outputs": [
    {
     "data": {
      "text/html": [
       "<div>\n",
       "<table border=\"1\" class=\"dataframe\">\n",
       "  <thead>\n",
       "    <tr style=\"text-align: right;\">\n",
       "      <th></th>\n",
       "      <th>Case</th>\n",
       "      <th>structure</th>\n",
       "      <th>metric</th>\n",
       "      <th>AAA</th>\n",
       "      <th>Dm</th>\n",
       "      <th>diff</th>\n",
       "    </tr>\n",
       "  </thead>\n",
       "  <tbody>\n",
       "    <tr>\n",
       "      <th>1122</th>\n",
       "      <td>Case12</td>\n",
       "      <td>L Brachial plex</td>\n",
       "      <td>D0.1CC</td>\n",
       "      <td>0.108812</td>\n",
       "      <td>74.346465</td>\n",
       "      <td>74.237653</td>\n",
       "    </tr>\n",
       "    <tr>\n",
       "      <th>3912</th>\n",
       "      <td>Case25</td>\n",
       "      <td>L Brachial plex</td>\n",
       "      <td>D0.1CC</td>\n",
       "      <td>0.054618</td>\n",
       "      <td>63.428739</td>\n",
       "      <td>63.374121</td>\n",
       "    </tr>\n",
       "    <tr>\n",
       "      <th>4650</th>\n",
       "      <td>Case31</td>\n",
       "      <td>L Brachial plex</td>\n",
       "      <td>D0.1CC</td>\n",
       "      <td>0.109680</td>\n",
       "      <td>77.576481</td>\n",
       "      <td>77.466802</td>\n",
       "    </tr>\n",
       "  </tbody>\n",
       "</table>\n",
       "</div>"
      ],
      "text/plain": [
       "        Case        structure  metric       AAA         Dm       diff\n",
       "1122  Case12  L Brachial plex  D0.1CC  0.108812  74.346465  74.237653\n",
       "3912  Case25  L Brachial plex  D0.1CC  0.054618  63.428739  63.374121\n",
       "4650  Case31  L Brachial plex  D0.1CC  0.109680  77.576481  77.466802"
      ]
     },
     "execution_count": 443,
     "metadata": {},
     "output_type": "execute_result"
    }
   ],
   "source": [
    "LBrachial_D01CC_fail = d[(d['structure'] == 'L Brachial plex') & (d['metric'] == 'D0.1CC') & (d['AAA'] < 27.0) & (d['Dm'] > 27.0)]\n",
    "LBrachial_D01CC_fail  "
   ]
  },
  {
   "cell_type": "code",
   "execution_count": 444,
   "metadata": {
    "collapsed": false
   },
   "outputs": [
    {
     "data": {
      "text/html": [
       "<div>\n",
       "<table border=\"1\" class=\"dataframe\">\n",
       "  <thead>\n",
       "    <tr style=\"text-align: right;\">\n",
       "      <th></th>\n",
       "      <th>Case</th>\n",
       "      <th>structure</th>\n",
       "      <th>metric</th>\n",
       "      <th>AAA</th>\n",
       "      <th>Dm</th>\n",
       "      <th>diff</th>\n",
       "    </tr>\n",
       "  </thead>\n",
       "  <tbody>\n",
       "    <tr>\n",
       "      <th>222</th>\n",
       "      <td>Case1</td>\n",
       "      <td>R Brachial plex</td>\n",
       "      <td>D0.1CC</td>\n",
       "      <td>0.324991</td>\n",
       "      <td>65.801627</td>\n",
       "      <td>65.476636</td>\n",
       "    </tr>\n",
       "    <tr>\n",
       "      <th>2814</th>\n",
       "      <td>Case17</td>\n",
       "      <td>R Brachial plex</td>\n",
       "      <td>D0.1CC</td>\n",
       "      <td>0.435957</td>\n",
       "      <td>48.809596</td>\n",
       "      <td>48.373640</td>\n",
       "    </tr>\n",
       "  </tbody>\n",
       "</table>\n",
       "</div>"
      ],
      "text/plain": [
       "        Case        structure  metric       AAA         Dm       diff\n",
       "222    Case1  R Brachial plex  D0.1CC  0.324991  65.801627  65.476636\n",
       "2814  Case17  R Brachial plex  D0.1CC  0.435957  48.809596  48.373640"
      ]
     },
     "execution_count": 444,
     "metadata": {},
     "output_type": "execute_result"
    }
   ],
   "source": [
    "RBrachial_D01CC_fail = d[(d['structure'] == 'R Brachial plex') & (d['metric'] == 'D0.1CC') & (d['AAA'] < 27.0) & (d['Dm'] > 27.0)]\n",
    "RBrachial_D01CC_fail  "
   ]
  },
  {
   "cell_type": "code",
   "execution_count": 445,
   "metadata": {
    "collapsed": false
   },
   "outputs": [
    {
     "data": {
      "text/html": [
       "<div>\n",
       "<table border=\"1\" class=\"dataframe\">\n",
       "  <thead>\n",
       "    <tr style=\"text-align: right;\">\n",
       "      <th></th>\n",
       "      <th>Case</th>\n",
       "      <th>structure</th>\n",
       "      <th>metric</th>\n",
       "      <th>AAA</th>\n",
       "      <th>Dm</th>\n",
       "      <th>diff</th>\n",
       "    </tr>\n",
       "  </thead>\n",
       "  <tbody>\n",
       "  </tbody>\n",
       "</table>\n",
       "</div>"
      ],
      "text/plain": [
       "Empty DataFrame\n",
       "Columns: [Case, structure, metric, AAA, Dm, diff]\n",
       "Index: []"
      ]
     },
     "execution_count": 445,
     "metadata": {},
     "output_type": "execute_result"
    }
   ],
   "source": [
    "Heart_D01CC_fail = d[(d['structure'] == 'Heart') & (d['metric'] == 'D0.1CC')& (d['Dm'] > 27.0) & (d['AAA'] < 27.0)]\n",
    "Heart_D01CC_fail "
   ]
  },
  {
   "cell_type": "code",
   "execution_count": 446,
   "metadata": {
    "collapsed": false
   },
   "outputs": [
    {
     "data": {
      "text/html": [
       "<div>\n",
       "<table border=\"1\" class=\"dataframe\">\n",
       "  <thead>\n",
       "    <tr style=\"text-align: right;\">\n",
       "      <th></th>\n",
       "      <th>Case</th>\n",
       "      <th>structure</th>\n",
       "      <th>metric</th>\n",
       "      <th>AAA</th>\n",
       "      <th>Dm</th>\n",
       "      <th>diff</th>\n",
       "    </tr>\n",
       "  </thead>\n",
       "  <tbody>\n",
       "    <tr>\n",
       "      <th>3966</th>\n",
       "      <td>Case25</td>\n",
       "      <td>Trachea</td>\n",
       "      <td>D0.1CC</td>\n",
       "      <td>15.948424</td>\n",
       "      <td>69.349889</td>\n",
       "      <td>53.401465</td>\n",
       "    </tr>\n",
       "  </tbody>\n",
       "</table>\n",
       "</div>"
      ],
      "text/plain": [
       "        Case structure  metric        AAA         Dm       diff\n",
       "3966  Case25   Trachea  D0.1CC  15.948424  69.349889  53.401465"
      ]
     },
     "execution_count": 446,
     "metadata": {},
     "output_type": "execute_result"
    }
   ],
   "source": [
    "Trachea_D01CC_fail = d[(d['structure'] == 'Trachea') & (d['metric'] == 'D0.1CC') & (d['AAA'] < 32.0) & (d['Dm'] > 32.0)]\n",
    "Trachea_D01CC_fail  "
   ]
  },
  {
   "cell_type": "code",
   "execution_count": 447,
   "metadata": {
    "collapsed": false
   },
   "outputs": [
    {
     "data": {
      "text/html": [
       "<div>\n",
       "<table border=\"1\" class=\"dataframe\">\n",
       "  <thead>\n",
       "    <tr style=\"text-align: right;\">\n",
       "      <th></th>\n",
       "      <th>Case</th>\n",
       "      <th>structure</th>\n",
       "      <th>metric</th>\n",
       "      <th>AAA</th>\n",
       "      <th>Dm</th>\n",
       "      <th>diff</th>\n",
       "    </tr>\n",
       "  </thead>\n",
       "  <tbody>\n",
       "  </tbody>\n",
       "</table>\n",
       "</div>"
      ],
      "text/plain": [
       "Empty DataFrame\n",
       "Columns: [Case, structure, metric, AAA, Dm, diff]\n",
       "Index: []"
      ]
     },
     "execution_count": 447,
     "metadata": {},
     "output_type": "execute_result"
    }
   ],
   "source": [
    "Bronchial_D01CC_fail = d[(d['structure'] == 'Bronchial tree') & (d['metric'] == 'D0.1CC') & (d['AAA'] < 32.0) & (d['Dm'] > 32.0)]\n",
    "Bronchial_D01CC_fail "
   ]
  },
  {
   "cell_type": "code",
   "execution_count": 448,
   "metadata": {
    "collapsed": false
   },
   "outputs": [
    {
     "data": {
      "text/html": [
       "<div>\n",
       "<table border=\"1\" class=\"dataframe\">\n",
       "  <thead>\n",
       "    <tr style=\"text-align: right;\">\n",
       "      <th></th>\n",
       "      <th>Case</th>\n",
       "      <th>structure</th>\n",
       "      <th>metric</th>\n",
       "      <th>AAA</th>\n",
       "      <th>Dm</th>\n",
       "      <th>diff</th>\n",
       "    </tr>\n",
       "  </thead>\n",
       "  <tbody>\n",
       "  </tbody>\n",
       "</table>\n",
       "</div>"
      ],
      "text/plain": [
       "Empty DataFrame\n",
       "Columns: [Case, structure, metric, AAA, Dm, diff]\n",
       "Index: []"
      ]
     },
     "execution_count": 448,
     "metadata": {},
     "output_type": "execute_result"
    }
   ],
   "source": [
    "Ribs_D01CC_fail = d[(d['structure'] == 'Ribs') & (d['metric'] == 'D0.1CC') & (d['AAA'] < 35.0) & (d['Dm'] > 35.0)]\n",
    "Ribs_D01CC_fail "
   ]
  },
  {
   "cell_type": "code",
   "execution_count": 449,
   "metadata": {
    "collapsed": false
   },
   "outputs": [
    {
     "data": {
      "text/html": [
       "<div>\n",
       "<table border=\"1\" class=\"dataframe\">\n",
       "  <thead>\n",
       "    <tr style=\"text-align: right;\">\n",
       "      <th></th>\n",
       "      <th>Case</th>\n",
       "      <th>structure</th>\n",
       "      <th>metric</th>\n",
       "      <th>AAA</th>\n",
       "      <th>Dm</th>\n",
       "      <th>diff</th>\n",
       "    </tr>\n",
       "  </thead>\n",
       "  <tbody>\n",
       "  </tbody>\n",
       "</table>\n",
       "</div>"
      ],
      "text/plain": [
       "Empty DataFrame\n",
       "Columns: [Case, structure, metric, AAA, Dm, diff]\n",
       "Index: []"
      ]
     },
     "execution_count": 449,
     "metadata": {},
     "output_type": "execute_result"
    }
   ],
   "source": [
    "Ribs_V30_fail = d[(d['structure'] == 'Ribs') & (d['metric'] == 'V30GY') & (d['AAA'] < 30.0) & (d['Dm'] > 30.0)]\n",
    "Ribs_V30_fail "
   ]
  },
  {
   "cell_type": "code",
   "execution_count": 450,
   "metadata": {
    "collapsed": false
   },
   "outputs": [
    {
     "data": {
      "text/html": [
       "<div>\n",
       "<table border=\"1\" class=\"dataframe\">\n",
       "  <thead>\n",
       "    <tr style=\"text-align: right;\">\n",
       "      <th></th>\n",
       "      <th>Case</th>\n",
       "      <th>structure</th>\n",
       "      <th>metric</th>\n",
       "      <th>AAA</th>\n",
       "      <th>Dm</th>\n",
       "      <th>diff</th>\n",
       "    </tr>\n",
       "  </thead>\n",
       "  <tbody>\n",
       "  </tbody>\n",
       "</table>\n",
       "</div>"
      ],
      "text/plain": [
       "Empty DataFrame\n",
       "Columns: [Case, structure, metric, AAA, Dm, diff]\n",
       "Index: []"
      ]
     },
     "execution_count": 450,
     "metadata": {},
     "output_type": "execute_result"
    }
   ],
   "source": [
    "Lungs_V20_fail = d[(d['structure'] == 'Both Lungs-ITV') & (d['metric'] == 'V20GY') & (d['AAA'] < 10.0) & (d['Dm'] > 10.0)]\n",
    "Lungs_V20_fail "
   ]
  },
  {
   "cell_type": "code",
   "execution_count": 451,
   "metadata": {
    "collapsed": false
   },
   "outputs": [
    {
     "data": {
      "text/html": [
       "<div>\n",
       "<table border=\"1\" class=\"dataframe\">\n",
       "  <thead>\n",
       "    <tr style=\"text-align: right;\">\n",
       "      <th></th>\n",
       "      <th>Case</th>\n",
       "      <th>structure</th>\n",
       "      <th>metric</th>\n",
       "      <th>AAA</th>\n",
       "      <th>Dm</th>\n",
       "      <th>diff</th>\n",
       "    </tr>\n",
       "  </thead>\n",
       "  <tbody>\n",
       "  </tbody>\n",
       "</table>\n",
       "</div>"
      ],
      "text/plain": [
       "Empty DataFrame\n",
       "Columns: [Case, structure, metric, AAA, Dm, diff]\n",
       "Index: []"
      ]
     },
     "execution_count": 451,
     "metadata": {},
     "output_type": "execute_result"
    }
   ],
   "source": [
    "Lungs_V125_fail = d[(d['structure'] == 'Both Lungs-ITV') & (d['metric'] == 'V12.5GY') & (d['AAA'] < 15.0) & (d['Dm'] > 15.0)]\n",
    "Lungs_V125_fail "
   ]
  },
  {
   "cell_type": "code",
   "execution_count": 452,
   "metadata": {
    "collapsed": false
   },
   "outputs": [
    {
     "data": {
      "text/html": [
       "<div>\n",
       "<table border=\"1\" class=\"dataframe\">\n",
       "  <thead>\n",
       "    <tr style=\"text-align: right;\">\n",
       "      <th></th>\n",
       "      <th>Case</th>\n",
       "      <th>structure</th>\n",
       "      <th>metric</th>\n",
       "      <th>AAA</th>\n",
       "      <th>Dm</th>\n",
       "      <th>diff</th>\n",
       "    </tr>\n",
       "  </thead>\n",
       "  <tbody>\n",
       "  </tbody>\n",
       "</table>\n",
       "</div>"
      ],
      "text/plain": [
       "Empty DataFrame\n",
       "Columns: [Case, structure, metric, AAA, Dm, diff]\n",
       "Index: []"
      ]
     },
     "execution_count": 452,
     "metadata": {},
     "output_type": "execute_result"
    }
   ],
   "source": [
    "Lungs_V5_fail = d[(d['structure'] == 'Both Lungs-ITV') & (d['metric'] == 'V5GY') & (d['AAA'] < 26.0) & (d['Dm'] > 26.0)]\n",
    "Lungs_V5_fail "
   ]
  },
  {
   "cell_type": "code",
   "execution_count": 453,
   "metadata": {
    "collapsed": false
   },
   "outputs": [
    {
     "data": {
      "text/html": [
       "<div>\n",
       "<table border=\"1\" class=\"dataframe\">\n",
       "  <thead>\n",
       "    <tr style=\"text-align: right;\">\n",
       "      <th></th>\n",
       "      <th>Case</th>\n",
       "      <th>structure</th>\n",
       "      <th>metric</th>\n",
       "      <th>AAA</th>\n",
       "      <th>Dm</th>\n",
       "      <th>diff</th>\n",
       "    </tr>\n",
       "  </thead>\n",
       "  <tbody>\n",
       "    <tr>\n",
       "      <th>3458</th>\n",
       "      <td>Case22</td>\n",
       "      <td>Liver</td>\n",
       "      <td>D50%</td>\n",
       "      <td>1.250632</td>\n",
       "      <td>1.294880</td>\n",
       "      <td>0.044248</td>\n",
       "    </tr>\n",
       "    <tr>\n",
       "      <th>4196</th>\n",
       "      <td>Case25</td>\n",
       "      <td>Liver</td>\n",
       "      <td>D50%</td>\n",
       "      <td>6.847959</td>\n",
       "      <td>6.713133</td>\n",
       "      <td>-0.134825</td>\n",
       "    </tr>\n",
       "  </tbody>\n",
       "</table>\n",
       "</div>"
      ],
      "text/plain": [
       "        Case structure metric       AAA        Dm      diff\n",
       "3458  Case22     Liver   D50%  1.250632  1.294880  0.044248\n",
       "4196  Case25     Liver   D50%  6.847959  6.713133 -0.134825"
      ]
     },
     "execution_count": 453,
     "metadata": {},
     "output_type": "execute_result"
    }
   ],
   "source": [
    "Liver_D50_fail = d[(d['structure'] == 'Liver') & (d['metric'] == 'D50%') ]\n",
    "Liver_D50_fail   "
   ]
  },
  {
   "cell_type": "markdown",
   "metadata": {},
   "source": [
    "Need to export Lungs-ITV D1500CC, D1000CC, Liver 700CC, V21, V15, DMEAN\n",
    "\n",
    "Investigate these failures."
   ]
  },
  {
   "cell_type": "code",
   "execution_count": 454,
   "metadata": {
    "collapsed": false
   },
   "outputs": [
    {
     "name": "stdout",
     "output_type": "stream",
     "text": [
      "8\n"
     ]
    },
    {
     "data": {
      "text/html": [
       "<div>\n",
       "<table border=\"1\" class=\"dataframe\">\n",
       "  <thead>\n",
       "    <tr style=\"text-align: right;\">\n",
       "      <th></th>\n",
       "      <th>Case</th>\n",
       "      <th>structure</th>\n",
       "      <th>metric</th>\n",
       "      <th>AAA</th>\n",
       "      <th>Dm</th>\n",
       "      <th>diff</th>\n",
       "    </tr>\n",
       "  </thead>\n",
       "  <tbody>\n",
       "    <tr>\n",
       "      <th>489</th>\n",
       "      <td>Case5</td>\n",
       "      <td>PTV CHEST</td>\n",
       "      <td>D95%</td>\n",
       "      <td>55.648904</td>\n",
       "      <td>54.883221</td>\n",
       "      <td>-0.765683</td>\n",
       "    </tr>\n",
       "    <tr>\n",
       "      <th>4287</th>\n",
       "      <td>Case30</td>\n",
       "      <td>PTV CHEST</td>\n",
       "      <td>D95%</td>\n",
       "      <td>56.172306</td>\n",
       "      <td>51.618767</td>\n",
       "      <td>-4.553539</td>\n",
       "    </tr>\n",
       "    <tr>\n",
       "      <th>4740</th>\n",
       "      <td>Case31</td>\n",
       "      <td>PTV CHEST</td>\n",
       "      <td>D0.1CC</td>\n",
       "      <td>72.846993</td>\n",
       "      <td>74.024337</td>\n",
       "      <td>1.177344</td>\n",
       "    </tr>\n",
       "    <tr>\n",
       "      <th>3966</th>\n",
       "      <td>Case25</td>\n",
       "      <td>Trachea</td>\n",
       "      <td>D0.1CC</td>\n",
       "      <td>15.948424</td>\n",
       "      <td>69.349889</td>\n",
       "      <td>53.401465</td>\n",
       "    </tr>\n",
       "    <tr>\n",
       "      <th>3458</th>\n",
       "      <td>Case22</td>\n",
       "      <td>Liver</td>\n",
       "      <td>D50%</td>\n",
       "      <td>1.250632</td>\n",
       "      <td>1.294880</td>\n",
       "      <td>0.044248</td>\n",
       "    </tr>\n",
       "    <tr>\n",
       "      <th>4196</th>\n",
       "      <td>Case25</td>\n",
       "      <td>Liver</td>\n",
       "      <td>D50%</td>\n",
       "      <td>6.847959</td>\n",
       "      <td>6.713133</td>\n",
       "      <td>-0.134825</td>\n",
       "    </tr>\n",
       "    <tr>\n",
       "      <th>1122</th>\n",
       "      <td>Case12</td>\n",
       "      <td>L Brachial plex</td>\n",
       "      <td>D0.1CC</td>\n",
       "      <td>0.108812</td>\n",
       "      <td>74.346465</td>\n",
       "      <td>74.237653</td>\n",
       "    </tr>\n",
       "    <tr>\n",
       "      <th>3912</th>\n",
       "      <td>Case25</td>\n",
       "      <td>L Brachial plex</td>\n",
       "      <td>D0.1CC</td>\n",
       "      <td>0.054618</td>\n",
       "      <td>63.428739</td>\n",
       "      <td>63.374121</td>\n",
       "    </tr>\n",
       "    <tr>\n",
       "      <th>4650</th>\n",
       "      <td>Case31</td>\n",
       "      <td>L Brachial plex</td>\n",
       "      <td>D0.1CC</td>\n",
       "      <td>0.109680</td>\n",
       "      <td>77.576481</td>\n",
       "      <td>77.466802</td>\n",
       "    </tr>\n",
       "    <tr>\n",
       "      <th>222</th>\n",
       "      <td>Case1</td>\n",
       "      <td>R Brachial plex</td>\n",
       "      <td>D0.1CC</td>\n",
       "      <td>0.324991</td>\n",
       "      <td>65.801627</td>\n",
       "      <td>65.476636</td>\n",
       "    </tr>\n",
       "    <tr>\n",
       "      <th>2814</th>\n",
       "      <td>Case17</td>\n",
       "      <td>R Brachial plex</td>\n",
       "      <td>D0.1CC</td>\n",
       "      <td>0.435957</td>\n",
       "      <td>48.809596</td>\n",
       "      <td>48.373640</td>\n",
       "    </tr>\n",
       "  </tbody>\n",
       "</table>\n",
       "</div>"
      ],
      "text/plain": [
       "        Case        structure  metric        AAA         Dm       diff\n",
       "489    Case5        PTV CHEST    D95%  55.648904  54.883221  -0.765683\n",
       "4287  Case30        PTV CHEST    D95%  56.172306  51.618767  -4.553539\n",
       "4740  Case31        PTV CHEST  D0.1CC  72.846993  74.024337   1.177344\n",
       "3966  Case25          Trachea  D0.1CC  15.948424  69.349889  53.401465\n",
       "3458  Case22            Liver    D50%   1.250632   1.294880   0.044248\n",
       "4196  Case25            Liver    D50%   6.847959   6.713133  -0.134825\n",
       "1122  Case12  L Brachial plex  D0.1CC   0.108812  74.346465  74.237653\n",
       "3912  Case25  L Brachial plex  D0.1CC   0.054618  63.428739  63.374121\n",
       "4650  Case31  L Brachial plex  D0.1CC   0.109680  77.576481  77.466802\n",
       "222    Case1  R Brachial plex  D0.1CC   0.324991  65.801627  65.476636\n",
       "2814  Case17  R Brachial plex  D0.1CC   0.435957  48.809596  48.373640"
      ]
     },
     "execution_count": 454,
     "metadata": {},
     "output_type": "execute_result"
    }
   ],
   "source": [
    "failures = PTV_D95_fail\n",
    "failures = failures.append(PTV_D01CC_fail)\n",
    "failures = failures.append(Trachea_D01CC_fail)\n",
    "failures = failures.append(Liver_D50_fail)\n",
    "failures = failures.append(LBrachial_D01CC_fail)\n",
    "failures = failures.append(RBrachial_D01CC_fail)\n",
    "\n",
    "print(failures.Case.unique().size)\n",
    "failures"
   ]
  },
  {
   "cell_type": "markdown",
   "metadata": {},
   "source": [
    "# How do the metrics compare for PTV? Extract difference (%) by metric for PTV"
   ]
  },
  {
   "cell_type": "code",
   "execution_count": 130,
   "metadata": {
    "collapsed": false
   },
   "outputs": [],
   "source": [
    "d_PTV =  d[d['structure']  == 'PTV CHEST'].groupby(['metric'])\n",
    "d_PTV = d_PTV.diff.mean()  # get mean diff values\n",
    "# d_PTV.sort_values(ascending=False) #d_PTV.groups.keys()"
   ]
  },
  {
   "cell_type": "code",
   "execution_count": 131,
   "metadata": {
    "collapsed": false
   },
   "outputs": [],
   "source": [
    "# d_PTV.sort_values(ascending=False).plot(kind='bar', figsize=(8,6))"
   ]
  },
  {
   "cell_type": "code",
   "execution_count": 85,
   "metadata": {
    "collapsed": false
   },
   "outputs": [
    {
     "data": {
      "image/png": "[encoded data removed]",
      "text/plain": [
       "<matplotlib.figure.Figure at 0x1093ce860>"
      ]
     },
     "metadata": {},
     "output_type": "display_data"
    }
   ],
   "source": [
    "fig = plt.figure(figsize=(8, 6))\n",
    "structure = 'PTV CHEST'\n",
    "metric = 'D1CC'\n",
    "bland_altman_plot(query_data('Dm', structure, metric), query_data('AAA',structure, metric), structure, metric)\n",
    "plt.show()"
   ]
  },
  {
   "cell_type": "markdown",
   "metadata": {},
   "source": [
    "Histograms of data PTV data"
   ]
  },
  {
   "cell_type": "code",
   "execution_count": 86,
   "metadata": {
    "collapsed": false
   },
   "outputs": [
    {
     "name": "stderr",
     "output_type": "stream",
     "text": [
      "/Users/robincole/anaconda3/lib/python3.5/site-packages/statsmodels/nonparametric/kdetools.py:20: VisibleDeprecationWarning: using a non-integer number instead of an integer will result in an error in the future\n",
      "  y = X[:m/2+1] + np.r_[0,X[m/2+1:],0]*1j\n"
     ]
    },
    {
     "data": {
      "image/png": "[encoded data removed]",
      "text/plain": [
       "<matplotlib.figure.Figure at 0x116651748>"
      ]
     },
     "metadata": {},
     "output_type": "display_data"
    }
   ],
   "source": [
    "#ax2 = sns.distplot(query_data('diff', 'PTV CHEST', 'D50%'))   # quick test\n",
    "\n",
    "fig = plt.figure(figsize=(6, 4))\n",
    "data=query_data('diff', 'PTV CHEST', 'D50%')\n",
    "\n",
    "# plt.subplot(1, 2, 1)\n",
    "ax2 = sns.distplot(data)\n",
    "\n",
    "#plt.subplot(1, 2, 2)\n",
    "#ax = sns.violinplot(data)  "
   ]
  },
  {
   "cell_type": "code",
   "execution_count": 122,
   "metadata": {
    "collapsed": false
   },
   "outputs": [],
   "source": [
    "data=query_data('diff', 'PTV CHEST', 'D50%')\n",
    "# ax = sns.violinplot(data)  "
   ]
  },
  {
   "cell_type": "markdown",
   "metadata": {},
   "source": [
    "# Extract stats grouped by structure for D50% metric"
   ]
  },
  {
   "cell_type": "code",
   "execution_count": 222,
   "metadata": {
    "collapsed": false
   },
   "outputs": [
    {
     "data": {
      "text/html": [
       "<div>\n",
       "<table border=\"1\" class=\"dataframe\">\n",
       "  <thead>\n",
       "    <tr>\n",
       "      <th></th>\n",
       "      <th colspan=\"5\" halign=\"left\">diff</th>\n",
       "      <th colspan=\"5\" halign=\"left\">AAA</th>\n",
       "      <th colspan=\"5\" halign=\"left\">Dm</th>\n",
       "    </tr>\n",
       "    <tr>\n",
       "      <th></th>\n",
       "      <th>Max</th>\n",
       "      <th>Mean</th>\n",
       "      <th>SEM</th>\n",
       "      <th>Counts</th>\n",
       "      <th>Variance</th>\n",
       "      <th>Max</th>\n",
       "      <th>Mean</th>\n",
       "      <th>SEM</th>\n",
       "      <th>Counts</th>\n",
       "      <th>Variance</th>\n",
       "      <th>Max</th>\n",
       "      <th>Mean</th>\n",
       "      <th>SEM</th>\n",
       "      <th>Counts</th>\n",
       "      <th>Variance</th>\n",
       "    </tr>\n",
       "    <tr>\n",
       "      <th>structure</th>\n",
       "      <th></th>\n",
       "      <th></th>\n",
       "      <th></th>\n",
       "      <th></th>\n",
       "      <th></th>\n",
       "      <th></th>\n",
       "      <th></th>\n",
       "      <th></th>\n",
       "      <th></th>\n",
       "      <th></th>\n",
       "      <th></th>\n",
       "      <th></th>\n",
       "      <th></th>\n",
       "      <th></th>\n",
       "      <th></th>\n",
       "    </tr>\n",
       "  </thead>\n",
       "  <tbody>\n",
       "    <tr>\n",
       "      <th>Airway avoidance</th>\n",
       "      <td>0.053335</td>\n",
       "      <td>-0.018405</td>\n",
       "      <td>0.009802</td>\n",
       "      <td>14</td>\n",
       "      <td>0.001345</td>\n",
       "      <td>4.294166</td>\n",
       "      <td>1.661559</td>\n",
       "      <td>0.365226</td>\n",
       "      <td>14</td>\n",
       "      <td>1.867464</td>\n",
       "      <td>4.298916</td>\n",
       "      <td>1.643154</td>\n",
       "      <td>0.363410</td>\n",
       "      <td>14</td>\n",
       "      <td>1.848932</td>\n",
       "    </tr>\n",
       "    <tr>\n",
       "      <th>BODY</th>\n",
       "      <td>0.011675</td>\n",
       "      <td>-0.003599</td>\n",
       "      <td>0.004211</td>\n",
       "      <td>14</td>\n",
       "      <td>0.000248</td>\n",
       "      <td>0.795144</td>\n",
       "      <td>0.246105</td>\n",
       "      <td>0.052294</td>\n",
       "      <td>14</td>\n",
       "      <td>0.038285</td>\n",
       "      <td>0.773711</td>\n",
       "      <td>0.242507</td>\n",
       "      <td>0.049460</td>\n",
       "      <td>14</td>\n",
       "      <td>0.034247</td>\n",
       "    </tr>\n",
       "    <tr>\n",
       "      <th>Body</th>\n",
       "      <td>0.001679</td>\n",
       "      <td>0.001679</td>\n",
       "      <td>NaN</td>\n",
       "      <td>1</td>\n",
       "      <td>NaN</td>\n",
       "      <td>0.195553</td>\n",
       "      <td>0.195553</td>\n",
       "      <td>NaN</td>\n",
       "      <td>1</td>\n",
       "      <td>NaN</td>\n",
       "      <td>0.197232</td>\n",
       "      <td>0.197232</td>\n",
       "      <td>NaN</td>\n",
       "      <td>1</td>\n",
       "      <td>NaN</td>\n",
       "    </tr>\n",
       "    <tr>\n",
       "      <th>Both Lungs</th>\n",
       "      <td>0.014224</td>\n",
       "      <td>-0.008474</td>\n",
       "      <td>0.013606</td>\n",
       "      <td>5</td>\n",
       "      <td>0.000926</td>\n",
       "      <td>0.843066</td>\n",
       "      <td>0.556355</td>\n",
       "      <td>0.077298</td>\n",
       "      <td>5</td>\n",
       "      <td>0.029875</td>\n",
       "      <td>0.853047</td>\n",
       "      <td>0.547881</td>\n",
       "      <td>0.085220</td>\n",
       "      <td>5</td>\n",
       "      <td>0.036312</td>\n",
       "    </tr>\n",
       "    <tr>\n",
       "      <th>Both Lungs-ITV</th>\n",
       "      <td>0.032892</td>\n",
       "      <td>-0.018235</td>\n",
       "      <td>0.010556</td>\n",
       "      <td>15</td>\n",
       "      <td>0.001672</td>\n",
       "      <td>1.988173</td>\n",
       "      <td>0.792836</td>\n",
       "      <td>0.134915</td>\n",
       "      <td>15</td>\n",
       "      <td>0.273032</td>\n",
       "      <td>2.021065</td>\n",
       "      <td>0.774601</td>\n",
       "      <td>0.134855</td>\n",
       "      <td>15</td>\n",
       "      <td>0.272787</td>\n",
       "    </tr>\n",
       "    <tr>\n",
       "      <th>Bronchial tree</th>\n",
       "      <td>0.128285</td>\n",
       "      <td>0.007682</td>\n",
       "      <td>0.016811</td>\n",
       "      <td>15</td>\n",
       "      <td>0.004239</td>\n",
       "      <td>8.439325</td>\n",
       "      <td>2.945618</td>\n",
       "      <td>0.671913</td>\n",
       "      <td>15</td>\n",
       "      <td>6.772002</td>\n",
       "      <td>8.483425</td>\n",
       "      <td>2.953300</td>\n",
       "      <td>0.675810</td>\n",
       "      <td>15</td>\n",
       "      <td>6.850791</td>\n",
       "    </tr>\n",
       "    <tr>\n",
       "      <th>Foramen</th>\n",
       "      <td>0.025543</td>\n",
       "      <td>-0.071230</td>\n",
       "      <td>0.020161</td>\n",
       "      <td>15</td>\n",
       "      <td>0.006097</td>\n",
       "      <td>5.667792</td>\n",
       "      <td>1.392521</td>\n",
       "      <td>0.428487</td>\n",
       "      <td>15</td>\n",
       "      <td>2.754010</td>\n",
       "      <td>5.487468</td>\n",
       "      <td>1.321290</td>\n",
       "      <td>0.412565</td>\n",
       "      <td>15</td>\n",
       "      <td>2.553143</td>\n",
       "    </tr>\n",
       "    <tr>\n",
       "      <th>Foramen+3mm</th>\n",
       "      <td>0.024562</td>\n",
       "      <td>-0.071668</td>\n",
       "      <td>0.022756</td>\n",
       "      <td>18</td>\n",
       "      <td>0.009321</td>\n",
       "      <td>4.790450</td>\n",
       "      <td>1.240382</td>\n",
       "      <td>0.289303</td>\n",
       "      <td>18</td>\n",
       "      <td>1.506528</td>\n",
       "      <td>4.546625</td>\n",
       "      <td>1.168714</td>\n",
       "      <td>0.270867</td>\n",
       "      <td>18</td>\n",
       "      <td>1.320639</td>\n",
       "    </tr>\n",
       "    <tr>\n",
       "      <th>GTV</th>\n",
       "      <td>-0.900259</td>\n",
       "      <td>-0.900259</td>\n",
       "      <td>NaN</td>\n",
       "      <td>1</td>\n",
       "      <td>NaN</td>\n",
       "      <td>68.431595</td>\n",
       "      <td>68.431595</td>\n",
       "      <td>NaN</td>\n",
       "      <td>1</td>\n",
       "      <td>NaN</td>\n",
       "      <td>67.531335</td>\n",
       "      <td>67.531335</td>\n",
       "      <td>NaN</td>\n",
       "      <td>1</td>\n",
       "      <td>NaN</td>\n",
       "    </tr>\n",
       "    <tr>\n",
       "      <th>Great vessels</th>\n",
       "      <td>-0.049074</td>\n",
       "      <td>-0.049074</td>\n",
       "      <td>NaN</td>\n",
       "      <td>1</td>\n",
       "      <td>NaN</td>\n",
       "      <td>5.791010</td>\n",
       "      <td>5.791010</td>\n",
       "      <td>NaN</td>\n",
       "      <td>1</td>\n",
       "      <td>NaN</td>\n",
       "      <td>5.741936</td>\n",
       "      <td>5.741936</td>\n",
       "      <td>NaN</td>\n",
       "      <td>1</td>\n",
       "      <td>NaN</td>\n",
       "    </tr>\n",
       "    <tr>\n",
       "      <th>Heart</th>\n",
       "      <td>0.050727</td>\n",
       "      <td>-0.006242</td>\n",
       "      <td>0.009650</td>\n",
       "      <td>15</td>\n",
       "      <td>0.001397</td>\n",
       "      <td>4.147895</td>\n",
       "      <td>1.168729</td>\n",
       "      <td>0.349251</td>\n",
       "      <td>15</td>\n",
       "      <td>1.829647</td>\n",
       "      <td>4.101507</td>\n",
       "      <td>1.162487</td>\n",
       "      <td>0.343459</td>\n",
       "      <td>15</td>\n",
       "      <td>1.769466</td>\n",
       "    </tr>\n",
       "    <tr>\n",
       "      <th>ITV</th>\n",
       "      <td>1.828439</td>\n",
       "      <td>0.568196</td>\n",
       "      <td>0.195352</td>\n",
       "      <td>14</td>\n",
       "      <td>0.534273</td>\n",
       "      <td>72.625746</td>\n",
       "      <td>69.349294</td>\n",
       "      <td>0.451874</td>\n",
       "      <td>14</td>\n",
       "      <td>2.858661</td>\n",
       "      <td>74.081748</td>\n",
       "      <td>69.917490</td>\n",
       "      <td>0.576427</td>\n",
       "      <td>14</td>\n",
       "      <td>4.651752</td>\n",
       "    </tr>\n",
       "    <tr>\n",
       "      <th>Inner Ring</th>\n",
       "      <td>0.567988</td>\n",
       "      <td>0.283500</td>\n",
       "      <td>0.090871</td>\n",
       "      <td>6</td>\n",
       "      <td>0.049546</td>\n",
       "      <td>21.765047</td>\n",
       "      <td>17.985849</td>\n",
       "      <td>1.329992</td>\n",
       "      <td>6</td>\n",
       "      <td>10.613276</td>\n",
       "      <td>21.954055</td>\n",
       "      <td>18.269349</td>\n",
       "      <td>1.256063</td>\n",
       "      <td>6</td>\n",
       "      <td>9.466169</td>\n",
       "    </tr>\n",
       "    <tr>\n",
       "      <th>L Brachial plex</th>\n",
       "      <td>39.023162</td>\n",
       "      <td>4.801599</td>\n",
       "      <td>3.137878</td>\n",
       "      <td>14</td>\n",
       "      <td>137.847887</td>\n",
       "      <td>21.577226</td>\n",
       "      <td>3.273389</td>\n",
       "      <td>2.023029</td>\n",
       "      <td>14</td>\n",
       "      <td>57.297075</td>\n",
       "      <td>39.105000</td>\n",
       "      <td>8.074987</td>\n",
       "      <td>3.523100</td>\n",
       "      <td>14</td>\n",
       "      <td>173.771258</td>\n",
       "    </tr>\n",
       "    <tr>\n",
       "      <th>Liver</th>\n",
       "      <td>0.044248</td>\n",
       "      <td>-0.045289</td>\n",
       "      <td>0.089537</td>\n",
       "      <td>2</td>\n",
       "      <td>0.016034</td>\n",
       "      <td>6.847959</td>\n",
       "      <td>4.049296</td>\n",
       "      <td>2.798663</td>\n",
       "      <td>2</td>\n",
       "      <td>15.665031</td>\n",
       "      <td>6.713133</td>\n",
       "      <td>4.004007</td>\n",
       "      <td>2.709127</td>\n",
       "      <td>2</td>\n",
       "      <td>14.678734</td>\n",
       "    </tr>\n",
       "    <tr>\n",
       "      <th>Lt_Lung</th>\n",
       "      <td>0.012416</td>\n",
       "      <td>-0.036095</td>\n",
       "      <td>0.008498</td>\n",
       "      <td>15</td>\n",
       "      <td>0.001083</td>\n",
       "      <td>4.591914</td>\n",
       "      <td>1.169032</td>\n",
       "      <td>0.296343</td>\n",
       "      <td>15</td>\n",
       "      <td>1.317291</td>\n",
       "      <td>4.580203</td>\n",
       "      <td>1.132937</td>\n",
       "      <td>0.298663</td>\n",
       "      <td>15</td>\n",
       "      <td>1.337993</td>\n",
       "    </tr>\n",
       "    <tr>\n",
       "      <th>Oesophagus</th>\n",
       "      <td>0.032761</td>\n",
       "      <td>-0.025135</td>\n",
       "      <td>0.023482</td>\n",
       "      <td>15</td>\n",
       "      <td>0.008271</td>\n",
       "      <td>10.879130</td>\n",
       "      <td>1.225376</td>\n",
       "      <td>0.696510</td>\n",
       "      <td>15</td>\n",
       "      <td>7.276896</td>\n",
       "      <td>10.533275</td>\n",
       "      <td>1.200241</td>\n",
       "      <td>0.673306</td>\n",
       "      <td>15</td>\n",
       "      <td>6.800107</td>\n",
       "    </tr>\n",
       "    <tr>\n",
       "      <th>PTV CHEST</th>\n",
       "      <td>1.697743</td>\n",
       "      <td>0.235042</td>\n",
       "      <td>0.265863</td>\n",
       "      <td>15</td>\n",
       "      <td>1.060251</td>\n",
       "      <td>67.930126</td>\n",
       "      <td>64.181438</td>\n",
       "      <td>0.626077</td>\n",
       "      <td>15</td>\n",
       "      <td>5.879579</td>\n",
       "      <td>67.877931</td>\n",
       "      <td>64.416480</td>\n",
       "      <td>0.776112</td>\n",
       "      <td>15</td>\n",
       "      <td>9.035240</td>\n",
       "    </tr>\n",
       "    <tr>\n",
       "      <th>PTV ring 2-3cm</th>\n",
       "      <td>0.763267</td>\n",
       "      <td>0.201877</td>\n",
       "      <td>0.086762</td>\n",
       "      <td>15</td>\n",
       "      <td>0.112914</td>\n",
       "      <td>15.764528</td>\n",
       "      <td>8.967465</td>\n",
       "      <td>0.926378</td>\n",
       "      <td>15</td>\n",
       "      <td>12.872642</td>\n",
       "      <td>15.694038</td>\n",
       "      <td>9.169342</td>\n",
       "      <td>0.898065</td>\n",
       "      <td>15</td>\n",
       "      <td>12.097813</td>\n",
       "    </tr>\n",
       "    <tr>\n",
       "      <th>R Brachial plex</th>\n",
       "      <td>18.718139</td>\n",
       "      <td>1.258501</td>\n",
       "      <td>1.247171</td>\n",
       "      <td>15</td>\n",
       "      <td>23.331538</td>\n",
       "      <td>5.845632</td>\n",
       "      <td>0.565016</td>\n",
       "      <td>0.380031</td>\n",
       "      <td>15</td>\n",
       "      <td>2.166352</td>\n",
       "      <td>18.756899</td>\n",
       "      <td>1.823518</td>\n",
       "      <td>1.269077</td>\n",
       "      <td>15</td>\n",
       "      <td>24.158341</td>\n",
       "    </tr>\n",
       "    <tr>\n",
       "      <th>Ribs</th>\n",
       "      <td>0.181102</td>\n",
       "      <td>-0.058496</td>\n",
       "      <td>0.027261</td>\n",
       "      <td>15</td>\n",
       "      <td>0.011147</td>\n",
       "      <td>9.600965</td>\n",
       "      <td>2.578380</td>\n",
       "      <td>0.686950</td>\n",
       "      <td>15</td>\n",
       "      <td>7.078502</td>\n",
       "      <td>9.410840</td>\n",
       "      <td>2.519884</td>\n",
       "      <td>0.674549</td>\n",
       "      <td>15</td>\n",
       "      <td>6.825241</td>\n",
       "    </tr>\n",
       "    <tr>\n",
       "      <th>Ribs-PTV</th>\n",
       "      <td>0.015631</td>\n",
       "      <td>-0.040976</td>\n",
       "      <td>0.015306</td>\n",
       "      <td>13</td>\n",
       "      <td>0.003046</td>\n",
       "      <td>9.466300</td>\n",
       "      <td>1.378963</td>\n",
       "      <td>0.676943</td>\n",
       "      <td>13</td>\n",
       "      <td>5.957269</td>\n",
       "      <td>9.264123</td>\n",
       "      <td>1.337987</td>\n",
       "      <td>0.663909</td>\n",
       "      <td>13</td>\n",
       "      <td>5.730070</td>\n",
       "    </tr>\n",
       "    <tr>\n",
       "      <th>Rt_Lung</th>\n",
       "      <td>0.006038</td>\n",
       "      <td>-0.029733</td>\n",
       "      <td>0.010315</td>\n",
       "      <td>15</td>\n",
       "      <td>0.001596</td>\n",
       "      <td>4.139474</td>\n",
       "      <td>0.958990</td>\n",
       "      <td>0.269728</td>\n",
       "      <td>15</td>\n",
       "      <td>1.091298</td>\n",
       "      <td>4.097780</td>\n",
       "      <td>0.929257</td>\n",
       "      <td>0.265962</td>\n",
       "      <td>15</td>\n",
       "      <td>1.061037</td>\n",
       "    </tr>\n",
       "    <tr>\n",
       "      <th>Skin</th>\n",
       "      <td>-0.002897</td>\n",
       "      <td>-0.025002</td>\n",
       "      <td>0.004431</td>\n",
       "      <td>14</td>\n",
       "      <td>0.000275</td>\n",
       "      <td>0.379267</td>\n",
       "      <td>0.170202</td>\n",
       "      <td>0.023655</td>\n",
       "      <td>14</td>\n",
       "      <td>0.007834</td>\n",
       "      <td>0.361622</td>\n",
       "      <td>0.145200</td>\n",
       "      <td>0.021463</td>\n",
       "      <td>14</td>\n",
       "      <td>0.006449</td>\n",
       "    </tr>\n",
       "    <tr>\n",
       "      <th>Skin-PTV+2cm</th>\n",
       "      <td>0.019201</td>\n",
       "      <td>-0.001662</td>\n",
       "      <td>0.006728</td>\n",
       "      <td>6</td>\n",
       "      <td>0.000272</td>\n",
       "      <td>0.248402</td>\n",
       "      <td>0.142941</td>\n",
       "      <td>0.024418</td>\n",
       "      <td>6</td>\n",
       "      <td>0.003578</td>\n",
       "      <td>0.233173</td>\n",
       "      <td>0.141279</td>\n",
       "      <td>0.020505</td>\n",
       "      <td>6</td>\n",
       "      <td>0.002523</td>\n",
       "    </tr>\n",
       "    <tr>\n",
       "      <th>Trachea</th>\n",
       "      <td>0.067776</td>\n",
       "      <td>-0.000304</td>\n",
       "      <td>0.007223</td>\n",
       "      <td>15</td>\n",
       "      <td>0.000783</td>\n",
       "      <td>7.594444</td>\n",
       "      <td>0.919143</td>\n",
       "      <td>0.516068</td>\n",
       "      <td>15</td>\n",
       "      <td>3.994892</td>\n",
       "      <td>7.546036</td>\n",
       "      <td>0.918839</td>\n",
       "      <td>0.512544</td>\n",
       "      <td>15</td>\n",
       "      <td>3.940523</td>\n",
       "    </tr>\n",
       "  </tbody>\n",
       "</table>\n",
       "</div>"
      ],
      "text/plain": [
       "                       diff                                               AAA  \\\n",
       "                        Max      Mean       SEM Counts    Variance        Max   \n",
       "structure                                                                       \n",
       "Airway avoidance   0.053335 -0.018405  0.009802     14    0.001345   4.294166   \n",
       "BODY               0.011675 -0.003599  0.004211     14    0.000248   0.795144   \n",
       "Body               0.001679  0.001679       NaN      1         NaN   0.195553   \n",
       "Both Lungs         0.014224 -0.008474  0.013606      5    0.000926   0.843066   \n",
       "Both Lungs-ITV     0.032892 -0.018235  0.010556     15    0.001672   1.988173   \n",
       "Bronchial tree     0.128285  0.007682  0.016811     15    0.004239   8.439325   \n",
       "Foramen            0.025543 -0.071230  0.020161     15    0.006097   5.667792   \n",
       "Foramen+3mm        0.024562 -0.071668  0.022756     18    0.009321   4.790450   \n",
       "GTV               -0.900259 -0.900259       NaN      1         NaN  68.431595   \n",
       "Great vessels     -0.049074 -0.049074       NaN      1         NaN   5.791010   \n",
       "Heart              0.050727 -0.006242  0.009650     15    0.001397   4.147895   \n",
       "ITV                1.828439  0.568196  0.195352     14    0.534273  72.625746   \n",
       "Inner Ring         0.567988  0.283500  0.090871      6    0.049546  21.765047   \n",
       "L Brachial plex   39.023162  4.801599  3.137878     14  137.847887  21.577226   \n",
       "Liver              0.044248 -0.045289  0.089537      2    0.016034   6.847959   \n",
       "Lt_Lung            0.012416 -0.036095  0.008498     15    0.001083   4.591914   \n",
       "Oesophagus         0.032761 -0.025135  0.023482     15    0.008271  10.879130   \n",
       "PTV CHEST          1.697743  0.235042  0.265863     15    1.060251  67.930126   \n",
       "PTV ring 2-3cm     0.763267  0.201877  0.086762     15    0.112914  15.764528   \n",
       "R Brachial plex   18.718139  1.258501  1.247171     15   23.331538   5.845632   \n",
       "Ribs               0.181102 -0.058496  0.027261     15    0.011147   9.600965   \n",
       "Ribs-PTV           0.015631 -0.040976  0.015306     13    0.003046   9.466300   \n",
       "Rt_Lung            0.006038 -0.029733  0.010315     15    0.001596   4.139474   \n",
       "Skin              -0.002897 -0.025002  0.004431     14    0.000275   0.379267   \n",
       "Skin-PTV+2cm       0.019201 -0.001662  0.006728      6    0.000272   0.248402   \n",
       "Trachea            0.067776 -0.000304  0.007223     15    0.000783   7.594444   \n",
       "\n",
       "                                                                Dm             \\\n",
       "                       Mean       SEM Counts   Variance        Max       Mean   \n",
       "structure                                                                       \n",
       "Airway avoidance   1.661559  0.365226     14   1.867464   4.298916   1.643154   \n",
       "BODY               0.246105  0.052294     14   0.038285   0.773711   0.242507   \n",
       "Body               0.195553       NaN      1        NaN   0.197232   0.197232   \n",
       "Both Lungs         0.556355  0.077298      5   0.029875   0.853047   0.547881   \n",
       "Both Lungs-ITV     0.792836  0.134915     15   0.273032   2.021065   0.774601   \n",
       "Bronchial tree     2.945618  0.671913     15   6.772002   8.483425   2.953300   \n",
       "Foramen            1.392521  0.428487     15   2.754010   5.487468   1.321290   \n",
       "Foramen+3mm        1.240382  0.289303     18   1.506528   4.546625   1.168714   \n",
       "GTV               68.431595       NaN      1        NaN  67.531335  67.531335   \n",
       "Great vessels      5.791010       NaN      1        NaN   5.741936   5.741936   \n",
       "Heart              1.168729  0.349251     15   1.829647   4.101507   1.162487   \n",
       "ITV               69.349294  0.451874     14   2.858661  74.081748  69.917490   \n",
       "Inner Ring        17.985849  1.329992      6  10.613276  21.954055  18.269349   \n",
       "L Brachial plex    3.273389  2.023029     14  57.297075  39.105000   8.074987   \n",
       "Liver              4.049296  2.798663      2  15.665031   6.713133   4.004007   \n",
       "Lt_Lung            1.169032  0.296343     15   1.317291   4.580203   1.132937   \n",
       "Oesophagus         1.225376  0.696510     15   7.276896  10.533275   1.200241   \n",
       "PTV CHEST         64.181438  0.626077     15   5.879579  67.877931  64.416480   \n",
       "PTV ring 2-3cm     8.967465  0.926378     15  12.872642  15.694038   9.169342   \n",
       "R Brachial plex    0.565016  0.380031     15   2.166352  18.756899   1.823518   \n",
       "Ribs               2.578380  0.686950     15   7.078502   9.410840   2.519884   \n",
       "Ribs-PTV           1.378963  0.676943     13   5.957269   9.264123   1.337987   \n",
       "Rt_Lung            0.958990  0.269728     15   1.091298   4.097780   0.929257   \n",
       "Skin               0.170202  0.023655     14   0.007834   0.361622   0.145200   \n",
       "Skin-PTV+2cm       0.142941  0.024418      6   0.003578   0.233173   0.141279   \n",
       "Trachea            0.919143  0.516068     15   3.994892   7.546036   0.918839   \n",
       "\n",
       "                                               \n",
       "                       SEM Counts    Variance  \n",
       "structure                                      \n",
       "Airway avoidance  0.363410     14    1.848932  \n",
       "BODY              0.049460     14    0.034247  \n",
       "Body                   NaN      1         NaN  \n",
       "Both Lungs        0.085220      5    0.036312  \n",
       "Both Lungs-ITV    0.134855     15    0.272787  \n",
       "Bronchial tree    0.675810     15    6.850791  \n",
       "Foramen           0.412565     15    2.553143  \n",
       "Foramen+3mm       0.270867     18    1.320639  \n",
       "GTV                    NaN      1         NaN  \n",
       "Great vessels          NaN      1         NaN  \n",
       "Heart             0.343459     15    1.769466  \n",
       "ITV               0.576427     14    4.651752  \n",
       "Inner Ring        1.256063      6    9.466169  \n",
       "L Brachial plex   3.523100     14  173.771258  \n",
       "Liver             2.709127      2   14.678734  \n",
       "Lt_Lung           0.298663     15    1.337993  \n",
       "Oesophagus        0.673306     15    6.800107  \n",
       "PTV CHEST         0.776112     15    9.035240  \n",
       "PTV ring 2-3cm    0.898065     15   12.097813  \n",
       "R Brachial plex   1.269077     15   24.158341  \n",
       "Ribs              0.674549     15    6.825241  \n",
       "Ribs-PTV          0.663909     13    5.730070  \n",
       "Rt_Lung           0.265962     15    1.061037  \n",
       "Skin              0.021463     14    0.006449  \n",
       "Skin-PTV+2cm      0.020505      6    0.002523  \n",
       "Trachea           0.512544     15    3.940523  "
      ]
     },
     "execution_count": 222,
     "metadata": {},
     "output_type": "execute_result"
    }
   ],
   "source": [
    "stats = {  'Mean' : 'mean', 'Variance':'var', 'SEM':'sem', 'Counts':'count', 'Max':'max'} \n",
    "\n",
    "aggregations = {'diff': stats, 'AAA': stats, 'Dm': stats}  # \n",
    "\n",
    "res_table = d[d['metric']  == 'D50%'].groupby(['structure']).agg(aggregations)   # returns a heirachial dataframe\n",
    "res_table"
   ]
  },
  {
   "cell_type": "code",
   "execution_count": 239,
   "metadata": {
    "collapsed": false
   },
   "outputs": [
    {
     "data": {
      "text/plain": [
       "structure\n",
       "Airway avoidance     0.053335\n",
       "BODY                 0.011675\n",
       "Body                 0.001679\n",
       "Both Lungs           0.014224\n",
       "Both Lungs-ITV       0.032892\n",
       "Bronchial tree       0.128285\n",
       "Foramen              0.025543\n",
       "Foramen+3mm          0.024562\n",
       "GTV                 -0.900259\n",
       "Great vessels       -0.049074\n",
       "Heart                0.050727\n",
       "ITV                  1.828439\n",
       "Inner Ring           0.567988\n",
       "L Brachial plex     39.023162\n",
       "Liver                0.044248\n",
       "Lt_Lung              0.012416\n",
       "Oesophagus           0.032761\n",
       "PTV CHEST            1.697743\n",
       "PTV ring 2-3cm       0.763267\n",
       "R Brachial plex     18.718139\n",
       "Ribs                 0.181102\n",
       "Ribs-PTV             0.015631\n",
       "Rt_Lung              0.006038\n",
       "Skin                -0.002897\n",
       "Skin-PTV+2cm         0.019201\n",
       "Trachea              0.067776\n",
       "Name: Max, dtype: float64"
      ]
     },
     "execution_count": 239,
     "metadata": {},
     "output_type": "execute_result"
    }
   ],
   "source": [
    "res_table['diff']['Max']  # get only diff > Max"
   ]
  },
  {
   "cell_type": "code",
   "execution_count": 456,
   "metadata": {
    "collapsed": false
   },
   "outputs": [
    {
     "data": {
      "text/html": [
       "<div>\n",
       "<table border=\"1\" class=\"dataframe\">\n",
       "  <thead>\n",
       "    <tr>\n",
       "      <th></th>\n",
       "      <th colspan=\"5\" halign=\"left\">diff</th>\n",
       "      <th colspan=\"5\" halign=\"left\">AAA</th>\n",
       "      <th colspan=\"5\" halign=\"left\">Dm</th>\n",
       "    </tr>\n",
       "    <tr>\n",
       "      <th></th>\n",
       "      <th>Max</th>\n",
       "      <th>Mean</th>\n",
       "      <th>SEM</th>\n",
       "      <th>Counts</th>\n",
       "      <th>Variance</th>\n",
       "      <th>Max</th>\n",
       "      <th>Mean</th>\n",
       "      <th>SEM</th>\n",
       "      <th>Counts</th>\n",
       "      <th>Variance</th>\n",
       "      <th>Max</th>\n",
       "      <th>Mean</th>\n",
       "      <th>SEM</th>\n",
       "      <th>Counts</th>\n",
       "      <th>Variance</th>\n",
       "    </tr>\n",
       "    <tr>\n",
       "      <th>structure</th>\n",
       "      <th></th>\n",
       "      <th></th>\n",
       "      <th></th>\n",
       "      <th></th>\n",
       "      <th></th>\n",
       "      <th></th>\n",
       "      <th></th>\n",
       "      <th></th>\n",
       "      <th></th>\n",
       "      <th></th>\n",
       "      <th></th>\n",
       "      <th></th>\n",
       "      <th></th>\n",
       "      <th></th>\n",
       "      <th></th>\n",
       "    </tr>\n",
       "  </thead>\n",
       "  <tbody>\n",
       "    <tr>\n",
       "      <th>PTV CHEST</th>\n",
       "      <td>1.697743</td>\n",
       "      <td>0.235042</td>\n",
       "      <td>0.265863</td>\n",
       "      <td>15</td>\n",
       "      <td>1.060251</td>\n",
       "      <td>67.930126</td>\n",
       "      <td>64.181438</td>\n",
       "      <td>0.626077</td>\n",
       "      <td>15</td>\n",
       "      <td>5.879579</td>\n",
       "      <td>67.877931</td>\n",
       "      <td>64.416480</td>\n",
       "      <td>0.776112</td>\n",
       "      <td>15</td>\n",
       "      <td>9.035240</td>\n",
       "    </tr>\n",
       "    <tr>\n",
       "      <th>Foramen</th>\n",
       "      <td>0.025543</td>\n",
       "      <td>-0.071230</td>\n",
       "      <td>0.020161</td>\n",
       "      <td>15</td>\n",
       "      <td>0.006097</td>\n",
       "      <td>5.667792</td>\n",
       "      <td>1.392521</td>\n",
       "      <td>0.428487</td>\n",
       "      <td>15</td>\n",
       "      <td>2.754010</td>\n",
       "      <td>5.487468</td>\n",
       "      <td>1.321290</td>\n",
       "      <td>0.412565</td>\n",
       "      <td>15</td>\n",
       "      <td>2.553143</td>\n",
       "    </tr>\n",
       "    <tr>\n",
       "      <th>Oesophagus</th>\n",
       "      <td>0.032761</td>\n",
       "      <td>-0.025135</td>\n",
       "      <td>0.023482</td>\n",
       "      <td>15</td>\n",
       "      <td>0.008271</td>\n",
       "      <td>10.879130</td>\n",
       "      <td>1.225376</td>\n",
       "      <td>0.696510</td>\n",
       "      <td>15</td>\n",
       "      <td>7.276896</td>\n",
       "      <td>10.533275</td>\n",
       "      <td>1.200241</td>\n",
       "      <td>0.673306</td>\n",
       "      <td>15</td>\n",
       "      <td>6.800107</td>\n",
       "    </tr>\n",
       "    <tr>\n",
       "      <th>R Brachial plex</th>\n",
       "      <td>18.718139</td>\n",
       "      <td>1.258501</td>\n",
       "      <td>1.247171</td>\n",
       "      <td>15</td>\n",
       "      <td>23.331538</td>\n",
       "      <td>5.845632</td>\n",
       "      <td>0.565016</td>\n",
       "      <td>0.380031</td>\n",
       "      <td>15</td>\n",
       "      <td>2.166352</td>\n",
       "      <td>18.756899</td>\n",
       "      <td>1.823518</td>\n",
       "      <td>1.269077</td>\n",
       "      <td>15</td>\n",
       "      <td>24.158341</td>\n",
       "    </tr>\n",
       "    <tr>\n",
       "      <th>L Brachial plex</th>\n",
       "      <td>39.023162</td>\n",
       "      <td>4.801599</td>\n",
       "      <td>3.137878</td>\n",
       "      <td>14</td>\n",
       "      <td>137.847887</td>\n",
       "      <td>21.577226</td>\n",
       "      <td>3.273389</td>\n",
       "      <td>2.023029</td>\n",
       "      <td>14</td>\n",
       "      <td>57.297075</td>\n",
       "      <td>39.105000</td>\n",
       "      <td>8.074987</td>\n",
       "      <td>3.523100</td>\n",
       "      <td>14</td>\n",
       "      <td>173.771258</td>\n",
       "    </tr>\n",
       "    <tr>\n",
       "      <th>Heart</th>\n",
       "      <td>0.050727</td>\n",
       "      <td>-0.006242</td>\n",
       "      <td>0.009650</td>\n",
       "      <td>15</td>\n",
       "      <td>0.001397</td>\n",
       "      <td>4.147895</td>\n",
       "      <td>1.168729</td>\n",
       "      <td>0.349251</td>\n",
       "      <td>15</td>\n",
       "      <td>1.829647</td>\n",
       "      <td>4.101507</td>\n",
       "      <td>1.162487</td>\n",
       "      <td>0.343459</td>\n",
       "      <td>15</td>\n",
       "      <td>1.769466</td>\n",
       "    </tr>\n",
       "    <tr>\n",
       "      <th>Trachea</th>\n",
       "      <td>0.067776</td>\n",
       "      <td>-0.000304</td>\n",
       "      <td>0.007223</td>\n",
       "      <td>15</td>\n",
       "      <td>0.000783</td>\n",
       "      <td>7.594444</td>\n",
       "      <td>0.919143</td>\n",
       "      <td>0.516068</td>\n",
       "      <td>15</td>\n",
       "      <td>3.994892</td>\n",
       "      <td>7.546036</td>\n",
       "      <td>0.918839</td>\n",
       "      <td>0.512544</td>\n",
       "      <td>15</td>\n",
       "      <td>3.940523</td>\n",
       "    </tr>\n",
       "    <tr>\n",
       "      <th>Bronchial tree</th>\n",
       "      <td>0.128285</td>\n",
       "      <td>0.007682</td>\n",
       "      <td>0.016811</td>\n",
       "      <td>15</td>\n",
       "      <td>0.004239</td>\n",
       "      <td>8.439325</td>\n",
       "      <td>2.945618</td>\n",
       "      <td>0.671913</td>\n",
       "      <td>15</td>\n",
       "      <td>6.772002</td>\n",
       "      <td>8.483425</td>\n",
       "      <td>2.953300</td>\n",
       "      <td>0.675810</td>\n",
       "      <td>15</td>\n",
       "      <td>6.850791</td>\n",
       "    </tr>\n",
       "    <tr>\n",
       "      <th>Ribs</th>\n",
       "      <td>0.181102</td>\n",
       "      <td>-0.058496</td>\n",
       "      <td>0.027261</td>\n",
       "      <td>15</td>\n",
       "      <td>0.011147</td>\n",
       "      <td>9.600965</td>\n",
       "      <td>2.578380</td>\n",
       "      <td>0.686950</td>\n",
       "      <td>15</td>\n",
       "      <td>7.078502</td>\n",
       "      <td>9.410840</td>\n",
       "      <td>2.519884</td>\n",
       "      <td>0.674549</td>\n",
       "      <td>15</td>\n",
       "      <td>6.825241</td>\n",
       "    </tr>\n",
       "  </tbody>\n",
       "</table>\n",
       "</div>"
      ],
      "text/plain": [
       "                      diff                                               AAA  \\\n",
       "                       Max      Mean       SEM Counts    Variance        Max   \n",
       "structure                                                                      \n",
       "PTV CHEST         1.697743  0.235042  0.265863     15    1.060251  67.930126   \n",
       "Foramen           0.025543 -0.071230  0.020161     15    0.006097   5.667792   \n",
       "Oesophagus        0.032761 -0.025135  0.023482     15    0.008271  10.879130   \n",
       "R Brachial plex  18.718139  1.258501  1.247171     15   23.331538   5.845632   \n",
       "L Brachial plex  39.023162  4.801599  3.137878     14  137.847887  21.577226   \n",
       "Heart             0.050727 -0.006242  0.009650     15    0.001397   4.147895   \n",
       "Trachea           0.067776 -0.000304  0.007223     15    0.000783   7.594444   \n",
       "Bronchial tree    0.128285  0.007682  0.016811     15    0.004239   8.439325   \n",
       "Ribs              0.181102 -0.058496  0.027261     15    0.011147   9.600965   \n",
       "\n",
       "                                                               Dm             \\\n",
       "                      Mean       SEM Counts   Variance        Max       Mean   \n",
       "structure                                                                      \n",
       "PTV CHEST        64.181438  0.626077     15   5.879579  67.877931  64.416480   \n",
       "Foramen           1.392521  0.428487     15   2.754010   5.487468   1.321290   \n",
       "Oesophagus        1.225376  0.696510     15   7.276896  10.533275   1.200241   \n",
       "R Brachial plex   0.565016  0.380031     15   2.166352  18.756899   1.823518   \n",
       "L Brachial plex   3.273389  2.023029     14  57.297075  39.105000   8.074987   \n",
       "Heart             1.168729  0.349251     15   1.829647   4.101507   1.162487   \n",
       "Trachea           0.919143  0.516068     15   3.994892   7.546036   0.918839   \n",
       "Bronchial tree    2.945618  0.671913     15   6.772002   8.483425   2.953300   \n",
       "Ribs              2.578380  0.686950     15   7.078502   9.410840   2.519884   \n",
       "\n",
       "                                              \n",
       "                      SEM Counts    Variance  \n",
       "structure                                     \n",
       "PTV CHEST        0.776112     15    9.035240  \n",
       "Foramen          0.412565     15    2.553143  \n",
       "Oesophagus       0.673306     15    6.800107  \n",
       "R Brachial plex  1.269077     15   24.158341  \n",
       "L Brachial plex  3.523100     14  173.771258  \n",
       "Heart            0.343459     15    1.769466  \n",
       "Trachea          0.512544     15    3.940523  \n",
       "Bronchial tree   0.675810     15    6.850791  \n",
       "Ribs             0.674549     15    6.825241  "
      ]
     },
     "execution_count": 456,
     "metadata": {},
     "output_type": "execute_result"
    }
   ],
   "source": [
    "res_table.loc[constraints['structure'].unique()]"
   ]
  },
  {
   "cell_type": "code",
   "execution_count": 160,
   "metadata": {
    "collapsed": false
   },
   "outputs": [],
   "source": [
    "# d[(d['structure'] == 'PTV CHEST') & (d['metric'] == 'D50%')] "
   ]
  },
  {
   "cell_type": "markdown",
   "metadata": {},
   "source": [
    "# Mean difference grouped by structure and metric"
   ]
  },
  {
   "cell_type": "code",
   "execution_count": 161,
   "metadata": {
    "collapsed": false
   },
   "outputs": [],
   "source": [
    "res_table2 = d.groupby(['structure', 'metric'],as_index=False).mean()  # just get mean values "
   ]
  },
  {
   "cell_type": "code",
   "execution_count": 349,
   "metadata": {
    "collapsed": false
   },
   "outputs": [
    {
     "data": {
      "text/plain": [
       "Index(['Airway avoidance', 'BODY', 'Body', 'Both Lungs', 'Both Lungs-ITV',\n",
       "       'Bronchial tree', 'Foramen', 'Foramen+3mm', 'GTV', 'Great vessels',\n",
       "       'Heart', 'ITV', 'Inner Ring', 'L Brachial plex', 'Liver', 'Lt_Lung',\n",
       "       'Oesophagus', 'PTV CHEST', 'PTV ring 2-3cm', 'R Brachial plex', 'Ribs',\n",
       "       'Ribs-PTV', 'Rt_Lung', 'Skin', 'Skin-PTV+2cm', 'Trachea'],\n",
       "      dtype='object', name='structure')"
      ]
     },
     "execution_count": 349,
     "metadata": {},
     "output_type": "execute_result"
    }
   ],
   "source": [
    "mean_diff_table = res_table2.pivot(index='structure', columns='metric', values='diff')  # pivot table for diff values\n",
    "#diff_table.reset_index(level=0, inplace=True)    # must convert the index back into a column\n",
    "mean_diff_table.index\n",
    "# diff_table.loc['BODY']"
   ]
  },
  {
   "cell_type": "code",
   "execution_count": 350,
   "metadata": {
    "collapsed": false
   },
   "outputs": [
    {
     "data": {
      "text/plain": [
       "<matplotlib.text.Text at 0x127d49ac8>"
      ]
     },
     "execution_count": 350,
     "metadata": {},
     "output_type": "execute_result"
    },
    {
     "data": {
      "image/png": "[encoded data removed]",
      "text/plain": [
       "<matplotlib.figure.Figure at 0x127ca80f0>"
      ]
     },
     "metadata": {},
     "output_type": "display_data"
    }
   ],
   "source": [
    "plt.figure(figsize=(22, 8))\n",
    "ax1 = sns.heatmap(mean_diff_table, annot=True, linewidths=2.0, cbar=True)\n",
    "ax1.set_title('Mean dose differences (Gy) by structure & metrics', size='xx-large')"
   ]
  },
  {
   "cell_type": "code",
   "execution_count": 455,
   "metadata": {
    "collapsed": false
   },
   "outputs": [
    {
     "data": {
      "image/png": "[encoded data removed]",
      "text/plain": [
       "<matplotlib.figure.Figure at 0x123471eb8>"
      ]
     },
     "metadata": {},
     "output_type": "display_data"
    }
   ],
   "source": [
    "metrics_of_interest = [ 'D95%', 'D50%', 'D99%', 'D0.1CC', 'DMAX']\n",
    "structures_of_interest = constraints['structure'].unique()\n",
    "\n",
    "sub_diff_table = mean_diff_table[metrics_of_interest].loc[structures_of_interest]\n",
    "\n",
    "plt.figure(figsize=(14, 8))\n",
    "ax1 = sns.heatmap(sub_diff_table, annot=True, linewidths=2.0, cbar=True)\n",
    "ax1.set_title('Mean dose differences (Gy) by structure and metric', size='xx-large')\n",
    "plt.savefig('fig1.png', dpi=300)"
   ]
  },
  {
   "cell_type": "markdown",
   "metadata": {},
   "source": [
    "## Get wilcoxon p value of differences "
   ]
  },
  {
   "cell_type": "code",
   "execution_count": 181,
   "metadata": {
    "collapsed": false
   },
   "outputs": [],
   "source": [
    "# structures_of_interest = diff_table.index.values\n",
    "# structures_of_interest"
   ]
  },
  {
   "cell_type": "code",
   "execution_count": 182,
   "metadata": {
    "collapsed": false
   },
   "outputs": [],
   "source": [
    "i = len(structures_of_interest)\n",
    "j = len(metrics_of_interest)\n",
    "wilcox_data = np.zeros((i,j))  # init an empty array"
   ]
  },
  {
   "cell_type": "code",
   "execution_count": 183,
   "metadata": {
    "collapsed": false
   },
   "outputs": [
    {
     "name": "stderr",
     "output_type": "stream",
     "text": [
      "/Users/robincole/anaconda3/lib/python3.5/site-packages/scipy/stats/morestats.py:2384: UserWarning: Warning: sample size too small for normal approximation.\n",
      "  warnings.warn(\"Warning: sample size too small for normal approximation.\")\n"
     ]
    }
   ],
   "source": [
    "j = 0\n",
    "for structure in structures_of_interest:\n",
    "    i = 0\n",
    "    for metric in metrics_of_interest:\n",
    "        A =  d[(d['structure'] == structure) & (d['metric'] == metric)]\n",
    "        D =  A['diff']\n",
    "        wilcox_data[j][i] = my_wilcox(D.values)\n",
    "        i = i + 1\n",
    "    j = j+ 1  "
   ]
  },
  {
   "cell_type": "markdown",
   "metadata": {},
   "source": [
    "Convert to dataframe"
   ]
  },
  {
   "cell_type": "code",
   "execution_count": 184,
   "metadata": {
    "collapsed": false
   },
   "outputs": [],
   "source": [
    "wilcox_data_df = pd.DataFrame(data=wilcox_data,    # values\n",
    "...              index=structures_of_interest,    # 1st column as index\n",
    "...              columns=metrics_of_interest)  # 1st row as the column names"
   ]
  },
  {
   "cell_type": "code",
   "execution_count": 185,
   "metadata": {
    "collapsed": false
   },
   "outputs": [
    {
     "data": {
      "text/html": [
       "<div>\n",
       "<table border=\"1\" class=\"dataframe\">\n",
       "  <thead>\n",
       "    <tr style=\"text-align: right;\">\n",
       "      <th></th>\n",
       "      <th>D95%</th>\n",
       "      <th>D50%</th>\n",
       "      <th>D99%</th>\n",
       "      <th>D0.1CC</th>\n",
       "      <th>DMAX</th>\n",
       "    </tr>\n",
       "  </thead>\n",
       "  <tbody>\n",
       "    <tr>\n",
       "      <th>PTV CHEST</th>\n",
       "      <td>0.191446</td>\n",
       "      <td>0.155635</td>\n",
       "      <td>0.040888</td>\n",
       "      <td>0.046826</td>\n",
       "      <td>0.005376</td>\n",
       "    </tr>\n",
       "    <tr>\n",
       "      <th>Foramen</th>\n",
       "      <td>0.232979</td>\n",
       "      <td>0.003772</td>\n",
       "      <td>0.211476</td>\n",
       "      <td>0.000655</td>\n",
       "      <td>0.000976</td>\n",
       "    </tr>\n",
       "    <tr>\n",
       "      <th>Oesophagus</th>\n",
       "      <td>0.002162</td>\n",
       "      <td>0.394246</td>\n",
       "      <td>0.012453</td>\n",
       "      <td>0.008985</td>\n",
       "      <td>0.068476</td>\n",
       "    </tr>\n",
       "    <tr>\n",
       "      <th>R Brachial plex</th>\n",
       "      <td>0.099540</td>\n",
       "      <td>0.139756</td>\n",
       "      <td>0.078292</td>\n",
       "      <td>0.649563</td>\n",
       "      <td>0.491119</td>\n",
       "    </tr>\n",
       "    <tr>\n",
       "      <th>L Brachial plex</th>\n",
       "      <td>0.064039</td>\n",
       "      <td>0.035465</td>\n",
       "      <td>0.047990</td>\n",
       "      <td>0.509797</td>\n",
       "      <td>0.440867</td>\n",
       "    </tr>\n",
       "    <tr>\n",
       "      <th>Heart</th>\n",
       "      <td>0.012453</td>\n",
       "      <td>0.733271</td>\n",
       "      <td>0.001206</td>\n",
       "      <td>0.532130</td>\n",
       "      <td>0.826049</td>\n",
       "    </tr>\n",
       "    <tr>\n",
       "      <th>Trachea</th>\n",
       "      <td>0.334277</td>\n",
       "      <td>0.909561</td>\n",
       "      <td>0.139756</td>\n",
       "      <td>0.211476</td>\n",
       "      <td>0.562351</td>\n",
       "    </tr>\n",
       "    <tr>\n",
       "      <th>Bronchial tree</th>\n",
       "      <td>0.019878</td>\n",
       "      <td>0.690945</td>\n",
       "      <td>0.030908</td>\n",
       "      <td>0.069144</td>\n",
       "      <td>0.665896</td>\n",
       "    </tr>\n",
       "    <tr>\n",
       "      <th>Ribs</th>\n",
       "      <td>0.069144</td>\n",
       "      <td>0.040888</td>\n",
       "      <td>0.023096</td>\n",
       "      <td>0.495521</td>\n",
       "      <td>0.035193</td>\n",
       "    </tr>\n",
       "    <tr>\n",
       "      <th>Both Lungs-ITV</th>\n",
       "      <td>0.030908</td>\n",
       "      <td>0.255989</td>\n",
       "      <td>0.139756</td>\n",
       "      <td>0.001785</td>\n",
       "      <td>0.000805</td>\n",
       "    </tr>\n",
       "    <tr>\n",
       "      <th>Liver</th>\n",
       "      <td>0.654721</td>\n",
       "      <td>0.654721</td>\n",
       "      <td>0.179712</td>\n",
       "      <td>0.654721</td>\n",
       "      <td>0.179712</td>\n",
       "    </tr>\n",
       "  </tbody>\n",
       "</table>\n",
       "</div>"
      ],
      "text/plain": [
       "                     D95%      D50%      D99%    D0.1CC      DMAX\n",
       "PTV CHEST        0.191446  0.155635  0.040888  0.046826  0.005376\n",
       "Foramen          0.232979  0.003772  0.211476  0.000655  0.000976\n",
       "Oesophagus       0.002162  0.394246  0.012453  0.008985  0.068476\n",
       "R Brachial plex  0.099540  0.139756  0.078292  0.649563  0.491119\n",
       "L Brachial plex  0.064039  0.035465  0.047990  0.509797  0.440867\n",
       "Heart            0.012453  0.733271  0.001206  0.532130  0.826049\n",
       "Trachea          0.334277  0.909561  0.139756  0.211476  0.562351\n",
       "Bronchial tree   0.019878  0.690945  0.030908  0.069144  0.665896\n",
       "Ribs             0.069144  0.040888  0.023096  0.495521  0.035193\n",
       "Both Lungs-ITV   0.030908  0.255989  0.139756  0.001785  0.000805\n",
       "Liver            0.654721  0.654721  0.179712  0.654721  0.179712"
      ]
     },
     "execution_count": 185,
     "metadata": {},
     "output_type": "execute_result"
    }
   ],
   "source": [
    "wilcox_data_df"
   ]
  },
  {
   "cell_type": "code",
   "execution_count": 194,
   "metadata": {
    "collapsed": false
   },
   "outputs": [
    {
     "data": {
      "image/png": "[encoded data removed]",
      "text/plain": [
       "<matplotlib.figure.Figure at 0x11631e6a0>"
      ]
     },
     "metadata": {},
     "output_type": "display_data"
    }
   ],
   "source": [
    "confidence = 1.0\n",
    "plt.figure(figsize=(16, 8))\n",
    "ax2 = sns.heatmap(wilcox_data_df[wilcox_data_df<confidence], annot=True, linewidths=.5,  cbar=True, cmap='inferno')\n",
    "ax2.set_title('p- value for mean dose differences (Gy) by structure and metric', size='xx-large')\n",
    "plt.savefig('fig2.png', dpi=300)"
   ]
  },
  {
   "cell_type": "markdown",
   "metadata": {},
   "source": [
    "Plot dose differences where statistically significant"
   ]
  },
  {
   "cell_type": "code",
   "execution_count": 207,
   "metadata": {
    "collapsed": false
   },
   "outputs": [
    {
     "data": {
      "text/plain": [
       "<matplotlib.text.Text at 0x123024780>"
      ]
     },
     "execution_count": 207,
     "metadata": {},
     "output_type": "execute_result"
    },
    {
     "data": {
      "image/png": "[encoded data removed]",
      "text/plain": [
       "<matplotlib.figure.Figure at 0x123100f60>"
      ]
     },
     "metadata": {},
     "output_type": "display_data"
    }
   ],
   "source": [
    "plt.figure(figsize=(18, 8)) \n",
    "\n",
    "data = sub_diff_table[wilcox_data_df<0.05]\n",
    "\n",
    "mask = np.zeros_like(data, dtype=np.bool)   # create a mask \n",
    "mask[np.triu_indices_from(mask)] = True\n",
    "\n",
    "\n",
    "ax3 = sns.heatmap(data, annot=True, linewidths=.5, center=0) #  mask=mask,\n",
    "ax3.set_title('Significant mean dose differences (Gy) by metric', size='xx-large')"
   ]
  },
  {
   "cell_type": "markdown",
   "metadata": {},
   "source": [
    "# Max dose differences"
   ]
  },
  {
   "cell_type": "code",
   "execution_count": 203,
   "metadata": {
    "collapsed": true
   },
   "outputs": [],
   "source": [
    "res_table3 = d.groupby(['structure', 'metric'],as_index=False).max()  # just get mean values "
   ]
  },
  {
   "cell_type": "code",
   "execution_count": 204,
   "metadata": {
    "collapsed": false
   },
   "outputs": [
    {
     "data": {
      "text/plain": [
       "metric\n",
       "D0.1CC     1.775331\n",
       "D1CC       1.957253\n",
       "D2%        1.943208\n",
       "D5%        1.943209\n",
       "D50%       1.697743\n",
       "D95%       1.278843\n",
       "D99%       1.124381\n",
       "DHI        0.099019\n",
       "DMAX       2.750000\n",
       "DRX        0.000000\n",
       "DSD        1.100000\n",
       "V12.5GY    0.000000\n",
       "V20GY      0.000000\n",
       "V30GY      0.000000\n",
       "V40GY      0.000000\n",
       "V50GY      0.000009\n",
       "V55GY      0.211800\n",
       "V5GY       0.000000\n",
       "Name: PTV CHEST, dtype: float64"
      ]
     },
     "execution_count": 204,
     "metadata": {},
     "output_type": "execute_result"
    }
   ],
   "source": [
    "max_diff_table = res_table3.pivot(index='structure', columns='metric', values='diff')  # pivot table for diff values\n",
    "#diff_table.reset_index(level=0, inplace=True)    # must convert the index back into a column\n",
    "max_diff_table.index\n",
    "max_diff_table.loc['PTV CHEST']"
   ]
  },
  {
   "cell_type": "code",
   "execution_count": 206,
   "metadata": {
    "collapsed": false
   },
   "outputs": [
    {
     "data": {
      "image/png": "[encoded data removed]",
      "text/plain": [
       "<matplotlib.figure.Figure at 0x126ab72e8>"
      ]
     },
     "metadata": {},
     "output_type": "display_data"
    }
   ],
   "source": [
    "sub_diff_table2 = max_diff_table[metrics_of_interest].loc[structures_of_interest]\n",
    "\n",
    "plt.figure(figsize=(14, 8))\n",
    "ax1 = sns.heatmap(sub_diff_table2, annot=True, linewidths=2.0, cbar=True)\n",
    "ax1.set_title('Max dose differences (Gy) by structure and metric', size='xx-large')\n",
    "plt.savefig('max_table.png', dpi=300)"
   ]
  },
  {
   "cell_type": "markdown",
   "metadata": {},
   "source": [
    "Combine constraints with max, mean and signifance of dose differences, and failures"
   ]
  },
  {
   "cell_type": "code",
   "execution_count": 296,
   "metadata": {
    "collapsed": false
   },
   "outputs": [
    {
     "data": {
      "text/html": [
       "<div>\n",
       "<table border=\"1\" class=\"dataframe\">\n",
       "  <thead>\n",
       "    <tr style=\"text-align: right;\">\n",
       "      <th></th>\n",
       "      <th>Structure</th>\n",
       "      <th>Metric</th>\n",
       "      <th>Sign</th>\n",
       "      <th>5_Fraction_55Gy</th>\n",
       "      <th>Unit</th>\n",
       "      <th>Of_Prescription_dose?</th>\n",
       "    </tr>\n",
       "  </thead>\n",
       "  <tbody>\n",
       "    <tr>\n",
       "      <th>0</th>\n",
       "      <td>PTV CHEST</td>\n",
       "      <td>D95%</td>\n",
       "      <td>&gt;</td>\n",
       "      <td>100</td>\n",
       "      <td>%</td>\n",
       "      <td>1</td>\n",
       "    </tr>\n",
       "    <tr>\n",
       "      <th>1</th>\n",
       "      <td>PTV CHEST</td>\n",
       "      <td>D99%</td>\n",
       "      <td>&gt;</td>\n",
       "      <td>90</td>\n",
       "      <td>%</td>\n",
       "      <td>1</td>\n",
       "    </tr>\n",
       "    <tr>\n",
       "      <th>2</th>\n",
       "      <td>PTV CHEST</td>\n",
       "      <td>D0.1CC</td>\n",
       "      <td>between</td>\n",
       "      <td>118-134</td>\n",
       "      <td>%</td>\n",
       "      <td>1</td>\n",
       "    </tr>\n",
       "    <tr>\n",
       "      <th>3</th>\n",
       "      <td>Foramen</td>\n",
       "      <td>DMAX</td>\n",
       "      <td>&lt;</td>\n",
       "      <td>25</td>\n",
       "      <td>Gy</td>\n",
       "      <td>0</td>\n",
       "    </tr>\n",
       "    <tr>\n",
       "      <th>4</th>\n",
       "      <td>Oesophagus</td>\n",
       "      <td>D0.1CC</td>\n",
       "      <td>&lt;</td>\n",
       "      <td>27</td>\n",
       "      <td>Gy</td>\n",
       "      <td>0</td>\n",
       "    </tr>\n",
       "    <tr>\n",
       "      <th>5</th>\n",
       "      <td>R Brachial plex</td>\n",
       "      <td>D0.1CC</td>\n",
       "      <td>&lt;</td>\n",
       "      <td>27</td>\n",
       "      <td>Gy</td>\n",
       "      <td>0</td>\n",
       "    </tr>\n",
       "    <tr>\n",
       "      <th>6</th>\n",
       "      <td>L Brachial plex</td>\n",
       "      <td>D0.1CC</td>\n",
       "      <td>&lt;</td>\n",
       "      <td>27</td>\n",
       "      <td>Gy</td>\n",
       "      <td>0</td>\n",
       "    </tr>\n",
       "    <tr>\n",
       "      <th>7</th>\n",
       "      <td>Heart</td>\n",
       "      <td>D0.1CC</td>\n",
       "      <td>&lt;</td>\n",
       "      <td>27</td>\n",
       "      <td>Gy</td>\n",
       "      <td>0</td>\n",
       "    </tr>\n",
       "    <tr>\n",
       "      <th>8</th>\n",
       "      <td>Trachea</td>\n",
       "      <td>D0.1CC</td>\n",
       "      <td>&lt;</td>\n",
       "      <td>32</td>\n",
       "      <td>Gy</td>\n",
       "      <td>0</td>\n",
       "    </tr>\n",
       "    <tr>\n",
       "      <th>9</th>\n",
       "      <td>Bronchial tree</td>\n",
       "      <td>D0.1CC</td>\n",
       "      <td>&lt;</td>\n",
       "      <td>32</td>\n",
       "      <td>Gy</td>\n",
       "      <td>0</td>\n",
       "    </tr>\n",
       "    <tr>\n",
       "      <th>10</th>\n",
       "      <td>Ribs</td>\n",
       "      <td>D0.1CC</td>\n",
       "      <td>&lt;</td>\n",
       "      <td>35</td>\n",
       "      <td>Gy</td>\n",
       "      <td>0</td>\n",
       "    </tr>\n",
       "  </tbody>\n",
       "</table>\n",
       "</div>"
      ],
      "text/plain": [
       "          Structure  Metric     Sign 5_Fraction_55Gy Unit  \\\n",
       "0         PTV CHEST    D95%       >              100    %   \n",
       "1         PTV CHEST    D99%        >              90    %   \n",
       "2         PTV CHEST  D0.1CC  between         118-134    %   \n",
       "3           Foramen    DMAX        <              25   Gy   \n",
       "4        Oesophagus  D0.1CC        <              27   Gy   \n",
       "5   R Brachial plex  D0.1CC        <              27   Gy   \n",
       "6   L Brachial plex  D0.1CC        <              27   Gy   \n",
       "7             Heart  D0.1CC        <              27   Gy   \n",
       "8           Trachea  D0.1CC        <              32   Gy   \n",
       "9    Bronchial tree  D0.1CC        <              32   Gy   \n",
       "10             Ribs  D0.1CC        <              35   Gy   \n",
       "\n",
       "    Of_Prescription_dose?  \n",
       "0                       1  \n",
       "1                       1  \n",
       "2                       1  \n",
       "3                       0  \n",
       "4                       0  \n",
       "5                       0  \n",
       "6                       0  \n",
       "7                       0  \n",
       "8                       0  \n",
       "9                       0  \n",
       "10                      0  "
      ]
     },
     "execution_count": 296,
     "metadata": {},
     "output_type": "execute_result"
    }
   ],
   "source": [
    "constraints # constraints of interes  "
   ]
  },
  {
   "cell_type": "code",
   "execution_count": 461,
   "metadata": {
    "collapsed": false
   },
   "outputs": [],
   "source": [
    "constraints_full = constraints.copy()"
   ]
  },
  {
   "cell_type": "code",
   "execution_count": 462,
   "metadata": {
    "collapsed": false
   },
   "outputs": [],
   "source": [
    "Mean_diff = mean_diff_table.lookup(constraints['structure'].values, constraints['metric'].values)  # mean diff values from lookup                              \n",
    "constraints_full['Mean_diff'] = pd.DataFrame(Mean_diff)   # convert to dataframe and apply "
   ]
  },
  {
   "cell_type": "code",
   "execution_count": 463,
   "metadata": {
    "collapsed": true
   },
   "outputs": [],
   "source": [
    "wilcox  =  wilcox_data_df.lookup(constraints['structure'].values, constraints['metric'].values)\n",
    "constraints_full['wilcox'] = pd.DataFrame(wilcox)"
   ]
  },
  {
   "cell_type": "code",
   "execution_count": 464,
   "metadata": {
    "collapsed": false
   },
   "outputs": [],
   "source": [
    "Max_diff = max_diff_table.lookup(constraints['structure'].values, constraints['metric'].values)  \n",
    "constraints_full['Max_diff'] = pd.DataFrame(Max_diff)"
   ]
  },
  {
   "cell_type": "code",
   "execution_count": 465,
   "metadata": {
    "collapsed": false
   },
   "outputs": [
    {
     "data": {
      "text/html": [
       "<div>\n",
       "<table border=\"1\" class=\"dataframe\">\n",
       "  <thead>\n",
       "    <tr style=\"text-align: right;\">\n",
       "      <th></th>\n",
       "      <th>structure</th>\n",
       "      <th>metric</th>\n",
       "      <th>Sign</th>\n",
       "      <th>5_Fraction_55Gy</th>\n",
       "      <th>Unit</th>\n",
       "      <th>Of_Prescription_dose?</th>\n",
       "      <th>Mean_diff</th>\n",
       "      <th>wilcox</th>\n",
       "      <th>Max_diff</th>\n",
       "    </tr>\n",
       "  </thead>\n",
       "  <tbody>\n",
       "    <tr>\n",
       "      <th>0</th>\n",
       "      <td>PTV CHEST</td>\n",
       "      <td>D95%</td>\n",
       "      <td>&gt;</td>\n",
       "      <td>100</td>\n",
       "      <td>%</td>\n",
       "      <td>1</td>\n",
       "      <td>-0.526656</td>\n",
       "      <td>0.191446</td>\n",
       "      <td>1.278843</td>\n",
       "    </tr>\n",
       "    <tr>\n",
       "      <th>1</th>\n",
       "      <td>PTV CHEST</td>\n",
       "      <td>D99%</td>\n",
       "      <td>&gt;</td>\n",
       "      <td>90</td>\n",
       "      <td>%</td>\n",
       "      <td>1</td>\n",
       "      <td>-0.780473</td>\n",
       "      <td>0.040888</td>\n",
       "      <td>1.124381</td>\n",
       "    </tr>\n",
       "    <tr>\n",
       "      <th>2</th>\n",
       "      <td>PTV CHEST</td>\n",
       "      <td>D0.1CC</td>\n",
       "      <td>between</td>\n",
       "      <td>118-134</td>\n",
       "      <td>%</td>\n",
       "      <td>1</td>\n",
       "      <td>0.619299</td>\n",
       "      <td>0.046826</td>\n",
       "      <td>1.775331</td>\n",
       "    </tr>\n",
       "    <tr>\n",
       "      <th>3</th>\n",
       "      <td>Foramen</td>\n",
       "      <td>DMAX</td>\n",
       "      <td>&lt;</td>\n",
       "      <td>25</td>\n",
       "      <td>Gy</td>\n",
       "      <td>0</td>\n",
       "      <td>-0.282333</td>\n",
       "      <td>0.000976</td>\n",
       "      <td>0.000000</td>\n",
       "    </tr>\n",
       "    <tr>\n",
       "      <th>4</th>\n",
       "      <td>Oesophagus</td>\n",
       "      <td>D0.1CC</td>\n",
       "      <td>&lt;</td>\n",
       "      <td>27</td>\n",
       "      <td>Gy</td>\n",
       "      <td>0</td>\n",
       "      <td>-0.162007</td>\n",
       "      <td>0.008985</td>\n",
       "      <td>0.297823</td>\n",
       "    </tr>\n",
       "    <tr>\n",
       "      <th>5</th>\n",
       "      <td>R Brachial plex</td>\n",
       "      <td>D0.1CC</td>\n",
       "      <td>&lt;</td>\n",
       "      <td>27</td>\n",
       "      <td>Gy</td>\n",
       "      <td>0</td>\n",
       "      <td>0.246638</td>\n",
       "      <td>0.649563</td>\n",
       "      <td>65.476636</td>\n",
       "    </tr>\n",
       "    <tr>\n",
       "      <th>6</th>\n",
       "      <td>L Brachial plex</td>\n",
       "      <td>D0.1CC</td>\n",
       "      <td>&lt;</td>\n",
       "      <td>27</td>\n",
       "      <td>Gy</td>\n",
       "      <td>0</td>\n",
       "      <td>7.044839</td>\n",
       "      <td>0.509797</td>\n",
       "      <td>77.466802</td>\n",
       "    </tr>\n",
       "    <tr>\n",
       "      <th>7</th>\n",
       "      <td>Heart</td>\n",
       "      <td>D0.1CC</td>\n",
       "      <td>&lt;</td>\n",
       "      <td>27</td>\n",
       "      <td>Gy</td>\n",
       "      <td>0</td>\n",
       "      <td>-3.790933</td>\n",
       "      <td>0.532130</td>\n",
       "      <td>7.799810</td>\n",
       "    </tr>\n",
       "    <tr>\n",
       "      <th>8</th>\n",
       "      <td>Trachea</td>\n",
       "      <td>D0.1CC</td>\n",
       "      <td>&lt;</td>\n",
       "      <td>32</td>\n",
       "      <td>Gy</td>\n",
       "      <td>0</td>\n",
       "      <td>2.783140</td>\n",
       "      <td>0.211476</td>\n",
       "      <td>53.401465</td>\n",
       "    </tr>\n",
       "    <tr>\n",
       "      <th>9</th>\n",
       "      <td>Bronchial tree</td>\n",
       "      <td>D0.1CC</td>\n",
       "      <td>&lt;</td>\n",
       "      <td>32</td>\n",
       "      <td>Gy</td>\n",
       "      <td>0</td>\n",
       "      <td>2.121001</td>\n",
       "      <td>0.069144</td>\n",
       "      <td>31.208810</td>\n",
       "    </tr>\n",
       "    <tr>\n",
       "      <th>10</th>\n",
       "      <td>Ribs</td>\n",
       "      <td>D0.1CC</td>\n",
       "      <td>&lt;</td>\n",
       "      <td>35</td>\n",
       "      <td>Gy</td>\n",
       "      <td>0</td>\n",
       "      <td>0.153879</td>\n",
       "      <td>0.495521</td>\n",
       "      <td>1.357714</td>\n",
       "    </tr>\n",
       "  </tbody>\n",
       "</table>\n",
       "</div>"
      ],
      "text/plain": [
       "          structure  metric     Sign 5_Fraction_55Gy Unit  \\\n",
       "0         PTV CHEST    D95%       >              100    %   \n",
       "1         PTV CHEST    D99%        >              90    %   \n",
       "2         PTV CHEST  D0.1CC  between         118-134    %   \n",
       "3           Foramen    DMAX        <              25   Gy   \n",
       "4        Oesophagus  D0.1CC        <              27   Gy   \n",
       "5   R Brachial plex  D0.1CC        <              27   Gy   \n",
       "6   L Brachial plex  D0.1CC        <              27   Gy   \n",
       "7             Heart  D0.1CC        <              27   Gy   \n",
       "8           Trachea  D0.1CC        <              32   Gy   \n",
       "9    Bronchial tree  D0.1CC        <              32   Gy   \n",
       "10             Ribs  D0.1CC        <              35   Gy   \n",
       "\n",
       "    Of_Prescription_dose?  Mean_diff    wilcox   Max_diff  \n",
       "0                       1  -0.526656  0.191446   1.278843  \n",
       "1                       1  -0.780473  0.040888   1.124381  \n",
       "2                       1   0.619299  0.046826   1.775331  \n",
       "3                       0  -0.282333  0.000976   0.000000  \n",
       "4                       0  -0.162007  0.008985   0.297823  \n",
       "5                       0   0.246638  0.649563  65.476636  \n",
       "6                       0   7.044839  0.509797  77.466802  \n",
       "7                       0  -3.790933  0.532130   7.799810  \n",
       "8                       0   2.783140  0.211476  53.401465  \n",
       "9                       0   2.121001  0.069144  31.208810  \n",
       "10                      0   0.153879  0.495521   1.357714  "
      ]
     },
     "execution_count": 465,
     "metadata": {},
     "output_type": "execute_result"
    }
   ],
   "source": [
    "constraints_full"
   ]
  },
  {
   "cell_type": "code",
   "execution_count": 466,
   "metadata": {
    "collapsed": false
   },
   "outputs": [
    {
     "data": {
      "text/plain": [
       "True"
      ]
     },
     "execution_count": 466,
     "metadata": {},
     "output_type": "execute_result"
    }
   ],
   "source": [
    "test1 = failures[(failures['structure'] == 'PTV CHEST') & ((failures['metric'] == 'D95%'))] # dose constraint violated\n",
    "test1.size != 0   # True = there is a failure"
   ]
  },
  {
   "cell_type": "code",
   "execution_count": 467,
   "metadata": {
    "collapsed": false
   },
   "outputs": [
    {
     "data": {
      "text/html": [
       "<div>\n",
       "<table border=\"1\" class=\"dataframe\">\n",
       "  <thead>\n",
       "    <tr style=\"text-align: right;\">\n",
       "      <th></th>\n",
       "      <th>Case</th>\n",
       "      <th>structure</th>\n",
       "      <th>metric</th>\n",
       "      <th>AAA</th>\n",
       "      <th>Dm</th>\n",
       "      <th>diff</th>\n",
       "    </tr>\n",
       "  </thead>\n",
       "  <tbody>\n",
       "    <tr>\n",
       "      <th>489</th>\n",
       "      <td>Case5</td>\n",
       "      <td>PTV CHEST</td>\n",
       "      <td>D95%</td>\n",
       "      <td>55.648904</td>\n",
       "      <td>54.883221</td>\n",
       "      <td>-0.765683</td>\n",
       "    </tr>\n",
       "    <tr>\n",
       "      <th>4287</th>\n",
       "      <td>Case30</td>\n",
       "      <td>PTV CHEST</td>\n",
       "      <td>D95%</td>\n",
       "      <td>56.172306</td>\n",
       "      <td>51.618767</td>\n",
       "      <td>-4.553539</td>\n",
       "    </tr>\n",
       "    <tr>\n",
       "      <th>4740</th>\n",
       "      <td>Case31</td>\n",
       "      <td>PTV CHEST</td>\n",
       "      <td>D0.1CC</td>\n",
       "      <td>72.846993</td>\n",
       "      <td>74.024337</td>\n",
       "      <td>1.177344</td>\n",
       "    </tr>\n",
       "    <tr>\n",
       "      <th>3966</th>\n",
       "      <td>Case25</td>\n",
       "      <td>Trachea</td>\n",
       "      <td>D0.1CC</td>\n",
       "      <td>15.948424</td>\n",
       "      <td>69.349889</td>\n",
       "      <td>53.401465</td>\n",
       "    </tr>\n",
       "    <tr>\n",
       "      <th>3458</th>\n",
       "      <td>Case22</td>\n",
       "      <td>Liver</td>\n",
       "      <td>D50%</td>\n",
       "      <td>1.250632</td>\n",
       "      <td>1.294880</td>\n",
       "      <td>0.044248</td>\n",
       "    </tr>\n",
       "    <tr>\n",
       "      <th>4196</th>\n",
       "      <td>Case25</td>\n",
       "      <td>Liver</td>\n",
       "      <td>D50%</td>\n",
       "      <td>6.847959</td>\n",
       "      <td>6.713133</td>\n",
       "      <td>-0.134825</td>\n",
       "    </tr>\n",
       "    <tr>\n",
       "      <th>1122</th>\n",
       "      <td>Case12</td>\n",
       "      <td>L Brachial plex</td>\n",
       "      <td>D0.1CC</td>\n",
       "      <td>0.108812</td>\n",
       "      <td>74.346465</td>\n",
       "      <td>74.237653</td>\n",
       "    </tr>\n",
       "    <tr>\n",
       "      <th>3912</th>\n",
       "      <td>Case25</td>\n",
       "      <td>L Brachial plex</td>\n",
       "      <td>D0.1CC</td>\n",
       "      <td>0.054618</td>\n",
       "      <td>63.428739</td>\n",
       "      <td>63.374121</td>\n",
       "    </tr>\n",
       "    <tr>\n",
       "      <th>4650</th>\n",
       "      <td>Case31</td>\n",
       "      <td>L Brachial plex</td>\n",
       "      <td>D0.1CC</td>\n",
       "      <td>0.109680</td>\n",
       "      <td>77.576481</td>\n",
       "      <td>77.466802</td>\n",
       "    </tr>\n",
       "    <tr>\n",
       "      <th>222</th>\n",
       "      <td>Case1</td>\n",
       "      <td>R Brachial plex</td>\n",
       "      <td>D0.1CC</td>\n",
       "      <td>0.324991</td>\n",
       "      <td>65.801627</td>\n",
       "      <td>65.476636</td>\n",
       "    </tr>\n",
       "    <tr>\n",
       "      <th>2814</th>\n",
       "      <td>Case17</td>\n",
       "      <td>R Brachial plex</td>\n",
       "      <td>D0.1CC</td>\n",
       "      <td>0.435957</td>\n",
       "      <td>48.809596</td>\n",
       "      <td>48.373640</td>\n",
       "    </tr>\n",
       "  </tbody>\n",
       "</table>\n",
       "</div>"
      ],
      "text/plain": [
       "        Case        structure  metric        AAA         Dm       diff\n",
       "489    Case5        PTV CHEST    D95%  55.648904  54.883221  -0.765683\n",
       "4287  Case30        PTV CHEST    D95%  56.172306  51.618767  -4.553539\n",
       "4740  Case31        PTV CHEST  D0.1CC  72.846993  74.024337   1.177344\n",
       "3966  Case25          Trachea  D0.1CC  15.948424  69.349889  53.401465\n",
       "3458  Case22            Liver    D50%   1.250632   1.294880   0.044248\n",
       "4196  Case25            Liver    D50%   6.847959   6.713133  -0.134825\n",
       "1122  Case12  L Brachial plex  D0.1CC   0.108812  74.346465  74.237653\n",
       "3912  Case25  L Brachial plex  D0.1CC   0.054618  63.428739  63.374121\n",
       "4650  Case31  L Brachial plex  D0.1CC   0.109680  77.576481  77.466802\n",
       "222    Case1  R Brachial plex  D0.1CC   0.324991  65.801627  65.476636\n",
       "2814  Case17  R Brachial plex  D0.1CC   0.435957  48.809596  48.373640"
      ]
     },
     "execution_count": 467,
     "metadata": {},
     "output_type": "execute_result"
    }
   ],
   "source": [
    "failures"
   ]
  },
  {
   "cell_type": "code",
   "execution_count": 470,
   "metadata": {
    "collapsed": false
   },
   "outputs": [
    {
     "data": {
      "text/html": [
       "<div>\n",
       "<table border=\"1\" class=\"dataframe\">\n",
       "  <thead>\n",
       "    <tr style=\"text-align: right;\">\n",
       "      <th></th>\n",
       "      <th>structure</th>\n",
       "      <th>metric</th>\n",
       "      <th>Sign</th>\n",
       "      <th>5_Fraction_55Gy</th>\n",
       "      <th>Unit</th>\n",
       "      <th>Of_Prescription_dose?</th>\n",
       "      <th>Mean_diff</th>\n",
       "      <th>wilcox</th>\n",
       "      <th>Max_diff</th>\n",
       "      <th>Case</th>\n",
       "      <th>AAA</th>\n",
       "      <th>Dm</th>\n",
       "      <th>diff</th>\n",
       "    </tr>\n",
       "  </thead>\n",
       "  <tbody>\n",
       "    <tr>\n",
       "      <th>0</th>\n",
       "      <td>PTV CHEST</td>\n",
       "      <td>D95%</td>\n",
       "      <td>&gt;</td>\n",
       "      <td>100</td>\n",
       "      <td>%</td>\n",
       "      <td>1</td>\n",
       "      <td>-0.526656</td>\n",
       "      <td>0.191446</td>\n",
       "      <td>1.278843</td>\n",
       "      <td>Case5</td>\n",
       "      <td>55.648904</td>\n",
       "      <td>54.883221</td>\n",
       "      <td>-0.765683</td>\n",
       "    </tr>\n",
       "    <tr>\n",
       "      <th>1</th>\n",
       "      <td>PTV CHEST</td>\n",
       "      <td>D95%</td>\n",
       "      <td>&gt;</td>\n",
       "      <td>100</td>\n",
       "      <td>%</td>\n",
       "      <td>1</td>\n",
       "      <td>-0.526656</td>\n",
       "      <td>0.191446</td>\n",
       "      <td>1.278843</td>\n",
       "      <td>Case30</td>\n",
       "      <td>56.172306</td>\n",
       "      <td>51.618767</td>\n",
       "      <td>-4.553539</td>\n",
       "    </tr>\n",
       "    <tr>\n",
       "      <th>2</th>\n",
       "      <td>PTV CHEST</td>\n",
       "      <td>D0.1CC</td>\n",
       "      <td>between</td>\n",
       "      <td>118-134</td>\n",
       "      <td>%</td>\n",
       "      <td>1</td>\n",
       "      <td>0.619299</td>\n",
       "      <td>0.046826</td>\n",
       "      <td>1.775331</td>\n",
       "      <td>Case31</td>\n",
       "      <td>72.846993</td>\n",
       "      <td>74.024337</td>\n",
       "      <td>1.177344</td>\n",
       "    </tr>\n",
       "    <tr>\n",
       "      <th>3</th>\n",
       "      <td>R Brachial plex</td>\n",
       "      <td>D0.1CC</td>\n",
       "      <td>&lt;</td>\n",
       "      <td>27</td>\n",
       "      <td>Gy</td>\n",
       "      <td>0</td>\n",
       "      <td>0.246638</td>\n",
       "      <td>0.649563</td>\n",
       "      <td>65.476636</td>\n",
       "      <td>Case1</td>\n",
       "      <td>0.324991</td>\n",
       "      <td>65.801627</td>\n",
       "      <td>65.476636</td>\n",
       "    </tr>\n",
       "    <tr>\n",
       "      <th>4</th>\n",
       "      <td>R Brachial plex</td>\n",
       "      <td>D0.1CC</td>\n",
       "      <td>&lt;</td>\n",
       "      <td>27</td>\n",
       "      <td>Gy</td>\n",
       "      <td>0</td>\n",
       "      <td>0.246638</td>\n",
       "      <td>0.649563</td>\n",
       "      <td>65.476636</td>\n",
       "      <td>Case17</td>\n",
       "      <td>0.435957</td>\n",
       "      <td>48.809596</td>\n",
       "      <td>48.373640</td>\n",
       "    </tr>\n",
       "    <tr>\n",
       "      <th>5</th>\n",
       "      <td>L Brachial plex</td>\n",
       "      <td>D0.1CC</td>\n",
       "      <td>&lt;</td>\n",
       "      <td>27</td>\n",
       "      <td>Gy</td>\n",
       "      <td>0</td>\n",
       "      <td>7.044839</td>\n",
       "      <td>0.509797</td>\n",
       "      <td>77.466802</td>\n",
       "      <td>Case12</td>\n",
       "      <td>0.108812</td>\n",
       "      <td>74.346465</td>\n",
       "      <td>74.237653</td>\n",
       "    </tr>\n",
       "    <tr>\n",
       "      <th>6</th>\n",
       "      <td>L Brachial plex</td>\n",
       "      <td>D0.1CC</td>\n",
       "      <td>&lt;</td>\n",
       "      <td>27</td>\n",
       "      <td>Gy</td>\n",
       "      <td>0</td>\n",
       "      <td>7.044839</td>\n",
       "      <td>0.509797</td>\n",
       "      <td>77.466802</td>\n",
       "      <td>Case25</td>\n",
       "      <td>0.054618</td>\n",
       "      <td>63.428739</td>\n",
       "      <td>63.374121</td>\n",
       "    </tr>\n",
       "    <tr>\n",
       "      <th>7</th>\n",
       "      <td>L Brachial plex</td>\n",
       "      <td>D0.1CC</td>\n",
       "      <td>&lt;</td>\n",
       "      <td>27</td>\n",
       "      <td>Gy</td>\n",
       "      <td>0</td>\n",
       "      <td>7.044839</td>\n",
       "      <td>0.509797</td>\n",
       "      <td>77.466802</td>\n",
       "      <td>Case31</td>\n",
       "      <td>0.109680</td>\n",
       "      <td>77.576481</td>\n",
       "      <td>77.466802</td>\n",
       "    </tr>\n",
       "    <tr>\n",
       "      <th>8</th>\n",
       "      <td>Trachea</td>\n",
       "      <td>D0.1CC</td>\n",
       "      <td>&lt;</td>\n",
       "      <td>32</td>\n",
       "      <td>Gy</td>\n",
       "      <td>0</td>\n",
       "      <td>2.783140</td>\n",
       "      <td>0.211476</td>\n",
       "      <td>53.401465</td>\n",
       "      <td>Case25</td>\n",
       "      <td>15.948424</td>\n",
       "      <td>69.349889</td>\n",
       "      <td>53.401465</td>\n",
       "    </tr>\n",
       "  </tbody>\n",
       "</table>\n",
       "</div>"
      ],
      "text/plain": [
       "         structure  metric     Sign 5_Fraction_55Gy Unit  \\\n",
       "0        PTV CHEST    D95%       >              100    %   \n",
       "1        PTV CHEST    D95%       >              100    %   \n",
       "2        PTV CHEST  D0.1CC  between         118-134    %   \n",
       "3  R Brachial plex  D0.1CC        <              27   Gy   \n",
       "4  R Brachial plex  D0.1CC        <              27   Gy   \n",
       "5  L Brachial plex  D0.1CC        <              27   Gy   \n",
       "6  L Brachial plex  D0.1CC        <              27   Gy   \n",
       "7  L Brachial plex  D0.1CC        <              27   Gy   \n",
       "8          Trachea  D0.1CC        <              32   Gy   \n",
       "\n",
       "   Of_Prescription_dose?  Mean_diff    wilcox   Max_diff    Case        AAA  \\\n",
       "0                      1  -0.526656  0.191446   1.278843   Case5  55.648904   \n",
       "1                      1  -0.526656  0.191446   1.278843  Case30  56.172306   \n",
       "2                      1   0.619299  0.046826   1.775331  Case31  72.846993   \n",
       "3                      0   0.246638  0.649563  65.476636   Case1   0.324991   \n",
       "4                      0   0.246638  0.649563  65.476636  Case17   0.435957   \n",
       "5                      0   7.044839  0.509797  77.466802  Case12   0.108812   \n",
       "6                      0   7.044839  0.509797  77.466802  Case25   0.054618   \n",
       "7                      0   7.044839  0.509797  77.466802  Case31   0.109680   \n",
       "8                      0   2.783140  0.211476  53.401465  Case25  15.948424   \n",
       "\n",
       "          Dm       diff  \n",
       "0  54.883221  -0.765683  \n",
       "1  51.618767  -4.553539  \n",
       "2  74.024337   1.177344  \n",
       "3  65.801627  65.476636  \n",
       "4  48.809596  48.373640  \n",
       "5  74.346465  74.237653  \n",
       "6  63.428739  63.374121  \n",
       "7  77.576481  77.466802  \n",
       "8  69.349889  53.401465  "
      ]
     },
     "execution_count": 470,
     "metadata": {},
     "output_type": "execute_result"
    }
   ],
   "source": [
    "constraints_failed = pd.merge(constraints_full, failures, how='inner', on=['structure', 'metric'])\n",
    "constraints_failed  # get merged dataframe with failed constraints and details of the failure"
   ]
  },
  {
   "cell_type": "code",
   "execution_count": 471,
   "metadata": {
    "collapsed": true
   },
   "outputs": [],
   "source": [
    "constraints_failed.to_csv('constraints_failed.csv', index=False) "
   ]
  },
  {
   "cell_type": "markdown",
   "metadata": {},
   "source": [
    "# Explore correlations by structure"
   ]
  },
  {
   "cell_type": "code",
   "execution_count": 40,
   "metadata": {
    "collapsed": false
   },
   "outputs": [],
   "source": [
    "diff_table = res_table2.pivot(index='structure', columns='metric', values='diff')  # pivot table for diff values\n",
    "diff_table.reset_index(level=0, inplace=True)  "
   ]
  },
  {
   "cell_type": "code",
   "execution_count": 41,
   "metadata": {
    "collapsed": false
   },
   "outputs": [],
   "source": [
    "diff_table = diff_table.transpose()"
   ]
  },
  {
   "cell_type": "code",
   "execution_count": 42,
   "metadata": {
    "collapsed": false
   },
   "outputs": [
    {
     "data": {
      "text/html": [
       "<div>\n",
       "<table border=\"1\" class=\"dataframe\">\n",
       "  <thead>\n",
       "    <tr style=\"text-align: right;\">\n",
       "      <th></th>\n",
       "      <th>0</th>\n",
       "      <th>1</th>\n",
       "      <th>2</th>\n",
       "      <th>3</th>\n",
       "      <th>4</th>\n",
       "      <th>5</th>\n",
       "    </tr>\n",
       "    <tr>\n",
       "      <th>metric</th>\n",
       "      <th></th>\n",
       "      <th></th>\n",
       "      <th></th>\n",
       "      <th></th>\n",
       "      <th></th>\n",
       "      <th></th>\n",
       "    </tr>\n",
       "  </thead>\n",
       "  <tbody>\n",
       "    <tr>\n",
       "      <th>structure</th>\n",
       "      <td>Foramen</td>\n",
       "      <td>Heart</td>\n",
       "      <td>Lt_Lung</td>\n",
       "      <td>Oesophagus</td>\n",
       "      <td>PTV CHEST</td>\n",
       "      <td>Rt_Lung</td>\n",
       "    </tr>\n",
       "    <tr>\n",
       "      <th>D0.1CC</th>\n",
       "      <td>-2.74529</td>\n",
       "      <td>-5.38466</td>\n",
       "      <td>0.674173</td>\n",
       "      <td>-1.87638</td>\n",
       "      <td>1.07563</td>\n",
       "      <td>0.592606</td>\n",
       "    </tr>\n",
       "    <tr>\n",
       "      <th>D1CC</th>\n",
       "      <td>-2.7472</td>\n",
       "      <td>2.29645</td>\n",
       "      <td>0.747234</td>\n",
       "      <td>-1.66649</td>\n",
       "      <td>0.837025</td>\n",
       "      <td>0.336425</td>\n",
       "    </tr>\n",
       "    <tr>\n",
       "      <th>D2%</th>\n",
       "      <td>-2.70396</td>\n",
       "      <td>-1.07879</td>\n",
       "      <td>0.699098</td>\n",
       "      <td>-1.70086</td>\n",
       "      <td>1.00943</td>\n",
       "      <td>1.07968</td>\n",
       "    </tr>\n",
       "    <tr>\n",
       "      <th>D5%</th>\n",
       "      <td>-2.73205</td>\n",
       "      <td>-1.49785</td>\n",
       "      <td>0.919857</td>\n",
       "      <td>-1.59156</td>\n",
       "      <td>0.899626</td>\n",
       "      <td>1.67948</td>\n",
       "    </tr>\n",
       "    <tr>\n",
       "      <th>D50%</th>\n",
       "      <td>-5.05869</td>\n",
       "      <td>8.37228</td>\n",
       "      <td>-5.43756</td>\n",
       "      <td>1.25687</td>\n",
       "      <td>0.350911</td>\n",
       "      <td>-5.02763</td>\n",
       "    </tr>\n",
       "    <tr>\n",
       "      <th>D95%</th>\n",
       "      <td>12.8548</td>\n",
       "      <td>34.8631</td>\n",
       "      <td>3.69555</td>\n",
       "      <td>28.834</td>\n",
       "      <td>-1.05356</td>\n",
       "      <td>-4.51792</td>\n",
       "    </tr>\n",
       "    <tr>\n",
       "      <th>D99%</th>\n",
       "      <td>19.5827</td>\n",
       "      <td>26.4369</td>\n",
       "      <td>2.86929</td>\n",
       "      <td>8.22122</td>\n",
       "      <td>-1.59436</td>\n",
       "      <td>-5.01496</td>\n",
       "    </tr>\n",
       "    <tr>\n",
       "      <th>DHI</th>\n",
       "      <td>2.90734</td>\n",
       "      <td>-9.62279</td>\n",
       "      <td>6.84507</td>\n",
       "      <td>-2.49246</td>\n",
       "      <td>9.02438</td>\n",
       "      <td>6.99985</td>\n",
       "    </tr>\n",
       "    <tr>\n",
       "      <th>DMAX</th>\n",
       "      <td>-2.44534</td>\n",
       "      <td>2.57864</td>\n",
       "      <td>1.10643</td>\n",
       "      <td>-2.00263</td>\n",
       "      <td>1.54959</td>\n",
       "      <td>0.948142</td>\n",
       "    </tr>\n",
       "    <tr>\n",
       "      <th>DSD</th>\n",
       "      <td>-2.19545</td>\n",
       "      <td>-2.77094</td>\n",
       "      <td>0.608868</td>\n",
       "      <td>-1.72598</td>\n",
       "      <td>8.04245</td>\n",
       "      <td>1.2231</td>\n",
       "    </tr>\n",
       "    <tr>\n",
       "      <th>V12.5GY</th>\n",
       "      <td>-29.4166</td>\n",
       "      <td>-15.8947</td>\n",
       "      <td>0.735817</td>\n",
       "      <td>-24.5881</td>\n",
       "      <td>0</td>\n",
       "      <td>-8.59444</td>\n",
       "    </tr>\n",
       "    <tr>\n",
       "      <th>V5GY</th>\n",
       "      <td>-6.2559</td>\n",
       "      <td>-4.18443</td>\n",
       "      <td>4.65344</td>\n",
       "      <td>-1.94301</td>\n",
       "      <td>0</td>\n",
       "      <td>3.50184</td>\n",
       "    </tr>\n",
       "  </tbody>\n",
       "</table>\n",
       "</div>"
      ],
      "text/plain": [
       "                 0        1         2           3          4         5\n",
       "metric                                                                \n",
       "structure  Foramen    Heart   Lt_Lung  Oesophagus  PTV CHEST   Rt_Lung\n",
       "D0.1CC    -2.74529 -5.38466  0.674173    -1.87638    1.07563  0.592606\n",
       "D1CC       -2.7472  2.29645  0.747234    -1.66649   0.837025  0.336425\n",
       "D2%       -2.70396 -1.07879  0.699098    -1.70086    1.00943   1.07968\n",
       "D5%       -2.73205 -1.49785  0.919857    -1.59156   0.899626   1.67948\n",
       "D50%      -5.05869  8.37228  -5.43756     1.25687   0.350911  -5.02763\n",
       "D95%       12.8548  34.8631   3.69555      28.834   -1.05356  -4.51792\n",
       "D99%       19.5827  26.4369   2.86929     8.22122   -1.59436  -5.01496\n",
       "DHI        2.90734 -9.62279   6.84507    -2.49246    9.02438   6.99985\n",
       "DMAX      -2.44534  2.57864   1.10643    -2.00263    1.54959  0.948142\n",
       "DSD       -2.19545 -2.77094  0.608868    -1.72598    8.04245    1.2231\n",
       "V12.5GY   -29.4166 -15.8947  0.735817    -24.5881          0  -8.59444\n",
       "V5GY       -6.2559 -4.18443   4.65344    -1.94301          0   3.50184"
      ]
     },
     "execution_count": 42,
     "metadata": {},
     "output_type": "execute_result"
    }
   ],
   "source": [
    "diff_table"
   ]
  },
  {
   "cell_type": "code",
   "execution_count": 43,
   "metadata": {
    "collapsed": false
   },
   "outputs": [
    {
     "data": {
      "text/html": [
       "<div>\n",
       "<table border=\"1\" class=\"dataframe\">\n",
       "  <thead>\n",
       "    <tr style=\"text-align: right;\">\n",
       "      <th></th>\n",
       "    </tr>\n",
       "  </thead>\n",
       "  <tbody>\n",
       "  </tbody>\n",
       "</table>\n",
       "</div>"
      ],
      "text/plain": [
       "Empty DataFrame\n",
       "Columns: []\n",
       "Index: []"
      ]
     },
     "execution_count": 43,
     "metadata": {},
     "output_type": "execute_result"
    }
   ],
   "source": [
    "diff_table_correlations = diff_table.corr()\n",
    "diff_table_correlations"
   ]
  },
  {
   "cell_type": "code",
   "execution_count": 44,
   "metadata": {
    "collapsed": false
   },
   "outputs": [
    {
     "data": {
      "text/plain": [
       "<matplotlib.figure.Figure at 0xd5b5330>"
      ]
     },
     "execution_count": 44,
     "metadata": {},
     "output_type": "execute_result"
    },
    {
     "data": {
      "text/plain": [
       "<matplotlib.figure.Figure at 0xd5b5330>"
      ]
     },
     "metadata": {},
     "output_type": "display_data"
    }
   ],
   "source": [
    "plt.figure(figsize=(18, 8))\n",
    "# ax3 = sns.heatmap(diff_table_correlations , annot=True, linewidths=.5)"
   ]
  },
  {
   "cell_type": "markdown",
   "metadata": {},
   "source": [
    "# Explore correlations with material data for PTV"
   ]
  },
  {
   "cell_type": "code",
   "execution_count": 45,
   "metadata": {
    "collapsed": true
   },
   "outputs": [],
   "source": [
    "PTV_CT = pd.read_csv('PTV_HU_mean_dat.csv')  # import PTV density data"
   ]
  },
  {
   "cell_type": "code",
   "execution_count": 46,
   "metadata": {
    "collapsed": false
   },
   "outputs": [],
   "source": [
    "# PTV_CT"
   ]
  },
  {
   "cell_type": "markdown",
   "metadata": {},
   "source": [
    "Get the PTV differences by metric and case"
   ]
  },
  {
   "cell_type": "code",
   "execution_count": 47,
   "metadata": {
    "collapsed": false
   },
   "outputs": [],
   "source": [
    "PTV_metrics = d[d['structure']  == 'PTV CHEST']\n",
    "PTV_metrics = PTV_metrics.pivot(index='Case',columns='metric', values='diff')   #pivot on case and metric\n",
    "PTV_metrics.reset_index(level=0, inplace=True)    # must convert the index back into a column\n",
    "\n",
    "del PTV_metrics['V12.5GY'] # delete as no data for them\n",
    "del PTV_metrics['V5GY']\n",
    "# PTV_metrics"
   ]
  },
  {
   "cell_type": "code",
   "execution_count": 48,
   "metadata": {
    "collapsed": false
   },
   "outputs": [
    {
     "data": {
      "text/html": [
       "<div>\n",
       "<table border=\"1\" class=\"dataframe\">\n",
       "  <thead>\n",
       "    <tr style=\"text-align: right;\">\n",
       "      <th>metric</th>\n",
       "      <th>Case</th>\n",
       "      <th>D0.1CC</th>\n",
       "      <th>D1CC</th>\n",
       "      <th>D2%</th>\n",
       "      <th>D5%</th>\n",
       "      <th>D50%</th>\n",
       "      <th>D95%</th>\n",
       "      <th>D99%</th>\n",
       "      <th>DHI</th>\n",
       "      <th>DMAX</th>\n",
       "      <th>DSD</th>\n",
       "      <th>mean_HU</th>\n",
       "      <th>SD_HU</th>\n",
       "      <th>Volume_PTV</th>\n",
       "    </tr>\n",
       "  </thead>\n",
       "  <tbody>\n",
       "    <tr>\n",
       "      <th>0</th>\n",
       "      <td>Case1</td>\n",
       "      <td>-1.646800</td>\n",
       "      <td>-0.623945</td>\n",
       "      <td>-0.581028</td>\n",
       "      <td>-0.802292</td>\n",
       "      <td>-0.157389</td>\n",
       "      <td>-0.915495</td>\n",
       "      <td>-1.633518</td>\n",
       "      <td>2.850494</td>\n",
       "      <td>-0.381971</td>\n",
       "      <td>-4.000000</td>\n",
       "      <td>-170.699</td>\n",
       "      <td>272.993</td>\n",
       "      <td>72.9</td>\n",
       "    </tr>\n",
       "    <tr>\n",
       "      <th>1</th>\n",
       "      <td>Case11</td>\n",
       "      <td>1.044115</td>\n",
       "      <td>0.638813</td>\n",
       "      <td>0.633493</td>\n",
       "      <td>0.642739</td>\n",
       "      <td>0.248408</td>\n",
       "      <td>-2.628825</td>\n",
       "      <td>-3.985440</td>\n",
       "      <td>14.416879</td>\n",
       "      <td>1.655380</td>\n",
       "      <td>13.253012</td>\n",
       "      <td>-551.763</td>\n",
       "      <td>279.318</td>\n",
       "      <td>25.2</td>\n",
       "    </tr>\n",
       "    <tr>\n",
       "      <th>2</th>\n",
       "      <td>Case12</td>\n",
       "      <td>2.279966</td>\n",
       "      <td>0.841989</td>\n",
       "      <td>0.910143</td>\n",
       "      <td>0.601526</td>\n",
       "      <td>0.489112</td>\n",
       "      <td>0.196736</td>\n",
       "      <td>-0.240510</td>\n",
       "      <td>3.974143</td>\n",
       "      <td>3.790751</td>\n",
       "      <td>1.282051</td>\n",
       "      <td>-478.357</td>\n",
       "      <td>276.233</td>\n",
       "      <td>38.6</td>\n",
       "    </tr>\n",
       "    <tr>\n",
       "      <th>3</th>\n",
       "      <td>Case13</td>\n",
       "      <td>2.109205</td>\n",
       "      <td>1.769138</td>\n",
       "      <td>1.792435</td>\n",
       "      <td>1.538511</td>\n",
       "      <td>1.636643</td>\n",
       "      <td>0.199115</td>\n",
       "      <td>-0.701292</td>\n",
       "      <td>8.237426</td>\n",
       "      <td>1.984733</td>\n",
       "      <td>6.756757</td>\n",
       "      <td>-426.137</td>\n",
       "      <td>296.692</td>\n",
       "      <td>44.7</td>\n",
       "    </tr>\n",
       "    <tr>\n",
       "      <th>4</th>\n",
       "      <td>Case14</td>\n",
       "      <td>0.812426</td>\n",
       "      <td>0.124380</td>\n",
       "      <td>0.221460</td>\n",
       "      <td>-0.112804</td>\n",
       "      <td>1.857474</td>\n",
       "      <td>0.445066</td>\n",
       "      <td>-0.370695</td>\n",
       "      <td>-0.878065</td>\n",
       "      <td>1.803752</td>\n",
       "      <td>0.000000</td>\n",
       "      <td>-432.742</td>\n",
       "      <td>277.356</td>\n",
       "      <td>35.4</td>\n",
       "    </tr>\n",
       "    <tr>\n",
       "      <th>5</th>\n",
       "      <td>Case16</td>\n",
       "      <td>2.355693</td>\n",
       "      <td>2.143460</td>\n",
       "      <td>2.600956</td>\n",
       "      <td>2.655809</td>\n",
       "      <td>0.429373</td>\n",
       "      <td>-0.788578</td>\n",
       "      <td>-1.580805</td>\n",
       "      <td>12.932591</td>\n",
       "      <td>2.277580</td>\n",
       "      <td>13.829787</td>\n",
       "      <td>-601.037</td>\n",
       "      <td>225.056</td>\n",
       "      <td>8.9</td>\n",
       "    </tr>\n",
       "    <tr>\n",
       "      <th>6</th>\n",
       "      <td>Case17</td>\n",
       "      <td>0.776133</td>\n",
       "      <td>1.198678</td>\n",
       "      <td>1.226977</td>\n",
       "      <td>1.144944</td>\n",
       "      <td>0.914957</td>\n",
       "      <td>-0.249615</td>\n",
       "      <td>-0.725107</td>\n",
       "      <td>6.958105</td>\n",
       "      <td>1.416853</td>\n",
       "      <td>2.777778</td>\n",
       "      <td>-275.691</td>\n",
       "      <td>359.180</td>\n",
       "      <td>77.3</td>\n",
       "    </tr>\n",
       "    <tr>\n",
       "      <th>7</th>\n",
       "      <td>Case18</td>\n",
       "      <td>2.824736</td>\n",
       "      <td>2.444145</td>\n",
       "      <td>2.870780</td>\n",
       "      <td>2.600269</td>\n",
       "      <td>1.813520</td>\n",
       "      <td>1.118255</td>\n",
       "      <td>1.763484</td>\n",
       "      <td>5.879023</td>\n",
       "      <td>3.427266</td>\n",
       "      <td>8.000000</td>\n",
       "      <td>-559.114</td>\n",
       "      <td>243.114</td>\n",
       "      <td>14.1</td>\n",
       "    </tr>\n",
       "    <tr>\n",
       "      <th>8</th>\n",
       "      <td>Case22</td>\n",
       "      <td>-0.101734</td>\n",
       "      <td>0.334918</td>\n",
       "      <td>0.264370</td>\n",
       "      <td>0.389630</td>\n",
       "      <td>0.299438</td>\n",
       "      <td>-0.164480</td>\n",
       "      <td>-0.190877</td>\n",
       "      <td>1.062469</td>\n",
       "      <td>-0.221239</td>\n",
       "      <td>2.352941</td>\n",
       "      <td>-363.164</td>\n",
       "      <td>293.196</td>\n",
       "      <td>35.6</td>\n",
       "    </tr>\n",
       "    <tr>\n",
       "      <th>9</th>\n",
       "      <td>Case23</td>\n",
       "      <td>2.312454</td>\n",
       "      <td>2.861348</td>\n",
       "      <td>2.438215</td>\n",
       "      <td>2.914029</td>\n",
       "      <td>1.090400</td>\n",
       "      <td>-0.589348</td>\n",
       "      <td>-1.212738</td>\n",
       "      <td>13.153501</td>\n",
       "      <td>1.972243</td>\n",
       "      <td>16.250000</td>\n",
       "      <td>-650.879</td>\n",
       "      <td>179.334</td>\n",
       "      <td>13.3</td>\n",
       "    </tr>\n",
       "    <tr>\n",
       "      <th>10</th>\n",
       "      <td>Case25</td>\n",
       "      <td>1.529735</td>\n",
       "      <td>1.187615</td>\n",
       "      <td>1.109356</td>\n",
       "      <td>0.983548</td>\n",
       "      <td>2.588827</td>\n",
       "      <td>2.214275</td>\n",
       "      <td>2.005250</td>\n",
       "      <td>-4.975909</td>\n",
       "      <td>1.586103</td>\n",
       "      <td>-5.194805</td>\n",
       "      <td>-330.158</td>\n",
       "      <td>279.344</td>\n",
       "      <td>67.1</td>\n",
       "    </tr>\n",
       "    <tr>\n",
       "      <th>11</th>\n",
       "      <td>Case30</td>\n",
       "      <td>0.251732</td>\n",
       "      <td>-2.393132</td>\n",
       "      <td>0.176925</td>\n",
       "      <td>-0.680814</td>\n",
       "      <td>-4.003114</td>\n",
       "      <td>-8.106377</td>\n",
       "      <td>-9.471837</td>\n",
       "      <td>38.438829</td>\n",
       "      <td>0.817236</td>\n",
       "      <td>27.027027</td>\n",
       "      <td>-772.415</td>\n",
       "      <td>156.430</td>\n",
       "      <td>6.0</td>\n",
       "    </tr>\n",
       "    <tr>\n",
       "      <th>12</th>\n",
       "      <td>Case31</td>\n",
       "      <td>1.616188</td>\n",
       "      <td>0.119142</td>\n",
       "      <td>1.323012</td>\n",
       "      <td>0.654366</td>\n",
       "      <td>-1.628208</td>\n",
       "      <td>-3.005646</td>\n",
       "      <td>-2.816907</td>\n",
       "      <td>18.206116</td>\n",
       "      <td>2.083333</td>\n",
       "      <td>18.571429</td>\n",
       "      <td>-710.175</td>\n",
       "      <td>121.041</td>\n",
       "      <td>7.0</td>\n",
       "    </tr>\n",
       "    <tr>\n",
       "      <th>13</th>\n",
       "      <td>Case32</td>\n",
       "      <td>-1.105029</td>\n",
       "      <td>1.071794</td>\n",
       "      <td>-0.855103</td>\n",
       "      <td>0.065303</td>\n",
       "      <td>-0.666683</td>\n",
       "      <td>-2.474900</td>\n",
       "      <td>-3.160071</td>\n",
       "      <td>6.085658</td>\n",
       "      <td>-0.517751</td>\n",
       "      <td>11.688312</td>\n",
       "      <td>-650.864</td>\n",
       "      <td>248.269</td>\n",
       "      <td>8.5</td>\n",
       "    </tr>\n",
       "  </tbody>\n",
       "</table>\n",
       "</div>"
      ],
      "text/plain": [
       "metric    Case    D0.1CC      D1CC       D2%       D5%      D50%      D95%  \\\n",
       "0        Case1 -1.646800 -0.623945 -0.581028 -0.802292 -0.157389 -0.915495   \n",
       "1       Case11  1.044115  0.638813  0.633493  0.642739  0.248408 -2.628825   \n",
       "2       Case12  2.279966  0.841989  0.910143  0.601526  0.489112  0.196736   \n",
       "3       Case13  2.109205  1.769138  1.792435  1.538511  1.636643  0.199115   \n",
       "4       Case14  0.812426  0.124380  0.221460 -0.112804  1.857474  0.445066   \n",
       "5       Case16  2.355693  2.143460  2.600956  2.655809  0.429373 -0.788578   \n",
       "6       Case17  0.776133  1.198678  1.226977  1.144944  0.914957 -0.249615   \n",
       "7       Case18  2.824736  2.444145  2.870780  2.600269  1.813520  1.118255   \n",
       "8       Case22 -0.101734  0.334918  0.264370  0.389630  0.299438 -0.164480   \n",
       "9       Case23  2.312454  2.861348  2.438215  2.914029  1.090400 -0.589348   \n",
       "10      Case25  1.529735  1.187615  1.109356  0.983548  2.588827  2.214275   \n",
       "11      Case30  0.251732 -2.393132  0.176925 -0.680814 -4.003114 -8.106377   \n",
       "12      Case31  1.616188  0.119142  1.323012  0.654366 -1.628208 -3.005646   \n",
       "13      Case32 -1.105029  1.071794 -0.855103  0.065303 -0.666683 -2.474900   \n",
       "\n",
       "metric      D99%        DHI      DMAX        DSD  mean_HU    SD_HU  Volume_PTV  \n",
       "0      -1.633518   2.850494 -0.381971  -4.000000 -170.699  272.993        72.9  \n",
       "1      -3.985440  14.416879  1.655380  13.253012 -551.763  279.318        25.2  \n",
       "2      -0.240510   3.974143  3.790751   1.282051 -478.357  276.233        38.6  \n",
       "3      -0.701292   8.237426  1.984733   6.756757 -426.137  296.692        44.7  \n",
       "4      -0.370695  -0.878065  1.803752   0.000000 -432.742  277.356        35.4  \n",
       "5      -1.580805  12.932591  2.277580  13.829787 -601.037  225.056         8.9  \n",
       "6      -0.725107   6.958105  1.416853   2.777778 -275.691  359.180        77.3  \n",
       "7       1.763484   5.879023  3.427266   8.000000 -559.114  243.114        14.1  \n",
       "8      -0.190877   1.062469 -0.221239   2.352941 -363.164  293.196        35.6  \n",
       "9      -1.212738  13.153501  1.972243  16.250000 -650.879  179.334        13.3  \n",
       "10      2.005250  -4.975909  1.586103  -5.194805 -330.158  279.344        67.1  \n",
       "11     -9.471837  38.438829  0.817236  27.027027 -772.415  156.430         6.0  \n",
       "12     -2.816907  18.206116  2.083333  18.571429 -710.175  121.041         7.0  \n",
       "13     -3.160071   6.085658 -0.517751  11.688312 -650.864  248.269         8.5  "
      ]
     },
     "execution_count": 48,
     "metadata": {},
     "output_type": "execute_result"
    }
   ],
   "source": [
    "PTV_all = pd.merge(PTV_metrics, PTV_CT, how='inner', on=[ 'Case'])  # Merge on case \n",
    "PTV_all"
   ]
  },
  {
   "cell_type": "code",
   "execution_count": 49,
   "metadata": {
    "collapsed": false
   },
   "outputs": [],
   "source": [
    "# sns.pairplot(PTV_all)"
   ]
  },
  {
   "cell_type": "code",
   "execution_count": 50,
   "metadata": {
    "collapsed": false
   },
   "outputs": [
    {
     "data": {
      "text/html": [
       "<div>\n",
       "<table border=\"1\" class=\"dataframe\">\n",
       "  <thead>\n",
       "    <tr style=\"text-align: right;\">\n",
       "      <th>metric</th>\n",
       "      <th>D0.1CC</th>\n",
       "      <th>D1CC</th>\n",
       "      <th>D2%</th>\n",
       "      <th>D5%</th>\n",
       "      <th>D50%</th>\n",
       "      <th>D95%</th>\n",
       "      <th>D99%</th>\n",
       "      <th>DHI</th>\n",
       "      <th>DMAX</th>\n",
       "      <th>DSD</th>\n",
       "      <th>mean_HU</th>\n",
       "      <th>SD_HU</th>\n",
       "      <th>Volume_PTV</th>\n",
       "    </tr>\n",
       "    <tr>\n",
       "      <th>metric</th>\n",
       "      <th></th>\n",
       "      <th></th>\n",
       "      <th></th>\n",
       "      <th></th>\n",
       "      <th></th>\n",
       "      <th></th>\n",
       "      <th></th>\n",
       "      <th></th>\n",
       "      <th></th>\n",
       "      <th></th>\n",
       "      <th></th>\n",
       "      <th></th>\n",
       "      <th></th>\n",
       "    </tr>\n",
       "  </thead>\n",
       "  <tbody>\n",
       "    <tr>\n",
       "      <th>D0.1CC</th>\n",
       "      <td>1.000000</td>\n",
       "      <td>0.617233</td>\n",
       "      <td>0.906268</td>\n",
       "      <td>0.796625</td>\n",
       "      <td>0.400423</td>\n",
       "      <td>0.340136</td>\n",
       "      <td>0.359652</td>\n",
       "      <td>0.041674</td>\n",
       "      <td>0.914514</td>\n",
       "      <td>0.167788</td>\n",
       "      <td>-0.307133</td>\n",
       "      <td>-0.165632</td>\n",
       "      <td>-0.265892</td>\n",
       "    </tr>\n",
       "    <tr>\n",
       "      <th>D1CC</th>\n",
       "      <td>0.617233</td>\n",
       "      <td>1.000000</td>\n",
       "      <td>0.713018</td>\n",
       "      <td>0.894005</td>\n",
       "      <td>0.724770</td>\n",
       "      <td>0.686345</td>\n",
       "      <td>0.682077</td>\n",
       "      <td>-0.440057</td>\n",
       "      <td>0.454783</td>\n",
       "      <td>-0.164922</td>\n",
       "      <td>0.027899</td>\n",
       "      <td>0.202278</td>\n",
       "      <td>-0.050963</td>\n",
       "    </tr>\n",
       "    <tr>\n",
       "      <th>D2%</th>\n",
       "      <td>0.906268</td>\n",
       "      <td>0.713018</td>\n",
       "      <td>1.000000</td>\n",
       "      <td>0.928403</td>\n",
       "      <td>0.399044</td>\n",
       "      <td>0.350939</td>\n",
       "      <td>0.383756</td>\n",
       "      <td>0.061968</td>\n",
       "      <td>0.742861</td>\n",
       "      <td>0.194483</td>\n",
       "      <td>-0.225131</td>\n",
       "      <td>-0.166141</td>\n",
       "      <td>-0.225930</td>\n",
       "    </tr>\n",
       "    <tr>\n",
       "      <th>D5%</th>\n",
       "      <td>0.796625</td>\n",
       "      <td>0.894005</td>\n",
       "      <td>0.928403</td>\n",
       "      <td>1.000000</td>\n",
       "      <td>0.501597</td>\n",
       "      <td>0.445250</td>\n",
       "      <td>0.462563</td>\n",
       "      <td>-0.085805</td>\n",
       "      <td>0.586004</td>\n",
       "      <td>0.141344</td>\n",
       "      <td>-0.204784</td>\n",
       "      <td>-0.064768</td>\n",
       "      <td>-0.244744</td>\n",
       "    </tr>\n",
       "    <tr>\n",
       "      <th>D50%</th>\n",
       "      <td>0.400423</td>\n",
       "      <td>0.724770</td>\n",
       "      <td>0.399044</td>\n",
       "      <td>0.501597</td>\n",
       "      <td>1.000000</td>\n",
       "      <td>0.952730</td>\n",
       "      <td>0.908601</td>\n",
       "      <td>-0.831142</td>\n",
       "      <td>0.346984</td>\n",
       "      <td>-0.711395</td>\n",
       "      <td>0.550795</td>\n",
       "      <td>0.602303</td>\n",
       "      <td>0.458585</td>\n",
       "    </tr>\n",
       "    <tr>\n",
       "      <th>D95%</th>\n",
       "      <td>0.340136</td>\n",
       "      <td>0.686345</td>\n",
       "      <td>0.350939</td>\n",
       "      <td>0.445250</td>\n",
       "      <td>0.952730</td>\n",
       "      <td>1.000000</td>\n",
       "      <td>0.985553</td>\n",
       "      <td>-0.908367</td>\n",
       "      <td>0.318612</td>\n",
       "      <td>-0.800725</td>\n",
       "      <td>0.623298</td>\n",
       "      <td>0.579437</td>\n",
       "      <td>0.504028</td>\n",
       "    </tr>\n",
       "    <tr>\n",
       "      <th>D99%</th>\n",
       "      <td>0.359652</td>\n",
       "      <td>0.682077</td>\n",
       "      <td>0.383756</td>\n",
       "      <td>0.462563</td>\n",
       "      <td>0.908601</td>\n",
       "      <td>0.985553</td>\n",
       "      <td>1.000000</td>\n",
       "      <td>-0.885961</td>\n",
       "      <td>0.338290</td>\n",
       "      <td>-0.763182</td>\n",
       "      <td>0.573815</td>\n",
       "      <td>0.502432</td>\n",
       "      <td>0.448762</td>\n",
       "    </tr>\n",
       "    <tr>\n",
       "      <th>DHI</th>\n",
       "      <td>0.041674</td>\n",
       "      <td>-0.440057</td>\n",
       "      <td>0.061968</td>\n",
       "      <td>-0.085805</td>\n",
       "      <td>-0.831142</td>\n",
       "      <td>-0.908367</td>\n",
       "      <td>-0.885961</td>\n",
       "      <td>1.000000</td>\n",
       "      <td>0.001690</td>\n",
       "      <td>0.914548</td>\n",
       "      <td>-0.724182</td>\n",
       "      <td>-0.663931</td>\n",
       "      <td>-0.580604</td>\n",
       "    </tr>\n",
       "    <tr>\n",
       "      <th>DMAX</th>\n",
       "      <td>0.914514</td>\n",
       "      <td>0.454783</td>\n",
       "      <td>0.742861</td>\n",
       "      <td>0.586004</td>\n",
       "      <td>0.346984</td>\n",
       "      <td>0.318612</td>\n",
       "      <td>0.338290</td>\n",
       "      <td>0.001690</td>\n",
       "      <td>1.000000</td>\n",
       "      <td>0.052740</td>\n",
       "      <td>-0.225475</td>\n",
       "      <td>-0.098497</td>\n",
       "      <td>-0.174584</td>\n",
       "    </tr>\n",
       "    <tr>\n",
       "      <th>DSD</th>\n",
       "      <td>0.167788</td>\n",
       "      <td>-0.164922</td>\n",
       "      <td>0.194483</td>\n",
       "      <td>0.141344</td>\n",
       "      <td>-0.711395</td>\n",
       "      <td>-0.800725</td>\n",
       "      <td>-0.763182</td>\n",
       "      <td>0.914548</td>\n",
       "      <td>0.052740</td>\n",
       "      <td>1.000000</td>\n",
       "      <td>-0.906221</td>\n",
       "      <td>-0.755551</td>\n",
       "      <td>-0.815883</td>\n",
       "    </tr>\n",
       "    <tr>\n",
       "      <th>mean_HU</th>\n",
       "      <td>-0.307133</td>\n",
       "      <td>0.027899</td>\n",
       "      <td>-0.225131</td>\n",
       "      <td>-0.204784</td>\n",
       "      <td>0.550795</td>\n",
       "      <td>0.623298</td>\n",
       "      <td>0.573815</td>\n",
       "      <td>-0.724182</td>\n",
       "      <td>-0.225475</td>\n",
       "      <td>-0.906221</td>\n",
       "      <td>1.000000</td>\n",
       "      <td>0.801587</td>\n",
       "      <td>0.938490</td>\n",
       "    </tr>\n",
       "    <tr>\n",
       "      <th>SD_HU</th>\n",
       "      <td>-0.165632</td>\n",
       "      <td>0.202278</td>\n",
       "      <td>-0.166141</td>\n",
       "      <td>-0.064768</td>\n",
       "      <td>0.602303</td>\n",
       "      <td>0.579437</td>\n",
       "      <td>0.502432</td>\n",
       "      <td>-0.663931</td>\n",
       "      <td>-0.098497</td>\n",
       "      <td>-0.755551</td>\n",
       "      <td>0.801587</td>\n",
       "      <td>1.000000</td>\n",
       "      <td>0.753597</td>\n",
       "    </tr>\n",
       "    <tr>\n",
       "      <th>Volume_PTV</th>\n",
       "      <td>-0.265892</td>\n",
       "      <td>-0.050963</td>\n",
       "      <td>-0.225930</td>\n",
       "      <td>-0.244744</td>\n",
       "      <td>0.458585</td>\n",
       "      <td>0.504028</td>\n",
       "      <td>0.448762</td>\n",
       "      <td>-0.580604</td>\n",
       "      <td>-0.174584</td>\n",
       "      <td>-0.815883</td>\n",
       "      <td>0.938490</td>\n",
       "      <td>0.753597</td>\n",
       "      <td>1.000000</td>\n",
       "    </tr>\n",
       "  </tbody>\n",
       "</table>\n",
       "</div>"
      ],
      "text/plain": [
       "metric        D0.1CC      D1CC       D2%       D5%      D50%      D95%  \\\n",
       "metric                                                                   \n",
       "D0.1CC      1.000000  0.617233  0.906268  0.796625  0.400423  0.340136   \n",
       "D1CC        0.617233  1.000000  0.713018  0.894005  0.724770  0.686345   \n",
       "D2%         0.906268  0.713018  1.000000  0.928403  0.399044  0.350939   \n",
       "D5%         0.796625  0.894005  0.928403  1.000000  0.501597  0.445250   \n",
       "D50%        0.400423  0.724770  0.399044  0.501597  1.000000  0.952730   \n",
       "D95%        0.340136  0.686345  0.350939  0.445250  0.952730  1.000000   \n",
       "D99%        0.359652  0.682077  0.383756  0.462563  0.908601  0.985553   \n",
       "DHI         0.041674 -0.440057  0.061968 -0.085805 -0.831142 -0.908367   \n",
       "DMAX        0.914514  0.454783  0.742861  0.586004  0.346984  0.318612   \n",
       "DSD         0.167788 -0.164922  0.194483  0.141344 -0.711395 -0.800725   \n",
       "mean_HU    -0.307133  0.027899 -0.225131 -0.204784  0.550795  0.623298   \n",
       "SD_HU      -0.165632  0.202278 -0.166141 -0.064768  0.602303  0.579437   \n",
       "Volume_PTV -0.265892 -0.050963 -0.225930 -0.244744  0.458585  0.504028   \n",
       "\n",
       "metric          D99%       DHI      DMAX       DSD   mean_HU     SD_HU  \\\n",
       "metric                                                                   \n",
       "D0.1CC      0.359652  0.041674  0.914514  0.167788 -0.307133 -0.165632   \n",
       "D1CC        0.682077 -0.440057  0.454783 -0.164922  0.027899  0.202278   \n",
       "D2%         0.383756  0.061968  0.742861  0.194483 -0.225131 -0.166141   \n",
       "D5%         0.462563 -0.085805  0.586004  0.141344 -0.204784 -0.064768   \n",
       "D50%        0.908601 -0.831142  0.346984 -0.711395  0.550795  0.602303   \n",
       "D95%        0.985553 -0.908367  0.318612 -0.800725  0.623298  0.579437   \n",
       "D99%        1.000000 -0.885961  0.338290 -0.763182  0.573815  0.502432   \n",
       "DHI        -0.885961  1.000000  0.001690  0.914548 -0.724182 -0.663931   \n",
       "DMAX        0.338290  0.001690  1.000000  0.052740 -0.225475 -0.098497   \n",
       "DSD        -0.763182  0.914548  0.052740  1.000000 -0.906221 -0.755551   \n",
       "mean_HU     0.573815 -0.724182 -0.225475 -0.906221  1.000000  0.801587   \n",
       "SD_HU       0.502432 -0.663931 -0.098497 -0.755551  0.801587  1.000000   \n",
       "Volume_PTV  0.448762 -0.580604 -0.174584 -0.815883  0.938490  0.753597   \n",
       "\n",
       "metric      Volume_PTV  \n",
       "metric                  \n",
       "D0.1CC       -0.265892  \n",
       "D1CC         -0.050963  \n",
       "D2%          -0.225930  \n",
       "D5%          -0.244744  \n",
       "D50%          0.458585  \n",
       "D95%          0.504028  \n",
       "D99%          0.448762  \n",
       "DHI          -0.580604  \n",
       "DMAX         -0.174584  \n",
       "DSD          -0.815883  \n",
       "mean_HU       0.938490  \n",
       "SD_HU         0.753597  \n",
       "Volume_PTV    1.000000  "
      ]
     },
     "execution_count": 50,
     "metadata": {},
     "output_type": "execute_result"
    }
   ],
   "source": [
    "PTV_correlations = PTV_all.corr()\n",
    "PTV_correlations"
   ]
  },
  {
   "cell_type": "code",
   "execution_count": 51,
   "metadata": {
    "collapsed": false
   },
   "outputs": [
    {
     "data": {
      "text/plain": [
       "<matplotlib.text.Text at 0xceffcd0>"
      ]
     },
     "execution_count": 51,
     "metadata": {},
     "output_type": "execute_result"
    },
    {
     "data": {
      "image/png": "[encoded data removed]",
      "text/plain": [
       "<matplotlib.figure.Figure at 0xd5de5d0>"
      ]
     },
     "metadata": {},
     "output_type": "display_data"
    }
   ],
   "source": [
    "threshold = 0.1  # only show correlation coefficients greater than a threshold value\n",
    "plt.figure(figsize=(18, 8)) \n",
    "mask = np.zeros_like(PTV_correlations, dtype=np.bool)   # create a mask \n",
    "mask[np.triu_indices_from(mask)] = True\n",
    "\n",
    "\n",
    "ax4 = sns.heatmap(PTV_correlations[PTV_correlations.abs() > threshold], annot=True, mask=mask, linewidths=.5, center=0)\n",
    "ax4.set_title('PTV only: Corellation coefficients of dose differences by metric & CT info ', size='xx-large')"
   ]
  },
  {
   "cell_type": "markdown",
   "metadata": {},
   "source": [
    "# Investigate corellations "
   ]
  },
  {
   "cell_type": "code",
   "execution_count": 143,
   "metadata": {
    "collapsed": false
   },
   "outputs": [
    {
     "data": {
      "image/png": "[encoded data removed]",
      "text/plain": [
       "<matplotlib.figure.Figure at 0x132b1f90>"
      ]
     },
     "metadata": {},
     "output_type": "display_data"
    }
   ],
   "source": [
    "sns.jointplot( \"SD_HU\",\"DHI\", data=PTV_all, kind=\"reg\", color=\"r\", size=6)\n",
    "plt.savefig('corrplot1.png', dpi=300)"
   ]
  },
  {
   "cell_type": "markdown",
   "metadata": {
    "collapsed": true
   },
   "source": [
    "# Testing"
   ]
  },
  {
   "cell_type": "code",
   "execution_count": 32,
   "metadata": {
    "collapsed": false
   },
   "outputs": [
    {
     "name": "stdout",
     "output_type": "stream",
     "text": [
      "7.55692945586e-10\n",
      "7.55692945586e-10\n"
     ]
    },
    {
     "data": {
      "image/png": "[encoded data removed]",
      "text/plain": [
       "<matplotlib.figure.Figure at 0x11624c748>"
      ]
     },
     "metadata": {},
     "output_type": "display_data"
    }
   ],
   "source": [
    "#Test of wilcoxon. See how size of distribution and difference in mean affect result p \n",
    "\n",
    "dist_diff = 0.5\n",
    "samples = 50\n",
    "\n",
    "mu, sigma = 0, 0.1 \n",
    "s = np.random.normal(mu, sigma, samples)\n",
    "\n",
    "mu2, sigma = 0+dist_diff, 0.1 \n",
    "s2 = np.random.normal(mu2, sigma, samples)\n",
    "\n",
    "fig = plt.figure(figsize=(8, 4))\n",
    "plt.subplot(1, 2, 1)\n",
    "plt.hist(s)\n",
    "\n",
    "plt.subplot(1, 2, 2)\n",
    "plt.hist(s2)\n",
    "\n",
    "z_stat, p_val = wilcoxon(s, s2)   # if only 1 value passed\n",
    "print(p_val)\n",
    "\n",
    "z_stat, p_val = wilcoxon(s-s2)   # if only 1 value passed\n",
    "print(p_val)"
   ]
  },
  {
   "cell_type": "code",
   "execution_count": null,
   "metadata": {
    "collapsed": true
   },
   "outputs": [],
   "source": []
  }
 ],
 "metadata": {
  "anaconda-cloud": {},
  "kernelspec": {
   "display_name": "Python [Root]",
   "language": "python",
   "name": "Python [Root]"
  },
  "language_info": {
   "codemirror_mode": {
    "name": "ipython",
    "version": 3
   },
   "file_extension": ".py",
   "mimetype": "text/x-python",
   "name": "python",
   "nbconvert_exporter": "python",
   "pygments_lexer": "ipython3",
   "version": "3.5.2"
  }
 },
 "nbformat": 4,
 "nbformat_minor": 0
}
