{
 "cells": [
  {
   "cell_type": "markdown",
   "metadata": {},
   "source": [
    "Now analysis of parsed data from part 1.\n",
    "\n",
    "Useful ref http://www.shanelynn.ie/summarising-aggregation-and-grouping-data-in-python-pandas/\n",
    "\n",
    "http://stackoverflow.com/questions/21828398/what-is-the-difference-between-pandas-agg-and-apply-function"
   ]
  },
  {
   "cell_type": "code",
   "execution_count": 1,
   "metadata": {
    "collapsed": true
   },
   "outputs": [],
   "source": [
    "import pandas as pd\n",
    "import numpy as np\n",
    "from scipy import stats\n",
    "from scipy.stats import wilcoxon  # must import explicitly\n",
    "import seaborn as sns\n",
    "sns.set(style=\"whitegrid\", palette=\"pastel\", color_codes=True)\n",
    "import matplotlib.pyplot as plt\n",
    "%matplotlib inline"
   ]
  },
  {
   "cell_type": "code",
   "execution_count": 30,
   "metadata": {
    "collapsed": false
   },
   "outputs": [
    {
     "name": "stdout",
     "output_type": "stream",
     "text": [
      "The watermark extension is already loaded. To reload it, use:\n",
      "  %reload_ext watermark\n",
      "Robin Cole \n",
      "last updated: 2016-09-27 \n",
      "\n",
      "CPython 3.5.2\n",
      "IPython 4.2.0\n",
      "\n",
      "numpy 1.11.1\n",
      "pandas 0.18.1\n",
      "matplotlib 1.5.1\n"
     ]
    }
   ],
   "source": [
    "%load_ext watermark\n",
    "%watermark -a 'Robin Cole' -u -d -v -p numpy,pandas,matplotlib"
   ]
  },
  {
   "cell_type": "markdown",
   "metadata": {},
   "source": [
    "## Helper functions"
   ]
  },
  {
   "cell_type": "code",
   "execution_count": 2,
   "metadata": {
    "collapsed": false
   },
   "outputs": [],
   "source": [
    "def query_data(Col, structure, metric):   # helper function to get data, Col = AAA, AXB or diff\n",
    "    temp = d[Col][(d['structure'] == structure) & (d['metric'] == metric)]\n",
    "    return temp"
   ]
  },
  {
   "cell_type": "code",
   "execution_count": 3,
   "metadata": {
    "collapsed": false
   },
   "outputs": [
    {
     "name": "stdout",
     "output_type": "stream",
     "text": [
      "-75.0\n"
     ]
    }
   ],
   "source": [
    "def diff_percent(a,ref):\n",
    "    return 100*((a-ref)/ref)\n",
    "\n",
    "print(diff_percent(25.0,100.0))"
   ]
  },
  {
   "cell_type": "code",
   "execution_count": 39,
   "metadata": {
    "collapsed": false
   },
   "outputs": [],
   "source": [
    "def my_wilcox(data):                    # helper function to return p-value, pass difference data as series from dataframe\n",
    "    z_stat, p_val = wilcoxon(data.as_matrix())   # if only 1 value passed\n",
    "    return p_val"
   ]
  },
  {
   "cell_type": "code",
   "execution_count": 34,
   "metadata": {
    "collapsed": false
   },
   "outputs": [
    {
     "name": "stderr",
     "output_type": "stream",
     "text": [
      "/Users/robincole/anaconda3/lib/python3.5/site-packages/scipy/stats/morestats.py:2384: UserWarning: Warning: sample size too small for normal approximation.\n",
      "  warnings.warn(\"Warning: sample size too small for normal approximation.\")\n"
     ]
    },
    {
     "data": {
      "text/plain": [
       "0.0075792819433897285"
      ]
     },
     "execution_count": 34,
     "metadata": {},
     "output_type": "execute_result"
    }
   ],
   "source": [
    "my_wilcox([1,2,3,4,6,7,2,352,3])"
   ]
  },
  {
   "cell_type": "code",
   "execution_count": 5,
   "metadata": {
    "collapsed": true
   },
   "outputs": [],
   "source": [
    "def bland_altman_plot(data1, data2, structure, metric, *args, **kwargs):\n",
    "    data1     = np.asarray(data1)\n",
    "    data2     = np.asarray(data2)\n",
    "    z_stat, p_val = wilcoxon(data1, data2)\n",
    "    mean      = np.mean([data1, data2], axis=0)\n",
    "    diff      = data1 - data2                   # Difference between data1 and data2\n",
    "    md        = np.mean(diff)                   # Mean of the difference\n",
    "    diff_p = diff_percent(data1, data2)\n",
    "    sd        = np.std(diff_p, axis=0)            # Standard deviation of the difference\n",
    "\n",
    "    plt.scatter(mean, diff_p, *args, **kwargs)\n",
    "    plt.axhline(md,           color='red', linestyle='-')\n",
    "    plt.axhline(md + 1.96*sd, color='blue', linestyle='--')\n",
    "    plt.axhline(md - 1.96*sd, color='blue', linestyle='--')\n",
    "    plt.xlabel('Dose (Gy)')\n",
    "    plt.ylabel('Difference (%)')\n",
    "    plt.title('p value of ' + str(np.round(p_val, decimals = 3))  + ' for ' + structure + ' and metric ' + metric)"
   ]
  },
  {
   "cell_type": "markdown",
   "metadata": {},
   "source": [
    "## Import and clean data "
   ]
  },
  {
   "cell_type": "code",
   "execution_count": 6,
   "metadata": {
    "collapsed": true
   },
   "outputs": [],
   "source": [
    "d = pd.read_csv('AAA_Dm_data.csv')"
   ]
  },
  {
   "cell_type": "markdown",
   "metadata": {},
   "source": [
    "Drop entries with no values, and calculate percent difference"
   ]
  },
  {
   "cell_type": "code",
   "execution_count": 7,
   "metadata": {
    "collapsed": false
   },
   "outputs": [],
   "source": [
    "d = d[d.AAA != 0]    # drop zero rows\n",
    "d = d[d.Dm != 0]    # drop zero rows"
   ]
  },
  {
   "cell_type": "code",
   "execution_count": 8,
   "metadata": {
    "collapsed": false
   },
   "outputs": [],
   "source": [
    "d = d[d.structure != 'L Brachial plex']   # drop these\n",
    "d = d[d.structure != 'Both Lungs']\n",
    "d = d[d.metric != 'V20GY']\n",
    "d = d[d.metric != 'V30GY']\n",
    "d = d[d.metric != 'V40GY']\n",
    "d = d[d.metric != 'V50GY']\n",
    "d = d[d.metric != 'V55GY']\n",
    "d = d[d.metric != 'DRX']"
   ]
  },
  {
   "cell_type": "code",
   "execution_count": 9,
   "metadata": {
    "collapsed": true
   },
   "outputs": [],
   "source": [
    "d['diff'] = diff_percent(d.Dm, d.AAA)  # create % difference col"
   ]
  },
  {
   "cell_type": "code",
   "execution_count": 10,
   "metadata": {
    "collapsed": false
   },
   "outputs": [
    {
     "data": {
      "text/html": [
       "<div>\n",
       "<table border=\"1\" class=\"dataframe\">\n",
       "  <thead>\n",
       "    <tr style=\"text-align: right;\">\n",
       "      <th></th>\n",
       "      <th>Case</th>\n",
       "      <th>structure</th>\n",
       "      <th>metric</th>\n",
       "      <th>AAA</th>\n",
       "      <th>Dm</th>\n",
       "      <th>diff</th>\n",
       "    </tr>\n",
       "  </thead>\n",
       "  <tbody>\n",
       "    <tr>\n",
       "      <th>0</th>\n",
       "      <td>Case1</td>\n",
       "      <td>PTV CHEST</td>\n",
       "      <td>D2%</td>\n",
       "      <td>70.006151</td>\n",
       "      <td>69.599396</td>\n",
       "      <td>-0.581028</td>\n",
       "    </tr>\n",
       "    <tr>\n",
       "      <th>1</th>\n",
       "      <td>Case1</td>\n",
       "      <td>PTV CHEST</td>\n",
       "      <td>D5%</td>\n",
       "      <td>69.602983</td>\n",
       "      <td>69.044564</td>\n",
       "      <td>-0.802292</td>\n",
       "    </tr>\n",
       "    <tr>\n",
       "      <th>2</th>\n",
       "      <td>Case1</td>\n",
       "      <td>PTV CHEST</td>\n",
       "      <td>D50%</td>\n",
       "      <td>65.560826</td>\n",
       "      <td>65.457641</td>\n",
       "      <td>-0.157389</td>\n",
       "    </tr>\n",
       "    <tr>\n",
       "      <th>3</th>\n",
       "      <td>Case1</td>\n",
       "      <td>PTV CHEST</td>\n",
       "      <td>D95%</td>\n",
       "      <td>57.272270</td>\n",
       "      <td>56.747946</td>\n",
       "      <td>-0.915495</td>\n",
       "    </tr>\n",
       "    <tr>\n",
       "      <th>4</th>\n",
       "      <td>Case1</td>\n",
       "      <td>PTV CHEST</td>\n",
       "      <td>D99%</td>\n",
       "      <td>55.580473</td>\n",
       "      <td>54.672556</td>\n",
       "      <td>-1.633518</td>\n",
       "    </tr>\n",
       "  </tbody>\n",
       "</table>\n",
       "</div>"
      ],
      "text/plain": [
       "    Case  structure metric        AAA         Dm      diff\n",
       "0  Case1  PTV CHEST    D2%  70.006151  69.599396 -0.581028\n",
       "1  Case1  PTV CHEST    D5%  69.602983  69.044564 -0.802292\n",
       "2  Case1  PTV CHEST   D50%  65.560826  65.457641 -0.157389\n",
       "3  Case1  PTV CHEST   D95%  57.272270  56.747946 -0.915495\n",
       "4  Case1  PTV CHEST   D99%  55.580473  54.672556 -1.633518"
      ]
     },
     "execution_count": 10,
     "metadata": {},
     "output_type": "execute_result"
    }
   ],
   "source": [
    "d.head()"
   ]
  },
  {
   "cell_type": "code",
   "execution_count": 11,
   "metadata": {
    "collapsed": false
   },
   "outputs": [],
   "source": [
    "# d.describe()"
   ]
  },
  {
   "cell_type": "code",
   "execution_count": 12,
   "metadata": {
    "collapsed": false
   },
   "outputs": [],
   "source": [
    "# d.loc[d['diff'].idxmax()] # Some large differences for L Brachial plex, could be naming issue"
   ]
  },
  {
   "cell_type": "code",
   "execution_count": 13,
   "metadata": {
    "collapsed": false
   },
   "outputs": [],
   "source": [
    "# d[d['diff']>100.0]   # see the extreme cases"
   ]
  },
  {
   "cell_type": "code",
   "execution_count": 14,
   "metadata": {
    "collapsed": true
   },
   "outputs": [],
   "source": [
    "d = d[d['diff']<100.0] # drop extreme cases where difference is greater than 100%"
   ]
  },
  {
   "cell_type": "markdown",
   "metadata": {},
   "source": [
    "# How do the metrics compare for PTV? Extract difference (%) by metric for PTV"
   ]
  },
  {
   "cell_type": "code",
   "execution_count": 15,
   "metadata": {
    "collapsed": false
   },
   "outputs": [
    {
     "data": {
      "text/plain": [
       "metric\n",
       "DHI        9.024376\n",
       "DSD        8.042449\n",
       "DMAX       1.549591\n",
       "D0.1CC     1.075630\n",
       "D2%        1.009428\n",
       "D5%        0.899626\n",
       "D1CC       0.837025\n",
       "D50%       0.350911\n",
       "V5GY       0.000000\n",
       "V12.5GY    0.000000\n",
       "D95%      -1.053558\n",
       "D99%      -1.594362\n",
       "Name: diff, dtype: float64"
      ]
     },
     "execution_count": 15,
     "metadata": {},
     "output_type": "execute_result"
    }
   ],
   "source": [
    "d_PTV =  d[d['structure']  == 'PTV CHEST'].groupby(['metric'])\n",
    "d_PTV = d_PTV.diff.mean()  # get mean diff values\n",
    "d_PTV.sort_values(ascending=False) #d_PTV.groups.keys()"
   ]
  },
  {
   "cell_type": "code",
   "execution_count": 16,
   "metadata": {
    "collapsed": false
   },
   "outputs": [
    {
     "data": {
      "text/plain": [
       "<matplotlib.axes._subplots.AxesSubplot at 0x116b42550>"
      ]
     },
     "execution_count": 16,
     "metadata": {},
     "output_type": "execute_result"
    },
    {
     "data": {
      "image/png": "[encoded data removed]",
      "text/plain": [
       "<matplotlib.figure.Figure at 0x116bd9f60>"
      ]
     },
     "metadata": {},
     "output_type": "display_data"
    }
   ],
   "source": [
    "d_PTV.sort_values(ascending=False).plot(kind='bar', figsize=(12,8))"
   ]
  },
  {
   "cell_type": "code",
   "execution_count": 17,
   "metadata": {
    "collapsed": false
   },
   "outputs": [
    {
     "data": {
      "image/png": "[encoded data removed]",
      "text/plain": [
       "<matplotlib.figure.Figure at 0x116b66320>"
      ]
     },
     "metadata": {},
     "output_type": "display_data"
    }
   ],
   "source": [
    "fig = plt.figure(figsize=(6, 4))\n",
    "structure = 'PTV CHEST'\n",
    "metric = 'D50%'\n",
    "bland_altman_plot(query_data('Dm', structure, metric), query_data('AAA',structure, metric), structure, metric)\n",
    "plt.show()"
   ]
  },
  {
   "cell_type": "markdown",
   "metadata": {},
   "source": [
    "Histograms of data PTV data"
   ]
  },
  {
   "cell_type": "code",
   "execution_count": 18,
   "metadata": {
    "collapsed": false
   },
   "outputs": [
    {
     "name": "stderr",
     "output_type": "stream",
     "text": [
      "/Users/robincole/anaconda3/lib/python3.5/site-packages/statsmodels/nonparametric/kdetools.py:20: VisibleDeprecationWarning: using a non-integer number instead of an integer will result in an error in the future\n",
      "  y = X[:m/2+1] + np.r_[0,X[m/2+1:],0]*1j\n"
     ]
    },
    {
     "data": {
      "image/png": "[encoded data removed]",
      "text/plain": [
       "<matplotlib.figure.Figure at 0x116d4ecf8>"
      ]
     },
     "metadata": {},
     "output_type": "display_data"
    }
   ],
   "source": [
    "#ax2 = sns.distplot(query_data('diff', 'PTV CHEST', 'D50%'))   # quick test\n",
    "\n",
    "fig = plt.figure(figsize=(6, 4))\n",
    "data=query_data('diff', 'PTV CHEST', 'D50%')\n",
    "\n",
    "# plt.subplot(1, 2, 1)\n",
    "ax2 = sns.distplot(data)\n",
    "\n",
    "#plt.subplot(1, 2, 2)\n",
    "#ax = sns.violinplot(data)  "
   ]
  },
  {
   "cell_type": "markdown",
   "metadata": {},
   "source": [
    "# Extract stats grouped by structure for D50% metric"
   ]
  },
  {
   "cell_type": "code",
   "execution_count": 19,
   "metadata": {
    "collapsed": false
   },
   "outputs": [
    {
     "data": {
      "text/html": [
       "<div>\n",
       "<table border=\"1\" class=\"dataframe\">\n",
       "  <thead>\n",
       "    <tr>\n",
       "      <th></th>\n",
       "      <th colspan=\"4\" halign=\"left\">diff</th>\n",
       "      <th colspan=\"4\" halign=\"left\">AAA</th>\n",
       "      <th colspan=\"4\" halign=\"left\">Dm</th>\n",
       "    </tr>\n",
       "    <tr>\n",
       "      <th></th>\n",
       "      <th>Variance</th>\n",
       "      <th>SEM</th>\n",
       "      <th>Counts</th>\n",
       "      <th>Mean</th>\n",
       "      <th>Variance</th>\n",
       "      <th>SEM</th>\n",
       "      <th>Counts</th>\n",
       "      <th>Mean</th>\n",
       "      <th>Variance</th>\n",
       "      <th>SEM</th>\n",
       "      <th>Counts</th>\n",
       "      <th>Mean</th>\n",
       "    </tr>\n",
       "    <tr>\n",
       "      <th>structure</th>\n",
       "      <th></th>\n",
       "      <th></th>\n",
       "      <th></th>\n",
       "      <th></th>\n",
       "      <th></th>\n",
       "      <th></th>\n",
       "      <th></th>\n",
       "      <th></th>\n",
       "      <th></th>\n",
       "      <th></th>\n",
       "      <th></th>\n",
       "      <th></th>\n",
       "    </tr>\n",
       "  </thead>\n",
       "  <tbody>\n",
       "    <tr>\n",
       "      <th>Foramen</th>\n",
       "      <td>50.995699</td>\n",
       "      <td>1.980592</td>\n",
       "      <td>13</td>\n",
       "      <td>-5.058686</td>\n",
       "      <td>3.029865</td>\n",
       "      <td>0.482770</td>\n",
       "      <td>13</td>\n",
       "      <td>1.532283</td>\n",
       "      <td>2.817111</td>\n",
       "      <td>0.465511</td>\n",
       "      <td>13</td>\n",
       "      <td>1.451497</td>\n",
       "    </tr>\n",
       "    <tr>\n",
       "      <th>Heart</th>\n",
       "      <td>127.408121</td>\n",
       "      <td>3.016717</td>\n",
       "      <td>14</td>\n",
       "      <td>8.372282</td>\n",
       "      <td>1.599139</td>\n",
       "      <td>0.337971</td>\n",
       "      <td>14</td>\n",
       "      <td>1.010267</td>\n",
       "      <td>1.536309</td>\n",
       "      <td>0.331265</td>\n",
       "      <td>14</td>\n",
       "      <td>1.006369</td>\n",
       "    </tr>\n",
       "    <tr>\n",
       "      <th>Lt_Lung</th>\n",
       "      <td>33.384712</td>\n",
       "      <td>1.544222</td>\n",
       "      <td>14</td>\n",
       "      <td>-5.437559</td>\n",
       "      <td>1.433543</td>\n",
       "      <td>0.319994</td>\n",
       "      <td>14</td>\n",
       "      <td>1.166398</td>\n",
       "      <td>1.451211</td>\n",
       "      <td>0.321960</td>\n",
       "      <td>14</td>\n",
       "      <td>1.135430</td>\n",
       "    </tr>\n",
       "    <tr>\n",
       "      <th>Oesophagus</th>\n",
       "      <td>91.743879</td>\n",
       "      <td>2.559909</td>\n",
       "      <td>14</td>\n",
       "      <td>1.256873</td>\n",
       "      <td>7.751505</td>\n",
       "      <td>0.744096</td>\n",
       "      <td>14</td>\n",
       "      <td>1.297815</td>\n",
       "      <td>7.247245</td>\n",
       "      <td>0.719486</td>\n",
       "      <td>14</td>\n",
       "      <td>1.268311</td>\n",
       "    </tr>\n",
       "    <tr>\n",
       "      <th>PTV CHEST</th>\n",
       "      <td>2.780158</td>\n",
       "      <td>0.445626</td>\n",
       "      <td>14</td>\n",
       "      <td>0.350911</td>\n",
       "      <td>5.201402</td>\n",
       "      <td>0.609532</td>\n",
       "      <td>14</td>\n",
       "      <td>63.821273</td>\n",
       "      <td>8.678068</td>\n",
       "      <td>0.787313</td>\n",
       "      <td>14</td>\n",
       "      <td>64.063104</td>\n",
       "    </tr>\n",
       "    <tr>\n",
       "      <th>Rt_Lung</th>\n",
       "      <td>39.947631</td>\n",
       "      <td>1.689202</td>\n",
       "      <td>14</td>\n",
       "      <td>-5.027630</td>\n",
       "      <td>1.128225</td>\n",
       "      <td>0.283879</td>\n",
       "      <td>14</td>\n",
       "      <td>0.957381</td>\n",
       "      <td>1.102932</td>\n",
       "      <td>0.280679</td>\n",
       "      <td>14</td>\n",
       "      <td>0.925061</td>\n",
       "    </tr>\n",
       "  </tbody>\n",
       "</table>\n",
       "</div>"
      ],
      "text/plain": [
       "                  diff                                  AAA                   \\\n",
       "              Variance       SEM Counts      Mean  Variance       SEM Counts   \n",
       "structure                                                                      \n",
       "Foramen      50.995699  1.980592     13 -5.058686  3.029865  0.482770     13   \n",
       "Heart       127.408121  3.016717     14  8.372282  1.599139  0.337971     14   \n",
       "Lt_Lung      33.384712  1.544222     14 -5.437559  1.433543  0.319994     14   \n",
       "Oesophagus   91.743879  2.559909     14  1.256873  7.751505  0.744096     14   \n",
       "PTV CHEST     2.780158  0.445626     14  0.350911  5.201402  0.609532     14   \n",
       "Rt_Lung      39.947631  1.689202     14 -5.027630  1.128225  0.283879     14   \n",
       "\n",
       "                             Dm                              \n",
       "                 Mean  Variance       SEM Counts       Mean  \n",
       "structure                                                    \n",
       "Foramen      1.532283  2.817111  0.465511     13   1.451497  \n",
       "Heart        1.010267  1.536309  0.331265     14   1.006369  \n",
       "Lt_Lung      1.166398  1.451211  0.321960     14   1.135430  \n",
       "Oesophagus   1.297815  7.247245  0.719486     14   1.268311  \n",
       "PTV CHEST   63.821273  8.678068  0.787313     14  64.063104  \n",
       "Rt_Lung      0.957381  1.102932  0.280679     14   0.925061  "
      ]
     },
     "execution_count": 19,
     "metadata": {},
     "output_type": "execute_result"
    }
   ],
   "source": [
    "stats = {  'Mean' : 'mean', 'Variance':'var', 'SEM':'sem', 'Counts':'count'} \n",
    "\n",
    "aggregations = {'diff': stats, 'AAA': stats, 'Dm': stats}\n",
    "\n",
    "res_table = d[d['metric']  == 'D50%'].groupby(['structure']).agg(aggregations)\n",
    "res_table"
   ]
  },
  {
   "cell_type": "markdown",
   "metadata": {},
   "source": [
    "# Mean difference grouped by structure and metric for difference (%) only"
   ]
  },
  {
   "cell_type": "code",
   "execution_count": 20,
   "metadata": {
    "collapsed": false
   },
   "outputs": [],
   "source": [
    "res_table2 = d.groupby(['structure', 'metric'],as_index=False).mean()  # just get mean values "
   ]
  },
  {
   "cell_type": "code",
   "execution_count": 21,
   "metadata": {
    "collapsed": false
   },
   "outputs": [
    {
     "data": {
      "text/html": [
       "<div>\n",
       "<table border=\"1\" class=\"dataframe\">\n",
       "  <thead>\n",
       "    <tr style=\"text-align: right;\">\n",
       "      <th>metric</th>\n",
       "      <th>D0.1CC</th>\n",
       "      <th>D1CC</th>\n",
       "      <th>D2%</th>\n",
       "      <th>D5%</th>\n",
       "      <th>D50%</th>\n",
       "      <th>D95%</th>\n",
       "      <th>D99%</th>\n",
       "      <th>DHI</th>\n",
       "      <th>DMAX</th>\n",
       "      <th>DSD</th>\n",
       "      <th>V12.5GY</th>\n",
       "      <th>V5GY</th>\n",
       "    </tr>\n",
       "    <tr>\n",
       "      <th>structure</th>\n",
       "      <th></th>\n",
       "      <th></th>\n",
       "      <th></th>\n",
       "      <th></th>\n",
       "      <th></th>\n",
       "      <th></th>\n",
       "      <th></th>\n",
       "      <th></th>\n",
       "      <th></th>\n",
       "      <th></th>\n",
       "      <th></th>\n",
       "      <th></th>\n",
       "    </tr>\n",
       "  </thead>\n",
       "  <tbody>\n",
       "    <tr>\n",
       "      <th>Foramen</th>\n",
       "      <td>-2.745287</td>\n",
       "      <td>-2.747195</td>\n",
       "      <td>-2.703956</td>\n",
       "      <td>-2.732047</td>\n",
       "      <td>-5.058686</td>\n",
       "      <td>12.854786</td>\n",
       "      <td>19.582669</td>\n",
       "      <td>2.907343</td>\n",
       "      <td>-2.445338</td>\n",
       "      <td>-2.195452</td>\n",
       "      <td>-29.416592</td>\n",
       "      <td>-6.255900</td>\n",
       "    </tr>\n",
       "    <tr>\n",
       "      <th>Heart</th>\n",
       "      <td>-5.384663</td>\n",
       "      <td>2.296446</td>\n",
       "      <td>-1.078786</td>\n",
       "      <td>-1.497848</td>\n",
       "      <td>8.372282</td>\n",
       "      <td>34.863062</td>\n",
       "      <td>26.436916</td>\n",
       "      <td>-9.622790</td>\n",
       "      <td>2.578635</td>\n",
       "      <td>-2.770943</td>\n",
       "      <td>-15.894746</td>\n",
       "      <td>-4.184432</td>\n",
       "    </tr>\n",
       "    <tr>\n",
       "      <th>Lt_Lung</th>\n",
       "      <td>0.674173</td>\n",
       "      <td>0.747234</td>\n",
       "      <td>0.699098</td>\n",
       "      <td>0.919857</td>\n",
       "      <td>-5.437559</td>\n",
       "      <td>3.695552</td>\n",
       "      <td>2.869290</td>\n",
       "      <td>6.845067</td>\n",
       "      <td>1.106428</td>\n",
       "      <td>0.608868</td>\n",
       "      <td>0.735817</td>\n",
       "      <td>4.653442</td>\n",
       "    </tr>\n",
       "    <tr>\n",
       "      <th>Oesophagus</th>\n",
       "      <td>-1.876384</td>\n",
       "      <td>-1.666487</td>\n",
       "      <td>-1.700855</td>\n",
       "      <td>-1.591563</td>\n",
       "      <td>1.256873</td>\n",
       "      <td>28.833957</td>\n",
       "      <td>8.221215</td>\n",
       "      <td>-2.492459</td>\n",
       "      <td>-2.002628</td>\n",
       "      <td>-1.725985</td>\n",
       "      <td>-24.588094</td>\n",
       "      <td>-1.943005</td>\n",
       "    </tr>\n",
       "    <tr>\n",
       "      <th>PTV CHEST</th>\n",
       "      <td>1.075630</td>\n",
       "      <td>0.837025</td>\n",
       "      <td>1.009428</td>\n",
       "      <td>0.899626</td>\n",
       "      <td>0.350911</td>\n",
       "      <td>-1.053558</td>\n",
       "      <td>-1.594362</td>\n",
       "      <td>9.024376</td>\n",
       "      <td>1.549591</td>\n",
       "      <td>8.042449</td>\n",
       "      <td>0.000000</td>\n",
       "      <td>0.000000</td>\n",
       "    </tr>\n",
       "    <tr>\n",
       "      <th>Rt_Lung</th>\n",
       "      <td>0.592606</td>\n",
       "      <td>0.336425</td>\n",
       "      <td>1.079684</td>\n",
       "      <td>1.679479</td>\n",
       "      <td>-5.027630</td>\n",
       "      <td>-4.517919</td>\n",
       "      <td>-5.014959</td>\n",
       "      <td>6.999853</td>\n",
       "      <td>0.948142</td>\n",
       "      <td>1.223104</td>\n",
       "      <td>-8.594444</td>\n",
       "      <td>3.501837</td>\n",
       "    </tr>\n",
       "  </tbody>\n",
       "</table>\n",
       "</div>"
      ],
      "text/plain": [
       "metric        D0.1CC      D1CC       D2%       D5%      D50%       D95%  \\\n",
       "structure                                                                 \n",
       "Foramen    -2.745287 -2.747195 -2.703956 -2.732047 -5.058686  12.854786   \n",
       "Heart      -5.384663  2.296446 -1.078786 -1.497848  8.372282  34.863062   \n",
       "Lt_Lung     0.674173  0.747234  0.699098  0.919857 -5.437559   3.695552   \n",
       "Oesophagus -1.876384 -1.666487 -1.700855 -1.591563  1.256873  28.833957   \n",
       "PTV CHEST   1.075630  0.837025  1.009428  0.899626  0.350911  -1.053558   \n",
       "Rt_Lung     0.592606  0.336425  1.079684  1.679479 -5.027630  -4.517919   \n",
       "\n",
       "metric           D99%       DHI      DMAX       DSD    V12.5GY      V5GY  \n",
       "structure                                                                 \n",
       "Foramen     19.582669  2.907343 -2.445338 -2.195452 -29.416592 -6.255900  \n",
       "Heart       26.436916 -9.622790  2.578635 -2.770943 -15.894746 -4.184432  \n",
       "Lt_Lung      2.869290  6.845067  1.106428  0.608868   0.735817  4.653442  \n",
       "Oesophagus   8.221215 -2.492459 -2.002628 -1.725985 -24.588094 -1.943005  \n",
       "PTV CHEST   -1.594362  9.024376  1.549591  8.042449   0.000000  0.000000  \n",
       "Rt_Lung     -5.014959  6.999853  0.948142  1.223104  -8.594444  3.501837  "
      ]
     },
     "execution_count": 21,
     "metadata": {},
     "output_type": "execute_result"
    }
   ],
   "source": [
    "diff_table = res_table2.pivot(index='structure', columns='metric', values='diff')  # pivot table for diff values\n",
    "diff_table"
   ]
  },
  {
   "cell_type": "code",
   "execution_count": 22,
   "metadata": {
    "collapsed": false
   },
   "outputs": [
    {
     "data": {
      "text/plain": [
       "<matplotlib.text.Text at 0x116e5e630>"
      ]
     },
     "execution_count": 22,
     "metadata": {},
     "output_type": "execute_result"
    },
    {
     "data": {
      "image/png": "[encoded data removed]",
      "text/plain": [
       "<matplotlib.figure.Figure at 0x116dbeac8>"
      ]
     },
     "metadata": {},
     "output_type": "display_data"
    }
   ],
   "source": [
    "plt.figure(figsize=(22, 8))\n",
    "ax1 = sns.heatmap(diff_table, annot=True, linewidths=2.0, cbar=True)\n",
    "ax1.set_title('Dose differences (%) by structure and metric', size='xx-large')"
   ]
  },
  {
   "cell_type": "code",
   "execution_count": 23,
   "metadata": {
    "collapsed": false
   },
   "outputs": [
    {
     "data": {
      "text/html": [
       "<div>\n",
       "<table border=\"1\" class=\"dataframe\">\n",
       "  <thead>\n",
       "    <tr style=\"text-align: right;\">\n",
       "      <th></th>\n",
       "      <th>Case</th>\n",
       "      <th>structure</th>\n",
       "      <th>metric</th>\n",
       "      <th>AAA</th>\n",
       "      <th>Dm</th>\n",
       "      <th>diff</th>\n",
       "    </tr>\n",
       "  </thead>\n",
       "  <tbody>\n",
       "    <tr>\n",
       "      <th>255</th>\n",
       "      <td>Case1</td>\n",
       "      <td>Heart</td>\n",
       "      <td>D95%</td>\n",
       "      <td>0.152595</td>\n",
       "      <td>0.190120</td>\n",
       "      <td>24.591114</td>\n",
       "    </tr>\n",
       "    <tr>\n",
       "      <th>273</th>\n",
       "      <td>Case11</td>\n",
       "      <td>Heart</td>\n",
       "      <td>D95%</td>\n",
       "      <td>0.210060</td>\n",
       "      <td>0.263952</td>\n",
       "      <td>25.655575</td>\n",
       "    </tr>\n",
       "    <tr>\n",
       "      <th>291</th>\n",
       "      <td>Case12</td>\n",
       "      <td>Heart</td>\n",
       "      <td>D95%</td>\n",
       "      <td>0.350915</td>\n",
       "      <td>0.365865</td>\n",
       "      <td>4.260106</td>\n",
       "    </tr>\n",
       "    <tr>\n",
       "      <th>309</th>\n",
       "      <td>Case13</td>\n",
       "      <td>Heart</td>\n",
       "      <td>D95%</td>\n",
       "      <td>0.110997</td>\n",
       "      <td>0.137072</td>\n",
       "      <td>23.491588</td>\n",
       "    </tr>\n",
       "    <tr>\n",
       "      <th>345</th>\n",
       "      <td>Case16</td>\n",
       "      <td>Heart</td>\n",
       "      <td>D95%</td>\n",
       "      <td>0.050923</td>\n",
       "      <td>0.065459</td>\n",
       "      <td>28.544222</td>\n",
       "    </tr>\n",
       "    <tr>\n",
       "      <th>363</th>\n",
       "      <td>Case17</td>\n",
       "      <td>Heart</td>\n",
       "      <td>D95%</td>\n",
       "      <td>0.490982</td>\n",
       "      <td>0.558041</td>\n",
       "      <td>13.658002</td>\n",
       "    </tr>\n",
       "    <tr>\n",
       "      <th>381</th>\n",
       "      <td>Case18</td>\n",
       "      <td>Heart</td>\n",
       "      <td>D95%</td>\n",
       "      <td>0.030323</td>\n",
       "      <td>0.059717</td>\n",
       "      <td>96.936040</td>\n",
       "    </tr>\n",
       "    <tr>\n",
       "      <th>399</th>\n",
       "      <td>Case22</td>\n",
       "      <td>Heart</td>\n",
       "      <td>D95%</td>\n",
       "      <td>1.022610</td>\n",
       "      <td>0.966026</td>\n",
       "      <td>-5.533233</td>\n",
       "    </tr>\n",
       "    <tr>\n",
       "      <th>417</th>\n",
       "      <td>Case23</td>\n",
       "      <td>Heart</td>\n",
       "      <td>D95%</td>\n",
       "      <td>0.005815</td>\n",
       "      <td>0.008445</td>\n",
       "      <td>45.218978</td>\n",
       "    </tr>\n",
       "    <tr>\n",
       "      <th>435</th>\n",
       "      <td>Case25</td>\n",
       "      <td>Heart</td>\n",
       "      <td>D95%</td>\n",
       "      <td>0.389428</td>\n",
       "      <td>0.411698</td>\n",
       "      <td>5.718591</td>\n",
       "    </tr>\n",
       "    <tr>\n",
       "      <th>453</th>\n",
       "      <td>Case30</td>\n",
       "      <td>Heart</td>\n",
       "      <td>D95%</td>\n",
       "      <td>0.055100</td>\n",
       "      <td>0.068303</td>\n",
       "      <td>23.962480</td>\n",
       "    </tr>\n",
       "    <tr>\n",
       "      <th>471</th>\n",
       "      <td>Case31</td>\n",
       "      <td>Heart</td>\n",
       "      <td>D95%</td>\n",
       "      <td>0.035457</td>\n",
       "      <td>0.064937</td>\n",
       "      <td>83.143180</td>\n",
       "    </tr>\n",
       "    <tr>\n",
       "      <th>489</th>\n",
       "      <td>Case32</td>\n",
       "      <td>Heart</td>\n",
       "      <td>D95%</td>\n",
       "      <td>0.034901</td>\n",
       "      <td>0.064069</td>\n",
       "      <td>83.573167</td>\n",
       "    </tr>\n",
       "  </tbody>\n",
       "</table>\n",
       "</div>"
      ],
      "text/plain": [
       "       Case structure metric       AAA        Dm       diff\n",
       "255   Case1     Heart   D95%  0.152595  0.190120  24.591114\n",
       "273  Case11     Heart   D95%  0.210060  0.263952  25.655575\n",
       "291  Case12     Heart   D95%  0.350915  0.365865   4.260106\n",
       "309  Case13     Heart   D95%  0.110997  0.137072  23.491588\n",
       "345  Case16     Heart   D95%  0.050923  0.065459  28.544222\n",
       "363  Case17     Heart   D95%  0.490982  0.558041  13.658002\n",
       "381  Case18     Heart   D95%  0.030323  0.059717  96.936040\n",
       "399  Case22     Heart   D95%  1.022610  0.966026  -5.533233\n",
       "417  Case23     Heart   D95%  0.005815  0.008445  45.218978\n",
       "435  Case25     Heart   D95%  0.389428  0.411698   5.718591\n",
       "453  Case30     Heart   D95%  0.055100  0.068303  23.962480\n",
       "471  Case31     Heart   D95%  0.035457  0.064937  83.143180\n",
       "489  Case32     Heart   D95%  0.034901  0.064069  83.573167"
      ]
     },
     "execution_count": 23,
     "metadata": {},
     "output_type": "execute_result"
    }
   ],
   "source": [
    "d[(d['structure'] == 'Heart') & (d['metric'] == 'D95%')] # show data for single structure and metric"
   ]
  },
  {
   "cell_type": "code",
   "execution_count": 24,
   "metadata": {
    "collapsed": false
   },
   "outputs": [
    {
     "data": {
      "text/plain": [
       "Index(['D0.1CC', 'D1CC', 'D2%', 'D5%', 'D50%', 'D95%', 'D99%', 'DHI', 'DMAX',\n",
       "       'DSD', 'V12.5GY', 'V5GY'],\n",
       "      dtype='object', name='metric')"
      ]
     },
     "execution_count": 24,
     "metadata": {},
     "output_type": "execute_result"
    }
   ],
   "source": [
    "metrics_list = diff_table.keys()  # get the keys for later\n",
    "metrics_list"
   ]
  },
  {
   "cell_type": "code",
   "execution_count": 25,
   "metadata": {
    "collapsed": false
   },
   "outputs": [
    {
     "data": {
      "text/plain": [
       "array(['Foramen', 'Heart', 'Lt_Lung', 'Oesophagus', 'PTV CHEST', 'Rt_Lung'], dtype=object)"
      ]
     },
     "execution_count": 25,
     "metadata": {},
     "output_type": "execute_result"
    }
   ],
   "source": [
    "structures_list = diff_table.index.values\n",
    "structures_list"
   ]
  },
  {
   "cell_type": "markdown",
   "metadata": {},
   "source": [
    "## Get wilcoxon p value of differences "
   ]
  },
  {
   "cell_type": "code",
   "execution_count": 40,
   "metadata": {
    "collapsed": false
   },
   "outputs": [
    {
     "data": {
      "text/plain": [
       "0.025842854459788903"
      ]
     },
     "execution_count": 40,
     "metadata": {},
     "output_type": "execute_result"
    }
   ],
   "source": [
    "test = d[(d['structure'] == 'PTV CHEST') & (d['metric'] == 'D5%')]['diff']\n",
    "my_wilcox(test)  # test"
   ]
  },
  {
   "cell_type": "code",
   "execution_count": 41,
   "metadata": {
    "collapsed": false
   },
   "outputs": [],
   "source": [
    "i = len(structures_list)\n",
    "j = len(metrics_list)\n",
    "wilcox_data = np.zeros((i,j))  # init an empty array"
   ]
  },
  {
   "cell_type": "code",
   "execution_count": 42,
   "metadata": {
    "collapsed": false
   },
   "outputs": [
    {
     "name": "stderr",
     "output_type": "stream",
     "text": [
      "/Users/robincole/anaconda3/lib/python3.5/site-packages/scipy/stats/morestats.py:2384: UserWarning: Warning: sample size too small for normal approximation.\n",
      "  warnings.warn(\"Warning: sample size too small for normal approximation.\")\n"
     ]
    }
   ],
   "source": [
    "j = 0\n",
    "for structure in structures_list:\n",
    "    i = 0\n",
    "    for metric in metrics_list:\n",
    "        A =  d[(d['structure'] == structure) & (d['metric'] == metric)]\n",
    "        D =  A['diff']\n",
    "        wilcox_data[j][i] = my_wilcox(D)\n",
    "        i = i + 1\n",
    "    j = j+ 1  "
   ]
  },
  {
   "cell_type": "markdown",
   "metadata": {},
   "source": [
    "Convert to dataframe"
   ]
  },
  {
   "cell_type": "code",
   "execution_count": 43,
   "metadata": {
    "collapsed": true
   },
   "outputs": [],
   "source": [
    "wilcox_data_df = pd.DataFrame(data=wilcox_data,    # values\n",
    "...              index=structures_list,    # 1st column as index\n",
    "...              columns=metrics_list)  # 1st row as the column names"
   ]
  },
  {
   "cell_type": "code",
   "execution_count": 44,
   "metadata": {
    "collapsed": false
   },
   "outputs": [],
   "source": [
    "# wilcox_data_df"
   ]
  },
  {
   "cell_type": "code",
   "execution_count": 45,
   "metadata": {
    "collapsed": false
   },
   "outputs": [
    {
     "data": {
      "text/html": [
       "<div>\n",
       "<table border=\"1\" class=\"dataframe\">\n",
       "  <thead>\n",
       "    <tr style=\"text-align: right;\">\n",
       "      <th>metric</th>\n",
       "      <th>D0.1CC</th>\n",
       "      <th>D1CC</th>\n",
       "      <th>D2%</th>\n",
       "      <th>D5%</th>\n",
       "      <th>D50%</th>\n",
       "      <th>D95%</th>\n",
       "      <th>D99%</th>\n",
       "      <th>DHI</th>\n",
       "      <th>DMAX</th>\n",
       "      <th>DSD</th>\n",
       "      <th>V12.5GY</th>\n",
       "      <th>V5GY</th>\n",
       "    </tr>\n",
       "  </thead>\n",
       "  <tbody>\n",
       "    <tr>\n",
       "      <th>Foramen</th>\n",
       "      <td>0.001474</td>\n",
       "      <td>0.001474</td>\n",
       "      <td>0.001474</td>\n",
       "      <td>0.001474</td>\n",
       "      <td>0.019223</td>\n",
       "      <td>0.033047</td>\n",
       "      <td>NaN</td>\n",
       "      <td>NaN</td>\n",
       "      <td>0.001474</td>\n",
       "      <td>0.003346</td>\n",
       "      <td>0.027708</td>\n",
       "      <td>0.002218</td>\n",
       "    </tr>\n",
       "    <tr>\n",
       "      <th>Heart</th>\n",
       "      <td>NaN</td>\n",
       "      <td>NaN</td>\n",
       "      <td>NaN</td>\n",
       "      <td>NaN</td>\n",
       "      <td>0.047990</td>\n",
       "      <td>0.002366</td>\n",
       "      <td>0.017290</td>\n",
       "      <td>0.011008</td>\n",
       "      <td>NaN</td>\n",
       "      <td>0.007686</td>\n",
       "      <td>0.027708</td>\n",
       "      <td>0.011719</td>\n",
       "    </tr>\n",
       "    <tr>\n",
       "      <th>Lt_Lung</th>\n",
       "      <td>NaN</td>\n",
       "      <td>NaN</td>\n",
       "      <td>NaN</td>\n",
       "      <td>0.025843</td>\n",
       "      <td>0.003510</td>\n",
       "      <td>NaN</td>\n",
       "      <td>NaN</td>\n",
       "      <td>0.001225</td>\n",
       "      <td>NaN</td>\n",
       "      <td>NaN</td>\n",
       "      <td>NaN</td>\n",
       "      <td>0.005213</td>\n",
       "    </tr>\n",
       "    <tr>\n",
       "      <th>Oesophagus</th>\n",
       "      <td>0.000982</td>\n",
       "      <td>0.001225</td>\n",
       "      <td>0.000982</td>\n",
       "      <td>0.001225</td>\n",
       "      <td>NaN</td>\n",
       "      <td>0.016605</td>\n",
       "      <td>NaN</td>\n",
       "      <td>NaN</td>\n",
       "      <td>0.004649</td>\n",
       "      <td>0.005034</td>\n",
       "      <td>0.027708</td>\n",
       "      <td>0.001871</td>\n",
       "    </tr>\n",
       "    <tr>\n",
       "      <th>PTV CHEST</th>\n",
       "      <td>0.021944</td>\n",
       "      <td>0.021944</td>\n",
       "      <td>0.007630</td>\n",
       "      <td>0.025843</td>\n",
       "      <td>NaN</td>\n",
       "      <td>NaN</td>\n",
       "      <td>0.035465</td>\n",
       "      <td>0.003510</td>\n",
       "      <td>0.003510</td>\n",
       "      <td>0.010747</td>\n",
       "      <td>NaN</td>\n",
       "      <td>NaN</td>\n",
       "    </tr>\n",
       "    <tr>\n",
       "      <th>Rt_Lung</th>\n",
       "      <td>NaN</td>\n",
       "      <td>NaN</td>\n",
       "      <td>0.002329</td>\n",
       "      <td>0.000982</td>\n",
       "      <td>0.011008</td>\n",
       "      <td>0.035465</td>\n",
       "      <td>NaN</td>\n",
       "      <td>0.001523</td>\n",
       "      <td>0.039243</td>\n",
       "      <td>0.036658</td>\n",
       "      <td>NaN</td>\n",
       "      <td>0.005772</td>\n",
       "    </tr>\n",
       "  </tbody>\n",
       "</table>\n",
       "</div>"
      ],
      "text/plain": [
       "metric        D0.1CC      D1CC       D2%       D5%      D50%      D95%  \\\n",
       "Foramen     0.001474  0.001474  0.001474  0.001474  0.019223  0.033047   \n",
       "Heart            NaN       NaN       NaN       NaN  0.047990  0.002366   \n",
       "Lt_Lung          NaN       NaN       NaN  0.025843  0.003510       NaN   \n",
       "Oesophagus  0.000982  0.001225  0.000982  0.001225       NaN  0.016605   \n",
       "PTV CHEST   0.021944  0.021944  0.007630  0.025843       NaN       NaN   \n",
       "Rt_Lung          NaN       NaN  0.002329  0.000982  0.011008  0.035465   \n",
       "\n",
       "metric          D99%       DHI      DMAX       DSD   V12.5GY      V5GY  \n",
       "Foramen          NaN       NaN  0.001474  0.003346  0.027708  0.002218  \n",
       "Heart       0.017290  0.011008       NaN  0.007686  0.027708  0.011719  \n",
       "Lt_Lung          NaN  0.001225       NaN       NaN       NaN  0.005213  \n",
       "Oesophagus       NaN       NaN  0.004649  0.005034  0.027708  0.001871  \n",
       "PTV CHEST   0.035465  0.003510  0.003510  0.010747       NaN       NaN  \n",
       "Rt_Lung          NaN  0.001523  0.039243  0.036658       NaN  0.005772  "
      ]
     },
     "execution_count": 45,
     "metadata": {},
     "output_type": "execute_result"
    }
   ],
   "source": [
    "wilcox_data_df[wilcox_data_df<0.05]  #get only stat significant results"
   ]
  },
  {
   "cell_type": "code",
   "execution_count": 62,
   "metadata": {
    "collapsed": false
   },
   "outputs": [
    {
     "data": {
      "text/plain": [
       "<matplotlib.text.Text at 0x11eca30f0>"
      ]
     },
     "execution_count": 62,
     "metadata": {},
     "output_type": "execute_result"
    },
    {
     "data": {
      "image/png": "[encoded data removed]",
      "text/plain": [
       "<matplotlib.figure.Figure at 0x11ec3b4a8>"
      ]
     },
     "metadata": {},
     "output_type": "display_data"
    }
   ],
   "source": [
    "confidence = 0.05\n",
    "plt.figure(figsize=(18, 8))\n",
    "ax2 = sns.heatmap(wilcox_data_df[wilcox_data_df<confidence], annot=True, linewidths=.5,  cbar=True, cmap='inferno')\n",
    "ax2.set_title('p- value for dose differences by structure and metric', size='xx-large')"
   ]
  },
  {
   "cell_type": "markdown",
   "metadata": {},
   "source": [
    "Plot dose differences where statistically significant"
   ]
  },
  {
   "cell_type": "code",
   "execution_count": 47,
   "metadata": {
    "collapsed": false
   },
   "outputs": [
    {
     "data": {
      "image/png": "[encoded data removed]",
      "text/plain": [
       "<matplotlib.figure.Figure at 0x116d2d208>"
      ]
     },
     "metadata": {},
     "output_type": "display_data"
    }
   ],
   "source": [
    "plt.figure(figsize=(18, 8))\n",
    "ax3 = sns.heatmap(diff_table[wilcox_data_df<0.05] , annot=True, linewidths=.5)\n",
    "ax3.set_title('Statistically significant dose differences (P < 0.05) by structure and metric', size='xx-large')\n",
    "plt.savefig('fig3.png')"
   ]
  },
  {
   "cell_type": "markdown",
   "metadata": {},
   "source": [
    "# Explore correlations by structure"
   ]
  },
  {
   "cell_type": "code",
   "execution_count": 117,
   "metadata": {
    "collapsed": false
   },
   "outputs": [],
   "source": [
    "diff_table = res_table2.pivot(index='structure', columns='metric', values='diff')  # pivot table for diff values\n",
    "diff_table.reset_index(level=0, inplace=True)  "
   ]
  },
  {
   "cell_type": "code",
   "execution_count": 118,
   "metadata": {
    "collapsed": false
   },
   "outputs": [],
   "source": [
    "diff_table = diff_table.transpose()"
   ]
  },
  {
   "cell_type": "code",
   "execution_count": 119,
   "metadata": {
    "collapsed": false
   },
   "outputs": [
    {
     "data": {
      "text/html": [
       "<div>\n",
       "<table border=\"1\" class=\"dataframe\">\n",
       "  <thead>\n",
       "    <tr style=\"text-align: right;\">\n",
       "      <th></th>\n",
       "      <th>0</th>\n",
       "      <th>1</th>\n",
       "      <th>2</th>\n",
       "      <th>3</th>\n",
       "      <th>4</th>\n",
       "      <th>5</th>\n",
       "    </tr>\n",
       "    <tr>\n",
       "      <th>metric</th>\n",
       "      <th></th>\n",
       "      <th></th>\n",
       "      <th></th>\n",
       "      <th></th>\n",
       "      <th></th>\n",
       "      <th></th>\n",
       "    </tr>\n",
       "  </thead>\n",
       "  <tbody>\n",
       "    <tr>\n",
       "      <th>structure</th>\n",
       "      <td>Foramen</td>\n",
       "      <td>Heart</td>\n",
       "      <td>Lt_Lung</td>\n",
       "      <td>Oesophagus</td>\n",
       "      <td>PTV CHEST</td>\n",
       "      <td>Rt_Lung</td>\n",
       "    </tr>\n",
       "    <tr>\n",
       "      <th>D0.1CC</th>\n",
       "      <td>-2.74529</td>\n",
       "      <td>-5.38466</td>\n",
       "      <td>0.674173</td>\n",
       "      <td>-1.87638</td>\n",
       "      <td>1.07563</td>\n",
       "      <td>0.592606</td>\n",
       "    </tr>\n",
       "    <tr>\n",
       "      <th>D1CC</th>\n",
       "      <td>-2.7472</td>\n",
       "      <td>2.29645</td>\n",
       "      <td>0.747234</td>\n",
       "      <td>-1.66649</td>\n",
       "      <td>0.837025</td>\n",
       "      <td>0.336425</td>\n",
       "    </tr>\n",
       "    <tr>\n",
       "      <th>D2%</th>\n",
       "      <td>-2.70396</td>\n",
       "      <td>-1.07879</td>\n",
       "      <td>0.699098</td>\n",
       "      <td>-1.70086</td>\n",
       "      <td>1.00943</td>\n",
       "      <td>1.07968</td>\n",
       "    </tr>\n",
       "    <tr>\n",
       "      <th>D5%</th>\n",
       "      <td>-2.73205</td>\n",
       "      <td>-1.49785</td>\n",
       "      <td>0.919857</td>\n",
       "      <td>-1.59156</td>\n",
       "      <td>0.899626</td>\n",
       "      <td>1.67948</td>\n",
       "    </tr>\n",
       "    <tr>\n",
       "      <th>D50%</th>\n",
       "      <td>-5.05869</td>\n",
       "      <td>8.37228</td>\n",
       "      <td>-5.43756</td>\n",
       "      <td>1.25687</td>\n",
       "      <td>0.350911</td>\n",
       "      <td>-5.02763</td>\n",
       "    </tr>\n",
       "    <tr>\n",
       "      <th>D95%</th>\n",
       "      <td>12.8548</td>\n",
       "      <td>34.8631</td>\n",
       "      <td>3.69555</td>\n",
       "      <td>28.834</td>\n",
       "      <td>-1.05356</td>\n",
       "      <td>-4.51792</td>\n",
       "    </tr>\n",
       "    <tr>\n",
       "      <th>D99%</th>\n",
       "      <td>19.5827</td>\n",
       "      <td>26.4369</td>\n",
       "      <td>2.86929</td>\n",
       "      <td>8.22122</td>\n",
       "      <td>-1.59436</td>\n",
       "      <td>-5.01496</td>\n",
       "    </tr>\n",
       "    <tr>\n",
       "      <th>DHI</th>\n",
       "      <td>2.90734</td>\n",
       "      <td>-9.62279</td>\n",
       "      <td>6.84507</td>\n",
       "      <td>-2.49246</td>\n",
       "      <td>9.02438</td>\n",
       "      <td>6.99985</td>\n",
       "    </tr>\n",
       "    <tr>\n",
       "      <th>DMAX</th>\n",
       "      <td>-2.44534</td>\n",
       "      <td>2.57864</td>\n",
       "      <td>1.10643</td>\n",
       "      <td>-2.00263</td>\n",
       "      <td>1.54959</td>\n",
       "      <td>0.948142</td>\n",
       "    </tr>\n",
       "    <tr>\n",
       "      <th>DSD</th>\n",
       "      <td>-2.19545</td>\n",
       "      <td>-2.77094</td>\n",
       "      <td>0.608868</td>\n",
       "      <td>-1.72598</td>\n",
       "      <td>8.04245</td>\n",
       "      <td>1.2231</td>\n",
       "    </tr>\n",
       "    <tr>\n",
       "      <th>V12.5GY</th>\n",
       "      <td>-29.4166</td>\n",
       "      <td>-15.8947</td>\n",
       "      <td>0.735817</td>\n",
       "      <td>-24.5881</td>\n",
       "      <td>0</td>\n",
       "      <td>-8.59444</td>\n",
       "    </tr>\n",
       "    <tr>\n",
       "      <th>V5GY</th>\n",
       "      <td>-6.2559</td>\n",
       "      <td>-4.18443</td>\n",
       "      <td>4.65344</td>\n",
       "      <td>-1.94301</td>\n",
       "      <td>0</td>\n",
       "      <td>3.50184</td>\n",
       "    </tr>\n",
       "  </tbody>\n",
       "</table>\n",
       "</div>"
      ],
      "text/plain": [
       "                 0        1         2           3          4         5\n",
       "metric                                                                \n",
       "structure  Foramen    Heart   Lt_Lung  Oesophagus  PTV CHEST   Rt_Lung\n",
       "D0.1CC    -2.74529 -5.38466  0.674173    -1.87638    1.07563  0.592606\n",
       "D1CC       -2.7472  2.29645  0.747234    -1.66649   0.837025  0.336425\n",
       "D2%       -2.70396 -1.07879  0.699098    -1.70086    1.00943   1.07968\n",
       "D5%       -2.73205 -1.49785  0.919857    -1.59156   0.899626   1.67948\n",
       "D50%      -5.05869  8.37228  -5.43756     1.25687   0.350911  -5.02763\n",
       "D95%       12.8548  34.8631   3.69555      28.834   -1.05356  -4.51792\n",
       "D99%       19.5827  26.4369   2.86929     8.22122   -1.59436  -5.01496\n",
       "DHI        2.90734 -9.62279   6.84507    -2.49246    9.02438   6.99985\n",
       "DMAX      -2.44534  2.57864   1.10643    -2.00263    1.54959  0.948142\n",
       "DSD       -2.19545 -2.77094  0.608868    -1.72598    8.04245    1.2231\n",
       "V12.5GY   -29.4166 -15.8947  0.735817    -24.5881          0  -8.59444\n",
       "V5GY       -6.2559 -4.18443   4.65344    -1.94301          0   3.50184"
      ]
     },
     "execution_count": 119,
     "metadata": {},
     "output_type": "execute_result"
    }
   ],
   "source": [
    "diff_table"
   ]
  },
  {
   "cell_type": "code",
   "execution_count": 122,
   "metadata": {
    "collapsed": false
   },
   "outputs": [
    {
     "data": {
      "text/html": [
       "<div>\n",
       "<table border=\"1\" class=\"dataframe\">\n",
       "  <thead>\n",
       "    <tr style=\"text-align: right;\">\n",
       "      <th></th>\n",
       "    </tr>\n",
       "  </thead>\n",
       "  <tbody>\n",
       "  </tbody>\n",
       "</table>\n",
       "</div>"
      ],
      "text/plain": [
       "Empty DataFrame\n",
       "Columns: []\n",
       "Index: []"
      ]
     },
     "execution_count": 122,
     "metadata": {},
     "output_type": "execute_result"
    }
   ],
   "source": [
    "diff_table_correlations = diff_table.corr()\n",
    "diff_table_correlations"
   ]
  },
  {
   "cell_type": "code",
   "execution_count": 123,
   "metadata": {
    "collapsed": false
   },
   "outputs": [
    {
     "data": {
      "text/plain": [
       "<matplotlib.figure.Figure at 0x1226aef60>"
      ]
     },
     "execution_count": 123,
     "metadata": {},
     "output_type": "execute_result"
    },
    {
     "data": {
      "text/plain": [
       "<matplotlib.figure.Figure at 0x1226aef60>"
      ]
     },
     "metadata": {},
     "output_type": "display_data"
    }
   ],
   "source": [
    "plt.figure(figsize=(18, 8))\n",
    "# ax3 = sns.heatmap(diff_table_correlations , annot=True, linewidths=.5)"
   ]
  },
  {
   "cell_type": "markdown",
   "metadata": {},
   "source": [
    "# Explore correlations with material data for PTV"
   ]
  },
  {
   "cell_type": "code",
   "execution_count": 48,
   "metadata": {
    "collapsed": true
   },
   "outputs": [],
   "source": [
    "PTV_CT = pd.read_csv('PTV_HU_mean_dat.csv')  # import PTV density data"
   ]
  },
  {
   "cell_type": "code",
   "execution_count": 49,
   "metadata": {
    "collapsed": false
   },
   "outputs": [],
   "source": [
    "# PTV_CT"
   ]
  },
  {
   "cell_type": "markdown",
   "metadata": {},
   "source": [
    "Get the PTV differences by metric and case"
   ]
  },
  {
   "cell_type": "code",
   "execution_count": 50,
   "metadata": {
    "collapsed": false
   },
   "outputs": [],
   "source": [
    "PTV_metrics = d[d['structure']  == 'PTV CHEST']\n",
    "PTV_metrics = PTV_metrics.pivot(index='Case',columns='metric', values='diff')   #pivot on case and metric\n",
    "PTV_metrics.reset_index(level=0, inplace=True)    # must convert the index back into a column\n",
    "\n",
    "del PTV_metrics['V12.5GY'] # delete as no data for them\n",
    "del PTV_metrics['V5GY']\n",
    "# PTV_metrics"
   ]
  },
  {
   "cell_type": "code",
   "execution_count": 51,
   "metadata": {
    "collapsed": false
   },
   "outputs": [
    {
     "data": {
      "text/html": [
       "<div>\n",
       "<table border=\"1\" class=\"dataframe\">\n",
       "  <thead>\n",
       "    <tr style=\"text-align: right;\">\n",
       "      <th>metric</th>\n",
       "      <th>Case</th>\n",
       "      <th>D0.1CC</th>\n",
       "      <th>D1CC</th>\n",
       "      <th>D2%</th>\n",
       "      <th>D5%</th>\n",
       "      <th>D50%</th>\n",
       "      <th>D95%</th>\n",
       "      <th>D99%</th>\n",
       "      <th>DHI</th>\n",
       "      <th>DMAX</th>\n",
       "      <th>DSD</th>\n",
       "      <th>mean_HU</th>\n",
       "      <th>SD_HU</th>\n",
       "      <th>Volume_PTV</th>\n",
       "    </tr>\n",
       "  </thead>\n",
       "  <tbody>\n",
       "    <tr>\n",
       "      <th>0</th>\n",
       "      <td>Case1</td>\n",
       "      <td>-1.646800</td>\n",
       "      <td>-0.623945</td>\n",
       "      <td>-0.581028</td>\n",
       "      <td>-0.802292</td>\n",
       "      <td>-0.157389</td>\n",
       "      <td>-0.915495</td>\n",
       "      <td>-1.633518</td>\n",
       "      <td>2.850494</td>\n",
       "      <td>-0.381971</td>\n",
       "      <td>-4.000000</td>\n",
       "      <td>-170.699</td>\n",
       "      <td>272.993</td>\n",
       "      <td>72.9</td>\n",
       "    </tr>\n",
       "    <tr>\n",
       "      <th>1</th>\n",
       "      <td>Case11</td>\n",
       "      <td>1.044115</td>\n",
       "      <td>0.638813</td>\n",
       "      <td>0.633493</td>\n",
       "      <td>0.642739</td>\n",
       "      <td>0.248408</td>\n",
       "      <td>-2.628825</td>\n",
       "      <td>-3.985440</td>\n",
       "      <td>14.416879</td>\n",
       "      <td>1.655380</td>\n",
       "      <td>13.253012</td>\n",
       "      <td>-551.763</td>\n",
       "      <td>279.318</td>\n",
       "      <td>25.2</td>\n",
       "    </tr>\n",
       "    <tr>\n",
       "      <th>2</th>\n",
       "      <td>Case12</td>\n",
       "      <td>2.279966</td>\n",
       "      <td>0.841989</td>\n",
       "      <td>0.910143</td>\n",
       "      <td>0.601526</td>\n",
       "      <td>0.489112</td>\n",
       "      <td>0.196736</td>\n",
       "      <td>-0.240510</td>\n",
       "      <td>3.974143</td>\n",
       "      <td>3.790751</td>\n",
       "      <td>1.282051</td>\n",
       "      <td>-478.357</td>\n",
       "      <td>276.233</td>\n",
       "      <td>38.6</td>\n",
       "    </tr>\n",
       "    <tr>\n",
       "      <th>3</th>\n",
       "      <td>Case13</td>\n",
       "      <td>2.109205</td>\n",
       "      <td>1.769138</td>\n",
       "      <td>1.792435</td>\n",
       "      <td>1.538511</td>\n",
       "      <td>1.636643</td>\n",
       "      <td>0.199115</td>\n",
       "      <td>-0.701292</td>\n",
       "      <td>8.237426</td>\n",
       "      <td>1.984733</td>\n",
       "      <td>6.756757</td>\n",
       "      <td>-426.137</td>\n",
       "      <td>296.692</td>\n",
       "      <td>44.7</td>\n",
       "    </tr>\n",
       "    <tr>\n",
       "      <th>4</th>\n",
       "      <td>Case14</td>\n",
       "      <td>0.812426</td>\n",
       "      <td>0.124380</td>\n",
       "      <td>0.221460</td>\n",
       "      <td>-0.112804</td>\n",
       "      <td>1.857474</td>\n",
       "      <td>0.445066</td>\n",
       "      <td>-0.370695</td>\n",
       "      <td>-0.878065</td>\n",
       "      <td>1.803752</td>\n",
       "      <td>0.000000</td>\n",
       "      <td>-432.742</td>\n",
       "      <td>277.356</td>\n",
       "      <td>35.4</td>\n",
       "    </tr>\n",
       "    <tr>\n",
       "      <th>5</th>\n",
       "      <td>Case16</td>\n",
       "      <td>2.355693</td>\n",
       "      <td>2.143460</td>\n",
       "      <td>2.600956</td>\n",
       "      <td>2.655809</td>\n",
       "      <td>0.429373</td>\n",
       "      <td>-0.788578</td>\n",
       "      <td>-1.580805</td>\n",
       "      <td>12.932591</td>\n",
       "      <td>2.277580</td>\n",
       "      <td>13.829787</td>\n",
       "      <td>-601.037</td>\n",
       "      <td>225.056</td>\n",
       "      <td>8.9</td>\n",
       "    </tr>\n",
       "    <tr>\n",
       "      <th>6</th>\n",
       "      <td>Case17</td>\n",
       "      <td>0.776133</td>\n",
       "      <td>1.198678</td>\n",
       "      <td>1.226977</td>\n",
       "      <td>1.144944</td>\n",
       "      <td>0.914957</td>\n",
       "      <td>-0.249615</td>\n",
       "      <td>-0.725107</td>\n",
       "      <td>6.958105</td>\n",
       "      <td>1.416853</td>\n",
       "      <td>2.777778</td>\n",
       "      <td>-275.691</td>\n",
       "      <td>359.180</td>\n",
       "      <td>77.3</td>\n",
       "    </tr>\n",
       "    <tr>\n",
       "      <th>7</th>\n",
       "      <td>Case18</td>\n",
       "      <td>2.824736</td>\n",
       "      <td>2.444145</td>\n",
       "      <td>2.870780</td>\n",
       "      <td>2.600269</td>\n",
       "      <td>1.813520</td>\n",
       "      <td>1.118255</td>\n",
       "      <td>1.763484</td>\n",
       "      <td>5.879023</td>\n",
       "      <td>3.427266</td>\n",
       "      <td>8.000000</td>\n",
       "      <td>-559.114</td>\n",
       "      <td>243.114</td>\n",
       "      <td>14.1</td>\n",
       "    </tr>\n",
       "    <tr>\n",
       "      <th>8</th>\n",
       "      <td>Case22</td>\n",
       "      <td>-0.101734</td>\n",
       "      <td>0.334918</td>\n",
       "      <td>0.264370</td>\n",
       "      <td>0.389630</td>\n",
       "      <td>0.299438</td>\n",
       "      <td>-0.164480</td>\n",
       "      <td>-0.190877</td>\n",
       "      <td>1.062469</td>\n",
       "      <td>-0.221239</td>\n",
       "      <td>2.352941</td>\n",
       "      <td>-363.164</td>\n",
       "      <td>293.196</td>\n",
       "      <td>35.6</td>\n",
       "    </tr>\n",
       "    <tr>\n",
       "      <th>9</th>\n",
       "      <td>Case23</td>\n",
       "      <td>2.312454</td>\n",
       "      <td>2.861348</td>\n",
       "      <td>2.438215</td>\n",
       "      <td>2.914029</td>\n",
       "      <td>1.090400</td>\n",
       "      <td>-0.589348</td>\n",
       "      <td>-1.212738</td>\n",
       "      <td>13.153501</td>\n",
       "      <td>1.972243</td>\n",
       "      <td>16.250000</td>\n",
       "      <td>-650.879</td>\n",
       "      <td>179.334</td>\n",
       "      <td>13.3</td>\n",
       "    </tr>\n",
       "    <tr>\n",
       "      <th>10</th>\n",
       "      <td>Case25</td>\n",
       "      <td>1.529735</td>\n",
       "      <td>1.187615</td>\n",
       "      <td>1.109356</td>\n",
       "      <td>0.983548</td>\n",
       "      <td>2.588827</td>\n",
       "      <td>2.214275</td>\n",
       "      <td>2.005250</td>\n",
       "      <td>-4.975909</td>\n",
       "      <td>1.586103</td>\n",
       "      <td>-5.194805</td>\n",
       "      <td>-330.158</td>\n",
       "      <td>279.344</td>\n",
       "      <td>67.1</td>\n",
       "    </tr>\n",
       "    <tr>\n",
       "      <th>11</th>\n",
       "      <td>Case30</td>\n",
       "      <td>0.251732</td>\n",
       "      <td>-2.393132</td>\n",
       "      <td>0.176925</td>\n",
       "      <td>-0.680814</td>\n",
       "      <td>-4.003114</td>\n",
       "      <td>-8.106377</td>\n",
       "      <td>-9.471837</td>\n",
       "      <td>38.438829</td>\n",
       "      <td>0.817236</td>\n",
       "      <td>27.027027</td>\n",
       "      <td>-772.415</td>\n",
       "      <td>156.430</td>\n",
       "      <td>6.0</td>\n",
       "    </tr>\n",
       "    <tr>\n",
       "      <th>12</th>\n",
       "      <td>Case31</td>\n",
       "      <td>1.616188</td>\n",
       "      <td>0.119142</td>\n",
       "      <td>1.323012</td>\n",
       "      <td>0.654366</td>\n",
       "      <td>-1.628208</td>\n",
       "      <td>-3.005646</td>\n",
       "      <td>-2.816907</td>\n",
       "      <td>18.206116</td>\n",
       "      <td>2.083333</td>\n",
       "      <td>18.571429</td>\n",
       "      <td>-710.175</td>\n",
       "      <td>121.041</td>\n",
       "      <td>7.0</td>\n",
       "    </tr>\n",
       "    <tr>\n",
       "      <th>13</th>\n",
       "      <td>Case32</td>\n",
       "      <td>-1.105029</td>\n",
       "      <td>1.071794</td>\n",
       "      <td>-0.855103</td>\n",
       "      <td>0.065303</td>\n",
       "      <td>-0.666683</td>\n",
       "      <td>-2.474900</td>\n",
       "      <td>-3.160071</td>\n",
       "      <td>6.085658</td>\n",
       "      <td>-0.517751</td>\n",
       "      <td>11.688312</td>\n",
       "      <td>-650.864</td>\n",
       "      <td>248.269</td>\n",
       "      <td>8.5</td>\n",
       "    </tr>\n",
       "  </tbody>\n",
       "</table>\n",
       "</div>"
      ],
      "text/plain": [
       "metric    Case    D0.1CC      D1CC       D2%       D5%      D50%      D95%  \\\n",
       "0        Case1 -1.646800 -0.623945 -0.581028 -0.802292 -0.157389 -0.915495   \n",
       "1       Case11  1.044115  0.638813  0.633493  0.642739  0.248408 -2.628825   \n",
       "2       Case12  2.279966  0.841989  0.910143  0.601526  0.489112  0.196736   \n",
       "3       Case13  2.109205  1.769138  1.792435  1.538511  1.636643  0.199115   \n",
       "4       Case14  0.812426  0.124380  0.221460 -0.112804  1.857474  0.445066   \n",
       "5       Case16  2.355693  2.143460  2.600956  2.655809  0.429373 -0.788578   \n",
       "6       Case17  0.776133  1.198678  1.226977  1.144944  0.914957 -0.249615   \n",
       "7       Case18  2.824736  2.444145  2.870780  2.600269  1.813520  1.118255   \n",
       "8       Case22 -0.101734  0.334918  0.264370  0.389630  0.299438 -0.164480   \n",
       "9       Case23  2.312454  2.861348  2.438215  2.914029  1.090400 -0.589348   \n",
       "10      Case25  1.529735  1.187615  1.109356  0.983548  2.588827  2.214275   \n",
       "11      Case30  0.251732 -2.393132  0.176925 -0.680814 -4.003114 -8.106377   \n",
       "12      Case31  1.616188  0.119142  1.323012  0.654366 -1.628208 -3.005646   \n",
       "13      Case32 -1.105029  1.071794 -0.855103  0.065303 -0.666683 -2.474900   \n",
       "\n",
       "metric      D99%        DHI      DMAX        DSD  mean_HU    SD_HU  Volume_PTV  \n",
       "0      -1.633518   2.850494 -0.381971  -4.000000 -170.699  272.993        72.9  \n",
       "1      -3.985440  14.416879  1.655380  13.253012 -551.763  279.318        25.2  \n",
       "2      -0.240510   3.974143  3.790751   1.282051 -478.357  276.233        38.6  \n",
       "3      -0.701292   8.237426  1.984733   6.756757 -426.137  296.692        44.7  \n",
       "4      -0.370695  -0.878065  1.803752   0.000000 -432.742  277.356        35.4  \n",
       "5      -1.580805  12.932591  2.277580  13.829787 -601.037  225.056         8.9  \n",
       "6      -0.725107   6.958105  1.416853   2.777778 -275.691  359.180        77.3  \n",
       "7       1.763484   5.879023  3.427266   8.000000 -559.114  243.114        14.1  \n",
       "8      -0.190877   1.062469 -0.221239   2.352941 -363.164  293.196        35.6  \n",
       "9      -1.212738  13.153501  1.972243  16.250000 -650.879  179.334        13.3  \n",
       "10      2.005250  -4.975909  1.586103  -5.194805 -330.158  279.344        67.1  \n",
       "11     -9.471837  38.438829  0.817236  27.027027 -772.415  156.430         6.0  \n",
       "12     -2.816907  18.206116  2.083333  18.571429 -710.175  121.041         7.0  \n",
       "13     -3.160071   6.085658 -0.517751  11.688312 -650.864  248.269         8.5  "
      ]
     },
     "execution_count": 51,
     "metadata": {},
     "output_type": "execute_result"
    }
   ],
   "source": [
    "PTV_all = pd.merge(PTV_metrics, PTV_CT, how='inner', on=[ 'Case'])  # Merge on case \n",
    "PTV_all"
   ]
  },
  {
   "cell_type": "code",
   "execution_count": 52,
   "metadata": {
    "collapsed": false
   },
   "outputs": [],
   "source": [
    "# sns.pairplot(PTV_all)"
   ]
  },
  {
   "cell_type": "code",
   "execution_count": 53,
   "metadata": {
    "collapsed": false
   },
   "outputs": [
    {
     "data": {
      "text/html": [
       "<div>\n",
       "<table border=\"1\" class=\"dataframe\">\n",
       "  <thead>\n",
       "    <tr style=\"text-align: right;\">\n",
       "      <th>metric</th>\n",
       "      <th>D0.1CC</th>\n",
       "      <th>D1CC</th>\n",
       "      <th>D2%</th>\n",
       "      <th>D5%</th>\n",
       "      <th>D50%</th>\n",
       "      <th>D95%</th>\n",
       "      <th>D99%</th>\n",
       "      <th>DHI</th>\n",
       "      <th>DMAX</th>\n",
       "      <th>DSD</th>\n",
       "      <th>mean_HU</th>\n",
       "      <th>SD_HU</th>\n",
       "      <th>Volume_PTV</th>\n",
       "    </tr>\n",
       "    <tr>\n",
       "      <th>metric</th>\n",
       "      <th></th>\n",
       "      <th></th>\n",
       "      <th></th>\n",
       "      <th></th>\n",
       "      <th></th>\n",
       "      <th></th>\n",
       "      <th></th>\n",
       "      <th></th>\n",
       "      <th></th>\n",
       "      <th></th>\n",
       "      <th></th>\n",
       "      <th></th>\n",
       "      <th></th>\n",
       "    </tr>\n",
       "  </thead>\n",
       "  <tbody>\n",
       "    <tr>\n",
       "      <th>D0.1CC</th>\n",
       "      <td>1.000000</td>\n",
       "      <td>0.617233</td>\n",
       "      <td>0.906268</td>\n",
       "      <td>0.796625</td>\n",
       "      <td>0.400423</td>\n",
       "      <td>0.340136</td>\n",
       "      <td>0.359652</td>\n",
       "      <td>0.041674</td>\n",
       "      <td>0.914514</td>\n",
       "      <td>0.167788</td>\n",
       "      <td>-0.307133</td>\n",
       "      <td>-0.165632</td>\n",
       "      <td>-0.265892</td>\n",
       "    </tr>\n",
       "    <tr>\n",
       "      <th>D1CC</th>\n",
       "      <td>0.617233</td>\n",
       "      <td>1.000000</td>\n",
       "      <td>0.713018</td>\n",
       "      <td>0.894005</td>\n",
       "      <td>0.724770</td>\n",
       "      <td>0.686345</td>\n",
       "      <td>0.682077</td>\n",
       "      <td>-0.440057</td>\n",
       "      <td>0.454783</td>\n",
       "      <td>-0.164922</td>\n",
       "      <td>0.027899</td>\n",
       "      <td>0.202278</td>\n",
       "      <td>-0.050963</td>\n",
       "    </tr>\n",
       "    <tr>\n",
       "      <th>D2%</th>\n",
       "      <td>0.906268</td>\n",
       "      <td>0.713018</td>\n",
       "      <td>1.000000</td>\n",
       "      <td>0.928403</td>\n",
       "      <td>0.399044</td>\n",
       "      <td>0.350939</td>\n",
       "      <td>0.383756</td>\n",
       "      <td>0.061968</td>\n",
       "      <td>0.742861</td>\n",
       "      <td>0.194483</td>\n",
       "      <td>-0.225131</td>\n",
       "      <td>-0.166141</td>\n",
       "      <td>-0.225930</td>\n",
       "    </tr>\n",
       "    <tr>\n",
       "      <th>D5%</th>\n",
       "      <td>0.796625</td>\n",
       "      <td>0.894005</td>\n",
       "      <td>0.928403</td>\n",
       "      <td>1.000000</td>\n",
       "      <td>0.501597</td>\n",
       "      <td>0.445250</td>\n",
       "      <td>0.462563</td>\n",
       "      <td>-0.085805</td>\n",
       "      <td>0.586004</td>\n",
       "      <td>0.141344</td>\n",
       "      <td>-0.204784</td>\n",
       "      <td>-0.064768</td>\n",
       "      <td>-0.244744</td>\n",
       "    </tr>\n",
       "    <tr>\n",
       "      <th>D50%</th>\n",
       "      <td>0.400423</td>\n",
       "      <td>0.724770</td>\n",
       "      <td>0.399044</td>\n",
       "      <td>0.501597</td>\n",
       "      <td>1.000000</td>\n",
       "      <td>0.952730</td>\n",
       "      <td>0.908601</td>\n",
       "      <td>-0.831142</td>\n",
       "      <td>0.346984</td>\n",
       "      <td>-0.711395</td>\n",
       "      <td>0.550795</td>\n",
       "      <td>0.602303</td>\n",
       "      <td>0.458585</td>\n",
       "    </tr>\n",
       "    <tr>\n",
       "      <th>D95%</th>\n",
       "      <td>0.340136</td>\n",
       "      <td>0.686345</td>\n",
       "      <td>0.350939</td>\n",
       "      <td>0.445250</td>\n",
       "      <td>0.952730</td>\n",
       "      <td>1.000000</td>\n",
       "      <td>0.985553</td>\n",
       "      <td>-0.908367</td>\n",
       "      <td>0.318612</td>\n",
       "      <td>-0.800725</td>\n",
       "      <td>0.623298</td>\n",
       "      <td>0.579437</td>\n",
       "      <td>0.504028</td>\n",
       "    </tr>\n",
       "    <tr>\n",
       "      <th>D99%</th>\n",
       "      <td>0.359652</td>\n",
       "      <td>0.682077</td>\n",
       "      <td>0.383756</td>\n",
       "      <td>0.462563</td>\n",
       "      <td>0.908601</td>\n",
       "      <td>0.985553</td>\n",
       "      <td>1.000000</td>\n",
       "      <td>-0.885961</td>\n",
       "      <td>0.338290</td>\n",
       "      <td>-0.763182</td>\n",
       "      <td>0.573815</td>\n",
       "      <td>0.502432</td>\n",
       "      <td>0.448762</td>\n",
       "    </tr>\n",
       "    <tr>\n",
       "      <th>DHI</th>\n",
       "      <td>0.041674</td>\n",
       "      <td>-0.440057</td>\n",
       "      <td>0.061968</td>\n",
       "      <td>-0.085805</td>\n",
       "      <td>-0.831142</td>\n",
       "      <td>-0.908367</td>\n",
       "      <td>-0.885961</td>\n",
       "      <td>1.000000</td>\n",
       "      <td>0.001690</td>\n",
       "      <td>0.914548</td>\n",
       "      <td>-0.724182</td>\n",
       "      <td>-0.663931</td>\n",
       "      <td>-0.580604</td>\n",
       "    </tr>\n",
       "    <tr>\n",
       "      <th>DMAX</th>\n",
       "      <td>0.914514</td>\n",
       "      <td>0.454783</td>\n",
       "      <td>0.742861</td>\n",
       "      <td>0.586004</td>\n",
       "      <td>0.346984</td>\n",
       "      <td>0.318612</td>\n",
       "      <td>0.338290</td>\n",
       "      <td>0.001690</td>\n",
       "      <td>1.000000</td>\n",
       "      <td>0.052740</td>\n",
       "      <td>-0.225475</td>\n",
       "      <td>-0.098497</td>\n",
       "      <td>-0.174584</td>\n",
       "    </tr>\n",
       "    <tr>\n",
       "      <th>DSD</th>\n",
       "      <td>0.167788</td>\n",
       "      <td>-0.164922</td>\n",
       "      <td>0.194483</td>\n",
       "      <td>0.141344</td>\n",
       "      <td>-0.711395</td>\n",
       "      <td>-0.800725</td>\n",
       "      <td>-0.763182</td>\n",
       "      <td>0.914548</td>\n",
       "      <td>0.052740</td>\n",
       "      <td>1.000000</td>\n",
       "      <td>-0.906221</td>\n",
       "      <td>-0.755551</td>\n",
       "      <td>-0.815883</td>\n",
       "    </tr>\n",
       "    <tr>\n",
       "      <th>mean_HU</th>\n",
       "      <td>-0.307133</td>\n",
       "      <td>0.027899</td>\n",
       "      <td>-0.225131</td>\n",
       "      <td>-0.204784</td>\n",
       "      <td>0.550795</td>\n",
       "      <td>0.623298</td>\n",
       "      <td>0.573815</td>\n",
       "      <td>-0.724182</td>\n",
       "      <td>-0.225475</td>\n",
       "      <td>-0.906221</td>\n",
       "      <td>1.000000</td>\n",
       "      <td>0.801587</td>\n",
       "      <td>0.938490</td>\n",
       "    </tr>\n",
       "    <tr>\n",
       "      <th>SD_HU</th>\n",
       "      <td>-0.165632</td>\n",
       "      <td>0.202278</td>\n",
       "      <td>-0.166141</td>\n",
       "      <td>-0.064768</td>\n",
       "      <td>0.602303</td>\n",
       "      <td>0.579437</td>\n",
       "      <td>0.502432</td>\n",
       "      <td>-0.663931</td>\n",
       "      <td>-0.098497</td>\n",
       "      <td>-0.755551</td>\n",
       "      <td>0.801587</td>\n",
       "      <td>1.000000</td>\n",
       "      <td>0.753597</td>\n",
       "    </tr>\n",
       "    <tr>\n",
       "      <th>Volume_PTV</th>\n",
       "      <td>-0.265892</td>\n",
       "      <td>-0.050963</td>\n",
       "      <td>-0.225930</td>\n",
       "      <td>-0.244744</td>\n",
       "      <td>0.458585</td>\n",
       "      <td>0.504028</td>\n",
       "      <td>0.448762</td>\n",
       "      <td>-0.580604</td>\n",
       "      <td>-0.174584</td>\n",
       "      <td>-0.815883</td>\n",
       "      <td>0.938490</td>\n",
       "      <td>0.753597</td>\n",
       "      <td>1.000000</td>\n",
       "    </tr>\n",
       "  </tbody>\n",
       "</table>\n",
       "</div>"
      ],
      "text/plain": [
       "metric        D0.1CC      D1CC       D2%       D5%      D50%      D95%  \\\n",
       "metric                                                                   \n",
       "D0.1CC      1.000000  0.617233  0.906268  0.796625  0.400423  0.340136   \n",
       "D1CC        0.617233  1.000000  0.713018  0.894005  0.724770  0.686345   \n",
       "D2%         0.906268  0.713018  1.000000  0.928403  0.399044  0.350939   \n",
       "D5%         0.796625  0.894005  0.928403  1.000000  0.501597  0.445250   \n",
       "D50%        0.400423  0.724770  0.399044  0.501597  1.000000  0.952730   \n",
       "D95%        0.340136  0.686345  0.350939  0.445250  0.952730  1.000000   \n",
       "D99%        0.359652  0.682077  0.383756  0.462563  0.908601  0.985553   \n",
       "DHI         0.041674 -0.440057  0.061968 -0.085805 -0.831142 -0.908367   \n",
       "DMAX        0.914514  0.454783  0.742861  0.586004  0.346984  0.318612   \n",
       "DSD         0.167788 -0.164922  0.194483  0.141344 -0.711395 -0.800725   \n",
       "mean_HU    -0.307133  0.027899 -0.225131 -0.204784  0.550795  0.623298   \n",
       "SD_HU      -0.165632  0.202278 -0.166141 -0.064768  0.602303  0.579437   \n",
       "Volume_PTV -0.265892 -0.050963 -0.225930 -0.244744  0.458585  0.504028   \n",
       "\n",
       "metric          D99%       DHI      DMAX       DSD   mean_HU     SD_HU  \\\n",
       "metric                                                                   \n",
       "D0.1CC      0.359652  0.041674  0.914514  0.167788 -0.307133 -0.165632   \n",
       "D1CC        0.682077 -0.440057  0.454783 -0.164922  0.027899  0.202278   \n",
       "D2%         0.383756  0.061968  0.742861  0.194483 -0.225131 -0.166141   \n",
       "D5%         0.462563 -0.085805  0.586004  0.141344 -0.204784 -0.064768   \n",
       "D50%        0.908601 -0.831142  0.346984 -0.711395  0.550795  0.602303   \n",
       "D95%        0.985553 -0.908367  0.318612 -0.800725  0.623298  0.579437   \n",
       "D99%        1.000000 -0.885961  0.338290 -0.763182  0.573815  0.502432   \n",
       "DHI        -0.885961  1.000000  0.001690  0.914548 -0.724182 -0.663931   \n",
       "DMAX        0.338290  0.001690  1.000000  0.052740 -0.225475 -0.098497   \n",
       "DSD        -0.763182  0.914548  0.052740  1.000000 -0.906221 -0.755551   \n",
       "mean_HU     0.573815 -0.724182 -0.225475 -0.906221  1.000000  0.801587   \n",
       "SD_HU       0.502432 -0.663931 -0.098497 -0.755551  0.801587  1.000000   \n",
       "Volume_PTV  0.448762 -0.580604 -0.174584 -0.815883  0.938490  0.753597   \n",
       "\n",
       "metric      Volume_PTV  \n",
       "metric                  \n",
       "D0.1CC       -0.265892  \n",
       "D1CC         -0.050963  \n",
       "D2%          -0.225930  \n",
       "D5%          -0.244744  \n",
       "D50%          0.458585  \n",
       "D95%          0.504028  \n",
       "D99%          0.448762  \n",
       "DHI          -0.580604  \n",
       "DMAX         -0.174584  \n",
       "DSD          -0.815883  \n",
       "mean_HU       0.938490  \n",
       "SD_HU         0.753597  \n",
       "Volume_PTV    1.000000  "
      ]
     },
     "execution_count": 53,
     "metadata": {},
     "output_type": "execute_result"
    }
   ],
   "source": [
    "PTV_correlations = PTV_all.corr()\n",
    "PTV_correlations"
   ]
  },
  {
   "cell_type": "code",
   "execution_count": 125,
   "metadata": {
    "collapsed": false
   },
   "outputs": [
    {
     "data": {
      "text/plain": [
       "<matplotlib.text.Text at 0x12336fda0>"
      ]
     },
     "execution_count": 125,
     "metadata": {},
     "output_type": "execute_result"
    },
    {
     "data": {
      "image/png": "[encoded data removed]",
      "text/plain": [
       "<matplotlib.figure.Figure at 0x12330c9e8>"
      ]
     },
     "metadata": {},
     "output_type": "display_data"
    }
   ],
   "source": [
    "threshold = 0.1  # only show correlation coefficients greater than a threshold value\n",
    "plt.figure(figsize=(18, 8)) \n",
    "mask = np.zeros_like(PTV_correlations, dtype=np.bool)   # create a mask \n",
    "mask[np.triu_indices_from(mask)] = True\n",
    "\n",
    "\n",
    "ax4 = sns.heatmap(PTV_correlations[PTV_correlations.abs() > threshold], annot=True, mask=mask, linewidths=.5, center=0)\n",
    "ax4.set_title('PTV only: Corellation coefficients of dose differences by metric & CT info ', size='xx-large')"
   ]
  },
  {
   "cell_type": "markdown",
   "metadata": {},
   "source": [
    "# Investigate corellations "
   ]
  },
  {
   "cell_type": "code",
   "execution_count": 79,
   "metadata": {
    "collapsed": false
   },
   "outputs": [
    {
     "name": "stderr",
     "output_type": "stream",
     "text": [
      "/Users/robincole/anaconda3/lib/python3.5/site-packages/statsmodels/nonparametric/kdetools.py:20: VisibleDeprecationWarning: using a non-integer number instead of an integer will result in an error in the future\n",
      "  y = X[:m/2+1] + np.r_[0,X[m/2+1:],0]*1j\n"
     ]
    },
    {
     "data": {
      "text/plain": [
       "<seaborn.axisgrid.JointGrid at 0x121863e10>"
      ]
     },
     "execution_count": 79,
     "metadata": {},
     "output_type": "execute_result"
    },
    {
     "data": {
      "image/png": "[encoded data removed]",
      "text/plain": [
       "<matplotlib.figure.Figure at 0x1214cf5f8>"
      ]
     },
     "metadata": {},
     "output_type": "display_data"
    }
   ],
   "source": [
    "sns.jointplot(\"DHI\", \"D95%\", data=PTV_all, kind=\"reg\", color=\"r\", size=6)"
   ]
  },
  {
   "cell_type": "code",
   "execution_count": 75,
   "metadata": {
    "collapsed": true
   },
   "outputs": [],
   "source": [
    "?sns.jointplot"
   ]
  },
  {
   "cell_type": "markdown",
   "metadata": {
    "collapsed": true
   },
   "source": [
    "# Testing"
   ]
  },
  {
   "cell_type": "code",
   "execution_count": 32,
   "metadata": {
    "collapsed": false
   },
   "outputs": [
    {
     "name": "stdout",
     "output_type": "stream",
     "text": [
      "7.55692945586e-10\n",
      "7.55692945586e-10\n"
     ]
    },
    {
     "data": {
      "image/png": "[encoded data removed]",
      "text/plain": [
       "<matplotlib.figure.Figure at 0x11624c748>"
      ]
     },
     "metadata": {},
     "output_type": "display_data"
    }
   ],
   "source": [
    "#Test of wilcoxon. See how size of distribution and difference in mean affect result p \n",
    "\n",
    "dist_diff = 0.5\n",
    "samples = 50\n",
    "\n",
    "mu, sigma = 0, 0.1 \n",
    "s = np.random.normal(mu, sigma, samples)\n",
    "\n",
    "mu2, sigma = 0+dist_diff, 0.1 \n",
    "s2 = np.random.normal(mu2, sigma, samples)\n",
    "\n",
    "fig = plt.figure(figsize=(8, 4))\n",
    "plt.subplot(1, 2, 1)\n",
    "plt.hist(s)\n",
    "\n",
    "plt.subplot(1, 2, 2)\n",
    "plt.hist(s2)\n",
    "\n",
    "z_stat, p_val = wilcoxon(s, s2)   # if only 1 value passed\n",
    "print(p_val)\n",
    "\n",
    "z_stat, p_val = wilcoxon(s-s2)   # if only 1 value passed\n",
    "print(p_val)"
   ]
  },
  {
   "cell_type": "code",
   "execution_count": null,
   "metadata": {
    "collapsed": true
   },
   "outputs": [],
   "source": []
  }
 ],
 "metadata": {
  "anaconda-cloud": {},
  "kernelspec": {
   "display_name": "Python [Root]",
   "language": "python",
   "name": "Python [Root]"
  },
  "language_info": {
   "codemirror_mode": {
    "name": "ipython",
    "version": 3
   },
   "file_extension": ".py",
   "mimetype": "text/x-python",
   "name": "python",
   "nbconvert_exporter": "python",
   "pygments_lexer": "ipython3",
   "version": "3.5.2"
  }
 },
 "nbformat": 4,
 "nbformat_minor": 0
}
