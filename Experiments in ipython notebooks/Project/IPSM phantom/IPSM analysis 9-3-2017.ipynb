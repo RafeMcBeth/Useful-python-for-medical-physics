{
 "cells": [
  {
   "cell_type": "code",
   "execution_count": 21,
   "metadata": {
    "collapsed": true
   },
   "outputs": [],
   "source": [
    "import numpy as np\n",
    "import matplotlib.pyplot as plt\n",
    "%matplotlib inline\n",
    "import pandas as pd\n",
    "from scipy.stats import friedmanchisquare, wilcoxon"
   ]
  },
  {
   "cell_type": "code",
   "execution_count": 10,
   "metadata": {
    "collapsed": false
   },
   "outputs": [
    {
     "data": {
      "text/html": [
       "<div>\n",
       "<table border=\"1\" class=\"dataframe\">\n",
       "  <thead>\n",
       "    <tr style=\"text-align: right;\">\n",
       "      <th></th>\n",
       "      <th>Plans</th>\n",
       "      <th>AAA_Gy</th>\n",
       "      <th>AXB_Gy</th>\n",
       "      <th>Ref_Gy</th>\n",
       "    </tr>\n",
       "  </thead>\n",
       "  <tbody>\n",
       "    <tr>\n",
       "      <th>0</th>\n",
       "      <td>10x10 FiF</td>\n",
       "      <td>1.259</td>\n",
       "      <td>1.255</td>\n",
       "      <td>1.266744</td>\n",
       "    </tr>\n",
       "    <tr>\n",
       "      <th>1</th>\n",
       "      <td>10x10 G0125F</td>\n",
       "      <td>0.475</td>\n",
       "      <td>0.474</td>\n",
       "      <td>0.479413</td>\n",
       "    </tr>\n",
       "    <tr>\n",
       "      <th>2</th>\n",
       "      <td>10x10G02Gy</td>\n",
       "      <td>2.003</td>\n",
       "      <td>1.998</td>\n",
       "      <td>2.017702</td>\n",
       "    </tr>\n",
       "    <tr>\n",
       "      <th>3</th>\n",
       "      <td>10X10 G0 Asym</td>\n",
       "      <td>0.859</td>\n",
       "      <td>0.858</td>\n",
       "      <td>0.873106</td>\n",
       "    </tr>\n",
       "    <tr>\n",
       "      <th>4</th>\n",
       "      <td>10x10 G0 FSD</td>\n",
       "      <td>0.702</td>\n",
       "      <td>0.700</td>\n",
       "      <td>0.711810</td>\n",
       "    </tr>\n",
       "    <tr>\n",
       "      <th>5</th>\n",
       "      <td>10x10 G0 ISO</td>\n",
       "      <td>0.842</td>\n",
       "      <td>0.839</td>\n",
       "      <td>0.848726</td>\n",
       "    </tr>\n",
       "    <tr>\n",
       "      <th>6</th>\n",
       "      <td>10X10 G0 MLC</td>\n",
       "      <td>0.806</td>\n",
       "      <td>0.804</td>\n",
       "      <td>0.818605</td>\n",
       "    </tr>\n",
       "    <tr>\n",
       "      <th>7</th>\n",
       "      <td>10X10G0 POST</td>\n",
       "      <td>0.826</td>\n",
       "      <td>0.820</td>\n",
       "      <td>0.832372</td>\n",
       "    </tr>\n",
       "    <tr>\n",
       "      <th>8</th>\n",
       "      <td>10X10G90</td>\n",
       "      <td>0.697</td>\n",
       "      <td>0.688</td>\n",
       "      <td>0.697080</td>\n",
       "    </tr>\n",
       "    <tr>\n",
       "      <th>9</th>\n",
       "      <td>NaN</td>\n",
       "      <td>NaN</td>\n",
       "      <td>NaN</td>\n",
       "      <td>NaN</td>\n",
       "    </tr>\n",
       "  </tbody>\n",
       "</table>\n",
       "</div>"
      ],
      "text/plain": [
       "           Plans  AAA_Gy  AXB_Gy    Ref_Gy\n",
       "0      10x10 FiF   1.259   1.255  1.266744\n",
       "1   10x10 G0125F   0.475   0.474  0.479413\n",
       "2     10x10G02Gy   2.003   1.998  2.017702\n",
       "3  10X10 G0 Asym   0.859   0.858  0.873106\n",
       "4   10x10 G0 FSD   0.702   0.700  0.711810\n",
       "5   10x10 G0 ISO   0.842   0.839  0.848726\n",
       "6   10X10 G0 MLC   0.806   0.804  0.818605\n",
       "7   10X10G0 POST   0.826   0.820  0.832372\n",
       "8       10X10G90   0.697   0.688  0.697080\n",
       "9            NaN     NaN     NaN       NaN"
      ]
     },
     "execution_count": 10,
     "metadata": {},
     "output_type": "execute_result"
    }
   ],
   "source": [
    "df_6 = pd.read_csv('Data_6MV.csv')\n",
    "df_6"
   ]
  },
  {
   "cell_type": "code",
   "execution_count": 11,
   "metadata": {
    "collapsed": false
   },
   "outputs": [
    {
     "data": {
      "text/plain": [
       "FriedmanchisquareResult(statistic=18.200000000000017, pvalue=0.00011166580849011371)"
      ]
     },
     "execution_count": 11,
     "metadata": {},
     "output_type": "execute_result"
    }
   ],
   "source": [
    "friedmanchisquare(df_6['AAA_Gy'].values, df_6['AXB_Gy'].values, df_6['Ref_Gy'].values)"
   ]
  },
  {
   "cell_type": "code",
   "execution_count": 13,
   "metadata": {
    "collapsed": false
   },
   "outputs": [
    {
     "data": {
      "text/html": [
       "<div>\n",
       "<table border=\"1\" class=\"dataframe\">\n",
       "  <thead>\n",
       "    <tr style=\"text-align: right;\">\n",
       "      <th></th>\n",
       "      <th>Plans</th>\n",
       "      <th>AAA_Gy</th>\n",
       "      <th>AXB_Gy</th>\n",
       "      <th>Ref_Gy</th>\n",
       "    </tr>\n",
       "  </thead>\n",
       "  <tbody>\n",
       "    <tr>\n",
       "      <th>0</th>\n",
       "      <td>10x10 G02Gy</td>\n",
       "      <td>1.988</td>\n",
       "      <td>1.982</td>\n",
       "      <td>2.0217</td>\n",
       "    </tr>\n",
       "    <tr>\n",
       "      <th>1</th>\n",
       "      <td>10X10 G0 Asym</td>\n",
       "      <td>0.691</td>\n",
       "      <td>0.690</td>\n",
       "      <td>0.7059</td>\n",
       "    </tr>\n",
       "    <tr>\n",
       "      <th>2</th>\n",
       "      <td>10x10 G0 FSD</td>\n",
       "      <td>0.707</td>\n",
       "      <td>0.705</td>\n",
       "      <td>0.7245</td>\n",
       "    </tr>\n",
       "    <tr>\n",
       "      <th>3</th>\n",
       "      <td>10x10 G0 ISO</td>\n",
       "      <td>0.847</td>\n",
       "      <td>0.845</td>\n",
       "      <td>0.8623</td>\n",
       "    </tr>\n",
       "    <tr>\n",
       "      <th>4</th>\n",
       "      <td>10X10 G0 MLC</td>\n",
       "      <td>0.825</td>\n",
       "      <td>0.822</td>\n",
       "      <td>0.8411</td>\n",
       "    </tr>\n",
       "    <tr>\n",
       "      <th>5</th>\n",
       "      <td>10X10G0 POST</td>\n",
       "      <td>0.832</td>\n",
       "      <td>0.827</td>\n",
       "      <td>0.8487</td>\n",
       "    </tr>\n",
       "    <tr>\n",
       "      <th>6</th>\n",
       "      <td>10X10G90</td>\n",
       "      <td>0.719</td>\n",
       "      <td>0.711</td>\n",
       "      <td>0.7260</td>\n",
       "    </tr>\n",
       "    <tr>\n",
       "      <th>7</th>\n",
       "      <td>10X10G090LUNG</td>\n",
       "      <td>0.888</td>\n",
       "      <td>0.871</td>\n",
       "      <td>0.8954</td>\n",
       "    </tr>\n",
       "    <tr>\n",
       "      <th>8</th>\n",
       "      <td>20X20G90</td>\n",
       "      <td>0.764</td>\n",
       "      <td>0.756</td>\n",
       "      <td>0.7700</td>\n",
       "    </tr>\n",
       "    <tr>\n",
       "      <th>9</th>\n",
       "      <td>4X4G0ISO</td>\n",
       "      <td>0.772</td>\n",
       "      <td>0.770</td>\n",
       "      <td>0.7842</td>\n",
       "    </tr>\n",
       "    <tr>\n",
       "      <th>10</th>\n",
       "      <td>5X5G0MLC</td>\n",
       "      <td>0.762</td>\n",
       "      <td>0.765</td>\n",
       "      <td>0.7779</td>\n",
       "    </tr>\n",
       "  </tbody>\n",
       "</table>\n",
       "</div>"
      ],
      "text/plain": [
       "            Plans  AAA_Gy  AXB_Gy  Ref_Gy\n",
       "0     10x10 G02Gy   1.988   1.982  2.0217\n",
       "1   10X10 G0 Asym   0.691   0.690  0.7059\n",
       "2    10x10 G0 FSD   0.707   0.705  0.7245\n",
       "3    10x10 G0 ISO   0.847   0.845  0.8623\n",
       "4    10X10 G0 MLC   0.825   0.822  0.8411\n",
       "5    10X10G0 POST   0.832   0.827  0.8487\n",
       "6        10X10G90   0.719   0.711  0.7260\n",
       "7   10X10G090LUNG   0.888   0.871  0.8954\n",
       "8        20X20G90   0.764   0.756  0.7700\n",
       "9        4X4G0ISO   0.772   0.770  0.7842\n",
       "10       5X5G0MLC   0.762   0.765  0.7779"
      ]
     },
     "execution_count": 13,
     "metadata": {},
     "output_type": "execute_result"
    }
   ],
   "source": [
    "df_10 = pd.read_csv('Data_10MVFFF.csv')\n",
    "df_10"
   ]
  },
  {
   "cell_type": "code",
   "execution_count": 9,
   "metadata": {
    "collapsed": false
   },
   "outputs": [
    {
     "data": {
      "text/plain": [
       "FriedmanchisquareResult(statistic=20.181818181818187, pvalue=4.1454708385289209e-05)"
      ]
     },
     "execution_count": 9,
     "metadata": {},
     "output_type": "execute_result"
    }
   ],
   "source": [
    "friedmanchisquare(df_10['AAA_Gy'].values, df_10['AXB_Gy'].values, df_10['Ref_Gy'].values)"
   ]
  },
  {
   "cell_type": "code",
   "execution_count": 23,
   "metadata": {
    "collapsed": false
   },
   "outputs": [
    {
     "data": {
      "text/plain": [
       "WilcoxonResult(statistic=6.0, pvalue=0.016262589934769065)"
      ]
     },
     "execution_count": 23,
     "metadata": {},
     "output_type": "execute_result"
    }
   ],
   "source": [
    "wilcoxon(df_10['AAA_Gy'].values, df_10['AXB_Gy'].values)"
   ]
  },
  {
   "cell_type": "markdown",
   "metadata": {},
   "source": [
    "# Means and differences check"
   ]
  },
  {
   "cell_type": "code",
   "execution_count": 15,
   "metadata": {
    "collapsed": false
   },
   "outputs": [
    {
     "data": {
      "text/html": [
       "<div>\n",
       "<table border=\"1\" class=\"dataframe\">\n",
       "  <thead>\n",
       "    <tr style=\"text-align: right;\">\n",
       "      <th></th>\n",
       "      <th>Plans</th>\n",
       "      <th>AAA_Gy</th>\n",
       "      <th>AXB_Gy</th>\n",
       "      <th>Ref_Gy</th>\n",
       "      <th>AAA-ref</th>\n",
       "      <th>AXB-ref</th>\n",
       "    </tr>\n",
       "  </thead>\n",
       "  <tbody>\n",
       "    <tr>\n",
       "      <th>0</th>\n",
       "      <td>10x10 FiF</td>\n",
       "      <td>1.259</td>\n",
       "      <td>1.255</td>\n",
       "      <td>1.266744</td>\n",
       "      <td>-0.007744</td>\n",
       "      <td>-0.011744</td>\n",
       "    </tr>\n",
       "    <tr>\n",
       "      <th>1</th>\n",
       "      <td>10x10 G0125F</td>\n",
       "      <td>0.475</td>\n",
       "      <td>0.474</td>\n",
       "      <td>0.479413</td>\n",
       "      <td>-0.004413</td>\n",
       "      <td>-0.005413</td>\n",
       "    </tr>\n",
       "    <tr>\n",
       "      <th>2</th>\n",
       "      <td>10x10G02Gy</td>\n",
       "      <td>2.003</td>\n",
       "      <td>1.998</td>\n",
       "      <td>2.017702</td>\n",
       "      <td>-0.014702</td>\n",
       "      <td>-0.019702</td>\n",
       "    </tr>\n",
       "    <tr>\n",
       "      <th>3</th>\n",
       "      <td>10X10 G0 Asym</td>\n",
       "      <td>0.859</td>\n",
       "      <td>0.858</td>\n",
       "      <td>0.873106</td>\n",
       "      <td>-0.014106</td>\n",
       "      <td>-0.015106</td>\n",
       "    </tr>\n",
       "    <tr>\n",
       "      <th>4</th>\n",
       "      <td>10x10 G0 FSD</td>\n",
       "      <td>0.702</td>\n",
       "      <td>0.700</td>\n",
       "      <td>0.711810</td>\n",
       "      <td>-0.009810</td>\n",
       "      <td>-0.011810</td>\n",
       "    </tr>\n",
       "    <tr>\n",
       "      <th>5</th>\n",
       "      <td>10x10 G0 ISO</td>\n",
       "      <td>0.842</td>\n",
       "      <td>0.839</td>\n",
       "      <td>0.848726</td>\n",
       "      <td>-0.006726</td>\n",
       "      <td>-0.009726</td>\n",
       "    </tr>\n",
       "    <tr>\n",
       "      <th>6</th>\n",
       "      <td>10X10 G0 MLC</td>\n",
       "      <td>0.806</td>\n",
       "      <td>0.804</td>\n",
       "      <td>0.818605</td>\n",
       "      <td>-0.012605</td>\n",
       "      <td>-0.014605</td>\n",
       "    </tr>\n",
       "    <tr>\n",
       "      <th>7</th>\n",
       "      <td>10X10G0 POST</td>\n",
       "      <td>0.826</td>\n",
       "      <td>0.820</td>\n",
       "      <td>0.832372</td>\n",
       "      <td>-0.006372</td>\n",
       "      <td>-0.012372</td>\n",
       "    </tr>\n",
       "    <tr>\n",
       "      <th>8</th>\n",
       "      <td>10X10G90</td>\n",
       "      <td>0.697</td>\n",
       "      <td>0.688</td>\n",
       "      <td>0.697080</td>\n",
       "      <td>-0.000080</td>\n",
       "      <td>-0.009080</td>\n",
       "    </tr>\n",
       "    <tr>\n",
       "      <th>9</th>\n",
       "      <td>NaN</td>\n",
       "      <td>NaN</td>\n",
       "      <td>NaN</td>\n",
       "      <td>NaN</td>\n",
       "      <td>NaN</td>\n",
       "      <td>NaN</td>\n",
       "    </tr>\n",
       "  </tbody>\n",
       "</table>\n",
       "</div>"
      ],
      "text/plain": [
       "           Plans  AAA_Gy  AXB_Gy    Ref_Gy   AAA-ref   AXB-ref\n",
       "0      10x10 FiF   1.259   1.255  1.266744 -0.007744 -0.011744\n",
       "1   10x10 G0125F   0.475   0.474  0.479413 -0.004413 -0.005413\n",
       "2     10x10G02Gy   2.003   1.998  2.017702 -0.014702 -0.019702\n",
       "3  10X10 G0 Asym   0.859   0.858  0.873106 -0.014106 -0.015106\n",
       "4   10x10 G0 FSD   0.702   0.700  0.711810 -0.009810 -0.011810\n",
       "5   10x10 G0 ISO   0.842   0.839  0.848726 -0.006726 -0.009726\n",
       "6   10X10 G0 MLC   0.806   0.804  0.818605 -0.012605 -0.014605\n",
       "7   10X10G0 POST   0.826   0.820  0.832372 -0.006372 -0.012372\n",
       "8       10X10G90   0.697   0.688  0.697080 -0.000080 -0.009080\n",
       "9            NaN     NaN     NaN       NaN       NaN       NaN"
      ]
     },
     "execution_count": 15,
     "metadata": {},
     "output_type": "execute_result"
    }
   ],
   "source": [
    "df_6['AAA-ref'] = df_6['AAA_Gy'] - df_6['Ref_Gy']\n",
    "df_6['AXB-ref'] = df_6['AXB_Gy'] - df_6['Ref_Gy']\n",
    "df_6"
   ]
  },
  {
   "cell_type": "code",
   "execution_count": 19,
   "metadata": {
    "collapsed": false
   },
   "outputs": [
    {
     "data": {
      "text/plain": [
       "-1.3489955756132717"
      ]
     },
     "execution_count": 19,
     "metadata": {},
     "output_type": "execute_result"
    }
   ],
   "source": [
    "df_6['AXB-ref-diff'] = 100.0 * df_6['AXB-ref'] / df_6['Ref_Gy']\n",
    "df_6['AXB-ref-diff'].mean()"
   ]
  },
  {
   "cell_type": "code",
   "execution_count": 20,
   "metadata": {
    "collapsed": false
   },
   "outputs": [
    {
     "data": {
      "text/plain": [
       "0.32752907483294896"
      ]
     },
     "execution_count": 20,
     "metadata": {},
     "output_type": "execute_result"
    }
   ],
   "source": [
    "df_6['AXB-ref-diff'].std()"
   ]
  },
  {
   "cell_type": "code",
   "execution_count": 22,
   "metadata": {
    "collapsed": false
   },
   "outputs": [
    {
     "name": "stderr",
     "output_type": "stream",
     "text": [
      "C:\\Users\\RCole02.ROYALSURREY\\AppData\\Local\\Continuum\\Anaconda3\\lib\\site-packages\\scipy\\stats\\morestats.py:2391: RuntimeWarning: invalid value encountered in greater\n",
      "  r_plus = np.sum((d > 0) * r, axis=0)\n",
      "C:\\Users\\RCole02.ROYALSURREY\\AppData\\Local\\Continuum\\Anaconda3\\lib\\site-packages\\scipy\\stats\\morestats.py:2392: RuntimeWarning: invalid value encountered in less\n",
      "  r_minus = np.sum((d < 0) * r, axis=0)\n"
     ]
    },
    {
     "data": {
      "text/plain": [
       "WilcoxonResult(statistic=0.0, pvalue=0.0050620321262678644)"
      ]
     },
     "execution_count": 22,
     "metadata": {},
     "output_type": "execute_result"
    }
   ],
   "source": [
    "wilcoxon(df_6['AAA_Gy'].values, df_6['AXB_Gy'].values)"
   ]
  },
  {
   "cell_type": "code",
   "execution_count": null,
   "metadata": {
    "collapsed": true
   },
   "outputs": [],
   "source": []
  }
 ],
 "metadata": {
  "anaconda-cloud": {},
  "kernelspec": {
   "display_name": "Python [conda root]",
   "language": "python",
   "name": "conda-root-py"
  },
  "language_info": {
   "codemirror_mode": {
    "name": "ipython",
    "version": 3
   },
   "file_extension": ".py",
   "mimetype": "text/x-python",
   "name": "python",
   "nbconvert_exporter": "python",
   "pygments_lexer": "ipython3",
   "version": "3.5.2"
  }
 },
 "nbformat": 4,
 "nbformat_minor": 1
}
