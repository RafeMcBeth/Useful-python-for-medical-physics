{
 "cells": [
  {
   "cell_type": "markdown",
   "metadata": {},
   "source": [
    "Now analysis of parsed data from part 1.\n",
    "\n",
    "Useful ref http://www.shanelynn.ie/summarising-aggregation-and-grouping-data-in-python-pandas/\n",
    "\n",
    "http://stackoverflow.com/questions/21828398/what-is-the-difference-between-pandas-agg-and-apply-function"
   ]
  },
  {
   "cell_type": "code",
   "execution_count": 1,
   "metadata": {
    "collapsed": true
   },
   "outputs": [],
   "source": [
    "import pandas as pd\n",
    "import numpy as np\n",
    "from scipy import stats\n",
    "from scipy.stats import wilcoxon, friedmanchisquare, jarque_bera  # must import explicitly\n",
    "import seaborn as sns\n",
    "sns.set(style=\"whitegrid\", palette=\"pastel\", color_codes=True)\n",
    "import matplotlib.pyplot as plt\n",
    "%matplotlib inline"
   ]
  },
  {
   "cell_type": "markdown",
   "metadata": {},
   "source": [
    "## Helper functions"
   ]
  },
  {
   "cell_type": "code",
   "execution_count": 3,
   "metadata": {
    "collapsed": false
   },
   "outputs": [],
   "source": [
    "def query_data(Col, structure, metric):   # helper function to get data, Col = AAA, AXB or diff\n",
    "    temp = d[Col][(d['structure'] == structure) & (d['metric'] == metric)]\n",
    "    return temp"
   ]
  },
  {
   "cell_type": "code",
   "execution_count": 4,
   "metadata": {
    "collapsed": false
   },
   "outputs": [],
   "source": [
    "def my_wilcox(data):                    # helper function to return p-value, pass difference data as series from dataframe\n",
    "    z_stat, p_val = wilcoxon(data)   # if only 1 value passed\n",
    "    #z_stat, p_val = wilcoxon(data.as_matrix())   # if only 1 value passed\n",
    "    return p_val"
   ]
  },
  {
   "cell_type": "code",
   "execution_count": 5,
   "metadata": {
    "collapsed": false
   },
   "outputs": [
    {
     "name": "stderr",
     "output_type": "stream",
     "text": [
      "C:\\Users\\RCole02.ROYALSURREY\\AppData\\Local\\Continuum\\Anaconda3\\lib\\site-packages\\scipy\\stats\\morestats.py:2388: UserWarning: Warning: sample size too small for normal approximation.\n",
      "  warnings.warn(\"Warning: sample size too small for normal approximation.\")\n"
     ]
    },
    {
     "data": {
      "text/plain": [
       "0.0075792819433897285"
      ]
     },
     "execution_count": 5,
     "metadata": {},
     "output_type": "execute_result"
    }
   ],
   "source": [
    "my_wilcox([1,2,3,4,6,7,2,352,3])"
   ]
  },
  {
   "cell_type": "code",
   "execution_count": 6,
   "metadata": {
    "collapsed": false
   },
   "outputs": [],
   "source": [
    "def my_jarque_bera(data):\n",
    "    jb_value, pvalue = jarque_bera(data)\n",
    "    if pvalue > 0.05:\n",
    "        print('Likely normal.')\n",
    "    else:\n",
    "        print('Likely not normal.')\n",
    "    return pvalue"
   ]
  },
  {
   "cell_type": "code",
   "execution_count": 7,
   "metadata": {
    "collapsed": false
   },
   "outputs": [
    {
     "name": "stdout",
     "output_type": "stream",
     "text": [
      "Likely normal.\n"
     ]
    },
    {
     "data": {
      "text/plain": [
       "0.84648172489061413"
      ]
     },
     "execution_count": 7,
     "metadata": {},
     "output_type": "execute_result"
    },
    {
     "data": {
      "image/png": "[encoded data removed]",
      "text/plain": [
       "<matplotlib.figure.Figure at 0x37f1890>"
      ]
     },
     "metadata": {},
     "output_type": "display_data"
    }
   ],
   "source": [
    "normal = np.random.normal(loc=0.0, scale=1.0, size=2)\n",
    "# random = np.random.rand(10000)\n",
    "plt.hist(normal)\n",
    "my_jarque_bera(normal)"
   ]
  },
  {
   "cell_type": "code",
   "execution_count": 8,
   "metadata": {
    "collapsed": true
   },
   "outputs": [],
   "source": [
    "def my_friedman(data1, data2, data3):    # requires at least 3 args\n",
    "    statistic, pvalue =  friedmanchisquare(data1, data2, data3)\n",
    "    return pvalue"
   ]
  },
  {
   "cell_type": "code",
   "execution_count": 9,
   "metadata": {
    "collapsed": false
   },
   "outputs": [
    {
     "data": {
      "text/plain": [
       "0.0086516952031205907"
      ]
     },
     "execution_count": 9,
     "metadata": {},
     "output_type": "execute_result"
    }
   ],
   "source": [
    "my_friedman([1,2,3,4,5], [6,7,8,9,10], [6,7,8,9,13])"
   ]
  },
  {
   "cell_type": "code",
   "execution_count": 10,
   "metadata": {
    "collapsed": true
   },
   "outputs": [],
   "source": [
    "def normal_hist_plot(data, title, *args, **kwargs):\n",
    "    p_val = my_jarque_bera(np.asarray(data))\n",
    "    data.hist()\n",
    "    plt.ylabel('Frequency')\n",
    "    plt.xlabel('Dose (Gy)')\n",
    "    plt.title(title + ' : normality of data p = ' + str(np.round(p_val, decimals = 3)))\n",
    "    plt.savefig('Shapiro.png')"
   ]
  },
  {
   "cell_type": "code",
   "execution_count": 128,
   "metadata": {
    "collapsed": true
   },
   "outputs": [],
   "source": [
    "def bland_altman_plot(Dm_data, AAA_data, structure, metric, *args, **kwargs):\n",
    "    Dm_data     = np.asarray(Dm_data)\n",
    "    AAA_data     = np.asarray(AAA_data)\n",
    "    z_stat, p_val = wilcoxon(Dm_data, AAA_data)\n",
    "    mean      = np.mean([Dm_data, AAA_data], axis=0)\n",
    "    diff      = Dm_data - AAA_data                   # Difference between data1 and data2\n",
    "    diff      = 100.0*(Dm_data - AAA_data)/AAA_data                  # Difference between data1 and data2\n",
    "    md        = np.mean(diff)                   # Mean of the difference\n",
    "    sd        = np.std(diff, axis=0)            # Standard deviation of the difference\n",
    "\n",
    "    # plt.scatter(mean, diff, *args, **kwargs)\n",
    "    plt.scatter(AAA_data, diff, *args, **kwargs)\n",
    "    plt.axhline(md,           color='red', linestyle='-')\n",
    "    plt.axhline(md + 1.96*sd, color='blue', linestyle='--')\n",
    "    plt.axhline(md - 1.96*sd, color='blue', linestyle='--')\n",
    "    plt.xlabel('AAA Dose (Gy)')\n",
    "    plt.ylabel('Dm - AAA Difference (%)')\n",
    "    plt.title( str(np.round(md, decimals = 3)) + ' % difference with p = ' + str(np.round(p_val, decimals = 3))  + ' for ' + structure + ' and metric ' + metric)\n",
    "   # plt.savefig('BA.png')"
   ]
  },
  {
   "cell_type": "markdown",
   "metadata": {},
   "source": [
    "## Import and clean data "
   ]
  },
  {
   "cell_type": "code",
   "execution_count": 12,
   "metadata": {
    "collapsed": false
   },
   "outputs": [],
   "source": [
    "d = pd.read_csv('data/AAA_Dm_data_30_9.csv')"
   ]
  },
  {
   "cell_type": "markdown",
   "metadata": {},
   "source": [
    "Drop entries with no values, and calculate percent difference"
   ]
  },
  {
   "cell_type": "code",
   "execution_count": 13,
   "metadata": {
    "collapsed": false
   },
   "outputs": [],
   "source": [
    "d = d[d.AAA != 0]    # drop zero rows"
   ]
  },
  {
   "cell_type": "code",
   "execution_count": 14,
   "metadata": {
    "collapsed": false
   },
   "outputs": [],
   "source": [
    "#d = d[d.structure != 'L Brachial plex']   # drop these\n",
    "#d = d[d.structure != 'Both Lungs']\n",
    "#d = d[d.metric != 'V20GY']\n",
    "#d = d[d.metric != 'V30GY']\n",
    "#d = d[d.metric != 'V40GY']\n",
    "#d = d[d.metric != 'V50GY']\n",
    "#d = d[d.metric != 'V55GY']\n",
    "#d = d[d.metric != 'DRX']"
   ]
  },
  {
   "cell_type": "code",
   "execution_count": 15,
   "metadata": {
    "collapsed": true
   },
   "outputs": [],
   "source": [
    "d['Dm-AAA'] = d.Dm - d.AAA  # create absolute difference col, not %"
   ]
  },
  {
   "cell_type": "code",
   "execution_count": 71,
   "metadata": {
    "collapsed": true
   },
   "outputs": [],
   "source": [
    "d['Dm-AAA_%'] = 100.0*(d.Dm - d.AAA)/d.AAA"
   ]
  },
  {
   "cell_type": "code",
   "execution_count": 72,
   "metadata": {
    "collapsed": false
   },
   "outputs": [
    {
     "data": {
      "text/html": [
       "<div>\n",
       "<table border=\"1\" class=\"dataframe\">\n",
       "  <thead>\n",
       "    <tr style=\"text-align: right;\">\n",
       "      <th></th>\n",
       "      <th>Case</th>\n",
       "      <th>structure</th>\n",
       "      <th>metric</th>\n",
       "      <th>AAA</th>\n",
       "      <th>Dm</th>\n",
       "      <th>Dm-AAA</th>\n",
       "      <th>Dm-AAA_%</th>\n",
       "    </tr>\n",
       "  </thead>\n",
       "  <tbody>\n",
       "    <tr>\n",
       "      <th>0</th>\n",
       "      <td>Case1</td>\n",
       "      <td>BODY</td>\n",
       "      <td>D2%</td>\n",
       "      <td>25.853042</td>\n",
       "      <td>25.685894</td>\n",
       "      <td>-0.167149</td>\n",
       "      <td>-0.646533</td>\n",
       "    </tr>\n",
       "    <tr>\n",
       "      <th>1</th>\n",
       "      <td>Case1</td>\n",
       "      <td>BODY</td>\n",
       "      <td>D5%</td>\n",
       "      <td>14.523130</td>\n",
       "      <td>14.388797</td>\n",
       "      <td>-0.134333</td>\n",
       "      <td>-0.924957</td>\n",
       "    </tr>\n",
       "    <tr>\n",
       "      <th>2</th>\n",
       "      <td>Case1</td>\n",
       "      <td>BODY</td>\n",
       "      <td>D50%</td>\n",
       "      <td>0.430243</td>\n",
       "      <td>0.399853</td>\n",
       "      <td>-0.030390</td>\n",
       "      <td>-7.063413</td>\n",
       "    </tr>\n",
       "    <tr>\n",
       "      <th>3</th>\n",
       "      <td>Case1</td>\n",
       "      <td>BODY</td>\n",
       "      <td>D95%</td>\n",
       "      <td>0.047550</td>\n",
       "      <td>0.065952</td>\n",
       "      <td>0.018402</td>\n",
       "      <td>38.701086</td>\n",
       "    </tr>\n",
       "    <tr>\n",
       "      <th>4</th>\n",
       "      <td>Case1</td>\n",
       "      <td>BODY</td>\n",
       "      <td>D99%</td>\n",
       "      <td>0.009510</td>\n",
       "      <td>0.022860</td>\n",
       "      <td>0.013350</td>\n",
       "      <td>140.374065</td>\n",
       "    </tr>\n",
       "  </tbody>\n",
       "</table>\n",
       "</div>"
      ],
      "text/plain": [
       "    Case structure metric        AAA         Dm    Dm-AAA    Dm-AAA_%\n",
       "0  Case1      BODY    D2%  25.853042  25.685894 -0.167149   -0.646533\n",
       "1  Case1      BODY    D5%  14.523130  14.388797 -0.134333   -0.924957\n",
       "2  Case1      BODY   D50%   0.430243   0.399853 -0.030390   -7.063413\n",
       "3  Case1      BODY   D95%   0.047550   0.065952  0.018402   38.701086\n",
       "4  Case1      BODY   D99%   0.009510   0.022860  0.013350  140.374065"
      ]
     },
     "execution_count": 72,
     "metadata": {},
     "output_type": "execute_result"
    }
   ],
   "source": [
    "d.head()"
   ]
  },
  {
   "cell_type": "code",
   "execution_count": 73,
   "metadata": {
    "collapsed": false
   },
   "outputs": [
    {
     "data": {
      "text/plain": [
       "Case                  Case31\n",
       "structure    R Brachial plex\n",
       "metric                   DHI\n",
       "AAA                  44.7183\n",
       "Dm                   781.014\n",
       "Dm-AAA               736.296\n",
       "Dm-AAA_%             1646.52\n",
       "Name: 4978, dtype: object"
      ]
     },
     "execution_count": 73,
     "metadata": {},
     "output_type": "execute_result"
    }
   ],
   "source": [
    "d.loc[d['Dm-AAA'].idxmax()] # Some large differences for Brachial plex, INVESTIGATE"
   ]
  },
  {
   "cell_type": "code",
   "execution_count": 74,
   "metadata": {
    "collapsed": false
   },
   "outputs": [
    {
     "data": {
      "text/plain": [
       "array(['D2%', 'D5%', 'D50%', 'D95%', 'D99%', 'D1CC', 'D0.1CC', 'DMAX',\n",
       "       'DSD', 'DRX', 'DHI', 'V5GY', 'V12.5GY', 'V20GY', 'V30GY', 'V40GY',\n",
       "       'V50GY', 'V55GY'], dtype=object)"
      ]
     },
     "execution_count": 74,
     "metadata": {},
     "output_type": "execute_result"
    }
   ],
   "source": [
    "d.metric.unique()"
   ]
  },
  {
   "cell_type": "code",
   "execution_count": 75,
   "metadata": {
    "collapsed": false
   },
   "outputs": [
    {
     "data": {
      "text/plain": [
       "15"
      ]
     },
     "execution_count": 75,
     "metadata": {},
     "output_type": "execute_result"
    }
   ],
   "source": [
    "len(d.Case.unique())"
   ]
  },
  {
   "cell_type": "code",
   "execution_count": 76,
   "metadata": {
    "collapsed": false
   },
   "outputs": [
    {
     "data": {
      "text/plain": [
       "array(['BODY', 'GTV', 'Heart', 'Foramen', 'Foramen+3mm', 'Oesophagus',\n",
       "       'Trachea', 'Bronchial tree', 'L Brachial plex', 'R Brachial plex',\n",
       "       'Airway avoidance', 'PTV CHEST', 'Lt_Lung', 'PTV ring 2-3cm',\n",
       "       'Rt_Lung', 'Both Lungs-ITV', 'Skin', 'Ribs', 'Skin-PTV+2cm', 'ITV',\n",
       "       'Ribs-PTV', 'Inner Ring', 'Body', 'Both Lungs', 'Great vessels',\n",
       "       'Liver'], dtype=object)"
      ]
     },
     "execution_count": 76,
     "metadata": {},
     "output_type": "execute_result"
    }
   ],
   "source": [
    "d.structure.unique()"
   ]
  },
  {
   "cell_type": "markdown",
   "metadata": {},
   "source": [
    "# Check against constraints"
   ]
  },
  {
   "cell_type": "code",
   "execution_count": 77,
   "metadata": {
    "collapsed": false
   },
   "outputs": [],
   "source": [
    "constraints = pd.read_csv('data/SABR_lung_constraints.csv')\n",
    "constraints = constraints.drop('3_Fraction_54Gy', 1)   # drop 54 Gy"
   ]
  },
  {
   "cell_type": "code",
   "execution_count": 78,
   "metadata": {
    "collapsed": false
   },
   "outputs": [
    {
     "data": {
      "text/html": [
       "<div>\n",
       "<table border=\"1\" class=\"dataframe\">\n",
       "  <thead>\n",
       "    <tr style=\"text-align: right;\">\n",
       "      <th></th>\n",
       "      <th>structure</th>\n",
       "      <th>metric</th>\n",
       "      <th>Sign</th>\n",
       "      <th>5_Fraction_55Gy</th>\n",
       "      <th>Unit</th>\n",
       "      <th>Of_Prescription_dose?</th>\n",
       "    </tr>\n",
       "  </thead>\n",
       "  <tbody>\n",
       "    <tr>\n",
       "      <th>0</th>\n",
       "      <td>PTV CHEST</td>\n",
       "      <td>D95%</td>\n",
       "      <td>&gt;</td>\n",
       "      <td>100</td>\n",
       "      <td>%</td>\n",
       "      <td>1</td>\n",
       "    </tr>\n",
       "    <tr>\n",
       "      <th>1</th>\n",
       "      <td>PTV CHEST</td>\n",
       "      <td>D99%</td>\n",
       "      <td>&gt;</td>\n",
       "      <td>90</td>\n",
       "      <td>%</td>\n",
       "      <td>1</td>\n",
       "    </tr>\n",
       "    <tr>\n",
       "      <th>2</th>\n",
       "      <td>PTV CHEST</td>\n",
       "      <td>D0.1CC</td>\n",
       "      <td>between</td>\n",
       "      <td>118-134</td>\n",
       "      <td>%</td>\n",
       "      <td>1</td>\n",
       "    </tr>\n",
       "    <tr>\n",
       "      <th>3</th>\n",
       "      <td>Foramen</td>\n",
       "      <td>DMAX</td>\n",
       "      <td>&lt;</td>\n",
       "      <td>25</td>\n",
       "      <td>Gy</td>\n",
       "      <td>0</td>\n",
       "    </tr>\n",
       "    <tr>\n",
       "      <th>4</th>\n",
       "      <td>Oesophagus</td>\n",
       "      <td>D0.1CC</td>\n",
       "      <td>&lt;</td>\n",
       "      <td>27</td>\n",
       "      <td>Gy</td>\n",
       "      <td>0</td>\n",
       "    </tr>\n",
       "    <tr>\n",
       "      <th>5</th>\n",
       "      <td>R Brachial plex</td>\n",
       "      <td>D0.1CC</td>\n",
       "      <td>&lt;</td>\n",
       "      <td>27</td>\n",
       "      <td>Gy</td>\n",
       "      <td>0</td>\n",
       "    </tr>\n",
       "    <tr>\n",
       "      <th>6</th>\n",
       "      <td>L Brachial plex</td>\n",
       "      <td>D0.1CC</td>\n",
       "      <td>&lt;</td>\n",
       "      <td>27</td>\n",
       "      <td>Gy</td>\n",
       "      <td>0</td>\n",
       "    </tr>\n",
       "    <tr>\n",
       "      <th>7</th>\n",
       "      <td>Heart</td>\n",
       "      <td>D0.1CC</td>\n",
       "      <td>&lt;</td>\n",
       "      <td>27</td>\n",
       "      <td>Gy</td>\n",
       "      <td>0</td>\n",
       "    </tr>\n",
       "    <tr>\n",
       "      <th>8</th>\n",
       "      <td>Trachea</td>\n",
       "      <td>D0.1CC</td>\n",
       "      <td>&lt;</td>\n",
       "      <td>32</td>\n",
       "      <td>Gy</td>\n",
       "      <td>0</td>\n",
       "    </tr>\n",
       "    <tr>\n",
       "      <th>9</th>\n",
       "      <td>Bronchial tree</td>\n",
       "      <td>D0.1CC</td>\n",
       "      <td>&lt;</td>\n",
       "      <td>32</td>\n",
       "      <td>Gy</td>\n",
       "      <td>0</td>\n",
       "    </tr>\n",
       "    <tr>\n",
       "      <th>10</th>\n",
       "      <td>Ribs</td>\n",
       "      <td>D0.1CC</td>\n",
       "      <td>&lt;</td>\n",
       "      <td>35</td>\n",
       "      <td>Gy</td>\n",
       "      <td>0</td>\n",
       "    </tr>\n",
       "  </tbody>\n",
       "</table>\n",
       "</div>"
      ],
      "text/plain": [
       "          structure  metric     Sign 5_Fraction_55Gy Unit  \\\n",
       "0         PTV CHEST    D95%       >              100    %   \n",
       "1         PTV CHEST    D99%        >              90    %   \n",
       "2         PTV CHEST  D0.1CC  between         118-134    %   \n",
       "3           Foramen    DMAX        <              25   Gy   \n",
       "4        Oesophagus  D0.1CC        <              27   Gy   \n",
       "5   R Brachial plex  D0.1CC        <              27   Gy   \n",
       "6   L Brachial plex  D0.1CC        <              27   Gy   \n",
       "7             Heart  D0.1CC        <              27   Gy   \n",
       "8           Trachea  D0.1CC        <              32   Gy   \n",
       "9    Bronchial tree  D0.1CC        <              32   Gy   \n",
       "10             Ribs  D0.1CC        <              35   Gy   \n",
       "\n",
       "    Of_Prescription_dose?  \n",
       "0                       1  \n",
       "1                       1  \n",
       "2                       1  \n",
       "3                       0  \n",
       "4                       0  \n",
       "5                       0  \n",
       "6                       0  \n",
       "7                       0  \n",
       "8                       0  \n",
       "9                       0  \n",
       "10                      0  "
      ]
     },
     "execution_count": 78,
     "metadata": {},
     "output_type": "execute_result"
    }
   ],
   "source": [
    "# constraints[(constraints['Structure'] == 'PTV CHEST') & (constraints['Metric'] == 'D95%')]\n",
    "constraints = constraints[constraints['metric'].isin(d.metric.unique())]   # get only constraints where we have exported metrics\n",
    "constraints"
   ]
  },
  {
   "cell_type": "code",
   "execution_count": 79,
   "metadata": {
    "collapsed": false
   },
   "outputs": [
    {
     "data": {
      "text/html": [
       "<div>\n",
       "<table border=\"1\" class=\"dataframe\">\n",
       "  <thead>\n",
       "    <tr style=\"text-align: right;\">\n",
       "      <th></th>\n",
       "      <th>Case</th>\n",
       "      <th>structure</th>\n",
       "      <th>metric</th>\n",
       "      <th>AAA</th>\n",
       "      <th>Dm</th>\n",
       "      <th>Dm-AAA</th>\n",
       "      <th>Dm-AAA_%</th>\n",
       "    </tr>\n",
       "  </thead>\n",
       "  <tbody>\n",
       "    <tr>\n",
       "      <th>489</th>\n",
       "      <td>Case5</td>\n",
       "      <td>PTV CHEST</td>\n",
       "      <td>D95%</td>\n",
       "      <td>55.648904</td>\n",
       "      <td>54.883221</td>\n",
       "      <td>-0.765683</td>\n",
       "      <td>-1.375917</td>\n",
       "    </tr>\n",
       "    <tr>\n",
       "      <th>4287</th>\n",
       "      <td>Case30</td>\n",
       "      <td>PTV CHEST</td>\n",
       "      <td>D95%</td>\n",
       "      <td>56.172306</td>\n",
       "      <td>51.618767</td>\n",
       "      <td>-4.553539</td>\n",
       "      <td>-8.106377</td>\n",
       "    </tr>\n",
       "  </tbody>\n",
       "</table>\n",
       "</div>"
      ],
      "text/plain": [
       "        Case  structure metric        AAA         Dm    Dm-AAA  Dm-AAA_%\n",
       "489    Case5  PTV CHEST   D95%  55.648904  54.883221 -0.765683 -1.375917\n",
       "4287  Case30  PTV CHEST   D95%  56.172306  51.618767 -4.553539 -8.106377"
      ]
     },
     "execution_count": 79,
     "metadata": {},
     "output_type": "execute_result"
    }
   ],
   "source": [
    "PTV_D95_fail = d[(d['structure'] == 'PTV CHEST') & (d['metric'] == 'D95%') & (d['AAA'] > 55.0) & (d['Dm'] < 55.0)]\n",
    "#print(wilcoxon(test_df['diff'])) \n",
    "PTV_D95_fail"
   ]
  },
  {
   "cell_type": "code",
   "execution_count": 80,
   "metadata": {
    "collapsed": false
   },
   "outputs": [
    {
     "data": {
      "text/html": [
       "<div>\n",
       "<table border=\"1\" class=\"dataframe\">\n",
       "  <thead>\n",
       "    <tr style=\"text-align: right;\">\n",
       "      <th></th>\n",
       "      <th>Case</th>\n",
       "      <th>structure</th>\n",
       "      <th>metric</th>\n",
       "      <th>AAA</th>\n",
       "      <th>Dm</th>\n",
       "      <th>Dm-AAA</th>\n",
       "      <th>Dm-AAA_%</th>\n",
       "    </tr>\n",
       "  </thead>\n",
       "  <tbody>\n",
       "  </tbody>\n",
       "</table>\n",
       "</div>"
      ],
      "text/plain": [
       "Empty DataFrame\n",
       "Columns: [Case, structure, metric, AAA, Dm, Dm-AAA, Dm-AAA_%]\n",
       "Index: []"
      ]
     },
     "execution_count": 80,
     "metadata": {},
     "output_type": "execute_result"
    }
   ],
   "source": [
    "PTV_D99_fail = d[(d['structure'] == 'PTV CHEST') & (d['metric'] == 'D99%') & (d['AAA'] > 0.9*55.0) & (d['Dm'] < 0.9*55.0)]\n",
    "PTV_D99_fail  "
   ]
  },
  {
   "cell_type": "code",
   "execution_count": 81,
   "metadata": {
    "collapsed": false
   },
   "outputs": [
    {
     "name": "stdout",
     "output_type": "stream",
     "text": [
      "64.89999999999999\n",
      "73.7\n"
     ]
    },
    {
     "data": {
      "text/html": [
       "<div>\n",
       "<table border=\"1\" class=\"dataframe\">\n",
       "  <thead>\n",
       "    <tr style=\"text-align: right;\">\n",
       "      <th></th>\n",
       "      <th>Case</th>\n",
       "      <th>structure</th>\n",
       "      <th>metric</th>\n",
       "      <th>AAA</th>\n",
       "      <th>Dm</th>\n",
       "      <th>Dm-AAA</th>\n",
       "      <th>Dm-AAA_%</th>\n",
       "    </tr>\n",
       "  </thead>\n",
       "  <tbody>\n",
       "    <tr>\n",
       "      <th>4740</th>\n",
       "      <td>Case31</td>\n",
       "      <td>PTV CHEST</td>\n",
       "      <td>D0.1CC</td>\n",
       "      <td>72.846993</td>\n",
       "      <td>74.024337</td>\n",
       "      <td>1.177344</td>\n",
       "      <td>1.616188</td>\n",
       "    </tr>\n",
       "  </tbody>\n",
       "</table>\n",
       "</div>"
      ],
      "text/plain": [
       "        Case  structure  metric        AAA         Dm    Dm-AAA  Dm-AAA_%\n",
       "4740  Case31  PTV CHEST  D0.1CC  72.846993  74.024337  1.177344  1.616188"
      ]
     },
     "execution_count": 81,
     "metadata": {},
     "output_type": "execute_result"
    }
   ],
   "source": [
    "PTV_D01CC_fail = d[(d['structure'] == 'PTV CHEST') & (d['metric'] == 'D0.1CC') & (((d['AAA'] > 1.18*55) & (d['Dm'] < 1.18*55)) | ((d['AAA'] < 1.34*55) & (d['Dm'] > 1.34*55)))]\n",
    "print(1.18*55)\n",
    "print(1.34*55)\n",
    "PTV_D01CC_fail"
   ]
  },
  {
   "cell_type": "code",
   "execution_count": 82,
   "metadata": {
    "collapsed": false
   },
   "outputs": [
    {
     "data": {
      "text/html": [
       "<div>\n",
       "<table border=\"1\" class=\"dataframe\">\n",
       "  <thead>\n",
       "    <tr style=\"text-align: right;\">\n",
       "      <th></th>\n",
       "      <th>Case</th>\n",
       "      <th>structure</th>\n",
       "      <th>metric</th>\n",
       "      <th>AAA</th>\n",
       "      <th>Dm</th>\n",
       "      <th>Dm-AAA</th>\n",
       "      <th>Dm-AAA_%</th>\n",
       "    </tr>\n",
       "  </thead>\n",
       "  <tbody>\n",
       "  </tbody>\n",
       "</table>\n",
       "</div>"
      ],
      "text/plain": [
       "Empty DataFrame\n",
       "Columns: [Case, structure, metric, AAA, Dm, Dm-AAA, Dm-AAA_%]\n",
       "Index: []"
      ]
     },
     "execution_count": 82,
     "metadata": {},
     "output_type": "execute_result"
    }
   ],
   "source": [
    "Foramen_D01CC_fail = d[(d['structure'] == 'Foramen') & (d['metric'] == 'DMAX') & (d['AAA'] < 25.0) & (d['Dm'] > 25.0)]\n",
    "Foramen_D01CC_fail  "
   ]
  },
  {
   "cell_type": "code",
   "execution_count": 83,
   "metadata": {
    "collapsed": false
   },
   "outputs": [
    {
     "data": {
      "text/html": [
       "<div>\n",
       "<table border=\"1\" class=\"dataframe\">\n",
       "  <thead>\n",
       "    <tr style=\"text-align: right;\">\n",
       "      <th></th>\n",
       "      <th>Case</th>\n",
       "      <th>structure</th>\n",
       "      <th>metric</th>\n",
       "      <th>AAA</th>\n",
       "      <th>Dm</th>\n",
       "      <th>Dm-AAA</th>\n",
       "      <th>Dm-AAA_%</th>\n",
       "    </tr>\n",
       "  </thead>\n",
       "  <tbody>\n",
       "  </tbody>\n",
       "</table>\n",
       "</div>"
      ],
      "text/plain": [
       "Empty DataFrame\n",
       "Columns: [Case, structure, metric, AAA, Dm, Dm-AAA, Dm-AAA_%]\n",
       "Index: []"
      ]
     },
     "execution_count": 83,
     "metadata": {},
     "output_type": "execute_result"
    }
   ],
   "source": [
    "Oesophagus_D01CC_fail = d[(d['structure'] == 'Oesophagus') & (d['metric'] == 'D0.1CC') & (d['AAA'] < 27.0) & (d['Dm'] > 27.0)]\n",
    "Oesophagus_D01CC_fail  "
   ]
  },
  {
   "cell_type": "code",
   "execution_count": 84,
   "metadata": {
    "collapsed": false
   },
   "outputs": [
    {
     "data": {
      "text/html": [
       "<div>\n",
       "<table border=\"1\" class=\"dataframe\">\n",
       "  <thead>\n",
       "    <tr style=\"text-align: right;\">\n",
       "      <th></th>\n",
       "      <th>Case</th>\n",
       "      <th>structure</th>\n",
       "      <th>metric</th>\n",
       "      <th>AAA</th>\n",
       "      <th>Dm</th>\n",
       "      <th>Dm-AAA</th>\n",
       "      <th>Dm-AAA_%</th>\n",
       "    </tr>\n",
       "  </thead>\n",
       "  <tbody>\n",
       "    <tr>\n",
       "      <th>1122</th>\n",
       "      <td>Case12</td>\n",
       "      <td>L Brachial plex</td>\n",
       "      <td>D0.1CC</td>\n",
       "      <td>0.108812</td>\n",
       "      <td>74.346465</td>\n",
       "      <td>74.237653</td>\n",
       "      <td>68225.508432</td>\n",
       "    </tr>\n",
       "    <tr>\n",
       "      <th>3912</th>\n",
       "      <td>Case25</td>\n",
       "      <td>L Brachial plex</td>\n",
       "      <td>D0.1CC</td>\n",
       "      <td>0.054618</td>\n",
       "      <td>63.428739</td>\n",
       "      <td>63.374121</td>\n",
       "      <td>116031.448241</td>\n",
       "    </tr>\n",
       "    <tr>\n",
       "      <th>4650</th>\n",
       "      <td>Case31</td>\n",
       "      <td>L Brachial plex</td>\n",
       "      <td>D0.1CC</td>\n",
       "      <td>0.109680</td>\n",
       "      <td>77.576481</td>\n",
       "      <td>77.466802</td>\n",
       "      <td>70629.998217</td>\n",
       "    </tr>\n",
       "  </tbody>\n",
       "</table>\n",
       "</div>"
      ],
      "text/plain": [
       "        Case        structure  metric       AAA         Dm     Dm-AAA  \\\n",
       "1122  Case12  L Brachial plex  D0.1CC  0.108812  74.346465  74.237653   \n",
       "3912  Case25  L Brachial plex  D0.1CC  0.054618  63.428739  63.374121   \n",
       "4650  Case31  L Brachial plex  D0.1CC  0.109680  77.576481  77.466802   \n",
       "\n",
       "           Dm-AAA_%  \n",
       "1122   68225.508432  \n",
       "3912  116031.448241  \n",
       "4650   70629.998217  "
      ]
     },
     "execution_count": 84,
     "metadata": {},
     "output_type": "execute_result"
    }
   ],
   "source": [
    "LBrachial_D01CC_fail = d[(d['structure'] == 'L Brachial plex') & (d['metric'] == 'D0.1CC') & (d['AAA'] < 27.0) & (d['Dm'] > 27.0)]\n",
    "LBrachial_D01CC_fail  "
   ]
  },
  {
   "cell_type": "code",
   "execution_count": 85,
   "metadata": {
    "collapsed": false
   },
   "outputs": [
    {
     "data": {
      "text/html": [
       "<div>\n",
       "<table border=\"1\" class=\"dataframe\">\n",
       "  <thead>\n",
       "    <tr style=\"text-align: right;\">\n",
       "      <th></th>\n",
       "      <th>Case</th>\n",
       "      <th>structure</th>\n",
       "      <th>metric</th>\n",
       "      <th>AAA</th>\n",
       "      <th>Dm</th>\n",
       "      <th>Dm-AAA</th>\n",
       "      <th>Dm-AAA_%</th>\n",
       "    </tr>\n",
       "  </thead>\n",
       "  <tbody>\n",
       "    <tr>\n",
       "      <th>222</th>\n",
       "      <td>Case1</td>\n",
       "      <td>R Brachial plex</td>\n",
       "      <td>D0.1CC</td>\n",
       "      <td>0.324991</td>\n",
       "      <td>65.801627</td>\n",
       "      <td>65.476636</td>\n",
       "      <td>20147.232051</td>\n",
       "    </tr>\n",
       "    <tr>\n",
       "      <th>2814</th>\n",
       "      <td>Case17</td>\n",
       "      <td>R Brachial plex</td>\n",
       "      <td>D0.1CC</td>\n",
       "      <td>0.435957</td>\n",
       "      <td>48.809596</td>\n",
       "      <td>48.373640</td>\n",
       "      <td>11095.975270</td>\n",
       "    </tr>\n",
       "  </tbody>\n",
       "</table>\n",
       "</div>"
      ],
      "text/plain": [
       "        Case        structure  metric       AAA         Dm     Dm-AAA  \\\n",
       "222    Case1  R Brachial plex  D0.1CC  0.324991  65.801627  65.476636   \n",
       "2814  Case17  R Brachial plex  D0.1CC  0.435957  48.809596  48.373640   \n",
       "\n",
       "          Dm-AAA_%  \n",
       "222   20147.232051  \n",
       "2814  11095.975270  "
      ]
     },
     "execution_count": 85,
     "metadata": {},
     "output_type": "execute_result"
    }
   ],
   "source": [
    "RBrachial_D01CC_fail = d[(d['structure'] == 'R Brachial plex') & (d['metric'] == 'D0.1CC') & (d['AAA'] < 27.0) & (d['Dm'] > 27.0)]\n",
    "RBrachial_D01CC_fail  "
   ]
  },
  {
   "cell_type": "code",
   "execution_count": 86,
   "metadata": {
    "collapsed": false
   },
   "outputs": [
    {
     "data": {
      "text/html": [
       "<div>\n",
       "<table border=\"1\" class=\"dataframe\">\n",
       "  <thead>\n",
       "    <tr style=\"text-align: right;\">\n",
       "      <th></th>\n",
       "      <th>Case</th>\n",
       "      <th>structure</th>\n",
       "      <th>metric</th>\n",
       "      <th>AAA</th>\n",
       "      <th>Dm</th>\n",
       "      <th>Dm-AAA</th>\n",
       "      <th>Dm-AAA_%</th>\n",
       "    </tr>\n",
       "  </thead>\n",
       "  <tbody>\n",
       "  </tbody>\n",
       "</table>\n",
       "</div>"
      ],
      "text/plain": [
       "Empty DataFrame\n",
       "Columns: [Case, structure, metric, AAA, Dm, Dm-AAA, Dm-AAA_%]\n",
       "Index: []"
      ]
     },
     "execution_count": 86,
     "metadata": {},
     "output_type": "execute_result"
    }
   ],
   "source": [
    "Heart_D01CC_fail = d[(d['structure'] == 'Heart') & (d['metric'] == 'D0.1CC')& (d['Dm'] > 27.0) & (d['AAA'] < 27.0)]\n",
    "Heart_D01CC_fail "
   ]
  },
  {
   "cell_type": "code",
   "execution_count": 87,
   "metadata": {
    "collapsed": false
   },
   "outputs": [
    {
     "data": {
      "text/html": [
       "<div>\n",
       "<table border=\"1\" class=\"dataframe\">\n",
       "  <thead>\n",
       "    <tr style=\"text-align: right;\">\n",
       "      <th></th>\n",
       "      <th>Case</th>\n",
       "      <th>structure</th>\n",
       "      <th>metric</th>\n",
       "      <th>AAA</th>\n",
       "      <th>Dm</th>\n",
       "      <th>Dm-AAA</th>\n",
       "      <th>Dm-AAA_%</th>\n",
       "    </tr>\n",
       "  </thead>\n",
       "  <tbody>\n",
       "    <tr>\n",
       "      <th>3966</th>\n",
       "      <td>Case25</td>\n",
       "      <td>Trachea</td>\n",
       "      <td>D0.1CC</td>\n",
       "      <td>15.948424</td>\n",
       "      <td>69.349889</td>\n",
       "      <td>53.401465</td>\n",
       "      <td>334.838504</td>\n",
       "    </tr>\n",
       "  </tbody>\n",
       "</table>\n",
       "</div>"
      ],
      "text/plain": [
       "        Case structure  metric        AAA         Dm     Dm-AAA    Dm-AAA_%\n",
       "3966  Case25   Trachea  D0.1CC  15.948424  69.349889  53.401465  334.838504"
      ]
     },
     "execution_count": 87,
     "metadata": {},
     "output_type": "execute_result"
    }
   ],
   "source": [
    "Trachea_D01CC_fail = d[(d['structure'] == 'Trachea') & (d['metric'] == 'D0.1CC') & (d['AAA'] < 32.0) & (d['Dm'] > 32.0)]\n",
    "Trachea_D01CC_fail  "
   ]
  },
  {
   "cell_type": "code",
   "execution_count": 88,
   "metadata": {
    "collapsed": false
   },
   "outputs": [
    {
     "data": {
      "text/html": [
       "<div>\n",
       "<table border=\"1\" class=\"dataframe\">\n",
       "  <thead>\n",
       "    <tr style=\"text-align: right;\">\n",
       "      <th></th>\n",
       "      <th>Case</th>\n",
       "      <th>structure</th>\n",
       "      <th>metric</th>\n",
       "      <th>AAA</th>\n",
       "      <th>Dm</th>\n",
       "      <th>Dm-AAA</th>\n",
       "      <th>Dm-AAA_%</th>\n",
       "    </tr>\n",
       "  </thead>\n",
       "  <tbody>\n",
       "  </tbody>\n",
       "</table>\n",
       "</div>"
      ],
      "text/plain": [
       "Empty DataFrame\n",
       "Columns: [Case, structure, metric, AAA, Dm, Dm-AAA, Dm-AAA_%]\n",
       "Index: []"
      ]
     },
     "execution_count": 88,
     "metadata": {},
     "output_type": "execute_result"
    }
   ],
   "source": [
    "Bronchial_D01CC_fail = d[(d['structure'] == 'Bronchial tree') & (d['metric'] == 'D0.1CC') & (d['AAA'] < 32.0) & (d['Dm'] > 32.0)]\n",
    "Bronchial_D01CC_fail "
   ]
  },
  {
   "cell_type": "code",
   "execution_count": 89,
   "metadata": {
    "collapsed": false
   },
   "outputs": [
    {
     "data": {
      "text/html": [
       "<div>\n",
       "<table border=\"1\" class=\"dataframe\">\n",
       "  <thead>\n",
       "    <tr style=\"text-align: right;\">\n",
       "      <th></th>\n",
       "      <th>Case</th>\n",
       "      <th>structure</th>\n",
       "      <th>metric</th>\n",
       "      <th>AAA</th>\n",
       "      <th>Dm</th>\n",
       "      <th>Dm-AAA</th>\n",
       "      <th>Dm-AAA_%</th>\n",
       "    </tr>\n",
       "  </thead>\n",
       "  <tbody>\n",
       "  </tbody>\n",
       "</table>\n",
       "</div>"
      ],
      "text/plain": [
       "Empty DataFrame\n",
       "Columns: [Case, structure, metric, AAA, Dm, Dm-AAA, Dm-AAA_%]\n",
       "Index: []"
      ]
     },
     "execution_count": 89,
     "metadata": {},
     "output_type": "execute_result"
    }
   ],
   "source": [
    "Ribs_D01CC_fail = d[(d['structure'] == 'Ribs') & (d['metric'] == 'D0.1CC') & (d['AAA'] < 35.0) & (d['Dm'] > 35.0)]\n",
    "Ribs_D01CC_fail "
   ]
  },
  {
   "cell_type": "code",
   "execution_count": 90,
   "metadata": {
    "collapsed": false
   },
   "outputs": [
    {
     "data": {
      "text/html": [
       "<div>\n",
       "<table border=\"1\" class=\"dataframe\">\n",
       "  <thead>\n",
       "    <tr style=\"text-align: right;\">\n",
       "      <th></th>\n",
       "      <th>Case</th>\n",
       "      <th>structure</th>\n",
       "      <th>metric</th>\n",
       "      <th>AAA</th>\n",
       "      <th>Dm</th>\n",
       "      <th>Dm-AAA</th>\n",
       "      <th>Dm-AAA_%</th>\n",
       "    </tr>\n",
       "  </thead>\n",
       "  <tbody>\n",
       "  </tbody>\n",
       "</table>\n",
       "</div>"
      ],
      "text/plain": [
       "Empty DataFrame\n",
       "Columns: [Case, structure, metric, AAA, Dm, Dm-AAA, Dm-AAA_%]\n",
       "Index: []"
      ]
     },
     "execution_count": 90,
     "metadata": {},
     "output_type": "execute_result"
    }
   ],
   "source": [
    "Ribs_V30_fail = d[(d['structure'] == 'Ribs') & (d['metric'] == 'V30GY') & (d['AAA'] < 30.0) & (d['Dm'] > 30.0)]\n",
    "Ribs_V30_fail "
   ]
  },
  {
   "cell_type": "code",
   "execution_count": 91,
   "metadata": {
    "collapsed": false
   },
   "outputs": [
    {
     "data": {
      "text/html": [
       "<div>\n",
       "<table border=\"1\" class=\"dataframe\">\n",
       "  <thead>\n",
       "    <tr style=\"text-align: right;\">\n",
       "      <th></th>\n",
       "      <th>Case</th>\n",
       "      <th>structure</th>\n",
       "      <th>metric</th>\n",
       "      <th>AAA</th>\n",
       "      <th>Dm</th>\n",
       "      <th>Dm-AAA</th>\n",
       "      <th>Dm-AAA_%</th>\n",
       "    </tr>\n",
       "  </thead>\n",
       "  <tbody>\n",
       "  </tbody>\n",
       "</table>\n",
       "</div>"
      ],
      "text/plain": [
       "Empty DataFrame\n",
       "Columns: [Case, structure, metric, AAA, Dm, Dm-AAA, Dm-AAA_%]\n",
       "Index: []"
      ]
     },
     "execution_count": 91,
     "metadata": {},
     "output_type": "execute_result"
    }
   ],
   "source": [
    "Lungs_V20_fail = d[(d['structure'] == 'Both Lungs-ITV') & (d['metric'] == 'V20GY') & (d['AAA'] < 10.0) & (d['Dm'] > 10.0)]\n",
    "Lungs_V20_fail "
   ]
  },
  {
   "cell_type": "code",
   "execution_count": 92,
   "metadata": {
    "collapsed": false
   },
   "outputs": [
    {
     "data": {
      "text/html": [
       "<div>\n",
       "<table border=\"1\" class=\"dataframe\">\n",
       "  <thead>\n",
       "    <tr style=\"text-align: right;\">\n",
       "      <th></th>\n",
       "      <th>Case</th>\n",
       "      <th>structure</th>\n",
       "      <th>metric</th>\n",
       "      <th>AAA</th>\n",
       "      <th>Dm</th>\n",
       "      <th>Dm-AAA</th>\n",
       "      <th>Dm-AAA_%</th>\n",
       "    </tr>\n",
       "  </thead>\n",
       "  <tbody>\n",
       "  </tbody>\n",
       "</table>\n",
       "</div>"
      ],
      "text/plain": [
       "Empty DataFrame\n",
       "Columns: [Case, structure, metric, AAA, Dm, Dm-AAA, Dm-AAA_%]\n",
       "Index: []"
      ]
     },
     "execution_count": 92,
     "metadata": {},
     "output_type": "execute_result"
    }
   ],
   "source": [
    "Lungs_V125_fail = d[(d['structure'] == 'Both Lungs-ITV') & (d['metric'] == 'V12.5GY') & (d['AAA'] < 15.0) & (d['Dm'] > 15.0)]\n",
    "Lungs_V125_fail "
   ]
  },
  {
   "cell_type": "code",
   "execution_count": 93,
   "metadata": {
    "collapsed": false
   },
   "outputs": [
    {
     "data": {
      "text/html": [
       "<div>\n",
       "<table border=\"1\" class=\"dataframe\">\n",
       "  <thead>\n",
       "    <tr style=\"text-align: right;\">\n",
       "      <th></th>\n",
       "      <th>Case</th>\n",
       "      <th>structure</th>\n",
       "      <th>metric</th>\n",
       "      <th>AAA</th>\n",
       "      <th>Dm</th>\n",
       "      <th>Dm-AAA</th>\n",
       "      <th>Dm-AAA_%</th>\n",
       "    </tr>\n",
       "  </thead>\n",
       "  <tbody>\n",
       "  </tbody>\n",
       "</table>\n",
       "</div>"
      ],
      "text/plain": [
       "Empty DataFrame\n",
       "Columns: [Case, structure, metric, AAA, Dm, Dm-AAA, Dm-AAA_%]\n",
       "Index: []"
      ]
     },
     "execution_count": 93,
     "metadata": {},
     "output_type": "execute_result"
    }
   ],
   "source": [
    "Lungs_V5_fail = d[(d['structure'] == 'Both Lungs-ITV') & (d['metric'] == 'V5GY') & (d['AAA'] < 26.0) & (d['Dm'] > 26.0)]\n",
    "Lungs_V5_fail "
   ]
  },
  {
   "cell_type": "code",
   "execution_count": 94,
   "metadata": {
    "collapsed": false
   },
   "outputs": [
    {
     "data": {
      "text/html": [
       "<div>\n",
       "<table border=\"1\" class=\"dataframe\">\n",
       "  <thead>\n",
       "    <tr style=\"text-align: right;\">\n",
       "      <th></th>\n",
       "      <th>Case</th>\n",
       "      <th>structure</th>\n",
       "      <th>metric</th>\n",
       "      <th>AAA</th>\n",
       "      <th>Dm</th>\n",
       "      <th>Dm-AAA</th>\n",
       "      <th>Dm-AAA_%</th>\n",
       "    </tr>\n",
       "  </thead>\n",
       "  <tbody>\n",
       "    <tr>\n",
       "      <th>3458</th>\n",
       "      <td>Case22</td>\n",
       "      <td>Liver</td>\n",
       "      <td>D50%</td>\n",
       "      <td>1.250632</td>\n",
       "      <td>1.294880</td>\n",
       "      <td>0.044248</td>\n",
       "      <td>3.538037</td>\n",
       "    </tr>\n",
       "    <tr>\n",
       "      <th>4196</th>\n",
       "      <td>Case25</td>\n",
       "      <td>Liver</td>\n",
       "      <td>D50%</td>\n",
       "      <td>6.847959</td>\n",
       "      <td>6.713133</td>\n",
       "      <td>-0.134825</td>\n",
       "      <td>-1.968840</td>\n",
       "    </tr>\n",
       "  </tbody>\n",
       "</table>\n",
       "</div>"
      ],
      "text/plain": [
       "        Case structure metric       AAA        Dm    Dm-AAA  Dm-AAA_%\n",
       "3458  Case22     Liver   D50%  1.250632  1.294880  0.044248  3.538037\n",
       "4196  Case25     Liver   D50%  6.847959  6.713133 -0.134825 -1.968840"
      ]
     },
     "execution_count": 94,
     "metadata": {},
     "output_type": "execute_result"
    }
   ],
   "source": [
    "Liver_D50_fail = d[(d['structure'] == 'Liver') & (d['metric'] == 'D50%') ]\n",
    "Liver_D50_fail   "
   ]
  },
  {
   "cell_type": "markdown",
   "metadata": {},
   "source": [
    "Need to export Lungs-ITV D1500CC, D1000CC, Liver 700CC, V21, V15, DMEAN\n",
    "\n",
    "Investigate these failures."
   ]
  },
  {
   "cell_type": "code",
   "execution_count": 95,
   "metadata": {
    "collapsed": false
   },
   "outputs": [
    {
     "name": "stdout",
     "output_type": "stream",
     "text": [
      "8\n"
     ]
    },
    {
     "data": {
      "text/html": [
       "<div>\n",
       "<table border=\"1\" class=\"dataframe\">\n",
       "  <thead>\n",
       "    <tr style=\"text-align: right;\">\n",
       "      <th></th>\n",
       "      <th>Case</th>\n",
       "      <th>structure</th>\n",
       "      <th>metric</th>\n",
       "      <th>AAA</th>\n",
       "      <th>Dm</th>\n",
       "      <th>Dm-AAA</th>\n",
       "      <th>Dm-AAA_%</th>\n",
       "    </tr>\n",
       "  </thead>\n",
       "  <tbody>\n",
       "    <tr>\n",
       "      <th>489</th>\n",
       "      <td>Case5</td>\n",
       "      <td>PTV CHEST</td>\n",
       "      <td>D95%</td>\n",
       "      <td>55.648904</td>\n",
       "      <td>54.883221</td>\n",
       "      <td>-0.765683</td>\n",
       "      <td>-1.375917</td>\n",
       "    </tr>\n",
       "    <tr>\n",
       "      <th>4287</th>\n",
       "      <td>Case30</td>\n",
       "      <td>PTV CHEST</td>\n",
       "      <td>D95%</td>\n",
       "      <td>56.172306</td>\n",
       "      <td>51.618767</td>\n",
       "      <td>-4.553539</td>\n",
       "      <td>-8.106377</td>\n",
       "    </tr>\n",
       "    <tr>\n",
       "      <th>4740</th>\n",
       "      <td>Case31</td>\n",
       "      <td>PTV CHEST</td>\n",
       "      <td>D0.1CC</td>\n",
       "      <td>72.846993</td>\n",
       "      <td>74.024337</td>\n",
       "      <td>1.177344</td>\n",
       "      <td>1.616188</td>\n",
       "    </tr>\n",
       "    <tr>\n",
       "      <th>3966</th>\n",
       "      <td>Case25</td>\n",
       "      <td>Trachea</td>\n",
       "      <td>D0.1CC</td>\n",
       "      <td>15.948424</td>\n",
       "      <td>69.349889</td>\n",
       "      <td>53.401465</td>\n",
       "      <td>334.838504</td>\n",
       "    </tr>\n",
       "    <tr>\n",
       "      <th>3458</th>\n",
       "      <td>Case22</td>\n",
       "      <td>Liver</td>\n",
       "      <td>D50%</td>\n",
       "      <td>1.250632</td>\n",
       "      <td>1.294880</td>\n",
       "      <td>0.044248</td>\n",
       "      <td>3.538037</td>\n",
       "    </tr>\n",
       "    <tr>\n",
       "      <th>4196</th>\n",
       "      <td>Case25</td>\n",
       "      <td>Liver</td>\n",
       "      <td>D50%</td>\n",
       "      <td>6.847959</td>\n",
       "      <td>6.713133</td>\n",
       "      <td>-0.134825</td>\n",
       "      <td>-1.968840</td>\n",
       "    </tr>\n",
       "    <tr>\n",
       "      <th>1122</th>\n",
       "      <td>Case12</td>\n",
       "      <td>L Brachial plex</td>\n",
       "      <td>D0.1CC</td>\n",
       "      <td>0.108812</td>\n",
       "      <td>74.346465</td>\n",
       "      <td>74.237653</td>\n",
       "      <td>68225.508432</td>\n",
       "    </tr>\n",
       "    <tr>\n",
       "      <th>3912</th>\n",
       "      <td>Case25</td>\n",
       "      <td>L Brachial plex</td>\n",
       "      <td>D0.1CC</td>\n",
       "      <td>0.054618</td>\n",
       "      <td>63.428739</td>\n",
       "      <td>63.374121</td>\n",
       "      <td>116031.448241</td>\n",
       "    </tr>\n",
       "    <tr>\n",
       "      <th>4650</th>\n",
       "      <td>Case31</td>\n",
       "      <td>L Brachial plex</td>\n",
       "      <td>D0.1CC</td>\n",
       "      <td>0.109680</td>\n",
       "      <td>77.576481</td>\n",
       "      <td>77.466802</td>\n",
       "      <td>70629.998217</td>\n",
       "    </tr>\n",
       "    <tr>\n",
       "      <th>222</th>\n",
       "      <td>Case1</td>\n",
       "      <td>R Brachial plex</td>\n",
       "      <td>D0.1CC</td>\n",
       "      <td>0.324991</td>\n",
       "      <td>65.801627</td>\n",
       "      <td>65.476636</td>\n",
       "      <td>20147.232051</td>\n",
       "    </tr>\n",
       "    <tr>\n",
       "      <th>2814</th>\n",
       "      <td>Case17</td>\n",
       "      <td>R Brachial plex</td>\n",
       "      <td>D0.1CC</td>\n",
       "      <td>0.435957</td>\n",
       "      <td>48.809596</td>\n",
       "      <td>48.373640</td>\n",
       "      <td>11095.975270</td>\n",
       "    </tr>\n",
       "  </tbody>\n",
       "</table>\n",
       "</div>"
      ],
      "text/plain": [
       "        Case        structure  metric        AAA         Dm     Dm-AAA  \\\n",
       "489    Case5        PTV CHEST    D95%  55.648904  54.883221  -0.765683   \n",
       "4287  Case30        PTV CHEST    D95%  56.172306  51.618767  -4.553539   \n",
       "4740  Case31        PTV CHEST  D0.1CC  72.846993  74.024337   1.177344   \n",
       "3966  Case25          Trachea  D0.1CC  15.948424  69.349889  53.401465   \n",
       "3458  Case22            Liver    D50%   1.250632   1.294880   0.044248   \n",
       "4196  Case25            Liver    D50%   6.847959   6.713133  -0.134825   \n",
       "1122  Case12  L Brachial plex  D0.1CC   0.108812  74.346465  74.237653   \n",
       "3912  Case25  L Brachial plex  D0.1CC   0.054618  63.428739  63.374121   \n",
       "4650  Case31  L Brachial plex  D0.1CC   0.109680  77.576481  77.466802   \n",
       "222    Case1  R Brachial plex  D0.1CC   0.324991  65.801627  65.476636   \n",
       "2814  Case17  R Brachial plex  D0.1CC   0.435957  48.809596  48.373640   \n",
       "\n",
       "           Dm-AAA_%  \n",
       "489       -1.375917  \n",
       "4287      -8.106377  \n",
       "4740       1.616188  \n",
       "3966     334.838504  \n",
       "3458       3.538037  \n",
       "4196      -1.968840  \n",
       "1122   68225.508432  \n",
       "3912  116031.448241  \n",
       "4650   70629.998217  \n",
       "222    20147.232051  \n",
       "2814   11095.975270  "
      ]
     },
     "execution_count": 95,
     "metadata": {},
     "output_type": "execute_result"
    }
   ],
   "source": [
    "failures = PTV_D95_fail\n",
    "failures = failures.append(PTV_D01CC_fail)\n",
    "failures = failures.append(Trachea_D01CC_fail)\n",
    "failures = failures.append(Liver_D50_fail)\n",
    "failures = failures.append(LBrachial_D01CC_fail)\n",
    "failures = failures.append(RBrachial_D01CC_fail)\n",
    "\n",
    "print(failures.Case.unique().size)\n",
    "failures"
   ]
  },
  {
   "cell_type": "markdown",
   "metadata": {},
   "source": [
    "# ITV D50"
   ]
  },
  {
   "cell_type": "code",
   "execution_count": 129,
   "metadata": {
    "collapsed": false
   },
   "outputs": [
    {
     "data": {
      "image/png": "[encoded data removed]",
      "text/plain": [
       "<matplotlib.figure.Figure at 0xc727750>"
      ]
     },
     "metadata": {},
     "output_type": "display_data"
    }
   ],
   "source": [
    "fig = plt.figure(figsize=(5, 4))\n",
    "structure = 'ITV'\n",
    "metric = 'D50%'\n",
    "bland_altman_plot(query_data('Dm', structure, metric), query_data('AAA',structure, metric), structure, metric)\n",
    "plt.show()"
   ]
  },
  {
   "cell_type": "code",
   "execution_count": 97,
   "metadata": {
    "collapsed": false
   },
   "outputs": [
    {
     "name": "stdout",
     "output_type": "stream",
     "text": [
      "Likely normal.\n"
     ]
    },
    {
     "data": {
      "image/png": "[encoded data removed]",
      "text/plain": [
       "<matplotlib.figure.Figure at 0xc73f790>"
      ]
     },
     "metadata": {},
     "output_type": "display_data"
    }
   ],
   "source": [
    "structure = 'ITV'\n",
    "metric = 'D50%'\n",
    "AAA_or_AXB = 'Dm'    # AAA or Dm\n",
    "title = structure + ': ' + metric + ': ' + AAA_or_AXB\n",
    "normal_hist_plot(query_data(AAA_or_AXB,structure, metric), title)"
   ]
  },
  {
   "cell_type": "markdown",
   "metadata": {},
   "source": [
    "# Extract stats grouped by structure for D50% metric"
   ]
  },
  {
   "cell_type": "code",
   "execution_count": 98,
   "metadata": {
    "collapsed": false
   },
   "outputs": [
    {
     "data": {
      "text/html": [
       "<div>\n",
       "<table border=\"1\" class=\"dataframe\">\n",
       "  <thead>\n",
       "    <tr>\n",
       "      <th></th>\n",
       "      <th colspan=\"5\" halign=\"left\">Dm-AAA</th>\n",
       "    </tr>\n",
       "    <tr>\n",
       "      <th></th>\n",
       "      <th>Mean</th>\n",
       "      <th>Variance</th>\n",
       "      <th>Max</th>\n",
       "      <th>Counts</th>\n",
       "      <th>SEM</th>\n",
       "    </tr>\n",
       "    <tr>\n",
       "      <th>structure</th>\n",
       "      <th></th>\n",
       "      <th></th>\n",
       "      <th></th>\n",
       "      <th></th>\n",
       "      <th></th>\n",
       "    </tr>\n",
       "  </thead>\n",
       "  <tbody>\n",
       "    <tr>\n",
       "      <th>Airway avoidance</th>\n",
       "      <td>-0.018405</td>\n",
       "      <td>0.001345</td>\n",
       "      <td>0.053335</td>\n",
       "      <td>14</td>\n",
       "      <td>0.009802</td>\n",
       "    </tr>\n",
       "    <tr>\n",
       "      <th>BODY</th>\n",
       "      <td>-0.003599</td>\n",
       "      <td>0.000248</td>\n",
       "      <td>0.011675</td>\n",
       "      <td>14</td>\n",
       "      <td>0.004211</td>\n",
       "    </tr>\n",
       "    <tr>\n",
       "      <th>Body</th>\n",
       "      <td>0.001679</td>\n",
       "      <td>NaN</td>\n",
       "      <td>0.001679</td>\n",
       "      <td>1</td>\n",
       "      <td>NaN</td>\n",
       "    </tr>\n",
       "    <tr>\n",
       "      <th>Both Lungs</th>\n",
       "      <td>-0.008474</td>\n",
       "      <td>0.000926</td>\n",
       "      <td>0.014224</td>\n",
       "      <td>5</td>\n",
       "      <td>0.013606</td>\n",
       "    </tr>\n",
       "    <tr>\n",
       "      <th>Both Lungs-ITV</th>\n",
       "      <td>-0.018235</td>\n",
       "      <td>0.001672</td>\n",
       "      <td>0.032892</td>\n",
       "      <td>15</td>\n",
       "      <td>0.010556</td>\n",
       "    </tr>\n",
       "    <tr>\n",
       "      <th>Bronchial tree</th>\n",
       "      <td>0.007682</td>\n",
       "      <td>0.004239</td>\n",
       "      <td>0.128285</td>\n",
       "      <td>15</td>\n",
       "      <td>0.016811</td>\n",
       "    </tr>\n",
       "    <tr>\n",
       "      <th>Foramen</th>\n",
       "      <td>-0.071230</td>\n",
       "      <td>0.006097</td>\n",
       "      <td>0.025543</td>\n",
       "      <td>15</td>\n",
       "      <td>0.020161</td>\n",
       "    </tr>\n",
       "    <tr>\n",
       "      <th>Foramen+3mm</th>\n",
       "      <td>-0.071668</td>\n",
       "      <td>0.009321</td>\n",
       "      <td>0.024562</td>\n",
       "      <td>18</td>\n",
       "      <td>0.022756</td>\n",
       "    </tr>\n",
       "    <tr>\n",
       "      <th>GTV</th>\n",
       "      <td>-0.900259</td>\n",
       "      <td>NaN</td>\n",
       "      <td>-0.900259</td>\n",
       "      <td>1</td>\n",
       "      <td>NaN</td>\n",
       "    </tr>\n",
       "    <tr>\n",
       "      <th>Great vessels</th>\n",
       "      <td>-0.049074</td>\n",
       "      <td>NaN</td>\n",
       "      <td>-0.049074</td>\n",
       "      <td>1</td>\n",
       "      <td>NaN</td>\n",
       "    </tr>\n",
       "    <tr>\n",
       "      <th>Heart</th>\n",
       "      <td>-0.006242</td>\n",
       "      <td>0.001397</td>\n",
       "      <td>0.050727</td>\n",
       "      <td>15</td>\n",
       "      <td>0.009650</td>\n",
       "    </tr>\n",
       "    <tr>\n",
       "      <th>ITV</th>\n",
       "      <td>0.568196</td>\n",
       "      <td>0.534273</td>\n",
       "      <td>1.828439</td>\n",
       "      <td>14</td>\n",
       "      <td>0.195352</td>\n",
       "    </tr>\n",
       "    <tr>\n",
       "      <th>Inner Ring</th>\n",
       "      <td>0.283500</td>\n",
       "      <td>0.049546</td>\n",
       "      <td>0.567988</td>\n",
       "      <td>6</td>\n",
       "      <td>0.090871</td>\n",
       "    </tr>\n",
       "    <tr>\n",
       "      <th>L Brachial plex</th>\n",
       "      <td>4.801599</td>\n",
       "      <td>137.847887</td>\n",
       "      <td>39.023162</td>\n",
       "      <td>14</td>\n",
       "      <td>3.137878</td>\n",
       "    </tr>\n",
       "    <tr>\n",
       "      <th>Liver</th>\n",
       "      <td>-0.045289</td>\n",
       "      <td>0.016034</td>\n",
       "      <td>0.044248</td>\n",
       "      <td>2</td>\n",
       "      <td>0.089537</td>\n",
       "    </tr>\n",
       "    <tr>\n",
       "      <th>Lt_Lung</th>\n",
       "      <td>-0.036095</td>\n",
       "      <td>0.001083</td>\n",
       "      <td>0.012416</td>\n",
       "      <td>15</td>\n",
       "      <td>0.008498</td>\n",
       "    </tr>\n",
       "    <tr>\n",
       "      <th>Oesophagus</th>\n",
       "      <td>-0.025135</td>\n",
       "      <td>0.008271</td>\n",
       "      <td>0.032761</td>\n",
       "      <td>15</td>\n",
       "      <td>0.023482</td>\n",
       "    </tr>\n",
       "    <tr>\n",
       "      <th>PTV CHEST</th>\n",
       "      <td>0.235042</td>\n",
       "      <td>1.060251</td>\n",
       "      <td>1.697743</td>\n",
       "      <td>15</td>\n",
       "      <td>0.265863</td>\n",
       "    </tr>\n",
       "    <tr>\n",
       "      <th>PTV ring 2-3cm</th>\n",
       "      <td>0.201877</td>\n",
       "      <td>0.112914</td>\n",
       "      <td>0.763267</td>\n",
       "      <td>15</td>\n",
       "      <td>0.086762</td>\n",
       "    </tr>\n",
       "    <tr>\n",
       "      <th>R Brachial plex</th>\n",
       "      <td>1.258501</td>\n",
       "      <td>23.331538</td>\n",
       "      <td>18.718139</td>\n",
       "      <td>15</td>\n",
       "      <td>1.247171</td>\n",
       "    </tr>\n",
       "    <tr>\n",
       "      <th>Ribs</th>\n",
       "      <td>-0.058496</td>\n",
       "      <td>0.011147</td>\n",
       "      <td>0.181102</td>\n",
       "      <td>15</td>\n",
       "      <td>0.027261</td>\n",
       "    </tr>\n",
       "    <tr>\n",
       "      <th>Ribs-PTV</th>\n",
       "      <td>-0.040976</td>\n",
       "      <td>0.003046</td>\n",
       "      <td>0.015631</td>\n",
       "      <td>13</td>\n",
       "      <td>0.015306</td>\n",
       "    </tr>\n",
       "    <tr>\n",
       "      <th>Rt_Lung</th>\n",
       "      <td>-0.029733</td>\n",
       "      <td>0.001596</td>\n",
       "      <td>0.006038</td>\n",
       "      <td>15</td>\n",
       "      <td>0.010315</td>\n",
       "    </tr>\n",
       "    <tr>\n",
       "      <th>Skin</th>\n",
       "      <td>-0.025002</td>\n",
       "      <td>0.000275</td>\n",
       "      <td>-0.002897</td>\n",
       "      <td>14</td>\n",
       "      <td>0.004431</td>\n",
       "    </tr>\n",
       "    <tr>\n",
       "      <th>Skin-PTV+2cm</th>\n",
       "      <td>-0.001662</td>\n",
       "      <td>0.000272</td>\n",
       "      <td>0.019201</td>\n",
       "      <td>6</td>\n",
       "      <td>0.006728</td>\n",
       "    </tr>\n",
       "    <tr>\n",
       "      <th>Trachea</th>\n",
       "      <td>-0.000304</td>\n",
       "      <td>0.000783</td>\n",
       "      <td>0.067776</td>\n",
       "      <td>15</td>\n",
       "      <td>0.007223</td>\n",
       "    </tr>\n",
       "  </tbody>\n",
       "</table>\n",
       "</div>"
      ],
      "text/plain": [
       "                    Dm-AAA                                        \n",
       "                      Mean    Variance        Max Counts       SEM\n",
       "structure                                                         \n",
       "Airway avoidance -0.018405    0.001345   0.053335     14  0.009802\n",
       "BODY             -0.003599    0.000248   0.011675     14  0.004211\n",
       "Body              0.001679         NaN   0.001679      1       NaN\n",
       "Both Lungs       -0.008474    0.000926   0.014224      5  0.013606\n",
       "Both Lungs-ITV   -0.018235    0.001672   0.032892     15  0.010556\n",
       "Bronchial tree    0.007682    0.004239   0.128285     15  0.016811\n",
       "Foramen          -0.071230    0.006097   0.025543     15  0.020161\n",
       "Foramen+3mm      -0.071668    0.009321   0.024562     18  0.022756\n",
       "GTV              -0.900259         NaN  -0.900259      1       NaN\n",
       "Great vessels    -0.049074         NaN  -0.049074      1       NaN\n",
       "Heart            -0.006242    0.001397   0.050727     15  0.009650\n",
       "ITV               0.568196    0.534273   1.828439     14  0.195352\n",
       "Inner Ring        0.283500    0.049546   0.567988      6  0.090871\n",
       "L Brachial plex   4.801599  137.847887  39.023162     14  3.137878\n",
       "Liver            -0.045289    0.016034   0.044248      2  0.089537\n",
       "Lt_Lung          -0.036095    0.001083   0.012416     15  0.008498\n",
       "Oesophagus       -0.025135    0.008271   0.032761     15  0.023482\n",
       "PTV CHEST         0.235042    1.060251   1.697743     15  0.265863\n",
       "PTV ring 2-3cm    0.201877    0.112914   0.763267     15  0.086762\n",
       "R Brachial plex   1.258501   23.331538  18.718139     15  1.247171\n",
       "Ribs             -0.058496    0.011147   0.181102     15  0.027261\n",
       "Ribs-PTV         -0.040976    0.003046   0.015631     13  0.015306\n",
       "Rt_Lung          -0.029733    0.001596   0.006038     15  0.010315\n",
       "Skin             -0.025002    0.000275  -0.002897     14  0.004431\n",
       "Skin-PTV+2cm     -0.001662    0.000272   0.019201      6  0.006728\n",
       "Trachea          -0.000304    0.000783   0.067776     15  0.007223"
      ]
     },
     "execution_count": 98,
     "metadata": {},
     "output_type": "execute_result"
    }
   ],
   "source": [
    "stats = {  'Mean' : 'mean', 'Variance':'var', 'SEM':'sem', 'Counts':'count', 'Max':'max'} \n",
    "\n",
    "aggregations = {'Dm-AAA': stats}  # , 'AAA': stats, 'Dm': stats\n",
    "\n",
    "res_table = d[d['metric']  == 'D50%'].groupby(['structure']).agg(aggregations)   # returns a heirachial dataframe\n",
    "res_table"
   ]
  },
  {
   "cell_type": "markdown",
   "metadata": {},
   "source": [
    "# Mean difference grouped by structure and metric"
   ]
  },
  {
   "cell_type": "code",
   "execution_count": 99,
   "metadata": {
    "collapsed": false
   },
   "outputs": [],
   "source": [
    "res_table2 = d.groupby(['structure', 'metric'],as_index=False).mean()  # just get mean values "
   ]
  },
  {
   "cell_type": "code",
   "execution_count": 119,
   "metadata": {
    "collapsed": false
   },
   "outputs": [],
   "source": [
    "mean_diff_table = res_table2.pivot(index='structure', columns='metric', values='Dm-AAA')  # pivot table for diff values\n",
    "percent_diff_table = res_table2.pivot(index='structure', columns='metric', values='Dm-AAA_%')  # pivot table for diff values"
   ]
  },
  {
   "cell_type": "code",
   "execution_count": 102,
   "metadata": {
    "collapsed": false
   },
   "outputs": [
    {
     "data": {
      "image/png": "[encoded data removed]",
      "text/plain": [
       "<matplotlib.figure.Figure at 0xc8ce610>"
      ]
     },
     "metadata": {},
     "output_type": "display_data"
    }
   ],
   "source": [
    "plt.figure(figsize=(22, 8))\n",
    "ax1 = sns.heatmap(mean_diff_table, annot=True, linewidths=2.0, cbar=True)\n",
    "ax1.set_title('Mean dose differences (Gy) by structure & metrics', size='xx-large');\n",
    "plt.savefig('All structures and metrics mean dose difference.png', dpi=500)"
   ]
  },
  {
   "cell_type": "code",
   "execution_count": 103,
   "metadata": {
    "collapsed": false
   },
   "outputs": [
    {
     "data": {
      "text/plain": [
       "array(['PTV CHEST', 'Foramen', 'Oesophagus', 'R Brachial plex',\n",
       "       'L Brachial plex', 'Heart', 'Trachea', 'Bronchial tree', 'Ribs',\n",
       "       'ITV'], dtype=object)"
      ]
     },
     "execution_count": 103,
     "metadata": {},
     "output_type": "execute_result"
    }
   ],
   "source": [
    "metrics_of_interest = [ 'D95%', 'D50%', 'D99%', 'D0.1CC', 'DMAX']\n",
    "\n",
    "structures_of_interest = constraints['structure'].unique()\n",
    "structures_of_interest = np.append(structures_of_interest, ['ITV'])   # add the ITV\n",
    "structures_of_interest"
   ]
  },
  {
   "cell_type": "code",
   "execution_count": 122,
   "metadata": {
    "collapsed": false
   },
   "outputs": [
    {
     "name": "stdout",
     "output_type": "stream",
     "text": [
      "(10, 5)\n",
      "(10, 5)\n"
     ]
    }
   ],
   "source": [
    "sub_diff_table = mean_diff_table[metrics_of_interest].loc[structures_of_interest]\n",
    "print(sub_diff_table.shape) \n",
    "percent_sub_diff_table = percent_diff_table[metrics_of_interest].loc[structures_of_interest]\n",
    "print(percent_sub_diff_table.shape)"
   ]
  },
  {
   "cell_type": "markdown",
   "metadata": {},
   "source": [
    "## Get wilcoxon p value of differences "
   ]
  },
  {
   "cell_type": "code",
   "execution_count": 105,
   "metadata": {
    "collapsed": false
   },
   "outputs": [],
   "source": [
    "i = len(structures_of_interest)\n",
    "j = len(metrics_of_interest)\n",
    "wilcox_data = np.zeros((i,j))  # init an empty array"
   ]
  },
  {
   "cell_type": "code",
   "execution_count": 106,
   "metadata": {
    "collapsed": false
   },
   "outputs": [
    {
     "name": "stderr",
     "output_type": "stream",
     "text": [
      "C:\\Users\\RCole02.ROYALSURREY\\AppData\\Local\\Continuum\\Anaconda3\\lib\\site-packages\\scipy\\stats\\morestats.py:2388: UserWarning: Warning: sample size too small for normal approximation.\n",
      "  warnings.warn(\"Warning: sample size too small for normal approximation.\")\n"
     ]
    }
   ],
   "source": [
    "j = 0\n",
    "for structure in structures_of_interest:\n",
    "    i = 0\n",
    "    for metric in metrics_of_interest:\n",
    "        A =  d[(d['structure'] == structure) & (d['metric'] == metric)]\n",
    "        D =  A['Dm-AAA']\n",
    "        wilcox_data[j][i] = my_wilcox(D.values)\n",
    "        i = i + 1\n",
    "    j = j+ 1  "
   ]
  },
  {
   "cell_type": "markdown",
   "metadata": {},
   "source": [
    "Convert to dataframe"
   ]
  },
  {
   "cell_type": "code",
   "execution_count": 107,
   "metadata": {
    "collapsed": false
   },
   "outputs": [],
   "source": [
    "wilcox_data_df = pd.DataFrame(data=wilcox_data,    # values\n",
    "...              index=structures_of_interest,    # 1st column as index\n",
    "...              columns=metrics_of_interest)  # 1st row as the column names"
   ]
  },
  {
   "cell_type": "code",
   "execution_count": 108,
   "metadata": {
    "collapsed": false
   },
   "outputs": [
    {
     "data": {
      "text/html": [
       "<div>\n",
       "<table border=\"1\" class=\"dataframe\">\n",
       "  <thead>\n",
       "    <tr style=\"text-align: right;\">\n",
       "      <th></th>\n",
       "      <th>D95%</th>\n",
       "      <th>D50%</th>\n",
       "      <th>D99%</th>\n",
       "      <th>D0.1CC</th>\n",
       "      <th>DMAX</th>\n",
       "    </tr>\n",
       "  </thead>\n",
       "  <tbody>\n",
       "    <tr>\n",
       "      <th>PTV CHEST</th>\n",
       "      <td>0.191446</td>\n",
       "      <td>0.155635</td>\n",
       "      <td>0.040888</td>\n",
       "      <td>0.046826</td>\n",
       "      <td>0.005376</td>\n",
       "    </tr>\n",
       "    <tr>\n",
       "      <th>Foramen</th>\n",
       "      <td>0.232979</td>\n",
       "      <td>0.003772</td>\n",
       "      <td>0.211476</td>\n",
       "      <td>0.000655</td>\n",
       "      <td>0.000976</td>\n",
       "    </tr>\n",
       "    <tr>\n",
       "      <th>Oesophagus</th>\n",
       "      <td>0.002162</td>\n",
       "      <td>0.394246</td>\n",
       "      <td>0.012453</td>\n",
       "      <td>0.008985</td>\n",
       "      <td>0.068476</td>\n",
       "    </tr>\n",
       "    <tr>\n",
       "      <th>R Brachial plex</th>\n",
       "      <td>0.099540</td>\n",
       "      <td>0.139756</td>\n",
       "      <td>0.078292</td>\n",
       "      <td>0.649563</td>\n",
       "      <td>0.491119</td>\n",
       "    </tr>\n",
       "    <tr>\n",
       "      <th>L Brachial plex</th>\n",
       "      <td>0.064039</td>\n",
       "      <td>0.035465</td>\n",
       "      <td>0.047990</td>\n",
       "      <td>0.509797</td>\n",
       "      <td>0.440867</td>\n",
       "    </tr>\n",
       "    <tr>\n",
       "      <th>Heart</th>\n",
       "      <td>0.012453</td>\n",
       "      <td>0.733271</td>\n",
       "      <td>0.001206</td>\n",
       "      <td>0.532130</td>\n",
       "      <td>0.826049</td>\n",
       "    </tr>\n",
       "    <tr>\n",
       "      <th>Trachea</th>\n",
       "      <td>0.334277</td>\n",
       "      <td>0.909561</td>\n",
       "      <td>0.139756</td>\n",
       "      <td>0.211476</td>\n",
       "      <td>0.562351</td>\n",
       "    </tr>\n",
       "    <tr>\n",
       "      <th>Bronchial tree</th>\n",
       "      <td>0.019878</td>\n",
       "      <td>0.690945</td>\n",
       "      <td>0.030908</td>\n",
       "      <td>0.069144</td>\n",
       "      <td>0.665896</td>\n",
       "    </tr>\n",
       "    <tr>\n",
       "      <th>Ribs</th>\n",
       "      <td>0.069144</td>\n",
       "      <td>0.040888</td>\n",
       "      <td>0.023096</td>\n",
       "      <td>0.495521</td>\n",
       "      <td>0.035193</td>\n",
       "    </tr>\n",
       "    <tr>\n",
       "      <th>ITV</th>\n",
       "      <td>0.157811</td>\n",
       "      <td>0.009181</td>\n",
       "      <td>0.271948</td>\n",
       "      <td>0.015654</td>\n",
       "      <td>0.004276</td>\n",
       "    </tr>\n",
       "  </tbody>\n",
       "</table>\n",
       "</div>"
      ],
      "text/plain": [
       "                     D95%      D50%      D99%    D0.1CC      DMAX\n",
       "PTV CHEST        0.191446  0.155635  0.040888  0.046826  0.005376\n",
       "Foramen          0.232979  0.003772  0.211476  0.000655  0.000976\n",
       "Oesophagus       0.002162  0.394246  0.012453  0.008985  0.068476\n",
       "R Brachial plex  0.099540  0.139756  0.078292  0.649563  0.491119\n",
       "L Brachial plex  0.064039  0.035465  0.047990  0.509797  0.440867\n",
       "Heart            0.012453  0.733271  0.001206  0.532130  0.826049\n",
       "Trachea          0.334277  0.909561  0.139756  0.211476  0.562351\n",
       "Bronchial tree   0.019878  0.690945  0.030908  0.069144  0.665896\n",
       "Ribs             0.069144  0.040888  0.023096  0.495521  0.035193\n",
       "ITV              0.157811  0.009181  0.271948  0.015654  0.004276"
      ]
     },
     "execution_count": 108,
     "metadata": {},
     "output_type": "execute_result"
    }
   ],
   "source": [
    "wilcox_data_df"
   ]
  },
  {
   "cell_type": "code",
   "execution_count": 117,
   "metadata": {
    "collapsed": false
   },
   "outputs": [],
   "source": [
    "#confidence = 1.0\n",
    "#plt.figure(figsize=(16, 8))\n",
    "#ax2 = sns.heatmap(wilcox_data_df[wilcox_data_df<confidence], annot=True, linewidths=.5,  cbar=True, cmap='inferno_r')\n",
    "#ax2.set_title('p- value for mean dose differences (Gy) by structure and metric', size='xx-large')\n",
    "#plt.savefig('p value for mean dose differences for select structure and metric.png', dpi=500)"
   ]
  },
  {
   "cell_type": "markdown",
   "metadata": {},
   "source": [
    "Plot dose differences where statistically significant"
   ]
  },
  {
   "cell_type": "code",
   "execution_count": 123,
   "metadata": {
    "collapsed": false
   },
   "outputs": [
    {
     "name": "stdout",
     "output_type": "stream",
     "text": [
      "0.397727718768837\n"
     ]
    },
    {
     "data": {
      "image/png": "[encoded data removed]",
      "text/plain": [
       "<matplotlib.figure.Figure at 0xc381810>"
      ]
     },
     "metadata": {},
     "output_type": "display_data"
    }
   ],
   "source": [
    "plt.figure(figsize=(8, 5)) \n",
    "\n",
    "data = sub_diff_table[wilcox_data_df<0.05]\n",
    "\n",
    "print(data.mean().mean())\n",
    "\n",
    "ax3 = sns.heatmap(data, annot=True, linewidths=.5, center=0) #  \n",
    "ax3.set_title('Significant mean dose differences Dm-AAA (Gy) by metric', size='xx-large')\n",
    "plt.savefig('p value for mean dose differences for significant select structure and metric.png', dpi=500)"
   ]
  },
  {
   "cell_type": "code",
   "execution_count": 125,
   "metadata": {
    "collapsed": false
   },
   "outputs": [
    {
     "name": "stdout",
     "output_type": "stream",
     "text": [
      "386.1533771354602\n"
     ]
    },
    {
     "data": {
      "image/png": "[encoded data removed]",
      "text/plain": [
       "<matplotlib.figure.Figure at 0xbef9e90>"
      ]
     },
     "metadata": {},
     "output_type": "display_data"
    }
   ],
   "source": [
    "plt.figure(figsize=(8, 5)) \n",
    "\n",
    "data = percent_sub_diff_table[wilcox_data_df<0.05]\n",
    "\n",
    "print(data.mean().mean())\n",
    "\n",
    "ax3 = sns.heatmap(data, annot=True, linewidths=.5, center=0) #  mask=mask,\n",
    "ax3.set_title('Significant mean dose differences Dm-AAA (%) by metric', size='xx-large')\n",
    "plt.savefig('p value for mean dose differences for significant select structure and metric.png', dpi=500)"
   ]
  },
  {
   "cell_type": "markdown",
   "metadata": {},
   "source": [
    "Combine constraints with max, mean and signifance of dose differences, and failures"
   ]
  },
  {
   "cell_type": "code",
   "execution_count": 54,
   "metadata": {
    "collapsed": false
   },
   "outputs": [],
   "source": [
    "# constraints # constraints of interes  "
   ]
  },
  {
   "cell_type": "code",
   "execution_count": 130,
   "metadata": {
    "collapsed": false
   },
   "outputs": [],
   "source": [
    "constraints_full = constraints.copy()"
   ]
  },
  {
   "cell_type": "code",
   "execution_count": 131,
   "metadata": {
    "collapsed": false
   },
   "outputs": [],
   "source": [
    "Mean_diff = mean_diff_table.lookup(constraints['structure'].values, constraints['metric'].values)  # mean diff values from lookup                              \n",
    "constraints_full['Mean_diff'] = pd.DataFrame(Mean_diff)   # convert to dataframe and apply "
   ]
  },
  {
   "cell_type": "code",
   "execution_count": 132,
   "metadata": {
    "collapsed": true
   },
   "outputs": [],
   "source": [
    "wilcox  =  wilcox_data_df.lookup(constraints['structure'].values, constraints['metric'].values)\n",
    "constraints_full['wilcox'] = pd.DataFrame(wilcox)"
   ]
  },
  {
   "cell_type": "code",
   "execution_count": 133,
   "metadata": {
    "collapsed": false
   },
   "outputs": [],
   "source": [
    "constraints_full = constraints_full.drop('Of_Prescription_dose?', 1) "
   ]
  },
  {
   "cell_type": "code",
   "execution_count": 134,
   "metadata": {
    "collapsed": false
   },
   "outputs": [
    {
     "data": {
      "text/plain": [
       "True"
      ]
     },
     "execution_count": 134,
     "metadata": {},
     "output_type": "execute_result"
    }
   ],
   "source": [
    "test1 = failures[(failures['structure'] == 'PTV CHEST') & ((failures['metric'] == 'D95%'))] # dose constraint violated\n",
    "test1.size != 0   # True = there is a failure"
   ]
  },
  {
   "cell_type": "code",
   "execution_count": 135,
   "metadata": {
    "collapsed": false
   },
   "outputs": [
    {
     "data": {
      "text/html": [
       "<div>\n",
       "<table border=\"1\" class=\"dataframe\">\n",
       "  <thead>\n",
       "    <tr style=\"text-align: right;\">\n",
       "      <th></th>\n",
       "      <th>Case</th>\n",
       "      <th>structure</th>\n",
       "      <th>metric</th>\n",
       "      <th>AAA</th>\n",
       "      <th>Dm</th>\n",
       "      <th>Dm-AAA</th>\n",
       "      <th>Dm-AAA_%</th>\n",
       "    </tr>\n",
       "  </thead>\n",
       "  <tbody>\n",
       "    <tr>\n",
       "      <th>489</th>\n",
       "      <td>Case5</td>\n",
       "      <td>PTV CHEST</td>\n",
       "      <td>D95%</td>\n",
       "      <td>55.648904</td>\n",
       "      <td>54.883221</td>\n",
       "      <td>-0.765683</td>\n",
       "      <td>-1.375917</td>\n",
       "    </tr>\n",
       "    <tr>\n",
       "      <th>4287</th>\n",
       "      <td>Case30</td>\n",
       "      <td>PTV CHEST</td>\n",
       "      <td>D95%</td>\n",
       "      <td>56.172306</td>\n",
       "      <td>51.618767</td>\n",
       "      <td>-4.553539</td>\n",
       "      <td>-8.106377</td>\n",
       "    </tr>\n",
       "    <tr>\n",
       "      <th>4740</th>\n",
       "      <td>Case31</td>\n",
       "      <td>PTV CHEST</td>\n",
       "      <td>D0.1CC</td>\n",
       "      <td>72.846993</td>\n",
       "      <td>74.024337</td>\n",
       "      <td>1.177344</td>\n",
       "      <td>1.616188</td>\n",
       "    </tr>\n",
       "    <tr>\n",
       "      <th>3966</th>\n",
       "      <td>Case25</td>\n",
       "      <td>Trachea</td>\n",
       "      <td>D0.1CC</td>\n",
       "      <td>15.948424</td>\n",
       "      <td>69.349889</td>\n",
       "      <td>53.401465</td>\n",
       "      <td>334.838504</td>\n",
       "    </tr>\n",
       "    <tr>\n",
       "      <th>3458</th>\n",
       "      <td>Case22</td>\n",
       "      <td>Liver</td>\n",
       "      <td>D50%</td>\n",
       "      <td>1.250632</td>\n",
       "      <td>1.294880</td>\n",
       "      <td>0.044248</td>\n",
       "      <td>3.538037</td>\n",
       "    </tr>\n",
       "    <tr>\n",
       "      <th>4196</th>\n",
       "      <td>Case25</td>\n",
       "      <td>Liver</td>\n",
       "      <td>D50%</td>\n",
       "      <td>6.847959</td>\n",
       "      <td>6.713133</td>\n",
       "      <td>-0.134825</td>\n",
       "      <td>-1.968840</td>\n",
       "    </tr>\n",
       "    <tr>\n",
       "      <th>1122</th>\n",
       "      <td>Case12</td>\n",
       "      <td>L Brachial plex</td>\n",
       "      <td>D0.1CC</td>\n",
       "      <td>0.108812</td>\n",
       "      <td>74.346465</td>\n",
       "      <td>74.237653</td>\n",
       "      <td>68225.508432</td>\n",
       "    </tr>\n",
       "    <tr>\n",
       "      <th>3912</th>\n",
       "      <td>Case25</td>\n",
       "      <td>L Brachial plex</td>\n",
       "      <td>D0.1CC</td>\n",
       "      <td>0.054618</td>\n",
       "      <td>63.428739</td>\n",
       "      <td>63.374121</td>\n",
       "      <td>116031.448241</td>\n",
       "    </tr>\n",
       "    <tr>\n",
       "      <th>4650</th>\n",
       "      <td>Case31</td>\n",
       "      <td>L Brachial plex</td>\n",
       "      <td>D0.1CC</td>\n",
       "      <td>0.109680</td>\n",
       "      <td>77.576481</td>\n",
       "      <td>77.466802</td>\n",
       "      <td>70629.998217</td>\n",
       "    </tr>\n",
       "    <tr>\n",
       "      <th>222</th>\n",
       "      <td>Case1</td>\n",
       "      <td>R Brachial plex</td>\n",
       "      <td>D0.1CC</td>\n",
       "      <td>0.324991</td>\n",
       "      <td>65.801627</td>\n",
       "      <td>65.476636</td>\n",
       "      <td>20147.232051</td>\n",
       "    </tr>\n",
       "    <tr>\n",
       "      <th>2814</th>\n",
       "      <td>Case17</td>\n",
       "      <td>R Brachial plex</td>\n",
       "      <td>D0.1CC</td>\n",
       "      <td>0.435957</td>\n",
       "      <td>48.809596</td>\n",
       "      <td>48.373640</td>\n",
       "      <td>11095.975270</td>\n",
       "    </tr>\n",
       "  </tbody>\n",
       "</table>\n",
       "</div>"
      ],
      "text/plain": [
       "        Case        structure  metric        AAA         Dm     Dm-AAA  \\\n",
       "489    Case5        PTV CHEST    D95%  55.648904  54.883221  -0.765683   \n",
       "4287  Case30        PTV CHEST    D95%  56.172306  51.618767  -4.553539   \n",
       "4740  Case31        PTV CHEST  D0.1CC  72.846993  74.024337   1.177344   \n",
       "3966  Case25          Trachea  D0.1CC  15.948424  69.349889  53.401465   \n",
       "3458  Case22            Liver    D50%   1.250632   1.294880   0.044248   \n",
       "4196  Case25            Liver    D50%   6.847959   6.713133  -0.134825   \n",
       "1122  Case12  L Brachial plex  D0.1CC   0.108812  74.346465  74.237653   \n",
       "3912  Case25  L Brachial plex  D0.1CC   0.054618  63.428739  63.374121   \n",
       "4650  Case31  L Brachial plex  D0.1CC   0.109680  77.576481  77.466802   \n",
       "222    Case1  R Brachial plex  D0.1CC   0.324991  65.801627  65.476636   \n",
       "2814  Case17  R Brachial plex  D0.1CC   0.435957  48.809596  48.373640   \n",
       "\n",
       "           Dm-AAA_%  \n",
       "489       -1.375917  \n",
       "4287      -8.106377  \n",
       "4740       1.616188  \n",
       "3966     334.838504  \n",
       "3458       3.538037  \n",
       "4196      -1.968840  \n",
       "1122   68225.508432  \n",
       "3912  116031.448241  \n",
       "4650   70629.998217  \n",
       "222    20147.232051  \n",
       "2814   11095.975270  "
      ]
     },
     "execution_count": 135,
     "metadata": {},
     "output_type": "execute_result"
    }
   ],
   "source": [
    "failures"
   ]
  },
  {
   "cell_type": "code",
   "execution_count": 136,
   "metadata": {
    "collapsed": false
   },
   "outputs": [
    {
     "data": {
      "text/html": [
       "<div>\n",
       "<table border=\"1\" class=\"dataframe\">\n",
       "  <thead>\n",
       "    <tr style=\"text-align: right;\">\n",
       "      <th></th>\n",
       "      <th>structure</th>\n",
       "      <th>metric</th>\n",
       "      <th>Sign</th>\n",
       "      <th>5_Fraction_55Gy</th>\n",
       "      <th>Unit</th>\n",
       "      <th>Mean_diff</th>\n",
       "      <th>wilcox</th>\n",
       "      <th>Case</th>\n",
       "      <th>AAA</th>\n",
       "      <th>Dm</th>\n",
       "      <th>Dm-AAA</th>\n",
       "      <th>Dm-AAA_%</th>\n",
       "    </tr>\n",
       "  </thead>\n",
       "  <tbody>\n",
       "    <tr>\n",
       "      <th>0</th>\n",
       "      <td>PTV CHEST</td>\n",
       "      <td>D95%</td>\n",
       "      <td>&gt;</td>\n",
       "      <td>100</td>\n",
       "      <td>%</td>\n",
       "      <td>-0.526656</td>\n",
       "      <td>0.191446</td>\n",
       "      <td>Case5</td>\n",
       "      <td>55.648904</td>\n",
       "      <td>54.883221</td>\n",
       "      <td>-0.765683</td>\n",
       "      <td>-1.375917</td>\n",
       "    </tr>\n",
       "    <tr>\n",
       "      <th>1</th>\n",
       "      <td>PTV CHEST</td>\n",
       "      <td>D95%</td>\n",
       "      <td>&gt;</td>\n",
       "      <td>100</td>\n",
       "      <td>%</td>\n",
       "      <td>-0.526656</td>\n",
       "      <td>0.191446</td>\n",
       "      <td>Case30</td>\n",
       "      <td>56.172306</td>\n",
       "      <td>51.618767</td>\n",
       "      <td>-4.553539</td>\n",
       "      <td>-8.106377</td>\n",
       "    </tr>\n",
       "    <tr>\n",
       "      <th>2</th>\n",
       "      <td>PTV CHEST</td>\n",
       "      <td>D0.1CC</td>\n",
       "      <td>between</td>\n",
       "      <td>118-134</td>\n",
       "      <td>%</td>\n",
       "      <td>0.619299</td>\n",
       "      <td>0.046826</td>\n",
       "      <td>Case31</td>\n",
       "      <td>72.846993</td>\n",
       "      <td>74.024337</td>\n",
       "      <td>1.177344</td>\n",
       "      <td>1.616188</td>\n",
       "    </tr>\n",
       "    <tr>\n",
       "      <th>3</th>\n",
       "      <td>R Brachial plex</td>\n",
       "      <td>D0.1CC</td>\n",
       "      <td>&lt;</td>\n",
       "      <td>27</td>\n",
       "      <td>Gy</td>\n",
       "      <td>0.246638</td>\n",
       "      <td>0.649563</td>\n",
       "      <td>Case1</td>\n",
       "      <td>0.324991</td>\n",
       "      <td>65.801627</td>\n",
       "      <td>65.476636</td>\n",
       "      <td>20147.232051</td>\n",
       "    </tr>\n",
       "    <tr>\n",
       "      <th>4</th>\n",
       "      <td>R Brachial plex</td>\n",
       "      <td>D0.1CC</td>\n",
       "      <td>&lt;</td>\n",
       "      <td>27</td>\n",
       "      <td>Gy</td>\n",
       "      <td>0.246638</td>\n",
       "      <td>0.649563</td>\n",
       "      <td>Case17</td>\n",
       "      <td>0.435957</td>\n",
       "      <td>48.809596</td>\n",
       "      <td>48.373640</td>\n",
       "      <td>11095.975270</td>\n",
       "    </tr>\n",
       "    <tr>\n",
       "      <th>5</th>\n",
       "      <td>L Brachial plex</td>\n",
       "      <td>D0.1CC</td>\n",
       "      <td>&lt;</td>\n",
       "      <td>27</td>\n",
       "      <td>Gy</td>\n",
       "      <td>7.044839</td>\n",
       "      <td>0.509797</td>\n",
       "      <td>Case12</td>\n",
       "      <td>0.108812</td>\n",
       "      <td>74.346465</td>\n",
       "      <td>74.237653</td>\n",
       "      <td>68225.508432</td>\n",
       "    </tr>\n",
       "    <tr>\n",
       "      <th>6</th>\n",
       "      <td>L Brachial plex</td>\n",
       "      <td>D0.1CC</td>\n",
       "      <td>&lt;</td>\n",
       "      <td>27</td>\n",
       "      <td>Gy</td>\n",
       "      <td>7.044839</td>\n",
       "      <td>0.509797</td>\n",
       "      <td>Case25</td>\n",
       "      <td>0.054618</td>\n",
       "      <td>63.428739</td>\n",
       "      <td>63.374121</td>\n",
       "      <td>116031.448241</td>\n",
       "    </tr>\n",
       "    <tr>\n",
       "      <th>7</th>\n",
       "      <td>L Brachial plex</td>\n",
       "      <td>D0.1CC</td>\n",
       "      <td>&lt;</td>\n",
       "      <td>27</td>\n",
       "      <td>Gy</td>\n",
       "      <td>7.044839</td>\n",
       "      <td>0.509797</td>\n",
       "      <td>Case31</td>\n",
       "      <td>0.109680</td>\n",
       "      <td>77.576481</td>\n",
       "      <td>77.466802</td>\n",
       "      <td>70629.998217</td>\n",
       "    </tr>\n",
       "    <tr>\n",
       "      <th>8</th>\n",
       "      <td>Trachea</td>\n",
       "      <td>D0.1CC</td>\n",
       "      <td>&lt;</td>\n",
       "      <td>32</td>\n",
       "      <td>Gy</td>\n",
       "      <td>2.783140</td>\n",
       "      <td>0.211476</td>\n",
       "      <td>Case25</td>\n",
       "      <td>15.948424</td>\n",
       "      <td>69.349889</td>\n",
       "      <td>53.401465</td>\n",
       "      <td>334.838504</td>\n",
       "    </tr>\n",
       "  </tbody>\n",
       "</table>\n",
       "</div>"
      ],
      "text/plain": [
       "         structure  metric     Sign 5_Fraction_55Gy Unit  Mean_diff    wilcox  \\\n",
       "0        PTV CHEST    D95%       >              100    %  -0.526656  0.191446   \n",
       "1        PTV CHEST    D95%       >              100    %  -0.526656  0.191446   \n",
       "2        PTV CHEST  D0.1CC  between         118-134    %   0.619299  0.046826   \n",
       "3  R Brachial plex  D0.1CC        <              27   Gy   0.246638  0.649563   \n",
       "4  R Brachial plex  D0.1CC        <              27   Gy   0.246638  0.649563   \n",
       "5  L Brachial plex  D0.1CC        <              27   Gy   7.044839  0.509797   \n",
       "6  L Brachial plex  D0.1CC        <              27   Gy   7.044839  0.509797   \n",
       "7  L Brachial plex  D0.1CC        <              27   Gy   7.044839  0.509797   \n",
       "8          Trachea  D0.1CC        <              32   Gy   2.783140  0.211476   \n",
       "\n",
       "     Case        AAA         Dm     Dm-AAA       Dm-AAA_%  \n",
       "0   Case5  55.648904  54.883221  -0.765683      -1.375917  \n",
       "1  Case30  56.172306  51.618767  -4.553539      -8.106377  \n",
       "2  Case31  72.846993  74.024337   1.177344       1.616188  \n",
       "3   Case1   0.324991  65.801627  65.476636   20147.232051  \n",
       "4  Case17   0.435957  48.809596  48.373640   11095.975270  \n",
       "5  Case12   0.108812  74.346465  74.237653   68225.508432  \n",
       "6  Case25   0.054618  63.428739  63.374121  116031.448241  \n",
       "7  Case31   0.109680  77.576481  77.466802   70629.998217  \n",
       "8  Case25  15.948424  69.349889  53.401465     334.838504  "
      ]
     },
     "execution_count": 136,
     "metadata": {},
     "output_type": "execute_result"
    }
   ],
   "source": [
    "constraints_failed = pd.merge(constraints_full, failures, how='inner', on=['structure', 'metric'])\n",
    "constraints_failed  # get merged dataframe with failed constraints and details of the failure"
   ]
  },
  {
   "cell_type": "code",
   "execution_count": 62,
   "metadata": {
    "collapsed": true
   },
   "outputs": [],
   "source": [
    "constraints_failed.to_csv('constraints_failed.csv', index=False) "
   ]
  },
  {
   "cell_type": "markdown",
   "metadata": {
    "collapsed": true
   },
   "source": [
    "# Testing"
   ]
  },
  {
   "cell_type": "code",
   "execution_count": 63,
   "metadata": {
    "collapsed": false
   },
   "outputs": [
    {
     "name": "stdout",
     "output_type": "stream",
     "text": [
      "7.55692945586e-10\n",
      "7.55692945586e-10\n"
     ]
    },
    {
     "data": {
      "image/png": "[encoded data removed]",
      "text/plain": [
       "<matplotlib.figure.Figure at 0xc27d530>"
      ]
     },
     "metadata": {},
     "output_type": "display_data"
    }
   ],
   "source": [
    "#Test of wilcoxon. See how size of distribution and difference in mean affect result p \n",
    "\n",
    "dist_diff = 0.5\n",
    "samples = 50\n",
    "\n",
    "mu, sigma = 0, 0.1 \n",
    "s = np.random.normal(mu, sigma, samples)\n",
    "\n",
    "mu2, sigma = 0+dist_diff, 0.1 \n",
    "s2 = np.random.normal(mu2, sigma, samples)\n",
    "\n",
    "fig = plt.figure(figsize=(8, 4))\n",
    "plt.subplot(1, 2, 1)\n",
    "plt.hist(s)\n",
    "\n",
    "plt.subplot(1, 2, 2)\n",
    "plt.hist(s2)\n",
    "\n",
    "z_stat, p_val = wilcoxon(s, s2)   # if only 1 value passed\n",
    "print(p_val)\n",
    "\n",
    "z_stat, p_val = wilcoxon(s-s2)   # if only 1 value passed\n",
    "print(p_val)"
   ]
  },
  {
   "cell_type": "code",
   "execution_count": null,
   "metadata": {
    "collapsed": true
   },
   "outputs": [],
   "source": []
  }
 ],
 "metadata": {
  "anaconda-cloud": {},
  "kernelspec": {
   "display_name": "Python [conda root]",
   "language": "python",
   "name": "conda-root-py"
  },
  "language_info": {
   "codemirror_mode": {
    "name": "ipython",
    "version": 3
   },
   "file_extension": ".py",
   "mimetype": "text/x-python",
   "name": "python",
   "nbconvert_exporter": "python",
   "pygments_lexer": "ipython3",
   "version": "3.5.2"
  }
 },
 "nbformat": 4,
 "nbformat_minor": 0
}
