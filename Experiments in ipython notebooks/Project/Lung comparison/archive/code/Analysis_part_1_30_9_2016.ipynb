{
 "cells": [
  {
   "cell_type": "markdown",
   "metadata": {},
   "source": [
    "Useful \n",
    "   * http://pandas.pydata.org/pandas-docs/stable/10min.html\n",
    "   * http://machinelearningmastery.com/quick-and-dirty-data-analysis-with-pandas/\n",
    "   * http://bconnelly.net/2013/10/summarizing-data-in-python-with-pandas/ for understanding groupby"
   ]
  },
  {
   "cell_type": "markdown",
   "metadata": {},
   "source": [
    "Have used web page at https://dwoll.shinyapps.io/DVHshiny/ to upload all dvh text files and queried to get desired metrics which are downloaded as a comma seperated text file, rename extension .csv.\n",
    "\n",
    "UPDATE 2017 - COULD USE MY PYECLIPSEDVH CLASS INSTEAD\n",
    "\n",
    "\n",
    "For all available structures I export the following metrics\n",
    "\n",
    "\n",
    "    D2%, D5%, D50%, D95%, D99%, D1cc,  D0.1cc, DMAX, DSD, DRX, DHI, V5Gy, V12.5Gy, V20Gy, V30Gy , V40Gy, V50Gy,  V55Gy  "
   ]
  },
  {
   "cell_type": "code",
   "execution_count": 2,
   "metadata": {
    "collapsed": true
   },
   "outputs": [],
   "source": [
    "import pandas as pd\n",
    "import numpy as np\n",
    "import matplotlib.pyplot as plt\n",
    "%matplotlib inline"
   ]
  },
  {
   "cell_type": "code",
   "execution_count": 3,
   "metadata": {
    "collapsed": false
   },
   "outputs": [],
   "source": [
    "AAA_df = pd.read_csv('AAA_metrics_30_9.csv')  # import AAA data\n",
    "Dm_df = pd.read_csv('Dm_metrics_30_9.csv')  \n",
    "#Dw_df = pd.read_csv('Dw_metrics.csv')  # dont analyse for time being"
   ]
  },
  {
   "cell_type": "code",
   "execution_count": 4,
   "metadata": {
    "collapsed": false
   },
   "outputs": [
    {
     "data": {
      "text/html": [
       "<div>\n",
       "<table border=\"1\" class=\"dataframe\">\n",
       "  <thead>\n",
       "    <tr style=\"text-align: right;\">\n",
       "      <th></th>\n",
       "      <th>observed</th>\n",
       "      <th>metric</th>\n",
       "      <th>structure</th>\n",
       "      <th>patID</th>\n",
       "    </tr>\n",
       "  </thead>\n",
       "  <tbody>\n",
       "    <tr>\n",
       "      <th>0</th>\n",
       "      <td>25.853042</td>\n",
       "      <td>D2%</td>\n",
       "      <td>BODY</td>\n",
       "      <td>Case1_AAA_1</td>\n",
       "    </tr>\n",
       "    <tr>\n",
       "      <th>1</th>\n",
       "      <td>14.523130</td>\n",
       "      <td>D5%</td>\n",
       "      <td>BODY</td>\n",
       "      <td>Case1_AAA_1</td>\n",
       "    </tr>\n",
       "    <tr>\n",
       "      <th>2</th>\n",
       "      <td>0.430243</td>\n",
       "      <td>D50%</td>\n",
       "      <td>BODY</td>\n",
       "      <td>Case1_AAA_1</td>\n",
       "    </tr>\n",
       "    <tr>\n",
       "      <th>3</th>\n",
       "      <td>0.047550</td>\n",
       "      <td>D95%</td>\n",
       "      <td>BODY</td>\n",
       "      <td>Case1_AAA_1</td>\n",
       "    </tr>\n",
       "    <tr>\n",
       "      <th>4</th>\n",
       "      <td>0.009510</td>\n",
       "      <td>D99%</td>\n",
       "      <td>BODY</td>\n",
       "      <td>Case1_AAA_1</td>\n",
       "    </tr>\n",
       "  </tbody>\n",
       "</table>\n",
       "</div>"
      ],
      "text/plain": [
       "    observed metric structure        patID\n",
       "0  25.853042    D2%      BODY  Case1_AAA_1\n",
       "1  14.523130    D5%      BODY  Case1_AAA_1\n",
       "2   0.430243   D50%      BODY  Case1_AAA_1\n",
       "3   0.047550   D95%      BODY  Case1_AAA_1\n",
       "4   0.009510   D99%      BODY  Case1_AAA_1"
      ]
     },
     "execution_count": 4,
     "metadata": {},
     "output_type": "execute_result"
    }
   ],
   "source": [
    "AAA_df.head()"
   ]
  },
  {
   "cell_type": "code",
   "execution_count": 5,
   "metadata": {
    "collapsed": false
   },
   "outputs": [],
   "source": [
    "#with pd.option_context('display.precision', 10):\n",
    " #   print (AAA_df)   # to check precision"
   ]
  },
  {
   "cell_type": "markdown",
   "metadata": {},
   "source": [
    "parse patID to get Case"
   ]
  },
  {
   "cell_type": "code",
   "execution_count": 6,
   "metadata": {
    "collapsed": false
   },
   "outputs": [
    {
     "data": {
      "text/html": [
       "<div>\n",
       "<table border=\"1\" class=\"dataframe\">\n",
       "  <thead>\n",
       "    <tr style=\"text-align: right;\">\n",
       "      <th></th>\n",
       "      <th>AAA</th>\n",
       "      <th>metric</th>\n",
       "      <th>structure</th>\n",
       "      <th>Case</th>\n",
       "    </tr>\n",
       "  </thead>\n",
       "  <tbody>\n",
       "    <tr>\n",
       "      <th>0</th>\n",
       "      <td>25.853042</td>\n",
       "      <td>D2%</td>\n",
       "      <td>BODY</td>\n",
       "      <td>Case1</td>\n",
       "    </tr>\n",
       "    <tr>\n",
       "      <th>1</th>\n",
       "      <td>14.523130</td>\n",
       "      <td>D5%</td>\n",
       "      <td>BODY</td>\n",
       "      <td>Case1</td>\n",
       "    </tr>\n",
       "    <tr>\n",
       "      <th>2</th>\n",
       "      <td>0.430243</td>\n",
       "      <td>D50%</td>\n",
       "      <td>BODY</td>\n",
       "      <td>Case1</td>\n",
       "    </tr>\n",
       "    <tr>\n",
       "      <th>3</th>\n",
       "      <td>0.047550</td>\n",
       "      <td>D95%</td>\n",
       "      <td>BODY</td>\n",
       "      <td>Case1</td>\n",
       "    </tr>\n",
       "    <tr>\n",
       "      <th>4</th>\n",
       "      <td>0.009510</td>\n",
       "      <td>D99%</td>\n",
       "      <td>BODY</td>\n",
       "      <td>Case1</td>\n",
       "    </tr>\n",
       "  </tbody>\n",
       "</table>\n",
       "</div>"
      ],
      "text/plain": [
       "         AAA metric structure   Case\n",
       "0  25.853042    D2%      BODY  Case1\n",
       "1  14.523130    D5%      BODY  Case1\n",
       "2   0.430243   D50%      BODY  Case1\n",
       "3   0.047550   D95%      BODY  Case1\n",
       "4   0.009510   D99%      BODY  Case1"
      ]
     },
     "execution_count": 6,
     "metadata": {},
     "output_type": "execute_result"
    }
   ],
   "source": [
    "AAA_df['Case'] = AAA_df['patID'].str.split('_').str.get(0)  # get the case ID e.g. case1\n",
    "AAA_df = AAA_df.drop('patID', 1)                            # drop patID\n",
    "AAA_df.rename(columns={'observed': 'AAA'}, inplace=True)    # rename \n",
    "AAA_df.head()"
   ]
  },
  {
   "cell_type": "code",
   "execution_count": 7,
   "metadata": {
    "collapsed": false
   },
   "outputs": [
    {
     "data": {
      "text/html": [
       "<div>\n",
       "<table border=\"1\" class=\"dataframe\">\n",
       "  <thead>\n",
       "    <tr style=\"text-align: right;\">\n",
       "      <th></th>\n",
       "      <th>Dm</th>\n",
       "      <th>metric</th>\n",
       "      <th>structure</th>\n",
       "      <th>Case</th>\n",
       "    </tr>\n",
       "  </thead>\n",
       "  <tbody>\n",
       "    <tr>\n",
       "      <th>0</th>\n",
       "      <td>25.685894</td>\n",
       "      <td>D2%</td>\n",
       "      <td>BODY</td>\n",
       "      <td>Case1</td>\n",
       "    </tr>\n",
       "    <tr>\n",
       "      <th>1</th>\n",
       "      <td>14.388797</td>\n",
       "      <td>D5%</td>\n",
       "      <td>BODY</td>\n",
       "      <td>Case1</td>\n",
       "    </tr>\n",
       "    <tr>\n",
       "      <th>2</th>\n",
       "      <td>0.399853</td>\n",
       "      <td>D50%</td>\n",
       "      <td>BODY</td>\n",
       "      <td>Case1</td>\n",
       "    </tr>\n",
       "    <tr>\n",
       "      <th>3</th>\n",
       "      <td>0.065952</td>\n",
       "      <td>D95%</td>\n",
       "      <td>BODY</td>\n",
       "      <td>Case1</td>\n",
       "    </tr>\n",
       "    <tr>\n",
       "      <th>4</th>\n",
       "      <td>0.022860</td>\n",
       "      <td>D99%</td>\n",
       "      <td>BODY</td>\n",
       "      <td>Case1</td>\n",
       "    </tr>\n",
       "  </tbody>\n",
       "</table>\n",
       "</div>"
      ],
      "text/plain": [
       "          Dm metric structure   Case\n",
       "0  25.685894    D2%      BODY  Case1\n",
       "1  14.388797    D5%      BODY  Case1\n",
       "2   0.399853   D50%      BODY  Case1\n",
       "3   0.065952   D95%      BODY  Case1\n",
       "4   0.022860   D99%      BODY  Case1"
      ]
     },
     "execution_count": 7,
     "metadata": {},
     "output_type": "execute_result"
    }
   ],
   "source": [
    "Dm_df['Case'] = Dm_df['patID'].str.split('_').str.get(0)\n",
    "Dm_df = Dm_df.drop('patID', 1)\n",
    "Dm_df.rename(columns={'observed': 'Dm'}, inplace=True)    # rename \n",
    "Dm_df.head()"
   ]
  },
  {
   "cell_type": "markdown",
   "metadata": {},
   "source": [
    "Check which metrics have I exported"
   ]
  },
  {
   "cell_type": "code",
   "execution_count": 8,
   "metadata": {
    "collapsed": false
   },
   "outputs": [
    {
     "data": {
      "text/plain": [
       "structure\n",
       "Airway avoidance    14\n",
       "BODY                14\n",
       "Body                 1\n",
       "Both Lungs           5\n",
       "Both Lungs-ITV      15\n",
       "Bronchial tree      15\n",
       "Foramen             15\n",
       "Foramen+3mm         16\n",
       "GTV                  1\n",
       "Great vessels        1\n",
       "Heart               15\n",
       "ITV                 14\n",
       "Inner Ring           6\n",
       "L Brachial plex     14\n",
       "Liver                2\n",
       "Lt_Lung             15\n",
       "Oesophagus          15\n",
       "PTV CHEST           15\n",
       "PTV ring 2-3cm      15\n",
       "R Brachial plex     15\n",
       "Ribs                13\n",
       "Ribs-PTV             9\n",
       "Rt_Lung             15\n",
       "Skin                14\n",
       "Skin-PTV+2cm         6\n",
       "Trachea             15\n",
       "Name: AAA, dtype: int64"
      ]
     },
     "execution_count": 8,
     "metadata": {},
     "output_type": "execute_result"
    }
   ],
   "source": [
    "AAA_df_groupby_structure = AAA_df[AAA_df['metric'] == 'D50%'].groupby([ 'structure'])\n",
    "#AAA_df_groupby_structure = AAA_df.groupby([ 'structure', 'metric'])\n",
    "AAA_df_groupby_structure.AAA.count()"
   ]
  },
  {
   "cell_type": "code",
   "execution_count": 10,
   "metadata": {
    "collapsed": false
   },
   "outputs": [
    {
     "data": {
      "text/html": [
       "<div>\n",
       "<table border=\"1\" class=\"dataframe\">\n",
       "  <thead>\n",
       "    <tr style=\"text-align: right;\">\n",
       "      <th></th>\n",
       "      <th>AAA</th>\n",
       "      <th>metric</th>\n",
       "      <th>structure</th>\n",
       "      <th>Case</th>\n",
       "    </tr>\n",
       "  </thead>\n",
       "  <tbody>\n",
       "    <tr>\n",
       "      <th>2</th>\n",
       "      <td>0.430243</td>\n",
       "      <td>D50%</td>\n",
       "      <td>BODY</td>\n",
       "      <td>Case1</td>\n",
       "    </tr>\n",
       "    <tr>\n",
       "      <th>20</th>\n",
       "      <td>68.431595</td>\n",
       "      <td>D50%</td>\n",
       "      <td>GTV</td>\n",
       "      <td>Case1</td>\n",
       "    </tr>\n",
       "    <tr>\n",
       "      <th>38</th>\n",
       "      <td>1.546204</td>\n",
       "      <td>D50%</td>\n",
       "      <td>Heart</td>\n",
       "      <td>Case1</td>\n",
       "    </tr>\n",
       "    <tr>\n",
       "      <th>56</th>\n",
       "      <td>1.505452</td>\n",
       "      <td>D50%</td>\n",
       "      <td>Foramen</td>\n",
       "      <td>Case1</td>\n",
       "    </tr>\n",
       "    <tr>\n",
       "      <th>74</th>\n",
       "      <td>1.343825</td>\n",
       "      <td>D50%</td>\n",
       "      <td>Foramen+3mm</td>\n",
       "      <td>Case1</td>\n",
       "    </tr>\n",
       "  </tbody>\n",
       "</table>\n",
       "</div>"
      ],
      "text/plain": [
       "          AAA metric    structure   Case\n",
       "2    0.430243   D50%         BODY  Case1\n",
       "20  68.431595   D50%          GTV  Case1\n",
       "38   1.546204   D50%        Heart  Case1\n",
       "56   1.505452   D50%      Foramen  Case1\n",
       "74   1.343825   D50%  Foramen+3mm  Case1"
      ]
     },
     "execution_count": 10,
     "metadata": {},
     "output_type": "execute_result"
    }
   ],
   "source": [
    "AAA_df[AAA_df['metric'] == 'D50%'].head()"
   ]
  },
  {
   "cell_type": "code",
   "execution_count": 10,
   "metadata": {
    "collapsed": false
   },
   "outputs": [],
   "source": [
    "# AAA_df[AAA_df['structure'] == 'Lt Lung']"
   ]
  },
  {
   "cell_type": "code",
   "execution_count": 12,
   "metadata": {
    "collapsed": false
   },
   "outputs": [],
   "source": [
    "Dm_df_groupby_structure = Dm_df[Dm_df['metric'] == 'D50%'].groupby([ 'structure'])\n",
    "#AAA_df_groupby_structure = AAA_df.groupby([ 'structure', 'metric'])\n",
    "# Dm_df_groupby_structure.Dm.count()"
   ]
  },
  {
   "cell_type": "markdown",
   "metadata": {},
   "source": [
    "Export all to joined dataframe"
   ]
  },
  {
   "cell_type": "code",
   "execution_count": 13,
   "metadata": {
    "collapsed": false
   },
   "outputs": [
    {
     "data": {
      "text/html": [
       "<div>\n",
       "<table border=\"1\" class=\"dataframe\">\n",
       "  <thead>\n",
       "    <tr style=\"text-align: right;\">\n",
       "      <th></th>\n",
       "      <th>Case</th>\n",
       "      <th>structure</th>\n",
       "      <th>metric</th>\n",
       "      <th>AAA</th>\n",
       "      <th>Dm</th>\n",
       "    </tr>\n",
       "  </thead>\n",
       "  <tbody>\n",
       "    <tr>\n",
       "      <th>0</th>\n",
       "      <td>Case1</td>\n",
       "      <td>BODY</td>\n",
       "      <td>D2%</td>\n",
       "      <td>25.853042</td>\n",
       "      <td>25.685894</td>\n",
       "    </tr>\n",
       "    <tr>\n",
       "      <th>1</th>\n",
       "      <td>Case1</td>\n",
       "      <td>BODY</td>\n",
       "      <td>D5%</td>\n",
       "      <td>14.523130</td>\n",
       "      <td>14.388797</td>\n",
       "    </tr>\n",
       "    <tr>\n",
       "      <th>2</th>\n",
       "      <td>Case1</td>\n",
       "      <td>BODY</td>\n",
       "      <td>D50%</td>\n",
       "      <td>0.430243</td>\n",
       "      <td>0.399853</td>\n",
       "    </tr>\n",
       "    <tr>\n",
       "      <th>3</th>\n",
       "      <td>Case1</td>\n",
       "      <td>BODY</td>\n",
       "      <td>D95%</td>\n",
       "      <td>0.047550</td>\n",
       "      <td>0.065952</td>\n",
       "    </tr>\n",
       "    <tr>\n",
       "      <th>4</th>\n",
       "      <td>Case1</td>\n",
       "      <td>BODY</td>\n",
       "      <td>D99%</td>\n",
       "      <td>0.009510</td>\n",
       "      <td>0.022860</td>\n",
       "    </tr>\n",
       "  </tbody>\n",
       "</table>\n",
       "</div>"
      ],
      "text/plain": [
       "    Case structure metric        AAA         Dm\n",
       "0  Case1      BODY    D2%  25.853042  25.685894\n",
       "1  Case1      BODY    D5%  14.523130  14.388797\n",
       "2  Case1      BODY   D50%   0.430243   0.399853\n",
       "3  Case1      BODY   D95%   0.047550   0.065952\n",
       "4  Case1      BODY   D99%   0.009510   0.022860"
      ]
     },
     "execution_count": 13,
     "metadata": {},
     "output_type": "execute_result"
    }
   ],
   "source": [
    "AAA_Dm_data = pd.DataFrame()  # create an empty dataframe we will put all data into\n",
    "AAA_Dm_data = pd.merge(AAA_df, Dm_df, how='inner', on=['metric', 'Case', 'structure'])  # Get merged set\n",
    "AAA_Dm_data = AAA_Dm_data[['Case', 'structure', 'metric', 'AAA', 'Dm']]   # rearrange  \n",
    "AAA_Dm_data.head()"
   ]
  },
  {
   "cell_type": "code",
   "execution_count": 15,
   "metadata": {
    "collapsed": false
   },
   "outputs": [
    {
     "data": {
      "text/html": [
       "<div>\n",
       "<table border=\"1\" class=\"dataframe\">\n",
       "  <thead>\n",
       "    <tr style=\"text-align: right;\">\n",
       "      <th></th>\n",
       "      <th>Case</th>\n",
       "      <th>metric</th>\n",
       "      <th>AAA</th>\n",
       "      <th>Dm</th>\n",
       "    </tr>\n",
       "    <tr>\n",
       "      <th>structure</th>\n",
       "      <th></th>\n",
       "      <th></th>\n",
       "      <th></th>\n",
       "      <th></th>\n",
       "    </tr>\n",
       "  </thead>\n",
       "  <tbody>\n",
       "    <tr>\n",
       "      <th>Airway avoidance</th>\n",
       "      <td>14</td>\n",
       "      <td>14</td>\n",
       "      <td>14</td>\n",
       "      <td>14</td>\n",
       "    </tr>\n",
       "    <tr>\n",
       "      <th>BODY</th>\n",
       "      <td>14</td>\n",
       "      <td>14</td>\n",
       "      <td>14</td>\n",
       "      <td>14</td>\n",
       "    </tr>\n",
       "    <tr>\n",
       "      <th>Body</th>\n",
       "      <td>1</td>\n",
       "      <td>1</td>\n",
       "      <td>1</td>\n",
       "      <td>1</td>\n",
       "    </tr>\n",
       "    <tr>\n",
       "      <th>Both Lungs</th>\n",
       "      <td>5</td>\n",
       "      <td>5</td>\n",
       "      <td>5</td>\n",
       "      <td>5</td>\n",
       "    </tr>\n",
       "    <tr>\n",
       "      <th>Both Lungs-ITV</th>\n",
       "      <td>15</td>\n",
       "      <td>15</td>\n",
       "      <td>15</td>\n",
       "      <td>15</td>\n",
       "    </tr>\n",
       "    <tr>\n",
       "      <th>Bronchial tree</th>\n",
       "      <td>15</td>\n",
       "      <td>15</td>\n",
       "      <td>15</td>\n",
       "      <td>15</td>\n",
       "    </tr>\n",
       "    <tr>\n",
       "      <th>Foramen</th>\n",
       "      <td>15</td>\n",
       "      <td>15</td>\n",
       "      <td>15</td>\n",
       "      <td>15</td>\n",
       "    </tr>\n",
       "    <tr>\n",
       "      <th>Foramen+3mm</th>\n",
       "      <td>18</td>\n",
       "      <td>18</td>\n",
       "      <td>18</td>\n",
       "      <td>18</td>\n",
       "    </tr>\n",
       "    <tr>\n",
       "      <th>GTV</th>\n",
       "      <td>1</td>\n",
       "      <td>1</td>\n",
       "      <td>1</td>\n",
       "      <td>1</td>\n",
       "    </tr>\n",
       "    <tr>\n",
       "      <th>Great vessels</th>\n",
       "      <td>1</td>\n",
       "      <td>1</td>\n",
       "      <td>1</td>\n",
       "      <td>1</td>\n",
       "    </tr>\n",
       "    <tr>\n",
       "      <th>Heart</th>\n",
       "      <td>15</td>\n",
       "      <td>15</td>\n",
       "      <td>15</td>\n",
       "      <td>15</td>\n",
       "    </tr>\n",
       "    <tr>\n",
       "      <th>ITV</th>\n",
       "      <td>14</td>\n",
       "      <td>14</td>\n",
       "      <td>14</td>\n",
       "      <td>14</td>\n",
       "    </tr>\n",
       "    <tr>\n",
       "      <th>Inner Ring</th>\n",
       "      <td>6</td>\n",
       "      <td>6</td>\n",
       "      <td>6</td>\n",
       "      <td>6</td>\n",
       "    </tr>\n",
       "    <tr>\n",
       "      <th>L Brachial plex</th>\n",
       "      <td>14</td>\n",
       "      <td>14</td>\n",
       "      <td>14</td>\n",
       "      <td>14</td>\n",
       "    </tr>\n",
       "    <tr>\n",
       "      <th>Liver</th>\n",
       "      <td>2</td>\n",
       "      <td>2</td>\n",
       "      <td>2</td>\n",
       "      <td>2</td>\n",
       "    </tr>\n",
       "    <tr>\n",
       "      <th>Lt_Lung</th>\n",
       "      <td>15</td>\n",
       "      <td>15</td>\n",
       "      <td>15</td>\n",
       "      <td>15</td>\n",
       "    </tr>\n",
       "    <tr>\n",
       "      <th>Oesophagus</th>\n",
       "      <td>15</td>\n",
       "      <td>15</td>\n",
       "      <td>15</td>\n",
       "      <td>15</td>\n",
       "    </tr>\n",
       "    <tr>\n",
       "      <th>PTV CHEST</th>\n",
       "      <td>15</td>\n",
       "      <td>15</td>\n",
       "      <td>15</td>\n",
       "      <td>15</td>\n",
       "    </tr>\n",
       "    <tr>\n",
       "      <th>PTV ring 2-3cm</th>\n",
       "      <td>15</td>\n",
       "      <td>15</td>\n",
       "      <td>15</td>\n",
       "      <td>15</td>\n",
       "    </tr>\n",
       "    <tr>\n",
       "      <th>R Brachial plex</th>\n",
       "      <td>15</td>\n",
       "      <td>15</td>\n",
       "      <td>15</td>\n",
       "      <td>15</td>\n",
       "    </tr>\n",
       "    <tr>\n",
       "      <th>Ribs</th>\n",
       "      <td>15</td>\n",
       "      <td>15</td>\n",
       "      <td>15</td>\n",
       "      <td>15</td>\n",
       "    </tr>\n",
       "    <tr>\n",
       "      <th>Ribs-PTV</th>\n",
       "      <td>13</td>\n",
       "      <td>13</td>\n",
       "      <td>13</td>\n",
       "      <td>13</td>\n",
       "    </tr>\n",
       "    <tr>\n",
       "      <th>Rt_Lung</th>\n",
       "      <td>15</td>\n",
       "      <td>15</td>\n",
       "      <td>15</td>\n",
       "      <td>15</td>\n",
       "    </tr>\n",
       "    <tr>\n",
       "      <th>Skin</th>\n",
       "      <td>14</td>\n",
       "      <td>14</td>\n",
       "      <td>14</td>\n",
       "      <td>14</td>\n",
       "    </tr>\n",
       "    <tr>\n",
       "      <th>Skin-PTV+2cm</th>\n",
       "      <td>6</td>\n",
       "      <td>6</td>\n",
       "      <td>6</td>\n",
       "      <td>6</td>\n",
       "    </tr>\n",
       "    <tr>\n",
       "      <th>Trachea</th>\n",
       "      <td>15</td>\n",
       "      <td>15</td>\n",
       "      <td>15</td>\n",
       "      <td>15</td>\n",
       "    </tr>\n",
       "  </tbody>\n",
       "</table>\n",
       "</div>"
      ],
      "text/plain": [
       "                  Case  metric  AAA  Dm\n",
       "structure                              \n",
       "Airway avoidance    14      14   14  14\n",
       "BODY                14      14   14  14\n",
       "Body                 1       1    1   1\n",
       "Both Lungs           5       5    5   5\n",
       "Both Lungs-ITV      15      15   15  15\n",
       "Bronchial tree      15      15   15  15\n",
       "Foramen             15      15   15  15\n",
       "Foramen+3mm         18      18   18  18\n",
       "GTV                  1       1    1   1\n",
       "Great vessels        1       1    1   1\n",
       "Heart               15      15   15  15\n",
       "ITV                 14      14   14  14\n",
       "Inner Ring           6       6    6   6\n",
       "L Brachial plex     14      14   14  14\n",
       "Liver                2       2    2   2\n",
       "Lt_Lung             15      15   15  15\n",
       "Oesophagus          15      15   15  15\n",
       "PTV CHEST           15      15   15  15\n",
       "PTV ring 2-3cm      15      15   15  15\n",
       "R Brachial plex     15      15   15  15\n",
       "Ribs                15      15   15  15\n",
       "Ribs-PTV            13      13   13  13\n",
       "Rt_Lung             15      15   15  15\n",
       "Skin                14      14   14  14\n",
       "Skin-PTV+2cm         6       6    6   6\n",
       "Trachea             15      15   15  15"
      ]
     },
     "execution_count": 15,
     "metadata": {},
     "output_type": "execute_result"
    }
   ],
   "source": [
    "# Check structures \n",
    "AAA_Dm_data_groupby_structure = AAA_Dm_data[AAA_Dm_data['metric'] == 'D50%'].groupby(['structure'])\n",
    "AAA_Dm_data_groupby_structure.count()"
   ]
  },
  {
   "cell_type": "code",
   "execution_count": 16,
   "metadata": {
    "collapsed": true
   },
   "outputs": [],
   "source": [
    "AAA_Dm_data.fillna(0.0).to_csv('AAA_Dm_data_30_9.csv', index=False)  # write to file"
   ]
  },
  {
   "cell_type": "markdown",
   "metadata": {},
   "source": [
    "END"
   ]
  },
  {
   "cell_type": "markdown",
   "metadata": {},
   "source": [
    "Get code for BA plot from http://stackoverflow.com/questions/16399279/bland-altman-plot-in-python"
   ]
  }
 ],
 "metadata": {
  "anaconda-cloud": {},
  "kernelspec": {
   "display_name": "Python [conda root]",
   "language": "python",
   "name": "conda-root-py"
  },
  "language_info": {
   "codemirror_mode": {
    "name": "ipython",
    "version": 3
   },
   "file_extension": ".py",
   "mimetype": "text/x-python",
   "name": "python",
   "nbconvert_exporter": "python",
   "pygments_lexer": "ipython3",
   "version": "3.5.2"
  }
 },
 "nbformat": 4,
 "nbformat_minor": 0
}
