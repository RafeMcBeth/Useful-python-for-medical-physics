{
 "cells": [
  {
   "cell_type": "markdown",
   "metadata": {},
   "source": [
    "6-3-2017\n",
    "\n",
    "Drop Case5 as this is not clinically acceptable with AAA PTV D99% below 90% of prescription.\n",
    "\n",
    "Drop Case14 as too hot on the D1cc.\n",
    "\n",
    "Drop Cases 16 & 24 as too hot on DMAX."
   ]
  },
  {
   "cell_type": "code",
   "execution_count": 1,
   "metadata": {
    "collapsed": true
   },
   "outputs": [],
   "source": [
    "import pandas as pd\n",
    "import numpy as np\n",
    "from scipy import stats\n",
    "from scipy.stats import wilcoxon  # must import explicitly\n",
    "import seaborn as sns\n",
    "sns.set(style=\"whitegrid\", palette=\"pastel\", color_codes=True)\n",
    "import matplotlib.pyplot as plt\n",
    "%matplotlib inline"
   ]
  },
  {
   "cell_type": "code",
   "execution_count": 2,
   "metadata": {
    "collapsed": true
   },
   "outputs": [],
   "source": [
    "def query_data(df, Col, structure, metric):   # helper function to get data, Col = AAA, AXB or diff \n",
    "    return df[Col][(df['structure'] == structure) & (df['metric'] == metric)]"
   ]
  },
  {
   "cell_type": "code",
   "execution_count": 3,
   "metadata": {
    "collapsed": true
   },
   "outputs": [],
   "source": [
    "# v2 ot the plot, show the case number as marker\n",
    "\n",
    "def bland_altman_plot2(df, structure, metric, *args, **kwargs):\n",
    "    data = df[(df['structure'] == structure) & (df['metric'] == metric)]\n",
    "    \n",
    "    Dm_data     = np.asarray(data['Dm'])\n",
    "    AAA_data     = np.asarray(data['AAA'])\n",
    "    cases = [case.replace('Case', '') for case in data['Case'].values]\n",
    "    \n",
    "    z_stat, p_val = wilcoxon(Dm_data, AAA_data)\n",
    "    mean      = np.mean([Dm_data, AAA_data], axis=0)\n",
    "    diff      = Dm_data - AAA_data                   # Difference between data1 and data2\n",
    "    md        = np.mean(diff)                   # Mean of the difference\n",
    "    sd        = np.std(diff, axis=0)            # Standard deviation of the difference\n",
    "\n",
    "    # plt.scatter(mean, diff, *args, **kwargs)\n",
    "    plt.scatter(AAA_data, diff, *args, **kwargs)\n",
    "    for i, txt in enumerate(cases):\n",
    "        plt.annotate(txt, (AAA_data[i],diff[i]))\n",
    "    \n",
    "    plt.axhline(md,           color='red', linestyle='-')\n",
    "    plt.axhline(md + 1.96*sd, color='blue', linestyle='--')\n",
    "    plt.axhline(md - 1.96*sd, color='blue', linestyle='--')\n",
    "    plt.xlabel('AAA Dose (Gy)')\n",
    "    plt.ylabel('AXB - AAA Difference (Gy)')\n",
    "   # plt.title( str(np.round(md, decimals = 3)) + ' Gy (' + str(np.round(md_percent, decimals = 3)) +  ' %) difference with p = ' + str(np.round(p_val, decimals = 3))  + ' for ' + structure + ' and metric ' + metric)\n",
    "    plt.title( str(np.round(md, decimals = 3)) + ' Gy difference with p = ' + str(np.round(p_val, decimals = 3))  + '\\n for ' + structure + ' and metric ' + metric)\n",
    "    #plt.savefig('BA.png')"
   ]
  },
  {
   "cell_type": "markdown",
   "metadata": {},
   "source": [
    "## Parse data\n",
    "\n",
    "Load data and get in same format as original analysis, even though this is a bit long winded"
   ]
  },
  {
   "cell_type": "code",
   "execution_count": 4,
   "metadata": {
    "collapsed": true
   },
   "outputs": [],
   "source": [
    "data = pd.read_csv('metrics_all_7_2_2017.csv')  # import AAA data"
   ]
  },
  {
   "cell_type": "code",
   "execution_count": 5,
   "metadata": {
    "collapsed": true
   },
   "outputs": [],
   "source": [
    "data['Case'] = data['patID'].str.split('_').str.get(0)  # get the case ID e.g. case1\n",
    "data['Algo'] = data['patID'].str.split('_').str.get(1)  # get the case ID e.g. case1"
   ]
  },
  {
   "cell_type": "code",
   "execution_count": 6,
   "metadata": {
    "collapsed": true
   },
   "outputs": [],
   "source": [
    "data = data.drop('patID', 1)  # drop the patID col"
   ]
  },
  {
   "cell_type": "code",
   "execution_count": 7,
   "metadata": {
    "collapsed": false
   },
   "outputs": [],
   "source": [
    "data = data.replace(to_replace='ribs', value='Ribs')    # Fix some lables\n",
    "data = data.replace(to_replace='skin', value='Skin')"
   ]
  },
  {
   "cell_type": "code",
   "execution_count": 8,
   "metadata": {
    "collapsed": false
   },
   "outputs": [
    {
     "data": {
      "text/plain": [
       "array(['BODY', 'GTV', 'Heart', 'Foramen', 'Oesophagus', 'Trachea',\n",
       "       'Bronchial tree', 'L Brachial plex', 'Rt Brachial plex',\n",
       "       'PTV CHEST', 'Lt_Lung', 'Rt_Lung', 'Both Lungs-ITV', 'Skin', 'ITV',\n",
       "       'Ribs', 'Both Lungs', 'Liver'], dtype=object)"
      ]
     },
     "execution_count": 8,
     "metadata": {},
     "output_type": "execute_result"
    }
   ],
   "source": [
    "data['structure'].unique()"
   ]
  },
  {
   "cell_type": "code",
   "execution_count": 9,
   "metadata": {
    "collapsed": false
   },
   "outputs": [
    {
     "data": {
      "text/html": [
       "<div>\n",
       "<table border=\"1\" class=\"dataframe\">\n",
       "  <thead>\n",
       "    <tr style=\"text-align: right;\">\n",
       "      <th></th>\n",
       "      <th>observed</th>\n",
       "      <th>metric</th>\n",
       "      <th>structure</th>\n",
       "      <th>Case</th>\n",
       "      <th>Algo</th>\n",
       "    </tr>\n",
       "  </thead>\n",
       "  <tbody>\n",
       "    <tr>\n",
       "      <th>0</th>\n",
       "      <td>25.617688</td>\n",
       "      <td>D2%</td>\n",
       "      <td>BODY</td>\n",
       "      <td>Case1</td>\n",
       "      <td>AAA</td>\n",
       "    </tr>\n",
       "    <tr>\n",
       "      <th>1</th>\n",
       "      <td>14.391388</td>\n",
       "      <td>D5%</td>\n",
       "      <td>BODY</td>\n",
       "      <td>Case1</td>\n",
       "      <td>AAA</td>\n",
       "    </tr>\n",
       "    <tr>\n",
       "      <th>2</th>\n",
       "      <td>0.426561</td>\n",
       "      <td>D50%</td>\n",
       "      <td>BODY</td>\n",
       "      <td>Case1</td>\n",
       "      <td>AAA</td>\n",
       "    </tr>\n",
       "    <tr>\n",
       "      <th>3</th>\n",
       "      <td>0.046734</td>\n",
       "      <td>D95%</td>\n",
       "      <td>BODY</td>\n",
       "      <td>Case1</td>\n",
       "      <td>AAA</td>\n",
       "    </tr>\n",
       "    <tr>\n",
       "      <th>4</th>\n",
       "      <td>0.009347</td>\n",
       "      <td>D99%</td>\n",
       "      <td>BODY</td>\n",
       "      <td>Case1</td>\n",
       "      <td>AAA</td>\n",
       "    </tr>\n",
       "  </tbody>\n",
       "</table>\n",
       "</div>"
      ],
      "text/plain": [
       "    observed metric structure   Case Algo\n",
       "0  25.617688    D2%      BODY  Case1  AAA\n",
       "1  14.391388    D5%      BODY  Case1  AAA\n",
       "2   0.426561   D50%      BODY  Case1  AAA\n",
       "3   0.046734   D95%      BODY  Case1  AAA\n",
       "4   0.009347   D99%      BODY  Case1  AAA"
      ]
     },
     "execution_count": 9,
     "metadata": {},
     "output_type": "execute_result"
    }
   ],
   "source": [
    "data.head()"
   ]
  },
  {
   "cell_type": "code",
   "execution_count": 10,
   "metadata": {
    "collapsed": false
   },
   "outputs": [
    {
     "data": {
      "text/plain": [
       "array(['Case1', 'Case5', 'Case11', 'Case12', 'Case13', 'Case14', 'Case16',\n",
       "       'Case17', 'Case22', 'Case24'], dtype=object)"
      ]
     },
     "execution_count": 10,
     "metadata": {},
     "output_type": "execute_result"
    }
   ],
   "source": [
    "data['Case'].unique()"
   ]
  },
  {
   "cell_type": "code",
   "execution_count": 11,
   "metadata": {
    "collapsed": true
   },
   "outputs": [],
   "source": [
    "data = data[data['Case'] != 'Case5']  # drop Case5\n",
    "data = data[data['Case'] != 'Case14']  # drop Case5\n",
    "data = data[data['Case'] != 'Case16']  # drop Case5\n",
    "data = data[data['Case'] != 'Case24']  # drop Case5"
   ]
  },
  {
   "cell_type": "code",
   "execution_count": 12,
   "metadata": {
    "collapsed": false
   },
   "outputs": [
    {
     "name": "stdout",
     "output_type": "stream",
     "text": [
      "number of cases is 6\n"
     ]
    },
    {
     "data": {
      "text/plain": [
       "array(['Case1', 'Case11', 'Case12', 'Case13', 'Case17', 'Case22'], dtype=object)"
      ]
     },
     "execution_count": 12,
     "metadata": {},
     "output_type": "execute_result"
    }
   ],
   "source": [
    "print('number of cases is ' + str(len(data['Case'].unique())))\n",
    "data['Case'].unique()"
   ]
  },
  {
   "cell_type": "code",
   "execution_count": 13,
   "metadata": {
    "collapsed": false
   },
   "outputs": [
    {
     "name": "stderr",
     "output_type": "stream",
     "text": [
      "/Users/robincole/anaconda3/lib/python3.5/site-packages/pandas/core/frame.py:2754: SettingWithCopyWarning: \n",
      "A value is trying to be set on a copy of a slice from a DataFrame\n",
      "\n",
      "See the caveats in the documentation: http://pandas.pydata.org/pandas-docs/stable/indexing.html#indexing-view-versus-copy\n",
      "  **kwargs)\n"
     ]
    }
   ],
   "source": [
    "AAA_df = data[data['Algo'] == 'AAA']\n",
    "AAA_df.rename(columns={'observed': 'AAA'}, inplace=True)    # rename \n",
    "AAA_df = AAA_df.drop('Algo', 1)\n",
    "#AAA_df.head()"
   ]
  },
  {
   "cell_type": "code",
   "execution_count": 14,
   "metadata": {
    "collapsed": false
   },
   "outputs": [
    {
     "name": "stderr",
     "output_type": "stream",
     "text": [
      "/Users/robincole/anaconda3/lib/python3.5/site-packages/pandas/core/frame.py:2754: SettingWithCopyWarning: \n",
      "A value is trying to be set on a copy of a slice from a DataFrame\n",
      "\n",
      "See the caveats in the documentation: http://pandas.pydata.org/pandas-docs/stable/indexing.html#indexing-view-versus-copy\n",
      "  **kwargs)\n"
     ]
    }
   ],
   "source": [
    "Dm_df = data[data['Algo'] == 'AXB']\n",
    "Dm_df.rename(columns={'observed': 'Dm'}, inplace=True)    # rename \n",
    "Dm_df = Dm_df.drop('Algo', 1)\n",
    "#Dm_df.head()"
   ]
  },
  {
   "cell_type": "code",
   "execution_count": 15,
   "metadata": {
    "collapsed": false
   },
   "outputs": [
    {
     "data": {
      "text/html": [
       "<div>\n",
       "<table border=\"1\" class=\"dataframe\">\n",
       "  <thead>\n",
       "    <tr style=\"text-align: right;\">\n",
       "      <th></th>\n",
       "      <th>Case</th>\n",
       "      <th>structure</th>\n",
       "      <th>metric</th>\n",
       "      <th>AAA</th>\n",
       "      <th>Dm</th>\n",
       "    </tr>\n",
       "  </thead>\n",
       "  <tbody>\n",
       "    <tr>\n",
       "      <th>0</th>\n",
       "      <td>Case1</td>\n",
       "      <td>BODY</td>\n",
       "      <td>D2%</td>\n",
       "      <td>25.617688</td>\n",
       "      <td>25.442482</td>\n",
       "    </tr>\n",
       "    <tr>\n",
       "      <th>1</th>\n",
       "      <td>Case1</td>\n",
       "      <td>BODY</td>\n",
       "      <td>D5%</td>\n",
       "      <td>14.391388</td>\n",
       "      <td>14.256952</td>\n",
       "    </tr>\n",
       "    <tr>\n",
       "      <th>2</th>\n",
       "      <td>Case1</td>\n",
       "      <td>BODY</td>\n",
       "      <td>D50%</td>\n",
       "      <td>0.426561</td>\n",
       "      <td>0.395687</td>\n",
       "    </tr>\n",
       "    <tr>\n",
       "      <th>3</th>\n",
       "      <td>Case1</td>\n",
       "      <td>BODY</td>\n",
       "      <td>D95%</td>\n",
       "      <td>0.046734</td>\n",
       "      <td>0.065460</td>\n",
       "    </tr>\n",
       "    <tr>\n",
       "      <th>4</th>\n",
       "      <td>Case1</td>\n",
       "      <td>BODY</td>\n",
       "      <td>D99%</td>\n",
       "      <td>0.009347</td>\n",
       "      <td>0.022070</td>\n",
       "    </tr>\n",
       "  </tbody>\n",
       "</table>\n",
       "</div>"
      ],
      "text/plain": [
       "    Case structure metric        AAA         Dm\n",
       "0  Case1      BODY    D2%  25.617688  25.442482\n",
       "1  Case1      BODY    D5%  14.391388  14.256952\n",
       "2  Case1      BODY   D50%   0.426561   0.395687\n",
       "3  Case1      BODY   D95%   0.046734   0.065460\n",
       "4  Case1      BODY   D99%   0.009347   0.022070"
      ]
     },
     "execution_count": 15,
     "metadata": {},
     "output_type": "execute_result"
    }
   ],
   "source": [
    "AAA_Dm_data = pd.merge(AAA_df, Dm_df, how='inner', on=['metric', 'Case', 'structure'])  # Get merged set\n",
    "AAA_Dm_data = AAA_Dm_data[['Case', 'structure', 'metric', 'AAA', 'Dm']]   # rearrange  \n",
    "AAA_Dm_data.head()"
   ]
  },
  {
   "cell_type": "code",
   "execution_count": 16,
   "metadata": {
    "collapsed": false
   },
   "outputs": [],
   "source": [
    "AAA_Dm_data['Dm-AAA'] = AAA_Dm_data.Dm - AAA_Dm_data.AAA"
   ]
  },
  {
   "cell_type": "code",
   "execution_count": 17,
   "metadata": {
    "collapsed": false
   },
   "outputs": [
    {
     "data": {
      "text/html": [
       "<div>\n",
       "<table border=\"1\" class=\"dataframe\">\n",
       "  <thead>\n",
       "    <tr style=\"text-align: right;\">\n",
       "      <th></th>\n",
       "      <th>Case</th>\n",
       "      <th>structure</th>\n",
       "      <th>metric</th>\n",
       "      <th>AAA</th>\n",
       "      <th>Dm</th>\n",
       "      <th>Dm-AAA</th>\n",
       "    </tr>\n",
       "  </thead>\n",
       "  <tbody>\n",
       "    <tr>\n",
       "      <th>0</th>\n",
       "      <td>Case1</td>\n",
       "      <td>BODY</td>\n",
       "      <td>D2%</td>\n",
       "      <td>25.617688</td>\n",
       "      <td>25.442482</td>\n",
       "      <td>-0.175206</td>\n",
       "    </tr>\n",
       "    <tr>\n",
       "      <th>1</th>\n",
       "      <td>Case1</td>\n",
       "      <td>BODY</td>\n",
       "      <td>D5%</td>\n",
       "      <td>14.391388</td>\n",
       "      <td>14.256952</td>\n",
       "      <td>-0.134436</td>\n",
       "    </tr>\n",
       "    <tr>\n",
       "      <th>2</th>\n",
       "      <td>Case1</td>\n",
       "      <td>BODY</td>\n",
       "      <td>D50%</td>\n",
       "      <td>0.426561</td>\n",
       "      <td>0.395687</td>\n",
       "      <td>-0.030874</td>\n",
       "    </tr>\n",
       "    <tr>\n",
       "      <th>3</th>\n",
       "      <td>Case1</td>\n",
       "      <td>BODY</td>\n",
       "      <td>D95%</td>\n",
       "      <td>0.046734</td>\n",
       "      <td>0.065460</td>\n",
       "      <td>0.018727</td>\n",
       "    </tr>\n",
       "    <tr>\n",
       "      <th>4</th>\n",
       "      <td>Case1</td>\n",
       "      <td>BODY</td>\n",
       "      <td>D99%</td>\n",
       "      <td>0.009347</td>\n",
       "      <td>0.022070</td>\n",
       "      <td>0.012723</td>\n",
       "    </tr>\n",
       "  </tbody>\n",
       "</table>\n",
       "</div>"
      ],
      "text/plain": [
       "    Case structure metric        AAA         Dm    Dm-AAA\n",
       "0  Case1      BODY    D2%  25.617688  25.442482 -0.175206\n",
       "1  Case1      BODY    D5%  14.391388  14.256952 -0.134436\n",
       "2  Case1      BODY   D50%   0.426561   0.395687 -0.030874\n",
       "3  Case1      BODY   D95%   0.046734   0.065460  0.018727\n",
       "4  Case1      BODY   D99%   0.009347   0.022070  0.012723"
      ]
     },
     "execution_count": 17,
     "metadata": {},
     "output_type": "execute_result"
    }
   ],
   "source": [
    "AAA_Dm_data.head()"
   ]
  },
  {
   "cell_type": "markdown",
   "metadata": {},
   "source": [
    "## Start analysis"
   ]
  },
  {
   "cell_type": "code",
   "execution_count": 18,
   "metadata": {
    "collapsed": false
   },
   "outputs": [
    {
     "data": {
      "text/plain": [
       "array(['Case1', 'Case11', 'Case12', 'Case13', 'Case17', 'Case22'], dtype=object)"
      ]
     },
     "execution_count": 18,
     "metadata": {},
     "output_type": "execute_result"
    }
   ],
   "source": [
    "AAA_Dm_data['Case'].unique()"
   ]
  },
  {
   "cell_type": "code",
   "execution_count": 19,
   "metadata": {
    "collapsed": false
   },
   "outputs": [
    {
     "data": {
      "text/plain": [
       "array(['BODY', 'GTV', 'Heart', 'Foramen', 'Oesophagus', 'Trachea',\n",
       "       'Bronchial tree', 'L Brachial plex', 'Rt Brachial plex',\n",
       "       'PTV CHEST', 'Lt_Lung', 'Rt_Lung', 'Both Lungs-ITV', 'Skin', 'ITV',\n",
       "       'Ribs', 'Both Lungs', 'Liver'], dtype=object)"
      ]
     },
     "execution_count": 19,
     "metadata": {},
     "output_type": "execute_result"
    }
   ],
   "source": [
    "AAA_Dm_data['structure'].unique()"
   ]
  },
  {
   "cell_type": "code",
   "execution_count": 20,
   "metadata": {
    "collapsed": false
   },
   "outputs": [],
   "source": [
    "# AAA_Dm_data[AAA_Dm_data['structure'] == 'Heart']"
   ]
  },
  {
   "cell_type": "code",
   "execution_count": 21,
   "metadata": {
    "collapsed": false
   },
   "outputs": [
    {
     "data": {
      "text/plain": [
       "array(['D2%', 'D5%', 'D50%', 'D95%', 'D99%', 'D1CC', 'D0.1CC', 'DMAX',\n",
       "       'DSD', 'DRX', 'DHI'], dtype=object)"
      ]
     },
     "execution_count": 21,
     "metadata": {},
     "output_type": "execute_result"
    }
   ],
   "source": [
    "AAA_Dm_data['metric'].unique()"
   ]
  },
  {
   "cell_type": "code",
   "execution_count": 22,
   "metadata": {
    "collapsed": true
   },
   "outputs": [],
   "source": [
    "# Single metric"
   ]
  },
  {
   "cell_type": "code",
   "execution_count": 23,
   "metadata": {
    "collapsed": false
   },
   "outputs": [
    {
     "name": "stderr",
     "output_type": "stream",
     "text": [
      "/Users/robincole/anaconda3/lib/python3.5/site-packages/scipy/stats/morestats.py:2384: UserWarning: Warning: sample size too small for normal approximation.\n",
      "  warnings.warn(\"Warning: sample size too small for normal approximation.\")\n"
     ]
    },
    {
     "data": {
      "image/png": "[encoded data removed]",
      "text/plain": [
       "<matplotlib.figure.Figure at 0x1150647f0>"
      ]
     },
     "metadata": {},
     "output_type": "display_data"
    }
   ],
   "source": [
    "#structure = 'ITV'\n",
    "#structure = 'Heart'\n",
    "structure = structure = 'Oesophagus'\n",
    "#structure = structure = 'Foramen'\n",
    "metric = 'D0.1CC'\n",
    "plt.figure(figsize=(5, 4)) \n",
    "bland_altman_plot2(AAA_Dm_data, structure, metric)\n",
    "plt.show()"
   ]
  },
  {
   "cell_type": "code",
   "execution_count": 24,
   "metadata": {
    "collapsed": false
   },
   "outputs": [
    {
     "data": {
      "text/html": [
       "<div>\n",
       "<table border=\"1\" class=\"dataframe\">\n",
       "  <thead>\n",
       "    <tr style=\"text-align: right;\">\n",
       "      <th></th>\n",
       "      <th>Case</th>\n",
       "      <th>structure</th>\n",
       "      <th>metric</th>\n",
       "      <th>AAA</th>\n",
       "      <th>Dm</th>\n",
       "      <th>Dm-AAA</th>\n",
       "    </tr>\n",
       "  </thead>\n",
       "  <tbody>\n",
       "    <tr>\n",
       "      <th>50</th>\n",
       "      <td>Case1</td>\n",
       "      <td>Oesophagus</td>\n",
       "      <td>D0.1CC</td>\n",
       "      <td>14.759799</td>\n",
       "      <td>14.456236</td>\n",
       "      <td>-0.303563</td>\n",
       "    </tr>\n",
       "    <tr>\n",
       "      <th>204</th>\n",
       "      <td>Case11</td>\n",
       "      <td>Oesophagus</td>\n",
       "      <td>D0.1CC</td>\n",
       "      <td>11.762174</td>\n",
       "      <td>11.551391</td>\n",
       "      <td>-0.210783</td>\n",
       "    </tr>\n",
       "    <tr>\n",
       "      <th>358</th>\n",
       "      <td>Case12</td>\n",
       "      <td>Oesophagus</td>\n",
       "      <td>D0.1CC</td>\n",
       "      <td>20.064096</td>\n",
       "      <td>19.778916</td>\n",
       "      <td>-0.285180</td>\n",
       "    </tr>\n",
       "    <tr>\n",
       "      <th>501</th>\n",
       "      <td>Case13</td>\n",
       "      <td>Oesophagus</td>\n",
       "      <td>D0.1CC</td>\n",
       "      <td>12.531614</td>\n",
       "      <td>12.354175</td>\n",
       "      <td>-0.177439</td>\n",
       "    </tr>\n",
       "    <tr>\n",
       "      <th>666</th>\n",
       "      <td>Case17</td>\n",
       "      <td>Oesophagus</td>\n",
       "      <td>D0.1CC</td>\n",
       "      <td>8.112150</td>\n",
       "      <td>7.872991</td>\n",
       "      <td>-0.239158</td>\n",
       "    </tr>\n",
       "    <tr>\n",
       "      <th>820</th>\n",
       "      <td>Case22</td>\n",
       "      <td>Oesophagus</td>\n",
       "      <td>D0.1CC</td>\n",
       "      <td>7.077255</td>\n",
       "      <td>6.907653</td>\n",
       "      <td>-0.169603</td>\n",
       "    </tr>\n",
       "  </tbody>\n",
       "</table>\n",
       "</div>"
      ],
      "text/plain": [
       "       Case   structure  metric        AAA         Dm    Dm-AAA\n",
       "50    Case1  Oesophagus  D0.1CC  14.759799  14.456236 -0.303563\n",
       "204  Case11  Oesophagus  D0.1CC  11.762174  11.551391 -0.210783\n",
       "358  Case12  Oesophagus  D0.1CC  20.064096  19.778916 -0.285180\n",
       "501  Case13  Oesophagus  D0.1CC  12.531614  12.354175 -0.177439\n",
       "666  Case17  Oesophagus  D0.1CC   8.112150   7.872991 -0.239158\n",
       "820  Case22  Oesophagus  D0.1CC   7.077255   6.907653 -0.169603"
      ]
     },
     "execution_count": 24,
     "metadata": {},
     "output_type": "execute_result"
    }
   ],
   "source": [
    "df = AAA_Dm_data[(AAA_Dm_data['structure'] == structure) & (AAA_Dm_data['metric'] == metric)]\n",
    "df "
   ]
  },
  {
   "cell_type": "markdown",
   "metadata": {},
   "source": [
    "## Mean differences"
   ]
  },
  {
   "cell_type": "code",
   "execution_count": 25,
   "metadata": {
    "collapsed": true
   },
   "outputs": [],
   "source": [
    "mean_diff_table = AAA_Dm_data.groupby(['structure', 'metric'],as_index=False).mean().pivot(index='structure', columns='metric', values='Dm-AAA')"
   ]
  },
  {
   "cell_type": "code",
   "execution_count": 26,
   "metadata": {
    "collapsed": false
   },
   "outputs": [],
   "source": [
    "structures_of_interest = ['PTV CHEST','ITV','Foramen', 'Oesophagus', 'L Brachial plex', 'Rt Brachial plex', 'Heart', 'Trachea','Bronchial tree', 'Ribs', 'Liver', 'Skin']  # 'Oesophagus', 'Heart', 'GTV', 'Liver', 'Trachea', 'Bronchial tree',\n",
    "metrics_of_interest  =  ['DMAX', 'D0.1CC', 'D1CC', 'D5%', 'D50%', 'D95%', 'D99%', 'DHI']"
   ]
  },
  {
   "cell_type": "code",
   "execution_count": 27,
   "metadata": {
    "collapsed": true
   },
   "outputs": [],
   "source": [
    "i = len(structures_of_interest)\n",
    "j = len(metrics_of_interest)\n",
    "wilcox_data = np.zeros((i,j))  # init an empty array"
   ]
  },
  {
   "cell_type": "code",
   "execution_count": 28,
   "metadata": {
    "collapsed": true
   },
   "outputs": [],
   "source": [
    "sub_diff_table = mean_diff_table[metrics_of_interest].loc[structures_of_interest]"
   ]
  },
  {
   "cell_type": "code",
   "execution_count": 29,
   "metadata": {
    "collapsed": false
   },
   "outputs": [
    {
     "data": {
      "text/html": [
       "<div>\n",
       "<table border=\"1\" class=\"dataframe\">\n",
       "  <thead>\n",
       "    <tr style=\"text-align: right;\">\n",
       "      <th>metric</th>\n",
       "      <th>DMAX</th>\n",
       "      <th>D0.1CC</th>\n",
       "      <th>D1CC</th>\n",
       "      <th>D5%</th>\n",
       "      <th>D50%</th>\n",
       "      <th>D95%</th>\n",
       "      <th>D99%</th>\n",
       "      <th>DHI</th>\n",
       "    </tr>\n",
       "    <tr>\n",
       "      <th>structure</th>\n",
       "      <th></th>\n",
       "      <th></th>\n",
       "      <th></th>\n",
       "      <th></th>\n",
       "      <th></th>\n",
       "      <th></th>\n",
       "      <th></th>\n",
       "      <th></th>\n",
       "    </tr>\n",
       "  </thead>\n",
       "  <tbody>\n",
       "    <tr>\n",
       "      <th>PTV CHEST</th>\n",
       "      <td>0.962500</td>\n",
       "      <td>0.535300</td>\n",
       "      <td>0.497390</td>\n",
       "      <td>0.417288</td>\n",
       "      <td>0.380172</td>\n",
       "      <td>-0.331874</td>\n",
       "      <td>-0.678363</td>\n",
       "      <td>0.014311</td>\n",
       "    </tr>\n",
       "    <tr>\n",
       "      <th>ITV</th>\n",
       "      <td>0.962500</td>\n",
       "      <td>0.430529</td>\n",
       "      <td>0.445857</td>\n",
       "      <td>0.472842</td>\n",
       "      <td>0.049686</td>\n",
       "      <td>-0.118558</td>\n",
       "      <td>-0.243105</td>\n",
       "      <td>0.010255</td>\n",
       "    </tr>\n",
       "    <tr>\n",
       "      <th>Foramen</th>\n",
       "      <td>-0.440000</td>\n",
       "      <td>-0.391448</td>\n",
       "      <td>-0.335099</td>\n",
       "      <td>-0.317831</td>\n",
       "      <td>-0.086760</td>\n",
       "      <td>0.015619</td>\n",
       "      <td>0.014504</td>\n",
       "      <td>0.444132</td>\n",
       "    </tr>\n",
       "    <tr>\n",
       "      <th>Oesophagus</th>\n",
       "      <td>-0.302500</td>\n",
       "      <td>-0.230954</td>\n",
       "      <td>-0.167826</td>\n",
       "      <td>-0.152392</td>\n",
       "      <td>-0.016565</td>\n",
       "      <td>0.017859</td>\n",
       "      <td>0.005248</td>\n",
       "      <td>0.113066</td>\n",
       "    </tr>\n",
       "    <tr>\n",
       "      <th>L Brachial plex</th>\n",
       "      <td>-0.018333</td>\n",
       "      <td>-10.457870</td>\n",
       "      <td>-1.080505</td>\n",
       "      <td>-2.726976</td>\n",
       "      <td>3.265170</td>\n",
       "      <td>0.016254</td>\n",
       "      <td>0.011402</td>\n",
       "      <td>-53.142476</td>\n",
       "    </tr>\n",
       "    <tr>\n",
       "      <th>Rt Brachial plex</th>\n",
       "      <td>-0.055000</td>\n",
       "      <td>64.028326</td>\n",
       "      <td>5.693233</td>\n",
       "      <td>58.194819</td>\n",
       "      <td>-0.050217</td>\n",
       "      <td>-0.018292</td>\n",
       "      <td>-0.003882</td>\n",
       "      <td>322.531841</td>\n",
       "    </tr>\n",
       "    <tr>\n",
       "      <th>Heart</th>\n",
       "      <td>0.036667</td>\n",
       "      <td>-0.024596</td>\n",
       "      <td>-0.097415</td>\n",
       "      <td>-0.172987</td>\n",
       "      <td>-0.026547</td>\n",
       "      <td>0.023818</td>\n",
       "      <td>0.035890</td>\n",
       "      <td>-0.049395</td>\n",
       "    </tr>\n",
       "    <tr>\n",
       "      <th>Trachea</th>\n",
       "      <td>-0.009167</td>\n",
       "      <td>3.418018</td>\n",
       "      <td>1.480063</td>\n",
       "      <td>-0.026516</td>\n",
       "      <td>-0.010435</td>\n",
       "      <td>0.010629</td>\n",
       "      <td>0.023563</td>\n",
       "      <td>54.484365</td>\n",
       "    </tr>\n",
       "    <tr>\n",
       "      <th>Bronchial tree</th>\n",
       "      <td>-0.009167</td>\n",
       "      <td>0.018136</td>\n",
       "      <td>-0.021928</td>\n",
       "      <td>0.000219</td>\n",
       "      <td>-0.014867</td>\n",
       "      <td>-0.101999</td>\n",
       "      <td>-0.078832</td>\n",
       "      <td>0.167207</td>\n",
       "    </tr>\n",
       "    <tr>\n",
       "      <th>Ribs</th>\n",
       "      <td>0.284167</td>\n",
       "      <td>0.174593</td>\n",
       "      <td>-0.282314</td>\n",
       "      <td>-0.281691</td>\n",
       "      <td>-0.068635</td>\n",
       "      <td>-0.029959</td>\n",
       "      <td>-0.017929</td>\n",
       "      <td>0.480527</td>\n",
       "    </tr>\n",
       "    <tr>\n",
       "      <th>Liver</th>\n",
       "      <td>0.220000</td>\n",
       "      <td>-0.849949</td>\n",
       "      <td>-0.321644</td>\n",
       "      <td>-0.012604</td>\n",
       "      <td>0.044248</td>\n",
       "      <td>0.012746</td>\n",
       "      <td>-0.004438</td>\n",
       "      <td>-1.012651</td>\n",
       "    </tr>\n",
       "    <tr>\n",
       "      <th>Skin</th>\n",
       "      <td>0.229167</td>\n",
       "      <td>0.000815</td>\n",
       "      <td>0.000510</td>\n",
       "      <td>0.509265</td>\n",
       "      <td>-0.028413</td>\n",
       "      <td>0.006456</td>\n",
       "      <td>0.001291</td>\n",
       "      <td>11.977151</td>\n",
       "    </tr>\n",
       "  </tbody>\n",
       "</table>\n",
       "</div>"
      ],
      "text/plain": [
       "metric                DMAX     D0.1CC      D1CC        D5%      D50%  \\\n",
       "structure                                                              \n",
       "PTV CHEST         0.962500   0.535300  0.497390   0.417288  0.380172   \n",
       "ITV               0.962500   0.430529  0.445857   0.472842  0.049686   \n",
       "Foramen          -0.440000  -0.391448 -0.335099  -0.317831 -0.086760   \n",
       "Oesophagus       -0.302500  -0.230954 -0.167826  -0.152392 -0.016565   \n",
       "L Brachial plex  -0.018333 -10.457870 -1.080505  -2.726976  3.265170   \n",
       "Rt Brachial plex -0.055000  64.028326  5.693233  58.194819 -0.050217   \n",
       "Heart             0.036667  -0.024596 -0.097415  -0.172987 -0.026547   \n",
       "Trachea          -0.009167   3.418018  1.480063  -0.026516 -0.010435   \n",
       "Bronchial tree   -0.009167   0.018136 -0.021928   0.000219 -0.014867   \n",
       "Ribs              0.284167   0.174593 -0.282314  -0.281691 -0.068635   \n",
       "Liver             0.220000  -0.849949 -0.321644  -0.012604  0.044248   \n",
       "Skin              0.229167   0.000815  0.000510   0.509265 -0.028413   \n",
       "\n",
       "metric                D95%      D99%         DHI  \n",
       "structure                                         \n",
       "PTV CHEST        -0.331874 -0.678363    0.014311  \n",
       "ITV              -0.118558 -0.243105    0.010255  \n",
       "Foramen           0.015619  0.014504    0.444132  \n",
       "Oesophagus        0.017859  0.005248    0.113066  \n",
       "L Brachial plex   0.016254  0.011402  -53.142476  \n",
       "Rt Brachial plex -0.018292 -0.003882  322.531841  \n",
       "Heart             0.023818  0.035890   -0.049395  \n",
       "Trachea           0.010629  0.023563   54.484365  \n",
       "Bronchial tree   -0.101999 -0.078832    0.167207  \n",
       "Ribs             -0.029959 -0.017929    0.480527  \n",
       "Liver             0.012746 -0.004438   -1.012651  \n",
       "Skin              0.006456  0.001291   11.977151  "
      ]
     },
     "execution_count": 29,
     "metadata": {},
     "output_type": "execute_result"
    }
   ],
   "source": [
    "sub_diff_table"
   ]
  },
  {
   "cell_type": "code",
   "execution_count": 30,
   "metadata": {
    "collapsed": false
   },
   "outputs": [
    {
     "name": "stderr",
     "output_type": "stream",
     "text": [
      "/Users/robincole/anaconda3/lib/python3.5/site-packages/scipy/stats/morestats.py:2384: UserWarning: Warning: sample size too small for normal approximation.\n",
      "  warnings.warn(\"Warning: sample size too small for normal approximation.\")\n"
     ]
    }
   ],
   "source": [
    "d = AAA_Dm_data  # for convenience just copy\n",
    "\n",
    "j = 0\n",
    "for structure in structures_of_interest:\n",
    "    i = 0\n",
    "    for metric in metrics_of_interest:\n",
    "        A =  d[(d['structure'] == structure) & (d['metric'] == metric)]\n",
    "        D =  A['Dm-AAA']\n",
    "        #wilcox_data[j][i] = my_wilcox(D.values)\n",
    "        z_stat, p_val = wilcoxon(D.values)\n",
    "        wilcox_data[j][i] = p_val\n",
    "        i = i + 1\n",
    "    j = j+ 1"
   ]
  },
  {
   "cell_type": "code",
   "execution_count": 31,
   "metadata": {
    "collapsed": true
   },
   "outputs": [],
   "source": [
    "wilcox_data_df = pd.DataFrame(data=wilcox_data,    # values\n",
    "...              index=structures_of_interest,    # 1st column as index\n",
    "...              columns=metrics_of_interest)  # 1st row as the column names"
   ]
  },
  {
   "cell_type": "code",
   "execution_count": 32,
   "metadata": {
    "collapsed": false
   },
   "outputs": [
    {
     "data": {
      "text/html": [
       "<div>\n",
       "<table border=\"1\" class=\"dataframe\">\n",
       "  <thead>\n",
       "    <tr style=\"text-align: right;\">\n",
       "      <th></th>\n",
       "      <th>DMAX</th>\n",
       "      <th>D0.1CC</th>\n",
       "      <th>D1CC</th>\n",
       "      <th>D5%</th>\n",
       "      <th>D50%</th>\n",
       "      <th>D95%</th>\n",
       "      <th>D99%</th>\n",
       "      <th>DHI</th>\n",
       "    </tr>\n",
       "  </thead>\n",
       "  <tbody>\n",
       "    <tr>\n",
       "      <th>PTV CHEST</th>\n",
       "      <td>0.115851</td>\n",
       "      <td>0.248864</td>\n",
       "      <td>0.074735</td>\n",
       "      <td>0.172955</td>\n",
       "      <td>0.046399</td>\n",
       "      <td>0.248864</td>\n",
       "      <td>0.027708</td>\n",
       "      <td>0.027708</td>\n",
       "    </tr>\n",
       "    <tr>\n",
       "      <th>ITV</th>\n",
       "      <td>0.115851</td>\n",
       "      <td>0.345448</td>\n",
       "      <td>0.115851</td>\n",
       "      <td>0.074735</td>\n",
       "      <td>0.463071</td>\n",
       "      <td>0.600179</td>\n",
       "      <td>0.753152</td>\n",
       "      <td>0.115851</td>\n",
       "    </tr>\n",
       "    <tr>\n",
       "      <th>Foramen</th>\n",
       "      <td>0.027281</td>\n",
       "      <td>0.027708</td>\n",
       "      <td>0.027708</td>\n",
       "      <td>0.027708</td>\n",
       "      <td>0.027708</td>\n",
       "      <td>0.248864</td>\n",
       "      <td>0.172955</td>\n",
       "      <td>0.600179</td>\n",
       "    </tr>\n",
       "    <tr>\n",
       "      <th>Oesophagus</th>\n",
       "      <td>0.027708</td>\n",
       "      <td>0.027708</td>\n",
       "      <td>0.027708</td>\n",
       "      <td>0.027708</td>\n",
       "      <td>0.074735</td>\n",
       "      <td>0.172955</td>\n",
       "      <td>0.248864</td>\n",
       "      <td>0.600179</td>\n",
       "    </tr>\n",
       "    <tr>\n",
       "      <th>L Brachial plex</th>\n",
       "      <td>0.461451</td>\n",
       "      <td>0.916512</td>\n",
       "      <td>0.600179</td>\n",
       "      <td>0.600179</td>\n",
       "      <td>0.600179</td>\n",
       "      <td>0.600179</td>\n",
       "      <td>0.345448</td>\n",
       "      <td>0.753152</td>\n",
       "    </tr>\n",
       "    <tr>\n",
       "      <th>Rt Brachial plex</th>\n",
       "      <td>0.317311</td>\n",
       "      <td>0.317311</td>\n",
       "      <td>0.317311</td>\n",
       "      <td>0.317311</td>\n",
       "      <td>0.317311</td>\n",
       "      <td>0.317311</td>\n",
       "      <td>0.317311</td>\n",
       "      <td>0.317311</td>\n",
       "    </tr>\n",
       "    <tr>\n",
       "      <th>Heart</th>\n",
       "      <td>0.498225</td>\n",
       "      <td>0.916512</td>\n",
       "      <td>0.345448</td>\n",
       "      <td>0.046399</td>\n",
       "      <td>0.248864</td>\n",
       "      <td>0.248864</td>\n",
       "      <td>0.046399</td>\n",
       "      <td>0.753152</td>\n",
       "    </tr>\n",
       "    <tr>\n",
       "      <th>Trachea</th>\n",
       "      <td>0.528233</td>\n",
       "      <td>0.753152</td>\n",
       "      <td>0.345448</td>\n",
       "      <td>0.074735</td>\n",
       "      <td>0.248864</td>\n",
       "      <td>0.345448</td>\n",
       "      <td>0.248864</td>\n",
       "      <td>0.345448</td>\n",
       "    </tr>\n",
       "    <tr>\n",
       "      <th>Bronchial tree</th>\n",
       "      <td>0.685830</td>\n",
       "      <td>0.463071</td>\n",
       "      <td>0.345448</td>\n",
       "      <td>0.753152</td>\n",
       "      <td>0.600179</td>\n",
       "      <td>0.046399</td>\n",
       "      <td>0.046399</td>\n",
       "      <td>0.115851</td>\n",
       "    </tr>\n",
       "    <tr>\n",
       "      <th>Ribs</th>\n",
       "      <td>0.463071</td>\n",
       "      <td>0.753152</td>\n",
       "      <td>0.172955</td>\n",
       "      <td>0.027708</td>\n",
       "      <td>0.046399</td>\n",
       "      <td>0.115851</td>\n",
       "      <td>0.074735</td>\n",
       "      <td>0.074735</td>\n",
       "    </tr>\n",
       "    <tr>\n",
       "      <th>Liver</th>\n",
       "      <td>0.317311</td>\n",
       "      <td>0.317311</td>\n",
       "      <td>0.317311</td>\n",
       "      <td>0.317311</td>\n",
       "      <td>0.317311</td>\n",
       "      <td>0.317311</td>\n",
       "      <td>0.317311</td>\n",
       "      <td>0.317311</td>\n",
       "    </tr>\n",
       "    <tr>\n",
       "      <th>Skin</th>\n",
       "      <td>0.528233</td>\n",
       "      <td>0.916512</td>\n",
       "      <td>0.753152</td>\n",
       "      <td>0.027708</td>\n",
       "      <td>0.027708</td>\n",
       "      <td>0.027708</td>\n",
       "      <td>0.027708</td>\n",
       "      <td>0.027708</td>\n",
       "    </tr>\n",
       "  </tbody>\n",
       "</table>\n",
       "</div>"
      ],
      "text/plain": [
       "                      DMAX    D0.1CC      D1CC       D5%      D50%      D95%  \\\n",
       "PTV CHEST         0.115851  0.248864  0.074735  0.172955  0.046399  0.248864   \n",
       "ITV               0.115851  0.345448  0.115851  0.074735  0.463071  0.600179   \n",
       "Foramen           0.027281  0.027708  0.027708  0.027708  0.027708  0.248864   \n",
       "Oesophagus        0.027708  0.027708  0.027708  0.027708  0.074735  0.172955   \n",
       "L Brachial plex   0.461451  0.916512  0.600179  0.600179  0.600179  0.600179   \n",
       "Rt Brachial plex  0.317311  0.317311  0.317311  0.317311  0.317311  0.317311   \n",
       "Heart             0.498225  0.916512  0.345448  0.046399  0.248864  0.248864   \n",
       "Trachea           0.528233  0.753152  0.345448  0.074735  0.248864  0.345448   \n",
       "Bronchial tree    0.685830  0.463071  0.345448  0.753152  0.600179  0.046399   \n",
       "Ribs              0.463071  0.753152  0.172955  0.027708  0.046399  0.115851   \n",
       "Liver             0.317311  0.317311  0.317311  0.317311  0.317311  0.317311   \n",
       "Skin              0.528233  0.916512  0.753152  0.027708  0.027708  0.027708   \n",
       "\n",
       "                      D99%       DHI  \n",
       "PTV CHEST         0.027708  0.027708  \n",
       "ITV               0.753152  0.115851  \n",
       "Foramen           0.172955  0.600179  \n",
       "Oesophagus        0.248864  0.600179  \n",
       "L Brachial plex   0.345448  0.753152  \n",
       "Rt Brachial plex  0.317311  0.317311  \n",
       "Heart             0.046399  0.753152  \n",
       "Trachea           0.248864  0.345448  \n",
       "Bronchial tree    0.046399  0.115851  \n",
       "Ribs              0.074735  0.074735  \n",
       "Liver             0.317311  0.317311  \n",
       "Skin              0.027708  0.027708  "
      ]
     },
     "execution_count": 32,
     "metadata": {},
     "output_type": "execute_result"
    }
   ],
   "source": [
    "wilcox_data_df"
   ]
  },
  {
   "cell_type": "markdown",
   "metadata": {},
   "source": [
    "Colour mapping options on http://matplotlib.org/examples/color/colormaps_reference.html"
   ]
  },
  {
   "cell_type": "code",
   "execution_count": 33,
   "metadata": {
    "collapsed": false,
    "scrolled": true
   },
   "outputs": [
    {
     "data": {
      "image/png": "[encoded data removed]",
      "text/plain": [
       "<matplotlib.figure.Figure at 0x11504dda0>"
      ]
     },
     "metadata": {},
     "output_type": "display_data"
    }
   ],
   "source": [
    "plt.figure(figsize=(9, 5))  \n",
    "data = sub_diff_table[wilcox_data_df<0.05]\n",
    "\n",
    "ax3 = sns.heatmap(data, annot=True, linewidths=.5, center=0, vmin = -1.1, vmax = 1.1, cmap='PRGn') #  mask=mask,\n",
    "ax3.set_title('Significant (p<0.05) mean dose differences AXB-AAA (Gy) by metric', size='large');\n",
    "plt.savefig('Lung_wilcox.png')"
   ]
  },
  {
   "cell_type": "markdown",
   "metadata": {
    "collapsed": true
   },
   "source": [
    "## Corr matrix\n",
    "\n",
    "Plot the correlation matrix of dose differences between structures"
   ]
  },
  {
   "cell_type": "code",
   "execution_count": 53,
   "metadata": {
    "collapsed": false
   },
   "outputs": [
    {
     "data": {
      "text/plain": [
       "0.85189643675399362"
      ]
     },
     "execution_count": 53,
     "metadata": {},
     "output_type": "execute_result"
    },
    {
     "data": {
      "image/png": "[encoded data removed]",
      "text/plain": [
       "<matplotlib.figure.Figure at 0x11542ddd8>"
      ]
     },
     "metadata": {},
     "output_type": "display_data"
    }
   ],
   "source": [
    "structure1 = 'PTV CHEST'\n",
    "metric = 'D50%'\n",
    "data1 = query_data(AAA_Dm_data, 'Dm-AAA', structure1, metric).values\n",
    "\n",
    "\n",
    "structure2 = 'Oesophagus'\n",
    "data2 = query_data(AAA_Dm_data, 'Dm-AAA', structure2, metric).values\n",
    "\n",
    "plt.scatter(data1, data2)\n",
    "plt.xlabel(structure1)\n",
    "plt.ylabel(structure2)\n",
    "\n",
    "np.corrcoef(data1, data2)[0,1]  # print the correlation coeff"
   ]
  },
  {
   "cell_type": "code",
   "execution_count": 81,
   "metadata": {
    "collapsed": false
   },
   "outputs": [
    {
     "data": {
      "text/plain": [
       "0.21721217119259778"
      ]
     },
     "execution_count": 81,
     "metadata": {},
     "output_type": "execute_result"
    }
   ],
   "source": [
    "def corr_coeff(structure1, structure2, metric):\n",
    "    data1 = query_data(AAA_Dm_data, 'Dm-AAA', structure1, metric).values\n",
    "    data2 = query_data(AAA_Dm_data, 'Dm-AAA', structure2, metric).values\n",
    "    return np.corrcoef(data1, data2)[0,1]  # print the correlation coeff\n",
    "\n",
    "a = corr_coeff(structure1 = 'PTV CHEST', structure2 = 'Skin', metric = 'D50%')\n",
    "a"
   ]
  },
  {
   "cell_type": "code",
   "execution_count": 90,
   "metadata": {
    "collapsed": false
   },
   "outputs": [],
   "source": [
    "structures_of_interest = ['PTV CHEST','ITV','Foramen', 'Oesophagus','Heart', 'Trachea','Bronchial tree', 'Ribs', 'Skin']  # Don't have complete data for all structures \n",
    "\n",
    "i = len(structures_of_interest)\n",
    "j = i\n",
    "corr_data = np.zeros((i,j))  # init an empty array\n",
    "metric = 'DMAX'\n",
    "\n",
    "j = 0\n",
    "for structure1 in structures_of_interest:\n",
    "    i = 0\n",
    "    for structure2 in structures_of_interest:\n",
    "        data1 = query_data(AAA_Dm_data, 'Dm-AAA', structure1, metric).values\n",
    "        data2 = query_data(AAA_Dm_data, 'Dm-AAA', structure2, metric).values\n",
    "        # print(str(coeff) + structure1 + ':' + str(len(data1)) + structure2 + ':' + str(len(data2)))\n",
    "        coeff = np.corrcoef(data1, data2)[0,1] \n",
    "        corr_data[j][i] = coeff\n",
    "       # print(structure1 + ':' + structure2)\n",
    "    \n",
    "        i = i + 1\n",
    "    j = j+ 1\n",
    "    \n",
    "corr_data_df = pd.DataFrame(data=corr_data, index=structures_of_interest, columns=structures_of_interest)  # 1st row as the column names"
   ]
  },
  {
   "cell_type": "code",
   "execution_count": 91,
   "metadata": {
    "collapsed": false
   },
   "outputs": [],
   "source": [
    "# corr_data_df\n",
    "\n",
    "mask = np.zeros_like(corr_data, dtype=np.bool)\n",
    "mask[np.triu_indices_from(mask)] = True"
   ]
  },
  {
   "cell_type": "code",
   "execution_count": 92,
   "metadata": {
    "collapsed": false
   },
   "outputs": [
    {
     "data": {
      "text/plain": [
       "<matplotlib.text.Text at 0x116e230b8>"
      ]
     },
     "execution_count": 92,
     "metadata": {},
     "output_type": "execute_result"
    },
    {
     "data": {
      "image/png": "[encoded data removed]",
      "text/plain": [
       "<matplotlib.figure.Figure at 0x116d66c18>"
      ]
     },
     "metadata": {},
     "output_type": "display_data"
    }
   ],
   "source": [
    "ax3 = sns.heatmap(corr_data_df, mask=mask, annot=True, linewidths=.5, center=0, vmin = -1.0, vmax = 1.0)\n",
    "ax3.set_title('Table of correlation coefficients for ' + metric)"
   ]
  },
  {
   "cell_type": "code",
   "execution_count": null,
   "metadata": {
    "collapsed": true
   },
   "outputs": [],
   "source": []
  }
 ],
 "metadata": {
  "anaconda-cloud": {},
  "kernelspec": {
   "display_name": "Python [conda root]",
   "language": "python",
   "name": "conda-root-py"
  },
  "language_info": {
   "codemirror_mode": {
    "name": "ipython",
    "version": 3
   },
   "file_extension": ".py",
   "mimetype": "text/x-python",
   "name": "python",
   "nbconvert_exporter": "python",
   "pygments_lexer": "ipython3",
   "version": "3.5.2"
  }
 },
 "nbformat": 4,
 "nbformat_minor": 1
}
