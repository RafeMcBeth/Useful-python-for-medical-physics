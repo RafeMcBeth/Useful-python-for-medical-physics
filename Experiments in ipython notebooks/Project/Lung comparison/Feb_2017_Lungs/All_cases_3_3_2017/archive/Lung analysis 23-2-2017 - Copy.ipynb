{
 "cells": [
  {
   "cell_type": "code",
   "execution_count": 1,
   "metadata": {
    "collapsed": true
   },
   "outputs": [],
   "source": [
    "import pandas as pd\n",
    "import numpy as np\n",
    "from scipy import stats\n",
    "from scipy.stats import wilcoxon  # must import explicitly\n",
    "import seaborn as sns\n",
    "sns.set(style=\"whitegrid\", palette=\"pastel\", color_codes=True)\n",
    "import matplotlib.pyplot as plt\n",
    "%matplotlib inline"
   ]
  },
  {
   "cell_type": "code",
   "execution_count": 2,
   "metadata": {
    "collapsed": true
   },
   "outputs": [],
   "source": [
    "def query_data(df, Col, structure, metric):   # helper function to get data, Col = AAA, AXB or diff \n",
    "    return df[Col][(df['structure'] == structure) & (df['metric'] == metric)]"
   ]
  },
  {
   "cell_type": "code",
   "execution_count": 3,
   "metadata": {
    "collapsed": true
   },
   "outputs": [],
   "source": [
    "def bland_altman_plot(Dm_data, AAA_data, structure, metric, *args, **kwargs):\n",
    "    Dm_data     = np.asarray(Dm_data)\n",
    "    AAA_data     = np.asarray(AAA_data)\n",
    "    z_stat, p_val = wilcoxon(Dm_data, AAA_data)\n",
    "    mean      = np.mean([Dm_data, AAA_data], axis=0)\n",
    "    diff      = Dm_data - AAA_data                   # Difference between data1 and data2\n",
    "    md        = np.mean(diff)                   # Mean of the difference\n",
    "    sd        = np.std(diff, axis=0)            # Standard deviation of the difference\n",
    "\n",
    "    # plt.scatter(mean, diff, *args, **kwargs)\n",
    "    plt.scatter(AAA_data, diff, *args, **kwargs)\n",
    "    plt.axhline(md,           color='red', linestyle='-')\n",
    "    plt.axhline(md + 1.96*sd, color='blue', linestyle='--')\n",
    "    plt.axhline(md - 1.96*sd, color='blue', linestyle='--')\n",
    "    plt.xlabel('AAA Dose (Gy)')\n",
    "    plt.ylabel('AXB - AAA Difference (Gy)')\n",
    "   # plt.title( str(np.round(md, decimals = 3)) + ' Gy (' + str(np.round(md_percent, decimals = 3)) +  ' %) difference with p = ' + str(np.round(p_val, decimals = 3))  + ' for ' + structure + ' and metric ' + metric)\n",
    "    plt.title( str(np.round(md, decimals = 3)) + ' Gy difference with p = ' + str(np.round(p_val, decimals = 3))  + ' for ' + structure + ' and metric ' + metric)\n",
    "    #plt.savefig('BA.png')"
   ]
  },
  {
   "cell_type": "markdown",
   "metadata": {},
   "source": [
    "## Parse data\n",
    "\n",
    "Load data and get in same format as original analysis, even though this is a bit long winded"
   ]
  },
  {
   "cell_type": "code",
   "execution_count": 4,
   "metadata": {
    "collapsed": true
   },
   "outputs": [],
   "source": [
    "data = pd.read_csv('metrics_all_7_2_2017.csv')  # import AAA data"
   ]
  },
  {
   "cell_type": "code",
   "execution_count": 5,
   "metadata": {
    "collapsed": true
   },
   "outputs": [],
   "source": [
    "data['Case'] = data['patID'].str.split('_').str.get(0)  # get the case ID e.g. case1\n",
    "data['Algo'] = data['patID'].str.split('_').str.get(1)  # get the case ID e.g. case1"
   ]
  },
  {
   "cell_type": "code",
   "execution_count": 6,
   "metadata": {
    "collapsed": true
   },
   "outputs": [],
   "source": [
    "data = data.drop('patID', 1)"
   ]
  },
  {
   "cell_type": "code",
   "execution_count": 7,
   "metadata": {
    "collapsed": false
   },
   "outputs": [],
   "source": [
    "data = data.replace(to_replace='ribs', value='Ribs')    # Fix some lables\n",
    "data = data.replace(to_replace='skin', value='Skin')"
   ]
  },
  {
   "cell_type": "code",
   "execution_count": 8,
   "metadata": {
    "collapsed": false
   },
   "outputs": [
    {
     "data": {
      "text/plain": [
       "array(['BODY', 'GTV', 'Heart', 'Foramen', 'Oesophagus', 'Trachea',\n",
       "       'Bronchial tree', 'L Brachial plex', 'Rt Brachial plex',\n",
       "       'PTV CHEST', 'Lt_Lung', 'Rt_Lung', 'Both Lungs-ITV', 'Skin', 'ITV',\n",
       "       'Ribs', 'Both Lungs', 'Liver'], dtype=object)"
      ]
     },
     "execution_count": 8,
     "metadata": {},
     "output_type": "execute_result"
    }
   ],
   "source": [
    "data['structure'].unique()"
   ]
  },
  {
   "cell_type": "code",
   "execution_count": 9,
   "metadata": {
    "collapsed": false
   },
   "outputs": [
    {
     "data": {
      "text/html": [
       "<div>\n",
       "<table border=\"1\" class=\"dataframe\">\n",
       "  <thead>\n",
       "    <tr style=\"text-align: right;\">\n",
       "      <th></th>\n",
       "      <th>observed</th>\n",
       "      <th>metric</th>\n",
       "      <th>structure</th>\n",
       "      <th>Case</th>\n",
       "      <th>Algo</th>\n",
       "    </tr>\n",
       "  </thead>\n",
       "  <tbody>\n",
       "    <tr>\n",
       "      <th>0</th>\n",
       "      <td>25.617688</td>\n",
       "      <td>D2%</td>\n",
       "      <td>BODY</td>\n",
       "      <td>Case1</td>\n",
       "      <td>AAA</td>\n",
       "    </tr>\n",
       "    <tr>\n",
       "      <th>1</th>\n",
       "      <td>14.391388</td>\n",
       "      <td>D5%</td>\n",
       "      <td>BODY</td>\n",
       "      <td>Case1</td>\n",
       "      <td>AAA</td>\n",
       "    </tr>\n",
       "    <tr>\n",
       "      <th>2</th>\n",
       "      <td>0.426561</td>\n",
       "      <td>D50%</td>\n",
       "      <td>BODY</td>\n",
       "      <td>Case1</td>\n",
       "      <td>AAA</td>\n",
       "    </tr>\n",
       "    <tr>\n",
       "      <th>3</th>\n",
       "      <td>0.046734</td>\n",
       "      <td>D95%</td>\n",
       "      <td>BODY</td>\n",
       "      <td>Case1</td>\n",
       "      <td>AAA</td>\n",
       "    </tr>\n",
       "    <tr>\n",
       "      <th>4</th>\n",
       "      <td>0.009347</td>\n",
       "      <td>D99%</td>\n",
       "      <td>BODY</td>\n",
       "      <td>Case1</td>\n",
       "      <td>AAA</td>\n",
       "    </tr>\n",
       "  </tbody>\n",
       "</table>\n",
       "</div>"
      ],
      "text/plain": [
       "    observed metric structure   Case Algo\n",
       "0  25.617688    D2%      BODY  Case1  AAA\n",
       "1  14.391388    D5%      BODY  Case1  AAA\n",
       "2   0.426561   D50%      BODY  Case1  AAA\n",
       "3   0.046734   D95%      BODY  Case1  AAA\n",
       "4   0.009347   D99%      BODY  Case1  AAA"
      ]
     },
     "execution_count": 9,
     "metadata": {},
     "output_type": "execute_result"
    }
   ],
   "source": [
    "data.head()"
   ]
  },
  {
   "cell_type": "code",
   "execution_count": 10,
   "metadata": {
    "collapsed": false
   },
   "outputs": [
    {
     "name": "stderr",
     "output_type": "stream",
     "text": [
      "C:\\Users\\RCole02.ROYALSURREY\\AppData\\Local\\Continuum\\Anaconda3\\lib\\site-packages\\pandas\\core\\frame.py:2834: SettingWithCopyWarning: \n",
      "A value is trying to be set on a copy of a slice from a DataFrame\n",
      "\n",
      "See the caveats in the documentation: http://pandas.pydata.org/pandas-docs/stable/indexing.html#indexing-view-versus-copy\n",
      "  **kwargs)\n"
     ]
    }
   ],
   "source": [
    "AAA_df = data[data['Algo'] == 'AAA']\n",
    "AAA_df.rename(columns={'observed': 'AAA'}, inplace=True)    # rename \n",
    "AAA_df = AAA_df.drop('Algo', 1)\n",
    "#AAA_df.head()"
   ]
  },
  {
   "cell_type": "code",
   "execution_count": 11,
   "metadata": {
    "collapsed": false
   },
   "outputs": [
    {
     "name": "stderr",
     "output_type": "stream",
     "text": [
      "C:\\Users\\RCole02.ROYALSURREY\\AppData\\Local\\Continuum\\Anaconda3\\lib\\site-packages\\pandas\\core\\frame.py:2834: SettingWithCopyWarning: \n",
      "A value is trying to be set on a copy of a slice from a DataFrame\n",
      "\n",
      "See the caveats in the documentation: http://pandas.pydata.org/pandas-docs/stable/indexing.html#indexing-view-versus-copy\n",
      "  **kwargs)\n"
     ]
    }
   ],
   "source": [
    "Dm_df = data[data['Algo'] == 'AXB']\n",
    "Dm_df.rename(columns={'observed': 'Dm'}, inplace=True)    # rename \n",
    "Dm_df = Dm_df.drop('Algo', 1)\n",
    "#Dm_df.head()"
   ]
  },
  {
   "cell_type": "code",
   "execution_count": 12,
   "metadata": {
    "collapsed": false
   },
   "outputs": [
    {
     "data": {
      "text/html": [
       "<div>\n",
       "<table border=\"1\" class=\"dataframe\">\n",
       "  <thead>\n",
       "    <tr style=\"text-align: right;\">\n",
       "      <th></th>\n",
       "      <th>Case</th>\n",
       "      <th>structure</th>\n",
       "      <th>metric</th>\n",
       "      <th>AAA</th>\n",
       "      <th>Dm</th>\n",
       "    </tr>\n",
       "  </thead>\n",
       "  <tbody>\n",
       "    <tr>\n",
       "      <th>0</th>\n",
       "      <td>Case1</td>\n",
       "      <td>BODY</td>\n",
       "      <td>D2%</td>\n",
       "      <td>25.617688</td>\n",
       "      <td>25.442482</td>\n",
       "    </tr>\n",
       "    <tr>\n",
       "      <th>1</th>\n",
       "      <td>Case1</td>\n",
       "      <td>BODY</td>\n",
       "      <td>D5%</td>\n",
       "      <td>14.391388</td>\n",
       "      <td>14.256952</td>\n",
       "    </tr>\n",
       "    <tr>\n",
       "      <th>2</th>\n",
       "      <td>Case1</td>\n",
       "      <td>BODY</td>\n",
       "      <td>D50%</td>\n",
       "      <td>0.426561</td>\n",
       "      <td>0.395687</td>\n",
       "    </tr>\n",
       "    <tr>\n",
       "      <th>3</th>\n",
       "      <td>Case1</td>\n",
       "      <td>BODY</td>\n",
       "      <td>D95%</td>\n",
       "      <td>0.046734</td>\n",
       "      <td>0.065460</td>\n",
       "    </tr>\n",
       "    <tr>\n",
       "      <th>4</th>\n",
       "      <td>Case1</td>\n",
       "      <td>BODY</td>\n",
       "      <td>D99%</td>\n",
       "      <td>0.009347</td>\n",
       "      <td>0.022070</td>\n",
       "    </tr>\n",
       "  </tbody>\n",
       "</table>\n",
       "</div>"
      ],
      "text/plain": [
       "    Case structure metric        AAA         Dm\n",
       "0  Case1      BODY    D2%  25.617688  25.442482\n",
       "1  Case1      BODY    D5%  14.391388  14.256952\n",
       "2  Case1      BODY   D50%   0.426561   0.395687\n",
       "3  Case1      BODY   D95%   0.046734   0.065460\n",
       "4  Case1      BODY   D99%   0.009347   0.022070"
      ]
     },
     "execution_count": 12,
     "metadata": {},
     "output_type": "execute_result"
    }
   ],
   "source": [
    "AAA_Dm_data = pd.merge(AAA_df, Dm_df, how='inner', on=['metric', 'Case', 'structure'])  # Get merged set\n",
    "AAA_Dm_data = AAA_Dm_data[['Case', 'structure', 'metric', 'AAA', 'Dm']]   # rearrange  \n",
    "AAA_Dm_data.head()"
   ]
  },
  {
   "cell_type": "code",
   "execution_count": 13,
   "metadata": {
    "collapsed": false
   },
   "outputs": [],
   "source": [
    "AAA_Dm_data['Dm-AAA'] = AAA_Dm_data.Dm - AAA_Dm_data.AAA"
   ]
  },
  {
   "cell_type": "code",
   "execution_count": 14,
   "metadata": {
    "collapsed": false
   },
   "outputs": [
    {
     "data": {
      "text/html": [
       "<div>\n",
       "<table border=\"1\" class=\"dataframe\">\n",
       "  <thead>\n",
       "    <tr style=\"text-align: right;\">\n",
       "      <th></th>\n",
       "      <th>Case</th>\n",
       "      <th>structure</th>\n",
       "      <th>metric</th>\n",
       "      <th>AAA</th>\n",
       "      <th>Dm</th>\n",
       "      <th>Dm-AAA</th>\n",
       "    </tr>\n",
       "  </thead>\n",
       "  <tbody>\n",
       "    <tr>\n",
       "      <th>0</th>\n",
       "      <td>Case1</td>\n",
       "      <td>BODY</td>\n",
       "      <td>D2%</td>\n",
       "      <td>25.617688</td>\n",
       "      <td>25.442482</td>\n",
       "      <td>-0.175206</td>\n",
       "    </tr>\n",
       "    <tr>\n",
       "      <th>1</th>\n",
       "      <td>Case1</td>\n",
       "      <td>BODY</td>\n",
       "      <td>D5%</td>\n",
       "      <td>14.391388</td>\n",
       "      <td>14.256952</td>\n",
       "      <td>-0.134436</td>\n",
       "    </tr>\n",
       "    <tr>\n",
       "      <th>2</th>\n",
       "      <td>Case1</td>\n",
       "      <td>BODY</td>\n",
       "      <td>D50%</td>\n",
       "      <td>0.426561</td>\n",
       "      <td>0.395687</td>\n",
       "      <td>-0.030874</td>\n",
       "    </tr>\n",
       "    <tr>\n",
       "      <th>3</th>\n",
       "      <td>Case1</td>\n",
       "      <td>BODY</td>\n",
       "      <td>D95%</td>\n",
       "      <td>0.046734</td>\n",
       "      <td>0.065460</td>\n",
       "      <td>0.018727</td>\n",
       "    </tr>\n",
       "    <tr>\n",
       "      <th>4</th>\n",
       "      <td>Case1</td>\n",
       "      <td>BODY</td>\n",
       "      <td>D99%</td>\n",
       "      <td>0.009347</td>\n",
       "      <td>0.022070</td>\n",
       "      <td>0.012723</td>\n",
       "    </tr>\n",
       "  </tbody>\n",
       "</table>\n",
       "</div>"
      ],
      "text/plain": [
       "    Case structure metric        AAA         Dm    Dm-AAA\n",
       "0  Case1      BODY    D2%  25.617688  25.442482 -0.175206\n",
       "1  Case1      BODY    D5%  14.391388  14.256952 -0.134436\n",
       "2  Case1      BODY   D50%   0.426561   0.395687 -0.030874\n",
       "3  Case1      BODY   D95%   0.046734   0.065460  0.018727\n",
       "4  Case1      BODY   D99%   0.009347   0.022070  0.012723"
      ]
     },
     "execution_count": 14,
     "metadata": {},
     "output_type": "execute_result"
    }
   ],
   "source": [
    "AAA_Dm_data.head()"
   ]
  },
  {
   "cell_type": "markdown",
   "metadata": {},
   "source": [
    "## Start analysis"
   ]
  },
  {
   "cell_type": "code",
   "execution_count": 15,
   "metadata": {
    "collapsed": false
   },
   "outputs": [
    {
     "data": {
      "text/plain": [
       "array(['Case1', 'Case5', 'Case11', 'Case12', 'Case13', 'Case14', 'Case16',\n",
       "       'Case17', 'Case22', 'Case24'], dtype=object)"
      ]
     },
     "execution_count": 15,
     "metadata": {},
     "output_type": "execute_result"
    }
   ],
   "source": [
    "AAA_Dm_data['Case'].unique()"
   ]
  },
  {
   "cell_type": "code",
   "execution_count": 16,
   "metadata": {
    "collapsed": false
   },
   "outputs": [
    {
     "data": {
      "text/plain": [
       "array(['BODY', 'GTV', 'Heart', 'Foramen', 'Oesophagus', 'Trachea',\n",
       "       'Bronchial tree', 'L Brachial plex', 'Rt Brachial plex',\n",
       "       'PTV CHEST', 'Lt_Lung', 'Rt_Lung', 'Both Lungs-ITV', 'Skin', 'ITV',\n",
       "       'Ribs', 'Both Lungs', 'Liver'], dtype=object)"
      ]
     },
     "execution_count": 16,
     "metadata": {},
     "output_type": "execute_result"
    }
   ],
   "source": [
    "AAA_Dm_data['structure'].unique()"
   ]
  },
  {
   "cell_type": "code",
   "execution_count": 17,
   "metadata": {
    "collapsed": false
   },
   "outputs": [
    {
     "data": {
      "text/plain": [
       "array(['D2%', 'D5%', 'D50%', 'D95%', 'D99%', 'D1CC', 'D0.1CC', 'DMAX',\n",
       "       'DSD', 'DRX', 'DHI'], dtype=object)"
      ]
     },
     "execution_count": 17,
     "metadata": {},
     "output_type": "execute_result"
    }
   ],
   "source": [
    "AAA_Dm_data['metric'].unique()"
   ]
  },
  {
   "cell_type": "markdown",
   "metadata": {},
   "source": [
    "## Mean differences"
   ]
  },
  {
   "cell_type": "code",
   "execution_count": 18,
   "metadata": {
    "collapsed": true
   },
   "outputs": [],
   "source": [
    "mean_diff_table = AAA_Dm_data.groupby(['structure', 'metric'],as_index=False).mean().pivot(index='structure', columns='metric', values='Dm-AAA')"
   ]
  },
  {
   "cell_type": "code",
   "execution_count": 19,
   "metadata": {
    "collapsed": false
   },
   "outputs": [],
   "source": [
    "structures_of_interest = ['PTV CHEST', 'ITV',  'Heart', 'Foramen', 'Oesophagus',  'Skin', 'Ribs']  # 'GTV', 'Liver', 'Trachea', 'Bronchial tree',\n",
    "metrics_of_interest  =  ['DMAX', 'D0.1CC', 'D1CC', 'D5%', 'D50%', 'D95%', 'DHI']"
   ]
  },
  {
   "cell_type": "code",
   "execution_count": 20,
   "metadata": {
    "collapsed": true
   },
   "outputs": [],
   "source": [
    "i = len(structures_of_interest)\n",
    "j = len(metrics_of_interest)\n",
    "wilcox_data = np.zeros((i,j))  # init an empty array"
   ]
  },
  {
   "cell_type": "code",
   "execution_count": 21,
   "metadata": {
    "collapsed": true
   },
   "outputs": [],
   "source": [
    "sub_diff_table = mean_diff_table[metrics_of_interest].loc[structures_of_interest]"
   ]
  },
  {
   "cell_type": "code",
   "execution_count": 22,
   "metadata": {
    "collapsed": false
   },
   "outputs": [
    {
     "data": {
      "text/html": [
       "<div>\n",
       "<table border=\"1\" class=\"dataframe\">\n",
       "  <thead>\n",
       "    <tr style=\"text-align: right;\">\n",
       "      <th>metric</th>\n",
       "      <th>DMAX</th>\n",
       "      <th>D0.1CC</th>\n",
       "      <th>D1CC</th>\n",
       "      <th>D5%</th>\n",
       "      <th>D50%</th>\n",
       "      <th>D95%</th>\n",
       "      <th>DHI</th>\n",
       "    </tr>\n",
       "    <tr>\n",
       "      <th>structure</th>\n",
       "      <th></th>\n",
       "      <th></th>\n",
       "      <th></th>\n",
       "      <th></th>\n",
       "      <th></th>\n",
       "      <th></th>\n",
       "      <th></th>\n",
       "    </tr>\n",
       "  </thead>\n",
       "  <tbody>\n",
       "    <tr>\n",
       "      <th>PTV CHEST</th>\n",
       "      <td>1.0505</td>\n",
       "      <td>0.647495</td>\n",
       "      <td>0.596512</td>\n",
       "      <td>0.568678</td>\n",
       "      <td>0.416584</td>\n",
       "      <td>-0.255466</td>\n",
       "      <td>0.013553</td>\n",
       "    </tr>\n",
       "    <tr>\n",
       "      <th>ITV</th>\n",
       "      <td>1.0505</td>\n",
       "      <td>0.582748</td>\n",
       "      <td>0.566858</td>\n",
       "      <td>0.569560</td>\n",
       "      <td>0.455339</td>\n",
       "      <td>0.397561</td>\n",
       "      <td>0.003390</td>\n",
       "    </tr>\n",
       "    <tr>\n",
       "      <th>Heart</th>\n",
       "      <td>0.0275</td>\n",
       "      <td>-5.632351</td>\n",
       "      <td>5.471829</td>\n",
       "      <td>-0.129145</td>\n",
       "      <td>-0.013560</td>\n",
       "      <td>0.019100</td>\n",
       "      <td>-0.314726</td>\n",
       "    </tr>\n",
       "    <tr>\n",
       "      <th>Foramen</th>\n",
       "      <td>-0.3465</td>\n",
       "      <td>-0.315061</td>\n",
       "      <td>-0.282495</td>\n",
       "      <td>-0.268113</td>\n",
       "      <td>-0.074548</td>\n",
       "      <td>0.006426</td>\n",
       "      <td>-0.382177</td>\n",
       "    </tr>\n",
       "    <tr>\n",
       "      <th>Oesophagus</th>\n",
       "      <td>-0.1320</td>\n",
       "      <td>-0.138990</td>\n",
       "      <td>-0.100071</td>\n",
       "      <td>-0.092052</td>\n",
       "      <td>-0.004418</td>\n",
       "      <td>0.020458</td>\n",
       "      <td>-3.107855</td>\n",
       "    </tr>\n",
       "  </tbody>\n",
       "</table>\n",
       "</div>"
      ],
      "text/plain": [
       "metric        DMAX    D0.1CC      D1CC       D5%      D50%      D95%       DHI\n",
       "structure                                                                     \n",
       "PTV CHEST   1.0505  0.647495  0.596512  0.568678  0.416584 -0.255466  0.013553\n",
       "ITV         1.0505  0.582748  0.566858  0.569560  0.455339  0.397561  0.003390\n",
       "Heart       0.0275 -5.632351  5.471829 -0.129145 -0.013560  0.019100 -0.314726\n",
       "Foramen    -0.3465 -0.315061 -0.282495 -0.268113 -0.074548  0.006426 -0.382177\n",
       "Oesophagus -0.1320 -0.138990 -0.100071 -0.092052 -0.004418  0.020458 -3.107855"
      ]
     },
     "execution_count": 22,
     "metadata": {},
     "output_type": "execute_result"
    }
   ],
   "source": [
    "sub_diff_table.head()"
   ]
  },
  {
   "cell_type": "code",
   "execution_count": 23,
   "metadata": {
    "collapsed": false
   },
   "outputs": [
    {
     "name": "stderr",
     "output_type": "stream",
     "text": [
      "C:\\Users\\RCole02.ROYALSURREY\\AppData\\Local\\Continuum\\Anaconda3\\lib\\site-packages\\scipy\\stats\\morestats.py:2388: UserWarning: Warning: sample size too small for normal approximation.\n",
      "  warnings.warn(\"Warning: sample size too small for normal approximation.\")\n"
     ]
    }
   ],
   "source": [
    "d = AAA_Dm_data  # for convenience just copy\n",
    "\n",
    "j = 0\n",
    "for structure in structures_of_interest:\n",
    "    i = 0\n",
    "    for metric in metrics_of_interest:\n",
    "        A =  d[(d['structure'] == structure) & (d['metric'] == metric)]\n",
    "        D =  A['Dm-AAA']\n",
    "        #wilcox_data[j][i] = my_wilcox(D.values)\n",
    "        z_stat, p_val = wilcoxon(D.values)\n",
    "        wilcox_data[j][i] = p_val\n",
    "        i = i + 1\n",
    "    j = j+ 1"
   ]
  },
  {
   "cell_type": "code",
   "execution_count": 24,
   "metadata": {
    "collapsed": true
   },
   "outputs": [],
   "source": [
    "wilcox_data_df = pd.DataFrame(data=wilcox_data,    # values\n",
    "...              index=structures_of_interest,    # 1st column as index\n",
    "...              columns=metrics_of_interest)  # 1st row as the column names"
   ]
  },
  {
   "cell_type": "code",
   "execution_count": 25,
   "metadata": {
    "collapsed": false
   },
   "outputs": [
    {
     "data": {
      "text/html": [
       "<div>\n",
       "<table border=\"1\" class=\"dataframe\">\n",
       "  <thead>\n",
       "    <tr style=\"text-align: right;\">\n",
       "      <th></th>\n",
       "      <th>DMAX</th>\n",
       "      <th>D0.1CC</th>\n",
       "      <th>D1CC</th>\n",
       "      <th>D5%</th>\n",
       "      <th>D50%</th>\n",
       "      <th>D95%</th>\n",
       "      <th>DHI</th>\n",
       "    </tr>\n",
       "  </thead>\n",
       "  <tbody>\n",
       "    <tr>\n",
       "      <th>PTV CHEST</th>\n",
       "      <td>0.028417</td>\n",
       "      <td>0.114128</td>\n",
       "      <td>0.021824</td>\n",
       "      <td>0.059336</td>\n",
       "      <td>0.012515</td>\n",
       "      <td>0.241121</td>\n",
       "      <td>0.028417</td>\n",
       "    </tr>\n",
       "    <tr>\n",
       "      <th>ITV</th>\n",
       "      <td>0.028417</td>\n",
       "      <td>0.139414</td>\n",
       "      <td>0.028417</td>\n",
       "      <td>0.059336</td>\n",
       "      <td>0.046853</td>\n",
       "      <td>0.202622</td>\n",
       "      <td>0.575062</td>\n",
       "    </tr>\n",
       "    <tr>\n",
       "      <th>Heart</th>\n",
       "      <td>0.440867</td>\n",
       "      <td>0.798859</td>\n",
       "      <td>0.507624</td>\n",
       "      <td>0.028417</td>\n",
       "      <td>0.386271</td>\n",
       "      <td>0.092601</td>\n",
       "      <td>0.139414</td>\n",
       "    </tr>\n",
       "    <tr>\n",
       "      <th>Foramen</th>\n",
       "      <td>0.005005</td>\n",
       "      <td>0.005062</td>\n",
       "      <td>0.005062</td>\n",
       "      <td>0.005062</td>\n",
       "      <td>0.028417</td>\n",
       "      <td>0.332880</td>\n",
       "      <td>0.798859</td>\n",
       "    </tr>\n",
       "    <tr>\n",
       "      <th>Oesophagus</th>\n",
       "      <td>0.220972</td>\n",
       "      <td>0.074462</td>\n",
       "      <td>0.074462</td>\n",
       "      <td>0.074462</td>\n",
       "      <td>0.575062</td>\n",
       "      <td>0.021824</td>\n",
       "      <td>0.284503</td>\n",
       "    </tr>\n",
       "  </tbody>\n",
       "</table>\n",
       "</div>"
      ],
      "text/plain": [
       "                DMAX    D0.1CC      D1CC       D5%      D50%      D95%  \\\n",
       "PTV CHEST   0.028417  0.114128  0.021824  0.059336  0.012515  0.241121   \n",
       "ITV         0.028417  0.139414  0.028417  0.059336  0.046853  0.202622   \n",
       "Heart       0.440867  0.798859  0.507624  0.028417  0.386271  0.092601   \n",
       "Foramen     0.005005  0.005062  0.005062  0.005062  0.028417  0.332880   \n",
       "Oesophagus  0.220972  0.074462  0.074462  0.074462  0.575062  0.021824   \n",
       "\n",
       "                 DHI  \n",
       "PTV CHEST   0.028417  \n",
       "ITV         0.575062  \n",
       "Heart       0.139414  \n",
       "Foramen     0.798859  \n",
       "Oesophagus  0.284503  "
      ]
     },
     "execution_count": 25,
     "metadata": {},
     "output_type": "execute_result"
    }
   ],
   "source": [
    "wilcox_data_df.head()"
   ]
  },
  {
   "cell_type": "markdown",
   "metadata": {},
   "source": [
    "Colour mapping options on http://matplotlib.org/examples/color/colormaps_reference.html"
   ]
  },
  {
   "cell_type": "code",
   "execution_count": 57,
   "metadata": {
    "collapsed": false,
    "scrolled": true
   },
   "outputs": [
    {
     "data": {
      "image/png": "[encoded data removed]",
      "text/plain": [
       "<matplotlib.figure.Figure at 0xb808510>"
      ]
     },
     "metadata": {},
     "output_type": "display_data"
    }
   ],
   "source": [
    "plt.figure(figsize=(9, 5))  \n",
    "data = sub_diff_table[wilcox_data_df<0.05]\n",
    "\n",
    "ax3 = sns.heatmap(data, annot=True, linewidths=.5, center=0, vmin = -1.1, vmax = 1.1, cmap='PRGn') #  mask=mask,\n",
    "ax3.set_title('Significant (p<0.05) mean dose differences AXB-AAA (Gy) by metric', size='large');\n",
    "plt.savefig('Lung_wilcox.png')"
   ]
  },
  {
   "cell_type": "markdown",
   "metadata": {},
   "source": [
    "## Check for plans that would fail when calc'd with AXB"
   ]
  },
  {
   "cell_type": "code",
   "execution_count": 27,
   "metadata": {
    "collapsed": false
   },
   "outputs": [],
   "source": [
    "constraints = pd.read_csv('SABR_lung_constraints.csv')\n",
    "constraints = constraints.drop('3_Fraction_54Gy', 1)   # drop 54 Gy"
   ]
  },
  {
   "cell_type": "code",
   "execution_count": 28,
   "metadata": {
    "collapsed": false
   },
   "outputs": [
    {
     "data": {
      "text/html": [
       "<div>\n",
       "<table border=\"1\" class=\"dataframe\">\n",
       "  <thead>\n",
       "    <tr style=\"text-align: right;\">\n",
       "      <th></th>\n",
       "      <th>structure</th>\n",
       "      <th>metric</th>\n",
       "      <th>Sign</th>\n",
       "      <th>5_Fraction_55Gy</th>\n",
       "      <th>Unit</th>\n",
       "      <th>Of_Prescription_dose?</th>\n",
       "    </tr>\n",
       "  </thead>\n",
       "  <tbody>\n",
       "    <tr>\n",
       "      <th>0</th>\n",
       "      <td>PTV CHEST</td>\n",
       "      <td>D95%</td>\n",
       "      <td>&gt;</td>\n",
       "      <td>100</td>\n",
       "      <td>%</td>\n",
       "      <td>1</td>\n",
       "    </tr>\n",
       "    <tr>\n",
       "      <th>1</th>\n",
       "      <td>PTV CHEST</td>\n",
       "      <td>D99%</td>\n",
       "      <td>&gt;</td>\n",
       "      <td>90</td>\n",
       "      <td>%</td>\n",
       "      <td>1</td>\n",
       "    </tr>\n",
       "    <tr>\n",
       "      <th>2</th>\n",
       "      <td>PTV CHEST</td>\n",
       "      <td>D0.1CC</td>\n",
       "      <td>between</td>\n",
       "      <td>118-134</td>\n",
       "      <td>%</td>\n",
       "      <td>1</td>\n",
       "    </tr>\n",
       "    <tr>\n",
       "      <th>3</th>\n",
       "      <td>Foramen</td>\n",
       "      <td>DMAX</td>\n",
       "      <td>&lt;</td>\n",
       "      <td>25</td>\n",
       "      <td>Gy</td>\n",
       "      <td>0</td>\n",
       "    </tr>\n",
       "    <tr>\n",
       "      <th>4</th>\n",
       "      <td>Oesophagus</td>\n",
       "      <td>D0.1CC</td>\n",
       "      <td>&lt;</td>\n",
       "      <td>27</td>\n",
       "      <td>Gy</td>\n",
       "      <td>0</td>\n",
       "    </tr>\n",
       "    <tr>\n",
       "      <th>5</th>\n",
       "      <td>R Brachial plex</td>\n",
       "      <td>D0.1CC</td>\n",
       "      <td>&lt;</td>\n",
       "      <td>27</td>\n",
       "      <td>Gy</td>\n",
       "      <td>0</td>\n",
       "    </tr>\n",
       "    <tr>\n",
       "      <th>6</th>\n",
       "      <td>L Brachial plex</td>\n",
       "      <td>D0.1CC</td>\n",
       "      <td>&lt;</td>\n",
       "      <td>27</td>\n",
       "      <td>Gy</td>\n",
       "      <td>0</td>\n",
       "    </tr>\n",
       "    <tr>\n",
       "      <th>7</th>\n",
       "      <td>Heart</td>\n",
       "      <td>D0.1CC</td>\n",
       "      <td>&lt;</td>\n",
       "      <td>27</td>\n",
       "      <td>Gy</td>\n",
       "      <td>0</td>\n",
       "    </tr>\n",
       "    <tr>\n",
       "      <th>8</th>\n",
       "      <td>Trachea</td>\n",
       "      <td>D0.1CC</td>\n",
       "      <td>&lt;</td>\n",
       "      <td>32</td>\n",
       "      <td>Gy</td>\n",
       "      <td>0</td>\n",
       "    </tr>\n",
       "    <tr>\n",
       "      <th>9</th>\n",
       "      <td>Bronchial tree</td>\n",
       "      <td>D0.1CC</td>\n",
       "      <td>&lt;</td>\n",
       "      <td>32</td>\n",
       "      <td>Gy</td>\n",
       "      <td>0</td>\n",
       "    </tr>\n",
       "    <tr>\n",
       "      <th>10</th>\n",
       "      <td>Ribs</td>\n",
       "      <td>D0.1CC</td>\n",
       "      <td>&lt;</td>\n",
       "      <td>35</td>\n",
       "      <td>Gy</td>\n",
       "      <td>0</td>\n",
       "    </tr>\n",
       "    <tr>\n",
       "      <th>11</th>\n",
       "      <td>Ribs</td>\n",
       "      <td>V30Gy</td>\n",
       "      <td>&lt;</td>\n",
       "      <td>30</td>\n",
       "      <td>CC</td>\n",
       "      <td>0</td>\n",
       "    </tr>\n",
       "    <tr>\n",
       "      <th>12</th>\n",
       "      <td>Both Lungs-ITV</td>\n",
       "      <td>V20Gy</td>\n",
       "      <td>&lt;</td>\n",
       "      <td>10</td>\n",
       "      <td>%</td>\n",
       "      <td>0</td>\n",
       "    </tr>\n",
       "    <tr>\n",
       "      <th>13</th>\n",
       "      <td>Both Lungs-ITV</td>\n",
       "      <td>V12.5Gy</td>\n",
       "      <td>&lt;</td>\n",
       "      <td>15</td>\n",
       "      <td>%</td>\n",
       "      <td>0</td>\n",
       "    </tr>\n",
       "    <tr>\n",
       "      <th>14</th>\n",
       "      <td>Both Lungs-ITV</td>\n",
       "      <td>V5Gy</td>\n",
       "      <td>&lt;</td>\n",
       "      <td>26</td>\n",
       "      <td>%</td>\n",
       "      <td>0</td>\n",
       "    </tr>\n",
       "    <tr>\n",
       "      <th>15</th>\n",
       "      <td>Both Lungs-ITV</td>\n",
       "      <td>D1500CC</td>\n",
       "      <td>&lt;</td>\n",
       "      <td>13</td>\n",
       "      <td>Gy</td>\n",
       "      <td>0</td>\n",
       "    </tr>\n",
       "    <tr>\n",
       "      <th>16</th>\n",
       "      <td>Both Lungs-ITV</td>\n",
       "      <td>D1000CC</td>\n",
       "      <td>&lt;</td>\n",
       "      <td>14</td>\n",
       "      <td>Gy</td>\n",
       "      <td>0</td>\n",
       "    </tr>\n",
       "    <tr>\n",
       "      <th>17</th>\n",
       "      <td>Liver</td>\n",
       "      <td>700CC</td>\n",
       "      <td>&lt;</td>\n",
       "      <td>15</td>\n",
       "      <td>Gy</td>\n",
       "      <td>0</td>\n",
       "    </tr>\n",
       "    <tr>\n",
       "      <th>18</th>\n",
       "      <td>Liver</td>\n",
       "      <td>V21</td>\n",
       "      <td>&lt;</td>\n",
       "      <td>60</td>\n",
       "      <td>%</td>\n",
       "      <td>0</td>\n",
       "    </tr>\n",
       "    <tr>\n",
       "      <th>19</th>\n",
       "      <td>Liver</td>\n",
       "      <td>V15</td>\n",
       "      <td>&lt;</td>\n",
       "      <td>NaN</td>\n",
       "      <td>%</td>\n",
       "      <td>0</td>\n",
       "    </tr>\n",
       "    <tr>\n",
       "      <th>20</th>\n",
       "      <td>Liver</td>\n",
       "      <td>D50%</td>\n",
       "      <td>&lt;</td>\n",
       "      <td>20</td>\n",
       "      <td>Gy</td>\n",
       "      <td>0</td>\n",
       "    </tr>\n",
       "  </tbody>\n",
       "</table>\n",
       "</div>"
      ],
      "text/plain": [
       "          structure   metric     Sign 5_Fraction_55Gy Unit  \\\n",
       "0         PTV CHEST     D95%       >              100    %   \n",
       "1         PTV CHEST     D99%        >              90    %   \n",
       "2         PTV CHEST   D0.1CC  between         118-134    %   \n",
       "3           Foramen     DMAX        <              25   Gy   \n",
       "4        Oesophagus   D0.1CC        <              27   Gy   \n",
       "5   R Brachial plex   D0.1CC        <              27   Gy   \n",
       "6   L Brachial plex   D0.1CC        <              27   Gy   \n",
       "7             Heart   D0.1CC        <              27   Gy   \n",
       "8           Trachea   D0.1CC        <              32   Gy   \n",
       "9    Bronchial tree   D0.1CC        <              32   Gy   \n",
       "10             Ribs   D0.1CC        <              35   Gy   \n",
       "11             Ribs    V30Gy        <              30   CC   \n",
       "12   Both Lungs-ITV    V20Gy        <              10    %   \n",
       "13   Both Lungs-ITV  V12.5Gy        <              15    %   \n",
       "14   Both Lungs-ITV     V5Gy        <              26    %   \n",
       "15   Both Lungs-ITV  D1500CC        <              13   Gy   \n",
       "16   Both Lungs-ITV  D1000CC        <              14   Gy   \n",
       "17            Liver    700CC        <              15   Gy   \n",
       "18            Liver      V21        <              60    %   \n",
       "19            Liver      V15        <             NaN    %   \n",
       "20            Liver     D50%        <              20   Gy   \n",
       "\n",
       "    Of_Prescription_dose?  \n",
       "0                       1  \n",
       "1                       1  \n",
       "2                       1  \n",
       "3                       0  \n",
       "4                       0  \n",
       "5                       0  \n",
       "6                       0  \n",
       "7                       0  \n",
       "8                       0  \n",
       "9                       0  \n",
       "10                      0  \n",
       "11                      0  \n",
       "12                      0  \n",
       "13                      0  \n",
       "14                      0  \n",
       "15                      0  \n",
       "16                      0  \n",
       "17                      0  \n",
       "18                      0  \n",
       "19                      0  \n",
       "20                      0  "
      ]
     },
     "execution_count": 28,
     "metadata": {},
     "output_type": "execute_result"
    }
   ],
   "source": [
    "#constraints = constraints[constraints['metric']]#.isin(metrics_of_interest)]   # get only constraints where we have exported metrics\n",
    "constraints"
   ]
  },
  {
   "cell_type": "code",
   "execution_count": 29,
   "metadata": {
    "collapsed": false
   },
   "outputs": [
    {
     "data": {
      "text/html": [
       "<div>\n",
       "<table border=\"1\" class=\"dataframe\">\n",
       "  <thead>\n",
       "    <tr style=\"text-align: right;\">\n",
       "      <th></th>\n",
       "      <th>Case</th>\n",
       "      <th>structure</th>\n",
       "      <th>metric</th>\n",
       "      <th>AAA</th>\n",
       "      <th>Dm</th>\n",
       "      <th>Dm-AAA</th>\n",
       "    </tr>\n",
       "  </thead>\n",
       "  <tbody>\n",
       "    <tr>\n",
       "      <th>223</th>\n",
       "      <td>Case5</td>\n",
       "      <td>PTV CHEST</td>\n",
       "      <td>D95%</td>\n",
       "      <td>55.648904</td>\n",
       "      <td>54.883221</td>\n",
       "      <td>-0.765683</td>\n",
       "    </tr>\n",
       "  </tbody>\n",
       "</table>\n",
       "</div>"
      ],
      "text/plain": [
       "      Case  structure metric        AAA         Dm    Dm-AAA\n",
       "223  Case5  PTV CHEST   D95%  55.648904  54.883221 -0.765683"
      ]
     },
     "execution_count": 29,
     "metadata": {},
     "output_type": "execute_result"
    }
   ],
   "source": [
    "d = AAA_Dm_data\n",
    "PTV_D95_fail = d[(d['structure'] == 'PTV CHEST') & (d['metric'] == 'D95%') & (d['AAA'] > 55.0) & (d['Dm'] < 55.0)]\n",
    "#print(wilcoxon(test_df['diff'])) \n",
    "PTV_D95_fail"
   ]
  },
  {
   "cell_type": "code",
   "execution_count": 30,
   "metadata": {
    "collapsed": false
   },
   "outputs": [
    {
     "data": {
      "text/html": [
       "<div>\n",
       "<table border=\"1\" class=\"dataframe\">\n",
       "  <thead>\n",
       "    <tr style=\"text-align: right;\">\n",
       "      <th></th>\n",
       "      <th>Case</th>\n",
       "      <th>structure</th>\n",
       "      <th>metric</th>\n",
       "      <th>AAA</th>\n",
       "      <th>Dm</th>\n",
       "      <th>Dm-AAA</th>\n",
       "    </tr>\n",
       "  </thead>\n",
       "  <tbody>\n",
       "  </tbody>\n",
       "</table>\n",
       "</div>"
      ],
      "text/plain": [
       "Empty DataFrame\n",
       "Columns: [Case, structure, metric, AAA, Dm, Dm-AAA]\n",
       "Index: []"
      ]
     },
     "execution_count": 30,
     "metadata": {},
     "output_type": "execute_result"
    }
   ],
   "source": [
    "PTV_D99_fail = d[(d['structure'] == 'PTV CHEST') & (d['metric'] == 'D99%') & (d['AAA'] > 0.9*55.0) & (d['Dm'] < 0.9*55.0)]\n",
    "PTV_D99_fail"
   ]
  },
  {
   "cell_type": "code",
   "execution_count": 31,
   "metadata": {
    "collapsed": false
   },
   "outputs": [
    {
     "data": {
      "text/html": [
       "<div>\n",
       "<table border=\"1\" class=\"dataframe\">\n",
       "  <thead>\n",
       "    <tr style=\"text-align: right;\">\n",
       "      <th></th>\n",
       "      <th>Case</th>\n",
       "      <th>structure</th>\n",
       "      <th>metric</th>\n",
       "      <th>AAA</th>\n",
       "      <th>Dm</th>\n",
       "      <th>Dm-AAA</th>\n",
       "    </tr>\n",
       "  </thead>\n",
       "  <tbody>\n",
       "  </tbody>\n",
       "</table>\n",
       "</div>"
      ],
      "text/plain": [
       "Empty DataFrame\n",
       "Columns: [Case, structure, metric, AAA, Dm, Dm-AAA]\n",
       "Index: []"
      ]
     },
     "execution_count": 31,
     "metadata": {},
     "output_type": "execute_result"
    }
   ],
   "source": [
    "PTV_D01CC_fail = d[(d['structure'] == 'PTV CHEST') & (d['metric'] == 'D0.1CC') & (((d['AAA'] > 1.18*55) & (d['Dm'] < 1.18*55)) | ((d['AAA'] < 1.34*55) & (d['Dm'] > 1.34*55)))]\n",
    "PTV_D01CC_fail"
   ]
  },
  {
   "cell_type": "code",
   "execution_count": 32,
   "metadata": {
    "collapsed": false
   },
   "outputs": [
    {
     "data": {
      "text/html": [
       "<div>\n",
       "<table border=\"1\" class=\"dataframe\">\n",
       "  <thead>\n",
       "    <tr style=\"text-align: right;\">\n",
       "      <th></th>\n",
       "      <th>Case</th>\n",
       "      <th>structure</th>\n",
       "      <th>metric</th>\n",
       "      <th>AAA</th>\n",
       "      <th>Dm</th>\n",
       "      <th>Dm-AAA</th>\n",
       "    </tr>\n",
       "  </thead>\n",
       "  <tbody>\n",
       "  </tbody>\n",
       "</table>\n",
       "</div>"
      ],
      "text/plain": [
       "Empty DataFrame\n",
       "Columns: [Case, structure, metric, AAA, Dm, Dm-AAA]\n",
       "Index: []"
      ]
     },
     "execution_count": 32,
     "metadata": {},
     "output_type": "execute_result"
    }
   ],
   "source": [
    "Foramen_D01CC_fail = d[(d['structure'] == 'Foramen') & (d['metric'] == 'DMAX') & (d['AAA'] < 25.0) & (d['Dm'] > 25.0)]\n",
    "Foramen_D01CC_fail"
   ]
  },
  {
   "cell_type": "code",
   "execution_count": 33,
   "metadata": {
    "collapsed": false
   },
   "outputs": [
    {
     "data": {
      "text/html": [
       "<div>\n",
       "<table border=\"1\" class=\"dataframe\">\n",
       "  <thead>\n",
       "    <tr style=\"text-align: right;\">\n",
       "      <th></th>\n",
       "      <th>Case</th>\n",
       "      <th>structure</th>\n",
       "      <th>metric</th>\n",
       "      <th>AAA</th>\n",
       "      <th>Dm</th>\n",
       "      <th>Dm-AAA</th>\n",
       "    </tr>\n",
       "  </thead>\n",
       "  <tbody>\n",
       "  </tbody>\n",
       "</table>\n",
       "</div>"
      ],
      "text/plain": [
       "Empty DataFrame\n",
       "Columns: [Case, structure, metric, AAA, Dm, Dm-AAA]\n",
       "Index: []"
      ]
     },
     "execution_count": 33,
     "metadata": {},
     "output_type": "execute_result"
    }
   ],
   "source": [
    "Oesophagus_D01CC_fail = d[(d['structure'] == 'Oesophagus') & (d['metric'] == 'D0.1CC') & (d['AAA'] < 27.0) & (d['Dm'] > 27.0)]\n",
    "Oesophagus_D01CC_fail"
   ]
  },
  {
   "cell_type": "code",
   "execution_count": 34,
   "metadata": {
    "collapsed": false
   },
   "outputs": [
    {
     "data": {
      "text/html": [
       "<div>\n",
       "<table border=\"1\" class=\"dataframe\">\n",
       "  <thead>\n",
       "    <tr style=\"text-align: right;\">\n",
       "      <th></th>\n",
       "      <th>Case</th>\n",
       "      <th>structure</th>\n",
       "      <th>metric</th>\n",
       "      <th>AAA</th>\n",
       "      <th>Dm</th>\n",
       "      <th>Dm-AAA</th>\n",
       "    </tr>\n",
       "  </thead>\n",
       "  <tbody>\n",
       "    <tr>\n",
       "      <th>490</th>\n",
       "      <td>Case12</td>\n",
       "      <td>L Brachial plex</td>\n",
       "      <td>D0.1CC</td>\n",
       "      <td>0.108812</td>\n",
       "      <td>74.346465</td>\n",
       "      <td>74.237653</td>\n",
       "    </tr>\n",
       "  </tbody>\n",
       "</table>\n",
       "</div>"
      ],
      "text/plain": [
       "       Case        structure  metric       AAA         Dm     Dm-AAA\n",
       "490  Case12  L Brachial plex  D0.1CC  0.108812  74.346465  74.237653"
      ]
     },
     "execution_count": 34,
     "metadata": {},
     "output_type": "execute_result"
    }
   ],
   "source": [
    "LBrachial_D01CC_fail = d[(d['structure'] == 'L Brachial plex') & (d['metric'] == 'D0.1CC') & (d['AAA'] < 27.0) & (d['Dm'] > 27.0)]\n",
    "LBrachial_D01CC_fail"
   ]
  },
  {
   "cell_type": "code",
   "execution_count": 35,
   "metadata": {
    "collapsed": false
   },
   "outputs": [
    {
     "data": {
      "text/html": [
       "<div>\n",
       "<table border=\"1\" class=\"dataframe\">\n",
       "  <thead>\n",
       "    <tr style=\"text-align: right;\">\n",
       "      <th></th>\n",
       "      <th>Case</th>\n",
       "      <th>structure</th>\n",
       "      <th>metric</th>\n",
       "      <th>AAA</th>\n",
       "      <th>Dm</th>\n",
       "      <th>Dm-AAA</th>\n",
       "    </tr>\n",
       "  </thead>\n",
       "  <tbody>\n",
       "  </tbody>\n",
       "</table>\n",
       "</div>"
      ],
      "text/plain": [
       "Empty DataFrame\n",
       "Columns: [Case, structure, metric, AAA, Dm, Dm-AAA]\n",
       "Index: []"
      ]
     },
     "execution_count": 35,
     "metadata": {},
     "output_type": "execute_result"
    }
   ],
   "source": [
    "RBrachial_D01CC_fail = d[(d['structure'] == 'R Brachial plex') & (d['metric'] == 'D0.1CC') & (d['AAA'] < 27.0) & (d['Dm'] > 27.0)]\n",
    "RBrachial_D01CC_fail"
   ]
  },
  {
   "cell_type": "code",
   "execution_count": 36,
   "metadata": {
    "collapsed": false
   },
   "outputs": [
    {
     "data": {
      "text/html": [
       "<div>\n",
       "<table border=\"1\" class=\"dataframe\">\n",
       "  <thead>\n",
       "    <tr style=\"text-align: right;\">\n",
       "      <th></th>\n",
       "      <th>Case</th>\n",
       "      <th>structure</th>\n",
       "      <th>metric</th>\n",
       "      <th>AAA</th>\n",
       "      <th>Dm</th>\n",
       "      <th>Dm-AAA</th>\n",
       "    </tr>\n",
       "  </thead>\n",
       "  <tbody>\n",
       "  </tbody>\n",
       "</table>\n",
       "</div>"
      ],
      "text/plain": [
       "Empty DataFrame\n",
       "Columns: [Case, structure, metric, AAA, Dm, Dm-AAA]\n",
       "Index: []"
      ]
     },
     "execution_count": 36,
     "metadata": {},
     "output_type": "execute_result"
    }
   ],
   "source": [
    "Heart_D01CC_fail = d[(d['structure'] == 'Heart') & (d['metric'] == 'D0.1CC')& (d['Dm'] > 27.0) & (d['AAA'] < 27.0)]\n",
    "Heart_D01CC_fail"
   ]
  },
  {
   "cell_type": "code",
   "execution_count": 37,
   "metadata": {
    "collapsed": false
   },
   "outputs": [
    {
     "data": {
      "text/html": [
       "<div>\n",
       "<table border=\"1\" class=\"dataframe\">\n",
       "  <thead>\n",
       "    <tr style=\"text-align: right;\">\n",
       "      <th></th>\n",
       "      <th>Case</th>\n",
       "      <th>structure</th>\n",
       "      <th>metric</th>\n",
       "      <th>AAA</th>\n",
       "      <th>Dm</th>\n",
       "      <th>Dm-AAA</th>\n",
       "    </tr>\n",
       "  </thead>\n",
       "  <tbody>\n",
       "  </tbody>\n",
       "</table>\n",
       "</div>"
      ],
      "text/plain": [
       "Empty DataFrame\n",
       "Columns: [Case, structure, metric, AAA, Dm, Dm-AAA]\n",
       "Index: []"
      ]
     },
     "execution_count": 37,
     "metadata": {},
     "output_type": "execute_result"
    }
   ],
   "source": [
    "Trachea_D01CC_fail = d[(d['structure'] == 'Trachea') & (d['metric'] == 'D0.1CC') & (d['AAA'] < 32.0) & (d['Dm'] > 32.0)]\n",
    "Trachea_D01CC_fail"
   ]
  },
  {
   "cell_type": "code",
   "execution_count": 38,
   "metadata": {
    "collapsed": false
   },
   "outputs": [
    {
     "data": {
      "text/html": [
       "<div>\n",
       "<table border=\"1\" class=\"dataframe\">\n",
       "  <thead>\n",
       "    <tr style=\"text-align: right;\">\n",
       "      <th></th>\n",
       "      <th>Case</th>\n",
       "      <th>structure</th>\n",
       "      <th>metric</th>\n",
       "      <th>AAA</th>\n",
       "      <th>Dm</th>\n",
       "      <th>Dm-AAA</th>\n",
       "    </tr>\n",
       "  </thead>\n",
       "  <tbody>\n",
       "  </tbody>\n",
       "</table>\n",
       "</div>"
      ],
      "text/plain": [
       "Empty DataFrame\n",
       "Columns: [Case, structure, metric, AAA, Dm, Dm-AAA]\n",
       "Index: []"
      ]
     },
     "execution_count": 38,
     "metadata": {},
     "output_type": "execute_result"
    }
   ],
   "source": [
    "Bronchial_D01CC_fail = d[(d['structure'] == 'Bronchial tree') & (d['metric'] == 'D0.1CC') & (d['AAA'] < 32.0) & (d['Dm'] > 32.0)]\n",
    "Bronchial_D01CC_fail"
   ]
  },
  {
   "cell_type": "code",
   "execution_count": 39,
   "metadata": {
    "collapsed": false
   },
   "outputs": [
    {
     "data": {
      "text/html": [
       "<div>\n",
       "<table border=\"1\" class=\"dataframe\">\n",
       "  <thead>\n",
       "    <tr style=\"text-align: right;\">\n",
       "      <th></th>\n",
       "      <th>Case</th>\n",
       "      <th>structure</th>\n",
       "      <th>metric</th>\n",
       "      <th>AAA</th>\n",
       "      <th>Dm</th>\n",
       "      <th>Dm-AAA</th>\n",
       "    </tr>\n",
       "  </thead>\n",
       "  <tbody>\n",
       "  </tbody>\n",
       "</table>\n",
       "</div>"
      ],
      "text/plain": [
       "Empty DataFrame\n",
       "Columns: [Case, structure, metric, AAA, Dm, Dm-AAA]\n",
       "Index: []"
      ]
     },
     "execution_count": 39,
     "metadata": {},
     "output_type": "execute_result"
    }
   ],
   "source": [
    "Ribs_V30_fail = d[(d['structure'] == 'Ribs') & (d['metric'] == 'V30GY') & (d['AAA'] < 30.0) & (d['Dm'] > 30.0)]\n",
    "Ribs_V30_fail"
   ]
  },
  {
   "cell_type": "code",
   "execution_count": 40,
   "metadata": {
    "collapsed": false
   },
   "outputs": [
    {
     "data": {
      "text/html": [
       "<div>\n",
       "<table border=\"1\" class=\"dataframe\">\n",
       "  <thead>\n",
       "    <tr style=\"text-align: right;\">\n",
       "      <th></th>\n",
       "      <th>Case</th>\n",
       "      <th>structure</th>\n",
       "      <th>metric</th>\n",
       "      <th>AAA</th>\n",
       "      <th>Dm</th>\n",
       "      <th>Dm-AAA</th>\n",
       "    </tr>\n",
       "  </thead>\n",
       "  <tbody>\n",
       "    <tr>\n",
       "      <th>1421</th>\n",
       "      <td>Case22</td>\n",
       "      <td>Liver</td>\n",
       "      <td>D50%</td>\n",
       "      <td>1.250632</td>\n",
       "      <td>1.29488</td>\n",
       "      <td>0.044248</td>\n",
       "    </tr>\n",
       "  </tbody>\n",
       "</table>\n",
       "</div>"
      ],
      "text/plain": [
       "        Case structure metric       AAA       Dm    Dm-AAA\n",
       "1421  Case22     Liver   D50%  1.250632  1.29488  0.044248"
      ]
     },
     "execution_count": 40,
     "metadata": {},
     "output_type": "execute_result"
    }
   ],
   "source": [
    "Liver_D50_fail = d[(d['structure'] == 'Liver') & (d['metric'] == 'D50%') ]\n",
    "Liver_D50_fail"
   ]
  },
  {
   "cell_type": "code",
   "execution_count": 41,
   "metadata": {
    "collapsed": false
   },
   "outputs": [
    {
     "name": "stdout",
     "output_type": "stream",
     "text": [
      "1\n"
     ]
    },
    {
     "data": {
      "text/html": [
       "<div>\n",
       "<table border=\"1\" class=\"dataframe\">\n",
       "  <thead>\n",
       "    <tr style=\"text-align: right;\">\n",
       "      <th></th>\n",
       "      <th>Case</th>\n",
       "      <th>structure</th>\n",
       "      <th>metric</th>\n",
       "      <th>AAA</th>\n",
       "      <th>Dm</th>\n",
       "      <th>Dm-AAA</th>\n",
       "    </tr>\n",
       "  </thead>\n",
       "  <tbody>\n",
       "    <tr>\n",
       "      <th>223</th>\n",
       "      <td>Case5</td>\n",
       "      <td>PTV CHEST</td>\n",
       "      <td>D95%</td>\n",
       "      <td>55.648904</td>\n",
       "      <td>54.883221</td>\n",
       "      <td>-0.765683</td>\n",
       "    </tr>\n",
       "  </tbody>\n",
       "</table>\n",
       "</div>"
      ],
      "text/plain": [
       "      Case  structure metric        AAA         Dm    Dm-AAA\n",
       "223  Case5  PTV CHEST   D95%  55.648904  54.883221 -0.765683"
      ]
     },
     "execution_count": 41,
     "metadata": {},
     "output_type": "execute_result"
    }
   ],
   "source": [
    "failures = PTV_D95_fail\n",
    "failures = failures.append(PTV_D01CC_fail)\n",
    "#failures = failures.append(LBrachial_D01CC_fail)\n",
    "failures = failures.append(RBrachial_D01CC_fail)\n",
    "#failures = failures.append(Liver_D50_fail)\n",
    "print(failures.Case.unique().size)\n",
    "failures"
   ]
  },
  {
   "cell_type": "markdown",
   "metadata": {
    "collapsed": true
   },
   "source": [
    "# Single metric"
   ]
  },
  {
   "cell_type": "code",
   "execution_count": 42,
   "metadata": {
    "collapsed": false
   },
   "outputs": [
    {
     "data": {
      "image/png": "[encoded data removed]",
      "text/plain": [
       "<matplotlib.figure.Figure at 0xb4aaad0>"
      ]
     },
     "metadata": {},
     "output_type": "display_data"
    }
   ],
   "source": [
    "#structure = 'PTV CHEST'\n",
    "structure = 'ITV'\n",
    "metric = 'D50%'\n",
    "plt.figure(figsize=(5, 4)) \n",
    "bland_altman_plot(query_data(AAA_Dm_data, 'Dm', structure, metric), query_data(AAA_Dm_data, 'AAA',structure, metric), structure, metric)\n",
    "plt.show()"
   ]
  },
  {
   "cell_type": "code",
   "execution_count": 43,
   "metadata": {
    "collapsed": false
   },
   "outputs": [
    {
     "data": {
      "text/plain": [
       "156    66.950354\n",
       "310    74.081755\n",
       "464    69.628883\n",
       "607    68.480563\n",
       "761    68.723135\n",
       "Name: Dm, dtype: float64"
      ]
     },
     "execution_count": 43,
     "metadata": {},
     "output_type": "execute_result"
    }
   ],
   "source": [
    "query_data(AAA_Dm_data, 'Dm', structure, metric).head()"
   ]
  },
  {
   "cell_type": "code",
   "execution_count": 44,
   "metadata": {
    "collapsed": false
   },
   "outputs": [
    {
     "data": {
      "text/html": [
       "<div>\n",
       "<table border=\"1\" class=\"dataframe\">\n",
       "  <thead>\n",
       "    <tr style=\"text-align: right;\">\n",
       "      <th></th>\n",
       "      <th>Case</th>\n",
       "      <th>structure</th>\n",
       "      <th>metric</th>\n",
       "      <th>AAA</th>\n",
       "      <th>Dm</th>\n",
       "      <th>Dm-AAA</th>\n",
       "    </tr>\n",
       "  </thead>\n",
       "  <tbody>\n",
       "    <tr>\n",
       "      <th>101</th>\n",
       "      <td>Case1</td>\n",
       "      <td>PTV CHEST</td>\n",
       "      <td>D50%</td>\n",
       "      <td>64.965374</td>\n",
       "      <td>64.900700</td>\n",
       "      <td>-0.064674</td>\n",
       "    </tr>\n",
       "    <tr>\n",
       "      <th>222</th>\n",
       "      <td>Case5</td>\n",
       "      <td>PTV CHEST</td>\n",
       "      <td>D50%</td>\n",
       "      <td>67.930126</td>\n",
       "      <td>67.877952</td>\n",
       "      <td>-0.052174</td>\n",
       "    </tr>\n",
       "    <tr>\n",
       "      <th>387</th>\n",
       "      <td>Case11</td>\n",
       "      <td>PTV CHEST</td>\n",
       "      <td>D50%</td>\n",
       "      <td>64.871795</td>\n",
       "      <td>65.032941</td>\n",
       "      <td>0.161147</td>\n",
       "    </tr>\n",
       "    <tr>\n",
       "      <th>552</th>\n",
       "      <td>Case12</td>\n",
       "      <td>PTV CHEST</td>\n",
       "      <td>D50%</td>\n",
       "      <td>65.889287</td>\n",
       "      <td>66.211549</td>\n",
       "      <td>0.322262</td>\n",
       "    </tr>\n",
       "    <tr>\n",
       "      <th>684</th>\n",
       "      <td>Case13</td>\n",
       "      <td>PTV CHEST</td>\n",
       "      <td>D50%</td>\n",
       "      <td>64.793739</td>\n",
       "      <td>65.854182</td>\n",
       "      <td>1.060442</td>\n",
       "    </tr>\n",
       "    <tr>\n",
       "      <th>849</th>\n",
       "      <td>Case14</td>\n",
       "      <td>PTV CHEST</td>\n",
       "      <td>D50%</td>\n",
       "      <td>62.758152</td>\n",
       "      <td>63.923869</td>\n",
       "      <td>1.165716</td>\n",
       "    </tr>\n",
       "    <tr>\n",
       "      <th>1014</th>\n",
       "      <td>Case16</td>\n",
       "      <td>PTV CHEST</td>\n",
       "      <td>D50%</td>\n",
       "      <td>64.280239</td>\n",
       "      <td>64.556241</td>\n",
       "      <td>0.276002</td>\n",
       "    </tr>\n",
       "    <tr>\n",
       "      <th>1168</th>\n",
       "      <td>Case17</td>\n",
       "      <td>PTV CHEST</td>\n",
       "      <td>D50%</td>\n",
       "      <td>65.804513</td>\n",
       "      <td>66.406596</td>\n",
       "      <td>0.602083</td>\n",
       "    </tr>\n",
       "    <tr>\n",
       "      <th>1322</th>\n",
       "      <td>Case22</td>\n",
       "      <td>PTV CHEST</td>\n",
       "      <td>D50%</td>\n",
       "      <td>66.714681</td>\n",
       "      <td>66.914450</td>\n",
       "      <td>0.199769</td>\n",
       "    </tr>\n",
       "    <tr>\n",
       "      <th>1487</th>\n",
       "      <td>Case24</td>\n",
       "      <td>PTV CHEST</td>\n",
       "      <td>D50%</td>\n",
       "      <td>64.375040</td>\n",
       "      <td>64.870307</td>\n",
       "      <td>0.495268</td>\n",
       "    </tr>\n",
       "  </tbody>\n",
       "</table>\n",
       "</div>"
      ],
      "text/plain": [
       "        Case  structure metric        AAA         Dm    Dm-AAA\n",
       "101    Case1  PTV CHEST   D50%  64.965374  64.900700 -0.064674\n",
       "222    Case5  PTV CHEST   D50%  67.930126  67.877952 -0.052174\n",
       "387   Case11  PTV CHEST   D50%  64.871795  65.032941  0.161147\n",
       "552   Case12  PTV CHEST   D50%  65.889287  66.211549  0.322262\n",
       "684   Case13  PTV CHEST   D50%  64.793739  65.854182  1.060442\n",
       "849   Case14  PTV CHEST   D50%  62.758152  63.923869  1.165716\n",
       "1014  Case16  PTV CHEST   D50%  64.280239  64.556241  0.276002\n",
       "1168  Case17  PTV CHEST   D50%  65.804513  66.406596  0.602083\n",
       "1322  Case22  PTV CHEST   D50%  66.714681  66.914450  0.199769\n",
       "1487  Case24  PTV CHEST   D50%  64.375040  64.870307  0.495268"
      ]
     },
     "execution_count": 44,
     "metadata": {},
     "output_type": "execute_result"
    }
   ],
   "source": [
    "structure = 'PTV CHEST'\n",
    "metric = 'D50%'\n",
    "df = AAA_Dm_data[(AAA_Dm_data['structure'] == structure) & (AAA_Dm_data['metric'] == metric)]\n",
    "df "
   ]
  },
  {
   "cell_type": "code",
   "execution_count": 45,
   "metadata": {
    "collapsed": false
   },
   "outputs": [
    {
     "data": {
      "text/plain": [
       "0.41658409460164164"
      ]
     },
     "execution_count": 45,
     "metadata": {},
     "output_type": "execute_result"
    }
   ],
   "source": [
    "df['Dm-AAA'].mean()"
   ]
  },
  {
   "cell_type": "code",
   "execution_count": null,
   "metadata": {
    "collapsed": true
   },
   "outputs": [],
   "source": []
  }
 ],
 "metadata": {
  "anaconda-cloud": {},
  "kernelspec": {
   "display_name": "Python [conda root]",
   "language": "python",
   "name": "conda-root-py"
  },
  "language_info": {
   "codemirror_mode": {
    "name": "ipython",
    "version": 3
   },
   "file_extension": ".py",
   "mimetype": "text/x-python",
   "name": "python",
   "nbconvert_exporter": "python",
   "pygments_lexer": "ipython3",
   "version": "3.5.2"
  }
 },
 "nbformat": 4,
 "nbformat_minor": 1
}
