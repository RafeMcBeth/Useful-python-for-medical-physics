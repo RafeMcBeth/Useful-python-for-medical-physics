{
 "cells": [
  {
   "cell_type": "markdown",
   "metadata": {},
   "source": [
    "3-3-2017 Now makes use of new pyEclipseDVH_v2\n",
    "\n",
    "6-3-2017 dropped a few cases which were outliters\n",
    "\n",
    "8-3-2017 Compare dose metrics"
   ]
  },
  {
   "cell_type": "code",
   "execution_count": 1,
   "metadata": {
    "collapsed": false
   },
   "outputs": [
    {
     "data": {
      "application/javascript": [
       "IPython.notebook.set_autosave_interval(0)"
      ]
     },
     "metadata": {},
     "output_type": "display_data"
    },
    {
     "name": "stdout",
     "output_type": "stream",
     "text": [
      "Autosave disabled\n"
     ]
    }
   ],
   "source": [
    "%autosave 0  "
   ]
  },
  {
   "cell_type": "code",
   "execution_count": 2,
   "metadata": {
    "collapsed": false
   },
   "outputs": [],
   "source": [
    "import os\n",
    "%matplotlib inline\n",
    "import numpy as np\n",
    "import pandas as pd\n",
    "import matplotlib.pyplot as plt\n",
    "from pyEclipseDVH_v2 import List_txt, Load_patient, get_dmin, get_dmax, get_d_metric, Load_files_to_df\n",
    "\n",
    "from scipy import interpolate\n",
    "from scipy import stats\n",
    "from scipy.stats import wilcoxon  # must import explicitly"
   ]
  },
  {
   "cell_type": "code",
   "execution_count": 3,
   "metadata": {
    "collapsed": false
   },
   "outputs": [
    {
     "data": {
      "text/plain": [
       "['Case11_AAA.txt',\n",
       " 'Case11_AXB.txt',\n",
       " 'Case12_AAA.txt',\n",
       " 'Case12_AXB.txt',\n",
       " 'Case13_AAA.txt',\n",
       " 'Case13_AXB.txt',\n",
       " 'Case17_AAA.txt',\n",
       " 'Case17_AXB.txt',\n",
       " 'Case1_AAA.txt',\n",
       " 'Case1_AXB.txt',\n",
       " 'Case22_AAA.txt',\n",
       " 'Case22_AXB.txt']"
      ]
     },
     "execution_count": 3,
     "metadata": {},
     "output_type": "execute_result"
    }
   ],
   "source": [
    "files = List_txt()\n",
    "files"
   ]
  },
  {
   "cell_type": "code",
   "execution_count": 4,
   "metadata": {
    "collapsed": false
   },
   "outputs": [
    {
     "name": "stdout",
     "output_type": "stream",
     "text": [
      "Case11_AAA.txt loaded \t patID:Case11 PlanID:AAA and number of structures is 24\n",
      "Case11_AXB.txt loaded \t patID:Case11 PlanID:AXB and number of structures is 24\n",
      "Case12_AAA.txt loaded \t patID:Case12 PlanID:AAA and number of structures is 21\n",
      "Case12_AXB.txt loaded \t patID:Case12 PlanID:AXB and number of structures is 21\n",
      "Case13_AAA.txt loaded \t patID:Case13 PlanID:AAA and number of structures is 26\n",
      "Case13_AXB.txt loaded \t patID:Case13 PlanID:AXB and number of structures is 26\n",
      "Case17_AAA.txt loaded \t patID:Case17 PlanID:AAA and number of structures is 21\n",
      "Case17_AXB.txt loaded \t patID:Case17 PlanID:AXB and number of structures is 21\n",
      "Case1_AAA.txt loaded \t patID:Case1 PlanID:AAA and number of structures is 25\n",
      "Case1_AXB.txt loaded \t patID:Case1 PlanID:AXB and number of structures is 25\n",
      "Case22_AAA.txt loaded \t patID:Case22 PlanID:AAA and number of structures is 25\n",
      "Case22_AXB.txt loaded \t patID:Case22 PlanID:AXB and number of structures is 25\n"
     ]
    }
   ],
   "source": [
    "df = Load_files_to_df(files)"
   ]
  },
  {
   "cell_type": "code",
   "execution_count": 5,
   "metadata": {
    "collapsed": false
   },
   "outputs": [
    {
     "data": {
      "text/html": [
       "<div>\n",
       "<table border=\"1\" class=\"dataframe\">\n",
       "  <thead>\n",
       "    <tr>\n",
       "      <th>patID</th>\n",
       "      <th colspan=\"10\" halign=\"left\">Case11</th>\n",
       "      <th>...</th>\n",
       "      <th colspan=\"10\" halign=\"left\">Case22</th>\n",
       "    </tr>\n",
       "    <tr>\n",
       "      <th>planID</th>\n",
       "      <th colspan=\"10\" halign=\"left\">AAA</th>\n",
       "      <th>...</th>\n",
       "      <th colspan=\"10\" halign=\"left\">AXB</th>\n",
       "    </tr>\n",
       "    <tr>\n",
       "      <th>Structure</th>\n",
       "      <th>BODY</th>\n",
       "      <th>Foramen+3mm</th>\n",
       "      <th>L Brachial plex</th>\n",
       "      <th>Oesophagus</th>\n",
       "      <th>Heart</th>\n",
       "      <th>Trachea</th>\n",
       "      <th>Airway avoidance</th>\n",
       "      <th>PTV CHEST</th>\n",
       "      <th>Lt_Lung</th>\n",
       "      <th>Foramen</th>\n",
       "      <th>...</th>\n",
       "      <th>PseudoPTV-ITV</th>\n",
       "      <th>ITV</th>\n",
       "      <th>Pseudo Ring</th>\n",
       "      <th>ribs</th>\n",
       "      <th>R Brachial plex</th>\n",
       "      <th>Artefact</th>\n",
       "      <th>temp</th>\n",
       "      <th>Liver</th>\n",
       "      <th>Dose 50[%]</th>\n",
       "      <th>Dose 100[%]</th>\n",
       "    </tr>\n",
       "    <tr>\n",
       "      <th>Dose (Gy)</th>\n",
       "      <th></th>\n",
       "      <th></th>\n",
       "      <th></th>\n",
       "      <th></th>\n",
       "      <th></th>\n",
       "      <th></th>\n",
       "      <th></th>\n",
       "      <th></th>\n",
       "      <th></th>\n",
       "      <th></th>\n",
       "      <th></th>\n",
       "      <th></th>\n",
       "      <th></th>\n",
       "      <th></th>\n",
       "      <th></th>\n",
       "      <th></th>\n",
       "      <th></th>\n",
       "      <th></th>\n",
       "      <th></th>\n",
       "      <th></th>\n",
       "      <th></th>\n",
       "    </tr>\n",
       "  </thead>\n",
       "  <tbody>\n",
       "    <tr>\n",
       "      <th>0.00</th>\n",
       "      <td>100.000000</td>\n",
       "      <td>100.000000</td>\n",
       "      <td>100.000000</td>\n",
       "      <td>100.000000</td>\n",
       "      <td>100.000000</td>\n",
       "      <td>100.000000</td>\n",
       "      <td>100.0</td>\n",
       "      <td>100.0</td>\n",
       "      <td>100.000000</td>\n",
       "      <td>100.000000</td>\n",
       "      <td>...</td>\n",
       "      <td>100.0</td>\n",
       "      <td>100.0</td>\n",
       "      <td>100.0</td>\n",
       "      <td>100.0</td>\n",
       "      <td>100.000000</td>\n",
       "      <td>100.000000</td>\n",
       "      <td>100.000000</td>\n",
       "      <td>100.000000</td>\n",
       "      <td>100.0</td>\n",
       "      <td>100.0</td>\n",
       "    </tr>\n",
       "    <tr>\n",
       "      <th>0.05</th>\n",
       "      <td>73.579636</td>\n",
       "      <td>100.000000</td>\n",
       "      <td>99.999730</td>\n",
       "      <td>100.000000</td>\n",
       "      <td>100.000000</td>\n",
       "      <td>95.740093</td>\n",
       "      <td>100.0</td>\n",
       "      <td>100.0</td>\n",
       "      <td>100.000000</td>\n",
       "      <td>100.000000</td>\n",
       "      <td>...</td>\n",
       "      <td>100.0</td>\n",
       "      <td>100.0</td>\n",
       "      <td>100.0</td>\n",
       "      <td>100.0</td>\n",
       "      <td>100.000000</td>\n",
       "      <td>100.000000</td>\n",
       "      <td>100.000000</td>\n",
       "      <td>99.997635</td>\n",
       "      <td>100.0</td>\n",
       "      <td>100.0</td>\n",
       "    </tr>\n",
       "    <tr>\n",
       "      <th>0.10</th>\n",
       "      <td>59.431917</td>\n",
       "      <td>99.500253</td>\n",
       "      <td>49.951929</td>\n",
       "      <td>91.745447</td>\n",
       "      <td>99.948371</td>\n",
       "      <td>67.748328</td>\n",
       "      <td>100.0</td>\n",
       "      <td>100.0</td>\n",
       "      <td>99.901410</td>\n",
       "      <td>99.990019</td>\n",
       "      <td>...</td>\n",
       "      <td>100.0</td>\n",
       "      <td>100.0</td>\n",
       "      <td>100.0</td>\n",
       "      <td>100.0</td>\n",
       "      <td>88.845400</td>\n",
       "      <td>97.501684</td>\n",
       "      <td>100.000000</td>\n",
       "      <td>99.792447</td>\n",
       "      <td>100.0</td>\n",
       "      <td>100.0</td>\n",
       "    </tr>\n",
       "    <tr>\n",
       "      <th>0.15</th>\n",
       "      <td>51.095246</td>\n",
       "      <td>91.731018</td>\n",
       "      <td>10.590058</td>\n",
       "      <td>83.622085</td>\n",
       "      <td>98.053264</td>\n",
       "      <td>50.194165</td>\n",
       "      <td>100.0</td>\n",
       "      <td>100.0</td>\n",
       "      <td>96.984882</td>\n",
       "      <td>92.798198</td>\n",
       "      <td>...</td>\n",
       "      <td>100.0</td>\n",
       "      <td>100.0</td>\n",
       "      <td>100.0</td>\n",
       "      <td>100.0</td>\n",
       "      <td>71.930095</td>\n",
       "      <td>71.581485</td>\n",
       "      <td>99.999928</td>\n",
       "      <td>99.089665</td>\n",
       "      <td>100.0</td>\n",
       "      <td>100.0</td>\n",
       "    </tr>\n",
       "    <tr>\n",
       "      <th>0.20</th>\n",
       "      <td>45.605092</td>\n",
       "      <td>85.412271</td>\n",
       "      <td>0.000000</td>\n",
       "      <td>77.838281</td>\n",
       "      <td>95.523973</td>\n",
       "      <td>37.265473</td>\n",
       "      <td>100.0</td>\n",
       "      <td>100.0</td>\n",
       "      <td>91.856262</td>\n",
       "      <td>86.581735</td>\n",
       "      <td>...</td>\n",
       "      <td>100.0</td>\n",
       "      <td>100.0</td>\n",
       "      <td>100.0</td>\n",
       "      <td>100.0</td>\n",
       "      <td>28.644206</td>\n",
       "      <td>55.644619</td>\n",
       "      <td>99.999580</td>\n",
       "      <td>97.926520</td>\n",
       "      <td>100.0</td>\n",
       "      <td>100.0</td>\n",
       "    </tr>\n",
       "  </tbody>\n",
       "</table>\n",
       "<p>5 rows × 284 columns</p>\n",
       "</div>"
      ],
      "text/plain": [
       "patID          Case11                                                      \\\n",
       "planID            AAA                                                       \n",
       "Structure        BODY Foramen+3mm L Brachial plex  Oesophagus       Heart   \n",
       "Dose (Gy)                                                                   \n",
       "0.00       100.000000  100.000000      100.000000  100.000000  100.000000   \n",
       "0.05        73.579636  100.000000       99.999730  100.000000  100.000000   \n",
       "0.10        59.431917   99.500253       49.951929   91.745447   99.948371   \n",
       "0.15        51.095246   91.731018       10.590058   83.622085   98.053264   \n",
       "0.20        45.605092   85.412271        0.000000   77.838281   95.523973   \n",
       "\n",
       "patID                                                                     \\\n",
       "planID                                                                     \n",
       "Structure     Trachea Airway avoidance PTV CHEST     Lt_Lung     Foramen   \n",
       "Dose (Gy)                                                                  \n",
       "0.00       100.000000            100.0     100.0  100.000000  100.000000   \n",
       "0.05        95.740093            100.0     100.0  100.000000  100.000000   \n",
       "0.10        67.748328            100.0     100.0   99.901410   99.990019   \n",
       "0.15        50.194165            100.0     100.0   96.984882   92.798198   \n",
       "0.20        37.265473            100.0     100.0   91.856262   86.581735   \n",
       "\n",
       "patID         ...            Case22                                            \\\n",
       "planID        ...               AXB                                             \n",
       "Structure     ...     PseudoPTV-ITV    ITV Pseudo Ring   ribs R Brachial plex   \n",
       "Dose (Gy)     ...                                                               \n",
       "0.00          ...             100.0  100.0       100.0  100.0      100.000000   \n",
       "0.05          ...             100.0  100.0       100.0  100.0      100.000000   \n",
       "0.10          ...             100.0  100.0       100.0  100.0       88.845400   \n",
       "0.15          ...             100.0  100.0       100.0  100.0       71.930095   \n",
       "0.20          ...             100.0  100.0       100.0  100.0       28.644206   \n",
       "\n",
       "patID                                                                 \n",
       "planID                                                                \n",
       "Structure    Artefact        temp       Liver Dose 50[%] Dose 100[%]  \n",
       "Dose (Gy)                                                             \n",
       "0.00       100.000000  100.000000  100.000000      100.0       100.0  \n",
       "0.05       100.000000  100.000000   99.997635      100.0       100.0  \n",
       "0.10        97.501684  100.000000   99.792447      100.0       100.0  \n",
       "0.15        71.581485   99.999928   99.089665      100.0       100.0  \n",
       "0.20        55.644619   99.999580   97.926520      100.0       100.0  \n",
       "\n",
       "[5 rows x 284 columns]"
      ]
     },
     "execution_count": 5,
     "metadata": {},
     "output_type": "execute_result"
    }
   ],
   "source": [
    "df.head()"
   ]
  },
  {
   "cell_type": "code",
   "execution_count": 6,
   "metadata": {
    "collapsed": false
   },
   "outputs": [
    {
     "data": {
      "text/plain": [
       "Index(['Case1', 'Case11', 'Case12', 'Case13', 'Case17', 'Case22'], dtype='object', name='patID')"
      ]
     },
     "execution_count": 6,
     "metadata": {},
     "output_type": "execute_result"
    }
   ],
   "source": [
    "df.columns.levels[0]"
   ]
  },
  {
   "cell_type": "code",
   "execution_count": 7,
   "metadata": {
    "collapsed": false
   },
   "outputs": [
    {
     "data": {
      "text/plain": [
       "Index(['100[%]', '27Gy (Heart Tol)', '50[%]', 'Airway avoidance', 'Artefact',\n",
       "       'BODY', 'Body', 'Both Lungs', 'Both Lungs-ITV', 'Bronchial tree',\n",
       "       'Dose 100[%]', 'Dose 50[%]', 'Foramen', 'Foramen+3mm', 'Foramen+5mm',\n",
       "       'GTV', 'Great vessels', 'Heart', 'ITV', 'Inner Ring', 'L Brachial plex',\n",
       "       'Liver', 'Lt_Lung', 'Oesophagus', 'PTV CHEST', 'PTV ring 2-3cm',\n",
       "       'Pseudo ITV', 'Pseudo PTV', 'Pseudo Ribs', 'Pseudo Ring',\n",
       "       'PseudoPTV-ITV', 'R Brachial plex', 'Ribs', 'Rt Brachial plex',\n",
       "       'Rt_Lung', 'Skin', 'Trachea', 'ribs', 'skin', 'temp'],\n",
       "      dtype='object', name='Structure')"
      ]
     },
     "execution_count": 7,
     "metadata": {},
     "output_type": "execute_result"
    }
   ],
   "source": [
    "df.columns.levels[2]"
   ]
  },
  {
   "cell_type": "markdown",
   "metadata": {
    "collapsed": true
   },
   "source": [
    "## Do some plotting"
   ]
  },
  {
   "cell_type": "code",
   "execution_count": 8,
   "metadata": {
    "collapsed": false
   },
   "outputs": [
    {
     "data": {
      "text/plain": [
       "<matplotlib.text.Text at 0x962dad0>"
      ]
     },
     "execution_count": 8,
     "metadata": {},
     "output_type": "execute_result"
    },
    {
     "data": {
      "image/png": "[encoded data removed]",
      "text/plain": [
       "<matplotlib.figure.Figure at 0x9309cd0>"
      ]
     },
     "metadata": {},
     "output_type": "display_data"
    }
   ],
   "source": [
    "structure = 'PTV CHEST'\n",
    "#structure = 'ITV'\n",
    "AAA_df = df.xs(structure, level='Structure', axis=1).xs('AAA', level='planID', axis=1)\n",
    "AXB_df = df.xs(structure, level='Structure', axis=1).xs('AXB', level='planID', axis=1)\n",
    "\n",
    "xlimits = [50,75]\n",
    "transparency = 0.2\n",
    "height=4\n",
    "width=6           # wwidth of figs\n",
    "plt.figure(figsize=(width, height))\n",
    "    \n",
    "plt.fill_between(AAA_df.mean(axis = 1).index.values, (AAA_df.mean(axis = 1) - AAA_df.std(axis = 1)).values, (AAA_df.mean(axis = 1) + AAA_df.std(axis = 1)).values, color = 'm', alpha=transparency, interpolate=True)\n",
    "plt.plot(AAA_df.mean(axis = 1), color = 'm', label = 'AAA Mean', ls = '--') # , \n",
    "\n",
    "plt.fill_between(AXB_df.mean(axis = 1).index.values, (AXB_df.mean(axis = 1) - AXB_df.std(axis = 1)).values, (AXB_df.mean(axis = 1) + AXB_df.std(axis = 1)).values, color = 'g', alpha=transparency, interpolate=True)\n",
    "plt.plot(AXB_df.mean(axis = 1), color = 'g', label = 'AXB Mean', ls = '--') # \n",
    "\n",
    "#plt.legend(bbox_to_anchor=(1.05, 1), loc=2, borderaxespad=0.)\n",
    "plt.legend()\n",
    "plt.ylim([0,105])\n",
    "plt.xlim(xlimits)\n",
    "plt.title(structure + ' comparison of mean and standard deviation')\n",
    "plt.xlabel('Dose (Gy)')\n",
    "plt.ylabel('Ratio of total structure volume (%)')"
   ]
  },
  {
   "cell_type": "markdown",
   "metadata": {
    "collapsed": true
   },
   "source": [
    "## Single case"
   ]
  },
  {
   "cell_type": "code",
   "execution_count": 9,
   "metadata": {
    "collapsed": false
   },
   "outputs": [
    {
     "data": {
      "text/html": [
       "<div>\n",
       "<table border=\"1\" class=\"dataframe\">\n",
       "  <thead>\n",
       "    <tr style=\"text-align: right;\">\n",
       "      <th>patID</th>\n",
       "      <th>Case11</th>\n",
       "      <th>Case12</th>\n",
       "      <th>Case13</th>\n",
       "      <th>Case17</th>\n",
       "      <th>Case1</th>\n",
       "      <th>Case22</th>\n",
       "    </tr>\n",
       "    <tr>\n",
       "      <th>Dose (Gy)</th>\n",
       "      <th></th>\n",
       "      <th></th>\n",
       "      <th></th>\n",
       "      <th></th>\n",
       "      <th></th>\n",
       "      <th></th>\n",
       "    </tr>\n",
       "  </thead>\n",
       "  <tbody>\n",
       "    <tr>\n",
       "      <th>0.00</th>\n",
       "      <td>100.0</td>\n",
       "      <td>100.0</td>\n",
       "      <td>100.0</td>\n",
       "      <td>100.0</td>\n",
       "      <td>100.0</td>\n",
       "      <td>100.0</td>\n",
       "    </tr>\n",
       "    <tr>\n",
       "      <th>0.05</th>\n",
       "      <td>100.0</td>\n",
       "      <td>100.0</td>\n",
       "      <td>100.0</td>\n",
       "      <td>100.0</td>\n",
       "      <td>100.0</td>\n",
       "      <td>100.0</td>\n",
       "    </tr>\n",
       "    <tr>\n",
       "      <th>0.10</th>\n",
       "      <td>100.0</td>\n",
       "      <td>100.0</td>\n",
       "      <td>100.0</td>\n",
       "      <td>100.0</td>\n",
       "      <td>100.0</td>\n",
       "      <td>100.0</td>\n",
       "    </tr>\n",
       "    <tr>\n",
       "      <th>0.15</th>\n",
       "      <td>100.0</td>\n",
       "      <td>100.0</td>\n",
       "      <td>100.0</td>\n",
       "      <td>100.0</td>\n",
       "      <td>100.0</td>\n",
       "      <td>100.0</td>\n",
       "    </tr>\n",
       "    <tr>\n",
       "      <th>0.20</th>\n",
       "      <td>100.0</td>\n",
       "      <td>100.0</td>\n",
       "      <td>100.0</td>\n",
       "      <td>100.0</td>\n",
       "      <td>100.0</td>\n",
       "      <td>100.0</td>\n",
       "    </tr>\n",
       "  </tbody>\n",
       "</table>\n",
       "</div>"
      ],
      "text/plain": [
       "patID      Case11  Case12  Case13  Case17  Case1  Case22\n",
       "Dose (Gy)                                               \n",
       "0.00        100.0   100.0   100.0   100.0  100.0   100.0\n",
       "0.05        100.0   100.0   100.0   100.0  100.0   100.0\n",
       "0.10        100.0   100.0   100.0   100.0  100.0   100.0\n",
       "0.15        100.0   100.0   100.0   100.0  100.0   100.0\n",
       "0.20        100.0   100.0   100.0   100.0  100.0   100.0"
      ]
     },
     "execution_count": 9,
     "metadata": {},
     "output_type": "execute_result"
    }
   ],
   "source": [
    "AAA_df.head()"
   ]
  },
  {
   "cell_type": "code",
   "execution_count": 10,
   "metadata": {
    "collapsed": false
   },
   "outputs": [
    {
     "data": {
      "text/plain": [
       "(50, 75)"
      ]
     },
     "execution_count": 10,
     "metadata": {},
     "output_type": "execute_result"
    },
    {
     "data": {
      "image/png": "[encoded data removed]",
      "text/plain": [
       "<matplotlib.figure.Figure at 0x9309730>"
      ]
     },
     "metadata": {},
     "output_type": "display_data"
    }
   ],
   "source": [
    "structure = 'PTV CHEST'\n",
    "patient = 'Case12'\n",
    "AAA_df = df.xs(structure, level='Structure', axis=1).xs(patient, level='patID', axis=1)['AAA']\n",
    "AXB_df = df.xs(structure, level='Structure', axis=1).xs(patient, level='patID', axis=1)['AXB']\n",
    "\n",
    "plt.figure(figsize=(width, height))\n",
    "plt.plot(AAA_df, c='m')\n",
    "plt.plot(AXB_df, c='g')\n",
    "plt.legend()\n",
    "\n",
    "plt.title(patient + ': comparison of AAA and AXB \\n DVH of ' + structure)\n",
    "plt.xlabel('Dose (Gy)')\n",
    "plt.ylabel('Ratio of total structure volume (%)')\n",
    "plt.ylim([0,105])\n",
    "plt.xlim(xlimits)"
   ]
  },
  {
   "cell_type": "code",
   "execution_count": 15,
   "metadata": {
    "collapsed": false
   },
   "outputs": [
    {
     "data": {
      "text/plain": [
       "56.566103675333487"
      ]
     },
     "execution_count": 15,
     "metadata": {},
     "output_type": "execute_result"
    }
   ],
   "source": [
    "get_d_metric(AAA_df, 95)"
   ]
  },
  {
   "cell_type": "code",
   "execution_count": 16,
   "metadata": {
    "collapsed": false
   },
   "outputs": [
    {
     "data": {
      "text/plain": [
       "56.677321084404618"
      ]
     },
     "execution_count": 16,
     "metadata": {},
     "output_type": "execute_result"
    }
   ],
   "source": [
    "get_d_metric(AXB_df, 95)"
   ]
  },
  {
   "cell_type": "code",
   "execution_count": null,
   "metadata": {
    "collapsed": true
   },
   "outputs": [],
   "source": []
  }
 ],
 "metadata": {
  "anaconda-cloud": {},
  "kernelspec": {
   "display_name": "Python [conda root]",
   "language": "python",
   "name": "conda-root-py"
  },
  "language_info": {
   "codemirror_mode": {
    "name": "ipython",
    "version": 3
   },
   "file_extension": ".py",
   "mimetype": "text/x-python",
   "name": "python",
   "nbconvert_exporter": "python",
   "pygments_lexer": "ipython3",
   "version": "3.5.2"
  }
 },
 "nbformat": 4,
 "nbformat_minor": 1
}
