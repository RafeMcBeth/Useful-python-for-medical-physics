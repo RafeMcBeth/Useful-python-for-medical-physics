{
 "cells": [
  {
   "cell_type": "markdown",
   "metadata": {},
   "source": [
    "For H&N structures I export the following metrics\n",
    "D2%, D5%, D50%, D95%, D99%, D1cc,  D0.1cc, DMAX, DSD, DRX, DHI, V5Gy, V12.5Gy, V20Gy, V30Gy , V40Gy, V50Gy,  V55Gy  \n",
    "\n",
    "Clean up data"
   ]
  },
  {
   "cell_type": "code",
   "execution_count": 1,
   "metadata": {
    "collapsed": true
   },
   "outputs": [],
   "source": [
    "import pandas as pd\n",
    "import numpy as np\n",
    "import matplotlib.pyplot as plt\n",
    "%matplotlib inline"
   ]
  },
  {
   "cell_type": "code",
   "execution_count": 2,
   "metadata": {
    "collapsed": false
   },
   "outputs": [
    {
     "name": "stdout",
     "output_type": "stream",
     "text": [
      " Volume in drive C is WINDOWS\n",
      " Volume Serial Number is AE83-8D62\n",
      "\n",
      " Directory of C:\\Users\\RCole02.ROYALSURREY\\Desktop\\GitHub\\Useful-python-for-medical-physics\\Experiments in ipython notebooks\\Project\\Robin HN 21-11-2016\\Analysis 28-11-2016\n",
      "\n",
      "28/11/2016  11:30    <DIR>          .\n",
      "28/11/2016  11:30    <DIR>          ..\n",
      "28/11/2016  11:16    <DIR>          .ipynb_checkpoints\n",
      "28/11/2016  11:30            45,807 HN analysis part 1 - clean raw data 28-11-2016.ipynb\n",
      "28/11/2016  11:18             3,110 HN analysis part 2 - ANALYSIS 28-11-2016.ipynb\n",
      "28/11/2016  11:15           150,338 HN_df_clean_28_11.csv\n",
      "28/11/2016  10:05           248,684 HN_metrics_28_11.csv\n",
      "28/11/2016  10:07               190 Read.txt\n",
      "               5 File(s)        448,129 bytes\n",
      "               3 Dir(s)  365,410,902,016 bytes free\n"
     ]
    }
   ],
   "source": [
    "ls"
   ]
  },
  {
   "cell_type": "code",
   "execution_count": 3,
   "metadata": {
    "collapsed": true
   },
   "outputs": [],
   "source": [
    "HN_df = pd.read_csv('HN_metrics_28_11.csv')"
   ]
  },
  {
   "cell_type": "code",
   "execution_count": 4,
   "metadata": {
    "collapsed": false
   },
   "outputs": [
    {
     "data": {
      "text/html": [
       "<div>\n",
       "<table border=\"1\" class=\"dataframe\">\n",
       "  <thead>\n",
       "    <tr style=\"text-align: right;\">\n",
       "      <th></th>\n",
       "      <th>observed</th>\n",
       "      <th>metric</th>\n",
       "      <th>structure</th>\n",
       "      <th>patID</th>\n",
       "    </tr>\n",
       "  </thead>\n",
       "  <tbody>\n",
       "    <tr>\n",
       "      <th>0</th>\n",
       "      <td>59.460088</td>\n",
       "      <td>D2%</td>\n",
       "      <td>Pseudo Other</td>\n",
       "      <td>Case1_AAA_1</td>\n",
       "    </tr>\n",
       "    <tr>\n",
       "      <th>1</th>\n",
       "      <td>58.560934</td>\n",
       "      <td>D5%</td>\n",
       "      <td>Pseudo Other</td>\n",
       "      <td>Case1_AAA_1</td>\n",
       "    </tr>\n",
       "    <tr>\n",
       "      <th>2</th>\n",
       "      <td>55.705293</td>\n",
       "      <td>D50%</td>\n",
       "      <td>Pseudo Other</td>\n",
       "      <td>Case1_AAA_1</td>\n",
       "    </tr>\n",
       "    <tr>\n",
       "      <th>3</th>\n",
       "      <td>52.988249</td>\n",
       "      <td>D95%</td>\n",
       "      <td>Pseudo Other</td>\n",
       "      <td>Case1_AAA_1</td>\n",
       "    </tr>\n",
       "    <tr>\n",
       "      <th>4</th>\n",
       "      <td>51.702439</td>\n",
       "      <td>D99%</td>\n",
       "      <td>Pseudo Other</td>\n",
       "      <td>Case1_AAA_1</td>\n",
       "    </tr>\n",
       "  </tbody>\n",
       "</table>\n",
       "</div>"
      ],
      "text/plain": [
       "    observed metric     structure        patID\n",
       "0  59.460088    D2%  Pseudo Other  Case1_AAA_1\n",
       "1  58.560934    D5%  Pseudo Other  Case1_AAA_1\n",
       "2  55.705293   D50%  Pseudo Other  Case1_AAA_1\n",
       "3  52.988249   D95%  Pseudo Other  Case1_AAA_1\n",
       "4  51.702439   D99%  Pseudo Other  Case1_AAA_1"
      ]
     },
     "execution_count": 4,
     "metadata": {},
     "output_type": "execute_result"
    }
   ],
   "source": [
    "HN_df.head()"
   ]
  },
  {
   "cell_type": "code",
   "execution_count": 5,
   "metadata": {
    "collapsed": false
   },
   "outputs": [
    {
     "data": {
      "text/plain": [
       "array(['Pseudo Other', 'PTV2', 'PTV1', 'Body', 'R Optic Nerve',\n",
       "       'L Optic Nerve', 'R Lens', 'L Lens', 'R Parotid', 'L Parotid',\n",
       "       'Brain Stem', 'Spinal Cord', 'CTV54', 'GTV', 'CTV65', 'Pseudo PTV1',\n",
       "       'Pseudo PTV2', 'CTV 54Gy', 'CTV 65Gy', 'BODY', 'CTV60', 'All CTV54',\n",
       "       'PTV3', 'Pseudo PTV3'], dtype=object)"
      ]
     },
     "execution_count": 5,
     "metadata": {},
     "output_type": "execute_result"
    }
   ],
   "source": [
    "HN_df['structure'].unique()"
   ]
  },
  {
   "cell_type": "code",
   "execution_count": 6,
   "metadata": {
    "collapsed": false
   },
   "outputs": [
    {
     "data": {
      "text/plain": [
       "array(['Case1_AAA_1', 'Case1_AXB_Dm_1', 'Case2_AAA_1', 'Case2_AXB_Dm_1',\n",
       "       'Case3_AAA_1', 'Case3_AXB_Dm_1', 'Case4_AAA_1', 'Case4_AXB_Dm_1',\n",
       "       'Case5_AAA_1', 'Case5_AXB_Dm_1', 'Case6_AAA_1', 'Case6_Dm_1',\n",
       "       'Case7_AAA_1', 'Case7_Dm_1', 'Case8_AAA_1', 'Case8_Dm_1',\n",
       "       'Case9_AAA_1', 'Case9_Dm_1', 'Case10_AAA_1', 'Case10_Dm_1'], dtype=object)"
      ]
     },
     "execution_count": 6,
     "metadata": {},
     "output_type": "execute_result"
    }
   ],
   "source": [
    "HN_df['patID'].unique()"
   ]
  },
  {
   "cell_type": "code",
   "execution_count": 7,
   "metadata": {
    "collapsed": true
   },
   "outputs": [],
   "source": [
    "HN_df['Case'] = HN_df['patID'].str.split('_').str.get(0) # get Case2 etc \n",
    "HN_df['algo'] = HN_df['patID'].str.split('_').str.get(1) # get AXB or Dm"
   ]
  },
  {
   "cell_type": "code",
   "execution_count": 8,
   "metadata": {
    "collapsed": false
   },
   "outputs": [
    {
     "data": {
      "text/html": [
       "<div>\n",
       "<table border=\"1\" class=\"dataframe\">\n",
       "  <thead>\n",
       "    <tr style=\"text-align: right;\">\n",
       "      <th></th>\n",
       "      <th>observed</th>\n",
       "      <th>metric</th>\n",
       "      <th>structure</th>\n",
       "      <th>patID</th>\n",
       "      <th>Case</th>\n",
       "      <th>algo</th>\n",
       "    </tr>\n",
       "  </thead>\n",
       "  <tbody>\n",
       "    <tr>\n",
       "      <th>5593</th>\n",
       "      <td>100.000000</td>\n",
       "      <td>V20GY</td>\n",
       "      <td>Pseudo PTV3</td>\n",
       "      <td>Case10_Dm_1</td>\n",
       "      <td>Case10</td>\n",
       "      <td>Dm</td>\n",
       "    </tr>\n",
       "    <tr>\n",
       "      <th>5594</th>\n",
       "      <td>100.000000</td>\n",
       "      <td>V30GY</td>\n",
       "      <td>Pseudo PTV3</td>\n",
       "      <td>Case10_Dm_1</td>\n",
       "      <td>Case10</td>\n",
       "      <td>Dm</td>\n",
       "    </tr>\n",
       "    <tr>\n",
       "      <th>5595</th>\n",
       "      <td>100.000000</td>\n",
       "      <td>V40GY</td>\n",
       "      <td>Pseudo PTV3</td>\n",
       "      <td>Case10_Dm_1</td>\n",
       "      <td>Case10</td>\n",
       "      <td>Dm</td>\n",
       "    </tr>\n",
       "    <tr>\n",
       "      <th>5596</th>\n",
       "      <td>99.925582</td>\n",
       "      <td>V50GY</td>\n",
       "      <td>Pseudo PTV3</td>\n",
       "      <td>Case10_Dm_1</td>\n",
       "      <td>Case10</td>\n",
       "      <td>Dm</td>\n",
       "    </tr>\n",
       "    <tr>\n",
       "      <th>5597</th>\n",
       "      <td>81.478708</td>\n",
       "      <td>V55GY</td>\n",
       "      <td>Pseudo PTV3</td>\n",
       "      <td>Case10_Dm_1</td>\n",
       "      <td>Case10</td>\n",
       "      <td>Dm</td>\n",
       "    </tr>\n",
       "  </tbody>\n",
       "</table>\n",
       "</div>"
      ],
      "text/plain": [
       "        observed metric    structure        patID    Case algo\n",
       "5593  100.000000  V20GY  Pseudo PTV3  Case10_Dm_1  Case10   Dm\n",
       "5594  100.000000  V30GY  Pseudo PTV3  Case10_Dm_1  Case10   Dm\n",
       "5595  100.000000  V40GY  Pseudo PTV3  Case10_Dm_1  Case10   Dm\n",
       "5596   99.925582  V50GY  Pseudo PTV3  Case10_Dm_1  Case10   Dm\n",
       "5597   81.478708  V55GY  Pseudo PTV3  Case10_Dm_1  Case10   Dm"
      ]
     },
     "execution_count": 8,
     "metadata": {},
     "output_type": "execute_result"
    }
   ],
   "source": [
    "HN_df.tail()"
   ]
  },
  {
   "cell_type": "code",
   "execution_count": 9,
   "metadata": {
    "collapsed": true
   },
   "outputs": [],
   "source": [
    "HN_df['algo'].replace(to_replace='AXB', value='Dm', inplace=True)# replace"
   ]
  },
  {
   "cell_type": "code",
   "execution_count": 10,
   "metadata": {
    "collapsed": false
   },
   "outputs": [
    {
     "data": {
      "text/plain": [
       "count     5598\n",
       "unique       2\n",
       "top        AAA\n",
       "freq      2808\n",
       "Name: algo, dtype: object"
      ]
     },
     "execution_count": 10,
     "metadata": {},
     "output_type": "execute_result"
    }
   ],
   "source": [
    "HN_df['algo'].describe()"
   ]
  },
  {
   "cell_type": "code",
   "execution_count": 11,
   "metadata": {
    "collapsed": false
   },
   "outputs": [
    {
     "data": {
      "text/plain": [
       "2799.0"
      ]
     },
     "execution_count": 11,
     "metadata": {},
     "output_type": "execute_result"
    }
   ],
   "source": [
    "HN_df['algo'].count()/2"
   ]
  },
  {
   "cell_type": "markdown",
   "metadata": {},
   "source": [
    "OK so some more AAA than AXB Dm"
   ]
  },
  {
   "cell_type": "code",
   "execution_count": 12,
   "metadata": {
    "collapsed": false
   },
   "outputs": [
    {
     "data": {
      "text/html": [
       "<div>\n",
       "<table border=\"1\" class=\"dataframe\">\n",
       "  <thead>\n",
       "    <tr style=\"text-align: right;\">\n",
       "      <th></th>\n",
       "      <th>observed</th>\n",
       "      <th>metric</th>\n",
       "      <th>structure</th>\n",
       "      <th>patID</th>\n",
       "      <th>Case</th>\n",
       "      <th>algo</th>\n",
       "    </tr>\n",
       "  </thead>\n",
       "  <tbody>\n",
       "    <tr>\n",
       "      <th>0</th>\n",
       "      <td>59.460088</td>\n",
       "      <td>D2%</td>\n",
       "      <td>Pseudo Other</td>\n",
       "      <td>Case1_AAA_1</td>\n",
       "      <td>Case1</td>\n",
       "      <td>AAA</td>\n",
       "    </tr>\n",
       "    <tr>\n",
       "      <th>1</th>\n",
       "      <td>58.560934</td>\n",
       "      <td>D5%</td>\n",
       "      <td>Pseudo Other</td>\n",
       "      <td>Case1_AAA_1</td>\n",
       "      <td>Case1</td>\n",
       "      <td>AAA</td>\n",
       "    </tr>\n",
       "    <tr>\n",
       "      <th>2</th>\n",
       "      <td>55.705293</td>\n",
       "      <td>D50%</td>\n",
       "      <td>Pseudo Other</td>\n",
       "      <td>Case1_AAA_1</td>\n",
       "      <td>Case1</td>\n",
       "      <td>AAA</td>\n",
       "    </tr>\n",
       "    <tr>\n",
       "      <th>3</th>\n",
       "      <td>52.988249</td>\n",
       "      <td>D95%</td>\n",
       "      <td>Pseudo Other</td>\n",
       "      <td>Case1_AAA_1</td>\n",
       "      <td>Case1</td>\n",
       "      <td>AAA</td>\n",
       "    </tr>\n",
       "    <tr>\n",
       "      <th>4</th>\n",
       "      <td>51.702439</td>\n",
       "      <td>D99%</td>\n",
       "      <td>Pseudo Other</td>\n",
       "      <td>Case1_AAA_1</td>\n",
       "      <td>Case1</td>\n",
       "      <td>AAA</td>\n",
       "    </tr>\n",
       "  </tbody>\n",
       "</table>\n",
       "</div>"
      ],
      "text/plain": [
       "    observed metric     structure        patID   Case algo\n",
       "0  59.460088    D2%  Pseudo Other  Case1_AAA_1  Case1  AAA\n",
       "1  58.560934    D5%  Pseudo Other  Case1_AAA_1  Case1  AAA\n",
       "2  55.705293   D50%  Pseudo Other  Case1_AAA_1  Case1  AAA\n",
       "3  52.988249   D95%  Pseudo Other  Case1_AAA_1  Case1  AAA\n",
       "4  51.702439   D99%  Pseudo Other  Case1_AAA_1  Case1  AAA"
      ]
     },
     "execution_count": 12,
     "metadata": {},
     "output_type": "execute_result"
    }
   ],
   "source": [
    "HN_df.head()"
   ]
  },
  {
   "cell_type": "code",
   "execution_count": 13,
   "metadata": {
    "collapsed": false
   },
   "outputs": [
    {
     "data": {
      "text/plain": [
       "structure\n",
       "All CTV54         1\n",
       "BODY              3\n",
       "Body              7\n",
       "Brain Stem       10\n",
       "CTV 54Gy          1\n",
       "CTV 65Gy          1\n",
       "CTV54             6\n",
       "CTV60             2\n",
       "CTV65             9\n",
       "GTV               6\n",
       "L Lens           10\n",
       "L Optic Nerve     7\n",
       "L Parotid        10\n",
       "PTV1             10\n",
       "PTV2             10\n",
       "PTV3              1\n",
       "Pseudo Other      4\n",
       "Pseudo PTV1      10\n",
       "Pseudo PTV2      10\n",
       "Pseudo PTV3       1\n",
       "R Lens           10\n",
       "R Optic Nerve     7\n",
       "R Parotid        10\n",
       "Spinal Cord      10\n",
       "Name: observed, dtype: int64"
      ]
     },
     "execution_count": 13,
     "metadata": {},
     "output_type": "execute_result"
    }
   ],
   "source": [
    "HN_df[(HN_df['algo']=='AAA') & (HN_df['metric'] == 'D50%')].groupby(['structure']).count()['observed']  # these are my structure counts"
   ]
  },
  {
   "cell_type": "markdown",
   "metadata": {},
   "source": [
    "Rename some structures for consistency"
   ]
  },
  {
   "cell_type": "code",
   "execution_count": 14,
   "metadata": {
    "collapsed": true
   },
   "outputs": [],
   "source": [
    "HN_df['structure'].replace(to_replace='CTV 54Gy', value='CTV54', inplace=True)# replace\n",
    "HN_df['structure'].replace(to_replace='CTV 65Gy', value='CTV65', inplace=True)# replace\n",
    "HN_df['structure'].replace(to_replace='BODY', value='Body', inplace=True)# replace"
   ]
  },
  {
   "cell_type": "code",
   "execution_count": 15,
   "metadata": {
    "collapsed": false
   },
   "outputs": [
    {
     "data": {
      "text/plain": [
       "structure\n",
       "All CTV54         1\n",
       "Body             10\n",
       "Brain Stem       10\n",
       "CTV54             7\n",
       "CTV60             2\n",
       "CTV65            10\n",
       "GTV               6\n",
       "L Lens           10\n",
       "L Optic Nerve     7\n",
       "L Parotid        10\n",
       "PTV1             10\n",
       "PTV2             10\n",
       "PTV3              1\n",
       "Pseudo Other      4\n",
       "Pseudo PTV1      10\n",
       "Pseudo PTV2      10\n",
       "Pseudo PTV3       1\n",
       "R Lens           10\n",
       "R Optic Nerve     7\n",
       "R Parotid        10\n",
       "Spinal Cord      10\n",
       "Name: observed, dtype: int64"
      ]
     },
     "execution_count": 15,
     "metadata": {},
     "output_type": "execute_result"
    }
   ],
   "source": [
    "HN_df[(HN_df['algo']=='AAA') & (HN_df['metric'] == 'D50%')].groupby(['structure']).count()['observed'] "
   ]
  },
  {
   "cell_type": "code",
   "execution_count": 16,
   "metadata": {
    "collapsed": false
   },
   "outputs": [
    {
     "data": {
      "text/plain": [
       "structure\n",
       "All CTV54         1\n",
       "Body             10\n",
       "Brain Stem       10\n",
       "CTV54             7\n",
       "CTV60             2\n",
       "CTV65            10\n",
       "GTV               5\n",
       "L Lens           10\n",
       "L Optic Nerve     7\n",
       "L Parotid        10\n",
       "PTV1             10\n",
       "PTV2             10\n",
       "PTV3              1\n",
       "Pseudo Other      4\n",
       "Pseudo PTV1      10\n",
       "Pseudo PTV2      10\n",
       "Pseudo PTV3       1\n",
       "R Lens           10\n",
       "R Optic Nerve     7\n",
       "R Parotid        10\n",
       "Spinal Cord      10\n",
       "Name: observed, dtype: int64"
      ]
     },
     "execution_count": 16,
     "metadata": {},
     "output_type": "execute_result"
    }
   ],
   "source": [
    "HN_df[(HN_df['algo']=='Dm') & (HN_df['metric'] == 'D50%')].groupby(['structure']).count()['observed'] "
   ]
  },
  {
   "cell_type": "markdown",
   "metadata": {},
   "source": [
    "AAA has 1 more GTV"
   ]
  },
  {
   "cell_type": "code",
   "execution_count": 17,
   "metadata": {
    "collapsed": false
   },
   "outputs": [
    {
     "data": {
      "text/plain": [
       "Case2_AAA_1       36\n",
       "Case1_AAA_1       18\n",
       "Case7_AAA_1       18\n",
       "Case8_Dm_1        18\n",
       "Case8_AAA_1       18\n",
       "Case5_AXB_Dm_1    18\n",
       "Case5_AAA_1       18\n",
       "Case2_AXB_Dm_1    18\n",
       "Case7_Dm_1        18\n",
       "Case1_AXB_Dm_1    18\n",
       "Name: patID, dtype: int64"
      ]
     },
     "execution_count": 17,
     "metadata": {},
     "output_type": "execute_result"
    }
   ],
   "source": [
    "HN_df[(HN_df['structure']=='GTV')]['patID'].value_counts()  # Case 2 is our problem"
   ]
  },
  {
   "cell_type": "code",
   "execution_count": 18,
   "metadata": {
    "collapsed": false
   },
   "outputs": [
    {
     "data": {
      "text/html": [
       "<div>\n",
       "<table border=\"1\" class=\"dataframe\">\n",
       "  <thead>\n",
       "    <tr style=\"text-align: right;\">\n",
       "      <th></th>\n",
       "      <th>observed</th>\n",
       "      <th>metric</th>\n",
       "      <th>structure</th>\n",
       "      <th>patID</th>\n",
       "      <th>Case</th>\n",
       "      <th>algo</th>\n",
       "    </tr>\n",
       "  </thead>\n",
       "  <tbody>\n",
       "    <tr>\n",
       "      <th>846</th>\n",
       "      <td>72.198881</td>\n",
       "      <td>D2%</td>\n",
       "      <td>GTV</td>\n",
       "      <td>Case2_AAA_1</td>\n",
       "      <td>Case2</td>\n",
       "      <td>AAA</td>\n",
       "    </tr>\n",
       "    <tr>\n",
       "      <th>847</th>\n",
       "      <td>72.032154</td>\n",
       "      <td>D5%</td>\n",
       "      <td>GTV</td>\n",
       "      <td>Case2_AAA_1</td>\n",
       "      <td>Case2</td>\n",
       "      <td>AAA</td>\n",
       "    </tr>\n",
       "    <tr>\n",
       "      <th>848</th>\n",
       "      <td>70.196833</td>\n",
       "      <td>D50%</td>\n",
       "      <td>GTV</td>\n",
       "      <td>Case2_AAA_1</td>\n",
       "      <td>Case2</td>\n",
       "      <td>AAA</td>\n",
       "    </tr>\n",
       "    <tr>\n",
       "      <th>849</th>\n",
       "      <td>67.864151</td>\n",
       "      <td>D95%</td>\n",
       "      <td>GTV</td>\n",
       "      <td>Case2_AAA_1</td>\n",
       "      <td>Case2</td>\n",
       "      <td>AAA</td>\n",
       "    </tr>\n",
       "    <tr>\n",
       "      <th>850</th>\n",
       "      <td>66.436992</td>\n",
       "      <td>D99%</td>\n",
       "      <td>GTV</td>\n",
       "      <td>Case2_AAA_1</td>\n",
       "      <td>Case2</td>\n",
       "      <td>AAA</td>\n",
       "    </tr>\n",
       "    <tr>\n",
       "      <th>851</th>\n",
       "      <td>68.348997</td>\n",
       "      <td>D1CC</td>\n",
       "      <td>GTV</td>\n",
       "      <td>Case2_AAA_1</td>\n",
       "      <td>Case2</td>\n",
       "      <td>AAA</td>\n",
       "    </tr>\n",
       "    <tr>\n",
       "      <th>852</th>\n",
       "      <td>71.844413</td>\n",
       "      <td>D0.1CC</td>\n",
       "      <td>GTV</td>\n",
       "      <td>Case2_AAA_1</td>\n",
       "      <td>Case2</td>\n",
       "      <td>AAA</td>\n",
       "    </tr>\n",
       "    <tr>\n",
       "      <th>853</th>\n",
       "      <td>72.551160</td>\n",
       "      <td>DMAX</td>\n",
       "      <td>GTV</td>\n",
       "      <td>Case2_AAA_1</td>\n",
       "      <td>Case2</td>\n",
       "      <td>AAA</td>\n",
       "    </tr>\n",
       "    <tr>\n",
       "      <th>854</th>\n",
       "      <td>1.300200</td>\n",
       "      <td>DSD</td>\n",
       "      <td>GTV</td>\n",
       "      <td>Case2_AAA_1</td>\n",
       "      <td>Case2</td>\n",
       "      <td>AAA</td>\n",
       "    </tr>\n",
       "    <tr>\n",
       "      <th>855</th>\n",
       "      <td>65.010000</td>\n",
       "      <td>DRX</td>\n",
       "      <td>GTV</td>\n",
       "      <td>Case2_AAA_1</td>\n",
       "      <td>Case2</td>\n",
       "      <td>AAA</td>\n",
       "    </tr>\n",
       "    <tr>\n",
       "      <th>856</th>\n",
       "      <td>0.073933</td>\n",
       "      <td>DHI</td>\n",
       "      <td>GTV</td>\n",
       "      <td>Case2_AAA_1</td>\n",
       "      <td>Case2</td>\n",
       "      <td>AAA</td>\n",
       "    </tr>\n",
       "    <tr>\n",
       "      <th>857</th>\n",
       "      <td>100.000000</td>\n",
       "      <td>V5GY</td>\n",
       "      <td>GTV</td>\n",
       "      <td>Case2_AAA_1</td>\n",
       "      <td>Case2</td>\n",
       "      <td>AAA</td>\n",
       "    </tr>\n",
       "    <tr>\n",
       "      <th>858</th>\n",
       "      <td>100.000000</td>\n",
       "      <td>V12.5GY</td>\n",
       "      <td>GTV</td>\n",
       "      <td>Case2_AAA_1</td>\n",
       "      <td>Case2</td>\n",
       "      <td>AAA</td>\n",
       "    </tr>\n",
       "    <tr>\n",
       "      <th>859</th>\n",
       "      <td>100.000000</td>\n",
       "      <td>V20GY</td>\n",
       "      <td>GTV</td>\n",
       "      <td>Case2_AAA_1</td>\n",
       "      <td>Case2</td>\n",
       "      <td>AAA</td>\n",
       "    </tr>\n",
       "    <tr>\n",
       "      <th>860</th>\n",
       "      <td>100.000000</td>\n",
       "      <td>V30GY</td>\n",
       "      <td>GTV</td>\n",
       "      <td>Case2_AAA_1</td>\n",
       "      <td>Case2</td>\n",
       "      <td>AAA</td>\n",
       "    </tr>\n",
       "    <tr>\n",
       "      <th>861</th>\n",
       "      <td>100.000000</td>\n",
       "      <td>V40GY</td>\n",
       "      <td>GTV</td>\n",
       "      <td>Case2_AAA_1</td>\n",
       "      <td>Case2</td>\n",
       "      <td>AAA</td>\n",
       "    </tr>\n",
       "    <tr>\n",
       "      <th>862</th>\n",
       "      <td>100.000000</td>\n",
       "      <td>V50GY</td>\n",
       "      <td>GTV</td>\n",
       "      <td>Case2_AAA_1</td>\n",
       "      <td>Case2</td>\n",
       "      <td>AAA</td>\n",
       "    </tr>\n",
       "    <tr>\n",
       "      <th>863</th>\n",
       "      <td>100.000000</td>\n",
       "      <td>V55GY</td>\n",
       "      <td>GTV</td>\n",
       "      <td>Case2_AAA_1</td>\n",
       "      <td>Case2</td>\n",
       "      <td>AAA</td>\n",
       "    </tr>\n",
       "    <tr>\n",
       "      <th>864</th>\n",
       "      <td>72.501569</td>\n",
       "      <td>D2%</td>\n",
       "      <td>GTV</td>\n",
       "      <td>Case2_AAA_1</td>\n",
       "      <td>Case2</td>\n",
       "      <td>AAA</td>\n",
       "    </tr>\n",
       "    <tr>\n",
       "      <th>865</th>\n",
       "      <td>72.005439</td>\n",
       "      <td>D5%</td>\n",
       "      <td>GTV</td>\n",
       "      <td>Case2_AAA_1</td>\n",
       "      <td>Case2</td>\n",
       "      <td>AAA</td>\n",
       "    </tr>\n",
       "    <tr>\n",
       "      <th>866</th>\n",
       "      <td>69.529525</td>\n",
       "      <td>D50%</td>\n",
       "      <td>GTV</td>\n",
       "      <td>Case2_AAA_1</td>\n",
       "      <td>Case2</td>\n",
       "      <td>AAA</td>\n",
       "    </tr>\n",
       "    <tr>\n",
       "      <th>867</th>\n",
       "      <td>66.604561</td>\n",
       "      <td>D95%</td>\n",
       "      <td>GTV</td>\n",
       "      <td>Case2_AAA_1</td>\n",
       "      <td>Case2</td>\n",
       "      <td>AAA</td>\n",
       "    </tr>\n",
       "    <tr>\n",
       "      <th>868</th>\n",
       "      <td>65.096613</td>\n",
       "      <td>D99%</td>\n",
       "      <td>GTV</td>\n",
       "      <td>Case2_AAA_1</td>\n",
       "      <td>Case2</td>\n",
       "      <td>AAA</td>\n",
       "    </tr>\n",
       "    <tr>\n",
       "      <th>869</th>\n",
       "      <td>72.093272</td>\n",
       "      <td>D1CC</td>\n",
       "      <td>GTV</td>\n",
       "      <td>Case2_AAA_1</td>\n",
       "      <td>Case2</td>\n",
       "      <td>AAA</td>\n",
       "    </tr>\n",
       "    <tr>\n",
       "      <th>870</th>\n",
       "      <td>72.963822</td>\n",
       "      <td>D0.1CC</td>\n",
       "      <td>GTV</td>\n",
       "      <td>Case2_AAA_1</td>\n",
       "      <td>Case2</td>\n",
       "      <td>AAA</td>\n",
       "    </tr>\n",
       "    <tr>\n",
       "      <th>871</th>\n",
       "      <td>73.526310</td>\n",
       "      <td>DMAX</td>\n",
       "      <td>GTV</td>\n",
       "      <td>Case2_AAA_1</td>\n",
       "      <td>Case2</td>\n",
       "      <td>AAA</td>\n",
       "    </tr>\n",
       "    <tr>\n",
       "      <th>872</th>\n",
       "      <td>1.560240</td>\n",
       "      <td>DSD</td>\n",
       "      <td>GTV</td>\n",
       "      <td>Case2_AAA_1</td>\n",
       "      <td>Case2</td>\n",
       "      <td>AAA</td>\n",
       "    </tr>\n",
       "    <tr>\n",
       "      <th>873</th>\n",
       "      <td>65.010000</td>\n",
       "      <td>DRX</td>\n",
       "      <td>GTV</td>\n",
       "      <td>Case2_AAA_1</td>\n",
       "      <td>Case2</td>\n",
       "      <td>AAA</td>\n",
       "    </tr>\n",
       "    <tr>\n",
       "      <th>874</th>\n",
       "      <td>0.097651</td>\n",
       "      <td>DHI</td>\n",
       "      <td>GTV</td>\n",
       "      <td>Case2_AAA_1</td>\n",
       "      <td>Case2</td>\n",
       "      <td>AAA</td>\n",
       "    </tr>\n",
       "    <tr>\n",
       "      <th>875</th>\n",
       "      <td>100.000000</td>\n",
       "      <td>V5GY</td>\n",
       "      <td>GTV</td>\n",
       "      <td>Case2_AAA_1</td>\n",
       "      <td>Case2</td>\n",
       "      <td>AAA</td>\n",
       "    </tr>\n",
       "    <tr>\n",
       "      <th>876</th>\n",
       "      <td>100.000000</td>\n",
       "      <td>V12.5GY</td>\n",
       "      <td>GTV</td>\n",
       "      <td>Case2_AAA_1</td>\n",
       "      <td>Case2</td>\n",
       "      <td>AAA</td>\n",
       "    </tr>\n",
       "    <tr>\n",
       "      <th>877</th>\n",
       "      <td>100.000000</td>\n",
       "      <td>V20GY</td>\n",
       "      <td>GTV</td>\n",
       "      <td>Case2_AAA_1</td>\n",
       "      <td>Case2</td>\n",
       "      <td>AAA</td>\n",
       "    </tr>\n",
       "    <tr>\n",
       "      <th>878</th>\n",
       "      <td>100.000000</td>\n",
       "      <td>V30GY</td>\n",
       "      <td>GTV</td>\n",
       "      <td>Case2_AAA_1</td>\n",
       "      <td>Case2</td>\n",
       "      <td>AAA</td>\n",
       "    </tr>\n",
       "    <tr>\n",
       "      <th>879</th>\n",
       "      <td>100.000000</td>\n",
       "      <td>V40GY</td>\n",
       "      <td>GTV</td>\n",
       "      <td>Case2_AAA_1</td>\n",
       "      <td>Case2</td>\n",
       "      <td>AAA</td>\n",
       "    </tr>\n",
       "    <tr>\n",
       "      <th>880</th>\n",
       "      <td>100.000000</td>\n",
       "      <td>V50GY</td>\n",
       "      <td>GTV</td>\n",
       "      <td>Case2_AAA_1</td>\n",
       "      <td>Case2</td>\n",
       "      <td>AAA</td>\n",
       "    </tr>\n",
       "    <tr>\n",
       "      <th>881</th>\n",
       "      <td>100.000000</td>\n",
       "      <td>V55GY</td>\n",
       "      <td>GTV</td>\n",
       "      <td>Case2_AAA_1</td>\n",
       "      <td>Case2</td>\n",
       "      <td>AAA</td>\n",
       "    </tr>\n",
       "  </tbody>\n",
       "</table>\n",
       "</div>"
      ],
      "text/plain": [
       "       observed   metric structure        patID   Case algo\n",
       "846   72.198881      D2%       GTV  Case2_AAA_1  Case2  AAA\n",
       "847   72.032154      D5%       GTV  Case2_AAA_1  Case2  AAA\n",
       "848   70.196833     D50%       GTV  Case2_AAA_1  Case2  AAA\n",
       "849   67.864151     D95%       GTV  Case2_AAA_1  Case2  AAA\n",
       "850   66.436992     D99%       GTV  Case2_AAA_1  Case2  AAA\n",
       "851   68.348997     D1CC       GTV  Case2_AAA_1  Case2  AAA\n",
       "852   71.844413   D0.1CC       GTV  Case2_AAA_1  Case2  AAA\n",
       "853   72.551160     DMAX       GTV  Case2_AAA_1  Case2  AAA\n",
       "854    1.300200      DSD       GTV  Case2_AAA_1  Case2  AAA\n",
       "855   65.010000      DRX       GTV  Case2_AAA_1  Case2  AAA\n",
       "856    0.073933      DHI       GTV  Case2_AAA_1  Case2  AAA\n",
       "857  100.000000     V5GY       GTV  Case2_AAA_1  Case2  AAA\n",
       "858  100.000000  V12.5GY       GTV  Case2_AAA_1  Case2  AAA\n",
       "859  100.000000    V20GY       GTV  Case2_AAA_1  Case2  AAA\n",
       "860  100.000000    V30GY       GTV  Case2_AAA_1  Case2  AAA\n",
       "861  100.000000    V40GY       GTV  Case2_AAA_1  Case2  AAA\n",
       "862  100.000000    V50GY       GTV  Case2_AAA_1  Case2  AAA\n",
       "863  100.000000    V55GY       GTV  Case2_AAA_1  Case2  AAA\n",
       "864   72.501569      D2%       GTV  Case2_AAA_1  Case2  AAA\n",
       "865   72.005439      D5%       GTV  Case2_AAA_1  Case2  AAA\n",
       "866   69.529525     D50%       GTV  Case2_AAA_1  Case2  AAA\n",
       "867   66.604561     D95%       GTV  Case2_AAA_1  Case2  AAA\n",
       "868   65.096613     D99%       GTV  Case2_AAA_1  Case2  AAA\n",
       "869   72.093272     D1CC       GTV  Case2_AAA_1  Case2  AAA\n",
       "870   72.963822   D0.1CC       GTV  Case2_AAA_1  Case2  AAA\n",
       "871   73.526310     DMAX       GTV  Case2_AAA_1  Case2  AAA\n",
       "872    1.560240      DSD       GTV  Case2_AAA_1  Case2  AAA\n",
       "873   65.010000      DRX       GTV  Case2_AAA_1  Case2  AAA\n",
       "874    0.097651      DHI       GTV  Case2_AAA_1  Case2  AAA\n",
       "875  100.000000     V5GY       GTV  Case2_AAA_1  Case2  AAA\n",
       "876  100.000000  V12.5GY       GTV  Case2_AAA_1  Case2  AAA\n",
       "877  100.000000    V20GY       GTV  Case2_AAA_1  Case2  AAA\n",
       "878  100.000000    V30GY       GTV  Case2_AAA_1  Case2  AAA\n",
       "879  100.000000    V40GY       GTV  Case2_AAA_1  Case2  AAA\n",
       "880  100.000000    V50GY       GTV  Case2_AAA_1  Case2  AAA\n",
       "881  100.000000    V55GY       GTV  Case2_AAA_1  Case2  AAA"
      ]
     },
     "execution_count": 18,
     "metadata": {},
     "output_type": "execute_result"
    }
   ],
   "source": [
    "HN_df[(HN_df['structure']=='GTV') & (HN_df['Case']=='Case2') & (HN_df['algo']=='AAA')]"
   ]
  },
  {
   "cell_type": "markdown",
   "metadata": {},
   "source": [
    "I have incorrectly named 2 structues as GTV for Case2 AAA. Just drop as not interested in GTV"
   ]
  },
  {
   "cell_type": "code",
   "execution_count": 19,
   "metadata": {
    "collapsed": true
   },
   "outputs": [],
   "source": [
    "structures_to_keep = ['Pseudo PTV1', \n",
    "                      'Pseudo PTV2', \n",
    "                      'CTV65',\n",
    "                      'Body',\n",
    "                      'Brain Stem',\n",
    "                      'L Parotid', \n",
    "                      'R Parotid',\n",
    "                      'Spinal Cord']"
   ]
  },
  {
   "cell_type": "code",
   "execution_count": 20,
   "metadata": {
    "collapsed": false
   },
   "outputs": [],
   "source": [
    "HN = HN_df[HN_df['structure'].isin(structures_to_keep)] "
   ]
  },
  {
   "cell_type": "code",
   "execution_count": 21,
   "metadata": {
    "collapsed": false
   },
   "outputs": [
    {
     "data": {
      "text/html": [
       "<div>\n",
       "<table border=\"1\" class=\"dataframe\">\n",
       "  <thead>\n",
       "    <tr style=\"text-align: right;\">\n",
       "      <th></th>\n",
       "      <th>observed</th>\n",
       "      <th>metric</th>\n",
       "      <th>structure</th>\n",
       "      <th>patID</th>\n",
       "      <th>Case</th>\n",
       "      <th>algo</th>\n",
       "    </tr>\n",
       "  </thead>\n",
       "  <tbody>\n",
       "    <tr>\n",
       "      <th>54</th>\n",
       "      <td>68.721677</td>\n",
       "      <td>D2%</td>\n",
       "      <td>Body</td>\n",
       "      <td>Case1_AAA_1</td>\n",
       "      <td>Case1</td>\n",
       "      <td>AAA</td>\n",
       "    </tr>\n",
       "    <tr>\n",
       "      <th>55</th>\n",
       "      <td>64.466712</td>\n",
       "      <td>D5%</td>\n",
       "      <td>Body</td>\n",
       "      <td>Case1_AAA_1</td>\n",
       "      <td>Case1</td>\n",
       "      <td>AAA</td>\n",
       "    </tr>\n",
       "    <tr>\n",
       "      <th>56</th>\n",
       "      <td>4.963856</td>\n",
       "      <td>D50%</td>\n",
       "      <td>Body</td>\n",
       "      <td>Case1_AAA_1</td>\n",
       "      <td>Case1</td>\n",
       "      <td>AAA</td>\n",
       "    </tr>\n",
       "    <tr>\n",
       "      <th>57</th>\n",
       "      <td>0.456212</td>\n",
       "      <td>D95%</td>\n",
       "      <td>Body</td>\n",
       "      <td>Case1_AAA_1</td>\n",
       "      <td>Case1</td>\n",
       "      <td>AAA</td>\n",
       "    </tr>\n",
       "    <tr>\n",
       "      <th>58</th>\n",
       "      <td>0.215975</td>\n",
       "      <td>D99%</td>\n",
       "      <td>Body</td>\n",
       "      <td>Case1_AAA_1</td>\n",
       "      <td>Case1</td>\n",
       "      <td>AAA</td>\n",
       "    </tr>\n",
       "  </tbody>\n",
       "</table>\n",
       "</div>"
      ],
      "text/plain": [
       "     observed metric structure        patID   Case algo\n",
       "54  68.721677    D2%      Body  Case1_AAA_1  Case1  AAA\n",
       "55  64.466712    D5%      Body  Case1_AAA_1  Case1  AAA\n",
       "56   4.963856   D50%      Body  Case1_AAA_1  Case1  AAA\n",
       "57   0.456212   D95%      Body  Case1_AAA_1  Case1  AAA\n",
       "58   0.215975   D99%      Body  Case1_AAA_1  Case1  AAA"
      ]
     },
     "execution_count": 21,
     "metadata": {},
     "output_type": "execute_result"
    }
   ],
   "source": [
    "HN.head()"
   ]
  },
  {
   "cell_type": "code",
   "execution_count": 22,
   "metadata": {
    "collapsed": true
   },
   "outputs": [],
   "source": [
    "AAA = HN[HN['algo']=='AAA']\n",
    "Dm = HN[HN['algo']=='Dm']\n",
    "HN_to_save = pd.merge(AAA, Dm, how='inner', on=['metric', 'Case', 'structure'])  # Get merged set"
   ]
  },
  {
   "cell_type": "code",
   "execution_count": 23,
   "metadata": {
    "collapsed": false
   },
   "outputs": [
    {
     "data": {
      "text/html": [
       "<div>\n",
       "<table border=\"1\" class=\"dataframe\">\n",
       "  <thead>\n",
       "    <tr style=\"text-align: right;\">\n",
       "      <th></th>\n",
       "      <th>observed_x</th>\n",
       "      <th>metric</th>\n",
       "      <th>structure</th>\n",
       "      <th>patID_x</th>\n",
       "      <th>Case</th>\n",
       "      <th>algo_x</th>\n",
       "      <th>observed_y</th>\n",
       "      <th>patID_y</th>\n",
       "      <th>algo_y</th>\n",
       "    </tr>\n",
       "  </thead>\n",
       "  <tbody>\n",
       "    <tr>\n",
       "      <th>0</th>\n",
       "      <td>68.721677</td>\n",
       "      <td>D2%</td>\n",
       "      <td>Body</td>\n",
       "      <td>Case1_AAA_1</td>\n",
       "      <td>Case1</td>\n",
       "      <td>AAA</td>\n",
       "      <td>67.963184</td>\n",
       "      <td>Case1_AXB_Dm_1</td>\n",
       "      <td>Dm</td>\n",
       "    </tr>\n",
       "    <tr>\n",
       "      <th>1</th>\n",
       "      <td>64.466712</td>\n",
       "      <td>D5%</td>\n",
       "      <td>Body</td>\n",
       "      <td>Case1_AAA_1</td>\n",
       "      <td>Case1</td>\n",
       "      <td>AAA</td>\n",
       "      <td>63.828810</td>\n",
       "      <td>Case1_AXB_Dm_1</td>\n",
       "      <td>Dm</td>\n",
       "    </tr>\n",
       "    <tr>\n",
       "      <th>2</th>\n",
       "      <td>4.963856</td>\n",
       "      <td>D50%</td>\n",
       "      <td>Body</td>\n",
       "      <td>Case1_AAA_1</td>\n",
       "      <td>Case1</td>\n",
       "      <td>AAA</td>\n",
       "      <td>4.830868</td>\n",
       "      <td>Case1_AXB_Dm_1</td>\n",
       "      <td>Dm</td>\n",
       "    </tr>\n",
       "    <tr>\n",
       "      <th>3</th>\n",
       "      <td>0.456212</td>\n",
       "      <td>D95%</td>\n",
       "      <td>Body</td>\n",
       "      <td>Case1_AAA_1</td>\n",
       "      <td>Case1</td>\n",
       "      <td>AAA</td>\n",
       "      <td>0.483118</td>\n",
       "      <td>Case1_AXB_Dm_1</td>\n",
       "      <td>Dm</td>\n",
       "    </tr>\n",
       "    <tr>\n",
       "      <th>4</th>\n",
       "      <td>0.215975</td>\n",
       "      <td>D99%</td>\n",
       "      <td>Body</td>\n",
       "      <td>Case1_AAA_1</td>\n",
       "      <td>Case1</td>\n",
       "      <td>AAA</td>\n",
       "      <td>0.332683</td>\n",
       "      <td>Case1_AXB_Dm_1</td>\n",
       "      <td>Dm</td>\n",
       "    </tr>\n",
       "  </tbody>\n",
       "</table>\n",
       "</div>"
      ],
      "text/plain": [
       "   observed_x metric structure      patID_x   Case algo_x  observed_y  \\\n",
       "0   68.721677    D2%      Body  Case1_AAA_1  Case1    AAA   67.963184   \n",
       "1   64.466712    D5%      Body  Case1_AAA_1  Case1    AAA   63.828810   \n",
       "2    4.963856   D50%      Body  Case1_AAA_1  Case1    AAA    4.830868   \n",
       "3    0.456212   D95%      Body  Case1_AAA_1  Case1    AAA    0.483118   \n",
       "4    0.215975   D99%      Body  Case1_AAA_1  Case1    AAA    0.332683   \n",
       "\n",
       "          patID_y algo_y  \n",
       "0  Case1_AXB_Dm_1     Dm  \n",
       "1  Case1_AXB_Dm_1     Dm  \n",
       "2  Case1_AXB_Dm_1     Dm  \n",
       "3  Case1_AXB_Dm_1     Dm  \n",
       "4  Case1_AXB_Dm_1     Dm  "
      ]
     },
     "execution_count": 23,
     "metadata": {},
     "output_type": "execute_result"
    }
   ],
   "source": [
    "HN_to_save.head()"
   ]
  },
  {
   "cell_type": "code",
   "execution_count": 24,
   "metadata": {
    "collapsed": true
   },
   "outputs": [],
   "source": [
    "HN_to_save.rename(columns={'observed_x': 'AAA'}, inplace=True) \n",
    "HN_to_save.rename(columns={'observed_y': 'Dm'}, inplace=True) "
   ]
  },
  {
   "cell_type": "code",
   "execution_count": 25,
   "metadata": {
    "collapsed": false
   },
   "outputs": [
    {
     "data": {
      "text/html": [
       "<div>\n",
       "<table border=\"1\" class=\"dataframe\">\n",
       "  <thead>\n",
       "    <tr style=\"text-align: right;\">\n",
       "      <th></th>\n",
       "      <th>AAA</th>\n",
       "      <th>metric</th>\n",
       "      <th>structure</th>\n",
       "      <th>patID_x</th>\n",
       "      <th>Case</th>\n",
       "      <th>algo_x</th>\n",
       "      <th>Dm</th>\n",
       "      <th>patID_y</th>\n",
       "      <th>algo_y</th>\n",
       "    </tr>\n",
       "  </thead>\n",
       "  <tbody>\n",
       "    <tr>\n",
       "      <th>0</th>\n",
       "      <td>68.721677</td>\n",
       "      <td>D2%</td>\n",
       "      <td>Body</td>\n",
       "      <td>Case1_AAA_1</td>\n",
       "      <td>Case1</td>\n",
       "      <td>AAA</td>\n",
       "      <td>67.963184</td>\n",
       "      <td>Case1_AXB_Dm_1</td>\n",
       "      <td>Dm</td>\n",
       "    </tr>\n",
       "    <tr>\n",
       "      <th>1</th>\n",
       "      <td>64.466712</td>\n",
       "      <td>D5%</td>\n",
       "      <td>Body</td>\n",
       "      <td>Case1_AAA_1</td>\n",
       "      <td>Case1</td>\n",
       "      <td>AAA</td>\n",
       "      <td>63.828810</td>\n",
       "      <td>Case1_AXB_Dm_1</td>\n",
       "      <td>Dm</td>\n",
       "    </tr>\n",
       "    <tr>\n",
       "      <th>2</th>\n",
       "      <td>4.963856</td>\n",
       "      <td>D50%</td>\n",
       "      <td>Body</td>\n",
       "      <td>Case1_AAA_1</td>\n",
       "      <td>Case1</td>\n",
       "      <td>AAA</td>\n",
       "      <td>4.830868</td>\n",
       "      <td>Case1_AXB_Dm_1</td>\n",
       "      <td>Dm</td>\n",
       "    </tr>\n",
       "    <tr>\n",
       "      <th>3</th>\n",
       "      <td>0.456212</td>\n",
       "      <td>D95%</td>\n",
       "      <td>Body</td>\n",
       "      <td>Case1_AAA_1</td>\n",
       "      <td>Case1</td>\n",
       "      <td>AAA</td>\n",
       "      <td>0.483118</td>\n",
       "      <td>Case1_AXB_Dm_1</td>\n",
       "      <td>Dm</td>\n",
       "    </tr>\n",
       "    <tr>\n",
       "      <th>4</th>\n",
       "      <td>0.215975</td>\n",
       "      <td>D99%</td>\n",
       "      <td>Body</td>\n",
       "      <td>Case1_AAA_1</td>\n",
       "      <td>Case1</td>\n",
       "      <td>AAA</td>\n",
       "      <td>0.332683</td>\n",
       "      <td>Case1_AXB_Dm_1</td>\n",
       "      <td>Dm</td>\n",
       "    </tr>\n",
       "  </tbody>\n",
       "</table>\n",
       "</div>"
      ],
      "text/plain": [
       "         AAA metric structure      patID_x   Case algo_x         Dm  \\\n",
       "0  68.721677    D2%      Body  Case1_AAA_1  Case1    AAA  67.963184   \n",
       "1  64.466712    D5%      Body  Case1_AAA_1  Case1    AAA  63.828810   \n",
       "2   4.963856   D50%      Body  Case1_AAA_1  Case1    AAA   4.830868   \n",
       "3   0.456212   D95%      Body  Case1_AAA_1  Case1    AAA   0.483118   \n",
       "4   0.215975   D99%      Body  Case1_AAA_1  Case1    AAA   0.332683   \n",
       "\n",
       "          patID_y algo_y  \n",
       "0  Case1_AXB_Dm_1     Dm  \n",
       "1  Case1_AXB_Dm_1     Dm  \n",
       "2  Case1_AXB_Dm_1     Dm  \n",
       "3  Case1_AXB_Dm_1     Dm  \n",
       "4  Case1_AXB_Dm_1     Dm  "
      ]
     },
     "execution_count": 25,
     "metadata": {},
     "output_type": "execute_result"
    }
   ],
   "source": [
    "HN_to_save.head()"
   ]
  },
  {
   "cell_type": "code",
   "execution_count": 26,
   "metadata": {
    "collapsed": true
   },
   "outputs": [],
   "source": [
    "HN_to_save.to_csv('HN_df_clean_28_11.csv', index=False) "
   ]
  },
  {
   "cell_type": "code",
   "execution_count": 27,
   "metadata": {
    "collapsed": false
   },
   "outputs": [
    {
     "data": {
      "text/html": [
       "<div>\n",
       "<table border=\"1\" class=\"dataframe\">\n",
       "  <thead>\n",
       "    <tr style=\"text-align: right;\">\n",
       "      <th></th>\n",
       "      <th>AAA</th>\n",
       "      <th>metric</th>\n",
       "      <th>structure</th>\n",
       "      <th>Case</th>\n",
       "      <th>Dm</th>\n",
       "    </tr>\n",
       "  </thead>\n",
       "  <tbody>\n",
       "    <tr>\n",
       "      <th>0</th>\n",
       "      <td>68.721677</td>\n",
       "      <td>D2%</td>\n",
       "      <td>Body</td>\n",
       "      <td>Case1</td>\n",
       "      <td>67.963184</td>\n",
       "    </tr>\n",
       "    <tr>\n",
       "      <th>1</th>\n",
       "      <td>64.466712</td>\n",
       "      <td>D5%</td>\n",
       "      <td>Body</td>\n",
       "      <td>Case1</td>\n",
       "      <td>63.828810</td>\n",
       "    </tr>\n",
       "    <tr>\n",
       "      <th>2</th>\n",
       "      <td>4.963856</td>\n",
       "      <td>D50%</td>\n",
       "      <td>Body</td>\n",
       "      <td>Case1</td>\n",
       "      <td>4.830868</td>\n",
       "    </tr>\n",
       "    <tr>\n",
       "      <th>3</th>\n",
       "      <td>0.456212</td>\n",
       "      <td>D95%</td>\n",
       "      <td>Body</td>\n",
       "      <td>Case1</td>\n",
       "      <td>0.483118</td>\n",
       "    </tr>\n",
       "    <tr>\n",
       "      <th>4</th>\n",
       "      <td>0.215975</td>\n",
       "      <td>D99%</td>\n",
       "      <td>Body</td>\n",
       "      <td>Case1</td>\n",
       "      <td>0.332683</td>\n",
       "    </tr>\n",
       "  </tbody>\n",
       "</table>\n",
       "</div>"
      ],
      "text/plain": [
       "         AAA metric structure   Case         Dm\n",
       "0  68.721677    D2%      Body  Case1  67.963184\n",
       "1  64.466712    D5%      Body  Case1  63.828810\n",
       "2   4.963856   D50%      Body  Case1   4.830868\n",
       "3   0.456212   D95%      Body  Case1   0.483118\n",
       "4   0.215975   D99%      Body  Case1   0.332683"
      ]
     },
     "execution_count": 27,
     "metadata": {},
     "output_type": "execute_result"
    }
   ],
   "source": [
    "HN_to_save = HN_to_save.drop(['patID_x','patID_y', 'algo_x', 'algo_y'], 1)  \n",
    "HN_to_save.head()"
   ]
  },
  {
   "cell_type": "code",
   "execution_count": 28,
   "metadata": {
    "collapsed": true
   },
   "outputs": [],
   "source": [
    "HN_to_save = HN_to_save[['Case', 'structure', 'metric', 'AAA', 'Dm']]"
   ]
  },
  {
   "cell_type": "code",
   "execution_count": 31,
   "metadata": {
    "collapsed": false
   },
   "outputs": [
    {
     "data": {
      "text/html": [
       "<div>\n",
       "<table border=\"1\" class=\"dataframe\">\n",
       "  <thead>\n",
       "    <tr style=\"text-align: right;\">\n",
       "      <th></th>\n",
       "      <th>Case</th>\n",
       "      <th>structure</th>\n",
       "      <th>metric</th>\n",
       "      <th>AAA</th>\n",
       "      <th>Dm</th>\n",
       "    </tr>\n",
       "  </thead>\n",
       "  <tbody>\n",
       "    <tr>\n",
       "      <th>0</th>\n",
       "      <td>Case1</td>\n",
       "      <td>Body</td>\n",
       "      <td>D2%</td>\n",
       "      <td>68.721677</td>\n",
       "      <td>67.963184</td>\n",
       "    </tr>\n",
       "    <tr>\n",
       "      <th>1</th>\n",
       "      <td>Case1</td>\n",
       "      <td>Body</td>\n",
       "      <td>D5%</td>\n",
       "      <td>64.466712</td>\n",
       "      <td>63.828810</td>\n",
       "    </tr>\n",
       "    <tr>\n",
       "      <th>2</th>\n",
       "      <td>Case1</td>\n",
       "      <td>Body</td>\n",
       "      <td>D50%</td>\n",
       "      <td>4.963856</td>\n",
       "      <td>4.830868</td>\n",
       "    </tr>\n",
       "    <tr>\n",
       "      <th>3</th>\n",
       "      <td>Case1</td>\n",
       "      <td>Body</td>\n",
       "      <td>D95%</td>\n",
       "      <td>0.456212</td>\n",
       "      <td>0.483118</td>\n",
       "    </tr>\n",
       "    <tr>\n",
       "      <th>4</th>\n",
       "      <td>Case1</td>\n",
       "      <td>Body</td>\n",
       "      <td>D99%</td>\n",
       "      <td>0.215975</td>\n",
       "      <td>0.332683</td>\n",
       "    </tr>\n",
       "  </tbody>\n",
       "</table>\n",
       "</div>"
      ],
      "text/plain": [
       "    Case structure metric        AAA         Dm\n",
       "0  Case1      Body    D2%  68.721677  67.963184\n",
       "1  Case1      Body    D5%  64.466712  63.828810\n",
       "2  Case1      Body   D50%   4.963856   4.830868\n",
       "3  Case1      Body   D95%   0.456212   0.483118\n",
       "4  Case1      Body   D99%   0.215975   0.332683"
      ]
     },
     "execution_count": 31,
     "metadata": {},
     "output_type": "execute_result"
    }
   ],
   "source": [
    "HN_to_save.head()  # check against raw, OK"
   ]
  },
  {
   "cell_type": "code",
   "execution_count": 30,
   "metadata": {
    "collapsed": true
   },
   "outputs": [],
   "source": [
    "HN_to_save.to_csv('HN_df_clean_28_11.csv', index=False)  # write to file"
   ]
  },
  {
   "cell_type": "code",
   "execution_count": null,
   "metadata": {
    "collapsed": true
   },
   "outputs": [],
   "source": []
  }
 ],
 "metadata": {
  "anaconda-cloud": {},
  "kernelspec": {
   "display_name": "Python [conda root]",
   "language": "python",
   "name": "conda-root-py"
  },
  "language_info": {
   "codemirror_mode": {
    "name": "ipython",
    "version": 3
   },
   "file_extension": ".py",
   "mimetype": "text/x-python",
   "name": "python",
   "nbconvert_exporter": "python",
   "pygments_lexer": "ipython3",
   "version": "3.5.2"
  }
 },
 "nbformat": 4,
 "nbformat_minor": 1
}
