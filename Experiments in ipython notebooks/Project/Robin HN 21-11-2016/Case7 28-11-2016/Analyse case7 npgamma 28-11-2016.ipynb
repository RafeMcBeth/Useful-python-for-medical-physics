{
 "cells": [
  {
   "cell_type": "markdown",
   "metadata": {},
   "source": [
    "Use npgamma to compare HN Case 7 dose data"
   ]
  },
  {
   "cell_type": "code",
   "execution_count": 1,
   "metadata": {
    "collapsed": true
   },
   "outputs": [],
   "source": [
    "import dicom\n",
    "import numpy as np\n",
    "import matplotlib.pyplot as plt\n",
    "%matplotlib inline\n",
    "\n",
    "from npgamma import calc_gamma"
   ]
  },
  {
   "cell_type": "code",
   "execution_count": 3,
   "metadata": {
    "collapsed": true
   },
   "outputs": [],
   "source": [
    "dcm_ref = dicom.read_file(\"Case7_dose_AAA.dcm\")\n",
    "dcm_evl = dicom.read_file(\"Case7_dose_Dm.dcm\")"
   ]
  },
  {
   "cell_type": "code",
   "execution_count": 4,
   "metadata": {
    "collapsed": true
   },
   "outputs": [],
   "source": [
    "def load_dose_from_dicom(dcm):\n",
    "    pixel_reference = np.transpose(\n",
    "        dcm.pixel_array, (2, 1, 0))\n",
    "    dose = (\n",
    "        pixel_reference * dcm.DoseGridScaling)\n",
    "    \n",
    "    return dose\n",
    "\n",
    "\n",
    "dose_reference = load_dose_from_dicom(dcm_ref)\n",
    "dose_evaluation = load_dose_from_dicom(dcm_evl)"
   ]
  },
  {
   "cell_type": "code",
   "execution_count": 36,
   "metadata": {
    "collapsed": false
   },
   "outputs": [
    {
     "name": "stdout",
     "output_type": "stream",
     "text": [
      "AAA\n",
      "(192, 107, 135)\n",
      "['2.5', '2.5']\n"
     ]
    },
    {
     "data": {
      "text/plain": [
       "['-244.4338517', '-178.5440886', '-216.25']"
      ]
     },
     "execution_count": 36,
     "metadata": {},
     "output_type": "execute_result"
    }
   ],
   "source": [
    "print('AAA')\n",
    "print(dose_reference.shape)  # np.shape(dose_reference)\n",
    "print(dcm_ref.PixelSpacing)\n",
    "dcm_ref.ImagePositionPatient"
   ]
  },
  {
   "cell_type": "code",
   "execution_count": 37,
   "metadata": {
    "collapsed": false
   },
   "outputs": [
    {
     "name": "stdout",
     "output_type": "stream",
     "text": [
      "AXB Dm\n",
      "(193, 108, 135)\n",
      "['2.5', '2.5']\n"
     ]
    },
    {
     "data": {
      "text/plain": [
       "['-245.6838517', '-179.7940886', '-216.25']"
      ]
     },
     "execution_count": 37,
     "metadata": {},
     "output_type": "execute_result"
    }
   ],
   "source": [
    "print('AXB Dm')\n",
    "print(dose_evaluation.shape)  # Dm slightly larger array\n",
    "print(dcm_evl.PixelSpacing)\n",
    "dcm_evl.ImagePositionPatient"
   ]
  },
  {
   "cell_type": "markdown",
   "metadata": {},
   "source": [
    "Dose grids slightly different, causes problems"
   ]
  },
  {
   "cell_type": "code",
   "execution_count": 38,
   "metadata": {
    "collapsed": true
   },
   "outputs": [],
   "source": [
    "def load_xyz_from_dicom(dcm):\n",
    "    resolution = np.array(\n",
    "        dcm.PixelSpacing).astype(float)\n",
    "    dx = resolution[0]\n",
    "    \n",
    "    x = (\n",
    "        dcm.ImagePositionPatient[0] + \n",
    "        np.arange(0, dcm.Rows * dx, dx))\n",
    "    \n",
    "    dy = resolution[1]\n",
    "    y = (\n",
    "        dcm.ImagePositionPatient[1] + \n",
    "        np.arange(0, dcm.Columns * dy, dy))\n",
    "    \n",
    "    z = (\n",
    "        np.array(dcm.GridFrameOffsetVector) + \n",
    "        dcm.ImagePositionPatient[2])\n",
    "    \n",
    "    return x, y, z\n",
    "\n",
    "\n",
    "x_reference, y_reference, z_reference = load_xyz_from_dicom(dcm_ref)\n",
    "x_evaluation, y_evaluation, z_evaluation = load_xyz_from_dicom(dcm_evl)"
   ]
  },
  {
   "cell_type": "code",
   "execution_count": 44,
   "metadata": {
    "collapsed": false
   },
   "outputs": [
    {
     "name": "stdout",
     "output_type": "stream",
     "text": [
      "-244.4338517 20.5661483\n"
     ]
    }
   ],
   "source": [
    "print(x_reference.min(), x_reference.max())"
   ]
  },
  {
   "cell_type": "code",
   "execution_count": 45,
   "metadata": {
    "collapsed": false
   },
   "outputs": [
    {
     "name": "stdout",
     "output_type": "stream",
     "text": [
      "-245.6838517 21.8161483\n"
     ]
    }
   ],
   "source": [
    "print(x_evaluation.min(), x_evaluation.max())"
   ]
  },
  {
   "cell_type": "code",
   "execution_count": 39,
   "metadata": {
    "collapsed": true
   },
   "outputs": [],
   "source": [
    "coords_reference = (\n",
    "    x_reference, y_reference, z_reference)\n",
    "\n",
    "coords_evaluation = (\n",
    "    x_evaluation, y_evaluation, z_evaluation)"
   ]
  },
  {
   "cell_type": "code",
   "execution_count": 40,
   "metadata": {
    "collapsed": true
   },
   "outputs": [],
   "source": [
    "distance_threshold = 3\n",
    "distance_step_size = distance_threshold / 10\n",
    "\n",
    "dose_threshold = 0.03 * np.max(dose_reference)\n",
    "lower_dose_cutoff = np.max(dose_reference) * 0.2\n",
    "maximum_test_distance = distance_threshold * 2\n",
    "max_concurrent_calc_points = 10000000"
   ]
  },
  {
   "cell_type": "code",
   "execution_count": 41,
   "metadata": {
    "collapsed": false
   },
   "outputs": [
    {
     "ename": "Exception",
     "evalue": "Length of items in coords_reference does not match the shape of dose_reference",
     "output_type": "error",
     "traceback": [
      "\u001b[0;31m---------------------------------------------------------------------------\u001b[0m",
      "\u001b[0;31mException\u001b[0m                                 Traceback (most recent call last)",
      "\u001b[0;32m<ipython-input-41-e149c5aa9d92>\u001b[0m in \u001b[0;36m<module>\u001b[0;34m()\u001b[0m\n\u001b[1;32m      6\u001b[0m     \u001b[0mdistance_step_size\u001b[0m\u001b[1;33m=\u001b[0m\u001b[0mdistance_step_size\u001b[0m\u001b[1;33m,\u001b[0m\u001b[1;33m\u001b[0m\u001b[0m\n\u001b[1;32m      7\u001b[0m     \u001b[0mmaximum_test_distance\u001b[0m\u001b[1;33m=\u001b[0m\u001b[0mmaximum_test_distance\u001b[0m\u001b[1;33m,\u001b[0m\u001b[1;33m\u001b[0m\u001b[0m\n\u001b[0;32m----> 8\u001b[0;31m     max_concurrent_calc_points=max_concurrent_calc_points)\n\u001b[0m",
      "\u001b[0;32mC:\\Users\\RCole02.ROYALSURREY\\AppData\\Local\\Continuum\\Anaconda3\\lib\\site-packages\\npgamma\\main.py\u001b[0m in \u001b[0;36mcalc_gamma\u001b[0;34m(coords_reference, dose_reference, coords_evaluation, dose_evaluation, distance_threshold, dose_threshold, lower_dose_cutoff, distance_step_size, maximum_test_distance, max_concurrent_calc_points)\u001b[0m\n\u001b[1;32m     83\u001b[0m     \u001b[1;32mif\u001b[0m \u001b[0mreference_coords_shape\u001b[0m \u001b[1;33m!=\u001b[0m \u001b[0mnp\u001b[0m\u001b[1;33m.\u001b[0m\u001b[0mshape\u001b[0m\u001b[1;33m(\u001b[0m\u001b[0mdose_reference\u001b[0m\u001b[1;33m)\u001b[0m\u001b[1;33m:\u001b[0m\u001b[1;33m\u001b[0m\u001b[0m\n\u001b[1;32m     84\u001b[0m         raise Exception(\n\u001b[0;32m---> 85\u001b[0;31m             \u001b[1;34m\"Length of items in coords_reference does not match the shape of \"\u001b[0m\u001b[1;33m\u001b[0m\u001b[0m\n\u001b[0m\u001b[1;32m     86\u001b[0m             \"dose_reference\")\n\u001b[1;32m     87\u001b[0m \u001b[1;33m\u001b[0m\u001b[0m\n",
      "\u001b[0;31mException\u001b[0m: Length of items in coords_reference does not match the shape of dose_reference"
     ]
    }
   ],
   "source": [
    "gamma = calc_gamma(\n",
    "    coords_reference, dose_reference,\n",
    "    coords_evaluation, dose_evaluation,\n",
    "    distance_threshold, dose_threshold,\n",
    "    lower_dose_cutoff=lower_dose_cutoff, \n",
    "    distance_step_size=distance_step_size,\n",
    "    maximum_test_distance=maximum_test_distance,\n",
    "    max_concurrent_calc_points=max_concurrent_calc_points)"
   ]
  },
  {
   "cell_type": "code",
   "execution_count": null,
   "metadata": {
    "collapsed": true
   },
   "outputs": [],
   "source": []
  }
 ],
 "metadata": {
  "anaconda-cloud": {},
  "kernelspec": {
   "display_name": "Python [conda root]",
   "language": "python",
   "name": "conda-root-py"
  },
  "language_info": {
   "codemirror_mode": {
    "name": "ipython",
    "version": 3
   },
   "file_extension": ".py",
   "mimetype": "text/x-python",
   "name": "python",
   "nbconvert_exporter": "python",
   "pygments_lexer": "ipython3",
   "version": "3.5.2"
  }
 },
 "nbformat": 4,
 "nbformat_minor": 1
}
