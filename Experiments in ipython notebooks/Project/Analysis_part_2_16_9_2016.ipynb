{
 "cells": [
  {
   "cell_type": "markdown",
   "metadata": {},
   "source": [
    "Now analysis of parsed data from part 1.\n",
    "\n",
    "Useful ref http://www.shanelynn.ie/summarising-aggregation-and-grouping-data-in-python-pandas/\n",
    "\n",
    "http://stackoverflow.com/questions/21828398/what-is-the-difference-between-pandas-agg-and-apply-function"
   ]
  },
  {
   "cell_type": "code",
   "execution_count": 1,
   "metadata": {
    "collapsed": true
   },
   "outputs": [],
   "source": [
    "import pandas as pd\n",
    "import numpy as np\n",
    "from scipy import stats\n",
    "import seaborn as sns\n",
    "sns.set(style=\"whitegrid\", palette=\"pastel\", color_codes=True)\n",
    "import matplotlib.pyplot as plt\n",
    "%matplotlib inline"
   ]
  },
  {
   "cell_type": "markdown",
   "metadata": {},
   "source": [
    "## Helper functions"
   ]
  },
  {
   "cell_type": "code",
   "execution_count": 2,
   "metadata": {
    "collapsed": false
   },
   "outputs": [],
   "source": [
    "def query_data(Col, structure, metric):   # helper function to get data, Col = AAA, AXB or diff\n",
    "    temp = d[Col][(d['structure'] == structure) & (d['metric'] == metric)]\n",
    "    return temp"
   ]
  },
  {
   "cell_type": "code",
   "execution_count": 3,
   "metadata": {
    "collapsed": false
   },
   "outputs": [
    {
     "name": "stdout",
     "output_type": "stream",
     "text": [
      "-75.0\n"
     ]
    }
   ],
   "source": [
    "def diff_percent(a,ref):\n",
    "    return 100*((a-ref)/ref)\n",
    "\n",
    "print(diff_percent(25.0,100.0))"
   ]
  },
  {
   "cell_type": "markdown",
   "metadata": {},
   "source": [
    "## Import data "
   ]
  },
  {
   "cell_type": "code",
   "execution_count": 4,
   "metadata": {
    "collapsed": true
   },
   "outputs": [],
   "source": [
    "d = pd.read_csv('AAA_Dm_data.csv')"
   ]
  },
  {
   "cell_type": "markdown",
   "metadata": {},
   "source": [
    "Drop entries with no values, and calculate percent difference"
   ]
  },
  {
   "cell_type": "code",
   "execution_count": 5,
   "metadata": {
    "collapsed": false
   },
   "outputs": [],
   "source": [
    "d = d[d.AAA != 0]    # drop zero rows\n",
    "d = d[d.Dm != 0]    # drop zero rows"
   ]
  },
  {
   "cell_type": "code",
   "execution_count": 6,
   "metadata": {
    "collapsed": true
   },
   "outputs": [],
   "source": [
    "d['diff'] = diff_percent(d.Dm, d.AAA)  # create % difference col"
   ]
  },
  {
   "cell_type": "code",
   "execution_count": 7,
   "metadata": {
    "collapsed": false
   },
   "outputs": [
    {
     "data": {
      "text/html": [
       "<div>\n",
       "<table border=\"1\" class=\"dataframe\">\n",
       "  <thead>\n",
       "    <tr style=\"text-align: right;\">\n",
       "      <th></th>\n",
       "      <th>Case</th>\n",
       "      <th>structure</th>\n",
       "      <th>metric</th>\n",
       "      <th>AAA</th>\n",
       "      <th>Dm</th>\n",
       "      <th>diff</th>\n",
       "    </tr>\n",
       "  </thead>\n",
       "  <tbody>\n",
       "    <tr>\n",
       "      <th>0</th>\n",
       "      <td>Case1</td>\n",
       "      <td>PTV CHEST</td>\n",
       "      <td>D2%</td>\n",
       "      <td>70.006151</td>\n",
       "      <td>69.599396</td>\n",
       "      <td>-0.581028</td>\n",
       "    </tr>\n",
       "    <tr>\n",
       "      <th>1</th>\n",
       "      <td>Case1</td>\n",
       "      <td>PTV CHEST</td>\n",
       "      <td>D5%</td>\n",
       "      <td>69.602983</td>\n",
       "      <td>69.044564</td>\n",
       "      <td>-0.802292</td>\n",
       "    </tr>\n",
       "    <tr>\n",
       "      <th>2</th>\n",
       "      <td>Case1</td>\n",
       "      <td>PTV CHEST</td>\n",
       "      <td>D50%</td>\n",
       "      <td>65.560826</td>\n",
       "      <td>65.457641</td>\n",
       "      <td>-0.157389</td>\n",
       "    </tr>\n",
       "    <tr>\n",
       "      <th>3</th>\n",
       "      <td>Case1</td>\n",
       "      <td>PTV CHEST</td>\n",
       "      <td>D95%</td>\n",
       "      <td>57.272270</td>\n",
       "      <td>56.747946</td>\n",
       "      <td>-0.915495</td>\n",
       "    </tr>\n",
       "    <tr>\n",
       "      <th>4</th>\n",
       "      <td>Case1</td>\n",
       "      <td>PTV CHEST</td>\n",
       "      <td>D99%</td>\n",
       "      <td>55.580473</td>\n",
       "      <td>54.672556</td>\n",
       "      <td>-1.633518</td>\n",
       "    </tr>\n",
       "  </tbody>\n",
       "</table>\n",
       "</div>"
      ],
      "text/plain": [
       "    Case  structure metric        AAA         Dm      diff\n",
       "0  Case1  PTV CHEST    D2%  70.006151  69.599396 -0.581028\n",
       "1  Case1  PTV CHEST    D5%  69.602983  69.044564 -0.802292\n",
       "2  Case1  PTV CHEST   D50%  65.560826  65.457641 -0.157389\n",
       "3  Case1  PTV CHEST   D95%  57.272270  56.747946 -0.915495\n",
       "4  Case1  PTV CHEST   D99%  55.580473  54.672556 -1.633518"
      ]
     },
     "execution_count": 7,
     "metadata": {},
     "output_type": "execute_result"
    }
   ],
   "source": [
    "d.head()"
   ]
  },
  {
   "cell_type": "markdown",
   "metadata": {},
   "source": [
    "### How do the metrics compare for PTV? Extract difference (%) by metric for PTV"
   ]
  },
  {
   "cell_type": "code",
   "execution_count": 8,
   "metadata": {
    "collapsed": false
   },
   "outputs": [
    {
     "data": {
      "text/plain": [
       "metric\n",
       "DHI        9.024376\n",
       "DSD        8.042449\n",
       "DMAX       1.549591\n",
       "D0.1CC     1.075630\n",
       "D2%        1.009428\n",
       "D5%        0.899626\n",
       "D1CC       0.837025\n",
       "D50%       0.350911\n",
       "V30GY      0.000000\n",
       "V20GY      0.000000\n",
       "V12.5GY    0.000000\n",
       "V40GY      0.000000\n",
       "DRX        0.000000\n",
       "V5GY       0.000000\n",
       "V50GY     -0.100386\n",
       "D95%      -1.053558\n",
       "D99%      -1.594362\n",
       "V55GY     -3.061308\n",
       "Name: diff, dtype: float64"
      ]
     },
     "execution_count": 8,
     "metadata": {},
     "output_type": "execute_result"
    }
   ],
   "source": [
    "d_PTV =  d[d['structure']  == 'PTV CHEST'].groupby(['metric'])\n",
    "d_PTV = d_PTV.diff  # get diff values\n",
    "d_PTV.mean().sort_values(ascending=False) #d_PTV.groups.keys()"
   ]
  },
  {
   "cell_type": "code",
   "execution_count": 9,
   "metadata": {
    "collapsed": false
   },
   "outputs": [
    {
     "data": {
      "text/plain": [
       "<matplotlib.axes._subplots.AxesSubplot at 0x7d20290>"
      ]
     },
     "execution_count": 9,
     "metadata": {},
     "output_type": "execute_result"
    },
    {
     "data": {
      "image/png": "[encoded data removed]",
      "text/plain": [
       "<matplotlib.figure.Figure at 0x7d0fc70>"
      ]
     },
     "metadata": {},
     "output_type": "display_data"
    }
   ],
   "source": [
    "d_PTV.mean().sort_values(ascending=False).plot(kind='bar', figsize=(12,8))"
   ]
  },
  {
   "cell_type": "markdown",
   "metadata": {},
   "source": [
    "Histograms of data PTV data"
   ]
  },
  {
   "cell_type": "code",
   "execution_count": 10,
   "metadata": {
    "collapsed": false
   },
   "outputs": [
    {
     "data": {
      "image/png": "[encoded data removed]",
      "text/plain": [
       "<matplotlib.figure.Figure at 0x7d0ff70>"
      ]
     },
     "metadata": {},
     "output_type": "display_data"
    }
   ],
   "source": [
    "#ax2 = sns.distplot(query_data('diff', 'PTV CHEST', 'D50%'))   # quick test\n",
    "\n",
    "fig = plt.figure(figsize=(8, 4))\n",
    "data=query_data('diff', 'PTV CHEST', 'D50%')\n",
    "\n",
    "plt.subplot(1, 2, 1)\n",
    "ax2 = sns.distplot(data)\n",
    "\n",
    "plt.subplot(1, 2, 2)\n",
    "ax = sns.violinplot(data)  "
   ]
  },
  {
   "cell_type": "code",
   "execution_count": 14,
   "metadata": {
    "collapsed": false
   },
   "outputs": [
    {
     "data": {
      "text/html": [
       "<div>\n",
       "<table border=\"1\" class=\"dataframe\">\n",
       "  <thead>\n",
       "    <tr>\n",
       "      <th></th>\n",
       "      <th colspan=\"3\" halign=\"left\">Dm</th>\n",
       "      <th colspan=\"3\" halign=\"left\">AAA</th>\n",
       "      <th colspan=\"3\" halign=\"left\">diff</th>\n",
       "    </tr>\n",
       "    <tr>\n",
       "      <th></th>\n",
       "      <th>SEM</th>\n",
       "      <th>Variance</th>\n",
       "      <th>Mean</th>\n",
       "      <th>SEM</th>\n",
       "      <th>Variance</th>\n",
       "      <th>Mean</th>\n",
       "      <th>SEM</th>\n",
       "      <th>Variance</th>\n",
       "      <th>Mean</th>\n",
       "    </tr>\n",
       "    <tr>\n",
       "      <th>structure</th>\n",
       "      <th></th>\n",
       "      <th></th>\n",
       "      <th></th>\n",
       "      <th></th>\n",
       "      <th></th>\n",
       "      <th></th>\n",
       "      <th></th>\n",
       "      <th></th>\n",
       "      <th></th>\n",
       "    </tr>\n",
       "  </thead>\n",
       "  <tbody>\n",
       "    <tr>\n",
       "      <th>Both Lungs</th>\n",
       "      <td>0.085220</td>\n",
       "      <td>0.036312</td>\n",
       "      <td>0.547881</td>\n",
       "      <td>0.077298</td>\n",
       "      <td>0.029875</td>\n",
       "      <td>0.556355</td>\n",
       "      <td>3.163431</td>\n",
       "      <td>5.003649e+01</td>\n",
       "      <td>-2.359131</td>\n",
       "    </tr>\n",
       "    <tr>\n",
       "      <th>Foramen</th>\n",
       "      <td>0.465511</td>\n",
       "      <td>2.817111</td>\n",
       "      <td>1.451497</td>\n",
       "      <td>0.482770</td>\n",
       "      <td>3.029865</td>\n",
       "      <td>1.532283</td>\n",
       "      <td>1.980592</td>\n",
       "      <td>5.099570e+01</td>\n",
       "      <td>-5.058686</td>\n",
       "    </tr>\n",
       "    <tr>\n",
       "      <th>Heart</th>\n",
       "      <td>0.331265</td>\n",
       "      <td>1.536309</td>\n",
       "      <td>1.006369</td>\n",
       "      <td>0.337971</td>\n",
       "      <td>1.599139</td>\n",
       "      <td>1.010267</td>\n",
       "      <td>3.016717</td>\n",
       "      <td>1.274081e+02</td>\n",
       "      <td>8.372282</td>\n",
       "    </tr>\n",
       "    <tr>\n",
       "      <th>L Brachial plex</th>\n",
       "      <td>3.130743</td>\n",
       "      <td>137.221753</td>\n",
       "      <td>4.852574</td>\n",
       "      <td>0.111438</td>\n",
       "      <td>0.173857</td>\n",
       "      <td>0.324801</td>\n",
       "      <td>4735.339822</td>\n",
       "      <td>3.139282e+08</td>\n",
       "      <td>6988.283560</td>\n",
       "    </tr>\n",
       "    <tr>\n",
       "      <th>Lt_Lung</th>\n",
       "      <td>0.321960</td>\n",
       "      <td>1.451211</td>\n",
       "      <td>1.135430</td>\n",
       "      <td>0.319994</td>\n",
       "      <td>1.433543</td>\n",
       "      <td>1.166398</td>\n",
       "      <td>1.544222</td>\n",
       "      <td>3.338471e+01</td>\n",
       "      <td>-5.437559</td>\n",
       "    </tr>\n",
       "    <tr>\n",
       "      <th>Oesophagus</th>\n",
       "      <td>0.719486</td>\n",
       "      <td>7.247245</td>\n",
       "      <td>1.268311</td>\n",
       "      <td>0.744096</td>\n",
       "      <td>7.751505</td>\n",
       "      <td>1.297815</td>\n",
       "      <td>2.559909</td>\n",
       "      <td>9.174388e+01</td>\n",
       "      <td>1.256873</td>\n",
       "    </tr>\n",
       "    <tr>\n",
       "      <th>PTV CHEST</th>\n",
       "      <td>0.787313</td>\n",
       "      <td>8.678068</td>\n",
       "      <td>64.063104</td>\n",
       "      <td>0.609532</td>\n",
       "      <td>5.201402</td>\n",
       "      <td>63.821273</td>\n",
       "      <td>0.445626</td>\n",
       "      <td>2.780158e+00</td>\n",
       "      <td>0.350911</td>\n",
       "    </tr>\n",
       "    <tr>\n",
       "      <th>Rt_Lung</th>\n",
       "      <td>0.280679</td>\n",
       "      <td>1.102932</td>\n",
       "      <td>0.925061</td>\n",
       "      <td>0.283879</td>\n",
       "      <td>1.128225</td>\n",
       "      <td>0.957381</td>\n",
       "      <td>1.689202</td>\n",
       "      <td>3.994763e+01</td>\n",
       "      <td>-5.027630</td>\n",
       "    </tr>\n",
       "  </tbody>\n",
       "</table>\n",
       "</div>"
      ],
      "text/plain": [
       "                       Dm                              AAA            \\\n",
       "                      SEM    Variance       Mean       SEM  Variance   \n",
       "structure                                                              \n",
       "Both Lungs       0.085220    0.036312   0.547881  0.077298  0.029875   \n",
       "Foramen          0.465511    2.817111   1.451497  0.482770  3.029865   \n",
       "Heart            0.331265    1.536309   1.006369  0.337971  1.599139   \n",
       "L Brachial plex  3.130743  137.221753   4.852574  0.111438  0.173857   \n",
       "Lt_Lung          0.321960    1.451211   1.135430  0.319994  1.433543   \n",
       "Oesophagus       0.719486    7.247245   1.268311  0.744096  7.751505   \n",
       "PTV CHEST        0.787313    8.678068  64.063104  0.609532  5.201402   \n",
       "Rt_Lung          0.280679    1.102932   0.925061  0.283879  1.128225   \n",
       "\n",
       "                                   diff                             \n",
       "                      Mean          SEM      Variance         Mean  \n",
       "structure                                                           \n",
       "Both Lungs        0.556355     3.163431  5.003649e+01    -2.359131  \n",
       "Foramen           1.532283     1.980592  5.099570e+01    -5.058686  \n",
       "Heart             1.010267     3.016717  1.274081e+02     8.372282  \n",
       "L Brachial plex   0.324801  4735.339822  3.139282e+08  6988.283560  \n",
       "Lt_Lung           1.166398     1.544222  3.338471e+01    -5.437559  \n",
       "Oesophagus        1.297815     2.559909  9.174388e+01     1.256873  \n",
       "PTV CHEST        63.821273     0.445626  2.780158e+00     0.350911  \n",
       "Rt_Lung           0.957381     1.689202  3.994763e+01    -5.027630  "
      ]
     },
     "execution_count": 14,
     "metadata": {},
     "output_type": "execute_result"
    }
   ],
   "source": [
    "stats = {'SEM':'sem', 'Variance':'var', 'Mean' : 'mean'}  # 'Counts':'count', \n",
    "\n",
    "aggregations = {'diff': stats, 'AAA': stats, 'Dm': stats}\n",
    "\n",
    "res_table = d[d['metric']  == 'D50%'].groupby(['structure']).agg(aggregations)\n",
    "res_table"
   ]
  },
  {
   "cell_type": "markdown",
   "metadata": {},
   "source": [
    "## Get wilcoxon p value and place in array"
   ]
  },
  {
   "cell_type": "code",
   "execution_count": 11,
   "metadata": {
    "collapsed": false
   },
   "outputs": [],
   "source": [
    "def my_wilcox(data):                    # helper function to return p-value, pass difference data as series from dataframe\n",
    "    z_stat, p_val = stats.wilcoxon(data)   # if only 1 value passed\n",
    "    return p_val"
   ]
  },
  {
   "cell_type": "code",
   "execution_count": 15,
   "metadata": {
    "collapsed": false
   },
   "outputs": [
    {
     "data": {
      "text/plain": [
       "array([-0.15738944,  0.24840765,  0.48911227,  1.63664335,  1.85747404,\n",
       "        0.42937281,  0.91495724,  1.8135199 ,  0.29943795,  1.09040025,\n",
       "        2.58882738, -4.00311394, -1.62820827, -0.66668317])"
      ]
     },
     "execution_count": 15,
     "metadata": {},
     "output_type": "execute_result"
    }
   ],
   "source": [
    "A =  d[(d['structure'] == 'PTV CHEST') & (d['metric'] == 'D50%')]\n",
    "D =  A['diff'].as_matrix()\n",
    "D"
   ]
  },
  {
   "cell_type": "code",
   "execution_count": 16,
   "metadata": {
    "collapsed": false
   },
   "outputs": [
    {
     "data": {
      "text/plain": [
       "0.15781136896845493"
      ]
     },
     "execution_count": 16,
     "metadata": {},
     "output_type": "execute_result"
    }
   ],
   "source": [
    "my_wilcox(D)"
   ]
  },
  {
   "cell_type": "code",
   "execution_count": 32,
   "metadata": {
    "collapsed": false
   },
   "outputs": [
    {
     "data": {
      "text/plain": [
       "array(['D2%', 'D5%', 'D50%', 'D95%', 'D99%', 'D1CC', 'D0.1CC', 'DMAX',\n",
       "       'DSD', 'DRX', 'DHI', 'V5GY', 'V12.5GY', 'V20GY', 'V30GY', 'V40GY',\n",
       "       'V50GY', 'V55GY'], dtype=object)"
      ]
     },
     "execution_count": 32,
     "metadata": {},
     "output_type": "execute_result"
    }
   ],
   "source": [
    "metrics = d.metric.unique()\n",
    "metrics"
   ]
  },
  {
   "cell_type": "code",
   "execution_count": 89,
   "metadata": {
    "collapsed": false
   },
   "outputs": [
    {
     "data": {
      "text/plain": [
       "array(['PTV CHEST', 'Heart', 'Oesophagus', 'Rt_Lung', 'Lt_Lung',\n",
       "       'Both Lungs', 'L Brachial plex', 'Foramen'], dtype=object)"
      ]
     },
     "execution_count": 89,
     "metadata": {},
     "output_type": "execute_result"
    }
   ],
   "source": [
    "structures = d.structure.unique()\n",
    "structures"
   ]
  },
  {
   "cell_type": "code",
   "execution_count": 83,
   "metadata": {
    "collapsed": false
   },
   "outputs": [],
   "source": [
    "structures = d.structure.unique()\n",
    "metrics = d.metric.unique()\n",
    "i = len(structures)\n",
    "j = len(metrics)\n",
    "\n",
    "wilcox_data = np.zeros((i,j))  # init an empty array\n"
   ]
  },
  {
   "cell_type": "code",
   "execution_count": 86,
   "metadata": {
    "collapsed": false
   },
   "outputs": [
    {
     "name": "stderr",
     "output_type": "stream",
     "text": [
      "C:\\Users\\RCole02.ROYALSURREY\\AppData\\Local\\Continuum\\Anaconda3\\lib\\site-packages\\scipy\\stats\\morestats.py:2384: UserWarning: Warning: sample size too small for normal approximation.\n",
      "  warnings.warn(\"Warning: sample size too small for normal approximation.\")\n"
     ]
    }
   ],
   "source": [
    "j = 0\n",
    "\n",
    "for structure in structures:\n",
    "    i = 0\n",
    "    for metric in metrics:\n",
    "        A =  d[(d['structure'] == structure) & (d['metric'] == metric)]\n",
    "        D =  A['diff'].as_matrix()\n",
    "        wilcox_data[j][i] = my_wilcox(D)\n",
    "        i = i + 1\n",
    "    j = j+ 1  \n",
    "    #print(j)\n",
    "    "
   ]
  },
  {
   "cell_type": "code",
   "execution_count": 87,
   "metadata": {
    "collapsed": false
   },
   "outputs": [
    {
     "data": {
      "text/plain": [
       "array([[  7.63041474e-03,   2.58428545e-02,   1.57811369e-01,\n",
       "          1.40146061e-01,   3.54647075e-02,   2.19436647e-02,\n",
       "          2.19436647e-02,   3.51036367e-03,   1.07467830e-02,\n",
       "                     nan,   3.51036367e-03,              nan,\n",
       "                     nan,              nan,              nan,\n",
       "                     nan,   1.72902806e-02,   1.31503642e-02],\n",
       "       [  9.61970365e-02,   1.57811369e-01,   4.79897497e-02,\n",
       "          1.52327574e-03,   1.22502354e-03,   8.26091029e-01,\n",
       "          9.24978307e-01,   1.57939311e-01,   7.68579406e-03,\n",
       "                     nan,   1.10079130e-02,   1.17186856e-02,\n",
       "          2.77078494e-02,   2.85049407e-01,   3.17310508e-01,\n",
       "                     nan,              nan,              nan],\n",
       "       [  9.81539753e-04,   1.22502354e-03,   5.93618241e-01,\n",
       "          2.32943968e-03,   9.18142110e-03,   1.22502354e-03,\n",
       "          9.81539753e-04,   4.64943382e-03,   5.03350820e-03,\n",
       "                     nan,   3.00289880e-01,   1.87143291e-03,\n",
       "          2.77078494e-02,   1.79712495e-01,              nan,\n",
       "                     nan,              nan,              nan],\n",
       "       [  2.32943968e-03,   9.81539753e-04,   1.10079130e-02,\n",
       "          3.54647075e-02,   2.45493529e-01,   3.62685941e-01,\n",
       "          8.42838797e-02,   3.92432762e-02,   3.66579287e-02,\n",
       "                     nan,   1.52327574e-03,   3.51036367e-03,\n",
       "          5.75062130e-01,   1.28190174e-01,   2.36723571e-01,\n",
       "          3.10494434e-01,   8.65772375e-01,   8.65772375e-01],\n",
       "       [  5.55329808e-02,   2.58428545e-02,   3.51036367e-03,\n",
       "          7.29890908e-01,   2.71947624e-01,   8.42838797e-02,\n",
       "          1.57811369e-01,   8.42838797e-02,   1.73070921e-01,\n",
       "                     nan,   1.22502354e-03,   5.21324126e-03,\n",
       "          1.73070921e-01,   2.36723571e-01,   2.36723571e-01,\n",
       "          8.65772375e-01,   3.98024720e-01,   4.98962299e-01],\n",
       "       [  7.96158015e-02,   4.31144468e-02,   8.92738401e-01,\n",
       "          7.96158015e-02,   3.45231072e-01,   5.00184257e-01,\n",
       "          1.38010738e-01,   7.96158015e-02,   1.00000000e+00,\n",
       "                     nan,   3.45231072e-01,   4.31144468e-02,\n",
       "          4.31144468e-02,   3.45231072e-01,   6.85830434e-01,\n",
       "          5.00184257e-01,   2.24915884e-01,   2.24915884e-01],\n",
       "       [  5.93618241e-01,   5.93618241e-01,   1.40146061e-01,\n",
       "          3.03273425e-02,   2.58428545e-02,   2.71947624e-01,\n",
       "          4.70337796e-01,   5.07348493e-01,   1.79712495e-01,\n",
       "                     nan,   7.29890908e-01,   3.17310508e-01,\n",
       "                     nan,              nan,              nan,\n",
       "                     nan,              nan,              nan],\n",
       "       [  1.47378084e-03,   1.47378084e-03,   1.92234391e-02,\n",
       "          3.30469437e-02,   5.46239383e-02,   1.47378084e-03,\n",
       "          1.47378084e-03,   1.47378084e-03,   3.34561812e-03,\n",
       "                     nan,   7.47354983e-02,   2.21772146e-03,\n",
       "          2.77078494e-02,   1.79712495e-01,              nan,\n",
       "                     nan,              nan,              nan]])"
      ]
     },
     "execution_count": 87,
     "metadata": {},
     "output_type": "execute_result"
    }
   ],
   "source": [
    "wilcox_data"
   ]
  },
  {
   "cell_type": "code",
   "execution_count": 88,
   "metadata": {
    "collapsed": true
   },
   "outputs": [],
   "source": [
    "np.savetxt('wilcox_data.csv', wilcox_data, delimiter=',')   # X is an array"
   ]
  },
  {
   "cell_type": "markdown",
   "metadata": {},
   "source": [
    "### Explore ways to visualise difference distribution for PTV\n",
    "Helper function for get data"
   ]
  },
  {
   "cell_type": "markdown",
   "metadata": {},
   "source": [
    "Get code for BA plot from http://stackoverflow.com/questions/16399279/bland-altman-plot-in-python\n",
    "\n",
    "For visualisation https://stanford.edu/~mwaskom/software/seaborn/generated/seaborn.violinplot.html"
   ]
  },
  {
   "cell_type": "code",
   "execution_count": 75,
   "metadata": {
    "collapsed": true
   },
   "outputs": [],
   "source": [
    "def bland_altman_plot(data1, data2, *args, **kwargs):\n",
    "    data1     = np.asarray(data1)\n",
    "    data2     = np.asarray(data2)\n",
    "    mean      = np.mean([data1, data2], axis=0)\n",
    "    diff      = data1 - data2                   # Difference between data1 and data2\n",
    "    md        = np.mean(diff)                   # Mean of the difference\n",
    "    diff_p = diff_percent(data1, data2)\n",
    "    sd        = np.std(diff_p, axis=0)            # Standard deviation of the difference\n",
    "\n",
    "    plt.scatter(mean, diff_p, *args, **kwargs)\n",
    "    plt.axhline(md,           color='gray', linestyle='--')\n",
    "    plt.axhline(md + 1.96*sd, color='gray', linestyle='--')\n",
    "    plt.axhline(md - 1.96*sd, color='gray', linestyle='--')\n",
    "    plt.xlabel('Dose (Gy)')\n",
    "    plt.ylabel('Difference (%)')"
   ]
  },
  {
   "cell_type": "code",
   "execution_count": 86,
   "metadata": {
    "collapsed": false
   },
   "outputs": [
    {
     "data": {
      "image/png": "[encoded data removed]",
      "text/plain": [
       "<matplotlib.figure.Figure at 0xa12eb70>"
      ]
     },
     "metadata": {},
     "output_type": "display_data"
    }
   ],
   "source": [
    "BAstructure = 'PTV CHEST'\n",
    "BAmetric = 'D50%'\n",
    "bland_altman_plot(query_data('Dm', BAstructure, BAmetric), query_data('AAA', BAstructure, BAmetric))\n",
    "plt.show()"
   ]
  },
  {
   "cell_type": "code",
   "execution_count": null,
   "metadata": {
    "collapsed": true
   },
   "outputs": [],
   "source": []
  },
  {
   "cell_type": "code",
   "execution_count": 2,
   "metadata": {
    "collapsed": false
   },
   "outputs": [
    {
     "name": "stdout",
     "output_type": "stream",
     "text": [
      "7.55692945586e-10\n",
      "7.55692945586e-10\n"
     ]
    },
    {
     "data": {
      "image/png": "[encoded data removed]",
      "text/plain": [
       "<matplotlib.figure.Figure at 0x7d212f0>"
      ]
     },
     "metadata": {},
     "output_type": "display_data"
    }
   ],
   "source": [
    "#Test of wilcoxon. See how size of distribution and difference in mean affect result p \n",
    "\n",
    "dist_diff = 0.5\n",
    "samples = 50\n",
    "\n",
    "mu, sigma = 0, 0.1 \n",
    "s = np.random.normal(mu, sigma, samples)\n",
    "\n",
    "mu2, sigma = 0+dist_diff, 0.1 \n",
    "s2 = np.random.normal(mu2, sigma, samples)\n",
    "\n",
    "fig = plt.figure(figsize=(8, 4))\n",
    "plt.subplot(1, 2, 1)\n",
    "plt.hist(s)\n",
    "\n",
    "plt.subplot(1, 2, 2)\n",
    "plt.hist(s2)\n",
    "\n",
    "z_stat, p_val = stats.wilcoxon(s, s2)   # if only 1 value passed\n",
    "print(p_val)\n",
    "\n",
    "z_stat, p_val = stats.wilcoxon(s-s2)   # if only 1 value passed\n",
    "print(p_val)"
   ]
  },
  {
   "cell_type": "code",
   "execution_count": null,
   "metadata": {
    "collapsed": true
   },
   "outputs": [],
   "source": []
  }
 ],
 "metadata": {
  "kernelspec": {
   "display_name": "Python 3",
   "language": "python",
   "name": "python3"
  },
  "language_info": {
   "codemirror_mode": {
    "name": "ipython",
    "version": 3
   },
   "file_extension": ".py",
   "mimetype": "text/x-python",
   "name": "python",
   "nbconvert_exporter": "python",
   "pygments_lexer": "ipython3",
   "version": "3.5.1"
  }
 },
 "nbformat": 4,
 "nbformat_minor": 0
}
