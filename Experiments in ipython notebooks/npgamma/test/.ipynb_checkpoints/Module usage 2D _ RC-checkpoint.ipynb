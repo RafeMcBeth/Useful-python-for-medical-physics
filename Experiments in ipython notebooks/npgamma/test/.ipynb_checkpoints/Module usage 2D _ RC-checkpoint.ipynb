{
 "cells": [
  {
   "cell_type": "code",
   "execution_count": 1,
   "metadata": {
    "collapsed": false
   },
   "outputs": [],
   "source": [
    "import yaml\n",
    "import numpy as np\n",
    "import matplotlib.pyplot as plt\n",
    "%matplotlib inline\n",
    "\n",
    "from npgamma import calc_gamma"
   ]
  },
  {
   "cell_type": "code",
   "execution_count": 2,
   "metadata": {
    "collapsed": false
   },
   "outputs": [],
   "source": [
    "with open('data_unequal_grid.yml', 'r') as file:\n",
    "    data = yaml.load(file)\n",
    "    \n",
    "x_reference = data['x_mephisto']\n",
    "y_reference = data['d_mephisto']\n",
    "dose_reference = data['mephisto_dose_grid']\n",
    "\n",
    "x_evaluation = data['x_monaco']\n",
    "y_evaluation = data['d_monaco']\n",
    "dose_evaluation = data['monaco_dose_grid']\n",
    "\n",
    "coords_reference = (y_reference, x_reference)\n",
    "coords_evaluation = (y_evaluation, x_evaluation)"
   ]
  },
  {
   "cell_type": "code",
   "execution_count": 3,
   "metadata": {
    "collapsed": true
   },
   "outputs": [],
   "source": [
    "distance_threshold = 2\n",
    "distance_step_size = distance_threshold / 10\n",
    "\n",
    "dose_threshold = 0.02 * np.max(dose_evaluation)\n",
    "\n",
    "lower_dose_cutoff = np.max(dose_evaluation) * 0.2"
   ]
  },
  {
   "cell_type": "code",
   "execution_count": 4,
   "metadata": {
    "collapsed": false
   },
   "outputs": [
    {
     "ename": "ValueError",
     "evalue": "operands could not be broadcast together with shapes (61,31) (31,61) ",
     "output_type": "error",
     "traceback": [
      "\u001b[0;31m---------------------------------------------------------------------------\u001b[0m",
      "\u001b[0;31mValueError\u001b[0m                                Traceback (most recent call last)",
      "\u001b[0;32m<ipython-input-4-c0dd310fd5bd>\u001b[0m in \u001b[0;36m<module>\u001b[0;34m()\u001b[0m\n\u001b[1;32m      5\u001b[0m     \u001b[0mlower_dose_cutoff\u001b[0m\u001b[1;33m=\u001b[0m\u001b[0mlower_dose_cutoff\u001b[0m\u001b[1;33m,\u001b[0m\u001b[1;33m\u001b[0m\u001b[0m\n\u001b[1;32m      6\u001b[0m     \u001b[0mdistance_step_size\u001b[0m\u001b[1;33m=\u001b[0m\u001b[0mdistance_step_size\u001b[0m\u001b[1;33m,\u001b[0m\u001b[1;33m\u001b[0m\u001b[0m\n\u001b[0;32m----> 7\u001b[0;31m     maximum_test_distance=np.inf)\n\u001b[0m",
      "\u001b[0;32mC:\\Users\\RCole02.ROYALSURREY\\AppData\\Local\\Continuum\\Anaconda3\\lib\\site-packages\\npgamma-0.5.0-py3.5.egg\\npgamma\\main.py\u001b[0m in \u001b[0;36mcalc_gamma\u001b[0;34m(coords_reference, dose_reference, coords_evaluation, dose_evaluation, distance_threshold, dose_threshold, lower_dose_cutoff, distance_step_size, maximum_test_distance)\u001b[0m\n\u001b[1;32m    105\u001b[0m         \u001b[0mlower_dose_cutoff\u001b[0m\u001b[1;33m=\u001b[0m\u001b[0mlower_dose_cutoff\u001b[0m\u001b[1;33m,\u001b[0m\u001b[1;33m\u001b[0m\u001b[0m\n\u001b[1;32m    106\u001b[0m         \u001b[0mdistance_step_size\u001b[0m\u001b[1;33m=\u001b[0m\u001b[0mdistance_step_size\u001b[0m\u001b[1;33m,\u001b[0m\u001b[1;33m\u001b[0m\u001b[0m\n\u001b[0;32m--> 107\u001b[0;31m         maximum_test_distance=maximum_test_distance)\n\u001b[0m\u001b[1;32m    108\u001b[0m \u001b[1;33m\u001b[0m\u001b[0m\n\u001b[1;32m    109\u001b[0m \u001b[1;33m\u001b[0m\u001b[0m\n",
      "\u001b[0;32mC:\\Users\\RCole02.ROYALSURREY\\AppData\\Local\\Continuum\\Anaconda3\\lib\\site-packages\\npgamma-0.5.0-py3.5.egg\\npgamma\\main.py\u001b[0m in \u001b[0;36m__init__\u001b[0;34m(self, coords_reference, dose_reference, coords_evaluation, dose_evaluation, distance_threshold, dose_threshold, lower_dose_cutoff, distance_step_size, maximum_test_distance)\u001b[0m\n\u001b[1;32m    185\u001b[0m         \u001b[0mself\u001b[0m\u001b[1;33m.\u001b[0m\u001b[0mmesh_coords_evaluation\u001b[0m \u001b[1;33m=\u001b[0m \u001b[0mnp\u001b[0m\u001b[1;33m.\u001b[0m\u001b[0mmeshgrid\u001b[0m\u001b[1;33m(\u001b[0m\u001b[1;33m*\u001b[0m\u001b[0mself\u001b[0m\u001b[1;33m.\u001b[0m\u001b[0mcoords_evaluation\u001b[0m\u001b[1;33m)\u001b[0m\u001b[1;33m\u001b[0m\u001b[0m\n\u001b[1;32m    186\u001b[0m \u001b[1;33m\u001b[0m\u001b[0m\n\u001b[0;32m--> 187\u001b[0;31m         \u001b[0mself\u001b[0m\u001b[1;33m.\u001b[0m\u001b[0mgamma\u001b[0m \u001b[1;33m=\u001b[0m \u001b[0mself\u001b[0m\u001b[1;33m.\u001b[0m\u001b[0mcalculate_gamma\u001b[0m\u001b[1;33m(\u001b[0m\u001b[1;33m)\u001b[0m\u001b[1;33m\u001b[0m\u001b[0m\n\u001b[0m\u001b[1;32m    188\u001b[0m \u001b[1;33m\u001b[0m\u001b[0m\n\u001b[1;32m    189\u001b[0m \u001b[1;33m\u001b[0m\u001b[0m\n",
      "\u001b[0;32mC:\\Users\\RCole02.ROYALSURREY\\AppData\\Local\\Continuum\\Anaconda3\\lib\\site-packages\\npgamma-0.5.0-py3.5.egg\\npgamma\\main.py\u001b[0m in \u001b[0;36mcalculate_gamma\u001b[0;34m(self)\u001b[0m\n\u001b[1;32m    207\u001b[0m                         np.max(self.coords_reference[i]) - distance))\n\u001b[1;32m    208\u001b[0m \u001b[1;33m\u001b[0m\u001b[0m\n\u001b[0;32m--> 209\u001b[0;31m                 \u001b[0mto_be_checked\u001b[0m \u001b[1;33m=\u001b[0m \u001b[0mto_be_checked\u001b[0m \u001b[1;33m&\u001b[0m \u001b[0mself\u001b[0m\u001b[1;33m.\u001b[0m\u001b[0mwithin_bounds\u001b[0m\u001b[1;33m[\u001b[0m\u001b[0mkey\u001b[0m\u001b[1;33m]\u001b[0m\u001b[1;33m\u001b[0m\u001b[0m\n\u001b[0m\u001b[1;32m    210\u001b[0m \u001b[1;33m\u001b[0m\u001b[0m\n\u001b[1;32m    211\u001b[0m             \u001b[0mmin_dose_difference\u001b[0m \u001b[1;33m=\u001b[0m \u001b[0mself\u001b[0m\u001b[1;33m.\u001b[0m\u001b[0mmin_dose_difference\u001b[0m\u001b[1;33m(\u001b[0m\u001b[0mto_be_checked\u001b[0m\u001b[1;33m,\u001b[0m \u001b[0mdistance\u001b[0m\u001b[1;33m)\u001b[0m\u001b[1;33m\u001b[0m\u001b[0m\n",
      "\u001b[0;31mValueError\u001b[0m: operands could not be broadcast together with shapes (61,31) (31,61) "
     ]
    }
   ],
   "source": [
    "gamma = calc_gamma(\n",
    "    coords_reference, dose_reference,\n",
    "    coords_evaluation, dose_evaluation,\n",
    "    distance_threshold, dose_threshold,\n",
    "    lower_dose_cutoff=lower_dose_cutoff, \n",
    "    distance_step_size=distance_step_size,\n",
    "    maximum_test_distance=np.inf)"
   ]
  },
  {
   "cell_type": "code",
   "execution_count": 5,
   "metadata": {
    "collapsed": false
   },
   "outputs": [
    {
     "ename": "NameError",
     "evalue": "name 'gamma' is not defined",
     "output_type": "error",
     "traceback": [
      "\u001b[0;31m---------------------------------------------------------------------------\u001b[0m",
      "\u001b[0;31mNameError\u001b[0m                                 Traceback (most recent call last)",
      "\u001b[0;32m<ipython-input-5-3456ce6b161d>\u001b[0m in \u001b[0;36m<module>\u001b[0;34m()\u001b[0m\n\u001b[0;32m----> 1\u001b[0;31m \u001b[0mvalid_gamma\u001b[0m \u001b[1;33m=\u001b[0m \u001b[0mgamma\u001b[0m\u001b[1;33m[\u001b[0m\u001b[1;33m~\u001b[0m\u001b[0mnp\u001b[0m\u001b[1;33m.\u001b[0m\u001b[0misinf\u001b[0m\u001b[1;33m(\u001b[0m\u001b[0mgamma\u001b[0m\u001b[1;33m)\u001b[0m\u001b[1;33m]\u001b[0m\u001b[1;33m\u001b[0m\u001b[0m\n\u001b[0m",
      "\u001b[0;31mNameError\u001b[0m: name 'gamma' is not defined"
     ]
    }
   ],
   "source": [
    "valid_gamma = gamma[~np.isinf(gamma)]"
   ]
  },
  {
   "cell_type": "code",
   "execution_count": 6,
   "metadata": {
    "collapsed": false
   },
   "outputs": [
    {
     "data": {
      "image/png": "[encoded data removed]",
      "text/plain": [
       "<matplotlib.figure.Figure at 0x7fb6b8065ac8>"
      ]
     },
     "metadata": {},
     "output_type": "display_data"
    }
   ],
   "source": [
    "plt.hist(valid_gamma, 50);"
   ]
  },
  {
   "cell_type": "code",
   "execution_count": 7,
   "metadata": {
    "collapsed": false
   },
   "outputs": [
    {
     "data": {
      "text/plain": [
       "0.92167832167832164"
      ]
     },
     "execution_count": 7,
     "metadata": {},
     "output_type": "execute_result"
    }
   ],
   "source": [
    "np.sum(valid_gamma <= 1) / len(valid_gamma)"
   ]
  },
  {
   "cell_type": "code",
   "execution_count": 8,
   "metadata": {
    "collapsed": false
   },
   "outputs": [
    {
     "data": {
      "text/plain": [
       "<matplotlib.text.Text at 0x7fb690fb40f0>"
      ]
     },
     "execution_count": 8,
     "metadata": {},
     "output_type": "execute_result"
    },
    {
     "data": {
      "image/png": "[encoded data removed]",
      "text/plain": [
       "<matplotlib.figure.Figure at 0x7fb690f86fd0>"
      ]
     },
     "metadata": {},
     "output_type": "display_data"
    }
   ],
   "source": [
    "cut_off_gamma = gamma.copy()\n",
    "greater_than_2_ref = (cut_off_gamma > 2) & ~np.isinf(gamma)\n",
    "cut_off_gamma[greater_than_2_ref] = 2\n",
    "\n",
    "plt.contourf(\n",
    "    x_evaluation, y_evaluation, cut_off_gamma, 100,\n",
    "    vmin=0, vmax=2, cmap=plt.get_cmap('bwr'))\n",
    "plt.gca().invert_yaxis()\n",
    "plt.colorbar()\n",
    "plt.xlabel('x (mm)')\n",
    "plt.ylabel('depth (mm)')"
   ]
  }
 ],
 "metadata": {
  "kernelspec": {
   "display_name": "Python [default]",
   "language": "python",
   "name": "python3"
  },
  "language_info": {
   "codemirror_mode": {
    "name": "ipython",
    "version": 3
   },
   "file_extension": ".py",
   "mimetype": "text/x-python",
   "name": "python",
   "nbconvert_exporter": "python",
   "pygments_lexer": "ipython3",
   "version": "3.5.2"
  }
 },
 "nbformat": 4,
 "nbformat_minor": 0
}
