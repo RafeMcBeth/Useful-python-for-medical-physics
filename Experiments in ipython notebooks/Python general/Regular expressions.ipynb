{
 "cells": [
  {
   "cell_type": "markdown",
   "metadata": {},
   "source": [
    "https://www.tutorialspoint.com/python/python_reg_expressions.htm\n",
    "\n",
    "Python offers two different primitive operations based on regular expressions: match checks for a match only at the beginning of the string, while search checks for a match anywhere in the string (this is what Perl does by default)."
   ]
  },
  {
   "cell_type": "code",
   "execution_count": 5,
   "metadata": {
    "collapsed": true
   },
   "outputs": [],
   "source": [
    "import re"
   ]
  },
  {
   "cell_type": "markdown",
   "metadata": {},
   "source": [
    "# Match function \n",
    "\n",
    "This function attempts to match RE pattern to string with optional flags."
   ]
  },
  {
   "cell_type": "code",
   "execution_count": 11,
   "metadata": {
    "collapsed": false
   },
   "outputs": [
    {
     "name": "stdout",
     "output_type": "stream",
     "text": [
      "matchObj.group() :  Cats are smarter than dogs\n",
      "matchObj.group(1) :  Cats\n",
      "matchObj.group(2) :  smarter\n",
      "matchObj.groups() :  ('Cats', 'smarter')\n"
     ]
    }
   ],
   "source": [
    "line = \"Cats are smarter than dogs\";\n",
    "\n",
    "matchObj = re.match( r'(.*) are (.*?) .*', line, re.M|re.I)\n",
    "\n",
    "if matchObj:\n",
    "   print(\"matchObj.group() : \", matchObj.group())    # This method returns entire match\n",
    "   print(\"matchObj.group(1) : \", matchObj.group(1))  # This method returns specific subgroup num\n",
    "   print(\"matchObj.group(2) : \", matchObj.group(2))\n",
    "   print(\"matchObj.groups() : \", matchObj.groups())  # This method returns all matching subgroups in a tuple (empty if there weren't any)\n",
    "else:\n",
    "   print(\"Nothing found!!\")"
   ]
  },
  {
   "cell_type": "markdown",
   "metadata": {},
   "source": [
    "# Search function \n",
    "\n",
    "This function searches for first occurrence of RE pattern within string with optional flags."
   ]
  },
  {
   "cell_type": "code",
   "execution_count": 12,
   "metadata": {
    "collapsed": false
   },
   "outputs": [
    {
     "name": "stdout",
     "output_type": "stream",
     "text": [
      "searchObj.group() :  Cats are smarter than dogs\n",
      "searchObj.group(1) :  Cats\n",
      "searchObj.group(2) :  smarter\n",
      "searchObj.groups() :  ('Cats', 'smarter')\n"
     ]
    }
   ],
   "source": [
    "line = \"Cats are smarter than dogs\";\n",
    "\n",
    "searchObj = re.search( r'(.*) are (.*?) .*', line, re.M|re.I)\n",
    "\n",
    "if searchObj:\n",
    "   print(\"searchObj.group() : \", searchObj.group())\n",
    "   print(\"searchObj.group(1) : \", searchObj.group(1))\n",
    "   print(\"searchObj.group(2) : \", searchObj.group(2))\n",
    "   print(\"searchObj.groups() : \", searchObj.groups())  \n",
    "else:\n",
    "   print(\"Nothing found!!\")"
   ]
  },
  {
   "cell_type": "markdown",
   "metadata": {},
   "source": [
    "# Comparison of search and match"
   ]
  },
  {
   "cell_type": "code",
   "execution_count": 13,
   "metadata": {
    "collapsed": false
   },
   "outputs": [
    {
     "name": "stdout",
     "output_type": "stream",
     "text": [
      "No match!!\n",
      "search --> searchObj.group() :  dogs\n"
     ]
    }
   ],
   "source": [
    "line = \"Cats are smarter than dogs\";\n",
    "\n",
    "matchObj = re.match( r'dogs', line, re.M|re.I)\n",
    "if matchObj:\n",
    "   print(\"match --> matchObj.group() : \", matchObj.group())\n",
    "else:\n",
    "   print(\"No match!!\")\n",
    "\n",
    "searchObj = re.search( r'dogs', line, re.M|re.I)\n",
    "if searchObj:\n",
    "   print(\"search --> searchObj.group() : \", searchObj.group())\n",
    "else:\n",
    "   print(\"Nothing found!!\")"
   ]
  },
  {
   "cell_type": "markdown",
   "metadata": {},
   "source": [
    "# Search and replace\n",
    "\n",
    "    re.sub(pattern, repl, string, max=0)\n",
    "\n",
    "This method replaces all occurrences of the RE pattern in string with repl, substituting all occurrences unless max provided. This method returns modified string."
   ]
  },
  {
   "cell_type": "code",
   "execution_count": 14,
   "metadata": {
    "collapsed": false
   },
   "outputs": [
    {
     "name": "stdout",
     "output_type": "stream",
     "text": [
      "Phone Num :  2004-959-559 \n",
      "Phone Num :  2004959559\n"
     ]
    }
   ],
   "source": [
    "phone = \"2004-959-559 # This is Phone Number\"\n",
    "\n",
    "# Delete Python-style comments\n",
    "num = re.sub(r'#.*$', \"\", phone)\n",
    "print(\"Phone Num : \", num)\n",
    "\n",
    "# Remove anything other than digits\n",
    "num = re.sub(r'\\D', \"\", phone)    \n",
    "print(\"Phone Num : \", num)"
   ]
  },
  {
   "cell_type": "markdown",
   "metadata": {},
   "source": [
    "# RadOnc translations\n",
    "\n",
    "Line in file \n",
    "\n",
    "    Prescribed dose [Gy]: 55.000\n",
    "\n",
    "R code \n",
    "    \n",
    "    dose.rx <- suppressWarnings(as.numeric(sub(\"^Prescribed dose.*: \", \"\", dose.rx, ignore.case=TRUE, perl=TRUE)))"
   ]
  },
  {
   "cell_type": "code",
   "execution_count": 20,
   "metadata": {
    "collapsed": false
   },
   "outputs": [
    {
     "data": {
      "text/plain": [
       "55.0"
      ]
     },
     "execution_count": 20,
     "metadata": {},
     "output_type": "execute_result"
    }
   ],
   "source": [
    "dose_string = 'Prescribed dose [Gy]: 55.000'\n",
    "dose = float(re.sub(r\"^Prescribed dose.*: \", \"\", dose_string)) \n",
    "dose"
   ]
  },
  {
   "cell_type": "code",
   "execution_count": 21,
   "metadata": {
    "collapsed": false
   },
   "outputs": [
    {
     "data": {
      "text/plain": [
       "'Bronchial tree_P'"
      ]
     },
     "execution_count": 21,
     "metadata": {},
     "output_type": "execute_result"
    }
   ],
   "source": [
    "structure_string = 'Structure: Bronchial tree_P'\n",
    "name = re.sub(\"^.*: (.+$)\", \"\\\\1\", structure_string)\n",
    "name"
   ]
  },
  {
   "cell_type": "code",
   "execution_count": 25,
   "metadata": {
    "collapsed": false
   },
   "outputs": [
    {
     "name": "stdout",
     "output_type": "stream",
     "text": [
      "matchObj.group(1) :  Bronchial\n"
     ]
    }
   ],
   "source": [
    "matchObj = re.match( r'Structure: (.*?) .*', structure_string, re.M|re.I)\n",
    "if  matchObj:\n",
    "    print(\"matchObj.group(1) : \", matchObj.group(1)) "
   ]
  },
  {
   "cell_type": "code",
   "execution_count": null,
   "metadata": {
    "collapsed": true
   },
   "outputs": [],
   "source": []
  }
 ],
 "metadata": {
  "anaconda-cloud": {},
  "kernelspec": {
   "display_name": "Python [Root]",
   "language": "python",
   "name": "Python [Root]"
  },
  "language_info": {
   "codemirror_mode": {
    "name": "ipython",
    "version": 3
   },
   "file_extension": ".py",
   "mimetype": "text/x-python",
   "name": "python",
   "nbconvert_exporter": "python",
   "pygments_lexer": "ipython3",
   "version": "3.5.2"
  }
 },
 "nbformat": 4,
 "nbformat_minor": 0
}
