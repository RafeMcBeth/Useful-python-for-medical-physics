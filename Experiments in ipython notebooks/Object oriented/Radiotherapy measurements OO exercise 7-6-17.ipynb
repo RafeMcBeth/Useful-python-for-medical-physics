{
 "cells": [
  {
   "cell_type": "markdown",
   "metadata": {},
   "source": [
    "Follow style guide https://www.python.org/dev/peps/pep-0008/\n",
    "\n",
    "* Method Names and Instance Variables - Use the function naming rules: lowercase with words separated by underscores as necessary to improve readability.\n",
    "* Use one leading underscore ONLY FOR NON PUBLIC methods and instance variables. e.g. _variable. note that private variables don't exist in Python. There are simply norms to be followed. \n",
    "\n",
    "\n",
    "* Constants are usually defined on a module level and written in all capital letters with underscores separating words. Examples include MAX_OVERFLOW and TOTAL\n",
    "\n",
    "\n",
    "* Class names should normally use the CapWords convention.\n",
    "* Always use self for the first argument to instance methods.\n",
    "* Always use cls for the first argument to class methods.\n",
    "\n",
    "Example https://github.com/home-assistant/home-assistant/blob/dev/homeassistant/components/sensor/wsdot.py\n",
    "\n",
    "Understading @PROPERTY https://www.programiz.com/python-programming/property"
   ]
  },
  {
   "cell_type": "code",
   "execution_count": 1,
   "metadata": {
    "collapsed": true
   },
   "outputs": [],
   "source": [
    "## CONSTANTS\n",
    "STANDARD_PRESSURE    = 760.0   \n",
    "STANDARD_TEMPERATURE = 20.0    "
   ]
  },
  {
   "cell_type": "code",
   "execution_count": 2,
   "metadata": {},
   "outputs": [],
   "source": [
    "class Chamber:\n",
    "    '''Class for chambers'''\n",
    "    def __init__(self, name, serial, cal_factor_dict):\n",
    "        self._name = name\n",
    "        self._serial = serial                   # could be a string or a number\n",
    "        self._cal_factor = cal_factor_dict      # Nk, function of HVL but pass as dict\n",
    "    \n",
    "    def calibration(self, kV):                 # ignore fact that cal is in HVL for this exercise\n",
    "        if kV not in self._cal_factor.keys():\n",
    "            raise ValueError('No cal factor for that kV')\n",
    "        return self._cal_factor[kV]"
   ]
  },
  {
   "cell_type": "code",
   "execution_count": 3,
   "metadata": {
    "collapsed": true
   },
   "outputs": [],
   "source": [
    "Farmer = Chamber('farmer', 3627, {80 : 4.143, 140 :4.143, 250 :4.079}) # init our farmer chamber"
   ]
  },
  {
   "cell_type": "code",
   "execution_count": 4,
   "metadata": {},
   "outputs": [],
   "source": [
    "class RtMeasurement:\n",
    "    '''Generic class of radiotherapy measurement. \n",
    "    Readings must be a list.\n",
    "    Daily correction is the correction to apply to readings. E.g. if daily output is 2% low, this factor is 1.02\n",
    "    Temperature in degrees Celcius, Pressure in mmHg.\n",
    "    Field_type is rectangle, square or circle.\n",
    "    Field x and y are in cm at the SSD.\n",
    "    PDD is optionally entered and is on scale 0 - 100 %'''\n",
    "    \n",
    "    def __init__(self, chamber, readings, daily_correction, temperature, pressure, kV, MU, medium, depth, SSD, field_shape, field_x, field_y):\n",
    "        self._chamber= chamber       # of class chamber\n",
    "        self._readings = readings    # should be a list\n",
    "        self._daily_correction = daily_correction\n",
    "        self._temperature = temperature\n",
    "        self._pressure = pressure\n",
    "        self._kV = kV                 # should really be HVL\n",
    "        self._MU = MU\n",
    "        self._medium = medium         # i.e. air, phantom, water\n",
    "        self._depth = depth           # depth in medium of measurement, e.g. 2 cm\n",
    "        self._SSD = SSD               # source to surface distance, cm\n",
    "        self._field_shape = field_shape # circle or rectangle\n",
    "        self._field_x  = field_x\n",
    "        self._field_y  = field_y      # field_x == field_y for a circle   \n",
    "        self._ftp = ((self._temperature + (293.15 - STANDARD_TEMPERATURE))*STANDARD_PRESSURE)/(293.15*self._pressure)\n",
    "        self._pdd = 1.0                 # Init default PDD\n",
    "        self._scatter = 1.0             # Init default scatter factor, e.g. backscatter or Kch\n",
    "        self._mass_energy = 1.0         # Init mass energy absorption coeff\n",
    "    \n",
    "    def add_reading(self, reading):\n",
    "        self._readings.append(reading)\n",
    "    \n",
    "    def mean_reading(self):           # since new readings can be added, this must be calclated rather than an attribute\n",
    "        return sum(self._readings)/len(self._readings)    # should be a list\n",
    "\n",
    "    def corrected_mean_reading(self):\n",
    "        return self.mean_reading()*self._daily_correction*self._ftp\n",
    "\n",
    "    @property     # ftp is a property object which provides interface to the private variable _ftp. Use to access from outside class\n",
    "    def ftp(self):    # getter\n",
    "        return self._ftp\n",
    "    \n",
    "    @property     # ftp is a property object which provides interface to the private variable _ftp. Use to access from outside class\n",
    "    def kV(self):    # getter\n",
    "        return self._kV\n",
    "\n",
    "    @property     # ftp is a property object which provides interface to the private variable _ftp. Use to access from outside class\n",
    "    def MU(self):    # getter\n",
    "        return self._MU\n",
    "\n",
    "    @property\n",
    "    def pdd(self):   # getter\n",
    "        return self._pdd\n",
    "\n",
    "    @pdd.setter      # Manually set, although should lookup\n",
    "    def pdd(self, value):\n",
    "        if value < 0.0 or value > 100.0:\n",
    "            raise ValueError(\"Percent depth dose scale 0 - 100 \")\n",
    "        print(\"Setting PDD\")\n",
    "        self._pdd = value"
   ]
  },
  {
   "cell_type": "markdown",
   "metadata": {},
   "source": [
    "Would ideally create a calculations class"
   ]
  },
  {
   "cell_type": "markdown",
   "metadata": {},
   "source": [
    "## Measurement 1: standard condition\n",
    "\n",
    "Lets create measurement1"
   ]
  },
  {
   "cell_type": "code",
   "execution_count": 5,
   "metadata": {},
   "outputs": [
    {
     "name": "stdout",
     "output_type": "stream",
     "text": [
      "38.200500755090275\n"
     ]
    }
   ],
   "source": [
    "chamber = Farmer\n",
    "readings =  [37.86, 37.88, 37.82] \n",
    "daily_correction = 1.0\n",
    "temperature = 23.0\n",
    "pressure = 760.8 \n",
    "kV = 250 \n",
    "MU = 200\n",
    "medium = 'water'\n",
    "depth =  2.0\n",
    "SSD = 50\n",
    "field_type = 'square'\n",
    "field_x, field_y = 10.0, 10.0\n",
    "\n",
    "kV250_meas_1 = RtMeasurement(chamber, readings, daily_correction, temperature, pressure, kV, MU, medium, depth, SSD, field_type, field_x, field_y)\n",
    "\n",
    "print(kV250_meas_1.corrected_mean_reading())   # sanity check"
   ]
  },
  {
   "cell_type": "markdown",
   "metadata": {},
   "source": [
    "Set the PDD for time being - should be calculated on init"
   ]
  },
  {
   "cell_type": "code",
   "execution_count": 6,
   "metadata": {},
   "outputs": [
    {
     "name": "stdout",
     "output_type": "stream",
     "text": [
      "Setting PDD\n",
      "88.0\n"
     ]
    }
   ],
   "source": [
    "kV250_meas_1.pdd = 88.0\n",
    "print(kV250_meas_1.pdd)"
   ]
  },
  {
   "cell_type": "markdown",
   "metadata": {},
   "source": [
    "## Calculate daily output from standard conditions used in Measurement 1"
   ]
  },
  {
   "cell_type": "code",
   "execution_count": 7,
   "metadata": {},
   "outputs": [],
   "source": [
    "def standard_output(reading, PDD, Nk, scatter_factor, mass_energy):\n",
    "    return (100.0*reading/PDD)*Nk*scatter_factor*mass_energy"
   ]
  },
  {
   "cell_type": "code",
   "execution_count": 8,
   "metadata": {},
   "outputs": [
    {
     "name": "stdout",
     "output_type": "stream",
     "text": [
      "kV250_meas_1_output is 196.67120153641648\n",
      "output per MU of 0.9833560076820824\n",
      "Difference to standard output of -1.66 %\n",
      "Daily output +/- 2% tolerance\n"
     ]
    }
   ],
   "source": [
    "reading = kV250_meas_1.corrected_mean_reading()\n",
    "PDD =  kV250_meas_1.pdd\n",
    "Nk =  Farmer.calibration(kV250_meas_1.kV)     # Fetch cal factor\n",
    "\n",
    "Kch =  1.019     # for this measurement, Kch                             \n",
    "mass_energy = 1.090\n",
    "\n",
    "kV250_meas_1_output = standard_output(reading, PDD, Nk, Kch, mass_energy)\n",
    "print(\"kV250_meas_1_output is \" + str(kV250_meas_1_output))\n",
    "\n",
    "daily_output = kV250_meas_1_output/kV250_meas_1.MU\n",
    "daily_output_correction = round((daily_output-1)*100.0, 2)\n",
    "\n",
    "print(\"output per MU of \" + str(daily_output)) \n",
    "print(\"Difference to standard output of \" + str(daily_output_correction) + \" %\")\n",
    "\n",
    "print(\"Daily output +/- 2% tolerance\")"
   ]
  },
  {
   "cell_type": "markdown",
   "metadata": {},
   "source": [
    "## Measurement 2\n",
    "\n",
    "As per measurement 1 but with a 15x15 applicator to calc the applicator factor as consistency check"
   ]
  },
  {
   "cell_type": "code",
   "execution_count": 9,
   "metadata": {
    "collapsed": true
   },
   "outputs": [],
   "source": [
    "readings =  [41.90, 41.80, 41.86]     # this is bad practice\n",
    "field_x, field_y = 15.0, 15.0\n",
    "\n",
    "kV250_meas_2 = RtMeasurement(chamber, readings, daily_correction, temperature, pressure, kV, MU, medium, depth, SSD, field_type, field_x, field_y)"
   ]
  },
  {
   "cell_type": "code",
   "execution_count": 10,
   "metadata": {},
   "outputs": [
    {
     "name": "stdout",
     "output_type": "stream",
     "text": [
      "Output 2 is 210.28484469770504\n"
     ]
    }
   ],
   "source": [
    "PDD = 91.0\n",
    "kV250_meas_2_output = standard_output(kV250_meas_2.corrected_mean_reading(), PDD, Nk, Kch, mass_energy)\n",
    "print(\"Output 2 is \" + str(kV250_meas_2_output))"
   ]
  },
  {
   "cell_type": "code",
   "execution_count": 11,
   "metadata": {},
   "outputs": [
    {
     "name": "stdout",
     "output_type": "stream",
     "text": [
      "applicator_factor is 1.0692203182516673\n",
      "Difference to standard applicator factor of -1.0 %\n",
      "Applicator factor check +/- 1% tolerance\n"
     ]
    }
   ],
   "source": [
    "applicator_factor = kV250_meas_2_output/kV250_meas_1_output\n",
    "print(\"applicator_factor is \" + str(applicator_factor))\n",
    "\n",
    "standard_applicator_factor = 1.08\n",
    "diff_to_std_app = round(100.0*(applicator_factor-standard_applicator_factor)/standard_applicator_factor, 2)\n",
    "print(\"Difference to standard applicator factor of \" + str(diff_to_std_app) + \" %\")\n",
    "print(\"Applicator factor check +/- 1% tolerance\")"
   ]
  },
  {
   "cell_type": "code",
   "execution_count": null,
   "metadata": {
    "collapsed": true
   },
   "outputs": [],
   "source": []
  },
  {
   "cell_type": "markdown",
   "metadata": {
    "collapsed": true
   },
   "source": [
    "# Unused"
   ]
  },
  {
   "cell_type": "code",
   "execution_count": 12,
   "metadata": {},
   "outputs": [
    {
     "ename": "NameError",
     "evalue": "name 'measurement' is not defined",
     "output_type": "error",
     "traceback": [
      "\u001b[0;31m---------------------------------------------------------------------------\u001b[0m",
      "\u001b[0;31mNameError\u001b[0m                                 Traceback (most recent call last)",
      "\u001b[0;32m<ipython-input-12-76c3f0f50690>\u001b[0m in \u001b[0;36m<module>\u001b[0;34m()\u001b[0m\n\u001b[0;32m----> 1\u001b[0;31m \u001b[1;32mclass\u001b[0m \u001b[0mmedium_kV_output\u001b[0m\u001b[1;33m(\u001b[0m\u001b[0mmeasurement\u001b[0m\u001b[1;33m)\u001b[0m\u001b[1;33m:\u001b[0m                 \u001b[1;31m# subclass measurement and add backscatter\u001b[0m\u001b[1;33m\u001b[0m\u001b[0m\n\u001b[0m\u001b[1;32m      2\u001b[0m     \u001b[1;34m'''Sub class measurement with kV, requires backscatter'''\u001b[0m\u001b[1;33m\u001b[0m\u001b[0m\n\u001b[1;32m      3\u001b[0m \u001b[1;33m\u001b[0m\u001b[0m\n\u001b[1;32m      4\u001b[0m     \u001b[1;32mdef\u001b[0m \u001b[0m__init__\u001b[0m\u001b[1;33m(\u001b[0m\u001b[0mself\u001b[0m\u001b[1;33m,\u001b[0m \u001b[0mchamber\u001b[0m\u001b[1;33m,\u001b[0m \u001b[0mreadings\u001b[0m\u001b[1;33m,\u001b[0m \u001b[0mdaily_correction\u001b[0m\u001b[1;33m,\u001b[0m \u001b[0mtemperature\u001b[0m\u001b[1;33m,\u001b[0m \u001b[0mpressure\u001b[0m\u001b[1;33m,\u001b[0m \u001b[0mkV\u001b[0m\u001b[1;33m,\u001b[0m \u001b[0mmedium\u001b[0m\u001b[1;33m,\u001b[0m \u001b[0mdepth\u001b[0m\u001b[1;33m,\u001b[0m \u001b[0mbackscatter_factor\u001b[0m\u001b[1;33m)\u001b[0m\u001b[1;33m:\u001b[0m\u001b[1;33m\u001b[0m\u001b[0m\n\u001b[1;32m      5\u001b[0m         \u001b[0msuper\u001b[0m\u001b[1;33m(\u001b[0m\u001b[1;33m)\u001b[0m\u001b[1;33m.\u001b[0m\u001b[0m__init__\u001b[0m\u001b[1;33m(\u001b[0m\u001b[0mchamber\u001b[0m\u001b[1;33m,\u001b[0m \u001b[0mreadings\u001b[0m\u001b[1;33m,\u001b[0m \u001b[0mdaily_correction\u001b[0m\u001b[1;33m,\u001b[0m \u001b[0mtemperature\u001b[0m\u001b[1;33m,\u001b[0m \u001b[0mpressure\u001b[0m\u001b[1;33m,\u001b[0m \u001b[0mkV\u001b[0m\u001b[1;33m)\u001b[0m   \u001b[1;31m# init the superclass\u001b[0m\u001b[1;33m\u001b[0m\u001b[0m\n",
      "\u001b[0;31mNameError\u001b[0m: name 'measurement' is not defined"
     ]
    }
   ],
   "source": [
    "class medium_kV_output(measurement):                 # subclass measurement and add backscatter\n",
    "    '''Sub class measurement with kV, requires backscatter'''\n",
    "    \n",
    "    def __init__(self, chamber, readings, daily_correction, temperature, pressure, kV, medium, depth, backscatter_factor):\n",
    "        super().__init__(chamber, readings, daily_correction, temperature, pressure, kV)   # init the superclass\n",
    "        self.backscatter_factor = backscatter_factor\n",
    "        \n",
    "    def Get_Output(self):\n",
    "        return self.Corrected_Mean_Reading()*self.backscatter_factor*self.Nk  # should add mass-energy              "
   ]
  }
 ],
 "metadata": {
  "anaconda-cloud": {},
  "kernelspec": {
   "display_name": "Python [conda root]",
   "language": "python",
   "name": "conda-root-py"
  },
  "language_info": {
   "codemirror_mode": {
    "name": "ipython",
    "version": 3
   },
   "file_extension": ".py",
   "mimetype": "text/x-python",
   "name": "python",
   "nbconvert_exporter": "python",
   "pygments_lexer": "ipython3",
   "version": "3.5.2"
  }
 },
 "nbformat": 4,
 "nbformat_minor": 1
}
