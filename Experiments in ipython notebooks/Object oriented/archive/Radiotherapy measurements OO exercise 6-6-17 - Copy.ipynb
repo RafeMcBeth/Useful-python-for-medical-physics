{
 "cells": [
  {
   "cell_type": "code",
   "execution_count": 1,
   "metadata": {
    "collapsed": true
   },
   "outputs": [],
   "source": [
    "class chamber:\n",
    "    '''Class for chambers'''\n",
    "    def __init__(self, name, serial, cal_factor_dict):\n",
    "        self.name = name\n",
    "        self.serial = serial                   # could be a string or a number\n",
    "        self.cal_factor = cal_factor_dict      # Nk, function of HVL but pass as dict\n",
    "    \n",
    "    def calibration(self, kV):                 # ignore fact that cal is in HVL\n",
    "        if kV in self.cal_factor.keys():\n",
    "            return self.cal_factor[kV]\n",
    "        else:\n",
    "            print('No cal factor for that kV')\n",
    "        "
   ]
  },
  {
   "cell_type": "code",
   "execution_count": 2,
   "metadata": {},
   "outputs": [],
   "source": [
    "Farmer = chamber('farmer', 3627, {80 : 4.143, 140 :4.143, 250 :4.079}) # init"
   ]
  },
  {
   "cell_type": "code",
   "execution_count": 3,
   "metadata": {},
   "outputs": [
    {
     "data": {
      "text/plain": [
       "4.143"
      ]
     },
     "execution_count": 3,
     "metadata": {},
     "output_type": "execute_result"
    }
   ],
   "source": [
    "Farmer.calibration(140)"
   ]
  },
  {
   "cell_type": "code",
   "execution_count": 4,
   "metadata": {
    "collapsed": true
   },
   "outputs": [],
   "source": [
    "class measurement:\n",
    "    '''Generic class of measurement. Readings must be a list.\n",
    "    Daily correction is the correction to apply to readings. E.g. if daily output is 2% low, this factor is 1.02\n",
    "    Temperature in degrees Celcius, Pressure in mmHg'''\n",
    "    \n",
    "    def __init__(self, chamber, readings, daily_correction, temperature, pressure, kV):\n",
    "        self.chamber= chamber       # of class chamber\n",
    "        self.readings = readings    # should be a list\n",
    "        self.daily_correction = daily_correction\n",
    "        self.temperature = temperature\n",
    "        self.pressure = pressure\n",
    "        self.kV = kV\n",
    "        self.Nk = self.chamber.calibration(self.kV)  # get the cal factor at the kV\n",
    "        self.ftp = ((self.temperature + 273.15)*760.0)/(293.15* self.pressure)\n",
    "    \n",
    "    def Add_Reading(self, reading):\n",
    "        self.readings.append(reading)\n",
    "    \n",
    "    def Mean_Reading(self):\n",
    "        return sum(self.readings)/len(self.readings)    # should be a list\n",
    "\n",
    "    def Corrected_Mean_Reading(self):\n",
    "        return self.Mean_Reading()*self.daily_correction*self.ftp\n",
    "     "
   ]
  },
  {
   "cell_type": "code",
   "execution_count": 5,
   "metadata": {},
   "outputs": [],
   "source": [
    "output1 = measurement(Farmer, [1.0, 2.0, 3.0], 1.02, 25.0, 745.0, 80)"
   ]
  },
  {
   "cell_type": "code",
   "execution_count": 6,
   "metadata": {},
   "outputs": [],
   "source": [
    "output1.Add_Reading(5.0)"
   ]
  },
  {
   "cell_type": "code",
   "execution_count": 7,
   "metadata": {},
   "outputs": [
    {
     "data": {
      "text/plain": [
       "2.9102821813969304"
      ]
     },
     "execution_count": 7,
     "metadata": {},
     "output_type": "execute_result"
    }
   ],
   "source": [
    "output1.Corrected_Mean_Reading()"
   ]
  },
  {
   "cell_type": "code",
   "execution_count": 8,
   "metadata": {},
   "outputs": [],
   "source": [
    "class medium_kV_output(measurement):                 # subclass measurement and add backscatter\n",
    "    '''Sub class measurement with kV, requires backscatter'''\n",
    "    \n",
    "    def __init__(self, chamber, readings, daily_correction, temperature, pressure, kV, backscatter_factor):\n",
    "        super().__init__(chamber, readings, daily_correction, temperature, pressure, kV)   # init the superclass\n",
    "        self.backscatter_factor = backscatter_factor\n",
    "        \n",
    "    def Get_Output(self):\n",
    "        return self.Corrected_Mean_Reading()*self.backscatter_factor*self.Nk  # should add mass-energy              "
   ]
  },
  {
   "cell_type": "code",
   "execution_count": 9,
   "metadata": {},
   "outputs": [],
   "source": [
    "kV_output1 = medium_kV_output(Farmer, [1.0, 2.0, 3.0], 1.02, 25.0, 745.0, 80, 1.068)"
   ]
  },
  {
   "cell_type": "code",
   "execution_count": 10,
   "metadata": {},
   "outputs": [
    {
     "data": {
      "text/plain": [
       "9.365233028944983"
      ]
     },
     "execution_count": 10,
     "metadata": {},
     "output_type": "execute_result"
    }
   ],
   "source": [
    "kV_output1.Get_Output()"
   ]
  },
  {
   "cell_type": "code",
   "execution_count": null,
   "metadata": {
    "collapsed": true
   },
   "outputs": [],
   "source": []
  }
 ],
 "metadata": {
  "kernelspec": {
   "display_name": "Python [conda root]",
   "language": "python",
   "name": "conda-root-py"
  },
  "language_info": {
   "codemirror_mode": {
    "name": "ipython",
    "version": 3
   },
   "file_extension": ".py",
   "mimetype": "text/x-python",
   "name": "python",
   "nbconvert_exporter": "python",
   "pygments_lexer": "ipython3",
   "version": "3.5.2"
  }
 },
 "nbformat": 4,
 "nbformat_minor": 1
}
