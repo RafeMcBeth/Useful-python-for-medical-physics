{
 "cells": [
  {
   "cell_type": "markdown",
   "metadata": {},
   "source": [
    "http://deeplearning.net/software/theano/\n",
    "\n",
    "https://www.tensorflow.org/"
   ]
  },
  {
   "cell_type": "markdown",
   "metadata": {},
   "source": [
    "# Lesson 1 - theano"
   ]
  },
  {
   "cell_type": "code",
   "execution_count": 1,
   "metadata": {
    "collapsed": true
   },
   "outputs": [],
   "source": [
    "import theano\n",
    "from theano import tensor\n",
    "# declare two symbolic floating-point scalars\n",
    "a = tensor.dscalar()\n",
    "b = tensor.dscalar()\n",
    "# create a simple expression\n",
    "c=a+b"
   ]
  },
  {
   "cell_type": "code",
   "execution_count": 2,
   "metadata": {
    "collapsed": false
   },
   "outputs": [
    {
     "name": "stdout",
     "output_type": "stream",
     "text": [
      "4.0\n"
     ]
    }
   ],
   "source": [
    "# convert the expression into a callable object that takes (a,b) # values as input and computes a value for c\n",
    "f = theano.function([a,b], c)\n",
    "# bind 1.5 to 'a', 2.5 to 'b', and evaluate 'c'\n",
    "result = f(1.5, 2.5)\n",
    "print(result)"
   ]
  },
  {
   "cell_type": "markdown",
   "metadata": {},
   "source": [
    "# Lesson 2 - tensorflow"
   ]
  },
  {
   "cell_type": "code",
   "execution_count": 9,
   "metadata": {
    "collapsed": false
   },
   "outputs": [],
   "source": [
    "import tensorflow as tf\n",
    "# declare two symbolic floating-point scalars\n",
    "a = tf.placeholder(tf.float32)\n",
    "b = tf.placeholder(tf.float32)\n",
    "# create a simple symbolic expression using the add function add = tf.add(a, b)\n",
    "# bind 1.5 to ' a ' , 2.5 to ' b ' , and evaluate ' c '\n",
    "add = tf.add(a, b)"
   ]
  },
  {
   "cell_type": "code",
   "execution_count": 10,
   "metadata": {
    "collapsed": false
   },
   "outputs": [
    {
     "name": "stdout",
     "output_type": "stream",
     "text": [
      "4.0\n"
     ]
    }
   ],
   "source": [
    "sess = tf.Session()\n",
    "binding = {a: 1.5, b: 2.5}\n",
    "c = sess.run(add, feed_dict=binding)\n",
    "print(c)"
   ]
  },
  {
   "cell_type": "markdown",
   "metadata": {},
   "source": [
    "From https://www.tensorflow.org/get_started/"
   ]
  },
  {
   "cell_type": "code",
   "execution_count": 3,
   "metadata": {
    "collapsed": false
   },
   "outputs": [
    {
     "name": "stdout",
     "output_type": "stream",
     "text": [
      "0 [ 0.38597038] [ 0.2060585]\n",
      "20 [ 0.16373493] [ 0.26979229]\n",
      "40 [ 0.11505215] [ 0.2928659]\n",
      "60 [ 0.10355483] [ 0.29831517]\n",
      "80 [ 0.10083956] [ 0.29960209]\n",
      "100 [ 0.1001983] [ 0.29990602]\n",
      "120 [ 0.10004682] [ 0.29997781]\n",
      "140 [ 0.10001106] [ 0.29999477]\n",
      "160 [ 0.10000263] [ 0.29999876]\n",
      "180 [ 0.10000063] [ 0.29999971]\n",
      "200 [ 0.10000017] [ 0.29999992]\n"
     ]
    },
    {
     "data": {
      "image/png": "[encoded data removed]",
      "text/plain": [
       "<matplotlib.figure.Figure at 0x114334240>"
      ]
     },
     "metadata": {},
     "output_type": "display_data"
    }
   ],
   "source": [
    "import tensorflow as tf\n",
    "import numpy as np\n",
    "import matplotlib.pyplot as plt\n",
    "%matplotlib inline\n",
    "\n",
    "# Create 100 phony x, y data points in NumPy, y = x * 0.1 + 0.3\n",
    "x_data = np.random.rand(100).astype(np.float32)\n",
    "y_data = x_data * 0.1 + 0.3\n",
    "plt.scatter(x_data, y_data)\n",
    "\n",
    "# Try to find values for W and b that compute y_data = W * x_data + b\n",
    "# (We know that W should be 0.1 and b 0.3, but TensorFlow will\n",
    "# figure that out for us.)\n",
    "W = tf.Variable(tf.random_uniform([1], -1.0, 1.0))\n",
    "b = tf.Variable(tf.zeros([1]))\n",
    "y = W * x_data + b\n",
    "\n",
    "# Minimize the mean squared errors.\n",
    "loss = tf.reduce_mean(tf.square(y - y_data))\n",
    "optimizer = tf.train.GradientDescentOptimizer(0.5)\n",
    "train = optimizer.minimize(loss)\n",
    "\n",
    "# Before starting, initialize the variables.  We will 'run' this first.\n",
    "init = tf.global_variables_initializer()\n",
    "\n",
    "# Launch the graph.\n",
    "sess = tf.Session()\n",
    "sess.run(init)\n",
    "\n",
    "# Fit the line.\n",
    "for step in range(201):\n",
    "    sess.run(train)\n",
    "    if step % 20 == 0:\n",
    "        print(step, sess.run(W), sess.run(b))\n",
    "\n",
    "# Learns best fit is W: [0.1], b: [0.3]"
   ]
  },
  {
   "cell_type": "markdown",
   "metadata": {},
   "source": [
    "# Lesson 4 Keras\n",
    "\n",
    "https://keras.io/\n",
    "\n",
    "https://keras.io/getting-started/sequential-model-guide/\n",
    "\n",
    "Indian dataset https://archive.ics.uci.edu/ml/datasets/Pima+Indians+Diabetes\n",
    "\n",
    "Attribute Information:\n",
    "\n",
    "1. Number of times pregnant \n",
    "2. Plasma glucose concentration a 2 hours in an oral glucose tolerance test \n",
    "3. Diastolic blood pressure (mm Hg) \n",
    "4. Triceps skin fold thickness (mm) \n",
    "5. 2-Hour serum insulin (mu U/ml) \n",
    "6. Body mass index (weight in kg/(height in m)^2) \n",
    "7. Diabetes pedigree function \n",
    "8. Age (years) \n",
    "9. Class variable (0 or 1) "
   ]
  },
  {
   "cell_type": "code",
   "execution_count": 19,
   "metadata": {
    "collapsed": false
   },
   "outputs": [
    {
     "name": "stderr",
     "output_type": "stream",
     "text": [
      "Using TensorFlow backend.\n"
     ]
    }
   ],
   "source": [
    "from keras.models import Sequential\n",
    "from keras.layers import Dense\n",
    "import numpy\n",
    "seed = 7\n",
    "numpy.random.seed(seed)\n",
    "# Load the dataset\n",
    "dataset = numpy.loadtxt(\"pima-indians-diabetes.csv\", delimiter=\",\")"
   ]
  },
  {
   "cell_type": "code",
   "execution_count": 23,
   "metadata": {
    "collapsed": true
   },
   "outputs": [],
   "source": [
    "X = dataset[:,0:8]\n",
    "Y = dataset[:,8]   # the classification"
   ]
  },
  {
   "cell_type": "code",
   "execution_count": 27,
   "metadata": {
    "collapsed": false
   },
   "outputs": [],
   "source": [
    "# Define and Compile\n",
    "model = Sequential()\n",
    "model.add(Dense(12, input_dim=8, init='uniform', activation='relu')) \n",
    "model.add(Dense(8, init='uniform', activation='relu'))\n",
    "model.add(Dense(1, init='uniform', activation='sigmoid'))\n",
    "model.compile(loss='binary_crossentropy' , optimizer='adam', metrics=['accuracy'])"
   ]
  },
  {
   "cell_type": "code",
   "execution_count": 28,
   "metadata": {
    "collapsed": false
   },
   "outputs": [
    {
     "name": "stdout",
     "output_type": "stream",
     "text": [
      "Epoch 1/150\n",
      "768/768 [==============================] - 0s - loss: 0.6755 - acc: 0.6510     \n",
      "Epoch 2/150\n",
      "768/768 [==============================] - 0s - loss: 0.6605 - acc: 0.6510     \n",
      "Epoch 3/150\n",
      "768/768 [==============================] - 0s - loss: 0.6535 - acc: 0.6510     \n",
      "Epoch 4/150\n",
      "768/768 [==============================] - 0s - loss: 0.6458 - acc: 0.6510     \n",
      "Epoch 5/150\n",
      "768/768 [==============================] - 0s - loss: 0.6353 - acc: 0.6510     \n",
      "Epoch 6/150\n",
      "768/768 [==============================] - 0s - loss: 0.6247 - acc: 0.6510     \n",
      "Epoch 7/150\n",
      "768/768 [==============================] - 0s - loss: 0.6178 - acc: 0.6510     \n",
      "Epoch 8/150\n",
      "768/768 [==============================] - 0s - loss: 0.6134 - acc: 0.6510     \n",
      "Epoch 9/150\n",
      "768/768 [==============================] - 0s - loss: 0.6149 - acc: 0.6510     \n",
      "Epoch 10/150\n",
      "768/768 [==============================] - 0s - loss: 0.6045 - acc: 0.6510     \n",
      "Epoch 11/150\n",
      "768/768 [==============================] - 0s - loss: 0.6027 - acc: 0.6510     \n",
      "Epoch 12/150\n",
      "768/768 [==============================] - 0s - loss: 0.6086 - acc: 0.6510     \n",
      "Epoch 13/150\n",
      "768/768 [==============================] - 0s - loss: 0.6032 - acc: 0.6510     \n",
      "Epoch 14/150\n",
      "768/768 [==============================] - 0s - loss: 0.6094 - acc: 0.6510     \n",
      "Epoch 15/150\n",
      "768/768 [==============================] - 0s - loss: 0.6012 - acc: 0.6510     \n",
      "Epoch 16/150\n",
      "768/768 [==============================] - 0s - loss: 0.5961 - acc: 0.6510     \n",
      "Epoch 17/150\n",
      "768/768 [==============================] - 0s - loss: 0.6026 - acc: 0.6510     \n",
      "Epoch 18/150\n",
      "768/768 [==============================] - 0s - loss: 0.5953 - acc: 0.6510     \n",
      "Epoch 19/150\n",
      "768/768 [==============================] - 0s - loss: 0.5993 - acc: 0.6510     \n",
      "Epoch 20/150\n",
      "768/768 [==============================] - 0s - loss: 0.6034 - acc: 0.6510     \n",
      "Epoch 21/150\n",
      "768/768 [==============================] - 0s - loss: 0.5934 - acc: 0.6510     \n",
      "Epoch 22/150\n",
      "768/768 [==============================] - 0s - loss: 0.5946 - acc: 0.6510     \n",
      "Epoch 23/150\n",
      "768/768 [==============================] - 0s - loss: 0.5895 - acc: 0.6510     \n",
      "Epoch 24/150\n",
      "768/768 [==============================] - 0s - loss: 0.5975 - acc: 0.6510     \n",
      "Epoch 25/150\n",
      "768/768 [==============================] - 0s - loss: 0.5928 - acc: 0.6510     \n",
      "Epoch 26/150\n",
      "768/768 [==============================] - 0s - loss: 0.5934 - acc: 0.6510     \n",
      "Epoch 27/150\n",
      "768/768 [==============================] - 0s - loss: 0.5938 - acc: 0.6510     \n",
      "Epoch 28/150\n",
      "768/768 [==============================] - 0s - loss: 0.5970 - acc: 0.6510     \n",
      "Epoch 29/150\n",
      "768/768 [==============================] - 0s - loss: 0.5939 - acc: 0.6510     \n",
      "Epoch 30/150\n",
      "768/768 [==============================] - 0s - loss: 0.5969 - acc: 0.6510     \n",
      "Epoch 31/150\n",
      "768/768 [==============================] - 0s - loss: 0.5898 - acc: 0.6510     \n",
      "Epoch 32/150\n",
      "768/768 [==============================] - 0s - loss: 0.5903 - acc: 0.6510     \n",
      "Epoch 33/150\n",
      "768/768 [==============================] - 0s - loss: 0.5888 - acc: 0.6510     \n",
      "Epoch 34/150\n",
      "768/768 [==============================] - 0s - loss: 0.5847 - acc: 0.6510     \n",
      "Epoch 35/150\n",
      "768/768 [==============================] - 0s - loss: 0.5871 - acc: 0.6510     \n",
      "Epoch 36/150\n",
      "768/768 [==============================] - 0s - loss: 0.5890 - acc: 0.6602     \n",
      "Epoch 37/150\n",
      "768/768 [==============================] - 0s - loss: 0.5849 - acc: 0.7122     \n",
      "Epoch 38/150\n",
      "768/768 [==============================] - 0s - loss: 0.5839 - acc: 0.7057     \n",
      "Epoch 39/150\n",
      "768/768 [==============================] - 0s - loss: 0.5844 - acc: 0.7109     \n",
      "Epoch 40/150\n",
      "768/768 [==============================] - 0s - loss: 0.5852 - acc: 0.7044     \n",
      "Epoch 41/150\n",
      "768/768 [==============================] - 0s - loss: 0.5860 - acc: 0.7031     \n",
      "Epoch 42/150\n",
      "768/768 [==============================] - 0s - loss: 0.5805 - acc: 0.7083     \n",
      "Epoch 43/150\n",
      "768/768 [==============================] - 0s - loss: 0.5790 - acc: 0.7122     \n",
      "Epoch 44/150\n",
      "768/768 [==============================] - 0s - loss: 0.5803 - acc: 0.7083     \n",
      "Epoch 45/150\n",
      "768/768 [==============================] - 0s - loss: 0.5799 - acc: 0.6979     \n",
      "Epoch 46/150\n",
      "768/768 [==============================] - 0s - loss: 0.5768 - acc: 0.7174     \n",
      "Epoch 47/150\n",
      "768/768 [==============================] - 0s - loss: 0.5726 - acc: 0.7109     \n",
      "Epoch 48/150\n",
      "768/768 [==============================] - 0s - loss: 0.5766 - acc: 0.7174     \n",
      "Epoch 49/150\n",
      "768/768 [==============================] - 0s - loss: 0.5714 - acc: 0.7057     \n",
      "Epoch 50/150\n",
      "768/768 [==============================] - 0s - loss: 0.5720 - acc: 0.7057     \n",
      "Epoch 51/150\n",
      "768/768 [==============================] - 0s - loss: 0.5748 - acc: 0.7096     \n",
      "Epoch 52/150\n",
      "768/768 [==============================] - 0s - loss: 0.5720 - acc: 0.7214     \n",
      "Epoch 53/150\n",
      "768/768 [==============================] - 0s - loss: 0.5672 - acc: 0.7188     \n",
      "Epoch 54/150\n",
      "768/768 [==============================] - 0s - loss: 0.5668 - acc: 0.7109     \n",
      "Epoch 55/150\n",
      "768/768 [==============================] - 0s - loss: 0.5655 - acc: 0.7174     \n",
      "Epoch 56/150\n",
      "768/768 [==============================] - 0s - loss: 0.5664 - acc: 0.7109     \n",
      "Epoch 57/150\n",
      "768/768 [==============================] - 0s - loss: 0.5657 - acc: 0.7018     \n",
      "Epoch 58/150\n",
      "768/768 [==============================] - 0s - loss: 0.5631 - acc: 0.7214     \n",
      "Epoch 59/150\n",
      "768/768 [==============================] - 0s - loss: 0.5645 - acc: 0.7214     \n",
      "Epoch 60/150\n",
      "768/768 [==============================] - 0s - loss: 0.5609 - acc: 0.7174     \n",
      "Epoch 61/150\n",
      "768/768 [==============================] - 0s - loss: 0.5605 - acc: 0.7266     \n",
      "Epoch 62/150\n",
      "768/768 [==============================] - 0s - loss: 0.5576 - acc: 0.7214     \n",
      "Epoch 63/150\n",
      "768/768 [==============================] - 0s - loss: 0.5544 - acc: 0.7240     \n",
      "Epoch 64/150\n",
      "768/768 [==============================] - 0s - loss: 0.5556 - acc: 0.7148     \n",
      "Epoch 65/150\n",
      "768/768 [==============================] - 0s - loss: 0.5525 - acc: 0.7253     \n",
      "Epoch 66/150\n",
      "768/768 [==============================] - 0s - loss: 0.5571 - acc: 0.7214     \n",
      "Epoch 67/150\n",
      "768/768 [==============================] - 0s - loss: 0.5510 - acc: 0.7305     \n",
      "Epoch 68/150\n",
      "768/768 [==============================] - 0s - loss: 0.5532 - acc: 0.7318     \n",
      "Epoch 69/150\n",
      "768/768 [==============================] - 0s - loss: 0.5493 - acc: 0.7279     \n",
      "Epoch 70/150\n",
      "768/768 [==============================] - 0s - loss: 0.5500 - acc: 0.7266     \n",
      "Epoch 71/150\n",
      "768/768 [==============================] - 0s - loss: 0.5473 - acc: 0.7305     \n",
      "Epoch 72/150\n",
      "768/768 [==============================] - 0s - loss: 0.5428 - acc: 0.7461     \n",
      "Epoch 73/150\n",
      "768/768 [==============================] - 0s - loss: 0.5451 - acc: 0.7357     \n",
      "Epoch 74/150\n",
      "768/768 [==============================] - 0s - loss: 0.5403 - acc: 0.7344     \n",
      "Epoch 75/150\n",
      "768/768 [==============================] - 0s - loss: 0.5446 - acc: 0.7266     \n",
      "Epoch 76/150\n",
      "768/768 [==============================] - 0s - loss: 0.5381 - acc: 0.7344     \n",
      "Epoch 77/150\n",
      "768/768 [==============================] - 0s - loss: 0.5415 - acc: 0.7279     \n",
      "Epoch 78/150\n",
      "768/768 [==============================] - 0s - loss: 0.5350 - acc: 0.7331     \n",
      "Epoch 79/150\n",
      "768/768 [==============================] - 0s - loss: 0.5328 - acc: 0.7461     \n",
      "Epoch 80/150\n",
      "768/768 [==============================] - 0s - loss: 0.5307 - acc: 0.7409     \n",
      "Epoch 81/150\n",
      "768/768 [==============================] - 0s - loss: 0.5317 - acc: 0.7435     \n",
      "Epoch 82/150\n",
      "768/768 [==============================] - 0s - loss: 0.5250 - acc: 0.7526     \n",
      "Epoch 83/150\n",
      "768/768 [==============================] - 0s - loss: 0.5257 - acc: 0.7474     \n",
      "Epoch 84/150\n",
      "768/768 [==============================] - 0s - loss: 0.5287 - acc: 0.7474     \n",
      "Epoch 85/150\n",
      "768/768 [==============================] - 0s - loss: 0.5219 - acc: 0.7448     \n",
      "Epoch 86/150\n",
      "768/768 [==============================] - 0s - loss: 0.5187 - acc: 0.7578     \n",
      "Epoch 87/150\n",
      "768/768 [==============================] - 0s - loss: 0.5255 - acc: 0.7513     \n",
      "Epoch 88/150\n",
      "768/768 [==============================] - 0s - loss: 0.5202 - acc: 0.7578     \n",
      "Epoch 89/150\n",
      "768/768 [==============================] - 0s - loss: 0.5170 - acc: 0.7500     \n",
      "Epoch 90/150\n",
      "768/768 [==============================] - 0s - loss: 0.5132 - acc: 0.7617     \n",
      "Epoch 91/150\n",
      "768/768 [==============================] - 0s - loss: 0.5233 - acc: 0.7513     \n",
      "Epoch 92/150\n",
      "768/768 [==============================] - 0s - loss: 0.5134 - acc: 0.7630     \n",
      "Epoch 93/150\n",
      "768/768 [==============================] - 0s - loss: 0.5103 - acc: 0.7591     \n",
      "Epoch 94/150\n",
      "768/768 [==============================] - 0s - loss: 0.5115 - acc: 0.7656     \n",
      "Epoch 95/150\n",
      "768/768 [==============================] - 0s - loss: 0.5045 - acc: 0.7721     \n",
      "Epoch 96/150\n",
      "768/768 [==============================] - 0s - loss: 0.5038 - acc: 0.7656     \n",
      "Epoch 97/150\n",
      "768/768 [==============================] - 0s - loss: 0.5093 - acc: 0.7513     \n",
      "Epoch 98/150\n",
      "768/768 [==============================] - 0s - loss: 0.5085 - acc: 0.7708     \n",
      "Epoch 99/150\n",
      "768/768 [==============================] - 0s - loss: 0.5161 - acc: 0.7591     \n",
      "Epoch 100/150\n",
      "768/768 [==============================] - 0s - loss: 0.5031 - acc: 0.7591     \n",
      "Epoch 101/150\n",
      "768/768 [==============================] - 0s - loss: 0.5008 - acc: 0.7708     \n",
      "Epoch 102/150\n",
      "768/768 [==============================] - 0s - loss: 0.4975 - acc: 0.7565     \n",
      "Epoch 103/150\n",
      "768/768 [==============================] - 0s - loss: 0.5012 - acc: 0.7643     \n",
      "Epoch 104/150\n",
      "768/768 [==============================] - 0s - loss: 0.5042 - acc: 0.7591     \n",
      "Epoch 105/150\n",
      "768/768 [==============================] - 0s - loss: 0.4996 - acc: 0.7591     \n",
      "Epoch 106/150\n",
      "768/768 [==============================] - 0s - loss: 0.5055 - acc: 0.7539     \n",
      "Epoch 107/150\n",
      "768/768 [==============================] - 0s - loss: 0.5029 - acc: 0.7695     \n",
      "Epoch 108/150\n",
      "768/768 [==============================] - 0s - loss: 0.4935 - acc: 0.7656     \n",
      "Epoch 109/150\n",
      "768/768 [==============================] - 0s - loss: 0.4923 - acc: 0.7669     \n",
      "Epoch 110/150\n",
      "768/768 [==============================] - 0s - loss: 0.4958 - acc: 0.7526     \n",
      "Epoch 111/150\n",
      "768/768 [==============================] - 0s - loss: 0.4974 - acc: 0.7708     \n",
      "Epoch 112/150\n",
      "768/768 [==============================] - 0s - loss: 0.4943 - acc: 0.7747     \n",
      "Epoch 113/150\n",
      "768/768 [==============================] - 0s - loss: 0.4889 - acc: 0.7734     \n",
      "Epoch 114/150\n",
      "768/768 [==============================] - 0s - loss: 0.4980 - acc: 0.7721     \n",
      "Epoch 115/150\n",
      "768/768 [==============================] - 0s - loss: 0.4945 - acc: 0.7695     \n",
      "Epoch 116/150\n",
      "768/768 [==============================] - 0s - loss: 0.4836 - acc: 0.7747     \n",
      "Epoch 117/150\n",
      "768/768 [==============================] - 0s - loss: 0.4847 - acc: 0.7539     \n",
      "Epoch 118/150\n",
      "768/768 [==============================] - 0s - loss: 0.4816 - acc: 0.7812     \n",
      "Epoch 119/150\n",
      "768/768 [==============================] - 0s - loss: 0.4856 - acc: 0.7682     \n",
      "Epoch 120/150\n",
      "768/768 [==============================] - 0s - loss: 0.4840 - acc: 0.7721     \n",
      "Epoch 121/150\n",
      "768/768 [==============================] - 0s - loss: 0.5001 - acc: 0.7552     \n",
      "Epoch 122/150\n",
      "768/768 [==============================] - 0s - loss: 0.4799 - acc: 0.7799     \n",
      "Epoch 123/150\n",
      "768/768 [==============================] - 0s - loss: 0.4813 - acc: 0.7760     \n",
      "Epoch 124/150\n",
      "768/768 [==============================] - 0s - loss: 0.4744 - acc: 0.7826     \n",
      "Epoch 125/150\n",
      "768/768 [==============================] - 0s - loss: 0.4783 - acc: 0.7708     \n",
      "Epoch 126/150\n",
      "768/768 [==============================] - 0s - loss: 0.4835 - acc: 0.7682     \n",
      "Epoch 127/150\n",
      "768/768 [==============================] - 0s - loss: 0.4793 - acc: 0.7812     \n",
      "Epoch 128/150\n",
      "768/768 [==============================] - 0s - loss: 0.4764 - acc: 0.7786     \n",
      "Epoch 129/150\n",
      "768/768 [==============================] - 0s - loss: 0.4782 - acc: 0.7799     \n",
      "Epoch 130/150\n",
      "768/768 [==============================] - 0s - loss: 0.4855 - acc: 0.7695     \n",
      "Epoch 131/150\n",
      "768/768 [==============================] - 0s - loss: 0.4771 - acc: 0.7747     \n",
      "Epoch 132/150\n",
      "768/768 [==============================] - 0s - loss: 0.4804 - acc: 0.7734     \n",
      "Epoch 133/150\n",
      "768/768 [==============================] - 0s - loss: 0.4705 - acc: 0.7852     \n",
      "Epoch 134/150\n",
      "768/768 [==============================] - 0s - loss: 0.4931 - acc: 0.7539     \n",
      "Epoch 135/150\n",
      "768/768 [==============================] - 0s - loss: 0.4731 - acc: 0.7839     \n",
      "Epoch 136/150\n",
      "768/768 [==============================] - 0s - loss: 0.4689 - acc: 0.7865     \n",
      "Epoch 137/150\n",
      "768/768 [==============================] - 0s - loss: 0.4729 - acc: 0.7786     \n",
      "Epoch 138/150\n",
      "768/768 [==============================] - 0s - loss: 0.4784 - acc: 0.7747     \n",
      "Epoch 139/150\n",
      "768/768 [==============================] - 0s - loss: 0.4751 - acc: 0.7826     \n",
      "Epoch 140/150\n",
      "768/768 [==============================] - 0s - loss: 0.4719 - acc: 0.7669     \n",
      "Epoch 141/150\n",
      "768/768 [==============================] - 0s - loss: 0.4689 - acc: 0.7865     \n",
      "Epoch 142/150\n",
      "768/768 [==============================] - 0s - loss: 0.4772 - acc: 0.7682     \n",
      "Epoch 143/150\n",
      "768/768 [==============================] - 0s - loss: 0.4709 - acc: 0.7852     \n",
      "Epoch 144/150\n",
      "768/768 [==============================] - 0s - loss: 0.4796 - acc: 0.7826     \n",
      "Epoch 145/150\n",
      "768/768 [==============================] - 0s - loss: 0.4733 - acc: 0.7786     \n",
      "Epoch 146/150\n",
      "768/768 [==============================] - 0s - loss: 0.4752 - acc: 0.7773     \n",
      "Epoch 147/150\n",
      "768/768 [==============================] - 0s - loss: 0.4766 - acc: 0.7760     \n",
      "Epoch 148/150\n",
      "768/768 [==============================] - 0s - loss: 0.4783 - acc: 0.7760     \n",
      "Epoch 149/150\n",
      "768/768 [==============================] - 0s - loss: 0.4807 - acc: 0.7695     \n",
      "Epoch 150/150\n",
      "768/768 [==============================] - 0s - loss: 0.4642 - acc: 0.7826     \n",
      "768/768 [==============================] - 0s     \n",
      "acc: 78.65%\n"
     ]
    }
   ],
   "source": [
    "# Fit the model\n",
    "model.fit(X, Y, nb_epoch=150, batch_size=10)\n",
    "# Evaluate the model\n",
    "scores = model.evaluate(X, Y)\n",
    "print(\"%s: %.2f%%\" % (model.metrics_names[1], scores[1]*100))"
   ]
  },
  {
   "cell_type": "markdown",
   "metadata": {},
   "source": [
    "### Ionosphere\n",
    "\n",
    "https://archive.ics.uci.edu/ml/datasets/Ionosphere\n",
    "    \n",
    "Data Set Information:\n",
    "\n",
    "This radar data was collected by a system in Goose Bay, Labrador. This system consists of a phased array of 16 high-frequency antennas with a total transmitted power on the order of 6.4 kilowatts. See the paper for more details. The targets were free electrons in the ionosphere. \"Good\" radar returns are those showing evidence of some type of structure in the ionosphere. \"Bad\" returns are those that do not; their signals pass through the ionosphere. \n",
    "\n",
    "Received signals were processed using an autocorrelation function whose arguments are the time of a pulse and the pulse number. There were 17 pulse numbers for the Goose Bay system. Instances in this databse are described by 2 attributes per pulse number, corresponding to the complex values returned by the function resulting from the complex electromagnetic signal.\n",
    "\n",
    "\n",
    "Attribute Information:\n",
    "\n",
    "-- All 34 are continuous \n",
    "-- The 35th attribute is either \"good\" or \"bad\" according to the definition summarized above. This is a binary classification task. "
   ]
  },
  {
   "cell_type": "code",
   "execution_count": 4,
   "metadata": {
    "collapsed": false
   },
   "outputs": [],
   "source": [
    "import statsmodels.api as sm"
   ]
  },
  {
   "cell_type": "code",
   "execution_count": 6,
   "metadata": {
    "collapsed": false
   },
   "outputs": [],
   "source": [
    "X = np.loadtxt(\"ionosphere.csv\", delimiter=\",\", usecols=list(range(34)))  # col 35 is ths classification"
   ]
  },
  {
   "cell_type": "code",
   "execution_count": 7,
   "metadata": {
    "collapsed": false
   },
   "outputs": [],
   "source": [
    "Y = np.loadtxt(\"ionosphere.csv\", delimiter=\",\", usecols=[34], dtype=np.str)  # col 35 is ths classification as text string"
   ]
  },
  {
   "cell_type": "code",
   "execution_count": 8,
   "metadata": {
    "collapsed": false
   },
   "outputs": [
    {
     "data": {
      "text/plain": [
       "array([\"b'g'\", \"b'b'\", \"b'g'\", \"b'b'\", \"b'g'\"], \n",
       "      dtype='<U4')"
      ]
     },
     "execution_count": 8,
     "metadata": {},
     "output_type": "execute_result"
    }
   ],
   "source": [
    "Y[:5]"
   ]
  },
  {
   "cell_type": "code",
   "execution_count": 9,
   "metadata": {
    "collapsed": true
   },
   "outputs": [],
   "source": [
    "Y = sm.tools.categorical(Y, drop=True)  # return a categorial, "
   ]
  },
  {
   "cell_type": "code",
   "execution_count": 10,
   "metadata": {
    "collapsed": false
   },
   "outputs": [
    {
     "data": {
      "text/plain": [
       "array([[ 0.,  1.],\n",
       "       [ 1.,  0.],\n",
       "       [ 0.,  1.],\n",
       "       [ 1.,  0.],\n",
       "       [ 0.,  1.]])"
      ]
     },
     "execution_count": 10,
     "metadata": {},
     "output_type": "execute_result"
    }
   ],
   "source": [
    "Y[:5]"
   ]
  },
  {
   "cell_type": "code",
   "execution_count": 11,
   "metadata": {
    "collapsed": false
   },
   "outputs": [],
   "source": [
    "Y = Y[:,1]"
   ]
  },
  {
   "cell_type": "code",
   "execution_count": 12,
   "metadata": {
    "collapsed": false
   },
   "outputs": [
    {
     "data": {
      "text/plain": [
       "array([ 1.,  0.,  1.,  0.,  1.])"
      ]
     },
     "execution_count": 12,
     "metadata": {},
     "output_type": "execute_result"
    }
   ],
   "source": [
    "Y[:5]"
   ]
  },
  {
   "cell_type": "markdown",
   "metadata": {},
   "source": [
    "# Use pandas to read csv and convert categorical to number using get_dummies"
   ]
  },
  {
   "cell_type": "code",
   "execution_count": 14,
   "metadata": {
    "collapsed": false
   },
   "outputs": [],
   "source": [
    "import pandas as pd\n",
    "data_pandas = pd.read_csv(\"ionosphere.csv\")"
   ]
  },
  {
   "cell_type": "code",
   "execution_count": 17,
   "metadata": {
    "collapsed": false
   },
   "outputs": [
    {
     "data": {
      "text/plain": [
       "0    b\n",
       "1    g\n",
       "2    b\n",
       "3    g\n",
       "4    b\n",
       "Name: g, dtype: object"
      ]
     },
     "execution_count": 17,
     "metadata": {},
     "output_type": "execute_result"
    }
   ],
   "source": [
    "data_pandas['g'].head()"
   ]
  },
  {
   "cell_type": "code",
   "execution_count": 18,
   "metadata": {
    "collapsed": true
   },
   "outputs": [],
   "source": [
    "data_categorical = pd.get_dummies(data_pandas['g'])"
   ]
  },
  {
   "cell_type": "code",
   "execution_count": 20,
   "metadata": {
    "collapsed": false
   },
   "outputs": [
    {
     "data": {
      "text/plain": [
       "0      1.0\n",
       "1      0.0\n",
       "2      1.0\n",
       "3      0.0\n",
       "4      1.0\n",
       "5      0.0\n",
       "6      1.0\n",
       "7      0.0\n",
       "8      1.0\n",
       "9      0.0\n",
       "10     1.0\n",
       "11     0.0\n",
       "12     1.0\n",
       "13     0.0\n",
       "14     1.0\n",
       "15     0.0\n",
       "16     1.0\n",
       "17     0.0\n",
       "18     1.0\n",
       "19     0.0\n",
       "20     1.0\n",
       "21     0.0\n",
       "22     1.0\n",
       "23     0.0\n",
       "24     1.0\n",
       "25     0.0\n",
       "26     1.0\n",
       "27     0.0\n",
       "28     1.0\n",
       "29     0.0\n",
       "      ... \n",
       "320    0.0\n",
       "321    0.0\n",
       "322    0.0\n",
       "323    0.0\n",
       "324    0.0\n",
       "325    0.0\n",
       "326    0.0\n",
       "327    0.0\n",
       "328    0.0\n",
       "329    0.0\n",
       "330    0.0\n",
       "331    0.0\n",
       "332    0.0\n",
       "333    0.0\n",
       "334    0.0\n",
       "335    0.0\n",
       "336    0.0\n",
       "337    0.0\n",
       "338    0.0\n",
       "339    0.0\n",
       "340    0.0\n",
       "341    0.0\n",
       "342    0.0\n",
       "343    0.0\n",
       "344    0.0\n",
       "345    0.0\n",
       "346    0.0\n",
       "347    0.0\n",
       "348    0.0\n",
       "349    0.0\n",
       "Name: b, dtype: float64"
      ]
     },
     "execution_count": 20,
     "metadata": {},
     "output_type": "execute_result"
    }
   ],
   "source": [
    "data_categorical['b']"
   ]
  },
  {
   "cell_type": "code",
   "execution_count": 118,
   "metadata": {
    "collapsed": true
   },
   "outputs": [],
   "source": [
    "model = Sequential()\n",
    "model.add(Dense(12, input_dim=34, init='uniform', activation='relu')) \n",
    "model.add(Dense(34, init='uniform', activation='relu'))\n",
    "model.add(Dense(1, init='uniform', activation='sigmoid'))\n",
    "model.compile(loss='binary_crossentropy' , optimizer='adam', metrics=['accuracy'])"
   ]
  },
  {
   "cell_type": "code",
   "execution_count": 119,
   "metadata": {
    "collapsed": false
   },
   "outputs": [
    {
     "name": "stdout",
     "output_type": "stream",
     "text": [
      "Epoch 1/150\n",
      "351/351 [==============================] - 0s - loss: 0.6882 - acc: 0.6638     \n",
      "Epoch 2/150\n",
      "351/351 [==============================] - 0s - loss: 0.6478 - acc: 0.6553     \n",
      "Epoch 3/150\n",
      "351/351 [==============================] - 0s - loss: 0.5523 - acc: 0.7464     \n",
      "Epoch 4/150\n",
      "351/351 [==============================] - 0s - loss: 0.4560 - acc: 0.8575     \n",
      "Epoch 5/150\n",
      "351/351 [==============================] - 0s - loss: 0.3705 - acc: 0.8775     \n",
      "Epoch 6/150\n",
      "351/351 [==============================] - 0s - loss: 0.3106 - acc: 0.9031     \n",
      "Epoch 7/150\n",
      "351/351 [==============================] - 0s - loss: 0.2681 - acc: 0.9088     \n",
      "Epoch 8/150\n",
      "351/351 [==============================] - 0s - loss: 0.2398 - acc: 0.9145     \n",
      "Epoch 9/150\n",
      "351/351 [==============================] - 0s - loss: 0.2183 - acc: 0.9231     \n",
      "Epoch 10/150\n",
      "351/351 [==============================] - 0s - loss: 0.1952 - acc: 0.9316     \n",
      "Epoch 11/150\n",
      "351/351 [==============================] - 0s - loss: 0.1764 - acc: 0.9402     \n",
      "Epoch 12/150\n",
      "351/351 [==============================] - 0s - loss: 0.1611 - acc: 0.9430     \n",
      "Epoch 13/150\n",
      "351/351 [==============================] - 0s - loss: 0.1476 - acc: 0.9516     \n",
      "Epoch 14/150\n",
      "351/351 [==============================] - 0s - loss: 0.1355 - acc: 0.9601     \n",
      "Epoch 15/150\n",
      "351/351 [==============================] - 0s - loss: 0.1275 - acc: 0.9630     \n",
      "Epoch 16/150\n",
      "351/351 [==============================] - 0s - loss: 0.1226 - acc: 0.9601     \n",
      "Epoch 17/150\n",
      "351/351 [==============================] - 0s - loss: 0.1233 - acc: 0.9459     \n",
      "Epoch 18/150\n",
      "351/351 [==============================] - 0s - loss: 0.1085 - acc: 0.9658     \n",
      "Epoch 19/150\n",
      "351/351 [==============================] - 0s - loss: 0.1108 - acc: 0.9715     \n",
      "Epoch 20/150\n",
      "351/351 [==============================] - 0s - loss: 0.1002 - acc: 0.9772     \n",
      "Epoch 21/150\n",
      "351/351 [==============================] - 0s - loss: 0.0958 - acc: 0.9744     \n",
      "Epoch 22/150\n",
      "351/351 [==============================] - 0s - loss: 0.0914 - acc: 0.9772     \n",
      "Epoch 23/150\n",
      "351/351 [==============================] - 0s - loss: 0.0886 - acc: 0.9801     \n",
      "Epoch 24/150\n",
      "351/351 [==============================] - 0s - loss: 0.1007 - acc: 0.9715     \n",
      "Epoch 25/150\n",
      "351/351 [==============================] - 0s - loss: 0.0848 - acc: 0.9801     \n",
      "Epoch 26/150\n",
      "351/351 [==============================] - 0s - loss: 0.0794 - acc: 0.9801     \n",
      "Epoch 27/150\n",
      "351/351 [==============================] - 0s - loss: 0.0784 - acc: 0.9829     \n",
      "Epoch 28/150\n",
      "351/351 [==============================] - 0s - loss: 0.0758 - acc: 0.9801     \n",
      "Epoch 29/150\n",
      "351/351 [==============================] - 0s - loss: 0.0746 - acc: 0.9801     \n",
      "Epoch 30/150\n",
      "351/351 [==============================] - 0s - loss: 0.0713 - acc: 0.9801     \n",
      "Epoch 31/150\n",
      "351/351 [==============================] - 0s - loss: 0.0684 - acc: 0.9801     \n",
      "Epoch 32/150\n",
      "351/351 [==============================] - 0s - loss: 0.0699 - acc: 0.9829     \n",
      "Epoch 33/150\n",
      "351/351 [==============================] - 0s - loss: 0.0653 - acc: 0.9801     \n",
      "Epoch 34/150\n",
      "351/351 [==============================] - 0s - loss: 0.0743 - acc: 0.9829     \n",
      "Epoch 35/150\n",
      "351/351 [==============================] - 0s - loss: 0.0645 - acc: 0.9801     \n",
      "Epoch 36/150\n",
      "351/351 [==============================] - 0s - loss: 0.0611 - acc: 0.9801     \n",
      "Epoch 37/150\n",
      "351/351 [==============================] - 0s - loss: 0.0599 - acc: 0.9858     \n",
      "Epoch 38/150\n",
      "351/351 [==============================] - 0s - loss: 0.0576 - acc: 0.9801     \n",
      "Epoch 39/150\n",
      "351/351 [==============================] - 0s - loss: 0.0551 - acc: 0.9829     \n",
      "Epoch 40/150\n",
      "351/351 [==============================] - 0s - loss: 0.0534 - acc: 0.9858     \n",
      "Epoch 41/150\n",
      "351/351 [==============================] - 0s - loss: 0.0524 - acc: 0.9858     \n",
      "Epoch 42/150\n",
      "351/351 [==============================] - 0s - loss: 0.0512 - acc: 0.9858     \n",
      "Epoch 43/150\n",
      "351/351 [==============================] - 0s - loss: 0.1028 - acc: 0.9687     \n",
      "Epoch 44/150\n",
      "351/351 [==============================] - 0s - loss: 0.0578 - acc: 0.9829     \n",
      "Epoch 45/150\n",
      "351/351 [==============================] - 0s - loss: 0.0504 - acc: 0.9858     \n",
      "Epoch 46/150\n",
      "351/351 [==============================] - 0s - loss: 0.0475 - acc: 0.9858     \n",
      "Epoch 47/150\n",
      "351/351 [==============================] - 0s - loss: 0.0454 - acc: 0.9858     \n",
      "Epoch 48/150\n",
      "351/351 [==============================] - 0s - loss: 0.0433 - acc: 0.9858     \n",
      "Epoch 49/150\n",
      "351/351 [==============================] - 0s - loss: 0.0421 - acc: 0.9858     \n",
      "Epoch 50/150\n",
      "351/351 [==============================] - 0s - loss: 0.0424 - acc: 0.9858     \n",
      "Epoch 51/150\n",
      "351/351 [==============================] - 0s - loss: 0.0400 - acc: 0.9858     \n",
      "Epoch 52/150\n",
      "351/351 [==============================] - 0s - loss: 0.0393 - acc: 0.9858     \n",
      "Epoch 53/150\n",
      "351/351 [==============================] - 0s - loss: 0.0386 - acc: 0.9886     \n",
      "Epoch 54/150\n",
      "351/351 [==============================] - 0s - loss: 0.0382 - acc: 0.9858     \n",
      "Epoch 55/150\n",
      "351/351 [==============================] - 0s - loss: 0.0380 - acc: 0.9915     \n",
      "Epoch 56/150\n",
      "351/351 [==============================] - 0s - loss: 0.0356 - acc: 0.9886     \n",
      "Epoch 57/150\n",
      "351/351 [==============================] - 0s - loss: 0.0352 - acc: 0.9886     \n",
      "Epoch 58/150\n",
      "351/351 [==============================] - 0s - loss: 0.0350 - acc: 0.9915     \n",
      "Epoch 59/150\n",
      "351/351 [==============================] - 0s - loss: 0.0345 - acc: 0.9915     \n",
      "Epoch 60/150\n",
      "351/351 [==============================] - 0s - loss: 0.0340 - acc: 0.9886     \n",
      "Epoch 61/150\n",
      "351/351 [==============================] - 0s - loss: 0.0318 - acc: 0.9915     \n",
      "Epoch 62/150\n",
      "351/351 [==============================] - 0s - loss: 0.0324 - acc: 0.9915     \n",
      "Epoch 63/150\n",
      "351/351 [==============================] - 0s - loss: 0.0313 - acc: 0.9915     \n",
      "Epoch 64/150\n",
      "351/351 [==============================] - 0s - loss: 0.0297 - acc: 0.9915     \n",
      "Epoch 65/150\n",
      "351/351 [==============================] - 0s - loss: 0.0296 - acc: 0.9915     \n",
      "Epoch 66/150\n",
      "351/351 [==============================] - 0s - loss: 0.0283 - acc: 0.9943     \n",
      "Epoch 67/150\n",
      "351/351 [==============================] - 0s - loss: 0.0275 - acc: 0.9943     \n",
      "Epoch 68/150\n",
      "351/351 [==============================] - 0s - loss: 0.0282 - acc: 0.9915     \n",
      "Epoch 69/150\n",
      "351/351 [==============================] - 0s - loss: 0.0270 - acc: 0.9972     \n",
      "Epoch 70/150\n",
      "351/351 [==============================] - 0s - loss: 0.0258 - acc: 0.9943     \n",
      "Epoch 71/150\n",
      "351/351 [==============================] - 0s - loss: 0.0259 - acc: 0.9972     \n",
      "Epoch 72/150\n",
      "351/351 [==============================] - 0s - loss: 0.0271 - acc: 0.9915     \n",
      "Epoch 73/150\n",
      "351/351 [==============================] - 0s - loss: 0.0254 - acc: 0.9943     \n",
      "Epoch 74/150\n",
      "351/351 [==============================] - 0s - loss: 0.0243 - acc: 0.9972     \n",
      "Epoch 75/150\n",
      "351/351 [==============================] - 0s - loss: 0.0252 - acc: 0.9943     \n",
      "Epoch 76/150\n",
      "351/351 [==============================] - 0s - loss: 0.0229 - acc: 0.9972     \n",
      "Epoch 77/150\n",
      "351/351 [==============================] - 0s - loss: 0.0238 - acc: 0.9972     \n",
      "Epoch 78/150\n",
      "351/351 [==============================] - 0s - loss: 0.0222 - acc: 0.9972     \n",
      "Epoch 79/150\n",
      "351/351 [==============================] - 0s - loss: 0.0220 - acc: 0.9972     \n",
      "Epoch 80/150\n",
      "351/351 [==============================] - 0s - loss: 0.0225 - acc: 0.9943     \n",
      "Epoch 81/150\n",
      "351/351 [==============================] - 0s - loss: 0.0215 - acc: 0.9972     \n",
      "Epoch 82/150\n",
      "351/351 [==============================] - 0s - loss: 0.0215 - acc: 0.9972     \n",
      "Epoch 83/150\n",
      "351/351 [==============================] - 0s - loss: 0.0219 - acc: 0.9972     \n",
      "Epoch 84/150\n",
      "351/351 [==============================] - 0s - loss: 0.0205 - acc: 0.9972     \n",
      "Epoch 85/150\n",
      "351/351 [==============================] - 0s - loss: 0.0201 - acc: 0.9972     \n",
      "Epoch 86/150\n",
      "351/351 [==============================] - 0s - loss: 0.0203 - acc: 0.9972     \n",
      "Epoch 87/150\n",
      "351/351 [==============================] - 0s - loss: 0.0198 - acc: 0.9972     \n",
      "Epoch 88/150\n",
      "351/351 [==============================] - 0s - loss: 0.0196 - acc: 0.9972     \n",
      "Epoch 89/150\n",
      "351/351 [==============================] - 0s - loss: 0.0738 - acc: 0.9715     \n",
      "Epoch 90/150\n",
      "351/351 [==============================] - 0s - loss: 0.0276 - acc: 0.9943     \n",
      "Epoch 91/150\n",
      "351/351 [==============================] - 0s - loss: 0.0211 - acc: 0.9972     \n",
      "Epoch 92/150\n",
      "351/351 [==============================] - 0s - loss: 0.0205 - acc: 0.9972     \n",
      "Epoch 93/150\n",
      "351/351 [==============================] - 0s - loss: 0.0198 - acc: 0.9972     \n",
      "Epoch 94/150\n",
      "351/351 [==============================] - 0s - loss: 0.0190 - acc: 0.9972     \n",
      "Epoch 95/150\n",
      "351/351 [==============================] - 0s - loss: 0.0185 - acc: 0.9972     \n",
      "Epoch 96/150\n",
      "351/351 [==============================] - 0s - loss: 0.0189 - acc: 0.9972     \n",
      "Epoch 97/150\n",
      "351/351 [==============================] - 0s - loss: 0.0175 - acc: 0.9972     \n",
      "Epoch 98/150\n",
      "351/351 [==============================] - 0s - loss: 0.0173 - acc: 0.9972     \n",
      "Epoch 99/150\n",
      "351/351 [==============================] - 0s - loss: 0.0174 - acc: 0.9972     \n",
      "Epoch 100/150\n",
      "351/351 [==============================] - 0s - loss: 0.0167 - acc: 0.9972     \n",
      "Epoch 101/150\n",
      "351/351 [==============================] - 0s - loss: 0.0168 - acc: 0.9972     \n",
      "Epoch 102/150\n",
      "351/351 [==============================] - 0s - loss: 0.0167 - acc: 0.9972     \n",
      "Epoch 103/150\n",
      "351/351 [==============================] - 0s - loss: 0.0160 - acc: 0.9972     \n",
      "Epoch 104/150\n",
      "351/351 [==============================] - 0s - loss: 0.0162 - acc: 0.9972     \n",
      "Epoch 105/150\n",
      "351/351 [==============================] - 0s - loss: 0.0160 - acc: 0.9972     \n",
      "Epoch 106/150\n",
      "351/351 [==============================] - 0s - loss: 0.0161 - acc: 0.9972     \n",
      "Epoch 107/150\n",
      "351/351 [==============================] - 0s - loss: 0.0163 - acc: 0.9972     \n",
      "Epoch 108/150\n",
      "351/351 [==============================] - 0s - loss: 0.0225 - acc: 0.9915     \n",
      "Epoch 109/150\n",
      "351/351 [==============================] - 0s - loss: 0.0184 - acc: 0.9972     \n",
      "Epoch 110/150\n",
      "351/351 [==============================] - 0s - loss: 0.0167 - acc: 0.9972     \n",
      "Epoch 111/150\n",
      "351/351 [==============================] - 0s - loss: 0.0154 - acc: 0.9972     \n",
      "Epoch 112/150\n",
      "351/351 [==============================] - 0s - loss: 0.0153 - acc: 0.9972     \n",
      "Epoch 113/150\n",
      "351/351 [==============================] - 0s - loss: 0.0147 - acc: 0.9972     \n",
      "Epoch 114/150\n",
      "351/351 [==============================] - 0s - loss: 0.0156 - acc: 0.9972     \n",
      "Epoch 115/150\n",
      "351/351 [==============================] - 0s - loss: 0.0159 - acc: 0.9972     \n",
      "Epoch 116/150\n",
      "351/351 [==============================] - 0s - loss: 0.0146 - acc: 0.9972     \n",
      "Epoch 117/150\n",
      "351/351 [==============================] - 0s - loss: 0.0146 - acc: 0.9972     \n",
      "Epoch 118/150\n",
      "351/351 [==============================] - 0s - loss: 0.0147 - acc: 0.9972     \n",
      "Epoch 119/150\n",
      "351/351 [==============================] - 0s - loss: 0.0140 - acc: 0.9972     \n",
      "Epoch 120/150\n",
      "351/351 [==============================] - 0s - loss: 0.0146 - acc: 0.9972     \n",
      "Epoch 121/150\n",
      "351/351 [==============================] - 0s - loss: 0.0144 - acc: 0.9972     \n",
      "Epoch 122/150\n",
      "351/351 [==============================] - 0s - loss: 0.0145 - acc: 0.9972     \n",
      "Epoch 123/150\n",
      "351/351 [==============================] - 0s - loss: 0.0144 - acc: 0.9972     \n",
      "Epoch 124/150\n",
      "351/351 [==============================] - 0s - loss: 0.0143 - acc: 0.9972     \n",
      "Epoch 125/150\n",
      "351/351 [==============================] - 0s - loss: 0.0144 - acc: 0.9972     \n",
      "Epoch 126/150\n",
      "351/351 [==============================] - 0s - loss: 0.0167 - acc: 0.9972     \n",
      "Epoch 127/150\n",
      "351/351 [==============================] - 0s - loss: 0.0156 - acc: 0.9972     \n",
      "Epoch 128/150\n",
      "351/351 [==============================] - 0s - loss: 0.0184 - acc: 0.9972     \n",
      "Epoch 129/150\n",
      "351/351 [==============================] - 0s - loss: 0.0151 - acc: 0.9972     \n",
      "Epoch 130/150\n",
      "351/351 [==============================] - 0s - loss: 0.0147 - acc: 0.9972     \n",
      "Epoch 131/150\n",
      "351/351 [==============================] - 0s - loss: 0.0136 - acc: 0.9972     \n",
      "Epoch 132/150\n",
      "351/351 [==============================] - 0s - loss: 0.0145 - acc: 0.9972     \n",
      "Epoch 133/150\n",
      "351/351 [==============================] - 0s - loss: 0.0140 - acc: 0.9972     \n",
      "Epoch 134/150\n",
      "351/351 [==============================] - 0s - loss: 0.0152 - acc: 0.9972     \n",
      "Epoch 135/150\n",
      "351/351 [==============================] - 0s - loss: 0.0141 - acc: 0.9972     \n",
      "Epoch 136/150\n",
      "351/351 [==============================] - 0s - loss: 0.0128 - acc: 0.9972     \n",
      "Epoch 137/150\n",
      "351/351 [==============================] - 0s - loss: 0.0137 - acc: 0.9972     \n",
      "Epoch 138/150\n",
      "351/351 [==============================] - 0s - loss: 0.0138 - acc: 0.9972     \n",
      "Epoch 139/150\n",
      "351/351 [==============================] - 0s - loss: 0.0131 - acc: 0.9972     \n",
      "Epoch 140/150\n",
      "351/351 [==============================] - 0s - loss: 0.0130 - acc: 0.9972     \n",
      "Epoch 141/150\n",
      "351/351 [==============================] - 0s - loss: 0.0140 - acc: 0.9972     \n",
      "Epoch 142/150\n",
      "351/351 [==============================] - 0s - loss: 0.0139 - acc: 0.9972     \n",
      "Epoch 143/150\n",
      "351/351 [==============================] - 0s - loss: 0.0128 - acc: 0.9972     \n",
      "Epoch 144/150\n",
      "351/351 [==============================] - 0s - loss: 0.0141 - acc: 0.9972     \n",
      "Epoch 145/150\n",
      "351/351 [==============================] - 0s - loss: 0.0129 - acc: 0.9972     \n",
      "Epoch 146/150\n",
      "351/351 [==============================] - 0s - loss: 0.0145 - acc: 0.9972     \n",
      "Epoch 147/150\n",
      "351/351 [==============================] - 0s - loss: 0.0155 - acc: 0.9972     \n",
      "Epoch 148/150\n",
      "351/351 [==============================] - 0s - loss: 0.0138 - acc: 0.9972     \n",
      "Epoch 149/150\n",
      "351/351 [==============================] - 0s - loss: 0.0147 - acc: 0.9972     \n",
      "Epoch 150/150\n",
      "351/351 [==============================] - 0s - loss: 0.0134 - acc: 0.9972     \n",
      " 32/351 [=>............................] - ETA: 0sacc: 99.72%\n"
     ]
    }
   ],
   "source": [
    "# Fit the model\n",
    "model.fit(X, Y, nb_epoch=150, batch_size=10)\n",
    "# Evaluate the model\n",
    "scores = model.evaluate(X, Y)\n",
    "print(\"%s: %.2f%%\" % (model.metrics_names[1], scores[1]*100))"
   ]
  },
  {
   "cell_type": "code",
   "execution_count": 131,
   "metadata": {
    "collapsed": false
   },
   "outputs": [
    {
     "ename": "AttributeError",
     "evalue": "'Sequential' object has no attribute 'history'",
     "output_type": "error",
     "traceback": [
      "\u001b[0;31m---------------------------------------------------------------------------\u001b[0m",
      "\u001b[0;31mAttributeError\u001b[0m                            Traceback (most recent call last)",
      "\u001b[0;32m<ipython-input-131-5742fe31b7ea>\u001b[0m in \u001b[0;36m<module>\u001b[0;34m()\u001b[0m\n\u001b[0;32m----> 1\u001b[0;31m \u001b[0mprint\u001b[0m\u001b[0;34m(\u001b[0m\u001b[0mmodel\u001b[0m\u001b[0;34m.\u001b[0m\u001b[0mhistory\u001b[0m\u001b[0;34m.\u001b[0m\u001b[0mkeys\u001b[0m\u001b[0;34m(\u001b[0m\u001b[0;34m)\u001b[0m\u001b[0;34m)\u001b[0m\u001b[0;34m\u001b[0m\u001b[0m\n\u001b[0m",
      "\u001b[0;31mAttributeError\u001b[0m: 'Sequential' object has no attribute 'history'"
     ]
    }
   ],
   "source": [
    "history = model.fit(X, Y, nb_epoch=150, batch_size=10)\n",
    "print(history.history.keys())"
   ]
  },
  {
   "cell_type": "code",
   "execution_count": 130,
   "metadata": {
    "collapsed": false
   },
   "outputs": [
    {
     "data": {
      "text/plain": [
       "[<matplotlib.lines.Line2D at 0x11f8893c8>]"
      ]
     },
     "execution_count": 130,
     "metadata": {},
     "output_type": "execute_result"
    },
    {
     "data": {
      "image/png": "[encoded data removed]",
      "text/plain": [
       "<matplotlib.figure.Figure at 0x120176ba8>"
      ]
     },
     "metadata": {},
     "output_type": "display_data"
    }
   ],
   "source": [
    "plt.plot(history.history['loss'])"
   ]
  },
  {
   "cell_type": "code",
   "execution_count": 129,
   "metadata": {
    "collapsed": false
   },
   "outputs": [
    {
     "data": {
      "text/plain": [
       "[<matplotlib.lines.Line2D at 0x11f3d5e80>]"
      ]
     },
     "execution_count": 129,
     "metadata": {},
     "output_type": "execute_result"
    },
    {
     "data": {
      "image/png": "[encoded data removed]",
      "text/plain": [
       "<matplotlib.figure.Figure at 0x11f397fd0>"
      ]
     },
     "metadata": {},
     "output_type": "display_data"
    }
   ],
   "source": [
    "plt.plot(history.history['acc'])"
   ]
  },
  {
   "cell_type": "code",
   "execution_count": 124,
   "metadata": {
    "collapsed": true
   },
   "outputs": [],
   "source": [
    "?a"
   ]
  },
  {
   "cell_type": "code",
   "execution_count": null,
   "metadata": {
    "collapsed": true
   },
   "outputs": [],
   "source": []
  }
 ],
 "metadata": {
  "anaconda-cloud": {},
  "kernelspec": {
   "display_name": "Python [conda root]",
   "language": "python",
   "name": "conda-root-py"
  },
  "language_info": {
   "codemirror_mode": {
    "name": "ipython",
    "version": 3
   },
   "file_extension": ".py",
   "mimetype": "text/x-python",
   "name": "python",
   "nbconvert_exporter": "python",
   "pygments_lexer": "ipython3",
   "version": "3.5.2"
  }
 },
 "nbformat": 4,
 "nbformat_minor": 1
}
