{
 "cells": [
  {
   "cell_type": "code",
   "execution_count": 1,
   "metadata": {
    "collapsed": true
   },
   "outputs": [],
   "source": [
    "from pyEclipseDVH_v2 import Load_patient\n",
    "%matplotlib inline\n",
    "import numpy as np\n",
    "import pandas as pd\n",
    "import matplotlib.pyplot as plt\n",
    "import os"
   ]
  },
  {
   "cell_type": "code",
   "execution_count": 2,
   "metadata": {
    "collapsed": true
   },
   "outputs": [],
   "source": [
    "files = os.listdir()   # return a list of files\n",
    "txt_files = [file for file in files if file.endswith('.txt')]"
   ]
  },
  {
   "cell_type": "code",
   "execution_count": 3,
   "metadata": {
    "collapsed": false
   },
   "outputs": [
    {
     "name": "stdout",
     "output_type": "stream",
     "text": [
      "Case1_AAA.txt loaded \t patID:Case1 PlanID:AAA and number of structures is 25\n",
      "Case1_AXB.txt loaded \t patID:Case1 PlanID:AXB and number of structures is 25\n",
      "Case5_AAA.txt loaded \t patID:Case5 PlanID:AAA and number of structures is 29\n",
      "Case5_AXB.txt loaded \t patID:Case5 PlanID:AXB and number of structures is 29\n"
     ]
    }
   ],
   "source": [
    "for i, file in enumerate(txt_files):\n",
    "    if i == 0:\n",
    "        multi_df = Load_patient(file)        \n",
    "    else:\n",
    "        multi_df = pd.concat([multi_df, Load_patient(file)], axis=1)"
   ]
  },
  {
   "cell_type": "code",
   "execution_count": 4,
   "metadata": {
    "collapsed": false
   },
   "outputs": [
    {
     "data": {
      "text/html": [
       "<div>\n",
       "<table border=\"1\" class=\"dataframe\">\n",
       "  <thead>\n",
       "    <tr>\n",
       "      <th>Patient ID</th>\n",
       "      <th colspan=\"10\" halign=\"left\">Case1</th>\n",
       "      <th>...</th>\n",
       "      <th colspan=\"10\" halign=\"left\">Case5</th>\n",
       "    </tr>\n",
       "    <tr>\n",
       "      <th>Plan ID</th>\n",
       "      <th colspan=\"10\" halign=\"left\">AAA</th>\n",
       "      <th>...</th>\n",
       "      <th colspan=\"10\" halign=\"left\">AAA</th>\n",
       "    </tr>\n",
       "    <tr>\n",
       "      <th>Structure</th>\n",
       "      <th>BODY</th>\n",
       "      <th>GTV</th>\n",
       "      <th>Heart</th>\n",
       "      <th>Foramen</th>\n",
       "      <th>Foramen+5mm</th>\n",
       "      <th>Oesophagus</th>\n",
       "      <th>Foramen+3mm</th>\n",
       "      <th>Trachea</th>\n",
       "      <th>Bronchial tree</th>\n",
       "      <th>L Brachial plex</th>\n",
       "      <th>...</th>\n",
       "      <th>R Brachial plex</th>\n",
       "      <th>Pseudo ITV</th>\n",
       "      <th>Ribs-PTV</th>\n",
       "      <th>PseudPTV_edit</th>\n",
       "      <th>Pseudo ring</th>\n",
       "      <th>PseudoPTV_edit</th>\n",
       "      <th>cool</th>\n",
       "      <th>Dose 100[%]</th>\n",
       "      <th>Dose 27Gy</th>\n",
       "      <th>Dose 30Gy</th>\n",
       "    </tr>\n",
       "    <tr>\n",
       "      <th>Dose (Gy)</th>\n",
       "      <th></th>\n",
       "      <th></th>\n",
       "      <th></th>\n",
       "      <th></th>\n",
       "      <th></th>\n",
       "      <th></th>\n",
       "      <th></th>\n",
       "      <th></th>\n",
       "      <th></th>\n",
       "      <th></th>\n",
       "      <th></th>\n",
       "      <th></th>\n",
       "      <th></th>\n",
       "      <th></th>\n",
       "      <th></th>\n",
       "      <th></th>\n",
       "      <th></th>\n",
       "      <th></th>\n",
       "      <th></th>\n",
       "      <th></th>\n",
       "      <th></th>\n",
       "    </tr>\n",
       "  </thead>\n",
       "  <tbody>\n",
       "    <tr>\n",
       "      <th>0.00</th>\n",
       "      <td>100.000000</td>\n",
       "      <td>100.0</td>\n",
       "      <td>100.000000</td>\n",
       "      <td>100.000000</td>\n",
       "      <td>100.000000</td>\n",
       "      <td>100.000000</td>\n",
       "      <td>100.000000</td>\n",
       "      <td>100.000000</td>\n",
       "      <td>100.0</td>\n",
       "      <td>100.000000</td>\n",
       "      <td>...</td>\n",
       "      <td>100.0</td>\n",
       "      <td>100.0</td>\n",
       "      <td>100.000000</td>\n",
       "      <td>100.0</td>\n",
       "      <td>100.000000</td>\n",
       "      <td>100.0</td>\n",
       "      <td>100.0</td>\n",
       "      <td>100.0</td>\n",
       "      <td>100.0</td>\n",
       "      <td>100.0</td>\n",
       "    </tr>\n",
       "    <tr>\n",
       "      <th>0.05</th>\n",
       "      <td>94.650546</td>\n",
       "      <td>100.0</td>\n",
       "      <td>100.000000</td>\n",
       "      <td>100.000000</td>\n",
       "      <td>100.000000</td>\n",
       "      <td>100.000000</td>\n",
       "      <td>100.000000</td>\n",
       "      <td>100.000000</td>\n",
       "      <td>100.0</td>\n",
       "      <td>100.000000</td>\n",
       "      <td>...</td>\n",
       "      <td>100.0</td>\n",
       "      <td>100.0</td>\n",
       "      <td>99.999910</td>\n",
       "      <td>100.0</td>\n",
       "      <td>99.992912</td>\n",
       "      <td>100.0</td>\n",
       "      <td>100.0</td>\n",
       "      <td>100.0</td>\n",
       "      <td>100.0</td>\n",
       "      <td>100.0</td>\n",
       "    </tr>\n",
       "    <tr>\n",
       "      <th>0.10</th>\n",
       "      <td>84.657252</td>\n",
       "      <td>100.0</td>\n",
       "      <td>99.228210</td>\n",
       "      <td>99.109820</td>\n",
       "      <td>97.594712</td>\n",
       "      <td>100.000000</td>\n",
       "      <td>98.241807</td>\n",
       "      <td>100.000000</td>\n",
       "      <td>100.0</td>\n",
       "      <td>100.000000</td>\n",
       "      <td>...</td>\n",
       "      <td>100.0</td>\n",
       "      <td>100.0</td>\n",
       "      <td>99.084434</td>\n",
       "      <td>100.0</td>\n",
       "      <td>99.983445</td>\n",
       "      <td>100.0</td>\n",
       "      <td>100.0</td>\n",
       "      <td>100.0</td>\n",
       "      <td>100.0</td>\n",
       "      <td>100.0</td>\n",
       "    </tr>\n",
       "    <tr>\n",
       "      <th>0.15</th>\n",
       "      <td>75.699474</td>\n",
       "      <td>100.0</td>\n",
       "      <td>95.117282</td>\n",
       "      <td>89.524147</td>\n",
       "      <td>88.564127</td>\n",
       "      <td>99.694547</td>\n",
       "      <td>88.683684</td>\n",
       "      <td>92.911855</td>\n",
       "      <td>100.0</td>\n",
       "      <td>99.806907</td>\n",
       "      <td>...</td>\n",
       "      <td>100.0</td>\n",
       "      <td>100.0</td>\n",
       "      <td>90.151472</td>\n",
       "      <td>100.0</td>\n",
       "      <td>99.970446</td>\n",
       "      <td>100.0</td>\n",
       "      <td>100.0</td>\n",
       "      <td>100.0</td>\n",
       "      <td>100.0</td>\n",
       "      <td>100.0</td>\n",
       "    </tr>\n",
       "    <tr>\n",
       "      <th>0.20</th>\n",
       "      <td>68.629984</td>\n",
       "      <td>100.0</td>\n",
       "      <td>90.089920</td>\n",
       "      <td>81.775955</td>\n",
       "      <td>81.023144</td>\n",
       "      <td>94.893054</td>\n",
       "      <td>80.788367</td>\n",
       "      <td>77.559046</td>\n",
       "      <td>100.0</td>\n",
       "      <td>70.215692</td>\n",
       "      <td>...</td>\n",
       "      <td>100.0</td>\n",
       "      <td>100.0</td>\n",
       "      <td>78.048038</td>\n",
       "      <td>100.0</td>\n",
       "      <td>99.954081</td>\n",
       "      <td>100.0</td>\n",
       "      <td>100.0</td>\n",
       "      <td>100.0</td>\n",
       "      <td>100.0</td>\n",
       "      <td>100.0</td>\n",
       "    </tr>\n",
       "  </tbody>\n",
       "</table>\n",
       "<p>5 rows × 108 columns</p>\n",
       "</div>"
      ],
      "text/plain": [
       "Patient ID       Case1                                                         \\\n",
       "Plan ID            AAA                                                          \n",
       "Structure         BODY    GTV       Heart     Foramen Foramen+5mm  Oesophagus   \n",
       "Dose (Gy)                                                                       \n",
       "0.00        100.000000  100.0  100.000000  100.000000  100.000000  100.000000   \n",
       "0.05         94.650546  100.0  100.000000  100.000000  100.000000  100.000000   \n",
       "0.10         84.657252  100.0   99.228210   99.109820   97.594712  100.000000   \n",
       "0.15         75.699474  100.0   95.117282   89.524147   88.564127   99.694547   \n",
       "0.20         68.629984  100.0   90.089920   81.775955   81.023144   94.893054   \n",
       "\n",
       "Patient ID                                                           ...     \\\n",
       "Plan ID                                                              ...      \n",
       "Structure  Foramen+3mm     Trachea Bronchial tree L Brachial plex    ...      \n",
       "Dose (Gy)                                                            ...      \n",
       "0.00        100.000000  100.000000          100.0      100.000000    ...      \n",
       "0.05        100.000000  100.000000          100.0      100.000000    ...      \n",
       "0.10         98.241807  100.000000          100.0      100.000000    ...      \n",
       "0.15         88.683684   92.911855          100.0       99.806907    ...      \n",
       "0.20         80.788367   77.559046          100.0       70.215692    ...      \n",
       "\n",
       "Patient ID           Case5                                                   \\\n",
       "Plan ID                AAA                                                    \n",
       "Structure  R Brachial plex Pseudo ITV    Ribs-PTV PseudPTV_edit Pseudo ring   \n",
       "Dose (Gy)                                                                     \n",
       "0.00                 100.0      100.0  100.000000         100.0  100.000000   \n",
       "0.05                 100.0      100.0   99.999910         100.0   99.992912   \n",
       "0.10                 100.0      100.0   99.084434         100.0   99.983445   \n",
       "0.15                 100.0      100.0   90.151472         100.0   99.970446   \n",
       "0.20                 100.0      100.0   78.048038         100.0   99.954081   \n",
       "\n",
       "Patient ID                                                        \n",
       "Plan ID                                                           \n",
       "Structure  PseudoPTV_edit   cool Dose 100[%] Dose 27Gy Dose 30Gy  \n",
       "Dose (Gy)                                                         \n",
       "0.00                100.0  100.0       100.0     100.0     100.0  \n",
       "0.05                100.0  100.0       100.0     100.0     100.0  \n",
       "0.10                100.0  100.0       100.0     100.0     100.0  \n",
       "0.15                100.0  100.0       100.0     100.0     100.0  \n",
       "0.20                100.0  100.0       100.0     100.0     100.0  \n",
       "\n",
       "[5 rows x 108 columns]"
      ]
     },
     "execution_count": 4,
     "metadata": {},
     "output_type": "execute_result"
    }
   ],
   "source": [
    "multi_df.head()"
   ]
  },
  {
   "cell_type": "code",
   "execution_count": 5,
   "metadata": {
    "collapsed": false
   },
   "outputs": [
    {
     "data": {
      "text/plain": [
       "<matplotlib.text.Text at 0x9945cb0>"
      ]
     },
     "execution_count": 5,
     "metadata": {},
     "output_type": "execute_result"
    },
    {
     "data": {
      "image/png": "[encoded data removed]",
      "text/plain": [
       "<matplotlib.figure.Figure at 0x3601dd0>"
      ]
     },
     "metadata": {},
     "output_type": "display_data"
    }
   ],
   "source": [
    "structure = 'PTV CHEST'\n",
    "multi_df.xs(structure, level='Structure', axis=1).plot()\n",
    "plt.legend(loc='center left', bbox_to_anchor=(1, 0.5))\n",
    "plt.title('The DVH for structure ' + structure)\n",
    "plt.ylabel('Relative dose (%)')"
   ]
  },
  {
   "cell_type": "code",
   "execution_count": 6,
   "metadata": {
    "collapsed": true
   },
   "outputs": [],
   "source": [
    "multi_df.to_csv('All_data.csv')   # save all data to flat CSV"
   ]
  },
  {
   "cell_type": "code",
   "execution_count": null,
   "metadata": {
    "collapsed": true
   },
   "outputs": [],
   "source": []
  }
 ],
 "metadata": {
  "anaconda-cloud": {},
  "kernelspec": {
   "display_name": "Python [conda root]",
   "language": "python",
   "name": "conda-root-py"
  },
  "language_info": {
   "codemirror_mode": {
    "name": "ipython",
    "version": 3
   },
   "file_extension": ".py",
   "mimetype": "text/x-python",
   "name": "python",
   "nbconvert_exporter": "python",
   "pygments_lexer": "ipython3",
   "version": "3.5.2"
  }
 },
 "nbformat": 4,
 "nbformat_minor": 1
}
