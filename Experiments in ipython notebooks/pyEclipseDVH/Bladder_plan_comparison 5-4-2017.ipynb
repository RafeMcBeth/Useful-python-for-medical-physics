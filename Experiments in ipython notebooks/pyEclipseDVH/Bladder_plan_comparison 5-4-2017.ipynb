{
 "cells": [
  {
   "cell_type": "code",
   "execution_count": 1,
   "metadata": {
    "collapsed": true
   },
   "outputs": [],
   "source": [
    "from pyEclipseDVH_v2 import List_txt, Load_patient, get_dmin, get_dmax, get_d_metric, Load_files_to_df\n",
    "%matplotlib inline\n",
    "import numpy as np\n",
    "import pandas as pd\n",
    "import matplotlib.pyplot as plt"
   ]
  },
  {
   "cell_type": "code",
   "execution_count": 2,
   "metadata": {
    "collapsed": true
   },
   "outputs": [],
   "source": [
    "Prescription = 36.0 # Gy"
   ]
  },
  {
   "cell_type": "code",
   "execution_count": 3,
   "metadata": {
    "collapsed": true
   },
   "outputs": [],
   "source": [
    "def diff_to_prescribed(dose, Prescribed_dose):\n",
    "    return 100.0 + 100.0*(dose-Prescribed_dose)/Prescribed_dose"
   ]
  },
  {
   "cell_type": "code",
   "execution_count": 4,
   "metadata": {},
   "outputs": [
    {
     "data": {
      "text/plain": [
       "['Planned_plan_RC_export.txt', 'Replan_RC_export.txt']"
      ]
     },
     "execution_count": 4,
     "metadata": {},
     "output_type": "execute_result"
    }
   ],
   "source": [
    "txt_files = List_txt()\n",
    "txt_files"
   ]
  },
  {
   "cell_type": "code",
   "execution_count": 5,
   "metadata": {},
   "outputs": [
    {
     "name": "stdout",
     "output_type": "stream",
     "text": [
      "Planned_plan_RC_export.txt loaded \t patID:X12345 PlanID:Planned and number of structures is 6\n",
      "Replan_RC_export.txt loaded \t patID:X12345 PlanID:Replanned and number of structures is 5\n"
     ]
    }
   ],
   "source": [
    "multi_df = Load_files_to_df(txt_files)"
   ]
  },
  {
   "cell_type": "code",
   "execution_count": 6,
   "metadata": {},
   "outputs": [],
   "source": [
    "multi_df.to_csv('All_data.csv')"
   ]
  },
  {
   "cell_type": "markdown",
   "metadata": {},
   "source": [
    "For processing, drop the patID level since it is unchanged and this causes errors in my custom get_dose functions]"
   ]
  },
  {
   "cell_type": "code",
   "execution_count": 7,
   "metadata": {},
   "outputs": [
    {
     "data": {
      "text/html": [
       "<div>\n",
       "<table border=\"1\" class=\"dataframe\">\n",
       "  <thead>\n",
       "    <tr>\n",
       "      <th>planID</th>\n",
       "      <th colspan=\"6\" halign=\"left\">Planned</th>\n",
       "      <th colspan=\"5\" halign=\"left\">Replanned</th>\n",
       "    </tr>\n",
       "    <tr>\n",
       "      <th>Structure</th>\n",
       "      <th>BODY</th>\n",
       "      <th>CTV36Gy</th>\n",
       "      <th>L Femoral Head</th>\n",
       "      <th>PTV BLADDER</th>\n",
       "      <th>R Femoral Head</th>\n",
       "      <th>Rectum</th>\n",
       "      <th>CTV36Gy</th>\n",
       "      <th>L Femoral Head</th>\n",
       "      <th>PTV BLADDER</th>\n",
       "      <th>R Femoral Head</th>\n",
       "      <th>Rectum</th>\n",
       "    </tr>\n",
       "    <tr>\n",
       "      <th>Dose (Gy)</th>\n",
       "      <th></th>\n",
       "      <th></th>\n",
       "      <th></th>\n",
       "      <th></th>\n",
       "      <th></th>\n",
       "      <th></th>\n",
       "      <th></th>\n",
       "      <th></th>\n",
       "      <th></th>\n",
       "      <th></th>\n",
       "      <th></th>\n",
       "    </tr>\n",
       "  </thead>\n",
       "  <tbody>\n",
       "    <tr>\n",
       "      <th>0.00</th>\n",
       "      <td>100.000000</td>\n",
       "      <td>100.0</td>\n",
       "      <td>100.0</td>\n",
       "      <td>100.0</td>\n",
       "      <td>100.0</td>\n",
       "      <td>100.0</td>\n",
       "      <td>100.0</td>\n",
       "      <td>100.0</td>\n",
       "      <td>100.0</td>\n",
       "      <td>100.0</td>\n",
       "      <td>100.0</td>\n",
       "    </tr>\n",
       "    <tr>\n",
       "      <th>0.05</th>\n",
       "      <td>99.967853</td>\n",
       "      <td>100.0</td>\n",
       "      <td>100.0</td>\n",
       "      <td>100.0</td>\n",
       "      <td>100.0</td>\n",
       "      <td>100.0</td>\n",
       "      <td>100.0</td>\n",
       "      <td>100.0</td>\n",
       "      <td>100.0</td>\n",
       "      <td>100.0</td>\n",
       "      <td>100.0</td>\n",
       "    </tr>\n",
       "    <tr>\n",
       "      <th>0.10</th>\n",
       "      <td>99.710568</td>\n",
       "      <td>100.0</td>\n",
       "      <td>100.0</td>\n",
       "      <td>100.0</td>\n",
       "      <td>100.0</td>\n",
       "      <td>100.0</td>\n",
       "      <td>100.0</td>\n",
       "      <td>100.0</td>\n",
       "      <td>100.0</td>\n",
       "      <td>100.0</td>\n",
       "      <td>100.0</td>\n",
       "    </tr>\n",
       "    <tr>\n",
       "      <th>0.15</th>\n",
       "      <td>98.967167</td>\n",
       "      <td>100.0</td>\n",
       "      <td>100.0</td>\n",
       "      <td>100.0</td>\n",
       "      <td>100.0</td>\n",
       "      <td>100.0</td>\n",
       "      <td>100.0</td>\n",
       "      <td>100.0</td>\n",
       "      <td>100.0</td>\n",
       "      <td>100.0</td>\n",
       "      <td>100.0</td>\n",
       "    </tr>\n",
       "    <tr>\n",
       "      <th>0.20</th>\n",
       "      <td>96.848389</td>\n",
       "      <td>100.0</td>\n",
       "      <td>100.0</td>\n",
       "      <td>100.0</td>\n",
       "      <td>100.0</td>\n",
       "      <td>100.0</td>\n",
       "      <td>100.0</td>\n",
       "      <td>100.0</td>\n",
       "      <td>100.0</td>\n",
       "      <td>100.0</td>\n",
       "      <td>100.0</td>\n",
       "    </tr>\n",
       "  </tbody>\n",
       "</table>\n",
       "</div>"
      ],
      "text/plain": [
       "planID        Planned                                                    \\\n",
       "Structure        BODY CTV36Gy L Femoral Head PTV BLADDER R Femoral Head   \n",
       "Dose (Gy)                                                                 \n",
       "0.00       100.000000   100.0          100.0       100.0          100.0   \n",
       "0.05        99.967853   100.0          100.0       100.0          100.0   \n",
       "0.10        99.710568   100.0          100.0       100.0          100.0   \n",
       "0.15        98.967167   100.0          100.0       100.0          100.0   \n",
       "0.20        96.848389   100.0          100.0       100.0          100.0   \n",
       "\n",
       "planID           Replanned                                                   \n",
       "Structure Rectum   CTV36Gy L Femoral Head PTV BLADDER R Femoral Head Rectum  \n",
       "Dose (Gy)                                                                    \n",
       "0.00       100.0     100.0          100.0       100.0          100.0  100.0  \n",
       "0.05       100.0     100.0          100.0       100.0          100.0  100.0  \n",
       "0.10       100.0     100.0          100.0       100.0          100.0  100.0  \n",
       "0.15       100.0     100.0          100.0       100.0          100.0  100.0  \n",
       "0.20       100.0     100.0          100.0       100.0          100.0  100.0  "
      ]
     },
     "execution_count": 7,
     "metadata": {},
     "output_type": "execute_result"
    }
   ],
   "source": [
    "multi_df.columns = multi_df.columns.droplevel()\n",
    "multi_df.head()"
   ]
  },
  {
   "cell_type": "code",
   "execution_count": 8,
   "metadata": {},
   "outputs": [
    {
     "data": {
      "image/png": "[encoded data removed]",
      "text/plain": [
       "<matplotlib.figure.Figure at 0xa6eaf90>"
      ]
     },
     "metadata": {},
     "output_type": "display_data"
    }
   ],
   "source": [
    "def plot_structure(structure, xlim):\n",
    "    multi_df.xs(structure, level='Structure', axis=1).plot()\n",
    "    plt.legend(loc='center left', bbox_to_anchor=(1, 0.5))\n",
    "    plt.title('The DVH for structure ' + structure)\n",
    "    plt.ylabel('Relative dose (%)')\n",
    "    plt.xlim(xlim)\n",
    "    return\n",
    "\n",
    "structure = 'PTV BLADDER'\n",
    "plot_structure(structure, xlim=[30,40])"
   ]
  },
  {
   "cell_type": "code",
   "execution_count": 9,
   "metadata": {},
   "outputs": [
    {
     "data": {
      "image/png": "[encoded data removed]",
      "text/plain": [
       "<matplotlib.figure.Figure at 0x3bfb170>"
      ]
     },
     "metadata": {},
     "output_type": "display_data"
    }
   ],
   "source": [
    "structure = 'Rectum'\n",
    "plot_structure(structure, xlim=[0,40])"
   ]
  },
  {
   "cell_type": "code",
   "execution_count": 10,
   "metadata": {},
   "outputs": [],
   "source": [
    "def d50(df):\n",
    "    return diff_to_prescribed(get_d_metric(df, 50.0), Prescription)"
   ]
  },
  {
   "cell_type": "code",
   "execution_count": 11,
   "metadata": {},
   "outputs": [],
   "source": [
    "d50_df = multi_df.apply(d50)    # function of form lambda function that takes a single argument"
   ]
  },
  {
   "cell_type": "code",
   "execution_count": 15,
   "metadata": {},
   "outputs": [
    {
     "data": {
      "text/plain": [
       "planID     Structure     \n",
       "Planned    BODY                2.650682\n",
       "           CTV36Gy            99.967557\n",
       "           L Femoral Head     61.680973\n",
       "           PTV BLADDER       100.271376\n",
       "           R Femoral Head     60.645708\n",
       "           Rectum             94.564767\n",
       "Replanned  CTV36Gy           101.221269\n",
       "           L Femoral Head     61.565716\n",
       "           PTV BLADDER       101.619544\n",
       "           R Femoral Head     61.015640\n",
       "           Rectum             92.089050\n",
       "dtype: float64"
      ]
     },
     "execution_count": 15,
     "metadata": {},
     "output_type": "execute_result"
    }
   ],
   "source": [
    "d50_df"
   ]
  },
  {
   "cell_type": "code",
   "execution_count": 22,
   "metadata": {},
   "outputs": [
    {
     "name": "stdout",
     "output_type": "stream",
     "text": [
      "('Planned', 'BODY')\n",
      "('Planned', 'CTV36Gy')\n",
      "('Planned', 'L Femoral Head')\n",
      "('Planned', 'PTV BLADDER')\n",
      "('Planned', 'R Femoral Head')\n",
      "('Planned', 'Rectum')\n",
      "('Replanned', 'CTV36Gy')\n",
      "('Replanned', 'L Femoral Head')\n",
      "('Replanned', 'PTV BLADDER')\n",
      "('Replanned', 'R Femoral Head')\n",
      "('Replanned', 'Rectum')\n"
     ]
    }
   ],
   "source": [
    "for item in d50_df.index.values:\n",
    "    print(item)"
   ]
  },
  {
   "cell_type": "code",
   "execution_count": 25,
   "metadata": {},
   "outputs": [
    {
     "data": {
      "text/plain": [
       "99.967557445299192"
      ]
     },
     "execution_count": 25,
     "metadata": {},
     "output_type": "execute_result"
    }
   ],
   "source": [
    "d50_df[('Planned', 'CTV36Gy')]"
   ]
  },
  {
   "cell_type": "code",
   "execution_count": 26,
   "metadata": {},
   "outputs": [
    {
     "data": {
      "text/plain": [
       "101.22126906797547"
      ]
     },
     "execution_count": 26,
     "metadata": {},
     "output_type": "execute_result"
    }
   ],
   "source": [
    "d50_df[('Replanned', 'CTV36Gy')]"
   ]
  },
  {
   "cell_type": "code",
   "execution_count": null,
   "metadata": {
    "collapsed": true
   },
   "outputs": [],
   "source": []
  }
 ],
 "metadata": {
  "anaconda-cloud": {},
  "kernelspec": {
   "display_name": "Python [conda root]",
   "language": "python",
   "name": "conda-root-py"
  },
  "language_info": {
   "codemirror_mode": {
    "name": "ipython",
    "version": 3
   },
   "file_extension": ".py",
   "mimetype": "text/x-python",
   "name": "python",
   "nbconvert_exporter": "python",
   "pygments_lexer": "ipython3",
   "version": "3.5.2"
  }
 },
 "nbformat": 4,
 "nbformat_minor": 1
}
