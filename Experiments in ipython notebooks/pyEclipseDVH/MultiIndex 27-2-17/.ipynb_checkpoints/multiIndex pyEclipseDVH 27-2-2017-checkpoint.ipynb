{
 "cells": [
  {
   "cell_type": "markdown",
   "metadata": {},
   "source": [
    "Currently pyEclipseDVH creates 2 dataframes, 1 for DVH data and 1 for metrics. \n",
    "Implement multiIndex dataframe for each patient of structure:\n",
    "    \n",
    "    Patient_ID\n",
    "    Plan (e.g. AXB)\n",
    "    Structure\n",
    "    DVH\n",
    "\n",
    "Would reference a DVH by PatID['Case1']['AXB']['PTV']"
   ]
  },
  {
   "cell_type": "code",
   "execution_count": 26,
   "metadata": {
    "collapsed": false
   },
   "outputs": [],
   "source": [
    "%matplotlib inline\n",
    "import numpy as np\n",
    "import pandas as pd\n",
    "import matplotlib.pyplot as plt\n",
    "from pyEclipseDVH import eclipse_DVH\n",
    "from scipy import interpolate"
   ]
  },
  {
   "cell_type": "code",
   "execution_count": 2,
   "metadata": {
    "collapsed": false
   },
   "outputs": [
    {
     "name": "stdout",
     "output_type": "stream",
     "text": [
      "Case1_AAA.txt\r\n",
      "Case1_AXB.txt\r\n",
      "Case5_AAA.txt\r\n",
      "Case5_AXB.txt\r\n",
      "\u001b[34m__pycache__\u001b[m\u001b[m/\r\n",
      "multiIndex pyEclipseDVH 27-2-2017.ipynb\r\n",
      "pyEclipseDVH.py\r\n"
     ]
    }
   ],
   "source": [
    "ls"
   ]
  },
  {
   "cell_type": "markdown",
   "metadata": {},
   "source": [
    "## Create example dataframe with required structure"
   ]
  },
  {
   "cell_type": "code",
   "execution_count": 3,
   "metadata": {
    "collapsed": true
   },
   "outputs": [],
   "source": [
    "my_iterables = [['Case1', 'Case5'], ['AXB', 'AAA'], ['PTV CHEST', 'ITV', 'Oesophagus']]"
   ]
  },
  {
   "cell_type": "code",
   "execution_count": 4,
   "metadata": {
    "collapsed": false
   },
   "outputs": [],
   "source": [
    "my_index = pd.MultiIndex.from_product(my_iterables, names = ['Patient ID', 'Plan ID', 'Structure'])"
   ]
  },
  {
   "cell_type": "code",
   "execution_count": 5,
   "metadata": {
    "collapsed": false
   },
   "outputs": [
    {
     "data": {
      "text/plain": [
       "MultiIndex(levels=[['Case1', 'Case5'], ['AAA', 'AXB'], ['ITV', 'Oesophagus', 'PTV CHEST']],\n",
       "           labels=[[0, 0, 0, 0, 0, 0, 1, 1, 1, 1, 1, 1], [1, 1, 1, 0, 0, 0, 1, 1, 1, 0, 0, 0], [2, 0, 1, 2, 0, 1, 2, 0, 1, 2, 0, 1]],\n",
       "           names=['Patient ID', 'Plan ID', 'Structure'])"
      ]
     },
     "execution_count": 5,
     "metadata": {},
     "output_type": "execute_result"
    }
   ],
   "source": [
    "my_index"
   ]
  },
  {
   "cell_type": "code",
   "execution_count": 6,
   "metadata": {
    "collapsed": false
   },
   "outputs": [],
   "source": [
    "df = pd.DataFrame(np.random.randn(12,3), index = my_index)"
   ]
  },
  {
   "cell_type": "code",
   "execution_count": 7,
   "metadata": {
    "collapsed": false
   },
   "outputs": [],
   "source": [
    "df = df.T     # for column based indexing"
   ]
  },
  {
   "cell_type": "code",
   "execution_count": 8,
   "metadata": {
    "collapsed": false
   },
   "outputs": [
    {
     "data": {
      "text/html": [
       "<div>\n",
       "<table border=\"1\" class=\"dataframe\">\n",
       "  <thead>\n",
       "    <tr>\n",
       "      <th>Patient ID</th>\n",
       "      <th colspan=\"6\" halign=\"left\">Case1</th>\n",
       "      <th colspan=\"6\" halign=\"left\">Case5</th>\n",
       "    </tr>\n",
       "    <tr>\n",
       "      <th>Plan ID</th>\n",
       "      <th colspan=\"3\" halign=\"left\">AXB</th>\n",
       "      <th colspan=\"3\" halign=\"left\">AAA</th>\n",
       "      <th colspan=\"3\" halign=\"left\">AXB</th>\n",
       "      <th colspan=\"3\" halign=\"left\">AAA</th>\n",
       "    </tr>\n",
       "    <tr>\n",
       "      <th>Structure</th>\n",
       "      <th>PTV CHEST</th>\n",
       "      <th>ITV</th>\n",
       "      <th>Oesophagus</th>\n",
       "      <th>PTV CHEST</th>\n",
       "      <th>ITV</th>\n",
       "      <th>Oesophagus</th>\n",
       "      <th>PTV CHEST</th>\n",
       "      <th>ITV</th>\n",
       "      <th>Oesophagus</th>\n",
       "      <th>PTV CHEST</th>\n",
       "      <th>ITV</th>\n",
       "      <th>Oesophagus</th>\n",
       "    </tr>\n",
       "  </thead>\n",
       "  <tbody>\n",
       "    <tr>\n",
       "      <th>0</th>\n",
       "      <td>-0.162800</td>\n",
       "      <td>-1.988882</td>\n",
       "      <td>0.029157</td>\n",
       "      <td>-0.851601</td>\n",
       "      <td>-0.031448</td>\n",
       "      <td>-0.550798</td>\n",
       "      <td>0.723453</td>\n",
       "      <td>0.495888</td>\n",
       "      <td>1.113400</td>\n",
       "      <td>1.521035</td>\n",
       "      <td>1.311865</td>\n",
       "      <td>-1.442195</td>\n",
       "    </tr>\n",
       "    <tr>\n",
       "      <th>1</th>\n",
       "      <td>-1.653902</td>\n",
       "      <td>-0.926010</td>\n",
       "      <td>0.951985</td>\n",
       "      <td>-0.545568</td>\n",
       "      <td>-1.075139</td>\n",
       "      <td>-0.183526</td>\n",
       "      <td>1.131873</td>\n",
       "      <td>-0.163325</td>\n",
       "      <td>-1.262080</td>\n",
       "      <td>-0.793523</td>\n",
       "      <td>1.103818</td>\n",
       "      <td>0.986403</td>\n",
       "    </tr>\n",
       "    <tr>\n",
       "      <th>2</th>\n",
       "      <td>1.039404</td>\n",
       "      <td>0.516085</td>\n",
       "      <td>-1.587946</td>\n",
       "      <td>0.476970</td>\n",
       "      <td>-0.225648</td>\n",
       "      <td>-0.436431</td>\n",
       "      <td>-0.069713</td>\n",
       "      <td>-0.223115</td>\n",
       "      <td>-0.341757</td>\n",
       "      <td>0.236675</td>\n",
       "      <td>0.015274</td>\n",
       "      <td>0.441068</td>\n",
       "    </tr>\n",
       "  </tbody>\n",
       "</table>\n",
       "</div>"
      ],
      "text/plain": [
       "Patient ID     Case1                                                      \\\n",
       "Plan ID          AXB                            AAA                        \n",
       "Structure  PTV CHEST       ITV Oesophagus PTV CHEST       ITV Oesophagus   \n",
       "0          -0.162800 -1.988882   0.029157 -0.851601 -0.031448  -0.550798   \n",
       "1          -1.653902 -0.926010   0.951985 -0.545568 -1.075139  -0.183526   \n",
       "2           1.039404  0.516085  -1.587946  0.476970 -0.225648  -0.436431   \n",
       "\n",
       "Patient ID     Case5                                                      \n",
       "Plan ID          AXB                            AAA                       \n",
       "Structure  PTV CHEST       ITV Oesophagus PTV CHEST       ITV Oesophagus  \n",
       "0           0.723453  0.495888   1.113400  1.521035  1.311865  -1.442195  \n",
       "1           1.131873 -0.163325  -1.262080 -0.793523  1.103818   0.986403  \n",
       "2          -0.069713 -0.223115  -0.341757  0.236675  0.015274   0.441068  "
      ]
     },
     "execution_count": 8,
     "metadata": {},
     "output_type": "execute_result"
    }
   ],
   "source": [
    "df"
   ]
  },
  {
   "cell_type": "code",
   "execution_count": 9,
   "metadata": {
    "collapsed": true
   },
   "outputs": [],
   "source": [
    "df.index = [0, 0.5, 1.0]   # set the index"
   ]
  },
  {
   "cell_type": "code",
   "execution_count": 10,
   "metadata": {
    "collapsed": false
   },
   "outputs": [
    {
     "data": {
      "text/html": [
       "<div>\n",
       "<table border=\"1\" class=\"dataframe\">\n",
       "  <thead>\n",
       "    <tr>\n",
       "      <th>Patient ID</th>\n",
       "      <th colspan=\"6\" halign=\"left\">Case1</th>\n",
       "      <th colspan=\"6\" halign=\"left\">Case5</th>\n",
       "    </tr>\n",
       "    <tr>\n",
       "      <th>Plan ID</th>\n",
       "      <th colspan=\"3\" halign=\"left\">AXB</th>\n",
       "      <th colspan=\"3\" halign=\"left\">AAA</th>\n",
       "      <th colspan=\"3\" halign=\"left\">AXB</th>\n",
       "      <th colspan=\"3\" halign=\"left\">AAA</th>\n",
       "    </tr>\n",
       "    <tr>\n",
       "      <th>Structure</th>\n",
       "      <th>PTV CHEST</th>\n",
       "      <th>ITV</th>\n",
       "      <th>Oesophagus</th>\n",
       "      <th>PTV CHEST</th>\n",
       "      <th>ITV</th>\n",
       "      <th>Oesophagus</th>\n",
       "      <th>PTV CHEST</th>\n",
       "      <th>ITV</th>\n",
       "      <th>Oesophagus</th>\n",
       "      <th>PTV CHEST</th>\n",
       "      <th>ITV</th>\n",
       "      <th>Oesophagus</th>\n",
       "    </tr>\n",
       "  </thead>\n",
       "  <tbody>\n",
       "    <tr>\n",
       "      <th>0.0</th>\n",
       "      <td>-0.162800</td>\n",
       "      <td>-1.988882</td>\n",
       "      <td>0.029157</td>\n",
       "      <td>-0.851601</td>\n",
       "      <td>-0.031448</td>\n",
       "      <td>-0.550798</td>\n",
       "      <td>0.723453</td>\n",
       "      <td>0.495888</td>\n",
       "      <td>1.113400</td>\n",
       "      <td>1.521035</td>\n",
       "      <td>1.311865</td>\n",
       "      <td>-1.442195</td>\n",
       "    </tr>\n",
       "    <tr>\n",
       "      <th>0.5</th>\n",
       "      <td>-1.653902</td>\n",
       "      <td>-0.926010</td>\n",
       "      <td>0.951985</td>\n",
       "      <td>-0.545568</td>\n",
       "      <td>-1.075139</td>\n",
       "      <td>-0.183526</td>\n",
       "      <td>1.131873</td>\n",
       "      <td>-0.163325</td>\n",
       "      <td>-1.262080</td>\n",
       "      <td>-0.793523</td>\n",
       "      <td>1.103818</td>\n",
       "      <td>0.986403</td>\n",
       "    </tr>\n",
       "    <tr>\n",
       "      <th>1.0</th>\n",
       "      <td>1.039404</td>\n",
       "      <td>0.516085</td>\n",
       "      <td>-1.587946</td>\n",
       "      <td>0.476970</td>\n",
       "      <td>-0.225648</td>\n",
       "      <td>-0.436431</td>\n",
       "      <td>-0.069713</td>\n",
       "      <td>-0.223115</td>\n",
       "      <td>-0.341757</td>\n",
       "      <td>0.236675</td>\n",
       "      <td>0.015274</td>\n",
       "      <td>0.441068</td>\n",
       "    </tr>\n",
       "  </tbody>\n",
       "</table>\n",
       "</div>"
      ],
      "text/plain": [
       "Patient ID     Case1                                                      \\\n",
       "Plan ID          AXB                            AAA                        \n",
       "Structure  PTV CHEST       ITV Oesophagus PTV CHEST       ITV Oesophagus   \n",
       "0.0        -0.162800 -1.988882   0.029157 -0.851601 -0.031448  -0.550798   \n",
       "0.5        -1.653902 -0.926010   0.951985 -0.545568 -1.075139  -0.183526   \n",
       "1.0         1.039404  0.516085  -1.587946  0.476970 -0.225648  -0.436431   \n",
       "\n",
       "Patient ID     Case5                                                      \n",
       "Plan ID          AXB                            AAA                       \n",
       "Structure  PTV CHEST       ITV Oesophagus PTV CHEST       ITV Oesophagus  \n",
       "0.0         0.723453  0.495888   1.113400  1.521035  1.311865  -1.442195  \n",
       "0.5         1.131873 -0.163325  -1.262080 -0.793523  1.103818   0.986403  \n",
       "1.0        -0.069713 -0.223115  -0.341757  0.236675  0.015274   0.441068  "
      ]
     },
     "execution_count": 10,
     "metadata": {},
     "output_type": "execute_result"
    }
   ],
   "source": [
    "df"
   ]
  },
  {
   "cell_type": "code",
   "execution_count": 11,
   "metadata": {
    "collapsed": false
   },
   "outputs": [
    {
     "data": {
      "text/plain": [
       "-0.03144839389912598"
      ]
     },
     "execution_count": 11,
     "metadata": {},
     "output_type": "execute_result"
    }
   ],
   "source": [
    "df['Case1']['AAA']['ITV'].max()"
   ]
  },
  {
   "cell_type": "code",
   "execution_count": 12,
   "metadata": {
    "collapsed": false
   },
   "outputs": [
    {
     "data": {
      "text/html": [
       "<div>\n",
       "<table border=\"1\" class=\"dataframe\">\n",
       "  <thead>\n",
       "    <tr>\n",
       "      <th>Patient ID</th>\n",
       "      <th colspan=\"3\" halign=\"left\">Case1</th>\n",
       "      <th colspan=\"3\" halign=\"left\">Case5</th>\n",
       "    </tr>\n",
       "    <tr>\n",
       "      <th>Structure</th>\n",
       "      <th>PTV CHEST</th>\n",
       "      <th>ITV</th>\n",
       "      <th>Oesophagus</th>\n",
       "      <th>PTV CHEST</th>\n",
       "      <th>ITV</th>\n",
       "      <th>Oesophagus</th>\n",
       "    </tr>\n",
       "  </thead>\n",
       "  <tbody>\n",
       "    <tr>\n",
       "      <th>0.0</th>\n",
       "      <td>-0.851601</td>\n",
       "      <td>-0.031448</td>\n",
       "      <td>-0.550798</td>\n",
       "      <td>1.521035</td>\n",
       "      <td>1.311865</td>\n",
       "      <td>-1.442195</td>\n",
       "    </tr>\n",
       "    <tr>\n",
       "      <th>0.5</th>\n",
       "      <td>-0.545568</td>\n",
       "      <td>-1.075139</td>\n",
       "      <td>-0.183526</td>\n",
       "      <td>-0.793523</td>\n",
       "      <td>1.103818</td>\n",
       "      <td>0.986403</td>\n",
       "    </tr>\n",
       "    <tr>\n",
       "      <th>1.0</th>\n",
       "      <td>0.476970</td>\n",
       "      <td>-0.225648</td>\n",
       "      <td>-0.436431</td>\n",
       "      <td>0.236675</td>\n",
       "      <td>0.015274</td>\n",
       "      <td>0.441068</td>\n",
       "    </tr>\n",
       "  </tbody>\n",
       "</table>\n",
       "</div>"
      ],
      "text/plain": [
       "Patient ID     Case1                          Case5                     \n",
       "Structure  PTV CHEST       ITV Oesophagus PTV CHEST       ITV Oesophagus\n",
       "0.0        -0.851601 -0.031448  -0.550798  1.521035  1.311865  -1.442195\n",
       "0.5        -0.545568 -1.075139  -0.183526 -0.793523  1.103818   0.986403\n",
       "1.0         0.476970 -0.225648  -0.436431  0.236675  0.015274   0.441068"
      ]
     },
     "execution_count": 12,
     "metadata": {},
     "output_type": "execute_result"
    }
   ],
   "source": [
    "df.xs('AAA', level='Plan ID', axis=1)"
   ]
  },
  {
   "cell_type": "code",
   "execution_count": 13,
   "metadata": {
    "collapsed": false
   },
   "outputs": [
    {
     "data": {
      "text/html": [
       "<div>\n",
       "<table border=\"1\" class=\"dataframe\">\n",
       "  <thead>\n",
       "    <tr style=\"text-align: right;\">\n",
       "      <th>Patient ID</th>\n",
       "      <th>Case1</th>\n",
       "      <th>Case5</th>\n",
       "    </tr>\n",
       "  </thead>\n",
       "  <tbody>\n",
       "    <tr>\n",
       "      <th>0.0</th>\n",
       "      <td>-0.851601</td>\n",
       "      <td>1.521035</td>\n",
       "    </tr>\n",
       "    <tr>\n",
       "      <th>0.5</th>\n",
       "      <td>-0.545568</td>\n",
       "      <td>-0.793523</td>\n",
       "    </tr>\n",
       "    <tr>\n",
       "      <th>1.0</th>\n",
       "      <td>0.476970</td>\n",
       "      <td>0.236675</td>\n",
       "    </tr>\n",
       "  </tbody>\n",
       "</table>\n",
       "</div>"
      ],
      "text/plain": [
       "Patient ID     Case1     Case5\n",
       "0.0        -0.851601  1.521035\n",
       "0.5        -0.545568 -0.793523\n",
       "1.0         0.476970  0.236675"
      ]
     },
     "execution_count": 13,
     "metadata": {},
     "output_type": "execute_result"
    }
   ],
   "source": [
    "df.xs('AAA', level='Plan ID', axis=1).xs('PTV CHEST', level='Structure', axis=1)"
   ]
  },
  {
   "cell_type": "code",
   "execution_count": 14,
   "metadata": {
    "collapsed": false
   },
   "outputs": [
    {
     "data": {
      "text/plain": [
       "Patient ID\n",
       "Case1    0.476970\n",
       "Case5    1.521035\n",
       "dtype: float64"
      ]
     },
     "execution_count": 14,
     "metadata": {},
     "output_type": "execute_result"
    }
   ],
   "source": [
    "df.xs('AAA', level='Plan ID', axis=1).xs('PTV CHEST', level='Structure', axis=1).max()"
   ]
  },
  {
   "cell_type": "code",
   "execution_count": 15,
   "metadata": {
    "collapsed": false
   },
   "outputs": [
    {
     "data": {
      "text/html": [
       "<div>\n",
       "<table border=\"1\" class=\"dataframe\">\n",
       "  <thead>\n",
       "    <tr>\n",
       "      <th>Patient ID</th>\n",
       "      <th colspan=\"2\" halign=\"left\">Case1</th>\n",
       "      <th colspan=\"2\" halign=\"left\">Case5</th>\n",
       "    </tr>\n",
       "    <tr>\n",
       "      <th>Plan ID</th>\n",
       "      <th>AXB</th>\n",
       "      <th>AAA</th>\n",
       "      <th>AXB</th>\n",
       "      <th>AAA</th>\n",
       "    </tr>\n",
       "  </thead>\n",
       "  <tbody>\n",
       "    <tr>\n",
       "      <th>0.0</th>\n",
       "      <td>-0.162800</td>\n",
       "      <td>-0.851601</td>\n",
       "      <td>0.723453</td>\n",
       "      <td>1.521035</td>\n",
       "    </tr>\n",
       "    <tr>\n",
       "      <th>0.5</th>\n",
       "      <td>-1.653902</td>\n",
       "      <td>-0.545568</td>\n",
       "      <td>1.131873</td>\n",
       "      <td>-0.793523</td>\n",
       "    </tr>\n",
       "    <tr>\n",
       "      <th>1.0</th>\n",
       "      <td>1.039404</td>\n",
       "      <td>0.476970</td>\n",
       "      <td>-0.069713</td>\n",
       "      <td>0.236675</td>\n",
       "    </tr>\n",
       "  </tbody>\n",
       "</table>\n",
       "</div>"
      ],
      "text/plain": [
       "Patient ID     Case1               Case5          \n",
       "Plan ID          AXB       AAA       AXB       AAA\n",
       "0.0        -0.162800 -0.851601  0.723453  1.521035\n",
       "0.5        -1.653902 -0.545568  1.131873 -0.793523\n",
       "1.0         1.039404  0.476970 -0.069713  0.236675"
      ]
     },
     "execution_count": 15,
     "metadata": {},
     "output_type": "execute_result"
    }
   ],
   "source": [
    "df.xs('PTV CHEST', level='Structure', axis=1)"
   ]
  },
  {
   "cell_type": "code",
   "execution_count": 16,
   "metadata": {
    "collapsed": false
   },
   "outputs": [
    {
     "data": {
      "text/plain": [
       "<matplotlib.legend.Legend at 0x112a02518>"
      ]
     },
     "execution_count": 16,
     "metadata": {},
     "output_type": "execute_result"
    },
    {
     "data": {
      "image/png": "[encoded data removed]",
      "text/plain": [
       "<matplotlib.figure.Figure at 0x1129bb828>"
      ]
     },
     "metadata": {},
     "output_type": "display_data"
    }
   ],
   "source": [
    "df.xs('PTV CHEST', level='Structure', axis=1).plot().legend(loc='center left', bbox_to_anchor=(1, 0.5))"
   ]
  },
  {
   "cell_type": "markdown",
   "metadata": {},
   "source": [
    "# Produce function to load files in this format\n",
    "\n",
    "Dont want a class as producing a dataframe object (could subclass df but this would take more work)"
   ]
  },
  {
   "cell_type": "code",
   "execution_count": 17,
   "metadata": {
    "collapsed": false
   },
   "outputs": [
    {
     "name": "stdout",
     "output_type": "stream",
     "text": [
      "Case1_AAA.txt\r\n",
      "Case1_AXB.txt\r\n",
      "Case5_AAA.txt\r\n",
      "Case5_AXB.txt\r\n",
      "\u001b[34m__pycache__\u001b[m\u001b[m/\r\n",
      "multiIndex pyEclipseDVH 27-2-2017.ipynb\r\n",
      "pyEclipseDVH.py\r\n"
     ]
    }
   ],
   "source": [
    "ls"
   ]
  },
  {
   "cell_type": "code",
   "execution_count": 18,
   "metadata": {
    "collapsed": true
   },
   "outputs": [],
   "source": [
    "def Load_patient(file):  # file = 'Case1_AAA.txt'  string\n",
    "    with open(file, \"r\") as file_:\n",
    "        my_file = [line for line in file_.readlines()]  # my_file is a list representation of the text file\n",
    "    file_.close()        \n",
    "    file_len = len(my_file)                                # number of lines in the file\n",
    "    patID = my_file[1].split(':')[-1].strip('\\n').strip()\n",
    "    print(file + ' loaded \\t patID = ' + patID)\n",
    "        \n",
    "    ## Get the structures\n",
    "    structures_indexs_list = []\n",
    "    structures_names_list  = []\n",
    "    for i, line in enumerate(my_file):\n",
    "        if line.startswith('Structure:'):\n",
    "            structures_indexs_list.append(i)  \n",
    "            structures_names_list.append(line.split(':')[-1].strip('\\n').strip())\n",
    "        \n",
    "    # iterate through all structures and place Eclipse metrics into dataframe\n",
    "    for i, index in enumerate(structures_indexs_list):\n",
    "        start = structures_indexs_list[i]+18  # first line of DVH data\n",
    "        if i < len(structures_indexs_list)-1:\n",
    "            end = structures_indexs_list[i+1]-2  # find the last line of the DVH from the next index, BEWARE THE +1\n",
    "        else:\n",
    "            end = len(my_file)-2\n",
    "        DVH_data = my_file[start:end]  # get list with data\n",
    "            \n",
    "        DVH_list = [line.split() for line in DVH_data]  # create list of lists split\n",
    "        Rel_dose_pct, Dose_Gy, Ratio_pct = zip(*DVH_list) # unzip to 3 lists\n",
    "\n",
    "        temp_DVH_df    = pd.DataFrame({'Dose_Gy' : Dose_Gy, structures_names_list[i]: Ratio_pct}).astype(float)\n",
    "        if i == 0: \n",
    "            DVH_df = temp_DVH_df\n",
    "        else:                          \n",
    "            DVH_df = pd.merge(DVH_df, temp_DVH_df, on=['Dose_Gy'])\n",
    "                \n",
    "    DVH_df.set_index(keys='Dose_Gy', drop=True, inplace=True)\n",
    "    return DVH_df"
   ]
  },
  {
   "cell_type": "code",
   "execution_count": 19,
   "metadata": {
    "collapsed": false
   },
   "outputs": [
    {
     "name": "stdout",
     "output_type": "stream",
     "text": [
      "Case1_AAA.txt loaded \t patID = Case1\n"
     ]
    }
   ],
   "source": [
    "Case1_AAA_df = Load_patient('Case1_AAA.txt')"
   ]
  },
  {
   "cell_type": "code",
   "execution_count": 20,
   "metadata": {
    "collapsed": false
   },
   "outputs": [
    {
     "data": {
      "text/html": [
       "<div>\n",
       "<table border=\"1\" class=\"dataframe\">\n",
       "  <thead>\n",
       "    <tr style=\"text-align: right;\">\n",
       "      <th></th>\n",
       "      <th>BODY</th>\n",
       "      <th>GTV</th>\n",
       "      <th>Heart</th>\n",
       "      <th>Foramen</th>\n",
       "      <th>Foramen+5mm</th>\n",
       "      <th>Oesophagus</th>\n",
       "      <th>Foramen+3mm</th>\n",
       "      <th>Trachea</th>\n",
       "      <th>Bronchial tree</th>\n",
       "      <th>L Brachial plex</th>\n",
       "      <th>...</th>\n",
       "      <th>Rt_Lung</th>\n",
       "      <th>Both Lungs-ITV</th>\n",
       "      <th>skin</th>\n",
       "      <th>PseudoPTV-ITV</th>\n",
       "      <th>ITV</th>\n",
       "      <th>ribs</th>\n",
       "      <th>Pseudo Ring</th>\n",
       "      <th>Pseudo Ribs</th>\n",
       "      <th>Dose 100[%]</th>\n",
       "      <th>Dose 50[%]</th>\n",
       "    </tr>\n",
       "    <tr>\n",
       "      <th>Dose_Gy</th>\n",
       "      <th></th>\n",
       "      <th></th>\n",
       "      <th></th>\n",
       "      <th></th>\n",
       "      <th></th>\n",
       "      <th></th>\n",
       "      <th></th>\n",
       "      <th></th>\n",
       "      <th></th>\n",
       "      <th></th>\n",
       "      <th></th>\n",
       "      <th></th>\n",
       "      <th></th>\n",
       "      <th></th>\n",
       "      <th></th>\n",
       "      <th></th>\n",
       "      <th></th>\n",
       "      <th></th>\n",
       "      <th></th>\n",
       "      <th></th>\n",
       "      <th></th>\n",
       "    </tr>\n",
       "  </thead>\n",
       "  <tbody>\n",
       "    <tr>\n",
       "      <th>0.000</th>\n",
       "      <td>100.0000</td>\n",
       "      <td>100.0</td>\n",
       "      <td>100.0000</td>\n",
       "      <td>100.0000</td>\n",
       "      <td>100.0000</td>\n",
       "      <td>100.0000</td>\n",
       "      <td>100.0000</td>\n",
       "      <td>100.0000</td>\n",
       "      <td>100.0</td>\n",
       "      <td>100.0000</td>\n",
       "      <td>...</td>\n",
       "      <td>100.0000</td>\n",
       "      <td>100.0000</td>\n",
       "      <td>100.0000</td>\n",
       "      <td>100.0</td>\n",
       "      <td>100.0</td>\n",
       "      <td>100.0000</td>\n",
       "      <td>100.0000</td>\n",
       "      <td>100.0</td>\n",
       "      <td>100.0</td>\n",
       "      <td>100.0</td>\n",
       "    </tr>\n",
       "    <tr>\n",
       "      <th>0.055</th>\n",
       "      <td>94.1156</td>\n",
       "      <td>100.0</td>\n",
       "      <td>100.0000</td>\n",
       "      <td>100.0000</td>\n",
       "      <td>100.0000</td>\n",
       "      <td>100.0000</td>\n",
       "      <td>100.0000</td>\n",
       "      <td>100.0000</td>\n",
       "      <td>100.0</td>\n",
       "      <td>100.0000</td>\n",
       "      <td>...</td>\n",
       "      <td>100.0000</td>\n",
       "      <td>100.0000</td>\n",
       "      <td>92.3988</td>\n",
       "      <td>100.0</td>\n",
       "      <td>100.0</td>\n",
       "      <td>100.0000</td>\n",
       "      <td>97.1670</td>\n",
       "      <td>100.0</td>\n",
       "      <td>100.0</td>\n",
       "      <td>100.0</td>\n",
       "    </tr>\n",
       "    <tr>\n",
       "      <th>0.110</th>\n",
       "      <td>82.5554</td>\n",
       "      <td>100.0</td>\n",
       "      <td>99.0567</td>\n",
       "      <td>98.9120</td>\n",
       "      <td>97.0602</td>\n",
       "      <td>100.0000</td>\n",
       "      <td>97.8511</td>\n",
       "      <td>100.0000</td>\n",
       "      <td>100.0</td>\n",
       "      <td>100.0000</td>\n",
       "      <td>...</td>\n",
       "      <td>100.0000</td>\n",
       "      <td>99.9992</td>\n",
       "      <td>76.5000</td>\n",
       "      <td>100.0</td>\n",
       "      <td>100.0</td>\n",
       "      <td>100.0000</td>\n",
       "      <td>96.9875</td>\n",
       "      <td>100.0</td>\n",
       "      <td>100.0</td>\n",
       "      <td>100.0</td>\n",
       "    </tr>\n",
       "    <tr>\n",
       "      <th>0.165</th>\n",
       "      <td>73.1285</td>\n",
       "      <td>100.0</td>\n",
       "      <td>93.6400</td>\n",
       "      <td>86.0037</td>\n",
       "      <td>85.3781</td>\n",
       "      <td>99.5800</td>\n",
       "      <td>85.2459</td>\n",
       "      <td>90.2538</td>\n",
       "      <td>100.0</td>\n",
       "      <td>99.7345</td>\n",
       "      <td>...</td>\n",
       "      <td>100.0000</td>\n",
       "      <td>99.1788</td>\n",
       "      <td>64.8038</td>\n",
       "      <td>100.0</td>\n",
       "      <td>100.0</td>\n",
       "      <td>100.0000</td>\n",
       "      <td>96.8686</td>\n",
       "      <td>100.0</td>\n",
       "      <td>100.0</td>\n",
       "      <td>100.0</td>\n",
       "    </tr>\n",
       "    <tr>\n",
       "      <th>0.220</th>\n",
       "      <td>66.0594</td>\n",
       "      <td>100.0</td>\n",
       "      <td>88.0613</td>\n",
       "      <td>79.3601</td>\n",
       "      <td>78.5346</td>\n",
       "      <td>92.2148</td>\n",
       "      <td>78.2412</td>\n",
       "      <td>70.3049</td>\n",
       "      <td>100.0</td>\n",
       "      <td>53.3478</td>\n",
       "      <td>...</td>\n",
       "      <td>99.8951</td>\n",
       "      <td>97.5947</td>\n",
       "      <td>57.3187</td>\n",
       "      <td>100.0</td>\n",
       "      <td>100.0</td>\n",
       "      <td>99.9062</td>\n",
       "      <td>96.7631</td>\n",
       "      <td>100.0</td>\n",
       "      <td>100.0</td>\n",
       "      <td>100.0</td>\n",
       "    </tr>\n",
       "  </tbody>\n",
       "</table>\n",
       "<p>5 rows × 25 columns</p>\n",
       "</div>"
      ],
      "text/plain": [
       "             BODY    GTV     Heart   Foramen  Foramen+5mm  Oesophagus  \\\n",
       "Dose_Gy                                                                 \n",
       "0.000    100.0000  100.0  100.0000  100.0000     100.0000    100.0000   \n",
       "0.055     94.1156  100.0  100.0000  100.0000     100.0000    100.0000   \n",
       "0.110     82.5554  100.0   99.0567   98.9120      97.0602    100.0000   \n",
       "0.165     73.1285  100.0   93.6400   86.0037      85.3781     99.5800   \n",
       "0.220     66.0594  100.0   88.0613   79.3601      78.5346     92.2148   \n",
       "\n",
       "         Foramen+3mm   Trachea  Bronchial tree  L Brachial plex     ...      \\\n",
       "Dose_Gy                                                             ...       \n",
       "0.000       100.0000  100.0000           100.0         100.0000     ...       \n",
       "0.055       100.0000  100.0000           100.0         100.0000     ...       \n",
       "0.110        97.8511  100.0000           100.0         100.0000     ...       \n",
       "0.165        85.2459   90.2538           100.0          99.7345     ...       \n",
       "0.220        78.2412   70.3049           100.0          53.3478     ...       \n",
       "\n",
       "          Rt_Lung  Both Lungs-ITV      skin  PseudoPTV-ITV    ITV      ribs  \\\n",
       "Dose_Gy                                                                       \n",
       "0.000    100.0000        100.0000  100.0000          100.0  100.0  100.0000   \n",
       "0.055    100.0000        100.0000   92.3988          100.0  100.0  100.0000   \n",
       "0.110    100.0000         99.9992   76.5000          100.0  100.0  100.0000   \n",
       "0.165    100.0000         99.1788   64.8038          100.0  100.0  100.0000   \n",
       "0.220     99.8951         97.5947   57.3187          100.0  100.0   99.9062   \n",
       "\n",
       "         Pseudo Ring  Pseudo Ribs  Dose 100[%]  Dose 50[%]  \n",
       "Dose_Gy                                                     \n",
       "0.000       100.0000        100.0        100.0       100.0  \n",
       "0.055        97.1670        100.0        100.0       100.0  \n",
       "0.110        96.9875        100.0        100.0       100.0  \n",
       "0.165        96.8686        100.0        100.0       100.0  \n",
       "0.220        96.7631        100.0        100.0       100.0  \n",
       "\n",
       "[5 rows x 25 columns]"
      ]
     },
     "execution_count": 20,
     "metadata": {},
     "output_type": "execute_result"
    }
   ],
   "source": [
    "Case1_AAA_df.head()"
   ]
  },
  {
   "cell_type": "markdown",
   "metadata": {},
   "source": [
    "## Interpolate data to place all DVH on common index\n",
    "\n",
    "Different structures have different dose indices. This is also a problem when comparing two algoriths (AAA & AXB) since these have different indices which compicates calculations comparing them. Solution is to put all DVH on a common dose index, 0 - 100 Gy in 0.05 Gy increments, use interpolation to fit raw data to new indices. "
   ]
  },
  {
   "cell_type": "code",
   "execution_count": 23,
   "metadata": {
    "collapsed": true
   },
   "outputs": [],
   "source": [
    "dose_index = np.linspace(0,100, 2001)  # create dose in range 0 - 100 Gy in 0.05 Gy steps"
   ]
  },
  {
   "cell_type": "code",
   "execution_count": 27,
   "metadata": {
    "collapsed": false
   },
   "outputs": [
    {
     "data": {
      "text/plain": [
       "Dose_Gy\n",
       "0.000    100.0000\n",
       "0.055     94.1156\n",
       "0.110     82.5554\n",
       "0.165     73.1285\n",
       "0.220     66.0594\n",
       "Name: BODY, dtype: float64"
      ]
     },
     "execution_count": 27,
     "metadata": {},
     "output_type": "execute_result"
    }
   ],
   "source": [
    "test_df = Case1_AAA_df['BODY']\n",
    "test_df.head()"
   ]
  },
  {
   "cell_type": "code",
   "execution_count": 30,
   "metadata": {
    "collapsed": false
   },
   "outputs": [],
   "source": [
    "dose_index = np.linspace(0,100, 2001)  # create new dose in range 0 - 100 Gy in 0.05 Gy steps\n",
    "\n",
    "x = test_df.index.get_values()    # to get list of values rather than index object. These dont go to 100 Gy so need to extend\n",
    "y = test_df.values.flatten()      # to get array"
   ]
  },
  {
   "cell_type": "code",
   "execution_count": null,
   "metadata": {
    "collapsed": true
   },
   "outputs": [],
   "source": [
    "f = interpolate.interp1d(x,y)   # returns an interpolate function\n",
    "interp_test_df = pd.Series(data=f(dose_index), index=xnew)"
   ]
  },
  {
   "cell_type": "code",
   "execution_count": null,
   "metadata": {
    "collapsed": true
   },
   "outputs": [],
   "source": []
  }
 ],
 "metadata": {
  "anaconda-cloud": {},
  "kernelspec": {
   "display_name": "Python [conda root]",
   "language": "python",
   "name": "conda-root-py"
  },
  "language_info": {
   "codemirror_mode": {
    "name": "ipython",
    "version": 3
   },
   "file_extension": ".py",
   "mimetype": "text/x-python",
   "name": "python",
   "nbconvert_exporter": "python",
   "pygments_lexer": "ipython3",
   "version": "3.5.2"
  }
 },
 "nbformat": 4,
 "nbformat_minor": 1
}
