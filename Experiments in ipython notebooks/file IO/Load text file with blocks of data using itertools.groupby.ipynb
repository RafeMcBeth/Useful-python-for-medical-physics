{
 "cells": [
  {
   "cell_type": "markdown",
   "metadata": {},
   "source": [
    "http://stackoverflow.com/questions/3914454/python-how-to-loop-through-blocks-of-lines\n",
    "    \n",
    "https://docs.python.org/3/library/itertools.html#itertools.groupby"
   ]
  },
  {
   "cell_type": "markdown",
   "metadata": {},
   "source": [
    "Simple groupby"
   ]
  },
  {
   "cell_type": "code",
   "execution_count": 159,
   "metadata": {
    "collapsed": false
   },
   "outputs": [
    {
     "name": "stdout",
     "output_type": "stream",
     "text": [
      "('animal', 'bear')\n",
      "animal here\n",
      "('animal', 'duck')\n",
      "animal here\n",
      "('plant', 'cactus')\n",
      "('vehicle', 'speed boat')\n",
      "A school bus is a vehicle.\n",
      "('vehicle', 'school bus')\n",
      "A school bus is a vehicle.\n"
     ]
    }
   ],
   "source": [
    "things = [(\"animal\", \"bear\"), (\"animal\", \"duck\"), (\"plant\", \"cactus\"), (\"vehicle\", \"speed boat\"), (\"vehicle\", \"school bus\")]\n",
    "\n",
    "for key, group in itertools.groupby(things, lambda x: x[0]):  # pass the data and the groupby function\n",
    "    \n",
    "    for line in group:\n",
    "        print(line)\n",
    "        if line[0] == 'vehicle':     # each line is a list\n",
    "            print(\"A %s is a %s.\" % (thing[1], key))\n",
    "        elif line[0] == 'animal': \n",
    "            print('animal here')"
   ]
  },
  {
   "cell_type": "markdown",
   "metadata": {},
   "source": [
    "Example 2, split on :"
   ]
  },
  {
   "cell_type": "code",
   "execution_count": 178,
   "metadata": {
    "collapsed": false
   },
   "outputs": [
    {
     "name": "stdout",
     "output_type": "stream",
     "text": [
      "{\n",
      "  \"Age\": \"20\",\n",
      "  \"Name\": \"X\",\n",
      "  \"FamilyN\": \"Y\",\n",
      "  \"ID\": \"1\"\n",
      "}\n",
      "{\n",
      "  \"Age\": \"23\",\n",
      "  \"Name\": \"H\",\n",
      "  \"FamilyN\": \"F\",\n",
      "  \"ID\": \"2\"\n",
      "}\n",
      "{\n",
      "  \"Age\": \"13\",\n",
      "  \"Name\": \"S\",\n",
      "  \"FamilyN\": \"Y\",\n",
      "  \"ID\": \"3\"\n",
      "}\n",
      "{\n",
      "  \"Age\": \"25\",\n",
      "  \"Name\": \"M\",\n",
      "  \"FamilyN\": \"Z\",\n",
      "  \"ID\": \"4\"\n",
      "}\n"
     ]
    }
   ],
   "source": [
    "import itertools\n",
    "import json\n",
    "\n",
    "def isa_group_separator(line):\n",
    "    return line=='\\n'\n",
    "\n",
    "with open('data_file.txt') as f:\n",
    "    for key,group in itertools.groupby(f,lambda x: x =='\\n' ):\n",
    "    \n",
    "    #for key,group in itertools.groupby(f,isa_group_separator):  # can use definted function or lambda func\n",
    "        #print(group)  # uncomment to see what itertools.groupby does.\n",
    "        \n",
    "        if not key:\n",
    "            data={}\n",
    "            for item in group:\n",
    "                field,value=item.split(':')\n",
    "                value=value.strip()\n",
    "                data[field]=value\n",
    "            \n",
    "            print(json.dumps(data, indent=2))\n",
    "            #print('{ID} {FamilyN} {Name} {Age}'.format(**data))"
   ]
  },
  {
   "cell_type": "markdown",
   "metadata": {},
   "source": [
    "Example 3, more complex data with 3 columns appearing after Some data"
   ]
  },
  {
   "cell_type": "code",
   "execution_count": 185,
   "metadata": {
    "collapsed": false
   },
   "outputs": [
    {
     "name": "stdout",
     "output_type": "stream",
     "text": [
      "Patient: 1\n",
      "\n",
      "{}\n",
      "ID: 1\n",
      "\n",
      "{\n",
      "  \"Age\": \"20\",\n",
      "  \"FamilyN\": \"Y\",\n",
      "  \"Name\": \"X\"\n",
      "}\n",
      "Some data\n",
      "\n",
      "[[ 1.   2.4  3. ]\n",
      " [ 4.2  5.6  6.7]]\n",
      "Patient: 2\n",
      "\n",
      "{}\n",
      "ID: 2\n",
      "\n",
      "{\n",
      "  \"Age\": \"23\",\n",
      "  \"FamilyN\": \"F\",\n",
      "  \"Name\": \"H\"\n",
      "}\n",
      "Some data\n",
      "\n",
      "[[ 7.2  8.2  9.5]\n",
      " [ 1.4  5.7  8.7]]\n"
     ]
    }
   ],
   "source": [
    "import numpy as np\n",
    "\n",
    "\n",
    "file = open('data_file_2.txt', 'r')\n",
    "\n",
    "for key,patient_group in itertools.groupby(file, lambda line: line.startswith('Patient') ):                    \n",
    "        for key, sub_group in itertools.groupby(patient_group, lambda line: line=='\\n'):  # seperated by Patient\n",
    "            if not key: \n",
    "                    \n",
    "                for line in sub_group:   # seperated by blank lines\n",
    "                    print(line)\n",
    "                    if line.startswith('Some data'):\n",
    "                        data = []   # create a list so can use the append . np arrays must be init with length\n",
    "                        for line in sub_group:\n",
    "                            if line != 'Some data' and line != '\\n' :     # last line of iterable contains \\n\n",
    "                                aa = [float(s) for s in line.split('\\t')]\n",
    "                                data.append(aa)\n",
    "                        data = np.asarray(data)        \n",
    "                        print(data)     \n",
    "                        \n",
    "                    else:\n",
    "                        info = {}\n",
    "                        for line in sub_group: \n",
    "                            field,value=line.split(':')\n",
    "                            value=value.strip()\n",
    "                            info[field]=value\n",
    "                        #print(info)\n",
    "                        print(json.dumps(info, indent=2))\n",
    "                    #print(key)\n",
    "                    #print('{FamilyN} {Name} {Age}'.format(**info))  # error related to if not key?\n",
    "file.close()                    "
   ]
  },
  {
   "cell_type": "code",
   "execution_count": 94,
   "metadata": {
    "collapsed": false
   },
   "outputs": [
    {
     "name": "stdout",
     "output_type": "stream",
     "text": [
      "7\n"
     ]
    }
   ],
   "source": [
    "test = '7\\t8\\t9\\n'\n",
    "AA, BB, CC =test.split('\\t')\n",
    "print(AA)"
   ]
  },
  {
   "cell_type": "code",
   "execution_count": 122,
   "metadata": {
    "collapsed": false
   },
   "outputs": [
    {
     "name": "stdout",
     "output_type": "stream",
     "text": [
      "[7 8 9]\n"
     ]
    }
   ],
   "source": [
    "print(np.fromstring(test, dtype=int, sep='\\t'))"
   ]
  },
  {
   "cell_type": "code",
   "execution_count": 123,
   "metadata": {
    "collapsed": false
   },
   "outputs": [
    {
     "data": {
      "text/plain": [
       "[7.0, 8.0, 9.0]"
      ]
     },
     "execution_count": 123,
     "metadata": {},
     "output_type": "execute_result"
    }
   ],
   "source": [
    "aa = [float(s) for s in test.split('\\t')]\n",
    "aa"
   ]
  },
  {
   "cell_type": "code",
   "execution_count": null,
   "metadata": {
    "collapsed": true
   },
   "outputs": [],
   "source": []
  }
 ],
 "metadata": {
  "anaconda-cloud": {},
  "kernelspec": {
   "display_name": "Python [Root]",
   "language": "python",
   "name": "Python [Root]"
  },
  "language_info": {
   "codemirror_mode": {
    "name": "ipython",
    "version": 3
   },
   "file_extension": ".py",
   "mimetype": "text/x-python",
   "name": "python",
   "nbconvert_exporter": "python",
   "pygments_lexer": "ipython3",
   "version": "3.5.2"
  }
 },
 "nbformat": 4,
 "nbformat_minor": 0
}
