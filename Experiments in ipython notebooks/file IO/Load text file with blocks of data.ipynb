{
 "cells": [
  {
   "cell_type": "markdown",
   "metadata": {},
   "source": [
    "http://stackoverflow.com/questions/3914454/python-how-to-loop-through-blocks-of-lines\n",
    "    \n",
    "https://docs.python.org/3/library/itertools.html#itertools.groupby"
   ]
  },
  {
   "cell_type": "markdown",
   "metadata": {},
   "source": [
    "Simple groupby"
   ]
  },
  {
   "cell_type": "code",
   "execution_count": 43,
   "metadata": {
    "collapsed": false
   },
   "outputs": [
    {
     "name": "stdout",
     "output_type": "stream",
     "text": [
      "animal here\n",
      "animal here\n",
      "A school bus is a vehicle.\n",
      "A school bus is a vehicle.\n"
     ]
    }
   ],
   "source": [
    "things = [(\"animal\", \"bear\"), (\"animal\", \"duck\"), (\"plant\", \"cactus\"), (\"vehicle\", \"speed boat\"), (\"vehicle\", \"school bus\")]\n",
    "\n",
    "for key, group in itertools.groupby(things, lambda x: x[0]):  # pass the data and the groupby function\n",
    "    \n",
    "    for line in group:\n",
    "        if line[0] == 'vehicle':     # each line is a list\n",
    "            print(\"A %s is a %s.\" % (thing[1], key))\n",
    "        elif line[0] == 'animal': \n",
    "            print('animal here')"
   ]
  },
  {
   "cell_type": "markdown",
   "metadata": {},
   "source": [
    "Example 2, split on :"
   ]
  },
  {
   "cell_type": "code",
   "execution_count": 140,
   "metadata": {
    "collapsed": false
   },
   "outputs": [
    {
     "name": "stdout",
     "output_type": "stream",
     "text": [
      "1 Y X 20\n",
      "2 F H 23\n",
      "3 Y S 13\n",
      "4 Z M 25\n"
     ]
    }
   ],
   "source": [
    "import itertools\n",
    "\n",
    "def isa_group_separator(line):\n",
    "    return line=='\\n'\n",
    "\n",
    "with open('data_file.txt') as f:\n",
    "    for key,group in itertools.groupby(f,isa_group_separator):\n",
    "        # print(key,list(group))  # uncomment to see what itertools.groupby does.\n",
    "        if not key:\n",
    "            data={}\n",
    "            for item in group:\n",
    "                field,value=item.split(':')\n",
    "                value=value.strip()\n",
    "                data[field]=value\n",
    "                \n",
    "            print('{ID} {FamilyN} {Name} {Age}'.format(**data))"
   ]
  },
  {
   "cell_type": "markdown",
   "metadata": {},
   "source": [
    "Example 3, more complex data with 3 columns appearing after Some data"
   ]
  },
  {
   "cell_type": "code",
   "execution_count": 158,
   "metadata": {
    "collapsed": false
   },
   "outputs": [
    {
     "name": "stdout",
     "output_type": "stream",
     "text": [
      "{}\n",
      "{}\n",
      "{'Age': '20', 'FamilyN': 'Y', 'Name': 'X'}\n",
      "{}\n",
      "[[ 1.   2.4  3. ]\n",
      " [ 4.2  5.6  6.7]]\n",
      "{}\n",
      "{}\n",
      "{}\n",
      "{}\n",
      "{'Age': '23', 'FamilyN': 'F', 'Name': 'H'}\n",
      "{}\n",
      "[[ 7.2  8.2  9.5]\n",
      " [ 1.4  5.7  8.7]]\n",
      "{}\n",
      "{}\n"
     ]
    }
   ],
   "source": [
    "import numpy as np\n",
    "\n",
    "def patient_separator(line):\n",
    "    return line.startswith('Patient') \n",
    "\n",
    "def line_separator(line):\n",
    "    return line=='\\n'\n",
    "\n",
    "with open('data_file_2.txt') as f:\n",
    "    for key1,group1 in itertools.groupby(f,patient_separator):                    \n",
    "            for key2,group2 in itertools.groupby(group1,line_separator):  # seperated by Patient\n",
    "                if not key: \n",
    "                    \n",
    "                    for line in group2:   # seperated by blank lines\n",
    "                        if line.startswith('Some data'):\n",
    "                            data = []   # create a list so can use the append . np arrays must be init with length\n",
    "                            for line in group2:\n",
    "                                if line != 'Some data' and line != '\\n' :     # last line of iterable contains \\n\n",
    "                                    aa = [float(s) for s in line.split('\\t')]\n",
    "                                    data.append(aa)\n",
    "                            data = np.asarray(data)        \n",
    "                            print(data)     \n",
    "                        \n",
    "                        else:\n",
    "                            info = {}\n",
    "                            for line in group2: \n",
    "                                field,value=line.split(':')\n",
    "                                value=value.strip()\n",
    "                                info[field]=value\n",
    "                        print(info)\n",
    "                        #    print('{FamilyN} {Name} {Age}'.format(**info))  # error related to if not key?\n",
    "                    "
   ]
  },
  {
   "cell_type": "code",
   "execution_count": 94,
   "metadata": {
    "collapsed": false
   },
   "outputs": [
    {
     "name": "stdout",
     "output_type": "stream",
     "text": [
      "7\n"
     ]
    }
   ],
   "source": [
    "test = '7\\t8\\t9\\n'\n",
    "AA, BB, CC =test.split('\\t')\n",
    "print(AA)"
   ]
  },
  {
   "cell_type": "code",
   "execution_count": 122,
   "metadata": {
    "collapsed": false
   },
   "outputs": [
    {
     "name": "stdout",
     "output_type": "stream",
     "text": [
      "[7 8 9]\n"
     ]
    }
   ],
   "source": [
    "print(np.fromstring(test, dtype=int, sep='\\t'))"
   ]
  },
  {
   "cell_type": "code",
   "execution_count": 123,
   "metadata": {
    "collapsed": false
   },
   "outputs": [
    {
     "data": {
      "text/plain": [
       "[7.0, 8.0, 9.0]"
      ]
     },
     "execution_count": 123,
     "metadata": {},
     "output_type": "execute_result"
    }
   ],
   "source": [
    "aa = [float(s) for s in test.split('\\t')]\n",
    "aa"
   ]
  },
  {
   "cell_type": "code",
   "execution_count": null,
   "metadata": {
    "collapsed": true
   },
   "outputs": [],
   "source": []
  }
 ],
 "metadata": {
  "anaconda-cloud": {},
  "kernelspec": {
   "display_name": "Python [Root]",
   "language": "python",
   "name": "Python [Root]"
  },
  "language_info": {
   "codemirror_mode": {
    "name": "ipython",
    "version": 3
   },
   "file_extension": ".py",
   "mimetype": "text/x-python",
   "name": "python",
   "nbconvert_exporter": "python",
   "pygments_lexer": "ipython3",
   "version": "3.5.2"
  }
 },
 "nbformat": 4,
 "nbformat_minor": 0
}
