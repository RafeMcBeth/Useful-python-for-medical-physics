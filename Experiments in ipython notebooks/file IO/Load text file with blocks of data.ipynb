{
 "cells": [
  {
   "cell_type": "markdown",
   "metadata": {},
   "source": [
    "http://stackoverflow.com/questions/3914454/python-how-to-loop-through-blocks-of-lines\n",
    "    \n",
    "https://docs.python.org/3/library/itertools.html#itertools.groupby"
   ]
  },
  {
   "cell_type": "markdown",
   "metadata": {},
   "source": [
    "Simple groupby"
   ]
  },
  {
   "cell_type": "code",
   "execution_count": 43,
   "metadata": {
    "collapsed": false
   },
   "outputs": [
    {
     "name": "stdout",
     "output_type": "stream",
     "text": [
      "animal here\n",
      "animal here\n",
      "A school bus is a vehicle.\n",
      "A school bus is a vehicle.\n"
     ]
    }
   ],
   "source": [
    "things = [(\"animal\", \"bear\"), (\"animal\", \"duck\"), (\"plant\", \"cactus\"), (\"vehicle\", \"speed boat\"), (\"vehicle\", \"school bus\")]\n",
    "\n",
    "for key, group in itertools.groupby(things, lambda x: x[0]):  # pass the data and the groupby function\n",
    "    \n",
    "    for line in group:\n",
    "        if line[0] == 'vehicle':     # each line is a list\n",
    "            print(\"A %s is a %s.\" % (thing[1], key))\n",
    "        elif line[0] == 'animal': \n",
    "            print('animal here')"
   ]
  },
  {
   "cell_type": "markdown",
   "metadata": {},
   "source": [
    "Example 2, split on :"
   ]
  },
  {
   "cell_type": "code",
   "execution_count": 28,
   "metadata": {
    "collapsed": false
   },
   "outputs": [
    {
     "name": "stdout",
     "output_type": "stream",
     "text": [
      "1 Y X 20\n",
      "2 F H 23\n",
      "3 Y S 13\n",
      "4 Z M 25\n"
     ]
    }
   ],
   "source": [
    "import itertools\n",
    "\n",
    "def isa_group_separator(line):\n",
    "    return line=='\\n'\n",
    "\n",
    "with open('data_file.txt') as f:\n",
    "    for key,group in itertools.groupby(f,isa_group_separator):\n",
    "        # print(key,list(group))  # uncomment to see what itertools.groupby does.\n",
    "        if not key:\n",
    "            data={}\n",
    "            for item in group:\n",
    "                field,value=item.split(':')\n",
    "                value=value.strip()\n",
    "                data[field]=value\n",
    "                \n",
    "            print('{ID} {FamilyN} {Name} {Age}'.format(**data))"
   ]
  },
  {
   "cell_type": "code",
   "execution_count": 45,
   "metadata": {
    "collapsed": false
   },
   "outputs": [
    {
     "name": "stdout",
     "output_type": "stream",
     "text": [
      "FamilyN: Y\n",
      "\n",
      "Some data found\n",
      "FamilyN: F\n",
      "\n",
      "Some data found\n"
     ]
    }
   ],
   "source": [
    "def patient_separator(line):\n",
    "    return line.startswith('Patient:') \n",
    "\n",
    "def line_separator(line):\n",
    "    return line=='\\n'\n",
    "\n",
    "with open('data_file_2.txt') as f:\n",
    "    for key1,group1 in itertools.groupby(f,patient_separator):        \n",
    "        if not key1:  # Structure\n",
    "            \n",
    "            for key2,group2 in itertools.groupby(group1,patient_separator):  \n",
    "                 for line in group2:   # seperated by blank lines\n",
    "                        if line.startswith('FamilyN:'): \n",
    "                            print(line)\n",
    "                        elif line.startswith('Some data'):\n",
    "                            print('Some data found')\n",
    "            \n"
   ]
  },
  {
   "cell_type": "code",
   "execution_count": null,
   "metadata": {
    "collapsed": true
   },
   "outputs": [],
   "source": []
  }
 ],
 "metadata": {
  "anaconda-cloud": {},
  "kernelspec": {
   "display_name": "Python [Root]",
   "language": "python",
   "name": "Python [Root]"
  },
  "language_info": {
   "codemirror_mode": {
    "name": "ipython",
    "version": 3
   },
   "file_extension": ".py",
   "mimetype": "text/x-python",
   "name": "python",
   "nbconvert_exporter": "python",
   "pygments_lexer": "ipython3",
   "version": "3.5.2"
  }
 },
 "nbformat": 4,
 "nbformat_minor": 0
}
