{
 "cells": [
  {
   "cell_type": "markdown",
   "metadata": {
    "collapsed": false
   },
   "source": [
    "PDD & Profil Data exported from omnipro"
   ]
  },
  {
   "cell_type": "code",
   "execution_count": 1,
   "metadata": {
    "collapsed": true
   },
   "outputs": [],
   "source": [
    "%matplotlib inline\n",
    "import numpy as np\n",
    "import pandas as pd\n",
    "import matplotlib.pyplot as plt"
   ]
  },
  {
   "cell_type": "markdown",
   "metadata": {},
   "source": [
    "# Plot PDD data"
   ]
  },
  {
   "cell_type": "code",
   "execution_count": 24,
   "metadata": {
    "collapsed": false
   },
   "outputs": [],
   "source": [
    "# pd.read_table('LA6(2015) 6MV 100FSD PDD - RAW.csv', sep= \",\").ix[:8]  # view raw"
   ]
  },
  {
   "cell_type": "markdown",
   "metadata": {},
   "source": [
    "use Energy, Fieldsize, Depth as header"
   ]
  },
  {
   "cell_type": "code",
   "execution_count": 25,
   "metadata": {
    "collapsed": false
   },
   "outputs": [],
   "source": [
    "PDD = pd.read_table('LA6(2015) 6MV 100FSD PDD - RAW.csv', sep= \",\", index_col=0, header=[4,5], skiprows=[6,7]); # comma for csv"
   ]
  },
  {
   "cell_type": "code",
   "execution_count": 26,
   "metadata": {
    "collapsed": false
   },
   "outputs": [
    {
     "data": {
      "text/html": [
       "<div>\n",
       "<table border=\"1\" class=\"dataframe\">\n",
       "  <thead>\n",
       "    <tr style=\"text-align: right;\">\n",
       "      <th></th>\n",
       "      <th>(5 x 5 mm, -0.5 mm)</th>\n",
       "      <th>('5 x 5 mm', '-0.5 mm').1</th>\n",
       "      <th>(5 x 5 mm, 50.0 mm)</th>\n",
       "      <th>(10 x 10 mm, -0.5 mm)</th>\n",
       "      <th>('10 x 10 mm', '-0.5 mm').1</th>\n",
       "      <th>(10 x 10 mm, 50.0 mm)</th>\n",
       "      <th>(20 x 20 mm, -0.5 mm)</th>\n",
       "      <th>('20 x 20 mm', '-0.5 mm').1</th>\n",
       "      <th>(20 x 20 mm, 50.0 mm)</th>\n",
       "      <th>(30 x 30 mm, -0.5 mm)</th>\n",
       "      <th>...</th>\n",
       "      <th>(120 x 120 mm, 50.0 mm)</th>\n",
       "      <th>(140 x 140 mm, -0.5 mm)</th>\n",
       "      <th>('140 x 140 mm', '-0.5 mm').1</th>\n",
       "      <th>(140 x 140 mm, 50.0 mm)</th>\n",
       "      <th>(220 x 220 mm, -0.5 mm)</th>\n",
       "      <th>('220 x 220 mm', '-0.5 mm').1</th>\n",
       "      <th>(220 x 220 mm, 50.0 mm)</th>\n",
       "      <th>(300 x 220 mm, -0.5 mm)</th>\n",
       "      <th>('300 x 220 mm', '-0.5 mm').1</th>\n",
       "      <th>(300 x 220 mm, 50.0 mm)</th>\n",
       "    </tr>\n",
       "  </thead>\n",
       "  <tbody>\n",
       "    <tr>\n",
       "      <th>0</th>\n",
       "      <td>69.0</td>\n",
       "      <td>69.0</td>\n",
       "      <td>NaN</td>\n",
       "      <td>57.4</td>\n",
       "      <td>57.4</td>\n",
       "      <td>NaN</td>\n",
       "      <td>53.2</td>\n",
       "      <td>53.2</td>\n",
       "      <td>NaN</td>\n",
       "      <td>53.2</td>\n",
       "      <td>...</td>\n",
       "      <td>NaN</td>\n",
       "      <td>60.8</td>\n",
       "      <td>60.8</td>\n",
       "      <td>NaN</td>\n",
       "      <td>68.3</td>\n",
       "      <td>68.3</td>\n",
       "      <td>NaN</td>\n",
       "      <td>70.5</td>\n",
       "      <td>70.5</td>\n",
       "      <td>NaN</td>\n",
       "    </tr>\n",
       "    <tr>\n",
       "      <th>1</th>\n",
       "      <td>68.9</td>\n",
       "      <td>68.9</td>\n",
       "      <td>NaN</td>\n",
       "      <td>57.1</td>\n",
       "      <td>57.1</td>\n",
       "      <td>NaN</td>\n",
       "      <td>53.4</td>\n",
       "      <td>53.4</td>\n",
       "      <td>NaN</td>\n",
       "      <td>53.5</td>\n",
       "      <td>...</td>\n",
       "      <td>NaN</td>\n",
       "      <td>60.7</td>\n",
       "      <td>60.7</td>\n",
       "      <td>NaN</td>\n",
       "      <td>68.5</td>\n",
       "      <td>68.5</td>\n",
       "      <td>NaN</td>\n",
       "      <td>70.7</td>\n",
       "      <td>70.7</td>\n",
       "      <td>NaN</td>\n",
       "    </tr>\n",
       "    <tr>\n",
       "      <th>2</th>\n",
       "      <td>75.7</td>\n",
       "      <td>75.6</td>\n",
       "      <td>NaN</td>\n",
       "      <td>70.9</td>\n",
       "      <td>71.0</td>\n",
       "      <td>NaN</td>\n",
       "      <td>65.4</td>\n",
       "      <td>65.5</td>\n",
       "      <td>NaN</td>\n",
       "      <td>64.7</td>\n",
       "      <td>...</td>\n",
       "      <td>NaN</td>\n",
       "      <td>64.9</td>\n",
       "      <td>64.9</td>\n",
       "      <td>NaN</td>\n",
       "      <td>76.3</td>\n",
       "      <td>76.2</td>\n",
       "      <td>NaN</td>\n",
       "      <td>77.0</td>\n",
       "      <td>77.0</td>\n",
       "      <td>NaN</td>\n",
       "    </tr>\n",
       "    <tr>\n",
       "      <th>3</th>\n",
       "      <td>101.7</td>\n",
       "      <td>101.8</td>\n",
       "      <td>NaN</td>\n",
       "      <td>87.3</td>\n",
       "      <td>87.3</td>\n",
       "      <td>NaN</td>\n",
       "      <td>80.7</td>\n",
       "      <td>80.7</td>\n",
       "      <td>NaN</td>\n",
       "      <td>79.7</td>\n",
       "      <td>...</td>\n",
       "      <td>NaN</td>\n",
       "      <td>82.4</td>\n",
       "      <td>82.4</td>\n",
       "      <td>NaN</td>\n",
       "      <td>87.5</td>\n",
       "      <td>87.5</td>\n",
       "      <td>NaN</td>\n",
       "      <td>88.8</td>\n",
       "      <td>88.8</td>\n",
       "      <td>NaN</td>\n",
       "    </tr>\n",
       "    <tr>\n",
       "      <th>4</th>\n",
       "      <td>113.0</td>\n",
       "      <td>113.0</td>\n",
       "      <td>NaN</td>\n",
       "      <td>99.1</td>\n",
       "      <td>99.1</td>\n",
       "      <td>NaN</td>\n",
       "      <td>91.8</td>\n",
       "      <td>91.8</td>\n",
       "      <td>NaN</td>\n",
       "      <td>90.3</td>\n",
       "      <td>...</td>\n",
       "      <td>NaN</td>\n",
       "      <td>91.7</td>\n",
       "      <td>91.6</td>\n",
       "      <td>NaN</td>\n",
       "      <td>95.4</td>\n",
       "      <td>95.4</td>\n",
       "      <td>NaN</td>\n",
       "      <td>96.3</td>\n",
       "      <td>96.3</td>\n",
       "      <td>NaN</td>\n",
       "    </tr>\n",
       "  </tbody>\n",
       "</table>\n",
       "<p>5 rows × 36 columns</p>\n",
       "</div>"
      ],
      "text/plain": [
       "   (5 x 5 mm, -0.5 mm)  ('5 x 5 mm', '-0.5 mm').1  (5 x 5 mm, 50.0 mm)  \\\n",
       "0                 69.0                       69.0                  NaN   \n",
       "1                 68.9                       68.9                  NaN   \n",
       "2                 75.7                       75.6                  NaN   \n",
       "3                101.7                      101.8                  NaN   \n",
       "4                113.0                      113.0                  NaN   \n",
       "\n",
       "   (10 x 10 mm, -0.5 mm)  ('10 x 10 mm', '-0.5 mm').1  (10 x 10 mm, 50.0 mm)  \\\n",
       "0                   57.4                         57.4                    NaN   \n",
       "1                   57.1                         57.1                    NaN   \n",
       "2                   70.9                         71.0                    NaN   \n",
       "3                   87.3                         87.3                    NaN   \n",
       "4                   99.1                         99.1                    NaN   \n",
       "\n",
       "   (20 x 20 mm, -0.5 mm)  ('20 x 20 mm', '-0.5 mm').1  (20 x 20 mm, 50.0 mm)  \\\n",
       "0                   53.2                         53.2                    NaN   \n",
       "1                   53.4                         53.4                    NaN   \n",
       "2                   65.4                         65.5                    NaN   \n",
       "3                   80.7                         80.7                    NaN   \n",
       "4                   91.8                         91.8                    NaN   \n",
       "\n",
       "   (30 x 30 mm, -0.5 mm)           ...             (120 x 120 mm, 50.0 mm)  \\\n",
       "0                   53.2           ...                                 NaN   \n",
       "1                   53.5           ...                                 NaN   \n",
       "2                   64.7           ...                                 NaN   \n",
       "3                   79.7           ...                                 NaN   \n",
       "4                   90.3           ...                                 NaN   \n",
       "\n",
       "   (140 x 140 mm, -0.5 mm)  ('140 x 140 mm', '-0.5 mm').1  \\\n",
       "0                     60.8                           60.8   \n",
       "1                     60.7                           60.7   \n",
       "2                     64.9                           64.9   \n",
       "3                     82.4                           82.4   \n",
       "4                     91.7                           91.6   \n",
       "\n",
       "   (140 x 140 mm, 50.0 mm)  (220 x 220 mm, -0.5 mm)  \\\n",
       "0                      NaN                     68.3   \n",
       "1                      NaN                     68.5   \n",
       "2                      NaN                     76.3   \n",
       "3                      NaN                     87.5   \n",
       "4                      NaN                     95.4   \n",
       "\n",
       "   ('220 x 220 mm', '-0.5 mm').1  (220 x 220 mm, 50.0 mm)  \\\n",
       "0                           68.3                      NaN   \n",
       "1                           68.5                      NaN   \n",
       "2                           76.2                      NaN   \n",
       "3                           87.5                      NaN   \n",
       "4                           95.4                      NaN   \n",
       "\n",
       "   (300 x 220 mm, -0.5 mm)  ('300 x 220 mm', '-0.5 mm').1  \\\n",
       "0                     70.5                           70.5   \n",
       "1                     70.7                           70.7   \n",
       "2                     77.0                           77.0   \n",
       "3                     88.8                           88.8   \n",
       "4                     96.3                           96.3   \n",
       "\n",
       "   (300 x 220 mm, 50.0 mm)  \n",
       "0                      NaN  \n",
       "1                      NaN  \n",
       "2                      NaN  \n",
       "3                      NaN  \n",
       "4                      NaN  \n",
       "\n",
       "[5 rows x 36 columns]"
      ]
     },
     "execution_count": 26,
     "metadata": {},
     "output_type": "execute_result"
    }
   ],
   "source": [
    "PDD.head()"
   ]
  },
  {
   "cell_type": "code",
   "execution_count": 27,
   "metadata": {
    "collapsed": false
   },
   "outputs": [
    {
     "name": "stdout",
     "output_type": "stream",
     "text": [
      "('5 x 5 mm', '-0.5 mm')\n",
      "('5 x 5 mm', '-0.5 mm').1\n",
      "('5 x 5 mm', '50.0 mm')\n",
      "('10 x 10 mm', '-0.5 mm')\n",
      "('10 x 10 mm', '-0.5 mm').1\n",
      "('10 x 10 mm', '50.0 mm')\n",
      "('20 x 20 mm', '-0.5 mm')\n",
      "('20 x 20 mm', '-0.5 mm').1\n",
      "('20 x 20 mm', '50.0 mm')\n",
      "('30 x 30 mm', '-0.5 mm')\n",
      "('30 x 30 mm', '-0.5 mm').1\n",
      "('30 x 30 mm', '50.0 mm')\n",
      "('40 x 40 mm', '-0.5 mm')\n",
      "('40 x 40 mm', '-0.5 mm').1\n",
      "('40 x 40 mm', '50.0 mm')\n",
      "('60 x 60 mm', '-0.5 mm')\n",
      "('60 x 60 mm', '-0.5 mm').1\n",
      "('60 x 60 mm', '50.0 mm')\n",
      "('80 x 80 mm', '-0.5 mm')\n",
      "('80 x 80 mm', '-0.5 mm').1\n",
      "('80 x 80 mm', '50.0 mm')\n",
      "('100 x 100 mm', '-0.5 mm')\n",
      "('100 x 100 mm', '-0.5 mm').1\n",
      "('100 x 100 mm', '50.0 mm')\n",
      "('120 x 120 mm', '-0.5 mm')\n",
      "('120 x 120 mm', '-0.5 mm').1\n",
      "('120 x 120 mm', '50.0 mm')\n",
      "('140 x 140 mm', '-0.5 mm')\n",
      "('140 x 140 mm', '-0.5 mm').1\n",
      "('140 x 140 mm', '50.0 mm')\n",
      "('220 x 220 mm', '-0.5 mm')\n",
      "('220 x 220 mm', '-0.5 mm').1\n",
      "('220 x 220 mm', '50.0 mm')\n",
      "('300 x 220 mm', '-0.5 mm')\n",
      "('300 x 220 mm', '-0.5 mm').1\n",
      "('300 x 220 mm', '50.0 mm')\n"
     ]
    }
   ],
   "source": [
    "[print(i) for i in PDD.columns];  # have many columns"
   ]
  },
  {
   "cell_type": "code",
   "execution_count": 28,
   "metadata": {
    "collapsed": false
   },
   "outputs": [
    {
     "data": {
      "image/png": "[encoded data removed]",
      "text/plain": [
       "<matplotlib.figure.Figure at 0xa62db10>"
      ]
     },
     "metadata": {},
     "output_type": "display_data"
    }
   ],
   "source": [
    "ax = PDD[[('10 x 10 mm', '50.0 mm'), \n",
    "         ('80 x 80 mm', '50.0 mm')]\n",
    "        ].plot()\n",
    "\n",
    "ax.set_xlabel('mm')\n",
    "ax.legend(loc='center left', bbox_to_anchor=(1, 0.5));"
   ]
  },
  {
   "cell_type": "markdown",
   "metadata": {
    "collapsed": true
   },
   "source": [
    "## Now profile data"
   ]
  },
  {
   "cell_type": "code",
   "execution_count": 29,
   "metadata": {
    "collapsed": false
   },
   "outputs": [],
   "source": [
    "# pd.read_table('6MV 100FSD PROFILE (PDD JUNE - RAW).csv', sep= \",\").ix[:8] # see raw header"
   ]
  },
  {
   "cell_type": "code",
   "execution_count": 30,
   "metadata": {
    "collapsed": false
   },
   "outputs": [
    {
     "data": {
      "text/html": [
       "<div>\n",
       "<table border=\"1\" class=\"dataframe\">\n",
       "  <thead>\n",
       "    <tr>\n",
       "      <th>Scan Type:</th>\n",
       "      <th colspan=\"3\" halign=\"left\">Crossline</th>\n",
       "      <th colspan=\"3\" halign=\"left\">Inline</th>\n",
       "    </tr>\n",
       "    <tr>\n",
       "      <th>Fieldsize:</th>\n",
       "      <th colspan=\"3\" halign=\"left\">60 x 60 mm</th>\n",
       "      <th colspan=\"3\" halign=\"left\">60 x 60 mm</th>\n",
       "    </tr>\n",
       "    <tr>\n",
       "      <th>Depth:</th>\n",
       "      <th>15.0 mm</th>\n",
       "      <th>100.0 mm</th>\n",
       "      <th>350.0 mm</th>\n",
       "      <th>15.0 mm</th>\n",
       "      <th>100.0 mm</th>\n",
       "      <th>350.0 mm</th>\n",
       "    </tr>\n",
       "    <tr>\n",
       "      <th>Coordinate [mm]:</th>\n",
       "      <th></th>\n",
       "      <th></th>\n",
       "      <th></th>\n",
       "      <th></th>\n",
       "      <th></th>\n",
       "      <th></th>\n",
       "    </tr>\n",
       "  </thead>\n",
       "  <tbody>\n",
       "    <tr>\n",
       "      <th>-90</th>\n",
       "      <td>NaN</td>\n",
       "      <td>NaN</td>\n",
       "      <td>1.3</td>\n",
       "      <td>NaN</td>\n",
       "      <td>NaN</td>\n",
       "      <td>1.3</td>\n",
       "    </tr>\n",
       "    <tr>\n",
       "      <th>-89</th>\n",
       "      <td>NaN</td>\n",
       "      <td>NaN</td>\n",
       "      <td>1.2</td>\n",
       "      <td>NaN</td>\n",
       "      <td>NaN</td>\n",
       "      <td>1.3</td>\n",
       "    </tr>\n",
       "    <tr>\n",
       "      <th>-88</th>\n",
       "      <td>NaN</td>\n",
       "      <td>NaN</td>\n",
       "      <td>1.2</td>\n",
       "      <td>NaN</td>\n",
       "      <td>NaN</td>\n",
       "      <td>1.2</td>\n",
       "    </tr>\n",
       "    <tr>\n",
       "      <th>-87</th>\n",
       "      <td>NaN</td>\n",
       "      <td>NaN</td>\n",
       "      <td>1.2</td>\n",
       "      <td>NaN</td>\n",
       "      <td>NaN</td>\n",
       "      <td>1.3</td>\n",
       "    </tr>\n",
       "    <tr>\n",
       "      <th>-86</th>\n",
       "      <td>NaN</td>\n",
       "      <td>NaN</td>\n",
       "      <td>1.4</td>\n",
       "      <td>NaN</td>\n",
       "      <td>NaN</td>\n",
       "      <td>1.3</td>\n",
       "    </tr>\n",
       "  </tbody>\n",
       "</table>\n",
       "</div>"
      ],
      "text/plain": [
       "Scan Type:        Crossline                       Inline                  \n",
       "Fieldsize:       60 x 60 mm                   60 x 60 mm                  \n",
       "Depth:              15.0 mm 100.0 mm 350.0 mm    15.0 mm 100.0 mm 350.0 mm\n",
       "Coordinate [mm]:                                                          \n",
       "-90                     NaN      NaN      1.3        NaN      NaN      1.3\n",
       "-89                     NaN      NaN      1.2        NaN      NaN      1.3\n",
       "-88                     NaN      NaN      1.2        NaN      NaN      1.2\n",
       "-87                     NaN      NaN      1.2        NaN      NaN      1.3\n",
       "-86                     NaN      NaN      1.4        NaN      NaN      1.3"
      ]
     },
     "execution_count": 30,
     "metadata": {},
     "output_type": "execute_result"
    }
   ],
   "source": [
    "PROFILE = pd.read_table('6MV 100FSD PROFILE (PDD JUNE - RAW).csv', sep= \",\", index_col=0, header=[1,4,5], skiprows=[6]); # comma for csv\n",
    "PROFILE.head()"
   ]
  },
  {
   "cell_type": "code",
   "execution_count": 31,
   "metadata": {
    "collapsed": false
   },
   "outputs": [
    {
     "data": {
      "image/png": "[encoded data removed]",
      "text/plain": [
       "<matplotlib.figure.Figure at 0xa927c50>"
      ]
     },
     "metadata": {},
     "output_type": "display_data"
    }
   ],
   "source": [
    "PROFILE['Crossline', '60 x 60 mm'].plot();"
   ]
  },
  {
   "cell_type": "code",
   "execution_count": null,
   "metadata": {
    "collapsed": true
   },
   "outputs": [],
   "source": []
  }
 ],
 "metadata": {
  "anaconda-cloud": {},
  "kernelspec": {
   "display_name": "Python [conda root]",
   "language": "python",
   "name": "conda-root-py"
  },
  "language_info": {
   "codemirror_mode": {
    "name": "ipython",
    "version": 3
   },
   "file_extension": ".py",
   "mimetype": "text/x-python",
   "name": "python",
   "nbconvert_exporter": "python",
   "pygments_lexer": "ipython3",
   "version": "3.5.2"
  }
 },
 "nbformat": 4,
 "nbformat_minor": 1
}
