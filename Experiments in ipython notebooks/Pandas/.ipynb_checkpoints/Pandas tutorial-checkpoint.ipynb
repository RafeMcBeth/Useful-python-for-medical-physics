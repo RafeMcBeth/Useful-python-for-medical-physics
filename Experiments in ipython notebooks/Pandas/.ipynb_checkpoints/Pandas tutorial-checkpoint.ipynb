{
 "cells": [
  {
   "cell_type": "markdown",
   "metadata": {},
   "source": [
    "http://pandas.pydata.org/pandas-docs/stable/10min.html#min"
   ]
  },
  {
   "cell_type": "code",
   "execution_count": 2,
   "metadata": {
    "collapsed": true
   },
   "outputs": [],
   "source": [
    "import pandas as pd\n",
    "import numpy as np\n",
    "import matplotlib.pyplot as plt\n",
    "%matplotlib inline"
   ]
  },
  {
   "cell_type": "code",
   "execution_count": 4,
   "metadata": {
    "collapsed": false
   },
   "outputs": [
    {
     "data": {
      "text/plain": [
       "0    1.0\n",
       "1    3.0\n",
       "2    5.0\n",
       "3    NaN\n",
       "4    6.0\n",
       "5    8.0\n",
       "dtype: float64"
      ]
     },
     "execution_count": 4,
     "metadata": {},
     "output_type": "execute_result"
    }
   ],
   "source": [
    "s = pd.Series([1,3,5,np.nan,6,8])   # create a series\n",
    "s"
   ]
  },
  {
   "cell_type": "code",
   "execution_count": 5,
   "metadata": {
    "collapsed": false
   },
   "outputs": [
    {
     "data": {
      "text/plain": [
       "DatetimeIndex(['2013-01-01', '2013-01-02', '2013-01-03', '2013-01-04',\n",
       "               '2013-01-05', '2013-01-06'],\n",
       "              dtype='datetime64[ns]', freq='D')"
      ]
     },
     "execution_count": 5,
     "metadata": {},
     "output_type": "execute_result"
    }
   ],
   "source": [
    "dates = pd.date_range('20130101', periods=6)   # create index dates\n",
    "dates"
   ]
  },
  {
   "cell_type": "code",
   "execution_count": 26,
   "metadata": {
    "collapsed": false
   },
   "outputs": [
    {
     "data": {
      "text/plain": [
       "Timestamp('2013-01-01 00:00:00', offset='D')"
      ]
     },
     "execution_count": 26,
     "metadata": {},
     "output_type": "execute_result"
    }
   ],
   "source": [
    "dates[0]"
   ]
  },
  {
   "cell_type": "code",
   "execution_count": 53,
   "metadata": {
    "collapsed": false
   },
   "outputs": [
    {
     "data": {
      "text/html": [
       "<div>\n",
       "<table border=\"1\" class=\"dataframe\">\n",
       "  <thead>\n",
       "    <tr style=\"text-align: right;\">\n",
       "      <th></th>\n",
       "      <th>A</th>\n",
       "      <th>B</th>\n",
       "      <th>C</th>\n",
       "      <th>D</th>\n",
       "    </tr>\n",
       "  </thead>\n",
       "  <tbody>\n",
       "    <tr>\n",
       "      <th>2013-01-01</th>\n",
       "      <td>-0.107156</td>\n",
       "      <td>-2.266622</td>\n",
       "      <td>-0.093250</td>\n",
       "      <td>-1.398897</td>\n",
       "    </tr>\n",
       "    <tr>\n",
       "      <th>2013-01-02</th>\n",
       "      <td>-0.069726</td>\n",
       "      <td>0.204367</td>\n",
       "      <td>-0.088077</td>\n",
       "      <td>-0.653806</td>\n",
       "    </tr>\n",
       "    <tr>\n",
       "      <th>2013-01-03</th>\n",
       "      <td>-0.708915</td>\n",
       "      <td>-0.229712</td>\n",
       "      <td>1.081233</td>\n",
       "      <td>-0.970792</td>\n",
       "    </tr>\n",
       "    <tr>\n",
       "      <th>2013-01-04</th>\n",
       "      <td>-0.659319</td>\n",
       "      <td>0.579233</td>\n",
       "      <td>-1.041280</td>\n",
       "      <td>-0.979121</td>\n",
       "    </tr>\n",
       "    <tr>\n",
       "      <th>2013-01-05</th>\n",
       "      <td>0.717517</td>\n",
       "      <td>-1.592518</td>\n",
       "      <td>0.078573</td>\n",
       "      <td>1.409414</td>\n",
       "    </tr>\n",
       "    <tr>\n",
       "      <th>2013-01-06</th>\n",
       "      <td>-0.803483</td>\n",
       "      <td>-1.092885</td>\n",
       "      <td>1.254629</td>\n",
       "      <td>-0.367572</td>\n",
       "    </tr>\n",
       "  </tbody>\n",
       "</table>\n",
       "</div>"
      ],
      "text/plain": [
       "                   A         B         C         D\n",
       "2013-01-01 -0.107156 -2.266622 -0.093250 -1.398897\n",
       "2013-01-02 -0.069726  0.204367 -0.088077 -0.653806\n",
       "2013-01-03 -0.708915 -0.229712  1.081233 -0.970792\n",
       "2013-01-04 -0.659319  0.579233 -1.041280 -0.979121\n",
       "2013-01-05  0.717517 -1.592518  0.078573  1.409414\n",
       "2013-01-06 -0.803483 -1.092885  1.254629 -0.367572"
      ]
     },
     "execution_count": 53,
     "metadata": {},
     "output_type": "execute_result"
    }
   ],
   "source": [
    "df = pd.DataFrame(np.random.randn(6,4), index=dates, columns=list('ABCD')) # create a dataframe\n",
    "df"
   ]
  },
  {
   "cell_type": "code",
   "execution_count": 54,
   "metadata": {
    "collapsed": false
   },
   "outputs": [
    {
     "data": {
      "text/plain": [
       "A   -0.107156\n",
       "B   -2.266622\n",
       "C   -0.093250\n",
       "D   -1.398897\n",
       "Name: 2013-01-01 00:00:00, dtype: float64"
      ]
     },
     "execution_count": 54,
     "metadata": {},
     "output_type": "execute_result"
    }
   ],
   "source": [
    "df.iloc[0]"
   ]
  },
  {
   "cell_type": "code",
   "execution_count": 55,
   "metadata": {
    "collapsed": false
   },
   "outputs": [
    {
     "data": {
      "text/plain": [
       "A    1.521000\n",
       "B    2.845855\n",
       "C    2.295910\n",
       "D    2.808311\n",
       "dtype: float64"
      ]
     },
     "execution_count": 55,
     "metadata": {},
     "output_type": "execute_result"
    }
   ],
   "source": [
    "df.apply(lambda x: x.max() - x.min())"
   ]
  },
  {
   "cell_type": "code",
   "execution_count": 56,
   "metadata": {
    "collapsed": false
   },
   "outputs": [
    {
     "data": {
      "text/plain": [
       "<matplotlib.axes._subplots.AxesSubplot at 0x114c81668>"
      ]
     },
     "execution_count": 56,
     "metadata": {},
     "output_type": "execute_result"
    },
    {
     "data": {
      "image/png": "[encoded data removed]",
      "text/plain": [
       "<matplotlib.figure.Figure at 0x115205a20>"
      ]
     },
     "metadata": {},
     "output_type": "display_data"
    }
   ],
   "source": [
    "df.plot()"
   ]
  },
  {
   "cell_type": "code",
   "execution_count": 57,
   "metadata": {
    "collapsed": false
   },
   "outputs": [
    {
     "data": {
      "text/plain": [
       "array([[<matplotlib.axes._subplots.AxesSubplot object at 0x115067860>,\n",
       "        <matplotlib.axes._subplots.AxesSubplot object at 0x1178a1d68>],\n",
       "       [<matplotlib.axes._subplots.AxesSubplot object at 0x11796b0f0>,\n",
       "        <matplotlib.axes._subplots.AxesSubplot object at 0x11799f780>]], dtype=object)"
      ]
     },
     "execution_count": 57,
     "metadata": {},
     "output_type": "execute_result"
    },
    {
     "data": {
      "image/png": "[encoded data removed]",
      "text/plain": [
       "<matplotlib.figure.Figure at 0x1150489b0>"
      ]
     },
     "metadata": {},
     "output_type": "display_data"
    }
   ],
   "source": [
    "df.hist()"
   ]
  },
  {
   "cell_type": "code",
   "execution_count": 9,
   "metadata": {
    "collapsed": false
   },
   "outputs": [
    {
     "data": {
      "text/plain": [
       "2013-01-01   -2.440815\n",
       "2013-01-02    0.057016\n",
       "2013-01-03    1.565574\n",
       "2013-01-04    0.759568\n",
       "2013-01-05    1.436791\n",
       "2013-01-06    0.879130\n",
       "Freq: D, Name: A, dtype: float64"
      ]
     },
     "execution_count": 9,
     "metadata": {},
     "output_type": "execute_result"
    }
   ],
   "source": [
    "df.A   # use tab completion"
   ]
  },
  {
   "cell_type": "code",
   "execution_count": 10,
   "metadata": {
    "collapsed": false
   },
   "outputs": [
    {
     "data": {
      "text/plain": [
       "DatetimeIndex(['2013-01-01', '2013-01-02', '2013-01-03', '2013-01-04',\n",
       "               '2013-01-05', '2013-01-06'],\n",
       "              dtype='datetime64[ns]', freq='D')"
      ]
     },
     "execution_count": 10,
     "metadata": {},
     "output_type": "execute_result"
    }
   ],
   "source": [
    "df.index"
   ]
  },
  {
   "cell_type": "code",
   "execution_count": 11,
   "metadata": {
    "collapsed": false
   },
   "outputs": [
    {
     "data": {
      "text/plain": [
       "Index(['A', 'B', 'C', 'D'], dtype='object')"
      ]
     },
     "execution_count": 11,
     "metadata": {},
     "output_type": "execute_result"
    }
   ],
   "source": [
    "df.columns"
   ]
  },
  {
   "cell_type": "code",
   "execution_count": 12,
   "metadata": {
    "collapsed": false
   },
   "outputs": [
    {
     "data": {
      "text/plain": [
       "array([[-2.44081491,  0.64471888,  3.30621808, -0.44375256],\n",
       "       [ 0.05701622, -0.64891072, -0.15193864, -0.08153594],\n",
       "       [ 1.56557371,  1.81667505, -2.11497876,  1.0955177 ],\n",
       "       [ 0.7595678 , -0.43343058, -0.7199388 , -1.25976049],\n",
       "       [ 1.43679129, -1.43379135,  1.11536813,  0.58213844],\n",
       "       [ 0.87912984,  1.89052896,  2.4178262 , -0.51370175]])"
      ]
     },
     "execution_count": 12,
     "metadata": {},
     "output_type": "execute_result"
    }
   ],
   "source": [
    "df.values  # underlying numpy data"
   ]
  },
  {
   "cell_type": "code",
   "execution_count": 13,
   "metadata": {
    "collapsed": false
   },
   "outputs": [
    {
     "data": {
      "text/html": [
       "<div>\n",
       "<table border=\"1\" class=\"dataframe\">\n",
       "  <thead>\n",
       "    <tr style=\"text-align: right;\">\n",
       "      <th></th>\n",
       "      <th>A</th>\n",
       "      <th>B</th>\n",
       "      <th>C</th>\n",
       "      <th>D</th>\n",
       "    </tr>\n",
       "  </thead>\n",
       "  <tbody>\n",
       "    <tr>\n",
       "      <th>count</th>\n",
       "      <td>6.000000</td>\n",
       "      <td>6.000000</td>\n",
       "      <td>6.000000</td>\n",
       "      <td>6.000000</td>\n",
       "    </tr>\n",
       "    <tr>\n",
       "      <th>mean</th>\n",
       "      <td>0.376211</td>\n",
       "      <td>0.305965</td>\n",
       "      <td>0.642093</td>\n",
       "      <td>-0.103516</td>\n",
       "    </tr>\n",
       "    <tr>\n",
       "      <th>std</th>\n",
       "      <td>1.481676</td>\n",
       "      <td>1.370627</td>\n",
       "      <td>2.027898</td>\n",
       "      <td>0.840143</td>\n",
       "    </tr>\n",
       "    <tr>\n",
       "      <th>min</th>\n",
       "      <td>-2.440815</td>\n",
       "      <td>-1.433791</td>\n",
       "      <td>-2.114979</td>\n",
       "      <td>-1.259760</td>\n",
       "    </tr>\n",
       "    <tr>\n",
       "      <th>25%</th>\n",
       "      <td>0.232654</td>\n",
       "      <td>-0.595041</td>\n",
       "      <td>-0.577939</td>\n",
       "      <td>-0.496214</td>\n",
       "    </tr>\n",
       "    <tr>\n",
       "      <th>50%</th>\n",
       "      <td>0.819349</td>\n",
       "      <td>0.105644</td>\n",
       "      <td>0.481715</td>\n",
       "      <td>-0.262644</td>\n",
       "    </tr>\n",
       "    <tr>\n",
       "      <th>75%</th>\n",
       "      <td>1.297376</td>\n",
       "      <td>1.523686</td>\n",
       "      <td>2.092212</td>\n",
       "      <td>0.416220</td>\n",
       "    </tr>\n",
       "    <tr>\n",
       "      <th>max</th>\n",
       "      <td>1.565574</td>\n",
       "      <td>1.890529</td>\n",
       "      <td>3.306218</td>\n",
       "      <td>1.095518</td>\n",
       "    </tr>\n",
       "  </tbody>\n",
       "</table>\n",
       "</div>"
      ],
      "text/plain": [
       "              A         B         C         D\n",
       "count  6.000000  6.000000  6.000000  6.000000\n",
       "mean   0.376211  0.305965  0.642093 -0.103516\n",
       "std    1.481676  1.370627  2.027898  0.840143\n",
       "min   -2.440815 -1.433791 -2.114979 -1.259760\n",
       "25%    0.232654 -0.595041 -0.577939 -0.496214\n",
       "50%    0.819349  0.105644  0.481715 -0.262644\n",
       "75%    1.297376  1.523686  2.092212  0.416220\n",
       "max    1.565574  1.890529  3.306218  1.095518"
      ]
     },
     "execution_count": 13,
     "metadata": {},
     "output_type": "execute_result"
    }
   ],
   "source": [
    "df.describe()  # summary stats"
   ]
  },
  {
   "cell_type": "code",
   "execution_count": 14,
   "metadata": {
    "collapsed": false
   },
   "outputs": [
    {
     "data": {
      "text/html": [
       "<div>\n",
       "<table border=\"1\" class=\"dataframe\">\n",
       "  <thead>\n",
       "    <tr style=\"text-align: right;\">\n",
       "      <th></th>\n",
       "      <th>D</th>\n",
       "      <th>C</th>\n",
       "      <th>B</th>\n",
       "      <th>A</th>\n",
       "    </tr>\n",
       "  </thead>\n",
       "  <tbody>\n",
       "    <tr>\n",
       "      <th>2013-01-01</th>\n",
       "      <td>-0.443753</td>\n",
       "      <td>3.306218</td>\n",
       "      <td>0.644719</td>\n",
       "      <td>-2.440815</td>\n",
       "    </tr>\n",
       "    <tr>\n",
       "      <th>2013-01-02</th>\n",
       "      <td>-0.081536</td>\n",
       "      <td>-0.151939</td>\n",
       "      <td>-0.648911</td>\n",
       "      <td>0.057016</td>\n",
       "    </tr>\n",
       "    <tr>\n",
       "      <th>2013-01-03</th>\n",
       "      <td>1.095518</td>\n",
       "      <td>-2.114979</td>\n",
       "      <td>1.816675</td>\n",
       "      <td>1.565574</td>\n",
       "    </tr>\n",
       "    <tr>\n",
       "      <th>2013-01-04</th>\n",
       "      <td>-1.259760</td>\n",
       "      <td>-0.719939</td>\n",
       "      <td>-0.433431</td>\n",
       "      <td>0.759568</td>\n",
       "    </tr>\n",
       "    <tr>\n",
       "      <th>2013-01-05</th>\n",
       "      <td>0.582138</td>\n",
       "      <td>1.115368</td>\n",
       "      <td>-1.433791</td>\n",
       "      <td>1.436791</td>\n",
       "    </tr>\n",
       "    <tr>\n",
       "      <th>2013-01-06</th>\n",
       "      <td>-0.513702</td>\n",
       "      <td>2.417826</td>\n",
       "      <td>1.890529</td>\n",
       "      <td>0.879130</td>\n",
       "    </tr>\n",
       "  </tbody>\n",
       "</table>\n",
       "</div>"
      ],
      "text/plain": [
       "                   D         C         B         A\n",
       "2013-01-01 -0.443753  3.306218  0.644719 -2.440815\n",
       "2013-01-02 -0.081536 -0.151939 -0.648911  0.057016\n",
       "2013-01-03  1.095518 -2.114979  1.816675  1.565574\n",
       "2013-01-04 -1.259760 -0.719939 -0.433431  0.759568\n",
       "2013-01-05  0.582138  1.115368 -1.433791  1.436791\n",
       "2013-01-06 -0.513702  2.417826  1.890529  0.879130"
      ]
     },
     "execution_count": 14,
     "metadata": {},
     "output_type": "execute_result"
    }
   ],
   "source": [
    "df.sort_index(axis=1, ascending=False) # sort the index"
   ]
  },
  {
   "cell_type": "code",
   "execution_count": 15,
   "metadata": {
    "collapsed": false
   },
   "outputs": [
    {
     "data": {
      "text/html": [
       "<div>\n",
       "<table border=\"1\" class=\"dataframe\">\n",
       "  <thead>\n",
       "    <tr style=\"text-align: right;\">\n",
       "      <th></th>\n",
       "      <th>A</th>\n",
       "      <th>B</th>\n",
       "      <th>C</th>\n",
       "      <th>D</th>\n",
       "    </tr>\n",
       "  </thead>\n",
       "  <tbody>\n",
       "    <tr>\n",
       "      <th>2013-01-05</th>\n",
       "      <td>1.436791</td>\n",
       "      <td>-1.433791</td>\n",
       "      <td>1.115368</td>\n",
       "      <td>0.582138</td>\n",
       "    </tr>\n",
       "    <tr>\n",
       "      <th>2013-01-02</th>\n",
       "      <td>0.057016</td>\n",
       "      <td>-0.648911</td>\n",
       "      <td>-0.151939</td>\n",
       "      <td>-0.081536</td>\n",
       "    </tr>\n",
       "    <tr>\n",
       "      <th>2013-01-04</th>\n",
       "      <td>0.759568</td>\n",
       "      <td>-0.433431</td>\n",
       "      <td>-0.719939</td>\n",
       "      <td>-1.259760</td>\n",
       "    </tr>\n",
       "    <tr>\n",
       "      <th>2013-01-01</th>\n",
       "      <td>-2.440815</td>\n",
       "      <td>0.644719</td>\n",
       "      <td>3.306218</td>\n",
       "      <td>-0.443753</td>\n",
       "    </tr>\n",
       "    <tr>\n",
       "      <th>2013-01-03</th>\n",
       "      <td>1.565574</td>\n",
       "      <td>1.816675</td>\n",
       "      <td>-2.114979</td>\n",
       "      <td>1.095518</td>\n",
       "    </tr>\n",
       "    <tr>\n",
       "      <th>2013-01-06</th>\n",
       "      <td>0.879130</td>\n",
       "      <td>1.890529</td>\n",
       "      <td>2.417826</td>\n",
       "      <td>-0.513702</td>\n",
       "    </tr>\n",
       "  </tbody>\n",
       "</table>\n",
       "</div>"
      ],
      "text/plain": [
       "                   A         B         C         D\n",
       "2013-01-05  1.436791 -1.433791  1.115368  0.582138\n",
       "2013-01-02  0.057016 -0.648911 -0.151939 -0.081536\n",
       "2013-01-04  0.759568 -0.433431 -0.719939 -1.259760\n",
       "2013-01-01 -2.440815  0.644719  3.306218 -0.443753\n",
       "2013-01-03  1.565574  1.816675 -2.114979  1.095518\n",
       "2013-01-06  0.879130  1.890529  2.417826 -0.513702"
      ]
     },
     "execution_count": 15,
     "metadata": {},
     "output_type": "execute_result"
    }
   ],
   "source": [
    "df.sort_values(by='B')  # sort values"
   ]
  },
  {
   "cell_type": "code",
   "execution_count": 16,
   "metadata": {
    "collapsed": false
   },
   "outputs": [
    {
     "data": {
      "text/plain": [
       "2013-01-01   -2.440815\n",
       "2013-01-02    0.057016\n",
       "2013-01-03    1.565574\n",
       "2013-01-04    0.759568\n",
       "2013-01-05    1.436791\n",
       "2013-01-06    0.879130\n",
       "Freq: D, Name: A, dtype: float64"
      ]
     },
     "execution_count": 16,
     "metadata": {},
     "output_type": "execute_result"
    }
   ],
   "source": [
    "df['A']  # get a single col"
   ]
  },
  {
   "cell_type": "markdown",
   "metadata": {},
   "source": [
    "Indexing http://pandas.pydata.org/pandas-docs/stable/indexing.html#different-choices-for-indexing\n",
    "\n",
    ".loc is primarily label based\n",
    "\n",
    ".iloc is primarily integer position based \n",
    "\n",
    ".ix supports mixed integer and label based access. I\n",
    "\n"
   ]
  },
  {
   "cell_type": "code",
   "execution_count": 18,
   "metadata": {
    "collapsed": false
   },
   "outputs": [
    {
     "data": {
      "text/html": [
       "<div>\n",
       "<table border=\"1\" class=\"dataframe\">\n",
       "  <thead>\n",
       "    <tr style=\"text-align: right;\">\n",
       "      <th></th>\n",
       "      <th>A</th>\n",
       "      <th>B</th>\n",
       "      <th>C</th>\n",
       "      <th>D</th>\n",
       "    </tr>\n",
       "  </thead>\n",
       "  <tbody>\n",
       "    <tr>\n",
       "      <th>2013-01-01</th>\n",
       "      <td>-2.440815</td>\n",
       "      <td>0.644719</td>\n",
       "      <td>3.306218</td>\n",
       "      <td>-0.443753</td>\n",
       "    </tr>\n",
       "    <tr>\n",
       "      <th>2013-01-02</th>\n",
       "      <td>0.057016</td>\n",
       "      <td>-0.648911</td>\n",
       "      <td>-0.151939</td>\n",
       "      <td>-0.081536</td>\n",
       "    </tr>\n",
       "    <tr>\n",
       "      <th>2013-01-03</th>\n",
       "      <td>1.565574</td>\n",
       "      <td>1.816675</td>\n",
       "      <td>-2.114979</td>\n",
       "      <td>1.095518</td>\n",
       "    </tr>\n",
       "  </tbody>\n",
       "</table>\n",
       "</div>"
      ],
      "text/plain": [
       "                   A         B         C         D\n",
       "2013-01-01 -2.440815  0.644719  3.306218 -0.443753\n",
       "2013-01-02  0.057016 -0.648911 -0.151939 -0.081536\n",
       "2013-01-03  1.565574  1.816675 -2.114979  1.095518"
      ]
     },
     "execution_count": 18,
     "metadata": {},
     "output_type": "execute_result"
    }
   ],
   "source": [
    "df[:3]   # get first 3 rows"
   ]
  },
  {
   "cell_type": "code",
   "execution_count": 19,
   "metadata": {
    "collapsed": false
   },
   "outputs": [
    {
     "data": {
      "text/plain": [
       "A   -2.440815\n",
       "B    0.644719\n",
       "C    3.306218\n",
       "D   -0.443753\n",
       "Name: 2013-01-01 00:00:00, dtype: float64"
      ]
     },
     "execution_count": 19,
     "metadata": {},
     "output_type": "execute_result"
    }
   ],
   "source": [
    "df.loc[dates[0]]  # select by label"
   ]
  },
  {
   "cell_type": "code",
   "execution_count": 21,
   "metadata": {
    "collapsed": false
   },
   "outputs": [
    {
     "data": {
      "text/html": [
       "<div>\n",
       "<table border=\"1\" class=\"dataframe\">\n",
       "  <thead>\n",
       "    <tr style=\"text-align: right;\">\n",
       "      <th></th>\n",
       "      <th>A</th>\n",
       "      <th>B</th>\n",
       "    </tr>\n",
       "  </thead>\n",
       "  <tbody>\n",
       "    <tr>\n",
       "      <th>2013-01-01</th>\n",
       "      <td>-2.440815</td>\n",
       "      <td>0.644719</td>\n",
       "    </tr>\n",
       "    <tr>\n",
       "      <th>2013-01-02</th>\n",
       "      <td>0.057016</td>\n",
       "      <td>-0.648911</td>\n",
       "    </tr>\n",
       "    <tr>\n",
       "      <th>2013-01-03</th>\n",
       "      <td>1.565574</td>\n",
       "      <td>1.816675</td>\n",
       "    </tr>\n",
       "    <tr>\n",
       "      <th>2013-01-04</th>\n",
       "      <td>0.759568</td>\n",
       "      <td>-0.433431</td>\n",
       "    </tr>\n",
       "    <tr>\n",
       "      <th>2013-01-05</th>\n",
       "      <td>1.436791</td>\n",
       "      <td>-1.433791</td>\n",
       "    </tr>\n",
       "    <tr>\n",
       "      <th>2013-01-06</th>\n",
       "      <td>0.879130</td>\n",
       "      <td>1.890529</td>\n",
       "    </tr>\n",
       "  </tbody>\n",
       "</table>\n",
       "</div>"
      ],
      "text/plain": [
       "                   A         B\n",
       "2013-01-01 -2.440815  0.644719\n",
       "2013-01-02  0.057016 -0.648911\n",
       "2013-01-03  1.565574  1.816675\n",
       "2013-01-04  0.759568 -0.433431\n",
       "2013-01-05  1.436791 -1.433791\n",
       "2013-01-06  0.879130  1.890529"
      ]
     },
     "execution_count": 21,
     "metadata": {},
     "output_type": "execute_result"
    }
   ],
   "source": [
    "df.loc[:,['A','B']]  # Selecting on a multi-axis by label, indexing    df.loc[row_indexer,column_indexer]"
   ]
  },
  {
   "cell_type": "markdown",
   "metadata": {},
   "source": [
    "http://pandas.pydata.org/pandas-docs/stable/indexing.html#the-lookup-method\n",
    "\n",
    "http://stackoverflow.com/questions/34519402/lookup-table-errors\n",
    "\n",
    "df.lookup: must pass iterables, row and col lookup lists. Returns an array. use pd.DataFrame() to return a dataframe"
   ]
  },
  {
   "cell_type": "code",
   "execution_count": 28,
   "metadata": {
    "collapsed": false
   },
   "outputs": [
    {
     "data": {
      "text/plain": [
       "array([ 0.64471888])"
      ]
     },
     "execution_count": 28,
     "metadata": {},
     "output_type": "execute_result"
    }
   ],
   "source": [
    "df.lookup([dates[0]], ['B'])  "
   ]
  },
  {
   "cell_type": "markdown",
   "metadata": {},
   "source": [
    "# Merging"
   ]
  },
  {
   "cell_type": "markdown",
   "metadata": {},
   "source": [
    "http://pandas.pydata.org/pandas-docs/stable/10min.html#merge"
   ]
  },
  {
   "cell_type": "code",
   "execution_count": 30,
   "metadata": {
    "collapsed": false
   },
   "outputs": [
    {
     "data": {
      "text/html": [
       "<div>\n",
       "<table border=\"1\" class=\"dataframe\">\n",
       "  <thead>\n",
       "    <tr style=\"text-align: right;\">\n",
       "      <th></th>\n",
       "      <th>0</th>\n",
       "      <th>1</th>\n",
       "      <th>2</th>\n",
       "      <th>3</th>\n",
       "    </tr>\n",
       "  </thead>\n",
       "  <tbody>\n",
       "    <tr>\n",
       "      <th>0</th>\n",
       "      <td>0.569619</td>\n",
       "      <td>-0.542060</td>\n",
       "      <td>-0.723441</td>\n",
       "      <td>-1.803133</td>\n",
       "    </tr>\n",
       "    <tr>\n",
       "      <th>1</th>\n",
       "      <td>-0.570874</td>\n",
       "      <td>-0.061683</td>\n",
       "      <td>-0.935241</td>\n",
       "      <td>-1.045470</td>\n",
       "    </tr>\n",
       "    <tr>\n",
       "      <th>2</th>\n",
       "      <td>-0.711476</td>\n",
       "      <td>-0.200500</td>\n",
       "      <td>-1.002272</td>\n",
       "      <td>-0.777697</td>\n",
       "    </tr>\n",
       "    <tr>\n",
       "      <th>3</th>\n",
       "      <td>-1.447636</td>\n",
       "      <td>0.089570</td>\n",
       "      <td>-0.359010</td>\n",
       "      <td>-1.662719</td>\n",
       "    </tr>\n",
       "    <tr>\n",
       "      <th>4</th>\n",
       "      <td>0.305568</td>\n",
       "      <td>-1.863350</td>\n",
       "      <td>0.470495</td>\n",
       "      <td>-0.059648</td>\n",
       "    </tr>\n",
       "    <tr>\n",
       "      <th>5</th>\n",
       "      <td>0.234776</td>\n",
       "      <td>0.181824</td>\n",
       "      <td>0.300735</td>\n",
       "      <td>-0.157457</td>\n",
       "    </tr>\n",
       "    <tr>\n",
       "      <th>6</th>\n",
       "      <td>-1.681815</td>\n",
       "      <td>-0.451571</td>\n",
       "      <td>-0.863565</td>\n",
       "      <td>-0.343392</td>\n",
       "    </tr>\n",
       "    <tr>\n",
       "      <th>7</th>\n",
       "      <td>0.208662</td>\n",
       "      <td>0.636412</td>\n",
       "      <td>-1.470376</td>\n",
       "      <td>-0.157605</td>\n",
       "    </tr>\n",
       "    <tr>\n",
       "      <th>8</th>\n",
       "      <td>-1.649651</td>\n",
       "      <td>-0.285180</td>\n",
       "      <td>0.507032</td>\n",
       "      <td>1.500270</td>\n",
       "    </tr>\n",
       "    <tr>\n",
       "      <th>9</th>\n",
       "      <td>-0.963105</td>\n",
       "      <td>1.425267</td>\n",
       "      <td>-0.129911</td>\n",
       "      <td>1.573461</td>\n",
       "    </tr>\n",
       "  </tbody>\n",
       "</table>\n",
       "</div>"
      ],
      "text/plain": [
       "          0         1         2         3\n",
       "0  0.569619 -0.542060 -0.723441 -1.803133\n",
       "1 -0.570874 -0.061683 -0.935241 -1.045470\n",
       "2 -0.711476 -0.200500 -1.002272 -0.777697\n",
       "3 -1.447636  0.089570 -0.359010 -1.662719\n",
       "4  0.305568 -1.863350  0.470495 -0.059648\n",
       "5  0.234776  0.181824  0.300735 -0.157457\n",
       "6 -1.681815 -0.451571 -0.863565 -0.343392\n",
       "7  0.208662  0.636412 -1.470376 -0.157605\n",
       "8 -1.649651 -0.285180  0.507032  1.500270\n",
       "9 -0.963105  1.425267 -0.129911  1.573461"
      ]
     },
     "execution_count": 30,
     "metadata": {},
     "output_type": "execute_result"
    }
   ],
   "source": [
    "df = pd.DataFrame(np.random.randn(10, 4))\n",
    "df"
   ]
  },
  {
   "cell_type": "code",
   "execution_count": 31,
   "metadata": {
    "collapsed": false
   },
   "outputs": [
    {
     "data": {
      "text/plain": [
       "[          0         1         2         3\n",
       " 0  0.569619 -0.542060 -0.723441 -1.803133\n",
       " 1 -0.570874 -0.061683 -0.935241 -1.045470\n",
       " 2 -0.711476 -0.200500 -1.002272 -0.777697,\n",
       "           0         1         2         3\n",
       " 3 -1.447636  0.089570 -0.359010 -1.662719\n",
       " 4  0.305568 -1.863350  0.470495 -0.059648\n",
       " 5  0.234776  0.181824  0.300735 -0.157457\n",
       " 6 -1.681815 -0.451571 -0.863565 -0.343392,\n",
       "           0         1         2         3\n",
       " 7  0.208662  0.636412 -1.470376 -0.157605\n",
       " 8 -1.649651 -0.285180  0.507032  1.500270\n",
       " 9 -0.963105  1.425267 -0.129911  1.573461]"
      ]
     },
     "execution_count": 31,
     "metadata": {},
     "output_type": "execute_result"
    }
   ],
   "source": [
    "pieces = [df[:3], df[3:7], df[7:]]\n",
    "pieces"
   ]
  },
  {
   "cell_type": "code",
   "execution_count": 32,
   "metadata": {
    "collapsed": false
   },
   "outputs": [
    {
     "data": {
      "text/html": [
       "<div>\n",
       "<table border=\"1\" class=\"dataframe\">\n",
       "  <thead>\n",
       "    <tr style=\"text-align: right;\">\n",
       "      <th></th>\n",
       "      <th>0</th>\n",
       "      <th>1</th>\n",
       "      <th>2</th>\n",
       "      <th>3</th>\n",
       "    </tr>\n",
       "  </thead>\n",
       "  <tbody>\n",
       "    <tr>\n",
       "      <th>0</th>\n",
       "      <td>0.569619</td>\n",
       "      <td>-0.542060</td>\n",
       "      <td>-0.723441</td>\n",
       "      <td>-1.803133</td>\n",
       "    </tr>\n",
       "    <tr>\n",
       "      <th>1</th>\n",
       "      <td>-0.570874</td>\n",
       "      <td>-0.061683</td>\n",
       "      <td>-0.935241</td>\n",
       "      <td>-1.045470</td>\n",
       "    </tr>\n",
       "    <tr>\n",
       "      <th>2</th>\n",
       "      <td>-0.711476</td>\n",
       "      <td>-0.200500</td>\n",
       "      <td>-1.002272</td>\n",
       "      <td>-0.777697</td>\n",
       "    </tr>\n",
       "    <tr>\n",
       "      <th>3</th>\n",
       "      <td>-1.447636</td>\n",
       "      <td>0.089570</td>\n",
       "      <td>-0.359010</td>\n",
       "      <td>-1.662719</td>\n",
       "    </tr>\n",
       "    <tr>\n",
       "      <th>4</th>\n",
       "      <td>0.305568</td>\n",
       "      <td>-1.863350</td>\n",
       "      <td>0.470495</td>\n",
       "      <td>-0.059648</td>\n",
       "    </tr>\n",
       "    <tr>\n",
       "      <th>5</th>\n",
       "      <td>0.234776</td>\n",
       "      <td>0.181824</td>\n",
       "      <td>0.300735</td>\n",
       "      <td>-0.157457</td>\n",
       "    </tr>\n",
       "    <tr>\n",
       "      <th>6</th>\n",
       "      <td>-1.681815</td>\n",
       "      <td>-0.451571</td>\n",
       "      <td>-0.863565</td>\n",
       "      <td>-0.343392</td>\n",
       "    </tr>\n",
       "    <tr>\n",
       "      <th>7</th>\n",
       "      <td>0.208662</td>\n",
       "      <td>0.636412</td>\n",
       "      <td>-1.470376</td>\n",
       "      <td>-0.157605</td>\n",
       "    </tr>\n",
       "    <tr>\n",
       "      <th>8</th>\n",
       "      <td>-1.649651</td>\n",
       "      <td>-0.285180</td>\n",
       "      <td>0.507032</td>\n",
       "      <td>1.500270</td>\n",
       "    </tr>\n",
       "    <tr>\n",
       "      <th>9</th>\n",
       "      <td>-0.963105</td>\n",
       "      <td>1.425267</td>\n",
       "      <td>-0.129911</td>\n",
       "      <td>1.573461</td>\n",
       "    </tr>\n",
       "  </tbody>\n",
       "</table>\n",
       "</div>"
      ],
      "text/plain": [
       "          0         1         2         3\n",
       "0  0.569619 -0.542060 -0.723441 -1.803133\n",
       "1 -0.570874 -0.061683 -0.935241 -1.045470\n",
       "2 -0.711476 -0.200500 -1.002272 -0.777697\n",
       "3 -1.447636  0.089570 -0.359010 -1.662719\n",
       "4  0.305568 -1.863350  0.470495 -0.059648\n",
       "5  0.234776  0.181824  0.300735 -0.157457\n",
       "6 -1.681815 -0.451571 -0.863565 -0.343392\n",
       "7  0.208662  0.636412 -1.470376 -0.157605\n",
       "8 -1.649651 -0.285180  0.507032  1.500270\n",
       "9 -0.963105  1.425267 -0.129911  1.573461"
      ]
     },
     "execution_count": 32,
     "metadata": {},
     "output_type": "execute_result"
    }
   ],
   "source": [
    "pd.concat(pieces)"
   ]
  },
  {
   "cell_type": "markdown",
   "metadata": {},
   "source": [
    "# SQL type Joining"
   ]
  },
  {
   "cell_type": "code",
   "execution_count": 46,
   "metadata": {
    "collapsed": false
   },
   "outputs": [
    {
     "data": {
      "text/html": [
       "<div>\n",
       "<table border=\"1\" class=\"dataframe\">\n",
       "  <thead>\n",
       "    <tr style=\"text-align: right;\">\n",
       "      <th></th>\n",
       "      <th>key</th>\n",
       "      <th>lval</th>\n",
       "    </tr>\n",
       "  </thead>\n",
       "  <tbody>\n",
       "    <tr>\n",
       "      <th>0</th>\n",
       "      <td>foo</td>\n",
       "      <td>1</td>\n",
       "    </tr>\n",
       "    <tr>\n",
       "      <th>1</th>\n",
       "      <td>bar</td>\n",
       "      <td>2</td>\n",
       "    </tr>\n",
       "    <tr>\n",
       "      <th>2</th>\n",
       "      <td>paz</td>\n",
       "      <td>3</td>\n",
       "    </tr>\n",
       "  </tbody>\n",
       "</table>\n",
       "</div>"
      ],
      "text/plain": [
       "   key  lval\n",
       "0  foo     1\n",
       "1  bar     2\n",
       "2  paz     3"
      ]
     },
     "execution_count": 46,
     "metadata": {},
     "output_type": "execute_result"
    }
   ],
   "source": [
    "left = pd.DataFrame({'key': ['foo', 'bar', 'paz'], 'lval': [1, 2, 3]})\n",
    "left"
   ]
  },
  {
   "cell_type": "code",
   "execution_count": 47,
   "metadata": {
    "collapsed": false
   },
   "outputs": [
    {
     "data": {
      "text/html": [
       "<div>\n",
       "<table border=\"1\" class=\"dataframe\">\n",
       "  <thead>\n",
       "    <tr style=\"text-align: right;\">\n",
       "      <th></th>\n",
       "      <th>key</th>\n",
       "      <th>rval</th>\n",
       "    </tr>\n",
       "  </thead>\n",
       "  <tbody>\n",
       "    <tr>\n",
       "      <th>0</th>\n",
       "      <td>paz</td>\n",
       "      <td>4</td>\n",
       "    </tr>\n",
       "    <tr>\n",
       "      <th>1</th>\n",
       "      <td>bar</td>\n",
       "      <td>5</td>\n",
       "    </tr>\n",
       "    <tr>\n",
       "      <th>2</th>\n",
       "      <td>foo</td>\n",
       "      <td>6</td>\n",
       "    </tr>\n",
       "  </tbody>\n",
       "</table>\n",
       "</div>"
      ],
      "text/plain": [
       "   key  rval\n",
       "0  paz     4\n",
       "1  bar     5\n",
       "2  foo     6"
      ]
     },
     "execution_count": 47,
     "metadata": {},
     "output_type": "execute_result"
    }
   ],
   "source": [
    "right = pd.DataFrame({'key': [ 'paz', 'bar', 'foo'], 'rval': [4, 5, 6]})\n",
    "right"
   ]
  },
  {
   "cell_type": "code",
   "execution_count": 50,
   "metadata": {
    "collapsed": false
   },
   "outputs": [
    {
     "data": {
      "text/html": [
       "<div>\n",
       "<table border=\"1\" class=\"dataframe\">\n",
       "  <thead>\n",
       "    <tr style=\"text-align: right;\">\n",
       "      <th></th>\n",
       "      <th>key</th>\n",
       "      <th>lval</th>\n",
       "      <th>rval</th>\n",
       "    </tr>\n",
       "  </thead>\n",
       "  <tbody>\n",
       "    <tr>\n",
       "      <th>0</th>\n",
       "      <td>foo</td>\n",
       "      <td>1</td>\n",
       "      <td>6</td>\n",
       "    </tr>\n",
       "    <tr>\n",
       "      <th>1</th>\n",
       "      <td>bar</td>\n",
       "      <td>2</td>\n",
       "      <td>5</td>\n",
       "    </tr>\n",
       "    <tr>\n",
       "      <th>2</th>\n",
       "      <td>paz</td>\n",
       "      <td>3</td>\n",
       "      <td>4</td>\n",
       "    </tr>\n",
       "  </tbody>\n",
       "</table>\n",
       "</div>"
      ],
      "text/plain": [
       "   key  lval  rval\n",
       "0  foo     1     6\n",
       "1  bar     2     5\n",
       "2  paz     3     4"
      ]
     },
     "execution_count": 50,
     "metadata": {},
     "output_type": "execute_result"
    }
   ],
   "source": [
    " pd.merge(left, right, on='key')"
   ]
  },
  {
   "cell_type": "code",
   "execution_count": 37,
   "metadata": {
    "collapsed": true
   },
   "outputs": [],
   "source": [
    "?pd.merge"
   ]
  },
  {
   "cell_type": "code",
   "execution_count": null,
   "metadata": {
    "collapsed": true
   },
   "outputs": [],
   "source": []
  }
 ],
 "metadata": {
  "kernelspec": {
   "display_name": "Python [Root]",
   "language": "python",
   "name": "Python [Root]"
  },
  "language_info": {
   "codemirror_mode": {
    "name": "ipython",
    "version": 3
   },
   "file_extension": ".py",
   "mimetype": "text/x-python",
   "name": "python",
   "nbconvert_exporter": "python",
   "pygments_lexer": "ipython3",
   "version": "3.5.2"
  }
 },
 "nbformat": 4,
 "nbformat_minor": 0
}
