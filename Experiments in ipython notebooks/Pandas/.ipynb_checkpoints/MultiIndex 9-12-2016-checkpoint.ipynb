{
 "cells": [
  {
   "cell_type": "markdown",
   "metadata": {},
   "source": [
    "http://pandas.pydata.org/pandas-docs/stable/advanced.html"
   ]
  },
  {
   "cell_type": "code",
   "execution_count": 3,
   "metadata": {
    "collapsed": true
   },
   "outputs": [],
   "source": [
    "import numpy as np\n",
    "import pandas as pd"
   ]
  },
  {
   "cell_type": "code",
   "execution_count": 31,
   "metadata": {
    "collapsed": true
   },
   "outputs": [],
   "source": [
    "arrays = [['bar', 'bar', 'baz', 'baz', 'foo', 'foo', 'qux', 'qux'],\n",
    "['one', 'two', 'one', 'two', 'one', 'two', 'one', 'two']]"
   ]
  },
  {
   "cell_type": "code",
   "execution_count": 32,
   "metadata": {
    "collapsed": false
   },
   "outputs": [
    {
     "name": "stdout",
     "output_type": "stream",
     "text": [
      "8\n"
     ]
    },
    {
     "data": {
      "text/plain": [
       "[('bar', 'one'),\n",
       " ('bar', 'two'),\n",
       " ('baz', 'one'),\n",
       " ('baz', 'two'),\n",
       " ('foo', 'one'),\n",
       " ('foo', 'two'),\n",
       " ('qux', 'one'),\n",
       " ('qux', 'two')]"
      ]
     },
     "execution_count": 32,
     "metadata": {},
     "output_type": "execute_result"
    }
   ],
   "source": [
    "tuples = list(zip(*arrays))  # produces a list of tuples\n",
    "print(len(tuples))\n",
    "tuples"
   ]
  },
  {
   "cell_type": "code",
   "execution_count": 33,
   "metadata": {
    "collapsed": false
   },
   "outputs": [
    {
     "data": {
      "text/plain": [
       "MultiIndex(levels=[['bar', 'baz', 'foo', 'qux'], ['one', 'two']],\n",
       "           labels=[[0, 0, 1, 1, 2, 2, 3, 3], [0, 1, 0, 1, 0, 1, 0, 1]],\n",
       "           names=['first', 'second'])"
      ]
     },
     "execution_count": 33,
     "metadata": {},
     "output_type": "execute_result"
    }
   ],
   "source": [
    "index = pd.MultiIndex.from_tuples(tuples, names=['first', 'second'])\n",
    "index"
   ]
  },
  {
   "cell_type": "code",
   "execution_count": 34,
   "metadata": {
    "collapsed": false
   },
   "outputs": [
    {
     "data": {
      "text/plain": [
       "bar  one    1.687261\n",
       "     two    0.945585\n",
       "baz  one    1.274056\n",
       "     two   -0.004714\n",
       "foo  one   -1.126959\n",
       "     two   -1.417109\n",
       "qux  one    0.510355\n",
       "     two   -1.071105\n",
       "dtype: float64"
      ]
     },
     "execution_count": 34,
     "metadata": {},
     "output_type": "execute_result"
    }
   ],
   "source": [
    "s = pd.Series(np.random.randn(8), index=arrays)\n",
    "s"
   ]
  },
  {
   "cell_type": "markdown",
   "metadata": {
    "collapsed": true
   },
   "source": [
    "As a convenience, you can pass a list of arrays directly into Series or DataFrame to construct a MultiIndex automatically:"
   ]
  },
  {
   "cell_type": "code",
   "execution_count": 9,
   "metadata": {
    "collapsed": false
   },
   "outputs": [
    {
     "data": {
      "text/plain": [
       "bar  one    0.302456\n",
       "     two    2.230063\n",
       "baz  one   -1.293163\n",
       "     two   -0.719453\n",
       "foo  one   -0.307817\n",
       "     two    0.548172\n",
       "qux  one   -0.787509\n",
       "     two   -0.566176\n",
       "dtype: float64"
      ]
     },
     "execution_count": 9,
     "metadata": {},
     "output_type": "execute_result"
    }
   ],
   "source": [
    "s2 = pd.Series(np.random.randn(8), index=arrays)\n",
    "s2"
   ]
  },
  {
   "cell_type": "code",
   "execution_count": 16,
   "metadata": {
    "collapsed": false
   },
   "outputs": [
    {
     "data": {
      "text/html": [
       "<div>\n",
       "<table border=\"1\" class=\"dataframe\">\n",
       "  <thead>\n",
       "    <tr style=\"text-align: right;\">\n",
       "      <th></th>\n",
       "      <th></th>\n",
       "      <th>0</th>\n",
       "      <th>1</th>\n",
       "      <th>2</th>\n",
       "      <th>3</th>\n",
       "    </tr>\n",
       "  </thead>\n",
       "  <tbody>\n",
       "    <tr>\n",
       "      <th rowspan=\"2\" valign=\"top\">bar</th>\n",
       "      <th>one</th>\n",
       "      <td>0.055904</td>\n",
       "      <td>0.099164</td>\n",
       "      <td>-1.682160</td>\n",
       "      <td>-1.557066</td>\n",
       "    </tr>\n",
       "    <tr>\n",
       "      <th>two</th>\n",
       "      <td>-0.566645</td>\n",
       "      <td>-0.262706</td>\n",
       "      <td>0.380399</td>\n",
       "      <td>-1.726505</td>\n",
       "    </tr>\n",
       "    <tr>\n",
       "      <th rowspan=\"2\" valign=\"top\">baz</th>\n",
       "      <th>one</th>\n",
       "      <td>0.571944</td>\n",
       "      <td>-0.200059</td>\n",
       "      <td>-2.374243</td>\n",
       "      <td>-0.039289</td>\n",
       "    </tr>\n",
       "    <tr>\n",
       "      <th>two</th>\n",
       "      <td>-0.860156</td>\n",
       "      <td>0.383479</td>\n",
       "      <td>0.603938</td>\n",
       "      <td>-0.895870</td>\n",
       "    </tr>\n",
       "    <tr>\n",
       "      <th rowspan=\"2\" valign=\"top\">foo</th>\n",
       "      <th>one</th>\n",
       "      <td>-0.064831</td>\n",
       "      <td>-1.849499</td>\n",
       "      <td>1.126152</td>\n",
       "      <td>0.332392</td>\n",
       "    </tr>\n",
       "    <tr>\n",
       "      <th>two</th>\n",
       "      <td>0.096823</td>\n",
       "      <td>-0.727725</td>\n",
       "      <td>-0.642941</td>\n",
       "      <td>1.415346</td>\n",
       "    </tr>\n",
       "    <tr>\n",
       "      <th rowspan=\"2\" valign=\"top\">qux</th>\n",
       "      <th>one</th>\n",
       "      <td>-0.607421</td>\n",
       "      <td>-1.105434</td>\n",
       "      <td>0.971451</td>\n",
       "      <td>-0.103389</td>\n",
       "    </tr>\n",
       "    <tr>\n",
       "      <th>two</th>\n",
       "      <td>0.882680</td>\n",
       "      <td>0.297837</td>\n",
       "      <td>0.088523</td>\n",
       "      <td>0.841772</td>\n",
       "    </tr>\n",
       "  </tbody>\n",
       "</table>\n",
       "</div>"
      ],
      "text/plain": [
       "                0         1         2         3\n",
       "bar one  0.055904  0.099164 -1.682160 -1.557066\n",
       "    two -0.566645 -0.262706  0.380399 -1.726505\n",
       "baz one  0.571944 -0.200059 -2.374243 -0.039289\n",
       "    two -0.860156  0.383479  0.603938 -0.895870\n",
       "foo one -0.064831 -1.849499  1.126152  0.332392\n",
       "    two  0.096823 -0.727725 -0.642941  1.415346\n",
       "qux one -0.607421 -1.105434  0.971451 -0.103389\n",
       "    two  0.882680  0.297837  0.088523  0.841772"
      ]
     },
     "execution_count": 16,
     "metadata": {},
     "output_type": "execute_result"
    }
   ],
   "source": [
    "df = pd.DataFrame(np.random.randn(8, 4), index=arrays)\n",
    "df"
   ]
  },
  {
   "cell_type": "code",
   "execution_count": 24,
   "metadata": {
    "collapsed": false
   },
   "outputs": [
    {
     "data": {
      "text/plain": [
       "bar  one    0.055904\n",
       "     two   -0.566645\n",
       "baz  one    0.571944\n",
       "     two   -0.860156\n",
       "foo  one   -0.064831\n",
       "     two    0.096823\n",
       "qux  one   -0.607421\n",
       "     two    0.882680\n",
       "Name: 0, dtype: float64"
      ]
     },
     "execution_count": 24,
     "metadata": {},
     "output_type": "execute_result"
    }
   ],
   "source": [
    "df[0]"
   ]
  },
  {
   "cell_type": "code",
   "execution_count": 18,
   "metadata": {
    "collapsed": false
   },
   "outputs": [
    {
     "data": {
      "text/html": [
       "<div>\n",
       "<table border=\"1\" class=\"dataframe\">\n",
       "  <thead>\n",
       "    <tr>\n",
       "      <th></th>\n",
       "      <th colspan=\"2\" halign=\"left\">bar</th>\n",
       "      <th colspan=\"2\" halign=\"left\">baz</th>\n",
       "      <th colspan=\"2\" halign=\"left\">foo</th>\n",
       "      <th colspan=\"2\" halign=\"left\">qux</th>\n",
       "    </tr>\n",
       "    <tr>\n",
       "      <th></th>\n",
       "      <th>one</th>\n",
       "      <th>two</th>\n",
       "      <th>one</th>\n",
       "      <th>two</th>\n",
       "      <th>one</th>\n",
       "      <th>two</th>\n",
       "      <th>one</th>\n",
       "      <th>two</th>\n",
       "    </tr>\n",
       "  </thead>\n",
       "  <tbody>\n",
       "    <tr>\n",
       "      <th>0</th>\n",
       "      <td>0.055904</td>\n",
       "      <td>-0.566645</td>\n",
       "      <td>0.571944</td>\n",
       "      <td>-0.860156</td>\n",
       "      <td>-0.064831</td>\n",
       "      <td>0.096823</td>\n",
       "      <td>-0.607421</td>\n",
       "      <td>0.882680</td>\n",
       "    </tr>\n",
       "    <tr>\n",
       "      <th>1</th>\n",
       "      <td>0.099164</td>\n",
       "      <td>-0.262706</td>\n",
       "      <td>-0.200059</td>\n",
       "      <td>0.383479</td>\n",
       "      <td>-1.849499</td>\n",
       "      <td>-0.727725</td>\n",
       "      <td>-1.105434</td>\n",
       "      <td>0.297837</td>\n",
       "    </tr>\n",
       "    <tr>\n",
       "      <th>2</th>\n",
       "      <td>-1.682160</td>\n",
       "      <td>0.380399</td>\n",
       "      <td>-2.374243</td>\n",
       "      <td>0.603938</td>\n",
       "      <td>1.126152</td>\n",
       "      <td>-0.642941</td>\n",
       "      <td>0.971451</td>\n",
       "      <td>0.088523</td>\n",
       "    </tr>\n",
       "    <tr>\n",
       "      <th>3</th>\n",
       "      <td>-1.557066</td>\n",
       "      <td>-1.726505</td>\n",
       "      <td>-0.039289</td>\n",
       "      <td>-0.895870</td>\n",
       "      <td>0.332392</td>\n",
       "      <td>1.415346</td>\n",
       "      <td>-0.103389</td>\n",
       "      <td>0.841772</td>\n",
       "    </tr>\n",
       "  </tbody>\n",
       "</table>\n",
       "</div>"
      ],
      "text/plain": [
       "        bar                 baz                 foo                 qux  \\\n",
       "        one       two       one       two       one       two       one   \n",
       "0  0.055904 -0.566645  0.571944 -0.860156 -0.064831  0.096823 -0.607421   \n",
       "1  0.099164 -0.262706 -0.200059  0.383479 -1.849499 -0.727725 -1.105434   \n",
       "2 -1.682160  0.380399 -2.374243  0.603938  1.126152 -0.642941  0.971451   \n",
       "3 -1.557066 -1.726505 -0.039289 -0.895870  0.332392  1.415346 -0.103389   \n",
       "\n",
       "             \n",
       "        two  \n",
       "0  0.882680  \n",
       "1  0.297837  \n",
       "2  0.088523  \n",
       "3  0.841772  "
      ]
     },
     "execution_count": 18,
     "metadata": {},
     "output_type": "execute_result"
    }
   ],
   "source": [
    "df2 = df.T\n",
    "df2"
   ]
  },
  {
   "cell_type": "code",
   "execution_count": 20,
   "metadata": {
    "collapsed": false
   },
   "outputs": [
    {
     "data": {
      "text/plain": [
       "0   -0.860156\n",
       "1    0.383479\n",
       "2    0.603938\n",
       "3   -0.895870\n",
       "Name: two, dtype: float64"
      ]
     },
     "execution_count": 20,
     "metadata": {},
     "output_type": "execute_result"
    }
   ],
   "source": [
    "df2['baz']['two']"
   ]
  },
  {
   "cell_type": "code",
   "execution_count": null,
   "metadata": {
    "collapsed": true
   },
   "outputs": [],
   "source": []
  }
 ],
 "metadata": {
  "anaconda-cloud": {},
  "kernelspec": {
   "display_name": "Python [conda root]",
   "language": "python",
   "name": "conda-root-py"
  },
  "language_info": {
   "codemirror_mode": {
    "name": "ipython",
    "version": 3
   },
   "file_extension": ".py",
   "mimetype": "text/x-python",
   "name": "python",
   "nbconvert_exporter": "python",
   "pygments_lexer": "ipython3",
   "version": "3.5.2"
  }
 },
 "nbformat": 4,
 "nbformat_minor": 1
}
