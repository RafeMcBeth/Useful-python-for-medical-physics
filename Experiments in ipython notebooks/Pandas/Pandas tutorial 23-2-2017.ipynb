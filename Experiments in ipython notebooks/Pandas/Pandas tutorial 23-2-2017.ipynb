{
 "cells": [
  {
   "cell_type": "markdown",
   "metadata": {},
   "source": [
    "http://pandas.pydata.org/pandas-docs/stable/10min.html#min\n",
    "\n",
    "https://www.oreilly.com/learning/introducing-pandas-objects  basic intro\n",
    "\n",
    "http://stackoverflow.com/questions/13226029/benefits-of-pandas-multiindex multiindex\n",
    "\n",
    "Think of a dataframe as a specialization of a dictionary. Where a dictionary maps a key to a value, a data frame maps a column name to a Series of column data."
   ]
  },
  {
   "cell_type": "code",
   "execution_count": 1,
   "metadata": {
    "collapsed": true
   },
   "outputs": [],
   "source": [
    "import pandas as pd\n",
    "import numpy as np\n",
    "import matplotlib.pyplot as plt\n",
    "%matplotlib inline"
   ]
  },
  {
   "cell_type": "markdown",
   "metadata": {},
   "source": [
    "# From dict"
   ]
  },
  {
   "cell_type": "code",
   "execution_count": 6,
   "metadata": {
    "collapsed": false
   },
   "outputs": [
    {
     "data": {
      "text/plain": [
       "California    38332521\n",
       "Florida       19552860\n",
       "Illinois      12882135\n",
       "New York      19651127\n",
       "Texas         26448193\n",
       "dtype: int64"
      ]
     },
     "execution_count": 6,
     "metadata": {},
     "output_type": "execute_result"
    }
   ],
   "source": [
    "population_dict = {'California': 38332521,\n",
    "'Texas': 26448193,\n",
    "'New York': 19651127,\n",
    "'Florida': 19552860,\n",
    "'Illinois': 12882135}\n",
    "population = pd.Series(population_dict)\n",
    "population"
   ]
  },
  {
   "cell_type": "code",
   "execution_count": 7,
   "metadata": {
    "collapsed": false
   },
   "outputs": [
    {
     "data": {
      "text/plain": [
       "38332521"
      ]
     },
     "execution_count": 7,
     "metadata": {},
     "output_type": "execute_result"
    }
   ],
   "source": [
    "population.California"
   ]
  },
  {
   "cell_type": "markdown",
   "metadata": {},
   "source": [
    "# Time series"
   ]
  },
  {
   "cell_type": "code",
   "execution_count": 8,
   "metadata": {
    "collapsed": false
   },
   "outputs": [
    {
     "data": {
      "text/plain": [
       "0    1.0\n",
       "1    3.0\n",
       "2    5.0\n",
       "3    NaN\n",
       "4    6.0\n",
       "5    8.0\n",
       "dtype: float64"
      ]
     },
     "execution_count": 8,
     "metadata": {},
     "output_type": "execute_result"
    }
   ],
   "source": [
    "s = pd.Series([1,3,5,np.nan,6,8])   # create a series\n",
    "s"
   ]
  },
  {
   "cell_type": "code",
   "execution_count": 9,
   "metadata": {
    "collapsed": false
   },
   "outputs": [
    {
     "data": {
      "text/plain": [
       "DatetimeIndex(['2013-01-01', '2013-01-02', '2013-01-03', '2013-01-04',\n",
       "               '2013-01-05', '2013-01-06'],\n",
       "              dtype='datetime64[ns]', freq='D')"
      ]
     },
     "execution_count": 9,
     "metadata": {},
     "output_type": "execute_result"
    }
   ],
   "source": [
    "dates = pd.date_range('20130101', periods=6)   # create index dates\n",
    "dates"
   ]
  },
  {
   "cell_type": "code",
   "execution_count": 10,
   "metadata": {
    "collapsed": false
   },
   "outputs": [
    {
     "data": {
      "text/plain": [
       "Timestamp('2013-01-01 00:00:00', freq='D')"
      ]
     },
     "execution_count": 10,
     "metadata": {},
     "output_type": "execute_result"
    }
   ],
   "source": [
    "dates[0]"
   ]
  },
  {
   "cell_type": "code",
   "execution_count": 11,
   "metadata": {
    "collapsed": false
   },
   "outputs": [
    {
     "data": {
      "text/html": [
       "<div>\n",
       "<table border=\"1\" class=\"dataframe\">\n",
       "  <thead>\n",
       "    <tr style=\"text-align: right;\">\n",
       "      <th></th>\n",
       "      <th>A</th>\n",
       "      <th>B</th>\n",
       "      <th>C</th>\n",
       "      <th>D</th>\n",
       "    </tr>\n",
       "  </thead>\n",
       "  <tbody>\n",
       "    <tr>\n",
       "      <th>2013-01-01</th>\n",
       "      <td>-1.092319</td>\n",
       "      <td>-1.415208</td>\n",
       "      <td>-1.437517</td>\n",
       "      <td>-0.501226</td>\n",
       "    </tr>\n",
       "    <tr>\n",
       "      <th>2013-01-02</th>\n",
       "      <td>-0.061284</td>\n",
       "      <td>1.387541</td>\n",
       "      <td>0.062434</td>\n",
       "      <td>-1.304832</td>\n",
       "    </tr>\n",
       "    <tr>\n",
       "      <th>2013-01-03</th>\n",
       "      <td>-0.474857</td>\n",
       "      <td>2.022017</td>\n",
       "      <td>-0.095242</td>\n",
       "      <td>-0.825265</td>\n",
       "    </tr>\n",
       "    <tr>\n",
       "      <th>2013-01-04</th>\n",
       "      <td>-0.510466</td>\n",
       "      <td>-0.333775</td>\n",
       "      <td>1.293678</td>\n",
       "      <td>0.687632</td>\n",
       "    </tr>\n",
       "    <tr>\n",
       "      <th>2013-01-05</th>\n",
       "      <td>-0.508292</td>\n",
       "      <td>-0.385552</td>\n",
       "      <td>0.461142</td>\n",
       "      <td>-1.187416</td>\n",
       "    </tr>\n",
       "    <tr>\n",
       "      <th>2013-01-06</th>\n",
       "      <td>2.100612</td>\n",
       "      <td>1.463034</td>\n",
       "      <td>0.998500</td>\n",
       "      <td>1.601639</td>\n",
       "    </tr>\n",
       "  </tbody>\n",
       "</table>\n",
       "</div>"
      ],
      "text/plain": [
       "                   A         B         C         D\n",
       "2013-01-01 -1.092319 -1.415208 -1.437517 -0.501226\n",
       "2013-01-02 -0.061284  1.387541  0.062434 -1.304832\n",
       "2013-01-03 -0.474857  2.022017 -0.095242 -0.825265\n",
       "2013-01-04 -0.510466 -0.333775  1.293678  0.687632\n",
       "2013-01-05 -0.508292 -0.385552  0.461142 -1.187416\n",
       "2013-01-06  2.100612  1.463034  0.998500  1.601639"
      ]
     },
     "execution_count": 11,
     "metadata": {},
     "output_type": "execute_result"
    }
   ],
   "source": [
    "df = pd.DataFrame(np.random.randn(6,4), index=dates, columns=list('ABCD')) # create a dataframe\n",
    "df"
   ]
  },
  {
   "cell_type": "code",
   "execution_count": 12,
   "metadata": {
    "collapsed": false
   },
   "outputs": [
    {
     "data": {
      "text/plain": [
       "A   -1.092319\n",
       "B   -1.415208\n",
       "C   -1.437517\n",
       "D   -0.501226\n",
       "Name: 2013-01-01 00:00:00, dtype: float64"
      ]
     },
     "execution_count": 12,
     "metadata": {},
     "output_type": "execute_result"
    }
   ],
   "source": [
    "df.iloc[0]"
   ]
  },
  {
   "cell_type": "code",
   "execution_count": 13,
   "metadata": {
    "collapsed": false
   },
   "outputs": [
    {
     "data": {
      "text/plain": [
       "A    3.192931\n",
       "B    3.437225\n",
       "C    2.731195\n",
       "D    2.906471\n",
       "dtype: float64"
      ]
     },
     "execution_count": 13,
     "metadata": {},
     "output_type": "execute_result"
    }
   ],
   "source": [
    "df.apply(lambda x: x.max() - x.min())"
   ]
  },
  {
   "cell_type": "code",
   "execution_count": 14,
   "metadata": {
    "collapsed": false
   },
   "outputs": [
    {
     "data": {
      "text/plain": [
       "<matplotlib.axes._subplots.AxesSubplot at 0x9b3f190>"
      ]
     },
     "execution_count": 14,
     "metadata": {},
     "output_type": "execute_result"
    },
    {
     "data": {
      "image/png": "[encoded data removed]",
      "text/plain": [
       "<matplotlib.figure.Figure at 0x9b09870>"
      ]
     },
     "metadata": {},
     "output_type": "display_data"
    }
   ],
   "source": [
    "df.plot()"
   ]
  },
  {
   "cell_type": "code",
   "execution_count": 57,
   "metadata": {
    "collapsed": false
   },
   "outputs": [
    {
     "data": {
      "text/plain": [
       "array([[<matplotlib.axes._subplots.AxesSubplot object at 0x115067860>,\n",
       "        <matplotlib.axes._subplots.AxesSubplot object at 0x1178a1d68>],\n",
       "       [<matplotlib.axes._subplots.AxesSubplot object at 0x11796b0f0>,\n",
       "        <matplotlib.axes._subplots.AxesSubplot object at 0x11799f780>]], dtype=object)"
      ]
     },
     "execution_count": 57,
     "metadata": {},
     "output_type": "execute_result"
    },
    {
     "data": {
      "image/png": "[encoded data removed]",
      "text/plain": [
       "<matplotlib.figure.Figure at 0x1150489b0>"
      ]
     },
     "metadata": {},
     "output_type": "display_data"
    }
   ],
   "source": [
    "df.hist()"
   ]
  },
  {
   "cell_type": "code",
   "execution_count": 15,
   "metadata": {
    "collapsed": false
   },
   "outputs": [
    {
     "data": {
      "text/plain": [
       "DatetimeIndex(['2013-01-01', '2013-01-02', '2013-01-03', '2013-01-04',\n",
       "               '2013-01-05', '2013-01-06'],\n",
       "              dtype='datetime64[ns]', freq='D')"
      ]
     },
     "execution_count": 15,
     "metadata": {},
     "output_type": "execute_result"
    }
   ],
   "source": [
    "df.index"
   ]
  },
  {
   "cell_type": "code",
   "execution_count": 16,
   "metadata": {
    "collapsed": false
   },
   "outputs": [
    {
     "data": {
      "text/plain": [
       "Index(['A', 'B', 'C', 'D'], dtype='object')"
      ]
     },
     "execution_count": 16,
     "metadata": {},
     "output_type": "execute_result"
    }
   ],
   "source": [
    "df.columns"
   ]
  },
  {
   "cell_type": "code",
   "execution_count": 17,
   "metadata": {
    "collapsed": false
   },
   "outputs": [
    {
     "data": {
      "text/plain": [
       "array([[-1.09231935, -1.41520805, -1.43751661, -0.50122569],\n",
       "       [-0.06128408,  1.38754076,  0.06243358, -1.30483245],\n",
       "       [-0.47485671,  2.02201706, -0.09524218, -0.82526528],\n",
       "       [-0.51046619, -0.33377504,  1.29367805,  0.68763225],\n",
       "       [-0.50829225, -0.38555168,  0.46114165, -1.18741596],\n",
       "       [ 2.10061151,  1.46303448,  0.99849952,  1.60163864]])"
      ]
     },
     "execution_count": 17,
     "metadata": {},
     "output_type": "execute_result"
    }
   ],
   "source": [
    "df.values  # underlying numpy data"
   ]
  },
  {
   "cell_type": "code",
   "execution_count": 18,
   "metadata": {
    "collapsed": false
   },
   "outputs": [
    {
     "data": {
      "text/html": [
       "<div>\n",
       "<table border=\"1\" class=\"dataframe\">\n",
       "  <thead>\n",
       "    <tr style=\"text-align: right;\">\n",
       "      <th></th>\n",
       "      <th>A</th>\n",
       "      <th>B</th>\n",
       "      <th>C</th>\n",
       "      <th>D</th>\n",
       "    </tr>\n",
       "  </thead>\n",
       "  <tbody>\n",
       "    <tr>\n",
       "      <th>count</th>\n",
       "      <td>6.000000</td>\n",
       "      <td>6.000000</td>\n",
       "      <td>6.000000</td>\n",
       "      <td>6.000000</td>\n",
       "    </tr>\n",
       "    <tr>\n",
       "      <th>mean</th>\n",
       "      <td>-0.091101</td>\n",
       "      <td>0.456343</td>\n",
       "      <td>0.213832</td>\n",
       "      <td>-0.254911</td>\n",
       "    </tr>\n",
       "    <tr>\n",
       "      <th>std</th>\n",
       "      <td>1.122864</td>\n",
       "      <td>1.354080</td>\n",
       "      <td>0.968332</td>\n",
       "      <td>1.156982</td>\n",
       "    </tr>\n",
       "    <tr>\n",
       "      <th>min</th>\n",
       "      <td>-1.092319</td>\n",
       "      <td>-1.415208</td>\n",
       "      <td>-1.437517</td>\n",
       "      <td>-1.304832</td>\n",
       "    </tr>\n",
       "    <tr>\n",
       "      <th>25%</th>\n",
       "      <td>-0.509923</td>\n",
       "      <td>-0.372608</td>\n",
       "      <td>-0.055823</td>\n",
       "      <td>-1.096878</td>\n",
       "    </tr>\n",
       "    <tr>\n",
       "      <th>50%</th>\n",
       "      <td>-0.491574</td>\n",
       "      <td>0.526883</td>\n",
       "      <td>0.261788</td>\n",
       "      <td>-0.663245</td>\n",
       "    </tr>\n",
       "    <tr>\n",
       "      <th>75%</th>\n",
       "      <td>-0.164677</td>\n",
       "      <td>1.444161</td>\n",
       "      <td>0.864160</td>\n",
       "      <td>0.390418</td>\n",
       "    </tr>\n",
       "    <tr>\n",
       "      <th>max</th>\n",
       "      <td>2.100612</td>\n",
       "      <td>2.022017</td>\n",
       "      <td>1.293678</td>\n",
       "      <td>1.601639</td>\n",
       "    </tr>\n",
       "  </tbody>\n",
       "</table>\n",
       "</div>"
      ],
      "text/plain": [
       "              A         B         C         D\n",
       "count  6.000000  6.000000  6.000000  6.000000\n",
       "mean  -0.091101  0.456343  0.213832 -0.254911\n",
       "std    1.122864  1.354080  0.968332  1.156982\n",
       "min   -1.092319 -1.415208 -1.437517 -1.304832\n",
       "25%   -0.509923 -0.372608 -0.055823 -1.096878\n",
       "50%   -0.491574  0.526883  0.261788 -0.663245\n",
       "75%   -0.164677  1.444161  0.864160  0.390418\n",
       "max    2.100612  2.022017  1.293678  1.601639"
      ]
     },
     "execution_count": 18,
     "metadata": {},
     "output_type": "execute_result"
    }
   ],
   "source": [
    "df.describe()  # summary stats"
   ]
  },
  {
   "cell_type": "code",
   "execution_count": 19,
   "metadata": {
    "collapsed": false
   },
   "outputs": [
    {
     "data": {
      "text/html": [
       "<div>\n",
       "<table border=\"1\" class=\"dataframe\">\n",
       "  <thead>\n",
       "    <tr style=\"text-align: right;\">\n",
       "      <th></th>\n",
       "      <th>D</th>\n",
       "      <th>C</th>\n",
       "      <th>B</th>\n",
       "      <th>A</th>\n",
       "    </tr>\n",
       "  </thead>\n",
       "  <tbody>\n",
       "    <tr>\n",
       "      <th>2013-01-01</th>\n",
       "      <td>-0.501226</td>\n",
       "      <td>-1.437517</td>\n",
       "      <td>-1.415208</td>\n",
       "      <td>-1.092319</td>\n",
       "    </tr>\n",
       "    <tr>\n",
       "      <th>2013-01-02</th>\n",
       "      <td>-1.304832</td>\n",
       "      <td>0.062434</td>\n",
       "      <td>1.387541</td>\n",
       "      <td>-0.061284</td>\n",
       "    </tr>\n",
       "    <tr>\n",
       "      <th>2013-01-03</th>\n",
       "      <td>-0.825265</td>\n",
       "      <td>-0.095242</td>\n",
       "      <td>2.022017</td>\n",
       "      <td>-0.474857</td>\n",
       "    </tr>\n",
       "    <tr>\n",
       "      <th>2013-01-04</th>\n",
       "      <td>0.687632</td>\n",
       "      <td>1.293678</td>\n",
       "      <td>-0.333775</td>\n",
       "      <td>-0.510466</td>\n",
       "    </tr>\n",
       "    <tr>\n",
       "      <th>2013-01-05</th>\n",
       "      <td>-1.187416</td>\n",
       "      <td>0.461142</td>\n",
       "      <td>-0.385552</td>\n",
       "      <td>-0.508292</td>\n",
       "    </tr>\n",
       "    <tr>\n",
       "      <th>2013-01-06</th>\n",
       "      <td>1.601639</td>\n",
       "      <td>0.998500</td>\n",
       "      <td>1.463034</td>\n",
       "      <td>2.100612</td>\n",
       "    </tr>\n",
       "  </tbody>\n",
       "</table>\n",
       "</div>"
      ],
      "text/plain": [
       "                   D         C         B         A\n",
       "2013-01-01 -0.501226 -1.437517 -1.415208 -1.092319\n",
       "2013-01-02 -1.304832  0.062434  1.387541 -0.061284\n",
       "2013-01-03 -0.825265 -0.095242  2.022017 -0.474857\n",
       "2013-01-04  0.687632  1.293678 -0.333775 -0.510466\n",
       "2013-01-05 -1.187416  0.461142 -0.385552 -0.508292\n",
       "2013-01-06  1.601639  0.998500  1.463034  2.100612"
      ]
     },
     "execution_count": 19,
     "metadata": {},
     "output_type": "execute_result"
    }
   ],
   "source": [
    "df.sort_index(axis=1, ascending=False) # sort the index"
   ]
  },
  {
   "cell_type": "code",
   "execution_count": 20,
   "metadata": {
    "collapsed": false
   },
   "outputs": [
    {
     "data": {
      "text/html": [
       "<div>\n",
       "<table border=\"1\" class=\"dataframe\">\n",
       "  <thead>\n",
       "    <tr style=\"text-align: right;\">\n",
       "      <th></th>\n",
       "      <th>A</th>\n",
       "      <th>B</th>\n",
       "      <th>C</th>\n",
       "      <th>D</th>\n",
       "    </tr>\n",
       "  </thead>\n",
       "  <tbody>\n",
       "    <tr>\n",
       "      <th>2013-01-01</th>\n",
       "      <td>-1.092319</td>\n",
       "      <td>-1.415208</td>\n",
       "      <td>-1.437517</td>\n",
       "      <td>-0.501226</td>\n",
       "    </tr>\n",
       "    <tr>\n",
       "      <th>2013-01-05</th>\n",
       "      <td>-0.508292</td>\n",
       "      <td>-0.385552</td>\n",
       "      <td>0.461142</td>\n",
       "      <td>-1.187416</td>\n",
       "    </tr>\n",
       "    <tr>\n",
       "      <th>2013-01-04</th>\n",
       "      <td>-0.510466</td>\n",
       "      <td>-0.333775</td>\n",
       "      <td>1.293678</td>\n",
       "      <td>0.687632</td>\n",
       "    </tr>\n",
       "    <tr>\n",
       "      <th>2013-01-02</th>\n",
       "      <td>-0.061284</td>\n",
       "      <td>1.387541</td>\n",
       "      <td>0.062434</td>\n",
       "      <td>-1.304832</td>\n",
       "    </tr>\n",
       "    <tr>\n",
       "      <th>2013-01-06</th>\n",
       "      <td>2.100612</td>\n",
       "      <td>1.463034</td>\n",
       "      <td>0.998500</td>\n",
       "      <td>1.601639</td>\n",
       "    </tr>\n",
       "    <tr>\n",
       "      <th>2013-01-03</th>\n",
       "      <td>-0.474857</td>\n",
       "      <td>2.022017</td>\n",
       "      <td>-0.095242</td>\n",
       "      <td>-0.825265</td>\n",
       "    </tr>\n",
       "  </tbody>\n",
       "</table>\n",
       "</div>"
      ],
      "text/plain": [
       "                   A         B         C         D\n",
       "2013-01-01 -1.092319 -1.415208 -1.437517 -0.501226\n",
       "2013-01-05 -0.508292 -0.385552  0.461142 -1.187416\n",
       "2013-01-04 -0.510466 -0.333775  1.293678  0.687632\n",
       "2013-01-02 -0.061284  1.387541  0.062434 -1.304832\n",
       "2013-01-06  2.100612  1.463034  0.998500  1.601639\n",
       "2013-01-03 -0.474857  2.022017 -0.095242 -0.825265"
      ]
     },
     "execution_count": 20,
     "metadata": {},
     "output_type": "execute_result"
    }
   ],
   "source": [
    "df.sort_values(by='B')  # sort values"
   ]
  },
  {
   "cell_type": "code",
   "execution_count": 21,
   "metadata": {
    "collapsed": false
   },
   "outputs": [
    {
     "data": {
      "text/plain": [
       "2013-01-01   -1.092319\n",
       "2013-01-02   -0.061284\n",
       "2013-01-03   -0.474857\n",
       "2013-01-04   -0.510466\n",
       "2013-01-05   -0.508292\n",
       "2013-01-06    2.100612\n",
       "Freq: D, Name: A, dtype: float64"
      ]
     },
     "execution_count": 21,
     "metadata": {},
     "output_type": "execute_result"
    }
   ],
   "source": [
    "df['A']  # get a single col"
   ]
  },
  {
   "cell_type": "code",
   "execution_count": 22,
   "metadata": {
    "collapsed": false
   },
   "outputs": [
    {
     "data": {
      "text/plain": [
       "2013-01-01   -1.092319\n",
       "2013-01-02   -0.061284\n",
       "2013-01-03   -0.474857\n",
       "2013-01-04   -0.510466\n",
       "2013-01-05   -0.508292\n",
       "2013-01-06    2.100612\n",
       "Freq: D, Name: A, dtype: float64"
      ]
     },
     "execution_count": 22,
     "metadata": {},
     "output_type": "execute_result"
    }
   ],
   "source": [
    "df.A"
   ]
  },
  {
   "cell_type": "markdown",
   "metadata": {},
   "source": [
    "Indexing http://pandas.pydata.org/pandas-docs/stable/indexing.html#different-choices-for-indexing\n",
    "\n",
    ".loc is primarily label based\n",
    "\n",
    ".iloc is primarily integer position based \n",
    "\n",
    ".ix supports mixed integer and label based access. I\n",
    "\n"
   ]
  },
  {
   "cell_type": "code",
   "execution_count": 23,
   "metadata": {
    "collapsed": false
   },
   "outputs": [
    {
     "data": {
      "text/html": [
       "<div>\n",
       "<table border=\"1\" class=\"dataframe\">\n",
       "  <thead>\n",
       "    <tr style=\"text-align: right;\">\n",
       "      <th></th>\n",
       "      <th>A</th>\n",
       "      <th>B</th>\n",
       "      <th>C</th>\n",
       "      <th>D</th>\n",
       "    </tr>\n",
       "  </thead>\n",
       "  <tbody>\n",
       "    <tr>\n",
       "      <th>2013-01-01</th>\n",
       "      <td>-1.092319</td>\n",
       "      <td>-1.415208</td>\n",
       "      <td>-1.437517</td>\n",
       "      <td>-0.501226</td>\n",
       "    </tr>\n",
       "    <tr>\n",
       "      <th>2013-01-02</th>\n",
       "      <td>-0.061284</td>\n",
       "      <td>1.387541</td>\n",
       "      <td>0.062434</td>\n",
       "      <td>-1.304832</td>\n",
       "    </tr>\n",
       "    <tr>\n",
       "      <th>2013-01-03</th>\n",
       "      <td>-0.474857</td>\n",
       "      <td>2.022017</td>\n",
       "      <td>-0.095242</td>\n",
       "      <td>-0.825265</td>\n",
       "    </tr>\n",
       "  </tbody>\n",
       "</table>\n",
       "</div>"
      ],
      "text/plain": [
       "                   A         B         C         D\n",
       "2013-01-01 -1.092319 -1.415208 -1.437517 -0.501226\n",
       "2013-01-02 -0.061284  1.387541  0.062434 -1.304832\n",
       "2013-01-03 -0.474857  2.022017 -0.095242 -0.825265"
      ]
     },
     "execution_count": 23,
     "metadata": {},
     "output_type": "execute_result"
    }
   ],
   "source": [
    "df[:3]   # get first 3 rows"
   ]
  },
  {
   "cell_type": "code",
   "execution_count": 24,
   "metadata": {
    "collapsed": false
   },
   "outputs": [
    {
     "data": {
      "text/plain": [
       "A   -1.092319\n",
       "B   -1.415208\n",
       "C   -1.437517\n",
       "D   -0.501226\n",
       "Name: 2013-01-01 00:00:00, dtype: float64"
      ]
     },
     "execution_count": 24,
     "metadata": {},
     "output_type": "execute_result"
    }
   ],
   "source": [
    "df.loc[dates[0]]  # select by label"
   ]
  },
  {
   "cell_type": "code",
   "execution_count": 25,
   "metadata": {
    "collapsed": false
   },
   "outputs": [
    {
     "data": {
      "text/html": [
       "<div>\n",
       "<table border=\"1\" class=\"dataframe\">\n",
       "  <thead>\n",
       "    <tr style=\"text-align: right;\">\n",
       "      <th></th>\n",
       "      <th>A</th>\n",
       "      <th>B</th>\n",
       "    </tr>\n",
       "  </thead>\n",
       "  <tbody>\n",
       "    <tr>\n",
       "      <th>2013-01-01</th>\n",
       "      <td>-1.092319</td>\n",
       "      <td>-1.415208</td>\n",
       "    </tr>\n",
       "    <tr>\n",
       "      <th>2013-01-02</th>\n",
       "      <td>-0.061284</td>\n",
       "      <td>1.387541</td>\n",
       "    </tr>\n",
       "    <tr>\n",
       "      <th>2013-01-03</th>\n",
       "      <td>-0.474857</td>\n",
       "      <td>2.022017</td>\n",
       "    </tr>\n",
       "    <tr>\n",
       "      <th>2013-01-04</th>\n",
       "      <td>-0.510466</td>\n",
       "      <td>-0.333775</td>\n",
       "    </tr>\n",
       "    <tr>\n",
       "      <th>2013-01-05</th>\n",
       "      <td>-0.508292</td>\n",
       "      <td>-0.385552</td>\n",
       "    </tr>\n",
       "    <tr>\n",
       "      <th>2013-01-06</th>\n",
       "      <td>2.100612</td>\n",
       "      <td>1.463034</td>\n",
       "    </tr>\n",
       "  </tbody>\n",
       "</table>\n",
       "</div>"
      ],
      "text/plain": [
       "                   A         B\n",
       "2013-01-01 -1.092319 -1.415208\n",
       "2013-01-02 -0.061284  1.387541\n",
       "2013-01-03 -0.474857  2.022017\n",
       "2013-01-04 -0.510466 -0.333775\n",
       "2013-01-05 -0.508292 -0.385552\n",
       "2013-01-06  2.100612  1.463034"
      ]
     },
     "execution_count": 25,
     "metadata": {},
     "output_type": "execute_result"
    }
   ],
   "source": [
    "df.loc[:,['A','B']]  # Selecting on a multi-axis by label, indexing    df.loc[row_indexer,column_indexer]"
   ]
  },
  {
   "cell_type": "markdown",
   "metadata": {},
   "source": [
    "http://pandas.pydata.org/pandas-docs/stable/indexing.html#the-lookup-method\n",
    "\n",
    "http://stackoverflow.com/questions/34519402/lookup-table-errors\n",
    "\n",
    "df.lookup: must pass iterables, row and col lookup lists. Returns an array. use pd.DataFrame() to return a dataframe"
   ]
  },
  {
   "cell_type": "code",
   "execution_count": 26,
   "metadata": {
    "collapsed": false
   },
   "outputs": [
    {
     "data": {
      "text/plain": [
       "array([-1.41520805])"
      ]
     },
     "execution_count": 26,
     "metadata": {},
     "output_type": "execute_result"
    }
   ],
   "source": [
    "df.lookup([dates[0]], ['B'])    # index, column"
   ]
  },
  {
   "cell_type": "markdown",
   "metadata": {},
   "source": [
    "# Merging"
   ]
  },
  {
   "cell_type": "markdown",
   "metadata": {},
   "source": [
    "http://pandas.pydata.org/pandas-docs/stable/10min.html#merge"
   ]
  },
  {
   "cell_type": "code",
   "execution_count": 30,
   "metadata": {
    "collapsed": false
   },
   "outputs": [
    {
     "data": {
      "text/html": [
       "<div>\n",
       "<table border=\"1\" class=\"dataframe\">\n",
       "  <thead>\n",
       "    <tr style=\"text-align: right;\">\n",
       "      <th></th>\n",
       "      <th>0</th>\n",
       "      <th>1</th>\n",
       "      <th>2</th>\n",
       "      <th>3</th>\n",
       "    </tr>\n",
       "  </thead>\n",
       "  <tbody>\n",
       "    <tr>\n",
       "      <th>0</th>\n",
       "      <td>0.569619</td>\n",
       "      <td>-0.542060</td>\n",
       "      <td>-0.723441</td>\n",
       "      <td>-1.803133</td>\n",
       "    </tr>\n",
       "    <tr>\n",
       "      <th>1</th>\n",
       "      <td>-0.570874</td>\n",
       "      <td>-0.061683</td>\n",
       "      <td>-0.935241</td>\n",
       "      <td>-1.045470</td>\n",
       "    </tr>\n",
       "    <tr>\n",
       "      <th>2</th>\n",
       "      <td>-0.711476</td>\n",
       "      <td>-0.200500</td>\n",
       "      <td>-1.002272</td>\n",
       "      <td>-0.777697</td>\n",
       "    </tr>\n",
       "    <tr>\n",
       "      <th>3</th>\n",
       "      <td>-1.447636</td>\n",
       "      <td>0.089570</td>\n",
       "      <td>-0.359010</td>\n",
       "      <td>-1.662719</td>\n",
       "    </tr>\n",
       "    <tr>\n",
       "      <th>4</th>\n",
       "      <td>0.305568</td>\n",
       "      <td>-1.863350</td>\n",
       "      <td>0.470495</td>\n",
       "      <td>-0.059648</td>\n",
       "    </tr>\n",
       "    <tr>\n",
       "      <th>5</th>\n",
       "      <td>0.234776</td>\n",
       "      <td>0.181824</td>\n",
       "      <td>0.300735</td>\n",
       "      <td>-0.157457</td>\n",
       "    </tr>\n",
       "    <tr>\n",
       "      <th>6</th>\n",
       "      <td>-1.681815</td>\n",
       "      <td>-0.451571</td>\n",
       "      <td>-0.863565</td>\n",
       "      <td>-0.343392</td>\n",
       "    </tr>\n",
       "    <tr>\n",
       "      <th>7</th>\n",
       "      <td>0.208662</td>\n",
       "      <td>0.636412</td>\n",
       "      <td>-1.470376</td>\n",
       "      <td>-0.157605</td>\n",
       "    </tr>\n",
       "    <tr>\n",
       "      <th>8</th>\n",
       "      <td>-1.649651</td>\n",
       "      <td>-0.285180</td>\n",
       "      <td>0.507032</td>\n",
       "      <td>1.500270</td>\n",
       "    </tr>\n",
       "    <tr>\n",
       "      <th>9</th>\n",
       "      <td>-0.963105</td>\n",
       "      <td>1.425267</td>\n",
       "      <td>-0.129911</td>\n",
       "      <td>1.573461</td>\n",
       "    </tr>\n",
       "  </tbody>\n",
       "</table>\n",
       "</div>"
      ],
      "text/plain": [
       "          0         1         2         3\n",
       "0  0.569619 -0.542060 -0.723441 -1.803133\n",
       "1 -0.570874 -0.061683 -0.935241 -1.045470\n",
       "2 -0.711476 -0.200500 -1.002272 -0.777697\n",
       "3 -1.447636  0.089570 -0.359010 -1.662719\n",
       "4  0.305568 -1.863350  0.470495 -0.059648\n",
       "5  0.234776  0.181824  0.300735 -0.157457\n",
       "6 -1.681815 -0.451571 -0.863565 -0.343392\n",
       "7  0.208662  0.636412 -1.470376 -0.157605\n",
       "8 -1.649651 -0.285180  0.507032  1.500270\n",
       "9 -0.963105  1.425267 -0.129911  1.573461"
      ]
     },
     "execution_count": 30,
     "metadata": {},
     "output_type": "execute_result"
    }
   ],
   "source": [
    "df = pd.DataFrame(np.random.randn(10, 4))\n",
    "df"
   ]
  },
  {
   "cell_type": "code",
   "execution_count": 27,
   "metadata": {
    "collapsed": false
   },
   "outputs": [
    {
     "data": {
      "text/plain": [
       "[                   A         B         C         D\n",
       " 2013-01-01 -1.092319 -1.415208 -1.437517 -0.501226\n",
       " 2013-01-02 -0.061284  1.387541  0.062434 -1.304832\n",
       " 2013-01-03 -0.474857  2.022017 -0.095242 -0.825265,\n",
       "                    A         B         C         D\n",
       " 2013-01-04 -0.510466 -0.333775  1.293678  0.687632\n",
       " 2013-01-05 -0.508292 -0.385552  0.461142 -1.187416\n",
       " 2013-01-06  2.100612  1.463034  0.998500  1.601639,\n",
       " Empty DataFrame\n",
       " Columns: [A, B, C, D]\n",
       " Index: []]"
      ]
     },
     "execution_count": 27,
     "metadata": {},
     "output_type": "execute_result"
    }
   ],
   "source": [
    "pieces = [df[:3], df[3:7], df[7:]]    # list of dataframes\n",
    "pieces"
   ]
  },
  {
   "cell_type": "code",
   "execution_count": 28,
   "metadata": {
    "collapsed": false
   },
   "outputs": [
    {
     "data": {
      "text/html": [
       "<div>\n",
       "<table border=\"1\" class=\"dataframe\">\n",
       "  <thead>\n",
       "    <tr style=\"text-align: right;\">\n",
       "      <th></th>\n",
       "      <th>A</th>\n",
       "      <th>B</th>\n",
       "      <th>C</th>\n",
       "      <th>D</th>\n",
       "    </tr>\n",
       "  </thead>\n",
       "  <tbody>\n",
       "    <tr>\n",
       "      <th>2013-01-01</th>\n",
       "      <td>-1.092319</td>\n",
       "      <td>-1.415208</td>\n",
       "      <td>-1.437517</td>\n",
       "      <td>-0.501226</td>\n",
       "    </tr>\n",
       "    <tr>\n",
       "      <th>2013-01-02</th>\n",
       "      <td>-0.061284</td>\n",
       "      <td>1.387541</td>\n",
       "      <td>0.062434</td>\n",
       "      <td>-1.304832</td>\n",
       "    </tr>\n",
       "    <tr>\n",
       "      <th>2013-01-03</th>\n",
       "      <td>-0.474857</td>\n",
       "      <td>2.022017</td>\n",
       "      <td>-0.095242</td>\n",
       "      <td>-0.825265</td>\n",
       "    </tr>\n",
       "    <tr>\n",
       "      <th>2013-01-04</th>\n",
       "      <td>-0.510466</td>\n",
       "      <td>-0.333775</td>\n",
       "      <td>1.293678</td>\n",
       "      <td>0.687632</td>\n",
       "    </tr>\n",
       "    <tr>\n",
       "      <th>2013-01-05</th>\n",
       "      <td>-0.508292</td>\n",
       "      <td>-0.385552</td>\n",
       "      <td>0.461142</td>\n",
       "      <td>-1.187416</td>\n",
       "    </tr>\n",
       "    <tr>\n",
       "      <th>2013-01-06</th>\n",
       "      <td>2.100612</td>\n",
       "      <td>1.463034</td>\n",
       "      <td>0.998500</td>\n",
       "      <td>1.601639</td>\n",
       "    </tr>\n",
       "  </tbody>\n",
       "</table>\n",
       "</div>"
      ],
      "text/plain": [
       "                   A         B         C         D\n",
       "2013-01-01 -1.092319 -1.415208 -1.437517 -0.501226\n",
       "2013-01-02 -0.061284  1.387541  0.062434 -1.304832\n",
       "2013-01-03 -0.474857  2.022017 -0.095242 -0.825265\n",
       "2013-01-04 -0.510466 -0.333775  1.293678  0.687632\n",
       "2013-01-05 -0.508292 -0.385552  0.461142 -1.187416\n",
       "2013-01-06  2.100612  1.463034  0.998500  1.601639"
      ]
     },
     "execution_count": 28,
     "metadata": {},
     "output_type": "execute_result"
    }
   ],
   "source": [
    "pd.concat(pieces)"
   ]
  },
  {
   "cell_type": "markdown",
   "metadata": {},
   "source": [
    "# SQL type Joining"
   ]
  },
  {
   "cell_type": "code",
   "execution_count": 29,
   "metadata": {
    "collapsed": false
   },
   "outputs": [
    {
     "data": {
      "text/html": [
       "<div>\n",
       "<table border=\"1\" class=\"dataframe\">\n",
       "  <thead>\n",
       "    <tr style=\"text-align: right;\">\n",
       "      <th></th>\n",
       "      <th>key</th>\n",
       "      <th>lval</th>\n",
       "    </tr>\n",
       "  </thead>\n",
       "  <tbody>\n",
       "    <tr>\n",
       "      <th>0</th>\n",
       "      <td>foo</td>\n",
       "      <td>1</td>\n",
       "    </tr>\n",
       "    <tr>\n",
       "      <th>1</th>\n",
       "      <td>bar</td>\n",
       "      <td>2</td>\n",
       "    </tr>\n",
       "    <tr>\n",
       "      <th>2</th>\n",
       "      <td>paz</td>\n",
       "      <td>3</td>\n",
       "    </tr>\n",
       "  </tbody>\n",
       "</table>\n",
       "</div>"
      ],
      "text/plain": [
       "   key  lval\n",
       "0  foo     1\n",
       "1  bar     2\n",
       "2  paz     3"
      ]
     },
     "execution_count": 29,
     "metadata": {},
     "output_type": "execute_result"
    }
   ],
   "source": [
    "left = pd.DataFrame({'key': ['foo', 'bar', 'paz'], 'lval': [1, 2, 3]})\n",
    "left"
   ]
  },
  {
   "cell_type": "code",
   "execution_count": 47,
   "metadata": {
    "collapsed": false
   },
   "outputs": [
    {
     "data": {
      "text/html": [
       "<div>\n",
       "<table border=\"1\" class=\"dataframe\">\n",
       "  <thead>\n",
       "    <tr style=\"text-align: right;\">\n",
       "      <th></th>\n",
       "      <th>key</th>\n",
       "      <th>rval</th>\n",
       "    </tr>\n",
       "  </thead>\n",
       "  <tbody>\n",
       "    <tr>\n",
       "      <th>0</th>\n",
       "      <td>paz</td>\n",
       "      <td>4</td>\n",
       "    </tr>\n",
       "    <tr>\n",
       "      <th>1</th>\n",
       "      <td>bar</td>\n",
       "      <td>5</td>\n",
       "    </tr>\n",
       "    <tr>\n",
       "      <th>2</th>\n",
       "      <td>foo</td>\n",
       "      <td>6</td>\n",
       "    </tr>\n",
       "  </tbody>\n",
       "</table>\n",
       "</div>"
      ],
      "text/plain": [
       "   key  rval\n",
       "0  paz     4\n",
       "1  bar     5\n",
       "2  foo     6"
      ]
     },
     "execution_count": 47,
     "metadata": {},
     "output_type": "execute_result"
    }
   ],
   "source": [
    "right = pd.DataFrame({'key': [ 'paz', 'bar', 'foo'], 'rval': [4, 5, 6]})\n",
    "right"
   ]
  },
  {
   "cell_type": "code",
   "execution_count": 50,
   "metadata": {
    "collapsed": false
   },
   "outputs": [
    {
     "data": {
      "text/html": [
       "<div>\n",
       "<table border=\"1\" class=\"dataframe\">\n",
       "  <thead>\n",
       "    <tr style=\"text-align: right;\">\n",
       "      <th></th>\n",
       "      <th>key</th>\n",
       "      <th>lval</th>\n",
       "      <th>rval</th>\n",
       "    </tr>\n",
       "  </thead>\n",
       "  <tbody>\n",
       "    <tr>\n",
       "      <th>0</th>\n",
       "      <td>foo</td>\n",
       "      <td>1</td>\n",
       "      <td>6</td>\n",
       "    </tr>\n",
       "    <tr>\n",
       "      <th>1</th>\n",
       "      <td>bar</td>\n",
       "      <td>2</td>\n",
       "      <td>5</td>\n",
       "    </tr>\n",
       "    <tr>\n",
       "      <th>2</th>\n",
       "      <td>paz</td>\n",
       "      <td>3</td>\n",
       "      <td>4</td>\n",
       "    </tr>\n",
       "  </tbody>\n",
       "</table>\n",
       "</div>"
      ],
      "text/plain": [
       "   key  lval  rval\n",
       "0  foo     1     6\n",
       "1  bar     2     5\n",
       "2  paz     3     4"
      ]
     },
     "execution_count": 50,
     "metadata": {},
     "output_type": "execute_result"
    }
   ],
   "source": [
    " pd.merge(left, right, on='key')"
   ]
  },
  {
   "cell_type": "markdown",
   "metadata": {
    "collapsed": true
   },
   "source": [
    "# Multiindex"
   ]
  },
  {
   "cell_type": "code",
   "execution_count": 30,
   "metadata": {
    "collapsed": false
   },
   "outputs": [
    {
     "data": {
      "text/html": [
       "<div>\n",
       "<table border=\"1\" class=\"dataframe\">\n",
       "  <thead>\n",
       "    <tr style=\"text-align: right;\">\n",
       "      <th></th>\n",
       "      <th></th>\n",
       "      <th>A</th>\n",
       "      <th>B</th>\n",
       "    </tr>\n",
       "  </thead>\n",
       "  <tbody>\n",
       "    <tr>\n",
       "      <th rowspan=\"3\" valign=\"top\">one</th>\n",
       "      <th>1</th>\n",
       "      <td>1.533106</td>\n",
       "      <td>-0.621831</td>\n",
       "    </tr>\n",
       "    <tr>\n",
       "      <th>2</th>\n",
       "      <td>0.575488</td>\n",
       "      <td>-0.846528</td>\n",
       "    </tr>\n",
       "    <tr>\n",
       "      <th>3</th>\n",
       "      <td>-0.239709</td>\n",
       "      <td>0.676552</td>\n",
       "    </tr>\n",
       "    <tr>\n",
       "      <th rowspan=\"3\" valign=\"top\">two</th>\n",
       "      <th>1</th>\n",
       "      <td>0.118966</td>\n",
       "      <td>-0.562824</td>\n",
       "    </tr>\n",
       "    <tr>\n",
       "      <th>2</th>\n",
       "      <td>0.222794</td>\n",
       "      <td>1.575050</td>\n",
       "    </tr>\n",
       "    <tr>\n",
       "      <th>3</th>\n",
       "      <td>0.717885</td>\n",
       "      <td>0.313674</td>\n",
       "    </tr>\n",
       "  </tbody>\n",
       "</table>\n",
       "</div>"
      ],
      "text/plain": [
       "              A         B\n",
       "one 1  1.533106 -0.621831\n",
       "    2  0.575488 -0.846528\n",
       "    3 -0.239709  0.676552\n",
       "two 1  0.118966 -0.562824\n",
       "    2  0.222794  1.575050\n",
       "    3  0.717885  0.313674"
      ]
     },
     "execution_count": 30,
     "metadata": {},
     "output_type": "execute_result"
    }
   ],
   "source": [
    "np.arrays = [['one','one','one','two','two','two'],[1,2,3,1,2,3]]\n",
    "\n",
    "df = pd.DataFrame(np.random.randn(6,2),index=pd.MultiIndex.from_tuples(list(zip(*np.arrays))),columns=['A','B'])\n",
    "\n",
    "df  # This is the dataframe we have generated"
   ]
  },
  {
   "cell_type": "code",
   "execution_count": null,
   "metadata": {
    "collapsed": true
   },
   "outputs": [],
   "source": []
  }
 ],
 "metadata": {
  "anaconda-cloud": {},
  "kernelspec": {
   "display_name": "Python [conda root]",
   "language": "python",
   "name": "conda-root-py"
  },
  "language_info": {
   "codemirror_mode": {
    "name": "ipython",
    "version": 3
   },
   "file_extension": ".py",
   "mimetype": "text/x-python",
   "name": "python",
   "nbconvert_exporter": "python",
   "pygments_lexer": "ipython3",
   "version": "3.5.2"
  }
 },
 "nbformat": 4,
 "nbformat_minor": 0
}
