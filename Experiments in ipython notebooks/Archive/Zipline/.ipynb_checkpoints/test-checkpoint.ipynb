{
 "cells": [
  {
   "cell_type": "markdown",
   "metadata": {},
   "source": [
    "https://github.com/quantopian/zipline#installation   run test algo\n",
    "\n",
    "http://www.zipline.io/beginner-tutorial.html#basics  info. "
   ]
  },
  {
   "cell_type": "code",
   "execution_count": 11,
   "metadata": {
    "collapsed": false
   },
   "outputs": [
    {
     "ename": "SyntaxError",
     "evalue": "invalid syntax (<ipython-input-11-39ffc121bd91>, line 1)",
     "output_type": "error",
     "traceback": [
      "\u001b[0;36m  File \u001b[0;32m\"<ipython-input-11-39ffc121bd91>\"\u001b[0;36m, line \u001b[0;32m1\u001b[0m\n\u001b[0;31m    ingest -b quantopian-quandl\u001b[0m\n\u001b[0m                       ^\u001b[0m\n\u001b[0;31mSyntaxError\u001b[0m\u001b[0;31m:\u001b[0m invalid syntax\n"
     ]
    }
   ],
   "source": [
    "zipline ingest -b quantopian-quandl   "
   ]
  },
  {
   "cell_type": "code",
   "execution_count": 7,
   "metadata": {
    "collapsed": false
   },
   "outputs": [],
   "source": [
    "from zipline.api import (\n",
    "    history,\n",
    "    order_target,\n",
    "    record,\n",
    "    symbol,\n",
    ")\n",
    "\n",
    "\n",
    "def initialize(context):\n",
    "    context.i = 0\n",
    "\n",
    "\n",
    "def handle_data(context, data):\n",
    "    # Skip first 300 days to get full windows\n",
    "    context.i += 1\n",
    "    if context.i < 300:\n",
    "        return\n",
    "\n",
    "    # Compute averages\n",
    "    # history() has to be called with the same params\n",
    "    # from above and returns a pandas dataframe.\n",
    "    short_mavg = history(100, '1d', 'price').mean()\n",
    "    long_mavg = history(300, '1d', 'price').mean()\n",
    "\n",
    "    sym = symbol('AAPL')\n",
    "\n",
    "    # Trading logic\n",
    "    if short_mavg[sym] > long_mavg[sym]:\n",
    "        # order_target orders as many shares as needed to\n",
    "        # achieve the desired number of shares.\n",
    "        order_target(sym, 100)\n",
    "    elif short_mavg[sym] < long_mavg[sym]:\n",
    "        order_target(sym, 0)\n",
    "\n",
    "    # Save values for later inspection\n",
    "    record(AAPL=data[sym].price,\n",
    "           short_mavg=short_mavg[sym],\n",
    "           long_mavg=long_mavg[sym])"
   ]
  }
 ],
 "metadata": {
  "anaconda-cloud": {},
  "kernelspec": {
   "display_name": "Python [conda env:2_7_env]",
   "language": "python",
   "name": "conda-env-2_7_env-py"
  },
  "language_info": {
   "codemirror_mode": {
    "name": "ipython",
    "version": 2
   },
   "file_extension": ".py",
   "mimetype": "text/x-python",
   "name": "python",
   "nbconvert_exporter": "python",
   "pygments_lexer": "ipython2",
   "version": "2.7.12"
  }
 },
 "nbformat": 4,
 "nbformat_minor": 1
}
