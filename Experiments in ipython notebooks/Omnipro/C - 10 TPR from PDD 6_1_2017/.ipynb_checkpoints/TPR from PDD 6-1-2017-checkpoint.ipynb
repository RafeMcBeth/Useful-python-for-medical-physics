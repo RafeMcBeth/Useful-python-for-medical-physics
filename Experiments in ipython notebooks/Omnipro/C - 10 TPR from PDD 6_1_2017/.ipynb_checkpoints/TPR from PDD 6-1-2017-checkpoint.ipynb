{
 "cells": [
  {
   "cell_type": "markdown",
   "metadata": {},
   "source": [
    "Calculate TPR from measured PDD. The PDDs were measured at 100cm FSD, so the field size is set at the surface, and dref is 5cm\n",
    "\n",
    "Reproduce work that used VBA. Note that data is loaded as string, so have to be carefulf to convert to floats."
   ]
  },
  {
   "cell_type": "code",
   "execution_count": 1,
   "metadata": {
    "collapsed": true
   },
   "outputs": [],
   "source": [
    "%matplotlib inline\n",
    "import numpy as np\n",
    "import pandas as pd\n",
    "import matplotlib.pyplot as plt\n",
    "from scipy import interpolate\n",
    "\n",
    "import statsmodels.api as sm\n",
    "from statsmodels import regression"
   ]
  },
  {
   "cell_type": "markdown",
   "metadata": {},
   "source": [
    "## Load the PDD data"
   ]
  },
  {
   "cell_type": "code",
   "execution_count": 2,
   "metadata": {
    "collapsed": true
   },
   "outputs": [],
   "source": [
    "PDD = pd.read_table('PDD_6MV.csv', sep= \",\", index_col=0)#.astype(np.float); # Load the PDD, convert strings to floats"
   ]
  },
  {
   "cell_type": "code",
   "execution_count": 3,
   "metadata": {
    "collapsed": false
   },
   "outputs": [],
   "source": [
    "PDD.index = PDD.index.map(int)       # index and columns are ints for convenience later\n",
    "PDD.columns = PDD.columns.map(int)   # map values to floats \n",
    "\n",
    "PDD.index.rename('Depth_mm', inplace=True)  # rename the cols and index\n",
    "PDD.columns.rename('Fields_mm', inplace=True)"
   ]
  },
  {
   "cell_type": "code",
   "execution_count": 4,
   "metadata": {
    "collapsed": false
   },
   "outputs": [
    {
     "data": {
      "text/html": [
       "<div>\n",
       "<table border=\"1\" class=\"dataframe\">\n",
       "  <thead>\n",
       "    <tr style=\"text-align: right;\">\n",
       "      <th>Fields_mm</th>\n",
       "      <th>10</th>\n",
       "      <th>20</th>\n",
       "      <th>30</th>\n",
       "      <th>40</th>\n",
       "      <th>50</th>\n",
       "      <th>60</th>\n",
       "      <th>70</th>\n",
       "      <th>80</th>\n",
       "      <th>100</th>\n",
       "      <th>120</th>\n",
       "      <th>150</th>\n",
       "      <th>200</th>\n",
       "      <th>250</th>\n",
       "      <th>300</th>\n",
       "      <th>400</th>\n",
       "    </tr>\n",
       "    <tr>\n",
       "      <th>Depth_mm</th>\n",
       "      <th></th>\n",
       "      <th></th>\n",
       "      <th></th>\n",
       "      <th></th>\n",
       "      <th></th>\n",
       "      <th></th>\n",
       "      <th></th>\n",
       "      <th></th>\n",
       "      <th></th>\n",
       "      <th></th>\n",
       "      <th></th>\n",
       "      <th></th>\n",
       "      <th></th>\n",
       "      <th></th>\n",
       "      <th></th>\n",
       "    </tr>\n",
       "  </thead>\n",
       "  <tbody>\n",
       "    <tr>\n",
       "      <th>0</th>\n",
       "      <td>42.0</td>\n",
       "      <td>43.0</td>\n",
       "      <td>44.8</td>\n",
       "      <td>45.3</td>\n",
       "      <td>46.6</td>\n",
       "      <td>47.3</td>\n",
       "      <td>48.7</td>\n",
       "      <td>49.0</td>\n",
       "      <td>50.8</td>\n",
       "      <td>51.9</td>\n",
       "      <td>54.6</td>\n",
       "      <td>58.6</td>\n",
       "      <td>62.3</td>\n",
       "      <td>65.3</td>\n",
       "      <td>69.3</td>\n",
       "    </tr>\n",
       "    <tr>\n",
       "      <th>1</th>\n",
       "      <td>49.0</td>\n",
       "      <td>50.0</td>\n",
       "      <td>50.4</td>\n",
       "      <td>50.7</td>\n",
       "      <td>52.0</td>\n",
       "      <td>52.8</td>\n",
       "      <td>54.2</td>\n",
       "      <td>54.4</td>\n",
       "      <td>56.3</td>\n",
       "      <td>56.8</td>\n",
       "      <td>59.5</td>\n",
       "      <td>63.4</td>\n",
       "      <td>66.9</td>\n",
       "      <td>69.8</td>\n",
       "      <td>73.5</td>\n",
       "    </tr>\n",
       "    <tr>\n",
       "      <th>2</th>\n",
       "      <td>56.0</td>\n",
       "      <td>57.0</td>\n",
       "      <td>58.6</td>\n",
       "      <td>58.7</td>\n",
       "      <td>60.3</td>\n",
       "      <td>60.9</td>\n",
       "      <td>61.8</td>\n",
       "      <td>62.4</td>\n",
       "      <td>64.1</td>\n",
       "      <td>64.1</td>\n",
       "      <td>66.7</td>\n",
       "      <td>70.1</td>\n",
       "      <td>73.2</td>\n",
       "      <td>75.8</td>\n",
       "      <td>79.1</td>\n",
       "    </tr>\n",
       "    <tr>\n",
       "      <th>3</th>\n",
       "      <td>66.2</td>\n",
       "      <td>67.2</td>\n",
       "      <td>68.2</td>\n",
       "      <td>67.9</td>\n",
       "      <td>69.6</td>\n",
       "      <td>70.2</td>\n",
       "      <td>70.3</td>\n",
       "      <td>71.4</td>\n",
       "      <td>72.8</td>\n",
       "      <td>72.5</td>\n",
       "      <td>74.7</td>\n",
       "      <td>77.7</td>\n",
       "      <td>80.2</td>\n",
       "      <td>82.3</td>\n",
       "      <td>84.8</td>\n",
       "    </tr>\n",
       "    <tr>\n",
       "      <th>4</th>\n",
       "      <td>74.8</td>\n",
       "      <td>75.8</td>\n",
       "      <td>76.8</td>\n",
       "      <td>76.4</td>\n",
       "      <td>77.8</td>\n",
       "      <td>78.3</td>\n",
       "      <td>78.1</td>\n",
       "      <td>79.3</td>\n",
       "      <td>80.4</td>\n",
       "      <td>80.1</td>\n",
       "      <td>81.8</td>\n",
       "      <td>84.1</td>\n",
       "      <td>86.1</td>\n",
       "      <td>87.7</td>\n",
       "      <td>89.5</td>\n",
       "    </tr>\n",
       "  </tbody>\n",
       "</table>\n",
       "</div>"
      ],
      "text/plain": [
       "Fields_mm   10    20    30    40    50    60    70    80    100   120   150  \\\n",
       "Depth_mm                                                                      \n",
       "0          42.0  43.0  44.8  45.3  46.6  47.3  48.7  49.0  50.8  51.9  54.6   \n",
       "1          49.0  50.0  50.4  50.7  52.0  52.8  54.2  54.4  56.3  56.8  59.5   \n",
       "2          56.0  57.0  58.6  58.7  60.3  60.9  61.8  62.4  64.1  64.1  66.7   \n",
       "3          66.2  67.2  68.2  67.9  69.6  70.2  70.3  71.4  72.8  72.5  74.7   \n",
       "4          74.8  75.8  76.8  76.4  77.8  78.3  78.1  79.3  80.4  80.1  81.8   \n",
       "\n",
       "Fields_mm   200   250   300   400  \n",
       "Depth_mm                           \n",
       "0          58.6  62.3  65.3  69.3  \n",
       "1          63.4  66.9  69.8  73.5  \n",
       "2          70.1  73.2  75.8  79.1  \n",
       "3          77.7  80.2  82.3  84.8  \n",
       "4          84.1  86.1  87.7  89.5  "
      ]
     },
     "execution_count": 4,
     "metadata": {},
     "output_type": "execute_result"
    }
   ],
   "source": [
    "PDD.head()"
   ]
  },
  {
   "cell_type": "code",
   "execution_count": 5,
   "metadata": {
    "collapsed": false
   },
   "outputs": [],
   "source": [
    "#PDD.tail()"
   ]
  },
  {
   "cell_type": "code",
   "execution_count": 6,
   "metadata": {
    "collapsed": false
   },
   "outputs": [
    {
     "data": {
      "text/plain": [
       "(352, 15)"
      ]
     },
     "execution_count": 6,
     "metadata": {},
     "output_type": "execute_result"
    }
   ],
   "source": [
    "PDD.shape"
   ]
  },
  {
   "cell_type": "code",
   "execution_count": 7,
   "metadata": {
    "collapsed": false
   },
   "outputs": [
    {
     "data": {
      "text/plain": [
       "<matplotlib.axes._subplots.AxesSubplot at 0xb9d46b0>"
      ]
     },
     "execution_count": 7,
     "metadata": {},
     "output_type": "execute_result"
    },
    {
     "data": {
      "image/png": "[encoded data removed]",
      "text/plain": [
       "<matplotlib.figure.Figure at 0xb9d48d0>"
      ]
     },
     "metadata": {},
     "output_type": "display_data"
    }
   ],
   "source": [
    "PDD[[20,100]].plot()"
   ]
  },
  {
   "cell_type": "markdown",
   "metadata": {},
   "source": [
    "# Get PDD for field/depth programatically using 2D interp"
   ]
  },
  {
   "cell_type": "code",
   "execution_count": 8,
   "metadata": {
    "collapsed": false
   },
   "outputs": [
    {
     "data": {
      "text/plain": [
       "72.0"
      ]
     },
     "execution_count": 8,
     "metadata": {},
     "output_type": "execute_result"
    }
   ],
   "source": [
    "fields = PDD.columns.values.astype(np.float)\n",
    "depths = PDD.index.values.astype(np.float)\n",
    "\n",
    "PDDInterp = interpolate.interp2d(fields, depths, PDD.as_matrix(), kind='linear')  # create the 2D interp\n",
    "\n",
    "def PDD_(field, depth):  # helper function to get a pdd\n",
    "    return PDDInterp(field, depth).item()\n",
    "\n",
    "PDD_(field = 25, depth = 3.5)"
   ]
  },
  {
   "cell_type": "markdown",
   "metadata": {},
   "source": [
    "## Load normalised PSF and get for any field size\n",
    "\n",
    "Note that only have field sizes 10 - 400 mm but later will need field sizes outside of this range so have to do a polynomial fit out of this range"
   ]
  },
  {
   "cell_type": "code",
   "execution_count": 9,
   "metadata": {
    "collapsed": false
   },
   "outputs": [],
   "source": [
    "# Get the NPSF data\n",
    "NPSF_np = np.genfromtxt('NPSF.csv', delimiter= \",\")\n",
    "Fields_NPSF = NPSF_np[0][1:]\n",
    "NPSF = NPSF_np[1][1:]\n",
    "\n",
    "#plt.plot(Fields_NPSF,NPSF)"
   ]
  },
  {
   "cell_type": "code",
   "execution_count": 10,
   "metadata": {
    "collapsed": false
   },
   "outputs": [
    {
     "data": {
      "text/plain": [
       "[<matplotlib.lines.Line2D at 0xbbdde70>]"
      ]
     },
     "execution_count": 10,
     "metadata": {},
     "output_type": "execute_result"
    },
    {
     "data": {
      "image/png": "[encoded data removed]",
      "text/plain": [
       "<matplotlib.figure.Figure at 0xbaac310>"
      ]
     },
     "metadata": {},
     "output_type": "display_data"
    }
   ],
   "source": [
    "# Linear regression no good\n",
    "x = Fields_NPSF\n",
    "y = NPSF\n",
    "X = sm.add_constant(x)\n",
    "\n",
    "model = regression.linear_model.OLS(y, X).fit()\n",
    "intercept = model.params[0]\n",
    "slope = model.params[1]\n",
    "\n",
    "y2 = intercept + slope*x\n",
    "plt.scatter(x,y)\n",
    "plt.plot(x,y2)"
   ]
  },
  {
   "cell_type": "code",
   "execution_count": 11,
   "metadata": {
    "collapsed": false
   },
   "outputs": [
    {
     "data": {
      "text/plain": [
       "[<matplotlib.lines.Line2D at 0xbaf3450>]"
      ]
     },
     "execution_count": 11,
     "metadata": {},
     "output_type": "execute_result"
    },
    {
     "data": {
      "image/png": "[encoded data removed]",
      "text/plain": [
       "<matplotlib.figure.Figure at 0xba6c650>"
      ]
     },
     "metadata": {},
     "output_type": "display_data"
    }
   ],
   "source": [
    "z = np.polyfit(x, y, deg = 2)   # do the poly fit, z is a list of the fit coefficients\n",
    "p = np.poly1d(z)                # get a polyfit object, pass this an x to get the y\n",
    "\n",
    "plt.scatter(x,y)\n",
    "\n",
    "xnew = np.arange(-100, 500)\n",
    "plt.plot(xnew,p(xnew))"
   ]
  },
  {
   "cell_type": "code",
   "execution_count": 12,
   "metadata": {
    "collapsed": false
   },
   "outputs": [
    {
     "data": {
      "text/plain": [
       "0.98094656991329787"
      ]
     },
     "execution_count": 12,
     "metadata": {},
     "output_type": "execute_result"
    }
   ],
   "source": [
    "p(44.23)"
   ]
  },
  {
   "cell_type": "code",
   "execution_count": 13,
   "metadata": {
    "collapsed": false
   },
   "outputs": [],
   "source": [
    "NPSF_ = p    # just reassign as used later"
   ]
  },
  {
   "cell_type": "markdown",
   "metadata": {},
   "source": [
    "# Calculated TPR\n",
    "\n",
    "For a given field, depth and reference depth, calulate the TPR"
   ]
  },
  {
   "cell_type": "code",
   "execution_count": 14,
   "metadata": {
    "collapsed": false
   },
   "outputs": [
    {
     "name": "stdout",
     "output_type": "stream",
     "text": [
      "0.839737607403\n"
     ]
    }
   ],
   "source": [
    "def TPR(field_mm, depth_mm, depth_ref_mm):   # copied straigth from EXCEL\n",
    "    # 'Calculate TPR for SSD f = 100cm'\n",
    "    f = 1000.0   # The SSD under ref conditions, 100 cm\n",
    "    S = field_mm\n",
    "    d = depth_mm\n",
    "    dr = depth_ref_mm\n",
    "    correction = ((f + d) / (f + dr)) ** 2\n",
    "    PDD_d = PDD_(((S * f) / (f + d)), d)\n",
    "    PDD_dr = PDD_(((S * f) / (f + dr)), dr)\n",
    "    NPSF_d = NPSF_(((S * f) / (f + d)))\n",
    "    NPSF_dr = NPSF_(((S * f) / (f + dr)))\n",
    "    TPR = (PDD_d / PDD_dr) * (NPSF_d / NPSF_dr) * correction\n",
    "    return TPR\n",
    "\n",
    "depth_ref_mm = 50.0 # the reference depth, cm\n",
    "depth_mm = 100.0 # the depth to calculate TPR, cm\n",
    "field_mm = 100.0  # calc for single field size, at surface under ref conditions\n",
    "print(TPR(field_mm, depth_mm, depth_ref_mm))   # 0.84 agrees with EXCEL calcs"
   ]
  },
  {
   "cell_type": "code",
   "execution_count": 15,
   "metadata": {
    "collapsed": false
   },
   "outputs": [
    {
     "name": "stdout",
     "output_type": "stream",
     "text": [
      "1.987722218\n"
     ]
    }
   ],
   "source": [
    "print(TPR(field_mm = 5, depth_mm = 0 , depth_ref_mm = 350.0))   # working at extremes OK"
   ]
  },
  {
   "cell_type": "markdown",
   "metadata": {},
   "source": [
    "# Generate TPR table"
   ]
  },
  {
   "cell_type": "markdown",
   "metadata": {},
   "source": [
    "As with my project work I had to iterate over the data frame to apply the funciton taking in index/column values"
   ]
  },
  {
   "cell_type": "code",
   "execution_count": 16,
   "metadata": {
    "collapsed": true
   },
   "outputs": [],
   "source": [
    "fields = PDD.columns.values.astype(np.float)\n",
    "depths = PDD.index.values.astype(np.float)\n",
    "\n",
    "columns = len(fields)\n",
    "rows = len(depths)\n",
    "TPR_array = np.zeros((rows,columns))  # init an empty array"
   ]
  },
  {
   "cell_type": "code",
   "execution_count": 17,
   "metadata": {
    "collapsed": false
   },
   "outputs": [
    {
     "data": {
      "text/plain": [
       "(352, 15)"
      ]
     },
     "execution_count": 17,
     "metadata": {},
     "output_type": "execute_result"
    }
   ],
   "source": [
    "TPR_array.shape"
   ]
  },
  {
   "cell_type": "code",
   "execution_count": 18,
   "metadata": {
    "collapsed": false
   },
   "outputs": [],
   "source": [
    "row = 0\n",
    "for depth in depths:\n",
    "    column = 0\n",
    "    for field in fields:\n",
    "        TPR_array[row][column] = TPR(field, depth, depth_ref_mm)\n",
    "        column = column + 1\n",
    "    row = row + 1  "
   ]
  },
  {
   "cell_type": "code",
   "execution_count": 19,
   "metadata": {
    "collapsed": false
   },
   "outputs": [],
   "source": [
    "TPR_df = pd.DataFrame(data=TPR_array, index=depths, columns=fields)  # 1st row as the column names"
   ]
  },
  {
   "cell_type": "code",
   "execution_count": 24,
   "metadata": {
    "collapsed": true
   },
   "outputs": [],
   "source": [
    "TPR_df.index.name = 'Depth_mm'\n",
    "TPR_df.columns.name = 'Field_size'"
   ]
  },
  {
   "cell_type": "code",
   "execution_count": 25,
   "metadata": {
    "collapsed": false
   },
   "outputs": [
    {
     "data": {
      "text/html": [
       "<div>\n",
       "<table border=\"1\" class=\"dataframe\">\n",
       "  <thead>\n",
       "    <tr style=\"text-align: right;\">\n",
       "      <th>Field_size</th>\n",
       "      <th>10.0</th>\n",
       "      <th>20.0</th>\n",
       "      <th>30.0</th>\n",
       "      <th>40.0</th>\n",
       "      <th>50.0</th>\n",
       "      <th>60.0</th>\n",
       "      <th>70.0</th>\n",
       "      <th>80.0</th>\n",
       "      <th>100.0</th>\n",
       "      <th>120.0</th>\n",
       "      <th>150.0</th>\n",
       "      <th>200.0</th>\n",
       "      <th>250.0</th>\n",
       "      <th>300.0</th>\n",
       "      <th>400.0</th>\n",
       "    </tr>\n",
       "    <tr>\n",
       "      <th>Depth_mm</th>\n",
       "      <th></th>\n",
       "      <th></th>\n",
       "      <th></th>\n",
       "      <th></th>\n",
       "      <th></th>\n",
       "      <th></th>\n",
       "      <th></th>\n",
       "      <th></th>\n",
       "      <th></th>\n",
       "      <th></th>\n",
       "      <th></th>\n",
       "      <th></th>\n",
       "      <th></th>\n",
       "      <th></th>\n",
       "      <th></th>\n",
       "    </tr>\n",
       "  </thead>\n",
       "  <tbody>\n",
       "    <tr>\n",
       "      <th>0.0</th>\n",
       "      <td>0.473324</td>\n",
       "      <td>0.479294</td>\n",
       "      <td>0.492641</td>\n",
       "      <td>0.493322</td>\n",
       "      <td>0.503412</td>\n",
       "      <td>0.507448</td>\n",
       "      <td>0.519434</td>\n",
       "      <td>0.520915</td>\n",
       "      <td>0.536804</td>\n",
       "      <td>0.545789</td>\n",
       "      <td>0.570494</td>\n",
       "      <td>0.609614</td>\n",
       "      <td>0.646427</td>\n",
       "      <td>0.674691</td>\n",
       "      <td>0.711334</td>\n",
       "    </tr>\n",
       "    <tr>\n",
       "      <th>1.0</th>\n",
       "      <td>0.553314</td>\n",
       "      <td>0.558408</td>\n",
       "      <td>0.555311</td>\n",
       "      <td>0.553212</td>\n",
       "      <td>0.562791</td>\n",
       "      <td>0.567524</td>\n",
       "      <td>0.579136</td>\n",
       "      <td>0.579448</td>\n",
       "      <td>0.595995</td>\n",
       "      <td>0.598463</td>\n",
       "      <td>0.622773</td>\n",
       "      <td>0.660682</td>\n",
       "      <td>0.695342</td>\n",
       "      <td>0.722434</td>\n",
       "      <td>0.755813</td>\n",
       "    </tr>\n",
       "    <tr>\n",
       "      <th>2.0</th>\n",
       "      <td>0.633621</td>\n",
       "      <td>0.637833</td>\n",
       "      <td>0.646852</td>\n",
       "      <td>0.641782</td>\n",
       "      <td>0.653822</td>\n",
       "      <td>0.655864</td>\n",
       "      <td>0.661633</td>\n",
       "      <td>0.665890</td>\n",
       "      <td>0.679837</td>\n",
       "      <td>0.676742</td>\n",
       "      <td>0.699392</td>\n",
       "      <td>0.731832</td>\n",
       "      <td>0.762197</td>\n",
       "      <td>0.785958</td>\n",
       "      <td>0.814928</td>\n",
       "    </tr>\n",
       "    <tr>\n",
       "      <th>3.0</th>\n",
       "      <td>0.750523</td>\n",
       "      <td>0.753453</td>\n",
       "      <td>0.754340</td>\n",
       "      <td>0.743888</td>\n",
       "      <td>0.756078</td>\n",
       "      <td>0.757489</td>\n",
       "      <td>0.754251</td>\n",
       "      <td>0.763270</td>\n",
       "      <td>0.773610</td>\n",
       "      <td>0.766986</td>\n",
       "      <td>0.784773</td>\n",
       "      <td>0.812705</td>\n",
       "      <td>0.836690</td>\n",
       "      <td>0.855001</td>\n",
       "      <td>0.875391</td>\n",
       "    </tr>\n",
       "    <tr>\n",
       "      <th>4.0</th>\n",
       "      <td>0.849711</td>\n",
       "      <td>0.851552</td>\n",
       "      <td>0.851127</td>\n",
       "      <td>0.838695</td>\n",
       "      <td>0.846833</td>\n",
       "      <td>0.846560</td>\n",
       "      <td>0.839675</td>\n",
       "      <td>0.849294</td>\n",
       "      <td>0.856064</td>\n",
       "      <td>0.849063</td>\n",
       "      <td>0.861070</td>\n",
       "      <td>0.881392</td>\n",
       "      <td>0.900009</td>\n",
       "      <td>0.912919</td>\n",
       "      <td>0.925795</td>\n",
       "    </tr>\n",
       "  </tbody>\n",
       "</table>\n",
       "</div>"
      ],
      "text/plain": [
       "Field_size     10.0      20.0      30.0      40.0      50.0      60.0   \\\n",
       "Depth_mm                                                                 \n",
       "0.0         0.473324  0.479294  0.492641  0.493322  0.503412  0.507448   \n",
       "1.0         0.553314  0.558408  0.555311  0.553212  0.562791  0.567524   \n",
       "2.0         0.633621  0.637833  0.646852  0.641782  0.653822  0.655864   \n",
       "3.0         0.750523  0.753453  0.754340  0.743888  0.756078  0.757489   \n",
       "4.0         0.849711  0.851552  0.851127  0.838695  0.846833  0.846560   \n",
       "\n",
       "Field_size     70.0      80.0      100.0     120.0     150.0     200.0  \\\n",
       "Depth_mm                                                                 \n",
       "0.0         0.519434  0.520915  0.536804  0.545789  0.570494  0.609614   \n",
       "1.0         0.579136  0.579448  0.595995  0.598463  0.622773  0.660682   \n",
       "2.0         0.661633  0.665890  0.679837  0.676742  0.699392  0.731832   \n",
       "3.0         0.754251  0.763270  0.773610  0.766986  0.784773  0.812705   \n",
       "4.0         0.839675  0.849294  0.856064  0.849063  0.861070  0.881392   \n",
       "\n",
       "Field_size     250.0     300.0     400.0  \n",
       "Depth_mm                                  \n",
       "0.0         0.646427  0.674691  0.711334  \n",
       "1.0         0.695342  0.722434  0.755813  \n",
       "2.0         0.762197  0.785958  0.814928  \n",
       "3.0         0.836690  0.855001  0.875391  \n",
       "4.0         0.900009  0.912919  0.925795  "
      ]
     },
     "execution_count": 25,
     "metadata": {},
     "output_type": "execute_result"
    }
   ],
   "source": [
    "TPR_df.head()"
   ]
  },
  {
   "cell_type": "code",
   "execution_count": 26,
   "metadata": {
    "collapsed": true
   },
   "outputs": [],
   "source": [
    "TPR_df.to_csv('Pandas_TPR.csv')"
   ]
  },
  {
   "cell_type": "markdown",
   "metadata": {},
   "source": [
    "Looks identical to the table calculated in Excel"
   ]
  },
  {
   "cell_type": "code",
   "execution_count": null,
   "metadata": {
    "collapsed": true
   },
   "outputs": [],
   "source": []
  }
 ],
 "metadata": {
  "anaconda-cloud": {},
  "kernelspec": {
   "display_name": "Python [conda root]",
   "language": "python",
   "name": "conda-root-py"
  },
  "language_info": {
   "codemirror_mode": {
    "name": "ipython",
    "version": 3
   },
   "file_extension": ".py",
   "mimetype": "text/x-python",
   "name": "python",
   "nbconvert_exporter": "python",
   "pygments_lexer": "ipython3",
   "version": "3.5.2"
  }
 },
 "nbformat": 4,
 "nbformat_minor": 1
}
