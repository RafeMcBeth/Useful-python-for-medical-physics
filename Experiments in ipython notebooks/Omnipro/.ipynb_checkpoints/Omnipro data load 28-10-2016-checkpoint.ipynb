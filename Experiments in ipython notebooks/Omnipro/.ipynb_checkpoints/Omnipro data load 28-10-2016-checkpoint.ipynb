{
 "cells": [
  {
   "cell_type": "code",
   "execution_count": 63,
   "metadata": {
    "collapsed": false
   },
   "outputs": [],
   "source": [
    "#ls"
   ]
  },
  {
   "cell_type": "code",
   "execution_count": 2,
   "metadata": {
    "collapsed": true
   },
   "outputs": [],
   "source": [
    "%matplotlib inline\n",
    "import numpy as np\n",
    "import pandas as pd\n",
    "import matplotlib.pyplot as plt"
   ]
  },
  {
   "cell_type": "code",
   "execution_count": 59,
   "metadata": {
    "collapsed": false
   },
   "outputs": [],
   "source": [
    "raw = pd.read_csv(\"6MV 100FSD PROFILE (PDD JUNE - RAW).csv\") # , index_col=[0]"
   ]
  },
  {
   "cell_type": "code",
   "execution_count": 60,
   "metadata": {
    "collapsed": false
   },
   "outputs": [
    {
     "data": {
      "text/html": [
       "<div>\n",
       "<table border=\"1\" class=\"dataframe\">\n",
       "  <thead>\n",
       "    <tr style=\"text-align: right;\">\n",
       "      <th></th>\n",
       "      <th>0</th>\n",
       "      <th>1</th>\n",
       "      <th>2</th>\n",
       "      <th>3</th>\n",
       "      <th>4</th>\n",
       "      <th>5</th>\n",
       "      <th>6</th>\n",
       "    </tr>\n",
       "  </thead>\n",
       "  <tbody>\n",
       "    <tr>\n",
       "      <th>0</th>\n",
       "      <td>Scan Type:</td>\n",
       "      <td>Crossline</td>\n",
       "      <td>Crossline</td>\n",
       "      <td>Crossline</td>\n",
       "      <td>Inline</td>\n",
       "      <td>Inline</td>\n",
       "      <td>Inline</td>\n",
       "    </tr>\n",
       "    <tr>\n",
       "      <th>1</th>\n",
       "      <td>Radiation Type:</td>\n",
       "      <td>Photons</td>\n",
       "      <td>Photons</td>\n",
       "      <td>Photons</td>\n",
       "      <td>Photons</td>\n",
       "      <td>Photons</td>\n",
       "      <td>Photons</td>\n",
       "    </tr>\n",
       "    <tr>\n",
       "      <th>2</th>\n",
       "      <td>Energy:</td>\n",
       "      <td>6 MV</td>\n",
       "      <td>6 MV</td>\n",
       "      <td>6 MV</td>\n",
       "      <td>6 MV</td>\n",
       "      <td>6 MV</td>\n",
       "      <td>6 MV</td>\n",
       "    </tr>\n",
       "    <tr>\n",
       "      <th>3</th>\n",
       "      <td>Fieldsize:</td>\n",
       "      <td>60 x 60 mm</td>\n",
       "      <td>60 x 60 mm</td>\n",
       "      <td>60 x 60 mm</td>\n",
       "      <td>60 x 60 mm</td>\n",
       "      <td>60 x 60 mm</td>\n",
       "      <td>60 x 60 mm</td>\n",
       "    </tr>\n",
       "    <tr>\n",
       "      <th>4</th>\n",
       "      <td>Depth:</td>\n",
       "      <td>15.0 mm</td>\n",
       "      <td>100.0 mm</td>\n",
       "      <td>350.0 mm</td>\n",
       "      <td>15.0 mm</td>\n",
       "      <td>100.0 mm</td>\n",
       "      <td>350.0 mm</td>\n",
       "    </tr>\n",
       "    <tr>\n",
       "      <th>5</th>\n",
       "      <td>NaN</td>\n",
       "      <td>Color [MediumVioletRed]</td>\n",
       "      <td>Color [Orange]</td>\n",
       "      <td>Color [DeepPink]</td>\n",
       "      <td>Color [SlateBlue]</td>\n",
       "      <td>Color [Teal]</td>\n",
       "      <td>Color [Blue]</td>\n",
       "    </tr>\n",
       "    <tr>\n",
       "      <th>6</th>\n",
       "      <td>Coordinate [mm]:</td>\n",
       "      <td>NaN</td>\n",
       "      <td>NaN</td>\n",
       "      <td>NaN</td>\n",
       "      <td>NaN</td>\n",
       "      <td>NaN</td>\n",
       "      <td>NaN</td>\n",
       "    </tr>\n",
       "    <tr>\n",
       "      <th>7</th>\n",
       "      <td>-90</td>\n",
       "      <td>NaN</td>\n",
       "      <td>NaN</td>\n",
       "      <td>1.3</td>\n",
       "      <td>NaN</td>\n",
       "      <td>NaN</td>\n",
       "      <td>1.3</td>\n",
       "    </tr>\n",
       "    <tr>\n",
       "      <th>8</th>\n",
       "      <td>-89</td>\n",
       "      <td>NaN</td>\n",
       "      <td>NaN</td>\n",
       "      <td>1.2</td>\n",
       "      <td>NaN</td>\n",
       "      <td>NaN</td>\n",
       "      <td>1.3</td>\n",
       "    </tr>\n",
       "    <tr>\n",
       "      <th>9</th>\n",
       "      <td>-88</td>\n",
       "      <td>NaN</td>\n",
       "      <td>NaN</td>\n",
       "      <td>1.2</td>\n",
       "      <td>NaN</td>\n",
       "      <td>NaN</td>\n",
       "      <td>1.2</td>\n",
       "    </tr>\n",
       "    <tr>\n",
       "      <th>10</th>\n",
       "      <td>-87</td>\n",
       "      <td>NaN</td>\n",
       "      <td>NaN</td>\n",
       "      <td>1.2</td>\n",
       "      <td>NaN</td>\n",
       "      <td>NaN</td>\n",
       "      <td>1.3</td>\n",
       "    </tr>\n",
       "  </tbody>\n",
       "</table>\n",
       "</div>"
      ],
      "text/plain": [
       "                   0                        1               2  \\\n",
       "0         Scan Type:                Crossline       Crossline   \n",
       "1    Radiation Type:                  Photons         Photons   \n",
       "2            Energy:                     6 MV            6 MV   \n",
       "3         Fieldsize:               60 x 60 mm      60 x 60 mm   \n",
       "4             Depth:                  15.0 mm        100.0 mm   \n",
       "5                NaN  Color [MediumVioletRed]  Color [Orange]   \n",
       "6   Coordinate [mm]:                      NaN             NaN   \n",
       "7                -90                      NaN             NaN   \n",
       "8                -89                      NaN             NaN   \n",
       "9                -88                      NaN             NaN   \n",
       "10               -87                      NaN             NaN   \n",
       "\n",
       "                   3                  4             5             6  \n",
       "0          Crossline             Inline        Inline        Inline  \n",
       "1            Photons            Photons       Photons       Photons  \n",
       "2               6 MV               6 MV          6 MV          6 MV  \n",
       "3         60 x 60 mm         60 x 60 mm    60 x 60 mm    60 x 60 mm  \n",
       "4           350.0 mm            15.0 mm      100.0 mm      350.0 mm  \n",
       "5   Color [DeepPink]  Color [SlateBlue]  Color [Teal]  Color [Blue]  \n",
       "6                NaN                NaN           NaN           NaN  \n",
       "7                1.3                NaN           NaN           1.3  \n",
       "8                1.2                NaN           NaN           1.3  \n",
       "9                1.2                NaN           NaN           1.2  \n",
       "10               1.2                NaN           NaN           1.3  "
      ]
     },
     "execution_count": 60,
     "metadata": {},
     "output_type": "execute_result"
    }
   ],
   "source": [
    "raw.loc[:10]   # first 10"
   ]
  },
  {
   "cell_type": "code",
   "execution_count": 61,
   "metadata": {
    "collapsed": false
   },
   "outputs": [
    {
     "data": {
      "text/plain": [
       "['Depth:',\n",
       " '15.0 mm',\n",
       " '100.0 mm',\n",
       " '350.0 mm',\n",
       " '15.0 mm',\n",
       " '100.0 mm',\n",
       " '350.0 mm']"
      ]
     },
     "execution_count": 61,
     "metadata": {},
     "output_type": "execute_result"
    }
   ],
   "source": [
    "depth = raw.loc[4].tolist()  # get depth row and use as column names\n",
    "depth"
   ]
  },
  {
   "cell_type": "code",
   "execution_count": 62,
   "metadata": {
    "collapsed": false,
    "scrolled": true
   },
   "outputs": [
    {
     "data": {
      "image/png": "[encoded data removed]",
      "text/plain": [
       "<matplotlib.figure.Figure at 0xad86570>"
      ]
     },
     "metadata": {},
     "output_type": "display_data"
    }
   ],
   "source": [
    "PDD = raw.ix[7:]    # get PDD data from row 7 onwards\n",
    "PDD.columns = depth  # set the column names\n",
    "PDD = PDD.set_index('Depth:')  # set index\n",
    "PDD = PDD.fillna(0).astype(float)  # set NaN to 0 and return floats\n",
    "PDD.plot();"
   ]
  },
  {
   "cell_type": "code",
   "execution_count": null,
   "metadata": {
    "collapsed": true
   },
   "outputs": [],
   "source": []
  }
 ],
 "metadata": {
  "anaconda-cloud": {},
  "kernelspec": {
   "display_name": "Python [conda root]",
   "language": "python",
   "name": "conda-root-py"
  },
  "language_info": {
   "codemirror_mode": {
    "name": "ipython",
    "version": 3
   },
   "file_extension": ".py",
   "mimetype": "text/x-python",
   "name": "python",
   "nbconvert_exporter": "python",
   "pygments_lexer": "ipython3",
   "version": "3.5.2"
  }
 },
 "nbformat": 4,
 "nbformat_minor": 1
}
