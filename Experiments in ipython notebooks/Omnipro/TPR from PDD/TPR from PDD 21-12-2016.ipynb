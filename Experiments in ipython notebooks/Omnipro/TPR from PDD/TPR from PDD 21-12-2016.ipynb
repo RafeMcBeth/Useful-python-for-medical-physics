{
 "cells": [
  {
   "cell_type": "markdown",
   "metadata": {},
   "source": [
    "Calculate TPR from measured PDD. The PDDs were measured at 100cm FSD, so the field size is set at the surface, and dref is 5cm\n",
    "\n",
    "Reproduce work that used VBA. Note that data is loaded as string, so have to be carefulf to convert to floats."
   ]
  },
  {
   "cell_type": "code",
   "execution_count": 1,
   "metadata": {
    "collapsed": true
   },
   "outputs": [],
   "source": [
    "%matplotlib inline\n",
    "import numpy as np\n",
    "import pandas as pd\n",
    "import matplotlib.pyplot as plt\n",
    "from scipy import interpolate"
   ]
  },
  {
   "cell_type": "markdown",
   "metadata": {},
   "source": [
    "## Load the PDD data"
   ]
  },
  {
   "cell_type": "code",
   "execution_count": 2,
   "metadata": {
    "collapsed": true
   },
   "outputs": [],
   "source": [
    "PDD = pd.read_table('PDD_6MV.csv', sep= \",\", index_col=0).astype(np.float); # Load the PDD, convert strings to floats"
   ]
  },
  {
   "cell_type": "code",
   "execution_count": 3,
   "metadata": {
    "collapsed": false
   },
   "outputs": [],
   "source": [
    "PDD.index = PDD.index.map(int)\n",
    "PDD.columns = PDD.columns.map(int)   # map values to floats \n",
    "\n",
    "PDD.index.rename('Depth_mm', inplace=True)  # rename the cols and index\n",
    "PDD.columns.rename('Fields_mm', inplace=True)"
   ]
  },
  {
   "cell_type": "code",
   "execution_count": 4,
   "metadata": {
    "collapsed": false
   },
   "outputs": [
    {
     "data": {
      "text/html": [
       "<div>\n",
       "<table border=\"1\" class=\"dataframe\">\n",
       "  <thead>\n",
       "    <tr style=\"text-align: right;\">\n",
       "      <th>Fields_mm</th>\n",
       "      <th>10</th>\n",
       "      <th>20</th>\n",
       "      <th>30</th>\n",
       "      <th>40</th>\n",
       "      <th>50</th>\n",
       "      <th>60</th>\n",
       "      <th>70</th>\n",
       "      <th>80</th>\n",
       "      <th>100</th>\n",
       "      <th>120</th>\n",
       "      <th>150</th>\n",
       "      <th>200</th>\n",
       "      <th>250</th>\n",
       "      <th>300</th>\n",
       "      <th>400</th>\n",
       "    </tr>\n",
       "    <tr>\n",
       "      <th>Depth_mm</th>\n",
       "      <th></th>\n",
       "      <th></th>\n",
       "      <th></th>\n",
       "      <th></th>\n",
       "      <th></th>\n",
       "      <th></th>\n",
       "      <th></th>\n",
       "      <th></th>\n",
       "      <th></th>\n",
       "      <th></th>\n",
       "      <th></th>\n",
       "      <th></th>\n",
       "      <th></th>\n",
       "      <th></th>\n",
       "      <th></th>\n",
       "    </tr>\n",
       "  </thead>\n",
       "  <tbody>\n",
       "    <tr>\n",
       "      <th>0</th>\n",
       "      <td>42.0</td>\n",
       "      <td>43.0</td>\n",
       "      <td>44.8</td>\n",
       "      <td>45.3</td>\n",
       "      <td>46.6</td>\n",
       "      <td>47.3</td>\n",
       "      <td>48.7</td>\n",
       "      <td>49.0</td>\n",
       "      <td>50.8</td>\n",
       "      <td>51.9</td>\n",
       "      <td>54.6</td>\n",
       "      <td>58.6</td>\n",
       "      <td>62.3</td>\n",
       "      <td>65.3</td>\n",
       "      <td>69.3</td>\n",
       "    </tr>\n",
       "    <tr>\n",
       "      <th>1</th>\n",
       "      <td>49.0</td>\n",
       "      <td>50.0</td>\n",
       "      <td>50.4</td>\n",
       "      <td>50.7</td>\n",
       "      <td>52.0</td>\n",
       "      <td>52.8</td>\n",
       "      <td>54.2</td>\n",
       "      <td>54.4</td>\n",
       "      <td>56.3</td>\n",
       "      <td>56.8</td>\n",
       "      <td>59.5</td>\n",
       "      <td>63.4</td>\n",
       "      <td>66.9</td>\n",
       "      <td>69.8</td>\n",
       "      <td>73.5</td>\n",
       "    </tr>\n",
       "    <tr>\n",
       "      <th>2</th>\n",
       "      <td>56.0</td>\n",
       "      <td>57.0</td>\n",
       "      <td>58.6</td>\n",
       "      <td>58.7</td>\n",
       "      <td>60.3</td>\n",
       "      <td>60.9</td>\n",
       "      <td>61.8</td>\n",
       "      <td>62.4</td>\n",
       "      <td>64.1</td>\n",
       "      <td>64.1</td>\n",
       "      <td>66.7</td>\n",
       "      <td>70.1</td>\n",
       "      <td>73.2</td>\n",
       "      <td>75.8</td>\n",
       "      <td>79.1</td>\n",
       "    </tr>\n",
       "    <tr>\n",
       "      <th>3</th>\n",
       "      <td>66.2</td>\n",
       "      <td>67.2</td>\n",
       "      <td>68.2</td>\n",
       "      <td>67.9</td>\n",
       "      <td>69.6</td>\n",
       "      <td>70.2</td>\n",
       "      <td>70.3</td>\n",
       "      <td>71.4</td>\n",
       "      <td>72.8</td>\n",
       "      <td>72.5</td>\n",
       "      <td>74.7</td>\n",
       "      <td>77.7</td>\n",
       "      <td>80.2</td>\n",
       "      <td>82.3</td>\n",
       "      <td>84.8</td>\n",
       "    </tr>\n",
       "    <tr>\n",
       "      <th>4</th>\n",
       "      <td>74.8</td>\n",
       "      <td>75.8</td>\n",
       "      <td>76.8</td>\n",
       "      <td>76.4</td>\n",
       "      <td>77.8</td>\n",
       "      <td>78.3</td>\n",
       "      <td>78.1</td>\n",
       "      <td>79.3</td>\n",
       "      <td>80.4</td>\n",
       "      <td>80.1</td>\n",
       "      <td>81.8</td>\n",
       "      <td>84.1</td>\n",
       "      <td>86.1</td>\n",
       "      <td>87.7</td>\n",
       "      <td>89.5</td>\n",
       "    </tr>\n",
       "  </tbody>\n",
       "</table>\n",
       "</div>"
      ],
      "text/plain": [
       "Fields_mm   10    20    30    40    50    60    70    80    100   120   150  \\\n",
       "Depth_mm                                                                      \n",
       "0          42.0  43.0  44.8  45.3  46.6  47.3  48.7  49.0  50.8  51.9  54.6   \n",
       "1          49.0  50.0  50.4  50.7  52.0  52.8  54.2  54.4  56.3  56.8  59.5   \n",
       "2          56.0  57.0  58.6  58.7  60.3  60.9  61.8  62.4  64.1  64.1  66.7   \n",
       "3          66.2  67.2  68.2  67.9  69.6  70.2  70.3  71.4  72.8  72.5  74.7   \n",
       "4          74.8  75.8  76.8  76.4  77.8  78.3  78.1  79.3  80.4  80.1  81.8   \n",
       "\n",
       "Fields_mm   200   250   300   400  \n",
       "Depth_mm                           \n",
       "0          58.6  62.3  65.3  69.3  \n",
       "1          63.4  66.9  69.8  73.5  \n",
       "2          70.1  73.2  75.8  79.1  \n",
       "3          77.7  80.2  82.3  84.8  \n",
       "4          84.1  86.1  87.7  89.5  "
      ]
     },
     "execution_count": 4,
     "metadata": {},
     "output_type": "execute_result"
    }
   ],
   "source": [
    "PDD.head()"
   ]
  },
  {
   "cell_type": "code",
   "execution_count": 5,
   "metadata": {
    "collapsed": false
   },
   "outputs": [
    {
     "data": {
      "text/plain": [
       "42.0"
      ]
     },
     "execution_count": 5,
     "metadata": {},
     "output_type": "execute_result"
    }
   ],
   "source": [
    "PDD.lookup([0], [10]).item()    # lookup depth and field"
   ]
  },
  {
   "cell_type": "code",
   "execution_count": 6,
   "metadata": {
    "collapsed": false
   },
   "outputs": [
    {
     "data": {
      "text/plain": [
       "<matplotlib.axes._subplots.AxesSubplot at 0xb7842b0>"
      ]
     },
     "execution_count": 6,
     "metadata": {},
     "output_type": "execute_result"
    },
    {
     "data": {
      "image/png": "[encoded data removed]",
      "text/plain": [
       "<matplotlib.figure.Figure at 0xb55dfb0>"
      ]
     },
     "metadata": {},
     "output_type": "display_data"
    }
   ],
   "source": [
    "PDD[[20,100]].plot()"
   ]
  },
  {
   "cell_type": "code",
   "execution_count": 7,
   "metadata": {
    "collapsed": false
   },
   "outputs": [
    {
     "data": {
      "text/plain": [
       "72.0"
      ]
     },
     "execution_count": 7,
     "metadata": {},
     "output_type": "execute_result"
    }
   ],
   "source": [
    "fields = PDD.columns.values.astype(np.float)\n",
    "depths = PDD.index.values.astype(np.float)\n",
    "\n",
    "PDDInterp = interpolate.interp2d(fields, depths, PDD.as_matrix(), kind='linear')  # create the 2D interp\n",
    "\n",
    "def PDD_(field, depth):  # helper function to get a pdd\n",
    "    return PDDInterp(field, depth).item()\n",
    "\n",
    "PDD_(25.0, 3.5)"
   ]
  },
  {
   "cell_type": "markdown",
   "metadata": {},
   "source": [
    "## Load normalised PSF"
   ]
  },
  {
   "cell_type": "code",
   "execution_count": 8,
   "metadata": {
    "collapsed": false
   },
   "outputs": [
    {
     "data": {
      "text/html": [
       "<div>\n",
       "<table border=\"1\" class=\"dataframe\">\n",
       "  <thead>\n",
       "    <tr style=\"text-align: right;\">\n",
       "      <th>Field (mm)</th>\n",
       "      <th>NPSF</th>\n",
       "    </tr>\n",
       "  </thead>\n",
       "  <tbody>\n",
       "    <tr>\n",
       "      <th>10</th>\n",
       "      <td>0.967</td>\n",
       "    </tr>\n",
       "    <tr>\n",
       "      <th>20</th>\n",
       "      <td>0.971</td>\n",
       "    </tr>\n",
       "    <tr>\n",
       "      <th>30</th>\n",
       "      <td>0.975</td>\n",
       "    </tr>\n",
       "    <tr>\n",
       "      <th>40</th>\n",
       "      <td>0.979</td>\n",
       "    </tr>\n",
       "    <tr>\n",
       "      <th>50</th>\n",
       "      <td>0.983</td>\n",
       "    </tr>\n",
       "  </tbody>\n",
       "</table>\n",
       "</div>"
      ],
      "text/plain": [
       "Field (mm)   NPSF\n",
       "10          0.967\n",
       "20          0.971\n",
       "30          0.975\n",
       "40          0.979\n",
       "50          0.983"
      ]
     },
     "execution_count": 8,
     "metadata": {},
     "output_type": "execute_result"
    }
   ],
   "source": [
    "NPSF = pd.read_table('NPSF.csv', delimiter= \",\").transpose()\n",
    "NPSF.columns = NPSF.iloc[0]  #get columns columns\n",
    "NPSF = NPSF.iloc[1:]\n",
    "NPSF.head()"
   ]
  },
  {
   "cell_type": "code",
   "execution_count": 9,
   "metadata": {
    "collapsed": false
   },
   "outputs": [
    {
     "data": {
      "text/plain": [
       "0.980692"
      ]
     },
     "execution_count": 9,
     "metadata": {},
     "output_type": "execute_result"
    }
   ],
   "source": [
    "NPSF_interp = interpolate.interp1d(NPSF.index.values.astype(np.float), NPSF['NPSF'].values.astype(np.float)) \n",
    "\n",
    "def NPSF_(field):  # helper funtion to get the NPSF given a field size\n",
    "    return NPSF_interp(field).item()\n",
    "\n",
    "NPSF_(44.23)"
   ]
  },
  {
   "cell_type": "markdown",
   "metadata": {},
   "source": [
    "# Calculated TPR"
   ]
  },
  {
   "cell_type": "code",
   "execution_count": 10,
   "metadata": {
    "collapsed": false
   },
   "outputs": [
    {
     "name": "stdout",
     "output_type": "stream",
     "text": [
      "0.8397410114462159\n"
     ]
    }
   ],
   "source": [
    "def TPR(field_mm, depth_mm, depth_ref_mm):   # copied straigth from EXCEL\n",
    "    # 'Calculate TPR for SSD f = 100cm'\n",
    "    f = 1000.0   # The SSD under ref conditions, 100 cm\n",
    "    S = field_mm\n",
    "    d = depth_mm\n",
    "    dr = depth_ref_mm\n",
    "    correction = ((f + d) / (f + dr)) ** 2\n",
    "    PDD_d = PDD_(((S * f) / (f + d)), d)\n",
    "    PDD_dr = PDD_(((S * f) / (f + dr)), dr)\n",
    "    NPSF_d = NPSF_(((S * f) / (f + d)))\n",
    "    NPSF_dr = NPSF_(((S * f) / (f + dr)))\n",
    "    TPR = (PDD_d / PDD_dr) * (NPSF_d / NPSF_dr) * correction\n",
    "    return TPR\n",
    "\n",
    "depth_ref_mm = 50.0 # the reference depth, cm\n",
    "depth_mm = 100.0 # the depth to calculate TPR, cm\n",
    "field_mm = 100.0  # calc for single field size, at surface under ref conditions\n",
    "print(TPR(field_mm, depth_mm, depth_ref_mm))   # 0.84 agrees with EXCEL calcs"
   ]
  },
  {
   "cell_type": "markdown",
   "metadata": {},
   "source": [
    "# Generate TPR table"
   ]
  },
  {
   "cell_type": "markdown",
   "metadata": {},
   "source": [
    "As with my project work I had to iterate over the data frame to apply the funciton taking in index/column values"
   ]
  },
  {
   "cell_type": "code",
   "execution_count": 11,
   "metadata": {
    "collapsed": true
   },
   "outputs": [],
   "source": [
    "i = len(fields)\n",
    "j = len(depths)\n",
    "wilcox_data = np.zeros((i,j))  # init an empty array"
   ]
  },
  {
   "cell_type": "code",
   "execution_count": 12,
   "metadata": {
    "collapsed": false
   },
   "outputs": [
    {
     "ename": "NameError",
     "evalue": "name 'd' is not defined",
     "output_type": "error",
     "traceback": [
      "\u001b[0;31m---------------------------------------------------------------------------\u001b[0m",
      "\u001b[0;31mNameError\u001b[0m                                 Traceback (most recent call last)",
      "\u001b[0;32m<ipython-input-12-3efca9fc5857>\u001b[0m in \u001b[0;36m<module>\u001b[0;34m()\u001b[0m\n\u001b[1;32m      3\u001b[0m     \u001b[0mi\u001b[0m \u001b[1;33m=\u001b[0m \u001b[1;36m0\u001b[0m\u001b[1;33m\u001b[0m\u001b[0m\n\u001b[1;32m      4\u001b[0m     \u001b[1;32mfor\u001b[0m \u001b[0mdepth\u001b[0m \u001b[1;32min\u001b[0m \u001b[0mdepths\u001b[0m\u001b[1;33m:\u001b[0m\u001b[1;33m\u001b[0m\u001b[0m\n\u001b[0;32m----> 5\u001b[0;31m         \u001b[0mA\u001b[0m \u001b[1;33m=\u001b[0m  \u001b[0md\u001b[0m\u001b[1;33m[\u001b[0m\u001b[1;33m(\u001b[0m\u001b[0md\u001b[0m\u001b[1;33m[\u001b[0m\u001b[1;34m'structure'\u001b[0m\u001b[1;33m]\u001b[0m \u001b[1;33m==\u001b[0m \u001b[0mstructure\u001b[0m\u001b[1;33m)\u001b[0m \u001b[1;33m&\u001b[0m \u001b[1;33m(\u001b[0m\u001b[0md\u001b[0m\u001b[1;33m[\u001b[0m\u001b[1;34m'metric'\u001b[0m\u001b[1;33m]\u001b[0m \u001b[1;33m==\u001b[0m \u001b[0mmetric\u001b[0m\u001b[1;33m)\u001b[0m\u001b[1;33m]\u001b[0m\u001b[1;33m\u001b[0m\u001b[0m\n\u001b[0m\u001b[1;32m      6\u001b[0m         \u001b[0mD\u001b[0m \u001b[1;33m=\u001b[0m  \u001b[0mA\u001b[0m\u001b[1;33m[\u001b[0m\u001b[1;34m'diff'\u001b[0m\u001b[1;33m]\u001b[0m\u001b[1;33m\u001b[0m\u001b[0m\n\u001b[1;32m      7\u001b[0m         \u001b[0mwilcox_data\u001b[0m\u001b[1;33m[\u001b[0m\u001b[0mj\u001b[0m\u001b[1;33m]\u001b[0m\u001b[1;33m[\u001b[0m\u001b[0mi\u001b[0m\u001b[1;33m]\u001b[0m \u001b[1;33m=\u001b[0m \u001b[0mmy_wilcox\u001b[0m\u001b[1;33m(\u001b[0m\u001b[0mD\u001b[0m\u001b[1;33m.\u001b[0m\u001b[0mvalues\u001b[0m\u001b[1;33m)\u001b[0m\u001b[1;33m\u001b[0m\u001b[0m\n",
      "\u001b[0;31mNameError\u001b[0m: name 'd' is not defined"
     ]
    }
   ],
   "source": [
    "j = 0\n",
    "for field in fields:\n",
    "    i = 0\n",
    "    for depth in depths:\n",
    "        A =  d[(d['structure'] == structure) & (d['metric'] == metric)]\n",
    "        D =  A['diff']\n",
    "        wilcox_data[j][i] = my_wilcox(D.values)\n",
    "        i = i + 1\n",
    "    j = j+ 1  "
   ]
  },
  {
   "cell_type": "code",
   "execution_count": null,
   "metadata": {
    "collapsed": true
   },
   "outputs": [],
   "source": [
    "TPR_df = pd.DataFrame(data=wilcox_data, index=depths, columns=fields)  # 1st row as the column names"
   ]
  }
 ],
 "metadata": {
  "anaconda-cloud": {},
  "kernelspec": {
   "display_name": "Python [conda root]",
   "language": "python",
   "name": "conda-root-py"
  },
  "language_info": {
   "codemirror_mode": {
    "name": "ipython",
    "version": 3
   },
   "file_extension": ".py",
   "mimetype": "text/x-python",
   "name": "python",
   "nbconvert_exporter": "python",
   "pygments_lexer": "ipython3",
   "version": "3.5.2"
  }
 },
 "nbformat": 4,
 "nbformat_minor": 1
}
