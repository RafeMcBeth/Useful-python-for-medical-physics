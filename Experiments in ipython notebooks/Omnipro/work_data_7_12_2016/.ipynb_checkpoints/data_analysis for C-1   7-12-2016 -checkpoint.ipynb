{
 "cells": [
  {
   "cell_type": "code",
   "execution_count": 1,
   "metadata": {
    "collapsed": true
   },
   "outputs": [],
   "source": [
    "%matplotlib inline\n",
    "import numpy as np\n",
    "import pandas as pd\n",
    "import matplotlib.pyplot as plt"
   ]
  },
  {
   "cell_type": "markdown",
   "metadata": {},
   "source": [
    "## Profile comparisons\n",
    "I’d like you to compare raw measurements with post processed measurements as part of your work.\n",
    "\n",
    "Look at the differences in the CC13 (ion chamber from IBA), Micro Diamond (PTW) and Photon diode (IBA) – what are the differences in the detectors and why might you use one over the other?\n",
    "\n",
    "What are the measured differences? I’d like you to look at Field Sizes: 4x4, 10x10 and 30x30 for each of the 5 depths."
   ]
  },
  {
   "cell_type": "markdown",
   "metadata": {},
   "source": [
    "### 6 X PDD\n",
    "\n",
    "MicroDiamond"
   ]
  },
  {
   "cell_type": "code",
   "execution_count": 2,
   "metadata": {
    "collapsed": false
   },
   "outputs": [
    {
     "data": {
      "text/html": [
       "<div>\n",
       "<table border=\"1\" class=\"dataframe\">\n",
       "  <thead>\n",
       "    <tr style=\"text-align: right;\">\n",
       "      <th></th>\n",
       "      <th>(Crossline, 10 x 10 mm, 15.0 mm)</th>\n",
       "      <th>(Crossline, 10 x 10 mm, 50.0 mm)</th>\n",
       "      <th>(Crossline, 10 x 10 mm, 100.0 mm)</th>\n",
       "      <th>(Crossline, 10 x 10 mm, 200.0 mm)</th>\n",
       "      <th>(Crossline, 10 x 10 mm, 300.0 mm)</th>\n",
       "      <th>(Crossline, 20 x 20 mm, 15.0 mm)</th>\n",
       "      <th>(Crossline, 20 x 20 mm, 50.0 mm)</th>\n",
       "      <th>(Crossline, 20 x 20 mm, 100.0 mm)</th>\n",
       "      <th>(Crossline, 20 x 20 mm, 200.0 mm)</th>\n",
       "      <th>(Crossline, 20 x 20 mm, 300.0 mm)</th>\n",
       "      <th>...</th>\n",
       "      <th>(Crossline, 200 x 200 mm, 100.0 mm)</th>\n",
       "      <th>(Crossline, 200 x 200 mm, 200.0 mm)</th>\n",
       "      <th>(Crossline, 200 x 200 mm, 300.0 mm)</th>\n",
       "      <th>(Crossline, 300 x 300 mm, 15.0 mm)</th>\n",
       "      <th>(Crossline, 300 x 300 mm, 50.0 mm)</th>\n",
       "      <th>(Crossline, 300 x 300 mm, 100.0 mm)</th>\n",
       "      <th>(Crossline, 300 x 300 mm, 200.0 mm)</th>\n",
       "      <th>(Crossline, 300 x 300 mm, 300.0 mm)</th>\n",
       "      <th>(Inline, 60 x 60 mm, 15.0 mm)</th>\n",
       "      <th>(Inline, 60 x 60 mm, 300.0 mm)</th>\n",
       "    </tr>\n",
       "    <tr>\n",
       "      <th>Coordinate [mm]:</th>\n",
       "      <th></th>\n",
       "      <th></th>\n",
       "      <th></th>\n",
       "      <th></th>\n",
       "      <th></th>\n",
       "      <th></th>\n",
       "      <th></th>\n",
       "      <th></th>\n",
       "      <th></th>\n",
       "      <th></th>\n",
       "      <th></th>\n",
       "      <th></th>\n",
       "      <th></th>\n",
       "      <th></th>\n",
       "      <th></th>\n",
       "      <th></th>\n",
       "      <th></th>\n",
       "      <th></th>\n",
       "      <th></th>\n",
       "      <th></th>\n",
       "      <th></th>\n",
       "    </tr>\n",
       "  </thead>\n",
       "  <tbody>\n",
       "    <tr>\n",
       "      <th>-239</th>\n",
       "      <td>0.0</td>\n",
       "      <td>0.0</td>\n",
       "      <td>0.0</td>\n",
       "      <td>0.0</td>\n",
       "      <td>0.0</td>\n",
       "      <td>0.0</td>\n",
       "      <td>0.0</td>\n",
       "      <td>0.0</td>\n",
       "      <td>0.0</td>\n",
       "      <td>0.0</td>\n",
       "      <td>...</td>\n",
       "      <td>0.0</td>\n",
       "      <td>0.0</td>\n",
       "      <td>0.0</td>\n",
       "      <td>0.0</td>\n",
       "      <td>0.0</td>\n",
       "      <td>0.0</td>\n",
       "      <td>0.0</td>\n",
       "      <td>4.7</td>\n",
       "      <td>0.0</td>\n",
       "      <td>0.0</td>\n",
       "    </tr>\n",
       "    <tr>\n",
       "      <th>-238</th>\n",
       "      <td>0.0</td>\n",
       "      <td>0.0</td>\n",
       "      <td>0.0</td>\n",
       "      <td>0.0</td>\n",
       "      <td>0.0</td>\n",
       "      <td>0.0</td>\n",
       "      <td>0.0</td>\n",
       "      <td>0.0</td>\n",
       "      <td>0.0</td>\n",
       "      <td>0.0</td>\n",
       "      <td>...</td>\n",
       "      <td>0.0</td>\n",
       "      <td>0.0</td>\n",
       "      <td>0.0</td>\n",
       "      <td>0.0</td>\n",
       "      <td>0.0</td>\n",
       "      <td>0.0</td>\n",
       "      <td>0.0</td>\n",
       "      <td>4.8</td>\n",
       "      <td>0.0</td>\n",
       "      <td>0.0</td>\n",
       "    </tr>\n",
       "    <tr>\n",
       "      <th>-237</th>\n",
       "      <td>0.0</td>\n",
       "      <td>0.0</td>\n",
       "      <td>0.0</td>\n",
       "      <td>0.0</td>\n",
       "      <td>0.0</td>\n",
       "      <td>0.0</td>\n",
       "      <td>0.0</td>\n",
       "      <td>0.0</td>\n",
       "      <td>0.0</td>\n",
       "      <td>0.0</td>\n",
       "      <td>...</td>\n",
       "      <td>0.0</td>\n",
       "      <td>0.0</td>\n",
       "      <td>0.0</td>\n",
       "      <td>0.0</td>\n",
       "      <td>0.0</td>\n",
       "      <td>0.0</td>\n",
       "      <td>0.0</td>\n",
       "      <td>5.0</td>\n",
       "      <td>0.0</td>\n",
       "      <td>0.0</td>\n",
       "    </tr>\n",
       "    <tr>\n",
       "      <th>-236</th>\n",
       "      <td>0.0</td>\n",
       "      <td>0.0</td>\n",
       "      <td>0.0</td>\n",
       "      <td>0.0</td>\n",
       "      <td>0.0</td>\n",
       "      <td>0.0</td>\n",
       "      <td>0.0</td>\n",
       "      <td>0.0</td>\n",
       "      <td>0.0</td>\n",
       "      <td>0.0</td>\n",
       "      <td>...</td>\n",
       "      <td>0.0</td>\n",
       "      <td>0.0</td>\n",
       "      <td>0.0</td>\n",
       "      <td>0.0</td>\n",
       "      <td>0.0</td>\n",
       "      <td>0.0</td>\n",
       "      <td>0.0</td>\n",
       "      <td>5.1</td>\n",
       "      <td>0.0</td>\n",
       "      <td>0.0</td>\n",
       "    </tr>\n",
       "    <tr>\n",
       "      <th>-235</th>\n",
       "      <td>0.0</td>\n",
       "      <td>0.0</td>\n",
       "      <td>0.0</td>\n",
       "      <td>0.0</td>\n",
       "      <td>0.0</td>\n",
       "      <td>0.0</td>\n",
       "      <td>0.0</td>\n",
       "      <td>0.0</td>\n",
       "      <td>0.0</td>\n",
       "      <td>0.0</td>\n",
       "      <td>...</td>\n",
       "      <td>0.0</td>\n",
       "      <td>0.0</td>\n",
       "      <td>0.0</td>\n",
       "      <td>0.0</td>\n",
       "      <td>0.0</td>\n",
       "      <td>0.0</td>\n",
       "      <td>0.0</td>\n",
       "      <td>5.1</td>\n",
       "      <td>0.0</td>\n",
       "      <td>0.0</td>\n",
       "    </tr>\n",
       "  </tbody>\n",
       "</table>\n",
       "<p>5 rows × 54 columns</p>\n",
       "</div>"
      ],
      "text/plain": [
       "                  (Crossline, 10 x 10 mm, 15.0 mm)  \\\n",
       "Coordinate [mm]:                                     \n",
       "-239                                           0.0   \n",
       "-238                                           0.0   \n",
       "-237                                           0.0   \n",
       "-236                                           0.0   \n",
       "-235                                           0.0   \n",
       "\n",
       "                  (Crossline, 10 x 10 mm, 50.0 mm)  \\\n",
       "Coordinate [mm]:                                     \n",
       "-239                                           0.0   \n",
       "-238                                           0.0   \n",
       "-237                                           0.0   \n",
       "-236                                           0.0   \n",
       "-235                                           0.0   \n",
       "\n",
       "                  (Crossline, 10 x 10 mm, 100.0 mm)  \\\n",
       "Coordinate [mm]:                                      \n",
       "-239                                            0.0   \n",
       "-238                                            0.0   \n",
       "-237                                            0.0   \n",
       "-236                                            0.0   \n",
       "-235                                            0.0   \n",
       "\n",
       "                  (Crossline, 10 x 10 mm, 200.0 mm)  \\\n",
       "Coordinate [mm]:                                      \n",
       "-239                                            0.0   \n",
       "-238                                            0.0   \n",
       "-237                                            0.0   \n",
       "-236                                            0.0   \n",
       "-235                                            0.0   \n",
       "\n",
       "                  (Crossline, 10 x 10 mm, 300.0 mm)  \\\n",
       "Coordinate [mm]:                                      \n",
       "-239                                            0.0   \n",
       "-238                                            0.0   \n",
       "-237                                            0.0   \n",
       "-236                                            0.0   \n",
       "-235                                            0.0   \n",
       "\n",
       "                  (Crossline, 20 x 20 mm, 15.0 mm)  \\\n",
       "Coordinate [mm]:                                     \n",
       "-239                                           0.0   \n",
       "-238                                           0.0   \n",
       "-237                                           0.0   \n",
       "-236                                           0.0   \n",
       "-235                                           0.0   \n",
       "\n",
       "                  (Crossline, 20 x 20 mm, 50.0 mm)  \\\n",
       "Coordinate [mm]:                                     \n",
       "-239                                           0.0   \n",
       "-238                                           0.0   \n",
       "-237                                           0.0   \n",
       "-236                                           0.0   \n",
       "-235                                           0.0   \n",
       "\n",
       "                  (Crossline, 20 x 20 mm, 100.0 mm)  \\\n",
       "Coordinate [mm]:                                      \n",
       "-239                                            0.0   \n",
       "-238                                            0.0   \n",
       "-237                                            0.0   \n",
       "-236                                            0.0   \n",
       "-235                                            0.0   \n",
       "\n",
       "                  (Crossline, 20 x 20 mm, 200.0 mm)  \\\n",
       "Coordinate [mm]:                                      \n",
       "-239                                            0.0   \n",
       "-238                                            0.0   \n",
       "-237                                            0.0   \n",
       "-236                                            0.0   \n",
       "-235                                            0.0   \n",
       "\n",
       "                  (Crossline, 20 x 20 mm, 300.0 mm)  \\\n",
       "Coordinate [mm]:                                      \n",
       "-239                                            0.0   \n",
       "-238                                            0.0   \n",
       "-237                                            0.0   \n",
       "-236                                            0.0   \n",
       "-235                                            0.0   \n",
       "\n",
       "                               ...                \\\n",
       "Coordinate [mm]:               ...                 \n",
       "-239                           ...                 \n",
       "-238                           ...                 \n",
       "-237                           ...                 \n",
       "-236                           ...                 \n",
       "-235                           ...                 \n",
       "\n",
       "                  (Crossline, 200 x 200 mm, 100.0 mm)  \\\n",
       "Coordinate [mm]:                                        \n",
       "-239                                              0.0   \n",
       "-238                                              0.0   \n",
       "-237                                              0.0   \n",
       "-236                                              0.0   \n",
       "-235                                              0.0   \n",
       "\n",
       "                  (Crossline, 200 x 200 mm, 200.0 mm)  \\\n",
       "Coordinate [mm]:                                        \n",
       "-239                                              0.0   \n",
       "-238                                              0.0   \n",
       "-237                                              0.0   \n",
       "-236                                              0.0   \n",
       "-235                                              0.0   \n",
       "\n",
       "                  (Crossline, 200 x 200 mm, 300.0 mm)  \\\n",
       "Coordinate [mm]:                                        \n",
       "-239                                              0.0   \n",
       "-238                                              0.0   \n",
       "-237                                              0.0   \n",
       "-236                                              0.0   \n",
       "-235                                              0.0   \n",
       "\n",
       "                  (Crossline, 300 x 300 mm, 15.0 mm)  \\\n",
       "Coordinate [mm]:                                       \n",
       "-239                                             0.0   \n",
       "-238                                             0.0   \n",
       "-237                                             0.0   \n",
       "-236                                             0.0   \n",
       "-235                                             0.0   \n",
       "\n",
       "                  (Crossline, 300 x 300 mm, 50.0 mm)  \\\n",
       "Coordinate [mm]:                                       \n",
       "-239                                             0.0   \n",
       "-238                                             0.0   \n",
       "-237                                             0.0   \n",
       "-236                                             0.0   \n",
       "-235                                             0.0   \n",
       "\n",
       "                  (Crossline, 300 x 300 mm, 100.0 mm)  \\\n",
       "Coordinate [mm]:                                        \n",
       "-239                                              0.0   \n",
       "-238                                              0.0   \n",
       "-237                                              0.0   \n",
       "-236                                              0.0   \n",
       "-235                                              0.0   \n",
       "\n",
       "                  (Crossline, 300 x 300 mm, 200.0 mm)  \\\n",
       "Coordinate [mm]:                                        \n",
       "-239                                              0.0   \n",
       "-238                                              0.0   \n",
       "-237                                              0.0   \n",
       "-236                                              0.0   \n",
       "-235                                              0.0   \n",
       "\n",
       "                  (Crossline, 300 x 300 mm, 300.0 mm)  \\\n",
       "Coordinate [mm]:                                        \n",
       "-239                                              4.7   \n",
       "-238                                              4.8   \n",
       "-237                                              5.0   \n",
       "-236                                              5.1   \n",
       "-235                                              5.1   \n",
       "\n",
       "                  (Inline, 60 x 60 mm, 15.0 mm)  \\\n",
       "Coordinate [mm]:                                  \n",
       "-239                                        0.0   \n",
       "-238                                        0.0   \n",
       "-237                                        0.0   \n",
       "-236                                        0.0   \n",
       "-235                                        0.0   \n",
       "\n",
       "                  (Inline, 60 x 60 mm, 300.0 mm)  \n",
       "Coordinate [mm]:                                  \n",
       "-239                                         0.0  \n",
       "-238                                         0.0  \n",
       "-237                                         0.0  \n",
       "-236                                         0.0  \n",
       "-235                                         0.0  \n",
       "\n",
       "[5 rows x 54 columns]"
      ]
     },
     "execution_count": 2,
     "metadata": {},
     "output_type": "execute_result"
    }
   ],
   "source": [
    "MicroDiamond_df  = pd.read_table('6MV 100FSD Profiles MicroDiamond - RAW.csv', sep= \",\", index_col=0, header=[1,4,5], skiprows=[6]).fillna(0).astype(float);\n",
    "MicroDiamond_df.head()  # loaded data"
   ]
  },
  {
   "cell_type": "code",
   "execution_count": 3,
   "metadata": {
    "collapsed": false
   },
   "outputs": [],
   "source": [
    "MicroDiamond_4_ls = [i for i in MicroDiamond_df.columns if '40 x 40 mm' in i]  # get lists of interesting files\n",
    "MicroDiamond_10_ls = [i for i in MicroDiamond_df.columns if '100 x 100 mm' in i]  # get lists of interesting files\n",
    "MicroDiamond_30_ls = [i for i in MicroDiamond_df.columns if '300 x 300 mm' in i]  # get lists of interesting files"
   ]
  },
  {
   "cell_type": "code",
   "execution_count": 4,
   "metadata": {
    "collapsed": false
   },
   "outputs": [
    {
     "data": {
      "image/png": "[encoded data removed]",
      "text/plain": [
       "<matplotlib.figure.Figure at 0x837ff50>"
      ]
     },
     "metadata": {},
     "output_type": "display_data"
    }
   ],
   "source": [
    "MicroDiamond_df[MicroDiamond_10_ls].plot().legend(loc='center left', bbox_to_anchor=(1, 0.5));"
   ]
  },
  {
   "cell_type": "markdown",
   "metadata": {},
   "source": [
    "Diode"
   ]
  },
  {
   "cell_type": "code",
   "execution_count": 5,
   "metadata": {
    "collapsed": false
   },
   "outputs": [],
   "source": [
    "Diode_df  = pd.read_table('6MV Profiles Photon Diode  - RAW.csv', sep= \",\", index_col=0, header=[1,4,5], skiprows=[6]).fillna(0).astype(float);\n",
    "# Diode_df.head()  # loaded data"
   ]
  },
  {
   "cell_type": "code",
   "execution_count": 6,
   "metadata": {
    "collapsed": false
   },
   "outputs": [],
   "source": [
    "# Diode_df.columns "
   ]
  },
  {
   "cell_type": "markdown",
   "metadata": {},
   "source": [
    "No 30x30 data for Diode"
   ]
  },
  {
   "cell_type": "code",
   "execution_count": 7,
   "metadata": {
    "collapsed": true
   },
   "outputs": [],
   "source": [
    "Diode_4_ls = [i for i in Diode_df.columns if '40 x 40 mm' in i]  # get lists of interesting files\n",
    "Diode_10_ls = [i for i in Diode_df.columns if '100 x 100 mm' in i]  # get lists of interesting files\n",
    "#Diode_30_ls = [i for i in Diode_df.columns if '300 x 300 mm' in i]  # get lists of interesting files"
   ]
  },
  {
   "cell_type": "code",
   "execution_count": 72,
   "metadata": {
    "collapsed": false
   },
   "outputs": [
    {
     "data": {
      "text/plain": [
       "[('Crossline', '40 x 40 mm', '15.0 mm'),\n",
       " ('Crossline', '40 x 40 mm', '50.0 mm'),\n",
       " ('Crossline', '40 x 40 mm', '100.0 mm'),\n",
       " ('Crossline', '40 x 40 mm', '200.0 mm'),\n",
       " ('Crossline', '40 x 40 mm', '300.0 mm')]"
      ]
     },
     "execution_count": 72,
     "metadata": {},
     "output_type": "execute_result"
    }
   ],
   "source": [
    "Diode_4_ls"
   ]
  },
  {
   "cell_type": "code",
   "execution_count": 74,
   "metadata": {
    "collapsed": false
   },
   "outputs": [
    {
     "data": {
      "text/plain": [
       "[('Crossline', '40 x 40 mm', '300.0 mm')]"
      ]
     },
     "execution_count": 74,
     "metadata": {},
     "output_type": "execute_result"
    }
   ],
   "source": [
    "Diode_4_ls2 = [i for i in Diode_4_ls if '300.0 mm' in i] \n",
    "Diode_4_ls2"
   ]
  },
  {
   "cell_type": "code",
   "execution_count": 79,
   "metadata": {
    "collapsed": false
   },
   "outputs": [
    {
     "data": {
      "text/plain": [
       "[('Crossline', '40 x 40 mm', '300.0 mm')]"
      ]
     },
     "execution_count": 79,
     "metadata": {},
     "output_type": "execute_result"
    }
   ],
   "source": [
    "Diode_4_ls3 = [i for i in [i for i in Diode_4_ls if '300.0 mm' in i] if '40 x 40 mm' in i]  # nested, but why doesnt and work?\n",
    "Diode_4_ls3"
   ]
  },
  {
   "cell_type": "markdown",
   "metadata": {},
   "source": [
    "CC13 - .13 CC ion chamber"
   ]
  },
  {
   "cell_type": "code",
   "execution_count": 9,
   "metadata": {
    "collapsed": false
   },
   "outputs": [
    {
     "data": {
      "text/html": [
       "<div>\n",
       "<table border=\"1\" class=\"dataframe\">\n",
       "  <thead>\n",
       "    <tr>\n",
       "      <th>Scan Type:</th>\n",
       "      <th colspan=\"14\" halign=\"left\">Crossline</th>\n",
       "      <th colspan=\"7\" halign=\"left\">Inline</th>\n",
       "    </tr>\n",
       "    <tr>\n",
       "      <th>Fieldsize:</th>\n",
       "      <th colspan=\"5\" halign=\"left\">40 x 40 mm</th>\n",
       "      <th colspan=\"5\" halign=\"left\">70 x 70 mm</th>\n",
       "      <th>...</th>\n",
       "      <th colspan=\"3\" halign=\"left\">300 x 300 mm</th>\n",
       "      <th colspan=\"2\" halign=\"left\">40 x 40 mm</th>\n",
       "      <th colspan=\"2\" halign=\"left\">70 x 70 mm</th>\n",
       "      <th>100 x 100 mm</th>\n",
       "      <th>200 x 200 mm</th>\n",
       "      <th>300 x 300 mm</th>\n",
       "    </tr>\n",
       "    <tr>\n",
       "      <th>Depth:</th>\n",
       "      <th>15.0 mm</th>\n",
       "      <th>50.0 mm</th>\n",
       "      <th>100.0 mm</th>\n",
       "      <th>200.0 mm</th>\n",
       "      <th>300.0 mm</th>\n",
       "      <th>15.0 mm</th>\n",
       "      <th>50.0 mm</th>\n",
       "      <th>100.0 mm</th>\n",
       "      <th>200.0 mm</th>\n",
       "      <th>300.0 mm</th>\n",
       "      <th>...</th>\n",
       "      <th>100.0 mm</th>\n",
       "      <th>200.0 mm</th>\n",
       "      <th>300.0 mm</th>\n",
       "      <th>15.0 mm</th>\n",
       "      <th>50.0 mm</th>\n",
       "      <th>15.0 mm</th>\n",
       "      <th>50.0 mm</th>\n",
       "      <th>15.0 mm</th>\n",
       "      <th>15.0 mm</th>\n",
       "      <th>15.0 mm</th>\n",
       "    </tr>\n",
       "    <tr>\n",
       "      <th>Coordinate [mm]:</th>\n",
       "      <th></th>\n",
       "      <th></th>\n",
       "      <th></th>\n",
       "      <th></th>\n",
       "      <th></th>\n",
       "      <th></th>\n",
       "      <th></th>\n",
       "      <th></th>\n",
       "      <th></th>\n",
       "      <th></th>\n",
       "      <th></th>\n",
       "      <th></th>\n",
       "      <th></th>\n",
       "      <th></th>\n",
       "      <th></th>\n",
       "      <th></th>\n",
       "      <th></th>\n",
       "      <th></th>\n",
       "      <th></th>\n",
       "      <th></th>\n",
       "      <th></th>\n",
       "    </tr>\n",
       "  </thead>\n",
       "  <tbody>\n",
       "    <tr>\n",
       "      <th>-241</th>\n",
       "      <td>0.0</td>\n",
       "      <td>0.0</td>\n",
       "      <td>0.0</td>\n",
       "      <td>0.0</td>\n",
       "      <td>0.0</td>\n",
       "      <td>0.0</td>\n",
       "      <td>0.0</td>\n",
       "      <td>0.0</td>\n",
       "      <td>0.0</td>\n",
       "      <td>0.0</td>\n",
       "      <td>...</td>\n",
       "      <td>0.0</td>\n",
       "      <td>0.0</td>\n",
       "      <td>5.2</td>\n",
       "      <td>0.0</td>\n",
       "      <td>0.0</td>\n",
       "      <td>0.0</td>\n",
       "      <td>0.0</td>\n",
       "      <td>0.0</td>\n",
       "      <td>0.0</td>\n",
       "      <td>0.0</td>\n",
       "    </tr>\n",
       "    <tr>\n",
       "      <th>-240</th>\n",
       "      <td>0.0</td>\n",
       "      <td>0.0</td>\n",
       "      <td>0.0</td>\n",
       "      <td>0.0</td>\n",
       "      <td>0.0</td>\n",
       "      <td>0.0</td>\n",
       "      <td>0.0</td>\n",
       "      <td>0.0</td>\n",
       "      <td>0.0</td>\n",
       "      <td>0.0</td>\n",
       "      <td>...</td>\n",
       "      <td>0.0</td>\n",
       "      <td>0.0</td>\n",
       "      <td>5.3</td>\n",
       "      <td>0.0</td>\n",
       "      <td>0.0</td>\n",
       "      <td>0.0</td>\n",
       "      <td>0.0</td>\n",
       "      <td>0.0</td>\n",
       "      <td>0.0</td>\n",
       "      <td>0.0</td>\n",
       "    </tr>\n",
       "    <tr>\n",
       "      <th>-239</th>\n",
       "      <td>0.0</td>\n",
       "      <td>0.0</td>\n",
       "      <td>0.0</td>\n",
       "      <td>0.0</td>\n",
       "      <td>0.0</td>\n",
       "      <td>0.0</td>\n",
       "      <td>0.0</td>\n",
       "      <td>0.0</td>\n",
       "      <td>0.0</td>\n",
       "      <td>0.0</td>\n",
       "      <td>...</td>\n",
       "      <td>0.0</td>\n",
       "      <td>0.0</td>\n",
       "      <td>5.3</td>\n",
       "      <td>0.0</td>\n",
       "      <td>0.0</td>\n",
       "      <td>0.0</td>\n",
       "      <td>0.0</td>\n",
       "      <td>0.0</td>\n",
       "      <td>0.0</td>\n",
       "      <td>0.0</td>\n",
       "    </tr>\n",
       "    <tr>\n",
       "      <th>-238</th>\n",
       "      <td>0.0</td>\n",
       "      <td>0.0</td>\n",
       "      <td>0.0</td>\n",
       "      <td>0.0</td>\n",
       "      <td>0.0</td>\n",
       "      <td>0.0</td>\n",
       "      <td>0.0</td>\n",
       "      <td>0.0</td>\n",
       "      <td>0.0</td>\n",
       "      <td>0.0</td>\n",
       "      <td>...</td>\n",
       "      <td>0.0</td>\n",
       "      <td>0.0</td>\n",
       "      <td>5.4</td>\n",
       "      <td>0.0</td>\n",
       "      <td>0.0</td>\n",
       "      <td>0.0</td>\n",
       "      <td>0.0</td>\n",
       "      <td>0.0</td>\n",
       "      <td>0.0</td>\n",
       "      <td>0.0</td>\n",
       "    </tr>\n",
       "    <tr>\n",
       "      <th>-237</th>\n",
       "      <td>0.0</td>\n",
       "      <td>0.0</td>\n",
       "      <td>0.0</td>\n",
       "      <td>0.0</td>\n",
       "      <td>0.0</td>\n",
       "      <td>0.0</td>\n",
       "      <td>0.0</td>\n",
       "      <td>0.0</td>\n",
       "      <td>0.0</td>\n",
       "      <td>0.0</td>\n",
       "      <td>...</td>\n",
       "      <td>0.0</td>\n",
       "      <td>0.0</td>\n",
       "      <td>5.5</td>\n",
       "      <td>0.0</td>\n",
       "      <td>0.0</td>\n",
       "      <td>0.0</td>\n",
       "      <td>0.0</td>\n",
       "      <td>0.0</td>\n",
       "      <td>0.0</td>\n",
       "      <td>0.0</td>\n",
       "    </tr>\n",
       "  </tbody>\n",
       "</table>\n",
       "<p>5 rows × 32 columns</p>\n",
       "</div>"
      ],
      "text/plain": [
       "Scan Type:        Crossline                                                \\\n",
       "Fieldsize:       40 x 40 mm                                    70 x 70 mm   \n",
       "Depth:              15.0 mm 50.0 mm 100.0 mm 200.0 mm 300.0 mm    15.0 mm   \n",
       "Coordinate [mm]:                                                            \n",
       "-241                    0.0     0.0      0.0      0.0      0.0        0.0   \n",
       "-240                    0.0     0.0      0.0      0.0      0.0        0.0   \n",
       "-239                    0.0     0.0      0.0      0.0      0.0        0.0   \n",
       "-238                    0.0     0.0      0.0      0.0      0.0        0.0   \n",
       "-237                    0.0     0.0      0.0      0.0      0.0        0.0   \n",
       "\n",
       "Scan Type:                                              ...                    \\\n",
       "Fieldsize:                                              ...      300 x 300 mm   \n",
       "Depth:           50.0 mm 100.0 mm 200.0 mm 300.0 mm     ...          100.0 mm   \n",
       "Coordinate [mm]:                                        ...                     \n",
       "-241                 0.0      0.0      0.0      0.0     ...               0.0   \n",
       "-240                 0.0      0.0      0.0      0.0     ...               0.0   \n",
       "-239                 0.0      0.0      0.0      0.0     ...               0.0   \n",
       "-238                 0.0      0.0      0.0      0.0     ...               0.0   \n",
       "-237                 0.0      0.0      0.0      0.0     ...               0.0   \n",
       "\n",
       "Scan Type:                             Inline                             \\\n",
       "Fieldsize:                         40 x 40 mm         70 x 70 mm           \n",
       "Depth:           200.0 mm 300.0 mm    15.0 mm 50.0 mm    15.0 mm 50.0 mm   \n",
       "Coordinate [mm]:                                                           \n",
       "-241                  0.0      5.2        0.0     0.0        0.0     0.0   \n",
       "-240                  0.0      5.3        0.0     0.0        0.0     0.0   \n",
       "-239                  0.0      5.3        0.0     0.0        0.0     0.0   \n",
       "-238                  0.0      5.4        0.0     0.0        0.0     0.0   \n",
       "-237                  0.0      5.5        0.0     0.0        0.0     0.0   \n",
       "\n",
       "Scan Type:                                               \n",
       "Fieldsize:       100 x 100 mm 200 x 200 mm 300 x 300 mm  \n",
       "Depth:                15.0 mm      15.0 mm      15.0 mm  \n",
       "Coordinate [mm]:                                         \n",
       "-241                      0.0          0.0          0.0  \n",
       "-240                      0.0          0.0          0.0  \n",
       "-239                      0.0          0.0          0.0  \n",
       "-238                      0.0          0.0          0.0  \n",
       "-237                      0.0          0.0          0.0  \n",
       "\n",
       "[5 rows x 32 columns]"
      ]
     },
     "execution_count": 9,
     "metadata": {},
     "output_type": "execute_result"
    }
   ],
   "source": [
    "CC13_df  = pd.read_table('6X Profiles CC13 RAW.csv', sep= \",\", index_col=0, header=[1,4,5], skiprows=[6]).fillna(0).astype(float);\n",
    "CC13_df.head()  # loaded data, comse in as multi-index, not sure why different"
   ]
  },
  {
   "cell_type": "code",
   "execution_count": 35,
   "metadata": {
    "collapsed": false
   },
   "outputs": [
    {
     "data": {
      "text/plain": [
       "Index(['40 x 40 mm', '70 x 70 mm', '100 x 100 mm', '200 x 200 mm',\n",
       "       '300 x 300 mm'],\n",
       "      dtype='object', name='Fieldsize:')"
      ]
     },
     "execution_count": 35,
     "metadata": {},
     "output_type": "execute_result"
    }
   ],
   "source": [
    "fields_list = CC13_df.columns.get_level_values(1).unique()  # get unique field sizes\n",
    "fields_list"
   ]
  },
  {
   "cell_type": "code",
   "execution_count": 15,
   "metadata": {
    "collapsed": false
   },
   "outputs": [],
   "source": [
    "# CC13_df['Crossline']['100 x 100 mm']['300.0 mm'] # as multiindex index like this"
   ]
  },
  {
   "cell_type": "markdown",
   "metadata": {},
   "source": [
    "## Comparison of profiles at field 10x10 cm, depth 300mm"
   ]
  },
  {
   "cell_type": "code",
   "execution_count": 11,
   "metadata": {
    "collapsed": false
   },
   "outputs": [
    {
     "name": "stdout",
     "output_type": "stream",
     "text": [
      "('Crossline', '100 x 100 mm', '300.0 mm')\n",
      "('Crossline', '100 x 100 mm', '300.0 mm')\n"
     ]
    }
   ],
   "source": [
    "print(Diode_10_ls[4])\n",
    "print(MicroDiamond_10_ls[4])"
   ]
  },
  {
   "cell_type": "code",
   "execution_count": 53,
   "metadata": {
    "collapsed": false
   },
   "outputs": [
    {
     "data": {
      "image/png": "[encoded data removed]",
      "text/plain": [
       "<matplotlib.figure.Figure at 0x985c8b0>"
      ]
     },
     "metadata": {},
     "output_type": "display_data"
    }
   ],
   "source": [
    "trace1 = Diode_df[Diode_10_ls[4]]\n",
    "trace2 = MicroDiamond_df[MicroDiamond_10_ls[4]]\n",
    "trace3 = CC13_df['Crossline']['100 x 100 mm']['300.0 mm']\n",
    "mean_trace = (trace1 + trace2 + trace3)/3.0\n",
    "\n",
    "plt.plot(trace1, color='red', label='Diode')\n",
    "plt.plot(trace2, color='green', label='MicroDiamond')\n",
    "plt.plot(trace3, color='black', label='CC13')\n",
    "plt.plot(mean_trace, color='blue', label='Mean')\n",
    "\n",
    "plt.title('Field 10 x 10 cm, depth 300mm')\n",
    "plt.xlim( [0,100] ) \n",
    "plt.legend(loc='center left', bbox_to_anchor=(1, 0.5));"
   ]
  },
  {
   "cell_type": "markdown",
   "metadata": {},
   "source": [
    "Plot the difference"
   ]
  },
  {
   "cell_type": "code",
   "execution_count": 54,
   "metadata": {
    "collapsed": false
   },
   "outputs": [
    {
     "data": {
      "image/png": "[encoded data removed]",
      "text/plain": [
       "<matplotlib.figure.Figure at 0xaa3a7f0>"
      ]
     },
     "metadata": {},
     "output_type": "display_data"
    }
   ],
   "source": [
    "plt.plot(trace1 - mean_trace, label='Diode - mean' )\n",
    "plt.plot(trace2 - mean_trace, label='MicroDiamond - mean' )\n",
    "plt.plot(trace3 - mean_trace, label='CC13 - mean' )\n",
    "plt.axhline(color='k', linestyle='solid')\n",
    "plt.xlim( [0,100] ) \n",
    "plt.title('Field 10 x 10 cm, depth 300mm')\n",
    "plt.legend(loc='center left', bbox_to_anchor=(1, 0.5));"
   ]
  },
  {
   "cell_type": "code",
   "execution_count": 51,
   "metadata": {
    "collapsed": true
   },
   "outputs": [],
   "source": [
    "?plt.axvline"
   ]
  },
  {
   "cell_type": "code",
   "execution_count": null,
   "metadata": {
    "collapsed": true
   },
   "outputs": [],
   "source": []
  }
 ],
 "metadata": {
  "kernelspec": {
   "display_name": "Python [conda root]",
   "language": "python",
   "name": "conda-root-py"
  },
  "language_info": {
   "codemirror_mode": {
    "name": "ipython",
    "version": 3
   },
   "file_extension": ".py",
   "mimetype": "text/x-python",
   "name": "python",
   "nbconvert_exporter": "python",
   "pygments_lexer": "ipython3",
   "version": "3.5.2"
  }
 },
 "nbformat": 4,
 "nbformat_minor": 1
}
