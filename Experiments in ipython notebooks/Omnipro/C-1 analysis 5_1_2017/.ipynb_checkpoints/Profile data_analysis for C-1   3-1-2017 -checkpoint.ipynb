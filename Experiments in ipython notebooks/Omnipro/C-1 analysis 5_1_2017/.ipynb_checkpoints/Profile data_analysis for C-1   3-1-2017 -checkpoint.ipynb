{
 "cells": [
  {
   "cell_type": "code",
   "execution_count": 1,
   "metadata": {
    "collapsed": true
   },
   "outputs": [],
   "source": [
    "%matplotlib inline\n",
    "import numpy as np\n",
    "import pandas as pd\n",
    "import matplotlib.pyplot as plt"
   ]
  },
  {
   "cell_type": "markdown",
   "metadata": {},
   "source": [
    "## Profile comparisons\n",
    "I’d like you to compare raw measurements with post processed measurements as part of your work.\n",
    "\n",
    "Look at the differences in the CC13 (ion chamber from IBA), Micro Diamond (PTW) and Photon diode (IBA) – what are the differences in the detectors and why might you use one over the other?\n",
    "\n",
    "What are the measured differences? I’d like you to look at Field Sizes: 4x4, 10x10 and 30x30 for each of the 5 depths. NOTE 30x30 not in all sets"
   ]
  },
  {
   "cell_type": "markdown",
   "metadata": {},
   "source": [
    "## MicroDiamond"
   ]
  },
  {
   "cell_type": "markdown",
   "metadata": {},
   "source": [
    "Raw file not correctly imported as multiIndex, appears to be related to incorrect handling of header, so do some work to get into multiIndex format"
   ]
  },
  {
   "cell_type": "code",
   "execution_count": 2,
   "metadata": {
    "collapsed": false,
    "scrolled": true
   },
   "outputs": [],
   "source": [
    "MicroDiamond_df_raw  = pd.read_table('6MV 100FSD Profiles MicroDiamond - RAW.csv', sep= \",\", header=[1,4,5],  skiprows=[6]) # index_col=0,  .fillna(0).astype(float);\n",
    "MicroDiamond_df_raw = MicroDiamond_df_raw.ix[:,1:]  # skip the first column"
   ]
  },
  {
   "cell_type": "markdown",
   "metadata": {},
   "source": [
    "Get the column info required for multiIndex construction"
   ]
  },
  {
   "cell_type": "code",
   "execution_count": 3,
   "metadata": {
    "collapsed": false
   },
   "outputs": [],
   "source": [
    "tuples_list = MicroDiamond_df_raw.columns\n",
    "cross_type, field_type, depth_mm = list(zip(*tuples_list))    # unzip the original columns index"
   ]
  },
  {
   "cell_type": "code",
   "execution_count": 4,
   "metadata": {
    "collapsed": false
   },
   "outputs": [],
   "source": [
    "cross_type_strings = [ \"%s\" % x for x in cross_type ]\n",
    "field_type_strings = [ \"%s\" % x for x in field_type ]\n",
    "depth_mm_strings = [ \"%s\" % x for x in depth_mm ]    # get lists of strings"
   ]
  },
  {
   "cell_type": "code",
   "execution_count": 5,
   "metadata": {
    "collapsed": true
   },
   "outputs": [],
   "source": [
    "tuples = list(zip(*[cross_type_strings, field_type_strings, depth_mm_strings]))  #zip back into a list of tuples containing strings"
   ]
  },
  {
   "cell_type": "code",
   "execution_count": 6,
   "metadata": {
    "collapsed": false
   },
   "outputs": [],
   "source": [
    "index_multi = pd.MultiIndex.from_tuples(tuples)  # get required multiindex\n",
    "#index_multi"
   ]
  },
  {
   "cell_type": "markdown",
   "metadata": {},
   "source": [
    "Now have all the columns as lists which can be used to manually create the multiIndex"
   ]
  },
  {
   "cell_type": "code",
   "execution_count": 7,
   "metadata": {
    "collapsed": false
   },
   "outputs": [
    {
     "data": {
      "text/html": [
       "<div>\n",
       "<table border=\"1\" class=\"dataframe\">\n",
       "  <thead>\n",
       "    <tr>\n",
       "      <th></th>\n",
       "      <th colspan=\"19\" halign=\"left\">Crossline</th>\n",
       "      <th colspan=\"2\" halign=\"left\">Inline</th>\n",
       "    </tr>\n",
       "    <tr>\n",
       "      <th></th>\n",
       "      <th colspan=\"5\" halign=\"left\">10 x 10 mm</th>\n",
       "      <th colspan=\"5\" halign=\"left\">20 x 20 mm</th>\n",
       "      <th>...</th>\n",
       "      <th colspan=\"3\" halign=\"left\">200 x 200 mm</th>\n",
       "      <th colspan=\"5\" halign=\"left\">300 x 300 mm</th>\n",
       "      <th colspan=\"2\" halign=\"left\">60 x 60 mm</th>\n",
       "    </tr>\n",
       "    <tr>\n",
       "      <th></th>\n",
       "      <th>15.0 mm</th>\n",
       "      <th>50.0 mm</th>\n",
       "      <th>100.0 mm</th>\n",
       "      <th>200.0 mm</th>\n",
       "      <th>300.0 mm</th>\n",
       "      <th>15.0 mm</th>\n",
       "      <th>50.0 mm</th>\n",
       "      <th>100.0 mm</th>\n",
       "      <th>200.0 mm</th>\n",
       "      <th>300.0 mm</th>\n",
       "      <th>...</th>\n",
       "      <th>100.0 mm</th>\n",
       "      <th>200.0 mm</th>\n",
       "      <th>300.0 mm</th>\n",
       "      <th>15.0 mm</th>\n",
       "      <th>50.0 mm</th>\n",
       "      <th>100.0 mm</th>\n",
       "      <th>200.0 mm</th>\n",
       "      <th>300.0 mm</th>\n",
       "      <th>15.0 mm</th>\n",
       "      <th>300.0 mm</th>\n",
       "    </tr>\n",
       "    <tr>\n",
       "      <th>Coordinate [mm]:</th>\n",
       "      <th></th>\n",
       "      <th></th>\n",
       "      <th></th>\n",
       "      <th></th>\n",
       "      <th></th>\n",
       "      <th></th>\n",
       "      <th></th>\n",
       "      <th></th>\n",
       "      <th></th>\n",
       "      <th></th>\n",
       "      <th></th>\n",
       "      <th></th>\n",
       "      <th></th>\n",
       "      <th></th>\n",
       "      <th></th>\n",
       "      <th></th>\n",
       "      <th></th>\n",
       "      <th></th>\n",
       "      <th></th>\n",
       "      <th></th>\n",
       "      <th></th>\n",
       "    </tr>\n",
       "  </thead>\n",
       "  <tbody>\n",
       "    <tr>\n",
       "      <th>-239</th>\n",
       "      <td>NaN</td>\n",
       "      <td>NaN</td>\n",
       "      <td>NaN</td>\n",
       "      <td>NaN</td>\n",
       "      <td>NaN</td>\n",
       "      <td>NaN</td>\n",
       "      <td>NaN</td>\n",
       "      <td>NaN</td>\n",
       "      <td>NaN</td>\n",
       "      <td>NaN</td>\n",
       "      <td>...</td>\n",
       "      <td>NaN</td>\n",
       "      <td>NaN</td>\n",
       "      <td>NaN</td>\n",
       "      <td>NaN</td>\n",
       "      <td>NaN</td>\n",
       "      <td>NaN</td>\n",
       "      <td>NaN</td>\n",
       "      <td>4.7</td>\n",
       "      <td>NaN</td>\n",
       "      <td>NaN</td>\n",
       "    </tr>\n",
       "    <tr>\n",
       "      <th>-238</th>\n",
       "      <td>NaN</td>\n",
       "      <td>NaN</td>\n",
       "      <td>NaN</td>\n",
       "      <td>NaN</td>\n",
       "      <td>NaN</td>\n",
       "      <td>NaN</td>\n",
       "      <td>NaN</td>\n",
       "      <td>NaN</td>\n",
       "      <td>NaN</td>\n",
       "      <td>NaN</td>\n",
       "      <td>...</td>\n",
       "      <td>NaN</td>\n",
       "      <td>NaN</td>\n",
       "      <td>NaN</td>\n",
       "      <td>NaN</td>\n",
       "      <td>NaN</td>\n",
       "      <td>NaN</td>\n",
       "      <td>NaN</td>\n",
       "      <td>4.8</td>\n",
       "      <td>NaN</td>\n",
       "      <td>NaN</td>\n",
       "    </tr>\n",
       "    <tr>\n",
       "      <th>-237</th>\n",
       "      <td>NaN</td>\n",
       "      <td>NaN</td>\n",
       "      <td>NaN</td>\n",
       "      <td>NaN</td>\n",
       "      <td>NaN</td>\n",
       "      <td>NaN</td>\n",
       "      <td>NaN</td>\n",
       "      <td>NaN</td>\n",
       "      <td>NaN</td>\n",
       "      <td>NaN</td>\n",
       "      <td>...</td>\n",
       "      <td>NaN</td>\n",
       "      <td>NaN</td>\n",
       "      <td>NaN</td>\n",
       "      <td>NaN</td>\n",
       "      <td>NaN</td>\n",
       "      <td>NaN</td>\n",
       "      <td>NaN</td>\n",
       "      <td>5.0</td>\n",
       "      <td>NaN</td>\n",
       "      <td>NaN</td>\n",
       "    </tr>\n",
       "    <tr>\n",
       "      <th>-236</th>\n",
       "      <td>NaN</td>\n",
       "      <td>NaN</td>\n",
       "      <td>NaN</td>\n",
       "      <td>NaN</td>\n",
       "      <td>NaN</td>\n",
       "      <td>NaN</td>\n",
       "      <td>NaN</td>\n",
       "      <td>NaN</td>\n",
       "      <td>NaN</td>\n",
       "      <td>NaN</td>\n",
       "      <td>...</td>\n",
       "      <td>NaN</td>\n",
       "      <td>NaN</td>\n",
       "      <td>NaN</td>\n",
       "      <td>NaN</td>\n",
       "      <td>NaN</td>\n",
       "      <td>NaN</td>\n",
       "      <td>NaN</td>\n",
       "      <td>5.1</td>\n",
       "      <td>NaN</td>\n",
       "      <td>NaN</td>\n",
       "    </tr>\n",
       "    <tr>\n",
       "      <th>-235</th>\n",
       "      <td>NaN</td>\n",
       "      <td>NaN</td>\n",
       "      <td>NaN</td>\n",
       "      <td>NaN</td>\n",
       "      <td>NaN</td>\n",
       "      <td>NaN</td>\n",
       "      <td>NaN</td>\n",
       "      <td>NaN</td>\n",
       "      <td>NaN</td>\n",
       "      <td>NaN</td>\n",
       "      <td>...</td>\n",
       "      <td>NaN</td>\n",
       "      <td>NaN</td>\n",
       "      <td>NaN</td>\n",
       "      <td>NaN</td>\n",
       "      <td>NaN</td>\n",
       "      <td>NaN</td>\n",
       "      <td>NaN</td>\n",
       "      <td>5.1</td>\n",
       "      <td>NaN</td>\n",
       "      <td>NaN</td>\n",
       "    </tr>\n",
       "  </tbody>\n",
       "</table>\n",
       "<p>5 rows × 54 columns</p>\n",
       "</div>"
      ],
      "text/plain": [
       "                  Crossline                                                \\\n",
       "                 10 x 10 mm                                    20 x 20 mm   \n",
       "                    15.0 mm 50.0 mm 100.0 mm 200.0 mm 300.0 mm    15.0 mm   \n",
       "Coordinate [mm]:                                                            \n",
       "-239                    NaN     NaN      NaN      NaN      NaN        NaN   \n",
       "-238                    NaN     NaN      NaN      NaN      NaN        NaN   \n",
       "-237                    NaN     NaN      NaN      NaN      NaN        NaN   \n",
       "-236                    NaN     NaN      NaN      NaN      NaN        NaN   \n",
       "-235                    NaN     NaN      NaN      NaN      NaN        NaN   \n",
       "\n",
       "                                                      ...                  \\\n",
       "                                                      ...    200 x 200 mm   \n",
       "                 50.0 mm 100.0 mm 200.0 mm 300.0 mm   ...        100.0 mm   \n",
       "Coordinate [mm]:                                      ...                   \n",
       "-239                 NaN      NaN      NaN      NaN   ...             NaN   \n",
       "-238                 NaN      NaN      NaN      NaN   ...             NaN   \n",
       "-237                 NaN      NaN      NaN      NaN   ...             NaN   \n",
       "-236                 NaN      NaN      NaN      NaN   ...             NaN   \n",
       "-235                 NaN      NaN      NaN      NaN   ...             NaN   \n",
       "\n",
       "                                                                           \\\n",
       "                                   300 x 300 mm                             \n",
       "                 200.0 mm 300.0 mm      15.0 mm 50.0 mm 100.0 mm 200.0 mm   \n",
       "Coordinate [mm]:                                                            \n",
       "-239                  NaN      NaN          NaN     NaN      NaN      NaN   \n",
       "-238                  NaN      NaN          NaN     NaN      NaN      NaN   \n",
       "-237                  NaN      NaN          NaN     NaN      NaN      NaN   \n",
       "-236                  NaN      NaN          NaN     NaN      NaN      NaN   \n",
       "-235                  NaN      NaN          NaN     NaN      NaN      NaN   \n",
       "\n",
       "                              Inline           \n",
       "                          60 x 60 mm           \n",
       "                 300.0 mm    15.0 mm 300.0 mm  \n",
       "Coordinate [mm]:                               \n",
       "-239                  4.7        NaN      NaN  \n",
       "-238                  4.8        NaN      NaN  \n",
       "-237                  5.0        NaN      NaN  \n",
       "-236                  5.1        NaN      NaN  \n",
       "-235                  5.1        NaN      NaN  \n",
       "\n",
       "[5 rows x 54 columns]"
      ]
     },
     "execution_count": 7,
     "metadata": {},
     "output_type": "execute_result"
    }
   ],
   "source": [
    "MicroDiamond_df  = pd.read_table('6MV 100FSD Profiles MicroDiamond - RAW.csv', sep= \",\", header=[1,4,5], skiprows=[6], index_col=0) # \n",
    "MicroDiamond_df.columns = index_multi\n",
    "MicroDiamond_df.head()"
   ]
  },
  {
   "cell_type": "code",
   "execution_count": 8,
   "metadata": {
    "collapsed": false
   },
   "outputs": [
    {
     "data": {
      "text/plain": [
       "<matplotlib.axes._subplots.AxesSubplot at 0x9d07510>"
      ]
     },
     "execution_count": 8,
     "metadata": {},
     "output_type": "execute_result"
    },
    {
     "data": {
      "image/png": "[encoded data removed]",
      "text/plain": [
       "<matplotlib.figure.Figure at 0x9cefcd0>"
      ]
     },
     "metadata": {},
     "output_type": "display_data"
    }
   ],
   "source": [
    "MicroDiamond_df['Crossline']['100 x 100 mm'].plot()"
   ]
  },
  {
   "cell_type": "markdown",
   "metadata": {},
   "source": [
    "## Diode\n",
    "Manually read file into multiIndex"
   ]
  },
  {
   "cell_type": "code",
   "execution_count": 9,
   "metadata": {
    "collapsed": false
   },
   "outputs": [
    {
     "data": {
      "text/html": [
       "<div>\n",
       "<table border=\"1\" class=\"dataframe\">\n",
       "  <thead>\n",
       "    <tr>\n",
       "      <th></th>\n",
       "      <th>Crossline</th>\n",
       "      <th>(</th>\n",
       "      <th>Crossline</th>\n",
       "      <th>(</th>\n",
       "      <th>Crossline</th>\n",
       "      <th>(</th>\n",
       "      <th>Crossline</th>\n",
       "      <th>(</th>\n",
       "      <th>Crossline</th>\n",
       "      <th>(</th>\n",
       "      <th>...</th>\n",
       "      <th colspan=\"7\" halign=\"left\">Crossline</th>\n",
       "      <th colspan=\"3\" halign=\"left\">Inline</th>\n",
       "    </tr>\n",
       "    <tr>\n",
       "      <th></th>\n",
       "      <th>10 x 10 mm</th>\n",
       "      <th>'</th>\n",
       "      <th>10 x 10 mm</th>\n",
       "      <th>'</th>\n",
       "      <th>10 x 10 mm</th>\n",
       "      <th>'</th>\n",
       "      <th>10 x 10 mm</th>\n",
       "      <th>'</th>\n",
       "      <th>10 x 10 mm</th>\n",
       "      <th>'</th>\n",
       "      <th>...</th>\n",
       "      <th colspan=\"2\" halign=\"left\">100 x 100 mm</th>\n",
       "      <th colspan=\"5\" halign=\"left\">200 x 200 mm</th>\n",
       "      <th colspan=\"3\" halign=\"left\">60 x 60 mm</th>\n",
       "    </tr>\n",
       "    <tr>\n",
       "      <th></th>\n",
       "      <th>15.0 mm</th>\n",
       "      <th>C</th>\n",
       "      <th>50.0 mm</th>\n",
       "      <th>C</th>\n",
       "      <th>100.0 mm</th>\n",
       "      <th>C</th>\n",
       "      <th>200.0 mm</th>\n",
       "      <th>C</th>\n",
       "      <th>300.0 mm</th>\n",
       "      <th>C</th>\n",
       "      <th>...</th>\n",
       "      <th>200.0 mm</th>\n",
       "      <th>300.0 mm</th>\n",
       "      <th>15.0 mm</th>\n",
       "      <th>50.0 mm</th>\n",
       "      <th>100.0 mm</th>\n",
       "      <th>200.0 mm</th>\n",
       "      <th>300.0 mm</th>\n",
       "      <th>15.0 mm</th>\n",
       "      <th>100.0 mm</th>\n",
       "      <th>300.0 mm</th>\n",
       "    </tr>\n",
       "    <tr>\n",
       "      <th>Coordinate [mm]:</th>\n",
       "      <th></th>\n",
       "      <th></th>\n",
       "      <th></th>\n",
       "      <th></th>\n",
       "      <th></th>\n",
       "      <th></th>\n",
       "      <th></th>\n",
       "      <th></th>\n",
       "      <th></th>\n",
       "      <th></th>\n",
       "      <th></th>\n",
       "      <th></th>\n",
       "      <th></th>\n",
       "      <th></th>\n",
       "      <th></th>\n",
       "      <th></th>\n",
       "      <th></th>\n",
       "      <th></th>\n",
       "      <th></th>\n",
       "      <th></th>\n",
       "      <th></th>\n",
       "    </tr>\n",
       "  </thead>\n",
       "  <tbody>\n",
       "    <tr>\n",
       "      <th>-179</th>\n",
       "      <td>NaN</td>\n",
       "      <td>NaN</td>\n",
       "      <td>NaN</td>\n",
       "      <td>NaN</td>\n",
       "      <td>NaN</td>\n",
       "      <td>NaN</td>\n",
       "      <td>NaN</td>\n",
       "      <td>NaN</td>\n",
       "      <td>NaN</td>\n",
       "      <td>NaN</td>\n",
       "      <td>...</td>\n",
       "      <td>NaN</td>\n",
       "      <td>NaN</td>\n",
       "      <td>NaN</td>\n",
       "      <td>NaN</td>\n",
       "      <td>NaN</td>\n",
       "      <td>NaN</td>\n",
       "      <td>4.0</td>\n",
       "      <td>NaN</td>\n",
       "      <td>NaN</td>\n",
       "      <td>NaN</td>\n",
       "    </tr>\n",
       "    <tr>\n",
       "      <th>-178</th>\n",
       "      <td>NaN</td>\n",
       "      <td>NaN</td>\n",
       "      <td>NaN</td>\n",
       "      <td>NaN</td>\n",
       "      <td>NaN</td>\n",
       "      <td>NaN</td>\n",
       "      <td>NaN</td>\n",
       "      <td>NaN</td>\n",
       "      <td>NaN</td>\n",
       "      <td>NaN</td>\n",
       "      <td>...</td>\n",
       "      <td>NaN</td>\n",
       "      <td>NaN</td>\n",
       "      <td>NaN</td>\n",
       "      <td>NaN</td>\n",
       "      <td>NaN</td>\n",
       "      <td>NaN</td>\n",
       "      <td>4.2</td>\n",
       "      <td>NaN</td>\n",
       "      <td>NaN</td>\n",
       "      <td>NaN</td>\n",
       "    </tr>\n",
       "    <tr>\n",
       "      <th>-177</th>\n",
       "      <td>NaN</td>\n",
       "      <td>NaN</td>\n",
       "      <td>NaN</td>\n",
       "      <td>NaN</td>\n",
       "      <td>NaN</td>\n",
       "      <td>NaN</td>\n",
       "      <td>NaN</td>\n",
       "      <td>NaN</td>\n",
       "      <td>NaN</td>\n",
       "      <td>NaN</td>\n",
       "      <td>...</td>\n",
       "      <td>NaN</td>\n",
       "      <td>NaN</td>\n",
       "      <td>NaN</td>\n",
       "      <td>NaN</td>\n",
       "      <td>NaN</td>\n",
       "      <td>NaN</td>\n",
       "      <td>4.2</td>\n",
       "      <td>NaN</td>\n",
       "      <td>NaN</td>\n",
       "      <td>NaN</td>\n",
       "    </tr>\n",
       "    <tr>\n",
       "      <th>-176</th>\n",
       "      <td>NaN</td>\n",
       "      <td>NaN</td>\n",
       "      <td>NaN</td>\n",
       "      <td>NaN</td>\n",
       "      <td>NaN</td>\n",
       "      <td>NaN</td>\n",
       "      <td>NaN</td>\n",
       "      <td>NaN</td>\n",
       "      <td>NaN</td>\n",
       "      <td>NaN</td>\n",
       "      <td>...</td>\n",
       "      <td>NaN</td>\n",
       "      <td>NaN</td>\n",
       "      <td>NaN</td>\n",
       "      <td>NaN</td>\n",
       "      <td>NaN</td>\n",
       "      <td>NaN</td>\n",
       "      <td>4.2</td>\n",
       "      <td>NaN</td>\n",
       "      <td>NaN</td>\n",
       "      <td>NaN</td>\n",
       "    </tr>\n",
       "    <tr>\n",
       "      <th>-175</th>\n",
       "      <td>NaN</td>\n",
       "      <td>NaN</td>\n",
       "      <td>NaN</td>\n",
       "      <td>NaN</td>\n",
       "      <td>NaN</td>\n",
       "      <td>NaN</td>\n",
       "      <td>NaN</td>\n",
       "      <td>NaN</td>\n",
       "      <td>NaN</td>\n",
       "      <td>NaN</td>\n",
       "      <td>...</td>\n",
       "      <td>NaN</td>\n",
       "      <td>NaN</td>\n",
       "      <td>NaN</td>\n",
       "      <td>NaN</td>\n",
       "      <td>NaN</td>\n",
       "      <td>NaN</td>\n",
       "      <td>4.3</td>\n",
       "      <td>NaN</td>\n",
       "      <td>NaN</td>\n",
       "      <td>NaN</td>\n",
       "    </tr>\n",
       "  </tbody>\n",
       "</table>\n",
       "<p>5 rows × 46 columns</p>\n",
       "</div>"
      ],
      "text/plain": [
       "                  Crossline   (  Crossline   (  Crossline   (  Crossline   (  \\\n",
       "                 10 x 10 mm   ' 10 x 10 mm   ' 10 x 10 mm   ' 10 x 10 mm   '   \n",
       "                    15.0 mm   C    50.0 mm   C   100.0 mm   C   200.0 mm   C   \n",
       "Coordinate [mm]:                                                               \n",
       "-179                    NaN NaN        NaN NaN        NaN NaN        NaN NaN   \n",
       "-178                    NaN NaN        NaN NaN        NaN NaN        NaN NaN   \n",
       "-177                    NaN NaN        NaN NaN        NaN NaN        NaN NaN   \n",
       "-176                    NaN NaN        NaN NaN        NaN NaN        NaN NaN   \n",
       "-175                    NaN NaN        NaN NaN        NaN NaN        NaN NaN   \n",
       "\n",
       "                  Crossline   (   ...       Crossline                        \\\n",
       "                 10 x 10 mm   '   ...    100 x 100 mm          200 x 200 mm   \n",
       "                   300.0 mm   C   ...        200.0 mm 300.0 mm      15.0 mm   \n",
       "Coordinate [mm]:                  ...                                         \n",
       "-179                    NaN NaN   ...             NaN      NaN          NaN   \n",
       "-178                    NaN NaN   ...             NaN      NaN          NaN   \n",
       "-177                    NaN NaN   ...             NaN      NaN          NaN   \n",
       "-176                    NaN NaN   ...             NaN      NaN          NaN   \n",
       "-175                    NaN NaN   ...             NaN      NaN          NaN   \n",
       "\n",
       "                                                        Inline           \\\n",
       "                                                    60 x 60 mm            \n",
       "                 50.0 mm 100.0 mm 200.0 mm 300.0 mm    15.0 mm 100.0 mm   \n",
       "Coordinate [mm]:                                                          \n",
       "-179                 NaN      NaN      NaN      4.0        NaN      NaN   \n",
       "-178                 NaN      NaN      NaN      4.2        NaN      NaN   \n",
       "-177                 NaN      NaN      NaN      4.2        NaN      NaN   \n",
       "-176                 NaN      NaN      NaN      4.2        NaN      NaN   \n",
       "-175                 NaN      NaN      NaN      4.3        NaN      NaN   \n",
       "\n",
       "                           \n",
       "                           \n",
       "                 300.0 mm  \n",
       "Coordinate [mm]:           \n",
       "-179                  NaN  \n",
       "-178                  NaN  \n",
       "-177                  NaN  \n",
       "-176                  NaN  \n",
       "-175                  NaN  \n",
       "\n",
       "[5 rows x 46 columns]"
      ]
     },
     "execution_count": 9,
     "metadata": {},
     "output_type": "execute_result"
    }
   ],
   "source": [
    "Diode_df_raw  = pd.read_table('6MV Profiles Photon Diode  - RAW.csv', sep= \",\",  header=[1,4,5], skiprows=[6]) # index_col=0,.fillna(0).astype(float);\n",
    "#Diode_df.head()  # loaded data\n",
    "Diode_df_raw = Diode_df_raw.ix[:,1:]  # skip the first column\n",
    "\n",
    "tuples_list = Diode_df_raw.columns\n",
    "cross_type, field_type, depth_mm = list(zip(*tuples_list))    # unzip the original columns index\n",
    "\n",
    "#cross_type_strings, field_type_strings, depth_mm_strings = [], [], []  # clear the lists from memory\n",
    "\n",
    "cross_type_strings = [ \"%s\" % x for x in cross_type ]\n",
    "field_type_strings = [ \"%s\" % x for x in field_type ]\n",
    "depth_mm_strings = [ \"%s\" % x for x in depth_mm ]    # get lists of strings\n",
    "\n",
    "tuples = list(zip(*[cross_type_strings, field_type_strings, depth_mm_strings]))  #zip back into a list of tuples containing strings\n",
    "index_multi = pd.MultiIndex.from_tuples(tuples)  # get required multiindex\n",
    "\n",
    "Diode_df  = pd.read_table('6MV Profiles Photon Diode  - RAW.csv', sep= \",\", header=[1,4,5], skiprows=[6], index_col=0) # \n",
    "Diode_df.columns = index_multi\n",
    "Diode_df.head()"
   ]
  },
  {
   "cell_type": "code",
   "execution_count": 10,
   "metadata": {
    "collapsed": false
   },
   "outputs": [
    {
     "data": {
      "text/plain": [
       "<matplotlib.axes._subplots.AxesSubplot at 0x9dad870>"
      ]
     },
     "execution_count": 10,
     "metadata": {},
     "output_type": "execute_result"
    },
    {
     "data": {
      "image/png": "[encoded data removed]",
      "text/plain": [
       "<matplotlib.figure.Figure at 0x9da3e70>"
      ]
     },
     "metadata": {},
     "output_type": "display_data"
    }
   ],
   "source": [
    "Diode_df['Crossline']['100 x 100 mm'].plot()"
   ]
  },
  {
   "cell_type": "markdown",
   "metadata": {},
   "source": [
    "## CC13 - .13 CC ion chamber\n",
    "Comes in as multiIndex correctly, not sure why this is different as raw text files look very similar"
   ]
  },
  {
   "cell_type": "code",
   "execution_count": 11,
   "metadata": {
    "collapsed": false
   },
   "outputs": [
    {
     "data": {
      "text/html": [
       "<div>\n",
       "<table border=\"1\" class=\"dataframe\">\n",
       "  <thead>\n",
       "    <tr>\n",
       "      <th>Scan Type:</th>\n",
       "      <th colspan=\"14\" halign=\"left\">Crossline</th>\n",
       "      <th colspan=\"7\" halign=\"left\">Inline</th>\n",
       "    </tr>\n",
       "    <tr>\n",
       "      <th>Fieldsize:</th>\n",
       "      <th colspan=\"5\" halign=\"left\">40 x 40 mm</th>\n",
       "      <th colspan=\"5\" halign=\"left\">70 x 70 mm</th>\n",
       "      <th>...</th>\n",
       "      <th colspan=\"3\" halign=\"left\">300 x 300 mm</th>\n",
       "      <th colspan=\"2\" halign=\"left\">40 x 40 mm</th>\n",
       "      <th colspan=\"2\" halign=\"left\">70 x 70 mm</th>\n",
       "      <th>100 x 100 mm</th>\n",
       "      <th>200 x 200 mm</th>\n",
       "      <th>300 x 300 mm</th>\n",
       "    </tr>\n",
       "    <tr>\n",
       "      <th>Depth:</th>\n",
       "      <th>15.0 mm</th>\n",
       "      <th>50.0 mm</th>\n",
       "      <th>100.0 mm</th>\n",
       "      <th>200.0 mm</th>\n",
       "      <th>300.0 mm</th>\n",
       "      <th>15.0 mm</th>\n",
       "      <th>50.0 mm</th>\n",
       "      <th>100.0 mm</th>\n",
       "      <th>200.0 mm</th>\n",
       "      <th>300.0 mm</th>\n",
       "      <th>...</th>\n",
       "      <th>100.0 mm</th>\n",
       "      <th>200.0 mm</th>\n",
       "      <th>300.0 mm</th>\n",
       "      <th>15.0 mm</th>\n",
       "      <th>50.0 mm</th>\n",
       "      <th>15.0 mm</th>\n",
       "      <th>50.0 mm</th>\n",
       "      <th>15.0 mm</th>\n",
       "      <th>15.0 mm</th>\n",
       "      <th>15.0 mm</th>\n",
       "    </tr>\n",
       "    <tr>\n",
       "      <th>Coordinate [mm]:</th>\n",
       "      <th></th>\n",
       "      <th></th>\n",
       "      <th></th>\n",
       "      <th></th>\n",
       "      <th></th>\n",
       "      <th></th>\n",
       "      <th></th>\n",
       "      <th></th>\n",
       "      <th></th>\n",
       "      <th></th>\n",
       "      <th></th>\n",
       "      <th></th>\n",
       "      <th></th>\n",
       "      <th></th>\n",
       "      <th></th>\n",
       "      <th></th>\n",
       "      <th></th>\n",
       "      <th></th>\n",
       "      <th></th>\n",
       "      <th></th>\n",
       "      <th></th>\n",
       "    </tr>\n",
       "  </thead>\n",
       "  <tbody>\n",
       "    <tr>\n",
       "      <th>-241</th>\n",
       "      <td>0.0</td>\n",
       "      <td>0.0</td>\n",
       "      <td>0.0</td>\n",
       "      <td>0.0</td>\n",
       "      <td>0.0</td>\n",
       "      <td>0.0</td>\n",
       "      <td>0.0</td>\n",
       "      <td>0.0</td>\n",
       "      <td>0.0</td>\n",
       "      <td>0.0</td>\n",
       "      <td>...</td>\n",
       "      <td>0.0</td>\n",
       "      <td>0.0</td>\n",
       "      <td>5.2</td>\n",
       "      <td>0.0</td>\n",
       "      <td>0.0</td>\n",
       "      <td>0.0</td>\n",
       "      <td>0.0</td>\n",
       "      <td>0.0</td>\n",
       "      <td>0.0</td>\n",
       "      <td>0.0</td>\n",
       "    </tr>\n",
       "    <tr>\n",
       "      <th>-240</th>\n",
       "      <td>0.0</td>\n",
       "      <td>0.0</td>\n",
       "      <td>0.0</td>\n",
       "      <td>0.0</td>\n",
       "      <td>0.0</td>\n",
       "      <td>0.0</td>\n",
       "      <td>0.0</td>\n",
       "      <td>0.0</td>\n",
       "      <td>0.0</td>\n",
       "      <td>0.0</td>\n",
       "      <td>...</td>\n",
       "      <td>0.0</td>\n",
       "      <td>0.0</td>\n",
       "      <td>5.3</td>\n",
       "      <td>0.0</td>\n",
       "      <td>0.0</td>\n",
       "      <td>0.0</td>\n",
       "      <td>0.0</td>\n",
       "      <td>0.0</td>\n",
       "      <td>0.0</td>\n",
       "      <td>0.0</td>\n",
       "    </tr>\n",
       "    <tr>\n",
       "      <th>-239</th>\n",
       "      <td>0.0</td>\n",
       "      <td>0.0</td>\n",
       "      <td>0.0</td>\n",
       "      <td>0.0</td>\n",
       "      <td>0.0</td>\n",
       "      <td>0.0</td>\n",
       "      <td>0.0</td>\n",
       "      <td>0.0</td>\n",
       "      <td>0.0</td>\n",
       "      <td>0.0</td>\n",
       "      <td>...</td>\n",
       "      <td>0.0</td>\n",
       "      <td>0.0</td>\n",
       "      <td>5.3</td>\n",
       "      <td>0.0</td>\n",
       "      <td>0.0</td>\n",
       "      <td>0.0</td>\n",
       "      <td>0.0</td>\n",
       "      <td>0.0</td>\n",
       "      <td>0.0</td>\n",
       "      <td>0.0</td>\n",
       "    </tr>\n",
       "    <tr>\n",
       "      <th>-238</th>\n",
       "      <td>0.0</td>\n",
       "      <td>0.0</td>\n",
       "      <td>0.0</td>\n",
       "      <td>0.0</td>\n",
       "      <td>0.0</td>\n",
       "      <td>0.0</td>\n",
       "      <td>0.0</td>\n",
       "      <td>0.0</td>\n",
       "      <td>0.0</td>\n",
       "      <td>0.0</td>\n",
       "      <td>...</td>\n",
       "      <td>0.0</td>\n",
       "      <td>0.0</td>\n",
       "      <td>5.4</td>\n",
       "      <td>0.0</td>\n",
       "      <td>0.0</td>\n",
       "      <td>0.0</td>\n",
       "      <td>0.0</td>\n",
       "      <td>0.0</td>\n",
       "      <td>0.0</td>\n",
       "      <td>0.0</td>\n",
       "    </tr>\n",
       "    <tr>\n",
       "      <th>-237</th>\n",
       "      <td>0.0</td>\n",
       "      <td>0.0</td>\n",
       "      <td>0.0</td>\n",
       "      <td>0.0</td>\n",
       "      <td>0.0</td>\n",
       "      <td>0.0</td>\n",
       "      <td>0.0</td>\n",
       "      <td>0.0</td>\n",
       "      <td>0.0</td>\n",
       "      <td>0.0</td>\n",
       "      <td>...</td>\n",
       "      <td>0.0</td>\n",
       "      <td>0.0</td>\n",
       "      <td>5.5</td>\n",
       "      <td>0.0</td>\n",
       "      <td>0.0</td>\n",
       "      <td>0.0</td>\n",
       "      <td>0.0</td>\n",
       "      <td>0.0</td>\n",
       "      <td>0.0</td>\n",
       "      <td>0.0</td>\n",
       "    </tr>\n",
       "  </tbody>\n",
       "</table>\n",
       "<p>5 rows × 32 columns</p>\n",
       "</div>"
      ],
      "text/plain": [
       "Scan Type:        Crossline                                                \\\n",
       "Fieldsize:       40 x 40 mm                                    70 x 70 mm   \n",
       "Depth:              15.0 mm 50.0 mm 100.0 mm 200.0 mm 300.0 mm    15.0 mm   \n",
       "Coordinate [mm]:                                                            \n",
       "-241                    0.0     0.0      0.0      0.0      0.0        0.0   \n",
       "-240                    0.0     0.0      0.0      0.0      0.0        0.0   \n",
       "-239                    0.0     0.0      0.0      0.0      0.0        0.0   \n",
       "-238                    0.0     0.0      0.0      0.0      0.0        0.0   \n",
       "-237                    0.0     0.0      0.0      0.0      0.0        0.0   \n",
       "\n",
       "Scan Type:                                              ...                    \\\n",
       "Fieldsize:                                              ...      300 x 300 mm   \n",
       "Depth:           50.0 mm 100.0 mm 200.0 mm 300.0 mm     ...          100.0 mm   \n",
       "Coordinate [mm]:                                        ...                     \n",
       "-241                 0.0      0.0      0.0      0.0     ...               0.0   \n",
       "-240                 0.0      0.0      0.0      0.0     ...               0.0   \n",
       "-239                 0.0      0.0      0.0      0.0     ...               0.0   \n",
       "-238                 0.0      0.0      0.0      0.0     ...               0.0   \n",
       "-237                 0.0      0.0      0.0      0.0     ...               0.0   \n",
       "\n",
       "Scan Type:                             Inline                             \\\n",
       "Fieldsize:                         40 x 40 mm         70 x 70 mm           \n",
       "Depth:           200.0 mm 300.0 mm    15.0 mm 50.0 mm    15.0 mm 50.0 mm   \n",
       "Coordinate [mm]:                                                           \n",
       "-241                  0.0      5.2        0.0     0.0        0.0     0.0   \n",
       "-240                  0.0      5.3        0.0     0.0        0.0     0.0   \n",
       "-239                  0.0      5.3        0.0     0.0        0.0     0.0   \n",
       "-238                  0.0      5.4        0.0     0.0        0.0     0.0   \n",
       "-237                  0.0      5.5        0.0     0.0        0.0     0.0   \n",
       "\n",
       "Scan Type:                                               \n",
       "Fieldsize:       100 x 100 mm 200 x 200 mm 300 x 300 mm  \n",
       "Depth:                15.0 mm      15.0 mm      15.0 mm  \n",
       "Coordinate [mm]:                                         \n",
       "-241                      0.0          0.0          0.0  \n",
       "-240                      0.0          0.0          0.0  \n",
       "-239                      0.0          0.0          0.0  \n",
       "-238                      0.0          0.0          0.0  \n",
       "-237                      0.0          0.0          0.0  \n",
       "\n",
       "[5 rows x 32 columns]"
      ]
     },
     "execution_count": 11,
     "metadata": {},
     "output_type": "execute_result"
    }
   ],
   "source": [
    "CC13_df  = pd.read_table('6X Profiles CC13 RAW.csv', sep= \",\", index_col=0, header=[1,4,5], skiprows=[6]).fillna(0).astype(float);\n",
    "CC13_df.head()  # loaded data, comse in as multi-index, not sure why different"
   ]
  },
  {
   "cell_type": "code",
   "execution_count": 12,
   "metadata": {
    "collapsed": false
   },
   "outputs": [
    {
     "data": {
      "text/plain": [
       "<matplotlib.axes._subplots.AxesSubplot at 0x9df2850>"
      ]
     },
     "execution_count": 12,
     "metadata": {},
     "output_type": "execute_result"
    },
    {
     "data": {
      "image/png": "[encoded data removed]",
      "text/plain": [
       "<matplotlib.figure.Figure at 0x3820610>"
      ]
     },
     "metadata": {},
     "output_type": "display_data"
    }
   ],
   "source": [
    "CC13_df['Crossline']['100 x 100 mm'].plot() # as multiindex index like this"
   ]
  },
  {
   "cell_type": "markdown",
   "metadata": {},
   "source": [
    "## Comparison of profiles at field 10x10 cm, depth 300mm"
   ]
  },
  {
   "cell_type": "code",
   "execution_count": 13,
   "metadata": {
    "collapsed": false
   },
   "outputs": [
    {
     "data": {
      "image/png": "[encoded data removed]",
      "text/plain": [
       "<matplotlib.figure.Figure at 0x9e49030>"
      ]
     },
     "metadata": {},
     "output_type": "display_data"
    }
   ],
   "source": [
    "def plot_profile(field_size, depth, plot_xlim):\n",
    "    trace1 = Diode_df['Crossline'][field_size][depth]\n",
    "    trace2 = MicroDiamond_df['Crossline'][field_size][depth]\n",
    "    trace3 = CC13_df['Crossline'][field_size][depth]\n",
    "    mean_trace = (trace1 + trace2 + trace3)/3.0\n",
    "\n",
    "    plt.plot(trace1, color='red', label='Diode')\n",
    "    plt.plot(trace2, color='green', label='MicroDiamond')\n",
    "    plt.plot(trace3, color='black', label='CC13')\n",
    "    plt.plot(mean_trace, color='blue', label='Mean')\n",
    "\n",
    "    plt.title('Field %s and depth %s' % (field_size, depth))\n",
    "    plt.xlim( [0,plot_xlim] ) \n",
    "    plt.legend(loc='center left', bbox_to_anchor=(1, 0.5));\n",
    "    \n",
    "plot_profile(field_size = '100 x 100 mm', depth = '300.0 mm', plot_xlim = 100)"
   ]
  },
  {
   "cell_type": "markdown",
   "metadata": {
    "collapsed": true
   },
   "source": [
    "## All depths and fields\n",
    "\n",
    "Note that not all field sizes are in all 3 data sets, plot those that are"
   ]
  },
  {
   "cell_type": "code",
   "execution_count": 15,
   "metadata": {
    "collapsed": false
   },
   "outputs": [
    {
     "name": "stdout",
     "output_type": "stream",
     "text": [
      "{'40 x 40 mm', '300 x 300 mm', '60 x 60 mm', '100 x 100 mm', '50 x 50 mm', '200 x 200 mm', '30 x 30 mm', '20 x 20 mm', \"'\", '70 x 70 mm', '10 x 10 mm'}\n",
      "But in all\n",
      "['40 x 40 mm', '200 x 200 mm', '100 x 100 mm']\n"
     ]
    }
   ],
   "source": [
    "all_fields = set(Diode_df.columns.get_level_values(1))  |  set(MicroDiamond_df.columns.get_level_values(1)) | set(CC13_df.columns.get_level_values(1))\n",
    "print(all_fields) # return the set of depths)\n",
    "\n",
    "print('But in all')\n",
    "intersect_fields = list(set(Diode_df.columns.get_level_values(1))  &  set(MicroDiamond_df.columns.get_level_values(1)) & set(CC13_df.columns.get_level_values(1)))\n",
    "print(intersect_fields) "
   ]
  },
  {
   "cell_type": "code",
   "execution_count": 16,
   "metadata": {
    "collapsed": false
   },
   "outputs": [
    {
     "data": {
      "text/plain": [
       "['50.0 mm', '100.0 mm', '200.0 mm', '300.0 mm', 'C']"
      ]
     },
     "execution_count": 16,
     "metadata": {},
     "output_type": "execute_result"
    }
   ],
   "source": [
    "depths = list(set(Diode_df.columns.get_level_values(2)))[1:]\n",
    "depths"
   ]
  },
  {
   "cell_type": "code",
   "execution_count": 17,
   "metadata": {
    "collapsed": true
   },
   "outputs": [],
   "source": [
    "to_plot = [i+j for i,j in zip(intersect_fields, depths)]"
   ]
  },
  {
   "cell_type": "code",
   "execution_count": 18,
   "metadata": {
    "collapsed": false
   },
   "outputs": [
    {
     "data": {
      "text/plain": [
       "['40 x 40 mm50.0 mm', '200 x 200 mm100.0 mm', '100 x 100 mm200.0 mm']"
      ]
     },
     "execution_count": 18,
     "metadata": {},
     "output_type": "execute_result"
    }
   ],
   "source": [
    "to_plot"
   ]
  },
  {
   "cell_type": "code",
   "execution_count": null,
   "metadata": {
    "collapsed": true
   },
   "outputs": [],
   "source": []
  }
 ],
 "metadata": {
  "anaconda-cloud": {},
  "kernelspec": {
   "display_name": "Python [conda root]",
   "language": "python",
   "name": "conda-root-py"
  },
  "language_info": {
   "codemirror_mode": {
    "name": "ipython",
    "version": 3
   },
   "file_extension": ".py",
   "mimetype": "text/x-python",
   "name": "python",
   "nbconvert_exporter": "python",
   "pygments_lexer": "ipython3",
   "version": "3.5.2"
  }
 },
 "nbformat": 4,
 "nbformat_minor": 1
}
