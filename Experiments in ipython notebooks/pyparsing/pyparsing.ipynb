{
 "cells": [
  {
   "cell_type": "markdown",
   "metadata": {},
   "source": [
    "Work through http://shop.oreilly.com/product/9780596514235.do\n",
    "\n",
    "Talk on https://github.com/rdempsey/pyparsing-dcpython\n",
    "\n",
    "Examples http://pyparsing.wikispaces.com/Examples"
   ]
  },
  {
   "cell_type": "code",
   "execution_count": 57,
   "metadata": {
    "collapsed": false
   },
   "outputs": [
    {
     "name": "stdout",
     "output_type": "stream",
     "text": [
      "['Hello', ',', 'World', '!']\n"
     ]
    }
   ],
   "source": [
    "from pyparsing import  *   # Word, alphas\n",
    "\n",
    "greet = Word( alphas ) + \",\" + Word( alphas ) + \"!\" # <-- parser defined here\n",
    "print (greet.parseString( \"Hello, World!\" ))"
   ]
  },
  {
   "cell_type": "markdown",
   "metadata": {},
   "source": [
    "Basic grammar example, \n",
    "\n",
    "To use the parser, call parseString() on the parser object:"
   ]
  },
  {
   "cell_type": "code",
   "execution_count": 16,
   "metadata": {
    "collapsed": false
   },
   "outputs": [
    {
     "name": "stdout",
     "output_type": "stream",
     "text": [
      "['pi', '=', '3.14159']\n"
     ]
    }
   ],
   "source": [
    "number = Word(nums+\".\")         # define variables\n",
    "identifier = Word(alphas, alphanums+\"_\")\n",
    "\n",
    "assignmentExpr = identifier + \"=\" + (identifier | number) # define parser\n",
    "\n",
    "assignmentTokens = assignmentExpr.parseString(\"pi=3.14159\") # Use the Grammar to Parse the Input Text In\n",
    "\n",
    "print(assignmentTokens)"
   ]
  },
  {
   "cell_type": "markdown",
   "metadata": {},
   "source": [
    "Update the assignmentExpr to use results names (such as lhs and rhs for the left- and righthand sides of the assignment), to access the fields as if they were attributes of the returned ParseResults:"
   ]
  },
  {
   "cell_type": "code",
   "execution_count": 15,
   "metadata": {
    "collapsed": false
   },
   "outputs": [
    {
     "name": "stdout",
     "output_type": "stream",
     "text": [
      "3.14159 is assigned to pi\n"
     ]
    }
   ],
   "source": [
    "assignmentExpr = identifier.setResultsName(\"lhs\") + \"=\" +  (identifier | number).setResultsName(\"rhs\")\n",
    "\n",
    "assignmentTokens = assignmentExpr.parseString( \"pi=3.14159\" ) \n",
    "\n",
    "print(assignmentTokens.rhs, \"is assigned to\", assignmentTokens.lhs)"
   ]
  },
  {
   "cell_type": "markdown",
   "metadata": {},
   "source": [
    "# Parse table data"
   ]
  },
  {
   "cell_type": "code",
   "execution_count": 23,
   "metadata": {
    "collapsed": false
   },
   "outputs": [
    {
     "name": "stdout",
     "output_type": "stream",
     "text": [
      "09/04/2004 Virginia \t\t44 \tTemple\t\t14\n",
      "\n",
      "09/04/2004 LSU\t\t\t\t22\tMissouri\t18\n",
      "\n",
      "09/09/2004 Troy State \t\t01\tCambridge\t22\n",
      "\n",
      "01/02/2003 Florida State\t55\tOxford\t\t28\n"
     ]
    }
   ],
   "source": [
    "file = open('university.txt', 'r')\n",
    "for line in file:\n",
    "    print(line)\n",
    "file.close()"
   ]
  },
  {
   "cell_type": "code",
   "execution_count": 24,
   "metadata": {
    "collapsed": false
   },
   "outputs": [
    {
     "name": "stdout",
     "output_type": "stream",
     "text": [
      "['09', '/', '04', '/', '2004', 'Virginia', '44', 'Temple', '14']\n",
      "['09', '/', '04', '/', '2004', 'LSU', '22', 'Missouri', '18']\n",
      "['09', '/', '09', '/', '2004', 'Troy', 'State', '01', 'Cambridge', '22']\n",
      "['01', '/', '02', '/', '2003', 'Florida', 'State', '55', 'Oxford', '28']\n"
     ]
    }
   ],
   "source": [
    "file = open('university.txt', 'r')\n",
    "\n",
    "num = Word(nums)  # define varlaibles\n",
    "date = num + \"/\" + num + \"/\" + num \n",
    "schoolName = OneOrMore( Word(alphas) )\n",
    "score = Word(nums) \n",
    "\n",
    "schoolAndScore = schoolName + score   # build up grammar\n",
    "gameResult = date + schoolAndScore + schoolAndScore  # and grammar\n",
    "\n",
    "for line in file:\n",
    "    stats = gameResult.parseString(line) \n",
    "    print(stats.asList())\n",
    "\n",
    "file.close()"
   ]
  },
  {
   "cell_type": "markdown",
   "metadata": {},
   "source": [
    "The first change we'll make is to combine the tokens returned by date into a single MM/DD/YYYY date string. The pyparsing Combine class does this for us by simply wrapping the composed expression:"
   ]
  },
  {
   "cell_type": "code",
   "execution_count": 25,
   "metadata": {
    "collapsed": false
   },
   "outputs": [
    {
     "name": "stdout",
     "output_type": "stream",
     "text": [
      "['09/04/2004', 'Virginia', '44', 'Temple', '14']\n",
      "['09/04/2004', 'LSU', '22', 'Missouri', '18']\n",
      "['09/09/2004', 'Troy', 'State', '01', 'Cambridge', '22']\n",
      "['01/02/2003', 'Florida', 'State', '55', 'Oxford', '28']\n"
     ]
    }
   ],
   "source": [
    "file = open('university.txt', 'r')\n",
    "\n",
    "num = Word(nums)  # define varlaibles\n",
    "date = Combine( num + \"/\" + num + \"/\" + num )\n",
    "schoolName = OneOrMore( Word(alphas) )\n",
    "score = Word(nums) \n",
    "\n",
    "schoolAndScore = schoolName + score   # build up grammar\n",
    "gameResult = date + schoolAndScore + schoolAndScore  # and grammar\n",
    "\n",
    "for line in file:\n",
    "    stats = gameResult.parseString(line) \n",
    "    print(stats.asList())\n",
    "\n",
    "file.close()"
   ]
  },
  {
   "cell_type": "markdown",
   "metadata": {},
   "source": [
    "The next change to make will be to combine the school names, too. Because Combine's default behavior requires that the tokens be adjacent, we will not use it, since some of the school names have embedded spaces. Instead we'll define a rou- tine to be run at parse time to join and return the tokens as a single string.\n",
    "\n",
    "For this example, we will define a parse action that takes the parsed tokens, uses the string join function, and returns the joined string. This is such a simple parse action that it can be written as a Python lambda. The parse action gets hooked to a particular expression by calling setParseAction, as in:"
   ]
  },
  {
   "cell_type": "code",
   "execution_count": 27,
   "metadata": {
    "collapsed": false
   },
   "outputs": [
    {
     "name": "stdout",
     "output_type": "stream",
     "text": [
      "['09/04/2004', 'Virginia', '44', 'Temple', '14']\n",
      "['09/04/2004', 'LSU', '22', 'Missouri', '18']\n",
      "['09/09/2004', 'Troy State', '01', 'Cambridge', '22']\n",
      "['01/02/2003', 'Florida State', '55', 'Oxford', '28']\n"
     ]
    }
   ],
   "source": [
    "file = open('university.txt', 'r')\n",
    "\n",
    "num = Word(nums)  # define varlaibles\n",
    "date = Combine( num + \"/\" + num + \"/\" + num )\n",
    "schoolName = OneOrMore( Word(alphas) )\n",
    "\n",
    "schoolName = schoolName.setParseAction( lambda tokens: \" \".join(tokens) )  # Use python join in lambda\n",
    "\n",
    "score = Word(nums) \n",
    "\n",
    "schoolAndScore = schoolName + score   # build up grammar\n",
    "gameResult = date + schoolAndScore + schoolAndScore  # and grammar\n",
    "\n",
    "for line in file:\n",
    "    stats = gameResult.parseString(line) \n",
    "    print(stats.asList())\n",
    "\n",
    "file.close()"
   ]
  },
  {
   "cell_type": "markdown",
   "metadata": {},
   "source": [
    "Another common use for parse actions is to do additional semantic validation, beyond the basic syntax matching that is defined in the expressions. For instance, the expression for date will accept 03023/808098/29921 as a valid date, and this is certainly not desirable. A parse action to validate the input date could use time.strptime to parse the time string into an actual date:\n",
    "\n",
    "    time.strptime(tokens[0],\"%m/%d/%Y\")\n",
    "    \n",
    "If strptime fails, then it will raise a ValueError exception. Pyparsing uses its own exception class, ParseException, for signaling whether an expression matched or not. Parse actions can raise their own exceptions to indicate that, even though the syntax matched, some higher-level validation failed. Our validation parse action would look like this:\n",
    "def"
   ]
  },
  {
   "cell_type": "code",
   "execution_count": 39,
   "metadata": {
    "collapsed": false
   },
   "outputs": [],
   "source": [
    "import time\n",
    "\n",
    "def validateDateString(tokens): \n",
    "    try:\n",
    "        time.strptime(tokens[0], \"%m/%d/%Y\") \n",
    "        # print(\"time is in correct format :\" + tokens[0])\n",
    "    except ValueError:\n",
    "        raise ParseException(\"Invalid date string (%s)\" % tokens[0]) \n",
    "    date.setParseAction(validateDateString)\n",
    "    \n",
    "date = Combine( num + \"/\" + num + \"/\" + num )\n",
    "\n",
    "test_date1 = \"01/03/1900\"\n",
    "validateDateString(date.parseString(test_date1) )\n",
    "\n",
    "test_date2 = \"0101/03/1900\"\n",
    "# validateDateString(date.parseString(test_date2) )  # raises the required exceptions"
   ]
  },
  {
   "cell_type": "markdown",
   "metadata": {},
   "source": [
    "Another modifier of the parsed results is the pyparsing Group class. Group does not change the parsed tokens; instead, it nests them within a sublist. Group is a useful class for providing structure to the results returned from parsing:"
   ]
  },
  {
   "cell_type": "code",
   "execution_count": 40,
   "metadata": {
    "collapsed": false
   },
   "outputs": [
    {
     "name": "stdout",
     "output_type": "stream",
     "text": [
      "['09/04/2004', ['Virginia', '44'], ['Temple', '14']]\n",
      "['09/04/2004', ['LSU', '22'], ['Missouri', '18']]\n",
      "['09/09/2004', ['Troy State', '01'], ['Cambridge', '22']]\n",
      "['01/02/2003', ['Florida State', '55'], ['Oxford', '28']]\n"
     ]
    }
   ],
   "source": [
    "score = Word(nums) \n",
    "schoolAndScore = Group( schoolName + score )\n",
    "gameResult = date + schoolAndScore + schoolAndScore  # and grammar\n",
    "\n",
    "file = open('university.txt', 'r')\n",
    "for line in file:\n",
    "    stats = gameResult.parseString(line) \n",
    "    print(stats.asList())\n",
    "file.close()"
   ]
  },
  {
   "cell_type": "markdown",
   "metadata": {},
   "source": [
    "Finally, we will add one more parse action to perform the conversion of numeric strings into actual integers. This is a very common use for parse actions, and it also shows how pyparsing can return structured data, not just nested lists of parsed strings. This parse action is also simple enough to implement as a lambda:"
   ]
  },
  {
   "cell_type": "code",
   "execution_count": 42,
   "metadata": {
    "collapsed": false
   },
   "outputs": [
    {
     "name": "stdout",
     "output_type": "stream",
     "text": [
      "['09/04/2004', ['Virginia', 44], ['Temple', 14]]\n",
      "['09/04/2004', ['LSU', 22], ['Missouri', 18]]\n",
      "['09/09/2004', ['Troy State', 1], ['Cambridge', 22]]\n",
      "['01/02/2003', ['Florida State', 55], ['Oxford', 28]]\n"
     ]
    }
   ],
   "source": [
    "score = Word(nums).setParseAction( lambda tokens : int(tokens[0]) )\n",
    "\n",
    "schoolAndScore = Group( schoolName + score )\n",
    "gameResult = date + schoolAndScore + schoolAndScore  # and grammar\n",
    "\n",
    "file = open('university.txt', 'r')\n",
    "for line in file:\n",
    "    stats = gameResult.parseString(line) \n",
    "    print(stats.asList())\n",
    "file.close()"
   ]
  },
  {
   "cell_type": "markdown",
   "metadata": {},
   "source": [
    "Use results names to simplify access to specific tokens within the parsed re- sults, and to protect your parser from later text and grammar changes, and from the variability of optional data fields. But this still leaves us sensitive to the order of the parsed data.\n",
    "\n",
    "Instead, we can define names in the grammar that different expressions should use to label the resulting tokens returned by those expressions. To do this, we insert calls to setResults-Name into our grammar, so that expressions will label the tokens as they are accumulated into the Parse-Results for the overall grammar:"
   ]
  },
  {
   "cell_type": "code",
   "execution_count": 51,
   "metadata": {
    "collapsed": false
   },
   "outputs": [
    {
     "name": "stdout",
     "output_type": "stream",
     "text": [
      "09/04/2004 ['Virginia', 44] ['Temple', 14]\n",
      "09/04/2004 ['LSU', 22] ['Missouri', 18]\n",
      "09/09/2004 ['Troy State', 1] ['Cambridge', 22]\n",
      "01/02/2003 ['Florida State', 55] ['Oxford', 28]\n"
     ]
    }
   ],
   "source": [
    "schoolAndScore = Group(schoolName.setResultsName(\"school\") + score.setResultsName(\"score\") )\n",
    "gameResult = date.setResultsName(\"date\") + schoolAndScore.setResultsName(\"team1\") + schoolAndScore.setResultsName(\"team2\")\n",
    "\n",
    "file = open('university.txt', 'r')\n",
    "for line in file:\n",
    "    stats = gameResult.parseString(line) \n",
    "    print(\"%(date)s %(team1)s %(team2)s\" % stats)\n",
    "    # print(stats.dump())  # can see a dump of hierarchical listing of keys and values\n",
    "file.close()"
   ]
  },
  {
   "cell_type": "markdown",
   "metadata": {},
   "source": [
    "ParseResults also implements the keys(), items(), and values() methods, and supports key testing with Python's in keyword.\n",
    "\n",
    "To check whether your grammar has processed the entire string, pyparsing pro- vides a class StringEnd (and a built-in expression stringEnd) that you can add to the end of the grammar. This is your way of signifying, \"at this point, I expect there to be no more text—this should be the end of the input string.\" If the grammar has left some part of the input unparsed, then StringEnd will raise a ParseE xception. Note that if there is trailing whitespace, pyparsing will automatically skip over it before testing for end-of-string.\n",
    "\n",
    "pyparser can be used for web pages too"
   ]
  },
  {
   "cell_type": "code",
   "execution_count": null,
   "metadata": {
    "collapsed": true
   },
   "outputs": [],
   "source": []
  },
  {
   "cell_type": "markdown",
   "metadata": {},
   "source": [
    "# Now build code to parse pegs4.dat file"
   ]
  },
  {
   "cell_type": "code",
   "execution_count": 69,
   "metadata": {
    "collapsed": false
   },
   "outputs": [
    {
     "name": "stdout",
     "output_type": "stream",
     "text": [
      "AG521ICRU\n"
     ]
    }
   ],
   "source": [
    "test1 = ' MEDIUM=AG521ICRU               ,STERNCID=AG521ICRU  '\n",
    "\n",
    "identifier = Word(alphas, alphanums)\n",
    "\n",
    "test1parse = \"MEDIUM\" + \"=\" + identifier.setResultsName(\"MEDIUM\") + Suppress(',') +  \"STERNCID\" + \"=\" + identifier.setResultsName(\"STERNCID\")\n",
    "\n",
    "RESULT = test1parse.parseString(test1) \n",
    "print(RESULT.MEDIUM)"
   ]
  },
  {
   "cell_type": "code",
   "execution_count": 70,
   "metadata": {
    "collapsed": false
   },
   "outputs": [
    {
     "name": "stdout",
     "output_type": "stream",
     "text": [
      "AG521ICRU\n",
      "ROBICRU\n"
     ]
    }
   ],
   "source": [
    "file = open('521icru_short.pegs4dat', 'r')\n",
    "for line in file:\n",
    "    if line.startswith(\" MEDIUM\"):   # note the whitespace at the beginning\n",
    "        RESULT = test1parse.parseString(line) \n",
    "        print(RESULT.MEDIUM)\n",
    "file.close()"
   ]
  },
  {
   "cell_type": "code",
   "execution_count": null,
   "metadata": {
    "collapsed": true
   },
   "outputs": [],
   "source": []
  }
 ],
 "metadata": {
  "anaconda-cloud": {},
  "kernelspec": {
   "display_name": "Python [Root]",
   "language": "python",
   "name": "Python [Root]"
  },
  "language_info": {
   "codemirror_mode": {
    "name": "ipython",
    "version": 3
   },
   "file_extension": ".py",
   "mimetype": "text/x-python",
   "name": "python",
   "nbconvert_exporter": "python",
   "pygments_lexer": "ipython3",
   "version": "3.5.2"
  }
 },
 "nbformat": 4,
 "nbformat_minor": 0
}
