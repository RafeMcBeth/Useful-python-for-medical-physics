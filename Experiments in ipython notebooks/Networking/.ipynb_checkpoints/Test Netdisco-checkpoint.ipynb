{
 "cells": [
  {
   "cell_type": "code",
   "execution_count": 1,
   "metadata": {
    "collapsed": false
   },
   "outputs": [
    {
     "name": "stdout",
     "output_type": "stream",
     "text": [
      "philips_hue [('Philips hue (192.168.0.2)', 'http://192.168.0.2:80/')]\n",
      "mystrom [('BSB002', 'http://Philips-hue.local.', '8D:CA:3A:30:F5:0D')]\n",
      "homekit [{'id': '8D:CA:3A:30:F5:0D', 'ci': '2', 'sf': '0', 'host': 'http://Philips-hue.local.', 'c#': '6', 'pv': '1.0', 'ff': '1', 's#': '1', 'md': 'BSB002'}]\n"
     ]
    }
   ],
   "source": [
    "import time\n",
    "from netdisco.discovery import NetworkDiscovery\n",
    "\n",
    "netdis = NetworkDiscovery()\n",
    "\n",
    "netdis.scan()\n",
    "\n",
    "for dev in netdis.discover():\n",
    "    print(dev, netdis.get_info(dev))\n",
    "\n",
    "netdis.stop()"
   ]
  },
  {
   "cell_type": "code",
   "execution_count": null,
   "metadata": {
    "collapsed": true
   },
   "outputs": [],
   "source": []
  }
 ],
 "metadata": {
  "anaconda-cloud": {},
  "kernelspec": {
   "display_name": "Python [conda root]",
   "language": "python",
   "name": "conda-root-py"
  },
  "language_info": {
   "codemirror_mode": {
    "name": "ipython",
    "version": 3
   },
   "file_extension": ".py",
   "mimetype": "text/x-python",
   "name": "python",
   "nbconvert_exporter": "python",
   "pygments_lexer": "ipython3",
   "version": "3.5.2"
  }
 },
 "nbformat": 4,
 "nbformat_minor": 1
}
