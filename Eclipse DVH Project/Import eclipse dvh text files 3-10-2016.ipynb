{
 "cells": [
  {
   "cell_type": "markdown",
   "metadata": {},
   "source": [
    "Inspiration from https://github.com/cran/RadOnc/blob/master/R/read.DVH.R\n",
    "\n",
    "And http://stackoverflow.com/questions/3914454/python-how-to-loop-through-blocks-of-lines"
   ]
  },
  {
   "cell_type": "code",
   "execution_count": 86,
   "metadata": {
    "collapsed": true
   },
   "outputs": [],
   "source": [
    "import numpy as np"
   ]
  },
  {
   "cell_type": "code",
   "execution_count": 71,
   "metadata": {
    "collapsed": false
   },
   "outputs": [],
   "source": [
    "file = open('case1_AAA.txt', 'r')\n",
    "\n",
    "plan = {}                           # create dict for plan info\n",
    "Structures = []                     # empty list for structures\n",
    "Structures_index = []\n",
    "\n",
    "\n",
    "for index, line in enumerate(file):\n",
    "    if line.startswith('Patient ID '):\n",
    "        patID = line.split(':')[1].replace('\\n','') \n",
    "        plan['ID'] = patID\n",
    "    \n",
    "    if line.startswith('Structure:'):\n",
    "        structure=line.split(':');\n",
    "        orig_struct = structure[1].replace('\\n','')   # strip \\n from end\n",
    "        Structures.append(orig_struct)\n",
    "        Structures_index.append(index)\n",
    "        \n",
    "    plan['Structures'] = Structures\n",
    "    plan['Structures_index'] = Structures_index\n",
    "    \n",
    "    \n",
    "file.close()"
   ]
  },
  {
   "cell_type": "code",
   "execution_count": 72,
   "metadata": {
    "collapsed": false
   },
   "outputs": [
    {
     "data": {
      "text/plain": [
       "dict_keys(['Structures', 'Structures_index', 'ID'])"
      ]
     },
     "execution_count": 72,
     "metadata": {},
     "output_type": "execute_result"
    }
   ],
   "source": [
    "plan.keys()"
   ]
  },
  {
   "cell_type": "code",
   "execution_count": 85,
   "metadata": {
    "collapsed": false
   },
   "outputs": [
    {
     "name": "stdout",
     "output_type": "stream",
     "text": [
      "False\n",
      "False\n",
      "Volume [cm³]: 13374.5\n",
      "\n",
      "False\n",
      "Volume [cm³]: 34.1\n",
      "\n",
      "False\n",
      "Volume [cm³]: 711.2\n",
      "\n",
      "False\n",
      "Volume [cm³]: 27.4\n",
      "\n",
      "False\n",
      "Volume [cm³]: 92.5\n",
      "\n",
      "False\n",
      "Volume [cm³]: 36.0\n",
      "\n",
      "False\n",
      "Volume [cm³]: 63.5\n",
      "\n",
      "False\n",
      "Volume [cm³]: 31.5\n",
      "\n",
      "False\n",
      "Volume [cm³]: 24.6\n",
      "\n",
      "False\n",
      "Volume [cm³]: 3.0\n",
      "\n",
      "False\n",
      "Volume [cm³]: 3.8\n",
      "\n",
      "False\n",
      "Volume [cm³]: 834.7\n",
      "\n",
      "False\n",
      "Volume [cm³]: 72.9\n",
      "\n",
      "False\n",
      "Volume [cm³]: 1421.2\n",
      "\n",
      "False\n",
      "Volume [cm³]: 259.4\n",
      "\n",
      "False\n",
      "Volume [cm³]: 1783.5\n",
      "\n",
      "False\n",
      "Volume [cm³]: 3199.3\n",
      "\n",
      "False\n",
      "Volume [cm³]: 1364.9\n",
      "\n",
      "False\n",
      "Volume [cm³]: 50.0\n",
      "\n",
      "False\n",
      "Volume [cm³]: 34.1\n",
      "\n",
      "False\n",
      "Volume [cm³]: 895.6\n",
      "\n",
      "False\n",
      "Volume [cm³]: 232.3\n",
      "\n",
      "False\n",
      "Volume [cm³]: 7.3\n",
      "\n",
      "False\n",
      "Volume [cm³]: 70.0\n",
      "\n",
      "False\n",
      "Volume [cm³]: 234.2\n",
      "\n"
     ]
    }
   ],
   "source": [
    "import itertools\n",
    "\n",
    "def Structure_separator(line):\n",
    "    return line.startswith('Structure:')   # if line starts with ... create a new groupby\n",
    "\n",
    "with open('case1_AAA.txt') as f:\n",
    "    for key,group in itertools.groupby(f,Structure_separator):\n",
    "        if not key:\n",
    "            data={}\n",
    "            for line in group:\n",
    "                if line.startswith('Volume'): \n",
    "                    print(line)"
   ]
  },
  {
   "cell_type": "code",
   "execution_count": null,
   "metadata": {
    "collapsed": true
   },
   "outputs": [],
   "source": []
  }
 ],
 "metadata": {
  "anaconda-cloud": {},
  "kernelspec": {
   "display_name": "Python [Root]",
   "language": "python",
   "name": "Python [Root]"
  },
  "language_info": {
   "codemirror_mode": {
    "name": "ipython",
    "version": 3
   },
   "file_extension": ".py",
   "mimetype": "text/x-python",
   "name": "python",
   "nbconvert_exporter": "python",
   "pygments_lexer": "ipython3",
   "version": "3.5.2"
  }
 },
 "nbformat": 4,
 "nbformat_minor": 0
}
