{
 "cells": [
  {
   "cell_type": "markdown",
   "metadata": {},
   "source": [
    "Inspiration from https://github.com/cran/RadOnc/blob/master/R/read.DVH.R\n",
    "\n",
    "And http://stackoverflow.com/questions/3914454/python-how-to-loop-through-blocks-of-lines"
   ]
  },
  {
   "cell_type": "code",
   "execution_count": 138,
   "metadata": {
    "collapsed": false
   },
   "outputs": [
    {
     "name": "stdout",
     "output_type": "stream",
     "text": [
      "Robin Cole \n",
      "last updated: 2016-10-04 \n",
      "\n",
      "CPython 3.5.2\n",
      "IPython 4.2.0\n",
      "\n",
      "numpy 1.11.1\n",
      "pandas 0.18.1\n",
      "matplotlib 1.5.1\n"
     ]
    }
   ],
   "source": [
    "%load_ext watermark\n",
    "%watermark -a 'Robin Cole' -u -d -v -p numpy,pandas,matplotlib"
   ]
  },
  {
   "cell_type": "code",
   "execution_count": 95,
   "metadata": {
    "collapsed": true
   },
   "outputs": [],
   "source": [
    "import numpy as np\n",
    "import itertools\n",
    "import json\n",
    "import re"
   ]
  },
  {
   "cell_type": "code",
   "execution_count": 126,
   "metadata": {
    "collapsed": false
   },
   "outputs": [],
   "source": [
    "file = open('case1_AAA.txt', 'r')\n",
    "\n",
    "plan = {}                           # create dict for plan info\n",
    "Structures = []                     # empty list for structures\n",
    "Structures_index = []\n",
    "\n",
    "\n",
    "for index, line in enumerate(file):\n",
    "    if line.startswith('Patient ID '):\n",
    "        patID = line.split(':')[1].replace('\\n','') \n",
    "        plan['ID'] = patID\n",
    "    \n",
    "    if line.startswith('Structure:'):\n",
    "        structure=line.split(':');\n",
    "        orig_struct = structure[1].replace('\\n','')   # strip \\n from end\n",
    "        Structures.append(orig_struct)\n",
    "        Structures_index.append(index)\n",
    "        \n",
    "    plan['Structures'] = Structures\n",
    "    plan['Structures_index'] = Structures_index\n",
    "    \n",
    "    \n",
    "file.close()"
   ]
  },
  {
   "cell_type": "code",
   "execution_count": 136,
   "metadata": {
    "collapsed": false
   },
   "outputs": [
    {
     "name": "stdout",
     "output_type": "stream",
     "text": [
      " BODY_P: at index 16\n",
      " GTV_P: at index 1344\n",
      " Heart_: at index 2672\n",
      " Foramen: at index 4000\n",
      " Foramen+5mm_P: at index 5328\n",
      " Oesophagus_P: at index 6656\n",
      " Foramen+3mm_P: at index 7984\n",
      " Trachea_P: at index 9312\n",
      " Bronchial tree_P: at index 10640\n",
      " L Brachial plex_: at index 11968\n",
      " Rt Brachial plex: at index 13296\n",
      " Airway avoidance: at index 14624\n",
      " PTV CHEST_P: at index 15952\n",
      " Lt_Lung_P: at index 17280\n",
      " PTV ring 2-3cm_P: at index 18608\n",
      " Rt_Lung_P: at index 19936\n",
      " Both Lungs-ITV_P: at index 21264\n",
      " skin_P: at index 22592\n",
      " PseudoPTV-ITV_P: at index 23920\n",
      " Pseudo ITV_P: at index 25248\n",
      " ribs_P: at index 26576\n",
      " Pseudo Ring_P: at index 27904\n",
      " Pseudo Ribs_P: at index 29232\n",
      " Dose 100[%]_P: at index 30560\n",
      " Dose 50[%]_P: at index 31888\n"
     ]
    }
   ],
   "source": [
    "file = open('case1_AAA.txt', 'r') # read in file to string list\n",
    "\n",
    "Structures = {}   # create dict \n",
    "\n",
    "for index, line in enumerate(file): \n",
    "    matchObj = re.match( r'^Structure: (.*?$)', line, re.M|re.X)\n",
    "    if matchObj:\n",
    "        Structures[]\n",
    "        print(matchObj.group(1) + ': at index ' + str(index)) \n",
    "\n",
    "file.close()"
   ]
  },
  {
   "cell_type": "code",
   "execution_count": 113,
   "metadata": {
    "collapsed": true
   },
   "outputs": [],
   "source": [
    "file?"
   ]
  },
  {
   "cell_type": "code",
   "execution_count": 88,
   "metadata": {
    "collapsed": false
   },
   "outputs": [
    {
     "data": {
      "text/plain": [
       "dict_keys(['Structures', 'Structures_index', 'ID'])"
      ]
     },
     "execution_count": 88,
     "metadata": {},
     "output_type": "execute_result"
    }
   ],
   "source": [
    "plan.keys()"
   ]
  },
  {
   "cell_type": "code",
   "execution_count": 92,
   "metadata": {
    "collapsed": false
   },
   "outputs": [
    {
     "name": "stdout",
     "output_type": "stream",
     "text": [
      "Volume [cm³]: 13374.5\n",
      "\n",
      "Volume [cm³]: 34.1\n",
      "\n",
      "Volume [cm³]: 711.2\n",
      "\n",
      "Volume [cm³]: 27.4\n",
      "\n",
      "Volume [cm³]: 92.5\n",
      "\n",
      "Volume [cm³]: 36.0\n",
      "\n",
      "Volume [cm³]: 63.5\n",
      "\n",
      "Volume [cm³]: 31.5\n",
      "\n",
      "Volume [cm³]: 24.6\n",
      "\n",
      "Volume [cm³]: 3.0\n",
      "\n",
      "Volume [cm³]: 3.8\n",
      "\n",
      "Volume [cm³]: 834.7\n",
      "\n",
      "Volume [cm³]: 72.9\n",
      "\n",
      "Volume [cm³]: 1421.2\n",
      "\n",
      "Volume [cm³]: 259.4\n",
      "\n",
      "Volume [cm³]: 1783.5\n",
      "\n",
      "Volume [cm³]: 3199.3\n",
      "\n",
      "Volume [cm³]: 1364.9\n",
      "\n",
      "Volume [cm³]: 50.0\n",
      "\n",
      "Volume [cm³]: 34.1\n",
      "\n",
      "Volume [cm³]: 895.6\n",
      "\n",
      "Volume [cm³]: 232.3\n",
      "\n",
      "Volume [cm³]: 7.3\n",
      "\n",
      "Volume [cm³]: 70.0\n",
      "\n",
      "Volume [cm³]: 234.2\n",
      "\n"
     ]
    }
   ],
   "source": [
    "file = open('case1_AAA.txt', 'r')\n",
    "\n",
    "for key,group in itertools.groupby(file, lambda line: line.startswith('Structure:')):\n",
    "    if not key:\n",
    "        data={}\n",
    "        for line in group:\n",
    "            if line.startswith('Volume'): \n",
    "                print(line)\n",
    "                \n",
    "file.close()"
   ]
  },
  {
   "cell_type": "code",
   "execution_count": 137,
   "metadata": {
    "collapsed": false
   },
   "outputs": [
    {
     "name": "stdout",
     "output_type": "stream",
     "text": [
      "{\n",
      "  \"Structure\": \"BODY_P\"\n",
      "}\n",
      "{\n",
      "  \"Approval Status\": \"Unapproved\",\n",
      "  \"Min Dose [%]\": \"0.0\",\n",
      "  \"Plan\": \"Case1\",\n",
      "  \"Sampling Cover.[%]\": \"100.0\",\n",
      "  \"Max Dose [%]\": \"130.9\",\n",
      "  \"Dose Cover.[%]\": \"100.0\",\n",
      "  \"Conformity Index\": \"N/A\",\n",
      "  \"Gradient Measure [cm]\": \"N/A\",\n",
      "  \"STD [%]\": \"13.6\",\n",
      "  \"Median Dose [%]\": \"0.8\",\n",
      "  \"Modal Dose [%]\": \"0.2\",\n",
      "  \"Volume [cm\\u00b3]\": \"13374.5\",\n",
      "  \"Course\": \"1\",\n",
      "  \"Equiv. Sphere Diam. [cm]\": \"29.5\",\n",
      "  \"Mean Dose [%]\": \"5.7\"\n",
      "}\n"
     ]
    },
    {
     "ename": "ValueError",
     "evalue": "not enough values to unpack (expected 2, got 1)",
     "output_type": "error",
     "traceback": [
      "\u001b[0;31m---------------------------------------------------------------------------\u001b[0m",
      "\u001b[0;31mValueError\u001b[0m                                Traceback (most recent call last)",
      "\u001b[0;32m<ipython-input-137-da0705f5cf3c>\u001b[0m in \u001b[0;36m<module>\u001b[0;34m()\u001b[0m\n\u001b[1;32m     20\u001b[0m                 \u001b[0minfo\u001b[0m \u001b[0;34m=\u001b[0m \u001b[0;34m{\u001b[0m\u001b[0;34m}\u001b[0m\u001b[0;34m;\u001b[0m\u001b[0;34m\u001b[0m\u001b[0m\n\u001b[1;32m     21\u001b[0m                 \u001b[0;32mfor\u001b[0m \u001b[0mline\u001b[0m \u001b[0;32min\u001b[0m \u001b[0msub_group\u001b[0m\u001b[0;34m:\u001b[0m\u001b[0;34m\u001b[0m\u001b[0m\n\u001b[0;32m---> 22\u001b[0;31m                     \u001b[0mfield\u001b[0m\u001b[0;34m,\u001b[0m\u001b[0mvalue\u001b[0m\u001b[0;34m=\u001b[0m\u001b[0mline\u001b[0m\u001b[0;34m.\u001b[0m\u001b[0msplit\u001b[0m\u001b[0;34m(\u001b[0m\u001b[0;34m':'\u001b[0m\u001b[0;34m)\u001b[0m\u001b[0;34m\u001b[0m\u001b[0m\n\u001b[0m\u001b[1;32m     23\u001b[0m                     \u001b[0;32mif\u001b[0m \u001b[0misinstance\u001b[0m\u001b[0;34m(\u001b[0m\u001b[0mvalue\u001b[0m\u001b[0;34m,\u001b[0m \u001b[0mstr\u001b[0m\u001b[0;34m)\u001b[0m\u001b[0;34m:\u001b[0m \u001b[0;31m# if a string\u001b[0m\u001b[0;34m\u001b[0m\u001b[0m\n\u001b[1;32m     24\u001b[0m                         \u001b[0mvalue\u001b[0m\u001b[0;34m=\u001b[0m\u001b[0mvalue\u001b[0m\u001b[0;34m.\u001b[0m\u001b[0mstrip\u001b[0m\u001b[0;34m(\u001b[0m\u001b[0;34m)\u001b[0m\u001b[0;34m\u001b[0m\u001b[0m\n",
      "\u001b[0;31mValueError\u001b[0m: not enough values to unpack (expected 2, got 1)"
     ]
    }
   ],
   "source": [
    "file = open('case1_AAA.txt', 'r')\n",
    "\n",
    "\n",
    "file_body = file.readlines()[16:]  # first 16 lines are header\n",
    "\n",
    "for key, Structure_group in itertools.groupby(file_body, lambda line: line.startswith('Structure:')):  # group on Structure\n",
    "    for key, sub_group in itertools.groupby(Structure_group, lambda line: line=='\\n'):                 # Group on empty lines\n",
    "        if not key:\n",
    "            \n",
    "            if line.startswith('Relative dose'):\n",
    "                data = []   # create a list so can use the append . np arrays must be init with length\n",
    "                for line in sub_group:\n",
    "                    if not line.startswith('Relative dose') and line != '\\n' :     # last line of iterable contains \\n\n",
    "                        aa = [float(s) for s in line.split('\\t')]\n",
    "                        data.append(aa)\n",
    "                        data = np.asarray(data)        \n",
    "                print(data.shape)   \n",
    "            \n",
    "            else:\n",
    "                info = {};\n",
    "                for line in sub_group: \n",
    "                    field,value=line.split(':')\n",
    "                    if isinstance(value, str): # if a string\n",
    "                        value=value.strip()\n",
    "                    else:\n",
    "                        value = float(value)\n",
    "                    info[field]=value\n",
    "                    #print(info)\n",
    "                print(json.dumps(info, indent=2))\n",
    "                \n",
    "file.close()"
   ]
  },
  {
   "cell_type": "code",
   "execution_count": 100,
   "metadata": {
    "collapsed": false
   },
   "outputs": [
    {
     "data": {
      "text/plain": [
       "True"
      ]
     },
     "execution_count": 100,
     "metadata": {},
     "output_type": "execute_result"
    }
   ],
   "source": [
    "isinstance('test', str)"
   ]
  },
  {
   "cell_type": "code",
   "execution_count": 101,
   "metadata": {
    "collapsed": false
   },
   "outputs": [
    {
     "data": {
      "text/plain": [
       "False"
      ]
     },
     "execution_count": 101,
     "metadata": {},
     "output_type": "execute_result"
    }
   ],
   "source": [
    "isinstance(0, str)"
   ]
  },
  {
   "cell_type": "code",
   "execution_count": null,
   "metadata": {
    "collapsed": true
   },
   "outputs": [],
   "source": []
  }
 ],
 "metadata": {
  "anaconda-cloud": {},
  "kernelspec": {
   "display_name": "Python [Root]",
   "language": "python",
   "name": "Python [Root]"
  },
  "language_info": {
   "codemirror_mode": {
    "name": "ipython",
    "version": 3
   },
   "file_extension": ".py",
   "mimetype": "text/x-python",
   "name": "python",
   "nbconvert_exporter": "python",
   "pygments_lexer": "ipython3",
   "version": "3.5.2"
  }
 },
 "nbformat": 4,
 "nbformat_minor": 0
}
