{
 "cells": [
  {
   "cell_type": "markdown",
   "metadata": {},
   "source": [
    "Inspiration from https://github.com/cran/RadOnc/blob/master/R/read.DVH.R\n",
    "\n",
    "And http://stackoverflow.com/questions/3914454/python-how-to-loop-through-blocks-of-lines"
   ]
  },
  {
   "cell_type": "code",
   "execution_count": 138,
   "metadata": {
    "collapsed": false
   },
   "outputs": [
    {
     "name": "stdout",
     "output_type": "stream",
     "text": [
      "Robin Cole \n",
      "last updated: 2016-10-04 \n",
      "\n",
      "CPython 3.5.2\n",
      "IPython 4.2.0\n",
      "\n",
      "numpy 1.11.1\n",
      "pandas 0.18.1\n",
      "matplotlib 1.5.1\n"
     ]
    }
   ],
   "source": [
    "%load_ext watermark\n",
    "%watermark -a 'Robin Cole' -u -d -v -p numpy,pandas,matplotlib"
   ]
  },
  {
   "cell_type": "code",
   "execution_count": 95,
   "metadata": {
    "collapsed": true
   },
   "outputs": [],
   "source": [
    "import numpy as np\n",
    "import itertools\n",
    "import json\n",
    "import re"
   ]
  },
  {
   "cell_type": "code",
   "execution_count": 273,
   "metadata": {
    "collapsed": false
   },
   "outputs": [
    {
     "name": "stdout",
     "output_type": "stream",
     "text": [
      "33200\n"
     ]
    },
    {
     "data": {
      "text/plain": [
       "{'Patient ID': ' Case1_AAA',\n",
       " 'Patient Name': ' Acuros lung evaluation, RC Physics',\n",
       " 'Plan': ' Case1_AAA',\n",
       " 'Prescribed dose [Gy]': ' 55.000',\n",
       " 'Structures': [' BODY_P',\n",
       "  ' GTV_P',\n",
       "  ' Heart_',\n",
       "  ' Foramen',\n",
       "  ' Foramen+5mm_P',\n",
       "  ' Oesophagus_P',\n",
       "  ' Foramen+3mm_P',\n",
       "  ' Trachea_P',\n",
       "  ' Bronchial tree_P',\n",
       "  ' L Brachial plex_',\n",
       "  ' Rt Brachial plex',\n",
       "  ' Airway avoidance',\n",
       "  ' PTV CHEST_P',\n",
       "  ' Lt_Lung_P',\n",
       "  ' PTV ring 2-3cm_P',\n",
       "  ' Rt_Lung_P',\n",
       "  ' Both Lungs-ITV_P',\n",
       "  ' skin_P',\n",
       "  ' PseudoPTV-ITV_P',\n",
       "  ' Pseudo ITV_P',\n",
       "  ' ribs_P',\n",
       "  ' Pseudo Ring_P',\n",
       "  ' Pseudo Ribs_P',\n",
       "  ' Dose 100[%]_P',\n",
       "  ' Dose 50[%]_P']}"
      ]
     },
     "execution_count": 273,
     "metadata": {},
     "output_type": "execute_result"
    }
   ],
   "source": [
    "file = 'case1_AAA.txt'\n",
    "file_header =  open(file, 'r').readlines()[:15]\n",
    "file_body =    open(file, 'r').readlines()[16:]  # first 16 lines are header, for some reason was not opening header\n",
    "\n",
    "plan = {}   # to contain all file plan info\n",
    "\n",
    "# parse the header here\n",
    "for line in file_header:\n",
    "    if line.replace(u'\\ufeff', '').startswith('Patient Name'):\n",
    "        plan['Patient Name'] = line.replace(u'\\ufeff', '').split(':')[1].rstrip()\n",
    "    elif line.startswith('Patient ID'):\n",
    "        plan['Patient ID'] = line.split(':')[1].rstrip() \n",
    "    elif line.startswith('Plan:'):\n",
    "        plan['Plan'] = line.split(':')[1].rstrip() \n",
    "    elif line.startswith('Prescribed dose [Gy]'):\n",
    "        plan['Prescribed dose [Gy]'] = line.split(':')[1].rstrip()\n",
    "    else:\n",
    "        pass\n",
    "\n",
    "#############################\n",
    "\n",
    "## get all structures\n",
    "Structures = []   # create list \n",
    "print(len(file_body))\n",
    "for i, line in enumerate(file_body): \n",
    "    matchObj = re.match( r'^Structure: (.*?$)', line, re.M|re.X)\n",
    "    if matchObj:\n",
    "        Structures.append(matchObj.group(1))\n",
    "plan['Structures'] = Structures  \n",
    "\n",
    "#############################\n",
    "\n",
    "plan"
   ]
  },
  {
   "cell_type": "code",
   "execution_count": 319,
   "metadata": {
    "collapsed": false
   },
   "outputs": [
    {
     "name": "stdout",
     "output_type": "stream",
     "text": [
      "0\n",
      "1\n",
      "1\n",
      "1\n",
      "1\n",
      "1\n",
      "1\n",
      "1\n",
      "1\n",
      "1\n",
      "1\n",
      "1\n",
      "1\n",
      "1\n",
      "1\n",
      "1\n",
      "1\n",
      "1\n",
      "1\n",
      "1\n",
      "1\n",
      "1\n",
      "1\n",
      "1\n",
      "1\n",
      "1\n",
      "1\n",
      "1\n",
      "1\n",
      "1\n",
      "1\n",
      "1\n",
      "1\n",
      "1\n",
      "1\n",
      "1\n",
      "1\n",
      "1\n",
      "1\n",
      "1\n",
      "1\n",
      "1\n",
      "1\n",
      "1\n",
      "1\n",
      "1\n",
      "1\n",
      "1\n",
      "1\n",
      "1\n"
     ]
    }
   ],
   "source": [
    "i = 0\n",
    "for key, Structure_group in itertools.groupby(file_body, lambda line: line.startswith('Structure:')):  # group on Structure\n",
    "    print(i)    \n",
    "    for key, sub_group in itertools.groupby(Structure_group, lambda line: line=='\\n'):                 # Group on empty lines\n",
    "        if not key:\n",
    "            for i, line in enumerate(sub_group):\n",
    "                if line.startswith('Relative dose'):\n",
    "                    data = []   # create a list so can use the append . np arrays must be init with length\n",
    "                    for line in sub_group:\n",
    "                         if not line.startswith('Relative dose') and len(line.split()) == 3 :     # 3 cols of data                        \n",
    "                            aa = [float(i) for i in line.split()]                       \n",
    "                            #data = np.asarray(data) \n",
    "                            data.append(aa)\n",
    "                \n",
    "            \n",
    "                else:\n",
    "                    info = {};\n",
    "                    for line in sub_group: \n",
    "                        if len(line.split()) == 2 : \n",
    "                            field,value=line.split(':')\n",
    "                            if isinstance(value, str): # if a string\n",
    "                                value=value.strip()\n",
    "                            else:\n",
    "                                value = float(value)\n",
    "                            info[field]=value\n",
    "    \n",
    "    i = i + 1 \n"
   ]
  },
  {
   "cell_type": "code",
   "execution_count": null,
   "metadata": {
    "collapsed": true
   },
   "outputs": [],
   "source": []
  },
  {
   "cell_type": "code",
   "execution_count": 299,
   "metadata": {
    "collapsed": false
   },
   "outputs": [
    {
     "name": "stdout",
     "output_type": "stream",
     "text": [
      "3\n"
     ]
    },
    {
     "data": {
      "text/plain": [
       "[0.0, 0.0, 100.0]"
      ]
     },
     "execution_count": 299,
     "metadata": {},
     "output_type": "execute_result"
    }
   ],
   "source": [
    "from decimal import *\n",
    "line = '                0                   0                       100'\n",
    "print(len(line.split()))\n",
    "bb = [float(i) for i in line.split()]\n",
    "bb\n",
    "#results =[float(i) for i in bb]\n",
    "\n",
    "#results"
   ]
  },
  {
   "cell_type": "code",
   "execution_count": null,
   "metadata": {
    "collapsed": true
   },
   "outputs": [],
   "source": []
  },
  {
   "cell_type": "code",
   "execution_count": null,
   "metadata": {
    "collapsed": true
   },
   "outputs": [],
   "source": []
  }
 ],
 "metadata": {
  "anaconda-cloud": {},
  "kernelspec": {
   "display_name": "Python [Root]",
   "language": "python",
   "name": "Python [Root]"
  },
  "language_info": {
   "codemirror_mode": {
    "name": "ipython",
    "version": 3
   },
   "file_extension": ".py",
   "mimetype": "text/x-python",
   "name": "python",
   "nbconvert_exporter": "python",
   "pygments_lexer": "ipython3",
   "version": "3.5.2"
  }
 },
 "nbformat": 4,
 "nbformat_minor": 0
}
