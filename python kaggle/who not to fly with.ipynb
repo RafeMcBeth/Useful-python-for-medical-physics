﻿{
 "metadata": {
  "kernelspec": {
   "display_name": "Python 3",
   "language": "python",
   "name": "python3"
  },
  "language_info": {
   "codemirror_mode": {
    "name": "ipython",
    "version": 3
   },
   "file_extension": ".py",
   "mimetype": "text/x-python",
   "name": "python",
   "nbconvert_exporter": "python",
   "pygments_lexer": "ipython3",
   "version": "3.5.2"
  }
 },
 "nbformat": 4,
 "nbformat_minor": 0,
 "cells": [
  {
   "cell_type": "markdown",
   "source": "Test",
   "execution_count": null,
   "outputs": [],
   "metadata": {}
  },
  {
   "cell_type": "code",
   "source": "import numpy as np\nimport pandas as pd \nfrom matplotlib import pyplot as plt\nimport matplotlib\nfrom sklearn.linear_model import LinearRegression\n\n# Input data files are available in the \"../input/\" directory.\n# For example, running this (by clicking run or pressing Shift+Enter) will list the files in the input directory\n\n#from subprocess import check_output\n#print(check_output([\"ls\", \"../input\"]).decode(\"utf8\"))\n\n# Any results you write to the current directory are saved as output.\nframe=pd.read_csv('../input/3-Airplane_Crashes_Since_1908.txt',sep=',')\nmatplotlib.rcParams['figure.figsize'] = (12.0, 8.0)\n\noperator = frame[['Operator','Fatalities']].groupby('Operator').agg(['sum','count'])\n\nfig_ops,((ax1, ax2), (ax3, ax4))=plt.subplots(2,2,sharex=True)\naccidents = operator['Fatalities','count'].sort_values(ascending=False)\ntotalacc = accidents.sum()\naccprop = accidents/totalacc\naccidents.head(10).plot(kind='bar',title='Accidents by Operator',ax=ax1,grid=True,rot=90)\naccprop.head(10).plot(kind='bar',title='Proportion of Total Accidents',ax=ax2,grid=True,rot=90)\n\nfatalities = operator['Fatalities','sum'].sort_values(ascending=False)\nfatalities.head(10).plot(kind='bar',title='Fatalities by Operator',ax=ax3,grid=True,rot=90)\ntotalfatal = fatalities.sum()\nfatalprop = fatalities/totalfatal\nfatalprop.head(10).plot(kind='bar',title='Proportion of total Fatalities',ax=ax4,grid=True,rot=90)",
   "execution_count": 1,
   "outputs": [],
   "metadata": {}
  },
  {
   "cell_type": "code",
   "source": "operator.dropna(inplace=True)\nX = operator['Fatalities','count']\nY = operator['Fatalities','sum']\nmodel = LinearRegression()\nmodel.fit(X.values.reshape(-1,1),Y.values.reshape(-1,1))\nm = model.coef_[0][0]\nc = model.intercept_[0]\n\nfig_fit,axd=plt.subplots()\naxd.scatter(X,Y,label='Operators')\naxd.set_title('Linear Model: Predicting Fatalities given Accidents')\naxd.plot(X,model.predict(X.values.reshape(-1,1)),label='Linear Fit: y = %2.2fx %2.2f' % (m,c))\naxd.grid(True)\naxd.set_xlabel('Accidents')\naxd.set_ylabel('Fatalities')\naxd.legend(loc=2)",
   "execution_count": 2,
   "outputs": [],
   "metadata": {}
  },
  {
   "cell_type": "code",
   "source": "types = frame[['Type','Fatalities']].groupby('Type').agg(['sum','count'])\n\nfig_type,((ax1,ax2),(ax3,ax4))=plt.subplots(2,2,sharex = True)\nacctype = types['Fatalities','count'].sort_values(ascending=False)\nacctype.head(10).plot(kind='bar',title='Accidents by Type',grid=True,ax=ax1,rot=90)\ntypeprop = acctype/totalacc\ntypeprop.head(10).plot(kind='bar',title='Proportion of total accidents',grid=True,ax=ax2,rot=90)\n\nfataltype = types['Fatalities','sum'].sort_values(ascending=False)\nfataltype.head(10).plot(kind='bar',title='Fatalities by Type',grid=True,ax=ax3,rot=90)\ntypefatalprop = fataltype/totalfatal\ntypefatalprop.head(10).plot(kind='bar',title='Proportion of total fatalities',grid=True,ax=ax4,rot=90)",
   "execution_count": 3,
   "outputs": [],
   "metadata": {}
  },
  {
   "cell_type": "code",
   "source": "frame['Year'] = frame['Date'].apply(lambda x: int(str(x)[-4:]))\nyearly = frame[['Year','Fatalities']].groupby('Year').agg(['sum','count'])\n\nfig_yearly,(axy1,axy2)=plt.subplots(2,1,figsize=(15,10))\nyearly['Fatalities','sum'].plot(kind='bar',title='Fatalities by Year',grid=True,ax=axy1,rot=90)\nyearly['Fatalities','count'].plot(kind='bar',title='Accidents by Year',grid=True,ax=axy2,rot=90)\nplt.tight_layout()",
   "execution_count": 4,
   "outputs": [],
   "metadata": {}
  },
  {
   "cell_type": "code",
   "source": "#Just having a look at the Accident and Fatality trend by specific operator.\n#The accident index is sorted from highest to lowest and can be used to select some of the more\n#interesting operators.\n\n#KLM for example have not had an accident since the 60's!\n\ninterestingOps = accidents.index.values.tolist()[0:5]\noptrend = frame[['Operator','Year','Fatalities']].groupby(['Operator','Year']).agg(['sum','count'])\nops = optrend['Fatalities'].reset_index()\nfig,axtrend = plt.subplots(2,1)\nfor op in interestingOps:\n    ops[ops['Operator']==op].plot(x='Year',y='sum',ax=axtrend[0],grid=True,linewidth=2)\n    ops[ops['Operator']==op].plot(x='Year',y='count',ax=axtrend[1],grid=True,linewidth=2)\n\naxtrend[0].set_title('Fatality Trend by Operator')\naxtrend[1].set_title('Accident Trend by Operator')\nlinesF, labelsF = axtrend[0].get_legend_handles_labels()\nlinesA, labelsA = axtrend[1].get_legend_handles_labels()\naxtrend[0].legend(linesF,interestingOps)\naxtrend[1].legend(linesA,interestingOps)\nplt.tight_layout()",
   "execution_count": 5,
   "outputs": [],
   "metadata": {}
  },
  {
   "cell_type": "code",
   "source": "#Splitting out the country from the location to see if we can find some interesting\n#statistics about where the most crashes have taken place.\n\ns = frame['Location'].str[0:].str.split(',', expand=True)\nframe['Country'] = s[3].fillna(s[2]).fillna(s[1]).str.strip()\n#I've pulled out all the US states so as to be able to assign them a country\nusNames = ['Virginia','New Jersey','Ohio','Pennsylvania', 'Maryland', 'Indiana', 'Iowa',\n          'Illinois','Wyoming', 'Minnisota', 'Wisconsin', 'Nevada', 'NY','California',\n          'WY','New York','Oregon', 'Idaho', 'Connecticut','Nebraska', 'Minnesota', 'Kansas',\n          'Texas', 'Tennessee', 'West Virginia', 'New Mexico', 'Washington', 'Massachusetts',\n          'Utah', 'Ilinois','Florida', 'Michigan', 'Arkansas','Colorado', 'Georgia''Missouri',\n          'Montana', 'Mississippi','Alaska','Jersey', 'Cailifornia', 'Oklahoma','North Carolina',\n          'Kentucky','Delaware','D.C.','Arazona','Arizona','South Dekota','New Hampshire','Hawaii',\n          'Washingon','Massachusett','Washington DC','Tennesee','Deleware','Louisiana',\n          'Massachutes', 'Louisana', 'New York (Idlewild)','Oklohoma','North Dakota','Rhode Island',\n          'Maine','Alakska','Wisconson','Calilfornia','Virginia','Virginia.','CA','Vermont',\n          'HI','AK','IN','GA','Coloado','Airzona','Alabama','Alaksa' \n          ]\n\n#Decided to try and cleanse the country names.\nafNames = ['Afghanstan'] #Afghanistan\nanNames = ['off Angola'] #Angola\nausNames = ['Qld. Australia','Queensland  Australia','Tasmania','off Australia'] #Australia\nargNames = ['Aregntina'] #Argentina\nazNames = ['Azores (Portugal)'] #Azores\nbaNames = ['Baangladesh'] #Bangladesh\nbahNames = ['Great Inagua'] #Bahamas\nberNames = ['off Bermuda'] #Bermuda\nbolNames = ['Boliva','BO'] #Bolivia\nbhNames = ['Bosnia-Herzegovina'] #Bosnia Herzegovina\nbulNames = ['Bugaria','Bulgeria'] #Bulgaria\ncanNames = ['British Columbia', 'British Columbia Canada','Canada2',\n            'Saskatchewan','Yukon Territory'] #Canada\ncamNames = ['Cameroons','French Cameroons'] #Cameroon\ncaNames = ['Cape Verde Islands'] #Cape Verde\nchNames = ['Chili'] #Chile\ncoNames = ['Comoro Islands', 'Comoros Islands'] #Comoros\ndjNames = ['Djbouti','Republiof Djibouti'] #Djibouti\ndomNames = ['Domincan Republic', 'Dominica'] #Dominican Republic\ndrcNames = ['Belgian Congo','Belgian Congo (Zaire)','Belgium Congo'\n           'DR Congo','DemocratiRepubliCogo','DemocratiRepubliCongo',\n            'DemocratiRepubliof Congo','DemoctratiRepubliCongo','Zaire',\n           'Zaïre'] #Democratic Republic of Congo\nfaNames = ['French Equitorial Africa'] #French Equatorial Africa\ngerNames = ['East Germany','West Germany'] #Germany\ngrNames = ['Crete'] #Greece\nhaNames = ['Hati'] #Haiti\nhunNames = ['Hunary'] #Hungary\ninNames = ['Indian'] #India\nindNames = ['Inodnesia','Netherlands Indies'] #Indonesia\njamNames = ['Jamacia'] #Jamaica\nmalNames = ['Malaya'] #Malaysia\nmanNames = ['Manmar'] #Myanmar\nmarNames = ['Mauretania'] #Mauritania\nmorNames = ['Morrocco','Morroco'] #Morocco\nnedNames = ['Amsterdam','The Netherlands'] #Netherlands\nniNames = ['Niger'] #Nigeria\nphilNames = ['Philipines','Philippine Sea', 'Phillipines',\n            'off the Philippine island of Elalat'] #Philippines\nromNames = ['Romainia'] #Romania\nrusNames = ['Russian','Soviet Union','USSR'] #Russia\nsaNames = ['Saint Lucia Island'] #Saint Lucia\nsamNames = ['Western Samoa'] #Samoa\nsiNames = ['Sierre Leone'] #Sierra Leone\nsoNames = ['South Africa (Namibia)'] #South Africa\nsurNames = ['Suriname'] #Surinam\nuaeNames = ['United Arab Emirates'] #UAE\nukNames = ['England', 'UK','Wales','110 miles West of Ireland'] #United Kingdom\nuvNames = ['US Virgin Islands','Virgin Islands'] #U.S. Virgin Islands\nwkNames = ['325 miles east of Wake Island']#Wake Island\nyuNames = ['Yugosalvia'] #Yugoslavia\nzimNames = ['Rhodesia', 'Rhodesia (Zimbabwe)'] #Zimbabwe\n\nclnames = []\nfor country in frame['Country'].values:\n    if country in afNames:\n        clnames.append('Afghanistan')\n    elif country in anNames:\n        clnames.append('Angola')\n    elif country in ausNames:\n        clnames.append('Australia')\n    elif country in argNames:\n        clnames.append('Argentina')\n    elif country in azNames:\n        clnames.append('Azores')\n    elif country in baNames:\n        clnames.append('Bangladesh')\n    elif country in bahNames:\n        clnames.append('Bahamas')\n    elif country in berNames:\n        clnames.append('Bermuda')\n    elif country in bolNames:\n        clnames.append('Bolivia')\n    elif country in bhNames:\n        clnames.append('Bosnia Herzegovina')\n    elif country in bulNames:\n        clnames.append('Bulgaria')\n    elif country in canNames:\n        clnames.append('Canada')\n    elif country in camNames:\n        clnames.append('Cameroon')\n    elif country in caNames:\n        clnames.append('Cape Verde')\n    elif country in chNames:\n        clnames.append('Chile')\n    elif country in coNames:\n        clnames.append('Comoros')\n    elif country in djNames:\n        clnames.append('Djibouti')\n    elif country in domNames:\n        clnames.append('Dominican Republic')\n    elif country in drcNames:\n        clnames.append('Democratic Republic of Congo')\n    elif country in faNames:\n        clnames.append('French Equatorial Africa')\n    elif country in gerNames:\n        clnames.append('Germany')\n    elif country in grNames:\n        clnames.append('Greece')\n    elif country in haNames:\n        clnames.append('Haiti')\n    elif country in hunNames:\n        clnames.append('Hungary')\n    elif country in inNames:\n        clnames.append('India')\n    elif country in jamNames:\n        clnames.append('Jamaica')\n    elif country in malNames:\n        clnames.append('Malaysia')\n    elif country in manNames:\n        clnames.append('Myanmar')\n    elif country in marNames:\n        clnames.append('Mauritania')\n    elif country in morNames:\n        clnames.append('Morocco')\n    elif country in nedNames:\n        clnames.append('Netherlands')\n    elif country in niNames:\n        clnames.append('Nigeria')\n    elif country in philNames:\n        clnames.append('Philippines')\n    elif country in romNames:\n        clnames.append('Romania')\n    elif country in rusNames:\n        clnames.append('Russia')\n    elif country in saNames:\n        clnames.append('Saint Lucia')\n    elif country in samNames:\n        clnames.append('Samoa')\n    elif country in siNames:\n        clnames.append('Sierra Leone')\n    elif country in soNames:\n        clnames.append('South Africa')\n    elif country in surNames:\n        clnames.append('Surinam')\n    elif country in uaeNames:\n        clnames.append('UAE')\n    elif country in ukNames:\n        clnames.append('United Kingdom')\n    elif country in usNames:\n        clnames.append('United States of America')\n    elif country in uvNames:\n        clnames.append('U.S. Virgin Islands')\n    elif country in wkNames:\n        clnames.append('Wake Island')\n    elif country in yuNames:\n        clnames.append('Yugoslavia')\n    elif country in zimNames:\n        clnames.append('Zimbabwe')\n    else:\n        clnames.append(country)\n        \nframe['Cleaned Country'] = clnames        \nfatalcountries = frame[['Fatalities','Cleaned Country']].groupby(['Cleaned Country']).agg('sum')\nfatalcountries.reset_index(inplace = 'True')\nfatalcountries['Proportion'] = fatalcountries['Fatalities']/totalfatal\n\nfig_c, (ax1,ax2) = plt.subplots(2,1,sharex = True)\nfatalcountries[fatalcountries['Fatalities']>1000].plot(x = 'Cleaned Country'\n                                                     , y = 'Fatalities'\n                                                     , ax = ax1\n                                                     , kind = 'bar'\n                                                     , grid = True)\nfatalcountries[fatalcountries['Fatalities']>1000].plot(x = 'Cleaned Country'\n                                                     , y = 'Proportion'\n                                                     , ax = ax2\n                                                     , kind = 'bar'\n                                                     , grid = True)",
   "execution_count": 6,
   "outputs": [],
   "metadata": {}
  },
  {
   "cell_type": "code",
   "source": "#I've commented this code out as the geocoder does not work when published to html but \n#please feel free to play around with it, the basemaps in matplotlib are awesome.\n\n#This code generates the lats and longs for the cleaned countries.\n#from geopy.geocoders import Nominatim\n#geolocator = Nominatim(timeout=1)\n#fatalcountries.dropna(inplace = True)\n#countries = fatalcountries['Cleaned Country'][fatalcountries['Fatalities']>500].unique()\n\n#coords = dict(zip(countries, pd.Series(countries).apply(geolocator.geocode).apply(lambda x: [x.latitude,x.longitude])))\n#fatalcountries['Coords'] = fatalcountries['Cleaned Country'].map(coords)",
   "execution_count": 7,
   "outputs": [],
   "metadata": {}
  },
  {
   "cell_type": "code",
   "source": "#Its real fun playing with the Basemaps in matplotlib.\n#There are plenty of options to spruce the map up and make it look cool!\n\n#from mpl_toolkits.basemap import Basemap\n\n#fatalcountries.dropna(inplace=True)\n#lats = [item[0] for item in fatalcountries['Coords'].values]\n#longs = [item[1] for item in fatalcountries['Coords'].values]\n\n#fig = plt.figure()\n#plt.title('Countries with > 500 aircrash fatalities')\n#m = Basemap(projection='kav7',lon_0=0)\n#m.drawmapboundary(fill_color='#99ffff')\n#m.drawcoastlines()\n#m.drawcountries()\n#x, y = m(longs,lats)\n#m.scatter(x,y,s=fatalcountries['Fatalities']/25,marker='o',color='b')",
   "execution_count": 8,
   "outputs": [],
   "metadata": {}
  },
  {
   "cell_type": "code",
   "source": "#Lets probe the words to see if we can identify any words that may give\n#us some clues as to what accidents have in common.\nfrom nltk import FreqDist\nfrom nltk.corpus import stopwords\nimport string\n\ndef remove_punctuation(s):\n    exclude = set(string.punctuation)\n    s = ''.join([i for i in s if i not in exclude])\n    return s\n\nstop = stopwords.words('english')\nstop.append('plane')\nstop.append('crashed')\nstop.append('aircraft')\n\nt = frame[['Summary','Fatalities']].dropna()\nbook = t['Summary'].str.lower().apply(remove_punctuation).str.split().values.sum()\nwrd = [w for w in book if w not in stop]\n\nfdist = FreqDist(wrd)\nfdist.plot(50,cumulative = True)",
   "execution_count": 13,
   "outputs": [],
   "metadata": {}
  },
  {
   "cell_type": "code",
   "source": "#Words alone may not be enough, sometimes it helps to look at\n#bigrams or two consecutive words in order to give more context.\nfrom nltk import bigrams\n\nbigrams = list(bigrams(wrd))\nfdistBigram = FreqDist(bigrams)\nfdistBigram.plot(50)",
   "execution_count": 14,
   "outputs": [],
   "metadata": {}
  },
  {
   "cell_type": "code",
   "source": "#We see some interesting words that could potentially be great features\n#lets see if we can extract them using some feature selection.\n#Work in progress here...\nfrom sklearn.feature_extraction.text import CountVectorizer\nfrom sklearn.decomposition import PCA\nfrom sklearn.feature_selection import SelectKBest\nfrom sklearn.feature_selection import f_regression\n\nwords = t['Summary'].values\ny = t['Fatalities'].values\n\ncount = CountVectorizer(ngram_range = (2,2), stop_words='english')\npca = PCA(n_components=2)\n\nbag = count.fit_transform(words)\n#frameFeats = pd.DataFrame(data=bag.toarray(),columns=count.get_feature_names())\nfeatSel = SelectKBest(score_func=f_regression,k=10)\nbestFeats = featSel.fit_transform(bag.toarray(),y)\n\n\n\n#pc = pca.fit_transform(feats)\n#plt.scatter(pc[:,0],pc[:,1],c=t['Fatalities'])\n#plt.colorbar()\n#plt.xlabel('1st Principal Component')\n#plt.ylabel('2nd Principal Component')",
   "execution_count": 11,
   "outputs": [],
   "metadata": {}
  },
  {
   "cell_type": "code",
   "source": "",
   "execution_count": 12,
   "outputs": [],
   "metadata": {}
  }
 ]
}