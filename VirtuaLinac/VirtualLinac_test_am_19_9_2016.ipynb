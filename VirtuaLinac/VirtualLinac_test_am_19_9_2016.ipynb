{
 "cells": [
  {
   "cell_type": "markdown",
   "metadata": {},
   "source": [
    "# Follow virtual linac guide"
   ]
  },
  {
   "cell_type": "markdown",
   "metadata": {},
   "source": [
    "Follow guide on http://radiotherapyresearchtools.com/doc/api_tutorial.html\n",
    "\n",
    "* Virtual linac helper files in /Users/robincole/virtualinac specifically file vl_api_helper.py\n",
    "\n",
    "* after installing boto3 need to set defaults, see https://boto3.readthedocs.io/en/latest/guide/quickstart.html#installation\n",
    "\n",
    "* Create profile https://console.aws.amazon.com/iam/home#users/robmarkcole\n",
    "\n",
    "* Config from terminal using \n",
    "    \n",
    "    aws configure \n",
    "\n",
    "aws_access_key_id = AKI************\n",
    "\n",
    "aws_secret_access_key = ZOA*******\n",
    "\n",
    "region = us-east-1"
   ]
  },
  {
   "cell_type": "code",
   "execution_count": 128,
   "metadata": {
    "collapsed": false
   },
   "outputs": [],
   "source": [
    "from __future__ import print_function\n",
    "import boto3\n",
    "import requests\n",
    "import vl_api_helper as vl   # Daren helper files\n",
    "import plotdose as vlplt\n",
    "import numpy as np\n",
    "import matplotlib.pyplot as plt\n",
    "%matplotlib inline"
   ]
  },
  {
   "cell_type": "code",
   "execution_count": 139,
   "metadata": {
    "collapsed": false
   },
   "outputs": [
    {
     "data": {
      "text/plain": [
       "'/Users/xxx/virtualinac'"
      ]
     },
     "execution_count": 139,
     "metadata": {},
     "output_type": "execute_result"
    }
   ],
   "source": [
    "pwd"
   ]
  },
  {
   "cell_type": "markdown",
   "metadata": {},
   "source": [
    "Logon to AWS, start virtualinac instance, edit security group to accept incoming HTTP"
   ]
  },
  {
   "cell_type": "code",
   "execution_count": 4,
   "metadata": {
    "collapsed": false
   },
   "outputs": [],
   "source": [
    "ec2=boto3.resource('ec2')"
   ]
  },
  {
   "cell_type": "markdown",
   "metadata": {},
   "source": [
    "First we can get the instances, then iterate over the data structure to find information about each instance:"
   ]
  },
  {
   "cell_type": "code",
   "execution_count": 5,
   "metadata": {
    "collapsed": true
   },
   "outputs": [],
   "source": [
    "instances = ec2.instances.filter(Filters=\n",
    "    [{'Name': 'instance-state-name', 'Values': ['running'] }])"
   ]
  },
  {
   "cell_type": "code",
   "execution_count": 8,
   "metadata": {
    "collapsed": false
   },
   "outputs": [
    {
     "name": "stdout",
     "output_type": "stream",
     "text": [
      "ec2-54-152-232-154.compute-1.amazonaws.com\n"
     ]
    }
   ],
   "source": [
    "dns_names = []\n",
    "for instance in instances:\n",
    "        print(instance.public_dns_name)\n",
    "        dns_names.append(instance.public_dns_name)\n",
    "url = 'http://' + dns_names[0]"
   ]
  },
  {
   "cell_type": "markdown",
   "metadata": {},
   "source": [
    "## VirtuaLinac API"
   ]
  },
  {
   "cell_type": "markdown",
   "metadata": {},
   "source": [
    "Basic check of availability using requests"
   ]
  },
  {
   "cell_type": "code",
   "execution_count": 165,
   "metadata": {
    "collapsed": false
   },
   "outputs": [
    {
     "name": "stdout",
     "output_type": "stream",
     "text": [
      "<p><b>Number of jobs:</b> 0 </p>\n"
     ]
    }
   ],
   "source": [
    "r = requests.get(url + '/usage') \n",
    "\n",
    "for line in r.text.split('\\n'):\n",
    "        if 'Number of jobs' in line:\n",
    "            print(line)"
   ]
  },
  {
   "cell_type": "code",
   "execution_count": 11,
   "metadata": {
    "collapsed": true
   },
   "outputs": [],
   "source": [
    "params = {\n",
    "    'filename'     : 'api_test_1',\n",
    "    'code_version' : 0,\n",
    "    'physics_list' : 0,\n",
    "    'beam_type'    : 0,\n",
    "    'range_cut' : 10,\n",
    "    'energy'       : 6.84,\n",
    "    'energy_spread' : 0.6,\n",
    "    'spot_size_x'  : 0.7,\n",
    "    'spot_size_y'  : 0.7,\n",
    "    'beam_divergence_x' : 0.0,\n",
    "    'beam_divergence_y' : 0.0,\n",
    "    'jaw_position_y1' : -20,\n",
    "    'jaw_position_y2' :  20,\n",
    "    'jaw_position_x1' : -20,\n",
    "    'jaw_position_x2' :  20,\n",
    "    'phantom_bool' : 'True',\n",
    "    'phantom_size_x' : 500,\n",
    "    'phantom_size_y' : 500,\n",
    "    'phantom_size_z' : 400,\n",
    "    'phantom_voxels_x' : 125,\n",
    "    'phantom_voxels_y' : 125,\n",
    "    'phantom_voxels_z' : 100,\n",
    "    'phantom_position_x' : 0,\n",
    "    'phantom_position_y' : 0,\n",
    "    'phantom_position_z' : -5,\n",
    "    'incident_particles' : 10000,\n",
    "    'brem_splitting' : None,\n",
    "    'splitting_factor' : None,\n",
    "    'phsp_record'  : None\n",
    "}"
   ]
  },
  {
   "cell_type": "code",
   "execution_count": 12,
   "metadata": {
    "collapsed": false
   },
   "outputs": [],
   "source": [
    "# vl.print_params(params)     # see parameters"
   ]
  },
  {
   "cell_type": "code",
   "execution_count": 13,
   "metadata": {
    "collapsed": false
   },
   "outputs": [],
   "source": [
    "r = requests.post(url, params=params)   # Submit calculation"
   ]
  },
  {
   "cell_type": "markdown",
   "metadata": {},
   "source": [
    "## Calculation runnning\n",
    "\n",
    "will take a couple of minutes for acvitity to show up on AWS"
   ]
  },
  {
   "cell_type": "code",
   "execution_count": 140,
   "metadata": {
    "collapsed": false
   },
   "outputs": [],
   "source": [
    "# vl._wait_for_jobs(url)  # check activity of job, getting an error, just use requests and usage as above"
   ]
  },
  {
   "cell_type": "markdown",
   "metadata": {},
   "source": [
    "## On calculation completion, get files "
   ]
  },
  {
   "cell_type": "code",
   "execution_count": 27,
   "metadata": {
    "collapsed": false
   },
   "outputs": [],
   "source": [
    "# vl.get_home(url)"
   ]
  },
  {
   "cell_type": "code",
   "execution_count": 20,
   "metadata": {
    "collapsed": false
   },
   "outputs": [],
   "source": [
    "resp = requests.get(url + '/phspfiles') # get page with list of output files"
   ]
  },
  {
   "cell_type": "code",
   "execution_count": 21,
   "metadata": {
    "collapsed": true
   },
   "outputs": [],
   "source": [
    "Html_file= open(\"/Users/robincole/Desktop/output.html\",\"w\")  # save output to html file and view\n",
    "Html_file.write(resp.text)\n",
    "Html_file.close()"
   ]
  },
  {
   "cell_type": "markdown",
   "metadata": {},
   "source": [
    "<img src=\"output1.png\", width=500>"
   ]
  },
  {
   "cell_type": "code",
   "execution_count": 72,
   "metadata": {
    "collapsed": false
   },
   "outputs": [
    {
     "data": {
      "text/plain": [
       "1"
      ]
     },
     "execution_count": 72,
     "metadata": {},
     "output_type": "execute_result"
    }
   ],
   "source": [
    "vl.get_file_index(url, '06e_z.dat')   # get index of a single file"
   ]
  },
  {
   "cell_type": "code",
   "execution_count": 74,
   "metadata": {
    "collapsed": false
   },
   "outputs": [],
   "source": [
    "# vl.download(url, '06e_x.dat')   # using Daren function, get an error - write() argument must be str, not bytes"
   ]
  },
  {
   "cell_type": "code",
   "execution_count": 141,
   "metadata": {
    "collapsed": false
   },
   "outputs": [],
   "source": [
    "def rc_download(url, file):    # my own helper function to download files\n",
    "    r = requests.get(address + '/vl_files/' + file, stream=True)\n",
    "    f = open(file, 'wb')     # use 'wb' write binary\n",
    "    f.write(r.content)\n",
    "    f.close()"
   ]
  },
  {
   "cell_type": "code",
   "execution_count": 142,
   "metadata": {
    "collapsed": false
   },
   "outputs": [
    {
     "name": "stdout",
     "output_type": "stream",
     "text": [
      "0 06e_x.dat\n",
      "1 06e_z.dat\n",
      "0 cylinder.phantom\n",
      "0 testing.dose\n",
      "0 testing.output\n"
     ]
    }
   ],
   "source": [
    "files_ = ['06e_x.dat', '06e_z.dat', 'cylinder.phantom', 'testing.dose', 'testing.output']  # had to edit download, f = open(filename, 'wb') \n",
    "for file in files_:\n",
    "\n",
    "    print(vl.get_file_index(url,file), file)  # print the files\n",
    "    rc_download(url, file) # download\n",
    "    "
   ]
  },
  {
   "cell_type": "markdown",
   "metadata": {},
   "source": [
    "## Plots of depth dose and profile work OK"
   ]
  },
  {
   "cell_type": "code",
   "execution_count": 123,
   "metadata": {
    "collapsed": false
   },
   "outputs": [
    {
     "name": "stdout",
     "output_type": "stream",
     "text": [
      "06e_z.dat\n"
     ]
    },
    {
     "data": {
      "text/plain": [
       "[<matplotlib.lines.Line2D at 0x1117e4828>]"
      ]
     },
     "execution_count": 123,
     "metadata": {},
     "output_type": "execute_result"
    },
    {
     "data": {
      "image/png": "[encoded data removed]",
      "text/plain": [
       "<matplotlib.figure.Figure at 0x11181fcf8>"
      ]
     },
     "metadata": {},
     "output_type": "display_data"
    }
   ],
   "source": [
    "file_to_plot = files_[1]\n",
    "print(file_to_plot)\n",
    "\n",
    "plot_array1 = np.loadtxt(file_to_plot)    # load .dat file into array\n",
    "plt.plot(plot_array1[:,0], plot_array1[:,1])"
   ]
  },
  {
   "cell_type": "code",
   "execution_count": 124,
   "metadata": {
    "collapsed": false
   },
   "outputs": [
    {
     "name": "stdout",
     "output_type": "stream",
     "text": [
      "06e_x.dat\n"
     ]
    },
    {
     "data": {
      "text/plain": [
       "[<matplotlib.lines.Line2D at 0x10e6a65f8>]"
      ]
     },
     "execution_count": 124,
     "metadata": {},
     "output_type": "execute_result"
    },
    {
     "data": {
      "image/png": "[encoded data removed]",
      "text/plain": [
       "<matplotlib.figure.Figure at 0x111813cc0>"
      ]
     },
     "metadata": {},
     "output_type": "display_data"
    }
   ],
   "source": [
    "file_to_plot = files_[0]\n",
    "print(file_to_plot)\n",
    "\n",
    "plot_array2 = np.loadtxt(file_to_plot)    # load .dat file into array\n",
    "plt.plot(plot_array2[:,0], plot_array2[:,1])"
   ]
  },
  {
   "cell_type": "markdown",
   "metadata": {},
   "source": [
    "## How to plot .dose data?"
   ]
  },
  {
   "cell_type": "markdown",
   "metadata": {},
   "source": [
    "in terminal \n",
    "\n",
    "    python plotdose.py testing.dose z  \n",
    "    \n",
    "gives an error TypeError: 'float' object cannot be interpreted as an integer\n"
   ]
  },
  {
   "cell_type": "code",
   "execution_count": 152,
   "metadata": {
    "collapsed": false
   },
   "outputs": [
    {
     "name": "stdout",
     "output_type": "stream",
     "text": [
      "testing.dose\n",
      "phantom size [mm]: 500.0 500.0 400.0\n",
      "Voxels to plot. xplot: 50 yplot: 49 zplot: 39\n",
      "Number of voxels in phantom.  nx: 50 ny: 50 nz: 40\n"
     ]
    },
    {
     "data": {
      "image/png": "[encoded data removed]",
      "text/plain": [
       "<matplotlib.figure.Figure at 0x113f92828>"
      ]
     },
     "execution_count": 152,
     "metadata": {},
     "output_type": "execute_result"
    },
    {
     "data": {
      "image/png": "[encoded data removed]",
      "text/plain": [
       "<matplotlib.figure.Figure at 0x113f92828>"
      ]
     },
     "metadata": {},
     "output_type": "display_data"
    }
   ],
   "source": [
    "file_to_plot = files_[3]\n",
    "print(file_to_plot)\n",
    "\n",
    "vlplt.plotdose(file_to_plot, xplot=50 , yplot=50, zplot=40, plotdir='z')   # what should xplot etc. be, Number of bins?"
   ]
  },
  {
   "cell_type": "markdown",
   "metadata": {},
   "source": [
    "## Test of uploading my phantom for calculation"
   ]
  },
  {
   "cell_type": "markdown",
   "metadata": {},
   "source": [
    "I have run create_ct.py on my CT dataset\n",
    "\n",
    "http://radiotherapyresearchtools.com/doc/output.html#simulate-phantom-and-how-to-build-a-phantom"
   ]
  },
  {
   "cell_type": "code",
   "execution_count": 203,
   "metadata": {
    "collapsed": true
   },
   "outputs": [],
   "source": [
    "filename = 'tmp.phantom'\n",
    "files = {'file': open(filename, 'rb')}\n",
    "r = requests.post(url + '/upload', files=files)"
   ]
  },
  {
   "cell_type": "code",
   "execution_count": 213,
   "metadata": {
    "collapsed": false
   },
   "outputs": [
    {
     "name": "stdout",
     "output_type": "stream",
     "text": [
      "phantom size [mm]: 353.28 50.0 353.28\n",
      "Voxels to plot. xplot: 512 yplot: 9 zplot: 511\n",
      "Number of voxels in phantom.  nx: 512 ny: 10 nz: 512\n"
     ]
    },
    {
     "data": {
      "image/png": "[encoded data removed]",
      "text/plain": [
       "<matplotlib.figure.Figure at 0x113fa18d0>"
      ]
     },
     "execution_count": 213,
     "metadata": {},
     "output_type": "execute_result"
    },
    {
     "data": {
      "image/png": "[encoded data removed]",
      "text/plain": [
       "<matplotlib.figure.Figure at 0x113fa18d0>"
      ]
     },
     "metadata": {},
     "output_type": "display_data"
    }
   ],
   "source": [
    "vlplt.plotdose(filename, xplot=512 , yplot=10, zplot=512, plotdir='z')  # Should be able to plot phantom.."
   ]
  },
  {
   "cell_type": "code",
   "execution_count": 204,
   "metadata": {
    "collapsed": false
   },
   "outputs": [
    {
     "name": "stdout",
     "output_type": "stream",
     "text": [
      "1 tmp.phantom\n"
     ]
    }
   ],
   "source": [
    "print(vl.get_file_index(url,filename), filename)   # check that it has been uploaded OK"
   ]
  },
  {
   "cell_type": "markdown",
   "metadata": {},
   "source": [
    "### Qustion : what is phantom_bool?"
   ]
  },
  {
   "cell_type": "code",
   "execution_count": 217,
   "metadata": {
    "collapsed": true
   },
   "outputs": [],
   "source": [
    "params = {\n",
    "    'filename'     : 'api_test_1',\n",
    "    'code_version' : 0,\n",
    "    'physics_list' : 0,\n",
    "    'beam_type'    : 0,\n",
    "    'range_cut' : 10,\n",
    "    'energy'       : 6.84,\n",
    "    'energy_spread' : 0.6,\n",
    "    'spot_size_x'  : 0.7,\n",
    "    'spot_size_y'  : 0.7,\n",
    "    'beam_divergence_x' : 0.0,\n",
    "    'beam_divergence_y' : 0.0,\n",
    "    'jaw_position_y1' : -20,\n",
    "    'jaw_position_y2' :  20,\n",
    "    'jaw_position_x1' : -20,\n",
    "    'jaw_position_x2' :  20,\n",
    "    'phantom_bool' : 'false',\n",
    "    'phantom_file_name': 'tmp.phantom',\n",
    "    'phantom_position_x' : 0,\n",
    "    'phantom_position_y' : 0,\n",
    "    'phantom_position_z' : -5,\n",
    "    'incident_particles' : 10000,\n",
    "    'brem_splitting' : None,\n",
    "    'splitting_factor' : None,\n",
    "    'phsp_record'  : None\n",
    "}"
   ]
  },
  {
   "cell_type": "code",
   "execution_count": 218,
   "metadata": {
    "collapsed": true
   },
   "outputs": [],
   "source": [
    "r = requests.post(url, params=params)  "
   ]
  },
  {
   "cell_type": "code",
   "execution_count": 219,
   "metadata": {
    "collapsed": false
   },
   "outputs": [
    {
     "name": "stdout",
     "output_type": "stream",
     "text": [
      "<p><b>Number of jobs:</b> 1 </p>\n"
     ]
    }
   ],
   "source": [
    "r = requests.get(url + '/usage') \n",
    "\n",
    "for line in r.text.split('\\n'):\n",
    "        if 'Number of jobs' in line:\n",
    "            print(line)"
   ]
  },
  {
   "cell_type": "markdown",
   "metadata": {},
   "source": [
    "appeares to have worked"
   ]
  },
  {
   "cell_type": "code",
   "execution_count": 209,
   "metadata": {
    "collapsed": true
   },
   "outputs": [],
   "source": [
    "resp = requests.get(url + '/phspfiles') # get page with list of output files"
   ]
  },
  {
   "cell_type": "code",
   "execution_count": 210,
   "metadata": {
    "collapsed": true
   },
   "outputs": [],
   "source": [
    "Html_file= open(\"/Users/robincole/Desktop/output.html\",\"w\")  # save output to html file and view\n",
    "Html_file.write(resp.text)\n",
    "Html_file.close()"
   ]
  },
  {
   "cell_type": "markdown",
   "metadata": {},
   "source": [
    "Created new .dose file but I cannot plot it"
   ]
  },
  {
   "cell_type": "markdown",
   "metadata": {},
   "source": [
    "## Generate an online plot of the data"
   ]
  },
  {
   "cell_type": "code",
   "execution_count": 175,
   "metadata": {
    "collapsed": true
   },
   "outputs": [],
   "source": [
    "filename = \"testing\""
   ]
  },
  {
   "cell_type": "code",
   "execution_count": 214,
   "metadata": {
    "collapsed": true
   },
   "outputs": [],
   "source": [
    "doseparams = {}\n",
    "doseparams['direction'] = 'z'\n",
    "doseparams['average'] = 15\n",
    "doseparams['colormap'] = 'True'\n",
    "extension = '.z2_compare.png'\n",
    "plot_url = url + '/fig/' + filename + '.dose'"
   ]
  },
  {
   "cell_type": "code",
   "execution_count": 215,
   "metadata": {
    "collapsed": true
   },
   "outputs": [],
   "source": [
    "r = requests.get(plot_url, params=doseparams, stream=True)"
   ]
  },
  {
   "cell_type": "code",
   "execution_count": 216,
   "metadata": {
    "collapsed": true
   },
   "outputs": [],
   "source": [
    "with open(filename + extension, 'wb') as f:\n",
    "        for chunk in r.iter_content():\n",
    "             f.write(chunk)"
   ]
  },
  {
   "cell_type": "markdown",
   "metadata": {},
   "source": [
    "Plot calculation output"
   ]
  },
  {
   "cell_type": "markdown",
   "metadata": {},
   "source": [
    "<img src=\"testing.z2_compare.png\", width=600>"
   ]
  },
  {
   "cell_type": "markdown",
   "metadata": {},
   "source": [
    "## When ready to quit all and exit"
   ]
  },
  {
   "cell_type": "code",
   "execution_count": 220,
   "metadata": {
    "collapsed": false
   },
   "outputs": [
    {
     "data": {
      "text/plain": [
       "[{'ResponseMetadata': {'HTTPHeaders': {'content-type': 'text/xml;charset=UTF-8',\n",
       "    'date': 'Mon, 19 Sep 2016 14:22:56 GMT',\n",
       "    'server': 'AmazonEC2',\n",
       "    'transfer-encoding': 'chunked',\n",
       "    'vary': 'Accept-Encoding'},\n",
       "   'HTTPStatusCode': 200,\n",
       "   'RequestId': 'd981e9db-9f78-4a68-b765-b323e24bd016',\n",
       "   'RetryAttempts': 0},\n",
       "  'TerminatingInstances': [{'CurrentState': {'Code': 32,\n",
       "     'Name': 'shutting-down'},\n",
       "    'InstanceId': 'i-0ee46e19c6dbb12b7',\n",
       "    'PreviousState': {'Code': 16, 'Name': 'running'}}]}]"
      ]
     },
     "execution_count": 220,
     "metadata": {},
     "output_type": "execute_result"
    }
   ],
   "source": [
    "instances.terminate()  # to terminate"
   ]
  },
  {
   "cell_type": "code",
   "execution_count": null,
   "metadata": {
    "collapsed": true
   },
   "outputs": [],
   "source": []
  }
 ],
 "metadata": {
  "anaconda-cloud": {},
  "kernelspec": {
   "display_name": "Python [Root]",
   "language": "python",
   "name": "Python [Root]"
  },
  "language_info": {
   "codemirror_mode": {
    "name": "ipython",
    "version": 3
   },
   "file_extension": ".py",
   "mimetype": "text/x-python",
   "name": "python",
   "nbconvert_exporter": "python",
   "pygments_lexer": "ipython3",
   "version": "3.5.2"
  }
 },
 "nbformat": 4,
 "nbformat_minor": 0
}
