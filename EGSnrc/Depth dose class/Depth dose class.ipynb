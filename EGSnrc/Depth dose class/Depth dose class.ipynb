{
 "cells": [
  {
   "cell_type": "markdown",
   "metadata": {},
   "source": [
    "Simple class to import depth dose example data in dosrznrc."
   ]
  },
  {
   "cell_type": "code",
   "execution_count": 2,
   "metadata": {
    "collapsed": true
   },
   "outputs": [],
   "source": [
    "import numpy as np\n",
    "import matplotlib.pyplot as plt\n",
    "%matplotlib inline"
   ]
  },
  {
   "cell_type": "markdown",
   "metadata": {},
   "source": [
    "First develop a function to load .plotdat file"
   ]
  },
  {
   "cell_type": "code",
   "execution_count": 27,
   "metadata": {
    "collapsed": true
   },
   "outputs": [],
   "source": [
    "file = \"air.plotdat\""
   ]
  },
  {
   "cell_type": "code",
   "execution_count": 43,
   "metadata": {
    "collapsed": false
   },
   "outputs": [
    {
     "data": {
      "text/plain": [
       "array([['', 'g0 type xy'],\n",
       "       ['',\n",
       "        '    title \"depth_dose_example central axis depth-dose curve in H2O due\"'],\n",
       "       ['', '    subtitle \"dose vs. depth on Thu Sep  8 16:56:21 2016\"'],\n",
       "       ['', '    legend on'],\n",
       "       ['', '    legend box linestyle 0'],\n",
       "       ['', '    legend x1 0.6'],\n",
       "       ['', '    legend y1 0.75'],\n",
       "       ['', '    view xmin 0.250000'],\n",
       "       ['', '    xaxis  label \"depth/cm\"'],\n",
       "       ['', '    timestamp on'],\n",
       "       ['', '    yaxis  label \"dose per incident fluence/Gy cm\\\\\\\\S2\\\\\\\\N\"'],\n",
       "       ['', '    s0 on'],\n",
       "       ['', '    legend string  0 \"dose at r'],\n",
       "       ['', '    s0 errorbar length 0.000000'],\n",
       "       ['', '    s0 symbol color 1']], \n",
       "      dtype='<U71')"
      ]
     },
     "execution_count": 43,
     "metadata": {},
     "output_type": "execute_result"
    }
   ],
   "source": [
    "header = np.genfromtxt(file, dtype='str', max_rows=15, delimiter='@')\n",
    "header"
   ]
  },
  {
   "cell_type": "code",
   "execution_count": 48,
   "metadata": {
    "collapsed": false
   },
   "outputs": [
    {
     "data": {
      "text/plain": [
       "'xy'"
      ]
     },
     "execution_count": 48,
     "metadata": {},
     "output_type": "execute_result"
    }
   ],
   "source": [
    "plot_type = header[0][1][8:]\n",
    "plot_type"
   ]
  },
  {
   "cell_type": "code",
   "execution_count": 51,
   "metadata": {
    "collapsed": false
   },
   "outputs": [
    {
     "data": {
      "text/plain": [
       "'\"depth_dose_example central axis depth-dose curve in H2O due\"'"
      ]
     },
     "execution_count": 51,
     "metadata": {},
     "output_type": "execute_result"
    }
   ],
   "source": [
    "plot_title = header[1][1][10:]\n",
    "plot_title"
   ]
  },
  {
   "cell_type": "code",
   "execution_count": 58,
   "metadata": {
    "collapsed": false
   },
   "outputs": [
    {
     "data": {
      "text/plain": [
       "'\"depth/cm\"'"
      ]
     },
     "execution_count": 58,
     "metadata": {},
     "output_type": "execute_result"
    }
   ],
   "source": [
    "xaxis_label= header[8][1][17:]\n",
    "xaxis_label"
   ]
  },
  {
   "cell_type": "code",
   "execution_count": 62,
   "metadata": {
    "collapsed": false
   },
   "outputs": [
    {
     "data": {
      "text/plain": [
       "'\"dose per incident fluence/Gy cm\\\\\\\\S2\\\\\\\\N\"'"
      ]
     },
     "execution_count": 62,
     "metadata": {},
     "output_type": "execute_result"
    }
   ],
   "source": [
    "yaxis_label= header[10][1][17:]\n",
    "yaxis_label"
   ]
  },
  {
   "cell_type": "code",
   "execution_count": 28,
   "metadata": {
    "collapsed": false
   },
   "outputs": [
    {
     "data": {
      "text/plain": [
       "[<matplotlib.lines.Line2D at 0x1102cb5c0>]"
      ]
     },
     "execution_count": 28,
     "metadata": {},
     "output_type": "execute_result"
    },
    {
     "data": {
      "image/png": "[encoded data removed]",
      "text/plain": [
       "<matplotlib.figure.Figure at 0x10fb4d0f0>"
      ]
     },
     "metadata": {},
     "output_type": "display_data"
    }
   ],
   "source": [
    "data = np.genfromtxt(file, dtype=None, skip_header=16, skip_footer=1) # header always 16 rows?\n",
    "data.shape   # (152, 3). Col0 = position (cm), Col1 = dose. COl2 = error?\n",
    "plt.plot(data[:,0], data[:,1])"
   ]
  },
  {
   "cell_type": "code",
   "execution_count": 5,
   "metadata": {
    "collapsed": true
   },
   "outputs": [],
   "source": [
    "class dose_2d:\n",
    "   'Common base class for depth dose and profile plots'\n",
    "\n",
    "   def __init__(self, file, plot_type):\n",
    "    self.plot_type = plot_type\n",
    "    self.data = np.loadtxt(file)    # load text file\n",
    "   \n",
    "   def displayType(self):\n",
    "    print( \"Type : \", self.plot_type) \n",
    "\n",
    "   def plot_dd(self):\n",
    "    plt.plot(self.data[:,0], self.data[:,1])\n",
    "     "
   ]
  },
  {
   "cell_type": "code",
   "execution_count": 6,
   "metadata": {
    "collapsed": true
   },
   "outputs": [],
   "source": [
    "plot1 = dose_2d('06e_z.dat', 'dd')"
   ]
  },
  {
   "cell_type": "code",
   "execution_count": 7,
   "metadata": {
    "collapsed": false
   },
   "outputs": [
    {
     "name": "stdout",
     "output_type": "stream",
     "text": [
      "Type :  dd\n"
     ]
    }
   ],
   "source": [
    "plot1.displayType()"
   ]
  },
  {
   "cell_type": "code",
   "execution_count": 8,
   "metadata": {
    "collapsed": false
   },
   "outputs": [
    {
     "data": {
      "image/png": "[encoded data removed]",
      "text/plain": [
       "<matplotlib.figure.Figure at 0x10cfb50b8>"
      ]
     },
     "metadata": {},
     "output_type": "display_data"
    }
   ],
   "source": [
    "plot1.plot_dd()"
   ]
  },
  {
   "cell_type": "code",
   "execution_count": null,
   "metadata": {
    "collapsed": true
   },
   "outputs": [],
   "source": []
  }
 ],
 "metadata": {
  "kernelspec": {
   "display_name": "Python [Root]",
   "language": "python",
   "name": "Python [Root]"
  },
  "language_info": {
   "codemirror_mode": {
    "name": "ipython",
    "version": 3
   },
   "file_extension": ".py",
   "mimetype": "text/x-python",
   "name": "python",
   "nbconvert_exporter": "python",
   "pygments_lexer": "ipython3",
   "version": "3.5.2"
  }
 },
 "nbformat": 4,
 "nbformat_minor": 0
}
