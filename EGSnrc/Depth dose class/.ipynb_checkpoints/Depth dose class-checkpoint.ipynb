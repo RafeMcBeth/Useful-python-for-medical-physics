{
 "cells": [
  {
   "cell_type": "markdown",
   "metadata": {},
   "source": [
    "Simple class to import depth dose example data in dosrznrc.(url=https://github.com/nrc-cnrc/EGSnrc/blob/master/HEN_HOUSE/user_codes/dosrznrc/examples/depth_dose_example.egsinp)"
   ]
  },
  {
   "cell_type": "markdown",
   "metadata": {},
   "source": [
    "- [Functions to explore file](#Functions-to-explore-file)\n",
    "- [Create class for plot data](#Create-class-for-plot-data)"
   ]
  },
  {
   "cell_type": "code",
   "execution_count": 35,
   "metadata": {
    "collapsed": false
   },
   "outputs": [],
   "source": [
    "import numpy as np\n",
    "import matplotlib.pyplot as plt\n",
    "%matplotlib inline"
   ]
  },
  {
   "cell_type": "markdown",
   "metadata": {},
   "source": [
    "# Functions to explore file"
   ]
  },
  {
   "cell_type": "markdown",
   "metadata": {},
   "source": [
    "First develop a function to load .plotdat file"
   ]
  },
  {
   "cell_type": "code",
   "execution_count": 11,
   "metadata": {
    "collapsed": false
   },
   "outputs": [
    {
     "name": "stdout",
     "output_type": "stream",
     "text": [
      "Depth dose class.ipynb     air_csv loaded.xlsx\r\n",
      "air.csv                    depth_dose_example.egsinp\r\n",
      "air.plotdat\r\n"
     ]
    }
   ],
   "source": [
    "ls"
   ]
  },
  {
   "cell_type": "code",
   "execution_count": 17,
   "metadata": {
    "collapsed": true
   },
   "outputs": [],
   "source": [
    "file = \"air.plotdat\"  # this is the file produced by the example"
   ]
  },
  {
   "cell_type": "code",
   "execution_count": 18,
   "metadata": {
    "collapsed": false
   },
   "outputs": [
    {
     "data": {
      "text/plain": [
       "array([['', 'g0 type xy'],\n",
       "       ['',\n",
       "        '    title \"depth_dose_example central axis depth-dose curve in H2O due\"'],\n",
       "       ['', '    subtitle \"dose vs. depth on Thu Sep  8 16:56:21 2016\"'],\n",
       "       ['', '    legend on'],\n",
       "       ['', '    legend box linestyle 0'],\n",
       "       ['', '    legend x1 0.6'],\n",
       "       ['', '    legend y1 0.75'],\n",
       "       ['', '    view xmin 0.250000'],\n",
       "       ['', '    xaxis  label \"depth/cm\"'],\n",
       "       ['', '    timestamp on'],\n",
       "       ['', '    yaxis  label \"dose per incident fluence/Gy cm\\\\\\\\S2\\\\\\\\N\"'],\n",
       "       ['', '    s0 on'],\n",
       "       ['', '    legend string  0 \"dose at r'],\n",
       "       ['', '    s0 errorbar length 0.000000'],\n",
       "       ['', '    s0 symbol color 1']], \n",
       "      dtype='<U71')"
      ]
     },
     "execution_count": 18,
     "metadata": {},
     "output_type": "execute_result"
    }
   ],
   "source": [
    "header = np.genfromtxt(file, dtype='str', max_rows=15, delimiter='@')  # get the whole header\n",
    "header"
   ]
  },
  {
   "cell_type": "code",
   "execution_count": 4,
   "metadata": {
    "collapsed": false
   },
   "outputs": [
    {
     "data": {
      "text/plain": [
       "'xy'"
      ]
     },
     "execution_count": 4,
     "metadata": {},
     "output_type": "execute_result"
    }
   ],
   "source": [
    "plot_type = header[0][1][8:]\n",
    "plot_type"
   ]
  },
  {
   "cell_type": "code",
   "execution_count": 5,
   "metadata": {
    "collapsed": false
   },
   "outputs": [
    {
     "data": {
      "text/plain": [
       "'\"depth_dose_example central axis depth-dose curve in H2O due\"'"
      ]
     },
     "execution_count": 5,
     "metadata": {},
     "output_type": "execute_result"
    }
   ],
   "source": [
    "plot_title = header[1][1][10:]\n",
    "plot_title"
   ]
  },
  {
   "cell_type": "code",
   "execution_count": 6,
   "metadata": {
    "collapsed": false
   },
   "outputs": [
    {
     "data": {
      "text/plain": [
       "'\"depth/cm\"'"
      ]
     },
     "execution_count": 6,
     "metadata": {},
     "output_type": "execute_result"
    }
   ],
   "source": [
    "xaxis_label= header[8][1][17:]\n",
    "xaxis_label"
   ]
  },
  {
   "cell_type": "code",
   "execution_count": 62,
   "metadata": {
    "collapsed": false
   },
   "outputs": [
    {
     "data": {
      "text/plain": [
       "'\"dose per incident fluence/Gy cm'"
      ]
     },
     "execution_count": 62,
     "metadata": {},
     "output_type": "execute_result"
    }
   ],
   "source": [
    "yaxis_label_= header[10][1][17:]\n",
    "yaxis_label = yaxis_label_.replace('\\\\\\\\S2\\\\\\\\N\"', '') #  note this creates a new string\n",
    "yaxis_label"
   ]
  },
  {
   "cell_type": "code",
   "execution_count": 8,
   "metadata": {
    "collapsed": false
   },
   "outputs": [
    {
     "data": {
      "text/plain": [
       "[<matplotlib.lines.Line2D at 0x10f5f4470>]"
      ]
     },
     "execution_count": 8,
     "metadata": {},
     "output_type": "execute_result"
    },
    {
     "data": {
      "image/png": "[encoded data removed]",
      "text/plain": [
       "<matplotlib.figure.Figure at 0x10a5a4b38>"
      ]
     },
     "metadata": {},
     "output_type": "display_data"
    }
   ],
   "source": [
    "data = np.genfromtxt(file, dtype=None, skip_header=16, skip_footer=1) # header always 16 rows?\n",
    "data.shape   # (152, 3). Col0 = position (cm), Col1 = dose. COl2 = error?\n",
    "plt.plot(data[:,0], data[:,1])"
   ]
  },
  {
   "cell_type": "markdown",
   "metadata": {},
   "source": [
    "# Create class for plot data"
   ]
  },
  {
   "cell_type": "code",
   "execution_count": 127,
   "metadata": {
    "collapsed": true
   },
   "outputs": [],
   "source": [
    "class dose_2d(object):\n",
    "   'Common base class for depth dose and profile plots'\n",
    "   def __init__(self, file):        \n",
    "    data = np.genfromtxt(file, dtype=None, skip_header=16, skip_footer=1)   # load data, X, Y, error\n",
    "    self.X = data[:,0]\n",
    "    self.Y = data[:,1]\n",
    "    self.error = data[:,2]\n",
    "    \n",
    "    self.header = np.genfromtxt(file, dtype='str', max_rows=15, delimiter='@') \n",
    "    self.plot_type = self.header[0][1][8:]\n",
    "    self.plot_title = self.header[1][1][10:]\n",
    "    self.xaxis_label= self.header[8][1][17:]\n",
    "    yaxis_label_= self.header[10][1][17:]\n",
    "    self.yaxis_label = yaxis_label_.replace('\\\\\\\\S2\\\\\\\\N\"', '') #  note this creates a new string   \n",
    "\n",
    "   def plot_dd(self):\n",
    "    plt.plot(self.X, self.Y)\n",
    "    #plt.title(self.plot_title)\n",
    "    plt.xlabel(self.xaxis_label)\n",
    "    plt.ylabel(self.yaxis_label) \n",
    "    plt.show()"
   ]
  },
  {
   "cell_type": "code",
   "execution_count": 128,
   "metadata": {
    "collapsed": false
   },
   "outputs": [],
   "source": [
    "plot1 = dose_2d('air.plotdat')"
   ]
  },
  {
   "cell_type": "code",
   "execution_count": 129,
   "metadata": {
    "collapsed": false
   },
   "outputs": [
    {
     "data": {
      "image/png": "[encoded data removed]",
      "text/plain": [
       "<matplotlib.figure.Figure at 0x11059d390>"
      ]
     },
     "metadata": {},
     "output_type": "display_data"
    }
   ],
   "source": [
    "plot1.plot_dd()"
   ]
  },
  {
   "cell_type": "code",
   "execution_count": null,
   "metadata": {
    "collapsed": true
   },
   "outputs": [],
   "source": []
  }
 ],
 "metadata": {
  "anaconda-cloud": {},
  "kernelspec": {
   "display_name": "Python [Root]",
   "language": "python",
   "name": "Python [Root]"
  },
  "language_info": {
   "codemirror_mode": {
    "name": "ipython",
    "version": 3
   },
   "file_extension": ".py",
   "mimetype": "text/x-python",
   "name": "python",
   "nbconvert_exporter": "python",
   "pygments_lexer": "ipython3",
   "version": "3.5.2"
  }
 },
 "nbformat": 4,
 "nbformat_minor": 0
}
