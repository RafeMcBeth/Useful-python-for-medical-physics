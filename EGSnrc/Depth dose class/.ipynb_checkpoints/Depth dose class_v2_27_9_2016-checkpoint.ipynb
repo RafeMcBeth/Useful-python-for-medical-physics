{
 "cells": [
  {
   "cell_type": "markdown",
   "metadata": {},
   "source": [
    "Simple class to import depth dose example data in dosrznrc.(url=https://github.com/nrc-cnrc/EGSnrc/blob/master/HEN_HOUSE/user_codes/dosrznrc/examples/depth_dose_example.egsinp)"
   ]
  },
  {
   "cell_type": "markdown",
   "metadata": {},
   "source": [
    "- [Functions to explore file](#Functions-to-explore-file)\n",
    "- [Create class for plot data](#Create-class-for-plot-data)"
   ]
  },
  {
   "cell_type": "code",
   "execution_count": 1,
   "metadata": {
    "collapsed": false
   },
   "outputs": [],
   "source": [
    "import numpy as np\n",
    "import matplotlib.pyplot as plt\n",
    "%matplotlib inline"
   ]
  },
  {
   "cell_type": "markdown",
   "metadata": {},
   "source": [
    "# Functions to explore file"
   ]
  },
  {
   "cell_type": "markdown",
   "metadata": {},
   "source": [
    "First develop a function to load .plotdat file"
   ]
  },
  {
   "cell_type": "code",
   "execution_count": 2,
   "metadata": {
    "collapsed": false
   },
   "outputs": [
    {
     "name": "stdout",
     "output_type": "stream",
     "text": [
      "Depth dose class_v2_27_9_2016.ipynb  water_1_5_dd.plotdat\r\n",
      "RC_all_water_521nd.pegs4dat          water_2_0.egsinp\r\n",
      "air.egsinp                           water_2_0_dd.plotdat\r\n",
      "air_dd.plotdat                       water_2_5.egsinp\r\n",
      "\u001b[34marchive\u001b[m\u001b[m/                             water_2_5_dd.plotdat\r\n",
      "water_0_5.egsinp                     water_3_0.egsinp\r\n",
      "water_0_5_dd.plotdat                 water_3_0_dd.plotdat\r\n",
      "water_1_0.egsinp                     water_3_5.egsinp\r\n",
      "water_1_0_dd.plotdat                 water_3_5_dd.plotdat\r\n",
      "water_1_5.egsinp\r\n"
     ]
    }
   ],
   "source": [
    "ls"
   ]
  },
  {
   "cell_type": "markdown",
   "metadata": {},
   "source": [
    "# Class for dd plot data"
   ]
  },
  {
   "cell_type": "code",
   "execution_count": 3,
   "metadata": {
    "collapsed": true
   },
   "outputs": [],
   "source": [
    "class dose_2d(object):\n",
    "   'Common base class for depth dose and profile plots'\n",
    "   def __init__(self, file):        \n",
    "    data = np.genfromtxt(file, dtype=None, skip_header=16, skip_footer=1)   # load data, X, Y, error\n",
    "    self.X = data[:,0]\n",
    "    self.Y = data[:,1]\n",
    "    self.error = data[:,2]\n",
    "    \n",
    "    self.header = np.genfromtxt(file, dtype='str', max_rows=15, delimiter='@') \n",
    "    self.plot_type = self.header[0][1][8:]\n",
    "    self.plot_title = self.header[1][1][10:]\n",
    "    self.xaxis_label= self.header[8][1][17:]\n",
    "    yaxis_label_= self.header[10][1][17:]\n",
    "    self.yaxis_label = yaxis_label_.replace('\\\\\\\\S2\\\\\\\\N\"', '') #  note this creates a new string   \n",
    "\n",
    "   def plot_dd(self):\n",
    "    plt.plot(self.X, self.Y)\n",
    "    #plt.title(self.plot_title)\n",
    "    plt.xlabel(self.xaxis_label)\n",
    "    plt.ylabel(self.yaxis_label) \n",
    "    plt.show()"
   ]
  },
  {
   "cell_type": "code",
   "execution_count": 4,
   "metadata": {
    "collapsed": false
   },
   "outputs": [],
   "source": [
    "air = dose_2d('air_dd.plotdat')"
   ]
  },
  {
   "cell_type": "code",
   "execution_count": 5,
   "metadata": {
    "collapsed": false
   },
   "outputs": [
    {
     "data": {
      "image/png": "[encoded data removed]",
      "text/plain": [
       "<matplotlib.figure.Figure at 0x10a4a47b8>"
      ]
     },
     "metadata": {},
     "output_type": "display_data"
    }
   ],
   "source": [
    "air.plot_dd()"
   ]
  },
  {
   "cell_type": "code",
   "execution_count": 7,
   "metadata": {
    "collapsed": true
   },
   "outputs": [],
   "source": [
    "w_0_5 = dose_2d('water_0_5_dd.plotdat')"
   ]
  },
  {
   "cell_type": "code",
   "execution_count": 8,
   "metadata": {
    "collapsed": true
   },
   "outputs": [],
   "source": [
    "w_1_0 = dose_2d('water_1_0_dd.plotdat')"
   ]
  },
  {
   "cell_type": "code",
   "execution_count": 9,
   "metadata": {
    "collapsed": true
   },
   "outputs": [],
   "source": [
    "w_1_5 = dose_2d('water_1_5_dd.plotdat')"
   ]
  },
  {
   "cell_type": "code",
   "execution_count": 10,
   "metadata": {
    "collapsed": true
   },
   "outputs": [],
   "source": [
    "w_2_0 = dose_2d('water_2_0_dd.plotdat')"
   ]
  },
  {
   "cell_type": "code",
   "execution_count": 11,
   "metadata": {
    "collapsed": true
   },
   "outputs": [],
   "source": [
    "w_2_5 = dose_2d('water_2_5_dd.plotdat')"
   ]
  },
  {
   "cell_type": "code",
   "execution_count": 12,
   "metadata": {
    "collapsed": true
   },
   "outputs": [],
   "source": [
    "w_3_0 = dose_2d('water_3_0_dd.plotdat')"
   ]
  },
  {
   "cell_type": "code",
   "execution_count": 13,
   "metadata": {
    "collapsed": true
   },
   "outputs": [],
   "source": [
    "w_3_5 = dose_2d('water_3_5_dd.plotdat')"
   ]
  },
  {
   "cell_type": "code",
   "execution_count": 16,
   "metadata": {
    "collapsed": true
   },
   "outputs": [],
   "source": [
    "w_4_0 = dose_2d('water_4_0_dd.plotdat')"
   ]
  },
  {
   "cell_type": "code",
   "execution_count": 17,
   "metadata": {
    "collapsed": false
   },
   "outputs": [
    {
     "data": {
      "image/png": "[encoded data removed]",
      "text/plain": [
       "<matplotlib.figure.Figure at 0x10fea16d8>"
      ]
     },
     "metadata": {},
     "output_type": "display_data"
    }
   ],
   "source": [
    "plt.figure(figsize=(8,8))\n",
    "plt.plot(air.X,air.Y,'b', label='air') # plotting t,b separately \n",
    "plt.plot(w_0_5.X,w_0_5.Y,'g', label='W 0.5') # plotting t,c separately \n",
    "plt.plot(w_1_0.X,w_1_0.Y,'r', label='W 1.0') # plotting t,c separately \n",
    "plt.plot(w_1_5.X,w_1_5.Y,'k', label='W 1.5') # plotting t,c separately \n",
    "plt.plot(w_2_0.X,w_2_0.Y,'y', label='W 2_0') # plotting t,c separately \n",
    "plt.plot(w_2_5.X,w_2_5.Y,'m', label='W 2_5') # plotting t,c separately\n",
    "plt.plot(w_3_0.X,w_3_0.Y,'c', label='W 3_0') # plotting t,c separately \n",
    "plt.plot(w_3_5.X,w_3_5.Y,'b', label='W 3_5') # plotting t,c separately \n",
    "plt.plot(w_4_0.X,w_4_0.Y,'g', label='W 4_0') # plotting t,c separately \n",
    "\n",
    "plt.xlabel('Depth (cm)')\n",
    "plt.ylim([1.2e-11, 1.8e-11])\n",
    "plt.legend(loc=3)\n",
    "plt.show()"
   ]
  },
  {
   "cell_type": "code",
   "execution_count": 27,
   "metadata": {
    "collapsed": false
   },
   "outputs": [
    {
     "name": "stdout",
     "output_type": "stream",
     "text": [
      "13.25 1.4469e-11\n"
     ]
    }
   ],
   "source": [
    "index = 80\n",
    "print(air.X[index], air.Y[index])"
   ]
  },
  {
   "cell_type": "code",
   "execution_count": 73,
   "metadata": {
    "collapsed": false
   },
   "outputs": [
    {
     "data": {
      "text/plain": [
       "array([ 0. ,  0.5,  1. ,  1.5,  2. ,  2.5,  3. ,  3.5,  4. ])"
      ]
     },
     "execution_count": 73,
     "metadata": {},
     "output_type": "execute_result"
    }
   ],
   "source": [
    "density = np.linspace(0, 4, num=9, endpoint=True)\n",
    "density"
   ]
  },
  {
   "cell_type": "code",
   "execution_count": 74,
   "metadata": {
    "collapsed": false
   },
   "outputs": [
    {
     "name": "stdout",
     "output_type": "stream",
     "text": [
      "depth of : 13.25\n"
     ]
    }
   ],
   "source": [
    "egs_dose = np.zeros(shape=9)\n",
    "index = 80\n",
    "print('depth of : '+ str(air.X[index])) \n",
    "egs_dose[0] = air.Y[index]\n",
    "egs_dose[1] = w_0_5.Y[index]\n",
    "egs_dose[2] = w_1_0.Y[index]\n",
    "egs_dose[3] = w_1_5.Y[index]\n",
    "egs_dose[4] = w_2_0.Y[index]\n",
    "egs_dose[5] = w_2_5.Y[index]\n",
    "egs_dose[6] = w_3_0.Y[index]\n",
    "egs_dose[7] = w_3_5.Y[index]\n",
    "egs_dose[8] = w_4_0.Y[index]"
   ]
  },
  {
   "cell_type": "code",
   "execution_count": 75,
   "metadata": {
    "collapsed": false
   },
   "outputs": [
    {
     "data": {
      "text/plain": [
       "array([  1.44690000e-11,   1.53290000e-11,   1.49640000e-11,\n",
       "         1.46080000e-11,   1.42280000e-11,   1.38370000e-11,\n",
       "         1.34560000e-11,   1.30940000e-11,   1.27560000e-11])"
      ]
     },
     "execution_count": 75,
     "metadata": {},
     "output_type": "execute_result"
    }
   ],
   "source": [
    "egs_dose"
   ]
  },
  {
   "cell_type": "code",
   "execution_count": 76,
   "metadata": {
    "collapsed": false
   },
   "outputs": [
    {
     "data": {
      "text/plain": [
       "<matplotlib.text.Text at 0x1104bc828>"
      ]
     },
     "execution_count": 76,
     "metadata": {},
     "output_type": "execute_result"
    },
    {
     "data": {
      "image/png": "[encoded data removed]",
      "text/plain": [
       "<matplotlib.figure.Figure at 0x110519d68>"
      ]
     },
     "metadata": {},
     "output_type": "display_data"
    }
   ],
   "source": [
    "plt.plot(density, egs_dose, 'o-')\n",
    "plt.xlabel('Density')\n",
    "plt.ylabel('Dose (arb unit)')"
   ]
  },
  {
   "cell_type": "code",
   "execution_count": 81,
   "metadata": {
    "collapsed": false
   },
   "outputs": [],
   "source": [
    "np.savetxt(\"egs_dose.csv\", np.c_[density, egs_dose], delimiter=\",\", header='Density, dose')"
   ]
  },
  {
   "cell_type": "code",
   "execution_count": 52,
   "metadata": {
    "collapsed": false
   },
   "outputs": [
    {
     "name": "stdout",
     "output_type": "stream",
     "text": [
      "Depth dose class_v2_27_9_2016.ipynb  water_1_5_dd.plotdat\r\n",
      "RC_all_water_521nd.pegs4dat          water_2_0.egsinp\r\n",
      "air.egsinp                           water_2_0_dd.plotdat\r\n",
      "air_dd.plotdat                       water_2_5.egsinp\r\n",
      "\u001b[34marchive\u001b[m\u001b[m/                             water_2_5_dd.plotdat\r\n",
      "egs_dose.csv                         water_3_0.egsinp\r\n",
      "water_0_5.egsinp                     water_3_0_dd.plotdat\r\n",
      "water_0_5_dd.plotdat                 water_3_5.egsinp\r\n",
      "water_1_0.egsinp                     water_3_5_dd.plotdat\r\n",
      "water_1_0_dd.plotdat                 water_4_0.egsinp\r\n",
      "water_1_5.egsinp                     water_4_0_dd.plotdat\r\n"
     ]
    }
   ],
   "source": [
    "ls"
   ]
  },
  {
   "cell_type": "code",
   "execution_count": null,
   "metadata": {
    "collapsed": true
   },
   "outputs": [],
   "source": []
  }
 ],
 "metadata": {
  "anaconda-cloud": {},
  "kernelspec": {
   "display_name": "Python [Root]",
   "language": "python",
   "name": "Python [Root]"
  },
  "language_info": {
   "codemirror_mode": {
    "name": "ipython",
    "version": 3
   },
   "file_extension": ".py",
   "mimetype": "text/x-python",
   "name": "python",
   "nbconvert_exporter": "python",
   "pygments_lexer": "ipython3",
   "version": "3.5.2"
  }
 },
 "nbformat": 4,
 "nbformat_minor": 0
}
