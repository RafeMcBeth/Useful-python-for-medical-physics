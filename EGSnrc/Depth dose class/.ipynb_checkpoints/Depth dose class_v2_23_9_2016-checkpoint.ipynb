{
 "cells": [
  {
   "cell_type": "markdown",
   "metadata": {},
   "source": [
    "Simple class to import depth dose example data in dosrznrc.(url=https://github.com/nrc-cnrc/EGSnrc/blob/master/HEN_HOUSE/user_codes/dosrznrc/examples/depth_dose_example.egsinp)"
   ]
  },
  {
   "cell_type": "markdown",
   "metadata": {},
   "source": [
    "- [Functions to explore file](#Functions-to-explore-file)\n",
    "- [Create class for plot data](#Create-class-for-plot-data)"
   ]
  },
  {
   "cell_type": "code",
   "execution_count": 4,
   "metadata": {
    "collapsed": false
   },
   "outputs": [],
   "source": [
    "import numpy as np\n",
    "import matplotlib.pyplot as plt\n",
    "%matplotlib inline"
   ]
  },
  {
   "cell_type": "markdown",
   "metadata": {},
   "source": [
    "# Functions to explore file"
   ]
  },
  {
   "cell_type": "markdown",
   "metadata": {},
   "source": [
    "First develop a function to load .plotdat file"
   ]
  },
  {
   "cell_type": "code",
   "execution_count": 5,
   "metadata": {
    "collapsed": false
   },
   "outputs": [
    {
     "name": "stdout",
     "output_type": "stream",
     "text": [
      "Depth dose class_v2_23_9_2016.ipynb  air_dd.plotdat\r\n",
      "RC_all_water_521nd.pegs4dat          \u001b[34marchive\u001b[m\u001b[m/\r\n"
     ]
    }
   ],
   "source": [
    "ls"
   ]
  },
  {
   "cell_type": "markdown",
   "metadata": {},
   "source": [
    "# Class for dd plot data"
   ]
  },
  {
   "cell_type": "code",
   "execution_count": 6,
   "metadata": {
    "collapsed": true
   },
   "outputs": [],
   "source": [
    "class dose_2d(object):\n",
    "   'Common base class for depth dose and profile plots'\n",
    "   def __init__(self, file):        \n",
    "    data = np.genfromtxt(file, dtype=None, skip_header=16, skip_footer=1)   # load data, X, Y, error\n",
    "    self.X = data[:,0]\n",
    "    self.Y = data[:,1]\n",
    "    self.error = data[:,2]\n",
    "    \n",
    "    self.header = np.genfromtxt(file, dtype='str', max_rows=15, delimiter='@') \n",
    "    self.plot_type = self.header[0][1][8:]\n",
    "    self.plot_title = self.header[1][1][10:]\n",
    "    self.xaxis_label= self.header[8][1][17:]\n",
    "    yaxis_label_= self.header[10][1][17:]\n",
    "    self.yaxis_label = yaxis_label_.replace('\\\\\\\\S2\\\\\\\\N\"', '') #  note this creates a new string   \n",
    "\n",
    "   def plot_dd(self):\n",
    "    plt.plot(self.X, self.Y)\n",
    "    #plt.title(self.plot_title)\n",
    "    plt.xlabel(self.xaxis_label)\n",
    "    plt.ylabel(self.yaxis_label) \n",
    "    plt.show()"
   ]
  },
  {
   "cell_type": "code",
   "execution_count": 31,
   "metadata": {
    "collapsed": false
   },
   "outputs": [],
   "source": [
    "air = dose_2d('air_dd.plotdat')"
   ]
  },
  {
   "cell_type": "code",
   "execution_count": 32,
   "metadata": {
    "collapsed": false
   },
   "outputs": [
    {
     "data": {
      "image/png": "[encoded data removed]",
      "text/plain": [
       "<matplotlib.figure.Figure at 0x10a5d93c8>"
      ]
     },
     "metadata": {},
     "output_type": "display_data"
    }
   ],
   "source": [
    "air.plot_dd()"
   ]
  },
  {
   "cell_type": "code",
   "execution_count": 33,
   "metadata": {
    "collapsed": true
   },
   "outputs": [],
   "source": [
    "w_0_5 = dose_2d('water_0_5_dd.plotdat')"
   ]
  },
  {
   "cell_type": "code",
   "execution_count": 34,
   "metadata": {
    "collapsed": true
   },
   "outputs": [],
   "source": [
    "w_1_0 = dose_2d('water_1_0_dd.plotdat')"
   ]
  },
  {
   "cell_type": "code",
   "execution_count": 39,
   "metadata": {
    "collapsed": true
   },
   "outputs": [],
   "source": [
    "w_1_5 = dose_2d('water_1_5_dd.plotdat')"
   ]
  },
  {
   "cell_type": "code",
   "execution_count": 43,
   "metadata": {
    "collapsed": true
   },
   "outputs": [],
   "source": [
    "w_2_0 = dose_2d('water_2_0_dd.plotdat')"
   ]
  },
  {
   "cell_type": "code",
   "execution_count": 63,
   "metadata": {
    "collapsed": true
   },
   "outputs": [],
   "source": [
    "w_2_5 = dose_2d('water_2_5_dd.plotdat')"
   ]
  },
  {
   "cell_type": "code",
   "execution_count": 64,
   "metadata": {
    "collapsed": false
   },
   "outputs": [
    {
     "data": {
      "image/png": "[encoded data removed]",
      "text/plain": [
       "<matplotlib.figure.Figure at 0x10ffd5048>"
      ]
     },
     "metadata": {},
     "output_type": "display_data"
    }
   ],
   "source": [
    "plt.figure(figsize=(10,3))\n",
    "plt.plot(air.X,air.Y,'b', label='air') # plotting t,b separately \n",
    "plt.plot(w_0_5.X,w_0_5.Y,'g', label='W 0.5') # plotting t,c separately \n",
    "plt.plot(w_1_0.X,w_1_0.Y,'r', label='W 1.0') # plotting t,c separately \n",
    "plt.plot(w_1_5.X,w_1_5.Y,'k', label='W 1.5') # plotting t,c separately \n",
    "plt.plot(w_2_0.X,w_2_0.Y,'y', label='W 2_0') # plotting t,c separately \n",
    "plt.plot(w_2_5.X,w_2_5.Y,'m', label='W 2_5') # plotting t,c separately \n",
    "\n",
    "plt.ylim([1.2e-11, 1.8e-11])\n",
    "plt.legend(loc=3)\n",
    "plt.show()"
   ]
  },
  {
   "cell_type": "code",
   "execution_count": 29,
   "metadata": {
    "collapsed": false
   },
   "outputs": [
    {
     "name": "stdout",
     "output_type": "stream",
     "text": [
      "13.25 1.4469e-11\n"
     ]
    }
   ],
   "source": [
    "index = 80\n",
    "print(air_dd.X[index], air_dd.Y[index])"
   ]
  },
  {
   "cell_type": "code",
   "execution_count": 48,
   "metadata": {
    "collapsed": false
   },
   "outputs": [
    {
     "name": "stdout",
     "output_type": "stream",
     "text": [
      "Object `plt.fig_size` not found.\n"
     ]
    }
   ],
   "source": [
    "?plt.fig_size"
   ]
  },
  {
   "cell_type": "code",
   "execution_count": null,
   "metadata": {
    "collapsed": true
   },
   "outputs": [],
   "source": []
  }
 ],
 "metadata": {
  "anaconda-cloud": {},
  "kernelspec": {
   "display_name": "Python [Root]",
   "language": "python",
   "name": "Python [Root]"
  },
  "language_info": {
   "codemirror_mode": {
    "name": "ipython",
    "version": 3
   },
   "file_extension": ".py",
   "mimetype": "text/x-python",
   "name": "python",
   "nbconvert_exporter": "python",
   "pygments_lexer": "ipython3",
   "version": "3.5.2"
  }
 },
 "nbformat": 4,
 "nbformat_minor": 0
}
